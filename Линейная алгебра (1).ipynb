{
 "cells": [
  {
   "cell_type": "markdown",
   "metadata": {
    "toc": true
   },
   "source": [
    "<h1>Содержание<span class=\"tocSkip\"></span></h1>\n",
    "<div class=\"toc\"><ul class=\"toc-item\"><li><span><a href=\"#Загрузка-данных\" data-toc-modified-id=\"Загрузка-данных-1\"><span class=\"toc-item-num\">1&nbsp;&nbsp;</span>Загрузка данных</a></span><ul class=\"toc-item\"><li><span><a href=\"#Вывод\" data-toc-modified-id=\"Вывод-1.1\"><span class=\"toc-item-num\">1.1&nbsp;&nbsp;</span>Вывод</a></span></li></ul></li><li><span><a href=\"#Умножение-матриц\" data-toc-modified-id=\"Умножение-матриц-2\"><span class=\"toc-item-num\">2&nbsp;&nbsp;</span>Умножение матриц</a></span></li><li><span><a href=\"#Алгоритм-преобразования\" data-toc-modified-id=\"Алгоритм-преобразования-3\"><span class=\"toc-item-num\">3&nbsp;&nbsp;</span>Алгоритм преобразования</a></span></li><li><span><a href=\"#Проверка-алгоритма\" data-toc-modified-id=\"Проверка-алгоритма-4\"><span class=\"toc-item-num\">4&nbsp;&nbsp;</span>Проверка алгоритма</a></span><ul class=\"toc-item\"><li><span><a href=\"#Признаки-умножают-на-обратимую-матрицу.-Изменится-ли-качество-линейной-регрессии?-(Её-можно-обучить-заново.)\" data-toc-modified-id=\"Признаки-умножают-на-обратимую-матрицу.-Изменится-ли-качество-линейной-регрессии?-(Её-можно-обучить-заново.)-4.1\"><span class=\"toc-item-num\">4.1&nbsp;&nbsp;</span>Признаки умножают на обратимую матрицу. Изменится ли качество линейной регрессии? (Её можно обучить заново.)</a></span></li><li><span><a href=\"#Признаки-умножают-на-обратимую-матрицу.-Изменится-ли-качество-линейной-регрессии?\" data-toc-modified-id=\"Признаки-умножают-на-обратимую-матрицу.-Изменится-ли-качество-линейной-регрессии?-4.2\"><span class=\"toc-item-num\">4.2&nbsp;&nbsp;</span>Признаки умножают на обратимую матрицу. Изменится ли качество линейной регрессии?</a></span></li></ul></li><li><span><a href=\"#Вывод\" data-toc-modified-id=\"Вывод-5\"><span class=\"toc-item-num\">5&nbsp;&nbsp;</span>Вывод</a></span></li><li><span><a href=\"#Чек-лист-проверки\" data-toc-modified-id=\"Чек-лист-проверки-6\"><span class=\"toc-item-num\">6&nbsp;&nbsp;</span>Чек-лист проверки</a></span></li><li><span><a href=\"#Финальные-комментарии-ревьюера\" data-toc-modified-id=\"Финальные-комментарии-ревьюера-7\"><span class=\"toc-item-num\">7&nbsp;&nbsp;</span>Финальные комментарии ревьюера</a></span></li></ul></div>"
   ]
  },
  {
   "cell_type": "markdown",
   "metadata": {},
   "source": [
    "# Описание проекта"
   ]
  },
  {
   "cell_type": "markdown",
   "metadata": {},
   "source": [
    "# Защита персональных данных клиентов"
   ]
  },
  {
   "cell_type": "markdown",
   "metadata": {},
   "source": [
    "Вам нужно защитить данные клиентов страховой компании «Хоть потоп». Разработайте такой метод преобразования данных, чтобы по ним было сложно восстановить персональную информацию. Обоснуйте корректность его работы.\n",
    "\n",
    "Нужно защитить данные, чтобы при преобразовании качество моделей машинного обучения не ухудшилось. Подбирать наилучшую модель не требуется."
   ]
  },
  {
   "cell_type": "markdown",
   "metadata": {},
   "source": [
    "# Инструкция по выполнению проекта:         \n",
    "• Загрузите и изучите данные.          \n",
    "• Ответьте на вопрос и обоснуйте решение:                  \n",
    "? Признаки умножают на обратимую матрицу. Изменится ли качество линейной регрессии? (Её можно обучить заново.)         \n",
    "a. Изменится. Приведите примеры матриц.               \n",
    "b. Не изменится. Укажите, как связаны параметры линейной регрессии в исходной задаче и в преобразованной.                        \n",
    "• Предложите алгоритм преобразования данных для решения задачи.                     \n",
    "• Обоснуйте, почему качество линейной регрессии не поменяется.           \n",
    "• Запрограммируйте этот алгоритм, применив матричные операции.            \n",
    "• Проверьте, что качество линейной регрессии из sklearn не отличается до и после преобразования. \n",
    "• Примените метрику R2.               "
   ]
  },
  {
   "cell_type": "markdown",
   "metadata": {},
   "source": [
    "## Загрузка данных"
   ]
  },
  {
   "cell_type": "code",
   "execution_count": 1,
   "metadata": {},
   "outputs": [],
   "source": [
    "import pandas as pd\n",
    "import numpy as np\n",
    "import matplotlib.pyplot as plt\n",
    "import seaborn as sns\n",
    "\n",
    "from sklearn.metrics import mean_squared_error\n",
    "from sklearn.model_selection import train_test_split\n",
    "from sklearn.linear_model import LinearRegression\n",
    "from sklearn.metrics import accuracy_score\n",
    "from sklearn.metrics import r2_score\n",
    "from tqdm.notebook import tqdm\n",
    "\n",
    "\n",
    "import warnings\n",
    "warnings.filterwarnings('ignore')"
   ]
  },
  {
   "cell_type": "code",
   "execution_count": 2,
   "metadata": {},
   "outputs": [
    {
     "data": {
      "text/html": [
       "<div>\n",
       "<style scoped>\n",
       "    .dataframe tbody tr th:only-of-type {\n",
       "        vertical-align: middle;\n",
       "    }\n",
       "\n",
       "    .dataframe tbody tr th {\n",
       "        vertical-align: top;\n",
       "    }\n",
       "\n",
       "    .dataframe thead th {\n",
       "        text-align: right;\n",
       "    }\n",
       "</style>\n",
       "<table border=\"1\" class=\"dataframe\">\n",
       "  <thead>\n",
       "    <tr style=\"text-align: right;\">\n",
       "      <th></th>\n",
       "      <th>Пол</th>\n",
       "      <th>Возраст</th>\n",
       "      <th>Зарплата</th>\n",
       "      <th>Члены семьи</th>\n",
       "      <th>Страховые выплаты</th>\n",
       "    </tr>\n",
       "  </thead>\n",
       "  <tbody>\n",
       "    <tr>\n",
       "      <th>0</th>\n",
       "      <td>1</td>\n",
       "      <td>41.0</td>\n",
       "      <td>49600.0</td>\n",
       "      <td>1</td>\n",
       "      <td>0</td>\n",
       "    </tr>\n",
       "    <tr>\n",
       "      <th>1</th>\n",
       "      <td>0</td>\n",
       "      <td>46.0</td>\n",
       "      <td>38000.0</td>\n",
       "      <td>1</td>\n",
       "      <td>1</td>\n",
       "    </tr>\n",
       "    <tr>\n",
       "      <th>2</th>\n",
       "      <td>0</td>\n",
       "      <td>29.0</td>\n",
       "      <td>21000.0</td>\n",
       "      <td>0</td>\n",
       "      <td>0</td>\n",
       "    </tr>\n",
       "    <tr>\n",
       "      <th>3</th>\n",
       "      <td>0</td>\n",
       "      <td>21.0</td>\n",
       "      <td>41700.0</td>\n",
       "      <td>2</td>\n",
       "      <td>0</td>\n",
       "    </tr>\n",
       "    <tr>\n",
       "      <th>4</th>\n",
       "      <td>1</td>\n",
       "      <td>28.0</td>\n",
       "      <td>26100.0</td>\n",
       "      <td>0</td>\n",
       "      <td>0</td>\n",
       "    </tr>\n",
       "  </tbody>\n",
       "</table>\n",
       "</div>"
      ],
      "text/plain": [
       "   Пол  Возраст  Зарплата  Члены семьи  Страховые выплаты\n",
       "0    1     41.0   49600.0            1                  0\n",
       "1    0     46.0   38000.0            1                  1\n",
       "2    0     29.0   21000.0            0                  0\n",
       "3    0     21.0   41700.0            2                  0\n",
       "4    1     28.0   26100.0            0                  0"
      ]
     },
     "execution_count": 2,
     "metadata": {},
     "output_type": "execute_result"
    }
   ],
   "source": [
    "data = pd.read_csv('/datasets/insurance.csv')\n",
    "data.head()"
   ]
  },
  {
   "cell_type": "code",
   "execution_count": 3,
   "metadata": {},
   "outputs": [],
   "source": [
    "def data_inform(data):\n",
    "    print(80*\"░\")\n",
    "    data.info()\n",
    "    print(80*\"░\")\n",
    "    print('Описание переменных:')\n",
    "    print(data.describe())\n",
    "    print(80*\"░\")\n",
    "    print(f'Кол-во дубликатов: {data.duplicated().sum()}')"
   ]
  },
  {
   "cell_type": "code",
   "execution_count": 4,
   "metadata": {
    "scrolled": true
   },
   "outputs": [
    {
     "name": "stdout",
     "output_type": "stream",
     "text": [
      "░░░░░░░░░░░░░░░░░░░░░░░░░░░░░░░░░░░░░░░░░░░░░░░░░░░░░░░░░░░░░░░░░░░░░░░░░░░░░░░░\n",
      "<class 'pandas.core.frame.DataFrame'>\n",
      "RangeIndex: 5000 entries, 0 to 4999\n",
      "Data columns (total 5 columns):\n",
      " #   Column             Non-Null Count  Dtype  \n",
      "---  ------             --------------  -----  \n",
      " 0   Пол                5000 non-null   int64  \n",
      " 1   Возраст            5000 non-null   float64\n",
      " 2   Зарплата           5000 non-null   float64\n",
      " 3   Члены семьи        5000 non-null   int64  \n",
      " 4   Страховые выплаты  5000 non-null   int64  \n",
      "dtypes: float64(2), int64(3)\n",
      "memory usage: 195.4 KB\n",
      "░░░░░░░░░░░░░░░░░░░░░░░░░░░░░░░░░░░░░░░░░░░░░░░░░░░░░░░░░░░░░░░░░░░░░░░░░░░░░░░░\n",
      "Описание переменных:\n",
      "               Пол      Возраст      Зарплата  Члены семьи  Страховые выплаты\n",
      "count  5000.000000  5000.000000   5000.000000  5000.000000        5000.000000\n",
      "mean      0.499000    30.952800  39916.360000     1.194200           0.148000\n",
      "std       0.500049     8.440807   9900.083569     1.091387           0.463183\n",
      "min       0.000000    18.000000   5300.000000     0.000000           0.000000\n",
      "25%       0.000000    24.000000  33300.000000     0.000000           0.000000\n",
      "50%       0.000000    30.000000  40200.000000     1.000000           0.000000\n",
      "75%       1.000000    37.000000  46600.000000     2.000000           0.000000\n",
      "max       1.000000    65.000000  79000.000000     6.000000           5.000000\n",
      "░░░░░░░░░░░░░░░░░░░░░░░░░░░░░░░░░░░░░░░░░░░░░░░░░░░░░░░░░░░░░░░░░░░░░░░░░░░░░░░░\n",
      "Кол-во дубликатов: 153\n"
     ]
    }
   ],
   "source": [
    "data_inform(data)"
   ]
  },
  {
   "cell_type": "code",
   "execution_count": 5,
   "metadata": {
    "scrolled": true
   },
   "outputs": [
    {
     "data": {
      "text/html": [
       "<div>\n",
       "<style scoped>\n",
       "    .dataframe tbody tr th:only-of-type {\n",
       "        vertical-align: middle;\n",
       "    }\n",
       "\n",
       "    .dataframe tbody tr th {\n",
       "        vertical-align: top;\n",
       "    }\n",
       "\n",
       "    .dataframe thead th {\n",
       "        text-align: right;\n",
       "    }\n",
       "</style>\n",
       "<table border=\"1\" class=\"dataframe\">\n",
       "  <thead>\n",
       "    <tr style=\"text-align: right;\">\n",
       "      <th></th>\n",
       "      <th>Пол</th>\n",
       "      <th>Возраст</th>\n",
       "      <th>Зарплата</th>\n",
       "      <th>Члены семьи</th>\n",
       "      <th>Страховые выплаты</th>\n",
       "    </tr>\n",
       "  </thead>\n",
       "  <tbody>\n",
       "    <tr>\n",
       "      <th>1566</th>\n",
       "      <td>1</td>\n",
       "      <td>18.0</td>\n",
       "      <td>39800.0</td>\n",
       "      <td>2</td>\n",
       "      <td>0</td>\n",
       "    </tr>\n",
       "    <tr>\n",
       "      <th>2429</th>\n",
       "      <td>1</td>\n",
       "      <td>18.0</td>\n",
       "      <td>39800.0</td>\n",
       "      <td>2</td>\n",
       "      <td>0</td>\n",
       "    </tr>\n",
       "    <tr>\n",
       "      <th>2694</th>\n",
       "      <td>1</td>\n",
       "      <td>19.0</td>\n",
       "      <td>52600.0</td>\n",
       "      <td>0</td>\n",
       "      <td>0</td>\n",
       "    </tr>\n",
       "    <tr>\n",
       "      <th>712</th>\n",
       "      <td>1</td>\n",
       "      <td>19.0</td>\n",
       "      <td>52600.0</td>\n",
       "      <td>0</td>\n",
       "      <td>0</td>\n",
       "    </tr>\n",
       "    <tr>\n",
       "      <th>851</th>\n",
       "      <td>0</td>\n",
       "      <td>19.0</td>\n",
       "      <td>51700.0</td>\n",
       "      <td>0</td>\n",
       "      <td>0</td>\n",
       "    </tr>\n",
       "    <tr>\n",
       "      <th>887</th>\n",
       "      <td>1</td>\n",
       "      <td>19.0</td>\n",
       "      <td>35500.0</td>\n",
       "      <td>0</td>\n",
       "      <td>0</td>\n",
       "    </tr>\n",
       "    <tr>\n",
       "      <th>664</th>\n",
       "      <td>1</td>\n",
       "      <td>19.0</td>\n",
       "      <td>35500.0</td>\n",
       "      <td>0</td>\n",
       "      <td>0</td>\n",
       "    </tr>\n",
       "    <tr>\n",
       "      <th>1336</th>\n",
       "      <td>1</td>\n",
       "      <td>19.0</td>\n",
       "      <td>32700.0</td>\n",
       "      <td>0</td>\n",
       "      <td>0</td>\n",
       "    </tr>\n",
       "    <tr>\n",
       "      <th>1751</th>\n",
       "      <td>0</td>\n",
       "      <td>19.0</td>\n",
       "      <td>38600.0</td>\n",
       "      <td>0</td>\n",
       "      <td>0</td>\n",
       "    </tr>\n",
       "    <tr>\n",
       "      <th>1990</th>\n",
       "      <td>1</td>\n",
       "      <td>19.0</td>\n",
       "      <td>41600.0</td>\n",
       "      <td>1</td>\n",
       "      <td>0</td>\n",
       "    </tr>\n",
       "  </tbody>\n",
       "</table>\n",
       "</div>"
      ],
      "text/plain": [
       "      Пол  Возраст  Зарплата  Члены семьи  Страховые выплаты\n",
       "1566    1     18.0   39800.0            2                  0\n",
       "2429    1     18.0   39800.0            2                  0\n",
       "2694    1     19.0   52600.0            0                  0\n",
       "712     1     19.0   52600.0            0                  0\n",
       "851     0     19.0   51700.0            0                  0\n",
       "887     1     19.0   35500.0            0                  0\n",
       "664     1     19.0   35500.0            0                  0\n",
       "1336    1     19.0   32700.0            0                  0\n",
       "1751    0     19.0   38600.0            0                  0\n",
       "1990    1     19.0   41600.0            1                  0"
      ]
     },
     "execution_count": 5,
     "metadata": {},
     "output_type": "execute_result"
    }
   ],
   "source": [
    "#Нужно просмотреть полные дубликаты, отсортируем по возрасту\n",
    "data.loc[data.duplicated(keep=False)].sort_values(by='Возраст').head(10)"
   ]
  },
  {
   "cell_type": "code",
   "execution_count": 6,
   "metadata": {
    "scrolled": false
   },
   "outputs": [
    {
     "name": "stdout",
     "output_type": "stream",
     "text": [
      "░░░░░░░░░░░░░░░░░░░░░░░░░░░░░░░░░░░░░░░░░░░░░░░░░░░░░░░░░░░░░░░░░░░░░░░░░░░░░░░░\n",
      "<class 'pandas.core.frame.DataFrame'>\n",
      "Int64Index: 4847 entries, 0 to 4999\n",
      "Data columns (total 5 columns):\n",
      " #   Column             Non-Null Count  Dtype  \n",
      "---  ------             --------------  -----  \n",
      " 0   Пол                4847 non-null   int64  \n",
      " 1   Возраст            4847 non-null   float64\n",
      " 2   Зарплата           4847 non-null   float64\n",
      " 3   Члены семьи        4847 non-null   int64  \n",
      " 4   Страховые выплаты  4847 non-null   int64  \n",
      "dtypes: float64(2), int64(3)\n",
      "memory usage: 227.2 KB\n",
      "░░░░░░░░░░░░░░░░░░░░░░░░░░░░░░░░░░░░░░░░░░░░░░░░░░░░░░░░░░░░░░░░░░░░░░░░░░░░░░░░\n",
      "Описание переменных:\n",
      "               Пол      Возраст      Зарплата  Члены семьи  Страховые выплаты\n",
      "count  4847.000000  4847.000000   4847.000000  4847.000000        4847.000000\n",
      "mean      0.498453    31.023932  39895.811842     1.203425           0.152259\n",
      "std       0.500049     8.487995   9972.953985     1.098664           0.468934\n",
      "min       0.000000    18.000000   5300.000000     0.000000           0.000000\n",
      "25%       0.000000    24.000000  33200.000000     0.000000           0.000000\n",
      "50%       0.000000    30.000000  40200.000000     1.000000           0.000000\n",
      "75%       1.000000    37.000000  46600.000000     2.000000           0.000000\n",
      "max       1.000000    65.000000  79000.000000     6.000000           5.000000\n",
      "░░░░░░░░░░░░░░░░░░░░░░░░░░░░░░░░░░░░░░░░░░░░░░░░░░░░░░░░░░░░░░░░░░░░░░░░░░░░░░░░\n",
      "Кол-во дубликатов: 0\n"
     ]
    }
   ],
   "source": [
    "data = data.drop_duplicates()\n",
    "data_inform(data)"
   ]
  },
  {
   "cell_type": "markdown",
   "metadata": {},
   "source": [
    "### Вывод      \n",
    "В данных удалены 153 строки дубликатов. Пропусков нет. "
   ]
  },
  {
   "cell_type": "markdown",
   "metadata": {},
   "source": [
    "## Умножение матриц"
   ]
  },
  {
   "cell_type": "markdown",
   "metadata": {},
   "source": [
    "В этом задании вы можете записывать формулы в *Jupyter Notebook.*\n",
    "\n",
    "Чтобы записать формулу внутри текста, окружите её символами доллара \\\\$; если снаружи —  двойными символами \\\\$\\\\$. Эти формулы записываются на языке вёрстки *LaTeX.* \n",
    "\n",
    "Для примера мы записали формулы линейной регрессии. Можете их скопировать и отредактировать, чтобы решить задачу.\n",
    "\n",
    "Работать в *LaTeX* необязательно."
   ]
  },
  {
   "cell_type": "markdown",
   "metadata": {},
   "source": [
    "Обозначения:\n",
    "\n",
    "- $X$ — матрица признаков (нулевой столбец состоит из единиц)\n",
    "\n",
    "- $y$ — вектор целевого признака\n",
    "\n",
    "- $P$ — матрица, на которую умножаются признаки\n",
    "\n",
    "- $w$ — вектор весов линейной регрессии (нулевой элемент равен сдвигу)"
   ]
  },
  {
   "cell_type": "markdown",
   "metadata": {},
   "source": [
    "Предсказания:\n",
    "\n",
    "$$\n",
    "a = Xw\n",
    "$$\n",
    "\n",
    "Задача обучения:\n",
    "\n",
    "$$\n",
    "w = \\arg\\min_w MSE(Xw, y)\n",
    "$$\n",
    "\n",
    "Формула обучения:\n",
    "\n",
    "$$\n",
    "w = (X^T X)^{-1} X^T y\n",
    "$$"
   ]
  },
  {
   "cell_type": "markdown",
   "metadata": {},
   "source": [
    "# **Алгоритм**\n",
    "\n",
    "Умножение матриц возможно, если ширина первой $А(n*m)$ равна высоте второй $P(n*r)$. Тогда размер произведения будет $m*r$ . Размерность $n$ убирается."
   ]
  },
  {
   "cell_type": "markdown",
   "metadata": {},
   "source": [
    "Умножаем признаки выборки $A$ на обратимую произвольную матрицу $P$, результатом получаем изменённый набор данных скалярных произведений $M$\n",
    "Формула выглядит следующим образом: $Mij=(Ai,Bj)$\n"
   ]
  },
  {
   "cell_type": "markdown",
   "metadata": {},
   "source": [
    "В каждую ячейку записывается результат сложения произведений строки на столбец.        \n",
    "Формула:       \n",
    "                             $$\n",
    "                             M₁₁=A₁₁P₁₁+A₁₂P₂₁+A₁₃P₃₁+A₁₄P₄₁\n",
    "                             $$"
   ]
  },
  {
   "cell_type": "markdown",
   "metadata": {},
   "source": [
    "Далее, вектор $w$: \n",
    "$$\n",
    "w = (X^T X)^{-1} X^T y\n",
    "$$"
   ]
  },
  {
   "cell_type": "markdown",
   "metadata": {},
   "source": [
    "В которой $X$ - таблица признков, где нулевой столбец заполнен единицами, а $y$ - вектор целевого признака"
   ]
  },
  {
   "cell_type": "markdown",
   "metadata": {},
   "source": [
    "$$\n",
    "X_{i} = (1  M_{i2} M_{i3} M_{i4} M_{i5})\n",
    "$$"
   ]
  },
  {
   "cell_type": "markdown",
   "metadata": {},
   "source": [
    "В LinearRegression предсказания вычисляются по формуле:\n",
    "$$\n",
    "a = Xw + w0\n",
    "$$"
   ]
  },
  {
   "cell_type": "markdown",
   "metadata": {},
   "source": [
    "$w0$ - Нулевое значение вектора $w$ $AKA$ Величина сдвига модели "
   ]
  },
  {
   "cell_type": "markdown",
   "metadata": {},
   "source": [
    "Упрощенная запись формулы предсказания Линейной регрессии $a = X_i w$, где $X_i$ - новые строки признаков        \n",
    "Подставим вместо параметра $w$, формулу её вычисления:"
   ]
  },
  {
   "cell_type": "markdown",
   "metadata": {},
   "source": [
    "$$\n",
    "a = X_i w = X_i (X^T X)^{-1} X^T y\n",
    "$$"
   ]
  },
  {
   "cell_type": "markdown",
   "metadata": {},
   "source": [
    "\n",
    "Если $X1 = X∗P$\n",
    "$$\n",
    "w1=((XP)^TXP)^{−1}(XP)^Ty\n",
    "$$          \n",
    "Раскроем скобки и перегруппируем множители         \n",
    "$$\n",
    "w1=P^{-1}(X^TX)^{-1}(P^T)^{-1}P^TX^Ty\n",
    "$$\n",
    "По условию задачи, $(P^T)^{−1}P^T=E$ ($E$-единичная матрица) \n",
    "$$\n",
    "w1=P^{-1}(X^TX)^{-1}EX^Ty=P^{-1}(X^TX)^{-1}X^Ty\n",
    "$$\n",
    "$(X^TX)^{-1}X^Ty$ = $w$\n",
    "Подставим в $a=Xw$ значения $X1$, $w1$ \n",
    "$$\n",
    "a1=X1w1=XPP^{-1}w\n",
    "$$\n",
    "Если, по условию, $P$ обратимая матрица, то \n",
    "$$\n",
    "a1=XPP^{-1}w=XEw=Xw=a\n",
    "$$\n",
    "\n",
    "\n"
   ]
  },
  {
   "cell_type": "markdown",
   "metadata": {},
   "source": [
    "Домножим наши признаки на случайную матрицу $P$, в которой число строк равно числу столбцов $X$ и $P$ - обратимо, то есть из матрицы $P$ можно получить матрицу $P^{-1}$, при этом $PP^{-1}=E$, где $E$ - единичная матрица"
   ]
  },
  {
   "cell_type": "markdown",
   "metadata": {},
   "source": [
    "Если обучить нашу модель на изменённых признаках, то модель найдёт новые коэффициенты $w'$"
   ]
  },
  {
   "cell_type": "markdown",
   "metadata": {},
   "source": [
    "$$\n",
    "w' = ((XP)^T(XP))^{-1}(XP)^Ty\n",
    "$$"
   ]
  },
  {
   "cell_type": "markdown",
   "metadata": {},
   "source": [
    "Подставим их в формулу предсказания и упростим выражение"
   ]
  },
  {
   "cell_type": "markdown",
   "metadata": {},
   "source": [
    "<div class=\"alert alert-warning\">\n",
    "$$\n",
    "a'= X_iPw' = X_iP((XP)^T(XP))^{-1}(XP)^Ty = X_iP(XP)^{-1}((XP)^T)^{-1}(XP)^Ty = X_iX^{-1}y\n",
    "$$"
   ]
  },
  {
   "cell_type": "markdown",
   "metadata": {},
   "source": [
    "Таким образом, результат предсказания не изменится не смотря на измениения признаков, т.к. исходя из результатов наших преобразований очевидно, что $a$ = $a'$"
   ]
  },
  {
   "cell_type": "markdown",
   "metadata": {},
   "source": [
    "**Обоснование**\n",
    "\n",
    "Если умножить тестовую и тренировочную выборку на одну и ту же обратимую матрицу, то результатом будет произведение новой таблицы с признаками на вектор, который получили из этой же таблицы с новыми данными.  "
   ]
  },
  {
   "cell_type": "markdown",
   "metadata": {},
   "source": [
    "## Алгоритм преобразования"
   ]
  },
  {
   "cell_type": "markdown",
   "metadata": {},
   "source": [
    "# Алгоритм проверки качества метода шифрования"
   ]
  },
  {
   "cell_type": "markdown",
   "metadata": {},
   "source": [
    "1. Создаём случайную матрицу $P$ размерностью $(4,4)$\n",
    "2. Проверяем её на обратимость\n",
    "3. Умножить матрицу исходных признаков на сгенерированную матрицу\n",
    "4. Ищем метрики качества **MSE** и **R2** на исходных данных и на измененных\n",
    "5. Опишем вывод полученных результатов"
   ]
  },
  {
   "cell_type": "markdown",
   "metadata": {},
   "source": [
    "## Проверка алгоритма"
   ]
  },
  {
   "cell_type": "markdown",
   "metadata": {},
   "source": [
    "### Признаки умножают на обратимую матрицу. Изменится ли качество линейной регрессии? (Её можно обучить заново.)\n",
    "a. Изменится. Приведите примеры матриц.            \n",
    "b. Не изменится. Укажите, как связаны параметры линейной регрессии в исходной задаче и в преобразованной."
   ]
  },
  {
   "cell_type": "code",
   "execution_count": 7,
   "metadata": {},
   "outputs": [
    {
     "name": "stdout",
     "output_type": "stream",
     "text": [
      "Train Size - 75%\n",
      "Test Size - 25%\n"
     ]
    }
   ],
   "source": [
    "#Разделим на тренировочную и целевой признак\n",
    "features = data.drop(['Страховые выплаты'], axis=1)\n",
    "target = data['Страховые выплаты']\n",
    "\n",
    "#Определим тренировочную и тестовую выборки\n",
    "train_features, test_features, train_target, test_target = train_test_split(features, target, test_size=0.25, random_state=1234)\n",
    "\n",
    "#Проверим правильность\n",
    "tf = train_features.shape[0]/features.shape[0]\n",
    "tt = test_target.shape[0]/target.shape[0]\n",
    "\n",
    "print('Train Size - {:.0%}'.format(tf))\n",
    "print('Test Size - {:.0%}'.format(tt))\n"
   ]
  },
  {
   "cell_type": "code",
   "execution_count": 8,
   "metadata": {},
   "outputs": [],
   "source": [
    "#Модель для предсказания по исходным признакам\n",
    "class LinearRegress:\n",
    "    def fit(self, train_features, train_target):\n",
    "        X = np.concatenate((np.ones((train_features.shape[0], 1)), train_features), axis=1)\n",
    "        y = train_target\n",
    "        w = (np.linalg.inv(X.T.dot(X)).dot(X.T)).dot(y)\n",
    "        self.w = w[1:]\n",
    "        self.w0 = w[0]\n",
    "        \n",
    "    def predict(self, test_features):\n",
    "        return test_features.dot(self.w) + self.w0"
   ]
  },
  {
   "cell_type": "code",
   "execution_count": 9,
   "metadata": {
    "scrolled": true
   },
   "outputs": [
    {
     "name": "stdout",
     "output_type": "stream",
     "text": [
      "R2: 0.421458478426583\n",
      "MSE: 0.12647108347327696\n"
     ]
    }
   ],
   "source": [
    "model = LinearRegress()\n",
    "model.fit(train_features, train_target)\n",
    "predict = model.predict(test_features)\n",
    "\n",
    "R2_score = r2_score(test_target, predict)\n",
    "MSE = mean_squared_error(predict,test_target)\n",
    "\n",
    "print(\"R2:\", R2_score)\n",
    "print(\"MSE:\", MSE)"
   ]
  },
  {
   "cell_type": "markdown",
   "metadata": {},
   "source": [
    "<a id='section_id1'></a>"
   ]
  },
  {
   "cell_type": "code",
   "execution_count": 10,
   "metadata": {
    "scrolled": true
   },
   "outputs": [
    {
     "name": "stdout",
     "output_type": "stream",
     "text": [
      "R2_score линейной регрессии исходной матрицы: 0.4214584784265831\n",
      "MSE линейной регрессии исходной матрицы: 0.12647108347327696\n"
     ]
    }
   ],
   "source": [
    "#Вычислим MSE & R2 по исходным признакам\n",
    "model_linear = LinearRegression()\n",
    "model_linear.fit(train_features,train_target)\n",
    "predictions = model_linear.predict(test_features)\n",
    "\n",
    "R2_score_linear = r2_score(test_target, predictions)\n",
    "MSE_linear = mean_squared_error(predictions,test_target)\n",
    "\n",
    "print(\"R2_score линейной регрессии исходной матрицы:\", R2_score_linear)\n",
    "print(\"MSE линейной регрессии исходной матрицы:\", MSE_linear)"
   ]
  },
  {
   "cell_type": "code",
   "execution_count": 11,
   "metadata": {
    "scrolled": true
   },
   "outputs": [
    {
     "data": {
      "text/plain": [
       "array([[3.26454515, 2.27203792, 2.67023864, 3.85230031],\n",
       "       [1.69407831, 3.62270157, 2.65887221, 3.82181694],\n",
       "       [3.8426434 , 4.37169471, 2.78609413, 3.17173525],\n",
       "       [4.0977578 , 1.39927664, 1.87560797, 2.97959834]])"
      ]
     },
     "execution_count": 11,
     "metadata": {},
     "output_type": "execute_result"
    }
   ],
   "source": [
    "#Умножим исходную матрицу на случайную обратимую того же размера\n",
    "rand_matrix = np.random.normal(3, size=(4,4))\n",
    "rand_matrix"
   ]
  },
  {
   "cell_type": "code",
   "execution_count": 12,
   "metadata": {
    "scrolled": true
   },
   "outputs": [
    {
     "data": {
      "text/plain": [
       "array([[-0.28600206, -0.13682454,  0.13271141,  0.40400033],\n",
       "       [-1.07428111,  0.59229832,  0.14386518,  0.47606934],\n",
       "       [ 3.73349736, -2.25216816,  0.8286834 , -2.82036099],\n",
       "       [-1.45234131,  1.32771894, -0.77171864,  1.33180479]])"
      ]
     },
     "execution_count": 12,
     "metadata": {},
     "output_type": "execute_result"
    }
   ],
   "source": [
    "#Обратимость\n",
    "np.linalg.inv(rand_matrix)"
   ]
  },
  {
   "cell_type": "markdown",
   "metadata": {},
   "source": [
    "<a id='section_id2'></a>"
   ]
  },
  {
   "cell_type": "code",
   "execution_count": 13,
   "metadata": {
    "scrolled": true
   },
   "outputs": [],
   "source": [
    "#Для тестовой\n",
    "test_matrix = test_features.dot(rand_matrix)\n",
    "test_matrix.columns = test_features.columns\n",
    "\n",
    "#Для тренировочной\n",
    "train_matrix=train_features.dot(rand_matrix)\n",
    "train_matrix.columns = train_features.columns\n",
    "\n",
    "#test_matrix.head()\n",
    "#train_matrix.head()"
   ]
  },
  {
   "cell_type": "code",
   "execution_count": 14,
   "metadata": {
    "scrolled": true
   },
   "outputs": [
    {
     "name": "stdout",
     "output_type": "stream",
     "text": [
      "R2 линейной регрессии изменённой матрицы: 0.4214584784267362\n",
      "MSE линейной регрессии изменённой матрицы: 0.12647108347324348\n"
     ]
    }
   ],
   "source": [
    "model_t = LinearRegression()\n",
    "model_t.fit(train_matrix, train_target)\n",
    "predictions_t = model_t.predict(test_matrix)\n",
    "print(\"R2 линейной регрессии изменённой матрицы:\", r2_score(test_target,predictions_t))\n",
    "print(\"MSE линейной регрессии изменённой матрицы:\", mean_squared_error(predictions_t,test_target))"
   ]
  },
  {
   "cell_type": "markdown",
   "metadata": {},
   "source": [
    "[R2 & MSE по исходным](#section_id1)"
   ]
  },
  {
   "cell_type": "markdown",
   "metadata": {},
   "source": [
    "### Признаки умножают на обратимую матрицу. Изменится ли качество линейной регрессии?"
   ]
  },
  {
   "cell_type": "markdown",
   "metadata": {},
   "source": [
    "**Ответ:** Качество **НЕ** изменится. \n",
    "\n",
    "**Обоснование:** Параметры LinearRegression в исходной и измененной задаче связаны алгоритмом преобразования признаков.    "
   ]
  },
  {
   "cell_type": "markdown",
   "metadata": {},
   "source": [
    "[R2 & MSE по случайным](#section_id2)"
   ]
  },
  {
   "cell_type": "markdown",
   "metadata": {},
   "source": [
    "[R2 & MSE по исходным](#section_id1)"
   ]
  },
  {
   "cell_type": "markdown",
   "metadata": {},
   "source": [
    "## Вывод"
   ]
  },
  {
   "cell_type": "markdown",
   "metadata": {},
   "source": [
    "Данные пришли уже в обработанном состоянии, удалили дубликаты, которые, по замечанию ревьюера можно было оставить, т.к., возможно, это совпадения данных. \n",
    "Требовалось найти такой способ преобразования, чтобы после работы алгоритма, качество моделей не понизилось и защитить данные клиента.           \n",
    "Проверил качество моделей Линейной регрессии с помощью метрики R2 на данных - сначала на исходных, затем умноженных на обратимую матрицу, размер которой соответствует числу признаков. Показатели метрики совпали. \n",
    "Алгоритм был разработан, качество модели осталось прежним."
   ]
  },
  {
   "cell_type": "markdown",
   "metadata": {},
   "source": [
    "## Чек-лист проверки"
   ]
  },
  {
   "cell_type": "markdown",
   "metadata": {},
   "source": [
    "Поставьте 'x' в выполненных пунктах. Далее нажмите Shift+Enter."
   ]
  },
  {
   "cell_type": "markdown",
   "metadata": {},
   "source": [
    "- [x]  Jupyter Notebook открыт\n",
    "- [x]  Весь код выполняется без ошибок\n",
    "- [x]  Ячейки с кодом расположены в порядке исполнения\n",
    "- [x]  Выполнен шаг 1: данные загружены\n",
    "- [x]  Выполнен шаг 2: получен ответ на вопрос об умножении матриц\n",
    "    - [x]  Указан правильный вариант ответа\n",
    "    - [x]  Вариант обоснован\n",
    "- [x]  Выполнен шаг 3: предложен алгоритм преобразования\n",
    "    - [x]  Алгоритм описан\n",
    "    - [x]  Алгоритм обоснован\n",
    "- [x]  Выполнен шаг 4: алгоритм проверен\n",
    "    - [x]  Алгоритм реализован\n",
    "    - [x]  Проведено сравнение качества моделей до и после преобразования"
   ]
  }
 ],
 "metadata": {
  "ExecuteTimeLog": [
   {
    "duration": 1662,
    "start_time": "2022-10-03T00:11:17.205Z"
   },
   {
    "duration": 98,
    "start_time": "2022-10-03T00:19:40.662Z"
   },
   {
    "duration": 14,
    "start_time": "2022-10-03T00:19:53.570Z"
   },
   {
    "duration": 35,
    "start_time": "2022-10-03T00:20:13.815Z"
   },
   {
    "duration": 4,
    "start_time": "2022-10-03T00:28:03.983Z"
   },
   {
    "duration": 45,
    "start_time": "2022-10-03T00:28:17.299Z"
   },
   {
    "duration": 4,
    "start_time": "2022-10-03T00:30:30.151Z"
   },
   {
    "duration": 37,
    "start_time": "2022-10-03T00:30:32.326Z"
   },
   {
    "duration": 4,
    "start_time": "2022-10-03T00:30:43.041Z"
   },
   {
    "duration": 36,
    "start_time": "2022-10-03T00:30:45.752Z"
   },
   {
    "duration": 4,
    "start_time": "2022-10-03T00:30:56.057Z"
   },
   {
    "duration": 34,
    "start_time": "2022-10-03T00:30:58.824Z"
   },
   {
    "duration": 15,
    "start_time": "2022-10-03T00:32:40.590Z"
   },
   {
    "duration": 4,
    "start_time": "2022-10-03T00:34:14.822Z"
   },
   {
    "duration": 29,
    "start_time": "2022-10-03T00:34:15.263Z"
   },
   {
    "duration": 16,
    "start_time": "2022-10-03T00:34:16.090Z"
   },
   {
    "duration": 29,
    "start_time": "2022-10-03T00:34:16.949Z"
   },
   {
    "duration": 5,
    "start_time": "2022-10-03T00:40:44.736Z"
   },
   {
    "duration": 5,
    "start_time": "2022-10-03T00:42:25.907Z"
   },
   {
    "duration": 4,
    "start_time": "2022-10-03T00:57:30.179Z"
   },
   {
    "duration": 112,
    "start_time": "2022-10-03T00:57:57.001Z"
   },
   {
    "duration": 10,
    "start_time": "2022-10-03T01:02:56.056Z"
   },
   {
    "duration": 9,
    "start_time": "2022-10-03T01:03:06.422Z"
   },
   {
    "duration": 10,
    "start_time": "2022-10-03T01:03:17.170Z"
   },
   {
    "duration": 6,
    "start_time": "2022-10-03T01:03:17.558Z"
   },
   {
    "duration": 12,
    "start_time": "2022-10-03T01:03:19.002Z"
   },
   {
    "duration": 8,
    "start_time": "2022-10-03T01:03:29.433Z"
   },
   {
    "duration": 11,
    "start_time": "2022-10-03T01:03:51.939Z"
   },
   {
    "duration": 5,
    "start_time": "2022-10-03T01:05:01.502Z"
   },
   {
    "duration": 12,
    "start_time": "2022-10-03T01:05:02.145Z"
   },
   {
    "duration": 11,
    "start_time": "2022-10-03T01:07:12.424Z"
   },
   {
    "duration": 5,
    "start_time": "2022-10-03T01:14:55.463Z"
   },
   {
    "duration": 5,
    "start_time": "2022-10-03T01:15:26.048Z"
   },
   {
    "duration": 14,
    "start_time": "2022-10-03T01:16:14.736Z"
   },
   {
    "duration": 11,
    "start_time": "2022-10-03T01:16:49.341Z"
   },
   {
    "duration": 5,
    "start_time": "2022-10-03T01:17:43.531Z"
   },
   {
    "duration": 10,
    "start_time": "2022-10-03T01:19:00.385Z"
   },
   {
    "duration": 54,
    "start_time": "2022-10-03T01:22:10.610Z"
   },
   {
    "duration": 80,
    "start_time": "2022-10-03T01:22:33.910Z"
   },
   {
    "duration": 17,
    "start_time": "2022-10-03T01:22:38.646Z"
   },
   {
    "duration": 63,
    "start_time": "2022-10-03T02:10:36.396Z"
   },
   {
    "duration": 5,
    "start_time": "2022-10-03T03:32:10.045Z"
   },
   {
    "duration": 8,
    "start_time": "2022-10-03T03:32:27.673Z"
   },
   {
    "duration": 4,
    "start_time": "2022-10-03T03:33:18.253Z"
   },
   {
    "duration": 6,
    "start_time": "2022-10-03T03:33:29.591Z"
   },
   {
    "duration": 6,
    "start_time": "2022-10-03T03:33:40.994Z"
   },
   {
    "duration": 5,
    "start_time": "2022-10-03T03:34:22.329Z"
   },
   {
    "duration": 17,
    "start_time": "2022-10-03T03:36:30.089Z"
   },
   {
    "duration": 12,
    "start_time": "2022-10-03T03:36:38.613Z"
   },
   {
    "duration": 10,
    "start_time": "2022-10-03T03:36:43.230Z"
   },
   {
    "duration": 16,
    "start_time": "2022-10-03T03:37:16.681Z"
   },
   {
    "duration": 5,
    "start_time": "2022-10-03T03:38:55.521Z"
   },
   {
    "duration": 3,
    "start_time": "2022-10-03T03:39:14.040Z"
   },
   {
    "duration": 7,
    "start_time": "2022-10-03T03:39:22.483Z"
   },
   {
    "duration": 14,
    "start_time": "2022-10-03T03:43:59.627Z"
   },
   {
    "duration": 11,
    "start_time": "2022-10-03T03:44:16.931Z"
   },
   {
    "duration": 1441,
    "start_time": "2022-10-03T03:50:18.576Z"
   },
   {
    "duration": 48,
    "start_time": "2022-10-03T03:50:20.020Z"
   },
   {
    "duration": 6,
    "start_time": "2022-10-03T03:50:20.071Z"
   },
   {
    "duration": 56,
    "start_time": "2022-10-03T03:50:20.080Z"
   },
   {
    "duration": 29,
    "start_time": "2022-10-03T03:50:20.138Z"
   },
   {
    "duration": 48,
    "start_time": "2022-10-03T03:50:20.169Z"
   },
   {
    "duration": 8,
    "start_time": "2022-10-03T03:50:20.219Z"
   },
   {
    "duration": 4,
    "start_time": "2022-10-03T03:50:20.229Z"
   },
   {
    "duration": 24,
    "start_time": "2022-10-03T03:50:20.235Z"
   },
   {
    "duration": 104,
    "start_time": "2022-10-03T03:50:20.261Z"
   },
   {
    "duration": 88,
    "start_time": "2022-10-03T03:50:20.368Z"
   },
   {
    "duration": 10,
    "start_time": "2022-10-03T03:50:20.458Z"
   },
   {
    "duration": 10,
    "start_time": "2022-10-03T03:50:20.470Z"
   },
   {
    "duration": 16,
    "start_time": "2022-10-03T03:50:20.553Z"
   },
   {
    "duration": 84,
    "start_time": "2022-10-03T03:50:20.572Z"
   },
   {
    "duration": 27,
    "start_time": "2022-10-03T03:50:20.659Z"
   },
   {
    "duration": 70,
    "start_time": "2022-10-03T03:50:20.689Z"
   },
   {
    "duration": 107,
    "start_time": "2022-10-03T03:50:20.761Z"
   },
   {
    "duration": 21,
    "start_time": "2022-10-03T03:50:20.870Z"
   },
   {
    "duration": 14,
    "start_time": "2022-10-03T03:50:20.893Z"
   },
   {
    "duration": 145,
    "start_time": "2022-10-03T03:50:20.909Z"
   },
   {
    "duration": 11,
    "start_time": "2022-10-03T03:50:21.056Z"
   },
   {
    "duration": 1614,
    "start_time": "2022-10-03T15:38:19.925Z"
   },
   {
    "duration": 99,
    "start_time": "2022-10-03T15:38:21.541Z"
   },
   {
    "duration": 3,
    "start_time": "2022-10-03T15:38:21.642Z"
   },
   {
    "duration": 29,
    "start_time": "2022-10-03T15:38:21.648Z"
   },
   {
    "duration": 12,
    "start_time": "2022-10-03T15:38:21.679Z"
   },
   {
    "duration": 32,
    "start_time": "2022-10-03T15:38:21.692Z"
   },
   {
    "duration": 8,
    "start_time": "2022-10-03T15:38:21.726Z"
   },
   {
    "duration": 7,
    "start_time": "2022-10-03T15:38:21.736Z"
   },
   {
    "duration": 66,
    "start_time": "2022-10-03T15:38:21.744Z"
   },
   {
    "duration": 105,
    "start_time": "2022-10-03T15:38:21.813Z"
   },
   {
    "duration": 8,
    "start_time": "2022-10-03T15:38:21.920Z"
   },
   {
    "duration": 82,
    "start_time": "2022-10-03T15:38:21.929Z"
   },
   {
    "duration": 9,
    "start_time": "2022-10-03T15:38:22.013Z"
   },
   {
    "duration": 90,
    "start_time": "2022-10-03T15:38:22.024Z"
   },
   {
    "duration": 6,
    "start_time": "2022-10-03T15:38:22.116Z"
   },
   {
    "duration": 8,
    "start_time": "2022-10-03T15:38:22.124Z"
   },
   {
    "duration": 75,
    "start_time": "2022-10-03T15:38:22.134Z"
   },
   {
    "duration": 13,
    "start_time": "2022-10-03T15:38:22.211Z"
   },
   {
    "duration": 87,
    "start_time": "2022-10-03T15:38:22.225Z"
   },
   {
    "duration": 10,
    "start_time": "2022-10-03T15:38:22.313Z"
   },
   {
    "duration": 89,
    "start_time": "2022-10-03T15:38:22.324Z"
   },
   {
    "duration": 9,
    "start_time": "2022-10-03T15:38:22.415Z"
   },
   {
    "duration": 42,
    "start_time": "2022-10-03T18:52:42.658Z"
   },
   {
    "duration": 1561,
    "start_time": "2022-10-04T16:32:42.163Z"
   },
   {
    "duration": 84,
    "start_time": "2022-10-04T16:32:43.726Z"
   },
   {
    "duration": 3,
    "start_time": "2022-10-04T16:32:43.812Z"
   },
   {
    "duration": 33,
    "start_time": "2022-10-04T16:32:43.817Z"
   },
   {
    "duration": 11,
    "start_time": "2022-10-04T16:32:43.852Z"
   },
   {
    "duration": 28,
    "start_time": "2022-10-04T16:32:43.865Z"
   },
   {
    "duration": 8,
    "start_time": "2022-10-04T16:32:43.894Z"
   },
   {
    "duration": 8,
    "start_time": "2022-10-04T16:32:43.903Z"
   },
   {
    "duration": 42,
    "start_time": "2022-10-04T16:32:43.913Z"
   },
   {
    "duration": 114,
    "start_time": "2022-10-04T16:32:43.958Z"
   },
   {
    "duration": 6,
    "start_time": "2022-10-04T16:32:44.075Z"
   },
   {
    "duration": 11,
    "start_time": "2022-10-04T16:32:44.084Z"
   },
   {
    "duration": 59,
    "start_time": "2022-10-04T16:32:44.097Z"
   },
   {
    "duration": 12,
    "start_time": "2022-10-04T16:32:44.158Z"
   },
   {
    "duration": 90,
    "start_time": "2022-10-04T16:32:44.172Z"
   },
   {
    "duration": 14,
    "start_time": "2022-10-04T16:32:44.264Z"
   },
   {
    "duration": 75,
    "start_time": "2022-10-04T16:32:44.280Z"
   },
   {
    "duration": 12,
    "start_time": "2022-10-04T16:32:44.357Z"
   },
   {
    "duration": 90,
    "start_time": "2022-10-04T16:32:44.371Z"
   },
   {
    "duration": 9,
    "start_time": "2022-10-04T16:32:44.463Z"
   },
   {
    "duration": 6,
    "start_time": "2022-10-04T16:32:44.473Z"
   },
   {
    "duration": 7,
    "start_time": "2022-10-04T16:32:44.553Z"
   }
  ],
  "kernelspec": {
   "display_name": "Python 3 (ipykernel)",
   "language": "python",
   "name": "python3"
  },
  "language_info": {
   "codemirror_mode": {
    "name": "ipython",
    "version": 3
   },
   "file_extension": ".py",
   "mimetype": "text/x-python",
   "name": "python",
   "nbconvert_exporter": "python",
   "pygments_lexer": "ipython3",
   "version": "3.10.9"
  },
  "toc": {
   "base_numbering": 1,
   "nav_menu": {},
   "number_sections": true,
   "sideBar": true,
   "skip_h1_title": true,
   "title_cell": "Содержание",
   "title_sidebar": "Contents",
   "toc_cell": true,
   "toc_position": {},
   "toc_section_display": true,
   "toc_window_display": true
  }
 },
 "nbformat": 4,
 "nbformat_minor": 2
}
