{
 "cells": [
  {
   "cell_type": "markdown",
   "metadata": {
    "toc": true
   },
   "source": [
    "<h1>Содержание<span class=\"tocSkip\"></span></h1>\n",
    "<div class=\"toc\"><ul class=\"toc-item\"><li><ul class=\"toc-item\"><li><span><a href=\"#-Комментарий-студента\" data-toc-modified-id=\"-Комментарий-студента-0.1\"><span class=\"toc-item-num\">0.1&nbsp;&nbsp;</span> Комментарий студента</a></span></li><li><span><a href=\"#-Комментарий-ревьюера-v2\" data-toc-modified-id=\"-Комментарий-ревьюера-v2-0.2\"><span class=\"toc-item-num\">0.2&nbsp;&nbsp;</span> Комментарий ревьюера v2</a></span></li></ul></li><li><span><a href=\"#Подготовка-данных\" data-toc-modified-id=\"Подготовка-данных-1\"><span class=\"toc-item-num\">1&nbsp;&nbsp;</span>Подготовка данных</a></span><ul class=\"toc-item\"><li><span><a href=\"#-Комментарий-ревьюера-v1\" data-toc-modified-id=\"-Комментарий-ревьюера-v1-1.1\"><span class=\"toc-item-num\">1.1&nbsp;&nbsp;</span> Комментарий ревьюера v1</a></span></li><li><span><a href=\"#-Комментарий-ревьюера-v1\" data-toc-modified-id=\"-Комментарий-ревьюера-v1-1.2\"><span class=\"toc-item-num\">1.2&nbsp;&nbsp;</span> Комментарий ревьюера v1</a></span></li><li><span><a href=\"#-Комментарий-ревьюера-v1\" data-toc-modified-id=\"-Комментарий-ревьюера-v1-1.3\"><span class=\"toc-item-num\">1.3&nbsp;&nbsp;</span> Комментарий ревьюера v1</a></span></li></ul></li><li><span><a href=\"#Исследование-задачи\" data-toc-modified-id=\"Исследование-задачи-2\"><span class=\"toc-item-num\">2&nbsp;&nbsp;</span>Исследование задачи</a></span><ul class=\"toc-item\"><li><span><a href=\"#-Комментарий-ревьюера-v1\" data-toc-modified-id=\"-Комментарий-ревьюера-v1-2.1\"><span class=\"toc-item-num\">2.1&nbsp;&nbsp;</span> Комментарий ревьюера v1</a></span></li></ul></li><li><span><a href=\"#Борьба-с-дисбалансом\" data-toc-modified-id=\"Борьба-с-дисбалансом-3\"><span class=\"toc-item-num\">3&nbsp;&nbsp;</span>Борьба с дисбалансом</a></span><ul class=\"toc-item\"><li><span><a href=\"#-Комментарий-ревьюера-v1\" data-toc-modified-id=\"-Комментарий-ревьюера-v1-3.1\"><span class=\"toc-item-num\">3.1&nbsp;&nbsp;</span> Комментарий ревьюера v1</a></span></li><li><span><a href=\"#-Комментарий-ревьюера-v1\" data-toc-modified-id=\"-Комментарий-ревьюера-v1-3.2\"><span class=\"toc-item-num\">3.2&nbsp;&nbsp;</span> Комментарий ревьюера v1</a></span></li></ul></li><li><span><a href=\"#Тестирование-модели\" data-toc-modified-id=\"Тестирование-модели-4\"><span class=\"toc-item-num\">4&nbsp;&nbsp;</span>Тестирование модели</a></span><ul class=\"toc-item\"><li><span><a href=\"#-Комментарий-ревьюера-v1\" data-toc-modified-id=\"-Комментарий-ревьюера-v1-4.1\"><span class=\"toc-item-num\">4.1&nbsp;&nbsp;</span> Комментарий ревьюера v1</a></span></li><li><span><a href=\"#-Комментарий-ревьюера-v1\" data-toc-modified-id=\"-Комментарий-ревьюера-v1-4.2\"><span class=\"toc-item-num\">4.2&nbsp;&nbsp;</span> Комментарий ревьюера v1</a></span></li><li><span><a href=\"#-Комментарий-студента\" data-toc-modified-id=\"-Комментарий-студента-4.3\"><span class=\"toc-item-num\">4.3&nbsp;&nbsp;</span> Комментарий студента</a></span></li><li><span><a href=\"#Исследование-метрики-AUC-ROC\" data-toc-modified-id=\"Исследование-метрики-AUC-ROC-4.4\"><span class=\"toc-item-num\">4.4&nbsp;&nbsp;</span>Исследование метрики AUC-ROC</a></span></li><li><span><a href=\"#-Комментарий-ревьюера-v1\" data-toc-modified-id=\"-Комментарий-ревьюера-v1-4.5\"><span class=\"toc-item-num\">4.5&nbsp;&nbsp;</span> Комментарий ревьюера v1</a></span></li></ul></li><li><span><a href=\"#Вывод\" data-toc-modified-id=\"Вывод-5\"><span class=\"toc-item-num\">5&nbsp;&nbsp;</span>Вывод</a></span></li><li><span><a href=\"#Чек-лист-готовности-проекта\" data-toc-modified-id=\"Чек-лист-готовности-проекта-6\"><span class=\"toc-item-num\">6&nbsp;&nbsp;</span>Чек-лист готовности проекта</a></span><ul class=\"toc-item\"><li><span><a href=\"#-Итоговый-комментарий\" data-toc-modified-id=\"-Итоговый-комментарий-6.1\"><span class=\"toc-item-num\">6.1&nbsp;&nbsp;</span> Итоговый комментарий</a></span></li><li><span><a href=\"#-Комментарий-студента\" data-toc-modified-id=\"-Комментарий-студента-6.2\"><span class=\"toc-item-num\">6.2&nbsp;&nbsp;</span> Комментарий студента</a></span></li></ul></li></ul></div>"
   ]
  },
  {
   "cell_type": "markdown",
   "metadata": {},
   "source": [
    "# Отток клиентов"
   ]
  },
  {
   "cell_type": "markdown",
   "metadata": {},
   "source": [
    "Из «Бета-Банка» стали уходить клиенты. Каждый месяц. Немного, но заметно. Банковские маркетологи посчитали: сохранять текущих клиентов дешевле, чем привлекать новых.\n",
    "\n",
    "Нужно спрогнозировать, уйдёт клиент из банка в ближайшее время или нет. Вам предоставлены исторические данные о поведении клиентов и расторжении договоров с банком. \n",
    "\n",
    "Постройте модель с предельно большим значением *F1*-меры. Чтобы сдать проект успешно, нужно довести метрику до 0.59. Проверьте *F1*-меру на тестовой выборке самостоятельно.\n",
    "\n",
    "Дополнительно измеряйте *AUC-ROC*, сравнивайте её значение с *F1*-мерой.\n",
    "\n",
    "Источник данных: [https://www.kaggle.com/barelydedicated/bank-customer-churn-modeling](https://www.kaggle.com/barelydedicated/bank-customer-churn-modeling)"
   ]
  },
  {
   "cell_type": "markdown",
   "metadata": {},
   "source": [
    "## Подготовка данных"
   ]
  },
  {
   "cell_type": "code",
   "execution_count": 2,
   "metadata": {},
   "outputs": [],
   "source": [
    "import pandas as pd\n",
    "import matplotlib.pyplot as plt\n",
    "import numpy as np\n",
    "\n",
    "from sklearn.tree import DecisionTreeClassifier\n",
    "from sklearn.linear_model import LogisticRegression\n",
    "from sklearn.ensemble import RandomForestClassifier\n",
    "from sklearn.model_selection import train_test_split\n",
    "from sklearn.preprocessing import OrdinalEncoder\n",
    "from sklearn.preprocessing import StandardScaler\n",
    "from sklearn.utils import shuffle \n",
    "from sklearn.metrics import recall_score\n",
    "from sklearn.metrics import accuracy_score\n",
    "from sklearn.metrics import precision_score\n",
    "from sklearn.metrics import confusion_matrix\n",
    "from sklearn.metrics import f1_score\n",
    "from sklearn.metrics import roc_curve\n",
    "from sklearn.metrics import roc_auc_score"
   ]
  },
  {
   "cell_type": "code",
   "execution_count": 3,
   "metadata": {},
   "outputs": [
    {
     "name": "stdout",
     "output_type": "stream",
     "text": [
      "<class 'pandas.core.frame.DataFrame'>\n",
      "RangeIndex: 10000 entries, 0 to 9999\n",
      "Data columns (total 14 columns):\n",
      " #   Column           Non-Null Count  Dtype  \n",
      "---  ------           --------------  -----  \n",
      " 0   RowNumber        10000 non-null  int64  \n",
      " 1   CustomerId       10000 non-null  int64  \n",
      " 2   Surname          10000 non-null  object \n",
      " 3   CreditScore      10000 non-null  int64  \n",
      " 4   Geography        10000 non-null  object \n",
      " 5   Gender           10000 non-null  object \n",
      " 6   Age              10000 non-null  int64  \n",
      " 7   Tenure           9091 non-null   float64\n",
      " 8   Balance          10000 non-null  float64\n",
      " 9   NumOfProducts    10000 non-null  int64  \n",
      " 10  HasCrCard        10000 non-null  int64  \n",
      " 11  IsActiveMember   10000 non-null  int64  \n",
      " 12  EstimatedSalary  10000 non-null  float64\n",
      " 13  Exited           10000 non-null  int64  \n",
      "dtypes: float64(3), int64(8), object(3)\n",
      "memory usage: 1.1+ MB\n"
     ]
    }
   ],
   "source": [
    "data = pd.read_csv('/datasets/Churn.csv')\n",
    "data.info()"
   ]
  },
  {
   "cell_type": "markdown",
   "metadata": {},
   "source": [
    "Признаки       \n",
    "• RowNumber — индекс строки в данных     \n",
    "• CustomerId — уникальный идентификатор клиента     \n",
    "• Surname — фамилия     \n",
    "• CreditScore — кредитный рейтинг      \n",
    "• Geography — страна проживания     \n",
    "• Gender — пол    \n",
    "• Age — возраст    \n",
    "• Tenure — сколько лет человек является клиентом банка     \n",
    "• Balance — баланс на счёте     \n",
    "• NumOfProducts — количество продуктов банка, используемых клиентом     \n",
    "• HasCrCard — наличие кредитной карты     \n",
    "• IsActiveMember — активность клиента        \n",
    "• EstimatedSalary — предполагаемая зарплата           \n",
    "\n",
    "Целевой признак     \n",
    "• Exited — факт ухода клиента    "
   ]
  },
  {
   "cell_type": "markdown",
   "metadata": {},
   "source": [
    "Есть пропуски в Tenure. Пока что не ясно, являются ли эти данные важными для исследования. Предположим, что данные не пригодятся и избавимся от пропусков, заполнив отсутствующие значения нулями, как будто новый клиент. "
   ]
  },
  {
   "cell_type": "code",
   "execution_count": 4,
   "metadata": {
    "scrolled": false
   },
   "outputs": [
    {
     "name": "stdout",
     "output_type": "stream",
     "text": [
      "<class 'pandas.core.frame.DataFrame'>\n",
      "RangeIndex: 10000 entries, 0 to 9999\n",
      "Data columns (total 14 columns):\n",
      " #   Column           Non-Null Count  Dtype  \n",
      "---  ------           --------------  -----  \n",
      " 0   rownumber        10000 non-null  int64  \n",
      " 1   customerid       10000 non-null  int64  \n",
      " 2   surname          10000 non-null  object \n",
      " 3   creditscore      10000 non-null  int64  \n",
      " 4   geography        10000 non-null  object \n",
      " 5   gender           10000 non-null  object \n",
      " 6   age              10000 non-null  int64  \n",
      " 7   tenure           9091 non-null   float64\n",
      " 8   balance          10000 non-null  float64\n",
      " 9   numofproducts    10000 non-null  int64  \n",
      " 10  hascrcard        10000 non-null  int64  \n",
      " 11  isactivemember   10000 non-null  int64  \n",
      " 12  estimatedsalary  10000 non-null  float64\n",
      " 13  exited           10000 non-null  int64  \n",
      "dtypes: float64(3), int64(8), object(3)\n",
      "memory usage: 1.1+ MB\n"
     ]
    }
   ],
   "source": [
    "#Приведем названия столбцов к нижнему регистру\n",
    "data.columns = map(str.lower, data.columns)\n",
    "data.info()"
   ]
  },
  {
   "cell_type": "code",
   "execution_count": 5,
   "metadata": {
    "scrolled": false
   },
   "outputs": [
    {
     "name": "stdout",
     "output_type": "stream",
     "text": [
      "<class 'pandas.core.frame.DataFrame'>\n",
      "RangeIndex: 10000 entries, 0 to 9999\n",
      "Data columns (total 14 columns):\n",
      " #   Column           Non-Null Count  Dtype  \n",
      "---  ------           --------------  -----  \n",
      " 0   rownumber        10000 non-null  int64  \n",
      " 1   customerid       10000 non-null  int64  \n",
      " 2   surname          10000 non-null  object \n",
      " 3   creditscore      10000 non-null  int64  \n",
      " 4   geography        10000 non-null  object \n",
      " 5   gender           10000 non-null  object \n",
      " 6   age              10000 non-null  int64  \n",
      " 7   tenure           10000 non-null  float64\n",
      " 8   balance          10000 non-null  float64\n",
      " 9   numofproducts    10000 non-null  int64  \n",
      " 10  hascrcard        10000 non-null  int64  \n",
      " 11  isactivemember   10000 non-null  int64  \n",
      " 12  estimatedsalary  10000 non-null  float64\n",
      " 13  exited           10000 non-null  int64  \n",
      "dtypes: float64(3), int64(8), object(3)\n",
      "memory usage: 1.1+ MB\n"
     ]
    }
   ],
   "source": [
    "data['tenure'] = data['tenure'].fillna(0)\n",
    "data.info()"
   ]
  },
  {
   "cell_type": "code",
   "execution_count": 6,
   "metadata": {},
   "outputs": [
    {
     "data": {
      "text/html": [
       "<div>\n",
       "<style scoped>\n",
       "    .dataframe tbody tr th:only-of-type {\n",
       "        vertical-align: middle;\n",
       "    }\n",
       "\n",
       "    .dataframe tbody tr th {\n",
       "        vertical-align: top;\n",
       "    }\n",
       "\n",
       "    .dataframe thead th {\n",
       "        text-align: right;\n",
       "    }\n",
       "</style>\n",
       "<table border=\"1\" class=\"dataframe\">\n",
       "  <thead>\n",
       "    <tr style=\"text-align: right;\">\n",
       "      <th></th>\n",
       "      <th>creditscore</th>\n",
       "      <th>geography</th>\n",
       "      <th>gender</th>\n",
       "      <th>age</th>\n",
       "      <th>tenure</th>\n",
       "      <th>balance</th>\n",
       "      <th>numofproducts</th>\n",
       "      <th>hascrcard</th>\n",
       "      <th>isactivemember</th>\n",
       "      <th>estimatedsalary</th>\n",
       "      <th>exited</th>\n",
       "    </tr>\n",
       "  </thead>\n",
       "  <tbody>\n",
       "    <tr>\n",
       "      <th>0</th>\n",
       "      <td>619</td>\n",
       "      <td>France</td>\n",
       "      <td>Female</td>\n",
       "      <td>42</td>\n",
       "      <td>2.0</td>\n",
       "      <td>0.00</td>\n",
       "      <td>1</td>\n",
       "      <td>1</td>\n",
       "      <td>1</td>\n",
       "      <td>101348.88</td>\n",
       "      <td>1</td>\n",
       "    </tr>\n",
       "    <tr>\n",
       "      <th>1</th>\n",
       "      <td>608</td>\n",
       "      <td>Spain</td>\n",
       "      <td>Female</td>\n",
       "      <td>41</td>\n",
       "      <td>1.0</td>\n",
       "      <td>83807.86</td>\n",
       "      <td>1</td>\n",
       "      <td>0</td>\n",
       "      <td>1</td>\n",
       "      <td>112542.58</td>\n",
       "      <td>0</td>\n",
       "    </tr>\n",
       "    <tr>\n",
       "      <th>2</th>\n",
       "      <td>502</td>\n",
       "      <td>France</td>\n",
       "      <td>Female</td>\n",
       "      <td>42</td>\n",
       "      <td>8.0</td>\n",
       "      <td>159660.80</td>\n",
       "      <td>3</td>\n",
       "      <td>1</td>\n",
       "      <td>0</td>\n",
       "      <td>113931.57</td>\n",
       "      <td>1</td>\n",
       "    </tr>\n",
       "    <tr>\n",
       "      <th>3</th>\n",
       "      <td>699</td>\n",
       "      <td>France</td>\n",
       "      <td>Female</td>\n",
       "      <td>39</td>\n",
       "      <td>1.0</td>\n",
       "      <td>0.00</td>\n",
       "      <td>2</td>\n",
       "      <td>0</td>\n",
       "      <td>0</td>\n",
       "      <td>93826.63</td>\n",
       "      <td>0</td>\n",
       "    </tr>\n",
       "    <tr>\n",
       "      <th>4</th>\n",
       "      <td>850</td>\n",
       "      <td>Spain</td>\n",
       "      <td>Female</td>\n",
       "      <td>43</td>\n",
       "      <td>2.0</td>\n",
       "      <td>125510.82</td>\n",
       "      <td>1</td>\n",
       "      <td>1</td>\n",
       "      <td>1</td>\n",
       "      <td>79084.10</td>\n",
       "      <td>0</td>\n",
       "    </tr>\n",
       "  </tbody>\n",
       "</table>\n",
       "</div>"
      ],
      "text/plain": [
       "   creditscore geography  gender  age  tenure    balance  numofproducts  \\\n",
       "0          619    France  Female   42     2.0       0.00              1   \n",
       "1          608     Spain  Female   41     1.0   83807.86              1   \n",
       "2          502    France  Female   42     8.0  159660.80              3   \n",
       "3          699    France  Female   39     1.0       0.00              2   \n",
       "4          850     Spain  Female   43     2.0  125510.82              1   \n",
       "\n",
       "   hascrcard  isactivemember  estimatedsalary  exited  \n",
       "0          1               1        101348.88       1  \n",
       "1          0               1        112542.58       0  \n",
       "2          1               0        113931.57       1  \n",
       "3          0               0         93826.63       0  \n",
       "4          1               1         79084.10       0  "
      ]
     },
     "execution_count": 6,
     "metadata": {},
     "output_type": "execute_result"
    }
   ],
   "source": [
    "for_drop = ['rownumber','customerid', 'surname']\n",
    "data_ml = data.drop(for_drop, axis=1)\n",
    "data_ml.head()"
   ]
  },
  {
   "cell_type": "code",
   "execution_count": 7,
   "metadata": {
    "scrolled": true
   },
   "outputs": [
    {
     "name": "stdout",
     "output_type": "stream",
     "text": [
      "Дубликатов найдено: 0\n"
     ]
    }
   ],
   "source": [
    "print('Дубликатов найдено:', data.duplicated().sum())"
   ]
  },
  {
   "cell_type": "code",
   "execution_count": 8,
   "metadata": {
    "scrolled": true
   },
   "outputs": [
    {
     "data": {
      "text/html": [
       "<div>\n",
       "<style scoped>\n",
       "    .dataframe tbody tr th:only-of-type {\n",
       "        vertical-align: middle;\n",
       "    }\n",
       "\n",
       "    .dataframe tbody tr th {\n",
       "        vertical-align: top;\n",
       "    }\n",
       "\n",
       "    .dataframe thead th {\n",
       "        text-align: right;\n",
       "    }\n",
       "</style>\n",
       "<table border=\"1\" class=\"dataframe\">\n",
       "  <thead>\n",
       "    <tr style=\"text-align: right;\">\n",
       "      <th></th>\n",
       "      <th>creditscore</th>\n",
       "      <th>age</th>\n",
       "      <th>tenure</th>\n",
       "      <th>balance</th>\n",
       "      <th>numofproducts</th>\n",
       "      <th>hascrcard</th>\n",
       "      <th>isactivemember</th>\n",
       "      <th>estimatedsalary</th>\n",
       "      <th>exited</th>\n",
       "      <th>geography_Germany</th>\n",
       "      <th>geography_Spain</th>\n",
       "      <th>gender_Male</th>\n",
       "    </tr>\n",
       "  </thead>\n",
       "  <tbody>\n",
       "    <tr>\n",
       "      <th>0</th>\n",
       "      <td>619</td>\n",
       "      <td>42</td>\n",
       "      <td>2.0</td>\n",
       "      <td>0.00</td>\n",
       "      <td>1</td>\n",
       "      <td>1</td>\n",
       "      <td>1</td>\n",
       "      <td>101348.88</td>\n",
       "      <td>1</td>\n",
       "      <td>0</td>\n",
       "      <td>0</td>\n",
       "      <td>0</td>\n",
       "    </tr>\n",
       "    <tr>\n",
       "      <th>1</th>\n",
       "      <td>608</td>\n",
       "      <td>41</td>\n",
       "      <td>1.0</td>\n",
       "      <td>83807.86</td>\n",
       "      <td>1</td>\n",
       "      <td>0</td>\n",
       "      <td>1</td>\n",
       "      <td>112542.58</td>\n",
       "      <td>0</td>\n",
       "      <td>0</td>\n",
       "      <td>1</td>\n",
       "      <td>0</td>\n",
       "    </tr>\n",
       "    <tr>\n",
       "      <th>2</th>\n",
       "      <td>502</td>\n",
       "      <td>42</td>\n",
       "      <td>8.0</td>\n",
       "      <td>159660.80</td>\n",
       "      <td>3</td>\n",
       "      <td>1</td>\n",
       "      <td>0</td>\n",
       "      <td>113931.57</td>\n",
       "      <td>1</td>\n",
       "      <td>0</td>\n",
       "      <td>0</td>\n",
       "      <td>0</td>\n",
       "    </tr>\n",
       "    <tr>\n",
       "      <th>3</th>\n",
       "      <td>699</td>\n",
       "      <td>39</td>\n",
       "      <td>1.0</td>\n",
       "      <td>0.00</td>\n",
       "      <td>2</td>\n",
       "      <td>0</td>\n",
       "      <td>0</td>\n",
       "      <td>93826.63</td>\n",
       "      <td>0</td>\n",
       "      <td>0</td>\n",
       "      <td>0</td>\n",
       "      <td>0</td>\n",
       "    </tr>\n",
       "    <tr>\n",
       "      <th>4</th>\n",
       "      <td>850</td>\n",
       "      <td>43</td>\n",
       "      <td>2.0</td>\n",
       "      <td>125510.82</td>\n",
       "      <td>1</td>\n",
       "      <td>1</td>\n",
       "      <td>1</td>\n",
       "      <td>79084.10</td>\n",
       "      <td>0</td>\n",
       "      <td>0</td>\n",
       "      <td>1</td>\n",
       "      <td>0</td>\n",
       "    </tr>\n",
       "  </tbody>\n",
       "</table>\n",
       "</div>"
      ],
      "text/plain": [
       "   creditscore  age  tenure    balance  numofproducts  hascrcard  \\\n",
       "0          619   42     2.0       0.00              1          1   \n",
       "1          608   41     1.0   83807.86              1          0   \n",
       "2          502   42     8.0  159660.80              3          1   \n",
       "3          699   39     1.0       0.00              2          0   \n",
       "4          850   43     2.0  125510.82              1          1   \n",
       "\n",
       "   isactivemember  estimatedsalary  exited  geography_Germany  \\\n",
       "0               1        101348.88       1                  0   \n",
       "1               1        112542.58       0                  0   \n",
       "2               0        113931.57       1                  0   \n",
       "3               0         93826.63       0                  0   \n",
       "4               1         79084.10       0                  0   \n",
       "\n",
       "   geography_Spain  gender_Male  \n",
       "0                0            0  \n",
       "1                1            0  \n",
       "2                0            0  \n",
       "3                0            0  \n",
       "4                1            0  "
      ]
     },
     "execution_count": 8,
     "metadata": {},
     "output_type": "execute_result"
    }
   ],
   "source": [
    "#Подготовка данных методом OHE\n",
    "data_ml = pd.get_dummies(data_ml, drop_first=True)\n",
    "data_ml.head()"
   ]
  },
  {
   "cell_type": "code",
   "execution_count": 9,
   "metadata": {},
   "outputs": [],
   "source": [
    "#Выделим признаки и целевой признак\n",
    "features = data_ml.drop('exited', axis=1)\n",
    "target = data_ml['exited']\n",
    "\n",
    "#Делим данные на три выборки: Обучающая, Валидационная, Тестовая (20, 60, 20)\n",
    "#Сначала выделим валидационную\n",
    "features_train, features_validtest, target_train, target_validtest = train_test_split(features,\n",
    "                                                    target,\n",
    "                                                    train_size=0.6,\n",
    "                                                    random_state=12345, \n",
    "                                                    stratify=target)\n",
    "\n",
    "#Теперь выделим оставшиеся в равных частях\n",
    "features_valid, features_test, target_valid, target_test = train_test_split(features_validtest,\n",
    "                                                    target_validtest,\n",
    "                                                    train_size=0.5,\n",
    "                                                    random_state=12345, \n",
    "                                                    stratify=target_validtest)"
   ]
  },
  {
   "cell_type": "markdown",
   "metadata": {},
   "source": [
    "Выборки:    \n",
    "• Валидационная → features_valid, target_valid    \n",
    "• Обучающая → features_train, target_train       \n",
    "• Тестовая → features_test, target_test    "
   ]
  },
  {
   "cell_type": "code",
   "execution_count": 10,
   "metadata": {},
   "outputs": [
    {
     "data": {
      "text/plain": [
       "StandardScaler()"
      ]
     },
     "execution_count": 10,
     "metadata": {},
     "output_type": "execute_result"
    }
   ],
   "source": [
    "#Стандартное масштабирование\n",
    "numeric = ['creditscore', 'age', 'tenure', 'balance', 'numofproducts', 'estimatedsalary']\n",
    "scaler = StandardScaler()\n",
    "scaler.fit(features_train[numeric])"
   ]
  },
  {
   "cell_type": "code",
   "execution_count": 11,
   "metadata": {
    "scrolled": false
   },
   "outputs": [
    {
     "name": "stderr",
     "output_type": "stream",
     "text": [
      "/tmp/ipykernel_31/3872591644.py:2: SettingWithCopyWarning: \n",
      "A value is trying to be set on a copy of a slice from a DataFrame.\n",
      "Try using .loc[row_indexer,col_indexer] = value instead\n",
      "\n",
      "See the caveats in the documentation: https://pandas.pydata.org/pandas-docs/stable/user_guide/indexing.html#returning-a-view-versus-a-copy\n",
      "  features_train[numeric] = scaler.transform(features_train[numeric])\n",
      "/opt/conda/lib/python3.9/site-packages/pandas/core/indexing.py:1738: SettingWithCopyWarning: \n",
      "A value is trying to be set on a copy of a slice from a DataFrame.\n",
      "Try using .loc[row_indexer,col_indexer] = value instead\n",
      "\n",
      "See the caveats in the documentation: https://pandas.pydata.org/pandas-docs/stable/user_guide/indexing.html#returning-a-view-versus-a-copy\n",
      "  self._setitem_single_column(loc, value[:, i].tolist(), pi)\n"
     ]
    },
    {
     "data": {
      "text/html": [
       "<div>\n",
       "<style scoped>\n",
       "    .dataframe tbody tr th:only-of-type {\n",
       "        vertical-align: middle;\n",
       "    }\n",
       "\n",
       "    .dataframe tbody tr th {\n",
       "        vertical-align: top;\n",
       "    }\n",
       "\n",
       "    .dataframe thead th {\n",
       "        text-align: right;\n",
       "    }\n",
       "</style>\n",
       "<table border=\"1\" class=\"dataframe\">\n",
       "  <thead>\n",
       "    <tr style=\"text-align: right;\">\n",
       "      <th></th>\n",
       "      <th>creditscore</th>\n",
       "      <th>age</th>\n",
       "      <th>tenure</th>\n",
       "      <th>balance</th>\n",
       "      <th>numofproducts</th>\n",
       "      <th>hascrcard</th>\n",
       "      <th>isactivemember</th>\n",
       "      <th>estimatedsalary</th>\n",
       "      <th>geography_Germany</th>\n",
       "      <th>geography_Spain</th>\n",
       "      <th>gender_Male</th>\n",
       "    </tr>\n",
       "  </thead>\n",
       "  <tbody>\n",
       "    <tr>\n",
       "      <th>2837</th>\n",
       "      <td>-1.040434</td>\n",
       "      <td>0.953312</td>\n",
       "      <td>0.467449</td>\n",
       "      <td>0.774657</td>\n",
       "      <td>-0.914708</td>\n",
       "      <td>0</td>\n",
       "      <td>1</td>\n",
       "      <td>-0.119110</td>\n",
       "      <td>1</td>\n",
       "      <td>0</td>\n",
       "      <td>0</td>\n",
       "    </tr>\n",
       "    <tr>\n",
       "      <th>9925</th>\n",
       "      <td>0.454006</td>\n",
       "      <td>-0.095244</td>\n",
       "      <td>-1.461501</td>\n",
       "      <td>1.910540</td>\n",
       "      <td>-0.914708</td>\n",
       "      <td>1</td>\n",
       "      <td>1</td>\n",
       "      <td>-0.258658</td>\n",
       "      <td>0</td>\n",
       "      <td>0</td>\n",
       "      <td>0</td>\n",
       "    </tr>\n",
       "    <tr>\n",
       "      <th>8746</th>\n",
       "      <td>0.103585</td>\n",
       "      <td>-0.476537</td>\n",
       "      <td>1.110432</td>\n",
       "      <td>0.481608</td>\n",
       "      <td>0.820981</td>\n",
       "      <td>0</td>\n",
       "      <td>1</td>\n",
       "      <td>1.422836</td>\n",
       "      <td>0</td>\n",
       "      <td>0</td>\n",
       "      <td>1</td>\n",
       "    </tr>\n",
       "    <tr>\n",
       "      <th>660</th>\n",
       "      <td>-0.184996</td>\n",
       "      <td>0.190726</td>\n",
       "      <td>-1.461501</td>\n",
       "      <td>0.088439</td>\n",
       "      <td>-0.914708</td>\n",
       "      <td>1</td>\n",
       "      <td>1</td>\n",
       "      <td>-1.160427</td>\n",
       "      <td>1</td>\n",
       "      <td>0</td>\n",
       "      <td>0</td>\n",
       "    </tr>\n",
       "    <tr>\n",
       "      <th>3610</th>\n",
       "      <td>-0.720933</td>\n",
       "      <td>1.620574</td>\n",
       "      <td>-1.140009</td>\n",
       "      <td>0.879129</td>\n",
       "      <td>-0.914708</td>\n",
       "      <td>1</td>\n",
       "      <td>0</td>\n",
       "      <td>0.113236</td>\n",
       "      <td>0</td>\n",
       "      <td>0</td>\n",
       "      <td>0</td>\n",
       "    </tr>\n",
       "  </tbody>\n",
       "</table>\n",
       "</div>"
      ],
      "text/plain": [
       "      creditscore       age    tenure   balance  numofproducts  hascrcard  \\\n",
       "2837    -1.040434  0.953312  0.467449  0.774657      -0.914708          0   \n",
       "9925     0.454006 -0.095244 -1.461501  1.910540      -0.914708          1   \n",
       "8746     0.103585 -0.476537  1.110432  0.481608       0.820981          0   \n",
       "660     -0.184996  0.190726 -1.461501  0.088439      -0.914708          1   \n",
       "3610    -0.720933  1.620574 -1.140009  0.879129      -0.914708          1   \n",
       "\n",
       "      isactivemember  estimatedsalary  geography_Germany  geography_Spain  \\\n",
       "2837               1        -0.119110                  1                0   \n",
       "9925               1        -0.258658                  0                0   \n",
       "8746               1         1.422836                  0                0   \n",
       "660                1        -1.160427                  1                0   \n",
       "3610               0         0.113236                  0                0   \n",
       "\n",
       "      gender_Male  \n",
       "2837            0  \n",
       "9925            0  \n",
       "8746            1  \n",
       "660             0  \n",
       "3610            0  "
      ]
     },
     "execution_count": 11,
     "metadata": {},
     "output_type": "execute_result"
    }
   ],
   "source": [
    "#Масштабирование численных признаков ОБУЧАЮЩЕЙ выборки\n",
    "features_train[numeric] = scaler.transform(features_train[numeric])\n",
    "features_train.head()"
   ]
  },
  {
   "cell_type": "code",
   "execution_count": 12,
   "metadata": {
    "scrolled": false
   },
   "outputs": [
    {
     "name": "stderr",
     "output_type": "stream",
     "text": [
      "/tmp/ipykernel_31/2004906312.py:2: SettingWithCopyWarning: \n",
      "A value is trying to be set on a copy of a slice from a DataFrame.\n",
      "Try using .loc[row_indexer,col_indexer] = value instead\n",
      "\n",
      "See the caveats in the documentation: https://pandas.pydata.org/pandas-docs/stable/user_guide/indexing.html#returning-a-view-versus-a-copy\n",
      "  features_valid[numeric] = scaler.transform(features_valid[numeric])\n",
      "/opt/conda/lib/python3.9/site-packages/pandas/core/indexing.py:1738: SettingWithCopyWarning: \n",
      "A value is trying to be set on a copy of a slice from a DataFrame.\n",
      "Try using .loc[row_indexer,col_indexer] = value instead\n",
      "\n",
      "See the caveats in the documentation: https://pandas.pydata.org/pandas-docs/stable/user_guide/indexing.html#returning-a-view-versus-a-copy\n",
      "  self._setitem_single_column(loc, value[:, i].tolist(), pi)\n"
     ]
    },
    {
     "data": {
      "text/html": [
       "<div>\n",
       "<style scoped>\n",
       "    .dataframe tbody tr th:only-of-type {\n",
       "        vertical-align: middle;\n",
       "    }\n",
       "\n",
       "    .dataframe tbody tr th {\n",
       "        vertical-align: top;\n",
       "    }\n",
       "\n",
       "    .dataframe thead th {\n",
       "        text-align: right;\n",
       "    }\n",
       "</style>\n",
       "<table border=\"1\" class=\"dataframe\">\n",
       "  <thead>\n",
       "    <tr style=\"text-align: right;\">\n",
       "      <th></th>\n",
       "      <th>creditscore</th>\n",
       "      <th>age</th>\n",
       "      <th>tenure</th>\n",
       "      <th>balance</th>\n",
       "      <th>numofproducts</th>\n",
       "      <th>hascrcard</th>\n",
       "      <th>isactivemember</th>\n",
       "      <th>estimatedsalary</th>\n",
       "      <th>geography_Germany</th>\n",
       "      <th>geography_Spain</th>\n",
       "      <th>gender_Male</th>\n",
       "    </tr>\n",
       "  </thead>\n",
       "  <tbody>\n",
       "    <tr>\n",
       "      <th>6612</th>\n",
       "      <td>-1.524838</td>\n",
       "      <td>2.383160</td>\n",
       "      <td>-0.497026</td>\n",
       "      <td>1.011655</td>\n",
       "      <td>-0.914708</td>\n",
       "      <td>0</td>\n",
       "      <td>1</td>\n",
       "      <td>0.010275</td>\n",
       "      <td>0</td>\n",
       "      <td>0</td>\n",
       "      <td>0</td>\n",
       "    </tr>\n",
       "    <tr>\n",
       "      <th>519</th>\n",
       "      <td>0.587990</td>\n",
       "      <td>1.811221</td>\n",
       "      <td>0.467449</td>\n",
       "      <td>0.213192</td>\n",
       "      <td>-0.914708</td>\n",
       "      <td>0</td>\n",
       "      <td>1</td>\n",
       "      <td>0.453089</td>\n",
       "      <td>0</td>\n",
       "      <td>0</td>\n",
       "      <td>1</td>\n",
       "    </tr>\n",
       "    <tr>\n",
       "      <th>1609</th>\n",
       "      <td>-0.318980</td>\n",
       "      <td>-0.381213</td>\n",
       "      <td>1.110432</td>\n",
       "      <td>0.893896</td>\n",
       "      <td>-0.914708</td>\n",
       "      <td>1</td>\n",
       "      <td>0</td>\n",
       "      <td>-0.603508</td>\n",
       "      <td>0</td>\n",
       "      <td>0</td>\n",
       "      <td>0</td>\n",
       "    </tr>\n",
       "    <tr>\n",
       "      <th>3475</th>\n",
       "      <td>1.226991</td>\n",
       "      <td>-0.762506</td>\n",
       "      <td>-0.175534</td>\n",
       "      <td>-0.240363</td>\n",
       "      <td>0.820981</td>\n",
       "      <td>1</td>\n",
       "      <td>1</td>\n",
       "      <td>-1.621460</td>\n",
       "      <td>0</td>\n",
       "      <td>0</td>\n",
       "      <td>1</td>\n",
       "    </tr>\n",
       "    <tr>\n",
       "      <th>2707</th>\n",
       "      <td>-0.133464</td>\n",
       "      <td>-0.095244</td>\n",
       "      <td>-0.497026</td>\n",
       "      <td>0.447305</td>\n",
       "      <td>-0.914708</td>\n",
       "      <td>0</td>\n",
       "      <td>0</td>\n",
       "      <td>0.338574</td>\n",
       "      <td>0</td>\n",
       "      <td>0</td>\n",
       "      <td>0</td>\n",
       "    </tr>\n",
       "  </tbody>\n",
       "</table>\n",
       "</div>"
      ],
      "text/plain": [
       "      creditscore       age    tenure   balance  numofproducts  hascrcard  \\\n",
       "6612    -1.524838  2.383160 -0.497026  1.011655      -0.914708          0   \n",
       "519      0.587990  1.811221  0.467449  0.213192      -0.914708          0   \n",
       "1609    -0.318980 -0.381213  1.110432  0.893896      -0.914708          1   \n",
       "3475     1.226991 -0.762506 -0.175534 -0.240363       0.820981          1   \n",
       "2707    -0.133464 -0.095244 -0.497026  0.447305      -0.914708          0   \n",
       "\n",
       "      isactivemember  estimatedsalary  geography_Germany  geography_Spain  \\\n",
       "6612               1         0.010275                  0                0   \n",
       "519                1         0.453089                  0                0   \n",
       "1609               0        -0.603508                  0                0   \n",
       "3475               1        -1.621460                  0                0   \n",
       "2707               0         0.338574                  0                0   \n",
       "\n",
       "      gender_Male  \n",
       "6612            0  \n",
       "519             1  \n",
       "1609            0  \n",
       "3475            1  \n",
       "2707            0  "
      ]
     },
     "execution_count": 12,
     "metadata": {},
     "output_type": "execute_result"
    }
   ],
   "source": [
    "#Масштабирование численных признаков ВАЛИДАЦИОННОЙ выборки\n",
    "features_valid[numeric] = scaler.transform(features_valid[numeric])\n",
    "features_valid.head()"
   ]
  },
  {
   "cell_type": "code",
   "execution_count": 13,
   "metadata": {},
   "outputs": [
    {
     "name": "stderr",
     "output_type": "stream",
     "text": [
      "/tmp/ipykernel_31/2813059478.py:2: SettingWithCopyWarning: \n",
      "A value is trying to be set on a copy of a slice from a DataFrame.\n",
      "Try using .loc[row_indexer,col_indexer] = value instead\n",
      "\n",
      "See the caveats in the documentation: https://pandas.pydata.org/pandas-docs/stable/user_guide/indexing.html#returning-a-view-versus-a-copy\n",
      "  features_test[numeric] = scaler.transform(features_test[numeric])\n",
      "/opt/conda/lib/python3.9/site-packages/pandas/core/indexing.py:1738: SettingWithCopyWarning: \n",
      "A value is trying to be set on a copy of a slice from a DataFrame.\n",
      "Try using .loc[row_indexer,col_indexer] = value instead\n",
      "\n",
      "See the caveats in the documentation: https://pandas.pydata.org/pandas-docs/stable/user_guide/indexing.html#returning-a-view-versus-a-copy\n",
      "  self._setitem_single_column(loc, value[:, i].tolist(), pi)\n"
     ]
    },
    {
     "data": {
      "text/html": [
       "<div>\n",
       "<style scoped>\n",
       "    .dataframe tbody tr th:only-of-type {\n",
       "        vertical-align: middle;\n",
       "    }\n",
       "\n",
       "    .dataframe tbody tr th {\n",
       "        vertical-align: top;\n",
       "    }\n",
       "\n",
       "    .dataframe thead th {\n",
       "        text-align: right;\n",
       "    }\n",
       "</style>\n",
       "<table border=\"1\" class=\"dataframe\">\n",
       "  <thead>\n",
       "    <tr style=\"text-align: right;\">\n",
       "      <th></th>\n",
       "      <th>creditscore</th>\n",
       "      <th>age</th>\n",
       "      <th>tenure</th>\n",
       "      <th>balance</th>\n",
       "      <th>numofproducts</th>\n",
       "      <th>hascrcard</th>\n",
       "      <th>isactivemember</th>\n",
       "      <th>estimatedsalary</th>\n",
       "      <th>geography_Germany</th>\n",
       "      <th>geography_Spain</th>\n",
       "      <th>gender_Male</th>\n",
       "    </tr>\n",
       "  </thead>\n",
       "  <tbody>\n",
       "    <tr>\n",
       "      <th>657</th>\n",
       "      <td>-0.504497</td>\n",
       "      <td>1.429928</td>\n",
       "      <td>-1.140009</td>\n",
       "      <td>0.873883</td>\n",
       "      <td>0.820981</td>\n",
       "      <td>1</td>\n",
       "      <td>1</td>\n",
       "      <td>1.725255</td>\n",
       "      <td>1</td>\n",
       "      <td>0</td>\n",
       "      <td>0</td>\n",
       "    </tr>\n",
       "    <tr>\n",
       "      <th>2083</th>\n",
       "      <td>-1.195031</td>\n",
       "      <td>-1.429769</td>\n",
       "      <td>-1.140009</td>\n",
       "      <td>-1.219673</td>\n",
       "      <td>-0.914708</td>\n",
       "      <td>1</td>\n",
       "      <td>1</td>\n",
       "      <td>1.203665</td>\n",
       "      <td>0</td>\n",
       "      <td>0</td>\n",
       "      <td>1</td>\n",
       "    </tr>\n",
       "    <tr>\n",
       "      <th>3234</th>\n",
       "      <td>-1.267176</td>\n",
       "      <td>0.762665</td>\n",
       "      <td>-1.140009</td>\n",
       "      <td>-1.219673</td>\n",
       "      <td>-0.914708</td>\n",
       "      <td>1</td>\n",
       "      <td>0</td>\n",
       "      <td>-1.374743</td>\n",
       "      <td>0</td>\n",
       "      <td>0</td>\n",
       "      <td>1</td>\n",
       "    </tr>\n",
       "    <tr>\n",
       "      <th>1551</th>\n",
       "      <td>0.825039</td>\n",
       "      <td>1.239281</td>\n",
       "      <td>0.788940</td>\n",
       "      <td>-1.219673</td>\n",
       "      <td>0.820981</td>\n",
       "      <td>0</td>\n",
       "      <td>1</td>\n",
       "      <td>0.382306</td>\n",
       "      <td>0</td>\n",
       "      <td>1</td>\n",
       "      <td>0</td>\n",
       "    </tr>\n",
       "    <tr>\n",
       "      <th>2344</th>\n",
       "      <td>0.660135</td>\n",
       "      <td>0.953312</td>\n",
       "      <td>-0.175534</td>\n",
       "      <td>0.267087</td>\n",
       "      <td>-0.914708</td>\n",
       "      <td>1</td>\n",
       "      <td>0</td>\n",
       "      <td>-1.613578</td>\n",
       "      <td>1</td>\n",
       "      <td>0</td>\n",
       "      <td>0</td>\n",
       "    </tr>\n",
       "  </tbody>\n",
       "</table>\n",
       "</div>"
      ],
      "text/plain": [
       "      creditscore       age    tenure   balance  numofproducts  hascrcard  \\\n",
       "657     -0.504497  1.429928 -1.140009  0.873883       0.820981          1   \n",
       "2083    -1.195031 -1.429769 -1.140009 -1.219673      -0.914708          1   \n",
       "3234    -1.267176  0.762665 -1.140009 -1.219673      -0.914708          1   \n",
       "1551     0.825039  1.239281  0.788940 -1.219673       0.820981          0   \n",
       "2344     0.660135  0.953312 -0.175534  0.267087      -0.914708          1   \n",
       "\n",
       "      isactivemember  estimatedsalary  geography_Germany  geography_Spain  \\\n",
       "657                1         1.725255                  1                0   \n",
       "2083               1         1.203665                  0                0   \n",
       "3234               0        -1.374743                  0                0   \n",
       "1551               1         0.382306                  0                1   \n",
       "2344               0        -1.613578                  1                0   \n",
       "\n",
       "      gender_Male  \n",
       "657             0  \n",
       "2083            1  \n",
       "3234            1  \n",
       "1551            0  \n",
       "2344            0  "
      ]
     },
     "execution_count": 13,
     "metadata": {},
     "output_type": "execute_result"
    }
   ],
   "source": [
    "#Масштабирование численных признаков ТЕСТОВОЙ выборки\n",
    "features_test[numeric] = scaler.transform(features_test[numeric])\n",
    "features_test.head()"
   ]
  },
  {
   "cell_type": "markdown",
   "metadata": {},
   "source": [
    "## Исследование задачи"
   ]
  },
  {
   "cell_type": "code",
   "execution_count": 14,
   "metadata": {
    "scrolled": false
   },
   "outputs": [
    {
     "data": {
      "text/plain": [
       "<AxesSubplot:title={'center':'Соотношение оттока клиентов'}>"
      ]
     },
     "execution_count": 14,
     "metadata": {},
     "output_type": "execute_result"
    },
    {
     "data": {
      "image/png": "[encoded data removed]",
      "text/plain": [
       "<Figure size 432x432 with 1 Axes>"
      ]
     },
     "metadata": {
      "needs_background": "light"
     },
     "output_type": "display_data"
    }
   ],
   "source": [
    "#Построим гистограмму оттока клиентов для визуализации\n",
    "data['exited'].value_counts().plot(kind='bar', grid=True, figsize=(6,6), title='Соотношение оттока клиентов')"
   ]
  },
  {
   "cell_type": "code",
   "execution_count": 15,
   "metadata": {
    "scrolled": true
   },
   "outputs": [
    {
     "data": {
      "text/plain": [
       "0    0.796333\n",
       "1    0.203667\n",
       "Name: exited, dtype: float64"
      ]
     },
     "execution_count": 15,
     "metadata": {},
     "output_type": "execute_result"
    }
   ],
   "source": [
    "target_train.value_counts(normalize = 1)"
   ]
  },
  {
   "cell_type": "code",
   "execution_count": 16,
   "metadata": {},
   "outputs": [
    {
     "data": {
      "text/plain": [
       "0    0.796\n",
       "1    0.204\n",
       "Name: exited, dtype: float64"
      ]
     },
     "execution_count": 16,
     "metadata": {},
     "output_type": "execute_result"
    }
   ],
   "source": [
    "target_valid.value_counts(normalize = 1)"
   ]
  },
  {
   "cell_type": "markdown",
   "metadata": {},
   "source": [
    "В данных есть сильный дисбаланс. Результаты предсказаний, скорее всего, будут сильно склоняться в одну сторону."
   ]
  },
  {
   "cell_type": "code",
   "execution_count": 17,
   "metadata": {},
   "outputs": [
    {
     "name": "stdout",
     "output_type": "stream",
     "text": [
      "Точность: Дерево решений 0.79 Случайный лес 0.8685 Логистическая регрессия 0.811\n"
     ]
    }
   ],
   "source": [
    "#Точность моделей\n",
    "def model_accuracy(features_train, target_train, features_valid, target_valid):\n",
    "    DTC = DecisionTreeClassifier(random_state=12345)\n",
    "    DTC_score = DTC.fit(features_train, target_train).score(features_valid, target_valid)\n",
    "    \n",
    "    RFC = RandomForestClassifier(random_state=12345, n_estimators = 100)\n",
    "    RFC_score = RFC.fit(features_train, target_train).score(features_valid, target_valid)\n",
    "    \n",
    "    LR = LogisticRegression(solver = 'liblinear')\n",
    "    LR_score = LR.fit(features_train, target_train).score(features_valid, target_valid)\n",
    "    print(\"Точность: \" \"Дерево решений\", DTC_score, \"Случайный лес\", RFC_score, \"Логистическая регрессия\", LR_score)\n",
    "\n",
    "model_accuracy(features_train, target_train, features_valid, target_valid)"
   ]
  },
  {
   "cell_type": "code",
   "execution_count": 18,
   "metadata": {
    "scrolled": true
   },
   "outputs": [
    {
     "name": "stdout",
     "output_type": "stream",
     "text": [
      "Соотношение ответов: Дерево решений 0    0.78\n",
      "1    0.22\n",
      "dtype: float64 Случайный лес  0    0.8665\n",
      "1    0.1335\n",
      "dtype: float64 Логистическая регрессия 0    0.931\n",
      "1    0.069\n",
      "dtype: float64"
     ]
    }
   ],
   "source": [
    "#Соотношение ответов моделей\n",
    "def model_share(features_train, target_train, features_valid, target_valid):\n",
    "    DTC_model = DecisionTreeClassifier(random_state=12345)\n",
    "    DTC_model.fit(features_train, target_train)\n",
    "    DTC_share = pd.Series(DTC_model.predict(features_valid)).value_counts(normalize = 1)\n",
    "    \n",
    "    \n",
    "    \n",
    "    RFC_model = RandomForestClassifier(random_state=12345, n_estimators = 100)\n",
    "    RFC_model.fit(features_train, target_train)\n",
    "    RFC_share = pd.Series(RFC_model.predict(features_valid)).value_counts(normalize = 1)\n",
    "    \n",
    "    LR_model = LogisticRegression(solver = 'liblinear')\n",
    "    LR_model.fit(features_train, target_train)\n",
    "    LR_share = pd.Series(LR_model.predict(features_valid)).value_counts(normalize = 1)\n",
    "    \n",
    "    \n",
    "    print(\"Соотношение ответов: \" \"Дерево решений\", DTC_share, \"Случайный лес \", RFC_share, \"Логистическая регрессия\", LR_share , end='')\n",
    "model_share(features_train, target_train, features_valid, target_valid)    "
   ]
  },
  {
   "cell_type": "markdown",
   "metadata": {},
   "source": [
    "Нужно сравнить качество показаний с константной моделью. "
   ]
  },
  {
   "cell_type": "code",
   "execution_count": 19,
   "metadata": {},
   "outputs": [
    {
     "data": {
      "text/plain": [
       "(2000,)"
      ]
     },
     "execution_count": 19,
     "metadata": {},
     "output_type": "execute_result"
    }
   ],
   "source": [
    "#Константная модель\n",
    "target_constant = pd.Series([0]*len(target_valid))\n",
    "target_constant.shape"
   ]
  },
  {
   "cell_type": "code",
   "execution_count": 20,
   "metadata": {
    "scrolled": true
   },
   "outputs": [
    {
     "data": {
      "text/plain": [
       "0.796"
      ]
     },
     "execution_count": 20,
     "metadata": {},
     "output_type": "execute_result"
    }
   ],
   "source": [
    "accuracy_constant = accuracy_score(target_valid, target_constant)\n",
    "accuracy_constant"
   ]
  },
  {
   "cell_type": "code",
   "execution_count": 21,
   "metadata": {},
   "outputs": [
    {
     "data": {
      "text/plain": [
       "array([[1366,  226],\n",
       "       [ 194,  214]])"
      ]
     },
     "execution_count": 21,
     "metadata": {},
     "output_type": "execute_result"
    }
   ],
   "source": [
    "#Матрица ошибок для дерева решений\n",
    "DTC_model = DecisionTreeClassifier(random_state=12345)\n",
    "DTC_model.fit(features_train, target_train)\n",
    "DTC_prediction = DTC_model.predict(features_valid)\n",
    "confusion_matrix(target_valid, DTC_prediction)"
   ]
  },
  {
   "cell_type": "markdown",
   "metadata": {},
   "source": [
    "Дерево решений выдает большое количество ложно-позитивных предсказаний. Нужно изучить F1-меру полноту и точность."
   ]
  },
  {
   "cell_type": "code",
   "execution_count": 22,
   "metadata": {},
   "outputs": [
    {
     "name": "stdout",
     "output_type": "stream",
     "text": [
      "Точность 0.4863636363636364\n",
      "Полнота 0.5245098039215687\n",
      "AUC-ROC 0.6912750024632969\n",
      "F1-мера 0.5047169811320754\n"
     ]
    }
   ],
   "source": [
    "#Функция для подсчета точности, полноты, AUC-ROC, F1-меры\n",
    "def scores(target_valid, prediction):\n",
    "    print(\"Точность\", precision_score(target_valid, prediction))\n",
    "    print(\"Полнота\" , recall_score(target_valid, prediction))\n",
    "    \n",
    "    print(\"AUC-ROC\", roc_auc_score(target_valid, prediction))\n",
    "    print(\"F1-мера\", f1_score(target_valid, prediction))\n",
    "scores(target_valid, DTC_prediction)"
   ]
  },
  {
   "cell_type": "markdown",
   "metadata": {},
   "source": [
    "Качество модели низкое, F1-мера выдает низкое значение"
   ]
  },
  {
   "cell_type": "code",
   "execution_count": 23,
   "metadata": {
    "scrolled": true
   },
   "outputs": [
    {
     "data": {
      "text/plain": [
       "array([[1531,   61],\n",
       "       [ 202,  206]])"
      ]
     },
     "execution_count": 23,
     "metadata": {},
     "output_type": "execute_result"
    }
   ],
   "source": [
    "#Матрица ошибок для случайного леса\n",
    "RFC_model = RandomForestClassifier(random_state=12345, n_estimators=100)\n",
    "RFC_model.fit(features_train, target_train)\n",
    "RFC_prediction = RFC_model.predict(features_valid)\n",
    "confusion_matrix(target_valid, RFC_prediction)"
   ]
  },
  {
   "cell_type": "markdown",
   "metadata": {},
   "source": [
    "Модель случайного леса выдает больше качественных предсказаний, но тоже выдает бОльшее количество ложно-положительных предсказаний."
   ]
  },
  {
   "cell_type": "code",
   "execution_count": 24,
   "metadata": {
    "scrolled": true
   },
   "outputs": [
    {
     "name": "stdout",
     "output_type": "stream",
     "text": [
      "Точность 0.7715355805243446\n",
      "Полнота 0.5049019607843137\n",
      "AUC-ROC 0.7332926889348704\n",
      "F1-мера 0.6103703703703703\n"
     ]
    }
   ],
   "source": [
    "scores(target_valid, RFC_prediction)"
   ]
  },
  {
   "cell_type": "markdown",
   "metadata": {},
   "source": [
    "Качество модели низкое, F1-мера выдает низкое значение"
   ]
  },
  {
   "cell_type": "code",
   "execution_count": 25,
   "metadata": {
    "scrolled": true
   },
   "outputs": [
    {
     "data": {
      "text/plain": [
       "array([[1538,   54],\n",
       "       [ 324,   84]])"
      ]
     },
     "execution_count": 25,
     "metadata": {},
     "output_type": "execute_result"
    }
   ],
   "source": [
    "#Матрица ошибок для Логистической регрессии\n",
    "LR_model = LogisticRegression(solver = 'liblinear')\n",
    "LR_model.fit(features_train, target_train)\n",
    "LR_prediction = LR_model.predict(features_valid)\n",
    "confusion_matrix(target_valid, LR_prediction)"
   ]
  },
  {
   "cell_type": "code",
   "execution_count": 26,
   "metadata": {
    "scrolled": true
   },
   "outputs": [
    {
     "data": {
      "text/plain": [
       "0.787586831214898"
      ]
     },
     "execution_count": 26,
     "metadata": {},
     "output_type": "execute_result"
    }
   ],
   "source": [
    "#AUC-ROC для логистической регрессии\n",
    "LR_probabilities_one_valid = LR_model.predict_proba(features_valid)[:, 1]\n",
    "LR_AUC = roc_auc_score(target_valid, LR_probabilities_one_valid)\n",
    "LR_AUC"
   ]
  },
  {
   "cell_type": "code",
   "execution_count": 27,
   "metadata": {},
   "outputs": [
    {
     "data": {
      "image/png": "[encoded data removed]",
      "text/plain": [
       "<Figure size 432x288 with 1 Axes>"
      ]
     },
     "metadata": {
      "needs_background": "light"
     },
     "output_type": "display_data"
    }
   ],
   "source": [
    "fpr, tpr, thresholds = roc_curve(target_valid, LR_probabilities_one_valid) \n",
    "\n",
    "plt.figure()\n",
    "plt.plot(fpr, tpr)\n",
    "plt.plot([0, 1], [0, 1], linestyle='--')\n",
    "plt.xlim([0.0, 1.0])\n",
    "plt.ylim([0.0, 1.0])\n",
    "plt.xlabel('False Positive Rate')\n",
    "plt.ylabel('True Positive Rate')\n",
    "plt.title('ROC-кривая')\n",
    "plt.show()"
   ]
  },
  {
   "cell_type": "markdown",
   "metadata": {},
   "source": [
    "## Борьба с дисбалансом"
   ]
  },
  {
   "cell_type": "code",
   "execution_count": 28,
   "metadata": {},
   "outputs": [
    {
     "name": "stdout",
     "output_type": "stream",
     "text": [
      "AUC-ROC 0.7937758646172037\n",
      "Score 0.7325\n"
     ]
    }
   ],
   "source": [
    "#Обучим логистическую регрессию, сбалансировав классы\n",
    "LR_model = LogisticRegression(solver='liblinear', class_weight='balanced')\n",
    "LR_model.fit(features_train, target_train)\n",
    "LR_probabilities_one_valid_weight = LR_model.predict_proba(features_valid)[:, 1]\n",
    "print(\"AUC-ROC\", roc_auc_score(target_valid, LR_probabilities_one_valid_weight))\n",
    "print(\"Score\", LR_model.score(features_valid, target_valid))"
   ]
  },
  {
   "cell_type": "code",
   "execution_count": 29,
   "metadata": {
    "scrolled": true
   },
   "outputs": [
    {
     "data": {
      "image/png": "[encoded data removed]",
      "text/plain": [
       "<Figure size 432x288 with 1 Axes>"
      ]
     },
     "metadata": {
      "needs_background": "light"
     },
     "output_type": "display_data"
    }
   ],
   "source": [
    "fpr, tpr, thresholds = roc_curve(target_valid, LR_probabilities_one_valid_weight) \n",
    "\n",
    "plt.figure()\n",
    "plt.plot(fpr, tpr)\n",
    "plt.plot([0, 1], [0, 1], linestyle='--')\n",
    "plt.xlim([0.0, 1.0])\n",
    "plt.ylim([0.0, 1.0])\n",
    "plt.xlabel('False Positive Rate')\n",
    "plt.ylabel('True Positive Rate')\n",
    "plt.title('ROC-кривая')\n",
    "plt.show()"
   ]
  },
  {
   "cell_type": "markdown",
   "metadata": {},
   "source": [
    "Точность предсказаний не увеличилась. Высокая точность модели объясняется высокой долей негативных ответов в валидационной выборке."
   ]
  },
  {
   "cell_type": "markdown",
   "metadata": {},
   "source": [
    "Чтобы сбалансировать выборки нужно увеличить количество положительных ответов в, примерно, 4 раза. Ранее мы выяснили, что соотношение отрицательных ответов и положительных примерно 4 к 1 или 80% к 20%.     \n",
    "Чтобы увеличить, необходимо:    \n",
    "• Разделить обучающую выборку на отрицательные и положительные овтеты    \n",
    "• Несколько раз продублировать положительные    \n",
    "• Создать новую обучающую выборку     \n",
    "• Перемешать данные    \n",
    "• Обучить новые модели   "
   ]
  },
  {
   "cell_type": "code",
   "execution_count": 30,
   "metadata": {},
   "outputs": [
    {
     "data": {
      "text/plain": [
       "0    0.796333\n",
       "1    0.203667\n",
       "Name: exited, dtype: float64"
      ]
     },
     "execution_count": 30,
     "metadata": {},
     "output_type": "execute_result"
    }
   ],
   "source": [
    "target_train.value_counts(normalize=1)"
   ]
  },
  {
   "cell_type": "code",
   "execution_count": 31,
   "metadata": {},
   "outputs": [],
   "source": [
    "#Функция для увеличение класса в выборке\n",
    "def upsample(features, target, repeat, up_class):\n",
    "    features_zeros = features[target == 0]\n",
    "    features_ones = features[target == 1]\n",
    "    target_zeros = target[target == 0]\n",
    "    target_ones = target[target == 1]\n",
    "    \n",
    "    if up_class == 1:\n",
    "        features_upsampled = pd.concat([features_zeros] + [features_ones] * repeat)\n",
    "        target_upsampled = pd.concat([target_zeros] + [target_ones] * repeat)\n",
    "        features_upsampled, target_upsampled = shuffle(\n",
    "        features_upsampled, target_upsampled, random_state=12345)\n",
    "    elif up_class == 0:\n",
    "        features_upsampled = pd.concat([features_zeros]* repeat + [features_ones] )\n",
    "        target_upsampled = pd.concat([target_zeros]* repeat + [target_ones] )\n",
    "        features_upsampled, target_upsampled = shuffle(\n",
    "        features_upsampled, target_upsampled, random_state=12345)\n",
    "    else:\n",
    "        features_upsampled = 0\n",
    "        target_upsampled = 0 \n",
    "    return features_upsampled, target_upsampled"
   ]
  },
  {
   "cell_type": "code",
   "execution_count": 32,
   "metadata": {},
   "outputs": [
    {
     "name": "stdout",
     "output_type": "stream",
     "text": [
      "0    0.939904\n",
      "1    0.060096\n",
      "Name: exited, dtype: float64\n"
     ]
    }
   ],
   "source": [
    "#Проверим работу функции на верном значении\n",
    "features_train_upsampled, target_train_upsampled = upsample(features_train, target_train, 4, 0)\n",
    "print(target_train_upsampled.value_counts(normalize = 1))"
   ]
  },
  {
   "cell_type": "code",
   "execution_count": 33,
   "metadata": {
    "scrolled": false
   },
   "outputs": [
    {
     "name": "stdout",
     "output_type": "stream",
     "text": [
      "1    0.50569\n",
      "0    0.49431\n",
      "Name: exited, dtype: float64\n"
     ]
    }
   ],
   "source": [
    "#Проверим работу функции на неверном значении\n",
    "features_train_upsampled, target_train_upsampled = upsample(features_train, target_train, 4, 1)\n",
    "print(target_train_upsampled.value_counts(normalize = 1))"
   ]
  },
  {
   "cell_type": "markdown",
   "metadata": {},
   "source": [
    "Сбалансированное кол-во данных получено. Двигаемся дальше. Обучим модель на новых данных."
   ]
  },
  {
   "cell_type": "code",
   "execution_count": 34,
   "metadata": {
    "scrolled": true
   },
   "outputs": [
    {
     "name": "stdout",
     "output_type": "stream",
     "text": [
      "Точность: Дерево решений 0.801 Случайный лес 0.851 Логистическая регрессия 0.7255\n"
     ]
    }
   ],
   "source": [
    "#Точность модели на сбалансированной выборке\n",
    "model_accuracy(features_train_upsampled, target_train_upsampled, features_valid, target_valid)"
   ]
  },
  {
   "cell_type": "markdown",
   "metadata": {},
   "source": [
    "Ранее:    \n",
    "Точность: Дерево решений 0.79 Случайный лес 0.8685 Логистическая регрессия 0.811   \n",
    "\n",
    "Точность практически не изменилась"
   ]
  },
  {
   "cell_type": "code",
   "execution_count": 35,
   "metadata": {
    "scrolled": true
   },
   "outputs": [
    {
     "name": "stdout",
     "output_type": "stream",
     "text": [
      "Точность 0.5123152709359606\n",
      "Полнота 0.5098039215686274\n",
      "AUC-ROC 0.6927160311360725\n",
      "F1-мера 0.5110565110565111\n"
     ]
    }
   ],
   "source": [
    "#Качество модели на сбалансированной выборке\n",
    "#Решающее дерево\n",
    "DTC_model_upsampled = DecisionTreeClassifier(random_state=12345)\n",
    "DTC_model_upsampled.fit(features_train_upsampled, target_train_upsampled)\n",
    "DTC_prediction_upsampled = DTC_model_upsampled.predict(features_valid)\n",
    "scores(target_valid, DTC_prediction_upsampled)"
   ]
  },
  {
   "cell_type": "code",
   "execution_count": 36,
   "metadata": {},
   "outputs": [
    {
     "name": "stdout",
     "output_type": "stream",
     "text": [
      "Точность 0.6580459770114943\n",
      "Полнота 0.5612745098039216\n",
      "AUC-ROC 0.7432628830426643\n",
      "F1-мера 0.6058201058201059\n"
     ]
    }
   ],
   "source": [
    "#Качество модели на сбалансированной выборке\n",
    "#Случайный лес\n",
    "RFC_model_upsampled = RandomForestClassifier(random_state=12345, n_estimators = 100)\n",
    "RFC_model_upsampled.fit(features_train_upsampled, target_train_upsampled)\n",
    "RFC_prediction_upsampled = RFC_model_upsampled.predict(features_valid)\n",
    "scores(target_valid, RFC_prediction_upsampled)"
   ]
  },
  {
   "cell_type": "code",
   "execution_count": 37,
   "metadata": {
    "scrolled": true
   },
   "outputs": [
    {
     "name": "stdout",
     "output_type": "stream",
     "text": [
      "Точность 0.40562248995983935\n",
      "Полнота 0.7426470588235294\n",
      "AUC-ROC 0.7318762932308602\n",
      "F1-мера 0.5246753246753246\n"
     ]
    }
   ],
   "source": [
    "#Качество модели на сбалансированной выборке\n",
    "#Логистическая регрессия\n",
    "LR_model_upsampled = LogisticRegression(solver = 'liblinear')\n",
    "LR_model_upsampled.fit(features_train_upsampled, target_train_upsampled)\n",
    "LR_prediction_upsampled = LR_model_upsampled.predict(features_valid)\n",
    "scores(target_valid, LR_prediction_upsampled)"
   ]
  },
  {
   "cell_type": "markdown",
   "metadata": {},
   "source": [
    "Показатели моделей увеличились во всех случаях. Лучшим результатом обаладает модель RandomForestClassifier(случайный лес).    \n",
    "F1-мера уже выше целевого показателя в 0.59 и составляет F1-мера 0.6058201058201059"
   ]
  },
  {
   "cell_type": "markdown",
   "metadata": {},
   "source": [
    "## Тестирование модели"
   ]
  },
  {
   "cell_type": "code",
   "execution_count": 38,
   "metadata": {},
   "outputs": [
    {
     "name": "stdout",
     "output_type": "stream",
     "text": [
      "max_depth: 1 F1: 0.5411365564037319\n",
      "max_depth: 2 F1: 0.5878070973612375\n",
      "max_depth: 3 F1: 0.5919854280510017\n",
      "max_depth: 4 F1: 0.6118546845124283\n",
      "max_depth: 5 F1: 0.6263414634146341\n",
      "max_depth: 6 F1: 0.6274900398406373\n",
      "max_depth: 7 F1: 0.6339468302658487\n",
      "max_depth: 8 F1: 0.632016632016632\n",
      "max_depth: 9 F1: 0.6355748373101953\n",
      "max_depth: 10 F1: 0.64293659621802\n",
      "max_depth: 11 F1: 0.6441860465116278\n",
      "max_depth: 12 F1: 0.6422668240850059\n",
      "max_depth: 13 F1: 0.6301703163017031\n",
      "max_depth: 14 F1: 0.6332916145181477\n",
      "max_depth: 15 F1: 0.6287878787878788\n",
      "max_depth: 16 F1: 0.6133682830930538\n",
      "max_depth: 17 F1: 0.6178010471204188\n",
      "max_depth: 18 F1: 0.6254927726675427\n",
      "max_depth: 19 F1: 0.6178428761651131\n",
      "CPU times: user 8.19 s, sys: 66.7 ms, total: 8.26 s\n",
      "Wall time: 8.33 s\n"
     ]
    }
   ],
   "source": [
    "%%time\n",
    "#Ищем лучший параметр max_depth\n",
    "for max_depth in range(1,20,1):\n",
    "    RFC = RandomForestClassifier(class_weight='balanced', max_depth = max_depth, n_estimators=50, random_state=12345).fit(features_train_upsampled,target_train_upsampled)\n",
    "    prediction = RFC.predict(features_valid)\n",
    "    print('max_depth:', max_depth,'F1:', f1_score(target_valid, prediction))"
   ]
  },
  {
   "cell_type": "markdown",
   "metadata": {},
   "source": [
    "Лучшее значение при max_depth: 11 F1: 0.6441860465116278"
   ]
  },
  {
   "cell_type": "code",
   "execution_count": 39,
   "metadata": {},
   "outputs": [
    {
     "name": "stdout",
     "output_type": "stream",
     "text": [
      "est 1 F1: 0.5068762278978389\n",
      "est 2 F1: 0.5210810810810811\n",
      "est 3 F1: 0.5758835758835759\n",
      "est 4 F1: 0.57204767063922\n",
      "est 5 F1: 0.5944206008583691\n",
      "est 6 F1: 0.596949891067538\n",
      "est 7 F1: 0.6019417475728155\n",
      "est 8 F1: 0.5984427141268076\n",
      "est 9 F1: 0.602436323366556\n",
      "est 10 F1: 0.5939933259176863\n",
      "est 11 F1: 0.6011173184357542\n",
      "est 12 F1: 0.609375\n",
      "est 13 F1: 0.6098654708520179\n",
      "est 14 F1: 0.620380739081747\n",
      "est 15 F1: 0.6200676437429538\n",
      "est 16 F1: 0.6139954853273137\n",
      "est 17 F1: 0.6212290502793296\n",
      "est 18 F1: 0.6207674943566592\n",
      "est 19 F1: 0.6240179573512907\n",
      "est 20 F1: 0.6200676437429538\n",
      "est 21 F1: 0.6214689265536723\n",
      "est 22 F1: 0.6204545454545454\n",
      "est 23 F1: 0.6244343891402716\n",
      "est 24 F1: 0.6238738738738739\n",
      "est 25 F1: 0.6272727272727273\n",
      "est 26 F1: 0.6214689265536723\n",
      "est 27 F1: 0.631578947368421\n",
      "est 28 F1: 0.6264236902050114\n",
      "est 29 F1: 0.6288308740068104\n",
      "est 30 F1: 0.6302616609783847\n",
      "est 31 F1: 0.6316989737742302\n",
      "est 32 F1: 0.632420091324201\n",
      "est 33 F1: 0.6316989737742302\n",
      "est 34 F1: 0.6355353075170842\n",
      "est 35 F1: 0.6407322654462243\n",
      "est 36 F1: 0.6378132118451025\n",
      "est 37 F1: 0.6391752577319588\n",
      "est 38 F1: 0.6406429391504018\n",
      "est 39 F1: 0.6384439359267734\n",
      "est 40 F1: 0.643020594965675\n",
      "est 41 F1: 0.6407322654462243\n",
      "est 42 F1: 0.6460481099656357\n",
      "est 43 F1: 0.6491428571428572\n",
      "est 44 F1: 0.642939150401837\n",
      "est 45 F1: 0.6466512702078523\n",
      "est 46 F1: 0.6480836236933798\n",
      "est 47 F1: 0.6513233601841196\n",
      "est 48 F1: 0.6482122260668973\n",
      "est 49 F1: 0.6442641946697567\n",
      "est 50 F1: 0.6441860465116278\n",
      "CPU times: user 12.6 s, sys: 59.2 ms, total: 12.7 s\n",
      "Wall time: 12.9 s\n"
     ]
    }
   ],
   "source": [
    "%%time\n",
    "#Ищем лучший параметр n_estimators \n",
    "for est in range(1,51,1):\n",
    "    RFC = RandomForestClassifier(class_weight='balanced', max_depth = 11, n_estimators = est, random_state=12345).fit(features_train_upsampled,target_train_upsampled)\n",
    "    prediction = RFC.predict(features_valid)\n",
    "    print('est', est, 'F1:', f1_score(target_valid, prediction))"
   ]
  },
  {
   "cell_type": "markdown",
   "metadata": {},
   "source": [
    "При прошлом значении F1-мера 0.6058201058201059, получилось увеличить значение при max_depth: 11, n_estimators: 47;  F1: 0.6513233601841196. "
   ]
  },
  {
   "cell_type": "code",
   "execution_count": 40,
   "metadata": {},
   "outputs": [
    {
     "data": {
      "text/plain": [
       "RandomForestClassifier(class_weight='balanced', max_depth=11, n_estimators=47,\n",
       "                       random_state=12345)"
      ]
     },
     "execution_count": 40,
     "metadata": {},
     "output_type": "execute_result"
    }
   ],
   "source": [
    "RFC_model_final = RandomForestClassifier(class_weight='balanced', max_depth = 11, n_estimators = 47, random_state=12345)\n",
    "RFC_model_final.fit(features_train_upsampled, target_train_upsampled)"
   ]
  },
  {
   "cell_type": "code",
   "execution_count": 43,
   "metadata": {},
   "outputs": [
    {
     "name": "stdout",
     "output_type": "stream",
     "text": [
      "Точность 0.613882863340564\n",
      "Полнота 0.6936274509803921\n",
      "AUC-ROC 0.7909092028771307\n",
      "F1-мера 0.6513233601841196\n"
     ]
    }
   ],
   "source": [
    "RFC_model_final_prediction = RFC_model_final.predict(features_valid)\n",
    "scores(target_valid, RFC_model_final_prediction)"
   ]
  },
  {
   "cell_type": "code",
   "execution_count": 44,
   "metadata": {},
   "outputs": [
    {
     "data": {
      "text/plain": [
       "0    2000\n",
       "dtype: int64"
      ]
     },
     "execution_count": 44,
     "metadata": {},
     "output_type": "execute_result"
    }
   ],
   "source": [
    "#Проверим финальную модель на адекватность\n",
    "target_predict_constant = pd.Series([0]*len(target_valid))\n",
    "target_predict_constant.value_counts()"
   ]
  },
  {
   "cell_type": "code",
   "execution_count": 45,
   "metadata": {
    "scrolled": true
   },
   "outputs": [
    {
     "name": "stdout",
     "output_type": "stream",
     "text": [
      "accuracy константой модели: 0.796\n",
      "accuracy финальной модели: 0.8485\n"
     ]
    }
   ],
   "source": [
    "#Сравним точность Константной модели и Финальной\n",
    "print('accuracy константой модели:', accuracy_score(target_valid, target_predict_constant))\n",
    "print('accuracy финальной модели:', accuracy_score(target_valid, RFC_model_final_prediction))"
   ]
  },
  {
   "cell_type": "markdown",
   "metadata": {},
   "source": [
    "Accuracy финальной модели выше, чем у константной. Модель можно считать адекватной."
   ]
  },
  {
   "cell_type": "code",
   "execution_count": 46,
   "metadata": {
    "scrolled": true
   },
   "outputs": [
    {
     "name": "stdout",
     "output_type": "stream",
     "text": [
      "Точность 0.5673289183222958\n",
      "Полнота 0.6314496314496314\n",
      "AUC-ROC 0.7542056694599067\n",
      "F1-мера 0.5976744186046512\n"
     ]
    }
   ],
   "source": [
    "#Приступим к тестированию на тестовых \n",
    "RFC_model_final_prediction = RFC_model_final.predict(features_test)\n",
    "scores(target_test, RFC_model_final_prediction)"
   ]
  },
  {
   "cell_type": "code",
   "execution_count": 48,
   "metadata": {},
   "outputs": [
    {
     "data": {
      "image/png": "[encoded data removed]",
      "text/plain": [
       "<Figure size 432x288 with 1 Axes>"
      ]
     },
     "metadata": {
      "needs_background": "light"
     },
     "output_type": "display_data"
    }
   ],
   "source": [
    "final_model_probabilities_one = RFC_model.predict_proba(features_test)[:, 1]\n",
    "\n",
    "fpr, tpr, thresholds = roc_curve(target_test, final_model_probabilities_one) \n",
    "\n",
    "plt.figure()\n",
    "plt.plot(fpr, tpr)\n",
    "plt.plot([0, 1], [0, 1], linestyle='--')\n",
    "plt.xlim([0.0, 1.0])\n",
    "plt.ylim([0.0, 1.0])\n",
    "plt.xlabel('False Positive Rate')\n",
    "plt.ylabel('True Positive Rate')\n",
    "plt.title('ROC-кривая')\n",
    "plt.show()"
   ]
  },
  {
   "cell_type": "markdown",
   "metadata": {},
   "source": [
    "### Исследование метрики AUC-ROC"
   ]
  },
  {
   "cell_type": "code",
   "execution_count": 41,
   "metadata": {
    "scrolled": true
   },
   "outputs": [
    {
     "name": "stdout",
     "output_type": "stream",
     "text": [
      "AUC-ROC Случайный лес: 0.8669758104246724\n",
      "AUC-ROC Дерево решения: 0.6927160311360725\n",
      "AUC-ROC Логистическая регрессия: 0.7938220514336388\n"
     ]
    }
   ],
   "source": [
    "#RandomForestClassifier\n",
    "probabilities_forest = RFC.predict_proba(features_valid)\n",
    "probabilities_one_valid_forest = probabilities_forest[:, 1]\n",
    "fpr_forest, tpr_forest, thresholds = roc_curve(target_valid, probabilities_one_valid_forest) \n",
    "#plt.figure()\n",
    "#plt.plot(fpr_forest, tpr_forest)\n",
    "\n",
    "#DecisionTreeClassifier\n",
    "probabilities_tree = DTC_model_upsampled.predict_proba(features_valid)\n",
    "probabilities_one_valid_tree = probabilities_tree[:, 1]\n",
    "fpr_tree, tpr_tree, thresholds = roc_curve(target_valid, probabilities_one_valid_tree) \n",
    "#plt.figure()\n",
    "#plt.plot(fpr_tree, tpr_tree)\n",
    "\n",
    "#LogisticRegression\n",
    "probabilities_logistic = LR_model_upsampled.predict_proba(features_valid)\n",
    "probabilities_one_valid_logistic = probabilities_logistic[:, 1]\n",
    "fpr_logistic, tpr_logistic, thresholds = roc_curve(target_valid, probabilities_one_valid_logistic) \n",
    "#plt.figure()\n",
    "#plt.plot(fpr_logistic, tpr_logistic)\n",
    "\n",
    "\n",
    "\n",
    "auc_roc_forest = roc_auc_score(target_valid, probabilities_one_valid_forest)\n",
    "auc_roc_tree = roc_auc_score(target_valid, probabilities_one_valid_tree)\n",
    "auc_roc_logistic = roc_auc_score(target_valid, probabilities_one_valid_logistic)\n",
    "print(f'AUC-ROC Случайный лес: {auc_roc_forest}')\n",
    "print(f'AUC-ROC Дерево решения: {auc_roc_tree}')\n",
    "print(f'AUC-ROC Логистическая регрессия: {auc_roc_logistic}')"
   ]
  },
  {
   "cell_type": "code",
   "execution_count": 42,
   "metadata": {},
   "outputs": [
    {
     "data": {
      "text/plain": [
       "<Figure size 432x288 with 0 Axes>"
      ]
     },
     "metadata": {},
     "output_type": "display_data"
    },
    {
     "data": {
      "image/png": "[encoded data removed]",
      "text/plain": [
       "<Figure size 720x504 with 1 Axes>"
      ]
     },
     "metadata": {
      "needs_background": "light"
     },
     "output_type": "display_data"
    }
   ],
   "source": [
    "plt.figure()\n",
    "\n",
    "plt.figure(figsize=(10,7))\n",
    "plt.plot([0, 1], [0, 1], linestyle='--')\n",
    "plt.xlim([0.0, 1.0])\n",
    "plt.ylim([0.0, 1.0])\n",
    "plt.plot(fpr_forest, tpr_forest)\n",
    "plt.plot(fpr_logistic, tpr_logistic)\n",
    "plt.plot(fpr_tree, tpr_tree)\n",
    "plt.xlabel('False Positive Rate')\n",
    "plt.ylabel('True Positive Rate')\n",
    "plt.title('ROC-кривая')\n",
    "plt.legend(('Случайная модель','Случайный лес','Логистическая регрессия','Дерево решения'),\n",
    "           loc= 'upper left') \n",
    "plt.show()"
   ]
  },
  {
   "cell_type": "markdown",
   "metadata": {},
   "source": [
    "Лучшее значение AUC-ROC у RandomForestClassifier(случайный лес) → 0.8669758104246724"
   ]
  },
  {
   "cell_type": "markdown",
   "metadata": {},
   "source": [
    "## Вывод"
   ]
  },
  {
   "cell_type": "markdown",
   "metadata": {},
   "source": [
    "Рассмотрев данные тремя моделями с учетом и без дисбаланса, категориальных и стандартизированных данных можно сделать вывод, что модель с лучшим показателем F1-меры → Случайный лес.     \n",
    "При значениях max_depth = 11 и n_estimators = 47, удалось получить F1-меру равную 0.6513233601841196."
   ]
  },
  {
   "cell_type": "markdown",
   "metadata": {},
   "source": [
    "## Чек-лист готовности проекта"
   ]
  },
  {
   "cell_type": "markdown",
   "metadata": {},
   "source": [
    "Поставьте 'x' в выполненных пунктах. Далее нажмите Shift+Enter."
   ]
  },
  {
   "cell_type": "markdown",
   "metadata": {},
   "source": [
    "- [x]  Jupyter Notebook открыт\n",
    "- [x]  Весь код выполняется без ошибок\n",
    "- [x]  Ячейки с кодом расположены в порядке исполнения\n",
    "- [x]  Выполнен шаг 1: данные подготовлены\n",
    "- [x]  Выполнен шаг 2: задача исследована\n",
    "    - [x]  Исследован баланс классов\n",
    "    - [x]  Изучены модели без учёта дисбаланса\n",
    "    - [x]  Написаны выводы по результатам исследования\n",
    "- [x]  Выполнен шаг 3: учтён дисбаланс\n",
    "    - [x]  Применено несколько способов борьбы с дисбалансом\n",
    "    - [x]  Написаны выводы по результатам исследования\n",
    "- [x]  Выполнен шаг 4: проведено тестирование\n",
    "- [x]  Удалось достичь *F1*-меры не менее 0.59\n",
    "- [x]  Исследована метрика *AUC-ROC*"
   ]
  }
 ],
 "metadata": {
  "ExecuteTimeLog": [
   {
    "duration": 1418,
    "start_time": "2022-08-21T08:17:49.547Z"
   },
   {
    "duration": 145,
    "start_time": "2022-08-21T08:18:29.760Z"
   },
   {
    "duration": 78,
    "start_time": "2022-08-21T08:19:21.526Z"
   },
   {
    "duration": 47,
    "start_time": "2022-08-21T08:19:39.332Z"
   },
   {
    "duration": 12,
    "start_time": "2022-08-21T08:30:18.758Z"
   },
   {
    "duration": 16,
    "start_time": "2022-08-21T08:31:15.727Z"
   },
   {
    "duration": 4,
    "start_time": "2022-08-21T08:32:00.860Z"
   },
   {
    "duration": 12,
    "start_time": "2022-08-21T08:32:09.561Z"
   },
   {
    "duration": 212,
    "start_time": "2022-08-21T08:34:37.225Z"
   },
   {
    "duration": 108,
    "start_time": "2022-08-21T08:36:03.519Z"
   },
   {
    "duration": 109,
    "start_time": "2022-08-21T08:36:11.873Z"
   },
   {
    "duration": 115,
    "start_time": "2022-08-21T08:36:16.743Z"
   },
   {
    "duration": 9,
    "start_time": "2022-08-21T08:43:25.499Z"
   },
   {
    "duration": 12,
    "start_time": "2022-08-21T08:43:30.342Z"
   },
   {
    "duration": 6,
    "start_time": "2022-08-21T08:48:22.431Z"
   },
   {
    "duration": 5,
    "start_time": "2022-08-21T08:49:32.791Z"
   },
   {
    "duration": 113,
    "start_time": "2022-08-21T08:53:44.076Z"
   },
   {
    "duration": 14,
    "start_time": "2022-08-21T08:58:19.687Z"
   },
   {
    "duration": 12,
    "start_time": "2022-08-21T08:58:22.702Z"
   },
   {
    "duration": 65,
    "start_time": "2022-08-21T09:01:45.105Z"
   },
   {
    "duration": 11,
    "start_time": "2022-08-21T09:10:32.855Z"
   },
   {
    "duration": 8,
    "start_time": "2022-08-21T09:17:07.207Z"
   },
   {
    "duration": 4,
    "start_time": "2022-08-21T09:17:21.382Z"
   },
   {
    "duration": 55,
    "start_time": "2022-08-21T09:17:21.387Z"
   },
   {
    "duration": 12,
    "start_time": "2022-08-21T09:17:21.444Z"
   },
   {
    "duration": 16,
    "start_time": "2022-08-21T09:17:21.458Z"
   },
   {
    "duration": 11,
    "start_time": "2022-08-21T09:17:21.476Z"
   },
   {
    "duration": 22,
    "start_time": "2022-08-21T09:17:21.489Z"
   },
   {
    "duration": 16,
    "start_time": "2022-08-21T09:17:21.512Z"
   },
   {
    "duration": 11,
    "start_time": "2022-08-21T09:17:21.530Z"
   },
   {
    "duration": 7,
    "start_time": "2022-08-21T09:17:21.543Z"
   },
   {
    "duration": 139,
    "start_time": "2022-08-21T09:17:21.551Z"
   },
   {
    "duration": 20,
    "start_time": "2022-08-21T09:19:51.218Z"
   },
   {
    "duration": 19,
    "start_time": "2022-08-21T09:21:21.725Z"
   },
   {
    "duration": 19,
    "start_time": "2022-08-21T09:22:00.121Z"
   },
   {
    "duration": 18,
    "start_time": "2022-08-21T09:22:55.252Z"
   },
   {
    "duration": 17,
    "start_time": "2022-08-21T09:23:47.416Z"
   },
   {
    "duration": 109,
    "start_time": "2022-08-21T09:24:49.441Z"
   },
   {
    "duration": 4,
    "start_time": "2022-08-21T09:25:29.010Z"
   },
   {
    "duration": 50,
    "start_time": "2022-08-21T09:25:29.016Z"
   },
   {
    "duration": 13,
    "start_time": "2022-08-21T09:25:29.067Z"
   },
   {
    "duration": 15,
    "start_time": "2022-08-21T09:25:29.082Z"
   },
   {
    "duration": 13,
    "start_time": "2022-08-21T09:25:29.100Z"
   },
   {
    "duration": 11,
    "start_time": "2022-08-21T09:25:29.114Z"
   },
   {
    "duration": 18,
    "start_time": "2022-08-21T09:25:29.127Z"
   },
   {
    "duration": 14,
    "start_time": "2022-08-21T09:25:29.147Z"
   },
   {
    "duration": 8,
    "start_time": "2022-08-21T09:25:29.162Z"
   },
   {
    "duration": 54,
    "start_time": "2022-08-21T09:25:29.172Z"
   },
   {
    "duration": 16,
    "start_time": "2022-08-21T09:25:29.228Z"
   },
   {
    "duration": 19,
    "start_time": "2022-08-21T09:25:29.246Z"
   },
   {
    "duration": 138,
    "start_time": "2022-08-21T09:25:29.267Z"
   },
   {
    "duration": 818,
    "start_time": "2022-08-21T09:30:26.694Z"
   },
   {
    "duration": 779,
    "start_time": "2022-08-21T09:30:39.748Z"
   },
   {
    "duration": 826,
    "start_time": "2022-08-21T09:32:02.285Z"
   },
   {
    "duration": 803,
    "start_time": "2022-08-21T09:32:30.916Z"
   },
   {
    "duration": 5,
    "start_time": "2022-08-21T09:34:21.705Z"
   },
   {
    "duration": 6,
    "start_time": "2022-08-21T09:34:38.542Z"
   },
   {
    "duration": 6,
    "start_time": "2022-08-21T09:35:04.715Z"
   },
   {
    "duration": 5,
    "start_time": "2022-08-21T09:35:21.287Z"
   },
   {
    "duration": 5,
    "start_time": "2022-08-21T09:35:23.475Z"
   },
   {
    "duration": 5,
    "start_time": "2022-08-21T09:35:24.889Z"
   },
   {
    "duration": 773,
    "start_time": "2022-08-21T09:36:27.266Z"
   },
   {
    "duration": 4,
    "start_time": "2022-08-21T09:41:24.606Z"
   },
   {
    "duration": 6,
    "start_time": "2022-08-21T09:41:42.546Z"
   },
   {
    "duration": 755,
    "start_time": "2022-08-21T09:42:37.305Z"
   },
   {
    "duration": 9,
    "start_time": "2022-08-21T09:47:52.789Z"
   },
   {
    "duration": 5,
    "start_time": "2022-08-21T09:48:16.484Z"
   },
   {
    "duration": 8,
    "start_time": "2022-08-21T09:49:05.354Z"
   },
   {
    "duration": 4,
    "start_time": "2022-08-21T09:50:17.326Z"
   },
   {
    "duration": 4,
    "start_time": "2022-08-21T09:50:20.008Z"
   },
   {
    "duration": 52,
    "start_time": "2022-08-21T09:50:20.014Z"
   },
   {
    "duration": 11,
    "start_time": "2022-08-21T09:50:20.067Z"
   },
   {
    "duration": 10,
    "start_time": "2022-08-21T09:50:20.080Z"
   },
   {
    "duration": 11,
    "start_time": "2022-08-21T09:50:20.092Z"
   },
   {
    "duration": 12,
    "start_time": "2022-08-21T09:50:20.104Z"
   },
   {
    "duration": 16,
    "start_time": "2022-08-21T09:50:20.118Z"
   },
   {
    "duration": 12,
    "start_time": "2022-08-21T09:50:20.135Z"
   },
   {
    "duration": 7,
    "start_time": "2022-08-21T09:50:20.148Z"
   },
   {
    "duration": 23,
    "start_time": "2022-08-21T09:50:20.156Z"
   },
   {
    "duration": 39,
    "start_time": "2022-08-21T09:50:20.181Z"
   },
   {
    "duration": 16,
    "start_time": "2022-08-21T09:50:20.221Z"
   },
   {
    "duration": 122,
    "start_time": "2022-08-21T09:50:20.238Z"
   },
   {
    "duration": 5,
    "start_time": "2022-08-21T09:50:20.362Z"
   },
   {
    "duration": 13,
    "start_time": "2022-08-21T09:50:20.369Z"
   },
   {
    "duration": 762,
    "start_time": "2022-08-21T09:50:20.383Z"
   },
   {
    "duration": 906,
    "start_time": "2022-08-21T09:50:21.146Z"
   },
   {
    "duration": 5,
    "start_time": "2022-08-21T09:50:22.112Z"
   },
   {
    "duration": 99,
    "start_time": "2022-08-21T09:50:22.119Z"
   },
   {
    "duration": 43,
    "start_time": "2022-08-21T09:56:02.605Z"
   },
   {
    "duration": 5,
    "start_time": "2022-08-21T09:56:18.229Z"
   },
   {
    "duration": 66,
    "start_time": "2022-08-21T09:56:18.236Z"
   },
   {
    "duration": 11,
    "start_time": "2022-08-21T09:56:18.303Z"
   },
   {
    "duration": 20,
    "start_time": "2022-08-21T09:56:18.316Z"
   },
   {
    "duration": 12,
    "start_time": "2022-08-21T09:56:18.339Z"
   },
   {
    "duration": 14,
    "start_time": "2022-08-21T09:56:18.353Z"
   },
   {
    "duration": 27,
    "start_time": "2022-08-21T09:56:18.368Z"
   },
   {
    "duration": 13,
    "start_time": "2022-08-21T09:56:18.397Z"
   },
   {
    "duration": 12,
    "start_time": "2022-08-21T09:56:18.411Z"
   },
   {
    "duration": 39,
    "start_time": "2022-08-21T09:56:18.425Z"
   },
   {
    "duration": 16,
    "start_time": "2022-08-21T09:56:18.466Z"
   },
   {
    "duration": 16,
    "start_time": "2022-08-21T09:56:18.483Z"
   },
   {
    "duration": 128,
    "start_time": "2022-08-21T09:56:18.500Z"
   },
   {
    "duration": 5,
    "start_time": "2022-08-21T09:56:18.631Z"
   },
   {
    "duration": 12,
    "start_time": "2022-08-21T09:56:18.637Z"
   },
   {
    "duration": 762,
    "start_time": "2022-08-21T09:56:18.651Z"
   },
   {
    "duration": 995,
    "start_time": "2022-08-21T09:56:19.415Z"
   },
   {
    "duration": 8,
    "start_time": "2022-08-21T09:56:20.412Z"
   },
   {
    "duration": 98,
    "start_time": "2022-08-21T09:56:20.422Z"
   },
   {
    "duration": 39,
    "start_time": "2022-08-21T09:56:20.521Z"
   },
   {
    "duration": 37,
    "start_time": "2022-08-21T09:56:49.104Z"
   },
   {
    "duration": 37,
    "start_time": "2022-08-21T09:57:45.808Z"
   },
   {
    "duration": 38,
    "start_time": "2022-08-21T09:58:00.273Z"
   },
   {
    "duration": 39,
    "start_time": "2022-08-21T09:58:04.330Z"
   },
   {
    "duration": 39,
    "start_time": "2022-08-21T09:58:25.790Z"
   },
   {
    "duration": 4,
    "start_time": "2022-08-21T09:58:56.049Z"
   },
   {
    "duration": 52,
    "start_time": "2022-08-21T09:58:56.055Z"
   },
   {
    "duration": 11,
    "start_time": "2022-08-21T09:58:56.108Z"
   },
   {
    "duration": 12,
    "start_time": "2022-08-21T09:58:56.121Z"
   },
   {
    "duration": 13,
    "start_time": "2022-08-21T09:58:56.134Z"
   },
   {
    "duration": 11,
    "start_time": "2022-08-21T09:58:56.148Z"
   },
   {
    "duration": 19,
    "start_time": "2022-08-21T09:58:56.160Z"
   },
   {
    "duration": 41,
    "start_time": "2022-08-21T09:58:56.180Z"
   },
   {
    "duration": 7,
    "start_time": "2022-08-21T09:58:56.223Z"
   },
   {
    "duration": 22,
    "start_time": "2022-08-21T09:58:56.231Z"
   },
   {
    "duration": 16,
    "start_time": "2022-08-21T09:58:56.254Z"
   },
   {
    "duration": 40,
    "start_time": "2022-08-21T09:58:56.271Z"
   },
   {
    "duration": 115,
    "start_time": "2022-08-21T09:58:56.312Z"
   },
   {
    "duration": 5,
    "start_time": "2022-08-21T09:58:56.429Z"
   },
   {
    "duration": 8,
    "start_time": "2022-08-21T09:58:56.436Z"
   },
   {
    "duration": 866,
    "start_time": "2022-08-21T09:58:56.445Z"
   },
   {
    "duration": 1002,
    "start_time": "2022-08-21T09:58:57.312Z"
   },
   {
    "duration": 93,
    "start_time": "2022-08-21T09:58:58.318Z"
   },
   {
    "duration": 5,
    "start_time": "2022-08-21T09:58:58.412Z"
   },
   {
    "duration": 38,
    "start_time": "2022-08-21T09:58:58.419Z"
   },
   {
    "duration": 12,
    "start_time": "2022-08-21T10:01:58.411Z"
   },
   {
    "duration": 4,
    "start_time": "2022-08-21T10:02:26.954Z"
   },
   {
    "duration": 4,
    "start_time": "2022-08-21T10:02:29.399Z"
   },
   {
    "duration": 50,
    "start_time": "2022-08-21T10:02:29.404Z"
   },
   {
    "duration": 10,
    "start_time": "2022-08-21T10:02:29.456Z"
   },
   {
    "duration": 10,
    "start_time": "2022-08-21T10:02:29.467Z"
   },
   {
    "duration": 10,
    "start_time": "2022-08-21T10:02:29.479Z"
   },
   {
    "duration": 10,
    "start_time": "2022-08-21T10:02:29.490Z"
   },
   {
    "duration": 15,
    "start_time": "2022-08-21T10:02:29.502Z"
   },
   {
    "duration": 12,
    "start_time": "2022-08-21T10:02:29.518Z"
   },
   {
    "duration": 8,
    "start_time": "2022-08-21T10:02:29.531Z"
   },
   {
    "duration": 19,
    "start_time": "2022-08-21T10:02:29.540Z"
   },
   {
    "duration": 16,
    "start_time": "2022-08-21T10:02:29.561Z"
   },
   {
    "duration": 16,
    "start_time": "2022-08-21T10:02:29.611Z"
   },
   {
    "duration": 116,
    "start_time": "2022-08-21T10:02:29.629Z"
   },
   {
    "duration": 6,
    "start_time": "2022-08-21T10:02:29.747Z"
   },
   {
    "duration": 10,
    "start_time": "2022-08-21T10:02:29.754Z"
   },
   {
    "duration": 771,
    "start_time": "2022-08-21T10:02:29.765Z"
   },
   {
    "duration": 974,
    "start_time": "2022-08-21T10:02:30.537Z"
   },
   {
    "duration": 8,
    "start_time": "2022-08-21T10:02:31.513Z"
   },
   {
    "duration": 21,
    "start_time": "2022-08-21T10:02:31.611Z"
   },
   {
    "duration": 50,
    "start_time": "2022-08-21T10:02:31.633Z"
   },
   {
    "duration": 14,
    "start_time": "2022-08-21T10:02:31.684Z"
   },
   {
    "duration": 4,
    "start_time": "2022-08-21T10:02:50.182Z"
   },
   {
    "duration": 55,
    "start_time": "2022-08-21T10:02:50.188Z"
   },
   {
    "duration": 10,
    "start_time": "2022-08-21T10:02:50.245Z"
   },
   {
    "duration": 10,
    "start_time": "2022-08-21T10:02:50.256Z"
   },
   {
    "duration": 11,
    "start_time": "2022-08-21T10:02:50.267Z"
   },
   {
    "duration": 10,
    "start_time": "2022-08-21T10:02:50.280Z"
   },
   {
    "duration": 24,
    "start_time": "2022-08-21T10:02:50.292Z"
   },
   {
    "duration": 11,
    "start_time": "2022-08-21T10:02:50.317Z"
   },
   {
    "duration": 6,
    "start_time": "2022-08-21T10:02:50.330Z"
   },
   {
    "duration": 19,
    "start_time": "2022-08-21T10:02:50.339Z"
   },
   {
    "duration": 16,
    "start_time": "2022-08-21T10:02:50.359Z"
   },
   {
    "duration": 51,
    "start_time": "2022-08-21T10:02:50.376Z"
   },
   {
    "duration": 117,
    "start_time": "2022-08-21T10:02:50.428Z"
   },
   {
    "duration": 6,
    "start_time": "2022-08-21T10:02:50.547Z"
   },
   {
    "duration": 9,
    "start_time": "2022-08-21T10:02:50.554Z"
   },
   {
    "duration": 778,
    "start_time": "2022-08-21T10:02:50.564Z"
   },
   {
    "duration": 915,
    "start_time": "2022-08-21T10:02:51.343Z"
   },
   {
    "duration": 5,
    "start_time": "2022-08-21T10:02:52.312Z"
   },
   {
    "duration": 103,
    "start_time": "2022-08-21T10:02:52.319Z"
   },
   {
    "duration": 40,
    "start_time": "2022-08-21T10:02:52.424Z"
   },
   {
    "duration": 14,
    "start_time": "2022-08-21T10:02:52.466Z"
   },
   {
    "duration": 724,
    "start_time": "2022-08-21T10:41:39.082Z"
   },
   {
    "duration": 14,
    "start_time": "2022-08-21T10:44:38.664Z"
   },
   {
    "duration": 12,
    "start_time": "2022-08-21T10:45:12.924Z"
   },
   {
    "duration": 708,
    "start_time": "2022-08-21T10:45:36.996Z"
   },
   {
    "duration": 9,
    "start_time": "2022-08-21T10:45:39.907Z"
   },
   {
    "duration": 23,
    "start_time": "2022-08-21T10:46:57.321Z"
   },
   {
    "duration": 10,
    "start_time": "2022-08-21T10:49:35.216Z"
   },
   {
    "duration": 102,
    "start_time": "2022-08-21T10:50:18.130Z"
   },
   {
    "duration": 22,
    "start_time": "2022-08-21T10:56:09.475Z"
   },
   {
    "duration": 22,
    "start_time": "2022-08-21T10:56:14.305Z"
   },
   {
    "duration": 116,
    "start_time": "2022-08-21T10:56:57.254Z"
   },
   {
    "duration": 6,
    "start_time": "2022-08-21T11:38:57.273Z"
   },
   {
    "duration": 5,
    "start_time": "2022-08-21T11:44:12.796Z"
   },
   {
    "duration": 12,
    "start_time": "2022-08-21T11:45:22.388Z"
   },
   {
    "duration": 69,
    "start_time": "2022-08-21T11:46:48.980Z"
   },
   {
    "duration": 1057,
    "start_time": "2022-08-21T11:50:25.781Z"
   },
   {
    "duration": 4,
    "start_time": "2022-08-21T11:52:06.247Z"
   },
   {
    "duration": 49,
    "start_time": "2022-08-21T11:52:06.253Z"
   },
   {
    "duration": 10,
    "start_time": "2022-08-21T11:52:06.303Z"
   },
   {
    "duration": 12,
    "start_time": "2022-08-21T11:52:06.314Z"
   },
   {
    "duration": 11,
    "start_time": "2022-08-21T11:52:06.327Z"
   },
   {
    "duration": 9,
    "start_time": "2022-08-21T11:52:06.340Z"
   },
   {
    "duration": 15,
    "start_time": "2022-08-21T11:52:06.350Z"
   },
   {
    "duration": 11,
    "start_time": "2022-08-21T11:52:06.366Z"
   },
   {
    "duration": 33,
    "start_time": "2022-08-21T11:52:06.378Z"
   },
   {
    "duration": 19,
    "start_time": "2022-08-21T11:52:06.413Z"
   },
   {
    "duration": 15,
    "start_time": "2022-08-21T11:52:06.433Z"
   },
   {
    "duration": 14,
    "start_time": "2022-08-21T11:52:06.450Z"
   },
   {
    "duration": 113,
    "start_time": "2022-08-21T11:52:06.466Z"
   },
   {
    "duration": 5,
    "start_time": "2022-08-21T11:52:06.582Z"
   },
   {
    "duration": 7,
    "start_time": "2022-08-21T11:52:06.588Z"
   },
   {
    "duration": 821,
    "start_time": "2022-08-21T11:52:06.596Z"
   },
   {
    "duration": 948,
    "start_time": "2022-08-21T11:52:07.418Z"
   },
   {
    "duration": 6,
    "start_time": "2022-08-21T11:52:08.412Z"
   },
   {
    "duration": 13,
    "start_time": "2022-08-21T11:52:08.510Z"
   },
   {
    "duration": 47,
    "start_time": "2022-08-21T11:52:08.525Z"
   },
   {
    "duration": 10,
    "start_time": "2022-08-21T11:52:08.573Z"
   },
   {
    "duration": 703,
    "start_time": "2022-08-21T11:52:08.584Z"
   },
   {
    "duration": 9,
    "start_time": "2022-08-21T11:52:09.289Z"
   },
   {
    "duration": 26,
    "start_time": "2022-08-21T11:52:09.300Z"
   },
   {
    "duration": 185,
    "start_time": "2022-08-21T11:52:09.327Z"
   },
   {
    "duration": 205,
    "start_time": "2022-08-21T11:52:09.513Z"
   },
   {
    "duration": 21,
    "start_time": "2022-08-21T11:52:09.720Z"
   },
   {
    "duration": 199,
    "start_time": "2022-08-21T11:52:09.812Z"
   },
   {
    "duration": 6,
    "start_time": "2022-08-21T11:52:10.012Z"
   },
   {
    "duration": 14,
    "start_time": "2022-08-21T11:52:10.019Z"
   },
   {
    "duration": 30,
    "start_time": "2022-08-21T11:52:10.035Z"
   },
   {
    "duration": 16,
    "start_time": "2022-08-21T11:52:10.067Z"
   },
   {
    "duration": 1067,
    "start_time": "2022-08-21T11:52:10.084Z"
   },
   {
    "duration": 50,
    "start_time": "2022-08-21T11:55:21.056Z"
   },
   {
    "duration": 981,
    "start_time": "2022-08-21T11:56:25.942Z"
   },
   {
    "duration": 69,
    "start_time": "2022-08-21T11:57:30.746Z"
   },
   {
    "duration": 200,
    "start_time": "2022-08-21T12:21:51.994Z"
   },
   {
    "duration": 7116,
    "start_time": "2022-08-21T12:22:15.278Z"
   },
   {
    "duration": 1792,
    "start_time": "2022-08-21T12:25:58.520Z"
   },
   {
    "duration": 43789,
    "start_time": "2022-08-21T12:26:18.475Z"
   },
   {
    "duration": 11297,
    "start_time": "2022-08-21T12:27:28.115Z"
   },
   {
    "duration": 11577,
    "start_time": "2022-08-21T12:29:27.500Z"
   },
   {
    "duration": 66,
    "start_time": "2022-08-21T12:30:05.975Z"
   },
   {
    "duration": 11300,
    "start_time": "2022-08-21T12:30:16.444Z"
   },
   {
    "duration": 229,
    "start_time": "2022-08-21T12:44:27.162Z"
   },
   {
    "duration": 253,
    "start_time": "2022-08-21T12:44:52.745Z"
   },
   {
    "duration": 123,
    "start_time": "2022-08-21T12:50:28.705Z"
   },
   {
    "duration": 128,
    "start_time": "2022-08-21T12:53:53.446Z"
   },
   {
    "duration": 124,
    "start_time": "2022-08-21T12:54:36.348Z"
   },
   {
    "duration": 139,
    "start_time": "2022-08-21T12:55:12.735Z"
   },
   {
    "duration": 119,
    "start_time": "2022-08-21T12:58:23.636Z"
   },
   {
    "duration": 220,
    "start_time": "2022-08-21T13:01:37.776Z"
   },
   {
    "duration": 211,
    "start_time": "2022-08-21T13:02:24.951Z"
   },
   {
    "duration": 38,
    "start_time": "2022-08-21T13:05:26.667Z"
   },
   {
    "duration": 162,
    "start_time": "2022-08-21T13:07:08.832Z"
   },
   {
    "duration": 92,
    "start_time": "2022-08-21T13:09:41.121Z"
   },
   {
    "duration": 43,
    "start_time": "2022-08-21T13:10:18.369Z"
   },
   {
    "duration": 34,
    "start_time": "2022-08-21T13:10:59.979Z"
   },
   {
    "duration": 160,
    "start_time": "2022-08-21T13:11:01.137Z"
   },
   {
    "duration": 4,
    "start_time": "2022-08-21T13:27:53.252Z"
   },
   {
    "duration": 51,
    "start_time": "2022-08-21T13:27:53.257Z"
   },
   {
    "duration": 11,
    "start_time": "2022-08-21T13:27:53.309Z"
   },
   {
    "duration": 11,
    "start_time": "2022-08-21T13:27:53.321Z"
   },
   {
    "duration": 12,
    "start_time": "2022-08-21T13:27:53.333Z"
   },
   {
    "duration": 10,
    "start_time": "2022-08-21T13:27:53.346Z"
   },
   {
    "duration": 16,
    "start_time": "2022-08-21T13:27:53.357Z"
   },
   {
    "duration": 120,
    "start_time": "2022-08-21T13:27:53.374Z"
   },
   {
    "duration": 7,
    "start_time": "2022-08-21T13:27:53.495Z"
   },
   {
    "duration": 23,
    "start_time": "2022-08-21T13:27:53.504Z"
   },
   {
    "duration": 16,
    "start_time": "2022-08-21T13:27:53.529Z"
   },
   {
    "duration": 16,
    "start_time": "2022-08-21T13:27:53.547Z"
   },
   {
    "duration": 134,
    "start_time": "2022-08-21T13:27:53.564Z"
   },
   {
    "duration": 15,
    "start_time": "2022-08-21T13:27:53.699Z"
   },
   {
    "duration": 8,
    "start_time": "2022-08-21T13:27:53.715Z"
   },
   {
    "duration": 788,
    "start_time": "2022-08-21T13:27:53.724Z"
   },
   {
    "duration": 899,
    "start_time": "2022-08-21T13:27:54.514Z"
   },
   {
    "duration": 5,
    "start_time": "2022-08-21T13:27:55.415Z"
   },
   {
    "duration": 94,
    "start_time": "2022-08-21T13:27:55.422Z"
   },
   {
    "duration": 127,
    "start_time": "2022-08-21T13:27:55.520Z"
   },
   {
    "duration": 11,
    "start_time": "2022-08-21T13:27:55.648Z"
   },
   {
    "duration": 737,
    "start_time": "2022-08-21T13:27:55.661Z"
   },
   {
    "duration": 15,
    "start_time": "2022-08-21T13:27:56.400Z"
   },
   {
    "duration": 96,
    "start_time": "2022-08-21T13:27:56.416Z"
   },
   {
    "duration": 97,
    "start_time": "2022-08-21T13:27:56.514Z"
   },
   {
    "duration": 197,
    "start_time": "2022-08-21T13:27:56.616Z"
   },
   {
    "duration": 105,
    "start_time": "2022-08-21T13:27:56.814Z"
   },
   {
    "duration": 203,
    "start_time": "2022-08-21T13:27:57.010Z"
   },
   {
    "duration": 6,
    "start_time": "2022-08-21T13:27:57.214Z"
   },
   {
    "duration": 5,
    "start_time": "2022-08-21T13:27:57.221Z"
   },
   {
    "duration": 20,
    "start_time": "2022-08-21T13:27:57.228Z"
   },
   {
    "duration": 13,
    "start_time": "2022-08-21T13:27:57.249Z"
   },
   {
    "duration": 1079,
    "start_time": "2022-08-21T13:27:57.263Z"
   },
   {
    "duration": 200,
    "start_time": "2022-08-21T13:27:58.345Z"
   },
   {
    "duration": 993,
    "start_time": "2022-08-21T13:27:58.546Z"
   },
   {
    "duration": 72,
    "start_time": "2022-08-21T13:27:59.540Z"
   },
   {
    "duration": 7328,
    "start_time": "2022-08-21T13:27:59.614Z"
   },
   {
    "duration": 11255,
    "start_time": "2022-08-21T13:28:06.944Z"
   },
   {
    "duration": 113,
    "start_time": "2022-08-21T13:28:18.200Z"
   },
   {
    "duration": 268,
    "start_time": "2022-08-21T13:28:18.315Z"
   },
   {
    "duration": 57,
    "start_time": "2022-08-21T15:40:09.767Z"
   },
   {
    "duration": 2065,
    "start_time": "2022-08-21T15:40:17.681Z"
   },
   {
    "duration": 166,
    "start_time": "2022-08-21T15:40:19.749Z"
   },
   {
    "duration": 14,
    "start_time": "2022-08-21T15:40:19.917Z"
   },
   {
    "duration": 16,
    "start_time": "2022-08-21T15:40:19.932Z"
   },
   {
    "duration": 30,
    "start_time": "2022-08-21T15:40:19.951Z"
   },
   {
    "duration": 17,
    "start_time": "2022-08-21T15:40:19.985Z"
   },
   {
    "duration": 20,
    "start_time": "2022-08-21T15:40:20.005Z"
   },
   {
    "duration": 17,
    "start_time": "2022-08-21T15:40:20.027Z"
   },
   {
    "duration": 38,
    "start_time": "2022-08-21T15:40:20.046Z"
   },
   {
    "duration": 39,
    "start_time": "2022-08-21T15:40:20.087Z"
   },
   {
    "duration": 30,
    "start_time": "2022-08-21T15:40:20.128Z"
   },
   {
    "duration": 45,
    "start_time": "2022-08-21T15:40:20.160Z"
   },
   {
    "duration": 177,
    "start_time": "2022-08-21T15:40:20.207Z"
   },
   {
    "duration": 8,
    "start_time": "2022-08-21T15:40:20.391Z"
   },
   {
    "duration": 17,
    "start_time": "2022-08-21T15:40:20.401Z"
   },
   {
    "duration": 897,
    "start_time": "2022-08-21T15:40:20.420Z"
   },
   {
    "duration": 1013,
    "start_time": "2022-08-21T15:40:21.393Z"
   },
   {
    "duration": 85,
    "start_time": "2022-08-21T15:40:22.408Z"
   },
   {
    "duration": 9,
    "start_time": "2022-08-21T15:40:22.496Z"
   },
   {
    "duration": 49,
    "start_time": "2022-08-21T15:40:22.592Z"
   },
   {
    "duration": 17,
    "start_time": "2022-08-21T15:40:22.643Z"
   },
   {
    "duration": 841,
    "start_time": "2022-08-21T15:40:22.662Z"
   },
   {
    "duration": 15,
    "start_time": "2022-08-21T15:40:23.504Z"
   },
   {
    "duration": 171,
    "start_time": "2022-08-21T15:40:23.522Z"
   },
   {
    "duration": 13,
    "start_time": "2022-08-21T15:40:23.695Z"
   },
   {
    "duration": 337,
    "start_time": "2022-08-21T15:40:23.711Z"
   },
   {
    "duration": 143,
    "start_time": "2022-08-21T15:40:24.050Z"
   },
   {
    "duration": 280,
    "start_time": "2022-08-21T15:40:24.196Z"
   },
   {
    "duration": 14,
    "start_time": "2022-08-21T15:40:24.479Z"
   },
   {
    "duration": 8,
    "start_time": "2022-08-21T15:40:24.496Z"
   },
   {
    "duration": 30,
    "start_time": "2022-08-21T15:40:24.506Z"
   },
   {
    "duration": 16,
    "start_time": "2022-08-21T15:40:24.539Z"
   },
   {
    "duration": 1354,
    "start_time": "2022-08-21T15:40:24.557Z"
   },
   {
    "duration": 100,
    "start_time": "2022-08-21T15:40:25.992Z"
   },
   {
    "duration": 1243,
    "start_time": "2022-08-21T15:40:26.094Z"
   },
   {
    "duration": 157,
    "start_time": "2022-08-21T15:40:27.339Z"
   },
   {
    "duration": 8336,
    "start_time": "2022-08-21T15:40:27.498Z"
   },
   {
    "duration": 12869,
    "start_time": "2022-08-21T15:40:35.836Z"
   },
   {
    "duration": 431,
    "start_time": "2022-08-21T15:40:48.707Z"
   },
   {
    "duration": 165,
    "start_time": "2022-08-21T15:40:49.139Z"
   },
   {
    "duration": 366,
    "start_time": "2022-08-21T15:40:49.307Z"
   },
   {
    "duration": 38,
    "start_time": "2022-08-21T15:44:37.740Z"
   },
   {
    "duration": 8,
    "start_time": "2022-08-21T15:46:48.800Z"
   },
   {
    "duration": 6,
    "start_time": "2022-08-21T15:49:13.652Z"
   },
   {
    "duration": 37,
    "start_time": "2022-08-21T15:52:54.363Z"
   },
   {
    "duration": 338,
    "start_time": "2022-08-21T15:54:14.067Z"
   },
   {
    "duration": 181,
    "start_time": "2022-08-21T15:55:13.240Z"
   },
   {
    "duration": 77,
    "start_time": "2022-08-21T15:59:20.618Z"
   },
   {
    "duration": 74,
    "start_time": "2022-08-21T15:59:25.571Z"
   },
   {
    "duration": 74,
    "start_time": "2022-08-21T15:59:29.667Z"
   },
   {
    "duration": 72,
    "start_time": "2022-08-21T15:59:42.771Z"
   }
  ],
  "kernelspec": {
   "display_name": "Python 3 (ipykernel)",
   "language": "python",
   "name": "python3"
  },
  "language_info": {
   "codemirror_mode": {
    "name": "ipython",
    "version": 3
   },
   "file_extension": ".py",
   "mimetype": "text/x-python",
   "name": "python",
   "nbconvert_exporter": "python",
   "pygments_lexer": "ipython3",
   "version": "3.10.9"
  },
  "toc": {
   "base_numbering": 1,
   "nav_menu": {},
   "number_sections": true,
   "sideBar": true,
   "skip_h1_title": true,
   "title_cell": "Содержание",
   "title_sidebar": "Contents",
   "toc_cell": true,
   "toc_position": {
    "height": "calc(100% - 180px)",
    "left": "10px",
    "top": "150px",
    "width": "273.797px"
   },
   "toc_section_display": true,
   "toc_window_display": true
  }
 },
 "nbformat": 4,
 "nbformat_minor": 2
}
