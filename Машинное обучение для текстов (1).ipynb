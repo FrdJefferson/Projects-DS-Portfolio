{
 "cells": [
  {
   "cell_type": "markdown",
   "metadata": {
    "toc": true
   },
   "source": [
    "<h1>Содержание<span class=\"tocSkip\"></span></h1>\n",
    "<div class=\"toc\"><ul class=\"toc-item\"><li><span><a href=\"#Подготовка\" data-toc-modified-id=\"Подготовка-1\"><span class=\"toc-item-num\">1&nbsp;&nbsp;</span>Подготовка</a></span></li><li><span><a href=\"#Обучение\" data-toc-modified-id=\"Обучение-2\"><span class=\"toc-item-num\">2&nbsp;&nbsp;</span>Обучение</a></span></li><li><span><a href=\"#Выводы\" data-toc-modified-id=\"Выводы-3\"><span class=\"toc-item-num\">3&nbsp;&nbsp;</span>Выводы</a></span></li><li><span><a href=\"#Чек-лист-проверки\" data-toc-modified-id=\"Чек-лист-проверки-4\"><span class=\"toc-item-num\">4&nbsp;&nbsp;</span>Чек-лист проверки</a></span></li></ul></div>"
   ]
  },
  {
   "cell_type": "markdown",
   "metadata": {},
   "source": [
    "# Проект для «Викишоп»"
   ]
  },
  {
   "cell_type": "markdown",
   "metadata": {},
   "source": [
    "Интернет-магазин «Викишоп» запускает новый сервис. Теперь пользователи могут редактировать и дополнять описания товаров, как в вики-сообществах. То есть клиенты предлагают свои правки и комментируют изменения других. Магазину нужен инструмент, который будет искать токсичные комментарии и отправлять их на модерацию. \n",
    "\n",
    "Обучите модель классифицировать комментарии на позитивные и негативные. В вашем распоряжении набор данных с разметкой о токсичности правок.\n",
    "\n",
    "Постройте модель со значением метрики качества *F1* не меньше 0.75. \n",
    "\n",
    "**Инструкция по выполнению проекта**\n",
    "\n",
    "1. Загрузите и подготовьте данные.\n",
    "2. Обучите разные модели. \n",
    "3. Сделайте выводы.\n",
    "\n",
    "Для выполнения проекта применять *BERT* необязательно, но вы можете попробовать.\n",
    "\n",
    "**Описание данных**\n",
    "\n",
    "Данные находятся в файле `toxic_comments.csv`. Столбец *text* в нём содержит текст комментария, а *toxic* — целевой признак."
   ]
  },
  {
   "cell_type": "markdown",
   "metadata": {},
   "source": [
    "## Подготовка"
   ]
  },
  {
   "cell_type": "code",
   "execution_count": 1,
   "metadata": {},
   "outputs": [],
   "source": [
    "import pandas as pd\n",
    "import numpy as np\n",
    "\n",
    "\n",
    "from sklearn.model_selection import train_test_split\n",
    "from sklearn.tree import DecisionTreeClassifier\n",
    "from sklearn.linear_model import LogisticRegression\n",
    "from catboost import CatBoostClassifier\n",
    "from tqdm.notebook import tqdm\n",
    "import matplotlib.pyplot as plt\n",
    "import seaborn as sns\n",
    "from sklearn.model_selection import GridSearchCV\n",
    "from sklearn.ensemble import RandomForestClassifier\n",
    "from sklearn.utils import shuffle\n",
    "from sklearn.feature_extraction.text import CountVectorizer \n",
    "\n",
    "import nltk\n",
    "from nltk.corpus import stopwords as nltk_stopwords\n",
    "from nltk.corpus import wordnet\n",
    "from sklearn.feature_extraction.text import TfidfVectorizer \n",
    "from pymystem3 import Mystem\n",
    "\n",
    "import re \n",
    "\n",
    "from sklearn import metrics\n",
    "from sklearn import tree\n",
    "from sklearn.metrics import classification_report\n",
    "from sklearn.metrics import precision_recall_curve\n",
    "from sklearn.metrics import precision_score, recall_score\n",
    "from sklearn.metrics import roc_curve \n",
    "from sklearn.metrics import roc_auc_score\n",
    "from sklearn.metrics import make_scorer\n",
    "from sklearn.metrics import f1_score\n",
    "from sklearn.metrics import confusion_matrix\n",
    "\n",
    "\n",
    "\n",
    "\n",
    "import time\n",
    "import warnings\n",
    "warnings.filterwarnings('ignore')"
   ]
  },
  {
   "cell_type": "code",
   "execution_count": 2,
   "metadata": {},
   "outputs": [],
   "source": [
    "data = pd.read_csv('/datasets/toxic_comments.csv')"
   ]
  },
  {
   "cell_type": "code",
   "execution_count": 3,
   "metadata": {},
   "outputs": [
    {
     "name": "stdout",
     "output_type": "stream",
     "text": [
      "<class 'pandas.core.frame.DataFrame'>\n",
      "RangeIndex: 159292 entries, 0 to 159291\n",
      "Data columns (total 3 columns):\n",
      " #   Column      Non-Null Count   Dtype \n",
      "---  ------      --------------   ----- \n",
      " 0   Unnamed: 0  159292 non-null  int64 \n",
      " 1   text        159292 non-null  object\n",
      " 2   toxic       159292 non-null  int64 \n",
      "dtypes: int64(2), object(1)\n",
      "memory usage: 3.6+ MB\n"
     ]
    }
   ],
   "source": [
    "data.info()"
   ]
  },
  {
   "cell_type": "code",
   "execution_count": 4,
   "metadata": {},
   "outputs": [
    {
     "data": {
      "text/html": [
       "<div>\n",
       "<style scoped>\n",
       "    .dataframe tbody tr th:only-of-type {\n",
       "        vertical-align: middle;\n",
       "    }\n",
       "\n",
       "    .dataframe tbody tr th {\n",
       "        vertical-align: top;\n",
       "    }\n",
       "\n",
       "    .dataframe thead th {\n",
       "        text-align: right;\n",
       "    }\n",
       "</style>\n",
       "<table border=\"1\" class=\"dataframe\">\n",
       "  <thead>\n",
       "    <tr style=\"text-align: right;\">\n",
       "      <th></th>\n",
       "      <th>Unnamed: 0</th>\n",
       "      <th>text</th>\n",
       "      <th>toxic</th>\n",
       "    </tr>\n",
       "  </thead>\n",
       "  <tbody>\n",
       "    <tr>\n",
       "      <th>0</th>\n",
       "      <td>0</td>\n",
       "      <td>Explanation\\nWhy the edits made under my usern...</td>\n",
       "      <td>0</td>\n",
       "    </tr>\n",
       "    <tr>\n",
       "      <th>1</th>\n",
       "      <td>1</td>\n",
       "      <td>D'aww! He matches this background colour I'm s...</td>\n",
       "      <td>0</td>\n",
       "    </tr>\n",
       "    <tr>\n",
       "      <th>2</th>\n",
       "      <td>2</td>\n",
       "      <td>Hey man, I'm really not trying to edit war. It...</td>\n",
       "      <td>0</td>\n",
       "    </tr>\n",
       "    <tr>\n",
       "      <th>3</th>\n",
       "      <td>3</td>\n",
       "      <td>\"\\nMore\\nI can't make any real suggestions on ...</td>\n",
       "      <td>0</td>\n",
       "    </tr>\n",
       "    <tr>\n",
       "      <th>4</th>\n",
       "      <td>4</td>\n",
       "      <td>You, sir, are my hero. Any chance you remember...</td>\n",
       "      <td>0</td>\n",
       "    </tr>\n",
       "  </tbody>\n",
       "</table>\n",
       "</div>"
      ],
      "text/plain": [
       "   Unnamed: 0                                               text  toxic\n",
       "0           0  Explanation\\nWhy the edits made under my usern...      0\n",
       "1           1  D'aww! He matches this background colour I'm s...      0\n",
       "2           2  Hey man, I'm really not trying to edit war. It...      0\n",
       "3           3  \"\\nMore\\nI can't make any real suggestions on ...      0\n",
       "4           4  You, sir, are my hero. Any chance you remember...      0"
      ]
     },
     "execution_count": 4,
     "metadata": {},
     "output_type": "execute_result"
    }
   ],
   "source": [
    "data.head()"
   ]
  },
  {
   "cell_type": "markdown",
   "metadata": {},
   "source": [
    "# Лемматизация"
   ]
  },
  {
   "cell_type": "code",
   "execution_count": 5,
   "metadata": {},
   "outputs": [],
   "source": [
    "corpus = list(data['text'])"
   ]
  },
  {
   "cell_type": "code",
   "execution_count": 6,
   "metadata": {},
   "outputs": [
    {
     "name": "stderr",
     "output_type": "stream",
     "text": [
      "[nltk_data] Downloading package wordnet to /home/jovyan/nltk_data...\n",
      "[nltk_data]   Package wordnet is already up-to-date!\n"
     ]
    },
    {
     "data": {
      "text/plain": [
       "True"
      ]
     },
     "execution_count": 6,
     "metadata": {},
     "output_type": "execute_result"
    }
   ],
   "source": [
    "nltk.download('wordnet')"
   ]
  },
  {
   "cell_type": "code",
   "execution_count": 7,
   "metadata": {
    "scrolled": true
   },
   "outputs": [
    {
     "name": "stderr",
     "output_type": "stream",
     "text": [
      "[nltk_data] Downloading package averaged_perceptron_tagger to\n",
      "[nltk_data]     /home/jovyan/nltk_data...\n",
      "[nltk_data]   Unzipping taggers/averaged_perceptron_tagger.zip.\n"
     ]
    },
    {
     "data": {
      "text/plain": [
       "True"
      ]
     },
     "execution_count": 7,
     "metadata": {},
     "output_type": "execute_result"
    }
   ],
   "source": [
    "nltk.download('averaged_perceptron_tagger')"
   ]
  },
  {
   "cell_type": "code",
   "execution_count": 8,
   "metadata": {},
   "outputs": [],
   "source": [
    "from nltk.stem import WordNetLemmatizer\n",
    "lemmatizer = WordNetLemmatizer()"
   ]
  },
  {
   "cell_type": "code",
   "execution_count": 9,
   "metadata": {},
   "outputs": [],
   "source": [
    "def clear_text(text):\n",
    "    rec = re.sub(r\"[^'a-zA-Z ]\", ' ', text) \n",
    "    clear = \" \".join(rec.split())\n",
    "    return clear"
   ]
  },
  {
   "cell_type": "code",
   "execution_count": 10,
   "metadata": {},
   "outputs": [],
   "source": [
    "def get_wordnet_pos(word):\n",
    "    tag = nltk.pos_tag([word])[0][1][0].upper()\n",
    "    tag_dict = {\"J\": wordnet.ADJ,\n",
    "                \"N\": wordnet.NOUN,\n",
    "                \"V\": wordnet.VERB,\n",
    "                \"R\": wordnet.ADV}\n",
    "    return tag_dict.get(tag, wordnet.NOUN)"
   ]
  },
  {
   "cell_type": "code",
   "execution_count": 11,
   "metadata": {},
   "outputs": [
    {
     "name": "stdout",
     "output_type": "stream",
     "text": [
      "['Parrots', ',', 'which', 'be', 'exotic', 'and', 'unusual', 'animal', ',', 'sometimes', 'can', 'be', 'found', 'in', 'pet-shops', 'or', 'zoo']\n"
     ]
    }
   ],
   "source": [
    "test = \"Parrots, which are exotic and unusual animals, sometimes can be found in pet-shops or zoos\"\n",
    "print([lemmatizer.lemmatize(w, get_wordnet_pos(w)) for w in nltk.word_tokenize(test)])"
   ]
  },
  {
   "cell_type": "code",
   "execution_count": 12,
   "metadata": {},
   "outputs": [
    {
     "data": {
      "application/vnd.jupyter.widget-view+json": {
       "model_id": "5e8e44726c5247b9a284771e875af43e",
       "version_major": 2,
       "version_minor": 0
      },
      "text/plain": [
       "  0%|          | 0/159292 [00:00<?, ?it/s]"
      ]
     },
     "metadata": {},
     "output_type": "display_data"
    },
    {
     "name": "stdout",
     "output_type": "stream",
     "text": [
      "CPU times: user 15min 40s, sys: 1min 35s, total: 17min 16s\n",
      "Wall time: 17min 39s\n"
     ]
    }
   ],
   "source": [
    "%%time\n",
    "def lemmafunction(textc):\n",
    "    k=[]\n",
    "    for i in nltk.word_tokenize(textc):\n",
    "        y=lemmatizer.lemmatize(i, get_wordnet_pos(i))\n",
    "        k.append(y)\n",
    "    return ' '.join(k) \n",
    "\n",
    "lemy=[]\n",
    "for i in tqdm(range(len(corpus))):\n",
    "    \n",
    "    lemy.append(lemmafunction(clear_text(corpus[i])))\n",
    "data['lemm_text']=pd.Series(lemy, index=data.index)"
   ]
  },
  {
   "cell_type": "code",
   "execution_count": 13,
   "metadata": {},
   "outputs": [
    {
     "data": {
      "text/plain": [
       "'\"\\nMore\\nI can\\'t make any real suggestions on improvement - I wondered if the section statistics should be later on, or a subsection of \"\"types of accidents\"\"  -I think the references may need tidying so that they are all in the exact same format ie date format etc. I can do that later on, if no-one else does first - if you have any preferences for formatting style on references or want to do it yourself please let me know.\\n\\nThere appears to be a backlog on articles for review so I guess there may be a delay until a reviewer turns up. It\\'s listed in the relevant form eg Wikipedia:Good_article_nominations#Transport  \"'"
      ]
     },
     "execution_count": 13,
     "metadata": {},
     "output_type": "execute_result"
    }
   ],
   "source": [
    "data['text'][3]"
   ]
  },
  {
   "cell_type": "code",
   "execution_count": 14,
   "metadata": {
    "scrolled": true
   },
   "outputs": [
    {
     "data": {
      "text/plain": [
       "\"More I ca n't make any real suggestion on improvement I wonder if the section statistic should be later on or a subsection of type of accident I think the reference may need tidy so that they be all in the exact same format ie date format etc I can do that later on if no one else do first if you have any preference for format style on reference or want to do it yourself please let me know There appear to be a backlog on article for review so I guess there may be a delay until a reviewer turn up It 's list in the relevant form eg Wikipedia Good article nomination Transport\""
      ]
     },
     "execution_count": 14,
     "metadata": {},
     "output_type": "execute_result"
    }
   ],
   "source": [
    "data['lemm_text'][3]"
   ]
  },
  {
   "cell_type": "code",
   "execution_count": 11,
   "metadata": {},
   "outputs": [
    {
     "data": {
      "image/png": "[encoded data removed]",
      "text/plain": [
       "<Figure size 720x432 with 1 Axes>"
      ]
     },
     "metadata": {},
     "output_type": "display_data"
    }
   ],
   "source": [
    "sns.set_style('darkgrid')\n",
    "data['toxic'].value_counts(normalize=True).plot(kind='pie', figsize=[10,6], legend=False, autopct='%1.1f%%',labels=['Отзыв токсичный, класс [0]','Отзыв не токсичный, класс [1]'])\n",
    "plt.title('Распределение классов')\n",
    "\n",
    "plt.ylabel('')\n",
    "plt.show()"
   ]
  },
  {
   "cell_type": "code",
   "execution_count": 12,
   "metadata": {},
   "outputs": [],
   "source": [
    "#Разделим выборки\n",
    "#data = data.drop(labels = [34],axis = 0)\n",
    "X = data.drop('toxic', axis=1) \n",
    "y = data['toxic']"
   ]
  },
  {
   "cell_type": "code",
   "execution_count": 13,
   "metadata": {},
   "outputs": [],
   "source": [
    "X_train, X_test, y_train, y_test = train_test_split(X, y, test_size=0.34, random_state=12345)\n",
    "X_valid, X_test, y_valid, y_test = train_test_split(X_test, y_test, test_size=0.5,random_state=12345)"
   ]
  },
  {
   "cell_type": "code",
   "execution_count": 14,
   "metadata": {},
   "outputs": [
    {
     "name": "stdout",
     "output_type": "stream",
     "text": [
      "Размер тренировочной выборки- 65.99955%\n",
      "Размер тестовой выборки - 17.00023%\n",
      "Размер валидационной выборки - 17.00023%\n"
     ]
    }
   ],
   "source": [
    "train_sample = X_train.shape[0]/X.shape[0]\n",
    "test_sample = X_test.shape[0]/X.shape[0]\n",
    "valid_sample = X_valid.shape[0]/X.shape[0]\n",
    "\n",
    "print('Размер тренировочной выборки- {:.5%}'.format(train_sample))\n",
    "print('Размер тестовой выборки - {:.5%}'.format(test_sample))\n",
    "print('Размер валидационной выборки - {:.5%}'.format(valid_sample))"
   ]
  },
  {
   "cell_type": "code",
   "execution_count": 15,
   "metadata": {},
   "outputs": [
    {
     "data": {
      "text/plain": [
       "(27080, 3)"
      ]
     },
     "execution_count": 15,
     "metadata": {},
     "output_type": "execute_result"
    }
   ],
   "source": [
    "X_test.shape"
   ]
  },
  {
   "cell_type": "code",
   "execution_count": 16,
   "metadata": {},
   "outputs": [
    {
     "data": {
      "image/png": "[encoded data removed]",
      "text/plain": [
       "<Figure size 720x432 with 1 Axes>"
      ]
     },
     "metadata": {},
     "output_type": "display_data"
    }
   ],
   "source": [
    "#распределение классов в тренировочной выборке\n",
    "y_train.value_counts(normalize=True).plot(kind='pie', figsize=[10,6], legend=False, autopct='%1.1f%%',labels=['Отзыв токсичный, класс [0]','Отзыв не токсичный, класс [1]'])\n",
    "plt.title('Распределение классов в тренировочных данных')\n",
    "plt.ylabel('')\n",
    "plt.show()"
   ]
  },
  {
   "cell_type": "code",
   "execution_count": 17,
   "metadata": {},
   "outputs": [
    {
     "data": {
      "image/png": "[encoded data removed]",
      "text/plain": [
       "<Figure size 720x432 with 1 Axes>"
      ]
     },
     "metadata": {},
     "output_type": "display_data"
    }
   ],
   "source": [
    "#распределение классов в тестовой выборке\n",
    "y_test.value_counts(normalize=True).plot(kind='pie',figsize=[10,6], legend=False, autopct='%1.1f%%',labels=['Отзыв токсичный, класс [0]','Отзыв не токсичный, класс [1]'])\n",
    "plt.title('Распределения классов в тестовых данных')\n",
    "plt.ylabel('')\n",
    "plt.show()"
   ]
  },
  {
   "cell_type": "code",
   "execution_count": 18,
   "metadata": {},
   "outputs": [
    {
     "data": {
      "image/png": "[encoded data removed]",
      "text/plain": [
       "<Figure size 720x432 with 1 Axes>"
      ]
     },
     "metadata": {},
     "output_type": "display_data"
    }
   ],
   "source": [
    "#распределение классов в валидационной выборке\n",
    "y_valid.value_counts(normalize=True).plot(kind='pie',figsize=[10,6], legend=False, autopct='%1.1f%%',labels=['Отзыв токсичный, класс [0]','Отзыв не токсичный, класс [1]'])\n",
    "plt.title('Распределения классов в тестовых данных')\n",
    "plt.ylabel('')\n",
    "plt.show()"
   ]
  },
  {
   "cell_type": "code",
   "execution_count": 19,
   "metadata": {},
   "outputs": [],
   "source": [
    "def down_up_sample(features, target, fraction, repeat):\n",
    "    features_zeros = features[target == 0]\n",
    "    features_ones = features[target == 1]\n",
    "    target_zeros = target[target == 0]\n",
    "    target_ones = target[target == 1]\n",
    "\n",
    "    features_down_up = pd.concat([features_zeros.sample(frac=fraction, random_state=12345)] + [features_ones]*repeat)\n",
    "    target_down_up = pd.concat([target_zeros.sample(frac=fraction, random_state=12345)] + [target_ones]*repeat)\n",
    "    \n",
    "    features_down_up_sampled, target_down_up_sampled = shuffle(\n",
    "        features_down_up, target_down_up, random_state=12345)\n",
    "    \n",
    "    return features_down_up_sampled, target_down_up_sampled\n",
    "\n",
    "features_upsampled, target_upsampled  = down_up_sample(X_train, y_train, 0.6, 5)"
   ]
  },
  {
   "cell_type": "code",
   "execution_count": 20,
   "metadata": {},
   "outputs": [
    {
     "data": {
      "image/png": "[encoded data removed]",
      "text/plain": [
       "<Figure size 396x396 with 1 Axes>"
      ]
     },
     "metadata": {},
     "output_type": "display_data"
    }
   ],
   "source": [
    "target_upsampled.value_counts(normalize=True).plot(kind='pie',figsize=[5.5,5.5], legend=False, autopct='%1.1f%%',labels=['Отзыв токсичный, класс [0]','Отзыв не токсичный, класс [1]'])\n",
    "plt.title('Баланс распределения классов в данных')\n",
    "plt.ylabel('')\n",
    "plt.show()"
   ]
  },
  {
   "cell_type": "code",
   "execution_count": 21,
   "metadata": {},
   "outputs": [
    {
     "name": "stderr",
     "output_type": "stream",
     "text": [
      "[nltk_data] Downloading package stopwords to /home/jovyan/nltk_data...\n",
      "[nltk_data]   Package stopwords is already up-to-date!\n"
     ]
    }
   ],
   "source": [
    "#TF-IDF & nltk\n",
    "nltk.download('stopwords') \n",
    "stop_words = set(nltk_stopwords.words('english')) "
   ]
  },
  {
   "cell_type": "code",
   "execution_count": 22,
   "metadata": {
    "scrolled": true
   },
   "outputs": [],
   "source": [
    "# corpus_lemm_train = features_upsampled['lemm_text'].values.astype('U')\n",
    "# corpus_lemm_train.shape"
   ]
  },
  {
   "cell_type": "code",
   "execution_count": 23,
   "metadata": {},
   "outputs": [
    {
     "data": {
      "text/plain": [
       "(109935, 110510)"
      ]
     },
     "execution_count": 23,
     "metadata": {},
     "output_type": "execute_result"
    }
   ],
   "source": [
    "count_tf_idf = TfidfVectorizer(stop_words=stop_words,analyzer='word') \n",
    "tf_idf = count_tf_idf.fit_transform(features_upsampled['lemm_text']) \n",
    "tf_idf.shape"
   ]
  },
  {
   "cell_type": "code",
   "execution_count": 24,
   "metadata": {},
   "outputs": [
    {
     "data": {
      "text/plain": [
       "(27080,)"
      ]
     },
     "execution_count": 24,
     "metadata": {},
     "output_type": "execute_result"
    }
   ],
   "source": [
    "corpus_lemm_valid = X_valid['lemm_text'].values\n",
    "corpus_lemm_test = X_test['lemm_text'].values\n",
    "corpus_lemm_test.shape"
   ]
  },
  {
   "cell_type": "code",
   "execution_count": 25,
   "metadata": {},
   "outputs": [
    {
     "name": "stdout",
     "output_type": "stream",
     "text": [
      "(27080, 110510)\n",
      "(27080, 110510)\n"
     ]
    }
   ],
   "source": [
    "#Трансформируем тестовую выборку\n",
    "tf_test = count_tf_idf.transform(corpus_lemm_test)\n",
    "print(tf_test.shape)\n",
    "# valid\n",
    "tf_valid = count_tf_idf.transform(X_valid['lemm_text'])\n",
    "print(tf_valid.shape)"
   ]
  },
  {
   "cell_type": "markdown",
   "metadata": {},
   "source": [
    "Классы сильно разбилансированы в пользу негативных отзывов. Upsampled & downsampled избавят от возможной ошибки, когда отрицательный класс может быть принят за константу. "
   ]
  },
  {
   "cell_type": "markdown",
   "metadata": {},
   "source": [
    "## Обучение"
   ]
  },
  {
   "cell_type": "code",
   "execution_count": 26,
   "metadata": {},
   "outputs": [],
   "source": [
    "#Функция графика плотности распределения предсказанных и истинных значений\n",
    "def density_graph(true, predict):\n",
    "    f1 = f1_score(y_test, predict)\n",
    "    plt.figure(figsize=(10,6))\n",
    "    true.plot(kind='kde', linewidth=3)\n",
    "    pd.Series(predict).plot(kind='kde',linewidth=3)\n",
    "    plt.title('График распределения плотности предсказанных и истинных значений', y=1.01)\n",
    "    plt.legend(['Истинные значения','Предсказанные значения'])\n",
    "    plt.text(0.75,6,'F1= {:.2f}'.format(f1))\n",
    "    plt.xlabel('')\n",
    "    plt.ylabel('Плотность')\n",
    "    plt.show()"
   ]
  },
  {
   "cell_type": "code",
   "execution_count": 27,
   "metadata": {},
   "outputs": [],
   "source": [
    "#Функция вызова матрицы предсказаний\n",
    "def pred_matrix(data, color='blue'):\n",
    "    attr = 'color: {}'.format(color)\n",
    "    if data.ndim == 1:\n",
    "        is_min = data == data.min()\n",
    "        return [attr if v else '' for v in is_min]\n",
    "    else:  \n",
    "        is_min = data == data.min().min()\n",
    "        return pd.DataFrame(np.where(is_min, attr, ''),\n",
    "                            index=data.index, columns=data.columns)"
   ]
  },
  {
   "cell_type": "code",
   "execution_count": 28,
   "metadata": {},
   "outputs": [],
   "source": [
    "def create_colors(x):\n",
    "    df1 = x.copy()\n",
    "    df1.loc[:,:] = 'background-color: '\n",
    "    df1.loc['Predicted Positive(1)', 'Actually Negative(0)'] = 'background-color: coral'\n",
    "    df1.loc['Predicted Negative(0)', 'Actually Positive(1)'] = 'background-color: coral' \n",
    "    df1.loc['Predicted Positive(1)', 'Actually Positive(1)'] = 'background-color: springgreen'\n",
    "    df1.loc['Predicted Negative(0)','Actually Negative(0)'] = 'background-color: springgreen'\n",
    "\n",
    "    return df1      "
   ]
  },
  {
   "cell_type": "code",
   "execution_count": 29,
   "metadata": {},
   "outputs": [],
   "source": [
    "def conf_marix(predict):\n",
    "    table = pd.DataFrame(index=['Predicted Positive(1)','Predicted Negative(0)',], columns=['Actually Positive(1)','Actually Negative(0)','Difference'])\n",
    "    matrix = confusion_matrix(y_test, predict)\n",
    "    table['Actually Positive(1)']['Predicted Positive(1)']= 'TP  {:.0f}'.format(matrix[0][0])\n",
    "    table['Actually Positive(1)']['Predicted Negative(0)']= 'FN   {:.0f}'.format(matrix[1][0])\n",
    "\n",
    "    table['Actually Negative(0)']['Predicted Positive(1)']= 'FP  {:.0f}'.format(matrix[0][1])\n",
    "    table['Actually Negative(0)']['Predicted Negative(0)']= 'TN  {:.0f}'.format(matrix[1][1])\n",
    "    \n",
    "    table['Difference'][0] = abs(matrix[0][0] - matrix[0][1])\n",
    "    table['Difference'][1] = abs(matrix[1][1]- matrix[1][0])\n",
    "    return table.style.apply(create_colors, axis=None).apply(pred_matrix, subset=['Difference'])"
   ]
  },
  {
   "cell_type": "code",
   "execution_count": 30,
   "metadata": {},
   "outputs": [
    {
     "name": "stdout",
     "output_type": "stream",
     "text": [
      "F1 наилучшей модели равно: 0.69 C глубиной: {'max_depth': 19}\n"
     ]
    }
   ],
   "source": [
    "parameters = {'max_depth':range(3,20)}\n",
    "clf = GridSearchCV(tree.DecisionTreeClassifier(), parameters, n_jobs=4, scoring='f1')\n",
    "clf.fit(tf_idf, target_upsampled)\n",
    "tree_model = clf.best_estimator_\n",
    "best_result_dt = clf.best_score_\n",
    "best_depth_dt = clf.best_params_\n",
    "\n",
    "\n",
    "print(\"F1 наилучшей модели равно:\", best_result_dt.round(2), end='')\n",
    "print(' C глубиной:',best_depth_dt)"
   ]
  },
  {
   "cell_type": "code",
   "execution_count": 32,
   "metadata": {},
   "outputs": [
    {
     "name": "stdout",
     "output_type": "stream",
     "text": [
      "                    precision    recall  f1-score   support\n",
      "\n",
      "   Отзыв токсичный       0.95      0.98      0.96     24270\n",
      "Отзыв не токсичный       0.72      0.52      0.60      2810\n",
      "\n",
      "          accuracy                           0.93     27080\n",
      "         macro avg       0.83      0.75      0.78     27080\n",
      "      weighted avg       0.92      0.93      0.92     27080\n",
      "\n",
      "Метрика F1 качества предсказания модели \"DecisionTreeClassifier\" равна : 0.6\n"
     ]
    }
   ],
   "source": [
    "target_names=['Отзыв токсичный','Отзыв не токсичный']\n",
    "\n",
    "model_dt = DecisionTreeClassifier(random_state=12345, max_depth=best_depth_dt['max_depth'])\n",
    "model_dt.fit(tf_idf,target_upsampled)\n",
    "predicted_dt = model_dt.predict(tf_valid)\n",
    "\n",
    "f1_forest_1 = f1_score(y_valid, predicted_dt)\n",
    "print(classification_report(y_valid, predicted_dt, target_names=target_names))\n",
    "print('Метрика F1 качества предсказания модели \"DecisionTreeClassifier\" равна :',f1_forest_1.round(2))"
   ]
  },
  {
   "cell_type": "code",
   "execution_count": 33,
   "metadata": {},
   "outputs": [
    {
     "data": {
      "text/html": [
       "<style  type=\"text/css\" >\n",
       "#T_c7671_row0_col0,#T_c7671_row1_col1{\n",
       "            background-color:  springgreen;\n",
       "        }#T_c7671_row0_col1,#T_c7671_row1_col0{\n",
       "            background-color:  coral;\n",
       "        }#T_c7671_row0_col2{\n",
       "            background-color:  ;\n",
       "        }#T_c7671_row1_col2{\n",
       "            background-color:  ;\n",
       "            color:  blue;\n",
       "        }</style><table id=\"T_c7671_\" ><thead>    <tr>        <th class=\"blank level0\" ></th>        <th class=\"col_heading level0 col0\" >Actually Positive(1)</th>        <th class=\"col_heading level0 col1\" >Actually Negative(0)</th>        <th class=\"col_heading level0 col2\" >Difference</th>    </tr></thead><tbody>\n",
       "                <tr>\n",
       "                        <th id=\"T_c7671_level0_row0\" class=\"row_heading level0 row0\" >Predicted Positive(1)</th>\n",
       "                        <td id=\"T_c7671_row0_col0\" class=\"data row0 col0\" >TP  22516</td>\n",
       "                        <td id=\"T_c7671_row0_col1\" class=\"data row0 col1\" >FP  1837</td>\n",
       "                        <td id=\"T_c7671_row0_col2\" class=\"data row0 col2\" >20679</td>\n",
       "            </tr>\n",
       "            <tr>\n",
       "                        <th id=\"T_c7671_level0_row1\" class=\"row_heading level0 row1\" >Predicted Negative(0)</th>\n",
       "                        <td id=\"T_c7671_row1_col0\" class=\"data row1 col0\" >FN   2550</td>\n",
       "                        <td id=\"T_c7671_row1_col1\" class=\"data row1 col1\" >TN  177</td>\n",
       "                        <td id=\"T_c7671_row1_col2\" class=\"data row1 col2\" >2373</td>\n",
       "            </tr>\n",
       "    </tbody></table>"
      ],
      "text/plain": [
       "<pandas.io.formats.style.Styler at 0x7f78351839a0>"
      ]
     },
     "execution_count": 33,
     "metadata": {},
     "output_type": "execute_result"
    }
   ],
   "source": [
    "conf_marix(predicted_dt)"
   ]
  },
  {
   "cell_type": "code",
   "execution_count": 34,
   "metadata": {},
   "outputs": [
    {
     "data": {
      "image/png": "[encoded data removed]",
      "text/plain": [
       "<Figure size 720x432 with 1 Axes>"
      ]
     },
     "metadata": {},
     "output_type": "display_data"
    }
   ],
   "source": [
    "density_graph(y_valid,predicted_dt)"
   ]
  },
  {
   "cell_type": "code",
   "execution_count": 35,
   "metadata": {},
   "outputs": [
    {
     "data": {
      "text/plain": [
       "{'C': 9, 'max_iter': 10}"
      ]
     },
     "execution_count": 35,
     "metadata": {},
     "output_type": "execute_result"
    }
   ],
   "source": [
    "#LogisticRegression w GridSearchCV\n",
    "clf_lr = LogisticRegression(random_state=12345, solver='sag',class_weight='balanced')\n",
    "parametrs_lr = { 'C': range (1, 10),\n",
    "              'max_iter': range (10,15,2),\n",
    "              }\n",
    "grid_lr = GridSearchCV(clf_lr, parametrs_lr, cv=3, scoring='f1')\n",
    "grid_lr.fit(tf_idf, target_upsampled)\n",
    "grid_lr.best_params_"
   ]
  },
  {
   "cell_type": "code",
   "execution_count": 37,
   "metadata": {},
   "outputs": [
    {
     "name": "stdout",
     "output_type": "stream",
     "text": [
      "                    precision    recall  f1-score   support\n",
      "\n",
      "   Отзыв токсичный       0.98      0.96      0.97     24270\n",
      "Отзыв не токсичный       0.70      0.82      0.76      2810\n",
      "\n",
      "          accuracy                           0.95     27080\n",
      "         macro avg       0.84      0.89      0.86     27080\n",
      "      weighted avg       0.95      0.95      0.95     27080\n",
      "\n",
      "Метрика F1 качества предсказания модели \"LogisticRegression\" равна : 0.76\n"
     ]
    }
   ],
   "source": [
    "predicted_lr = grid_lr.predict(tf_valid)\n",
    "\n",
    "f1_log_r_1 = f1_score(y_valid, predicted_lr).round(2)\n",
    "print(classification_report(y_valid, predicted_lr, target_names=target_names))\n",
    "print('Метрика F1 качества предсказания модели \"LogisticRegression\" равна :',f1_log_r_1)"
   ]
  },
  {
   "cell_type": "code",
   "execution_count": 38,
   "metadata": {},
   "outputs": [
    {
     "data": {
      "text/html": [
       "<style  type=\"text/css\" >\n",
       "#T_5aadd_row0_col0,#T_5aadd_row1_col1{\n",
       "            background-color:  springgreen;\n",
       "        }#T_5aadd_row0_col1,#T_5aadd_row1_col0{\n",
       "            background-color:  coral;\n",
       "        }#T_5aadd_row0_col2{\n",
       "            background-color:  ;\n",
       "        }#T_5aadd_row1_col2{\n",
       "            background-color:  ;\n",
       "            color:  blue;\n",
       "        }</style><table id=\"T_5aadd_\" ><thead>    <tr>        <th class=\"blank level0\" ></th>        <th class=\"col_heading level0 col0\" >Actually Positive(1)</th>        <th class=\"col_heading level0 col1\" >Actually Negative(0)</th>        <th class=\"col_heading level0 col2\" >Difference</th>    </tr></thead><tbody>\n",
       "                <tr>\n",
       "                        <th id=\"T_5aadd_level0_row0\" class=\"row_heading level0 row0\" >Predicted Positive(1)</th>\n",
       "                        <td id=\"T_5aadd_row0_col0\" class=\"data row0 col0\" >TP  21372</td>\n",
       "                        <td id=\"T_5aadd_row0_col1\" class=\"data row0 col1\" >FP  2981</td>\n",
       "                        <td id=\"T_5aadd_row0_col2\" class=\"data row0 col2\" >18391</td>\n",
       "            </tr>\n",
       "            <tr>\n",
       "                        <th id=\"T_5aadd_level0_row1\" class=\"row_heading level0 row1\" >Predicted Negative(0)</th>\n",
       "                        <td id=\"T_5aadd_row1_col0\" class=\"data row1 col0\" >FN   2414</td>\n",
       "                        <td id=\"T_5aadd_row1_col1\" class=\"data row1 col1\" >TN  313</td>\n",
       "                        <td id=\"T_5aadd_row1_col2\" class=\"data row1 col2\" >2101</td>\n",
       "            </tr>\n",
       "    </tbody></table>"
      ],
      "text/plain": [
       "<pandas.io.formats.style.Styler at 0x7f7835417760>"
      ]
     },
     "execution_count": 38,
     "metadata": {},
     "output_type": "execute_result"
    }
   ],
   "source": [
    "conf_marix(predicted_lr)"
   ]
  },
  {
   "cell_type": "code",
   "execution_count": 39,
   "metadata": {},
   "outputs": [
    {
     "data": {
      "image/png": "[encoded data removed]",
      "text/plain": [
       "<Figure size 720x432 with 1 Axes>"
      ]
     },
     "metadata": {},
     "output_type": "display_data"
    }
   ],
   "source": [
    "density_graph(y_valid,predicted_lr)"
   ]
  },
  {
   "cell_type": "code",
   "execution_count": 40,
   "metadata": {},
   "outputs": [
    {
     "data": {
      "application/vnd.jupyter.widget-view+json": {
       "model_id": "35a441adb2fe44739baff206cd8fca7a",
       "version_major": 2,
       "version_minor": 0
      },
      "text/plain": [
       "  0%|          | 0/3 [00:00<?, ?it/s]"
      ]
     },
     "metadata": {},
     "output_type": "display_data"
    },
    {
     "name": "stdout",
     "output_type": "stream",
     "text": [
      "F1 наилучшей модели равно: 0.65C глубиной: 9\n"
     ]
    }
   ],
   "source": [
    "#RandomForestClassifier\n",
    "best_model_rf = None\n",
    "best_result_rf = 0\n",
    "best_depth_rf=0\n",
    "for est in tqdm(range(1, 12, 4)):\n",
    "      \n",
    "    model_rf = RandomForestClassifier(random_state=12345, n_estimators=est,class_weight='balanced_subsample') \n",
    "    model_rf.fit(tf_idf,target_upsampled) \n",
    "    predict_rf=model_rf.predict(tf_valid) \n",
    "    result_rf = f1_score(y_valid, predict_rf)\n",
    "    if result_rf > best_result_rf:\n",
    "        best_model_rf = model_rf\n",
    "        best_result_rf = result_rf\n",
    "          \n",
    "        best_depth_rf = est\n",
    "print(\"F1 наилучшей модели равно:\", best_result_rf.round(2), end='')\n",
    "print('C глубиной:', best_depth_rf)"
   ]
  },
  {
   "cell_type": "code",
   "execution_count": 41,
   "metadata": {},
   "outputs": [
    {
     "name": "stdout",
     "output_type": "stream",
     "text": [
      "                    precision    recall  f1-score   support\n",
      "\n",
      "   Отзыв токсичный       0.96      0.97      0.96     24270\n",
      "Отзыв не токсичный       0.68      0.62      0.65      2810\n",
      "\n",
      "          accuracy                           0.93     27080\n",
      "         macro avg       0.82      0.80      0.81     27080\n",
      "      weighted avg       0.93      0.93      0.93     27080\n",
      "\n",
      "Метрика F1 качества предсказания модели \"RandomForestClassifier\" равна : 0.65\n"
     ]
    }
   ],
   "source": [
    "predict_rfc = model_rf.predict(tf_valid)\n",
    "f1_random_forest = f1_score(y_valid, predict_rfc)\n",
    "print(classification_report(y_valid, predict_rfc, target_names=target_names))\n",
    "print('Метрика F1 качества предсказания модели \"RandomForestClassifier\" равна :',f1_random_forest.round(2))"
   ]
  },
  {
   "cell_type": "code",
   "execution_count": 42,
   "metadata": {},
   "outputs": [
    {
     "data": {
      "text/html": [
       "<style  type=\"text/css\" >\n",
       "#T_44873_row0_col0,#T_44873_row1_col1{\n",
       "            background-color:  springgreen;\n",
       "        }#T_44873_row0_col1,#T_44873_row1_col0{\n",
       "            background-color:  coral;\n",
       "        }#T_44873_row0_col2{\n",
       "            background-color:  ;\n",
       "        }#T_44873_row1_col2{\n",
       "            background-color:  ;\n",
       "            color:  blue;\n",
       "        }</style><table id=\"T_44873_\" ><thead>    <tr>        <th class=\"blank level0\" ></th>        <th class=\"col_heading level0 col0\" >Actually Positive(1)</th>        <th class=\"col_heading level0 col1\" >Actually Negative(0)</th>        <th class=\"col_heading level0 col2\" >Difference</th>    </tr></thead><tbody>\n",
       "                <tr>\n",
       "                        <th id=\"T_44873_level0_row0\" class=\"row_heading level0 row0\" >Predicted Positive(1)</th>\n",
       "                        <td id=\"T_44873_row0_col0\" class=\"data row0 col0\" >TP  22024</td>\n",
       "                        <td id=\"T_44873_row0_col1\" class=\"data row0 col1\" >FP  2329</td>\n",
       "                        <td id=\"T_44873_row0_col2\" class=\"data row0 col2\" >19695</td>\n",
       "            </tr>\n",
       "            <tr>\n",
       "                        <th id=\"T_44873_level0_row1\" class=\"row_heading level0 row1\" >Predicted Negative(0)</th>\n",
       "                        <td id=\"T_44873_row1_col0\" class=\"data row1 col0\" >FN   2478</td>\n",
       "                        <td id=\"T_44873_row1_col1\" class=\"data row1 col1\" >TN  249</td>\n",
       "                        <td id=\"T_44873_row1_col2\" class=\"data row1 col2\" >2229</td>\n",
       "            </tr>\n",
       "    </tbody></table>"
      ],
      "text/plain": [
       "<pandas.io.formats.style.Styler at 0x7f78352fef10>"
      ]
     },
     "execution_count": 42,
     "metadata": {},
     "output_type": "execute_result"
    }
   ],
   "source": [
    "conf_marix(predict_rfc)"
   ]
  },
  {
   "cell_type": "code",
   "execution_count": 44,
   "metadata": {},
   "outputs": [
    {
     "data": {
      "image/png": "[encoded data removed]",
      "text/plain": [
       "<Figure size 720x432 with 1 Axes>"
      ]
     },
     "metadata": {},
     "output_type": "display_data"
    }
   ],
   "source": [
    "density_graph(y_valid, predict_rfc)"
   ]
  },
  {
   "cell_type": "code",
   "execution_count": 45,
   "metadata": {},
   "outputs": [
    {
     "name": "stdout",
     "output_type": "stream",
     "text": [
      "Вероятность: [0.19651513 0.03962875 0.09879361 0.0470457  0.03664939]\n"
     ]
    }
   ],
   "source": [
    "#Вероятность положительного класса\n",
    "probability = grid_lr.predict_proba(tf_valid)\n",
    "probability_one = probability[:, 1]\n",
    "print(\"Вероятность:\",probability_one[:5])"
   ]
  },
  {
   "cell_type": "code",
   "execution_count": 46,
   "metadata": {},
   "outputs": [
    {
     "name": "stdout",
     "output_type": "stream",
     "text": [
      "Порог = 0.40 | Точность = 0.650, Полнота = 0.857, F1 = 0.112\n",
      "Порог = 0.42 | Точность = 0.660, Полнота = 0.852, F1 = 0.110\n",
      "Порог = 0.44 | Точность = 0.670, Полнота = 0.847, F1 = 0.109\n",
      "Порог = 0.46 | Точность = 0.682, Полнота = 0.840, F1 = 0.108\n",
      "Порог = 0.48 | Точность = 0.692, Полнота = 0.833, F1 = 0.105\n",
      "Порог = 0.50 | Точность = 0.703, Полнота = 0.825, F1 = 0.104\n",
      "Порог = 0.52 | Точность = 0.713, Полнота = 0.819, F1 = 0.103\n",
      "Порог = 0.54 | Точность = 0.721, Полнота = 0.815, F1 = 0.103\n",
      "Порог = 0.56 | Точность = 0.733, Полнота = 0.808, F1 = 0.103\n",
      "Порог = 0.58 | Точность = 0.744, Полнота = 0.802, F1 = 0.102\n",
      "Порог = 0.60 | Точность = 0.752, Полнота = 0.796, F1 = 0.101\n",
      "Порог = 0.62 | Точность = 0.759, Полнота = 0.789, F1 = 0.100\n",
      "Порог = 0.64 | Точность = 0.767, Полнота = 0.784, F1 = 0.100\n",
      "Порог = 0.66 | Точность = 0.774, Полнота = 0.775, F1 = 0.098\n",
      "Порог = 0.68 | Точность = 0.789, Полнота = 0.768, F1 = 0.096\n",
      "Порог = 0.70 | Точность = 0.800, Полнота = 0.762, F1 = 0.096\n",
      "Порог = 0.72 | Точность = 0.812, Полнота = 0.754, F1 = 0.096\n",
      "Порог = 0.74 | Точность = 0.821, Полнота = 0.745, F1 = 0.093\n",
      "Порог = 0.76 | Точность = 0.832, Полнота = 0.736, F1 = 0.092\n",
      "Порог = 0.78 | Точность = 0.844, Полнота = 0.727, F1 = 0.091\n",
      "Порог = 0.80 | Точность = 0.854, Полнота = 0.718, F1 = 0.088\n",
      "Порог = 0.82 | Точность = 0.865, Полнота = 0.707, F1 = 0.086\n",
      "Порог = 0.84 | Точность = 0.875, Полнота = 0.695, F1 = 0.085\n",
      "Порог = 0.86 | Точность = 0.885, Полнота = 0.678, F1 = 0.084\n",
      "Порог = 0.88 | Точность = 0.896, Полнота = 0.663, F1 = 0.083\n"
     ]
    }
   ],
   "source": [
    "#Найдем порог классификации ### y_test > y_valid\n",
    "for threshold in np.arange(0.4, 0.9, 0.02):\n",
    "    predicted_v = probability_one > threshold\n",
    "    precision = precision_score(y_valid, predicted_v)\n",
    "    recall = recall_score(y_valid, predicted_v) \n",
    "    f1 = f1_score(y_test, predicted_v)\n",
    "    print(\"Порог = {:.2f} | Точность = {:.3f}, Полнота = {:.3f}, F1 = {:.3f}\".format(\n",
    "        threshold, precision, recall, f1))"
   ]
  },
  {
   "cell_type": "code",
   "execution_count": 47,
   "metadata": {
    "scrolled": true
   },
   "outputs": [
    {
     "name": "stdout",
     "output_type": "stream",
     "text": [
      "                    precision    recall  f1-score   support\n",
      "\n",
      "   Отзыв токсичный       0.90      0.91      0.90     24353\n",
      "Отзыв не токсичный       0.10      0.09      0.09      2727\n",
      "\n",
      "          accuracy                           0.83     27080\n",
      "         macro avg       0.50      0.50      0.50     27080\n",
      "      weighted avg       0.82      0.83      0.82     27080\n",
      "\n"
     ]
    }
   ],
   "source": [
    "predicted_rf_threshold = (probability_one>0.76)*1\n",
    "print(classification_report(y_test,predicted_rf_threshold, target_names=target_names))"
   ]
  },
  {
   "cell_type": "code",
   "execution_count": 48,
   "metadata": {},
   "outputs": [
    {
     "name": "stdout",
     "output_type": "stream",
     "text": [
      "Метрика F1 с порогом классификации: 0.77\n"
     ]
    }
   ],
   "source": [
    "#Отфильруем по порогу 0,76\n",
    "predicted_test = (grid_lr.predict_proba(tf_test)[:,1] > 0.76)*1\n",
    "f1_log_r_1 = f1_score(y_test, predicted_test).round(2)\n",
    "print('Метрика F1 с порогом классификации:',f1_log_r_1)"
   ]
  },
  {
   "cell_type": "code",
   "execution_count": 49,
   "metadata": {},
   "outputs": [
    {
     "data": {
      "text/html": [
       "<style  type=\"text/css\" >\n",
       "#T_561f9_row0_col0,#T_561f9_row1_col1{\n",
       "            background-color:  springgreen;\n",
       "        }#T_561f9_row0_col1,#T_561f9_row1_col0{\n",
       "            background-color:  coral;\n",
       "        }#T_561f9_row0_col2{\n",
       "            background-color:  ;\n",
       "        }#T_561f9_row1_col2{\n",
       "            background-color:  ;\n",
       "            color:  blue;\n",
       "        }</style><table id=\"T_561f9_\" ><thead>    <tr>        <th class=\"blank level0\" ></th>        <th class=\"col_heading level0 col0\" >Actually Positive(1)</th>        <th class=\"col_heading level0 col1\" >Actually Negative(0)</th>        <th class=\"col_heading level0 col2\" >Difference</th>    </tr></thead><tbody>\n",
       "                <tr>\n",
       "                        <th id=\"T_561f9_level0_row0\" class=\"row_heading level0 row0\" >Predicted Positive(1)</th>\n",
       "                        <td id=\"T_561f9_row0_col0\" class=\"data row0 col0\" >TP  23913</td>\n",
       "                        <td id=\"T_561f9_row0_col1\" class=\"data row0 col1\" >FP  440</td>\n",
       "                        <td id=\"T_561f9_row0_col2\" class=\"data row0 col2\" >23473</td>\n",
       "            </tr>\n",
       "            <tr>\n",
       "                        <th id=\"T_561f9_level0_row1\" class=\"row_heading level0 row1\" >Predicted Negative(0)</th>\n",
       "                        <td id=\"T_561f9_row1_col0\" class=\"data row1 col0\" >FN   749</td>\n",
       "                        <td id=\"T_561f9_row1_col1\" class=\"data row1 col1\" >TN  1978</td>\n",
       "                        <td id=\"T_561f9_row1_col2\" class=\"data row1 col2\" >1229</td>\n",
       "            </tr>\n",
       "    </tbody></table>"
      ],
      "text/plain": [
       "<pandas.io.formats.style.Styler at 0x7f782b111ac0>"
      ]
     },
     "execution_count": 49,
     "metadata": {},
     "output_type": "execute_result"
    }
   ],
   "source": [
    "conf_marix(predicted_test)"
   ]
  },
  {
   "cell_type": "code",
   "execution_count": 50,
   "metadata": {},
   "outputs": [
    {
     "data": {
      "image/png": "[encoded data removed]",
      "text/plain": [
       "<Figure size 720x432 with 1 Axes>"
      ]
     },
     "metadata": {},
     "output_type": "display_data"
    }
   ],
   "source": [
    "density_graph(y_test, predicted_test)"
   ]
  },
  {
   "cell_type": "code",
   "execution_count": 51,
   "metadata": {},
   "outputs": [
    {
     "name": "stdout",
     "output_type": "stream",
     "text": [
      "ROC-AUC: 0.50\n"
     ]
    }
   ],
   "source": [
    "#ROC-AUC \n",
    "fpr, tpr, thresholds = roc_curve(y_test, probability_one)\n",
    "auc_roc = roc_auc_score(y_test,probability_one)\n",
    "print('ROC-AUC: {:.2f}'.format(auc_roc))"
   ]
  },
  {
   "cell_type": "markdown",
   "metadata": {},
   "source": [
    "## Выводы"
   ]
  },
  {
   "cell_type": "code",
   "execution_count": 52,
   "metadata": {},
   "outputs": [
    {
     "data": {
      "text/html": [
       "<div>\n",
       "<style scoped>\n",
       "    .dataframe tbody tr th:only-of-type {\n",
       "        vertical-align: middle;\n",
       "    }\n",
       "\n",
       "    .dataframe tbody tr th {\n",
       "        vertical-align: top;\n",
       "    }\n",
       "\n",
       "    .dataframe thead th {\n",
       "        text-align: right;\n",
       "    }\n",
       "</style>\n",
       "<table border=\"1\" class=\"dataframe\">\n",
       "  <thead>\n",
       "    <tr style=\"text-align: right;\">\n",
       "      <th></th>\n",
       "      <th>F1-мера</th>\n",
       "    </tr>\n",
       "  </thead>\n",
       "  <tbody>\n",
       "    <tr>\n",
       "      <th>Дерево решений</th>\n",
       "      <td>0.69</td>\n",
       "    </tr>\n",
       "    <tr>\n",
       "      <th>Cлучайный лес</th>\n",
       "      <td>0.65</td>\n",
       "    </tr>\n",
       "    <tr>\n",
       "      <th>Логистическая регрессия</th>\n",
       "      <td>0.77</td>\n",
       "    </tr>\n",
       "  </tbody>\n",
       "</table>\n",
       "</div>"
      ],
      "text/plain": [
       "                         F1-мера\n",
       "Дерево решений              0.69\n",
       "Cлучайный лес               0.65\n",
       "Логистическая регрессия     0.77"
      ]
     },
     "execution_count": 52,
     "metadata": {},
     "output_type": "execute_result"
    }
   ],
   "source": [
    "#Таблица сравнения\n",
    "comp_table = pd.DataFrame(index=['F1-мера'], columns=['Дерево решений','Cлучайный лес','Логистическая регрессия'])\n",
    "comp_table['Дерево решений'] = best_result_dt.round(2)\n",
    "comp_table['Cлучайный лес'] = f1_random_forest.round(2)\n",
    "comp_table['Логистическая регрессия'] = f1_log_r_1\n",
    "comp_table.T"
   ]
  },
  {
   "cell_type": "markdown",
   "metadata": {},
   "source": [
    "Задача для магазина \"ВикиШоп\" выполнена. Нужно было найти и обучить модель, которая сможет определить и разделить комментарии на негативные и позитивные для дальнейшей обработки негативных.     \n",
    "Для работы был предоставлен набор набор данных с разметкой по токсичности, который отчистил от мусора и сбалансировал, т.к. сильный дисбаланс классов повлиял бы на качество предсказания.          \n",
    "LogisticRegression показала лучший результат при обучении, затем результат улучшили, подобрав оптимальные параметры."
   ]
  },
  {
   "cell_type": "markdown",
   "metadata": {},
   "source": [
    "## Чек-лист проверки"
   ]
  },
  {
   "cell_type": "markdown",
   "metadata": {},
   "source": [
    "- [x]  Jupyter Notebook открыт\n",
    "- [x]  Весь код выполняется без ошибок\n",
    "- [x]  Ячейки с кодом расположены в порядке исполнения\n",
    "- [x]  Данные загружены и подготовлены\n",
    "- [x]  Модели обучены\n",
    "- [x]  Значение метрики *F1* не меньше 0.75\n",
    "- [x]  Выводы написаны"
   ]
  }
 ],
 "metadata": {
  "ExecuteTimeLog": [
   {
    "duration": 1893,
    "start_time": "2022-11-15T16:38:07.217Z"
   },
   {
    "duration": 1553,
    "start_time": "2022-11-15T17:03:07.400Z"
   },
   {
    "duration": 628,
    "start_time": "2022-11-15T17:05:24.791Z"
   },
   {
    "duration": 3086,
    "start_time": "2022-11-15T17:09:50.961Z"
   },
   {
    "duration": 34,
    "start_time": "2022-11-15T17:11:38.419Z"
   },
   {
    "duration": 11,
    "start_time": "2022-11-15T17:12:26.335Z"
   },
   {
    "duration": 30,
    "start_time": "2022-11-15T17:13:03.706Z"
   },
   {
    "duration": 255,
    "start_time": "2022-11-15T17:13:09.373Z"
   },
   {
    "duration": 455,
    "start_time": "2022-11-15T17:13:20.072Z"
   },
   {
    "duration": 4,
    "start_time": "2022-11-15T17:16:04.207Z"
   },
   {
    "duration": 2,
    "start_time": "2022-11-15T17:16:13.230Z"
   },
   {
    "duration": 3,
    "start_time": "2022-11-15T17:17:10.621Z"
   },
   {
    "duration": 1620,
    "start_time": "2022-11-15T17:17:57.079Z"
   },
   {
    "duration": 718,
    "start_time": "2022-11-15T17:17:58.701Z"
   },
   {
    "duration": 30,
    "start_time": "2022-11-15T17:17:59.421Z"
   },
   {
    "duration": 22,
    "start_time": "2022-11-15T17:17:59.453Z"
   },
   {
    "duration": 33,
    "start_time": "2022-11-15T17:17:59.477Z"
   },
   {
    "duration": 258,
    "start_time": "2022-11-15T17:17:59.512Z"
   },
   {
    "duration": 10,
    "start_time": "2022-11-15T17:17:59.771Z"
   },
   {
    "duration": 17,
    "start_time": "2022-11-15T17:17:59.783Z"
   },
   {
    "duration": 20,
    "start_time": "2022-11-15T17:17:59.802Z"
   },
   {
    "duration": 14,
    "start_time": "2022-11-15T17:17:59.824Z"
   },
   {
    "duration": 4,
    "start_time": "2022-11-15T17:33:10.964Z"
   },
   {
    "duration": 1283,
    "start_time": "2022-11-15T17:33:19.785Z"
   },
   {
    "duration": 6,
    "start_time": "2022-11-15T17:34:54.468Z"
   },
   {
    "duration": 1133612,
    "start_time": "2022-11-15T17:35:33.793Z"
   },
   {
    "duration": 5,
    "start_time": "2022-11-16T01:57:16.011Z"
   },
   {
    "duration": 4,
    "start_time": "2022-11-16T01:57:17.351Z"
   },
   {
    "duration": 125,
    "start_time": "2022-11-16T01:57:18.496Z"
   },
   {
    "duration": 22,
    "start_time": "2022-11-16T01:57:27.380Z"
   },
   {
    "duration": 152,
    "start_time": "2022-11-16T01:57:47.170Z"
   },
   {
    "duration": 159,
    "start_time": "2022-11-16T01:58:03.573Z"
   },
   {
    "duration": 108,
    "start_time": "2022-11-16T01:58:27.997Z"
   },
   {
    "duration": 99,
    "start_time": "2022-11-16T01:59:08.170Z"
   },
   {
    "duration": 11,
    "start_time": "2022-11-16T01:59:25.053Z"
   },
   {
    "duration": 35,
    "start_time": "2022-11-16T01:59:28.568Z"
   },
   {
    "duration": 70,
    "start_time": "2022-11-16T01:59:29.921Z"
   },
   {
    "duration": 4,
    "start_time": "2022-11-16T01:59:30.839Z"
   },
   {
    "duration": 92,
    "start_time": "2022-11-16T01:59:32.165Z"
   },
   {
    "duration": 13,
    "start_time": "2022-11-16T01:59:41.244Z"
   },
   {
    "duration": 93,
    "start_time": "2022-11-16T01:59:46.697Z"
   },
   {
    "duration": 92,
    "start_time": "2022-11-16T01:59:49.551Z"
   },
   {
    "duration": 13,
    "start_time": "2022-11-16T01:59:50.190Z"
   },
   {
    "duration": 76,
    "start_time": "2022-11-16T01:59:56.275Z"
   },
   {
    "duration": 308,
    "start_time": "2022-11-16T01:59:59.052Z"
   },
   {
    "duration": 1573,
    "start_time": "2022-11-16T02:00:01.960Z"
   },
   {
    "duration": 5824,
    "start_time": "2022-11-16T02:00:04.732Z"
   },
   {
    "duration": 471,
    "start_time": "2022-11-16T02:00:12.273Z"
   },
   {
    "duration": 1948,
    "start_time": "2022-11-16T02:00:16.107Z"
   },
   {
    "duration": 4,
    "start_time": "2022-11-16T02:07:59.231Z"
   },
   {
    "duration": 4,
    "start_time": "2022-11-16T02:09:07.700Z"
   },
   {
    "duration": 4,
    "start_time": "2022-11-16T02:09:23.483Z"
   },
   {
    "duration": 4,
    "start_time": "2022-11-16T02:09:31.415Z"
   },
   {
    "duration": 5,
    "start_time": "2022-11-16T02:10:02.939Z"
   },
   {
    "duration": 11,
    "start_time": "2022-11-16T02:10:34.745Z"
   },
   {
    "duration": 5,
    "start_time": "2022-11-16T02:10:46.453Z"
   },
   {
    "duration": 5,
    "start_time": "2022-11-16T02:10:58.422Z"
   },
   {
    "duration": 5,
    "start_time": "2022-11-16T02:11:05.936Z"
   },
   {
    "duration": 1582,
    "start_time": "2022-11-16T02:11:13.750Z"
   },
   {
    "duration": 711,
    "start_time": "2022-11-16T02:11:15.333Z"
   },
   {
    "duration": 29,
    "start_time": "2022-11-16T02:11:16.046Z"
   },
   {
    "duration": 26,
    "start_time": "2022-11-16T02:11:16.077Z"
   },
   {
    "duration": 31,
    "start_time": "2022-11-16T02:11:16.105Z"
   },
   {
    "duration": 256,
    "start_time": "2022-11-16T02:11:16.137Z"
   },
   {
    "duration": 10,
    "start_time": "2022-11-16T02:11:16.394Z"
   },
   {
    "duration": 3,
    "start_time": "2022-11-16T02:11:16.405Z"
   },
   {
    "duration": 9,
    "start_time": "2022-11-16T02:11:16.409Z"
   },
   {
    "duration": 6,
    "start_time": "2022-11-16T02:11:16.419Z"
   },
   {
    "duration": 1240,
    "start_time": "2022-11-16T02:11:16.427Z"
   },
   {
    "duration": 1035058,
    "start_time": "2022-11-16T02:11:17.669Z"
   },
   {
    "duration": 4,
    "start_time": "2022-11-16T02:28:32.729Z"
   },
   {
    "duration": 6,
    "start_time": "2022-11-16T02:28:32.735Z"
   },
   {
    "duration": 135,
    "start_time": "2022-11-16T02:28:32.742Z"
   },
   {
    "duration": 43,
    "start_time": "2022-11-16T02:28:32.879Z"
   },
   {
    "duration": 85,
    "start_time": "2022-11-16T02:28:32.924Z"
   },
   {
    "duration": 13,
    "start_time": "2022-11-16T02:28:33.010Z"
   },
   {
    "duration": 107,
    "start_time": "2022-11-16T02:28:33.025Z"
   },
   {
    "duration": 105,
    "start_time": "2022-11-16T02:28:33.133Z"
   },
   {
    "duration": 105,
    "start_time": "2022-11-16T02:28:33.240Z"
   },
   {
    "duration": 91,
    "start_time": "2022-11-16T02:28:33.347Z"
   },
   {
    "duration": 5,
    "start_time": "2022-11-16T02:28:33.440Z"
   },
   {
    "duration": 1543,
    "start_time": "2022-11-16T02:28:33.446Z"
   },
   {
    "duration": 5942,
    "start_time": "2022-11-16T02:28:34.991Z"
   },
   {
    "duration": 482,
    "start_time": "2022-11-16T02:28:40.934Z"
   },
   {
    "duration": 1993,
    "start_time": "2022-11-16T02:28:41.418Z"
   },
   {
    "duration": 4,
    "start_time": "2022-11-16T02:28:43.412Z"
   },
   {
    "duration": 14,
    "start_time": "2022-11-16T02:28:43.417Z"
   },
   {
    "duration": 20,
    "start_time": "2022-11-16T02:28:43.432Z"
   },
   {
    "duration": 24,
    "start_time": "2022-11-16T02:28:43.454Z"
   },
   {
    "duration": 16,
    "start_time": "2022-11-16T02:28:43.480Z"
   },
   {
    "duration": 0,
    "start_time": "2022-11-16T02:28:43.498Z"
   },
   {
    "duration": 45055,
    "start_time": "2022-11-16T02:28:58.416Z"
   },
   {
    "duration": 11650,
    "start_time": "2022-11-16T02:29:54.795Z"
   },
   {
    "duration": 174,
    "start_time": "2022-11-16T02:30:47.136Z"
   },
   {
    "duration": 35,
    "start_time": "2022-11-16T02:32:00.211Z"
   },
   {
    "duration": 3,
    "start_time": "2022-11-16T02:32:13.669Z"
   },
   {
    "duration": 6,
    "start_time": "2022-11-16T02:32:14.116Z"
   },
   {
    "duration": 5,
    "start_time": "2022-11-16T02:32:14.694Z"
   },
   {
    "duration": 11379,
    "start_time": "2022-11-16T02:32:18.583Z"
   },
   {
    "duration": 33,
    "start_time": "2022-11-16T02:32:29.964Z"
   },
   {
    "duration": 1573,
    "start_time": "2022-11-16T02:32:54.215Z"
   },
   {
    "duration": 72399,
    "start_time": "2022-11-16T02:33:35.538Z"
   },
   {
    "duration": 56,
    "start_time": "2022-11-16T02:35:09.378Z"
   },
   {
    "duration": 32,
    "start_time": "2022-11-16T02:35:12.330Z"
   },
   {
    "duration": 1517,
    "start_time": "2022-11-16T02:35:13.214Z"
   },
   {
    "duration": 333386,
    "start_time": "2022-11-16T02:35:47.772Z"
   },
   {
    "duration": 391,
    "start_time": "2022-11-16T02:43:06.848Z"
   },
   {
    "duration": 33,
    "start_time": "2022-11-16T02:43:09.829Z"
   },
   {
    "duration": 1636,
    "start_time": "2022-11-16T02:43:10.678Z"
   },
   {
    "duration": 8,
    "start_time": "2022-11-16T02:43:16.614Z"
   },
   {
    "duration": 704,
    "start_time": "2022-11-16T02:43:17.896Z"
   },
   {
    "duration": 157,
    "start_time": "2022-11-16T02:43:22.226Z"
   },
   {
    "duration": 44,
    "start_time": "2022-11-16T02:43:24.915Z"
   },
   {
    "duration": 17,
    "start_time": "2022-11-16T02:43:25.629Z"
   },
   {
    "duration": 37,
    "start_time": "2022-11-16T02:43:27.201Z"
   },
   {
    "duration": 1599,
    "start_time": "2022-11-16T02:43:37.386Z"
   },
   {
    "duration": 22,
    "start_time": "2022-11-16T02:43:39.201Z"
   },
   {
    "duration": 159,
    "start_time": "2022-11-16T02:43:40.384Z"
   },
   {
    "duration": 11,
    "start_time": "2022-11-16T02:43:44.157Z"
   },
   {
    "duration": 12,
    "start_time": "2022-11-16T02:48:00.311Z"
   },
   {
    "duration": 11,
    "start_time": "2022-11-16T02:48:15.220Z"
   },
   {
    "duration": 17,
    "start_time": "2022-11-16T02:49:19.635Z"
   },
   {
    "duration": 17,
    "start_time": "2022-11-16T02:49:27.170Z"
   },
   {
    "duration": 8,
    "start_time": "2022-11-16T02:50:59.053Z"
   },
   {
    "duration": 8,
    "start_time": "2022-11-16T02:51:24.445Z"
   },
   {
    "duration": 692,
    "start_time": "2022-11-16T02:51:38.604Z"
   },
   {
    "duration": 1610,
    "start_time": "2022-11-16T02:51:48.156Z"
   },
   {
    "duration": 706,
    "start_time": "2022-11-16T02:51:49.768Z"
   },
   {
    "duration": 32,
    "start_time": "2022-11-16T02:51:50.476Z"
   },
   {
    "duration": 18,
    "start_time": "2022-11-16T02:51:50.510Z"
   },
   {
    "duration": 34,
    "start_time": "2022-11-16T02:51:50.530Z"
   },
   {
    "duration": 197,
    "start_time": "2022-11-16T02:51:50.566Z"
   },
   {
    "duration": 9,
    "start_time": "2022-11-16T02:51:50.765Z"
   },
   {
    "duration": 3,
    "start_time": "2022-11-16T02:51:50.776Z"
   },
   {
    "duration": 22,
    "start_time": "2022-11-16T02:51:50.781Z"
   },
   {
    "duration": 5,
    "start_time": "2022-11-16T02:51:50.804Z"
   },
   {
    "duration": 1246,
    "start_time": "2022-11-16T02:51:50.811Z"
   },
   {
    "duration": 1058245,
    "start_time": "2022-11-16T02:51:52.058Z"
   },
   {
    "duration": 3,
    "start_time": "2022-11-16T03:09:30.305Z"
   },
   {
    "duration": 13,
    "start_time": "2022-11-16T03:09:30.321Z"
   },
   {
    "duration": 156,
    "start_time": "2022-11-16T03:09:30.336Z"
   },
   {
    "duration": 46,
    "start_time": "2022-11-16T03:09:30.494Z"
   },
   {
    "duration": 86,
    "start_time": "2022-11-16T03:09:30.542Z"
   },
   {
    "duration": 5,
    "start_time": "2022-11-16T03:09:30.630Z"
   },
   {
    "duration": 128,
    "start_time": "2022-11-16T03:09:30.637Z"
   },
   {
    "duration": 107,
    "start_time": "2022-11-16T03:09:30.767Z"
   },
   {
    "duration": 107,
    "start_time": "2022-11-16T03:09:30.875Z"
   },
   {
    "duration": 111,
    "start_time": "2022-11-16T03:09:30.984Z"
   },
   {
    "duration": 5,
    "start_time": "2022-11-16T03:09:31.096Z"
   },
   {
    "duration": 1689,
    "start_time": "2022-11-16T03:09:31.103Z"
   },
   {
    "duration": 6079,
    "start_time": "2022-11-16T03:09:32.794Z"
   },
   {
    "duration": 473,
    "start_time": "2022-11-16T03:09:38.875Z"
   },
   {
    "duration": 1894,
    "start_time": "2022-11-16T03:09:39.350Z"
   },
   {
    "duration": 4,
    "start_time": "2022-11-16T03:09:41.246Z"
   },
   {
    "duration": 8,
    "start_time": "2022-11-16T03:09:41.251Z"
   },
   {
    "duration": 5,
    "start_time": "2022-11-16T03:09:41.260Z"
   },
   {
    "duration": 7,
    "start_time": "2022-11-16T03:09:41.267Z"
   },
   {
    "duration": 46003,
    "start_time": "2022-11-16T03:09:41.275Z"
   },
   {
    "duration": 11825,
    "start_time": "2022-11-16T03:10:27.279Z"
   },
   {
    "duration": 68,
    "start_time": "2022-11-16T03:10:39.106Z"
   },
   {
    "duration": 1629,
    "start_time": "2022-11-16T03:10:39.176Z"
   },
   {
    "duration": 73214,
    "start_time": "2022-11-16T03:10:40.807Z"
   },
   {
    "duration": 69,
    "start_time": "2022-11-16T03:11:54.022Z"
   },
   {
    "duration": 50,
    "start_time": "2022-11-16T03:11:54.093Z"
   },
   {
    "duration": 1480,
    "start_time": "2022-11-16T03:11:54.145Z"
   },
   {
    "duration": 345660,
    "start_time": "2022-11-16T03:11:55.627Z"
   },
   {
    "duration": 413,
    "start_time": "2022-11-16T03:17:41.290Z"
   },
   {
    "duration": 37,
    "start_time": "2022-11-16T03:17:41.705Z"
   },
   {
    "duration": 1668,
    "start_time": "2022-11-16T03:17:41.743Z"
   },
   {
    "duration": 11,
    "start_time": "2022-11-16T03:17:43.412Z"
   },
   {
    "duration": 757,
    "start_time": "2022-11-16T03:17:43.425Z"
   },
   {
    "duration": 126,
    "start_time": "2022-11-16T03:17:44.183Z"
   },
   {
    "duration": 0,
    "start_time": "2022-11-16T03:17:44.310Z"
   },
   {
    "duration": 0,
    "start_time": "2022-11-16T03:17:44.312Z"
   },
   {
    "duration": 0,
    "start_time": "2022-11-16T03:17:44.313Z"
   },
   {
    "duration": 0,
    "start_time": "2022-11-16T03:17:44.314Z"
   },
   {
    "duration": 0,
    "start_time": "2022-11-16T03:17:44.322Z"
   },
   {
    "duration": 41,
    "start_time": "2022-11-16T03:28:52.945Z"
   },
   {
    "duration": 17,
    "start_time": "2022-11-16T03:28:54.438Z"
   },
   {
    "duration": 32,
    "start_time": "2022-11-16T03:28:55.462Z"
   },
   {
    "duration": 1587,
    "start_time": "2022-11-16T03:28:56.188Z"
   },
   {
    "duration": 12,
    "start_time": "2022-11-16T03:28:59.384Z"
   },
   {
    "duration": 19,
    "start_time": "2022-11-16T03:29:05.111Z"
   },
   {
    "duration": 12,
    "start_time": "2022-11-16T03:29:08.507Z"
   },
   {
    "duration": 1731,
    "start_time": "2022-11-19T01:57:53.867Z"
   },
   {
    "duration": 2242,
    "start_time": "2022-11-19T01:57:55.600Z"
   },
   {
    "duration": 31,
    "start_time": "2022-11-19T01:57:57.844Z"
   },
   {
    "duration": 10,
    "start_time": "2022-11-19T01:57:57.877Z"
   },
   {
    "duration": 32,
    "start_time": "2022-11-19T01:57:57.889Z"
   },
   {
    "duration": 152,
    "start_time": "2022-11-19T01:57:57.922Z"
   },
   {
    "duration": 243,
    "start_time": "2022-11-19T01:57:58.075Z"
   },
   {
    "duration": 4,
    "start_time": "2022-11-19T01:57:58.320Z"
   },
   {
    "duration": 17,
    "start_time": "2022-11-19T01:57:58.326Z"
   },
   {
    "duration": 4,
    "start_time": "2022-11-19T01:57:58.346Z"
   },
   {
    "duration": 1306,
    "start_time": "2022-11-19T01:57:58.351Z"
   },
   {
    "duration": 1086297,
    "start_time": "2022-11-19T01:57:59.659Z"
   },
   {
    "duration": 5,
    "start_time": "2022-11-19T02:16:05.958Z"
   },
   {
    "duration": 22,
    "start_time": "2022-11-19T02:16:05.964Z"
   },
   {
    "duration": 163,
    "start_time": "2022-11-19T02:16:05.988Z"
   },
   {
    "duration": 40,
    "start_time": "2022-11-19T02:16:06.152Z"
   },
   {
    "duration": 116,
    "start_time": "2022-11-19T02:16:06.194Z"
   },
   {
    "duration": 5,
    "start_time": "2022-11-19T02:16:06.312Z"
   },
   {
    "duration": 138,
    "start_time": "2022-11-19T02:16:06.319Z"
   },
   {
    "duration": 108,
    "start_time": "2022-11-19T02:16:06.459Z"
   },
   {
    "duration": 105,
    "start_time": "2022-11-19T02:16:06.568Z"
   },
   {
    "duration": 87,
    "start_time": "2022-11-19T02:16:06.675Z"
   },
   {
    "duration": 5,
    "start_time": "2022-11-19T02:16:06.764Z"
   },
   {
    "duration": 7,
    "start_time": "2022-11-19T02:16:06.770Z"
   },
   {
    "duration": 146,
    "start_time": "2022-11-19T02:16:06.778Z"
   },
   {
    "duration": 0,
    "start_time": "2022-11-19T02:16:06.926Z"
   },
   {
    "duration": 0,
    "start_time": "2022-11-19T02:16:06.927Z"
   },
   {
    "duration": 0,
    "start_time": "2022-11-19T02:16:06.928Z"
   },
   {
    "duration": 0,
    "start_time": "2022-11-19T02:16:06.929Z"
   },
   {
    "duration": 0,
    "start_time": "2022-11-19T02:16:06.931Z"
   },
   {
    "duration": 0,
    "start_time": "2022-11-19T02:16:06.932Z"
   },
   {
    "duration": 0,
    "start_time": "2022-11-19T02:16:06.933Z"
   },
   {
    "duration": 0,
    "start_time": "2022-11-19T02:16:06.934Z"
   },
   {
    "duration": 0,
    "start_time": "2022-11-19T02:16:06.934Z"
   },
   {
    "duration": 1,
    "start_time": "2022-11-19T02:16:06.935Z"
   },
   {
    "duration": 0,
    "start_time": "2022-11-19T02:16:06.936Z"
   },
   {
    "duration": 0,
    "start_time": "2022-11-19T02:16:06.937Z"
   },
   {
    "duration": 0,
    "start_time": "2022-11-19T02:16:06.939Z"
   },
   {
    "duration": 0,
    "start_time": "2022-11-19T02:16:06.940Z"
   },
   {
    "duration": 0,
    "start_time": "2022-11-19T02:16:06.942Z"
   },
   {
    "duration": 0,
    "start_time": "2022-11-19T02:16:06.943Z"
   },
   {
    "duration": 1,
    "start_time": "2022-11-19T02:16:06.944Z"
   },
   {
    "duration": 0,
    "start_time": "2022-11-19T02:16:06.946Z"
   },
   {
    "duration": 0,
    "start_time": "2022-11-19T02:16:06.947Z"
   },
   {
    "duration": 0,
    "start_time": "2022-11-19T02:16:06.948Z"
   },
   {
    "duration": 0,
    "start_time": "2022-11-19T02:16:06.950Z"
   },
   {
    "duration": 0,
    "start_time": "2022-11-19T02:16:06.951Z"
   },
   {
    "duration": 0,
    "start_time": "2022-11-19T02:16:06.952Z"
   },
   {
    "duration": 0,
    "start_time": "2022-11-19T02:16:06.953Z"
   },
   {
    "duration": 0,
    "start_time": "2022-11-19T02:16:06.955Z"
   },
   {
    "duration": 0,
    "start_time": "2022-11-19T02:16:06.956Z"
   },
   {
    "duration": 1612,
    "start_time": "2022-11-19T02:46:22.278Z"
   },
   {
    "duration": 6136,
    "start_time": "2022-11-19T02:46:27.340Z"
   },
   {
    "duration": 265,
    "start_time": "2022-11-19T02:46:35.372Z"
   },
   {
    "duration": 988,
    "start_time": "2022-11-19T02:46:36.460Z"
   },
   {
    "duration": 4,
    "start_time": "2022-11-19T02:46:43.605Z"
   },
   {
    "duration": 4,
    "start_time": "2022-11-19T02:46:44.308Z"
   },
   {
    "duration": 3,
    "start_time": "2022-11-19T02:46:44.930Z"
   },
   {
    "duration": 5,
    "start_time": "2022-11-19T02:46:48.253Z"
   },
   {
    "duration": 494,
    "start_time": "2022-11-19T02:46:50.375Z"
   },
   {
    "duration": 62,
    "start_time": "2022-11-19T02:50:35.864Z"
   },
   {
    "duration": 4,
    "start_time": "2022-11-19T02:50:37.332Z"
   },
   {
    "duration": 5,
    "start_time": "2022-11-19T02:51:50.236Z"
   },
   {
    "duration": 94,
    "start_time": "2022-11-19T02:51:58.259Z"
   },
   {
    "duration": 98,
    "start_time": "2022-11-19T02:51:59.416Z"
   },
   {
    "duration": 82,
    "start_time": "2022-11-19T02:52:00.395Z"
   },
   {
    "duration": 81,
    "start_time": "2022-11-19T02:52:02.828Z"
   },
   {
    "duration": 4,
    "start_time": "2022-11-19T02:52:06.883Z"
   },
   {
    "duration": 47,
    "start_time": "2022-11-19T02:52:19.732Z"
   },
   {
    "duration": 1647,
    "start_time": "2022-11-19T02:52:38.871Z"
   },
   {
    "duration": 2206,
    "start_time": "2022-11-19T02:52:40.520Z"
   },
   {
    "duration": 31,
    "start_time": "2022-11-19T02:52:42.728Z"
   },
   {
    "duration": 11,
    "start_time": "2022-11-19T02:52:42.761Z"
   },
   {
    "duration": 39,
    "start_time": "2022-11-19T02:52:42.774Z"
   },
   {
    "duration": 214,
    "start_time": "2022-11-19T02:52:42.815Z"
   },
   {
    "duration": 28,
    "start_time": "2022-11-19T02:52:43.031Z"
   },
   {
    "duration": 3,
    "start_time": "2022-11-19T02:52:43.061Z"
   },
   {
    "duration": 4,
    "start_time": "2022-11-19T02:52:43.066Z"
   },
   {
    "duration": 7,
    "start_time": "2022-11-19T02:52:43.072Z"
   },
   {
    "duration": 1276,
    "start_time": "2022-11-19T02:52:43.080Z"
   },
   {
    "duration": 1092341,
    "start_time": "2022-11-19T02:52:44.358Z"
   },
   {
    "duration": 13,
    "start_time": "2022-11-19T03:10:56.701Z"
   },
   {
    "duration": 7,
    "start_time": "2022-11-19T03:10:56.717Z"
   },
   {
    "duration": 130,
    "start_time": "2022-11-19T03:10:56.726Z"
   },
   {
    "duration": 35,
    "start_time": "2022-11-19T03:10:56.857Z"
   },
   {
    "duration": 68,
    "start_time": "2022-11-19T03:10:56.893Z"
   },
   {
    "duration": 4,
    "start_time": "2022-11-19T03:10:56.963Z"
   },
   {
    "duration": 106,
    "start_time": "2022-11-19T03:10:56.969Z"
   },
   {
    "duration": 109,
    "start_time": "2022-11-19T03:10:57.077Z"
   },
   {
    "duration": 81,
    "start_time": "2022-11-19T03:10:57.188Z"
   },
   {
    "duration": 86,
    "start_time": "2022-11-19T03:10:57.271Z"
   },
   {
    "duration": 5,
    "start_time": "2022-11-19T03:10:57.359Z"
   },
   {
    "duration": 1301,
    "start_time": "2022-11-19T03:10:57.365Z"
   },
   {
    "duration": 4874,
    "start_time": "2022-11-19T03:10:58.668Z"
   },
   {
    "duration": 422,
    "start_time": "2022-11-19T03:11:03.544Z"
   },
   {
    "duration": 1624,
    "start_time": "2022-11-19T03:11:03.967Z"
   },
   {
    "duration": 5,
    "start_time": "2022-11-19T03:11:05.592Z"
   },
   {
    "duration": 14,
    "start_time": "2022-11-19T03:11:05.598Z"
   },
   {
    "duration": 4,
    "start_time": "2022-11-19T03:11:05.614Z"
   },
   {
    "duration": 8,
    "start_time": "2022-11-19T03:11:05.620Z"
   },
   {
    "duration": 516,
    "start_time": "2022-11-19T03:11:05.629Z"
   },
   {
    "duration": 0,
    "start_time": "2022-11-19T03:11:06.147Z"
   },
   {
    "duration": 0,
    "start_time": "2022-11-19T03:11:06.148Z"
   },
   {
    "duration": 0,
    "start_time": "2022-11-19T03:11:06.150Z"
   },
   {
    "duration": 0,
    "start_time": "2022-11-19T03:11:06.150Z"
   },
   {
    "duration": 0,
    "start_time": "2022-11-19T03:11:06.151Z"
   },
   {
    "duration": 0,
    "start_time": "2022-11-19T03:11:06.152Z"
   },
   {
    "duration": 0,
    "start_time": "2022-11-19T03:11:06.153Z"
   },
   {
    "duration": 0,
    "start_time": "2022-11-19T03:11:06.154Z"
   },
   {
    "duration": 0,
    "start_time": "2022-11-19T03:11:06.155Z"
   },
   {
    "duration": 0,
    "start_time": "2022-11-19T03:11:06.156Z"
   },
   {
    "duration": 0,
    "start_time": "2022-11-19T03:11:06.157Z"
   },
   {
    "duration": 0,
    "start_time": "2022-11-19T03:11:06.158Z"
   },
   {
    "duration": 0,
    "start_time": "2022-11-19T03:11:06.159Z"
   },
   {
    "duration": 0,
    "start_time": "2022-11-19T03:11:06.160Z"
   },
   {
    "duration": 0,
    "start_time": "2022-11-19T03:11:06.161Z"
   },
   {
    "duration": 0,
    "start_time": "2022-11-19T03:11:06.162Z"
   },
   {
    "duration": 0,
    "start_time": "2022-11-19T03:11:06.163Z"
   },
   {
    "duration": 0,
    "start_time": "2022-11-19T03:11:06.164Z"
   },
   {
    "duration": 0,
    "start_time": "2022-11-19T03:11:06.165Z"
   },
   {
    "duration": 424,
    "start_time": "2022-11-19T05:51:37.908Z"
   },
   {
    "duration": 3861,
    "start_time": "2022-11-19T05:59:07.420Z"
   },
   {
    "duration": 5060,
    "start_time": "2022-11-19T05:59:17.076Z"
   },
   {
    "duration": 3973,
    "start_time": "2022-11-19T05:59:42.582Z"
   },
   {
    "duration": 5276,
    "start_time": "2022-11-19T06:00:09.007Z"
   },
   {
    "duration": 3869,
    "start_time": "2022-11-19T06:00:27.471Z"
   },
   {
    "duration": 37211,
    "start_time": "2022-11-19T06:01:08.132Z"
   },
   {
    "duration": 3223,
    "start_time": "2022-11-19T06:07:54.315Z"
   },
   {
    "duration": 3076,
    "start_time": "2022-11-19T06:08:20.193Z"
   },
   {
    "duration": 63,
    "start_time": "2022-11-19T06:09:10.766Z"
   },
   {
    "duration": 5,
    "start_time": "2022-11-19T06:09:13.086Z"
   },
   {
    "duration": 68,
    "start_time": "2022-11-19T06:09:25.110Z"
   },
   {
    "duration": 4,
    "start_time": "2022-11-19T06:09:26.041Z"
   },
   {
    "duration": 4,
    "start_time": "2022-11-19T06:09:43.531Z"
   },
   {
    "duration": 5,
    "start_time": "2022-11-19T06:09:49.538Z"
   },
   {
    "duration": 2210,
    "start_time": "2022-11-19T19:30:44.913Z"
   },
   {
    "duration": 703,
    "start_time": "2022-11-19T19:30:47.125Z"
   },
   {
    "duration": 25,
    "start_time": "2022-11-19T19:30:47.830Z"
   },
   {
    "duration": 8,
    "start_time": "2022-11-19T19:30:47.857Z"
   },
   {
    "duration": 29,
    "start_time": "2022-11-19T19:30:47.867Z"
   },
   {
    "duration": 188,
    "start_time": "2022-11-19T19:30:47.898Z"
   },
   {
    "duration": 8,
    "start_time": "2022-11-19T19:30:48.088Z"
   },
   {
    "duration": 2,
    "start_time": "2022-11-19T19:30:48.098Z"
   },
   {
    "duration": 12,
    "start_time": "2022-11-19T19:30:48.101Z"
   },
   {
    "duration": 11,
    "start_time": "2022-11-19T19:32:39.696Z"
   },
   {
    "duration": 10,
    "start_time": "2022-11-19T19:32:55.168Z"
   },
   {
    "duration": 43,
    "start_time": "2022-11-19T19:38:52.636Z"
   },
   {
    "duration": 5,
    "start_time": "2022-11-19T19:38:54.673Z"
   },
   {
    "duration": 124,
    "start_time": "2022-11-19T19:38:55.722Z"
   },
   {
    "duration": 95,
    "start_time": "2022-11-19T19:38:56.834Z"
   },
   {
    "duration": 51,
    "start_time": "2022-11-19T19:38:58.142Z"
   },
   {
    "duration": 76,
    "start_time": "2022-11-19T19:39:00.056Z"
   },
   {
    "duration": 5,
    "start_time": "2022-11-19T19:39:02.034Z"
   },
   {
    "duration": 2,
    "start_time": "2022-11-19T19:39:09.453Z"
   },
   {
    "duration": 1346,
    "start_time": "2022-11-19T19:39:11.262Z"
   },
   {
    "duration": 3791,
    "start_time": "2022-11-19T19:39:33.642Z"
   },
   {
    "duration": 402,
    "start_time": "2022-11-19T19:40:02.722Z"
   },
   {
    "duration": 2887,
    "start_time": "2022-11-19T19:40:11.329Z"
   },
   {
    "duration": 2858,
    "start_time": "2022-11-19T19:40:23.994Z"
   },
   {
    "duration": 4,
    "start_time": "2022-11-19T19:42:19.282Z"
   },
   {
    "duration": 45,
    "start_time": "2022-11-23T01:18:55.663Z"
   },
   {
    "duration": 1701,
    "start_time": "2022-11-23T01:19:03.971Z"
   },
   {
    "duration": 2213,
    "start_time": "2022-11-23T01:19:05.673Z"
   },
   {
    "duration": 26,
    "start_time": "2022-11-23T01:19:07.888Z"
   },
   {
    "duration": 8,
    "start_time": "2022-11-23T01:19:07.916Z"
   },
   {
    "duration": 28,
    "start_time": "2022-11-23T01:19:07.926Z"
   },
   {
    "duration": 158,
    "start_time": "2022-11-23T01:19:07.955Z"
   },
   {
    "duration": 421,
    "start_time": "2022-11-23T01:19:08.115Z"
   },
   {
    "duration": 3,
    "start_time": "2022-11-23T01:19:08.537Z"
   },
   {
    "duration": 5,
    "start_time": "2022-11-23T01:19:08.541Z"
   },
   {
    "duration": 4,
    "start_time": "2022-11-23T01:19:08.549Z"
   },
   {
    "duration": 1208,
    "start_time": "2022-11-23T01:19:08.554Z"
   },
   {
    "duration": 1059049,
    "start_time": "2022-11-23T01:19:09.764Z"
   },
   {
    "duration": 8,
    "start_time": "2022-11-23T01:36:48.814Z"
   },
   {
    "duration": 13,
    "start_time": "2022-11-23T01:36:48.823Z"
   },
   {
    "duration": 178,
    "start_time": "2022-11-23T01:36:48.838Z"
   },
   {
    "duration": 37,
    "start_time": "2022-11-23T01:36:49.017Z"
   },
   {
    "duration": 51,
    "start_time": "2022-11-23T01:36:49.056Z"
   },
   {
    "duration": 5,
    "start_time": "2022-11-23T01:36:49.121Z"
   },
   {
    "duration": 7,
    "start_time": "2022-11-23T01:36:49.127Z"
   },
   {
    "duration": 106,
    "start_time": "2022-11-23T01:36:49.135Z"
   },
   {
    "duration": 97,
    "start_time": "2022-11-23T01:36:49.243Z"
   },
   {
    "duration": 69,
    "start_time": "2022-11-23T01:36:49.341Z"
   },
   {
    "duration": 77,
    "start_time": "2022-11-23T01:36:49.420Z"
   },
   {
    "duration": 5,
    "start_time": "2022-11-23T01:36:49.498Z"
   },
   {
    "duration": 17,
    "start_time": "2022-11-23T01:36:49.504Z"
   },
   {
    "duration": 4189,
    "start_time": "2022-11-23T01:36:49.522Z"
   },
   {
    "duration": 5,
    "start_time": "2022-11-23T01:37:42.618Z"
   },
   {
    "duration": 93,
    "start_time": "2022-11-23T01:48:44.520Z"
   },
   {
    "duration": 18,
    "start_time": "2022-11-23T01:48:58.005Z"
   },
   {
    "duration": 10,
    "start_time": "2022-11-23T01:49:02.893Z"
   },
   {
    "duration": 12,
    "start_time": "2022-11-23T01:51:09.726Z"
   },
   {
    "duration": 12,
    "start_time": "2022-11-23T01:51:36.601Z"
   },
   {
    "duration": 5,
    "start_time": "2022-11-23T01:52:31.456Z"
   },
   {
    "duration": 5,
    "start_time": "2022-11-23T01:55:55.710Z"
   },
   {
    "duration": 9,
    "start_time": "2022-11-23T01:56:24.623Z"
   },
   {
    "duration": 41,
    "start_time": "2022-11-23T01:58:26.243Z"
   },
   {
    "duration": 1149,
    "start_time": "2022-11-23T02:01:07.959Z"
   },
   {
    "duration": 674959,
    "start_time": "2022-11-23T02:07:21.243Z"
   },
   {
    "duration": 670835,
    "start_time": "2022-11-23T02:20:15.338Z"
   },
   {
    "duration": 11,
    "start_time": "2022-11-23T02:57:03.916Z"
   },
   {
    "duration": 720575,
    "start_time": "2022-11-23T02:57:53.256Z"
   },
   {
    "duration": 74,
    "start_time": "2022-11-23T03:35:46.822Z"
   },
   {
    "duration": 79,
    "start_time": "2022-11-23T04:00:02.145Z"
   },
   {
    "duration": 1535,
    "start_time": "2022-11-23T04:00:09.245Z"
   },
   {
    "duration": 788,
    "start_time": "2022-11-23T04:00:10.782Z"
   },
   {
    "duration": 26,
    "start_time": "2022-11-23T04:00:11.571Z"
   },
   {
    "duration": 9,
    "start_time": "2022-11-23T04:00:11.599Z"
   },
   {
    "duration": 29,
    "start_time": "2022-11-23T04:00:11.620Z"
   },
   {
    "duration": 179,
    "start_time": "2022-11-23T04:00:11.651Z"
   },
   {
    "duration": 9,
    "start_time": "2022-11-23T04:00:11.832Z"
   },
   {
    "duration": 16,
    "start_time": "2022-11-23T04:00:11.843Z"
   },
   {
    "duration": 4,
    "start_time": "2022-11-23T04:00:11.860Z"
   },
   {
    "duration": 6,
    "start_time": "2022-11-23T04:00:11.867Z"
   },
   {
    "duration": 1234,
    "start_time": "2022-11-23T04:00:11.875Z"
   },
   {
    "duration": 1060391,
    "start_time": "2022-11-23T04:00:13.111Z"
   },
   {
    "duration": 20,
    "start_time": "2022-11-23T04:17:53.504Z"
   },
   {
    "duration": 7,
    "start_time": "2022-11-23T04:17:53.526Z"
   },
   {
    "duration": 128,
    "start_time": "2022-11-23T04:17:53.534Z"
   },
   {
    "duration": 40,
    "start_time": "2022-11-23T04:17:53.664Z"
   },
   {
    "duration": 56,
    "start_time": "2022-11-23T04:17:53.705Z"
   },
   {
    "duration": 131,
    "start_time": "2022-11-23T04:17:53.763Z"
   },
   {
    "duration": 0,
    "start_time": "2022-11-23T04:17:53.896Z"
   },
   {
    "duration": 0,
    "start_time": "2022-11-23T04:17:53.898Z"
   },
   {
    "duration": 0,
    "start_time": "2022-11-23T04:17:53.898Z"
   },
   {
    "duration": 0,
    "start_time": "2022-11-23T04:17:53.899Z"
   },
   {
    "duration": 0,
    "start_time": "2022-11-23T04:17:53.901Z"
   },
   {
    "duration": 0,
    "start_time": "2022-11-23T04:17:53.902Z"
   },
   {
    "duration": 0,
    "start_time": "2022-11-23T04:17:53.903Z"
   },
   {
    "duration": 0,
    "start_time": "2022-11-23T04:17:53.904Z"
   },
   {
    "duration": 0,
    "start_time": "2022-11-23T04:17:53.921Z"
   },
   {
    "duration": 0,
    "start_time": "2022-11-23T04:17:53.922Z"
   },
   {
    "duration": 0,
    "start_time": "2022-11-23T04:17:53.923Z"
   },
   {
    "duration": 0,
    "start_time": "2022-11-23T04:17:53.924Z"
   },
   {
    "duration": 0,
    "start_time": "2022-11-23T04:17:53.925Z"
   },
   {
    "duration": 0,
    "start_time": "2022-11-23T04:17:53.926Z"
   },
   {
    "duration": 0,
    "start_time": "2022-11-23T04:17:53.927Z"
   },
   {
    "duration": 0,
    "start_time": "2022-11-23T04:17:53.928Z"
   },
   {
    "duration": 0,
    "start_time": "2022-11-23T04:17:53.929Z"
   },
   {
    "duration": 0,
    "start_time": "2022-11-23T04:17:53.930Z"
   },
   {
    "duration": 0,
    "start_time": "2022-11-23T04:17:53.932Z"
   },
   {
    "duration": 0,
    "start_time": "2022-11-23T04:17:53.933Z"
   },
   {
    "duration": 0,
    "start_time": "2022-11-23T04:17:53.934Z"
   },
   {
    "duration": 0,
    "start_time": "2022-11-23T04:17:53.935Z"
   },
   {
    "duration": 0,
    "start_time": "2022-11-23T04:17:53.936Z"
   },
   {
    "duration": 0,
    "start_time": "2022-11-23T04:17:53.937Z"
   },
   {
    "duration": 0,
    "start_time": "2022-11-23T04:17:53.937Z"
   },
   {
    "duration": 0,
    "start_time": "2022-11-23T04:17:53.938Z"
   },
   {
    "duration": 0,
    "start_time": "2022-11-23T04:17:53.939Z"
   },
   {
    "duration": 0,
    "start_time": "2022-11-23T04:17:53.940Z"
   },
   {
    "duration": 0,
    "start_time": "2022-11-23T04:17:53.941Z"
   },
   {
    "duration": 0,
    "start_time": "2022-11-23T04:17:53.942Z"
   },
   {
    "duration": 0,
    "start_time": "2022-11-23T04:17:53.943Z"
   },
   {
    "duration": 0,
    "start_time": "2022-11-23T04:17:53.944Z"
   },
   {
    "duration": 0,
    "start_time": "2022-11-23T04:17:53.945Z"
   },
   {
    "duration": 0,
    "start_time": "2022-11-23T04:17:53.947Z"
   },
   {
    "duration": 45,
    "start_time": "2022-11-23T04:25:49.999Z"
   },
   {
    "duration": 5,
    "start_time": "2022-11-23T04:25:51.618Z"
   },
   {
    "duration": 4,
    "start_time": "2022-11-23T04:25:57.254Z"
   },
   {
    "duration": 91,
    "start_time": "2022-11-23T04:25:58.848Z"
   },
   {
    "duration": 112,
    "start_time": "2022-11-23T04:26:01.876Z"
   },
   {
    "duration": 72,
    "start_time": "2022-11-23T04:26:04.339Z"
   },
   {
    "duration": 76,
    "start_time": "2022-11-23T04:26:06.613Z"
   },
   {
    "duration": 5,
    "start_time": "2022-11-23T04:26:10.249Z"
   },
   {
    "duration": 3,
    "start_time": "2022-11-23T04:26:10.997Z"
   },
   {
    "duration": 3406,
    "start_time": "2022-11-23T04:26:16.186Z"
   },
   {
    "duration": 4,
    "start_time": "2022-11-23T04:26:24.119Z"
   },
   {
    "duration": 2260,
    "start_time": "2022-11-23T04:27:56.159Z"
   },
   {
    "duration": 5,
    "start_time": "2022-11-23T04:28:15.293Z"
   },
   {
    "duration": 4,
    "start_time": "2022-11-23T04:28:15.844Z"
   },
   {
    "duration": 3,
    "start_time": "2022-11-23T04:28:16.390Z"
   },
   {
    "duration": 4,
    "start_time": "2022-11-23T04:28:18.299Z"
   },
   {
    "duration": 11,
    "start_time": "2022-11-23T04:28:19.183Z"
   },
   {
    "duration": 1537,
    "start_time": "2022-11-23T04:28:27.722Z"
   },
   {
    "duration": 745,
    "start_time": "2022-11-23T04:28:29.260Z"
   },
   {
    "duration": 30,
    "start_time": "2022-11-23T04:28:30.006Z"
   },
   {
    "duration": 10,
    "start_time": "2022-11-23T04:28:30.038Z"
   },
   {
    "duration": 43,
    "start_time": "2022-11-23T04:28:30.049Z"
   },
   {
    "duration": 183,
    "start_time": "2022-11-23T04:28:30.094Z"
   },
   {
    "duration": 9,
    "start_time": "2022-11-23T04:28:30.278Z"
   },
   {
    "duration": 14,
    "start_time": "2022-11-23T04:28:30.288Z"
   },
   {
    "duration": 32,
    "start_time": "2022-11-23T04:28:30.304Z"
   },
   {
    "duration": 24,
    "start_time": "2022-11-23T04:28:30.338Z"
   },
   {
    "duration": 1256,
    "start_time": "2022-11-23T04:28:30.364Z"
   },
   {
    "duration": 1088669,
    "start_time": "2022-11-23T04:28:31.621Z"
   },
   {
    "duration": 4,
    "start_time": "2022-11-23T04:46:40.292Z"
   },
   {
    "duration": 23,
    "start_time": "2022-11-23T04:46:40.298Z"
   },
   {
    "duration": 127,
    "start_time": "2022-11-23T04:46:40.322Z"
   },
   {
    "duration": 33,
    "start_time": "2022-11-23T04:46:40.451Z"
   },
   {
    "duration": 47,
    "start_time": "2022-11-23T04:46:40.486Z"
   },
   {
    "duration": 4,
    "start_time": "2022-11-23T04:46:40.535Z"
   },
   {
    "duration": 10,
    "start_time": "2022-11-23T04:46:40.541Z"
   },
   {
    "duration": 113,
    "start_time": "2022-11-23T04:46:40.553Z"
   },
   {
    "duration": 96,
    "start_time": "2022-11-23T04:46:40.667Z"
   },
   {
    "duration": 76,
    "start_time": "2022-11-23T04:46:40.765Z"
   },
   {
    "duration": 81,
    "start_time": "2022-11-23T04:46:40.843Z"
   },
   {
    "duration": 4,
    "start_time": "2022-11-23T04:46:40.926Z"
   },
   {
    "duration": 5,
    "start_time": "2022-11-23T04:46:40.932Z"
   },
   {
    "duration": 3472,
    "start_time": "2022-11-23T04:46:40.939Z"
   },
   {
    "duration": 9,
    "start_time": "2022-11-23T04:46:44.412Z"
   },
   {
    "duration": 2325,
    "start_time": "2022-11-23T04:46:44.424Z"
   },
   {
    "duration": 4,
    "start_time": "2022-11-23T04:46:46.750Z"
   },
   {
    "duration": 7,
    "start_time": "2022-11-23T04:46:46.756Z"
   },
   {
    "duration": 6,
    "start_time": "2022-11-23T04:46:46.764Z"
   },
   {
    "duration": 10,
    "start_time": "2022-11-23T04:46:46.771Z"
   },
   {
    "duration": 135,
    "start_time": "2022-11-23T04:46:46.782Z"
   },
   {
    "duration": 0,
    "start_time": "2022-11-23T04:46:46.918Z"
   },
   {
    "duration": 0,
    "start_time": "2022-11-23T04:46:46.921Z"
   },
   {
    "duration": 0,
    "start_time": "2022-11-23T04:46:46.922Z"
   },
   {
    "duration": 0,
    "start_time": "2022-11-23T04:46:46.923Z"
   },
   {
    "duration": 0,
    "start_time": "2022-11-23T04:46:46.924Z"
   },
   {
    "duration": 0,
    "start_time": "2022-11-23T04:46:46.925Z"
   },
   {
    "duration": 0,
    "start_time": "2022-11-23T04:46:46.927Z"
   },
   {
    "duration": 0,
    "start_time": "2022-11-23T04:46:46.927Z"
   },
   {
    "duration": 0,
    "start_time": "2022-11-23T04:46:46.928Z"
   },
   {
    "duration": 0,
    "start_time": "2022-11-23T04:46:46.929Z"
   },
   {
    "duration": 0,
    "start_time": "2022-11-23T04:46:46.931Z"
   },
   {
    "duration": 0,
    "start_time": "2022-11-23T04:46:46.932Z"
   },
   {
    "duration": 0,
    "start_time": "2022-11-23T04:46:46.934Z"
   },
   {
    "duration": 0,
    "start_time": "2022-11-23T04:46:46.935Z"
   },
   {
    "duration": 0,
    "start_time": "2022-11-23T04:46:46.937Z"
   },
   {
    "duration": 0,
    "start_time": "2022-11-23T04:46:46.938Z"
   },
   {
    "duration": 0,
    "start_time": "2022-11-23T04:46:46.940Z"
   },
   {
    "duration": 0,
    "start_time": "2022-11-23T04:46:46.940Z"
   },
   {
    "duration": 0,
    "start_time": "2022-11-23T04:46:46.942Z"
   },
   {
    "duration": 5,
    "start_time": "2022-11-23T06:06:34.673Z"
   },
   {
    "duration": 917188,
    "start_time": "2022-11-23T06:06:51.264Z"
   },
   {
    "duration": 80,
    "start_time": "2022-11-23T07:45:51.774Z"
   },
   {
    "duration": 9,
    "start_time": "2022-11-23T07:47:06.942Z"
   },
   {
    "duration": 1733,
    "start_time": "2022-12-20T10:40:39.505Z"
   },
   {
    "duration": 2348,
    "start_time": "2022-12-20T10:40:41.240Z"
   },
   {
    "duration": 35,
    "start_time": "2022-12-20T10:40:43.590Z"
   },
   {
    "duration": 13,
    "start_time": "2022-12-20T10:40:43.628Z"
   },
   {
    "duration": 30,
    "start_time": "2022-12-20T10:40:43.643Z"
   },
   {
    "duration": 215,
    "start_time": "2022-12-20T10:40:43.676Z"
   },
   {
    "duration": 427,
    "start_time": "2022-12-20T10:40:43.893Z"
   },
   {
    "duration": 3,
    "start_time": "2022-12-20T10:40:44.322Z"
   },
   {
    "duration": 7,
    "start_time": "2022-12-20T10:40:44.327Z"
   },
   {
    "duration": 5,
    "start_time": "2022-12-20T10:40:44.336Z"
   },
   {
    "duration": 1305,
    "start_time": "2022-12-20T10:40:44.343Z"
   },
   {
    "duration": 1299555,
    "start_time": "2022-12-20T10:40:45.649Z"
   },
   {
    "duration": 12,
    "start_time": "2022-12-20T11:02:25.206Z"
   },
   {
    "duration": 26,
    "start_time": "2022-12-20T11:02:25.220Z"
   },
   {
    "duration": 183,
    "start_time": "2022-12-20T11:02:25.248Z"
   },
   {
    "duration": 31,
    "start_time": "2022-12-20T11:02:25.433Z"
   },
   {
    "duration": 35,
    "start_time": "2022-12-20T11:02:25.475Z"
   },
   {
    "duration": 4,
    "start_time": "2022-12-20T11:02:25.512Z"
   },
   {
    "duration": 24,
    "start_time": "2022-12-20T11:02:25.518Z"
   },
   {
    "duration": 176,
    "start_time": "2022-12-20T11:02:25.544Z"
   },
   {
    "duration": 131,
    "start_time": "2022-12-20T11:02:25.722Z"
   },
   {
    "duration": 76,
    "start_time": "2022-12-20T11:02:25.855Z"
   },
   {
    "duration": 109,
    "start_time": "2022-12-20T11:02:25.933Z"
   },
   {
    "duration": 6,
    "start_time": "2022-12-20T11:02:26.044Z"
   },
   {
    "duration": 7,
    "start_time": "2022-12-20T11:02:26.052Z"
   },
   {
    "duration": 3854,
    "start_time": "2022-12-20T11:02:26.062Z"
   },
   {
    "duration": 4,
    "start_time": "2022-12-20T11:02:29.918Z"
   },
   {
    "duration": 2414,
    "start_time": "2022-12-20T11:02:29.927Z"
   },
   {
    "duration": 5,
    "start_time": "2022-12-20T11:02:32.343Z"
   },
   {
    "duration": 17,
    "start_time": "2022-12-20T11:02:32.349Z"
   },
   {
    "duration": 23,
    "start_time": "2022-12-20T11:02:32.368Z"
   },
   {
    "duration": 24,
    "start_time": "2022-12-20T11:02:32.392Z"
   },
   {
    "duration": 795309,
    "start_time": "2022-12-20T11:02:32.417Z"
   },
   {
    "duration": 202,
    "start_time": "2022-12-20T11:15:47.728Z"
   },
   {
    "duration": 0,
    "start_time": "2022-12-20T11:15:47.932Z"
   },
   {
    "duration": 0,
    "start_time": "2022-12-20T11:15:47.933Z"
   },
   {
    "duration": 0,
    "start_time": "2022-12-20T11:15:47.934Z"
   },
   {
    "duration": 0,
    "start_time": "2022-12-20T11:15:47.935Z"
   },
   {
    "duration": 0,
    "start_time": "2022-12-20T11:15:47.936Z"
   },
   {
    "duration": 0,
    "start_time": "2022-12-20T11:15:47.937Z"
   },
   {
    "duration": 0,
    "start_time": "2022-12-20T11:15:47.938Z"
   },
   {
    "duration": 0,
    "start_time": "2022-12-20T11:15:47.939Z"
   },
   {
    "duration": 0,
    "start_time": "2022-12-20T11:15:47.940Z"
   },
   {
    "duration": 0,
    "start_time": "2022-12-20T11:15:47.941Z"
   },
   {
    "duration": 0,
    "start_time": "2022-12-20T11:15:47.942Z"
   },
   {
    "duration": 0,
    "start_time": "2022-12-20T11:15:47.944Z"
   },
   {
    "duration": 0,
    "start_time": "2022-12-20T11:15:47.945Z"
   },
   {
    "duration": 0,
    "start_time": "2022-12-20T11:15:47.946Z"
   },
   {
    "duration": 0,
    "start_time": "2022-12-20T11:15:47.947Z"
   },
   {
    "duration": 0,
    "start_time": "2022-12-20T11:15:47.977Z"
   },
   {
    "duration": 0,
    "start_time": "2022-12-20T11:15:47.978Z"
   },
   {
    "duration": 0,
    "start_time": "2022-12-20T11:15:47.979Z"
   },
   {
    "duration": 860714,
    "start_time": "2022-12-20T11:50:29.614Z"
   },
   {
    "duration": 753446,
    "start_time": "2022-12-20T12:15:58.640Z"
   },
   {
    "duration": 7821,
    "start_time": "2022-12-20T12:35:19.559Z"
   },
   {
    "duration": 126,
    "start_time": "2022-12-20T12:44:16.354Z"
   },
   {
    "duration": 2915,
    "start_time": "2022-12-20T12:44:19.196Z"
   },
   {
    "duration": 56073,
    "start_time": "2022-12-20T12:44:30.304Z"
   },
   {
    "duration": 104,
    "start_time": "2022-12-20T12:45:26.380Z"
   },
   {
    "duration": 45,
    "start_time": "2022-12-20T12:45:26.486Z"
   },
   {
    "duration": 2479,
    "start_time": "2022-12-20T12:45:26.532Z"
   },
   {
    "duration": 198765,
    "start_time": "2022-12-20T12:45:29.013Z"
   },
   {
    "duration": 636,
    "start_time": "2022-12-20T12:48:47.780Z"
   },
   {
    "duration": 43,
    "start_time": "2022-12-20T12:48:48.418Z"
   },
   {
    "duration": 2469,
    "start_time": "2022-12-20T12:48:48.463Z"
   },
   {
    "duration": 11,
    "start_time": "2022-12-20T12:48:50.934Z"
   },
   {
    "duration": 1222,
    "start_time": "2022-12-20T12:48:50.946Z"
   },
   {
    "duration": 133,
    "start_time": "2022-12-20T12:48:52.170Z"
   },
   {
    "duration": 34,
    "start_time": "2022-12-20T12:48:52.305Z"
   },
   {
    "duration": 67,
    "start_time": "2022-12-20T12:48:52.342Z"
   },
   {
    "duration": 2468,
    "start_time": "2022-12-20T12:48:52.411Z"
   },
   {
    "duration": 30,
    "start_time": "2022-12-20T12:48:54.881Z"
   },
   {
    "duration": 12,
    "start_time": "2022-12-20T12:48:54.913Z"
   },
   {
    "duration": 1807,
    "start_time": "2022-12-21T11:36:40.942Z"
   },
   {
    "duration": 2314,
    "start_time": "2022-12-21T11:36:42.752Z"
   },
   {
    "duration": 31,
    "start_time": "2022-12-21T11:36:45.068Z"
   },
   {
    "duration": 26,
    "start_time": "2022-12-21T11:36:45.100Z"
   },
   {
    "duration": 42,
    "start_time": "2022-12-21T11:36:45.128Z"
   },
   {
    "duration": 389,
    "start_time": "2022-12-21T11:36:45.171Z"
   },
   {
    "duration": 411,
    "start_time": "2022-12-21T11:36:45.561Z"
   },
   {
    "duration": 2,
    "start_time": "2022-12-21T11:36:45.974Z"
   },
   {
    "duration": 32,
    "start_time": "2022-12-21T11:36:45.978Z"
   },
   {
    "duration": 14,
    "start_time": "2022-12-21T11:36:46.012Z"
   },
   {
    "duration": 1307,
    "start_time": "2022-12-21T11:36:46.028Z"
   },
   {
    "duration": 1140657,
    "start_time": "2022-12-21T11:36:47.337Z"
   },
   {
    "duration": 4,
    "start_time": "2022-12-21T11:55:47.995Z"
   },
   {
    "duration": 22,
    "start_time": "2022-12-21T11:55:48.002Z"
   },
   {
    "duration": 153,
    "start_time": "2022-12-21T11:55:48.027Z"
   },
   {
    "duration": 39,
    "start_time": "2022-12-21T11:55:48.182Z"
   },
   {
    "duration": 44,
    "start_time": "2022-12-21T11:55:48.223Z"
   },
   {
    "duration": 4,
    "start_time": "2022-12-21T11:55:48.269Z"
   },
   {
    "duration": 7,
    "start_time": "2022-12-21T11:55:48.274Z"
   },
   {
    "duration": 124,
    "start_time": "2022-12-21T11:55:48.283Z"
   },
   {
    "duration": 107,
    "start_time": "2022-12-21T11:55:48.409Z"
   },
   {
    "duration": 102,
    "start_time": "2022-12-21T11:55:48.539Z"
   },
   {
    "duration": 89,
    "start_time": "2022-12-21T11:55:48.643Z"
   },
   {
    "duration": 9,
    "start_time": "2022-12-21T11:55:48.735Z"
   },
   {
    "duration": 6,
    "start_time": "2022-12-21T11:55:48.746Z"
   },
   {
    "duration": 3833,
    "start_time": "2022-12-21T11:55:48.754Z"
   },
   {
    "duration": 4,
    "start_time": "2022-12-21T11:55:52.589Z"
   },
   {
    "duration": 2452,
    "start_time": "2022-12-21T11:55:52.595Z"
   },
   {
    "duration": 4,
    "start_time": "2022-12-21T11:55:55.049Z"
   },
   {
    "duration": 14,
    "start_time": "2022-12-21T11:55:55.054Z"
   },
   {
    "duration": 10,
    "start_time": "2022-12-21T11:55:55.070Z"
   },
   {
    "duration": 21,
    "start_time": "2022-12-21T11:55:55.082Z"
   },
   {
    "duration": 966812,
    "start_time": "2022-12-21T11:55:55.105Z"
   },
   {
    "duration": 8588,
    "start_time": "2022-12-21T12:12:01.921Z"
   },
   {
    "duration": 104,
    "start_time": "2022-12-21T12:12:10.511Z"
   },
   {
    "duration": 2783,
    "start_time": "2022-12-21T12:12:10.616Z"
   },
   {
    "duration": 61802,
    "start_time": "2022-12-21T12:12:13.400Z"
   },
   {
    "duration": 112,
    "start_time": "2022-12-21T12:13:15.204Z"
   },
   {
    "duration": 85,
    "start_time": "2022-12-21T12:13:15.317Z"
   },
   {
    "duration": 2991,
    "start_time": "2022-12-21T12:13:15.404Z"
   },
   {
    "duration": 240106,
    "start_time": "2022-12-21T12:13:18.399Z"
   },
   {
    "duration": 669,
    "start_time": "2022-12-21T12:17:18.507Z"
   },
   {
    "duration": 48,
    "start_time": "2022-12-21T12:17:19.178Z"
   },
   {
    "duration": 2575,
    "start_time": "2022-12-21T12:17:19.228Z"
   },
   {
    "duration": 17,
    "start_time": "2022-12-21T12:17:21.804Z"
   },
   {
    "duration": 1299,
    "start_time": "2022-12-21T12:17:21.822Z"
   },
   {
    "duration": 72,
    "start_time": "2022-12-21T12:17:23.123Z"
   },
   {
    "duration": 46,
    "start_time": "2022-12-21T12:17:23.197Z"
   },
   {
    "duration": 42,
    "start_time": "2022-12-21T12:17:23.244Z"
   },
   {
    "duration": 2502,
    "start_time": "2022-12-21T12:17:23.287Z"
   },
   {
    "duration": 38,
    "start_time": "2022-12-21T12:17:25.790Z"
   },
   {
    "duration": 14,
    "start_time": "2022-12-21T12:17:25.830Z"
   },
   {
    "duration": 229,
    "start_time": "2022-12-21T12:51:32.180Z"
   },
   {
    "duration": 24,
    "start_time": "2022-12-21T12:51:50.423Z"
   },
   {
    "duration": 68,
    "start_time": "2022-12-21T12:51:51.478Z"
   },
   {
    "duration": 1719,
    "start_time": "2022-12-21T12:51:57.998Z"
   },
   {
    "duration": 2481,
    "start_time": "2022-12-21T12:51:59.719Z"
   },
   {
    "duration": 37,
    "start_time": "2022-12-21T12:52:02.202Z"
   },
   {
    "duration": 28,
    "start_time": "2022-12-21T12:52:02.242Z"
   },
   {
    "duration": 45,
    "start_time": "2022-12-21T12:52:02.272Z"
   },
   {
    "duration": 363,
    "start_time": "2022-12-21T12:52:02.319Z"
   },
   {
    "duration": 56,
    "start_time": "2022-12-21T12:52:02.685Z"
   },
   {
    "duration": 3,
    "start_time": "2022-12-21T12:52:02.744Z"
   },
   {
    "duration": 14,
    "start_time": "2022-12-21T12:52:02.750Z"
   },
   {
    "duration": 7,
    "start_time": "2022-12-21T12:52:02.767Z"
   },
   {
    "duration": 1477,
    "start_time": "2022-12-21T12:52:02.776Z"
   },
   {
    "duration": 1240411,
    "start_time": "2022-12-21T12:52:04.254Z"
   },
   {
    "duration": 3,
    "start_time": "2022-12-21T13:12:44.667Z"
   },
   {
    "duration": 8,
    "start_time": "2022-12-21T13:12:44.672Z"
   },
   {
    "duration": 135,
    "start_time": "2022-12-21T13:12:44.681Z"
   },
   {
    "duration": 39,
    "start_time": "2022-12-21T13:12:44.821Z"
   },
   {
    "duration": 179,
    "start_time": "2022-12-21T13:12:44.861Z"
   },
   {
    "duration": 0,
    "start_time": "2022-12-21T13:12:45.045Z"
   },
   {
    "duration": 0,
    "start_time": "2022-12-21T13:12:45.047Z"
   },
   {
    "duration": 0,
    "start_time": "2022-12-21T13:12:45.048Z"
   },
   {
    "duration": 0,
    "start_time": "2022-12-21T13:12:45.050Z"
   },
   {
    "duration": 0,
    "start_time": "2022-12-21T13:12:45.051Z"
   },
   {
    "duration": 0,
    "start_time": "2022-12-21T13:12:45.053Z"
   },
   {
    "duration": 0,
    "start_time": "2022-12-21T13:12:45.054Z"
   },
   {
    "duration": 0,
    "start_time": "2022-12-21T13:12:45.055Z"
   },
   {
    "duration": 0,
    "start_time": "2022-12-21T13:12:45.055Z"
   },
   {
    "duration": 0,
    "start_time": "2022-12-21T13:12:45.056Z"
   },
   {
    "duration": 0,
    "start_time": "2022-12-21T13:12:45.057Z"
   },
   {
    "duration": 0,
    "start_time": "2022-12-21T13:12:45.059Z"
   },
   {
    "duration": 0,
    "start_time": "2022-12-21T13:12:45.060Z"
   },
   {
    "duration": 0,
    "start_time": "2022-12-21T13:12:45.061Z"
   },
   {
    "duration": 0,
    "start_time": "2022-12-21T13:12:45.062Z"
   },
   {
    "duration": 0,
    "start_time": "2022-12-21T13:12:45.063Z"
   },
   {
    "duration": 0,
    "start_time": "2022-12-21T13:12:45.064Z"
   },
   {
    "duration": 0,
    "start_time": "2022-12-21T13:12:45.065Z"
   },
   {
    "duration": 0,
    "start_time": "2022-12-21T13:12:45.066Z"
   },
   {
    "duration": 0,
    "start_time": "2022-12-21T13:12:45.067Z"
   },
   {
    "duration": 0,
    "start_time": "2022-12-21T13:12:45.068Z"
   },
   {
    "duration": 0,
    "start_time": "2022-12-21T13:12:45.069Z"
   },
   {
    "duration": 0,
    "start_time": "2022-12-21T13:12:45.070Z"
   },
   {
    "duration": 0,
    "start_time": "2022-12-21T13:12:45.071Z"
   },
   {
    "duration": 0,
    "start_time": "2022-12-21T13:12:45.072Z"
   },
   {
    "duration": 0,
    "start_time": "2022-12-21T13:12:45.073Z"
   },
   {
    "duration": 0,
    "start_time": "2022-12-21T13:12:45.121Z"
   },
   {
    "duration": 0,
    "start_time": "2022-12-21T13:12:45.122Z"
   },
   {
    "duration": 1,
    "start_time": "2022-12-21T13:12:45.122Z"
   },
   {
    "duration": 0,
    "start_time": "2022-12-21T13:12:45.126Z"
   },
   {
    "duration": 0,
    "start_time": "2022-12-21T13:12:45.127Z"
   },
   {
    "duration": 0,
    "start_time": "2022-12-21T13:12:45.127Z"
   },
   {
    "duration": 0,
    "start_time": "2022-12-21T13:12:45.128Z"
   },
   {
    "duration": 0,
    "start_time": "2022-12-21T13:12:45.129Z"
   },
   {
    "duration": 0,
    "start_time": "2022-12-21T13:12:45.130Z"
   },
   {
    "duration": 0,
    "start_time": "2022-12-21T13:12:45.131Z"
   },
   {
    "duration": 9,
    "start_time": "2022-12-21T15:30:31.777Z"
   },
   {
    "duration": 50,
    "start_time": "2022-12-21T15:30:50.769Z"
   },
   {
    "duration": 74,
    "start_time": "2022-12-21T15:32:37.700Z"
   },
   {
    "duration": 16,
    "start_time": "2022-12-21T15:32:41.084Z"
   },
   {
    "duration": 60,
    "start_time": "2022-12-21T15:32:41.843Z"
   },
   {
    "duration": 4,
    "start_time": "2022-12-21T15:32:51.109Z"
   },
   {
    "duration": 38,
    "start_time": "2022-12-21T15:32:51.115Z"
   },
   {
    "duration": 117,
    "start_time": "2022-12-21T15:32:51.155Z"
   },
   {
    "duration": 107,
    "start_time": "2022-12-21T15:32:51.274Z"
   },
   {
    "duration": 113,
    "start_time": "2022-12-21T15:32:51.382Z"
   },
   {
    "duration": 94,
    "start_time": "2022-12-21T15:32:51.496Z"
   },
   {
    "duration": 91,
    "start_time": "2022-12-21T15:32:51.592Z"
   },
   {
    "duration": 213,
    "start_time": "2022-12-21T15:32:51.685Z"
   },
   {
    "duration": 2,
    "start_time": "2022-12-21T15:32:51.901Z"
   },
   {
    "duration": 3977,
    "start_time": "2022-12-21T15:32:51.904Z"
   },
   {
    "duration": 5,
    "start_time": "2022-12-21T15:32:55.882Z"
   },
   {
    "duration": 1381,
    "start_time": "2022-12-21T15:32:55.889Z"
   },
   {
    "duration": 4,
    "start_time": "2022-12-21T15:32:57.272Z"
   },
   {
    "duration": 18,
    "start_time": "2022-12-21T15:32:57.277Z"
   },
   {
    "duration": 7,
    "start_time": "2022-12-21T15:32:57.296Z"
   },
   {
    "duration": 9,
    "start_time": "2022-12-21T15:32:57.304Z"
   },
   {
    "duration": 721885,
    "start_time": "2022-12-21T15:32:57.315Z"
   },
   {
    "duration": 7543,
    "start_time": "2022-12-21T15:44:59.201Z"
   },
   {
    "duration": 76,
    "start_time": "2022-12-21T15:45:06.746Z"
   },
   {
    "duration": 1569,
    "start_time": "2022-12-21T15:45:06.824Z"
   },
   {
    "duration": 45407,
    "start_time": "2022-12-21T15:45:08.395Z"
   },
   {
    "duration": 56,
    "start_time": "2022-12-21T15:45:53.804Z"
   },
   {
    "duration": 40,
    "start_time": "2022-12-21T15:45:53.862Z"
   },
   {
    "duration": 1406,
    "start_time": "2022-12-21T15:45:53.905Z"
   },
   {
    "duration": 186385,
    "start_time": "2022-12-21T15:45:55.313Z"
   },
   {
    "duration": 308,
    "start_time": "2022-12-21T15:49:01.700Z"
   },
   {
    "duration": 35,
    "start_time": "2022-12-21T15:49:02.010Z"
   },
   {
    "duration": 1352,
    "start_time": "2022-12-21T15:49:02.047Z"
   },
   {
    "duration": 8,
    "start_time": "2022-12-21T15:49:03.401Z"
   },
   {
    "duration": 46,
    "start_time": "2022-12-21T15:49:03.411Z"
   },
   {
    "duration": 0,
    "start_time": "2022-12-21T15:49:03.459Z"
   },
   {
    "duration": 0,
    "start_time": "2022-12-21T15:49:03.460Z"
   },
   {
    "duration": 0,
    "start_time": "2022-12-21T15:49:03.461Z"
   },
   {
    "duration": 0,
    "start_time": "2022-12-21T15:49:03.462Z"
   },
   {
    "duration": 0,
    "start_time": "2022-12-21T15:49:03.463Z"
   },
   {
    "duration": 0,
    "start_time": "2022-12-21T15:49:03.464Z"
   },
   {
    "duration": 132,
    "start_time": "2022-12-21T16:39:00.617Z"
   },
   {
    "duration": 90,
    "start_time": "2022-12-21T16:39:10.331Z"
   },
   {
    "duration": 1556,
    "start_time": "2022-12-21T16:39:21.753Z"
   },
   {
    "duration": 1884,
    "start_time": "2022-12-21T16:39:23.311Z"
   },
   {
    "duration": 31,
    "start_time": "2022-12-21T16:39:25.197Z"
   },
   {
    "duration": 11,
    "start_time": "2022-12-21T16:39:25.230Z"
   },
   {
    "duration": 31,
    "start_time": "2022-12-21T16:39:25.242Z"
   },
   {
    "duration": 236,
    "start_time": "2022-12-21T16:39:25.275Z"
   },
   {
    "duration": 10,
    "start_time": "2022-12-21T16:39:25.513Z"
   },
   {
    "duration": 6,
    "start_time": "2022-12-21T16:39:25.525Z"
   },
   {
    "duration": 10,
    "start_time": "2022-12-21T16:39:25.532Z"
   },
   {
    "duration": 13,
    "start_time": "2022-12-21T16:39:25.546Z"
   },
   {
    "duration": 1228,
    "start_time": "2022-12-21T16:39:25.561Z"
   },
   {
    "duration": 1153749,
    "start_time": "2022-12-21T16:39:26.791Z"
   },
   {
    "duration": 4,
    "start_time": "2022-12-21T16:58:40.542Z"
   },
   {
    "duration": 8,
    "start_time": "2022-12-21T16:58:40.547Z"
   },
   {
    "duration": 129,
    "start_time": "2022-12-21T16:58:40.557Z"
   },
   {
    "duration": 43,
    "start_time": "2022-12-21T16:58:40.687Z"
   },
   {
    "duration": 89,
    "start_time": "2022-12-21T16:58:40.732Z"
   },
   {
    "duration": 5,
    "start_time": "2022-12-21T16:58:40.823Z"
   },
   {
    "duration": 5,
    "start_time": "2022-12-21T16:58:40.830Z"
   },
   {
    "duration": 115,
    "start_time": "2022-12-21T16:58:40.837Z"
   },
   {
    "duration": 101,
    "start_time": "2022-12-21T16:58:40.953Z"
   },
   {
    "duration": 101,
    "start_time": "2022-12-21T16:58:41.056Z"
   },
   {
    "duration": 79,
    "start_time": "2022-12-21T16:58:41.158Z"
   },
   {
    "duration": 83,
    "start_time": "2022-12-21T16:58:41.239Z"
   },
   {
    "duration": 4,
    "start_time": "2022-12-21T16:58:41.324Z"
   },
   {
    "duration": 5,
    "start_time": "2022-12-21T16:58:41.330Z"
   },
   {
    "duration": 3461,
    "start_time": "2022-12-21T16:58:41.336Z"
   },
   {
    "duration": 4,
    "start_time": "2022-12-21T16:58:44.801Z"
   },
   {
    "duration": 1225,
    "start_time": "2022-12-21T16:58:44.807Z"
   },
   {
    "duration": 4,
    "start_time": "2022-12-21T16:58:46.034Z"
   },
   {
    "duration": 10,
    "start_time": "2022-12-21T16:58:46.040Z"
   },
   {
    "duration": 10,
    "start_time": "2022-12-21T16:58:46.052Z"
   },
   {
    "duration": 5,
    "start_time": "2022-12-21T16:58:46.064Z"
   },
   {
    "duration": 713456,
    "start_time": "2022-12-21T16:58:46.070Z"
   },
   {
    "duration": 7758,
    "start_time": "2022-12-21T17:10:39.528Z"
   },
   {
    "duration": 69,
    "start_time": "2022-12-21T17:10:47.288Z"
   },
   {
    "duration": 1635,
    "start_time": "2022-12-21T17:10:47.359Z"
   },
   {
    "duration": 46784,
    "start_time": "2022-12-21T17:10:48.995Z"
   },
   {
    "duration": 52,
    "start_time": "2022-12-21T17:11:35.780Z"
   },
   {
    "duration": 27,
    "start_time": "2022-12-21T17:11:35.834Z"
   },
   {
    "duration": 1343,
    "start_time": "2022-12-21T17:11:35.862Z"
   },
   {
    "duration": 213738,
    "start_time": "2022-12-21T17:11:37.207Z"
   },
   {
    "duration": 324,
    "start_time": "2022-12-21T17:15:10.947Z"
   },
   {
    "duration": 30,
    "start_time": "2022-12-21T17:15:11.273Z"
   },
   {
    "duration": 1403,
    "start_time": "2022-12-21T17:15:11.304Z"
   },
   {
    "duration": 14,
    "start_time": "2022-12-21T17:15:12.709Z"
   },
   {
    "duration": 151,
    "start_time": "2022-12-21T17:15:12.725Z"
   },
   {
    "duration": 0,
    "start_time": "2022-12-21T17:15:12.878Z"
   },
   {
    "duration": 0,
    "start_time": "2022-12-21T17:15:12.880Z"
   },
   {
    "duration": 0,
    "start_time": "2022-12-21T17:15:12.882Z"
   },
   {
    "duration": 0,
    "start_time": "2022-12-21T17:15:12.883Z"
   },
   {
    "duration": 0,
    "start_time": "2022-12-21T17:15:12.884Z"
   },
   {
    "duration": 0,
    "start_time": "2022-12-21T17:15:12.885Z"
   },
   {
    "duration": 104,
    "start_time": "2022-12-21T18:41:15.966Z"
   },
   {
    "duration": 99,
    "start_time": "2022-12-21T18:45:19.379Z"
   },
   {
    "duration": 4,
    "start_time": "2022-12-21T18:45:23.567Z"
   },
   {
    "duration": 5,
    "start_time": "2022-12-21T18:45:25.743Z"
   },
   {
    "duration": 1751,
    "start_time": "2022-12-21T18:45:34.884Z"
   },
   {
    "duration": 837,
    "start_time": "2022-12-21T18:45:36.638Z"
   },
   {
    "duration": 27,
    "start_time": "2022-12-21T18:45:37.477Z"
   },
   {
    "duration": 21,
    "start_time": "2022-12-21T18:45:37.506Z"
   },
   {
    "duration": 49,
    "start_time": "2022-12-21T18:45:37.530Z"
   },
   {
    "duration": 253,
    "start_time": "2022-12-21T18:45:37.581Z"
   },
   {
    "duration": 9,
    "start_time": "2022-12-21T18:45:37.837Z"
   },
   {
    "duration": 2,
    "start_time": "2022-12-21T18:45:37.848Z"
   },
   {
    "duration": 4,
    "start_time": "2022-12-21T18:45:37.852Z"
   },
   {
    "duration": 6,
    "start_time": "2022-12-21T18:45:37.857Z"
   },
   {
    "duration": 1380,
    "start_time": "2022-12-21T18:45:37.865Z"
   },
   {
    "duration": 1181854,
    "start_time": "2022-12-21T18:45:39.248Z"
   },
   {
    "duration": 3,
    "start_time": "2022-12-21T19:05:21.104Z"
   },
   {
    "duration": 15,
    "start_time": "2022-12-21T19:05:21.124Z"
   },
   {
    "duration": 150,
    "start_time": "2022-12-21T19:05:21.140Z"
   },
   {
    "duration": 47,
    "start_time": "2022-12-21T19:05:21.292Z"
   },
   {
    "duration": 94,
    "start_time": "2022-12-21T19:05:21.341Z"
   },
   {
    "duration": 4,
    "start_time": "2022-12-21T19:05:21.437Z"
   },
   {
    "duration": 6,
    "start_time": "2022-12-21T19:05:21.443Z"
   },
   {
    "duration": 116,
    "start_time": "2022-12-21T19:05:21.451Z"
   },
   {
    "duration": 116,
    "start_time": "2022-12-21T19:05:21.569Z"
   },
   {
    "duration": 102,
    "start_time": "2022-12-21T19:05:21.687Z"
   },
   {
    "duration": 89,
    "start_time": "2022-12-21T19:05:21.791Z"
   },
   {
    "duration": 84,
    "start_time": "2022-12-21T19:05:21.882Z"
   },
   {
    "duration": 4,
    "start_time": "2022-12-21T19:05:21.968Z"
   },
   {
    "duration": 4,
    "start_time": "2022-12-21T19:05:21.974Z"
   },
   {
    "duration": 4036,
    "start_time": "2022-12-21T19:05:21.980Z"
   },
   {
    "duration": 5,
    "start_time": "2022-12-21T19:05:26.020Z"
   },
   {
    "duration": 1154,
    "start_time": "2022-12-21T19:05:26.027Z"
   },
   {
    "duration": 5,
    "start_time": "2022-12-21T19:05:27.182Z"
   },
   {
    "duration": 33,
    "start_time": "2022-12-21T19:05:27.188Z"
   },
   {
    "duration": 34,
    "start_time": "2022-12-21T19:05:27.223Z"
   },
   {
    "duration": 15,
    "start_time": "2022-12-21T19:05:27.258Z"
   },
   {
    "duration": 875845,
    "start_time": "2022-12-21T19:05:27.275Z"
   },
   {
    "duration": 9004,
    "start_time": "2022-12-21T19:20:03.128Z"
   },
   {
    "duration": 64,
    "start_time": "2022-12-21T19:20:12.135Z"
   },
   {
    "duration": 1599,
    "start_time": "2022-12-21T19:20:12.201Z"
   },
   {
    "duration": 49959,
    "start_time": "2022-12-21T19:20:13.802Z"
   },
   {
    "duration": 43,
    "start_time": "2022-12-21T19:21:03.763Z"
   },
   {
    "duration": 44,
    "start_time": "2022-12-21T19:21:03.808Z"
   },
   {
    "duration": 1278,
    "start_time": "2022-12-21T19:21:03.856Z"
   },
   {
    "duration": 266915,
    "start_time": "2022-12-21T19:21:05.135Z"
   },
   {
    "duration": 299,
    "start_time": "2022-12-21T19:25:32.052Z"
   },
   {
    "duration": 27,
    "start_time": "2022-12-21T19:25:32.353Z"
   },
   {
    "duration": 1405,
    "start_time": "2022-12-21T19:25:32.381Z"
   },
   {
    "duration": 8,
    "start_time": "2022-12-21T19:25:33.788Z"
   },
   {
    "duration": 154,
    "start_time": "2022-12-21T19:25:33.798Z"
   },
   {
    "duration": 0,
    "start_time": "2022-12-21T19:25:33.954Z"
   },
   {
    "duration": 0,
    "start_time": "2022-12-21T19:25:33.955Z"
   },
   {
    "duration": 0,
    "start_time": "2022-12-21T19:25:33.957Z"
   },
   {
    "duration": 0,
    "start_time": "2022-12-21T19:25:33.958Z"
   },
   {
    "duration": 0,
    "start_time": "2022-12-21T19:25:33.959Z"
   },
   {
    "duration": 0,
    "start_time": "2022-12-21T19:25:33.961Z"
   },
   {
    "duration": 56,
    "start_time": "2022-12-21T19:41:21.717Z"
   },
   {
    "duration": 11,
    "start_time": "2022-12-21T19:41:22.505Z"
   },
   {
    "duration": 3922,
    "start_time": "2022-12-21T19:45:36.103Z"
   },
   {
    "duration": 98,
    "start_time": "2022-12-21T19:46:01.356Z"
   },
   {
    "duration": 4,
    "start_time": "2022-12-21T19:46:03.466Z"
   },
   {
    "duration": 4,
    "start_time": "2022-12-21T19:46:06.585Z"
   },
   {
    "duration": 32,
    "start_time": "2022-12-21T19:49:35.186Z"
   },
   {
    "duration": 108,
    "start_time": "2022-12-21T19:49:38.522Z"
   },
   {
    "duration": 4,
    "start_time": "2022-12-21T19:49:41.201Z"
   },
   {
    "duration": 4,
    "start_time": "2022-12-21T19:49:43.485Z"
   },
   {
    "duration": 41,
    "start_time": "2022-12-21T19:50:05.956Z"
   },
   {
    "duration": 87,
    "start_time": "2022-12-21T19:50:06.993Z"
   },
   {
    "duration": 4,
    "start_time": "2022-12-21T19:50:09.467Z"
   },
   {
    "duration": 4,
    "start_time": "2022-12-21T19:50:09.988Z"
   },
   {
    "duration": 17,
    "start_time": "2022-12-21T19:50:21.853Z"
   },
   {
    "duration": 34,
    "start_time": "2022-12-21T19:50:33.020Z"
   },
   {
    "duration": 85,
    "start_time": "2022-12-21T19:50:34.035Z"
   },
   {
    "duration": 4,
    "start_time": "2022-12-21T19:50:36.651Z"
   },
   {
    "duration": 4,
    "start_time": "2022-12-21T19:50:37.303Z"
   },
   {
    "duration": 1728,
    "start_time": "2022-12-21T19:50:47.730Z"
   },
   {
    "duration": 780,
    "start_time": "2022-12-21T19:50:49.460Z"
   },
   {
    "duration": 25,
    "start_time": "2022-12-21T19:50:50.241Z"
   },
   {
    "duration": 9,
    "start_time": "2022-12-21T19:50:50.268Z"
   },
   {
    "duration": 43,
    "start_time": "2022-12-21T19:50:50.278Z"
   },
   {
    "duration": 173,
    "start_time": "2022-12-21T19:50:50.323Z"
   },
   {
    "duration": 10,
    "start_time": "2022-12-21T19:50:50.497Z"
   },
   {
    "duration": 15,
    "start_time": "2022-12-21T19:50:50.508Z"
   },
   {
    "duration": 21,
    "start_time": "2022-12-21T19:50:50.525Z"
   },
   {
    "duration": 4,
    "start_time": "2022-12-21T19:50:50.549Z"
   },
   {
    "duration": 1290,
    "start_time": "2022-12-21T19:50:50.555Z"
   },
   {
    "duration": 1089674,
    "start_time": "2022-12-21T19:50:51.848Z"
   },
   {
    "duration": 5,
    "start_time": "2022-12-21T20:09:01.524Z"
   },
   {
    "duration": 31,
    "start_time": "2022-12-21T20:09:01.530Z"
   },
   {
    "duration": 160,
    "start_time": "2022-12-21T20:09:01.563Z"
   },
   {
    "duration": 64,
    "start_time": "2022-12-21T20:09:01.724Z"
   },
   {
    "duration": 115,
    "start_time": "2022-12-21T20:09:01.790Z"
   },
   {
    "duration": 4,
    "start_time": "2022-12-21T20:09:01.907Z"
   },
   {
    "duration": 25,
    "start_time": "2022-12-21T20:09:01.913Z"
   },
   {
    "duration": 101,
    "start_time": "2022-12-21T20:09:01.939Z"
   },
   {
    "duration": 102,
    "start_time": "2022-12-21T20:09:02.042Z"
   },
   {
    "duration": 108,
    "start_time": "2022-12-21T20:09:02.146Z"
   },
   {
    "duration": 89,
    "start_time": "2022-12-21T20:09:02.256Z"
   },
   {
    "duration": 92,
    "start_time": "2022-12-21T20:09:02.347Z"
   },
   {
    "duration": 5,
    "start_time": "2022-12-21T20:09:02.441Z"
   },
   {
    "duration": 16,
    "start_time": "2022-12-21T20:09:02.448Z"
   },
   {
    "duration": 3543,
    "start_time": "2022-12-21T20:09:02.465Z"
   },
   {
    "duration": 10,
    "start_time": "2022-12-21T20:09:06.011Z"
   },
   {
    "duration": 1207,
    "start_time": "2022-12-21T20:09:06.023Z"
   },
   {
    "duration": 4,
    "start_time": "2022-12-21T20:09:07.232Z"
   },
   {
    "duration": 7,
    "start_time": "2022-12-21T20:09:07.238Z"
   },
   {
    "duration": 9,
    "start_time": "2022-12-21T20:09:07.247Z"
   },
   {
    "duration": 6,
    "start_time": "2022-12-21T20:09:07.258Z"
   },
   {
    "duration": 689171,
    "start_time": "2022-12-21T20:09:07.265Z"
   },
   {
    "duration": 7774,
    "start_time": "2022-12-21T20:20:36.438Z"
   },
   {
    "duration": 66,
    "start_time": "2022-12-21T20:20:44.214Z"
   },
   {
    "duration": 1705,
    "start_time": "2022-12-21T20:20:44.282Z"
   },
   {
    "duration": 46528,
    "start_time": "2022-12-21T20:20:45.989Z"
   },
   {
    "duration": 52,
    "start_time": "2022-12-21T20:21:32.519Z"
   },
   {
    "duration": 48,
    "start_time": "2022-12-21T20:21:32.573Z"
   },
   {
    "duration": 1361,
    "start_time": "2022-12-21T20:21:32.623Z"
   },
   {
    "duration": 227141,
    "start_time": "2022-12-21T20:21:33.986Z"
   },
   {
    "duration": 306,
    "start_time": "2022-12-21T20:25:21.129Z"
   },
   {
    "duration": 28,
    "start_time": "2022-12-21T20:25:21.437Z"
   },
   {
    "duration": 1501,
    "start_time": "2022-12-21T20:25:21.467Z"
   },
   {
    "duration": 7,
    "start_time": "2022-12-21T20:25:22.970Z"
   },
   {
    "duration": 171,
    "start_time": "2022-12-21T20:25:22.978Z"
   },
   {
    "duration": 0,
    "start_time": "2022-12-21T20:25:23.150Z"
   },
   {
    "duration": 0,
    "start_time": "2022-12-21T20:25:23.152Z"
   },
   {
    "duration": 0,
    "start_time": "2022-12-21T20:25:23.152Z"
   },
   {
    "duration": 0,
    "start_time": "2022-12-21T20:25:23.153Z"
   },
   {
    "duration": 0,
    "start_time": "2022-12-21T20:25:23.154Z"
   },
   {
    "duration": 0,
    "start_time": "2022-12-21T20:25:23.155Z"
   },
   {
    "duration": 24,
    "start_time": "2022-12-21T20:28:05.156Z"
   },
   {
    "duration": 33,
    "start_time": "2022-12-21T20:28:14.814Z"
   },
   {
    "duration": 594,
    "start_time": "2022-12-21T20:28:24.682Z"
   },
   {
    "duration": 37,
    "start_time": "2022-12-21T20:28:36.260Z"
   },
   {
    "duration": 16,
    "start_time": "2022-12-21T20:28:38.394Z"
   },
   {
    "duration": 29,
    "start_time": "2022-12-21T20:28:39.750Z"
   },
   {
    "duration": 1406,
    "start_time": "2022-12-21T20:28:40.579Z"
   },
   {
    "duration": 17,
    "start_time": "2022-12-21T20:28:43.493Z"
   },
   {
    "duration": 13,
    "start_time": "2022-12-21T20:28:45.993Z"
   },
   {
    "duration": 16,
    "start_time": "2022-12-21T20:29:31.113Z"
   },
   {
    "duration": 134,
    "start_time": "2022-12-21T20:29:51.551Z"
   },
   {
    "duration": 5,
    "start_time": "2022-12-21T20:29:53.053Z"
   },
   {
    "duration": 4,
    "start_time": "2022-12-21T20:29:58.764Z"
   },
   {
    "duration": 21,
    "start_time": "2022-12-21T20:30:05.027Z"
   },
   {
    "duration": 20,
    "start_time": "2022-12-21T20:30:47.894Z"
   },
   {
    "duration": 97,
    "start_time": "2022-12-21T20:30:49.273Z"
   },
   {
    "duration": 4,
    "start_time": "2022-12-21T20:30:53.811Z"
   },
   {
    "duration": 4,
    "start_time": "2022-12-21T20:30:59.642Z"
   },
   {
    "duration": 4,
    "start_time": "2022-12-21T20:31:19.593Z"
   },
   {
    "duration": 20,
    "start_time": "2022-12-21T20:34:30.205Z"
   },
   {
    "duration": 17,
    "start_time": "2022-12-21T20:35:56.537Z"
   },
   {
    "duration": 17,
    "start_time": "2022-12-21T20:40:02.879Z"
   },
   {
    "duration": 94,
    "start_time": "2022-12-21T20:40:24.521Z"
   },
   {
    "duration": 88,
    "start_time": "2022-12-21T20:40:42.105Z"
   },
   {
    "duration": 54,
    "start_time": "2022-12-21T20:40:52.151Z"
   },
   {
    "duration": 1604,
    "start_time": "2022-12-21T20:42:19.851Z"
   },
   {
    "duration": 2107,
    "start_time": "2022-12-21T20:42:21.456Z"
   },
   {
    "duration": 27,
    "start_time": "2022-12-21T20:42:23.565Z"
   },
   {
    "duration": 9,
    "start_time": "2022-12-21T20:42:23.594Z"
   },
   {
    "duration": 33,
    "start_time": "2022-12-21T20:42:23.604Z"
   },
   {
    "duration": 262,
    "start_time": "2022-12-21T20:42:23.638Z"
   },
   {
    "duration": 43,
    "start_time": "2022-12-21T20:42:23.902Z"
   },
   {
    "duration": 3,
    "start_time": "2022-12-21T20:42:23.946Z"
   },
   {
    "duration": 11,
    "start_time": "2022-12-21T20:42:23.950Z"
   },
   {
    "duration": 10,
    "start_time": "2022-12-21T20:42:23.963Z"
   },
   {
    "duration": 1292,
    "start_time": "2022-12-21T20:42:23.975Z"
   },
   {
    "duration": 1084763,
    "start_time": "2022-12-21T20:42:25.268Z"
   },
   {
    "duration": 4,
    "start_time": "2022-12-21T21:00:30.033Z"
   },
   {
    "duration": 14,
    "start_time": "2022-12-21T21:00:30.039Z"
   },
   {
    "duration": 141,
    "start_time": "2022-12-21T21:00:30.054Z"
   },
   {
    "duration": 45,
    "start_time": "2022-12-21T21:00:30.197Z"
   },
   {
    "duration": 46,
    "start_time": "2022-12-21T21:06:01.003Z"
   },
   {
    "duration": 1638,
    "start_time": "2022-12-21T21:06:14.423Z"
   },
   {
    "duration": 2160,
    "start_time": "2022-12-21T21:06:16.063Z"
   },
   {
    "duration": 28,
    "start_time": "2022-12-21T21:06:18.225Z"
   },
   {
    "duration": 21,
    "start_time": "2022-12-21T21:06:18.255Z"
   },
   {
    "duration": 32,
    "start_time": "2022-12-21T21:06:18.277Z"
   },
   {
    "duration": 328,
    "start_time": "2022-12-21T21:06:18.310Z"
   },
   {
    "duration": 31,
    "start_time": "2022-12-21T21:06:18.640Z"
   },
   {
    "duration": 3,
    "start_time": "2022-12-21T21:06:18.672Z"
   },
   {
    "duration": 7,
    "start_time": "2022-12-21T21:06:18.677Z"
   },
   {
    "duration": 4,
    "start_time": "2022-12-21T21:06:18.687Z"
   },
   {
    "duration": 1293,
    "start_time": "2022-12-21T21:06:18.693Z"
   },
   {
    "duration": 1054912,
    "start_time": "2022-12-21T21:06:19.988Z"
   },
   {
    "duration": 4,
    "start_time": "2022-12-21T21:23:54.901Z"
   },
   {
    "duration": 17,
    "start_time": "2022-12-21T21:23:54.907Z"
   },
   {
    "duration": 135,
    "start_time": "2022-12-21T21:23:54.925Z"
   },
   {
    "duration": 34,
    "start_time": "2022-12-21T21:23:55.062Z"
   },
   {
    "duration": 96,
    "start_time": "2022-12-21T21:23:55.097Z"
   },
   {
    "duration": 4,
    "start_time": "2022-12-21T21:23:55.195Z"
   },
   {
    "duration": 7,
    "start_time": "2022-12-21T21:23:55.200Z"
   },
   {
    "duration": 120,
    "start_time": "2022-12-21T21:23:55.208Z"
   },
   {
    "duration": 110,
    "start_time": "2022-12-21T21:23:55.330Z"
   },
   {
    "duration": 108,
    "start_time": "2022-12-21T21:23:55.442Z"
   },
   {
    "duration": 80,
    "start_time": "2022-12-21T21:23:55.552Z"
   },
   {
    "duration": 78,
    "start_time": "2022-12-21T21:23:55.634Z"
   },
   {
    "duration": 12,
    "start_time": "2022-12-21T21:23:55.720Z"
   },
   {
    "duration": 10,
    "start_time": "2022-12-21T21:23:55.733Z"
   },
   {
    "duration": 3379,
    "start_time": "2022-12-21T21:23:55.745Z"
   },
   {
    "duration": 4,
    "start_time": "2022-12-21T21:23:59.128Z"
   },
   {
    "duration": 1127,
    "start_time": "2022-12-21T21:23:59.133Z"
   },
   {
    "duration": 4,
    "start_time": "2022-12-21T21:24:00.262Z"
   },
   {
    "duration": 17,
    "start_time": "2022-12-21T21:24:00.267Z"
   },
   {
    "duration": 33,
    "start_time": "2022-12-21T21:24:00.285Z"
   },
   {
    "duration": 27,
    "start_time": "2022-12-21T21:24:00.319Z"
   },
   {
    "duration": 1753,
    "start_time": "2022-12-22T17:16:24.517Z"
   },
   {
    "duration": 3173,
    "start_time": "2022-12-22T17:16:26.272Z"
   },
   {
    "duration": 30,
    "start_time": "2022-12-22T17:16:29.447Z"
   },
   {
    "duration": 9,
    "start_time": "2022-12-22T17:16:29.479Z"
   },
   {
    "duration": 32,
    "start_time": "2022-12-22T17:16:29.490Z"
   },
   {
    "duration": 248,
    "start_time": "2022-12-22T17:16:29.523Z"
   },
   {
    "duration": 485,
    "start_time": "2022-12-22T17:16:29.773Z"
   },
   {
    "duration": 2,
    "start_time": "2022-12-22T17:16:30.261Z"
   },
   {
    "duration": 22,
    "start_time": "2022-12-22T17:16:30.265Z"
   },
   {
    "duration": 18,
    "start_time": "2022-12-22T17:16:30.291Z"
   },
   {
    "duration": 1295,
    "start_time": "2022-12-22T17:16:30.310Z"
   },
   {
    "duration": 23366,
    "start_time": "2022-12-22T17:16:31.606Z"
   },
   {
    "duration": 4,
    "start_time": "2022-12-22T17:16:54.973Z"
   },
   {
    "duration": 1257,
    "start_time": "2022-12-22T17:16:54.979Z"
   },
   {
    "duration": 0,
    "start_time": "2022-12-22T17:16:56.239Z"
   },
   {
    "duration": 0,
    "start_time": "2022-12-22T17:16:56.240Z"
   },
   {
    "duration": 0,
    "start_time": "2022-12-22T17:16:56.241Z"
   },
   {
    "duration": 0,
    "start_time": "2022-12-22T17:16:56.242Z"
   },
   {
    "duration": 0,
    "start_time": "2022-12-22T17:16:56.243Z"
   },
   {
    "duration": 0,
    "start_time": "2022-12-22T17:16:56.244Z"
   },
   {
    "duration": 0,
    "start_time": "2022-12-22T17:16:56.245Z"
   },
   {
    "duration": 0,
    "start_time": "2022-12-22T17:16:56.246Z"
   },
   {
    "duration": 0,
    "start_time": "2022-12-22T17:16:56.247Z"
   },
   {
    "duration": 0,
    "start_time": "2022-12-22T17:16:56.248Z"
   },
   {
    "duration": 0,
    "start_time": "2022-12-22T17:16:56.249Z"
   },
   {
    "duration": 0,
    "start_time": "2022-12-22T17:16:56.250Z"
   },
   {
    "duration": 0,
    "start_time": "2022-12-22T17:16:56.251Z"
   },
   {
    "duration": 0,
    "start_time": "2022-12-22T17:16:56.252Z"
   },
   {
    "duration": 0,
    "start_time": "2022-12-22T17:16:56.252Z"
   },
   {
    "duration": 0,
    "start_time": "2022-12-22T17:16:56.253Z"
   },
   {
    "duration": 0,
    "start_time": "2022-12-22T17:16:56.254Z"
   },
   {
    "duration": 0,
    "start_time": "2022-12-22T17:16:56.254Z"
   },
   {
    "duration": 0,
    "start_time": "2022-12-22T17:16:56.255Z"
   },
   {
    "duration": 0,
    "start_time": "2022-12-22T17:16:56.256Z"
   },
   {
    "duration": 0,
    "start_time": "2022-12-22T17:16:56.259Z"
   },
   {
    "duration": 0,
    "start_time": "2022-12-22T17:16:56.260Z"
   },
   {
    "duration": 0,
    "start_time": "2022-12-22T17:16:56.261Z"
   },
   {
    "duration": 0,
    "start_time": "2022-12-22T17:16:56.261Z"
   },
   {
    "duration": 0,
    "start_time": "2022-12-22T17:16:56.262Z"
   },
   {
    "duration": 0,
    "start_time": "2022-12-22T17:16:56.263Z"
   },
   {
    "duration": 0,
    "start_time": "2022-12-22T17:16:56.264Z"
   },
   {
    "duration": 0,
    "start_time": "2022-12-22T17:16:56.265Z"
   },
   {
    "duration": 0,
    "start_time": "2022-12-22T17:16:56.266Z"
   },
   {
    "duration": 0,
    "start_time": "2022-12-22T17:16:56.267Z"
   },
   {
    "duration": 0,
    "start_time": "2022-12-22T17:16:56.268Z"
   },
   {
    "duration": 0,
    "start_time": "2022-12-22T17:16:56.269Z"
   },
   {
    "duration": 0,
    "start_time": "2022-12-22T17:16:56.270Z"
   },
   {
    "duration": 0,
    "start_time": "2022-12-22T17:16:56.270Z"
   },
   {
    "duration": 0,
    "start_time": "2022-12-22T17:16:56.271Z"
   },
   {
    "duration": 0,
    "start_time": "2022-12-22T17:16:56.272Z"
   },
   {
    "duration": 0,
    "start_time": "2022-12-22T17:16:56.273Z"
   },
   {
    "duration": 0,
    "start_time": "2022-12-22T17:16:56.274Z"
   },
   {
    "duration": 0,
    "start_time": "2022-12-22T17:16:56.275Z"
   },
   {
    "duration": 1633,
    "start_time": "2022-12-22T17:17:13.164Z"
   },
   {
    "duration": 804,
    "start_time": "2022-12-22T17:17:14.799Z"
   },
   {
    "duration": 33,
    "start_time": "2022-12-22T17:17:15.604Z"
   },
   {
    "duration": 9,
    "start_time": "2022-12-22T17:17:15.639Z"
   },
   {
    "duration": 47,
    "start_time": "2022-12-22T17:17:15.650Z"
   },
   {
    "duration": 221,
    "start_time": "2022-12-22T17:17:15.699Z"
   },
   {
    "duration": 9,
    "start_time": "2022-12-22T17:17:15.922Z"
   },
   {
    "duration": 4,
    "start_time": "2022-12-22T17:17:15.933Z"
   },
   {
    "duration": 10,
    "start_time": "2022-12-22T17:17:15.939Z"
   },
   {
    "duration": 5,
    "start_time": "2022-12-22T17:17:15.951Z"
   },
   {
    "duration": 1332,
    "start_time": "2022-12-22T17:17:15.957Z"
   },
   {
    "duration": 2,
    "start_time": "2022-12-22T17:17:17.291Z"
   },
   {
    "duration": 10,
    "start_time": "2022-12-22T17:17:17.295Z"
   },
   {
    "duration": 1300,
    "start_time": "2022-12-22T17:17:17.307Z"
   },
   {
    "duration": 0,
    "start_time": "2022-12-22T17:17:18.610Z"
   },
   {
    "duration": 0,
    "start_time": "2022-12-22T17:17:18.611Z"
   },
   {
    "duration": 0,
    "start_time": "2022-12-22T17:17:18.612Z"
   },
   {
    "duration": 0,
    "start_time": "2022-12-22T17:17:18.613Z"
   },
   {
    "duration": 0,
    "start_time": "2022-12-22T17:17:18.614Z"
   },
   {
    "duration": 0,
    "start_time": "2022-12-22T17:17:18.615Z"
   },
   {
    "duration": 0,
    "start_time": "2022-12-22T17:17:18.616Z"
   },
   {
    "duration": 0,
    "start_time": "2022-12-22T17:17:18.617Z"
   },
   {
    "duration": 0,
    "start_time": "2022-12-22T17:17:18.618Z"
   },
   {
    "duration": 0,
    "start_time": "2022-12-22T17:17:18.619Z"
   },
   {
    "duration": 0,
    "start_time": "2022-12-22T17:17:18.620Z"
   },
   {
    "duration": 0,
    "start_time": "2022-12-22T17:17:18.621Z"
   },
   {
    "duration": 0,
    "start_time": "2022-12-22T17:17:18.622Z"
   },
   {
    "duration": 0,
    "start_time": "2022-12-22T17:17:18.623Z"
   },
   {
    "duration": 0,
    "start_time": "2022-12-22T17:17:18.624Z"
   },
   {
    "duration": 0,
    "start_time": "2022-12-22T17:17:18.625Z"
   },
   {
    "duration": 0,
    "start_time": "2022-12-22T17:17:18.625Z"
   },
   {
    "duration": 0,
    "start_time": "2022-12-22T17:17:18.626Z"
   },
   {
    "duration": 0,
    "start_time": "2022-12-22T17:17:18.627Z"
   },
   {
    "duration": 0,
    "start_time": "2022-12-22T17:17:18.628Z"
   },
   {
    "duration": 0,
    "start_time": "2022-12-22T17:17:18.629Z"
   },
   {
    "duration": 0,
    "start_time": "2022-12-22T17:17:18.630Z"
   },
   {
    "duration": 0,
    "start_time": "2022-12-22T17:17:18.631Z"
   },
   {
    "duration": 0,
    "start_time": "2022-12-22T17:17:18.632Z"
   },
   {
    "duration": 0,
    "start_time": "2022-12-22T17:17:18.633Z"
   },
   {
    "duration": 0,
    "start_time": "2022-12-22T17:17:18.634Z"
   },
   {
    "duration": 0,
    "start_time": "2022-12-22T17:17:18.634Z"
   },
   {
    "duration": 0,
    "start_time": "2022-12-22T17:17:18.636Z"
   },
   {
    "duration": 0,
    "start_time": "2022-12-22T17:17:18.636Z"
   },
   {
    "duration": 0,
    "start_time": "2022-12-22T17:17:18.637Z"
   },
   {
    "duration": 0,
    "start_time": "2022-12-22T17:17:18.638Z"
   },
   {
    "duration": 0,
    "start_time": "2022-12-22T17:17:18.639Z"
   },
   {
    "duration": 0,
    "start_time": "2022-12-22T17:17:18.640Z"
   },
   {
    "duration": 0,
    "start_time": "2022-12-22T17:17:18.641Z"
   },
   {
    "duration": 0,
    "start_time": "2022-12-22T17:17:18.642Z"
   },
   {
    "duration": 0,
    "start_time": "2022-12-22T17:17:18.643Z"
   },
   {
    "duration": 0,
    "start_time": "2022-12-22T17:17:18.644Z"
   },
   {
    "duration": 0,
    "start_time": "2022-12-22T17:17:18.645Z"
   },
   {
    "duration": 0,
    "start_time": "2022-12-22T17:17:18.645Z"
   },
   {
    "duration": 2,
    "start_time": "2022-12-22T17:17:30.099Z"
   },
   {
    "duration": 121,
    "start_time": "2022-12-22T17:17:32.316Z"
   },
   {
    "duration": 11,
    "start_time": "2022-12-22T17:17:35.332Z"
   },
   {
    "duration": 85,
    "start_time": "2022-12-22T17:17:37.809Z"
   },
   {
    "duration": 5,
    "start_time": "2022-12-22T17:17:41.069Z"
   },
   {
    "duration": 43,
    "start_time": "2022-12-22T17:18:16.434Z"
   },
   {
    "duration": 1620,
    "start_time": "2022-12-22T17:18:22.524Z"
   },
   {
    "duration": 3213,
    "start_time": "2022-12-22T17:18:24.146Z"
   },
   {
    "duration": 34,
    "start_time": "2022-12-22T17:18:27.361Z"
   },
   {
    "duration": 13,
    "start_time": "2022-12-22T17:18:27.398Z"
   },
   {
    "duration": 30,
    "start_time": "2022-12-22T17:18:27.413Z"
   },
   {
    "duration": 244,
    "start_time": "2022-12-22T17:18:27.445Z"
   },
   {
    "duration": 28,
    "start_time": "2022-12-22T17:18:27.690Z"
   },
   {
    "duration": 3,
    "start_time": "2022-12-22T17:18:27.721Z"
   },
   {
    "duration": 5,
    "start_time": "2022-12-22T17:18:27.726Z"
   },
   {
    "duration": 5,
    "start_time": "2022-12-22T17:18:27.734Z"
   },
   {
    "duration": 1244,
    "start_time": "2022-12-22T17:18:27.740Z"
   },
   {
    "duration": 3,
    "start_time": "2022-12-22T17:18:28.985Z"
   },
   {
    "duration": 9,
    "start_time": "2022-12-22T17:18:28.990Z"
   },
   {
    "duration": 3,
    "start_time": "2022-12-22T17:18:29.001Z"
   },
   {
    "duration": 139,
    "start_time": "2022-12-22T17:18:29.006Z"
   },
   {
    "duration": 10,
    "start_time": "2022-12-22T17:18:29.147Z"
   },
   {
    "duration": 188,
    "start_time": "2022-12-22T17:18:29.158Z"
   },
   {
    "duration": 0,
    "start_time": "2022-12-22T17:18:29.348Z"
   },
   {
    "duration": 0,
    "start_time": "2022-12-22T17:18:29.349Z"
   },
   {
    "duration": 0,
    "start_time": "2022-12-22T17:18:29.350Z"
   },
   {
    "duration": 0,
    "start_time": "2022-12-22T17:18:29.351Z"
   },
   {
    "duration": 0,
    "start_time": "2022-12-22T17:18:29.352Z"
   },
   {
    "duration": 0,
    "start_time": "2022-12-22T17:18:29.353Z"
   },
   {
    "duration": 0,
    "start_time": "2022-12-22T17:18:29.354Z"
   },
   {
    "duration": 0,
    "start_time": "2022-12-22T17:18:29.355Z"
   },
   {
    "duration": 0,
    "start_time": "2022-12-22T17:18:29.356Z"
   },
   {
    "duration": 0,
    "start_time": "2022-12-22T17:18:29.357Z"
   },
   {
    "duration": 0,
    "start_time": "2022-12-22T17:18:29.358Z"
   },
   {
    "duration": 0,
    "start_time": "2022-12-22T17:18:29.359Z"
   },
   {
    "duration": 0,
    "start_time": "2022-12-22T17:18:29.378Z"
   },
   {
    "duration": 0,
    "start_time": "2022-12-22T17:18:29.379Z"
   },
   {
    "duration": 0,
    "start_time": "2022-12-22T17:18:29.380Z"
   },
   {
    "duration": 0,
    "start_time": "2022-12-22T17:18:29.381Z"
   },
   {
    "duration": 0,
    "start_time": "2022-12-22T17:18:29.382Z"
   },
   {
    "duration": 0,
    "start_time": "2022-12-22T17:18:29.383Z"
   },
   {
    "duration": 0,
    "start_time": "2022-12-22T17:18:29.384Z"
   },
   {
    "duration": 0,
    "start_time": "2022-12-22T17:18:29.385Z"
   },
   {
    "duration": 0,
    "start_time": "2022-12-22T17:18:29.386Z"
   },
   {
    "duration": 0,
    "start_time": "2022-12-22T17:18:29.387Z"
   },
   {
    "duration": 0,
    "start_time": "2022-12-22T17:18:29.388Z"
   },
   {
    "duration": 0,
    "start_time": "2022-12-22T17:18:29.389Z"
   },
   {
    "duration": 0,
    "start_time": "2022-12-22T17:18:29.389Z"
   },
   {
    "duration": 0,
    "start_time": "2022-12-22T17:18:29.390Z"
   },
   {
    "duration": 0,
    "start_time": "2022-12-22T17:18:29.391Z"
   },
   {
    "duration": 0,
    "start_time": "2022-12-22T17:18:29.392Z"
   },
   {
    "duration": 0,
    "start_time": "2022-12-22T17:18:29.394Z"
   },
   {
    "duration": 0,
    "start_time": "2022-12-22T17:18:29.395Z"
   },
   {
    "duration": 0,
    "start_time": "2022-12-22T17:18:29.395Z"
   },
   {
    "duration": 0,
    "start_time": "2022-12-22T17:18:29.396Z"
   },
   {
    "duration": 0,
    "start_time": "2022-12-22T17:18:29.397Z"
   },
   {
    "duration": 0,
    "start_time": "2022-12-22T17:18:29.398Z"
   },
   {
    "duration": 0,
    "start_time": "2022-12-22T17:18:29.400Z"
   },
   {
    "duration": 0,
    "start_time": "2022-12-22T17:18:29.401Z"
   },
   {
    "duration": 69,
    "start_time": "2022-12-22T17:18:46.110Z"
   },
   {
    "duration": 85,
    "start_time": "2022-12-22T17:18:53.531Z"
   },
   {
    "duration": 75,
    "start_time": "2022-12-22T17:18:59.930Z"
   },
   {
    "duration": 4,
    "start_time": "2022-12-22T17:19:01.758Z"
   },
   {
    "duration": 42,
    "start_time": "2022-12-22T17:19:13.599Z"
   },
   {
    "duration": 5,
    "start_time": "2022-12-22T17:19:14.927Z"
   },
   {
    "duration": 5,
    "start_time": "2022-12-22T17:19:21.566Z"
   },
   {
    "duration": 842,
    "start_time": "2022-12-22T17:19:21.573Z"
   },
   {
    "duration": 32,
    "start_time": "2022-12-22T17:19:22.417Z"
   },
   {
    "duration": 7,
    "start_time": "2022-12-22T17:19:22.451Z"
   },
   {
    "duration": 33,
    "start_time": "2022-12-22T17:19:22.478Z"
   },
   {
    "duration": 13,
    "start_time": "2022-12-22T17:19:22.513Z"
   },
   {
    "duration": 8,
    "start_time": "2022-12-22T17:19:22.528Z"
   },
   {
    "duration": 5,
    "start_time": "2022-12-22T17:19:22.537Z"
   },
   {
    "duration": 8,
    "start_time": "2022-12-22T17:19:22.543Z"
   },
   {
    "duration": 27,
    "start_time": "2022-12-22T17:19:22.552Z"
   },
   {
    "duration": 9,
    "start_time": "2022-12-22T17:19:22.580Z"
   },
   {
    "duration": 10,
    "start_time": "2022-12-22T17:19:22.590Z"
   },
   {
    "duration": 6,
    "start_time": "2022-12-22T17:19:22.603Z"
   },
   {
    "duration": 5,
    "start_time": "2022-12-22T17:19:22.610Z"
   },
   {
    "duration": 127,
    "start_time": "2022-12-22T17:19:22.616Z"
   },
   {
    "duration": 13,
    "start_time": "2022-12-22T17:19:22.745Z"
   },
   {
    "duration": 64,
    "start_time": "2022-12-22T17:19:22.759Z"
   },
   {
    "duration": 4,
    "start_time": "2022-12-22T17:19:27.050Z"
   },
   {
    "duration": 44,
    "start_time": "2022-12-22T17:19:55.181Z"
   },
   {
    "duration": 4,
    "start_time": "2022-12-22T17:19:56.761Z"
   },
   {
    "duration": 44,
    "start_time": "2022-12-22T17:20:04.180Z"
   },
   {
    "duration": 5,
    "start_time": "2022-12-22T17:20:05.150Z"
   },
   {
    "duration": 4,
    "start_time": "2022-12-22T17:20:16.955Z"
   },
   {
    "duration": 4,
    "start_time": "2022-12-22T17:20:24.895Z"
   },
   {
    "duration": 89,
    "start_time": "2022-12-22T17:20:27.106Z"
   },
   {
    "duration": 92,
    "start_time": "2022-12-22T17:20:28.106Z"
   },
   {
    "duration": 93,
    "start_time": "2022-12-22T17:20:29.238Z"
   },
   {
    "duration": 54,
    "start_time": "2022-12-22T17:20:29.829Z"
   },
   {
    "duration": 76,
    "start_time": "2022-12-22T17:20:32.206Z"
   },
   {
    "duration": 5,
    "start_time": "2022-12-22T17:20:35.670Z"
   },
   {
    "duration": 2,
    "start_time": "2022-12-22T17:20:37.654Z"
   },
   {
    "duration": 1147,
    "start_time": "2022-12-22T17:20:41.356Z"
   },
   {
    "duration": 1613,
    "start_time": "2022-12-22T17:21:03.781Z"
   },
   {
    "duration": 816,
    "start_time": "2022-12-22T17:21:05.396Z"
   },
   {
    "duration": 34,
    "start_time": "2022-12-22T17:21:06.214Z"
   },
   {
    "duration": 11,
    "start_time": "2022-12-22T17:21:06.249Z"
   },
   {
    "duration": 32,
    "start_time": "2022-12-22T17:21:06.279Z"
   },
   {
    "duration": 260,
    "start_time": "2022-12-22T17:21:06.313Z"
   },
   {
    "duration": 8,
    "start_time": "2022-12-22T17:21:06.575Z"
   },
   {
    "duration": 35,
    "start_time": "2022-12-22T17:21:06.585Z"
   },
   {
    "duration": 39,
    "start_time": "2022-12-22T17:21:06.621Z"
   },
   {
    "duration": 30,
    "start_time": "2022-12-22T17:21:06.662Z"
   },
   {
    "duration": 1264,
    "start_time": "2022-12-22T17:21:06.694Z"
   },
   {
    "duration": 1083421,
    "start_time": "2022-12-22T17:21:07.959Z"
   },
   {
    "duration": 4,
    "start_time": "2022-12-22T17:39:11.381Z"
   },
   {
    "duration": 6,
    "start_time": "2022-12-22T17:39:11.388Z"
   },
   {
    "duration": 137,
    "start_time": "2022-12-22T17:39:11.396Z"
   },
   {
    "duration": 32,
    "start_time": "2022-12-22T17:39:11.535Z"
   },
   {
    "duration": 72,
    "start_time": "2022-12-22T17:39:11.569Z"
   },
   {
    "duration": 4,
    "start_time": "2022-12-22T17:39:11.643Z"
   },
   {
    "duration": 7,
    "start_time": "2022-12-22T17:39:11.648Z"
   },
   {
    "duration": 108,
    "start_time": "2022-12-22T17:39:11.656Z"
   },
   {
    "duration": 105,
    "start_time": "2022-12-22T17:39:11.765Z"
   },
   {
    "duration": 90,
    "start_time": "2022-12-22T17:39:11.877Z"
   },
   {
    "duration": 92,
    "start_time": "2022-12-22T17:39:11.968Z"
   },
   {
    "duration": 89,
    "start_time": "2022-12-22T17:39:12.061Z"
   },
   {
    "duration": 5,
    "start_time": "2022-12-22T17:39:12.151Z"
   },
   {
    "duration": 8,
    "start_time": "2022-12-22T17:39:12.157Z"
   },
   {
    "duration": 3891,
    "start_time": "2022-12-22T17:39:12.166Z"
   },
   {
    "duration": 3,
    "start_time": "2022-12-22T17:39:16.059Z"
   },
   {
    "duration": 1214,
    "start_time": "2022-12-22T17:39:16.064Z"
   },
   {
    "duration": 4,
    "start_time": "2022-12-22T17:39:17.280Z"
   },
   {
    "duration": 23,
    "start_time": "2022-12-22T17:39:17.286Z"
   },
   {
    "duration": 20,
    "start_time": "2022-12-22T17:39:17.310Z"
   },
   {
    "duration": 13,
    "start_time": "2022-12-22T17:39:17.331Z"
   },
   {
    "duration": 795964,
    "start_time": "2022-12-22T17:39:17.345Z"
   },
   {
    "duration": 8232,
    "start_time": "2022-12-22T17:52:33.310Z"
   },
   {
    "duration": 264,
    "start_time": "2022-12-22T17:52:41.543Z"
   },
   {
    "duration": 1297,
    "start_time": "2022-12-22T17:52:41.808Z"
   },
   {
    "duration": 53260,
    "start_time": "2022-12-22T17:52:43.107Z"
   },
   {
    "duration": 46,
    "start_time": "2022-12-22T17:53:36.369Z"
   },
   {
    "duration": 27,
    "start_time": "2022-12-22T17:53:36.416Z"
   },
   {
    "duration": 1246,
    "start_time": "2022-12-22T17:53:36.447Z"
   },
   {
    "duration": 292864,
    "start_time": "2022-12-22T17:53:37.695Z"
   },
   {
    "duration": 283,
    "start_time": "2022-12-22T17:58:30.560Z"
   },
   {
    "duration": 34,
    "start_time": "2022-12-22T17:58:30.845Z"
   },
   {
    "duration": 1199,
    "start_time": "2022-12-22T17:58:30.880Z"
   },
   {
    "duration": 7,
    "start_time": "2022-12-22T17:58:32.080Z"
   },
   {
    "duration": 525,
    "start_time": "2022-12-22T17:58:32.088Z"
   },
   {
    "duration": 29,
    "start_time": "2022-12-22T17:58:32.615Z"
   },
   {
    "duration": 13,
    "start_time": "2022-12-22T17:58:32.645Z"
   },
   {
    "duration": 42,
    "start_time": "2022-12-22T17:58:32.659Z"
   },
   {
    "duration": 1186,
    "start_time": "2022-12-22T17:58:32.703Z"
   },
   {
    "duration": 14,
    "start_time": "2022-12-22T17:58:33.891Z"
   },
   {
    "duration": 10,
    "start_time": "2022-12-22T17:58:33.907Z"
   },
   {
    "duration": 1666,
    "start_time": "2022-12-22T19:13:49.941Z"
   },
   {
    "duration": 793,
    "start_time": "2022-12-22T19:13:51.609Z"
   },
   {
    "duration": 30,
    "start_time": "2022-12-22T19:13:52.404Z"
   },
   {
    "duration": 9,
    "start_time": "2022-12-22T19:13:52.436Z"
   },
   {
    "duration": 50,
    "start_time": "2022-12-22T19:13:52.447Z"
   },
   {
    "duration": 171,
    "start_time": "2022-12-22T19:13:52.499Z"
   },
   {
    "duration": 8,
    "start_time": "2022-12-22T19:13:52.672Z"
   },
   {
    "duration": 3,
    "start_time": "2022-12-22T19:13:52.681Z"
   },
   {
    "duration": 6,
    "start_time": "2022-12-22T19:13:52.685Z"
   },
   {
    "duration": 10,
    "start_time": "2022-12-22T19:13:52.693Z"
   },
   {
    "duration": 1241,
    "start_time": "2022-12-22T19:13:52.704Z"
   },
   {
    "duration": 1059395,
    "start_time": "2022-12-22T19:13:53.947Z"
   },
   {
    "duration": 5,
    "start_time": "2022-12-22T19:31:33.344Z"
   },
   {
    "duration": 6,
    "start_time": "2022-12-22T19:31:33.350Z"
   },
   {
    "duration": 150,
    "start_time": "2022-12-22T19:31:33.358Z"
   },
   {
    "duration": 36,
    "start_time": "2022-12-22T19:31:33.510Z"
   },
   {
    "duration": 65,
    "start_time": "2022-12-22T19:31:33.548Z"
   },
   {
    "duration": 5,
    "start_time": "2022-12-22T19:31:33.615Z"
   },
   {
    "duration": 10,
    "start_time": "2022-12-22T19:31:33.622Z"
   },
   {
    "duration": 109,
    "start_time": "2022-12-22T19:31:33.634Z"
   },
   {
    "duration": 108,
    "start_time": "2022-12-22T19:31:33.745Z"
   },
   {
    "duration": 123,
    "start_time": "2022-12-22T19:31:33.855Z"
   },
   {
    "duration": 98,
    "start_time": "2022-12-22T19:31:33.980Z"
   },
   {
    "duration": 77,
    "start_time": "2022-12-22T19:31:34.080Z"
   },
   {
    "duration": 5,
    "start_time": "2022-12-22T19:31:34.158Z"
   },
   {
    "duration": 3,
    "start_time": "2022-12-22T19:31:34.178Z"
   },
   {
    "duration": 3810,
    "start_time": "2022-12-22T19:31:34.182Z"
   },
   {
    "duration": 4,
    "start_time": "2022-12-22T19:31:37.995Z"
   },
   {
    "duration": 1000,
    "start_time": "2022-12-22T19:31:38.001Z"
   },
   {
    "duration": 5,
    "start_time": "2022-12-22T19:31:39.002Z"
   },
   {
    "duration": 12,
    "start_time": "2022-12-22T19:31:39.009Z"
   },
   {
    "duration": 21,
    "start_time": "2022-12-22T19:31:39.023Z"
   },
   {
    "duration": 11,
    "start_time": "2022-12-22T19:31:39.045Z"
   },
   {
    "duration": 713796,
    "start_time": "2022-12-22T19:31:39.058Z"
   },
   {
    "duration": 7887,
    "start_time": "2022-12-22T19:43:32.856Z"
   },
   {
    "duration": 253,
    "start_time": "2022-12-22T19:43:40.745Z"
   },
   {
    "duration": 1274,
    "start_time": "2022-12-22T19:43:40.999Z"
   },
   {
    "duration": 47857,
    "start_time": "2022-12-22T19:43:42.274Z"
   },
   {
    "duration": 48,
    "start_time": "2022-12-22T19:44:30.132Z"
   },
   {
    "duration": 27,
    "start_time": "2022-12-22T19:44:30.182Z"
   },
   {
    "duration": 1078,
    "start_time": "2022-12-22T19:44:30.211Z"
   },
   {
    "duration": 280926,
    "start_time": "2022-12-22T19:44:31.291Z"
   },
   {
    "duration": 267,
    "start_time": "2022-12-22T19:49:12.219Z"
   },
   {
    "duration": 26,
    "start_time": "2022-12-22T19:49:12.487Z"
   },
   {
    "duration": 1245,
    "start_time": "2022-12-22T19:49:12.514Z"
   },
   {
    "duration": 7,
    "start_time": "2022-12-22T19:49:13.760Z"
   },
   {
    "duration": 528,
    "start_time": "2022-12-22T19:49:13.769Z"
   },
   {
    "duration": 29,
    "start_time": "2022-12-22T19:49:14.299Z"
   },
   {
    "duration": 13,
    "start_time": "2022-12-22T19:49:14.330Z"
   },
   {
    "duration": 46,
    "start_time": "2022-12-22T19:49:14.344Z"
   },
   {
    "duration": 1181,
    "start_time": "2022-12-22T19:49:14.391Z"
   },
   {
    "duration": 16,
    "start_time": "2022-12-22T19:49:15.574Z"
   },
   {
    "duration": 11,
    "start_time": "2022-12-22T19:49:15.592Z"
   },
   {
    "duration": 2569,
    "start_time": "2022-12-23T15:27:29.585Z"
   },
   {
    "duration": 4055,
    "start_time": "2022-12-23T15:27:32.156Z"
   },
   {
    "duration": 35,
    "start_time": "2022-12-23T15:27:36.212Z"
   },
   {
    "duration": 12,
    "start_time": "2022-12-23T15:27:36.249Z"
   },
   {
    "duration": 32,
    "start_time": "2022-12-23T15:27:36.263Z"
   },
   {
    "duration": 322,
    "start_time": "2022-12-23T15:27:36.297Z"
   },
   {
    "duration": 387,
    "start_time": "2022-12-23T15:27:36.621Z"
   },
   {
    "duration": 4,
    "start_time": "2022-12-23T15:27:37.009Z"
   },
   {
    "duration": 11,
    "start_time": "2022-12-23T15:27:37.014Z"
   },
   {
    "duration": 7,
    "start_time": "2022-12-23T15:28:18.009Z"
   },
   {
    "duration": 135,
    "start_time": "2022-12-23T15:28:19.301Z"
   },
   {
    "duration": 35,
    "start_time": "2022-12-23T15:28:20.427Z"
   },
   {
    "duration": 61,
    "start_time": "2022-12-23T15:28:21.027Z"
   },
   {
    "duration": 5,
    "start_time": "2022-12-23T15:28:22.746Z"
   },
   {
    "duration": 4,
    "start_time": "2022-12-23T15:28:24.202Z"
   },
   {
    "duration": 116,
    "start_time": "2022-12-23T15:28:24.744Z"
   },
   {
    "duration": 105,
    "start_time": "2022-12-23T15:28:25.026Z"
   },
   {
    "duration": 116,
    "start_time": "2022-12-23T15:28:25.258Z"
   },
   {
    "duration": 97,
    "start_time": "2022-12-23T15:28:25.771Z"
   },
   {
    "duration": 95,
    "start_time": "2022-12-23T15:28:27.340Z"
   },
   {
    "duration": 9,
    "start_time": "2022-12-23T15:28:35.243Z"
   },
   {
    "duration": 3,
    "start_time": "2022-12-23T15:28:36.675Z"
   },
   {
    "duration": 5027,
    "start_time": "2022-12-23T15:28:37.704Z"
   },
   {
    "duration": 5,
    "start_time": "2022-12-23T15:28:45.435Z"
   },
   {
    "duration": 2684,
    "start_time": "2022-12-23T15:28:49.929Z"
   },
   {
    "duration": 6,
    "start_time": "2022-12-23T15:28:56.212Z"
   },
   {
    "duration": 4,
    "start_time": "2022-12-23T15:28:56.842Z"
   },
   {
    "duration": 3,
    "start_time": "2022-12-23T15:28:58.210Z"
   },
   {
    "duration": 9,
    "start_time": "2022-12-23T15:28:59.398Z"
   },
   {
    "duration": 972495,
    "start_time": "2022-12-23T15:29:03.651Z"
   },
   {
    "duration": 9422,
    "start_time": "2022-12-23T15:57:27.950Z"
   },
   {
    "duration": 9034,
    "start_time": "2022-12-23T15:58:37.693Z"
   },
   {
    "duration": 63,
    "start_time": "2022-12-23T15:58:51.599Z"
   },
   {
    "duration": 1322,
    "start_time": "2022-12-23T15:59:04.279Z"
   },
   {
    "duration": 68898,
    "start_time": "2022-12-23T15:59:14.015Z"
   },
   {
    "duration": 153,
    "start_time": "2022-12-23T16:00:50.443Z"
   },
   {
    "duration": 42,
    "start_time": "2022-12-23T16:01:01.906Z"
   },
   {
    "duration": 26,
    "start_time": "2022-12-23T16:01:05.498Z"
   },
   {
    "duration": 1173,
    "start_time": "2022-12-23T16:01:08.896Z"
   },
   {
    "duration": 415373,
    "start_time": "2022-12-23T16:01:16.330Z"
   },
   {
    "duration": 303,
    "start_time": "2022-12-23T16:12:29.554Z"
   },
   {
    "duration": 27,
    "start_time": "2022-12-23T16:12:34.245Z"
   },
   {
    "duration": 1393,
    "start_time": "2022-12-23T16:12:35.065Z"
   },
   {
    "duration": 1195,
    "start_time": "2022-12-23T16:12:42.502Z"
   },
   {
    "duration": 9,
    "start_time": "2022-12-23T16:12:59.804Z"
   },
   {
    "duration": 620,
    "start_time": "2022-12-23T16:13:06.628Z"
   },
   {
    "duration": 43,
    "start_time": "2022-12-23T16:13:21.163Z"
   },
   {
    "duration": 15,
    "start_time": "2022-12-23T16:13:44.807Z"
   },
   {
    "duration": 27,
    "start_time": "2022-12-23T16:13:45.896Z"
   },
   {
    "duration": 1512,
    "start_time": "2022-12-23T16:13:46.817Z"
   },
   {
    "duration": 18,
    "start_time": "2022-12-23T16:13:48.331Z"
   },
   {
    "duration": 12,
    "start_time": "2022-12-23T16:13:50.397Z"
   }
  ],
  "kernelspec": {
   "display_name": "Python 3 (ipykernel)",
   "language": "python",
   "name": "python3"
  },
  "language_info": {
   "codemirror_mode": {
    "name": "ipython",
    "version": 3
   },
   "file_extension": ".py",
   "mimetype": "text/x-python",
   "name": "python",
   "nbconvert_exporter": "python",
   "pygments_lexer": "ipython3",
   "version": "3.10.9"
  },
  "toc": {
   "base_numbering": 1,
   "nav_menu": {},
   "number_sections": true,
   "sideBar": true,
   "skip_h1_title": true,
   "title_cell": "Содержание",
   "title_sidebar": "Contents",
   "toc_cell": true,
   "toc_position": {
    "height": "calc(100% - 180px)",
    "left": "10px",
    "top": "150px",
    "width": "182.387px"
   },
   "toc_section_display": true,
   "toc_window_display": true
  }
 },
 "nbformat": 4,
 "nbformat_minor": 2
}
