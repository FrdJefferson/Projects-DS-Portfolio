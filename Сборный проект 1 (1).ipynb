{
 "cells": [
  {
   "cell_type": "markdown",
   "metadata": {
    "toc": true
   },
   "source": [
    "<h1>Table of Contents<span class=\"tocSkip\"></span></h1>\n",
    "<div class=\"toc\"><ul class=\"toc-item\"><li><ul class=\"toc-item\"><li><span><a href=\"#Посмотрите,-сколько-игр-выпускалось-в-разные-годы.-Важны-ли-данные-за-все-периоды?\" data-toc-modified-id=\"Посмотрите,-сколько-игр-выпускалось-в-разные-годы.-Важны-ли-данные-за-все-периоды?-0.1\"><span class=\"toc-item-num\">0.1&nbsp;&nbsp;</span>Посмотрите, сколько игр выпускалось в разные годы. Важны ли данные за все периоды?</a></span></li><li><span><a href=\"#Посмотрите,-как-менялись-продажи-по-платформам.-Выберите-платформы-с-наибольшими-суммарными-продажами-и-постройте-распределение-по-годам.-За-какой-характерный-срок-появляются-новые-и-исчезают-старые-платформы?\" data-toc-modified-id=\"Посмотрите,-как-менялись-продажи-по-платформам.-Выберите-платформы-с-наибольшими-суммарными-продажами-и-постройте-распределение-по-годам.-За-какой-характерный-срок-появляются-новые-и-исчезают-старые-платформы?-0.2\"><span class=\"toc-item-num\">0.2&nbsp;&nbsp;</span>Посмотрите, как менялись продажи по платформам. Выберите платформы с наибольшими суммарными продажами и постройте распределение по годам. За какой характерный срок появляются новые и исчезают старые платформы?</a></span></li><li><span><a href=\"#Возьмите-данные-за-соответствующий-актуальный-период.-Актуальный-период-определите-самостоятельно-в-результате-исследования-предыдущих-вопросов.-Основной-фактор-—-эти-данные-помогут-построить-прогноз-на-2017-год.\" data-toc-modified-id=\"Возьмите-данные-за-соответствующий-актуальный-период.-Актуальный-период-определите-самостоятельно-в-результате-исследования-предыдущих-вопросов.-Основной-фактор-—-эти-данные-помогут-построить-прогноз-на-2017-год.-0.3\"><span class=\"toc-item-num\">0.3&nbsp;&nbsp;</span>Возьмите данные за соответствующий актуальный период. Актуальный период определите самостоятельно в результате исследования предыдущих вопросов. Основной фактор — эти данные помогут построить прогноз на 2017 год.</a></span></li><li><span><a href=\"#Постройте-график-«ящик-с-усами»-по-глобальным-продажам-игр-в-разбивке-по-платформам.-Опишите-результат.\" data-toc-modified-id=\"Постройте-график-«ящик-с-усами»-по-глобальным-продажам-игр-в-разбивке-по-платформам.-Опишите-результат.-0.4\"><span class=\"toc-item-num\">0.4&nbsp;&nbsp;</span>Постройте график «ящик с усами» по глобальным продажам игр в разбивке по платформам. Опишите результат.</a></span></li><li><span><a href=\"#Посмотрите,-как-влияют-на-продажи-внутри-одной-популярной-платформы-отзывы-пользователей-и-критиков.-Постройте-диаграмму-рассеяния-и-посчитайте-корреляцию-между-отзывами-и-продажами.-Сформулируйте-выводы.\" data-toc-modified-id=\"Посмотрите,-как-влияют-на-продажи-внутри-одной-популярной-платформы-отзывы-пользователей-и-критиков.-Постройте-диаграмму-рассеяния-и-посчитайте-корреляцию-между-отзывами-и-продажами.-Сформулируйте-выводы.-0.5\"><span class=\"toc-item-num\">0.5&nbsp;&nbsp;</span>Посмотрите, как влияют на продажи внутри одной популярной платформы отзывы пользователей и критиков. Постройте диаграмму рассеяния и посчитайте корреляцию между отзывами и продажами. Сформулируйте выводы.</a></span></li><li><span><a href=\"#Посмотрите-на-общее-распределение-игр-по-жанрам.-Что-можно-сказать-о-самых-прибыльных-жанрах?-Выделяются-ли-жанры-с-высокими-и-низкими-продажами?\" data-toc-modified-id=\"Посмотрите-на-общее-распределение-игр-по-жанрам.-Что-можно-сказать-о-самых-прибыльных-жанрах?-Выделяются-ли-жанры-с-высокими-и-низкими-продажами?-0.6\"><span class=\"toc-item-num\">0.6&nbsp;&nbsp;</span>Посмотрите на общее распределение игр по жанрам. Что можно сказать о самых прибыльных жанрах? Выделяются ли жанры с высокими и низкими продажами?</a></span></li></ul></li><li><span><a href=\"#Определите-для-пользователя-каждого-региона-(NA,-EU,-JP):\" data-toc-modified-id=\"Определите-для-пользователя-каждого-региона-(NA,-EU,-JP):-1\"><span class=\"toc-item-num\">1&nbsp;&nbsp;</span>Определите для пользователя каждого региона (NA, EU, JP):</a></span><ul class=\"toc-item\"><li><span><a href=\"#Самые-популярные-платформы-(топ-5).-Опишите-различия-в-долях-продаж.\" data-toc-modified-id=\"Самые-популярные-платформы-(топ-5).-Опишите-различия-в-долях-продаж.-1.1\"><span class=\"toc-item-num\">1.1&nbsp;&nbsp;</span>Самые популярные платформы (топ-5). Опишите различия в долях продаж.</a></span></li><li><span><a href=\"#Самые-популярные-жанры-(топ-5).-Поясните-разницу.\" data-toc-modified-id=\"Самые-популярные-жанры-(топ-5).-Поясните-разницу.-1.2\"><span class=\"toc-item-num\">1.2&nbsp;&nbsp;</span>Самые популярные жанры (топ-5). Поясните разницу.</a></span></li><li><span><a href=\"#Влияет-ли-рейтинг-ESRB-на-продажи-в-отдельном-регионе?\" data-toc-modified-id=\"Влияет-ли-рейтинг-ESRB-на-продажи-в-отдельном-регионе?-1.3\"><span class=\"toc-item-num\">1.3&nbsp;&nbsp;</span>Влияет ли рейтинг ESRB на продажи в отдельном регионе?</a></span></li></ul></li><li><span><a href=\"#Бонус\" data-toc-modified-id=\"Бонус-2\"><span class=\"toc-item-num\">2&nbsp;&nbsp;</span>Бонус</a></span></li></ul></div>"
   ]
  },
  {
   "cell_type": "markdown",
   "metadata": {},
   "source": [
    "# Сборный проект по анализу исторических данных о продаже игр."
   ]
  },
  {
   "cell_type": "markdown",
   "metadata": {},
   "source": [
    "# Задача"
   ]
  },
  {
   "cell_type": "markdown",
   "metadata": {},
   "source": [
    "Найти определяющие успешность игры закономерности. Это позволит выявить потенциально популярный продукт и подготовить план на эффективную рекламу на следующий год."
   ]
  },
  {
   "cell_type": "markdown",
   "metadata": {},
   "source": [
    "# Описание данных"
   ]
  },
  {
   "cell_type": "markdown",
   "metadata": {},
   "source": [
    "• Name — название игры  \n",
    "• Platform — платформа  \n",
    "• Year_of_Release — год выпуска  \n",
    "• Genre — жанр игры  \n",
    "• NA_sales — продажи в Северной Америке (миллионы проданных копий)  \n",
    "• EU_sales — продажи в Европе (миллионы проданных копий)  \n",
    "• JP_sales — продажи в Японии (миллионы проданных копий)  \n",
    "• Other_sales — продажи в других странах (миллионы проданных копий)  \n",
    "• Critic_Score — оценка критиков (максимум 100)  \n",
    "• User_Score — оценка пользователей (максимум 10)  \n",
    "• Rating — рейтинг от организации ESRB (англ. Entertainment Software Rating Board). Эта ассоциация определяет рейтинг компьютерных игр и присваивает им подходящую возрастную категорию.  \n",
    "\n",
    "Данные за 2016 год могут быть неполными."
   ]
  },
  {
   "cell_type": "markdown",
   "metadata": {},
   "source": [
    "# Шаг 1. Откройте файл с данными и изучите общую информацию"
   ]
  },
  {
   "cell_type": "code",
   "execution_count": 1,
   "metadata": {},
   "outputs": [],
   "source": [
    "import pandas as pd\n",
    "import matplotlib.pyplot as plt\n",
    "import numpy as np\n",
    "from scipy.stats import ttest_1samp, ttest_ind\n",
    "import seaborn as sea\n",
    "from scipy import stats as st\n",
    "\n",
    "#Установите только дисплей журналов.errorУведомление об уровне\n",
    "#from matplotlib.axes._axes import _log as matplotlib_axes_logger\n",
    "#matplotlib_axes_logger.setLevel('ERROR')"
   ]
  },
  {
   "cell_type": "code",
   "execution_count": 2,
   "metadata": {},
   "outputs": [
    {
     "data": {
      "text/html": [
       "<div>\n",
       "<style scoped>\n",
       "    .dataframe tbody tr th:only-of-type {\n",
       "        vertical-align: middle;\n",
       "    }\n",
       "\n",
       "    .dataframe tbody tr th {\n",
       "        vertical-align: top;\n",
       "    }\n",
       "\n",
       "    .dataframe thead th {\n",
       "        text-align: right;\n",
       "    }\n",
       "</style>\n",
       "<table border=\"1\" class=\"dataframe\">\n",
       "  <thead>\n",
       "    <tr style=\"text-align: right;\">\n",
       "      <th></th>\n",
       "      <th>Name</th>\n",
       "      <th>Platform</th>\n",
       "      <th>Year_of_Release</th>\n",
       "      <th>Genre</th>\n",
       "      <th>NA_sales</th>\n",
       "      <th>EU_sales</th>\n",
       "      <th>JP_sales</th>\n",
       "      <th>Other_sales</th>\n",
       "      <th>Critic_Score</th>\n",
       "      <th>User_Score</th>\n",
       "      <th>Rating</th>\n",
       "    </tr>\n",
       "  </thead>\n",
       "  <tbody>\n",
       "    <tr>\n",
       "      <th>0</th>\n",
       "      <td>Wii Sports</td>\n",
       "      <td>Wii</td>\n",
       "      <td>2006.0</td>\n",
       "      <td>Sports</td>\n",
       "      <td>41.36</td>\n",
       "      <td>28.96</td>\n",
       "      <td>3.77</td>\n",
       "      <td>8.45</td>\n",
       "      <td>76.0</td>\n",
       "      <td>8</td>\n",
       "      <td>E</td>\n",
       "    </tr>\n",
       "    <tr>\n",
       "      <th>1</th>\n",
       "      <td>Super Mario Bros.</td>\n",
       "      <td>NES</td>\n",
       "      <td>1985.0</td>\n",
       "      <td>Platform</td>\n",
       "      <td>29.08</td>\n",
       "      <td>3.58</td>\n",
       "      <td>6.81</td>\n",
       "      <td>0.77</td>\n",
       "      <td>NaN</td>\n",
       "      <td>NaN</td>\n",
       "      <td>NaN</td>\n",
       "    </tr>\n",
       "    <tr>\n",
       "      <th>2</th>\n",
       "      <td>Mario Kart Wii</td>\n",
       "      <td>Wii</td>\n",
       "      <td>2008.0</td>\n",
       "      <td>Racing</td>\n",
       "      <td>15.68</td>\n",
       "      <td>12.76</td>\n",
       "      <td>3.79</td>\n",
       "      <td>3.29</td>\n",
       "      <td>82.0</td>\n",
       "      <td>8.3</td>\n",
       "      <td>E</td>\n",
       "    </tr>\n",
       "    <tr>\n",
       "      <th>3</th>\n",
       "      <td>Wii Sports Resort</td>\n",
       "      <td>Wii</td>\n",
       "      <td>2009.0</td>\n",
       "      <td>Sports</td>\n",
       "      <td>15.61</td>\n",
       "      <td>10.93</td>\n",
       "      <td>3.28</td>\n",
       "      <td>2.95</td>\n",
       "      <td>80.0</td>\n",
       "      <td>8</td>\n",
       "      <td>E</td>\n",
       "    </tr>\n",
       "    <tr>\n",
       "      <th>4</th>\n",
       "      <td>Pokemon Red/Pokemon Blue</td>\n",
       "      <td>GB</td>\n",
       "      <td>1996.0</td>\n",
       "      <td>Role-Playing</td>\n",
       "      <td>11.27</td>\n",
       "      <td>8.89</td>\n",
       "      <td>10.22</td>\n",
       "      <td>1.00</td>\n",
       "      <td>NaN</td>\n",
       "      <td>NaN</td>\n",
       "      <td>NaN</td>\n",
       "    </tr>\n",
       "  </tbody>\n",
       "</table>\n",
       "</div>"
      ],
      "text/plain": [
       "                       Name Platform  Year_of_Release         Genre  NA_sales  \\\n",
       "0                Wii Sports      Wii           2006.0        Sports     41.36   \n",
       "1         Super Mario Bros.      NES           1985.0      Platform     29.08   \n",
       "2            Mario Kart Wii      Wii           2008.0        Racing     15.68   \n",
       "3         Wii Sports Resort      Wii           2009.0        Sports     15.61   \n",
       "4  Pokemon Red/Pokemon Blue       GB           1996.0  Role-Playing     11.27   \n",
       "\n",
       "   EU_sales  JP_sales  Other_sales  Critic_Score User_Score Rating  \n",
       "0     28.96      3.77         8.45          76.0          8      E  \n",
       "1      3.58      6.81         0.77           NaN        NaN    NaN  \n",
       "2     12.76      3.79         3.29          82.0        8.3      E  \n",
       "3     10.93      3.28         2.95          80.0          8      E  \n",
       "4      8.89     10.22         1.00           NaN        NaN    NaN  "
      ]
     },
     "execution_count": 2,
     "metadata": {},
     "output_type": "execute_result"
    }
   ],
   "source": [
    "data = pd.read_csv('/datasets/games.csv')\n",
    "data.head(5)"
   ]
  },
  {
   "cell_type": "markdown",
   "metadata": {},
   "source": [
    "# Шаг 2. Подготовьте данные"
   ]
  },
  {
   "cell_type": "code",
   "execution_count": 3,
   "metadata": {},
   "outputs": [
    {
     "name": "stdout",
     "output_type": "stream",
     "text": [
      "<class 'pandas.core.frame.DataFrame'>\n",
      "RangeIndex: 16715 entries, 0 to 16714\n",
      "Data columns (total 11 columns):\n",
      " #   Column           Non-Null Count  Dtype  \n",
      "---  ------           --------------  -----  \n",
      " 0   Name             16713 non-null  object \n",
      " 1   Platform         16715 non-null  object \n",
      " 2   Year_of_Release  16446 non-null  float64\n",
      " 3   Genre            16713 non-null  object \n",
      " 4   NA_sales         16715 non-null  float64\n",
      " 5   EU_sales         16715 non-null  float64\n",
      " 6   JP_sales         16715 non-null  float64\n",
      " 7   Other_sales      16715 non-null  float64\n",
      " 8   Critic_Score     8137 non-null   float64\n",
      " 9   User_Score       10014 non-null  object \n",
      " 10  Rating           9949 non-null   object \n",
      "dtypes: float64(6), object(5)\n",
      "memory usage: 1.4+ MB\n"
     ]
    }
   ],
   "source": [
    "data.info()"
   ]
  },
  {
   "cell_type": "markdown",
   "metadata": {},
   "source": [
    "На первичном анализе можно заметить, что в столбцах Year_of_Release, User_Score - неверный тип данных."
   ]
  },
  {
   "cell_type": "code",
   "execution_count": 4,
   "metadata": {},
   "outputs": [],
   "source": [
    "#Приведем столбцы к нижнему регистру\n",
    "data.columns = data.columns.str.lower()"
   ]
  },
  {
   "cell_type": "code",
   "execution_count": 5,
   "metadata": {},
   "outputs": [
    {
     "data": {
      "text/plain": [
       "name                  2\n",
       "platform              0\n",
       "year_of_release     269\n",
       "genre                 2\n",
       "na_sales              0\n",
       "eu_sales              0\n",
       "jp_sales              0\n",
       "other_sales           0\n",
       "critic_score       8578\n",
       "user_score         6701\n",
       "rating             6766\n",
       "dtype: int64"
      ]
     },
     "execution_count": 5,
     "metadata": {},
     "output_type": "execute_result"
    }
   ],
   "source": [
    "#Обработаем пропуски\n",
    "data.isnull().sum()"
   ]
  },
  {
   "cell_type": "code",
   "execution_count": 6,
   "metadata": {},
   "outputs": [],
   "source": [
    "# Название игры не получится рассчитать никаким образом, поэтому просто удалим эти строки\n",
    "data = data.dropna(subset=['name']).reset_index(drop=True)"
   ]
  },
  {
   "cell_type": "markdown",
   "metadata": {},
   "source": [
    "Пропуски есть еще в 5 столбцах.  \n",
    "• year_of_release - Пропущенные значения могут говорить о том, что игра вышла не сразу для всех платформ, хотя это и обычное дело, \"зачем релизить неготовый продукт с потерей целого сегмента?\". Средними и медианными значениями пропуски заменить не получится, это исказит данные. Лучше всего будет удалить пропущенные значения, их не так много.    \n",
    "• critic_score,  user_score - пропущено много значений, но в этих случаях можно попробовать заменить данные на медиану. Пропуски могли появиться из-за технической причины, при выгрузке данных или же просто еще не оценненые игры.   \n",
    "• genre - так же как и name не получится рассчитать. Пропусков мало, просто избавимся.   \n",
    "• rating - сложнее всего, ни медиана, ни среднее тут не подходят, понять возрастное ограничение можно только изучив каждую игру детально, выставив рейтинг по общепринятым критериям оценки. Думаю, придется избавиться от пропусков, заменив значение на \"фиг его знает\" или лучше \"не определен\".   \n"
   ]
  },
  {
   "cell_type": "code",
   "execution_count": 7,
   "metadata": {},
   "outputs": [],
   "source": [
    "data = data.dropna(subset=['genre']).reset_index(drop=True)"
   ]
  },
  {
   "cell_type": "code",
   "execution_count": 8,
   "metadata": {},
   "outputs": [],
   "source": [
    "data.dropna(subset=['year_of_release', 'genre'], inplace=True)\n",
    "# избавимся от tbd\n",
    "data.loc[data.user_score=='tbd', 'user_score'] = np.NaN\n",
    "\n",
    "data['user_score'] = data['user_score'].astype('float')\n",
    "data['year_of_release'] = data['year_of_release'].astype('int')"
   ]
  },
  {
   "cell_type": "code",
   "execution_count": 9,
   "metadata": {},
   "outputs": [],
   "source": [
    "# Присвоим новые значения в столбце rating через функцию\n",
    "def fill_empty(empty,filled):\n",
    "    data['rating'] = data['rating'].replace(empty,filled)\n",
    "fill_empty(np.NaN, 'не определен')\n",
    "\n",
    "\n",
    "\n",
    "# Рассчитаем медианы\n",
    "# Позже, оказалось, что заменить медианами - плохое решение, откажемся от него.\n",
    "#user_med = data['user_score'].median()\n",
    "#critic_med = data['critic_score'].median()\n",
    "#print(f'Медиана оценок пользователей: {user_med}')\n",
    "#print(f'Медиана оценок критиков: {critic_med}')"
   ]
  },
  {
   "cell_type": "code",
   "execution_count": 10,
   "metadata": {},
   "outputs": [],
   "source": [
    "# заполняем critic_score, user_score соответствующими значениями\n",
    "# Вместо медианных значений заменим отсутствующие значением, от которого потом сможем отказаться, например, отрицательным, чтобы не портить выводы.\n",
    "# Сделаем выводы по имеющимся значениям.\n",
    "data.user_score = data.user_score.astype('float')\n",
    "#data.loc[data['user_score'].isna(), 'user_score'] = -1\n",
    "#data.loc[data['critic_score'].isna(), 'critic_score'] = -1\n",
    "critic_score_mean = data.pivot_table(index='platform',columns='genre',values='critic_score')\n",
    "critic_score_mean = critic_score_mean.dropna()"
   ]
  },
  {
   "cell_type": "code",
   "execution_count": 11,
   "metadata": {},
   "outputs": [
    {
     "data": {
      "text/plain": [
       "name                  0\n",
       "platform              0\n",
       "year_of_release       0\n",
       "genre                 0\n",
       "na_sales              0\n",
       "eu_sales              0\n",
       "jp_sales              0\n",
       "other_sales           0\n",
       "critic_score       8461\n",
       "user_score         8981\n",
       "rating                0\n",
       "dtype: int64"
      ]
     },
     "execution_count": 11,
     "metadata": {},
     "output_type": "execute_result"
    }
   ],
   "source": [
    "data.isna().sum()"
   ]
  },
  {
   "cell_type": "markdown",
   "metadata": {},
   "source": [
    "Проведена работа с пропусками. Данные приведены к нужному типу. Двигаемся дальше."
   ]
  },
  {
   "cell_type": "code",
   "execution_count": 12,
   "metadata": {
    "scrolled": true
   },
   "outputs": [
    {
     "data": {
      "text/plain": [
       "0     82.54\n",
       "1     40.24\n",
       "2     35.52\n",
       "3     32.77\n",
       "4     31.38\n",
       "5     30.26\n",
       "6     29.80\n",
       "7     28.91\n",
       "8     28.32\n",
       "9     28.31\n",
       "10    24.67\n",
       "11    23.21\n",
       "12    23.09\n",
       "13    22.70\n",
       "14    21.82\n",
       "15    21.80\n",
       "16    21.05\n",
       "17    20.81\n",
       "18    20.62\n",
       "19    20.14\n",
       "Name: all_sales, dtype: float64"
      ]
     },
     "execution_count": 12,
     "metadata": {},
     "output_type": "execute_result"
    }
   ],
   "source": [
    "#Понадобилась запасная БД для рассчетов\n",
    "data_spare = data\n",
    "# Рассчитаем суммарные продажи во всех регионах\n",
    "data['all_sales'] = data[['na_sales','eu_sales','jp_sales', 'other_sales']].sum(axis=1)\n",
    "data['all_sales'].head(20)\n"
   ]
  },
  {
   "cell_type": "code",
   "execution_count": 13,
   "metadata": {},
   "outputs": [
    {
     "name": "stdout",
     "output_type": "stream",
     "text": [
      "<class 'pandas.core.frame.DataFrame'>\n",
      "Int64Index: 16444 entries, 0 to 16712\n",
      "Data columns (total 12 columns):\n",
      " #   Column           Non-Null Count  Dtype  \n",
      "---  ------           --------------  -----  \n",
      " 0   name             16444 non-null  object \n",
      " 1   platform         16444 non-null  object \n",
      " 2   year_of_release  16444 non-null  int64  \n",
      " 3   genre            16444 non-null  object \n",
      " 4   na_sales         16444 non-null  float64\n",
      " 5   eu_sales         16444 non-null  float64\n",
      " 6   jp_sales         16444 non-null  float64\n",
      " 7   other_sales      16444 non-null  float64\n",
      " 8   critic_score     7983 non-null   float64\n",
      " 9   user_score       7463 non-null   float64\n",
      " 10  rating           16444 non-null  object \n",
      " 11  all_sales        16444 non-null  float64\n",
      "dtypes: float64(7), int64(1), object(4)\n",
      "memory usage: 1.6+ MB\n"
     ]
    }
   ],
   "source": [
    "# check\n",
    "data.info()"
   ]
  },
  {
   "cell_type": "markdown",
   "metadata": {},
   "source": [
    "# Шаг 3. Проведите исследовательский анализ данных. Не учитывайте в работе данные за предыдущие годы."
   ]
  },
  {
   "cell_type": "code",
   "execution_count": 14,
   "metadata": {
    "scrolled": true
   },
   "outputs": [
    {
     "data": {
      "text/plain": [
       "2008    1427\n",
       "2009    1426\n",
       "2010    1255\n",
       "2007    1197\n",
       "2011    1136\n",
       "2006    1006\n",
       "2005     939\n",
       "2002     829\n",
       "2003     775\n",
       "2004     762\n",
       "2012     653\n",
       "2015     606\n",
       "2014     581\n",
       "2013     544\n",
       "2016     502\n",
       "2001     482\n",
       "1998     379\n",
       "2000     350\n",
       "1999     338\n",
       "1997     289\n",
       "1996     263\n",
       "1995     219\n",
       "1994     121\n",
       "1993      60\n",
       "1981      46\n",
       "1992      43\n",
       "1991      41\n",
       "1982      36\n",
       "1986      21\n",
       "1983      17\n",
       "1989      17\n",
       "1990      16\n",
       "1987      16\n",
       "1988      15\n",
       "1985      14\n",
       "1984      14\n",
       "1980       9\n",
       "Name: year_of_release, dtype: int64"
      ]
     },
     "execution_count": 14,
     "metadata": {},
     "output_type": "execute_result"
    }
   ],
   "source": [
    "data.year_of_release.value_counts()"
   ]
  },
  {
   "cell_type": "markdown",
   "metadata": {},
   "source": [
    "###  Посмотрите, сколько игр выпускалось в разные годы. Важны ли данные за все периоды?"
   ]
  },
  {
   "cell_type": "code",
   "execution_count": 15,
   "metadata": {},
   "outputs": [
    {
     "data": {
      "text/plain": [
       "<AxesSubplot:title={'center':'Количество игр за год'}, xlabel='year_of_release'>"
      ]
     },
     "execution_count": 15,
     "metadata": {},
     "output_type": "execute_result"
    },
    {
     "data": {
      "image/png": "[encoded data removed]",
      "text/plain": [
       "<Figure size 432x288 with 1 Axes>"
      ]
     },
     "metadata": {
      "needs_background": "light"
     },
     "output_type": "display_data"
    }
   ],
   "source": [
    "data.groupby('year_of_release')['name'].count().plot(title='Количество игр за год', xlim=(1980,2016), style='--')\n",
    "#ax.set_xlabel('Год выпуска')\n",
    "#ax.set_ylabel('Кол-во выпущенных игр')"
   ]
  },
  {
   "cell_type": "markdown",
   "metadata": {},
   "source": [
    "По графику видно, что перед 2010 годом произошел спад выпуска игр. На это могла повлиять экономическая ситуация в мире. Либо технический прорыв в производстве игр произошел после 2005 и к 2010 рынок насытился и уже не так впечатлялся новыми играми. "
   ]
  },
  {
   "cell_type": "markdown",
   "metadata": {},
   "source": [
    "### Посмотрите, как менялись продажи по платформам. Выберите платформы с наибольшими суммарными продажами и постройте распределение по годам. За какой характерный срок появляются новые и исчезают старые платформы?"
   ]
  },
  {
   "cell_type": "code",
   "execution_count": 16,
   "metadata": {},
   "outputs": [
    {
     "data": {
      "text/plain": [
       "<AxesSubplot:xlabel='year_of_release'>"
      ]
     },
     "execution_count": 16,
     "metadata": {},
     "output_type": "execute_result"
    },
    {
     "data": {
      "image/png": "[encoded data removed]",
      "text/plain": [
       "<Figure size 720x576 with 1 Axes>"
      ]
     },
     "metadata": {
      "needs_background": "light"
     },
     "output_type": "display_data"
    }
   ],
   "source": [
    "most_popular_platforms = data.groupby('platform').sum()['all_sales'].sort_values(ascending=False).index.values[:10]\n",
    "\n",
    "popular_data = data[data.platform.isin(most_popular_platforms)]\n",
    "\n",
    "popular_data = popular_data.pivot_table(index='year_of_release', columns='platform', values='all_sales', aggfunc='sum')\n",
    "popular_data.plot(figsize=(10,8))"
   ]
  },
  {
   "cell_type": "markdown",
   "metadata": {},
   "source": [
    "Платформы с наибольшими суммарными продажами - PS2, Wii, PS, X360. Характерный период появления новых и исчезновения старых платформ 5-10 лет."
   ]
  },
  {
   "cell_type": "markdown",
   "metadata": {},
   "source": [
    "### Возьмите данные за соответствующий актуальный период. Актуальный период определите самостоятельно в результате исследования предыдущих вопросов. Основной фактор — эти данные помогут построить прогноз на 2017 год."
   ]
  },
  {
   "cell_type": "code",
   "execution_count": 17,
   "metadata": {},
   "outputs": [
    {
     "data": {
      "text/plain": [
       "platform  year_of_release\n",
       "2600      1980                9\n",
       "          1981               46\n",
       "          1982               36\n",
       "          1983               11\n",
       "          1984                1\n",
       "                             ..\n",
       "XB        2008                1\n",
       "XOne      2013               19\n",
       "          2014               61\n",
       "          2015               80\n",
       "          2016               87\n",
       "Name: name, Length: 238, dtype: int64"
      ]
     },
     "metadata": {},
     "output_type": "display_data"
    }
   ],
   "source": [
    "count = data.groupby(['platform', 'year_of_release'])['name'].count()\n",
    "display(count)"
   ]
  },
  {
   "cell_type": "code",
   "execution_count": 18,
   "metadata": {},
   "outputs": [
    {
     "data": {
      "text/plain": [
       "year_of_release\n",
       "1980       9\n",
       "1981      46\n",
       "1982      36\n",
       "1983      17\n",
       "1984      14\n",
       "1985      14\n",
       "1986      21\n",
       "1987      16\n",
       "1988      15\n",
       "1989      17\n",
       "1990      16\n",
       "1991      41\n",
       "1992      43\n",
       "1993      60\n",
       "1994     121\n",
       "1995     219\n",
       "1996     263\n",
       "1997     289\n",
       "1998     379\n",
       "1999     338\n",
       "2000     350\n",
       "2001     482\n",
       "2002     829\n",
       "2003     775\n",
       "2004     762\n",
       "2005     939\n",
       "2006    1006\n",
       "2007    1197\n",
       "2008    1427\n",
       "2009    1426\n",
       "2010    1255\n",
       "2011    1136\n",
       "2012     653\n",
       "2013     544\n",
       "2014     581\n",
       "2015     606\n",
       "2016     502\n",
       "Name: name, dtype: int64"
      ]
     },
     "execution_count": 18,
     "metadata": {},
     "output_type": "execute_result"
    }
   ],
   "source": [
    "popular = data.groupby('year_of_release')['name'].count()\n",
    "popular"
   ]
  },
  {
   "cell_type": "code",
   "execution_count": 19,
   "metadata": {},
   "outputs": [
    {
     "data": {
      "text/plain": [
       "<AxesSubplot:xlabel='year_of_release'>"
      ]
     },
     "execution_count": 19,
     "metadata": {},
     "output_type": "execute_result"
    },
    {
     "data": {
      "image/png": "[encoded data removed]",
      "text/plain": [
       "<Figure size 720x576 with 1 Axes>"
      ]
     },
     "metadata": {
      "needs_background": "light"
     },
     "output_type": "display_data"
    }
   ],
   "source": [
    "data = data.query('2015 <= year_of_release <= 2016')\n",
    "data.pivot_table(index='year_of_release', columns='platform', values='all_sales', aggfunc='sum').plot(grid=True, figsize=(10,8))"
   ]
  },
  {
   "cell_type": "markdown",
   "metadata": {},
   "source": [
    "На графике видно, что за период с 15го по 16ый год продажи падали для всех платформ. Наиболее акутальная платформы PS4 и XboxOne."
   ]
  },
  {
   "cell_type": "markdown",
   "metadata": {},
   "source": [
    "Тоже обратил внимание на этот момент и в Slack полно обсуждений с разными взглядами. Решил оставить как есть, без исправлений, чтобы не пришлось подгонять под чужую траекторию мысли. На будущее, буду иметь в виду. Спасибо за совет! Плюс, ты прав, игры - один из самых быстроразвивающихся сегментов рынка и большое количество пропусков в значениях меня сильно смутило, чтобы взять бОльший период, соответственно, больше пропусков."
   ]
  },
  {
   "cell_type": "code",
   "execution_count": 20,
   "metadata": {},
   "outputs": [
    {
     "name": "stderr",
     "output_type": "stream",
     "text": [
      "/tmp/ipykernel_669/588291916.py:2: FutureWarning: Indexing with multiple keys (implicitly converted to a tuple of keys) will be deprecated, use a list instead.\n",
      "  data.groupby(['platform'])['na_sales', 'eu_sales', 'jp_sales', 'other_sales', 'all_sales'].sum()\n"
     ]
    },
    {
     "data": {
      "text/html": [
       "<div>\n",
       "<style scoped>\n",
       "    .dataframe tbody tr th:only-of-type {\n",
       "        vertical-align: middle;\n",
       "    }\n",
       "\n",
       "    .dataframe tbody tr th {\n",
       "        vertical-align: top;\n",
       "    }\n",
       "\n",
       "    .dataframe thead th {\n",
       "        text-align: right;\n",
       "    }\n",
       "</style>\n",
       "<table border=\"1\" class=\"dataframe\">\n",
       "  <thead>\n",
       "    <tr style=\"text-align: right;\">\n",
       "      <th></th>\n",
       "      <th>na_sales</th>\n",
       "      <th>eu_sales</th>\n",
       "      <th>jp_sales</th>\n",
       "      <th>other_sales</th>\n",
       "      <th>all_sales</th>\n",
       "    </tr>\n",
       "    <tr>\n",
       "      <th>platform</th>\n",
       "      <th></th>\n",
       "      <th></th>\n",
       "      <th></th>\n",
       "      <th></th>\n",
       "      <th></th>\n",
       "    </tr>\n",
       "  </thead>\n",
       "  <tbody>\n",
       "    <tr>\n",
       "      <th>3DS</th>\n",
       "      <td>10.31</td>\n",
       "      <td>7.39</td>\n",
       "      <td>23.55</td>\n",
       "      <td>1.67</td>\n",
       "      <td>42.92</td>\n",
       "    </tr>\n",
       "    <tr>\n",
       "      <th>PC</th>\n",
       "      <td>3.72</td>\n",
       "      <td>9.10</td>\n",
       "      <td>0.00</td>\n",
       "      <td>0.95</td>\n",
       "      <td>13.77</td>\n",
       "    </tr>\n",
       "    <tr>\n",
       "      <th>PS3</th>\n",
       "      <td>5.66</td>\n",
       "      <td>7.30</td>\n",
       "      <td>4.97</td>\n",
       "      <td>2.49</td>\n",
       "      <td>20.42</td>\n",
       "    </tr>\n",
       "    <tr>\n",
       "      <th>PS4</th>\n",
       "      <td>63.86</td>\n",
       "      <td>83.54</td>\n",
       "      <td>12.05</td>\n",
       "      <td>28.70</td>\n",
       "      <td>188.15</td>\n",
       "    </tr>\n",
       "    <tr>\n",
       "      <th>PSP</th>\n",
       "      <td>0.00</td>\n",
       "      <td>0.00</td>\n",
       "      <td>0.12</td>\n",
       "      <td>0.00</td>\n",
       "      <td>0.12</td>\n",
       "    </tr>\n",
       "    <tr>\n",
       "      <th>PSV</th>\n",
       "      <td>0.54</td>\n",
       "      <td>1.08</td>\n",
       "      <td>8.41</td>\n",
       "      <td>0.47</td>\n",
       "      <td>10.50</td>\n",
       "    </tr>\n",
       "    <tr>\n",
       "      <th>Wii</th>\n",
       "      <td>0.49</td>\n",
       "      <td>0.73</td>\n",
       "      <td>0.00</td>\n",
       "      <td>0.10</td>\n",
       "      <td>1.32</td>\n",
       "    </tr>\n",
       "    <tr>\n",
       "      <th>WiiU</th>\n",
       "      <td>8.86</td>\n",
       "      <td>6.49</td>\n",
       "      <td>4.12</td>\n",
       "      <td>1.48</td>\n",
       "      <td>20.95</td>\n",
       "    </tr>\n",
       "    <tr>\n",
       "      <th>X360</th>\n",
       "      <td>8.05</td>\n",
       "      <td>4.21</td>\n",
       "      <td>0.00</td>\n",
       "      <td>1.22</td>\n",
       "      <td>13.48</td>\n",
       "    </tr>\n",
       "    <tr>\n",
       "      <th>XOne</th>\n",
       "      <td>50.30</td>\n",
       "      <td>28.10</td>\n",
       "      <td>0.18</td>\n",
       "      <td>7.71</td>\n",
       "      <td>86.29</td>\n",
       "    </tr>\n",
       "  </tbody>\n",
       "</table>\n",
       "</div>"
      ],
      "text/plain": [
       "          na_sales  eu_sales  jp_sales  other_sales  all_sales\n",
       "platform                                                      \n",
       "3DS          10.31      7.39     23.55         1.67      42.92\n",
       "PC            3.72      9.10      0.00         0.95      13.77\n",
       "PS3           5.66      7.30      4.97         2.49      20.42\n",
       "PS4          63.86     83.54     12.05        28.70     188.15\n",
       "PSP           0.00      0.00      0.12         0.00       0.12\n",
       "PSV           0.54      1.08      8.41         0.47      10.50\n",
       "Wii           0.49      0.73      0.00         0.10       1.32\n",
       "WiiU          8.86      6.49      4.12         1.48      20.95\n",
       "X360          8.05      4.21      0.00         1.22      13.48\n",
       "XOne         50.30     28.10      0.18         7.71      86.29"
      ]
     },
     "execution_count": 20,
     "metadata": {},
     "output_type": "execute_result"
    }
   ],
   "source": [
    "# Построим таблицу с подсчетом продаж\n",
    "data.groupby(['platform'])['na_sales', 'eu_sales', 'jp_sales', 'other_sales', 'all_sales'].sum()"
   ]
  },
  {
   "cell_type": "markdown",
   "metadata": {},
   "source": [
    "Кроме PS4 и XboxOne, все остальные платформы либо устарели, либо по другим причинам не имеют даже близкого количества продаж. Их можно исключить из текущей выборки."
   ]
  },
  {
   "cell_type": "markdown",
   "metadata": {},
   "source": [
    "### Постройте график «ящик с усами» по глобальным продажам игр в разбивке по платформам. Опишите результат."
   ]
  },
  {
   "cell_type": "code",
   "execution_count": 21,
   "metadata": {},
   "outputs": [
    {
     "data": {
      "text/html": [
       "<div>\n",
       "<style scoped>\n",
       "    .dataframe tbody tr th:only-of-type {\n",
       "        vertical-align: middle;\n",
       "    }\n",
       "\n",
       "    .dataframe tbody tr th {\n",
       "        vertical-align: top;\n",
       "    }\n",
       "\n",
       "    .dataframe thead th {\n",
       "        text-align: right;\n",
       "    }\n",
       "</style>\n",
       "<table border=\"1\" class=\"dataframe\">\n",
       "  <thead>\n",
       "    <tr style=\"text-align: right;\">\n",
       "      <th></th>\n",
       "      <th>count</th>\n",
       "      <th>mean</th>\n",
       "      <th>std</th>\n",
       "      <th>min</th>\n",
       "      <th>25%</th>\n",
       "      <th>50%</th>\n",
       "      <th>75%</th>\n",
       "      <th>max</th>\n",
       "    </tr>\n",
       "    <tr>\n",
       "      <th>platform</th>\n",
       "      <th></th>\n",
       "      <th></th>\n",
       "      <th></th>\n",
       "      <th></th>\n",
       "      <th></th>\n",
       "      <th></th>\n",
       "      <th></th>\n",
       "      <th></th>\n",
       "    </tr>\n",
       "  </thead>\n",
       "  <tbody>\n",
       "    <tr>\n",
       "      <th>3DS</th>\n",
       "      <td>132.0</td>\n",
       "      <td>0.325152</td>\n",
       "      <td>0.798620</td>\n",
       "      <td>0.01</td>\n",
       "      <td>0.030</td>\n",
       "      <td>0.090</td>\n",
       "      <td>0.2325</td>\n",
       "      <td>7.14</td>\n",
       "    </tr>\n",
       "    <tr>\n",
       "      <th>PC</th>\n",
       "      <td>104.0</td>\n",
       "      <td>0.132404</td>\n",
       "      <td>0.209449</td>\n",
       "      <td>0.01</td>\n",
       "      <td>0.020</td>\n",
       "      <td>0.050</td>\n",
       "      <td>0.1425</td>\n",
       "      <td>1.28</td>\n",
       "    </tr>\n",
       "    <tr>\n",
       "      <th>PS3</th>\n",
       "      <td>111.0</td>\n",
       "      <td>0.183964</td>\n",
       "      <td>0.342696</td>\n",
       "      <td>0.01</td>\n",
       "      <td>0.020</td>\n",
       "      <td>0.060</td>\n",
       "      <td>0.1600</td>\n",
       "      <td>2.70</td>\n",
       "    </tr>\n",
       "    <tr>\n",
       "      <th>PS4</th>\n",
       "      <td>301.0</td>\n",
       "      <td>0.625083</td>\n",
       "      <td>1.457063</td>\n",
       "      <td>0.01</td>\n",
       "      <td>0.050</td>\n",
       "      <td>0.120</td>\n",
       "      <td>0.4200</td>\n",
       "      <td>14.63</td>\n",
       "    </tr>\n",
       "    <tr>\n",
       "      <th>PSP</th>\n",
       "      <td>3.0</td>\n",
       "      <td>0.040000</td>\n",
       "      <td>0.034641</td>\n",
       "      <td>0.02</td>\n",
       "      <td>0.020</td>\n",
       "      <td>0.020</td>\n",
       "      <td>0.0500</td>\n",
       "      <td>0.08</td>\n",
       "    </tr>\n",
       "    <tr>\n",
       "      <th>PSV</th>\n",
       "      <td>195.0</td>\n",
       "      <td>0.053846</td>\n",
       "      <td>0.063669</td>\n",
       "      <td>0.01</td>\n",
       "      <td>0.020</td>\n",
       "      <td>0.030</td>\n",
       "      <td>0.0600</td>\n",
       "      <td>0.41</td>\n",
       "    </tr>\n",
       "    <tr>\n",
       "      <th>Wii</th>\n",
       "      <td>5.0</td>\n",
       "      <td>0.264000</td>\n",
       "      <td>0.390487</td>\n",
       "      <td>0.01</td>\n",
       "      <td>0.030</td>\n",
       "      <td>0.150</td>\n",
       "      <td>0.1800</td>\n",
       "      <td>0.95</td>\n",
       "    </tr>\n",
       "    <tr>\n",
       "      <th>WiiU</th>\n",
       "      <td>42.0</td>\n",
       "      <td>0.498810</td>\n",
       "      <td>0.850240</td>\n",
       "      <td>0.01</td>\n",
       "      <td>0.050</td>\n",
       "      <td>0.215</td>\n",
       "      <td>0.5175</td>\n",
       "      <td>4.44</td>\n",
       "    </tr>\n",
       "    <tr>\n",
       "      <th>X360</th>\n",
       "      <td>48.0</td>\n",
       "      <td>0.280833</td>\n",
       "      <td>0.381207</td>\n",
       "      <td>0.01</td>\n",
       "      <td>0.040</td>\n",
       "      <td>0.110</td>\n",
       "      <td>0.3525</td>\n",
       "      <td>1.70</td>\n",
       "    </tr>\n",
       "    <tr>\n",
       "      <th>XOne</th>\n",
       "      <td>167.0</td>\n",
       "      <td>0.516707</td>\n",
       "      <td>0.965940</td>\n",
       "      <td>0.01</td>\n",
       "      <td>0.035</td>\n",
       "      <td>0.130</td>\n",
       "      <td>0.5550</td>\n",
       "      <td>7.39</td>\n",
       "    </tr>\n",
       "  </tbody>\n",
       "</table>\n",
       "</div>"
      ],
      "text/plain": [
       "          count      mean       std   min    25%    50%     75%    max\n",
       "platform                                                              \n",
       "3DS       132.0  0.325152  0.798620  0.01  0.030  0.090  0.2325   7.14\n",
       "PC        104.0  0.132404  0.209449  0.01  0.020  0.050  0.1425   1.28\n",
       "PS3       111.0  0.183964  0.342696  0.01  0.020  0.060  0.1600   2.70\n",
       "PS4       301.0  0.625083  1.457063  0.01  0.050  0.120  0.4200  14.63\n",
       "PSP         3.0  0.040000  0.034641  0.02  0.020  0.020  0.0500   0.08\n",
       "PSV       195.0  0.053846  0.063669  0.01  0.020  0.030  0.0600   0.41\n",
       "Wii         5.0  0.264000  0.390487  0.01  0.030  0.150  0.1800   0.95\n",
       "WiiU       42.0  0.498810  0.850240  0.01  0.050  0.215  0.5175   4.44\n",
       "X360       48.0  0.280833  0.381207  0.01  0.040  0.110  0.3525   1.70\n",
       "XOne      167.0  0.516707  0.965940  0.01  0.035  0.130  0.5550   7.39"
      ]
     },
     "execution_count": 21,
     "metadata": {},
     "output_type": "execute_result"
    }
   ],
   "source": [
    "data.groupby('platform')['all_sales'].describe()"
   ]
  },
  {
   "cell_type": "code",
   "execution_count": 22,
   "metadata": {},
   "outputs": [
    {
     "data": {
      "image/png": "[encoded data removed]",
      "text/plain": [
       "<Figure size 720x576 with 1 Axes>"
      ]
     },
     "metadata": {
      "needs_background": "light"
     },
     "output_type": "display_data"
    }
   ],
   "source": [
    "# Построим диаграмму размаха\n",
    "data.boxplot(by='platform', column='all_sales', figsize=(10,8))\n",
    "plt.show()"
   ]
  },
  {
   "cell_type": "code",
   "execution_count": 23,
   "metadata": {},
   "outputs": [
    {
     "data": {
      "image/png": "[encoded data removed]",
      "text/plain": [
       "<Figure size 720x576 with 1 Axes>"
      ]
     },
     "metadata": {
      "needs_background": "light"
     },
     "output_type": "display_data"
    }
   ],
   "source": [
    "data.boxplot(by='platform', column='all_sales', figsize=(10,8))\n",
    "# ограничим данные по стороне Y до 4 млн продаж\n",
    "plt.ylim(0, 4)\n",
    "plt.show()"
   ]
  },
  {
   "cell_type": "markdown",
   "metadata": {},
   "source": [
    "Редкие и частые выбросы у PS4 & XOne могут быть обусловены чрезмерной популярностью каких-либо игр, это наблюдается и у других платформ с их эксклюзивами или просто популярными играми. Оставляем. Так же, есть платформы, на которых количество выпущеных игр намного больше, что также влияет на выбросы. Плюс, изменения в технический составляющих, например, Wii очень сильно отличалась от своих конкурентов даже внешним видом и всегда ориентирована под свои же платформеры. Эксклюзивы выходящие для Xbox360 и ps3 пользовались огромной популярностью, что и повлияло на популярность самих платформ.  "
   ]
  },
  {
   "cell_type": "markdown",
   "metadata": {},
   "source": [
    "### Посмотрите, как влияют на продажи внутри одной популярной платформы отзывы пользователей и критиков. Постройте диаграмму рассеяния и посчитайте корреляцию между отзывами и продажами. Сформулируйте выводы."
   ]
  },
  {
   "cell_type": "markdown",
   "metadata": {},
   "source": [
    "Больше всего продаж в актуальном периоде у платформы PS4. Для анализа выберем именно эту платформу и посмотрим, как влияют на продажи отзывы пользователей и критиков. "
   ]
  },
  {
   "cell_type": "code",
   "execution_count": 25,
   "metadata": {},
   "outputs": [
    {
     "data": {
      "text/plain": [
       "<AxesSubplot:xlabel='user_score', ylabel='all_sales'>"
      ]
     },
     "execution_count": 25,
     "metadata": {},
     "output_type": "execute_result"
    },
    {
     "data": {
      "image/png": "[encoded data removed]",
      "text/plain": [
       "<Figure size 432x432 with 1 Axes>"
      ]
     },
     "metadata": {
      "needs_background": "light"
     },
     "output_type": "display_data"
    }
   ],
   "source": [
    "#Построим график распределения оценок пользователей XboxOne для наглядности \n",
    "data[data['platform'] == 'XOne'].plot(x='user_score', y='all_sales', kind='scatter', alpha=0.2, figsize=(6,6))"
   ]
  },
  {
   "cell_type": "code",
   "execution_count": 26,
   "metadata": {},
   "outputs": [
    {
     "name": "stdout",
     "output_type": "stream",
     "text": [
      "Корреляция Пирсона PS4 между оценок пользователей и продажами равна: -0.05973845712638215\n"
     ]
    }
   ],
   "source": [
    "# Рассчитаем коэффициент корреляции Пирсона по имеющимся значениям для пользователей\n",
    "ps4 = data[data['platform'] == 'PS4']\n",
    "#ps4_filled = ps4[ps4['user_score'] != -1] \n",
    "ps4_cor = ps4['user_score'].corr(ps4['all_sales'])\n",
    "print(f'Корреляция Пирсона PS4 между оценок пользователей и продажами равна: {ps4_cor}')"
   ]
  },
  {
   "cell_type": "code",
   "execution_count": 27,
   "metadata": {},
   "outputs": [
    {
     "name": "stdout",
     "output_type": "stream",
     "text": [
      "Корреляция Пирсона Xbox One между оценок критиков и продажами равна: -0.04146733387366271\n"
     ]
    }
   ],
   "source": [
    "# Рассчитаем коэффициент корреляции Пирсона по имеющимся значениям для критиков\n",
    "XboxOne = data[data['platform'] == 'XOne']\n",
    "#ps4_filled = ps4[ps4['critic_score'] != -1] \n",
    "XboxOne_cor = XboxOne['user_score'].corr(XboxOne['all_sales'])\n",
    "print(f'Корреляция Пирсона Xbox One между оценок критиков и продажами равна: {XboxOne_cor}')"
   ]
  },
  {
   "cell_type": "code",
   "execution_count": 28,
   "metadata": {
    "scrolled": false
   },
   "outputs": [
    {
     "data": {
      "text/plain": [
       "<AxesSubplot:xlabel='critic_score', ylabel='all_sales'>"
      ]
     },
     "execution_count": 28,
     "metadata": {},
     "output_type": "execute_result"
    },
    {
     "data": {
      "image/png": "[encoded data removed]",
      "text/plain": [
       "<Figure size 432x432 with 1 Axes>"
      ]
     },
     "metadata": {
      "needs_background": "light"
     },
     "output_type": "display_data"
    }
   ],
   "source": [
    "#Построим график распределения оценок критиков PS4 для наглядности\n",
    "data[data['platform'] == 'PS4'].plot(x='critic_score', y='all_sales', kind='scatter', alpha=0.2, figsize=(6,6))"
   ]
  },
  {
   "cell_type": "code",
   "execution_count": 29,
   "metadata": {},
   "outputs": [
    {
     "data": {
      "text/plain": [
       "<AxesSubplot:xlabel='critic_score', ylabel='all_sales'>"
      ]
     },
     "execution_count": 29,
     "metadata": {},
     "output_type": "execute_result"
    },
    {
     "data": {
      "image/png": "[encoded data removed]",
      "text/plain": [
       "<Figure size 432x432 with 1 Axes>"
      ]
     },
     "metadata": {
      "needs_background": "light"
     },
     "output_type": "display_data"
    }
   ],
   "source": [
    "#Построим график распределения оценок критиков XboxOne для наглядности\n",
    "data[data['platform'] == 'XOne'].plot(x='critic_score', y='all_sales', kind='scatter', alpha=0.2, figsize=(6,6))"
   ]
  },
  {
   "cell_type": "code",
   "execution_count": 30,
   "metadata": {},
   "outputs": [
    {
     "name": "stdout",
     "output_type": "stream",
     "text": [
      "Корреляция Пирсона PS4 между оценок критиков и продажами равна: 0.3928485555130601\n"
     ]
    }
   ],
   "source": [
    "# Рассчитаем коэффициент корреляции Пирсона по имеющимся значениям для критиков\n",
    "ps4 = data[data['platform'] == 'PS4']\n",
    "#ps4_filled = ps4[ps4['critic_score'] != -1] \n",
    "ps4_cor = ps4['critic_score'].corr(ps4['all_sales'])\n",
    "print(f'Корреляция Пирсона PS4 между оценок критиков и продажами равна: {ps4_cor}')"
   ]
  },
  {
   "cell_type": "code",
   "execution_count": 31,
   "metadata": {},
   "outputs": [
    {
     "name": "stdout",
     "output_type": "stream",
     "text": [
      "Корреляция Пирсона Xbox One между оценок критиков и продажами равна: 0.43088874582136805\n"
     ]
    }
   ],
   "source": [
    "# Рассчитаем коэффициент корреляции Пирсона по имеющимся значениям для критиков\n",
    "XboxOne = data[data['platform'] == 'XOne']\n",
    "#ps4_filled = ps4[ps4['critic_score'] != -1] \n",
    "XboxOne_cor = XboxOne['critic_score'].corr(XboxOne['all_sales'])\n",
    "print(f'Корреляция Пирсона Xbox One между оценок критиков и продажами равна: {XboxOne_cor}')"
   ]
  },
  {
   "cell_type": "markdown",
   "metadata": {},
   "source": [
    "По имеющимся отзывам, можно сказать что они в основном положительные для платформы PS4 и для Xbox One среди пользователей и критиков. В обоих случаях достаточно низкий уроень корреляции, это может говорить о том, что зависимость может быть не линейной, а другого характера."
   ]
  },
  {
   "cell_type": "markdown",
   "metadata": {},
   "source": [
    "### Посмотрите на общее распределение игр по жанрам. Что можно сказать о самых прибыльных жанрах? Выделяются ли жанры с высокими и низкими продажами?"
   ]
  },
  {
   "cell_type": "code",
   "execution_count": 32,
   "metadata": {},
   "outputs": [
    {
     "data": {
      "image/png": "[encoded data removed]",
      "text/plain": [
       "<Figure size 720x576 with 1 Axes>"
      ]
     },
     "metadata": {
      "needs_background": "light"
     },
     "output_type": "display_data"
    }
   ],
   "source": [
    "# Построим диаграмму размаха для жанров \n",
    "data.boxplot(by='genre', column='all_sales', figsize=(10,8))\n",
    "plt.show()"
   ]
  },
  {
   "cell_type": "code",
   "execution_count": 33,
   "metadata": {},
   "outputs": [
    {
     "data": {
      "image/png": "[encoded data removed]",
      "text/plain": [
       "<Figure size 720x576 with 1 Axes>"
      ]
     },
     "metadata": {
      "needs_background": "light"
     },
     "output_type": "display_data"
    }
   ],
   "source": [
    "data.boxplot(by='genre', column='all_sales', figsize=(10,8))\n",
    "# ограничим данные по стороне Y до 5 млн продаж\n",
    "plt.ylim(0, 5)\n",
    "plt.show()"
   ]
  },
  {
   "cell_type": "code",
   "execution_count": 34,
   "metadata": {},
   "outputs": [
    {
     "data": {
      "text/plain": [
       "genre\n",
       "Shooter         0.380\n",
       "Sports          0.120\n",
       "Role-Playing    0.115\n",
       "Platform        0.100\n",
       "Simulation      0.100\n",
       "Fighting        0.090\n",
       "Action          0.060\n",
       "Misc            0.060\n",
       "Racing          0.055\n",
       "Strategy        0.050\n",
       "Adventure       0.030\n",
       "Puzzle          0.030\n",
       "Name: all_sales, dtype: float64"
      ]
     },
     "execution_count": 34,
     "metadata": {},
     "output_type": "execute_result"
    }
   ],
   "source": [
    "data.groupby('genre').median()['all_sales'].sort_values(ascending=False)"
   ]
  },
  {
   "cell_type": "markdown",
   "metadata": {},
   "source": [
    "Шутеры и спорт с ролевыми сильно выделяются по прибыльности среди других жанров. Остальные близки друг к другу по мединным значениям продаж в мире. Шутеры, до сих пор, занимают лидирующее положение среди других жанров."
   ]
  },
  {
   "cell_type": "markdown",
   "metadata": {},
   "source": [
    "# Шаг 4. Составьте портрет пользователя каждого региона"
   ]
  },
  {
   "cell_type": "markdown",
   "metadata": {},
   "source": [
    "## Определите для пользователя каждого региона (NA, EU, JP):"
   ]
  },
  {
   "cell_type": "markdown",
   "metadata": {},
   "source": [
    "### Самые популярные платформы (топ-5). Опишите различия в долях продаж."
   ]
  },
  {
   "cell_type": "code",
   "execution_count": 35,
   "metadata": {},
   "outputs": [
    {
     "data": {
      "text/plain": [
       "platform\n",
       "XOne    0.301198\n",
       "PS4     0.212159\n",
       "WiiU    0.210952\n",
       "X360    0.167708\n",
       "Wii     0.098000\n",
       "3DS     0.078106\n",
       "PS3     0.050991\n",
       "PC      0.035769\n",
       "PSV     0.002769\n",
       "PSP     0.000000\n",
       "Name: na_sales, dtype: float64"
      ]
     },
     "execution_count": 35,
     "metadata": {},
     "output_type": "execute_result"
    }
   ],
   "source": [
    "# NA\n",
    "na_top = data.groupby('platform').na_sales.mean().sort_values(ascending=False)\n",
    "na_top"
   ]
  },
  {
   "cell_type": "code",
   "execution_count": 36,
   "metadata": {},
   "outputs": [
    {
     "data": {
      "text/plain": [
       "platform\n",
       "PS4     0.277542\n",
       "XOne    0.168263\n",
       "WiiU    0.154524\n",
       "Wii     0.146000\n",
       "X360    0.087708\n",
       "PC      0.087500\n",
       "PS3     0.065766\n",
       "3DS     0.055985\n",
       "PSV     0.005538\n",
       "PSP     0.000000\n",
       "Name: eu_sales, dtype: float64"
      ]
     },
     "execution_count": 36,
     "metadata": {},
     "output_type": "execute_result"
    }
   ],
   "source": [
    "# EU\n",
    "eu_top = data.groupby('platform').eu_sales.mean().sort_values(ascending=False)\n",
    "eu_top"
   ]
  },
  {
   "cell_type": "code",
   "execution_count": 37,
   "metadata": {},
   "outputs": [
    {
     "data": {
      "text/plain": [
       "platform\n",
       "3DS     0.178409\n",
       "WiiU    0.098095\n",
       "PS3     0.044775\n",
       "PSV     0.043128\n",
       "PS4     0.040033\n",
       "PSP     0.040000\n",
       "XOne    0.001078\n",
       "PC      0.000000\n",
       "Wii     0.000000\n",
       "X360    0.000000\n",
       "Name: jp_sales, dtype: float64"
      ]
     },
     "execution_count": 37,
     "metadata": {},
     "output_type": "execute_result"
    }
   ],
   "source": [
    "# JP\n",
    "jp_top = data.groupby('platform').jp_sales.mean().sort_values(ascending=False)\n",
    "jp_top"
   ]
  },
  {
   "cell_type": "code",
   "execution_count": 38,
   "metadata": {},
   "outputs": [
    {
     "data": {
      "text/html": [
       "<div>\n",
       "<style scoped>\n",
       "    .dataframe tbody tr th:only-of-type {\n",
       "        vertical-align: middle;\n",
       "    }\n",
       "\n",
       "    .dataframe tbody tr th {\n",
       "        vertical-align: top;\n",
       "    }\n",
       "\n",
       "    .dataframe thead th {\n",
       "        text-align: right;\n",
       "    }\n",
       "</style>\n",
       "<table border=\"1\" class=\"dataframe\">\n",
       "  <thead>\n",
       "    <tr style=\"text-align: right;\">\n",
       "      <th>platform</th>\n",
       "      <th>XOne</th>\n",
       "      <th>PS4</th>\n",
       "      <th>WiiU</th>\n",
       "      <th>X360</th>\n",
       "      <th>Wii</th>\n",
       "      <th>3DS</th>\n",
       "      <th>PS3</th>\n",
       "      <th>PC</th>\n",
       "      <th>PSV</th>\n",
       "      <th>PSP</th>\n",
       "    </tr>\n",
       "  </thead>\n",
       "  <tbody>\n",
       "    <tr>\n",
       "      <th>na_sales</th>\n",
       "      <td>0.301198</td>\n",
       "      <td>0.212159</td>\n",
       "      <td>0.210952</td>\n",
       "      <td>0.167708</td>\n",
       "      <td>0.098</td>\n",
       "      <td>0.078106</td>\n",
       "      <td>0.050991</td>\n",
       "      <td>0.035769</td>\n",
       "      <td>0.002769</td>\n",
       "      <td>0.00</td>\n",
       "    </tr>\n",
       "    <tr>\n",
       "      <th>eu_sales</th>\n",
       "      <td>0.168263</td>\n",
       "      <td>0.277542</td>\n",
       "      <td>0.154524</td>\n",
       "      <td>0.087708</td>\n",
       "      <td>0.146</td>\n",
       "      <td>0.055985</td>\n",
       "      <td>0.065766</td>\n",
       "      <td>0.087500</td>\n",
       "      <td>0.005538</td>\n",
       "      <td>0.00</td>\n",
       "    </tr>\n",
       "    <tr>\n",
       "      <th>jp_sales</th>\n",
       "      <td>0.001078</td>\n",
       "      <td>0.040033</td>\n",
       "      <td>0.098095</td>\n",
       "      <td>0.000000</td>\n",
       "      <td>0.000</td>\n",
       "      <td>0.178409</td>\n",
       "      <td>0.044775</td>\n",
       "      <td>0.000000</td>\n",
       "      <td>0.043128</td>\n",
       "      <td>0.04</td>\n",
       "    </tr>\n",
       "  </tbody>\n",
       "</table>\n",
       "</div>"
      ],
      "text/plain": [
       "platform      XOne       PS4      WiiU      X360    Wii       3DS       PS3  \\\n",
       "na_sales  0.301198  0.212159  0.210952  0.167708  0.098  0.078106  0.050991   \n",
       "eu_sales  0.168263  0.277542  0.154524  0.087708  0.146  0.055985  0.065766   \n",
       "jp_sales  0.001078  0.040033  0.098095  0.000000  0.000  0.178409  0.044775   \n",
       "\n",
       "platform        PC       PSV   PSP  \n",
       "na_sales  0.035769  0.002769  0.00  \n",
       "eu_sales  0.087500  0.005538  0.00  \n",
       "jp_sales  0.000000  0.043128  0.04  "
      ]
     },
     "execution_count": 38,
     "metadata": {},
     "output_type": "execute_result"
    }
   ],
   "source": [
    "# Занесем все данные в одну табблицу\n",
    "na_eu_jp = pd.DataFrame(data=[na_top,eu_top,jp_top])\n",
    "na_eu_jp"
   ]
  },
  {
   "cell_type": "code",
   "execution_count": 39,
   "metadata": {},
   "outputs": [
    {
     "data": {
      "text/plain": [
       "<AxesSubplot:>"
      ]
     },
     "execution_count": 39,
     "metadata": {},
     "output_type": "execute_result"
    },
    {
     "data": {
      "image/png": "[encoded data removed]",
      "text/plain": [
       "<Figure size 576x576 with 1 Axes>"
      ]
     },
     "metadata": {
      "needs_background": "light"
     },
     "output_type": "display_data"
    }
   ],
   "source": [
    "# Построим график для наглядности\n",
    "na_eu_jp.plot(kind='bar', figsize=(8,8))"
   ]
  },
  {
   "cell_type": "markdown",
   "metadata": {},
   "source": [
    "Для NA самой популярной платформой является XOne.   \n",
    "Для EU самой популярной платформой является PS4.  \n",
    "У JP, что странно, Wii не представлена вообще, вомзожно, этот продукт делался исключительно для зарубежного рынка. Самой популярной платформой стал 3DS, что ожидаемо. Обратной ситуации, как с Wii в сторону JP не наблюдается, платформы Xbox и PlayStation им почти не интересны."
   ]
  },
  {
   "cell_type": "code",
   "execution_count": 40,
   "metadata": {},
   "outputs": [],
   "source": [
    "def top_five(row,title):\n",
    "    fig, axes = plt.subplots(1,3, figsize=(20,3))\n",
    "    for pivot, ax in zip(list(['platform', 'genre', 'rating']), axes):\n",
    "        ppivot = data.pivot_table(index=pivot, values=row, aggfunc='mean').sort_values(by=row, ascending=False).reset_index().rename_axis(None, axis=1).head(5)\n",
    "        display(pivot)\n",
    "        \n",
    "        sea.set_palette(\"colorblind\")\n",
    "        sea.barplot(data=ppivot, x=pivot, y=row, ax=ax)\n",
    "        fig.suptitle(title, fontsize=15)\n",
    "\n"
   ]
  },
  {
   "cell_type": "code",
   "execution_count": 41,
   "metadata": {
    "scrolled": true
   },
   "outputs": [
    {
     "data": {
      "text/plain": [
       "'platform'"
      ]
     },
     "metadata": {},
     "output_type": "display_data"
    },
    {
     "data": {
      "text/plain": [
       "'genre'"
      ]
     },
     "metadata": {},
     "output_type": "display_data"
    },
    {
     "data": {
      "text/plain": [
       "'rating'"
      ]
     },
     "metadata": {},
     "output_type": "display_data"
    },
    {
     "data": {
      "image/png": "[encoded data removed]",
      "text/plain": [
       "<Figure size 1440x216 with 3 Axes>"
      ]
     },
     "metadata": {
      "needs_background": "light"
     },
     "output_type": "display_data"
    }
   ],
   "source": [
    "top_five('na_sales', 'ТОП-5 NA')"
   ]
  },
  {
   "cell_type": "code",
   "execution_count": 42,
   "metadata": {},
   "outputs": [
    {
     "data": {
      "text/plain": [
       "'platform'"
      ]
     },
     "metadata": {},
     "output_type": "display_data"
    },
    {
     "data": {
      "text/plain": [
       "'genre'"
      ]
     },
     "metadata": {},
     "output_type": "display_data"
    },
    {
     "data": {
      "text/plain": [
       "'rating'"
      ]
     },
     "metadata": {},
     "output_type": "display_data"
    },
    {
     "data": {
      "image/png": "[encoded data removed]",
      "text/plain": [
       "<Figure size 1440x216 with 3 Axes>"
      ]
     },
     "metadata": {
      "needs_background": "light"
     },
     "output_type": "display_data"
    }
   ],
   "source": [
    "top_five('eu_sales', 'ТОП-5 EU')"
   ]
  },
  {
   "cell_type": "code",
   "execution_count": 43,
   "metadata": {},
   "outputs": [
    {
     "data": {
      "text/plain": [
       "'platform'"
      ]
     },
     "metadata": {},
     "output_type": "display_data"
    },
    {
     "data": {
      "text/plain": [
       "'genre'"
      ]
     },
     "metadata": {},
     "output_type": "display_data"
    },
    {
     "data": {
      "text/plain": [
       "'rating'"
      ]
     },
     "metadata": {},
     "output_type": "display_data"
    },
    {
     "data": {
      "image/png": "[encoded data removed]",
      "text/plain": [
       "<Figure size 1440x216 with 3 Axes>"
      ]
     },
     "metadata": {
      "needs_background": "light"
     },
     "output_type": "display_data"
    }
   ],
   "source": [
    "top_five('jp_sales', 'ТОП-5 JP')"
   ]
  },
  {
   "cell_type": "code",
   "execution_count": 44,
   "metadata": {},
   "outputs": [
    {
     "data": {
      "text/plain": [
       "array(['PS4', 'XOne', '3DS', 'WiiU', 'PS3', 'X360', 'PC', 'Wii', 'PSV',\n",
       "       'PSP'], dtype=object)"
      ]
     },
     "execution_count": 44,
     "metadata": {},
     "output_type": "execute_result"
    }
   ],
   "source": [
    "# check\n",
    "data.platform.unique()"
   ]
  },
  {
   "cell_type": "markdown",
   "metadata": {},
   "source": [
    "### Самые популярные жанры (топ-5). Поясните разницу."
   ]
  },
  {
   "cell_type": "code",
   "execution_count": 45,
   "metadata": {},
   "outputs": [
    {
     "data": {
      "text/plain": [
       "genre\n",
       "Shooter         0.594815\n",
       "Sports          0.245888\n",
       "Role-Playing    0.150152\n",
       "Fighting        0.149730\n",
       "Platform        0.135000\n",
       "Misc            0.078592\n",
       "Action          0.078144\n",
       "Racing          0.067143\n",
       "Simulation      0.041212\n",
       "Adventure       0.034909\n",
       "Strategy        0.028276\n",
       "Puzzle          0.008571\n",
       "Name: na_sales, dtype: float64"
      ]
     },
     "execution_count": 45,
     "metadata": {},
     "output_type": "execute_result"
    }
   ],
   "source": [
    "# NA\n",
    "na_genre = data.groupby('genre').na_sales.mean().sort_values(ascending=False)\n",
    "na_genre"
   ]
  },
  {
   "cell_type": "code",
   "execution_count": 46,
   "metadata": {},
   "outputs": [
    {
     "data": {
      "text/plain": [
       "genre\n",
       "Shooter         0.497284\n",
       "Sports          0.260000\n",
       "Racing          0.155238\n",
       "Role-Playing    0.130379\n",
       "Platform        0.114286\n",
       "Simulation      0.113333\n",
       "Fighting        0.100541\n",
       "Action          0.080789\n",
       "Misc            0.060000\n",
       "Strategy        0.054138\n",
       "Adventure       0.042455\n",
       "Puzzle          0.018571\n",
       "Name: eu_sales, dtype: float64"
      ]
     },
     "execution_count": 46,
     "metadata": {},
     "output_type": "execute_result"
    }
   ],
   "source": [
    "# EU\n",
    "eu_genre = data.groupby('genre').eu_sales.mean().sort_values(ascending=False)\n",
    "eu_genre"
   ]
  },
  {
   "cell_type": "code",
   "execution_count": 47,
   "metadata": {},
   "outputs": [
    {
     "data": {
      "text/plain": [
       "genre\n",
       "Role-Playing    0.101591\n",
       "Puzzle          0.074286\n",
       "Simulation      0.058485\n",
       "Action          0.053480\n",
       "Platform        0.050714\n",
       "Shooter         0.046790\n",
       "Misc            0.044930\n",
       "Fighting        0.041622\n",
       "Adventure       0.020182\n",
       "Sports          0.015421\n",
       "Strategy        0.013448\n",
       "Racing          0.006905\n",
       "Name: jp_sales, dtype: float64"
      ]
     },
     "execution_count": 47,
     "metadata": {},
     "output_type": "execute_result"
    }
   ],
   "source": [
    "# JP\n",
    "jp_genre = data.groupby('genre').jp_sales.mean().sort_values(ascending=False)\n",
    "jp_genre"
   ]
  },
  {
   "cell_type": "code",
   "execution_count": 48,
   "metadata": {
    "scrolled": true
   },
   "outputs": [
    {
     "data": {
      "text/html": [
       "<div>\n",
       "<style scoped>\n",
       "    .dataframe tbody tr th:only-of-type {\n",
       "        vertical-align: middle;\n",
       "    }\n",
       "\n",
       "    .dataframe tbody tr th {\n",
       "        vertical-align: top;\n",
       "    }\n",
       "\n",
       "    .dataframe thead th {\n",
       "        text-align: right;\n",
       "    }\n",
       "</style>\n",
       "<table border=\"1\" class=\"dataframe\">\n",
       "  <thead>\n",
       "    <tr style=\"text-align: right;\">\n",
       "      <th>genre</th>\n",
       "      <th>Shooter</th>\n",
       "      <th>Sports</th>\n",
       "      <th>Role-Playing</th>\n",
       "      <th>Fighting</th>\n",
       "      <th>Platform</th>\n",
       "      <th>Misc</th>\n",
       "      <th>Action</th>\n",
       "      <th>Racing</th>\n",
       "      <th>Simulation</th>\n",
       "      <th>Adventure</th>\n",
       "      <th>Strategy</th>\n",
       "      <th>Puzzle</th>\n",
       "    </tr>\n",
       "  </thead>\n",
       "  <tbody>\n",
       "    <tr>\n",
       "      <th>na_sales</th>\n",
       "      <td>0.594815</td>\n",
       "      <td>0.245888</td>\n",
       "      <td>0.150152</td>\n",
       "      <td>0.149730</td>\n",
       "      <td>0.135000</td>\n",
       "      <td>0.078592</td>\n",
       "      <td>0.078144</td>\n",
       "      <td>0.067143</td>\n",
       "      <td>0.041212</td>\n",
       "      <td>0.034909</td>\n",
       "      <td>0.028276</td>\n",
       "      <td>0.008571</td>\n",
       "    </tr>\n",
       "    <tr>\n",
       "      <th>eu_sales</th>\n",
       "      <td>0.497284</td>\n",
       "      <td>0.260000</td>\n",
       "      <td>0.130379</td>\n",
       "      <td>0.100541</td>\n",
       "      <td>0.114286</td>\n",
       "      <td>0.060000</td>\n",
       "      <td>0.080789</td>\n",
       "      <td>0.155238</td>\n",
       "      <td>0.113333</td>\n",
       "      <td>0.042455</td>\n",
       "      <td>0.054138</td>\n",
       "      <td>0.018571</td>\n",
       "    </tr>\n",
       "    <tr>\n",
       "      <th>jp_sales</th>\n",
       "      <td>0.046790</td>\n",
       "      <td>0.015421</td>\n",
       "      <td>0.101591</td>\n",
       "      <td>0.041622</td>\n",
       "      <td>0.050714</td>\n",
       "      <td>0.044930</td>\n",
       "      <td>0.053480</td>\n",
       "      <td>0.006905</td>\n",
       "      <td>0.058485</td>\n",
       "      <td>0.020182</td>\n",
       "      <td>0.013448</td>\n",
       "      <td>0.074286</td>\n",
       "    </tr>\n",
       "  </tbody>\n",
       "</table>\n",
       "</div>"
      ],
      "text/plain": [
       "genre      Shooter    Sports  Role-Playing  Fighting  Platform      Misc  \\\n",
       "na_sales  0.594815  0.245888      0.150152  0.149730  0.135000  0.078592   \n",
       "eu_sales  0.497284  0.260000      0.130379  0.100541  0.114286  0.060000   \n",
       "jp_sales  0.046790  0.015421      0.101591  0.041622  0.050714  0.044930   \n",
       "\n",
       "genre       Action    Racing  Simulation  Adventure  Strategy    Puzzle  \n",
       "na_sales  0.078144  0.067143    0.041212   0.034909  0.028276  0.008571  \n",
       "eu_sales  0.080789  0.155238    0.113333   0.042455  0.054138  0.018571  \n",
       "jp_sales  0.053480  0.006905    0.058485   0.020182  0.013448  0.074286  "
      ]
     },
     "execution_count": 48,
     "metadata": {},
     "output_type": "execute_result"
    }
   ],
   "source": [
    "# Занесем все данные в одну табблицу\n",
    "na_eu_jp_genre = pd.DataFrame(data=[na_genre,eu_genre,jp_genre])\n",
    "na_eu_jp_genre"
   ]
  },
  {
   "cell_type": "code",
   "execution_count": 49,
   "metadata": {},
   "outputs": [
    {
     "data": {
      "text/plain": [
       "<AxesSubplot:>"
      ]
     },
     "execution_count": 49,
     "metadata": {},
     "output_type": "execute_result"
    },
    {
     "data": {
      "image/png": "[encoded data removed]",
      "text/plain": [
       "<Figure size 576x576 with 1 Axes>"
      ]
     },
     "metadata": {
      "needs_background": "light"
     },
     "output_type": "display_data"
    }
   ],
   "source": [
    "# Построим график для наглядности\n",
    "na_eu_jp_genre.plot(kind='bar', figsize=(8,8))"
   ]
  },
  {
   "cell_type": "markdown",
   "metadata": {},
   "source": [
    "У NA & EU очевидный фаворит по жанру - шутеры, у JP - Role-Playing. На вторых местах везде игры жанра спорт, кроме Японии, у них второе место за пазлами. Третье место уже начинает отличаться, для NA его делят файтинги и ролевые, для EU - гонки. В JP, все как обычно, т.е. не так, как у всех - симуляторы."
   ]
  },
  {
   "cell_type": "markdown",
   "metadata": {},
   "source": [
    "### Влияет ли рейтинг ESRB на продажи в отдельном регионе? "
   ]
  },
  {
   "cell_type": "code",
   "execution_count": 50,
   "metadata": {},
   "outputs": [
    {
     "data": {
      "text/plain": [
       "rating\n",
       "M               47.03\n",
       "не определен    37.44\n",
       "E               26.59\n",
       "T               22.86\n",
       "E10+            17.87\n",
       "Name: na_sales, dtype: float64"
      ]
     },
     "execution_count": 50,
     "metadata": {},
     "output_type": "execute_result"
    }
   ],
   "source": [
    "# NA\n",
    "na_ratings = data.groupby('rating').na_sales.sum().sort_values(ascending=False)\n",
    "na_ratings"
   ]
  },
  {
   "cell_type": "code",
   "execution_count": 51,
   "metadata": {},
   "outputs": [
    {
     "data": {
      "text/plain": [
       "rating\n",
       "M               45.54\n",
       "не определен    35.71\n",
       "E               34.83\n",
       "T               20.32\n",
       "E10+            11.54\n",
       "Name: eu_sales, dtype: float64"
      ]
     },
     "execution_count": 51,
     "metadata": {},
     "output_type": "execute_result"
    }
   ],
   "source": [
    "# EU\n",
    "eu_ratings = data.groupby('rating').eu_sales.sum().sort_values(ascending=False)\n",
    "eu_ratings"
   ]
  },
  {
   "cell_type": "code",
   "execution_count": 52,
   "metadata": {},
   "outputs": [
    {
     "data": {
      "text/plain": [
       "rating\n",
       "не определен    32.89\n",
       "T                7.70\n",
       "E                5.25\n",
       "M                4.29\n",
       "E10+             3.27\n",
       "Name: jp_sales, dtype: float64"
      ]
     },
     "execution_count": 52,
     "metadata": {},
     "output_type": "execute_result"
    }
   ],
   "source": [
    "# JP\n",
    "jp_ratings = data.groupby('rating').jp_sales.sum().sort_values(ascending=False)\n",
    "jp_ratings"
   ]
  },
  {
   "cell_type": "markdown",
   "metadata": {},
   "source": [
    "В NA & EU самый популярный рейтинг игр - M. В JP бОльшая часть игр с неопределенным рейтингом. Отсутствующие значения сильно влияют на анализ. Можно было бы вывести средний показатель рейтинга для каждой жанра игры, но это не стало бы хорошим решением, а лишь ввело бы дополнительную путаницу. Ведь игры в одном и том же жанре могут быть разного возрастного ограничение и ограничение не всегда зависит от жанра."
   ]
  },
  {
   "cell_type": "code",
   "execution_count": 53,
   "metadata": {},
   "outputs": [
    {
     "data": {
      "text/plain": [
       "<AxesSubplot:>"
      ]
     },
     "execution_count": 53,
     "metadata": {},
     "output_type": "execute_result"
    },
    {
     "data": {
      "image/png": "[encoded data removed]",
      "text/plain": [
       "<Figure size 576x576 with 1 Axes>"
      ]
     },
     "metadata": {
      "needs_background": "light"
     },
     "output_type": "display_data"
    }
   ],
   "source": [
    "na_eu_jp_ratings = pd.DataFrame(data=[na_ratings,eu_ratings,jp_ratings])\n",
    "na_eu_jp_ratings.plot(kind='bar', figsize=(8,8))"
   ]
  },
  {
   "cell_type": "markdown",
   "metadata": {},
   "source": [
    "# Шаг 5. Проверьте гипотезы"
   ]
  },
  {
   "cell_type": "markdown",
   "metadata": {},
   "source": [
    "# • Средние пользовательские рейтинги платформ Xbox One и PC равны/не равны"
   ]
  },
  {
   "cell_type": "code",
   "execution_count": 54,
   "metadata": {},
   "outputs": [
    {
     "name": "stdout",
     "output_type": "stream",
     "text": [
      "Среднее значение пользовательского рейтинга для Xbox One: 6.542148760330578\n",
      "Среднее значение пользовательского рейтинга для PC: 6.296428571428573\n"
     ]
    }
   ],
   "source": [
    "# Построим выборки \n",
    "XOne = data.query('platform==\"XOne\"')\n",
    "PC = data.query('platform==\"PC\"')\n",
    "\n",
    "XOne_user_mean = XOne['user_score'].mean()\n",
    "PC_user_mean = PC['user_score'].mean()\n",
    "\n",
    "print(f'Среднее значение пользовательского рейтинга для Xbox One: {XOne_user_mean}')\n",
    "print(f'Среднее значение пользовательского рейтинга для PC: {PC_user_mean}')"
   ]
  },
  {
   "cell_type": "code",
   "execution_count": 55,
   "metadata": {},
   "outputs": [
    {
     "name": "stdout",
     "output_type": "stream",
     "text": [
      "Дисперсия для Xbox One: 2.125792011019284\n"
     ]
    }
   ],
   "source": [
    "# Для Xbox One\n",
    "XOne_variance = np.var(XOne['user_score'], ddof=1)\n",
    "print(f'Дисперсия для Xbox One: {XOne_variance}')\n",
    "\n",
    "#XOne_div = np.sqrt(XOne_variance)\n",
    "#print(f'Стандартное отклонение для Xbox One: {XOne_div}')"
   ]
  },
  {
   "cell_type": "code",
   "execution_count": 57,
   "metadata": {},
   "outputs": [
    {
     "name": "stdout",
     "output_type": "stream",
     "text": [
      "Дисперсия для PC: 3.110950946643718\n"
     ]
    }
   ],
   "source": [
    "# Для PC\n",
    "PC_variance = np.var(PC['user_score'], ddof=1)\n",
    "print(f'Дисперсия для PC: {PC_variance}')\n",
    "\n",
    "#PC_div = np.sqrt(PC_variance)\n",
    "#print(f'Стандартное отклонение для PC: {PC_div}')"
   ]
  },
  {
   "cell_type": "markdown",
   "metadata": {},
   "source": [
    "Нулевая гипотеза: cредний пользовательский рейтинг платформы XOne и PC равны."
   ]
  },
  {
   "cell_type": "code",
   "execution_count": 59,
   "metadata": {},
   "outputs": [],
   "source": [
    "alpha = .05"
   ]
  },
  {
   "cell_type": "code",
   "execution_count": 60,
   "metadata": {},
   "outputs": [],
   "source": [
    "results = st.ttest_ind(XOne['user_score'].dropna(), PC['user_score'].dropna(), equal_var=False)"
   ]
  },
  {
   "cell_type": "code",
   "execution_count": 61,
   "metadata": {},
   "outputs": [
    {
     "name": "stdout",
     "output_type": "stream",
     "text": [
      "p-значение: 0.2946308864003345\n"
     ]
    }
   ],
   "source": [
    "print(f'p-значение: {results.pvalue}')"
   ]
  },
  {
   "cell_type": "markdown",
   "metadata": {},
   "source": [
    "P-value, простыми словами, это жизнеспсобность нулевой гипотезы, которую мы проверяем. Т.е. нужно расширить доверительный интервал на 29%, чтобы подтвердились различия двух платформ."
   ]
  },
  {
   "cell_type": "code",
   "execution_count": 63,
   "metadata": {},
   "outputs": [
    {
     "name": "stdout",
     "output_type": "stream",
     "text": [
      "p-значение: 0.1912450522572209\n",
      "Не получилось отвергнуть нулевую гипотезу\n"
     ]
    }
   ],
   "source": [
    "# Приведены два датасета: сумма покупок, совершённых за месяц посетителями ...\n",
    "\n",
    "sample_1 = [3071, 3636, 3454, 3151, 2185, 3259, 1727, 2263, 2015,\n",
    "2582, 4815, 633, 3186, 887, 2028, 3589, 2564, 1422, 1785,\n",
    "3180, 1770, 2716, 2546, 1848, 4644, 3134, 475, 2686,\n",
    "1838, 3352]\n",
    "sample_2 = [1211, 1228, 2157, 3699, 600, 1898, 1688, 1420, 5048, 3007,\n",
    "509, 3777, 5583, 3949, 121, 1674, 4300, 1338, 3066,\n",
    "3562, 1010, 2311, 462, 863, 2021, 528, 1849, 255,\n",
    "1740, 2596]\n",
    "alpha = .05 # критический уровень статистической значимости\n",
    "# если p-value окажется меньше него - отвергнем гипотезу\n",
    "results = st.ttest_ind(\n",
    "sample_1,\n",
    "sample_2)\n",
    "print('p-значение:', results.pvalue)\n",
    "if (results.pvalue < alpha):\n",
    "    print(\"Отвергаем нулевую гипотезу\")\n",
    "else:\n",
    "\n",
    "    print(\"Не получилось отвергнуть нулевую гипотезу\")"
   ]
  },
  {
   "cell_type": "markdown",
   "metadata": {},
   "source": [
    "# • Средние пользовательские рейтинги жанров Action (англ. «действие», экшен-игры) и Sports (англ. «спортивные соревнования») разные."
   ]
  },
  {
   "cell_type": "markdown",
   "metadata": {},
   "source": [
    "Нулевая гипотеза: cредний пользовательский рейтинг Action и Sports равны     \n",
    "Альтернативная гиотеза: cредний пользовательский рейтинг Action не равен cреднему пользовательскому рейтингу Sports."
   ]
  },
  {
   "cell_type": "code",
   "execution_count": 64,
   "metadata": {},
   "outputs": [],
   "source": [
    "# Выделим нужный жанр\n",
    "action = data.query('genre==\"Action\"')"
   ]
  },
  {
   "cell_type": "code",
   "execution_count": 65,
   "metadata": {},
   "outputs": [
    {
     "name": "stdout",
     "output_type": "stream",
     "text": [
      "Среднее значение пользовательского рейтинга в жанре Action: 6.808290155440415\n"
     ]
    }
   ],
   "source": [
    "# Рассчеты для жанра Action\n",
    "action_mean = action['user_score'].mean()\n",
    "print(f'Среднее значение пользовательского рейтинга в жанре Action: {action_mean}')"
   ]
  },
  {
   "cell_type": "code",
   "execution_count": 66,
   "metadata": {},
   "outputs": [
    {
     "name": "stdout",
     "output_type": "stream",
     "text": [
      "Дисперсия пользовательского рейтинга жанра Action: 1.81305591537133\n"
     ]
    }
   ],
   "source": [
    "action_var = np.var(action['user_score'], ddof=1)\n",
    "print(f'Дисперсия пользовательского рейтинга жанра Action: {action_var}')"
   ]
  },
  {
   "cell_type": "code",
   "execution_count": 67,
   "metadata": {},
   "outputs": [],
   "source": [
    "#action_div = np.sqrt(action_var)\n",
    "#print(f'Стандартное пользовательского рейтинга жанра Action: {action_div}')"
   ]
  },
  {
   "cell_type": "code",
   "execution_count": 68,
   "metadata": {},
   "outputs": [],
   "source": [
    "#action_interval = st.t.interval(0.95, len(action['user_score'])-1, loc=np.mean(action['user_score']), scale=st.sem(action['user_score']))\n",
    "#print(f'Доверительный интервал пользовательского рейтинга жанра Action: {action_interval}')"
   ]
  },
  {
   "cell_type": "code",
   "execution_count": 69,
   "metadata": {},
   "outputs": [],
   "source": [
    "# Выделим нужный жанр\n",
    "sports = data.query('genre==\"Sports\"')"
   ]
  },
  {
   "cell_type": "code",
   "execution_count": 70,
   "metadata": {},
   "outputs": [
    {
     "name": "stdout",
     "output_type": "stream",
     "text": [
      "Среднее значение пользовательского рейтинга в жанре Sports: 5.198780487804878\n"
     ]
    }
   ],
   "source": [
    "# Рассчеты для жанра Sports\n",
    "sports_mean = sports['user_score'].mean()\n",
    "print(f'Среднее значение пользовательского рейтинга в жанре Sports: {sports_mean}')"
   ]
  },
  {
   "cell_type": "code",
   "execution_count": 71,
   "metadata": {},
   "outputs": [
    {
     "name": "stdout",
     "output_type": "stream",
     "text": [
      "Дисперсия пользовательского рейтинга жанра Sports: 3.8724676302318572\n"
     ]
    }
   ],
   "source": [
    "sports_var = np.var(sports['user_score'], ddof=1)\n",
    "print(f'Дисперсия пользовательского рейтинга жанра Sports: {sports_var}')"
   ]
  },
  {
   "cell_type": "code",
   "execution_count": 74,
   "metadata": {},
   "outputs": [
    {
     "name": "stdout",
     "output_type": "stream",
     "text": [
      "p-значение: 5.97163549920592e-10\n",
      "Отвергаем нулевую гипотезу\n"
     ]
    }
   ],
   "source": [
    "alpha = .05\n",
    "\n",
    "results = st.ttest_ind(action['user_score'].dropna(), sports['user_score'].dropna(), equal_var=False)\n",
    "\n",
    "print('p-значение:', results.pvalue)\n",
    "\n",
    "\n",
    "if (results.pvalue < alpha):\n",
    "    print('Отвергаем нулевую гипотезу')\n",
    "else:\n",
    "    print('Не получилось отвергнуть нулевую гипотезу')"
   ]
  },
  {
   "cell_type": "markdown",
   "metadata": {},
   "source": [
    "Получить одинаковые средние рейтинги практически нет шанса. "
   ]
  },
  {
   "cell_type": "markdown",
   "metadata": {},
   "source": [
    "# Общий вывод"
   ]
  },
  {
   "cell_type": "markdown",
   "metadata": {},
   "source": [
    "После анализа датасета со статистикой продаж игр на разных платформах в разные годы, можно сделать несколько выводов:  \n",
    "    • Самая перспективная платформа - PS4.   \n",
    "    • Шутеры, спорт и ролевые игры сильно выделяются по прибыльности среди других жанров.    \n",
    "    • США и Европа сильно отличаются по пользовательским предпочтениям от Японии.   \n",
    "    • На продажи скорее влияют не пользовательские оценки, а критиков, но прямой зависимости не видно.  \n",
    "    • Отсутствующие значения сильно искажают итоги исследования, с возрастным рейтингом вообще нельзя утверждать что-то конкретное, имея столько пропусков в значениях.  \n",
    "    • Значения tbd, т.е. to be declared - детали, возможно, были определены, но еще не готовы к объявлению. Такие значения, почти как пропуски, мы просто от них избавились.    \n",
    "    • Вся работа с пропусками проделана и объяснена."
   ]
  },
  {
   "cell_type": "markdown",
   "metadata": {},
   "source": [
    "## Бонус"
   ]
  },
  {
   "cell_type": "code",
   "execution_count": 75,
   "metadata": {},
   "outputs": [],
   "source": [
    "data_games = pd.read_csv('/datasets/games.csv')"
   ]
  },
  {
   "cell_type": "code",
   "execution_count": 76,
   "metadata": {},
   "outputs": [],
   "source": [
    "data_games.columns = map(str.lower, data_games.columns)"
   ]
  },
  {
   "cell_type": "code",
   "execution_count": 77,
   "metadata": {},
   "outputs": [],
   "source": [
    "data_games = data_games.query('year_of_release >= 2015').dropna(subset = ['year_of_release', 'name', 'genre'])"
   ]
  },
  {
   "cell_type": "code",
   "execution_count": 78,
   "metadata": {},
   "outputs": [],
   "source": [
    "data_games['user_score'] = data_games['user_score'].replace('tbd', np.nan).astype('float')"
   ]
  },
  {
   "cell_type": "code",
   "execution_count": 79,
   "metadata": {},
   "outputs": [],
   "source": [
    "data_games['rating'] = data_games['rating'].fillna('unknown')"
   ]
  },
  {
   "cell_type": "code",
   "execution_count": 80,
   "metadata": {},
   "outputs": [],
   "source": [
    "data_games['total_sales'] = data_games[['na_sales','eu_sales','jp_sales', 'other_sales']].sum(axis = 1)"
   ]
  },
  {
   "cell_type": "code",
   "execution_count": 81,
   "metadata": {},
   "outputs": [],
   "source": [
    "# check\n",
    "# круги + категория другие\n",
    "def graph (df, region, name, axes):\n",
    "    \n",
    "    sales = df.pivot_table(index='platform', \n",
    "                           values=region, \n",
    "                           aggfunc='sum').nlargest(5, region)\n",
    "    \n",
    "    sales = sales.reset_index()\n",
    "    \n",
    "    sales = (\n",
    "            sales.append({'platform': 'Other', region: df[region].sum() \n",
    "                       - sales[region].sum()}, ignore_index= True)\n",
    "         )\n",
    "    \n",
    "    \n",
    "    sales.columns = ['platform', 'sales']\n",
    "    sales.plot(kind='pie',\n",
    "               y=\"sales\",\n",
    "               \n",
    "               autopct='%1.0f%%',\n",
    "               wedgeprops={'linewidth': 3.0, 'edgecolor': 'white'},\n",
    "               textprops={'size': 'x-large'}, labels = sales.platform,\n",
    "               \n",
    "               legend=False, \n",
    "               title = f\"Популярность платформ в {name} \", \n",
    "               ax = axes).set(ylabel='')\n",
    "    plt.tight_layout()"
   ]
  },
  {
   "cell_type": "code",
   "execution_count": 82,
   "metadata": {
    "scrolled": false
   },
   "outputs": [
    {
     "data": {
      "image/png": "[encoded data removed]",
      "text/plain": [
       "<Figure size 1080x432 with 3 Axes>"
      ]
     },
     "metadata": {},
     "output_type": "display_data"
    }
   ],
   "source": [
    "# check\n",
    "# круги в ряд\n",
    "fig, axes = plt.subplots(1, 3, figsize = (15,6))\n",
    "fig.suptitle('Обзор рынка платформ (портрет покупателя)', fontsize = 30, fontweight='bold')\n",
    "\n",
    "graph(data_games, 'na_sales', 'Северной Америке', axes[0])\n",
    "graph(data_games, 'eu_sales', 'Европе', axes[1])\n",
    "graph(data_games, 'jp_sales', 'Японии', axes[2])"
   ]
  },
  {
   "cell_type": "code",
   "execution_count": null,
   "metadata": {},
   "outputs": [],
   "source": []
  }
 ],
 "metadata": {
  "ExecuteTimeLog": [
   {
    "duration": 894,
    "start_time": "2022-07-16T10:29:09.017Z"
   },
   {
    "duration": 442,
    "start_time": "2022-07-16T10:30:02.088Z"
   },
   {
    "duration": 64,
    "start_time": "2022-07-16T10:30:22.291Z"
   },
   {
    "duration": 199,
    "start_time": "2022-07-16T10:31:44.922Z"
   },
   {
    "duration": 67,
    "start_time": "2022-07-16T10:32:04.052Z"
   },
   {
    "duration": 24,
    "start_time": "2022-07-16T10:33:16.135Z"
   },
   {
    "duration": 5,
    "start_time": "2022-07-16T10:35:50.302Z"
   },
   {
    "duration": 13,
    "start_time": "2022-07-16T10:35:56.786Z"
   },
   {
    "duration": 3,
    "start_time": "2022-07-16T10:37:13.421Z"
   },
   {
    "duration": 9,
    "start_time": "2022-07-16T10:38:03.377Z"
   },
   {
    "duration": 105,
    "start_time": "2022-07-16T10:41:04.914Z"
   },
   {
    "duration": 10,
    "start_time": "2022-07-16T10:52:16.415Z"
   },
   {
    "duration": 21,
    "start_time": "2022-07-16T10:53:50.379Z"
   },
   {
    "duration": 9,
    "start_time": "2022-07-16T11:00:54.861Z"
   },
   {
    "duration": 11,
    "start_time": "2022-07-16T11:12:05.803Z"
   },
   {
    "duration": 9,
    "start_time": "2022-07-16T11:12:33.987Z"
   },
   {
    "duration": 22,
    "start_time": "2022-07-16T11:13:37.835Z"
   },
   {
    "duration": 11,
    "start_time": "2022-07-16T11:16:37.836Z"
   },
   {
    "duration": 29,
    "start_time": "2022-07-16T11:25:29.733Z"
   },
   {
    "duration": 7,
    "start_time": "2022-07-16T11:25:47.831Z"
   },
   {
    "duration": 9,
    "start_time": "2022-07-16T11:26:25.315Z"
   },
   {
    "duration": 12,
    "start_time": "2022-07-16T11:26:51.154Z"
   },
   {
    "duration": 12,
    "start_time": "2022-07-16T11:27:06.779Z"
   },
   {
    "duration": 11,
    "start_time": "2022-07-16T11:27:52.190Z"
   },
   {
    "duration": 22,
    "start_time": "2022-07-16T11:33:50.616Z"
   },
   {
    "duration": 12,
    "start_time": "2022-07-16T11:34:27.469Z"
   },
   {
    "duration": 15,
    "start_time": "2022-07-16T11:35:07.533Z"
   },
   {
    "duration": 15,
    "start_time": "2022-07-16T11:35:20.432Z"
   },
   {
    "duration": 9,
    "start_time": "2022-07-16T11:35:21.966Z"
   },
   {
    "duration": 10,
    "start_time": "2022-07-16T11:37:20.915Z"
   },
   {
    "duration": 89,
    "start_time": "2022-07-16T11:40:46.760Z"
   },
   {
    "duration": 14,
    "start_time": "2022-07-16T11:41:57.035Z"
   },
   {
    "duration": 9,
    "start_time": "2022-07-16T11:42:14.770Z"
   },
   {
    "duration": 6,
    "start_time": "2022-07-16T11:42:36.968Z"
   },
   {
    "duration": 9,
    "start_time": "2022-07-16T11:42:38.490Z"
   },
   {
    "duration": 9,
    "start_time": "2022-07-16T11:43:02.227Z"
   },
   {
    "duration": 7,
    "start_time": "2022-07-16T11:43:07.551Z"
   },
   {
    "duration": 8,
    "start_time": "2022-07-16T11:43:08.398Z"
   },
   {
    "duration": 8,
    "start_time": "2022-07-16T11:46:21.891Z"
   },
   {
    "duration": 10,
    "start_time": "2022-07-16T11:47:31.730Z"
   },
   {
    "duration": 9,
    "start_time": "2022-07-16T11:50:07.755Z"
   },
   {
    "duration": 7,
    "start_time": "2022-07-16T11:50:34.252Z"
   },
   {
    "duration": 11,
    "start_time": "2022-07-16T11:51:57.775Z"
   },
   {
    "duration": 208,
    "start_time": "2022-07-16T11:52:16.586Z"
   },
   {
    "duration": 169,
    "start_time": "2022-07-16T11:54:06.508Z"
   },
   {
    "duration": 153,
    "start_time": "2022-07-16T11:54:29.417Z"
   },
   {
    "duration": 157,
    "start_time": "2022-07-16T11:54:38.820Z"
   },
   {
    "duration": 162,
    "start_time": "2022-07-16T11:54:44.031Z"
   },
   {
    "duration": 171,
    "start_time": "2022-07-16T11:56:12.804Z"
   },
   {
    "duration": 14,
    "start_time": "2022-07-16T12:02:35.893Z"
   },
   {
    "duration": 15,
    "start_time": "2022-07-16T12:05:22.101Z"
   },
   {
    "duration": 21,
    "start_time": "2022-07-16T12:05:26.632Z"
   },
   {
    "duration": 11,
    "start_time": "2022-07-16T12:05:43.561Z"
   },
   {
    "duration": 14,
    "start_time": "2022-07-16T12:05:56.017Z"
   },
   {
    "duration": 18,
    "start_time": "2022-07-16T12:08:45.012Z"
   },
   {
    "duration": 29,
    "start_time": "2022-07-16T12:09:32.289Z"
   },
   {
    "duration": 19,
    "start_time": "2022-07-16T12:09:49.929Z"
   },
   {
    "duration": 17,
    "start_time": "2022-07-16T12:10:13.471Z"
   },
   {
    "duration": 13,
    "start_time": "2022-07-16T12:10:24.675Z"
   },
   {
    "duration": 10,
    "start_time": "2022-07-16T12:11:54.264Z"
   },
   {
    "duration": 91,
    "start_time": "2022-07-16T12:19:39.578Z"
   },
   {
    "duration": 25,
    "start_time": "2022-07-16T12:22:18.713Z"
   },
   {
    "duration": 10,
    "start_time": "2022-07-16T12:23:12.014Z"
   },
   {
    "duration": 34,
    "start_time": "2022-07-16T12:23:16.429Z"
   },
   {
    "duration": 9,
    "start_time": "2022-07-16T12:24:38.884Z"
   },
   {
    "duration": 14,
    "start_time": "2022-07-16T12:29:27.870Z"
   },
   {
    "duration": 6,
    "start_time": "2022-07-16T12:29:44.270Z"
   },
   {
    "duration": 5,
    "start_time": "2022-07-16T12:29:50.436Z"
   },
   {
    "duration": 6,
    "start_time": "2022-07-16T12:30:00.286Z"
   },
   {
    "duration": 6,
    "start_time": "2022-07-16T12:30:48.131Z"
   },
   {
    "duration": 5,
    "start_time": "2022-07-16T12:30:52.169Z"
   },
   {
    "duration": 12,
    "start_time": "2022-07-16T12:31:15.541Z"
   },
   {
    "duration": 7,
    "start_time": "2022-07-16T12:31:49.275Z"
   },
   {
    "duration": 13,
    "start_time": "2022-07-16T12:32:00.950Z"
   },
   {
    "duration": 77,
    "start_time": "2022-07-16T12:32:00.969Z"
   },
   {
    "duration": 21,
    "start_time": "2022-07-16T12:32:01.056Z"
   },
   {
    "duration": 22,
    "start_time": "2022-07-16T12:32:01.079Z"
   },
   {
    "duration": 20,
    "start_time": "2022-07-16T12:32:01.104Z"
   },
   {
    "duration": 23,
    "start_time": "2022-07-16T12:32:01.126Z"
   },
   {
    "duration": 38,
    "start_time": "2022-07-16T12:32:01.151Z"
   },
   {
    "duration": 47,
    "start_time": "2022-07-16T12:32:01.191Z"
   },
   {
    "duration": 0,
    "start_time": "2022-07-16T12:32:01.240Z"
   },
   {
    "duration": 0,
    "start_time": "2022-07-16T12:32:01.241Z"
   },
   {
    "duration": 0,
    "start_time": "2022-07-16T12:32:01.242Z"
   },
   {
    "duration": 0,
    "start_time": "2022-07-16T12:32:01.243Z"
   },
   {
    "duration": 0,
    "start_time": "2022-07-16T12:32:01.243Z"
   },
   {
    "duration": 0,
    "start_time": "2022-07-16T12:32:01.246Z"
   },
   {
    "duration": 0,
    "start_time": "2022-07-16T12:32:01.247Z"
   },
   {
    "duration": 0,
    "start_time": "2022-07-16T12:32:01.248Z"
   },
   {
    "duration": 0,
    "start_time": "2022-07-16T12:32:01.249Z"
   },
   {
    "duration": 10,
    "start_time": "2022-07-16T12:32:29.998Z"
   },
   {
    "duration": 8,
    "start_time": "2022-07-16T12:32:37.376Z"
   },
   {
    "duration": 77,
    "start_time": "2022-07-16T12:32:37.622Z"
   },
   {
    "duration": 20,
    "start_time": "2022-07-16T12:32:40.758Z"
   },
   {
    "duration": 5,
    "start_time": "2022-07-16T12:32:43.965Z"
   },
   {
    "duration": 9,
    "start_time": "2022-07-16T12:32:44.471Z"
   },
   {
    "duration": 12,
    "start_time": "2022-07-16T12:32:45.864Z"
   },
   {
    "duration": 14,
    "start_time": "2022-07-16T12:32:48.264Z"
   },
   {
    "duration": 19,
    "start_time": "2022-07-16T12:32:52.108Z"
   },
   {
    "duration": 13,
    "start_time": "2022-07-16T12:33:14.097Z"
   },
   {
    "duration": 9,
    "start_time": "2022-07-16T12:33:21.096Z"
   },
   {
    "duration": 7,
    "start_time": "2022-07-16T12:33:22.270Z"
   },
   {
    "duration": 19,
    "start_time": "2022-07-16T12:33:24.138Z"
   },
   {
    "duration": 11,
    "start_time": "2022-07-16T12:33:26.670Z"
   },
   {
    "duration": 7,
    "start_time": "2022-07-16T12:33:29.894Z"
   },
   {
    "duration": 194,
    "start_time": "2022-07-16T12:33:34.964Z"
   },
   {
    "duration": 13,
    "start_time": "2022-07-16T12:33:39.997Z"
   },
   {
    "duration": 8,
    "start_time": "2022-07-16T12:33:54.873Z"
   },
   {
    "duration": 15,
    "start_time": "2022-07-16T12:53:19.840Z"
   },
   {
    "duration": 301,
    "start_time": "2022-07-16T12:53:26.815Z"
   },
   {
    "duration": 32,
    "start_time": "2022-07-16T12:54:15.604Z"
   },
   {
    "duration": 289,
    "start_time": "2022-07-16T12:54:32.477Z"
   },
   {
    "duration": 8,
    "start_time": "2022-07-16T12:54:53.883Z"
   },
   {
    "duration": 9,
    "start_time": "2022-07-16T12:54:54.483Z"
   },
   {
    "duration": 9,
    "start_time": "2022-07-16T12:55:02.621Z"
   },
   {
    "duration": 6,
    "start_time": "2022-07-16T12:55:28.465Z"
   },
   {
    "duration": 34,
    "start_time": "2022-07-16T12:55:35.642Z"
   },
   {
    "duration": 5,
    "start_time": "2022-07-16T12:55:51.875Z"
   },
   {
    "duration": 3,
    "start_time": "2022-07-16T12:56:05.385Z"
   },
   {
    "duration": 87,
    "start_time": "2022-07-16T12:56:05.390Z"
   },
   {
    "duration": 20,
    "start_time": "2022-07-16T12:56:05.479Z"
   },
   {
    "duration": 5,
    "start_time": "2022-07-16T12:56:05.501Z"
   },
   {
    "duration": 25,
    "start_time": "2022-07-16T12:56:05.509Z"
   },
   {
    "duration": 51,
    "start_time": "2022-07-16T12:56:05.536Z"
   },
   {
    "duration": 13,
    "start_time": "2022-07-16T12:56:05.589Z"
   },
   {
    "duration": 15,
    "start_time": "2022-07-16T12:56:05.604Z"
   },
   {
    "duration": 8,
    "start_time": "2022-07-16T12:56:05.621Z"
   },
   {
    "duration": 12,
    "start_time": "2022-07-16T12:56:05.630Z"
   },
   {
    "duration": 42,
    "start_time": "2022-07-16T12:56:05.646Z"
   },
   {
    "duration": 11,
    "start_time": "2022-07-16T12:56:05.690Z"
   },
   {
    "duration": 7,
    "start_time": "2022-07-16T12:56:05.702Z"
   },
   {
    "duration": 182,
    "start_time": "2022-07-16T12:56:05.712Z"
   },
   {
    "duration": 16,
    "start_time": "2022-07-16T12:56:08.807Z"
   },
   {
    "duration": 9,
    "start_time": "2022-07-16T12:56:11.370Z"
   },
   {
    "duration": 322,
    "start_time": "2022-07-16T12:56:23.465Z"
   },
   {
    "duration": 12,
    "start_time": "2022-07-16T12:56:48.570Z"
   },
   {
    "duration": 15,
    "start_time": "2022-07-16T12:58:01.761Z"
   },
   {
    "duration": 9,
    "start_time": "2022-07-16T12:58:09.589Z"
   },
   {
    "duration": 8,
    "start_time": "2022-07-16T12:58:34.207Z"
   },
   {
    "duration": 8,
    "start_time": "2022-07-16T12:58:35.667Z"
   },
   {
    "duration": 5,
    "start_time": "2022-07-16T12:58:36.401Z"
   },
   {
    "duration": 7,
    "start_time": "2022-07-16T12:58:37.428Z"
   },
   {
    "duration": 8,
    "start_time": "2022-07-16T12:58:40.463Z"
   },
   {
    "duration": 5,
    "start_time": "2022-07-16T12:58:43.468Z"
   },
   {
    "duration": 6,
    "start_time": "2022-07-16T12:58:53.867Z"
   },
   {
    "duration": 13,
    "start_time": "2022-07-16T12:59:00.885Z"
   },
   {
    "duration": 3,
    "start_time": "2022-07-16T12:59:22.982Z"
   },
   {
    "duration": 100,
    "start_time": "2022-07-16T12:59:22.988Z"
   },
   {
    "duration": 16,
    "start_time": "2022-07-16T12:59:23.089Z"
   },
   {
    "duration": 3,
    "start_time": "2022-07-16T12:59:23.108Z"
   },
   {
    "duration": 32,
    "start_time": "2022-07-16T12:59:23.113Z"
   },
   {
    "duration": 17,
    "start_time": "2022-07-16T12:59:23.146Z"
   },
   {
    "duration": 27,
    "start_time": "2022-07-16T12:59:23.165Z"
   },
   {
    "duration": 19,
    "start_time": "2022-07-16T12:59:23.194Z"
   },
   {
    "duration": 10,
    "start_time": "2022-07-16T12:59:23.215Z"
   },
   {
    "duration": 11,
    "start_time": "2022-07-16T12:59:23.229Z"
   },
   {
    "duration": 13,
    "start_time": "2022-07-16T12:59:23.242Z"
   },
   {
    "duration": 28,
    "start_time": "2022-07-16T12:59:23.257Z"
   },
   {
    "duration": 18,
    "start_time": "2022-07-16T12:59:23.286Z"
   },
   {
    "duration": 196,
    "start_time": "2022-07-16T12:59:23.306Z"
   },
   {
    "duration": 12,
    "start_time": "2022-07-16T12:59:23.504Z"
   },
   {
    "duration": 9,
    "start_time": "2022-07-16T12:59:23.518Z"
   },
   {
    "duration": 12,
    "start_time": "2022-07-16T13:00:30.012Z"
   },
   {
    "duration": 1826,
    "start_time": "2022-07-16T13:00:57.899Z"
   },
   {
    "duration": 27,
    "start_time": "2022-07-16T13:01:11.224Z"
   },
   {
    "duration": 292,
    "start_time": "2022-07-16T13:01:19.596Z"
   },
   {
    "duration": 295,
    "start_time": "2022-07-16T13:01:55.987Z"
   },
   {
    "duration": 331,
    "start_time": "2022-07-16T13:02:21.620Z"
   },
   {
    "duration": 12,
    "start_time": "2022-07-16T13:10:58.262Z"
   },
   {
    "duration": 7,
    "start_time": "2022-07-16T13:10:59.104Z"
   },
   {
    "duration": 347,
    "start_time": "2022-07-16T13:10:59.910Z"
   },
   {
    "duration": 16,
    "start_time": "2022-07-16T13:20:32.508Z"
   },
   {
    "duration": 6,
    "start_time": "2022-07-16T13:24:08.204Z"
   },
   {
    "duration": 28,
    "start_time": "2022-07-16T13:24:54.966Z"
   },
   {
    "duration": 130,
    "start_time": "2022-07-16T13:53:33.581Z"
   },
   {
    "duration": 247,
    "start_time": "2022-07-16T13:53:45.246Z"
   },
   {
    "duration": 40,
    "start_time": "2022-07-16T13:56:34.245Z"
   },
   {
    "duration": 24,
    "start_time": "2022-07-16T13:57:20.783Z"
   },
   {
    "duration": 15,
    "start_time": "2022-07-16T13:57:52.209Z"
   },
   {
    "duration": 91,
    "start_time": "2022-07-16T13:58:09.793Z"
   },
   {
    "duration": 16,
    "start_time": "2022-07-16T13:58:30.593Z"
   },
   {
    "duration": 16,
    "start_time": "2022-07-16T13:58:38.688Z"
   },
   {
    "duration": 22,
    "start_time": "2022-07-16T13:58:44.825Z"
   },
   {
    "duration": 6,
    "start_time": "2022-07-16T13:58:53.037Z"
   },
   {
    "duration": 85,
    "start_time": "2022-07-16T13:58:53.045Z"
   },
   {
    "duration": 26,
    "start_time": "2022-07-16T13:58:53.132Z"
   },
   {
    "duration": 9,
    "start_time": "2022-07-16T13:58:53.159Z"
   },
   {
    "duration": 16,
    "start_time": "2022-07-16T13:58:53.171Z"
   },
   {
    "duration": 11,
    "start_time": "2022-07-16T13:58:53.189Z"
   },
   {
    "duration": 11,
    "start_time": "2022-07-16T13:58:53.203Z"
   },
   {
    "duration": 40,
    "start_time": "2022-07-16T13:58:53.216Z"
   },
   {
    "duration": 10,
    "start_time": "2022-07-16T13:58:53.258Z"
   },
   {
    "duration": 10,
    "start_time": "2022-07-16T13:58:53.270Z"
   },
   {
    "duration": 11,
    "start_time": "2022-07-16T13:58:53.284Z"
   },
   {
    "duration": 11,
    "start_time": "2022-07-16T13:58:53.297Z"
   },
   {
    "duration": 8,
    "start_time": "2022-07-16T13:58:53.310Z"
   },
   {
    "duration": 168,
    "start_time": "2022-07-16T13:58:53.346Z"
   },
   {
    "duration": 312,
    "start_time": "2022-07-16T13:58:53.516Z"
   },
   {
    "duration": 19,
    "start_time": "2022-07-16T13:58:53.836Z"
   },
   {
    "duration": 15,
    "start_time": "2022-07-16T13:58:53.859Z"
   },
   {
    "duration": 339,
    "start_time": "2022-07-16T13:58:53.876Z"
   },
   {
    "duration": 25,
    "start_time": "2022-07-16T13:58:54.217Z"
   },
   {
    "duration": 43,
    "start_time": "2022-07-16T13:58:57.098Z"
   },
   {
    "duration": 99,
    "start_time": "2022-07-16T14:01:45.869Z"
   },
   {
    "duration": 50,
    "start_time": "2022-07-18T10:51:23.102Z"
   },
   {
    "duration": 1316,
    "start_time": "2022-07-18T10:51:31.796Z"
   },
   {
    "duration": 107,
    "start_time": "2022-07-18T10:51:33.114Z"
   },
   {
    "duration": 14,
    "start_time": "2022-07-18T10:51:33.223Z"
   },
   {
    "duration": 16,
    "start_time": "2022-07-18T10:51:33.238Z"
   },
   {
    "duration": 35,
    "start_time": "2022-07-18T10:51:33.257Z"
   },
   {
    "duration": 30,
    "start_time": "2022-07-18T10:51:33.294Z"
   },
   {
    "duration": 28,
    "start_time": "2022-07-18T10:51:33.325Z"
   },
   {
    "duration": 44,
    "start_time": "2022-07-18T10:51:33.355Z"
   },
   {
    "duration": 21,
    "start_time": "2022-07-18T10:51:33.401Z"
   },
   {
    "duration": 17,
    "start_time": "2022-07-18T10:51:33.424Z"
   },
   {
    "duration": 34,
    "start_time": "2022-07-18T10:51:33.443Z"
   },
   {
    "duration": 13,
    "start_time": "2022-07-18T10:51:33.479Z"
   },
   {
    "duration": 30,
    "start_time": "2022-07-18T10:51:33.493Z"
   },
   {
    "duration": 200,
    "start_time": "2022-07-18T10:51:33.526Z"
   },
   {
    "duration": 276,
    "start_time": "2022-07-18T10:51:33.728Z"
   },
   {
    "duration": 10,
    "start_time": "2022-07-18T10:51:34.007Z"
   },
   {
    "duration": 26,
    "start_time": "2022-07-18T10:51:34.019Z"
   },
   {
    "duration": 273,
    "start_time": "2022-07-18T10:51:34.047Z"
   },
   {
    "duration": 15,
    "start_time": "2022-07-18T10:51:34.322Z"
   },
   {
    "duration": 61,
    "start_time": "2022-07-18T10:51:34.339Z"
   },
   {
    "duration": 211,
    "start_time": "2022-07-18T10:51:34.402Z"
   },
   {
    "duration": 63,
    "start_time": "2022-07-18T10:51:38.019Z"
   },
   {
    "duration": 6,
    "start_time": "2022-07-18T10:51:45.100Z"
   },
   {
    "duration": 7,
    "start_time": "2022-07-18T10:52:31.714Z"
   },
   {
    "duration": 7,
    "start_time": "2022-07-18T10:53:34.086Z"
   },
   {
    "duration": 6,
    "start_time": "2022-07-18T10:59:20.461Z"
   },
   {
    "duration": 9,
    "start_time": "2022-07-18T10:59:22.218Z"
   },
   {
    "duration": 9,
    "start_time": "2022-07-18T10:59:23.300Z"
   },
   {
    "duration": 8,
    "start_time": "2022-07-18T10:59:28.105Z"
   },
   {
    "duration": 135,
    "start_time": "2022-07-18T10:59:29.229Z"
   },
   {
    "duration": 3,
    "start_time": "2022-07-18T10:59:41.490Z"
   },
   {
    "duration": 104,
    "start_time": "2022-07-18T10:59:41.496Z"
   },
   {
    "duration": 29,
    "start_time": "2022-07-18T10:59:41.602Z"
   },
   {
    "duration": 14,
    "start_time": "2022-07-18T10:59:41.633Z"
   },
   {
    "duration": 18,
    "start_time": "2022-07-18T10:59:41.649Z"
   },
   {
    "duration": 17,
    "start_time": "2022-07-18T10:59:41.669Z"
   },
   {
    "duration": 10,
    "start_time": "2022-07-18T10:59:41.689Z"
   },
   {
    "duration": 38,
    "start_time": "2022-07-18T10:59:41.700Z"
   },
   {
    "duration": 6,
    "start_time": "2022-07-18T10:59:41.741Z"
   },
   {
    "duration": 8,
    "start_time": "2022-07-18T10:59:41.749Z"
   },
   {
    "duration": 9,
    "start_time": "2022-07-18T10:59:41.759Z"
   },
   {
    "duration": 11,
    "start_time": "2022-07-18T10:59:41.770Z"
   },
   {
    "duration": 7,
    "start_time": "2022-07-18T10:59:41.782Z"
   },
   {
    "duration": 178,
    "start_time": "2022-07-18T10:59:41.792Z"
   },
   {
    "duration": 333,
    "start_time": "2022-07-18T10:59:41.972Z"
   },
   {
    "duration": 24,
    "start_time": "2022-07-18T10:59:42.307Z"
   },
   {
    "duration": 10,
    "start_time": "2022-07-18T10:59:42.332Z"
   },
   {
    "duration": 290,
    "start_time": "2022-07-18T10:59:42.344Z"
   },
   {
    "duration": 16,
    "start_time": "2022-07-18T10:59:42.635Z"
   },
   {
    "duration": 33,
    "start_time": "2022-07-18T10:59:42.653Z"
   },
   {
    "duration": 247,
    "start_time": "2022-07-18T10:59:42.688Z"
   },
   {
    "duration": 5,
    "start_time": "2022-07-18T10:59:42.937Z"
   },
   {
    "duration": 1035,
    "start_time": "2022-07-18T11:00:53.456Z"
   },
   {
    "duration": 6,
    "start_time": "2022-07-18T11:01:00.631Z"
   },
   {
    "duration": 6,
    "start_time": "2022-07-18T11:03:12.451Z"
   },
   {
    "duration": 9,
    "start_time": "2022-07-18T11:04:03.039Z"
   },
   {
    "duration": 3,
    "start_time": "2022-07-18T11:04:19.133Z"
   },
   {
    "duration": 69,
    "start_time": "2022-07-18T11:04:19.138Z"
   },
   {
    "duration": 13,
    "start_time": "2022-07-18T11:04:19.209Z"
   },
   {
    "duration": 3,
    "start_time": "2022-07-18T11:04:19.224Z"
   },
   {
    "duration": 12,
    "start_time": "2022-07-18T11:04:19.230Z"
   },
   {
    "duration": 13,
    "start_time": "2022-07-18T11:04:19.244Z"
   },
   {
    "duration": 15,
    "start_time": "2022-07-18T11:04:19.259Z"
   },
   {
    "duration": 34,
    "start_time": "2022-07-18T11:04:19.276Z"
   },
   {
    "duration": 6,
    "start_time": "2022-07-18T11:04:19.312Z"
   },
   {
    "duration": 14,
    "start_time": "2022-07-18T11:04:19.320Z"
   },
   {
    "duration": 10,
    "start_time": "2022-07-18T11:04:19.336Z"
   },
   {
    "duration": 10,
    "start_time": "2022-07-18T11:04:19.348Z"
   },
   {
    "duration": 13,
    "start_time": "2022-07-18T11:04:19.360Z"
   },
   {
    "duration": 193,
    "start_time": "2022-07-18T11:04:19.377Z"
   },
   {
    "duration": 254,
    "start_time": "2022-07-18T11:04:19.572Z"
   },
   {
    "duration": 10,
    "start_time": "2022-07-18T11:04:19.828Z"
   },
   {
    "duration": 24,
    "start_time": "2022-07-18T11:04:19.840Z"
   },
   {
    "duration": 285,
    "start_time": "2022-07-18T11:04:19.865Z"
   },
   {
    "duration": 16,
    "start_time": "2022-07-18T11:04:20.152Z"
   },
   {
    "duration": 51,
    "start_time": "2022-07-18T11:04:20.170Z"
   },
   {
    "duration": 224,
    "start_time": "2022-07-18T11:04:20.223Z"
   },
   {
    "duration": 6,
    "start_time": "2022-07-18T11:04:20.449Z"
   },
   {
    "duration": 6,
    "start_time": "2022-07-18T11:04:29.139Z"
   },
   {
    "duration": 8,
    "start_time": "2022-07-18T11:05:20.634Z"
   },
   {
    "duration": 7,
    "start_time": "2022-07-18T11:05:50.700Z"
   },
   {
    "duration": 8,
    "start_time": "2022-07-18T11:07:49.375Z"
   },
   {
    "duration": 92,
    "start_time": "2022-07-18T11:11:14.647Z"
   },
   {
    "duration": 153,
    "start_time": "2022-07-18T11:11:25.381Z"
   },
   {
    "duration": 132,
    "start_time": "2022-07-18T11:11:34.570Z"
   },
   {
    "duration": 205,
    "start_time": "2022-07-18T11:11:39.587Z"
   },
   {
    "duration": 145,
    "start_time": "2022-07-18T11:13:18.785Z"
   },
   {
    "duration": 224,
    "start_time": "2022-07-18T11:31:42.473Z"
   },
   {
    "duration": 245,
    "start_time": "2022-07-18T11:43:02.494Z"
   },
   {
    "duration": 8,
    "start_time": "2022-07-18T11:48:21.324Z"
   },
   {
    "duration": 35,
    "start_time": "2022-07-18T11:53:50.098Z"
   },
   {
    "duration": 3,
    "start_time": "2022-07-18T11:54:57.834Z"
   },
   {
    "duration": 68,
    "start_time": "2022-07-18T11:54:57.839Z"
   },
   {
    "duration": 13,
    "start_time": "2022-07-18T11:54:57.909Z"
   },
   {
    "duration": 4,
    "start_time": "2022-07-18T11:54:57.924Z"
   },
   {
    "duration": 15,
    "start_time": "2022-07-18T11:54:57.930Z"
   },
   {
    "duration": 8,
    "start_time": "2022-07-18T11:54:57.947Z"
   },
   {
    "duration": 18,
    "start_time": "2022-07-18T11:54:57.956Z"
   },
   {
    "duration": 13,
    "start_time": "2022-07-18T11:54:57.976Z"
   },
   {
    "duration": 5,
    "start_time": "2022-07-18T11:54:57.990Z"
   },
   {
    "duration": 5,
    "start_time": "2022-07-18T11:54:58.009Z"
   },
   {
    "duration": 16,
    "start_time": "2022-07-18T11:54:58.016Z"
   },
   {
    "duration": 9,
    "start_time": "2022-07-18T11:54:58.033Z"
   },
   {
    "duration": 6,
    "start_time": "2022-07-18T11:54:58.043Z"
   },
   {
    "duration": 161,
    "start_time": "2022-07-18T11:54:58.052Z"
   },
   {
    "duration": 257,
    "start_time": "2022-07-18T11:54:58.215Z"
   },
   {
    "duration": 10,
    "start_time": "2022-07-18T11:54:58.474Z"
   },
   {
    "duration": 30,
    "start_time": "2022-07-18T11:54:58.486Z"
   },
   {
    "duration": 272,
    "start_time": "2022-07-18T11:54:58.517Z"
   },
   {
    "duration": 22,
    "start_time": "2022-07-18T11:54:58.791Z"
   },
   {
    "duration": 34,
    "start_time": "2022-07-18T11:54:58.815Z"
   },
   {
    "duration": 250,
    "start_time": "2022-07-18T11:54:58.850Z"
   },
   {
    "duration": 236,
    "start_time": "2022-07-18T11:54:59.102Z"
   },
   {
    "duration": 6,
    "start_time": "2022-07-18T11:54:59.340Z"
   },
   {
    "duration": 144,
    "start_time": "2022-07-18T11:54:59.348Z"
   },
   {
    "duration": 16,
    "start_time": "2022-07-18T11:54:59.494Z"
   },
   {
    "duration": 287,
    "start_time": "2022-07-18T11:54:59.512Z"
   },
   {
    "duration": 15,
    "start_time": "2022-07-18T11:54:59.802Z"
   },
   {
    "duration": 9,
    "start_time": "2022-07-18T11:55:31.281Z"
   },
   {
    "duration": 252,
    "start_time": "2022-07-18T11:56:38.531Z"
   },
   {
    "duration": 3,
    "start_time": "2022-07-18T11:58:55.359Z"
   },
   {
    "duration": 3,
    "start_time": "2022-07-18T11:58:58.870Z"
   },
   {
    "duration": 6,
    "start_time": "2022-07-18T12:02:40.523Z"
   },
   {
    "duration": 7,
    "start_time": "2022-07-18T12:02:49.458Z"
   },
   {
    "duration": 7,
    "start_time": "2022-07-18T12:03:40.925Z"
   },
   {
    "duration": 12,
    "start_time": "2022-07-18T12:04:17.271Z"
   },
   {
    "duration": 10,
    "start_time": "2022-07-18T12:04:34.521Z"
   },
   {
    "duration": 9,
    "start_time": "2022-07-18T12:05:25.049Z"
   },
   {
    "duration": 7,
    "start_time": "2022-07-18T12:05:25.545Z"
   },
   {
    "duration": 15,
    "start_time": "2022-07-18T12:07:24.090Z"
   },
   {
    "duration": 256,
    "start_time": "2022-07-18T12:08:32.197Z"
   },
   {
    "duration": 224,
    "start_time": "2022-07-18T12:09:05.539Z"
   },
   {
    "duration": 237,
    "start_time": "2022-07-18T12:09:11.894Z"
   },
   {
    "duration": 9,
    "start_time": "2022-07-18T12:16:27.181Z"
   },
   {
    "duration": 11,
    "start_time": "2022-07-18T12:16:27.608Z"
   },
   {
    "duration": 8,
    "start_time": "2022-07-18T12:16:28.204Z"
   },
   {
    "duration": 14,
    "start_time": "2022-07-18T12:17:40.245Z"
   },
   {
    "duration": 261,
    "start_time": "2022-07-18T12:18:00.708Z"
   },
   {
    "duration": 283,
    "start_time": "2022-07-18T12:18:05.588Z"
   },
   {
    "duration": 7,
    "start_time": "2022-07-18T12:33:20.551Z"
   },
   {
    "duration": 7,
    "start_time": "2022-07-18T12:33:23.884Z"
   },
   {
    "duration": 7,
    "start_time": "2022-07-18T12:33:24.445Z"
   },
   {
    "duration": 8,
    "start_time": "2022-07-18T12:34:16.162Z"
   },
   {
    "duration": 7,
    "start_time": "2022-07-18T12:34:16.471Z"
   },
   {
    "duration": 7,
    "start_time": "2022-07-18T12:34:16.853Z"
   },
   {
    "duration": 286,
    "start_time": "2022-07-18T12:39:24.228Z"
   },
   {
    "duration": 37,
    "start_time": "2022-07-18T12:48:27.601Z"
   },
   {
    "duration": 7,
    "start_time": "2022-07-18T12:49:35.060Z"
   },
   {
    "duration": 10,
    "start_time": "2022-07-18T12:51:47.640Z"
   },
   {
    "duration": 8,
    "start_time": "2022-07-18T12:52:20.547Z"
   },
   {
    "duration": 10,
    "start_time": "2022-07-18T12:55:13.560Z"
   },
   {
    "duration": 4,
    "start_time": "2022-07-18T12:55:23.265Z"
   },
   {
    "duration": 4,
    "start_time": "2022-07-18T12:56:42.749Z"
   },
   {
    "duration": 11,
    "start_time": "2022-07-18T12:59:57.382Z"
   },
   {
    "duration": 3,
    "start_time": "2022-07-18T13:00:19.311Z"
   },
   {
    "duration": 3,
    "start_time": "2022-07-18T13:00:23.269Z"
   },
   {
    "duration": 69,
    "start_time": "2022-07-18T13:00:23.274Z"
   },
   {
    "duration": 15,
    "start_time": "2022-07-18T13:00:23.345Z"
   },
   {
    "duration": 4,
    "start_time": "2022-07-18T13:00:23.363Z"
   },
   {
    "duration": 13,
    "start_time": "2022-07-18T13:00:23.369Z"
   },
   {
    "duration": 26,
    "start_time": "2022-07-18T13:00:23.383Z"
   },
   {
    "duration": 11,
    "start_time": "2022-07-18T13:00:23.411Z"
   },
   {
    "duration": 13,
    "start_time": "2022-07-18T13:00:23.424Z"
   },
   {
    "duration": 10,
    "start_time": "2022-07-18T13:00:23.439Z"
   },
   {
    "duration": 12,
    "start_time": "2022-07-18T13:00:23.452Z"
   },
   {
    "duration": 13,
    "start_time": "2022-07-18T13:00:23.466Z"
   },
   {
    "duration": 31,
    "start_time": "2022-07-18T13:00:23.480Z"
   },
   {
    "duration": 7,
    "start_time": "2022-07-18T13:00:23.513Z"
   },
   {
    "duration": 164,
    "start_time": "2022-07-18T13:00:23.522Z"
   },
   {
    "duration": 265,
    "start_time": "2022-07-18T13:00:23.688Z"
   },
   {
    "duration": 12,
    "start_time": "2022-07-18T13:00:23.954Z"
   },
   {
    "duration": 10,
    "start_time": "2022-07-18T13:00:23.967Z"
   },
   {
    "duration": 291,
    "start_time": "2022-07-18T13:00:23.979Z"
   },
   {
    "duration": 15,
    "start_time": "2022-07-18T13:00:24.272Z"
   },
   {
    "duration": 48,
    "start_time": "2022-07-18T13:00:24.288Z"
   },
   {
    "duration": 247,
    "start_time": "2022-07-18T13:00:24.338Z"
   },
   {
    "duration": 149,
    "start_time": "2022-07-18T13:00:24.587Z"
   },
   {
    "duration": 8,
    "start_time": "2022-07-18T13:00:24.738Z"
   },
   {
    "duration": 156,
    "start_time": "2022-07-18T13:00:24.748Z"
   },
   {
    "duration": 7,
    "start_time": "2022-07-18T13:00:24.910Z"
   },
   {
    "duration": 288,
    "start_time": "2022-07-18T13:00:24.919Z"
   },
   {
    "duration": 9,
    "start_time": "2022-07-18T13:00:25.210Z"
   },
   {
    "duration": 8,
    "start_time": "2022-07-18T13:00:25.223Z"
   },
   {
    "duration": 10,
    "start_time": "2022-07-18T13:00:25.232Z"
   },
   {
    "duration": 13,
    "start_time": "2022-07-18T13:00:25.244Z"
   },
   {
    "duration": 16,
    "start_time": "2022-07-18T13:00:25.259Z"
   },
   {
    "duration": 276,
    "start_time": "2022-07-18T13:00:25.277Z"
   },
   {
    "duration": 8,
    "start_time": "2022-07-18T13:00:25.555Z"
   },
   {
    "duration": 11,
    "start_time": "2022-07-18T13:00:25.565Z"
   },
   {
    "duration": 10,
    "start_time": "2022-07-18T13:00:25.578Z"
   },
   {
    "duration": 31,
    "start_time": "2022-07-18T13:00:25.589Z"
   },
   {
    "duration": 273,
    "start_time": "2022-07-18T13:00:25.622Z"
   },
   {
    "duration": 12,
    "start_time": "2022-07-18T13:00:25.897Z"
   },
   {
    "duration": 9,
    "start_time": "2022-07-18T13:00:25.911Z"
   },
   {
    "duration": 14,
    "start_time": "2022-07-18T13:00:25.922Z"
   },
   {
    "duration": 199,
    "start_time": "2022-07-18T13:00:25.938Z"
   },
   {
    "duration": 9,
    "start_time": "2022-07-18T13:00:26.139Z"
   },
   {
    "duration": 18,
    "start_time": "2022-07-18T13:00:26.150Z"
   },
   {
    "duration": 9,
    "start_time": "2022-07-18T13:00:26.169Z"
   },
   {
    "duration": 5,
    "start_time": "2022-07-18T13:00:29.304Z"
   },
   {
    "duration": 6,
    "start_time": "2022-07-18T13:00:33.559Z"
   },
   {
    "duration": 5,
    "start_time": "2022-07-18T13:01:40.275Z"
   },
   {
    "duration": 13,
    "start_time": "2022-07-18T13:05:13.745Z"
   },
   {
    "duration": 320,
    "start_time": "2022-07-18T13:05:47.892Z"
   },
   {
    "duration": 1236,
    "start_time": "2022-07-20T09:23:36.783Z"
   },
   {
    "duration": 117,
    "start_time": "2022-07-20T09:23:38.021Z"
   },
   {
    "duration": 14,
    "start_time": "2022-07-20T09:23:38.139Z"
   },
   {
    "duration": 27,
    "start_time": "2022-07-20T09:23:38.156Z"
   },
   {
    "duration": 21,
    "start_time": "2022-07-20T09:23:38.185Z"
   },
   {
    "duration": 24,
    "start_time": "2022-07-20T09:23:38.207Z"
   },
   {
    "duration": 32,
    "start_time": "2022-07-20T09:23:38.233Z"
   },
   {
    "duration": 39,
    "start_time": "2022-07-20T09:23:38.267Z"
   },
   {
    "duration": 32,
    "start_time": "2022-07-20T09:23:38.308Z"
   },
   {
    "duration": 17,
    "start_time": "2022-07-20T09:23:38.343Z"
   },
   {
    "duration": 47,
    "start_time": "2022-07-20T09:23:38.362Z"
   },
   {
    "duration": 14,
    "start_time": "2022-07-20T09:23:38.411Z"
   },
   {
    "duration": 24,
    "start_time": "2022-07-20T09:23:38.426Z"
   },
   {
    "duration": 176,
    "start_time": "2022-07-20T09:23:38.451Z"
   },
   {
    "duration": 312,
    "start_time": "2022-07-20T09:23:38.629Z"
   },
   {
    "duration": 15,
    "start_time": "2022-07-20T09:23:38.944Z"
   },
   {
    "duration": 21,
    "start_time": "2022-07-20T09:23:38.961Z"
   },
   {
    "duration": 316,
    "start_time": "2022-07-20T09:23:38.983Z"
   },
   {
    "duration": 22,
    "start_time": "2022-07-20T09:23:39.301Z"
   },
   {
    "duration": 62,
    "start_time": "2022-07-20T09:23:39.325Z"
   },
   {
    "duration": 239,
    "start_time": "2022-07-20T09:23:39.389Z"
   },
   {
    "duration": 147,
    "start_time": "2022-07-20T09:23:39.630Z"
   },
   {
    "duration": 7,
    "start_time": "2022-07-20T09:23:39.778Z"
   },
   {
    "duration": 153,
    "start_time": "2022-07-20T09:23:39.787Z"
   },
   {
    "duration": 7,
    "start_time": "2022-07-20T09:23:39.942Z"
   },
   {
    "duration": 358,
    "start_time": "2022-07-20T09:23:39.950Z"
   },
   {
    "duration": 16,
    "start_time": "2022-07-20T09:23:40.310Z"
   },
   {
    "duration": 11,
    "start_time": "2022-07-20T09:23:40.329Z"
   },
   {
    "duration": 21,
    "start_time": "2022-07-20T09:23:40.342Z"
   },
   {
    "duration": 9,
    "start_time": "2022-07-20T09:23:40.365Z"
   },
   {
    "duration": 16,
    "start_time": "2022-07-20T09:23:40.376Z"
   },
   {
    "duration": 256,
    "start_time": "2022-07-20T09:23:40.393Z"
   },
   {
    "duration": 7,
    "start_time": "2022-07-20T09:23:40.650Z"
   },
   {
    "duration": 13,
    "start_time": "2022-07-20T09:23:40.659Z"
   },
   {
    "duration": 7,
    "start_time": "2022-07-20T09:23:40.674Z"
   },
   {
    "duration": 18,
    "start_time": "2022-07-20T09:23:40.683Z"
   },
   {
    "duration": 291,
    "start_time": "2022-07-20T09:23:40.722Z"
   },
   {
    "duration": 13,
    "start_time": "2022-07-20T09:23:41.015Z"
   },
   {
    "duration": 10,
    "start_time": "2022-07-20T09:23:41.029Z"
   },
   {
    "duration": 9,
    "start_time": "2022-07-20T09:23:41.041Z"
   },
   {
    "duration": 195,
    "start_time": "2022-07-20T09:23:41.051Z"
   },
   {
    "duration": 9,
    "start_time": "2022-07-20T09:23:41.248Z"
   },
   {
    "duration": 8,
    "start_time": "2022-07-20T09:23:41.259Z"
   },
   {
    "duration": 7,
    "start_time": "2022-07-20T09:23:41.269Z"
   },
   {
    "duration": 4,
    "start_time": "2022-07-20T09:27:54.800Z"
   },
   {
    "duration": 4,
    "start_time": "2022-07-20T09:28:01.326Z"
   },
   {
    "duration": 7,
    "start_time": "2022-07-20T09:28:30.789Z"
   },
   {
    "duration": 4,
    "start_time": "2022-07-20T09:29:01.775Z"
   },
   {
    "duration": 2,
    "start_time": "2022-07-20T09:33:00.609Z"
   },
   {
    "duration": 3,
    "start_time": "2022-07-20T09:34:14.362Z"
   },
   {
    "duration": 3,
    "start_time": "2022-07-20T09:35:49.502Z"
   },
   {
    "duration": 3,
    "start_time": "2022-07-20T09:37:04.104Z"
   },
   {
    "duration": 4,
    "start_time": "2022-07-20T09:37:09.574Z"
   },
   {
    "duration": 4,
    "start_time": "2022-07-20T09:38:35.891Z"
   },
   {
    "duration": 3,
    "start_time": "2022-07-20T09:38:51.977Z"
   },
   {
    "duration": 103,
    "start_time": "2022-07-20T09:40:49.514Z"
   },
   {
    "duration": 6,
    "start_time": "2022-07-20T09:41:29.744Z"
   },
   {
    "duration": 5,
    "start_time": "2022-07-20T09:41:33.395Z"
   },
   {
    "duration": 6,
    "start_time": "2022-07-20T09:43:12.135Z"
   },
   {
    "duration": 6,
    "start_time": "2022-07-20T09:43:19.443Z"
   },
   {
    "duration": 6,
    "start_time": "2022-07-20T09:43:27.235Z"
   },
   {
    "duration": 3,
    "start_time": "2022-07-20T09:43:28.160Z"
   },
   {
    "duration": 97,
    "start_time": "2022-07-20T09:45:08.073Z"
   },
   {
    "duration": 3,
    "start_time": "2022-07-20T09:45:13.738Z"
   },
   {
    "duration": 99,
    "start_time": "2022-07-20T09:45:13.743Z"
   },
   {
    "duration": 16,
    "start_time": "2022-07-20T09:45:13.843Z"
   },
   {
    "duration": 14,
    "start_time": "2022-07-20T09:45:13.862Z"
   },
   {
    "duration": 21,
    "start_time": "2022-07-20T09:45:13.878Z"
   },
   {
    "duration": 17,
    "start_time": "2022-07-20T09:45:13.901Z"
   },
   {
    "duration": 24,
    "start_time": "2022-07-20T09:45:13.920Z"
   },
   {
    "duration": 20,
    "start_time": "2022-07-20T09:45:13.946Z"
   },
   {
    "duration": 8,
    "start_time": "2022-07-20T09:45:13.968Z"
   },
   {
    "duration": 34,
    "start_time": "2022-07-20T09:45:13.979Z"
   },
   {
    "duration": 37,
    "start_time": "2022-07-20T09:45:14.015Z"
   },
   {
    "duration": 33,
    "start_time": "2022-07-20T09:45:14.054Z"
   },
   {
    "duration": 13,
    "start_time": "2022-07-20T09:45:14.089Z"
   },
   {
    "duration": 152,
    "start_time": "2022-07-20T09:45:14.104Z"
   },
   {
    "duration": 279,
    "start_time": "2022-07-20T09:45:14.258Z"
   },
   {
    "duration": 11,
    "start_time": "2022-07-20T09:45:14.538Z"
   },
   {
    "duration": 10,
    "start_time": "2022-07-20T09:45:14.551Z"
   },
   {
    "duration": 294,
    "start_time": "2022-07-20T09:45:14.563Z"
   },
   {
    "duration": 17,
    "start_time": "2022-07-20T09:45:14.859Z"
   },
   {
    "duration": 60,
    "start_time": "2022-07-20T09:45:14.878Z"
   },
   {
    "duration": 277,
    "start_time": "2022-07-20T09:45:14.941Z"
   },
   {
    "duration": 160,
    "start_time": "2022-07-20T09:45:15.223Z"
   },
   {
    "duration": 8,
    "start_time": "2022-07-20T09:45:15.386Z"
   },
   {
    "duration": 171,
    "start_time": "2022-07-20T09:45:15.396Z"
   },
   {
    "duration": 8,
    "start_time": "2022-07-20T09:45:15.569Z"
   },
   {
    "duration": 382,
    "start_time": "2022-07-20T09:45:15.579Z"
   },
   {
    "duration": 12,
    "start_time": "2022-07-20T09:45:15.963Z"
   },
   {
    "duration": 12,
    "start_time": "2022-07-20T09:45:15.979Z"
   },
   {
    "duration": 33,
    "start_time": "2022-07-20T09:45:15.992Z"
   },
   {
    "duration": 12,
    "start_time": "2022-07-20T09:45:16.027Z"
   },
   {
    "duration": 29,
    "start_time": "2022-07-20T09:45:16.041Z"
   },
   {
    "duration": 252,
    "start_time": "2022-07-20T09:45:16.071Z"
   },
   {
    "duration": 8,
    "start_time": "2022-07-20T09:45:16.325Z"
   },
   {
    "duration": 9,
    "start_time": "2022-07-20T09:45:16.335Z"
   },
   {
    "duration": 9,
    "start_time": "2022-07-20T09:45:16.345Z"
   },
   {
    "duration": 20,
    "start_time": "2022-07-20T09:45:16.356Z"
   },
   {
    "duration": 299,
    "start_time": "2022-07-20T09:45:16.378Z"
   },
   {
    "duration": 7,
    "start_time": "2022-07-20T09:45:16.679Z"
   },
   {
    "duration": 21,
    "start_time": "2022-07-20T09:45:16.688Z"
   },
   {
    "duration": 15,
    "start_time": "2022-07-20T09:45:16.711Z"
   },
   {
    "duration": 195,
    "start_time": "2022-07-20T09:45:16.728Z"
   },
   {
    "duration": 11,
    "start_time": "2022-07-20T09:45:16.925Z"
   },
   {
    "duration": 12,
    "start_time": "2022-07-20T09:45:16.938Z"
   },
   {
    "duration": 10,
    "start_time": "2022-07-20T09:45:16.952Z"
   },
   {
    "duration": 9,
    "start_time": "2022-07-20T09:45:16.964Z"
   },
   {
    "duration": 13,
    "start_time": "2022-07-20T09:45:16.974Z"
   },
   {
    "duration": 5,
    "start_time": "2022-07-20T09:45:16.989Z"
   },
   {
    "duration": 5,
    "start_time": "2022-07-20T09:45:16.995Z"
   },
   {
    "duration": 23,
    "start_time": "2022-07-20T09:45:17.002Z"
   },
   {
    "duration": 6,
    "start_time": "2022-07-20T09:45:17.026Z"
   },
   {
    "duration": 10,
    "start_time": "2022-07-20T09:45:17.034Z"
   },
   {
    "duration": 9,
    "start_time": "2022-07-20T09:45:17.046Z"
   },
   {
    "duration": 27,
    "start_time": "2022-07-20T09:45:24.006Z"
   },
   {
    "duration": 60,
    "start_time": "2022-07-20T09:45:44.004Z"
   },
   {
    "duration": 13,
    "start_time": "2022-07-20T09:46:38.395Z"
   },
   {
    "duration": 3,
    "start_time": "2022-07-20T09:46:44.525Z"
   },
   {
    "duration": 71,
    "start_time": "2022-07-20T09:46:44.530Z"
   },
   {
    "duration": 13,
    "start_time": "2022-07-20T09:46:44.603Z"
   },
   {
    "duration": 18,
    "start_time": "2022-07-20T09:46:44.617Z"
   },
   {
    "duration": 22,
    "start_time": "2022-07-20T09:46:44.637Z"
   },
   {
    "duration": 7,
    "start_time": "2022-07-20T09:46:44.661Z"
   },
   {
    "duration": 13,
    "start_time": "2022-07-20T09:46:44.670Z"
   },
   {
    "duration": 12,
    "start_time": "2022-07-20T09:46:44.684Z"
   },
   {
    "duration": 6,
    "start_time": "2022-07-20T09:46:44.697Z"
   },
   {
    "duration": 21,
    "start_time": "2022-07-20T09:46:44.705Z"
   },
   {
    "duration": 20,
    "start_time": "2022-07-20T09:46:44.727Z"
   },
   {
    "duration": 8,
    "start_time": "2022-07-20T09:46:44.748Z"
   },
   {
    "duration": 8,
    "start_time": "2022-07-20T09:46:44.758Z"
   },
   {
    "duration": 145,
    "start_time": "2022-07-20T09:46:44.769Z"
   },
   {
    "duration": 265,
    "start_time": "2022-07-20T09:46:44.916Z"
   },
   {
    "duration": 10,
    "start_time": "2022-07-20T09:46:45.183Z"
   },
   {
    "duration": 7,
    "start_time": "2022-07-20T09:46:45.195Z"
   },
   {
    "duration": 293,
    "start_time": "2022-07-20T09:46:45.204Z"
   },
   {
    "duration": 25,
    "start_time": "2022-07-20T09:46:45.499Z"
   },
   {
    "duration": 37,
    "start_time": "2022-07-20T09:46:45.526Z"
   },
   {
    "duration": 252,
    "start_time": "2022-07-20T09:46:45.565Z"
   },
   {
    "duration": 146,
    "start_time": "2022-07-20T09:46:45.818Z"
   },
   {
    "duration": 8,
    "start_time": "2022-07-20T09:46:45.966Z"
   },
   {
    "duration": 251,
    "start_time": "2022-07-20T09:46:45.976Z"
   },
   {
    "duration": 7,
    "start_time": "2022-07-20T09:46:46.229Z"
   },
   {
    "duration": 297,
    "start_time": "2022-07-20T09:46:46.238Z"
   },
   {
    "duration": 9,
    "start_time": "2022-07-20T09:46:46.537Z"
   },
   {
    "duration": 7,
    "start_time": "2022-07-20T09:46:46.547Z"
   },
   {
    "duration": 9,
    "start_time": "2022-07-20T09:46:46.555Z"
   },
   {
    "duration": 11,
    "start_time": "2022-07-20T09:46:46.566Z"
   },
   {
    "duration": 15,
    "start_time": "2022-07-20T09:46:46.578Z"
   },
   {
    "duration": 265,
    "start_time": "2022-07-20T09:46:46.595Z"
   },
   {
    "duration": 7,
    "start_time": "2022-07-20T09:46:46.862Z"
   },
   {
    "duration": 12,
    "start_time": "2022-07-20T09:46:46.870Z"
   },
   {
    "duration": 8,
    "start_time": "2022-07-20T09:46:46.883Z"
   },
   {
    "duration": 31,
    "start_time": "2022-07-20T09:46:46.893Z"
   },
   {
    "duration": 277,
    "start_time": "2022-07-20T09:46:46.926Z"
   },
   {
    "duration": 7,
    "start_time": "2022-07-20T09:46:47.204Z"
   },
   {
    "duration": 6,
    "start_time": "2022-07-20T09:46:47.224Z"
   },
   {
    "duration": 12,
    "start_time": "2022-07-20T09:46:47.231Z"
   },
   {
    "duration": 190,
    "start_time": "2022-07-20T09:46:47.246Z"
   },
   {
    "duration": 10,
    "start_time": "2022-07-20T09:46:47.437Z"
   },
   {
    "duration": 11,
    "start_time": "2022-07-20T09:46:47.448Z"
   },
   {
    "duration": 8,
    "start_time": "2022-07-20T09:46:47.460Z"
   },
   {
    "duration": 8,
    "start_time": "2022-07-20T09:46:47.469Z"
   },
   {
    "duration": 8,
    "start_time": "2022-07-20T09:46:47.479Z"
   },
   {
    "duration": 5,
    "start_time": "2022-07-20T09:46:47.488Z"
   },
   {
    "duration": 10,
    "start_time": "2022-07-20T09:46:47.494Z"
   },
   {
    "duration": 3,
    "start_time": "2022-07-20T09:46:47.524Z"
   },
   {
    "duration": 12,
    "start_time": "2022-07-20T09:46:47.528Z"
   },
   {
    "duration": 11,
    "start_time": "2022-07-20T09:46:47.541Z"
   },
   {
    "duration": 11,
    "start_time": "2022-07-20T09:46:47.554Z"
   },
   {
    "duration": 6,
    "start_time": "2022-07-20T09:47:17.611Z"
   },
   {
    "duration": 3,
    "start_time": "2022-07-20T09:47:18.148Z"
   },
   {
    "duration": 6,
    "start_time": "2022-07-20T09:47:43.598Z"
   },
   {
    "duration": 4,
    "start_time": "2022-07-20T09:47:44.184Z"
   },
   {
    "duration": 11,
    "start_time": "2022-07-20T09:50:33.810Z"
   },
   {
    "duration": 3,
    "start_time": "2022-07-20T09:50:34.412Z"
   },
   {
    "duration": 8,
    "start_time": "2022-07-20T09:54:02.222Z"
   },
   {
    "duration": 9,
    "start_time": "2022-07-20T09:54:19.650Z"
   },
   {
    "duration": 5,
    "start_time": "2022-07-20T09:54:42.878Z"
   },
   {
    "duration": 4,
    "start_time": "2022-07-20T09:54:43.638Z"
   },
   {
    "duration": 3,
    "start_time": "2022-07-20T09:56:08.426Z"
   },
   {
    "duration": 5,
    "start_time": "2022-07-20T09:56:57.485Z"
   },
   {
    "duration": 4,
    "start_time": "2022-07-20T09:58:21.716Z"
   },
   {
    "duration": 6,
    "start_time": "2022-07-20T09:59:20.249Z"
   },
   {
    "duration": 5,
    "start_time": "2022-07-20T10:00:41.380Z"
   },
   {
    "duration": 3,
    "start_time": "2022-07-20T10:00:56.764Z"
   },
   {
    "duration": 7,
    "start_time": "2022-07-20T10:01:24.932Z"
   },
   {
    "duration": 4,
    "start_time": "2022-07-20T10:02:10.195Z"
   },
   {
    "duration": 5,
    "start_time": "2022-07-20T10:02:34.026Z"
   },
   {
    "duration": 3,
    "start_time": "2022-07-20T10:08:50.112Z"
   },
   {
    "duration": 3,
    "start_time": "2022-07-20T10:11:07.748Z"
   },
   {
    "duration": 3,
    "start_time": "2022-07-20T10:12:11.816Z"
   },
   {
    "duration": 4,
    "start_time": "2022-07-20T10:12:34.115Z"
   },
   {
    "duration": 4,
    "start_time": "2022-07-20T10:14:22.767Z"
   },
   {
    "duration": 4,
    "start_time": "2022-07-20T10:48:21.289Z"
   },
   {
    "duration": 69,
    "start_time": "2022-07-20T10:48:21.296Z"
   },
   {
    "duration": 17,
    "start_time": "2022-07-20T10:48:21.367Z"
   },
   {
    "duration": 36,
    "start_time": "2022-07-20T10:48:21.387Z"
   },
   {
    "duration": 13,
    "start_time": "2022-07-20T10:48:21.425Z"
   },
   {
    "duration": 11,
    "start_time": "2022-07-20T10:48:21.440Z"
   },
   {
    "duration": 9,
    "start_time": "2022-07-20T10:48:21.453Z"
   },
   {
    "duration": 17,
    "start_time": "2022-07-20T10:48:21.465Z"
   },
   {
    "duration": 6,
    "start_time": "2022-07-20T10:48:21.484Z"
   },
   {
    "duration": 7,
    "start_time": "2022-07-20T10:48:21.525Z"
   },
   {
    "duration": 22,
    "start_time": "2022-07-20T10:48:21.534Z"
   },
   {
    "duration": 24,
    "start_time": "2022-07-20T10:48:21.558Z"
   },
   {
    "duration": 28,
    "start_time": "2022-07-20T10:48:21.584Z"
   },
   {
    "duration": 163,
    "start_time": "2022-07-20T10:48:21.614Z"
   },
   {
    "duration": 280,
    "start_time": "2022-07-20T10:48:21.779Z"
   },
   {
    "duration": 15,
    "start_time": "2022-07-20T10:48:22.061Z"
   },
   {
    "duration": 7,
    "start_time": "2022-07-20T10:48:22.079Z"
   },
   {
    "duration": 308,
    "start_time": "2022-07-20T10:48:22.088Z"
   },
   {
    "duration": 17,
    "start_time": "2022-07-20T10:48:22.398Z"
   },
   {
    "duration": 37,
    "start_time": "2022-07-20T10:48:22.424Z"
   },
   {
    "duration": 256,
    "start_time": "2022-07-20T10:48:22.464Z"
   },
   {
    "duration": 284,
    "start_time": "2022-07-20T10:48:22.723Z"
   },
   {
    "duration": 9,
    "start_time": "2022-07-20T10:48:23.009Z"
   },
   {
    "duration": 190,
    "start_time": "2022-07-20T10:48:23.024Z"
   },
   {
    "duration": 12,
    "start_time": "2022-07-20T10:48:23.216Z"
   },
   {
    "duration": 286,
    "start_time": "2022-07-20T10:48:23.230Z"
   },
   {
    "duration": 13,
    "start_time": "2022-07-20T10:48:23.518Z"
   },
   {
    "duration": 13,
    "start_time": "2022-07-20T10:48:23.537Z"
   },
   {
    "duration": 16,
    "start_time": "2022-07-20T10:48:23.552Z"
   },
   {
    "duration": 14,
    "start_time": "2022-07-20T10:48:23.570Z"
   },
   {
    "duration": 20,
    "start_time": "2022-07-20T10:48:23.586Z"
   },
   {
    "duration": 274,
    "start_time": "2022-07-20T10:48:23.608Z"
   },
   {
    "duration": 7,
    "start_time": "2022-07-20T10:48:23.884Z"
   },
   {
    "duration": 13,
    "start_time": "2022-07-20T10:48:23.893Z"
   },
   {
    "duration": 11,
    "start_time": "2022-07-20T10:48:23.923Z"
   },
   {
    "duration": 26,
    "start_time": "2022-07-20T10:48:23.937Z"
   },
   {
    "duration": 301,
    "start_time": "2022-07-20T10:48:23.965Z"
   },
   {
    "duration": 7,
    "start_time": "2022-07-20T10:48:24.268Z"
   },
   {
    "duration": 25,
    "start_time": "2022-07-20T10:48:24.277Z"
   },
   {
    "duration": 19,
    "start_time": "2022-07-20T10:48:24.304Z"
   },
   {
    "duration": 230,
    "start_time": "2022-07-20T10:48:24.325Z"
   },
   {
    "duration": 14,
    "start_time": "2022-07-20T10:48:24.557Z"
   },
   {
    "duration": 10,
    "start_time": "2022-07-20T10:48:24.573Z"
   },
   {
    "duration": 12,
    "start_time": "2022-07-20T10:48:24.585Z"
   },
   {
    "duration": 25,
    "start_time": "2022-07-20T10:48:24.599Z"
   },
   {
    "duration": 15,
    "start_time": "2022-07-20T10:48:24.626Z"
   },
   {
    "duration": 11,
    "start_time": "2022-07-20T10:48:24.643Z"
   },
   {
    "duration": 8,
    "start_time": "2022-07-20T10:48:24.656Z"
   },
   {
    "duration": 7,
    "start_time": "2022-07-20T10:48:24.666Z"
   },
   {
    "duration": 12,
    "start_time": "2022-07-20T10:48:24.675Z"
   },
   {
    "duration": 7,
    "start_time": "2022-07-20T10:48:24.690Z"
   },
   {
    "duration": 15,
    "start_time": "2022-07-20T10:48:24.699Z"
   },
   {
    "duration": 18,
    "start_time": "2022-07-20T10:48:24.716Z"
   },
   {
    "duration": 9,
    "start_time": "2022-07-20T10:48:24.736Z"
   },
   {
    "duration": 8,
    "start_time": "2022-07-20T10:48:24.747Z"
   },
   {
    "duration": 10,
    "start_time": "2022-07-20T10:48:24.757Z"
   },
   {
    "duration": 10,
    "start_time": "2022-07-20T10:48:24.770Z"
   },
   {
    "duration": 7,
    "start_time": "2022-07-20T10:48:24.783Z"
   },
   {
    "duration": 32,
    "start_time": "2022-07-20T10:48:24.792Z"
   },
   {
    "duration": 13,
    "start_time": "2022-07-20T10:48:24.826Z"
   },
   {
    "duration": 10,
    "start_time": "2022-07-20T10:48:24.841Z"
   },
   {
    "duration": 7,
    "start_time": "2022-07-20T10:48:24.853Z"
   },
   {
    "duration": 8,
    "start_time": "2022-07-20T10:48:24.862Z"
   },
   {
    "duration": 7,
    "start_time": "2022-07-20T10:48:24.871Z"
   },
   {
    "duration": 8,
    "start_time": "2022-07-20T10:48:24.879Z"
   },
   {
    "duration": 70,
    "start_time": "2022-07-20T18:16:50.111Z"
   },
   {
    "duration": 1182,
    "start_time": "2022-07-20T18:16:55.028Z"
   },
   {
    "duration": 140,
    "start_time": "2022-07-20T18:16:56.213Z"
   },
   {
    "duration": 22,
    "start_time": "2022-07-20T18:16:56.355Z"
   },
   {
    "duration": 41,
    "start_time": "2022-07-20T18:16:56.379Z"
   },
   {
    "duration": 18,
    "start_time": "2022-07-20T18:16:56.423Z"
   },
   {
    "duration": 15,
    "start_time": "2022-07-20T18:16:56.443Z"
   },
   {
    "duration": 40,
    "start_time": "2022-07-20T18:16:56.460Z"
   },
   {
    "duration": 18,
    "start_time": "2022-07-20T18:16:56.502Z"
   },
   {
    "duration": 7,
    "start_time": "2022-07-20T18:16:56.522Z"
   },
   {
    "duration": 16,
    "start_time": "2022-07-20T18:16:56.531Z"
   },
   {
    "duration": 25,
    "start_time": "2022-07-20T18:16:56.549Z"
   },
   {
    "duration": 35,
    "start_time": "2022-07-20T18:16:56.576Z"
   },
   {
    "duration": 20,
    "start_time": "2022-07-20T18:16:56.613Z"
   },
   {
    "duration": 9,
    "start_time": "2022-07-20T18:16:56.636Z"
   },
   {
    "duration": 209,
    "start_time": "2022-07-20T18:16:56.647Z"
   },
   {
    "duration": 278,
    "start_time": "2022-07-20T18:16:56.860Z"
   },
   {
    "duration": 20,
    "start_time": "2022-07-20T18:16:57.140Z"
   },
   {
    "duration": 9,
    "start_time": "2022-07-20T18:16:57.162Z"
   },
   {
    "duration": 311,
    "start_time": "2022-07-20T18:16:57.173Z"
   },
   {
    "duration": 15,
    "start_time": "2022-07-20T18:16:57.485Z"
   },
   {
    "duration": 39,
    "start_time": "2022-07-20T18:16:57.502Z"
   },
   {
    "duration": 271,
    "start_time": "2022-07-20T18:16:57.543Z"
   },
   {
    "duration": 141,
    "start_time": "2022-07-20T18:16:57.816Z"
   },
   {
    "duration": 9,
    "start_time": "2022-07-20T18:16:57.959Z"
   },
   {
    "duration": 153,
    "start_time": "2022-07-20T18:16:57.969Z"
   },
   {
    "duration": 7,
    "start_time": "2022-07-20T18:16:58.124Z"
   },
   {
    "duration": 387,
    "start_time": "2022-07-20T18:16:58.132Z"
   },
   {
    "duration": 8,
    "start_time": "2022-07-20T18:16:58.521Z"
   },
   {
    "duration": 8,
    "start_time": "2022-07-20T18:16:58.531Z"
   },
   {
    "duration": 27,
    "start_time": "2022-07-20T18:16:58.540Z"
   },
   {
    "duration": 7,
    "start_time": "2022-07-20T18:16:58.568Z"
   },
   {
    "duration": 31,
    "start_time": "2022-07-20T18:16:58.576Z"
   },
   {
    "duration": 284,
    "start_time": "2022-07-20T18:16:58.609Z"
   },
   {
    "duration": 8,
    "start_time": "2022-07-20T18:16:58.895Z"
   },
   {
    "duration": 8,
    "start_time": "2022-07-20T18:16:58.905Z"
   },
   {
    "duration": 10,
    "start_time": "2022-07-20T18:16:58.915Z"
   },
   {
    "duration": 17,
    "start_time": "2022-07-20T18:16:58.927Z"
   },
   {
    "duration": 307,
    "start_time": "2022-07-20T18:16:58.945Z"
   },
   {
    "duration": 17,
    "start_time": "2022-07-20T18:16:59.254Z"
   },
   {
    "duration": 24,
    "start_time": "2022-07-20T18:16:59.273Z"
   },
   {
    "duration": 10,
    "start_time": "2022-07-20T18:16:59.302Z"
   },
   {
    "duration": 180,
    "start_time": "2022-07-20T18:16:59.315Z"
   },
   {
    "duration": 14,
    "start_time": "2022-07-20T18:16:59.497Z"
   },
   {
    "duration": 7,
    "start_time": "2022-07-20T18:16:59.513Z"
   },
   {
    "duration": 8,
    "start_time": "2022-07-20T18:16:59.522Z"
   },
   {
    "duration": 7,
    "start_time": "2022-07-20T18:16:59.531Z"
   },
   {
    "duration": 28,
    "start_time": "2022-07-20T18:16:59.539Z"
   },
   {
    "duration": 30,
    "start_time": "2022-07-20T18:16:59.569Z"
   },
   {
    "duration": 6,
    "start_time": "2022-07-20T18:16:59.600Z"
   },
   {
    "duration": 6,
    "start_time": "2022-07-20T18:16:59.608Z"
   },
   {
    "duration": 5,
    "start_time": "2022-07-20T18:16:59.616Z"
   },
   {
    "duration": 8,
    "start_time": "2022-07-20T18:16:59.622Z"
   },
   {
    "duration": 6,
    "start_time": "2022-07-20T18:16:59.631Z"
   },
   {
    "duration": 8,
    "start_time": "2022-07-20T18:16:59.639Z"
   },
   {
    "duration": 6,
    "start_time": "2022-07-20T18:16:59.648Z"
   },
   {
    "duration": 8,
    "start_time": "2022-07-20T18:16:59.656Z"
   },
   {
    "duration": 37,
    "start_time": "2022-07-20T18:16:59.666Z"
   },
   {
    "duration": 6,
    "start_time": "2022-07-20T18:16:59.704Z"
   },
   {
    "duration": 6,
    "start_time": "2022-07-20T18:16:59.711Z"
   },
   {
    "duration": 4,
    "start_time": "2022-07-20T18:16:59.719Z"
   },
   {
    "duration": 6,
    "start_time": "2022-07-20T18:16:59.725Z"
   },
   {
    "duration": 6,
    "start_time": "2022-07-20T18:16:59.732Z"
   },
   {
    "duration": 4,
    "start_time": "2022-07-20T18:16:59.740Z"
   },
   {
    "duration": 5,
    "start_time": "2022-07-20T18:16:59.746Z"
   },
   {
    "duration": 5,
    "start_time": "2022-07-20T18:16:59.752Z"
   },
   {
    "duration": 32,
    "start_time": "2022-07-20T18:16:59.758Z"
   },
   {
    "duration": 20,
    "start_time": "2022-07-20T18:39:41.927Z"
   },
   {
    "duration": 4,
    "start_time": "2022-07-20T18:44:51.810Z"
   },
   {
    "duration": 3,
    "start_time": "2022-07-20T18:44:56.481Z"
   },
   {
    "duration": 4,
    "start_time": "2022-07-20T18:44:56.939Z"
   },
   {
    "duration": 5,
    "start_time": "2022-07-20T18:44:57.323Z"
   },
   {
    "duration": 3,
    "start_time": "2022-07-20T18:47:07.584Z"
   },
   {
    "duration": 3,
    "start_time": "2022-07-20T18:47:22.481Z"
   },
   {
    "duration": 3,
    "start_time": "2022-07-20T18:48:43.532Z"
   },
   {
    "duration": 3,
    "start_time": "2022-07-20T18:48:44.100Z"
   },
   {
    "duration": 4,
    "start_time": "2022-07-20T18:49:41.431Z"
   },
   {
    "duration": 4,
    "start_time": "2022-07-20T18:49:46.214Z"
   },
   {
    "duration": 5,
    "start_time": "2022-07-20T18:51:37.555Z"
   },
   {
    "duration": 5,
    "start_time": "2022-07-20T18:51:52.293Z"
   },
   {
    "duration": 1185,
    "start_time": "2022-07-20T18:57:40.335Z"
   },
   {
    "duration": 80,
    "start_time": "2022-07-20T18:57:41.523Z"
   },
   {
    "duration": 13,
    "start_time": "2022-07-20T18:57:41.605Z"
   },
   {
    "duration": 11,
    "start_time": "2022-07-20T18:57:41.620Z"
   },
   {
    "duration": 17,
    "start_time": "2022-07-20T18:57:41.633Z"
   },
   {
    "duration": 12,
    "start_time": "2022-07-20T18:57:41.651Z"
   },
   {
    "duration": 48,
    "start_time": "2022-07-20T18:57:41.665Z"
   },
   {
    "duration": 15,
    "start_time": "2022-07-20T18:57:41.715Z"
   },
   {
    "duration": 10,
    "start_time": "2022-07-20T18:57:41.732Z"
   },
   {
    "duration": 12,
    "start_time": "2022-07-20T18:57:41.744Z"
   },
   {
    "duration": 56,
    "start_time": "2022-07-20T18:57:41.758Z"
   },
   {
    "duration": 12,
    "start_time": "2022-07-20T18:57:41.816Z"
   },
   {
    "duration": 22,
    "start_time": "2022-07-20T18:57:41.829Z"
   },
   {
    "duration": 5,
    "start_time": "2022-07-20T18:57:41.854Z"
   },
   {
    "duration": 192,
    "start_time": "2022-07-20T18:57:41.860Z"
   },
   {
    "duration": 272,
    "start_time": "2022-07-20T18:57:42.053Z"
   },
   {
    "duration": 10,
    "start_time": "2022-07-20T18:57:42.327Z"
   },
   {
    "duration": 29,
    "start_time": "2022-07-20T18:57:42.339Z"
   },
   {
    "duration": 312,
    "start_time": "2022-07-20T18:57:42.369Z"
   },
   {
    "duration": 19,
    "start_time": "2022-07-20T18:57:42.683Z"
   },
   {
    "duration": 40,
    "start_time": "2022-07-20T18:57:42.704Z"
   },
   {
    "duration": 279,
    "start_time": "2022-07-20T18:57:42.746Z"
   },
   {
    "duration": 144,
    "start_time": "2022-07-20T18:57:43.027Z"
   },
   {
    "duration": 7,
    "start_time": "2022-07-20T18:57:43.176Z"
   },
   {
    "duration": 162,
    "start_time": "2022-07-20T18:57:43.185Z"
   },
   {
    "duration": 7,
    "start_time": "2022-07-20T18:57:43.348Z"
   },
   {
    "duration": 401,
    "start_time": "2022-07-20T18:57:43.356Z"
   },
   {
    "duration": 31,
    "start_time": "2022-07-20T18:57:43.760Z"
   },
   {
    "duration": 19,
    "start_time": "2022-07-20T18:57:43.793Z"
   },
   {
    "duration": 9,
    "start_time": "2022-07-20T18:57:43.814Z"
   },
   {
    "duration": 10,
    "start_time": "2022-07-20T18:57:43.825Z"
   },
   {
    "duration": 17,
    "start_time": "2022-07-20T18:57:43.837Z"
   },
   {
    "duration": 263,
    "start_time": "2022-07-20T18:57:43.856Z"
   },
   {
    "duration": 6,
    "start_time": "2022-07-20T18:57:44.121Z"
   },
   {
    "duration": 9,
    "start_time": "2022-07-20T18:57:44.129Z"
   },
   {
    "duration": 8,
    "start_time": "2022-07-20T18:57:44.139Z"
   },
   {
    "duration": 30,
    "start_time": "2022-07-20T18:57:44.148Z"
   },
   {
    "duration": 302,
    "start_time": "2022-07-20T18:57:44.180Z"
   },
   {
    "duration": 8,
    "start_time": "2022-07-20T18:57:44.484Z"
   },
   {
    "duration": 9,
    "start_time": "2022-07-20T18:57:44.494Z"
   },
   {
    "duration": 11,
    "start_time": "2022-07-20T18:57:44.507Z"
   },
   {
    "duration": 214,
    "start_time": "2022-07-20T18:57:44.519Z"
   },
   {
    "duration": 10,
    "start_time": "2022-07-20T18:57:44.735Z"
   },
   {
    "duration": 16,
    "start_time": "2022-07-20T18:57:44.747Z"
   },
   {
    "duration": 38,
    "start_time": "2022-07-20T18:57:44.764Z"
   },
   {
    "duration": 15,
    "start_time": "2022-07-20T18:57:44.804Z"
   },
   {
    "duration": 12,
    "start_time": "2022-07-20T18:57:44.821Z"
   },
   {
    "duration": 7,
    "start_time": "2022-07-20T18:57:44.835Z"
   },
   {
    "duration": 8,
    "start_time": "2022-07-20T18:57:44.844Z"
   },
   {
    "duration": 6,
    "start_time": "2022-07-20T18:57:44.853Z"
   },
   {
    "duration": 24,
    "start_time": "2022-07-20T18:57:44.863Z"
   },
   {
    "duration": 9,
    "start_time": "2022-07-20T18:57:44.889Z"
   },
   {
    "duration": 20,
    "start_time": "2022-07-20T18:57:44.899Z"
   },
   {
    "duration": 10,
    "start_time": "2022-07-20T18:57:44.921Z"
   },
   {
    "duration": 9,
    "start_time": "2022-07-20T18:57:44.932Z"
   },
   {
    "duration": 9,
    "start_time": "2022-07-20T18:57:44.943Z"
   },
   {
    "duration": 42,
    "start_time": "2022-07-20T18:57:44.953Z"
   },
   {
    "duration": 17,
    "start_time": "2022-07-20T18:57:44.996Z"
   },
   {
    "duration": 20,
    "start_time": "2022-07-20T18:57:45.015Z"
   },
   {
    "duration": 7,
    "start_time": "2022-07-20T18:57:45.036Z"
   },
   {
    "duration": 11,
    "start_time": "2022-07-20T18:57:45.044Z"
   },
   {
    "duration": 16,
    "start_time": "2022-07-20T18:57:45.056Z"
   },
   {
    "duration": 13,
    "start_time": "2022-07-20T18:57:45.079Z"
   },
   {
    "duration": 11,
    "start_time": "2022-07-20T18:57:45.094Z"
   },
   {
    "duration": 9,
    "start_time": "2022-07-20T18:57:45.107Z"
   },
   {
    "duration": 10,
    "start_time": "2022-07-20T18:57:45.117Z"
   },
   {
    "duration": 13,
    "start_time": "2022-07-20T18:57:45.128Z"
   },
   {
    "duration": 6,
    "start_time": "2022-07-20T18:57:45.142Z"
   },
   {
    "duration": 46,
    "start_time": "2022-07-22T04:14:51.298Z"
   },
   {
    "duration": 1250,
    "start_time": "2022-07-22T04:14:58.476Z"
   },
   {
    "duration": 108,
    "start_time": "2022-07-22T04:14:59.729Z"
   },
   {
    "duration": 16,
    "start_time": "2022-07-22T04:14:59.839Z"
   },
   {
    "duration": 7,
    "start_time": "2022-07-22T04:14:59.857Z"
   },
   {
    "duration": 16,
    "start_time": "2022-07-22T04:14:59.866Z"
   },
   {
    "duration": 16,
    "start_time": "2022-07-22T04:14:59.884Z"
   },
   {
    "duration": 22,
    "start_time": "2022-07-22T04:14:59.902Z"
   },
   {
    "duration": 15,
    "start_time": "2022-07-22T04:14:59.926Z"
   },
   {
    "duration": 5,
    "start_time": "2022-07-22T04:14:59.943Z"
   },
   {
    "duration": 7,
    "start_time": "2022-07-22T04:14:59.950Z"
   },
   {
    "duration": 15,
    "start_time": "2022-07-22T04:14:59.958Z"
   },
   {
    "duration": 11,
    "start_time": "2022-07-22T04:14:59.974Z"
   },
   {
    "duration": 38,
    "start_time": "2022-07-22T04:14:59.986Z"
   },
   {
    "duration": 7,
    "start_time": "2022-07-22T04:15:00.028Z"
   },
   {
    "duration": 187,
    "start_time": "2022-07-22T04:15:00.038Z"
   },
   {
    "duration": 286,
    "start_time": "2022-07-22T04:15:00.227Z"
   },
   {
    "duration": 11,
    "start_time": "2022-07-22T04:15:00.514Z"
   },
   {
    "duration": 21,
    "start_time": "2022-07-22T04:15:00.527Z"
   },
   {
    "duration": 277,
    "start_time": "2022-07-22T04:15:00.550Z"
   },
   {
    "duration": 16,
    "start_time": "2022-07-22T04:15:00.829Z"
   },
   {
    "duration": 50,
    "start_time": "2022-07-22T04:15:00.846Z"
   },
   {
    "duration": 260,
    "start_time": "2022-07-22T04:15:00.898Z"
   },
   {
    "duration": 265,
    "start_time": "2022-07-22T04:15:01.160Z"
   },
   {
    "duration": 171,
    "start_time": "2022-07-22T04:15:01.428Z"
   },
   {
    "duration": 8,
    "start_time": "2022-07-22T04:15:01.601Z"
   },
   {
    "duration": 273,
    "start_time": "2022-07-22T04:15:01.611Z"
   },
   {
    "duration": 8,
    "start_time": "2022-07-22T04:15:01.886Z"
   },
   {
    "duration": 318,
    "start_time": "2022-07-22T04:15:01.895Z"
   },
   {
    "duration": 10,
    "start_time": "2022-07-22T04:15:02.214Z"
   },
   {
    "duration": 88,
    "start_time": "2022-07-22T04:15:02.226Z"
   },
   {
    "duration": 61,
    "start_time": "2022-07-22T04:15:02.316Z"
   },
   {
    "duration": 69,
    "start_time": "2022-07-22T04:15:02.380Z"
   },
   {
    "duration": 28,
    "start_time": "2022-07-22T04:15:02.451Z"
   },
   {
    "duration": 275,
    "start_time": "2022-07-22T04:15:02.481Z"
   },
   {
    "duration": 7,
    "start_time": "2022-07-22T04:15:02.757Z"
   },
   {
    "duration": 59,
    "start_time": "2022-07-22T04:15:02.766Z"
   },
   {
    "duration": 31,
    "start_time": "2022-07-22T04:15:02.827Z"
   },
   {
    "duration": 20,
    "start_time": "2022-07-22T04:15:02.860Z"
   },
   {
    "duration": 289,
    "start_time": "2022-07-22T04:15:02.882Z"
   },
   {
    "duration": 7,
    "start_time": "2022-07-22T04:15:03.173Z"
   },
   {
    "duration": 15,
    "start_time": "2022-07-22T04:15:03.184Z"
   },
   {
    "duration": 28,
    "start_time": "2022-07-22T04:15:03.200Z"
   },
   {
    "duration": 187,
    "start_time": "2022-07-22T04:15:03.230Z"
   },
   {
    "duration": 10,
    "start_time": "2022-07-22T04:15:03.418Z"
   },
   {
    "duration": 9,
    "start_time": "2022-07-22T04:15:03.430Z"
   },
   {
    "duration": 15,
    "start_time": "2022-07-22T04:15:03.441Z"
   },
   {
    "duration": 13,
    "start_time": "2022-07-22T04:15:03.458Z"
   },
   {
    "duration": 7,
    "start_time": "2022-07-22T04:15:03.473Z"
   },
   {
    "duration": 22,
    "start_time": "2022-07-22T04:15:03.481Z"
   },
   {
    "duration": 22,
    "start_time": "2022-07-22T04:15:03.504Z"
   },
   {
    "duration": 12,
    "start_time": "2022-07-22T04:15:03.528Z"
   },
   {
    "duration": 18,
    "start_time": "2022-07-22T04:15:03.542Z"
   },
   {
    "duration": 12,
    "start_time": "2022-07-22T04:15:03.562Z"
   },
   {
    "duration": 10,
    "start_time": "2022-07-22T04:15:03.576Z"
   },
   {
    "duration": 6,
    "start_time": "2022-07-22T04:15:03.588Z"
   },
   {
    "duration": 12,
    "start_time": "2022-07-22T04:15:03.596Z"
   },
   {
    "duration": 14,
    "start_time": "2022-07-22T04:15:03.609Z"
   },
   {
    "duration": 11,
    "start_time": "2022-07-22T04:15:03.625Z"
   },
   {
    "duration": 13,
    "start_time": "2022-07-22T04:15:03.637Z"
   },
   {
    "duration": 9,
    "start_time": "2022-07-22T04:15:03.652Z"
   },
   {
    "duration": 7,
    "start_time": "2022-07-22T04:15:03.663Z"
   },
   {
    "duration": 20,
    "start_time": "2022-07-22T04:15:03.671Z"
   },
   {
    "duration": 8,
    "start_time": "2022-07-22T04:15:03.693Z"
   },
   {
    "duration": 8,
    "start_time": "2022-07-22T04:15:03.703Z"
   },
   {
    "duration": 11,
    "start_time": "2022-07-22T04:15:03.713Z"
   },
   {
    "duration": 9,
    "start_time": "2022-07-22T04:15:03.726Z"
   },
   {
    "duration": 6,
    "start_time": "2022-07-22T04:15:03.737Z"
   },
   {
    "duration": 7,
    "start_time": "2022-07-22T04:15:03.744Z"
   },
   {
    "duration": 11,
    "start_time": "2022-07-22T04:15:03.753Z"
   },
   {
    "duration": 247,
    "start_time": "2022-07-22T04:15:27.299Z"
   },
   {
    "duration": 218,
    "start_time": "2022-07-22T04:16:25.962Z"
   },
   {
    "duration": 307,
    "start_time": "2022-07-22T04:16:44.826Z"
   },
   {
    "duration": 191,
    "start_time": "2022-07-22T04:23:09.045Z"
   },
   {
    "duration": 126,
    "start_time": "2022-07-22T04:23:46.778Z"
   },
   {
    "duration": 4,
    "start_time": "2022-07-22T04:23:50.072Z"
   },
   {
    "duration": 79,
    "start_time": "2022-07-22T04:23:50.078Z"
   },
   {
    "duration": 13,
    "start_time": "2022-07-22T04:23:50.159Z"
   },
   {
    "duration": 6,
    "start_time": "2022-07-22T04:23:50.173Z"
   },
   {
    "duration": 19,
    "start_time": "2022-07-22T04:23:50.181Z"
   },
   {
    "duration": 8,
    "start_time": "2022-07-22T04:23:50.224Z"
   },
   {
    "duration": 18,
    "start_time": "2022-07-22T04:23:50.233Z"
   },
   {
    "duration": 19,
    "start_time": "2022-07-22T04:23:50.253Z"
   },
   {
    "duration": 11,
    "start_time": "2022-07-22T04:23:50.273Z"
   },
   {
    "duration": 15,
    "start_time": "2022-07-22T04:23:50.285Z"
   },
   {
    "duration": 22,
    "start_time": "2022-07-22T04:23:50.301Z"
   },
   {
    "duration": 21,
    "start_time": "2022-07-22T04:23:50.325Z"
   },
   {
    "duration": 20,
    "start_time": "2022-07-22T04:23:50.348Z"
   },
   {
    "duration": 5,
    "start_time": "2022-07-22T04:23:50.372Z"
   },
   {
    "duration": 140,
    "start_time": "2022-07-22T04:23:50.379Z"
   },
   {
    "duration": 263,
    "start_time": "2022-07-22T04:23:50.523Z"
   },
   {
    "duration": 11,
    "start_time": "2022-07-22T04:23:50.787Z"
   },
   {
    "duration": 9,
    "start_time": "2022-07-22T04:23:50.799Z"
   },
   {
    "duration": 281,
    "start_time": "2022-07-22T04:23:50.810Z"
   },
   {
    "duration": 15,
    "start_time": "2022-07-22T04:23:51.093Z"
   },
   {
    "duration": 34,
    "start_time": "2022-07-22T04:23:51.123Z"
   },
   {
    "duration": 245,
    "start_time": "2022-07-22T04:23:51.159Z"
   },
   {
    "duration": 231,
    "start_time": "2022-07-22T04:23:51.406Z"
   },
   {
    "duration": 239,
    "start_time": "2022-07-22T04:23:51.638Z"
   },
   {
    "duration": 7,
    "start_time": "2022-07-22T04:23:51.878Z"
   },
   {
    "duration": 142,
    "start_time": "2022-07-22T04:23:51.886Z"
   },
   {
    "duration": 7,
    "start_time": "2022-07-22T04:23:52.030Z"
   },
   {
    "duration": 264,
    "start_time": "2022-07-22T04:23:52.038Z"
   },
   {
    "duration": 21,
    "start_time": "2022-07-22T04:23:52.304Z"
   },
   {
    "duration": 9,
    "start_time": "2022-07-22T04:23:52.326Z"
   },
   {
    "duration": 10,
    "start_time": "2022-07-22T04:23:52.336Z"
   },
   {
    "duration": 6,
    "start_time": "2022-07-22T04:23:52.347Z"
   },
   {
    "duration": 13,
    "start_time": "2022-07-22T04:23:52.355Z"
   },
   {
    "duration": 241,
    "start_time": "2022-07-22T04:23:52.370Z"
   },
   {
    "duration": 15,
    "start_time": "2022-07-22T04:23:52.612Z"
   },
   {
    "duration": 18,
    "start_time": "2022-07-22T04:23:52.629Z"
   },
   {
    "duration": 7,
    "start_time": "2022-07-22T04:23:52.649Z"
   },
   {
    "duration": 20,
    "start_time": "2022-07-22T04:23:52.657Z"
   },
   {
    "duration": 273,
    "start_time": "2022-07-22T04:23:52.679Z"
   },
   {
    "duration": 9,
    "start_time": "2022-07-22T04:23:52.953Z"
   },
   {
    "duration": 9,
    "start_time": "2022-07-22T04:23:52.965Z"
   },
   {
    "duration": 6,
    "start_time": "2022-07-22T04:23:52.976Z"
   },
   {
    "duration": 201,
    "start_time": "2022-07-22T04:23:52.983Z"
   },
   {
    "duration": 10,
    "start_time": "2022-07-22T04:23:53.185Z"
   },
   {
    "duration": 9,
    "start_time": "2022-07-22T04:23:53.196Z"
   },
   {
    "duration": 21,
    "start_time": "2022-07-22T04:23:53.206Z"
   },
   {
    "duration": 9,
    "start_time": "2022-07-22T04:23:53.229Z"
   },
   {
    "duration": 10,
    "start_time": "2022-07-22T04:23:53.240Z"
   },
   {
    "duration": 7,
    "start_time": "2022-07-22T04:23:53.252Z"
   },
   {
    "duration": 6,
    "start_time": "2022-07-22T04:23:53.261Z"
   },
   {
    "duration": 5,
    "start_time": "2022-07-22T04:23:53.269Z"
   },
   {
    "duration": 5,
    "start_time": "2022-07-22T04:23:53.276Z"
   },
   {
    "duration": 9,
    "start_time": "2022-07-22T04:23:53.283Z"
   },
   {
    "duration": 6,
    "start_time": "2022-07-22T04:23:53.293Z"
   },
   {
    "duration": 24,
    "start_time": "2022-07-22T04:23:53.301Z"
   },
   {
    "duration": 8,
    "start_time": "2022-07-22T04:23:53.326Z"
   },
   {
    "duration": 8,
    "start_time": "2022-07-22T04:23:53.335Z"
   },
   {
    "duration": 7,
    "start_time": "2022-07-22T04:23:53.344Z"
   },
   {
    "duration": 6,
    "start_time": "2022-07-22T04:23:53.353Z"
   },
   {
    "duration": 6,
    "start_time": "2022-07-22T04:23:53.360Z"
   },
   {
    "duration": 8,
    "start_time": "2022-07-22T04:23:53.368Z"
   },
   {
    "duration": 10,
    "start_time": "2022-07-22T04:23:53.377Z"
   },
   {
    "duration": 6,
    "start_time": "2022-07-22T04:23:53.389Z"
   },
   {
    "duration": 8,
    "start_time": "2022-07-22T04:23:53.396Z"
   },
   {
    "duration": 20,
    "start_time": "2022-07-22T04:23:53.406Z"
   },
   {
    "duration": 8,
    "start_time": "2022-07-22T04:23:53.428Z"
   },
   {
    "duration": 4,
    "start_time": "2022-07-22T04:23:53.438Z"
   },
   {
    "duration": 8,
    "start_time": "2022-07-22T04:23:53.443Z"
   },
   {
    "duration": 7,
    "start_time": "2022-07-22T04:23:53.453Z"
   },
   {
    "duration": 7,
    "start_time": "2022-07-22T04:27:33.272Z"
   },
   {
    "duration": 5,
    "start_time": "2022-07-22T04:28:22.564Z"
   },
   {
    "duration": 4,
    "start_time": "2022-07-22T04:28:28.425Z"
   },
   {
    "duration": 5,
    "start_time": "2022-07-22T04:28:58.612Z"
   },
   {
    "duration": 7,
    "start_time": "2022-07-22T04:30:10.398Z"
   },
   {
    "duration": 5,
    "start_time": "2022-07-22T04:30:22.149Z"
   },
   {
    "duration": 9,
    "start_time": "2022-07-22T04:32:38.977Z"
   },
   {
    "duration": 3,
    "start_time": "2022-07-22T04:32:46.023Z"
   },
   {
    "duration": 65,
    "start_time": "2022-07-22T04:32:46.029Z"
   },
   {
    "duration": 34,
    "start_time": "2022-07-22T04:32:46.095Z"
   },
   {
    "duration": 3,
    "start_time": "2022-07-22T04:32:46.131Z"
   },
   {
    "duration": 12,
    "start_time": "2022-07-22T04:32:46.136Z"
   },
   {
    "duration": 9,
    "start_time": "2022-07-22T04:32:46.150Z"
   },
   {
    "duration": 9,
    "start_time": "2022-07-22T04:32:46.160Z"
   },
   {
    "duration": 24,
    "start_time": "2022-07-22T04:32:46.171Z"
   },
   {
    "duration": 27,
    "start_time": "2022-07-22T04:32:46.197Z"
   },
   {
    "duration": 8,
    "start_time": "2022-07-22T04:32:46.227Z"
   },
   {
    "duration": 12,
    "start_time": "2022-07-22T04:32:46.237Z"
   },
   {
    "duration": 8,
    "start_time": "2022-07-22T04:32:46.251Z"
   },
   {
    "duration": 14,
    "start_time": "2022-07-22T04:32:46.261Z"
   },
   {
    "duration": 7,
    "start_time": "2022-07-22T04:32:46.276Z"
   },
   {
    "duration": 179,
    "start_time": "2022-07-22T04:32:46.285Z"
   },
   {
    "duration": 257,
    "start_time": "2022-07-22T04:32:46.466Z"
   },
   {
    "duration": 10,
    "start_time": "2022-07-22T04:32:46.725Z"
   },
   {
    "duration": 6,
    "start_time": "2022-07-22T04:32:46.737Z"
   },
   {
    "duration": 281,
    "start_time": "2022-07-22T04:32:46.744Z"
   },
   {
    "duration": 14,
    "start_time": "2022-07-22T04:32:47.027Z"
   },
   {
    "duration": 34,
    "start_time": "2022-07-22T04:32:47.043Z"
   },
   {
    "duration": 416,
    "start_time": "2022-07-22T04:32:47.078Z"
   },
   {
    "duration": 230,
    "start_time": "2022-07-22T04:32:47.495Z"
   },
   {
    "duration": 147,
    "start_time": "2022-07-22T04:32:47.727Z"
   },
   {
    "duration": 7,
    "start_time": "2022-07-22T04:32:47.875Z"
   },
   {
    "duration": 150,
    "start_time": "2022-07-22T04:32:47.884Z"
   },
   {
    "duration": 7,
    "start_time": "2022-07-22T04:32:48.036Z"
   },
   {
    "duration": 280,
    "start_time": "2022-07-22T04:32:48.048Z"
   },
   {
    "duration": 9,
    "start_time": "2022-07-22T04:32:48.331Z"
   },
   {
    "duration": 11,
    "start_time": "2022-07-22T04:32:48.342Z"
   },
   {
    "duration": 8,
    "start_time": "2022-07-22T04:32:48.355Z"
   },
   {
    "duration": 8,
    "start_time": "2022-07-22T04:32:48.365Z"
   },
   {
    "duration": 18,
    "start_time": "2022-07-22T04:32:48.376Z"
   },
   {
    "duration": 283,
    "start_time": "2022-07-22T04:32:48.395Z"
   },
   {
    "duration": 7,
    "start_time": "2022-07-22T04:32:48.680Z"
   },
   {
    "duration": 9,
    "start_time": "2022-07-22T04:32:48.689Z"
   },
   {
    "duration": 9,
    "start_time": "2022-07-22T04:32:48.699Z"
   },
   {
    "duration": 14,
    "start_time": "2022-07-22T04:32:48.724Z"
   },
   {
    "duration": 274,
    "start_time": "2022-07-22T04:32:48.740Z"
   },
   {
    "duration": 10,
    "start_time": "2022-07-22T04:32:49.016Z"
   },
   {
    "duration": 10,
    "start_time": "2022-07-22T04:32:49.028Z"
   },
   {
    "duration": 9,
    "start_time": "2022-07-22T04:32:49.040Z"
   },
   {
    "duration": 198,
    "start_time": "2022-07-22T04:32:49.050Z"
   },
   {
    "duration": 10,
    "start_time": "2022-07-22T04:32:49.250Z"
   },
   {
    "duration": 16,
    "start_time": "2022-07-22T04:32:49.261Z"
   },
   {
    "duration": 8,
    "start_time": "2022-07-22T04:32:49.279Z"
   },
   {
    "duration": 8,
    "start_time": "2022-07-22T04:32:49.288Z"
   },
   {
    "duration": 9,
    "start_time": "2022-07-22T04:32:49.297Z"
   },
   {
    "duration": 16,
    "start_time": "2022-07-22T04:32:49.308Z"
   },
   {
    "duration": 6,
    "start_time": "2022-07-22T04:32:49.325Z"
   },
   {
    "duration": 6,
    "start_time": "2022-07-22T04:32:49.333Z"
   },
   {
    "duration": 5,
    "start_time": "2022-07-22T04:32:49.341Z"
   },
   {
    "duration": 6,
    "start_time": "2022-07-22T04:32:49.348Z"
   },
   {
    "duration": 6,
    "start_time": "2022-07-22T04:32:49.356Z"
   },
   {
    "duration": 8,
    "start_time": "2022-07-22T04:32:49.364Z"
   },
   {
    "duration": 13,
    "start_time": "2022-07-22T04:32:49.373Z"
   },
   {
    "duration": 7,
    "start_time": "2022-07-22T04:32:49.387Z"
   },
   {
    "duration": 8,
    "start_time": "2022-07-22T04:32:49.396Z"
   },
   {
    "duration": 20,
    "start_time": "2022-07-22T04:32:49.406Z"
   },
   {
    "duration": 6,
    "start_time": "2022-07-22T04:32:49.428Z"
   },
   {
    "duration": 6,
    "start_time": "2022-07-22T04:32:49.435Z"
   },
   {
    "duration": 8,
    "start_time": "2022-07-22T04:32:49.442Z"
   },
   {
    "duration": 5,
    "start_time": "2022-07-22T04:32:49.452Z"
   },
   {
    "duration": 8,
    "start_time": "2022-07-22T04:32:49.459Z"
   },
   {
    "duration": 10,
    "start_time": "2022-07-22T04:32:49.468Z"
   },
   {
    "duration": 5,
    "start_time": "2022-07-22T04:32:49.480Z"
   },
   {
    "duration": 6,
    "start_time": "2022-07-22T04:32:49.487Z"
   },
   {
    "duration": 30,
    "start_time": "2022-07-22T04:32:49.494Z"
   },
   {
    "duration": 13,
    "start_time": "2022-07-22T04:32:49.525Z"
   },
   {
    "duration": 162,
    "start_time": "2022-07-22T04:33:57.143Z"
   },
   {
    "duration": 7,
    "start_time": "2022-07-22T04:35:11.781Z"
   },
   {
    "duration": 166,
    "start_time": "2022-07-22T04:35:35.020Z"
   },
   {
    "duration": 9,
    "start_time": "2022-07-22T04:36:04.776Z"
   },
   {
    "duration": 9,
    "start_time": "2022-07-22T04:36:14.681Z"
   },
   {
    "duration": 3,
    "start_time": "2022-07-22T04:37:40.977Z"
   },
   {
    "duration": 69,
    "start_time": "2022-07-22T04:37:40.982Z"
   },
   {
    "duration": 15,
    "start_time": "2022-07-22T04:37:41.052Z"
   },
   {
    "duration": 3,
    "start_time": "2022-07-22T04:37:41.069Z"
   },
   {
    "duration": 16,
    "start_time": "2022-07-22T04:37:41.074Z"
   },
   {
    "duration": 15,
    "start_time": "2022-07-22T04:37:41.124Z"
   },
   {
    "duration": 13,
    "start_time": "2022-07-22T04:37:41.142Z"
   },
   {
    "duration": 17,
    "start_time": "2022-07-22T04:37:41.158Z"
   },
   {
    "duration": 42,
    "start_time": "2022-07-22T04:37:41.177Z"
   },
   {
    "duration": 18,
    "start_time": "2022-07-22T04:37:41.223Z"
   },
   {
    "duration": 13,
    "start_time": "2022-07-22T04:37:41.243Z"
   },
   {
    "duration": 10,
    "start_time": "2022-07-22T04:37:41.258Z"
   },
   {
    "duration": 14,
    "start_time": "2022-07-22T04:37:41.270Z"
   },
   {
    "duration": 5,
    "start_time": "2022-07-22T04:37:41.286Z"
   },
   {
    "duration": 154,
    "start_time": "2022-07-22T04:37:41.293Z"
   },
   {
    "duration": 282,
    "start_time": "2022-07-22T04:37:41.448Z"
   },
   {
    "duration": 10,
    "start_time": "2022-07-22T04:37:41.732Z"
   },
   {
    "duration": 6,
    "start_time": "2022-07-22T04:37:41.744Z"
   },
   {
    "duration": 416,
    "start_time": "2022-07-22T04:37:41.752Z"
   },
   {
    "duration": 15,
    "start_time": "2022-07-22T04:37:42.170Z"
   },
   {
    "duration": 56,
    "start_time": "2022-07-22T04:37:42.188Z"
   },
   {
    "duration": 241,
    "start_time": "2022-07-22T04:37:42.246Z"
   },
   {
    "duration": 248,
    "start_time": "2022-07-22T04:37:42.488Z"
   },
   {
    "duration": 152,
    "start_time": "2022-07-22T04:37:42.737Z"
   },
   {
    "duration": 7,
    "start_time": "2022-07-22T04:37:42.890Z"
   },
   {
    "duration": 152,
    "start_time": "2022-07-22T04:37:42.898Z"
   },
   {
    "duration": 7,
    "start_time": "2022-07-22T04:37:43.052Z"
   },
   {
    "duration": 288,
    "start_time": "2022-07-22T04:37:43.063Z"
   },
   {
    "duration": 11,
    "start_time": "2022-07-22T04:37:43.353Z"
   },
   {
    "duration": 11,
    "start_time": "2022-07-22T04:37:43.366Z"
   },
   {
    "duration": 13,
    "start_time": "2022-07-22T04:37:43.379Z"
   },
   {
    "duration": 8,
    "start_time": "2022-07-22T04:37:43.394Z"
   },
   {
    "duration": 21,
    "start_time": "2022-07-22T04:37:43.425Z"
   },
   {
    "duration": 282,
    "start_time": "2022-07-22T04:37:43.447Z"
   },
   {
    "duration": 10,
    "start_time": "2022-07-22T04:37:43.732Z"
   },
   {
    "duration": 14,
    "start_time": "2022-07-22T04:37:43.743Z"
   },
   {
    "duration": 19,
    "start_time": "2022-07-22T04:37:43.758Z"
   },
   {
    "duration": 14,
    "start_time": "2022-07-22T04:37:43.779Z"
   },
   {
    "duration": 308,
    "start_time": "2022-07-22T04:37:43.795Z"
   },
   {
    "duration": 8,
    "start_time": "2022-07-22T04:37:44.105Z"
   },
   {
    "duration": 9,
    "start_time": "2022-07-22T04:37:44.124Z"
   },
   {
    "duration": 10,
    "start_time": "2022-07-22T04:37:44.135Z"
   },
   {
    "duration": 199,
    "start_time": "2022-07-22T04:37:44.147Z"
   },
   {
    "duration": 10,
    "start_time": "2022-07-22T04:37:44.348Z"
   },
   {
    "duration": 10,
    "start_time": "2022-07-22T04:37:44.360Z"
   },
   {
    "duration": 9,
    "start_time": "2022-07-22T04:37:44.372Z"
   },
   {
    "duration": 9,
    "start_time": "2022-07-22T04:37:44.382Z"
   },
   {
    "duration": 35,
    "start_time": "2022-07-22T04:37:44.393Z"
   },
   {
    "duration": 6,
    "start_time": "2022-07-22T04:37:44.430Z"
   },
   {
    "duration": 7,
    "start_time": "2022-07-22T04:37:44.438Z"
   },
   {
    "duration": 6,
    "start_time": "2022-07-22T04:37:44.447Z"
   },
   {
    "duration": 6,
    "start_time": "2022-07-22T04:37:44.455Z"
   },
   {
    "duration": 10,
    "start_time": "2022-07-22T04:37:44.462Z"
   },
   {
    "duration": 15,
    "start_time": "2022-07-22T04:37:44.473Z"
   },
   {
    "duration": 9,
    "start_time": "2022-07-22T04:37:44.491Z"
   },
   {
    "duration": 25,
    "start_time": "2022-07-22T04:37:44.502Z"
   },
   {
    "duration": 9,
    "start_time": "2022-07-22T04:37:44.529Z"
   },
   {
    "duration": 14,
    "start_time": "2022-07-22T04:37:44.540Z"
   },
   {
    "duration": 28,
    "start_time": "2022-07-22T04:37:44.556Z"
   },
   {
    "duration": 10,
    "start_time": "2022-07-22T04:37:44.586Z"
   },
   {
    "duration": 12,
    "start_time": "2022-07-22T04:37:44.598Z"
   },
   {
    "duration": 9,
    "start_time": "2022-07-22T04:37:44.612Z"
   },
   {
    "duration": 9,
    "start_time": "2022-07-22T04:37:44.623Z"
   },
   {
    "duration": 8,
    "start_time": "2022-07-22T04:37:44.634Z"
   },
   {
    "duration": 10,
    "start_time": "2022-07-22T04:37:44.644Z"
   },
   {
    "duration": 7,
    "start_time": "2022-07-22T04:37:44.656Z"
   },
   {
    "duration": 25,
    "start_time": "2022-07-22T04:37:44.665Z"
   },
   {
    "duration": 14,
    "start_time": "2022-07-22T04:37:44.692Z"
   },
   {
    "duration": 8,
    "start_time": "2022-07-22T04:37:44.708Z"
   },
   {
    "duration": 3,
    "start_time": "2022-07-22T04:38:59.999Z"
   },
   {
    "duration": 8,
    "start_time": "2022-07-22T04:39:00.354Z"
   },
   {
    "duration": 4,
    "start_time": "2022-07-22T04:39:04.308Z"
   },
   {
    "duration": 77,
    "start_time": "2022-07-22T04:39:04.315Z"
   },
   {
    "duration": 37,
    "start_time": "2022-07-22T04:39:04.394Z"
   },
   {
    "duration": 3,
    "start_time": "2022-07-22T04:39:04.433Z"
   },
   {
    "duration": 13,
    "start_time": "2022-07-22T04:39:04.439Z"
   },
   {
    "duration": 11,
    "start_time": "2022-07-22T04:39:04.454Z"
   },
   {
    "duration": 10,
    "start_time": "2022-07-22T04:39:04.467Z"
   },
   {
    "duration": 15,
    "start_time": "2022-07-22T04:39:04.478Z"
   },
   {
    "duration": 30,
    "start_time": "2022-07-22T04:39:04.496Z"
   },
   {
    "duration": 10,
    "start_time": "2022-07-22T04:39:04.529Z"
   },
   {
    "duration": 9,
    "start_time": "2022-07-22T04:39:04.541Z"
   },
   {
    "duration": 22,
    "start_time": "2022-07-22T04:39:04.552Z"
   },
   {
    "duration": 16,
    "start_time": "2022-07-22T04:39:04.578Z"
   },
   {
    "duration": 30,
    "start_time": "2022-07-22T04:39:04.598Z"
   },
   {
    "duration": 11,
    "start_time": "2022-07-22T04:39:04.630Z"
   },
   {
    "duration": 162,
    "start_time": "2022-07-22T04:39:04.643Z"
   },
   {
    "duration": 288,
    "start_time": "2022-07-22T04:39:04.808Z"
   },
   {
    "duration": 27,
    "start_time": "2022-07-22T04:39:05.098Z"
   },
   {
    "duration": 9,
    "start_time": "2022-07-22T04:39:05.127Z"
   },
   {
    "duration": 417,
    "start_time": "2022-07-22T04:39:05.138Z"
   },
   {
    "duration": 16,
    "start_time": "2022-07-22T04:39:05.557Z"
   },
   {
    "duration": 53,
    "start_time": "2022-07-22T04:39:05.576Z"
   },
   {
    "duration": 243,
    "start_time": "2022-07-22T04:39:05.631Z"
   },
   {
    "duration": 234,
    "start_time": "2022-07-22T04:39:05.876Z"
   },
   {
    "duration": 144,
    "start_time": "2022-07-22T04:39:06.112Z"
   },
   {
    "duration": 7,
    "start_time": "2022-07-22T04:39:06.257Z"
   },
   {
    "duration": 169,
    "start_time": "2022-07-22T04:39:06.266Z"
   },
   {
    "duration": 9,
    "start_time": "2022-07-22T04:39:06.437Z"
   },
   {
    "duration": 288,
    "start_time": "2022-07-22T04:39:06.448Z"
   },
   {
    "duration": 9,
    "start_time": "2022-07-22T04:39:06.738Z"
   },
   {
    "duration": 14,
    "start_time": "2022-07-22T04:39:06.749Z"
   },
   {
    "duration": 9,
    "start_time": "2022-07-22T04:39:06.764Z"
   },
   {
    "duration": 8,
    "start_time": "2022-07-22T04:39:06.774Z"
   },
   {
    "duration": 16,
    "start_time": "2022-07-22T04:39:06.784Z"
   },
   {
    "duration": 261,
    "start_time": "2022-07-22T04:39:06.802Z"
   },
   {
    "duration": 7,
    "start_time": "2022-07-22T04:39:07.065Z"
   },
   {
    "duration": 8,
    "start_time": "2022-07-22T04:39:07.074Z"
   },
   {
    "duration": 9,
    "start_time": "2022-07-22T04:39:07.084Z"
   },
   {
    "duration": 37,
    "start_time": "2022-07-22T04:39:07.094Z"
   },
   {
    "duration": 351,
    "start_time": "2022-07-22T04:39:07.133Z"
   },
   {
    "duration": 8,
    "start_time": "2022-07-22T04:39:07.489Z"
   },
   {
    "duration": 26,
    "start_time": "2022-07-22T04:39:07.498Z"
   },
   {
    "duration": 9,
    "start_time": "2022-07-22T04:39:07.526Z"
   },
   {
    "duration": 193,
    "start_time": "2022-07-22T04:39:07.537Z"
   },
   {
    "duration": 10,
    "start_time": "2022-07-22T04:39:07.731Z"
   },
   {
    "duration": 13,
    "start_time": "2022-07-22T04:39:07.743Z"
   },
   {
    "duration": 8,
    "start_time": "2022-07-22T04:39:07.758Z"
   },
   {
    "duration": 8,
    "start_time": "2022-07-22T04:39:07.768Z"
   },
   {
    "duration": 10,
    "start_time": "2022-07-22T04:39:07.777Z"
   },
   {
    "duration": 5,
    "start_time": "2022-07-22T04:39:07.789Z"
   },
   {
    "duration": 9,
    "start_time": "2022-07-22T04:39:07.795Z"
   },
   {
    "duration": 3,
    "start_time": "2022-07-22T04:39:07.824Z"
   },
   {
    "duration": 8,
    "start_time": "2022-07-22T04:39:07.830Z"
   },
   {
    "duration": 12,
    "start_time": "2022-07-22T04:39:07.839Z"
   },
   {
    "duration": 9,
    "start_time": "2022-07-22T04:39:07.853Z"
   },
   {
    "duration": 6,
    "start_time": "2022-07-22T04:39:07.864Z"
   },
   {
    "duration": 9,
    "start_time": "2022-07-22T04:39:07.872Z"
   },
   {
    "duration": 9,
    "start_time": "2022-07-22T04:39:07.883Z"
   },
   {
    "duration": 30,
    "start_time": "2022-07-22T04:39:07.894Z"
   },
   {
    "duration": 5,
    "start_time": "2022-07-22T04:39:07.926Z"
   },
   {
    "duration": 16,
    "start_time": "2022-07-22T04:39:07.933Z"
   },
   {
    "duration": 5,
    "start_time": "2022-07-22T04:39:07.951Z"
   },
   {
    "duration": 10,
    "start_time": "2022-07-22T04:39:07.958Z"
   },
   {
    "duration": 8,
    "start_time": "2022-07-22T04:39:07.970Z"
   },
   {
    "duration": 6,
    "start_time": "2022-07-22T04:39:07.979Z"
   },
   {
    "duration": 15,
    "start_time": "2022-07-22T04:39:07.987Z"
   },
   {
    "duration": 19,
    "start_time": "2022-07-22T04:39:08.004Z"
   },
   {
    "duration": 11,
    "start_time": "2022-07-22T04:39:08.025Z"
   },
   {
    "duration": 18,
    "start_time": "2022-07-22T04:39:08.039Z"
   },
   {
    "duration": 13,
    "start_time": "2022-07-22T04:39:08.059Z"
   },
   {
    "duration": 11,
    "start_time": "2022-07-22T04:40:27.610Z"
   },
   {
    "duration": 10,
    "start_time": "2022-07-22T04:40:34.620Z"
   },
   {
    "duration": 3,
    "start_time": "2022-07-22T04:41:02.928Z"
   },
   {
    "duration": 3,
    "start_time": "2022-07-22T04:43:04.006Z"
   },
   {
    "duration": 70,
    "start_time": "2022-07-22T04:43:04.011Z"
   },
   {
    "duration": 13,
    "start_time": "2022-07-22T04:43:04.083Z"
   },
   {
    "duration": 3,
    "start_time": "2022-07-22T04:43:04.098Z"
   },
   {
    "duration": 29,
    "start_time": "2022-07-22T04:43:04.103Z"
   },
   {
    "duration": 18,
    "start_time": "2022-07-22T04:43:04.134Z"
   },
   {
    "duration": 12,
    "start_time": "2022-07-22T04:43:04.153Z"
   },
   {
    "duration": 13,
    "start_time": "2022-07-22T04:43:04.166Z"
   },
   {
    "duration": 5,
    "start_time": "2022-07-22T04:43:04.180Z"
   },
   {
    "duration": 12,
    "start_time": "2022-07-22T04:43:04.186Z"
   },
   {
    "duration": 33,
    "start_time": "2022-07-22T04:43:04.199Z"
   },
   {
    "duration": 8,
    "start_time": "2022-07-22T04:43:04.234Z"
   },
   {
    "duration": 13,
    "start_time": "2022-07-22T04:43:04.244Z"
   },
   {
    "duration": 13,
    "start_time": "2022-07-22T04:43:04.260Z"
   },
   {
    "duration": 5,
    "start_time": "2022-07-22T04:43:04.275Z"
   },
   {
    "duration": 156,
    "start_time": "2022-07-22T04:43:04.282Z"
   },
   {
    "duration": 286,
    "start_time": "2022-07-22T04:43:04.440Z"
   },
   {
    "duration": 11,
    "start_time": "2022-07-22T04:43:04.728Z"
   },
   {
    "duration": 7,
    "start_time": "2022-07-22T04:43:04.740Z"
   },
   {
    "duration": 282,
    "start_time": "2022-07-22T04:43:04.748Z"
   },
   {
    "duration": 15,
    "start_time": "2022-07-22T04:43:05.032Z"
   },
   {
    "duration": 48,
    "start_time": "2022-07-22T04:43:05.048Z"
   },
   {
    "duration": 390,
    "start_time": "2022-07-22T04:43:05.097Z"
   },
   {
    "duration": 253,
    "start_time": "2022-07-22T04:43:05.489Z"
   },
   {
    "duration": 3,
    "start_time": "2022-07-22T04:43:05.746Z"
   },
   {
    "duration": 179,
    "start_time": "2022-07-22T04:43:05.751Z"
   },
   {
    "duration": 8,
    "start_time": "2022-07-22T04:43:05.931Z"
   },
   {
    "duration": 174,
    "start_time": "2022-07-22T04:43:05.940Z"
   },
   {
    "duration": 12,
    "start_time": "2022-07-22T04:43:06.116Z"
   },
   {
    "duration": 270,
    "start_time": "2022-07-22T04:43:06.129Z"
   },
   {
    "duration": 8,
    "start_time": "2022-07-22T04:43:06.401Z"
   },
   {
    "duration": 16,
    "start_time": "2022-07-22T04:43:06.411Z"
   },
   {
    "duration": 7,
    "start_time": "2022-07-22T04:43:06.430Z"
   },
   {
    "duration": 9,
    "start_time": "2022-07-22T04:43:06.439Z"
   },
   {
    "duration": 17,
    "start_time": "2022-07-22T04:43:06.449Z"
   },
   {
    "duration": 282,
    "start_time": "2022-07-22T04:43:06.468Z"
   },
   {
    "duration": 7,
    "start_time": "2022-07-22T04:43:06.752Z"
   },
   {
    "duration": 9,
    "start_time": "2022-07-22T04:43:06.760Z"
   },
   {
    "duration": 9,
    "start_time": "2022-07-22T04:43:06.771Z"
   },
   {
    "duration": 13,
    "start_time": "2022-07-22T04:43:06.782Z"
   },
   {
    "duration": 268,
    "start_time": "2022-07-22T04:43:06.823Z"
   },
   {
    "duration": 7,
    "start_time": "2022-07-22T04:43:07.093Z"
   },
   {
    "duration": 10,
    "start_time": "2022-07-22T04:43:07.102Z"
   },
   {
    "duration": 10,
    "start_time": "2022-07-22T04:43:07.124Z"
   },
   {
    "duration": 237,
    "start_time": "2022-07-22T04:43:07.136Z"
   },
   {
    "duration": 10,
    "start_time": "2022-07-22T04:43:07.375Z"
   },
   {
    "duration": 8,
    "start_time": "2022-07-22T04:43:07.386Z"
   },
   {
    "duration": 7,
    "start_time": "2022-07-22T04:43:07.396Z"
   },
   {
    "duration": 25,
    "start_time": "2022-07-22T04:43:07.404Z"
   },
   {
    "duration": 5,
    "start_time": "2022-07-22T04:43:07.431Z"
   },
   {
    "duration": 9,
    "start_time": "2022-07-22T04:43:07.437Z"
   },
   {
    "duration": 11,
    "start_time": "2022-07-22T04:43:07.447Z"
   },
   {
    "duration": 7,
    "start_time": "2022-07-22T04:43:07.460Z"
   },
   {
    "duration": 6,
    "start_time": "2022-07-22T04:43:07.468Z"
   },
   {
    "duration": 10,
    "start_time": "2022-07-22T04:43:07.476Z"
   },
   {
    "duration": 14,
    "start_time": "2022-07-22T04:43:07.488Z"
   },
   {
    "duration": 9,
    "start_time": "2022-07-22T04:43:07.504Z"
   },
   {
    "duration": 8,
    "start_time": "2022-07-22T04:43:07.514Z"
   },
   {
    "duration": 6,
    "start_time": "2022-07-22T04:43:07.524Z"
   },
   {
    "duration": 8,
    "start_time": "2022-07-22T04:43:07.532Z"
   },
   {
    "duration": 10,
    "start_time": "2022-07-22T04:43:07.541Z"
   },
   {
    "duration": 8,
    "start_time": "2022-07-22T04:43:07.552Z"
   },
   {
    "duration": 7,
    "start_time": "2022-07-22T04:43:07.561Z"
   },
   {
    "duration": 7,
    "start_time": "2022-07-22T04:43:07.569Z"
   },
   {
    "duration": 6,
    "start_time": "2022-07-22T04:43:07.577Z"
   },
   {
    "duration": 9,
    "start_time": "2022-07-22T04:43:07.584Z"
   },
   {
    "duration": 6,
    "start_time": "2022-07-22T04:43:07.594Z"
   },
   {
    "duration": 23,
    "start_time": "2022-07-22T04:43:07.601Z"
   },
   {
    "duration": 11,
    "start_time": "2022-07-22T04:43:07.626Z"
   },
   {
    "duration": 5,
    "start_time": "2022-07-22T04:43:07.639Z"
   },
   {
    "duration": 12,
    "start_time": "2022-07-22T04:43:07.646Z"
   },
   {
    "duration": 15,
    "start_time": "2022-07-22T04:44:21.046Z"
   },
   {
    "duration": 7,
    "start_time": "2022-07-22T04:44:26.133Z"
   },
   {
    "duration": 9,
    "start_time": "2022-07-22T04:45:35.538Z"
   },
   {
    "duration": 11,
    "start_time": "2022-07-22T04:45:46.267Z"
   },
   {
    "duration": 383,
    "start_time": "2022-07-22T04:45:53.431Z"
   },
   {
    "duration": 3,
    "start_time": "2022-07-22T04:46:23.872Z"
   },
   {
    "duration": 78,
    "start_time": "2022-07-22T04:46:23.877Z"
   },
   {
    "duration": 13,
    "start_time": "2022-07-22T04:46:23.956Z"
   },
   {
    "duration": 16,
    "start_time": "2022-07-22T04:46:23.971Z"
   },
   {
    "duration": 15,
    "start_time": "2022-07-22T04:46:23.988Z"
   },
   {
    "duration": 12,
    "start_time": "2022-07-22T04:46:24.024Z"
   },
   {
    "duration": 8,
    "start_time": "2022-07-22T04:46:24.038Z"
   },
   {
    "duration": 13,
    "start_time": "2022-07-22T04:46:24.048Z"
   },
   {
    "duration": 4,
    "start_time": "2022-07-22T04:46:24.064Z"
   },
   {
    "duration": 7,
    "start_time": "2022-07-22T04:46:24.070Z"
   },
   {
    "duration": 25,
    "start_time": "2022-07-22T04:46:24.079Z"
   },
   {
    "duration": 25,
    "start_time": "2022-07-22T04:46:24.106Z"
   },
   {
    "duration": 447,
    "start_time": "2022-07-22T04:46:24.132Z"
   },
   {
    "duration": 12,
    "start_time": "2022-07-22T04:46:24.581Z"
   },
   {
    "duration": 29,
    "start_time": "2022-07-22T04:46:24.595Z"
   },
   {
    "duration": 7,
    "start_time": "2022-07-22T04:46:24.625Z"
   },
   {
    "duration": 158,
    "start_time": "2022-07-22T04:46:24.634Z"
   },
   {
    "duration": 269,
    "start_time": "2022-07-22T04:46:24.794Z"
   },
   {
    "duration": 11,
    "start_time": "2022-07-22T04:46:25.065Z"
   },
   {
    "duration": 6,
    "start_time": "2022-07-22T04:46:25.078Z"
   },
   {
    "duration": 290,
    "start_time": "2022-07-22T04:46:25.086Z"
   },
   {
    "duration": 15,
    "start_time": "2022-07-22T04:46:25.377Z"
   },
   {
    "duration": 51,
    "start_time": "2022-07-22T04:46:25.394Z"
   },
   {
    "duration": 418,
    "start_time": "2022-07-22T04:46:25.449Z"
   },
   {
    "duration": 243,
    "start_time": "2022-07-22T04:46:25.868Z"
   },
   {
    "duration": 3,
    "start_time": "2022-07-22T04:46:26.113Z"
   },
   {
    "duration": 164,
    "start_time": "2022-07-22T04:46:26.123Z"
   },
   {
    "duration": 8,
    "start_time": "2022-07-22T04:46:26.288Z"
   },
   {
    "duration": 194,
    "start_time": "2022-07-22T04:46:26.298Z"
   },
   {
    "duration": 8,
    "start_time": "2022-07-22T04:46:26.494Z"
   },
   {
    "duration": 339,
    "start_time": "2022-07-22T04:46:26.505Z"
   },
   {
    "duration": 14,
    "start_time": "2022-07-22T04:46:26.846Z"
   },
   {
    "duration": 15,
    "start_time": "2022-07-22T04:46:26.862Z"
   },
   {
    "duration": 21,
    "start_time": "2022-07-22T04:46:26.879Z"
   },
   {
    "duration": 27,
    "start_time": "2022-07-22T04:46:26.903Z"
   },
   {
    "duration": 34,
    "start_time": "2022-07-22T04:46:26.932Z"
   },
   {
    "duration": 293,
    "start_time": "2022-07-22T04:46:26.969Z"
   },
   {
    "duration": 10,
    "start_time": "2022-07-22T04:46:27.265Z"
   },
   {
    "duration": 11,
    "start_time": "2022-07-22T04:46:27.277Z"
   },
   {
    "duration": 40,
    "start_time": "2022-07-22T04:46:27.291Z"
   },
   {
    "duration": 29,
    "start_time": "2022-07-22T04:46:27.333Z"
   },
   {
    "duration": 317,
    "start_time": "2022-07-22T04:46:27.365Z"
   },
   {
    "duration": 7,
    "start_time": "2022-07-22T04:46:27.684Z"
   },
   {
    "duration": 18,
    "start_time": "2022-07-22T04:46:27.693Z"
   },
   {
    "duration": 12,
    "start_time": "2022-07-22T04:46:27.713Z"
   },
   {
    "duration": 183,
    "start_time": "2022-07-22T04:46:27.727Z"
   },
   {
    "duration": 15,
    "start_time": "2022-07-22T04:46:27.911Z"
   },
   {
    "duration": 12,
    "start_time": "2022-07-22T04:46:27.928Z"
   },
   {
    "duration": 10,
    "start_time": "2022-07-22T04:46:27.941Z"
   },
   {
    "duration": 9,
    "start_time": "2022-07-22T04:46:27.952Z"
   },
   {
    "duration": 10,
    "start_time": "2022-07-22T04:46:27.962Z"
   },
   {
    "duration": 5,
    "start_time": "2022-07-22T04:46:27.974Z"
   },
   {
    "duration": 9,
    "start_time": "2022-07-22T04:46:27.980Z"
   },
   {
    "duration": 10,
    "start_time": "2022-07-22T04:46:27.991Z"
   },
   {
    "duration": 6,
    "start_time": "2022-07-22T04:46:28.003Z"
   },
   {
    "duration": 6,
    "start_time": "2022-07-22T04:46:28.024Z"
   },
   {
    "duration": 8,
    "start_time": "2022-07-22T04:46:28.032Z"
   },
   {
    "duration": 8,
    "start_time": "2022-07-22T04:46:28.041Z"
   },
   {
    "duration": 13,
    "start_time": "2022-07-22T04:46:28.051Z"
   },
   {
    "duration": 11,
    "start_time": "2022-07-22T04:46:28.066Z"
   },
   {
    "duration": 7,
    "start_time": "2022-07-22T04:46:28.079Z"
   },
   {
    "duration": 10,
    "start_time": "2022-07-22T04:46:28.088Z"
   },
   {
    "duration": 24,
    "start_time": "2022-07-22T04:46:28.100Z"
   },
   {
    "duration": 5,
    "start_time": "2022-07-22T04:46:28.127Z"
   },
   {
    "duration": 9,
    "start_time": "2022-07-22T04:46:28.134Z"
   },
   {
    "duration": 7,
    "start_time": "2022-07-22T04:46:28.146Z"
   },
   {
    "duration": 10,
    "start_time": "2022-07-22T04:46:28.155Z"
   },
   {
    "duration": 7,
    "start_time": "2022-07-22T04:46:28.167Z"
   },
   {
    "duration": 3,
    "start_time": "2022-07-22T04:46:28.178Z"
   },
   {
    "duration": 8,
    "start_time": "2022-07-22T04:46:28.183Z"
   },
   {
    "duration": 9,
    "start_time": "2022-07-22T04:46:28.193Z"
   },
   {
    "duration": 21,
    "start_time": "2022-07-22T04:46:28.203Z"
   },
   {
    "duration": 7,
    "start_time": "2022-07-22T04:49:16.679Z"
   },
   {
    "duration": 160,
    "start_time": "2022-07-22T04:49:27.048Z"
   },
   {
    "duration": 8,
    "start_time": "2022-07-22T04:49:35.598Z"
   },
   {
    "duration": 245,
    "start_time": "2022-07-22T04:51:23.905Z"
   },
   {
    "duration": 1251,
    "start_time": "2022-07-22T11:49:07.188Z"
   },
   {
    "duration": 98,
    "start_time": "2022-07-22T11:49:08.441Z"
   },
   {
    "duration": 14,
    "start_time": "2022-07-22T11:49:08.541Z"
   },
   {
    "duration": 3,
    "start_time": "2022-07-22T11:49:08.556Z"
   },
   {
    "duration": 18,
    "start_time": "2022-07-22T11:49:08.560Z"
   },
   {
    "duration": 12,
    "start_time": "2022-07-22T11:49:08.579Z"
   },
   {
    "duration": 8,
    "start_time": "2022-07-22T11:49:08.593Z"
   },
   {
    "duration": 14,
    "start_time": "2022-07-22T11:49:08.602Z"
   },
   {
    "duration": 5,
    "start_time": "2022-07-22T11:49:08.617Z"
   },
   {
    "duration": 22,
    "start_time": "2022-07-22T11:49:08.623Z"
   },
   {
    "duration": 21,
    "start_time": "2022-07-22T11:49:08.647Z"
   },
   {
    "duration": 9,
    "start_time": "2022-07-22T11:49:08.671Z"
   },
   {
    "duration": 15,
    "start_time": "2022-07-22T11:49:08.683Z"
   },
   {
    "duration": 19,
    "start_time": "2022-07-22T11:49:08.702Z"
   },
   {
    "duration": 8,
    "start_time": "2022-07-22T11:49:08.745Z"
   },
   {
    "duration": 226,
    "start_time": "2022-07-22T11:49:08.755Z"
   },
   {
    "duration": 301,
    "start_time": "2022-07-22T11:49:08.983Z"
   },
   {
    "duration": 10,
    "start_time": "2022-07-22T11:49:09.286Z"
   },
   {
    "duration": 20,
    "start_time": "2022-07-22T11:49:09.298Z"
   },
   {
    "duration": 270,
    "start_time": "2022-07-22T11:49:09.320Z"
   },
   {
    "duration": 17,
    "start_time": "2022-07-22T11:49:09.592Z"
   },
   {
    "duration": 50,
    "start_time": "2022-07-22T11:49:09.611Z"
   },
   {
    "duration": 236,
    "start_time": "2022-07-22T11:49:09.663Z"
   },
   {
    "duration": 226,
    "start_time": "2022-07-22T11:49:09.901Z"
   },
   {
    "duration": 140,
    "start_time": "2022-07-22T11:49:10.130Z"
   },
   {
    "duration": 6,
    "start_time": "2022-07-22T11:49:10.272Z"
   },
   {
    "duration": 209,
    "start_time": "2022-07-22T11:49:10.280Z"
   },
   {
    "duration": 8,
    "start_time": "2022-07-22T11:49:10.491Z"
   },
   {
    "duration": 291,
    "start_time": "2022-07-22T11:49:10.500Z"
   },
   {
    "duration": 9,
    "start_time": "2022-07-22T11:49:10.793Z"
   },
   {
    "duration": 11,
    "start_time": "2022-07-22T11:49:10.803Z"
   },
   {
    "duration": 11,
    "start_time": "2022-07-22T11:49:10.816Z"
   },
   {
    "duration": 21,
    "start_time": "2022-07-22T11:49:10.829Z"
   },
   {
    "duration": 26,
    "start_time": "2022-07-22T11:49:10.852Z"
   },
   {
    "duration": 239,
    "start_time": "2022-07-22T11:49:10.880Z"
   },
   {
    "duration": 7,
    "start_time": "2022-07-22T11:49:11.120Z"
   },
   {
    "duration": 16,
    "start_time": "2022-07-22T11:49:11.129Z"
   },
   {
    "duration": 6,
    "start_time": "2022-07-22T11:49:11.147Z"
   },
   {
    "duration": 13,
    "start_time": "2022-07-22T11:49:11.155Z"
   },
   {
    "duration": 265,
    "start_time": "2022-07-22T11:49:11.169Z"
   },
   {
    "duration": 11,
    "start_time": "2022-07-22T11:49:11.438Z"
   },
   {
    "duration": 9,
    "start_time": "2022-07-22T11:49:11.451Z"
   },
   {
    "duration": 9,
    "start_time": "2022-07-22T11:49:11.461Z"
   },
   {
    "duration": 174,
    "start_time": "2022-07-22T11:49:11.472Z"
   },
   {
    "duration": 10,
    "start_time": "2022-07-22T11:49:11.647Z"
   },
   {
    "duration": 13,
    "start_time": "2022-07-22T11:49:11.658Z"
   },
   {
    "duration": 11,
    "start_time": "2022-07-22T11:49:11.672Z"
   },
   {
    "duration": 11,
    "start_time": "2022-07-22T11:49:11.685Z"
   },
   {
    "duration": 12,
    "start_time": "2022-07-22T11:49:11.698Z"
   },
   {
    "duration": 11,
    "start_time": "2022-07-22T11:49:11.712Z"
   },
   {
    "duration": 17,
    "start_time": "2022-07-22T11:49:11.724Z"
   },
   {
    "duration": 9,
    "start_time": "2022-07-22T11:49:11.743Z"
   },
   {
    "duration": 10,
    "start_time": "2022-07-22T11:49:11.753Z"
   },
   {
    "duration": 10,
    "start_time": "2022-07-22T11:49:11.764Z"
   },
   {
    "duration": 7,
    "start_time": "2022-07-22T11:49:11.775Z"
   },
   {
    "duration": 10,
    "start_time": "2022-07-22T11:49:11.784Z"
   },
   {
    "duration": 6,
    "start_time": "2022-07-22T11:49:11.795Z"
   },
   {
    "duration": 9,
    "start_time": "2022-07-22T11:49:11.803Z"
   },
   {
    "duration": 10,
    "start_time": "2022-07-22T11:49:11.813Z"
   },
   {
    "duration": 8,
    "start_time": "2022-07-22T11:49:11.825Z"
   },
   {
    "duration": 11,
    "start_time": "2022-07-22T11:49:11.834Z"
   },
   {
    "duration": 3,
    "start_time": "2022-07-22T11:49:11.847Z"
   },
   {
    "duration": 8,
    "start_time": "2022-07-22T11:49:11.852Z"
   },
   {
    "duration": 6,
    "start_time": "2022-07-22T11:49:11.862Z"
   },
   {
    "duration": 5,
    "start_time": "2022-07-22T11:49:11.870Z"
   },
   {
    "duration": 6,
    "start_time": "2022-07-22T11:49:11.876Z"
   },
   {
    "duration": 5,
    "start_time": "2022-07-22T11:49:11.883Z"
   },
   {
    "duration": 6,
    "start_time": "2022-07-22T11:49:11.890Z"
   },
   {
    "duration": 10,
    "start_time": "2022-07-22T11:49:11.898Z"
   },
   {
    "duration": 7,
    "start_time": "2022-07-22T11:49:11.910Z"
   },
   {
    "duration": 142,
    "start_time": "2022-07-22T11:51:23.794Z"
   },
   {
    "duration": 139,
    "start_time": "2022-07-22T11:51:42.524Z"
   },
   {
    "duration": 141,
    "start_time": "2022-07-22T11:57:45.927Z"
   },
   {
    "duration": 14,
    "start_time": "2022-07-22T11:59:21.857Z"
   },
   {
    "duration": 6,
    "start_time": "2022-07-22T12:00:02.173Z"
   },
   {
    "duration": 6,
    "start_time": "2022-07-22T12:00:02.935Z"
   },
   {
    "duration": 145,
    "start_time": "2022-07-22T12:00:06.949Z"
   },
   {
    "duration": 129,
    "start_time": "2022-07-22T12:00:10.404Z"
   },
   {
    "duration": 10,
    "start_time": "2022-07-22T12:00:16.438Z"
   },
   {
    "duration": 8,
    "start_time": "2022-07-22T12:00:17.869Z"
   },
   {
    "duration": 321,
    "start_time": "2022-07-22T12:03:47.006Z"
   },
   {
    "duration": 6,
    "start_time": "2022-07-22T12:05:13.089Z"
   },
   {
    "duration": 3,
    "start_time": "2022-07-22T12:33:23.862Z"
   },
   {
    "duration": 67,
    "start_time": "2022-07-22T12:33:23.868Z"
   },
   {
    "duration": 22,
    "start_time": "2022-07-22T12:33:23.936Z"
   },
   {
    "duration": 24,
    "start_time": "2022-07-22T12:33:23.960Z"
   },
   {
    "duration": 16,
    "start_time": "2022-07-22T12:33:23.987Z"
   },
   {
    "duration": 10,
    "start_time": "2022-07-22T12:33:24.005Z"
   },
   {
    "duration": 13,
    "start_time": "2022-07-22T12:33:24.017Z"
   },
   {
    "duration": 34,
    "start_time": "2022-07-22T12:33:24.033Z"
   },
   {
    "duration": 6,
    "start_time": "2022-07-22T12:33:24.069Z"
   },
   {
    "duration": 11,
    "start_time": "2022-07-22T12:33:24.077Z"
   },
   {
    "duration": 19,
    "start_time": "2022-07-22T12:33:24.089Z"
   },
   {
    "duration": 8,
    "start_time": "2022-07-22T12:33:24.110Z"
   },
   {
    "duration": 8,
    "start_time": "2022-07-22T12:33:24.120Z"
   },
   {
    "duration": 18,
    "start_time": "2022-07-22T12:33:24.151Z"
   },
   {
    "duration": 12,
    "start_time": "2022-07-22T12:33:24.171Z"
   },
   {
    "duration": 145,
    "start_time": "2022-07-22T12:33:24.184Z"
   },
   {
    "duration": 268,
    "start_time": "2022-07-22T12:33:24.331Z"
   },
   {
    "duration": 11,
    "start_time": "2022-07-22T12:33:24.601Z"
   },
   {
    "duration": 21,
    "start_time": "2022-07-22T12:33:24.614Z"
   },
   {
    "duration": 289,
    "start_time": "2022-07-22T12:33:24.637Z"
   },
   {
    "duration": 31,
    "start_time": "2022-07-22T12:33:24.928Z"
   },
   {
    "duration": 46,
    "start_time": "2022-07-22T12:33:24.961Z"
   },
   {
    "duration": 233,
    "start_time": "2022-07-22T12:33:25.009Z"
   },
   {
    "duration": 241,
    "start_time": "2022-07-22T12:33:25.247Z"
   },
   {
    "duration": 171,
    "start_time": "2022-07-22T12:33:25.491Z"
   },
   {
    "duration": 139,
    "start_time": "2022-07-22T12:33:25.664Z"
   },
   {
    "duration": 6,
    "start_time": "2022-07-22T12:33:25.806Z"
   },
   {
    "duration": 14,
    "start_time": "2022-07-22T12:33:25.814Z"
   },
   {
    "duration": 254,
    "start_time": "2022-07-22T12:33:25.830Z"
   },
   {
    "duration": 148,
    "start_time": "2022-07-22T12:33:26.086Z"
   },
   {
    "duration": 25,
    "start_time": "2022-07-22T12:33:26.235Z"
   },
   {
    "duration": 11,
    "start_time": "2022-07-22T12:33:26.262Z"
   },
   {
    "duration": 266,
    "start_time": "2022-07-22T12:33:26.274Z"
   },
   {
    "duration": 267,
    "start_time": "2022-07-22T12:33:26.545Z"
   },
   {
    "duration": 9,
    "start_time": "2022-07-22T12:33:26.814Z"
   },
   {
    "duration": 9,
    "start_time": "2022-07-22T12:33:26.824Z"
   },
   {
    "duration": 18,
    "start_time": "2022-07-22T12:33:26.834Z"
   },
   {
    "duration": 17,
    "start_time": "2022-07-22T12:33:26.861Z"
   },
   {
    "duration": 18,
    "start_time": "2022-07-22T12:33:26.879Z"
   },
   {
    "duration": 236,
    "start_time": "2022-07-22T12:33:26.898Z"
   },
   {
    "duration": 7,
    "start_time": "2022-07-22T12:33:27.155Z"
   },
   {
    "duration": 10,
    "start_time": "2022-07-22T12:33:27.164Z"
   },
   {
    "duration": 11,
    "start_time": "2022-07-22T12:33:27.176Z"
   },
   {
    "duration": 15,
    "start_time": "2022-07-22T12:33:27.189Z"
   },
   {
    "duration": 279,
    "start_time": "2022-07-22T12:33:27.206Z"
   },
   {
    "duration": 8,
    "start_time": "2022-07-22T12:33:27.487Z"
   },
   {
    "duration": 18,
    "start_time": "2022-07-22T12:33:27.497Z"
   },
   {
    "duration": 11,
    "start_time": "2022-07-22T12:33:27.517Z"
   },
   {
    "duration": 200,
    "start_time": "2022-07-22T12:33:27.530Z"
   },
   {
    "duration": 29,
    "start_time": "2022-07-22T12:33:27.732Z"
   },
   {
    "duration": 8,
    "start_time": "2022-07-22T12:33:27.763Z"
   },
   {
    "duration": 7,
    "start_time": "2022-07-22T12:33:27.773Z"
   },
   {
    "duration": 8,
    "start_time": "2022-07-22T12:33:27.782Z"
   },
   {
    "duration": 8,
    "start_time": "2022-07-22T12:33:27.792Z"
   },
   {
    "duration": 7,
    "start_time": "2022-07-22T12:33:27.802Z"
   },
   {
    "duration": 9,
    "start_time": "2022-07-22T12:33:27.810Z"
   },
   {
    "duration": 18,
    "start_time": "2022-07-22T12:33:27.820Z"
   },
   {
    "duration": 24,
    "start_time": "2022-07-22T12:33:27.840Z"
   },
   {
    "duration": 16,
    "start_time": "2022-07-22T12:33:27.866Z"
   },
   {
    "duration": 10,
    "start_time": "2022-07-22T12:33:27.884Z"
   },
   {
    "duration": 8,
    "start_time": "2022-07-22T12:33:27.895Z"
   },
   {
    "duration": 10,
    "start_time": "2022-07-22T12:33:27.905Z"
   },
   {
    "duration": 7,
    "start_time": "2022-07-22T12:33:27.917Z"
   },
   {
    "duration": 9,
    "start_time": "2022-07-22T12:33:27.926Z"
   },
   {
    "duration": 11,
    "start_time": "2022-07-22T12:33:27.937Z"
   },
   {
    "duration": 15,
    "start_time": "2022-07-22T12:33:27.954Z"
   },
   {
    "duration": 6,
    "start_time": "2022-07-22T12:33:27.971Z"
   },
   {
    "duration": 6,
    "start_time": "2022-07-22T12:33:27.980Z"
   },
   {
    "duration": 19,
    "start_time": "2022-07-22T12:33:27.988Z"
   },
   {
    "duration": 11,
    "start_time": "2022-07-22T12:33:28.010Z"
   },
   {
    "duration": 6,
    "start_time": "2022-07-22T12:33:28.023Z"
   },
   {
    "duration": 10,
    "start_time": "2022-07-22T12:33:28.031Z"
   },
   {
    "duration": 21,
    "start_time": "2022-07-22T12:33:28.043Z"
   },
   {
    "duration": 9,
    "start_time": "2022-07-22T12:33:28.066Z"
   },
   {
    "duration": 10,
    "start_time": "2022-07-22T12:33:28.076Z"
   },
   {
    "duration": 387,
    "start_time": "2022-07-22T12:36:13.875Z"
   },
   {
    "duration": 163,
    "start_time": "2022-07-22T12:36:49.069Z"
   },
   {
    "duration": 6,
    "start_time": "2022-07-22T12:37:35.801Z"
   },
   {
    "duration": 5,
    "start_time": "2022-07-22T12:50:19.737Z"
   },
   {
    "duration": 6,
    "start_time": "2022-07-22T12:50:45.772Z"
   },
   {
    "duration": 14,
    "start_time": "2022-07-22T12:50:57.743Z"
   },
   {
    "duration": 82,
    "start_time": "2022-07-22T12:53:16.536Z"
   },
   {
    "duration": 415,
    "start_time": "2022-07-22T12:53:21.666Z"
   },
   {
    "duration": 5,
    "start_time": "2022-07-22T12:53:30.872Z"
   },
   {
    "duration": 319,
    "start_time": "2022-07-22T12:53:32.204Z"
   },
   {
    "duration": 396,
    "start_time": "2022-07-22T12:54:22.940Z"
   },
   {
    "duration": 359,
    "start_time": "2022-07-22T12:54:49.681Z"
   },
   {
    "duration": 5,
    "start_time": "2022-07-22T12:57:58.706Z"
   },
   {
    "duration": 394,
    "start_time": "2022-07-22T12:57:59.339Z"
   },
   {
    "duration": 6,
    "start_time": "2022-07-22T12:58:49.211Z"
   },
   {
    "duration": 404,
    "start_time": "2022-07-22T12:58:49.988Z"
   },
   {
    "duration": 4,
    "start_time": "2022-07-22T12:59:06.993Z"
   },
   {
    "duration": 574,
    "start_time": "2022-07-22T12:59:08.995Z"
   },
   {
    "duration": 417,
    "start_time": "2022-07-22T13:00:31.098Z"
   },
   {
    "duration": 406,
    "start_time": "2022-07-22T13:00:40.644Z"
   },
   {
    "duration": 403,
    "start_time": "2022-07-22T13:00:45.382Z"
   },
   {
    "duration": 6,
    "start_time": "2022-07-22T13:10:34.209Z"
   },
   {
    "duration": 12,
    "start_time": "2022-07-22T13:10:36.376Z"
   },
   {
    "duration": 6,
    "start_time": "2022-07-22T13:10:39.399Z"
   },
   {
    "duration": 15,
    "start_time": "2022-07-22T13:10:41.870Z"
   },
   {
    "duration": 13,
    "start_time": "2022-07-22T13:10:49.082Z"
   },
   {
    "duration": 11,
    "start_time": "2022-07-22T13:12:45.769Z"
   },
   {
    "duration": 425,
    "start_time": "2022-07-22T13:12:46.597Z"
   },
   {
    "duration": 468,
    "start_time": "2022-07-22T13:12:49.274Z"
   },
   {
    "duration": 460,
    "start_time": "2022-07-22T13:12:51.512Z"
   },
   {
    "duration": 7,
    "start_time": "2022-07-22T13:13:13.671Z"
   },
   {
    "duration": 618,
    "start_time": "2022-07-22T13:13:15.119Z"
   },
   {
    "duration": 436,
    "start_time": "2022-07-22T13:13:16.397Z"
   },
   {
    "duration": 427,
    "start_time": "2022-07-22T13:13:17.579Z"
   },
   {
    "duration": 4,
    "start_time": "2022-07-22T13:23:57.102Z"
   },
   {
    "duration": 3,
    "start_time": "2022-07-22T13:24:02.774Z"
   },
   {
    "duration": 5,
    "start_time": "2022-07-22T13:24:13.094Z"
   },
   {
    "duration": 8,
    "start_time": "2022-07-22T13:24:18.576Z"
   },
   {
    "duration": 3,
    "start_time": "2022-07-22T13:25:14.065Z"
   },
   {
    "duration": 6,
    "start_time": "2022-07-22T13:25:14.575Z"
   },
   {
    "duration": 7,
    "start_time": "2022-07-22T13:25:15.278Z"
   },
   {
    "duration": 4,
    "start_time": "2022-07-22T13:25:36.193Z"
   },
   {
    "duration": 4,
    "start_time": "2022-07-22T13:25:36.627Z"
   },
   {
    "duration": 7,
    "start_time": "2022-07-22T13:25:44.167Z"
   },
   {
    "duration": 3,
    "start_time": "2022-07-22T13:28:03.797Z"
   },
   {
    "duration": 4,
    "start_time": "2022-07-22T13:28:04.008Z"
   },
   {
    "duration": 4,
    "start_time": "2022-07-22T13:31:02.777Z"
   },
   {
    "duration": 10,
    "start_time": "2022-07-22T13:31:03.175Z"
   },
   {
    "duration": 2,
    "start_time": "2022-07-22T13:31:15.787Z"
   },
   {
    "duration": 6,
    "start_time": "2022-07-22T13:31:16.177Z"
   },
   {
    "duration": 3,
    "start_time": "2022-07-22T13:31:43.620Z"
   },
   {
    "duration": 3,
    "start_time": "2022-07-22T13:31:43.995Z"
   },
   {
    "duration": 5,
    "start_time": "2022-07-22T13:31:45.764Z"
   },
   {
    "duration": 6,
    "start_time": "2022-07-22T13:31:46.072Z"
   },
   {
    "duration": 4,
    "start_time": "2022-07-22T13:31:46.727Z"
   },
   {
    "duration": 5,
    "start_time": "2022-07-22T13:31:50.187Z"
   },
   {
    "duration": 5,
    "start_time": "2022-07-22T13:31:50.581Z"
   },
   {
    "duration": 4,
    "start_time": "2022-07-22T13:31:51.011Z"
   },
   {
    "duration": 2,
    "start_time": "2022-07-22T13:31:51.806Z"
   },
   {
    "duration": 8,
    "start_time": "2022-07-22T13:31:52.176Z"
   },
   {
    "duration": 9,
    "start_time": "2022-07-22T13:31:56.568Z"
   },
   {
    "duration": 6,
    "start_time": "2022-07-22T13:31:56.877Z"
   },
   {
    "duration": 3,
    "start_time": "2022-07-22T13:31:57.222Z"
   },
   {
    "duration": 9,
    "start_time": "2022-07-22T13:31:57.577Z"
   },
   {
    "duration": 5,
    "start_time": "2022-07-22T13:31:58.701Z"
   },
   {
    "duration": 7,
    "start_time": "2022-07-22T13:33:49.030Z"
   },
   {
    "duration": 3,
    "start_time": "2022-07-22T14:54:47.556Z"
   },
   {
    "duration": 4,
    "start_time": "2022-07-22T14:54:48.318Z"
   },
   {
    "duration": 86,
    "start_time": "2022-07-22T15:05:09.456Z"
   },
   {
    "duration": 3,
    "start_time": "2022-07-22T15:18:52.279Z"
   },
   {
    "duration": 70,
    "start_time": "2022-07-22T15:18:52.284Z"
   },
   {
    "duration": 19,
    "start_time": "2022-07-22T15:18:52.356Z"
   },
   {
    "duration": 3,
    "start_time": "2022-07-22T15:18:52.378Z"
   },
   {
    "duration": 11,
    "start_time": "2022-07-22T15:18:52.383Z"
   },
   {
    "duration": 11,
    "start_time": "2022-07-22T15:18:52.396Z"
   },
   {
    "duration": 44,
    "start_time": "2022-07-22T15:18:52.409Z"
   },
   {
    "duration": 13,
    "start_time": "2022-07-22T15:18:52.455Z"
   },
   {
    "duration": 5,
    "start_time": "2022-07-22T15:18:52.470Z"
   },
   {
    "duration": 20,
    "start_time": "2022-07-22T15:18:52.477Z"
   },
   {
    "duration": 8,
    "start_time": "2022-07-22T15:18:52.499Z"
   },
   {
    "duration": 13,
    "start_time": "2022-07-22T15:18:52.508Z"
   },
   {
    "duration": 34,
    "start_time": "2022-07-22T15:18:52.523Z"
   },
   {
    "duration": 5,
    "start_time": "2022-07-22T15:18:52.559Z"
   },
   {
    "duration": 182,
    "start_time": "2022-07-22T15:18:52.566Z"
   },
   {
    "duration": 285,
    "start_time": "2022-07-22T15:18:52.750Z"
   },
   {
    "duration": 13,
    "start_time": "2022-07-22T15:18:53.036Z"
   },
   {
    "duration": 6,
    "start_time": "2022-07-22T15:18:53.051Z"
   },
   {
    "duration": 290,
    "start_time": "2022-07-22T15:18:53.059Z"
   },
   {
    "duration": 15,
    "start_time": "2022-07-22T15:18:53.350Z"
   },
   {
    "duration": 35,
    "start_time": "2022-07-22T15:18:53.366Z"
   },
   {
    "duration": 267,
    "start_time": "2022-07-22T15:18:53.403Z"
   },
   {
    "duration": 262,
    "start_time": "2022-07-22T15:18:53.672Z"
   },
   {
    "duration": 196,
    "start_time": "2022-07-22T15:18:53.938Z"
   },
   {
    "duration": 181,
    "start_time": "2022-07-22T15:18:54.135Z"
   },
   {
    "duration": 6,
    "start_time": "2022-07-22T15:18:54.318Z"
   },
   {
    "duration": 29,
    "start_time": "2022-07-22T15:18:54.325Z"
   },
   {
    "duration": 329,
    "start_time": "2022-07-22T15:18:54.355Z"
   },
   {
    "duration": 184,
    "start_time": "2022-07-22T15:18:54.686Z"
   },
   {
    "duration": 6,
    "start_time": "2022-07-22T15:18:54.873Z"
   },
   {
    "duration": 19,
    "start_time": "2022-07-22T15:18:54.881Z"
   },
   {
    "duration": 304,
    "start_time": "2022-07-22T15:18:54.901Z"
   },
   {
    "duration": 289,
    "start_time": "2022-07-22T15:18:55.207Z"
   },
   {
    "duration": 11,
    "start_time": "2022-07-22T15:18:55.498Z"
   },
   {
    "duration": 10,
    "start_time": "2022-07-22T15:18:55.511Z"
   },
   {
    "duration": 27,
    "start_time": "2022-07-22T15:18:55.523Z"
   },
   {
    "duration": 7,
    "start_time": "2022-07-22T15:18:55.551Z"
   },
   {
    "duration": 19,
    "start_time": "2022-07-22T15:18:55.559Z"
   },
   {
    "duration": 247,
    "start_time": "2022-07-22T15:18:55.580Z"
   },
   {
    "duration": 4,
    "start_time": "2022-07-22T15:18:55.829Z"
   },
   {
    "duration": 408,
    "start_time": "2022-07-22T15:18:55.835Z"
   },
   {
    "duration": 376,
    "start_time": "2022-07-22T15:18:56.244Z"
   },
   {
    "duration": 366,
    "start_time": "2022-07-22T15:18:56.621Z"
   },
   {
    "duration": 7,
    "start_time": "2022-07-22T15:18:56.988Z"
   },
   {
    "duration": 24,
    "start_time": "2022-07-22T15:18:56.996Z"
   },
   {
    "duration": 23,
    "start_time": "2022-07-22T15:18:57.022Z"
   },
   {
    "duration": 29,
    "start_time": "2022-07-22T15:18:57.046Z"
   },
   {
    "duration": 286,
    "start_time": "2022-07-22T15:18:57.077Z"
   },
   {
    "duration": 7,
    "start_time": "2022-07-22T15:18:57.364Z"
   },
   {
    "duration": 13,
    "start_time": "2022-07-22T15:18:57.373Z"
   },
   {
    "duration": 7,
    "start_time": "2022-07-22T15:18:57.388Z"
   },
   {
    "duration": 326,
    "start_time": "2022-07-22T15:18:57.396Z"
   },
   {
    "duration": 10,
    "start_time": "2022-07-22T15:18:57.723Z"
   },
   {
    "duration": 11,
    "start_time": "2022-07-22T15:18:57.734Z"
   },
   {
    "duration": 5,
    "start_time": "2022-07-22T15:18:57.747Z"
   },
   {
    "duration": 6,
    "start_time": "2022-07-22T15:18:57.754Z"
   },
   {
    "duration": 6,
    "start_time": "2022-07-22T15:18:57.761Z"
   },
   {
    "duration": 7,
    "start_time": "2022-07-22T15:18:57.768Z"
   },
   {
    "duration": 6,
    "start_time": "2022-07-22T15:18:57.776Z"
   },
   {
    "duration": 8,
    "start_time": "2022-07-22T15:18:57.783Z"
   },
   {
    "duration": 8,
    "start_time": "2022-07-22T15:18:57.792Z"
   },
   {
    "duration": 7,
    "start_time": "2022-07-22T15:18:57.801Z"
   },
   {
    "duration": 13,
    "start_time": "2022-07-22T15:18:57.810Z"
   },
   {
    "duration": 6,
    "start_time": "2022-07-22T15:18:57.825Z"
   },
   {
    "duration": 12,
    "start_time": "2022-07-22T15:18:57.833Z"
   },
   {
    "duration": 10,
    "start_time": "2022-07-22T15:18:57.847Z"
   },
   {
    "duration": 14,
    "start_time": "2022-07-22T15:18:57.859Z"
   },
   {
    "duration": 9,
    "start_time": "2022-07-22T15:18:57.874Z"
   },
   {
    "duration": 4,
    "start_time": "2022-07-22T15:18:57.887Z"
   },
   {
    "duration": 6,
    "start_time": "2022-07-22T15:18:57.892Z"
   },
   {
    "duration": 9,
    "start_time": "2022-07-22T15:18:57.899Z"
   },
   {
    "duration": 9,
    "start_time": "2022-07-22T15:18:57.910Z"
   },
   {
    "duration": 175,
    "start_time": "2022-07-22T15:20:30.965Z"
   },
   {
    "duration": 3,
    "start_time": "2022-07-22T15:20:43.336Z"
   },
   {
    "duration": 71,
    "start_time": "2022-07-22T15:20:43.341Z"
   },
   {
    "duration": 14,
    "start_time": "2022-07-22T15:20:43.414Z"
   },
   {
    "duration": 15,
    "start_time": "2022-07-22T15:20:43.430Z"
   },
   {
    "duration": 25,
    "start_time": "2022-07-22T15:20:43.447Z"
   },
   {
    "duration": 22,
    "start_time": "2022-07-22T15:20:43.473Z"
   },
   {
    "duration": 11,
    "start_time": "2022-07-22T15:20:43.496Z"
   },
   {
    "duration": 12,
    "start_time": "2022-07-22T15:20:43.509Z"
   },
   {
    "duration": 5,
    "start_time": "2022-07-22T15:20:43.523Z"
   },
   {
    "duration": 21,
    "start_time": "2022-07-22T15:20:43.530Z"
   },
   {
    "duration": 8,
    "start_time": "2022-07-22T15:20:43.553Z"
   },
   {
    "duration": 7,
    "start_time": "2022-07-22T15:20:43.562Z"
   },
   {
    "duration": 13,
    "start_time": "2022-07-22T15:20:43.571Z"
   },
   {
    "duration": 7,
    "start_time": "2022-07-22T15:20:43.585Z"
   },
   {
    "duration": 180,
    "start_time": "2022-07-22T15:20:43.594Z"
   },
   {
    "duration": 295,
    "start_time": "2022-07-22T15:20:43.776Z"
   },
   {
    "duration": 11,
    "start_time": "2022-07-22T15:20:44.073Z"
   },
   {
    "duration": 6,
    "start_time": "2022-07-22T15:20:44.086Z"
   },
   {
    "duration": 335,
    "start_time": "2022-07-22T15:20:44.093Z"
   },
   {
    "duration": 17,
    "start_time": "2022-07-22T15:20:44.430Z"
   },
   {
    "duration": 35,
    "start_time": "2022-07-22T15:20:44.448Z"
   },
   {
    "duration": 259,
    "start_time": "2022-07-22T15:20:44.485Z"
   },
   {
    "duration": 245,
    "start_time": "2022-07-22T15:20:44.746Z"
   },
   {
    "duration": 174,
    "start_time": "2022-07-22T15:20:44.994Z"
   },
   {
    "duration": 166,
    "start_time": "2022-07-22T15:20:45.170Z"
   },
   {
    "duration": 8,
    "start_time": "2022-07-22T15:20:45.338Z"
   },
   {
    "duration": 8,
    "start_time": "2022-07-22T15:20:45.348Z"
   },
   {
    "duration": 191,
    "start_time": "2022-07-22T15:20:45.358Z"
   },
   {
    "duration": 167,
    "start_time": "2022-07-22T15:20:45.551Z"
   },
   {
    "duration": 5,
    "start_time": "2022-07-22T15:20:45.720Z"
   },
   {
    "duration": 8,
    "start_time": "2022-07-22T15:20:45.726Z"
   },
   {
    "duration": 283,
    "start_time": "2022-07-22T15:20:45.735Z"
   },
   {
    "duration": 399,
    "start_time": "2022-07-22T15:20:46.020Z"
   },
   {
    "duration": 10,
    "start_time": "2022-07-22T15:20:46.420Z"
   },
   {
    "duration": 24,
    "start_time": "2022-07-22T15:20:46.431Z"
   },
   {
    "duration": 10,
    "start_time": "2022-07-22T15:20:46.456Z"
   },
   {
    "duration": 8,
    "start_time": "2022-07-22T15:20:46.468Z"
   },
   {
    "duration": 18,
    "start_time": "2022-07-22T15:20:46.478Z"
   },
   {
    "duration": 242,
    "start_time": "2022-07-22T15:20:46.498Z"
   },
   {
    "duration": 4,
    "start_time": "2022-07-22T15:20:46.742Z"
   },
   {
    "duration": 385,
    "start_time": "2022-07-22T15:20:46.747Z"
   },
   {
    "duration": 383,
    "start_time": "2022-07-22T15:20:47.133Z"
   },
   {
    "duration": 359,
    "start_time": "2022-07-22T15:20:47.518Z"
   },
   {
    "duration": 7,
    "start_time": "2022-07-22T15:20:47.879Z"
   },
   {
    "duration": 15,
    "start_time": "2022-07-22T15:20:47.888Z"
   },
   {
    "duration": 9,
    "start_time": "2022-07-22T15:20:47.905Z"
   },
   {
    "duration": 13,
    "start_time": "2022-07-22T15:20:47.915Z"
   },
   {
    "duration": 285,
    "start_time": "2022-07-22T15:20:47.929Z"
   },
   {
    "duration": 8,
    "start_time": "2022-07-22T15:20:48.216Z"
   },
   {
    "duration": 20,
    "start_time": "2022-07-22T15:20:48.226Z"
   },
   {
    "duration": 11,
    "start_time": "2022-07-22T15:20:48.248Z"
   },
   {
    "duration": 184,
    "start_time": "2022-07-22T15:20:48.260Z"
   },
   {
    "duration": 9,
    "start_time": "2022-07-22T15:20:48.446Z"
   },
   {
    "duration": 6,
    "start_time": "2022-07-22T15:20:48.457Z"
   },
   {
    "duration": 5,
    "start_time": "2022-07-22T15:20:48.465Z"
   },
   {
    "duration": 9,
    "start_time": "2022-07-22T15:20:48.471Z"
   },
   {
    "duration": 5,
    "start_time": "2022-07-22T15:20:48.482Z"
   },
   {
    "duration": 6,
    "start_time": "2022-07-22T15:20:48.489Z"
   },
   {
    "duration": 8,
    "start_time": "2022-07-22T15:20:48.496Z"
   },
   {
    "duration": 7,
    "start_time": "2022-07-22T15:20:48.506Z"
   },
   {
    "duration": 8,
    "start_time": "2022-07-22T15:20:48.515Z"
   },
   {
    "duration": 23,
    "start_time": "2022-07-22T15:20:48.524Z"
   },
   {
    "duration": 5,
    "start_time": "2022-07-22T15:20:48.548Z"
   },
   {
    "duration": 10,
    "start_time": "2022-07-22T15:20:48.554Z"
   },
   {
    "duration": 6,
    "start_time": "2022-07-22T15:20:48.566Z"
   },
   {
    "duration": 5,
    "start_time": "2022-07-22T15:20:48.573Z"
   },
   {
    "duration": 8,
    "start_time": "2022-07-22T15:20:48.580Z"
   },
   {
    "duration": 7,
    "start_time": "2022-07-22T15:20:48.590Z"
   },
   {
    "duration": 4,
    "start_time": "2022-07-22T15:20:48.601Z"
   },
   {
    "duration": 9,
    "start_time": "2022-07-22T15:20:48.606Z"
   },
   {
    "duration": 5,
    "start_time": "2022-07-22T15:20:48.617Z"
   },
   {
    "duration": 8,
    "start_time": "2022-07-22T15:20:48.624Z"
   },
   {
    "duration": 3,
    "start_time": "2022-07-22T15:25:03.634Z"
   },
   {
    "duration": 4,
    "start_time": "2022-07-22T15:25:06.503Z"
   },
   {
    "duration": 74,
    "start_time": "2022-07-22T15:25:06.509Z"
   },
   {
    "duration": 14,
    "start_time": "2022-07-22T15:25:06.585Z"
   },
   {
    "duration": 5,
    "start_time": "2022-07-22T15:25:06.600Z"
   },
   {
    "duration": 39,
    "start_time": "2022-07-22T15:25:06.608Z"
   },
   {
    "duration": 10,
    "start_time": "2022-07-22T15:25:06.648Z"
   },
   {
    "duration": 16,
    "start_time": "2022-07-22T15:25:06.660Z"
   },
   {
    "duration": 14,
    "start_time": "2022-07-22T15:25:06.678Z"
   },
   {
    "duration": 5,
    "start_time": "2022-07-22T15:25:06.694Z"
   },
   {
    "duration": 23,
    "start_time": "2022-07-22T15:25:06.701Z"
   },
   {
    "duration": 24,
    "start_time": "2022-07-22T15:25:06.726Z"
   },
   {
    "duration": 9,
    "start_time": "2022-07-22T15:25:06.753Z"
   },
   {
    "duration": 16,
    "start_time": "2022-07-22T15:25:06.764Z"
   },
   {
    "duration": 5,
    "start_time": "2022-07-22T15:25:06.784Z"
   },
   {
    "duration": 197,
    "start_time": "2022-07-22T15:25:06.791Z"
   },
   {
    "duration": 309,
    "start_time": "2022-07-22T15:25:06.990Z"
   },
   {
    "duration": 12,
    "start_time": "2022-07-22T15:25:07.301Z"
   },
   {
    "duration": 6,
    "start_time": "2022-07-22T15:25:07.315Z"
   },
   {
    "duration": 327,
    "start_time": "2022-07-22T15:25:07.323Z"
   },
   {
    "duration": 14,
    "start_time": "2022-07-22T15:25:07.652Z"
   },
   {
    "duration": 35,
    "start_time": "2022-07-22T15:25:07.668Z"
   },
   {
    "duration": 274,
    "start_time": "2022-07-22T15:25:07.704Z"
   },
   {
    "duration": 438,
    "start_time": "2022-07-22T15:25:07.979Z"
   },
   {
    "duration": 181,
    "start_time": "2022-07-22T15:25:08.418Z"
   },
   {
    "duration": 187,
    "start_time": "2022-07-22T15:25:08.601Z"
   },
   {
    "duration": 6,
    "start_time": "2022-07-22T15:25:08.790Z"
   },
   {
    "duration": 16,
    "start_time": "2022-07-22T15:25:08.798Z"
   },
   {
    "duration": 237,
    "start_time": "2022-07-22T15:25:08.816Z"
   },
   {
    "duration": 197,
    "start_time": "2022-07-22T15:25:09.056Z"
   },
   {
    "duration": 6,
    "start_time": "2022-07-22T15:25:09.255Z"
   },
   {
    "duration": 8,
    "start_time": "2022-07-22T15:25:09.263Z"
   },
   {
    "duration": 301,
    "start_time": "2022-07-22T15:25:09.273Z"
   },
   {
    "duration": 282,
    "start_time": "2022-07-22T15:25:09.576Z"
   },
   {
    "duration": 9,
    "start_time": "2022-07-22T15:25:09.860Z"
   },
   {
    "duration": 15,
    "start_time": "2022-07-22T15:25:09.870Z"
   },
   {
    "duration": 10,
    "start_time": "2022-07-22T15:25:09.886Z"
   },
   {
    "duration": 11,
    "start_time": "2022-07-22T15:25:09.898Z"
   },
   {
    "duration": 14,
    "start_time": "2022-07-22T15:25:09.910Z"
   },
   {
    "duration": 262,
    "start_time": "2022-07-22T15:25:09.926Z"
   },
   {
    "duration": 7,
    "start_time": "2022-07-22T15:25:10.190Z"
   },
   {
    "duration": 421,
    "start_time": "2022-07-22T15:25:10.203Z"
   },
   {
    "duration": 381,
    "start_time": "2022-07-22T15:25:10.626Z"
   },
   {
    "duration": 365,
    "start_time": "2022-07-22T15:25:11.008Z"
   },
   {
    "duration": 7,
    "start_time": "2022-07-22T15:25:11.375Z"
   },
   {
    "duration": 13,
    "start_time": "2022-07-22T15:25:11.384Z"
   },
   {
    "duration": 9,
    "start_time": "2022-07-22T15:25:11.399Z"
   },
   {
    "duration": 14,
    "start_time": "2022-07-22T15:25:11.410Z"
   },
   {
    "duration": 301,
    "start_time": "2022-07-22T15:25:11.425Z"
   },
   {
    "duration": 6,
    "start_time": "2022-07-22T15:25:11.728Z"
   },
   {
    "duration": 10,
    "start_time": "2022-07-22T15:25:11.746Z"
   },
   {
    "duration": 25,
    "start_time": "2022-07-22T15:25:11.758Z"
   },
   {
    "duration": 202,
    "start_time": "2022-07-22T15:25:11.785Z"
   },
   {
    "duration": 10,
    "start_time": "2022-07-22T15:25:11.989Z"
   },
   {
    "duration": 11,
    "start_time": "2022-07-22T15:25:12.001Z"
   },
   {
    "duration": 12,
    "start_time": "2022-07-22T15:25:12.014Z"
   },
   {
    "duration": 16,
    "start_time": "2022-07-22T15:25:12.027Z"
   },
   {
    "duration": 27,
    "start_time": "2022-07-22T15:25:12.045Z"
   },
   {
    "duration": 32,
    "start_time": "2022-07-22T15:25:12.074Z"
   },
   {
    "duration": 13,
    "start_time": "2022-07-22T15:25:12.108Z"
   },
   {
    "duration": 23,
    "start_time": "2022-07-22T15:25:12.122Z"
   },
   {
    "duration": 9,
    "start_time": "2022-07-22T15:25:12.147Z"
   },
   {
    "duration": 20,
    "start_time": "2022-07-22T15:25:12.157Z"
   },
   {
    "duration": 18,
    "start_time": "2022-07-22T15:25:12.179Z"
   },
   {
    "duration": 38,
    "start_time": "2022-07-22T15:25:12.198Z"
   },
   {
    "duration": 10,
    "start_time": "2022-07-22T15:25:12.237Z"
   },
   {
    "duration": 19,
    "start_time": "2022-07-22T15:25:12.249Z"
   },
   {
    "duration": 17,
    "start_time": "2022-07-22T15:25:12.269Z"
   },
   {
    "duration": 11,
    "start_time": "2022-07-22T15:25:12.288Z"
   },
   {
    "duration": 9,
    "start_time": "2022-07-22T15:25:12.300Z"
   },
   {
    "duration": 13,
    "start_time": "2022-07-22T15:25:12.311Z"
   },
   {
    "duration": 12,
    "start_time": "2022-07-22T15:25:12.325Z"
   },
   {
    "duration": 10,
    "start_time": "2022-07-22T15:25:12.338Z"
   },
   {
    "duration": 5,
    "start_time": "2022-07-22T15:30:30.597Z"
   },
   {
    "duration": 566,
    "start_time": "2022-07-22T15:30:31.579Z"
   },
   {
    "duration": 4,
    "start_time": "2022-07-22T15:30:38.993Z"
   },
   {
    "duration": 102,
    "start_time": "2022-07-22T15:30:39.000Z"
   },
   {
    "duration": 20,
    "start_time": "2022-07-22T15:30:39.104Z"
   },
   {
    "duration": 21,
    "start_time": "2022-07-22T15:30:39.126Z"
   },
   {
    "duration": 25,
    "start_time": "2022-07-22T15:30:39.149Z"
   },
   {
    "duration": 14,
    "start_time": "2022-07-22T15:30:39.176Z"
   },
   {
    "duration": 12,
    "start_time": "2022-07-22T15:30:39.192Z"
   },
   {
    "duration": 26,
    "start_time": "2022-07-22T15:30:39.206Z"
   },
   {
    "duration": 5,
    "start_time": "2022-07-22T15:30:39.234Z"
   },
   {
    "duration": 21,
    "start_time": "2022-07-22T15:30:39.245Z"
   },
   {
    "duration": 8,
    "start_time": "2022-07-22T15:30:39.267Z"
   },
   {
    "duration": 11,
    "start_time": "2022-07-22T15:30:39.277Z"
   },
   {
    "duration": 22,
    "start_time": "2022-07-22T15:30:39.290Z"
   },
   {
    "duration": 6,
    "start_time": "2022-07-22T15:30:39.313Z"
   },
   {
    "duration": 190,
    "start_time": "2022-07-22T15:30:39.321Z"
   },
   {
    "duration": 283,
    "start_time": "2022-07-22T15:30:39.513Z"
   },
   {
    "duration": 11,
    "start_time": "2022-07-22T15:30:39.797Z"
   },
   {
    "duration": 6,
    "start_time": "2022-07-22T15:30:39.810Z"
   },
   {
    "duration": 298,
    "start_time": "2022-07-22T15:30:39.818Z"
   },
   {
    "duration": 14,
    "start_time": "2022-07-22T15:30:40.117Z"
   },
   {
    "duration": 33,
    "start_time": "2022-07-22T15:30:40.146Z"
   },
   {
    "duration": 250,
    "start_time": "2022-07-22T15:30:40.180Z"
   },
   {
    "duration": 241,
    "start_time": "2022-07-22T15:30:40.432Z"
   },
   {
    "duration": 177,
    "start_time": "2022-07-22T15:30:40.675Z"
   },
   {
    "duration": 160,
    "start_time": "2022-07-22T15:30:40.853Z"
   },
   {
    "duration": 5,
    "start_time": "2022-07-22T15:30:41.015Z"
   },
   {
    "duration": 9,
    "start_time": "2022-07-22T15:30:41.022Z"
   },
   {
    "duration": 166,
    "start_time": "2022-07-22T15:30:41.048Z"
   },
   {
    "duration": 174,
    "start_time": "2022-07-22T15:30:41.216Z"
   },
   {
    "duration": 6,
    "start_time": "2022-07-22T15:30:41.392Z"
   },
   {
    "duration": 27,
    "start_time": "2022-07-22T15:30:41.399Z"
   },
   {
    "duration": 281,
    "start_time": "2022-07-22T15:30:41.428Z"
   },
   {
    "duration": 278,
    "start_time": "2022-07-22T15:30:41.710Z"
   },
   {
    "duration": 8,
    "start_time": "2022-07-22T15:30:41.990Z"
   },
   {
    "duration": 28,
    "start_time": "2022-07-22T15:30:42.000Z"
   },
   {
    "duration": 49,
    "start_time": "2022-07-22T15:30:42.030Z"
   },
   {
    "duration": 26,
    "start_time": "2022-07-22T15:30:42.080Z"
   },
   {
    "duration": 36,
    "start_time": "2022-07-22T15:30:42.108Z"
   },
   {
    "duration": 269,
    "start_time": "2022-07-22T15:30:42.145Z"
   },
   {
    "duration": 4,
    "start_time": "2022-07-22T15:30:42.416Z"
   },
   {
    "duration": 402,
    "start_time": "2022-07-22T15:30:42.422Z"
   },
   {
    "duration": 557,
    "start_time": "2022-07-22T15:30:42.826Z"
   },
   {
    "duration": 360,
    "start_time": "2022-07-22T15:30:43.384Z"
   },
   {
    "duration": 7,
    "start_time": "2022-07-22T15:30:43.746Z"
   },
   {
    "duration": 8,
    "start_time": "2022-07-22T15:30:43.754Z"
   },
   {
    "duration": 7,
    "start_time": "2022-07-22T15:30:43.764Z"
   },
   {
    "duration": 15,
    "start_time": "2022-07-22T15:30:43.772Z"
   },
   {
    "duration": 317,
    "start_time": "2022-07-22T15:30:43.788Z"
   },
   {
    "duration": 8,
    "start_time": "2022-07-22T15:30:44.106Z"
   },
   {
    "duration": 14,
    "start_time": "2022-07-22T15:30:44.116Z"
   },
   {
    "duration": 14,
    "start_time": "2022-07-22T15:30:44.132Z"
   },
   {
    "duration": 189,
    "start_time": "2022-07-22T15:30:44.148Z"
   },
   {
    "duration": 12,
    "start_time": "2022-07-22T15:30:44.338Z"
   },
   {
    "duration": 10,
    "start_time": "2022-07-22T15:30:44.352Z"
   },
   {
    "duration": 8,
    "start_time": "2022-07-22T15:30:44.364Z"
   },
   {
    "duration": 7,
    "start_time": "2022-07-22T15:30:44.374Z"
   },
   {
    "duration": 7,
    "start_time": "2022-07-22T15:30:44.383Z"
   },
   {
    "duration": 7,
    "start_time": "2022-07-22T15:30:44.391Z"
   },
   {
    "duration": 13,
    "start_time": "2022-07-22T15:30:44.399Z"
   },
   {
    "duration": 11,
    "start_time": "2022-07-22T15:30:44.413Z"
   },
   {
    "duration": 12,
    "start_time": "2022-07-22T15:30:44.426Z"
   },
   {
    "duration": 11,
    "start_time": "2022-07-22T15:30:44.440Z"
   },
   {
    "duration": 9,
    "start_time": "2022-07-22T15:30:44.453Z"
   },
   {
    "duration": 8,
    "start_time": "2022-07-22T15:30:44.464Z"
   },
   {
    "duration": 10,
    "start_time": "2022-07-22T15:30:44.473Z"
   },
   {
    "duration": 7,
    "start_time": "2022-07-22T15:30:44.485Z"
   },
   {
    "duration": 10,
    "start_time": "2022-07-22T15:30:44.493Z"
   },
   {
    "duration": 8,
    "start_time": "2022-07-22T15:30:44.504Z"
   },
   {
    "duration": 6,
    "start_time": "2022-07-22T15:30:44.513Z"
   },
   {
    "duration": 5,
    "start_time": "2022-07-22T15:30:44.521Z"
   },
   {
    "duration": 7,
    "start_time": "2022-07-22T15:30:44.527Z"
   },
   {
    "duration": 12,
    "start_time": "2022-07-22T15:30:44.535Z"
   },
   {
    "duration": 5,
    "start_time": "2022-07-22T15:32:11.948Z"
   },
   {
    "duration": 5,
    "start_time": "2022-07-22T15:32:16.813Z"
   },
   {
    "duration": 4,
    "start_time": "2022-07-22T15:32:20.766Z"
   },
   {
    "duration": 70,
    "start_time": "2022-07-22T15:32:20.772Z"
   },
   {
    "duration": 13,
    "start_time": "2022-07-22T15:32:20.844Z"
   },
   {
    "duration": 16,
    "start_time": "2022-07-22T15:32:20.859Z"
   },
   {
    "duration": 17,
    "start_time": "2022-07-22T15:32:20.876Z"
   },
   {
    "duration": 10,
    "start_time": "2022-07-22T15:32:20.895Z"
   },
   {
    "duration": 24,
    "start_time": "2022-07-22T15:32:20.906Z"
   },
   {
    "duration": 38,
    "start_time": "2022-07-22T15:32:20.931Z"
   },
   {
    "duration": 15,
    "start_time": "2022-07-22T15:32:20.972Z"
   },
   {
    "duration": 33,
    "start_time": "2022-07-22T15:32:20.989Z"
   },
   {
    "duration": 31,
    "start_time": "2022-07-22T15:32:21.024Z"
   },
   {
    "duration": 47,
    "start_time": "2022-07-22T15:32:21.057Z"
   },
   {
    "duration": 42,
    "start_time": "2022-07-22T15:32:21.106Z"
   },
   {
    "duration": 9,
    "start_time": "2022-07-22T15:32:21.149Z"
   },
   {
    "duration": 155,
    "start_time": "2022-07-22T15:32:21.159Z"
   },
   {
    "duration": 272,
    "start_time": "2022-07-22T15:32:21.316Z"
   },
   {
    "duration": 11,
    "start_time": "2022-07-22T15:32:21.589Z"
   },
   {
    "duration": 6,
    "start_time": "2022-07-22T15:32:21.602Z"
   },
   {
    "duration": 285,
    "start_time": "2022-07-22T15:32:21.609Z"
   },
   {
    "duration": 14,
    "start_time": "2022-07-22T15:32:21.896Z"
   },
   {
    "duration": 48,
    "start_time": "2022-07-22T15:32:21.911Z"
   },
   {
    "duration": 246,
    "start_time": "2022-07-22T15:32:21.961Z"
   },
   {
    "duration": 245,
    "start_time": "2022-07-22T15:32:22.208Z"
   },
   {
    "duration": 169,
    "start_time": "2022-07-22T15:32:22.457Z"
   },
   {
    "duration": 170,
    "start_time": "2022-07-22T15:32:22.628Z"
   },
   {
    "duration": 5,
    "start_time": "2022-07-22T15:32:22.799Z"
   },
   {
    "duration": 10,
    "start_time": "2022-07-22T15:32:22.806Z"
   },
   {
    "duration": 171,
    "start_time": "2022-07-22T15:32:22.818Z"
   },
   {
    "duration": 169,
    "start_time": "2022-07-22T15:32:22.990Z"
   },
   {
    "duration": 5,
    "start_time": "2022-07-22T15:32:23.160Z"
   },
   {
    "duration": 14,
    "start_time": "2022-07-22T15:32:23.167Z"
   },
   {
    "duration": 268,
    "start_time": "2022-07-22T15:32:23.182Z"
   },
   {
    "duration": 269,
    "start_time": "2022-07-22T15:32:23.452Z"
   },
   {
    "duration": 8,
    "start_time": "2022-07-22T15:32:23.723Z"
   },
   {
    "duration": 14,
    "start_time": "2022-07-22T15:32:23.732Z"
   },
   {
    "duration": 5,
    "start_time": "2022-07-22T15:32:23.748Z"
   },
   {
    "duration": 8,
    "start_time": "2022-07-22T15:32:23.755Z"
   },
   {
    "duration": 12,
    "start_time": "2022-07-22T15:32:23.764Z"
   },
   {
    "duration": 286,
    "start_time": "2022-07-22T15:32:23.777Z"
   },
   {
    "duration": 4,
    "start_time": "2022-07-22T15:32:24.065Z"
   },
   {
    "duration": 588,
    "start_time": "2022-07-22T15:32:24.071Z"
   },
   {
    "duration": 376,
    "start_time": "2022-07-22T15:32:24.661Z"
   },
   {
    "duration": 375,
    "start_time": "2022-07-22T15:32:25.038Z"
   },
   {
    "duration": 7,
    "start_time": "2022-07-22T15:32:25.415Z"
   },
   {
    "duration": 12,
    "start_time": "2022-07-22T15:32:25.423Z"
   },
   {
    "duration": 13,
    "start_time": "2022-07-22T15:32:25.436Z"
   },
   {
    "duration": 13,
    "start_time": "2022-07-22T15:32:25.451Z"
   },
   {
    "duration": 289,
    "start_time": "2022-07-22T15:32:25.466Z"
   },
   {
    "duration": 8,
    "start_time": "2022-07-22T15:32:25.757Z"
   },
   {
    "duration": 17,
    "start_time": "2022-07-22T15:32:25.767Z"
   },
   {
    "duration": 8,
    "start_time": "2022-07-22T15:32:25.786Z"
   },
   {
    "duration": 194,
    "start_time": "2022-07-22T15:32:25.795Z"
   },
   {
    "duration": 10,
    "start_time": "2022-07-22T15:32:25.991Z"
   },
   {
    "duration": 14,
    "start_time": "2022-07-22T15:32:26.002Z"
   },
   {
    "duration": 10,
    "start_time": "2022-07-22T15:32:26.017Z"
   },
   {
    "duration": 8,
    "start_time": "2022-07-22T15:32:26.029Z"
   },
   {
    "duration": 11,
    "start_time": "2022-07-22T15:32:26.038Z"
   },
   {
    "duration": 7,
    "start_time": "2022-07-22T15:32:26.051Z"
   },
   {
    "duration": 12,
    "start_time": "2022-07-22T15:32:26.059Z"
   },
   {
    "duration": 11,
    "start_time": "2022-07-22T15:32:26.073Z"
   },
   {
    "duration": 8,
    "start_time": "2022-07-22T15:32:26.086Z"
   },
   {
    "duration": 11,
    "start_time": "2022-07-22T15:32:26.095Z"
   },
   {
    "duration": 8,
    "start_time": "2022-07-22T15:32:26.108Z"
   },
   {
    "duration": 7,
    "start_time": "2022-07-22T15:32:26.118Z"
   },
   {
    "duration": 9,
    "start_time": "2022-07-22T15:32:26.126Z"
   },
   {
    "duration": 4,
    "start_time": "2022-07-22T15:32:26.137Z"
   },
   {
    "duration": 5,
    "start_time": "2022-07-22T15:32:26.146Z"
   },
   {
    "duration": 8,
    "start_time": "2022-07-22T15:32:26.152Z"
   },
   {
    "duration": 5,
    "start_time": "2022-07-22T15:32:26.165Z"
   },
   {
    "duration": 8,
    "start_time": "2022-07-22T15:32:26.171Z"
   },
   {
    "duration": 6,
    "start_time": "2022-07-22T15:32:26.181Z"
   },
   {
    "duration": 12,
    "start_time": "2022-07-22T15:32:26.189Z"
   },
   {
    "duration": 3,
    "start_time": "2022-07-22T15:33:26.786Z"
   },
   {
    "duration": 4,
    "start_time": "2022-07-22T15:33:32.673Z"
   },
   {
    "duration": 71,
    "start_time": "2022-07-22T15:33:32.679Z"
   },
   {
    "duration": 15,
    "start_time": "2022-07-22T15:33:32.752Z"
   },
   {
    "duration": 3,
    "start_time": "2022-07-22T15:33:32.769Z"
   },
   {
    "duration": 11,
    "start_time": "2022-07-22T15:33:32.774Z"
   },
   {
    "duration": 11,
    "start_time": "2022-07-22T15:33:32.786Z"
   },
   {
    "duration": 8,
    "start_time": "2022-07-22T15:33:32.799Z"
   },
   {
    "duration": 46,
    "start_time": "2022-07-22T15:33:32.809Z"
   },
   {
    "duration": 5,
    "start_time": "2022-07-22T15:33:32.856Z"
   },
   {
    "duration": 21,
    "start_time": "2022-07-22T15:33:32.863Z"
   },
   {
    "duration": 9,
    "start_time": "2022-07-22T15:33:32.885Z"
   },
   {
    "duration": 8,
    "start_time": "2022-07-22T15:33:32.896Z"
   },
   {
    "duration": 13,
    "start_time": "2022-07-22T15:33:32.905Z"
   },
   {
    "duration": 6,
    "start_time": "2022-07-22T15:33:32.945Z"
   },
   {
    "duration": 171,
    "start_time": "2022-07-22T15:33:32.952Z"
   },
   {
    "duration": 285,
    "start_time": "2022-07-22T15:33:33.124Z"
   },
   {
    "duration": 11,
    "start_time": "2022-07-22T15:33:33.411Z"
   },
   {
    "duration": 23,
    "start_time": "2022-07-22T15:33:33.423Z"
   },
   {
    "duration": 303,
    "start_time": "2022-07-22T15:33:33.448Z"
   },
   {
    "duration": 15,
    "start_time": "2022-07-22T15:33:33.753Z"
   },
   {
    "duration": 32,
    "start_time": "2022-07-22T15:33:33.770Z"
   },
   {
    "duration": 281,
    "start_time": "2022-07-22T15:33:33.804Z"
   },
   {
    "duration": 252,
    "start_time": "2022-07-22T15:33:34.087Z"
   },
   {
    "duration": 179,
    "start_time": "2022-07-22T15:33:34.340Z"
   },
   {
    "duration": 174,
    "start_time": "2022-07-22T15:33:34.520Z"
   },
   {
    "duration": 7,
    "start_time": "2022-07-22T15:33:34.696Z"
   },
   {
    "duration": 9,
    "start_time": "2022-07-22T15:33:34.705Z"
   },
   {
    "duration": 170,
    "start_time": "2022-07-22T15:33:34.716Z"
   },
   {
    "duration": 170,
    "start_time": "2022-07-22T15:33:34.888Z"
   },
   {
    "duration": 7,
    "start_time": "2022-07-22T15:33:35.060Z"
   },
   {
    "duration": 15,
    "start_time": "2022-07-22T15:33:35.068Z"
   },
   {
    "duration": 275,
    "start_time": "2022-07-22T15:33:35.085Z"
   },
   {
    "duration": 264,
    "start_time": "2022-07-22T15:33:35.362Z"
   },
   {
    "duration": 8,
    "start_time": "2022-07-22T15:33:35.628Z"
   },
   {
    "duration": 6,
    "start_time": "2022-07-22T15:33:35.646Z"
   },
   {
    "duration": 13,
    "start_time": "2022-07-22T15:33:35.654Z"
   },
   {
    "duration": 14,
    "start_time": "2022-07-22T15:33:35.669Z"
   },
   {
    "duration": 27,
    "start_time": "2022-07-22T15:33:35.684Z"
   },
   {
    "duration": 231,
    "start_time": "2022-07-22T15:33:35.712Z"
   },
   {
    "duration": 4,
    "start_time": "2022-07-22T15:33:35.946Z"
   },
   {
    "duration": 633,
    "start_time": "2022-07-22T15:33:35.954Z"
   },
   {
    "duration": 368,
    "start_time": "2022-07-22T15:33:36.589Z"
   },
   {
    "duration": 368,
    "start_time": "2022-07-22T15:33:36.959Z"
   },
   {
    "duration": 6,
    "start_time": "2022-07-22T15:33:37.329Z"
   },
   {
    "duration": 26,
    "start_time": "2022-07-22T15:33:37.336Z"
   },
   {
    "duration": 12,
    "start_time": "2022-07-22T15:33:37.363Z"
   },
   {
    "duration": 34,
    "start_time": "2022-07-22T15:33:37.376Z"
   },
   {
    "duration": 274,
    "start_time": "2022-07-22T15:33:37.411Z"
   },
   {
    "duration": 8,
    "start_time": "2022-07-22T15:33:37.687Z"
   },
   {
    "duration": 8,
    "start_time": "2022-07-22T15:33:37.697Z"
   },
   {
    "duration": 8,
    "start_time": "2022-07-22T15:33:37.707Z"
   },
   {
    "duration": 190,
    "start_time": "2022-07-22T15:33:37.716Z"
   },
   {
    "duration": 9,
    "start_time": "2022-07-22T15:33:37.908Z"
   },
   {
    "duration": 6,
    "start_time": "2022-07-22T15:33:37.919Z"
   },
   {
    "duration": 18,
    "start_time": "2022-07-22T15:33:37.927Z"
   },
   {
    "duration": 4,
    "start_time": "2022-07-22T15:33:37.947Z"
   },
   {
    "duration": 7,
    "start_time": "2022-07-22T15:33:37.953Z"
   },
   {
    "duration": 6,
    "start_time": "2022-07-22T15:33:37.962Z"
   },
   {
    "duration": 7,
    "start_time": "2022-07-22T15:33:37.969Z"
   },
   {
    "duration": 5,
    "start_time": "2022-07-22T15:33:37.978Z"
   },
   {
    "duration": 6,
    "start_time": "2022-07-22T15:33:37.984Z"
   },
   {
    "duration": 8,
    "start_time": "2022-07-22T15:33:37.991Z"
   },
   {
    "duration": 11,
    "start_time": "2022-07-22T15:33:38.000Z"
   },
   {
    "duration": 7,
    "start_time": "2022-07-22T15:33:38.012Z"
   },
   {
    "duration": 6,
    "start_time": "2022-07-22T15:33:38.020Z"
   },
   {
    "duration": 19,
    "start_time": "2022-07-22T15:33:38.027Z"
   },
   {
    "duration": 10,
    "start_time": "2022-07-22T15:33:38.048Z"
   },
   {
    "duration": 18,
    "start_time": "2022-07-22T15:33:38.060Z"
   },
   {
    "duration": 6,
    "start_time": "2022-07-22T15:33:38.080Z"
   },
   {
    "duration": 14,
    "start_time": "2022-07-22T15:33:38.088Z"
   },
   {
    "duration": 5,
    "start_time": "2022-07-22T15:33:38.104Z"
   },
   {
    "duration": 7,
    "start_time": "2022-07-22T15:33:38.111Z"
   },
   {
    "duration": 80,
    "start_time": "2022-07-23T10:53:21.887Z"
   },
   {
    "duration": 1502,
    "start_time": "2022-07-23T10:53:28.795Z"
   },
   {
    "duration": 102,
    "start_time": "2022-07-23T10:53:30.300Z"
   },
   {
    "duration": 42,
    "start_time": "2022-07-23T10:53:30.404Z"
   },
   {
    "duration": 19,
    "start_time": "2022-07-23T10:53:30.449Z"
   },
   {
    "duration": 38,
    "start_time": "2022-07-23T10:53:30.471Z"
   },
   {
    "duration": 58,
    "start_time": "2022-07-23T10:53:30.511Z"
   },
   {
    "duration": 72,
    "start_time": "2022-07-23T10:53:30.572Z"
   },
   {
    "duration": 35,
    "start_time": "2022-07-23T10:53:30.646Z"
   },
   {
    "duration": 6,
    "start_time": "2022-07-23T10:53:30.683Z"
   },
   {
    "duration": 67,
    "start_time": "2022-07-23T10:53:30.691Z"
   },
   {
    "duration": 10,
    "start_time": "2022-07-23T10:53:30.760Z"
   },
   {
    "duration": 17,
    "start_time": "2022-07-23T10:53:30.772Z"
   },
   {
    "duration": 34,
    "start_time": "2022-07-23T10:53:30.790Z"
   },
   {
    "duration": 27,
    "start_time": "2022-07-23T10:53:30.829Z"
   },
   {
    "duration": 206,
    "start_time": "2022-07-23T10:53:30.858Z"
   },
   {
    "duration": 340,
    "start_time": "2022-07-23T10:53:31.066Z"
   },
   {
    "duration": 37,
    "start_time": "2022-07-23T10:53:31.408Z"
   },
   {
    "duration": 21,
    "start_time": "2022-07-23T10:53:31.447Z"
   },
   {
    "duration": 397,
    "start_time": "2022-07-23T10:53:31.469Z"
   },
   {
    "duration": 21,
    "start_time": "2022-07-23T10:53:31.868Z"
   },
   {
    "duration": 96,
    "start_time": "2022-07-23T10:53:31.891Z"
   },
   {
    "duration": 344,
    "start_time": "2022-07-23T10:53:31.990Z"
   },
   {
    "duration": 325,
    "start_time": "2022-07-23T10:53:32.336Z"
   },
   {
    "duration": 125,
    "start_time": "2022-07-23T10:53:32.663Z"
   },
   {
    "duration": 0,
    "start_time": "2022-07-23T10:53:32.791Z"
   },
   {
    "duration": 0,
    "start_time": "2022-07-23T10:53:32.793Z"
   },
   {
    "duration": 0,
    "start_time": "2022-07-23T10:53:32.794Z"
   },
   {
    "duration": 0,
    "start_time": "2022-07-23T10:53:32.795Z"
   },
   {
    "duration": 0,
    "start_time": "2022-07-23T10:53:32.796Z"
   },
   {
    "duration": 0,
    "start_time": "2022-07-23T10:53:32.798Z"
   },
   {
    "duration": 0,
    "start_time": "2022-07-23T10:53:32.798Z"
   },
   {
    "duration": 0,
    "start_time": "2022-07-23T10:53:32.800Z"
   },
   {
    "duration": 0,
    "start_time": "2022-07-23T10:53:32.813Z"
   },
   {
    "duration": 0,
    "start_time": "2022-07-23T10:53:32.814Z"
   },
   {
    "duration": 0,
    "start_time": "2022-07-23T10:53:32.819Z"
   },
   {
    "duration": 0,
    "start_time": "2022-07-23T10:53:32.820Z"
   },
   {
    "duration": 0,
    "start_time": "2022-07-23T10:53:32.824Z"
   },
   {
    "duration": 0,
    "start_time": "2022-07-23T10:53:32.828Z"
   },
   {
    "duration": 0,
    "start_time": "2022-07-23T10:53:32.830Z"
   },
   {
    "duration": 0,
    "start_time": "2022-07-23T10:53:32.832Z"
   },
   {
    "duration": 0,
    "start_time": "2022-07-23T10:53:32.834Z"
   },
   {
    "duration": 0,
    "start_time": "2022-07-23T10:53:32.835Z"
   },
   {
    "duration": 0,
    "start_time": "2022-07-23T10:53:32.839Z"
   },
   {
    "duration": 0,
    "start_time": "2022-07-23T10:53:32.842Z"
   },
   {
    "duration": 0,
    "start_time": "2022-07-23T10:53:32.845Z"
   },
   {
    "duration": 0,
    "start_time": "2022-07-23T10:53:32.846Z"
   },
   {
    "duration": 0,
    "start_time": "2022-07-23T10:53:32.847Z"
   },
   {
    "duration": 0,
    "start_time": "2022-07-23T10:53:32.849Z"
   },
   {
    "duration": 0,
    "start_time": "2022-07-23T10:53:32.850Z"
   },
   {
    "duration": 0,
    "start_time": "2022-07-23T10:53:32.851Z"
   },
   {
    "duration": 0,
    "start_time": "2022-07-23T10:53:32.852Z"
   },
   {
    "duration": 0,
    "start_time": "2022-07-23T10:53:32.854Z"
   },
   {
    "duration": 0,
    "start_time": "2022-07-23T10:53:32.855Z"
   },
   {
    "duration": 0,
    "start_time": "2022-07-23T10:53:32.856Z"
   },
   {
    "duration": 0,
    "start_time": "2022-07-23T10:53:32.856Z"
   },
   {
    "duration": 0,
    "start_time": "2022-07-23T10:53:32.857Z"
   },
   {
    "duration": 1,
    "start_time": "2022-07-23T10:53:32.858Z"
   },
   {
    "duration": 0,
    "start_time": "2022-07-23T10:53:32.860Z"
   },
   {
    "duration": 0,
    "start_time": "2022-07-23T10:53:32.913Z"
   },
   {
    "duration": 0,
    "start_time": "2022-07-23T10:53:32.915Z"
   },
   {
    "duration": 0,
    "start_time": "2022-07-23T10:53:32.916Z"
   },
   {
    "duration": 0,
    "start_time": "2022-07-23T10:53:32.918Z"
   },
   {
    "duration": 0,
    "start_time": "2022-07-23T10:53:32.919Z"
   },
   {
    "duration": 0,
    "start_time": "2022-07-23T10:53:32.921Z"
   },
   {
    "duration": 0,
    "start_time": "2022-07-23T10:53:32.924Z"
   },
   {
    "duration": 0,
    "start_time": "2022-07-23T10:53:32.925Z"
   },
   {
    "duration": 0,
    "start_time": "2022-07-23T10:53:32.927Z"
   },
   {
    "duration": 0,
    "start_time": "2022-07-23T10:53:32.928Z"
   },
   {
    "duration": 0,
    "start_time": "2022-07-23T10:53:32.929Z"
   },
   {
    "duration": 0,
    "start_time": "2022-07-23T10:53:32.930Z"
   },
   {
    "duration": 0,
    "start_time": "2022-07-23T10:53:32.931Z"
   },
   {
    "duration": 0,
    "start_time": "2022-07-23T10:53:32.932Z"
   },
   {
    "duration": 0,
    "start_time": "2022-07-23T10:53:32.936Z"
   },
   {
    "duration": 20,
    "start_time": "2022-07-23T10:53:53.507Z"
   },
   {
    "duration": 192,
    "start_time": "2022-07-23T10:54:13.668Z"
   },
   {
    "duration": 53,
    "start_time": "2022-07-23T10:54:25.011Z"
   },
   {
    "duration": 6,
    "start_time": "2022-07-23T10:54:40.461Z"
   },
   {
    "duration": 13,
    "start_time": "2022-07-23T10:54:54.536Z"
   },
   {
    "duration": 263,
    "start_time": "2022-07-23T10:54:58.053Z"
   },
   {
    "duration": 7,
    "start_time": "2022-07-23T10:54:58.853Z"
   },
   {
    "duration": 8,
    "start_time": "2022-07-23T10:55:01.808Z"
   },
   {
    "duration": 206,
    "start_time": "2022-07-23T10:55:02.735Z"
   },
   {
    "duration": 198,
    "start_time": "2022-07-23T10:55:03.565Z"
   },
   {
    "duration": 18,
    "start_time": "2022-07-23T10:55:04.366Z"
   },
   {
    "duration": 8,
    "start_time": "2022-07-23T10:55:05.151Z"
   },
   {
    "duration": 6,
    "start_time": "2022-07-23T10:55:59.339Z"
   },
   {
    "duration": 1368,
    "start_time": "2022-07-23T10:56:18.869Z"
   },
   {
    "duration": 77,
    "start_time": "2022-07-23T10:56:20.243Z"
   },
   {
    "duration": 28,
    "start_time": "2022-07-23T10:56:20.322Z"
   },
   {
    "duration": 9,
    "start_time": "2022-07-23T10:56:20.352Z"
   },
   {
    "duration": 39,
    "start_time": "2022-07-23T10:56:20.363Z"
   },
   {
    "duration": 18,
    "start_time": "2022-07-23T10:56:20.404Z"
   },
   {
    "duration": 55,
    "start_time": "2022-07-23T10:56:20.424Z"
   },
   {
    "duration": 72,
    "start_time": "2022-07-23T10:56:20.481Z"
   },
   {
    "duration": 8,
    "start_time": "2022-07-23T10:56:20.556Z"
   },
   {
    "duration": 41,
    "start_time": "2022-07-23T10:56:20.566Z"
   },
   {
    "duration": 51,
    "start_time": "2022-07-23T10:56:20.610Z"
   },
   {
    "duration": 11,
    "start_time": "2022-07-23T10:56:20.663Z"
   },
   {
    "duration": 29,
    "start_time": "2022-07-23T10:56:20.676Z"
   },
   {
    "duration": 13,
    "start_time": "2022-07-23T10:56:20.709Z"
   },
   {
    "duration": 244,
    "start_time": "2022-07-23T10:56:20.725Z"
   },
   {
    "duration": 368,
    "start_time": "2022-07-23T10:56:20.971Z"
   },
   {
    "duration": 16,
    "start_time": "2022-07-23T10:56:21.342Z"
   },
   {
    "duration": 10,
    "start_time": "2022-07-23T10:56:21.361Z"
   },
   {
    "duration": 396,
    "start_time": "2022-07-23T10:56:21.373Z"
   },
   {
    "duration": 17,
    "start_time": "2022-07-23T10:56:21.772Z"
   },
   {
    "duration": 65,
    "start_time": "2022-07-23T10:56:21.792Z"
   },
   {
    "duration": 433,
    "start_time": "2022-07-23T10:56:21.860Z"
   },
   {
    "duration": 386,
    "start_time": "2022-07-23T10:56:22.296Z"
   },
   {
    "duration": 2,
    "start_time": "2022-07-23T10:56:22.684Z"
   },
   {
    "duration": 232,
    "start_time": "2022-07-23T10:56:22.688Z"
   },
   {
    "duration": 18,
    "start_time": "2022-07-23T10:56:22.922Z"
   },
   {
    "duration": 18,
    "start_time": "2022-07-23T10:56:22.942Z"
   },
   {
    "duration": 287,
    "start_time": "2022-07-23T10:56:22.965Z"
   },
   {
    "duration": 207,
    "start_time": "2022-07-23T10:56:23.254Z"
   },
   {
    "duration": 7,
    "start_time": "2022-07-23T10:56:23.463Z"
   },
   {
    "duration": 22,
    "start_time": "2022-07-23T10:56:23.472Z"
   },
   {
    "duration": 384,
    "start_time": "2022-07-23T10:56:23.496Z"
   },
   {
    "duration": 340,
    "start_time": "2022-07-23T10:56:23.882Z"
   },
   {
    "duration": 16,
    "start_time": "2022-07-23T10:56:24.225Z"
   },
   {
    "duration": 21,
    "start_time": "2022-07-23T10:56:24.243Z"
   },
   {
    "duration": 11,
    "start_time": "2022-07-23T10:56:24.266Z"
   },
   {
    "duration": 11,
    "start_time": "2022-07-23T10:56:24.279Z"
   },
   {
    "duration": 69,
    "start_time": "2022-07-23T10:56:24.292Z"
   },
   {
    "duration": 341,
    "start_time": "2022-07-23T10:56:24.363Z"
   },
   {
    "duration": 9,
    "start_time": "2022-07-23T10:56:24.706Z"
   },
   {
    "duration": 484,
    "start_time": "2022-07-23T10:56:24.722Z"
   },
   {
    "duration": 491,
    "start_time": "2022-07-23T10:56:25.208Z"
   },
   {
    "duration": 585,
    "start_time": "2022-07-23T10:56:25.701Z"
   },
   {
    "duration": 8,
    "start_time": "2022-07-23T10:56:26.288Z"
   },
   {
    "duration": 20,
    "start_time": "2022-07-23T10:56:26.298Z"
   },
   {
    "duration": 39,
    "start_time": "2022-07-23T10:56:26.319Z"
   },
   {
    "duration": 27,
    "start_time": "2022-07-23T10:56:26.360Z"
   },
   {
    "duration": 417,
    "start_time": "2022-07-23T10:56:26.389Z"
   },
   {
    "duration": 16,
    "start_time": "2022-07-23T10:56:26.808Z"
   },
   {
    "duration": 38,
    "start_time": "2022-07-23T10:56:26.826Z"
   },
   {
    "duration": 11,
    "start_time": "2022-07-23T10:56:26.866Z"
   },
   {
    "duration": 223,
    "start_time": "2022-07-23T10:56:26.879Z"
   },
   {
    "duration": 16,
    "start_time": "2022-07-23T10:56:27.105Z"
   },
   {
    "duration": 31,
    "start_time": "2022-07-23T10:56:27.124Z"
   },
   {
    "duration": 6,
    "start_time": "2022-07-23T10:56:27.157Z"
   },
   {
    "duration": 12,
    "start_time": "2022-07-23T10:56:27.165Z"
   },
   {
    "duration": 11,
    "start_time": "2022-07-23T10:56:27.178Z"
   },
   {
    "duration": 6,
    "start_time": "2022-07-23T10:56:27.192Z"
   },
   {
    "duration": 13,
    "start_time": "2022-07-23T10:56:27.200Z"
   },
   {
    "duration": 38,
    "start_time": "2022-07-23T10:56:27.216Z"
   },
   {
    "duration": 137,
    "start_time": "2022-07-23T10:56:27.256Z"
   },
   {
    "duration": 0,
    "start_time": "2022-07-23T10:56:27.395Z"
   },
   {
    "duration": 0,
    "start_time": "2022-07-23T10:56:27.397Z"
   },
   {
    "duration": 0,
    "start_time": "2022-07-23T10:56:27.399Z"
   },
   {
    "duration": 0,
    "start_time": "2022-07-23T10:56:27.400Z"
   },
   {
    "duration": 0,
    "start_time": "2022-07-23T10:56:27.401Z"
   },
   {
    "duration": 0,
    "start_time": "2022-07-23T10:56:27.403Z"
   },
   {
    "duration": 0,
    "start_time": "2022-07-23T10:56:27.404Z"
   },
   {
    "duration": 0,
    "start_time": "2022-07-23T10:56:27.405Z"
   },
   {
    "duration": 0,
    "start_time": "2022-07-23T10:56:27.410Z"
   },
   {
    "duration": 0,
    "start_time": "2022-07-23T10:56:27.411Z"
   },
   {
    "duration": 0,
    "start_time": "2022-07-23T10:56:27.413Z"
   },
   {
    "duration": 15,
    "start_time": "2022-07-23T10:59:19.189Z"
   },
   {
    "duration": 5,
    "start_time": "2022-07-23T10:59:29.542Z"
   },
   {
    "duration": 6,
    "start_time": "2022-07-23T10:59:30.278Z"
   },
   {
    "duration": 5,
    "start_time": "2022-07-23T10:59:31.055Z"
   },
   {
    "duration": 5,
    "start_time": "2022-07-23T10:59:32.439Z"
   },
   {
    "duration": 3,
    "start_time": "2022-07-23T10:59:33.139Z"
   },
   {
    "duration": 9,
    "start_time": "2022-07-23T10:59:33.606Z"
   },
   {
    "duration": 6,
    "start_time": "2022-07-23T10:59:33.938Z"
   },
   {
    "duration": 5,
    "start_time": "2022-07-23T10:59:34.573Z"
   },
   {
    "duration": 3,
    "start_time": "2022-07-23T10:59:35.426Z"
   },
   {
    "duration": 3,
    "start_time": "2022-07-23T10:59:35.746Z"
   },
   {
    "duration": 7,
    "start_time": "2022-07-23T10:59:36.198Z"
   },
   {
    "duration": 37,
    "start_time": "2022-07-23T11:04:11.436Z"
   },
   {
    "duration": 13,
    "start_time": "2022-07-23T11:04:35.331Z"
   },
   {
    "duration": 77,
    "start_time": "2022-07-23T11:06:47.398Z"
   },
   {
    "duration": 3,
    "start_time": "2022-07-23T11:06:47.694Z"
   },
   {
    "duration": 10,
    "start_time": "2022-07-23T11:06:47.973Z"
   },
   {
    "duration": 5,
    "start_time": "2022-07-23T11:06:48.278Z"
   },
   {
    "duration": 5,
    "start_time": "2022-07-23T11:06:48.590Z"
   },
   {
    "duration": 11,
    "start_time": "2022-07-23T11:06:48.911Z"
   },
   {
    "duration": 8,
    "start_time": "2022-07-23T11:06:49.398Z"
   },
   {
    "duration": 778,
    "start_time": "2022-07-23T11:06:49.913Z"
   },
   {
    "duration": 1590,
    "start_time": "2022-07-23T11:15:06.163Z"
   },
   {
    "duration": 112,
    "start_time": "2022-07-23T11:15:07.756Z"
   },
   {
    "duration": 24,
    "start_time": "2022-07-23T11:15:07.871Z"
   },
   {
    "duration": 4,
    "start_time": "2022-07-23T11:15:07.898Z"
   },
   {
    "duration": 49,
    "start_time": "2022-07-23T11:15:07.909Z"
   },
   {
    "duration": 21,
    "start_time": "2022-07-23T11:15:07.961Z"
   },
   {
    "duration": 10,
    "start_time": "2022-07-23T11:15:07.984Z"
   },
   {
    "duration": 35,
    "start_time": "2022-07-23T11:15:07.996Z"
   },
   {
    "duration": 30,
    "start_time": "2022-07-23T11:15:08.034Z"
   },
   {
    "duration": 27,
    "start_time": "2022-07-23T11:15:08.068Z"
   },
   {
    "duration": 15,
    "start_time": "2022-07-23T11:15:08.098Z"
   },
   {
    "duration": 56,
    "start_time": "2022-07-23T11:15:08.115Z"
   },
   {
    "duration": 48,
    "start_time": "2022-07-23T11:15:08.173Z"
   },
   {
    "duration": 34,
    "start_time": "2022-07-23T11:15:08.224Z"
   },
   {
    "duration": 255,
    "start_time": "2022-07-23T11:15:08.260Z"
   },
   {
    "duration": 410,
    "start_time": "2022-07-23T11:15:08.517Z"
   },
   {
    "duration": 30,
    "start_time": "2022-07-23T11:15:08.930Z"
   },
   {
    "duration": 37,
    "start_time": "2022-07-23T11:15:08.968Z"
   },
   {
    "duration": 381,
    "start_time": "2022-07-23T11:15:09.007Z"
   },
   {
    "duration": 26,
    "start_time": "2022-07-23T11:15:09.390Z"
   },
   {
    "duration": 70,
    "start_time": "2022-07-23T11:15:09.418Z"
   },
   {
    "duration": 351,
    "start_time": "2022-07-23T11:15:09.490Z"
   },
   {
    "duration": 366,
    "start_time": "2022-07-23T11:15:09.843Z"
   },
   {
    "duration": 6,
    "start_time": "2022-07-23T11:15:10.213Z"
   },
   {
    "duration": 263,
    "start_time": "2022-07-23T11:15:10.221Z"
   },
   {
    "duration": 8,
    "start_time": "2022-07-23T11:15:10.487Z"
   },
   {
    "duration": 30,
    "start_time": "2022-07-23T11:15:10.497Z"
   },
   {
    "duration": 283,
    "start_time": "2022-07-23T11:15:10.543Z"
   },
   {
    "duration": 232,
    "start_time": "2022-07-23T11:15:10.827Z"
   },
   {
    "duration": 7,
    "start_time": "2022-07-23T11:15:11.061Z"
   },
   {
    "duration": 15,
    "start_time": "2022-07-23T11:15:11.069Z"
   },
   {
    "duration": 402,
    "start_time": "2022-07-23T11:15:11.087Z"
   },
   {
    "duration": 407,
    "start_time": "2022-07-23T11:15:11.491Z"
   },
   {
    "duration": 16,
    "start_time": "2022-07-23T11:15:11.900Z"
   },
   {
    "duration": 49,
    "start_time": "2022-07-23T11:15:11.919Z"
   },
   {
    "duration": 24,
    "start_time": "2022-07-23T11:15:11.970Z"
   },
   {
    "duration": 27,
    "start_time": "2022-07-23T11:15:11.997Z"
   },
   {
    "duration": 49,
    "start_time": "2022-07-23T11:15:12.026Z"
   },
   {
    "duration": 445,
    "start_time": "2022-07-23T11:15:12.078Z"
   },
   {
    "duration": 11,
    "start_time": "2022-07-23T11:15:12.525Z"
   },
   {
    "duration": 529,
    "start_time": "2022-07-23T11:15:12.538Z"
   },
   {
    "duration": 493,
    "start_time": "2022-07-23T11:15:13.070Z"
   },
   {
    "duration": 597,
    "start_time": "2022-07-23T11:15:13.565Z"
   },
   {
    "duration": 4,
    "start_time": "2022-07-23T11:15:14.164Z"
   },
   {
    "duration": 12,
    "start_time": "2022-07-23T11:15:14.170Z"
   },
   {
    "duration": 7,
    "start_time": "2022-07-23T11:15:14.184Z"
   },
   {
    "duration": 25,
    "start_time": "2022-07-23T11:15:14.193Z"
   },
   {
    "duration": 48,
    "start_time": "2022-07-23T11:15:14.219Z"
   },
   {
    "duration": 382,
    "start_time": "2022-07-23T11:15:14.269Z"
   },
   {
    "duration": 7,
    "start_time": "2022-07-23T11:15:14.654Z"
   },
   {
    "duration": 33,
    "start_time": "2022-07-23T11:15:14.663Z"
   },
   {
    "duration": 20,
    "start_time": "2022-07-23T11:15:14.699Z"
   },
   {
    "duration": 266,
    "start_time": "2022-07-23T11:15:14.721Z"
   },
   {
    "duration": 10,
    "start_time": "2022-07-23T11:15:14.989Z"
   },
   {
    "duration": 48,
    "start_time": "2022-07-23T11:15:15.001Z"
   },
   {
    "duration": 9,
    "start_time": "2022-07-23T11:15:15.051Z"
   },
   {
    "duration": 7,
    "start_time": "2022-07-23T11:15:15.062Z"
   },
   {
    "duration": 6,
    "start_time": "2022-07-23T11:15:15.070Z"
   },
   {
    "duration": 6,
    "start_time": "2022-07-23T11:15:15.078Z"
   },
   {
    "duration": 8,
    "start_time": "2022-07-23T11:15:15.086Z"
   },
   {
    "duration": 8,
    "start_time": "2022-07-23T11:15:15.097Z"
   },
   {
    "duration": 43,
    "start_time": "2022-07-23T11:15:15.107Z"
   },
   {
    "duration": 10,
    "start_time": "2022-07-23T11:15:15.153Z"
   },
   {
    "duration": 12,
    "start_time": "2022-07-23T11:15:15.165Z"
   },
   {
    "duration": 7,
    "start_time": "2022-07-23T11:15:15.179Z"
   },
   {
    "duration": 5,
    "start_time": "2022-07-23T11:15:15.188Z"
   },
   {
    "duration": 5,
    "start_time": "2022-07-23T11:15:15.195Z"
   },
   {
    "duration": 13,
    "start_time": "2022-07-23T11:15:15.201Z"
   },
   {
    "duration": 43,
    "start_time": "2022-07-23T11:15:15.216Z"
   },
   {
    "duration": 10,
    "start_time": "2022-07-23T11:15:15.262Z"
   },
   {
    "duration": 17,
    "start_time": "2022-07-23T11:15:15.275Z"
   },
   {
    "duration": 11,
    "start_time": "2022-07-23T11:15:15.294Z"
   },
   {
    "duration": 3,
    "start_time": "2022-07-23T11:15:15.308Z"
   },
   {
    "duration": 38,
    "start_time": "2022-07-23T11:15:15.313Z"
   },
   {
    "duration": 85,
    "start_time": "2022-07-23T11:15:15.354Z"
   },
   {
    "duration": 5,
    "start_time": "2022-07-23T11:15:15.444Z"
   },
   {
    "duration": 11,
    "start_time": "2022-07-23T11:15:15.451Z"
   },
   {
    "duration": 7,
    "start_time": "2022-07-23T11:15:15.464Z"
   },
   {
    "duration": 12,
    "start_time": "2022-07-23T11:15:15.473Z"
   },
   {
    "duration": 12,
    "start_time": "2022-07-23T11:15:15.487Z"
   },
   {
    "duration": 12,
    "start_time": "2022-07-23T11:15:15.501Z"
   },
   {
    "duration": 834,
    "start_time": "2022-07-23T11:15:15.523Z"
   }
  ],
  "kernelspec": {
   "display_name": "Python 3 (ipykernel)",
   "language": "python",
   "name": "python3"
  },
  "language_info": {
   "codemirror_mode": {
    "name": "ipython",
    "version": 3
   },
   "file_extension": ".py",
   "mimetype": "text/x-python",
   "name": "python",
   "nbconvert_exporter": "python",
   "pygments_lexer": "ipython3",
   "version": "3.10.9"
  },
  "toc": {
   "base_numbering": 1,
   "nav_menu": {},
   "number_sections": true,
   "sideBar": true,
   "skip_h1_title": true,
   "title_cell": "Table of Contents",
   "title_sidebar": "Contents",
   "toc_cell": true,
   "toc_position": {
    "height": "478px",
    "left": "373px",
    "top": "111.125px",
    "width": "306px"
   },
   "toc_section_display": true,
   "toc_window_display": false
  }
 },
 "nbformat": 4,
 "nbformat_minor": 2
}
