{
 "cells": [
  {
   "cell_type": "markdown",
   "metadata": {
    "toc": true
   },
   "source": [
    "<h1>Table of Contents<span class=\"tocSkip\"></span></h1>\n",
    "<div class=\"toc\"><ul class=\"toc-item\"><li><span><a href=\"#Откройте-и-изучите-файл\" data-toc-modified-id=\"Откройте-и-изучите-файл-1\"><span class=\"toc-item-num\">1&nbsp;&nbsp;</span>Откройте и изучите файл</a></span></li><li><span><a href=\"#Разбейте-данные-на-выборки\" data-toc-modified-id=\"Разбейте-данные-на-выборки-2\"><span class=\"toc-item-num\">2&nbsp;&nbsp;</span>Разбейте данные на выборки</a></span></li><li><span><a href=\"#Исследуйте-модели\" data-toc-modified-id=\"Исследуйте-модели-3\"><span class=\"toc-item-num\">3&nbsp;&nbsp;</span>Исследуйте модели</a></span><ul class=\"toc-item\"><li><span><a href=\"#Дерево-решений\" data-toc-modified-id=\"Дерево-решений-3.1\"><span class=\"toc-item-num\">3.1&nbsp;&nbsp;</span>Дерево решений</a></span></li><li><span><a href=\"#Случайный-лес\" data-toc-modified-id=\"Случайный-лес-3.2\"><span class=\"toc-item-num\">3.2&nbsp;&nbsp;</span>Случайный лес</a></span></li><li><span><a href=\"#Логическая-регрессия\" data-toc-modified-id=\"Логическая-регрессия-3.3\"><span class=\"toc-item-num\">3.3&nbsp;&nbsp;</span>Логическая регрессия</a></span></li></ul></li><li><span><a href=\"#Проверьте-модель-на-тестовой-выборке\" data-toc-modified-id=\"Проверьте-модель-на-тестовой-выборке-4\"><span class=\"toc-item-num\">4&nbsp;&nbsp;</span>Проверьте модель на тестовой выборке</a></span><ul class=\"toc-item\"><li><span><a href=\"#Тестирование-&quot;Дерево-решений&quot;\" data-toc-modified-id=\"Тестирование-&quot;Дерево-решений&quot;-4.1\"><span class=\"toc-item-num\">4.1&nbsp;&nbsp;</span>Тестирование \"Дерево решений\"</a></span></li><li><span><a href=\"#Тестирование-&quot;Случайный-лес&quot;\" data-toc-modified-id=\"Тестирование-&quot;Случайный-лес&quot;-4.2\"><span class=\"toc-item-num\">4.2&nbsp;&nbsp;</span>Тестирование \"Случайный лес\"</a></span></li><li><span><a href=\"#Тестирование-&quot;Логическая-регрессия&quot;\" data-toc-modified-id=\"Тестирование-&quot;Логическая-регрессия&quot;-4.3\"><span class=\"toc-item-num\">4.3&nbsp;&nbsp;</span>Тестирование \"Логическая регрессия\"</a></span></li></ul></li><li><span><a href=\"#(бонус)-Проверьте-модели-на-адекватность\" data-toc-modified-id=\"(бонус)-Проверьте-модели-на-адекватность-5\"><span class=\"toc-item-num\">5&nbsp;&nbsp;</span>(бонус) Проверьте модели на адекватность</a></span></li><li><span><a href=\"#Вывод\" data-toc-modified-id=\"Вывод-6\"><span class=\"toc-item-num\">6&nbsp;&nbsp;</span>Вывод</a></span></li></ul></div>"
   ]
  },
  {
   "cell_type": "markdown",
   "metadata": {},
   "source": [
    "# Рекомендация тарифов"
   ]
  },
  {
   "cell_type": "markdown",
   "metadata": {},
   "source": [
    "В вашем распоряжении данные о поведении клиентов, которые уже перешли на эти тарифы (из проекта курса «Статистический анализ данных»). Нужно построить модель для задачи классификации, которая выберет подходящий тариф. Предобработка данных не понадобится — вы её уже сделали.\n",
    "\n",
    "Постройте модель с максимально большим значением *accuracy*. Чтобы сдать проект успешно, нужно довести долю правильных ответов по крайней мере до 0.75. Проверьте *accuracy* на тестовой выборке самостоятельно."
   ]
  },
  {
   "cell_type": "markdown",
   "metadata": {},
   "source": [
    "## Откройте и изучите файл"
   ]
  },
  {
   "cell_type": "code",
   "execution_count": 66,
   "metadata": {},
   "outputs": [],
   "source": [
    "import pandas as pd\n",
    "import numpy as np\n",
    "import matplotlib.pyplot as plt\n",
    "\n",
    "from sklearn.model_selection import train_test_split\n",
    "from sklearn.metrics import accuracy_score\n",
    "from sklearn.tree import DecisionTreeClassifier\n",
    "from sklearn.ensemble import RandomForestClassifier\n",
    "from sklearn.linear_model import LogisticRegression"
   ]
  },
  {
   "cell_type": "code",
   "execution_count": 67,
   "metadata": {
    "scrolled": true
   },
   "outputs": [
    {
     "name": "stdout",
     "output_type": "stream",
     "text": [
      "<class 'pandas.core.frame.DataFrame'>\n",
      "RangeIndex: 3214 entries, 0 to 3213\n",
      "Data columns (total 5 columns):\n",
      " #   Column    Non-Null Count  Dtype  \n",
      "---  ------    --------------  -----  \n",
      " 0   calls     3214 non-null   float64\n",
      " 1   minutes   3214 non-null   float64\n",
      " 2   messages  3214 non-null   float64\n",
      " 3   mb_used   3214 non-null   float64\n",
      " 4   is_ultra  3214 non-null   int64  \n",
      "dtypes: float64(4), int64(1)\n",
      "memory usage: 125.7 KB\n"
     ]
    }
   ],
   "source": [
    "data = pd.read_csv('/datasets/users_behavior.csv')\n",
    "data.info()"
   ]
  },
  {
   "cell_type": "code",
   "execution_count": 68,
   "metadata": {
    "scrolled": true
   },
   "outputs": [
    {
     "data": {
      "text/html": [
       "<div>\n",
       "<style scoped>\n",
       "    .dataframe tbody tr th:only-of-type {\n",
       "        vertical-align: middle;\n",
       "    }\n",
       "\n",
       "    .dataframe tbody tr th {\n",
       "        vertical-align: top;\n",
       "    }\n",
       "\n",
       "    .dataframe thead th {\n",
       "        text-align: right;\n",
       "    }\n",
       "</style>\n",
       "<table border=\"1\" class=\"dataframe\">\n",
       "  <thead>\n",
       "    <tr style=\"text-align: right;\">\n",
       "      <th></th>\n",
       "      <th>calls</th>\n",
       "      <th>minutes</th>\n",
       "      <th>messages</th>\n",
       "      <th>mb_used</th>\n",
       "      <th>is_ultra</th>\n",
       "    </tr>\n",
       "  </thead>\n",
       "  <tbody>\n",
       "    <tr>\n",
       "      <th>0</th>\n",
       "      <td>40.0</td>\n",
       "      <td>311.90</td>\n",
       "      <td>83.0</td>\n",
       "      <td>19915.42</td>\n",
       "      <td>0</td>\n",
       "    </tr>\n",
       "    <tr>\n",
       "      <th>1</th>\n",
       "      <td>85.0</td>\n",
       "      <td>516.75</td>\n",
       "      <td>56.0</td>\n",
       "      <td>22696.96</td>\n",
       "      <td>0</td>\n",
       "    </tr>\n",
       "    <tr>\n",
       "      <th>2</th>\n",
       "      <td>77.0</td>\n",
       "      <td>467.66</td>\n",
       "      <td>86.0</td>\n",
       "      <td>21060.45</td>\n",
       "      <td>0</td>\n",
       "    </tr>\n",
       "    <tr>\n",
       "      <th>3</th>\n",
       "      <td>106.0</td>\n",
       "      <td>745.53</td>\n",
       "      <td>81.0</td>\n",
       "      <td>8437.39</td>\n",
       "      <td>1</td>\n",
       "    </tr>\n",
       "    <tr>\n",
       "      <th>4</th>\n",
       "      <td>66.0</td>\n",
       "      <td>418.74</td>\n",
       "      <td>1.0</td>\n",
       "      <td>14502.75</td>\n",
       "      <td>0</td>\n",
       "    </tr>\n",
       "    <tr>\n",
       "      <th>5</th>\n",
       "      <td>58.0</td>\n",
       "      <td>344.56</td>\n",
       "      <td>21.0</td>\n",
       "      <td>15823.37</td>\n",
       "      <td>0</td>\n",
       "    </tr>\n",
       "    <tr>\n",
       "      <th>6</th>\n",
       "      <td>57.0</td>\n",
       "      <td>431.64</td>\n",
       "      <td>20.0</td>\n",
       "      <td>3738.90</td>\n",
       "      <td>1</td>\n",
       "    </tr>\n",
       "    <tr>\n",
       "      <th>7</th>\n",
       "      <td>15.0</td>\n",
       "      <td>132.40</td>\n",
       "      <td>6.0</td>\n",
       "      <td>21911.60</td>\n",
       "      <td>0</td>\n",
       "    </tr>\n",
       "    <tr>\n",
       "      <th>8</th>\n",
       "      <td>7.0</td>\n",
       "      <td>43.39</td>\n",
       "      <td>3.0</td>\n",
       "      <td>2538.67</td>\n",
       "      <td>1</td>\n",
       "    </tr>\n",
       "    <tr>\n",
       "      <th>9</th>\n",
       "      <td>90.0</td>\n",
       "      <td>665.41</td>\n",
       "      <td>38.0</td>\n",
       "      <td>17358.61</td>\n",
       "      <td>0</td>\n",
       "    </tr>\n",
       "  </tbody>\n",
       "</table>\n",
       "</div>"
      ],
      "text/plain": [
       "   calls  minutes  messages   mb_used  is_ultra\n",
       "0   40.0   311.90      83.0  19915.42         0\n",
       "1   85.0   516.75      56.0  22696.96         0\n",
       "2   77.0   467.66      86.0  21060.45         0\n",
       "3  106.0   745.53      81.0   8437.39         1\n",
       "4   66.0   418.74       1.0  14502.75         0\n",
       "5   58.0   344.56      21.0  15823.37         0\n",
       "6   57.0   431.64      20.0   3738.90         1\n",
       "7   15.0   132.40       6.0  21911.60         0\n",
       "8    7.0    43.39       3.0   2538.67         1\n",
       "9   90.0   665.41      38.0  17358.61         0"
      ]
     },
     "execution_count": 68,
     "metadata": {},
     "output_type": "execute_result"
    }
   ],
   "source": [
    "data.head(10)"
   ]
  },
  {
   "cell_type": "markdown",
   "metadata": {},
   "source": [
    "В таблице информация по 3214 пользователям с количеством звонков, минут, мегабайт и столбец, указывающий является ли пользователь владельцем тарифа Ультра. 1-Ультра, 0-Смарт."
   ]
  },
  {
   "cell_type": "markdown",
   "metadata": {},
   "source": [
    "## Разбейте данные на выборки"
   ]
  },
  {
   "cell_type": "code",
   "execution_count": 69,
   "metadata": {},
   "outputs": [
    {
     "name": "stdout",
     "output_type": "stream",
     "text": [
      "Размер тестовой выборки: (402, 5)\n",
      "Размер тренировочной выборки: (2410, 5)\n",
      "Размер валидационной выборки: (402, 5)\n"
     ]
    }
   ],
   "source": [
    "data_train, data_other = train_test_split(data, test_size=0.25, random_state=12345)\n",
    "data_test, data_valid = train_test_split(data_other, test_size=0.5, random_state=12345)\n",
    "\n",
    "print(f'Размер тестовой выборки: {data_test.shape}')\n",
    "print(f'Размер тренировочной выборки: {data_train.shape}')\n",
    "print(f'Размер валидационной выборки: {data_valid.shape}')"
   ]
  },
  {
   "cell_type": "code",
   "execution_count": 70,
   "metadata": {},
   "outputs": [],
   "source": [
    "#\n",
    "#train\n",
    "features_train = data_train.drop('is_ultra', axis=1)\n",
    "target_train = data_train['is_ultra']\n",
    "\n",
    "#test\n",
    "features_test = data_test.drop('is_ultra', axis=1)\n",
    "target_test = data_test['is_ultra']\n",
    "\n",
    "#valid\n",
    "features_valid = data_valid.drop('is_ultra', axis=1)\n",
    "target_valid = data_valid['is_ultra']"
   ]
  },
  {
   "cell_type": "markdown",
   "metadata": {},
   "source": [
    "## Исследуйте модели"
   ]
  },
  {
   "cell_type": "markdown",
   "metadata": {},
   "source": [
    "### Дерево решений"
   ]
  },
  {
   "cell_type": "code",
   "execution_count": 71,
   "metadata": {
    "scrolled": true
   },
   "outputs": [
    {
     "name": "stdout",
     "output_type": "stream",
     "text": [
      "Max_depth: 1 Accuracy: 0.736318407960199\n",
      "Max_depth: 2 Accuracy: 0.7736318407960199\n",
      "Max_depth: 3 Accuracy: 0.7786069651741293\n",
      "Max_depth: 4 Accuracy: 0.763681592039801\n",
      "Max_depth: 5 Accuracy: 0.763681592039801\n",
      "Max_depth: 6 Accuracy: 0.753731343283582\n",
      "Max_depth: 7 Accuracy: 0.7910447761194029\n",
      "Max_depth: 8 Accuracy: 0.7935323383084577\n",
      "Max_depth: 9 Accuracy: 0.7985074626865671\n",
      "Max_depth: 10 Accuracy: 0.7935323383084577\n",
      "Max_depth: 11 Accuracy: 0.7960199004975125\n",
      "Max_depth: 12 Accuracy: 0.7835820895522388\n",
      "Max_depth: 13 Accuracy: 0.7786069651741293\n",
      "Max_depth: 14 Accuracy: 0.763681592039801\n",
      "Max_depth: 15 Accuracy: 0.7711442786069652\n",
      "Max_depth: 16 Accuracy: 0.7587064676616916\n",
      "Max_depth: 17 Accuracy: 0.7437810945273632\n",
      "Max_depth: 18 Accuracy: 0.7313432835820896\n",
      "Max_depth: 19 Accuracy: 0.7189054726368159\n",
      "Max_depth: 20 Accuracy: 0.7388059701492538\n",
      "Max_depth: 21 Accuracy: 0.7263681592039801\n",
      "Max_depth: 22 Accuracy: 0.7164179104477612\n",
      "Max_depth: 23 Accuracy: 0.7189054726368159\n",
      "Max_depth: 24 Accuracy: 0.7213930348258707\n",
      "Max_depth: 25 Accuracy: 0.7213930348258707\n"
     ]
    }
   ],
   "source": [
    "for depth in range(1,26):\n",
    "    model_tree = DecisionTreeClassifier(random_state=12345, max_depth=depth)\n",
    "    model_tree.fit(features_train, target_train)\n",
    "    prediction_tree = model_tree.predict(features_valid)\n",
    "    accuracy_tree = accuracy_score(prediction_tree, target_valid)\n",
    "    print('Max_depth:', depth, end='')\n",
    "    print(' Accuracy:', accuracy_tree)"
   ]
  },
  {
   "cell_type": "markdown",
   "metadata": {},
   "source": [
    "При Max_depth = 9, качество модели \"Дерево решений\" ~ 0.8  \n"
   ]
  },
  {
   "cell_type": "markdown",
   "metadata": {},
   "source": [
    "### Случайный лес"
   ]
  },
  {
   "cell_type": "code",
   "execution_count": 72,
   "metadata": {
    "scrolled": true
   },
   "outputs": [
    {
     "name": "stdout",
     "output_type": "stream",
     "text": [
      "n_estimators: 1 Accuracy: 0.7761194029850746\n",
      "n_estimators: 2 Accuracy: 0.763681592039801\n",
      "n_estimators: 3 Accuracy: 0.7860696517412935\n",
      "n_estimators: 4 Accuracy: 0.7885572139303483\n",
      "n_estimators: 5 Accuracy: 0.7885572139303483\n",
      "n_estimators: 6 Accuracy: 0.8009950248756219\n",
      "n_estimators: 7 Accuracy: 0.7885572139303483\n",
      "n_estimators: 8 Accuracy: 0.7960199004975125\n",
      "n_estimators: 9 Accuracy: 0.7985074626865671\n",
      "n_estimators: 10 Accuracy: 0.7985074626865671\n",
      "n_estimators: 11 Accuracy: 0.8034825870646766\n",
      "n_estimators: 12 Accuracy: 0.8059701492537313\n",
      "n_estimators: 13 Accuracy: 0.7985074626865671\n",
      "n_estimators: 14 Accuracy: 0.8084577114427861\n",
      "n_estimators: 15 Accuracy: 0.8134328358208955\n",
      "n_estimators: 16 Accuracy: 0.8109452736318408\n",
      "n_estimators: 17 Accuracy: 0.8084577114427861\n",
      "n_estimators: 18 Accuracy: 0.8084577114427861\n",
      "n_estimators: 19 Accuracy: 0.8109452736318408\n",
      "n_estimators: 20 Accuracy: 0.8034825870646766\n",
      "n_estimators: 21 Accuracy: 0.8059701492537313\n",
      "n_estimators: 22 Accuracy: 0.8034825870646766\n",
      "n_estimators: 23 Accuracy: 0.8059701492537313\n",
      "n_estimators: 24 Accuracy: 0.8034825870646766\n",
      "n_estimators: 25 Accuracy: 0.8059701492537313\n"
     ]
    }
   ],
   "source": [
    "for est in range(1,26):\n",
    "    model_forest = RandomForestClassifier(n_estimators=est, random_state=12345, max_depth=10)\n",
    "    model_forest.fit(features_train, target_train)\n",
    "    prediction_forest = model_forest.predict(features_valid)\n",
    "    accuracy_forest = accuracy_score(prediction_forest, target_valid)\n",
    "    print('n_estimators:', est, end='')\n",
    "    print(' Accuracy:', accuracy_forest)"
   ]
  },
  {
   "cell_type": "markdown",
   "metadata": {},
   "source": [
    "При n_estimators = 15, качество модели \"Случайный лес\" ~ 0.81"
   ]
  },
  {
   "cell_type": "markdown",
   "metadata": {},
   "source": [
    "### Логическая регрессия"
   ]
  },
  {
   "cell_type": "code",
   "execution_count": 73,
   "metadata": {},
   "outputs": [
    {
     "name": "stdout",
     "output_type": "stream",
     "text": [
      "Accuracy: 0.7039800995024875\n"
     ]
    }
   ],
   "source": [
    "model_log_regression = LogisticRegression()\n",
    "model_log_regression.fit(features_train, target_train)\n",
    "predict_log_regression = model_log_regression.predict(features_valid)\n",
    "accuracy_log_regression = accuracy_score(predict_log_regression, target_valid)\n",
    "print(f'Accuracy: {accuracy_log_regression}')"
   ]
  },
  {
   "cell_type": "markdown",
   "metadata": {},
   "source": [
    "Обучив три разные модели, получили лучшие показтели качества:   \n",
    "• Дерево решений, при гиперпараметре max_depth = 9 → 0.8    \n",
    "• Случайный лес, при гиперпараметре max_depth = 10, n_estimators = 15 → 0.81    \n",
    "• Логистическая регрессия → 0.7    \n",
    "▬▬▬▬▬▬▬▬▬▬▬▬▬▬▬▬▬▬▬▬▬▬▬▬▬▬▬▬▬▬▬▬   \n",
    "Лучшая модель → Случайный лес\n"
   ]
  },
  {
   "cell_type": "markdown",
   "metadata": {},
   "source": [
    "## Проверьте модель на тестовой выборке"
   ]
  },
  {
   "cell_type": "markdown",
   "metadata": {},
   "source": [
    "### Тестирование \"Дерево решений\""
   ]
  },
  {
   "cell_type": "code",
   "execution_count": 74,
   "metadata": {},
   "outputs": [
    {
     "name": "stdout",
     "output_type": "stream",
     "text": [
      "Accuracy: 0.7786069651741293\n"
     ]
    }
   ],
   "source": [
    "model_tree = DecisionTreeClassifier(random_state=12345, max_depth=9)\n",
    "model_tree.fit(features_train, target_train)\n",
    "prediction_tree = model_tree.predict(features_test)\n",
    "accuracy_tree = accuracy_score(prediction_tree, target_test)\n",
    "print(f'Accuracy: {accuracy_tree}')"
   ]
  },
  {
   "cell_type": "markdown",
   "metadata": {},
   "source": [
    "### Тестирование \"Случайный лес\""
   ]
  },
  {
   "cell_type": "code",
   "execution_count": 75,
   "metadata": {},
   "outputs": [
    {
     "name": "stdout",
     "output_type": "stream",
     "text": [
      "Accuracy: 0.8034825870646766\n"
     ]
    }
   ],
   "source": [
    "model_forest = RandomForestClassifier(random_state=12345, max_depth=10, n_estimators=15)\n",
    "model_forest.fit(features_train, target_train)\n",
    "prediction_forest = model_forest.predict(features_test)\n",
    "accuracy_forest = accuracy_score(prediction_forest, target_test)\n",
    "print(f'Accuracy: {accuracy_forest}')"
   ]
  },
  {
   "cell_type": "markdown",
   "metadata": {},
   "source": [
    "### Тестирование \"Логическая регрессия\""
   ]
  },
  {
   "cell_type": "code",
   "execution_count": 76,
   "metadata": {},
   "outputs": [
    {
     "name": "stdout",
     "output_type": "stream",
     "text": [
      "Accuracy: 0.7039800995024875\n"
     ]
    }
   ],
   "source": [
    "model_log_regression = LogisticRegression()\n",
    "model_log_regression.fit(features_train, target_train)\n",
    "predict_log_regression = model_log_regression.predict(features_test)\n",
    "accuracy_log_regression = accuracy_score(predict_log_regression, target_test)\n",
    "print(f'Accuracy: {accuracy_log_regression}')"
   ]
  },
  {
   "cell_type": "markdown",
   "metadata": {},
   "source": [
    "Результаты тестирования соответствуют предыдущим результатам. Лучшей моделью по метрике Accuracy остается модель \"Случайный лес\". "
   ]
  },
  {
   "cell_type": "markdown",
   "metadata": {},
   "source": [
    "## (бонус) Проверьте модели на адекватность"
   ]
  },
  {
   "cell_type": "code",
   "execution_count": 77,
   "metadata": {},
   "outputs": [],
   "source": [
    "random_results = np.random.randint(0, 2, size=402)"
   ]
  },
  {
   "cell_type": "code",
   "execution_count": 78,
   "metadata": {},
   "outputs": [
    {
     "data": {
      "text/plain": [
       "0.48507462686567165"
      ]
     },
     "execution_count": 78,
     "metadata": {},
     "output_type": "execute_result"
    }
   ],
   "source": [
    "random_test = accuracy_score(target_test, random_results)\n",
    "random_test"
   ]
  },
  {
   "cell_type": "markdown",
   "metadata": {},
   "source": [
    "Модель \"Случайный лес\" дает намного больше верных ответов, чем случайные предсказания."
   ]
  },
  {
   "cell_type": "markdown",
   "metadata": {},
   "source": [
    "## Вывод"
   ]
  },
  {
   "cell_type": "markdown",
   "metadata": {},
   "source": [
    "Мы рассмотрели три модели \"Случайный лес\", \"Логическая регрессия\", \"Дерево решений\". Меняя их гиперпараметры мы нашли вариант с наибольшим количеством верных ответов. Лучше всего подходит модель \"Случайный лес\" с показателем Accuracy примерно 0.81.   \n",
    "Полученная модель дает почти в два раза больше верных ответов, чем случайные предсказания. "
   ]
  }
 ],
 "metadata": {
  "ExecuteTimeLog": [
   {
    "duration": 1439,
    "start_time": "2022-08-03T13:31:01.726Z"
   },
   {
    "duration": 4,
    "start_time": "2022-08-03T13:31:27.980Z"
   },
   {
    "duration": 3,
    "start_time": "2022-08-03T13:31:31.385Z"
   },
   {
    "duration": 122,
    "start_time": "2022-08-03T13:32:37.223Z"
   },
   {
    "duration": 35,
    "start_time": "2022-08-03T13:32:46.547Z"
   },
   {
    "duration": 11,
    "start_time": "2022-08-03T13:32:58.676Z"
   },
   {
    "duration": 133,
    "start_time": "2022-08-03T13:43:44.792Z"
   },
   {
    "duration": 100,
    "start_time": "2022-08-03T13:43:59.316Z"
   },
   {
    "duration": 71,
    "start_time": "2022-08-03T13:44:06.751Z"
   },
   {
    "duration": 7,
    "start_time": "2022-08-03T13:44:51.174Z"
   },
   {
    "duration": 6,
    "start_time": "2022-08-03T13:49:39.924Z"
   },
   {
    "duration": 100,
    "start_time": "2022-08-03T15:47:25.429Z"
   },
   {
    "duration": 3,
    "start_time": "2022-08-03T15:47:49.832Z"
   },
   {
    "duration": 34,
    "start_time": "2022-08-03T15:47:53.695Z"
   },
   {
    "duration": 11,
    "start_time": "2022-08-03T15:47:54.340Z"
   },
   {
    "duration": 8,
    "start_time": "2022-08-03T15:47:58.270Z"
   },
   {
    "duration": 7,
    "start_time": "2022-08-03T15:47:59.693Z"
   },
   {
    "duration": 10,
    "start_time": "2022-08-03T15:48:03.445Z"
   },
   {
    "duration": 16,
    "start_time": "2022-08-03T15:48:12.587Z"
   },
   {
    "duration": 45,
    "start_time": "2022-08-03T16:15:55.989Z"
   },
   {
    "duration": 21,
    "start_time": "2022-08-03T16:16:11.240Z"
   },
   {
    "duration": 4,
    "start_time": "2022-08-03T16:22:12.401Z"
   },
   {
    "duration": 52,
    "start_time": "2022-08-03T16:27:17.984Z"
   },
   {
    "duration": 14,
    "start_time": "2022-08-03T16:27:39.666Z"
   },
   {
    "duration": 14,
    "start_time": "2022-08-03T16:28:00.542Z"
   },
   {
    "duration": 15,
    "start_time": "2022-08-03T16:28:28.336Z"
   },
   {
    "duration": 15,
    "start_time": "2022-08-03T16:28:41.179Z"
   },
   {
    "duration": 53,
    "start_time": "2022-08-03T16:31:05.465Z"
   },
   {
    "duration": 52,
    "start_time": "2022-08-03T16:31:35.211Z"
   },
   {
    "duration": 56,
    "start_time": "2022-08-03T16:32:02.138Z"
   },
   {
    "duration": 51,
    "start_time": "2022-08-03T16:32:24.130Z"
   },
   {
    "duration": 15,
    "start_time": "2022-08-03T16:32:37.666Z"
   },
   {
    "duration": 3,
    "start_time": "2022-08-03T16:33:21.934Z"
   },
   {
    "duration": 41,
    "start_time": "2022-08-03T16:33:21.939Z"
   },
   {
    "duration": 9,
    "start_time": "2022-08-03T16:33:21.982Z"
   },
   {
    "duration": 8,
    "start_time": "2022-08-03T16:33:21.993Z"
   },
   {
    "duration": 6,
    "start_time": "2022-08-03T16:33:22.003Z"
   },
   {
    "duration": 94,
    "start_time": "2022-08-03T16:33:22.011Z"
   },
   {
    "duration": 223,
    "start_time": "2022-08-03T16:33:37.463Z"
   },
   {
    "duration": 230,
    "start_time": "2022-08-03T16:33:48.594Z"
   },
   {
    "duration": 234,
    "start_time": "2022-08-03T16:33:57.602Z"
   },
   {
    "duration": 240,
    "start_time": "2022-08-03T16:34:58.360Z"
   },
   {
    "duration": 240,
    "start_time": "2022-08-03T16:35:10.882Z"
   },
   {
    "duration": 4581,
    "start_time": "2022-08-03T16:43:07.120Z"
   },
   {
    "duration": 1207,
    "start_time": "2022-08-03T16:43:22.974Z"
   },
   {
    "duration": 285,
    "start_time": "2022-08-03T16:49:30.825Z"
   },
   {
    "duration": 1184,
    "start_time": "2022-08-03T16:49:37.368Z"
   },
   {
    "duration": 288,
    "start_time": "2022-08-03T16:50:31.923Z"
   },
   {
    "duration": 95,
    "start_time": "2022-08-03T16:50:49.213Z"
   },
   {
    "duration": 161,
    "start_time": "2022-08-03T16:51:02.541Z"
   },
   {
    "duration": 14,
    "start_time": "2022-08-03T17:06:05.843Z"
   },
   {
    "duration": 15,
    "start_time": "2022-08-03T17:07:00.889Z"
   },
   {
    "duration": 64,
    "start_time": "2022-08-03T17:08:02.786Z"
   },
   {
    "duration": 23,
    "start_time": "2022-08-03T17:09:43.383Z"
   },
   {
    "duration": 3,
    "start_time": "2022-08-03T17:17:15.347Z"
   },
   {
    "duration": 13,
    "start_time": "2022-08-03T17:18:14.051Z"
   },
   {
    "duration": 12,
    "start_time": "2022-08-03T17:18:28.089Z"
   },
   {
    "duration": 13,
    "start_time": "2022-08-03T17:18:42.391Z"
   },
   {
    "duration": 14,
    "start_time": "2022-08-03T17:18:51.518Z"
   },
   {
    "duration": 12,
    "start_time": "2022-08-03T17:19:03.190Z"
   },
   {
    "duration": 3,
    "start_time": "2022-08-03T17:19:08.923Z"
   },
   {
    "duration": 12,
    "start_time": "2022-08-03T17:19:19.847Z"
   },
   {
    "duration": 3,
    "start_time": "2022-08-03T17:19:32.672Z"
   },
   {
    "duration": 3,
    "start_time": "2022-08-03T17:19:37.712Z"
   },
   {
    "duration": 4,
    "start_time": "2022-08-03T17:19:37.866Z"
   },
   {
    "duration": 4,
    "start_time": "2022-08-03T17:26:31.574Z"
   },
   {
    "duration": 79,
    "start_time": "2022-08-03T17:26:31.580Z"
   },
   {
    "duration": 10,
    "start_time": "2022-08-03T17:26:31.661Z"
   },
   {
    "duration": 13,
    "start_time": "2022-08-03T17:26:31.672Z"
   },
   {
    "duration": 8,
    "start_time": "2022-08-03T17:26:31.687Z"
   },
   {
    "duration": 262,
    "start_time": "2022-08-03T17:26:31.696Z"
   },
   {
    "duration": 1240,
    "start_time": "2022-08-03T17:26:31.960Z"
   },
   {
    "duration": 200,
    "start_time": "2022-08-03T17:26:33.202Z"
   },
   {
    "duration": 98,
    "start_time": "2022-08-03T17:26:33.403Z"
   },
   {
    "duration": 57,
    "start_time": "2022-08-03T17:26:33.503Z"
   },
   {
    "duration": 238,
    "start_time": "2022-08-03T17:26:33.561Z"
   },
   {
    "duration": 99,
    "start_time": "2022-08-03T17:26:33.801Z"
   },
   {
    "duration": 5,
    "start_time": "2022-08-03T17:26:33.902Z"
   }
  ],
  "kernelspec": {
   "display_name": "Python 3 (ipykernel)",
   "language": "python",
   "name": "python3"
  },
  "language_info": {
   "codemirror_mode": {
    "name": "ipython",
    "version": 3
   },
   "file_extension": ".py",
   "mimetype": "text/x-python",
   "name": "python",
   "nbconvert_exporter": "python",
   "pygments_lexer": "ipython3",
   "version": "3.10.9"
  },
  "toc": {
   "base_numbering": 1,
   "nav_menu": {
    "height": "145px",
    "width": "302px"
   },
   "number_sections": true,
   "sideBar": true,
   "skip_h1_title": true,
   "title_cell": "Table of Contents",
   "title_sidebar": "Contents",
   "toc_cell": true,
   "toc_position": {
    "height": "calc(100% - 180px)",
    "left": "10px",
    "top": "150px",
    "width": "165px"
   },
   "toc_section_display": true,
   "toc_window_display": true
  }
 },
 "nbformat": 4,
 "nbformat_minor": 2
}
