{
 "cells": [
  {
   "cell_type": "markdown",
   "id": "d0f107d3",
   "metadata": {},
   "source": [
    "## Телеком — задача проекта\n",
    "\n",
    "Оператор связи «Ниединогоразрыва.ком» хочет научиться прогнозировать отток клиентов. Если выяснится, что пользователь планирует уйти, ему будут предложены промокоды и специальные условия. Команда оператора собрала персональные данные о некоторых клиентах, информацию об их тарифах и договорах."
   ]
  },
  {
   "cell_type": "markdown",
   "id": "42a6cbee",
   "metadata": {},
   "source": [
    "### Также доступны такие услуги:\n",
    "\n",
    "- Интернет-безопасность: антивирус (*DeviceProtection*) и блокировка небезопасных сайтов (*OnlineSecurity*);\n",
    "- Выделенная линия технической поддержки (*TechSupport*);\n",
    "- Облачное хранилище файлов для резервного копирования данных (*OnlineBackup*);\n",
    "- Стриминговое телевидение (*StreamingTV*) и каталог фильмов (*StreamingMovies*).\n",
    "\n",
    "За услуги клиенты могут платить каждый месяц или заключить договор на 1–2 года. Доступны различные способы расчёта и возможность получения электронного чека."
   ]
  },
  {
   "cell_type": "markdown",
   "id": "ff5a9c8c",
   "metadata": {},
   "source": [
    "### Описание данных\n",
    "\n",
    "Данные состоят из файлов, полученных из разных источников:\n",
    "\n",
    "- `contract_new.csv` — информация о договоре;\n",
    "- `personal_new.csv` — персональные данные клиента;\n",
    "- `internet_new.csv` — информация об интернет-услугах;\n",
    "- `phone_new.csv` — информация об услугах телефонии.\n",
    "\n",
    "Во всех файлах столбец `customerID` содержит код клиента.\n",
    "\n",
    "Информация о договорах актуальна на 1 февраля 2020."
   ]
  },
  {
   "cell_type": "markdown",
   "id": "2af696f4",
   "metadata": {},
   "source": [
    "## План модели предсказания ухода клиента"
   ]
  },
  {
   "cell_type": "markdown",
   "id": "f93d0af7",
   "metadata": {},
   "source": [
    "Необходимо начать с чтения файлов, содержащих данные, и проведения анализа общей информации. Это поможет понять, какие данные находятся в нашем распоряжении и какие шаги следует предпринять далее.\n",
    "\n",
    "После этого следует обработка данных, включающая поиск пропущенных, nan значений и дубликатов. Также нужно заменить отсутствующие значения на медианы или на среднее значение, чтобы не искажать результаты. Наконец, следует объединить все полученные датафреймы.\n",
    "\n",
    "Далее необходимо провести исследовательский анализ данных. Он включает построение графиков признаков и ухода клиентов, что поможет понять зависимости между различными переменными и выявить потенциально важные факторы.\n",
    "\n",
    "После этого следует предварительная обработка данных для обучения моделей. Это включает создание численных признаков и производных признаков на основе уже имеющихся. Такие признаки могут помочь улучшить результаты предсказаний.\n",
    "\n",
    "Далее следует построение моделей. В этом шаге мы подбираем гиперпараметры и выбираем наилучшую модель, используя уже обработанные данные. Это поможет получить наиболее точные предсказания.\n",
    "\n",
    "Наконец, необходимо произвести вывод результатов на основе модели, которую мы получили на предыдущем шаге. Это может включать в себя описание ключевых факторов, влияющих на нашу модель, а также обсуждение ее эффективности и ограничений."
   ]
  },
  {
   "cell_type": "markdown",
   "id": "502fec91",
   "metadata": {},
   "source": [
    "## Загружаем необходимые библиотеки"
   ]
  },
  {
   "cell_type": "code",
   "execution_count": 1,
   "id": "00ae77b3",
   "metadata": {},
   "outputs": [],
   "source": [
    "import pandas as pd\n",
    "import numpy as np\n",
    "import matplotlib.pyplot as plt\n",
    "import seaborn as sns\n",
    "\n",
    "from sklearn.model_selection import train_test_split\n",
    "from sklearn.linear_model import LogisticRegression\n",
    "from sklearn.tree import DecisionTreeClassifier\n",
    "from sklearn.ensemble import RandomForestClassifier\n",
    "from catboost import CatBoostClassifier\n",
    "import re\n",
    "\n",
    "from sklearn.model_selection import cross_val_score\n",
    "from sklearn.model_selection import RandomizedSearchCV\n",
    "from sklearn.metrics import roc_auc_score\n",
    "from sklearn.metrics import roc_curve\n",
    "from sklearn.metrics import accuracy_score\n",
    "\n",
    "from sklearn.metrics import classification_report\n",
    "\n",
    "RANDOM_STATE = 100423"
   ]
  },
  {
   "cell_type": "markdown",
   "id": "6c06f960",
   "metadata": {},
   "source": [
    "### EDA"
   ]
  },
  {
   "cell_type": "code",
   "execution_count": 2,
   "id": "ad9ee1fe",
   "metadata": {},
   "outputs": [],
   "source": [
    "def eda_contract_data(df):\n",
    "    '''\n",
    "    Выполняет исследовательский анализ данных для договорных данных.\n",
    "\n",
    "    Параметры:\n",
    "    df (pandas.DataFrame): договорные данные в виде объекта pandas DataFrame.\n",
    "\n",
    "    Возвращает:\n",
    "    None.\n",
    "    '''\n",
    "    # Вывод первых 5 строк\n",
    "    print('Первые 5 строк:')\n",
    "    print(df.head())\n",
    "\n",
    "    # Проверка типов данных и пропущенных значений\n",
    "    print('\\nИнформация о данных:')\n",
    "    print(df.info())\n",
    "\n",
    "    # Проверка на дубликаты\n",
    "    print('\\nДубликаты:')\n",
    "    print('Количество дубликатов (все столбцы): {:.0f}'.format(df.duplicated().sum()))\n",
    "    print('Количество дубликатов (только идентификаторы): {:.0f}'.format(df.duplicated(subset=['customerID']).sum()))\n",
    "\n",
    "    # Вывод названий столбцов\n",
    "    print('\\nНазвания столбцов:')\n",
    "    print(df.columns)"
   ]
  },
  {
   "cell_type": "code",
   "execution_count": 3,
   "id": "0cff679e",
   "metadata": {},
   "outputs": [],
   "source": [
    "try:\n",
    "    contract = pd.read_csv('contract_new.csv')\n",
    "except FileNotFoundError:\n",
    "    try:\n",
    "        contract = pd.read_csv('/datasets/contract_new.csv')\n",
    "    except FileNotFoundError:\n",
    "        print('Contract file not found!')\n",
    "\n",
    "try:\n",
    "    internet = pd.read_csv('internet_new.csv')\n",
    "except FileNotFoundError:\n",
    "    try:\n",
    "        internet = pd.read_csv('/datasets/internet_new.csv')\n",
    "    except FileNotFoundError:\n",
    "        print('Internet file not found!')\n",
    "\n",
    "try:\n",
    "    personal = pd.read_csv('personal_new.csv')\n",
    "except FileNotFoundError:\n",
    "    try:\n",
    "        personal = pd.read_csv('/datasets/personal_new.csv')\n",
    "    except FileNotFoundError:\n",
    "        print('Personal file not found!')\n",
    "\n",
    "try:\n",
    "    phone = pd.read_csv('phone_new.csv')\n",
    "except FileNotFoundError:\n",
    "    try:\n",
    "        phone = pd.read_csv('/datasets/phone_new.csv')\n",
    "    except FileNotFoundError:\n",
    "        print('Phone file not found!')"
   ]
  },
  {
   "cell_type": "code",
   "execution_count": 4,
   "id": "9159a3cc",
   "metadata": {
    "scrolled": true
   },
   "outputs": [
    {
     "name": "stdout",
     "output_type": "stream",
     "text": [
      "Первые 5 строк:\n",
      "   customerID   BeginDate EndDate            Type PaperlessBilling  \\\n",
      "0  7590-VHVEG  2020-01-01      No  Month-to-month              Yes   \n",
      "1  5575-GNVDE  2017-04-01      No        One year               No   \n",
      "2  3668-QPYBK  2019-10-01      No  Month-to-month              Yes   \n",
      "3  7795-CFOCW  2016-05-01      No        One year               No   \n",
      "4  9237-HQITU  2019-09-01      No  Month-to-month              Yes   \n",
      "\n",
      "               PaymentMethod  MonthlyCharges TotalCharges  \n",
      "0           Electronic check           29.85        31.04  \n",
      "1               Mailed check           56.95      2071.84  \n",
      "2               Mailed check           53.85       226.17  \n",
      "3  Bank transfer (automatic)           42.30       1960.6  \n",
      "4           Electronic check           70.70        353.5  \n",
      "\n",
      "Информация о данных:\n",
      "<class 'pandas.core.frame.DataFrame'>\n",
      "RangeIndex: 7043 entries, 0 to 7042\n",
      "Data columns (total 8 columns):\n",
      " #   Column            Non-Null Count  Dtype  \n",
      "---  ------            --------------  -----  \n",
      " 0   customerID        7043 non-null   object \n",
      " 1   BeginDate         7043 non-null   object \n",
      " 2   EndDate           7043 non-null   object \n",
      " 3   Type              7043 non-null   object \n",
      " 4   PaperlessBilling  7043 non-null   object \n",
      " 5   PaymentMethod     7043 non-null   object \n",
      " 6   MonthlyCharges    7043 non-null   float64\n",
      " 7   TotalCharges      7043 non-null   object \n",
      "dtypes: float64(1), object(7)\n",
      "memory usage: 440.3+ KB\n",
      "None\n",
      "\n",
      "Дубликаты:\n",
      "Количество дубликатов (все столбцы): 0\n",
      "Количество дубликатов (только идентификаторы): 0\n",
      "\n",
      "Названия столбцов:\n",
      "Index(['customerID', 'BeginDate', 'EndDate', 'Type', 'PaperlessBilling',\n",
      "       'PaymentMethod', 'MonthlyCharges', 'TotalCharges'],\n",
      "      dtype='object')\n"
     ]
    }
   ],
   "source": [
    "eda_contract_data(contract)"
   ]
  },
  {
   "cell_type": "markdown",
   "id": "54697f05",
   "metadata": {},
   "source": [
    "Всего в таблице 7043 записи. Все столбцы, кроме MonthlyCharges, имеют тип данных object. Столбец TotalCharges также должен иметь тип float64, однако в нем присутствуют некоторые нечисловые значения, что приводит к тому, что весь столбец имеет тип object.\n",
    "\n",
    "Дубликатов нет."
   ]
  },
  {
   "cell_type": "code",
   "execution_count": 5,
   "id": "7ca370b0",
   "metadata": {
    "scrolled": false
   },
   "outputs": [
    {
     "name": "stdout",
     "output_type": "stream",
     "text": [
      "Первые 5 строк:\n",
      "   customerID InternetService OnlineSecurity OnlineBackup DeviceProtection  \\\n",
      "0  7590-VHVEG             DSL             No          Yes               No   \n",
      "1  5575-GNVDE             DSL            Yes           No              Yes   \n",
      "2  3668-QPYBK             DSL            Yes          Yes               No   \n",
      "3  7795-CFOCW             DSL            Yes           No              Yes   \n",
      "4  9237-HQITU     Fiber optic             No           No               No   \n",
      "\n",
      "  TechSupport StreamingTV StreamingMovies  \n",
      "0          No          No              No  \n",
      "1          No          No              No  \n",
      "2          No          No              No  \n",
      "3         Yes          No              No  \n",
      "4          No          No              No  \n",
      "\n",
      "Информация о данных:\n",
      "<class 'pandas.core.frame.DataFrame'>\n",
      "RangeIndex: 5517 entries, 0 to 5516\n",
      "Data columns (total 8 columns):\n",
      " #   Column            Non-Null Count  Dtype \n",
      "---  ------            --------------  ----- \n",
      " 0   customerID        5517 non-null   object\n",
      " 1   InternetService   5517 non-null   object\n",
      " 2   OnlineSecurity    5517 non-null   object\n",
      " 3   OnlineBackup      5517 non-null   object\n",
      " 4   DeviceProtection  5517 non-null   object\n",
      " 5   TechSupport       5517 non-null   object\n",
      " 6   StreamingTV       5517 non-null   object\n",
      " 7   StreamingMovies   5517 non-null   object\n",
      "dtypes: object(8)\n",
      "memory usage: 344.9+ KB\n",
      "None\n",
      "\n",
      "Дубликаты:\n",
      "Количество дубликатов (все столбцы): 0\n",
      "Количество дубликатов (только идентификаторы): 0\n",
      "\n",
      "Названия столбцов:\n",
      "Index(['customerID', 'InternetService', 'OnlineSecurity', 'OnlineBackup',\n",
      "       'DeviceProtection', 'TechSupport', 'StreamingTV', 'StreamingMovies'],\n",
      "      dtype='object')\n"
     ]
    }
   ],
   "source": [
    "eda_contract_data(internet)"
   ]
  },
  {
   "cell_type": "markdown",
   "id": "6bf5f1be",
   "metadata": {},
   "source": [
    "Дубликатов и пропущенных значений нет. Все столбцы имеют тип object."
   ]
  },
  {
   "cell_type": "code",
   "execution_count": 6,
   "id": "5fe31421",
   "metadata": {
    "scrolled": true
   },
   "outputs": [
    {
     "name": "stdout",
     "output_type": "stream",
     "text": [
      "Первые 5 строк:\n",
      "   customerID  gender  SeniorCitizen Partner Dependents\n",
      "0  7590-VHVEG  Female              0     Yes         No\n",
      "1  5575-GNVDE    Male              0      No         No\n",
      "2  3668-QPYBK    Male              0      No         No\n",
      "3  7795-CFOCW    Male              0      No         No\n",
      "4  9237-HQITU  Female              0      No         No\n",
      "\n",
      "Информация о данных:\n",
      "<class 'pandas.core.frame.DataFrame'>\n",
      "RangeIndex: 7043 entries, 0 to 7042\n",
      "Data columns (total 5 columns):\n",
      " #   Column         Non-Null Count  Dtype \n",
      "---  ------         --------------  ----- \n",
      " 0   customerID     7043 non-null   object\n",
      " 1   gender         7043 non-null   object\n",
      " 2   SeniorCitizen  7043 non-null   int64 \n",
      " 3   Partner        7043 non-null   object\n",
      " 4   Dependents     7043 non-null   object\n",
      "dtypes: int64(1), object(4)\n",
      "memory usage: 275.2+ KB\n",
      "None\n",
      "\n",
      "Дубликаты:\n",
      "Количество дубликатов (все столбцы): 0\n",
      "Количество дубликатов (только идентификаторы): 0\n",
      "\n",
      "Названия столбцов:\n",
      "Index(['customerID', 'gender', 'SeniorCitizen', 'Partner', 'Dependents'], dtype='object')\n"
     ]
    }
   ],
   "source": [
    "eda_contract_data(personal)"
   ]
  },
  {
   "cell_type": "markdown",
   "id": "7b8a4e85",
   "metadata": {},
   "source": [
    "Датасет содержит 7043 строк и 5 столбцов: пол клиента ('gender'), возраст ('SeniorCitizen'), наличие партнера ('Partner') и иждивенцев ('Dependents'). Пропущенные значения отсутствуют, дубликаты тоже."
   ]
  },
  {
   "cell_type": "code",
   "execution_count": 7,
   "id": "712d417b",
   "metadata": {
    "scrolled": false
   },
   "outputs": [
    {
     "name": "stdout",
     "output_type": "stream",
     "text": [
      "Первые 5 строк:\n",
      "   customerID MultipleLines\n",
      "0  5575-GNVDE            No\n",
      "1  3668-QPYBK            No\n",
      "2  9237-HQITU            No\n",
      "3  9305-CDSKC           Yes\n",
      "4  1452-KIOVK           Yes\n",
      "\n",
      "Информация о данных:\n",
      "<class 'pandas.core.frame.DataFrame'>\n",
      "RangeIndex: 6361 entries, 0 to 6360\n",
      "Data columns (total 2 columns):\n",
      " #   Column         Non-Null Count  Dtype \n",
      "---  ------         --------------  ----- \n",
      " 0   customerID     6361 non-null   object\n",
      " 1   MultipleLines  6361 non-null   object\n",
      "dtypes: object(2)\n",
      "memory usage: 99.5+ KB\n",
      "None\n",
      "\n",
      "Дубликаты:\n",
      "Количество дубликатов (все столбцы): 0\n",
      "Количество дубликатов (только идентификаторы): 0\n",
      "\n",
      "Названия столбцов:\n",
      "Index(['customerID', 'MultipleLines'], dtype='object')\n"
     ]
    }
   ],
   "source": [
    "eda_contract_data(phone)"
   ]
  },
  {
   "cell_type": "markdown",
   "id": "b51767f3",
   "metadata": {},
   "source": [
    "\n",
    "\n",
    "\n",
    "\n",
    "\n",
    "\n",
    "\n",
    "Всего имеется 6361 запись. Пропущенных значений нет. Тип данных в столбцах - object. Дубликаты отсутствуют."
   ]
  },
  {
   "cell_type": "markdown",
   "id": "c281af6f",
   "metadata": {},
   "source": [
    "### Этап \"type of data\""
   ]
  },
  {
   "cell_type": "code",
   "execution_count": 8,
   "id": "8d494ea5",
   "metadata": {},
   "outputs": [],
   "source": [
    "# Изменение типа данных и извлечение года и месяца\n",
    "contract['BeginDate'] = pd.to_datetime(contract['BeginDate'])\n",
    "contract['Begin_year'] = contract['BeginDate'].dt.year\n",
    "contract['Begin_month'] = contract['BeginDate'].dt.month\n",
    "today = '2020-02-01'\n"
   ]
  },
  {
   "cell_type": "code",
   "execution_count": 9,
   "id": "0d9f17da",
   "metadata": {},
   "outputs": [],
   "source": [
    "# Расчет продолжительности контракта в днях и создание нового столбца 'Contract_period'\n",
    "# Фильтруем строки, где дата окончания контракта не равна 'No' и выбираем столбец с датами окончания контракта\n",
    "contract['Contract_period'] = contract.query('EndDate != \"No\"')['EndDate']\n",
    "\n",
    "#Заполняем пропущенные значения даты окончания контракта текущей датой\n",
    "contract['Contract_period'] = contract['Contract_period'].fillna(today)\n",
    "\n",
    "#Преобразуем столбец с датами окончания контракта в формат datetime\n",
    "contract['Contract_period'] = pd.to_datetime(contract['Contract_period'], format='%Y-%m-%d %H:%M:%S')\n",
    "\n",
    "#Рассчитываем продолжительность контракта в днях\n",
    "contract['Contract_period'] = (contract['Contract_period'] - contract['BeginDate']).dt.days"
   ]
  },
  {
   "cell_type": "code",
   "execution_count": 10,
   "id": "617052fa",
   "metadata": {},
   "outputs": [],
   "source": [
    "# Создание столбца 'Valid_client', указывающего, действителен ли контракт на текущую дату\n",
    "contract['NOT_Valid_client'] = [1 if x==False else 0 for x in contract['EndDate'] == \"No\"]"
   ]
  },
  {
   "cell_type": "code",
   "execution_count": 11,
   "id": "0eea958e",
   "metadata": {},
   "outputs": [],
   "source": [
    "# Удаление столбцов 'EndDate' и 'BeginDate'\n",
    "contract.drop(['EndDate', 'BeginDate'], axis=1, inplace=True)"
   ]
  },
  {
   "cell_type": "code",
   "execution_count": 12,
   "id": "47ec9622",
   "metadata": {},
   "outputs": [
    {
     "name": "stdout",
     "output_type": "stream",
     "text": [
      "float64\n"
     ]
    }
   ],
   "source": [
    "# Перевод столбца 'TotalCharges' в тип данных 'float' и удаление строк с пропущенными значениями\n",
    "contract['TotalCharges'] = pd.to_numeric(contract['TotalCharges'], errors='coerce')\n",
    "contract.dropna(subset=['TotalCharges'], inplace=True)\n",
    "print(contract['TotalCharges'].dtypes)"
   ]
  },
  {
   "cell_type": "code",
   "execution_count": 13,
   "id": "96e1fb8a",
   "metadata": {},
   "outputs": [],
   "source": [
    "# Объединим таблицы по заданному столбцу\n",
    "df = (contract\n",
    "      .merge(internet, on='customerID', how='left')\n",
    "      .merge(personal, on='customerID', how='left')\n",
    "      .merge(phone, on='customerID', how='left'))\n"
   ]
  },
  {
   "cell_type": "code",
   "execution_count": 14,
   "id": "36b87c63",
   "metadata": {},
   "outputs": [
    {
     "data": {
      "text/html": [
       "<div>\n",
       "<style scoped>\n",
       "    .dataframe tbody tr th:only-of-type {\n",
       "        vertical-align: middle;\n",
       "    }\n",
       "\n",
       "    .dataframe tbody tr th {\n",
       "        vertical-align: top;\n",
       "    }\n",
       "\n",
       "    .dataframe thead th {\n",
       "        text-align: right;\n",
       "    }\n",
       "</style>\n",
       "<table border=\"1\" class=\"dataframe\">\n",
       "  <thead>\n",
       "    <tr style=\"text-align: right;\">\n",
       "      <th></th>\n",
       "      <th>customerID</th>\n",
       "      <th>Type</th>\n",
       "      <th>PaperlessBilling</th>\n",
       "      <th>PaymentMethod</th>\n",
       "      <th>MonthlyCharges</th>\n",
       "      <th>TotalCharges</th>\n",
       "      <th>Begin_year</th>\n",
       "      <th>Begin_month</th>\n",
       "      <th>Contract_period</th>\n",
       "      <th>NOT_Valid_client</th>\n",
       "      <th>...</th>\n",
       "      <th>OnlineBackup</th>\n",
       "      <th>DeviceProtection</th>\n",
       "      <th>TechSupport</th>\n",
       "      <th>StreamingTV</th>\n",
       "      <th>StreamingMovies</th>\n",
       "      <th>gender</th>\n",
       "      <th>SeniorCitizen</th>\n",
       "      <th>Partner</th>\n",
       "      <th>Dependents</th>\n",
       "      <th>MultipleLines</th>\n",
       "    </tr>\n",
       "  </thead>\n",
       "  <tbody>\n",
       "    <tr>\n",
       "      <th>0</th>\n",
       "      <td>7590-VHVEG</td>\n",
       "      <td>Month-to-month</td>\n",
       "      <td>Yes</td>\n",
       "      <td>Electronic check</td>\n",
       "      <td>29.85</td>\n",
       "      <td>31.04</td>\n",
       "      <td>2020</td>\n",
       "      <td>1</td>\n",
       "      <td>31</td>\n",
       "      <td>0</td>\n",
       "      <td>...</td>\n",
       "      <td>Yes</td>\n",
       "      <td>No</td>\n",
       "      <td>No</td>\n",
       "      <td>No</td>\n",
       "      <td>No</td>\n",
       "      <td>Female</td>\n",
       "      <td>0</td>\n",
       "      <td>Yes</td>\n",
       "      <td>No</td>\n",
       "      <td>NaN</td>\n",
       "    </tr>\n",
       "    <tr>\n",
       "      <th>1</th>\n",
       "      <td>5575-GNVDE</td>\n",
       "      <td>One year</td>\n",
       "      <td>No</td>\n",
       "      <td>Mailed check</td>\n",
       "      <td>56.95</td>\n",
       "      <td>2071.84</td>\n",
       "      <td>2017</td>\n",
       "      <td>4</td>\n",
       "      <td>1036</td>\n",
       "      <td>0</td>\n",
       "      <td>...</td>\n",
       "      <td>No</td>\n",
       "      <td>Yes</td>\n",
       "      <td>No</td>\n",
       "      <td>No</td>\n",
       "      <td>No</td>\n",
       "      <td>Male</td>\n",
       "      <td>0</td>\n",
       "      <td>No</td>\n",
       "      <td>No</td>\n",
       "      <td>No</td>\n",
       "    </tr>\n",
       "    <tr>\n",
       "      <th>2</th>\n",
       "      <td>3668-QPYBK</td>\n",
       "      <td>Month-to-month</td>\n",
       "      <td>Yes</td>\n",
       "      <td>Mailed check</td>\n",
       "      <td>53.85</td>\n",
       "      <td>226.17</td>\n",
       "      <td>2019</td>\n",
       "      <td>10</td>\n",
       "      <td>123</td>\n",
       "      <td>0</td>\n",
       "      <td>...</td>\n",
       "      <td>Yes</td>\n",
       "      <td>No</td>\n",
       "      <td>No</td>\n",
       "      <td>No</td>\n",
       "      <td>No</td>\n",
       "      <td>Male</td>\n",
       "      <td>0</td>\n",
       "      <td>No</td>\n",
       "      <td>No</td>\n",
       "      <td>No</td>\n",
       "    </tr>\n",
       "    <tr>\n",
       "      <th>3</th>\n",
       "      <td>7795-CFOCW</td>\n",
       "      <td>One year</td>\n",
       "      <td>No</td>\n",
       "      <td>Bank transfer (automatic)</td>\n",
       "      <td>42.30</td>\n",
       "      <td>1960.60</td>\n",
       "      <td>2016</td>\n",
       "      <td>5</td>\n",
       "      <td>1371</td>\n",
       "      <td>0</td>\n",
       "      <td>...</td>\n",
       "      <td>No</td>\n",
       "      <td>Yes</td>\n",
       "      <td>Yes</td>\n",
       "      <td>No</td>\n",
       "      <td>No</td>\n",
       "      <td>Male</td>\n",
       "      <td>0</td>\n",
       "      <td>No</td>\n",
       "      <td>No</td>\n",
       "      <td>NaN</td>\n",
       "    </tr>\n",
       "    <tr>\n",
       "      <th>4</th>\n",
       "      <td>9237-HQITU</td>\n",
       "      <td>Month-to-month</td>\n",
       "      <td>Yes</td>\n",
       "      <td>Electronic check</td>\n",
       "      <td>70.70</td>\n",
       "      <td>353.50</td>\n",
       "      <td>2019</td>\n",
       "      <td>9</td>\n",
       "      <td>153</td>\n",
       "      <td>0</td>\n",
       "      <td>...</td>\n",
       "      <td>No</td>\n",
       "      <td>No</td>\n",
       "      <td>No</td>\n",
       "      <td>No</td>\n",
       "      <td>No</td>\n",
       "      <td>Female</td>\n",
       "      <td>0</td>\n",
       "      <td>No</td>\n",
       "      <td>No</td>\n",
       "      <td>No</td>\n",
       "    </tr>\n",
       "    <tr>\n",
       "      <th>...</th>\n",
       "      <td>...</td>\n",
       "      <td>...</td>\n",
       "      <td>...</td>\n",
       "      <td>...</td>\n",
       "      <td>...</td>\n",
       "      <td>...</td>\n",
       "      <td>...</td>\n",
       "      <td>...</td>\n",
       "      <td>...</td>\n",
       "      <td>...</td>\n",
       "      <td>...</td>\n",
       "      <td>...</td>\n",
       "      <td>...</td>\n",
       "      <td>...</td>\n",
       "      <td>...</td>\n",
       "      <td>...</td>\n",
       "      <td>...</td>\n",
       "      <td>...</td>\n",
       "      <td>...</td>\n",
       "      <td>...</td>\n",
       "      <td>...</td>\n",
       "    </tr>\n",
       "    <tr>\n",
       "      <th>7027</th>\n",
       "      <td>6840-RESVB</td>\n",
       "      <td>One year</td>\n",
       "      <td>Yes</td>\n",
       "      <td>Mailed check</td>\n",
       "      <td>84.80</td>\n",
       "      <td>2035.20</td>\n",
       "      <td>2018</td>\n",
       "      <td>2</td>\n",
       "      <td>730</td>\n",
       "      <td>0</td>\n",
       "      <td>...</td>\n",
       "      <td>No</td>\n",
       "      <td>Yes</td>\n",
       "      <td>Yes</td>\n",
       "      <td>Yes</td>\n",
       "      <td>Yes</td>\n",
       "      <td>Male</td>\n",
       "      <td>0</td>\n",
       "      <td>Yes</td>\n",
       "      <td>Yes</td>\n",
       "      <td>Yes</td>\n",
       "    </tr>\n",
       "    <tr>\n",
       "      <th>7028</th>\n",
       "      <td>2234-XADUH</td>\n",
       "      <td>One year</td>\n",
       "      <td>Yes</td>\n",
       "      <td>Credit card (automatic)</td>\n",
       "      <td>103.20</td>\n",
       "      <td>7430.40</td>\n",
       "      <td>2014</td>\n",
       "      <td>2</td>\n",
       "      <td>2191</td>\n",
       "      <td>0</td>\n",
       "      <td>...</td>\n",
       "      <td>Yes</td>\n",
       "      <td>Yes</td>\n",
       "      <td>No</td>\n",
       "      <td>Yes</td>\n",
       "      <td>Yes</td>\n",
       "      <td>Female</td>\n",
       "      <td>0</td>\n",
       "      <td>Yes</td>\n",
       "      <td>Yes</td>\n",
       "      <td>Yes</td>\n",
       "    </tr>\n",
       "    <tr>\n",
       "      <th>7029</th>\n",
       "      <td>4801-JZAZL</td>\n",
       "      <td>Month-to-month</td>\n",
       "      <td>Yes</td>\n",
       "      <td>Electronic check</td>\n",
       "      <td>29.60</td>\n",
       "      <td>325.60</td>\n",
       "      <td>2019</td>\n",
       "      <td>3</td>\n",
       "      <td>337</td>\n",
       "      <td>0</td>\n",
       "      <td>...</td>\n",
       "      <td>No</td>\n",
       "      <td>No</td>\n",
       "      <td>No</td>\n",
       "      <td>No</td>\n",
       "      <td>No</td>\n",
       "      <td>Female</td>\n",
       "      <td>0</td>\n",
       "      <td>Yes</td>\n",
       "      <td>Yes</td>\n",
       "      <td>NaN</td>\n",
       "    </tr>\n",
       "    <tr>\n",
       "      <th>7030</th>\n",
       "      <td>8361-LTMKD</td>\n",
       "      <td>Month-to-month</td>\n",
       "      <td>Yes</td>\n",
       "      <td>Mailed check</td>\n",
       "      <td>74.40</td>\n",
       "      <td>520.80</td>\n",
       "      <td>2019</td>\n",
       "      <td>7</td>\n",
       "      <td>215</td>\n",
       "      <td>0</td>\n",
       "      <td>...</td>\n",
       "      <td>No</td>\n",
       "      <td>No</td>\n",
       "      <td>No</td>\n",
       "      <td>No</td>\n",
       "      <td>No</td>\n",
       "      <td>Male</td>\n",
       "      <td>1</td>\n",
       "      <td>Yes</td>\n",
       "      <td>No</td>\n",
       "      <td>Yes</td>\n",
       "    </tr>\n",
       "    <tr>\n",
       "      <th>7031</th>\n",
       "      <td>3186-AJIEK</td>\n",
       "      <td>Two year</td>\n",
       "      <td>Yes</td>\n",
       "      <td>Bank transfer (automatic)</td>\n",
       "      <td>105.65</td>\n",
       "      <td>7251.82</td>\n",
       "      <td>2014</td>\n",
       "      <td>8</td>\n",
       "      <td>2010</td>\n",
       "      <td>0</td>\n",
       "      <td>...</td>\n",
       "      <td>No</td>\n",
       "      <td>Yes</td>\n",
       "      <td>Yes</td>\n",
       "      <td>Yes</td>\n",
       "      <td>Yes</td>\n",
       "      <td>Male</td>\n",
       "      <td>0</td>\n",
       "      <td>No</td>\n",
       "      <td>No</td>\n",
       "      <td>No</td>\n",
       "    </tr>\n",
       "  </tbody>\n",
       "</table>\n",
       "<p>7032 rows × 22 columns</p>\n",
       "</div>"
      ],
      "text/plain": [
       "      customerID            Type PaperlessBilling              PaymentMethod  \\\n",
       "0     7590-VHVEG  Month-to-month              Yes           Electronic check   \n",
       "1     5575-GNVDE        One year               No               Mailed check   \n",
       "2     3668-QPYBK  Month-to-month              Yes               Mailed check   \n",
       "3     7795-CFOCW        One year               No  Bank transfer (automatic)   \n",
       "4     9237-HQITU  Month-to-month              Yes           Electronic check   \n",
       "...          ...             ...              ...                        ...   \n",
       "7027  6840-RESVB        One year              Yes               Mailed check   \n",
       "7028  2234-XADUH        One year              Yes    Credit card (automatic)   \n",
       "7029  4801-JZAZL  Month-to-month              Yes           Electronic check   \n",
       "7030  8361-LTMKD  Month-to-month              Yes               Mailed check   \n",
       "7031  3186-AJIEK        Two year              Yes  Bank transfer (automatic)   \n",
       "\n",
       "      MonthlyCharges  TotalCharges  Begin_year  Begin_month  Contract_period  \\\n",
       "0              29.85         31.04        2020            1               31   \n",
       "1              56.95       2071.84        2017            4             1036   \n",
       "2              53.85        226.17        2019           10              123   \n",
       "3              42.30       1960.60        2016            5             1371   \n",
       "4              70.70        353.50        2019            9              153   \n",
       "...              ...           ...         ...          ...              ...   \n",
       "7027           84.80       2035.20        2018            2              730   \n",
       "7028          103.20       7430.40        2014            2             2191   \n",
       "7029           29.60        325.60        2019            3              337   \n",
       "7030           74.40        520.80        2019            7              215   \n",
       "7031          105.65       7251.82        2014            8             2010   \n",
       "\n",
       "      NOT_Valid_client  ... OnlineBackup DeviceProtection TechSupport  \\\n",
       "0                    0  ...          Yes               No          No   \n",
       "1                    0  ...           No              Yes          No   \n",
       "2                    0  ...          Yes               No          No   \n",
       "3                    0  ...           No              Yes         Yes   \n",
       "4                    0  ...           No               No          No   \n",
       "...                ...  ...          ...              ...         ...   \n",
       "7027                 0  ...           No              Yes         Yes   \n",
       "7028                 0  ...          Yes              Yes          No   \n",
       "7029                 0  ...           No               No          No   \n",
       "7030                 0  ...           No               No          No   \n",
       "7031                 0  ...           No              Yes         Yes   \n",
       "\n",
       "     StreamingTV StreamingMovies  gender SeniorCitizen Partner  Dependents  \\\n",
       "0             No              No  Female             0     Yes          No   \n",
       "1             No              No    Male             0      No          No   \n",
       "2             No              No    Male             0      No          No   \n",
       "3             No              No    Male             0      No          No   \n",
       "4             No              No  Female             0      No          No   \n",
       "...          ...             ...     ...           ...     ...         ...   \n",
       "7027         Yes             Yes    Male             0     Yes         Yes   \n",
       "7028         Yes             Yes  Female             0     Yes         Yes   \n",
       "7029          No              No  Female             0     Yes         Yes   \n",
       "7030          No              No    Male             1     Yes          No   \n",
       "7031         Yes             Yes    Male             0      No          No   \n",
       "\n",
       "     MultipleLines  \n",
       "0              NaN  \n",
       "1               No  \n",
       "2               No  \n",
       "3              NaN  \n",
       "4               No  \n",
       "...            ...  \n",
       "7027           Yes  \n",
       "7028           Yes  \n",
       "7029           NaN  \n",
       "7030           Yes  \n",
       "7031            No  \n",
       "\n",
       "[7032 rows x 22 columns]"
      ]
     },
     "execution_count": 14,
     "metadata": {},
     "output_type": "execute_result"
    }
   ],
   "source": [
    "df"
   ]
  },
  {
   "cell_type": "code",
   "execution_count": 15,
   "id": "9d6171ce",
   "metadata": {},
   "outputs": [
    {
     "name": "stdout",
     "output_type": "stream",
     "text": [
      "Первые 5 строк:\n",
      "   customerID            Type PaperlessBilling              PaymentMethod  \\\n",
      "0  7590-VHVEG  Month-to-month              Yes           Electronic check   \n",
      "1  5575-GNVDE        One year               No               Mailed check   \n",
      "2  3668-QPYBK  Month-to-month              Yes               Mailed check   \n",
      "3  7795-CFOCW        One year               No  Bank transfer (automatic)   \n",
      "4  9237-HQITU  Month-to-month              Yes           Electronic check   \n",
      "\n",
      "   MonthlyCharges  TotalCharges  Begin_year  Begin_month  Contract_period  \\\n",
      "0           29.85         31.04        2020            1               31   \n",
      "1           56.95       2071.84        2017            4             1036   \n",
      "2           53.85        226.17        2019           10              123   \n",
      "3           42.30       1960.60        2016            5             1371   \n",
      "4           70.70        353.50        2019            9              153   \n",
      "\n",
      "   NOT_Valid_client  ... OnlineBackup DeviceProtection TechSupport  \\\n",
      "0                 0  ...          Yes               No          No   \n",
      "1                 0  ...           No              Yes          No   \n",
      "2                 0  ...          Yes               No          No   \n",
      "3                 0  ...           No              Yes         Yes   \n",
      "4                 0  ...           No               No          No   \n",
      "\n",
      "  StreamingTV StreamingMovies  gender SeniorCitizen Partner  Dependents  \\\n",
      "0          No              No  Female             0     Yes          No   \n",
      "1          No              No    Male             0      No          No   \n",
      "2          No              No    Male             0      No          No   \n",
      "3          No              No    Male             0      No          No   \n",
      "4          No              No  Female             0      No          No   \n",
      "\n",
      "  MultipleLines  \n",
      "0           NaN  \n",
      "1            No  \n",
      "2            No  \n",
      "3           NaN  \n",
      "4            No  \n",
      "\n",
      "[5 rows x 22 columns]\n",
      "\n",
      "Информация о данных:\n",
      "<class 'pandas.core.frame.DataFrame'>\n",
      "Int64Index: 7032 entries, 0 to 7031\n",
      "Data columns (total 22 columns):\n",
      " #   Column            Non-Null Count  Dtype  \n",
      "---  ------            --------------  -----  \n",
      " 0   customerID        7032 non-null   object \n",
      " 1   Type              7032 non-null   object \n",
      " 2   PaperlessBilling  7032 non-null   object \n",
      " 3   PaymentMethod     7032 non-null   object \n",
      " 4   MonthlyCharges    7032 non-null   float64\n",
      " 5   TotalCharges      7032 non-null   float64\n",
      " 6   Begin_year        7032 non-null   int64  \n",
      " 7   Begin_month       7032 non-null   int64  \n",
      " 8   Contract_period   7032 non-null   int64  \n",
      " 9   NOT_Valid_client  7032 non-null   int64  \n",
      " 10  InternetService   5512 non-null   object \n",
      " 11  OnlineSecurity    5512 non-null   object \n",
      " 12  OnlineBackup      5512 non-null   object \n",
      " 13  DeviceProtection  5512 non-null   object \n",
      " 14  TechSupport       5512 non-null   object \n",
      " 15  StreamingTV       5512 non-null   object \n",
      " 16  StreamingMovies   5512 non-null   object \n",
      " 17  gender            7032 non-null   object \n",
      " 18  SeniorCitizen     7032 non-null   int64  \n",
      " 19  Partner           7032 non-null   object \n",
      " 20  Dependents        7032 non-null   object \n",
      " 21  MultipleLines     6352 non-null   object \n",
      "dtypes: float64(2), int64(5), object(15)\n",
      "memory usage: 1.2+ MB\n",
      "None\n",
      "\n",
      "Дубликаты:\n",
      "Количество дубликатов (все столбцы): 0\n",
      "Количество дубликатов (только идентификаторы): 0\n",
      "\n",
      "Названия столбцов:\n",
      "Index(['customerID', 'Type', 'PaperlessBilling', 'PaymentMethod',\n",
      "       'MonthlyCharges', 'TotalCharges', 'Begin_year', 'Begin_month',\n",
      "       'Contract_period', 'NOT_Valid_client', 'InternetService',\n",
      "       'OnlineSecurity', 'OnlineBackup', 'DeviceProtection', 'TechSupport',\n",
      "       'StreamingTV', 'StreamingMovies', 'gender', 'SeniorCitizen', 'Partner',\n",
      "       'Dependents', 'MultipleLines'],\n",
      "      dtype='object')\n"
     ]
    }
   ],
   "source": [
    "eda_contract_data(df)"
   ]
  },
  {
   "cell_type": "markdown",
   "id": "c88cc243",
   "metadata": {},
   "source": [
    "Всего в датасете 7032 записи. Нет дубликатов. В некоторых столбцах есть пропущенные значения.     \n",
    "Пропущенные значения в столбцах \"InternetService\", \"OnlineSecurity\", \"OnlineBackup\", \"DeviceProtection\", \"TechSupport\", \"StreamingTV\", \"StreamingMovies\", \"MultipleLines\" могли возникнуть по разным причинам. Например, клиент мог не выбирать некоторые опции при подписке на услуги, данные могут быть утеряны в процессе обработки, или могут быть недоступны из-за технических проблем. Кроме того, эти услуги могут быть не предоставлены в определенных районах, что может привести к отсутствию данных для некоторых клиентов. В любом случае, необходимо более детальное исследование данных и общение с провайдером, чтобы установить причину пропущенных значений."
   ]
  },
  {
   "cell_type": "markdown",
   "id": "757c0bd4",
   "metadata": {},
   "source": [
    "# OHE"
   ]
  },
  {
   "cell_type": "code",
   "execution_count": 16,
   "id": "d425735c",
   "metadata": {},
   "outputs": [],
   "source": [
    "features = df.drop(columns=['customerID', 'NOT_Valid_client', 'Begin_year', 'Begin_month'])\n",
    "target = df['NOT_Valid_client']"
   ]
  },
  {
   "cell_type": "code",
   "execution_count": 17,
   "id": "6ba998c5",
   "metadata": {},
   "outputs": [],
   "source": [
    "features_train, features_test, target_train, target_test = train_test_split(\n",
    "                features, target, test_size=0.25, random_state=RANDOM_STATE, stratify=target)"
   ]
  },
  {
   "cell_type": "code",
   "execution_count": 18,
   "id": "3f5973cb",
   "metadata": {
    "scrolled": false
   },
   "outputs": [
    {
     "name": "stdout",
     "output_type": "stream",
     "text": [
      "['Month-to-month' 'One year' 'Two year']\n",
      "['Yes' 'No']\n",
      "['Electronic check' 'Mailed check' 'Bank transfer (automatic)'\n",
      " 'Credit card (automatic)']\n",
      "['Type', 'PaperlessBilling', 'PaymentMethod', 'InternetService', 'OnlineSecurity', 'OnlineBackup', 'DeviceProtection', 'TechSupport', 'StreamingTV', 'StreamingMovies', 'gender', 'Partner', 'Dependents', 'MultipleLines', 'SeniorCitizen']\n",
      "['MonthlyCharges', 'TotalCharges', 'Contract_period']\n"
     ]
    },
    {
     "data": {
      "text/html": [
       "<div>\n",
       "<style scoped>\n",
       "    .dataframe tbody tr th:only-of-type {\n",
       "        vertical-align: middle;\n",
       "    }\n",
       "\n",
       "    .dataframe tbody tr th {\n",
       "        vertical-align: top;\n",
       "    }\n",
       "\n",
       "    .dataframe thead th {\n",
       "        text-align: right;\n",
       "    }\n",
       "</style>\n",
       "<table border=\"1\" class=\"dataframe\">\n",
       "  <thead>\n",
       "    <tr style=\"text-align: right;\">\n",
       "      <th></th>\n",
       "      <th>MonthlyCharges</th>\n",
       "      <th>TotalCharges</th>\n",
       "      <th>Contract_period</th>\n",
       "      <th>Type_One year</th>\n",
       "      <th>Type_Two year</th>\n",
       "      <th>PaperlessBilling_Yes</th>\n",
       "      <th>PaymentMethod_Credit card (automatic)</th>\n",
       "      <th>PaymentMethod_Electronic check</th>\n",
       "      <th>PaymentMethod_Mailed check</th>\n",
       "      <th>InternetService_Fiber optic</th>\n",
       "      <th>...</th>\n",
       "      <th>OnlineBackup_Yes</th>\n",
       "      <th>DeviceProtection_Yes</th>\n",
       "      <th>TechSupport_Yes</th>\n",
       "      <th>StreamingTV_Yes</th>\n",
       "      <th>StreamingMovies_Yes</th>\n",
       "      <th>gender_Male</th>\n",
       "      <th>Partner_Yes</th>\n",
       "      <th>Dependents_Yes</th>\n",
       "      <th>MultipleLines_Yes</th>\n",
       "      <th>SeniorCitizen_1</th>\n",
       "    </tr>\n",
       "  </thead>\n",
       "  <tbody>\n",
       "    <tr>\n",
       "      <th>4583</th>\n",
       "      <td>21.20</td>\n",
       "      <td>216.24</td>\n",
       "      <td>306</td>\n",
       "      <td>0</td>\n",
       "      <td>0</td>\n",
       "      <td>1</td>\n",
       "      <td>0</td>\n",
       "      <td>1</td>\n",
       "      <td>0</td>\n",
       "      <td>0</td>\n",
       "      <td>...</td>\n",
       "      <td>0</td>\n",
       "      <td>0</td>\n",
       "      <td>0</td>\n",
       "      <td>0</td>\n",
       "      <td>0</td>\n",
       "      <td>0</td>\n",
       "      <td>0</td>\n",
       "      <td>0</td>\n",
       "      <td>0</td>\n",
       "      <td>0</td>\n",
       "    </tr>\n",
       "    <tr>\n",
       "      <th>5379</th>\n",
       "      <td>19.90</td>\n",
       "      <td>39.80</td>\n",
       "      <td>62</td>\n",
       "      <td>0</td>\n",
       "      <td>0</td>\n",
       "      <td>0</td>\n",
       "      <td>0</td>\n",
       "      <td>0</td>\n",
       "      <td>1</td>\n",
       "      <td>0</td>\n",
       "      <td>...</td>\n",
       "      <td>0</td>\n",
       "      <td>0</td>\n",
       "      <td>0</td>\n",
       "      <td>0</td>\n",
       "      <td>0</td>\n",
       "      <td>1</td>\n",
       "      <td>1</td>\n",
       "      <td>1</td>\n",
       "      <td>0</td>\n",
       "      <td>0</td>\n",
       "    </tr>\n",
       "    <tr>\n",
       "      <th>4609</th>\n",
       "      <td>20.70</td>\n",
       "      <td>41.40</td>\n",
       "      <td>62</td>\n",
       "      <td>0</td>\n",
       "      <td>0</td>\n",
       "      <td>1</td>\n",
       "      <td>0</td>\n",
       "      <td>0</td>\n",
       "      <td>0</td>\n",
       "      <td>0</td>\n",
       "      <td>...</td>\n",
       "      <td>0</td>\n",
       "      <td>0</td>\n",
       "      <td>0</td>\n",
       "      <td>0</td>\n",
       "      <td>0</td>\n",
       "      <td>0</td>\n",
       "      <td>0</td>\n",
       "      <td>0</td>\n",
       "      <td>0</td>\n",
       "      <td>0</td>\n",
       "    </tr>\n",
       "    <tr>\n",
       "      <th>3658</th>\n",
       "      <td>50.80</td>\n",
       "      <td>203.20</td>\n",
       "      <td>123</td>\n",
       "      <td>0</td>\n",
       "      <td>0</td>\n",
       "      <td>1</td>\n",
       "      <td>0</td>\n",
       "      <td>0</td>\n",
       "      <td>1</td>\n",
       "      <td>0</td>\n",
       "      <td>...</td>\n",
       "      <td>0</td>\n",
       "      <td>0</td>\n",
       "      <td>1</td>\n",
       "      <td>0</td>\n",
       "      <td>0</td>\n",
       "      <td>1</td>\n",
       "      <td>0</td>\n",
       "      <td>0</td>\n",
       "      <td>0</td>\n",
       "      <td>0</td>\n",
       "    </tr>\n",
       "    <tr>\n",
       "      <th>6483</th>\n",
       "      <td>19.75</td>\n",
       "      <td>483.48</td>\n",
       "      <td>730</td>\n",
       "      <td>0</td>\n",
       "      <td>1</td>\n",
       "      <td>0</td>\n",
       "      <td>0</td>\n",
       "      <td>0</td>\n",
       "      <td>1</td>\n",
       "      <td>0</td>\n",
       "      <td>...</td>\n",
       "      <td>0</td>\n",
       "      <td>0</td>\n",
       "      <td>0</td>\n",
       "      <td>0</td>\n",
       "      <td>0</td>\n",
       "      <td>1</td>\n",
       "      <td>1</td>\n",
       "      <td>0</td>\n",
       "      <td>0</td>\n",
       "      <td>0</td>\n",
       "    </tr>\n",
       "    <tr>\n",
       "      <th>...</th>\n",
       "      <td>...</td>\n",
       "      <td>...</td>\n",
       "      <td>...</td>\n",
       "      <td>...</td>\n",
       "      <td>...</td>\n",
       "      <td>...</td>\n",
       "      <td>...</td>\n",
       "      <td>...</td>\n",
       "      <td>...</td>\n",
       "      <td>...</td>\n",
       "      <td>...</td>\n",
       "      <td>...</td>\n",
       "      <td>...</td>\n",
       "      <td>...</td>\n",
       "      <td>...</td>\n",
       "      <td>...</td>\n",
       "      <td>...</td>\n",
       "      <td>...</td>\n",
       "      <td>...</td>\n",
       "      <td>...</td>\n",
       "      <td>...</td>\n",
       "    </tr>\n",
       "    <tr>\n",
       "      <th>6589</th>\n",
       "      <td>74.30</td>\n",
       "      <td>4235.10</td>\n",
       "      <td>1737</td>\n",
       "      <td>0</td>\n",
       "      <td>1</td>\n",
       "      <td>1</td>\n",
       "      <td>1</td>\n",
       "      <td>0</td>\n",
       "      <td>0</td>\n",
       "      <td>0</td>\n",
       "      <td>...</td>\n",
       "      <td>1</td>\n",
       "      <td>1</td>\n",
       "      <td>1</td>\n",
       "      <td>1</td>\n",
       "      <td>0</td>\n",
       "      <td>0</td>\n",
       "      <td>0</td>\n",
       "      <td>0</td>\n",
       "      <td>0</td>\n",
       "      <td>0</td>\n",
       "    </tr>\n",
       "    <tr>\n",
       "      <th>772</th>\n",
       "      <td>95.80</td>\n",
       "      <td>3257.20</td>\n",
       "      <td>1036</td>\n",
       "      <td>1</td>\n",
       "      <td>0</td>\n",
       "      <td>1</td>\n",
       "      <td>0</td>\n",
       "      <td>1</td>\n",
       "      <td>0</td>\n",
       "      <td>1</td>\n",
       "      <td>...</td>\n",
       "      <td>0</td>\n",
       "      <td>1</td>\n",
       "      <td>0</td>\n",
       "      <td>1</td>\n",
       "      <td>1</td>\n",
       "      <td>1</td>\n",
       "      <td>1</td>\n",
       "      <td>0</td>\n",
       "      <td>0</td>\n",
       "      <td>0</td>\n",
       "    </tr>\n",
       "    <tr>\n",
       "      <th>2377</th>\n",
       "      <td>39.50</td>\n",
       "      <td>1179.87</td>\n",
       "      <td>883</td>\n",
       "      <td>1</td>\n",
       "      <td>0</td>\n",
       "      <td>0</td>\n",
       "      <td>1</td>\n",
       "      <td>0</td>\n",
       "      <td>0</td>\n",
       "      <td>0</td>\n",
       "      <td>...</td>\n",
       "      <td>1</td>\n",
       "      <td>0</td>\n",
       "      <td>1</td>\n",
       "      <td>0</td>\n",
       "      <td>0</td>\n",
       "      <td>0</td>\n",
       "      <td>0</td>\n",
       "      <td>0</td>\n",
       "      <td>0</td>\n",
       "      <td>0</td>\n",
       "    </tr>\n",
       "    <tr>\n",
       "      <th>3102</th>\n",
       "      <td>113.65</td>\n",
       "      <td>6500.78</td>\n",
       "      <td>1673</td>\n",
       "      <td>0</td>\n",
       "      <td>1</td>\n",
       "      <td>1</td>\n",
       "      <td>0</td>\n",
       "      <td>0</td>\n",
       "      <td>0</td>\n",
       "      <td>1</td>\n",
       "      <td>...</td>\n",
       "      <td>1</td>\n",
       "      <td>1</td>\n",
       "      <td>1</td>\n",
       "      <td>1</td>\n",
       "      <td>1</td>\n",
       "      <td>0</td>\n",
       "      <td>1</td>\n",
       "      <td>0</td>\n",
       "      <td>1</td>\n",
       "      <td>0</td>\n",
       "    </tr>\n",
       "    <tr>\n",
       "      <th>6805</th>\n",
       "      <td>70.30</td>\n",
       "      <td>140.60</td>\n",
       "      <td>62</td>\n",
       "      <td>0</td>\n",
       "      <td>0</td>\n",
       "      <td>1</td>\n",
       "      <td>0</td>\n",
       "      <td>1</td>\n",
       "      <td>0</td>\n",
       "      <td>1</td>\n",
       "      <td>...</td>\n",
       "      <td>0</td>\n",
       "      <td>0</td>\n",
       "      <td>0</td>\n",
       "      <td>0</td>\n",
       "      <td>0</td>\n",
       "      <td>1</td>\n",
       "      <td>0</td>\n",
       "      <td>0</td>\n",
       "      <td>0</td>\n",
       "      <td>0</td>\n",
       "    </tr>\n",
       "  </tbody>\n",
       "</table>\n",
       "<p>5274 rows × 21 columns</p>\n",
       "</div>"
      ],
      "text/plain": [
       "      MonthlyCharges  TotalCharges  Contract_period  Type_One year  \\\n",
       "4583           21.20        216.24              306              0   \n",
       "5379           19.90         39.80               62              0   \n",
       "4609           20.70         41.40               62              0   \n",
       "3658           50.80        203.20              123              0   \n",
       "6483           19.75        483.48              730              0   \n",
       "...              ...           ...              ...            ...   \n",
       "6589           74.30       4235.10             1737              0   \n",
       "772            95.80       3257.20             1036              1   \n",
       "2377           39.50       1179.87              883              1   \n",
       "3102          113.65       6500.78             1673              0   \n",
       "6805           70.30        140.60               62              0   \n",
       "\n",
       "      Type_Two year  PaperlessBilling_Yes  \\\n",
       "4583              0                     1   \n",
       "5379              0                     0   \n",
       "4609              0                     1   \n",
       "3658              0                     1   \n",
       "6483              1                     0   \n",
       "...             ...                   ...   \n",
       "6589              1                     1   \n",
       "772               0                     1   \n",
       "2377              0                     0   \n",
       "3102              1                     1   \n",
       "6805              0                     1   \n",
       "\n",
       "      PaymentMethod_Credit card (automatic)  PaymentMethod_Electronic check  \\\n",
       "4583                                      0                               1   \n",
       "5379                                      0                               0   \n",
       "4609                                      0                               0   \n",
       "3658                                      0                               0   \n",
       "6483                                      0                               0   \n",
       "...                                     ...                             ...   \n",
       "6589                                      1                               0   \n",
       "772                                       0                               1   \n",
       "2377                                      1                               0   \n",
       "3102                                      0                               0   \n",
       "6805                                      0                               1   \n",
       "\n",
       "      PaymentMethod_Mailed check  InternetService_Fiber optic  ...  \\\n",
       "4583                           0                            0  ...   \n",
       "5379                           1                            0  ...   \n",
       "4609                           0                            0  ...   \n",
       "3658                           1                            0  ...   \n",
       "6483                           1                            0  ...   \n",
       "...                          ...                          ...  ...   \n",
       "6589                           0                            0  ...   \n",
       "772                            0                            1  ...   \n",
       "2377                           0                            0  ...   \n",
       "3102                           0                            1  ...   \n",
       "6805                           0                            1  ...   \n",
       "\n",
       "      OnlineBackup_Yes  DeviceProtection_Yes  TechSupport_Yes  \\\n",
       "4583                 0                     0                0   \n",
       "5379                 0                     0                0   \n",
       "4609                 0                     0                0   \n",
       "3658                 0                     0                1   \n",
       "6483                 0                     0                0   \n",
       "...                ...                   ...              ...   \n",
       "6589                 1                     1                1   \n",
       "772                  0                     1                0   \n",
       "2377                 1                     0                1   \n",
       "3102                 1                     1                1   \n",
       "6805                 0                     0                0   \n",
       "\n",
       "      StreamingTV_Yes  StreamingMovies_Yes  gender_Male  Partner_Yes  \\\n",
       "4583                0                    0            0            0   \n",
       "5379                0                    0            1            1   \n",
       "4609                0                    0            0            0   \n",
       "3658                0                    0            1            0   \n",
       "6483                0                    0            1            1   \n",
       "...               ...                  ...          ...          ...   \n",
       "6589                1                    0            0            0   \n",
       "772                 1                    1            1            1   \n",
       "2377                0                    0            0            0   \n",
       "3102                1                    1            0            1   \n",
       "6805                0                    0            1            0   \n",
       "\n",
       "      Dependents_Yes  MultipleLines_Yes  SeniorCitizen_1  \n",
       "4583               0                  0                0  \n",
       "5379               1                  0                0  \n",
       "4609               0                  0                0  \n",
       "3658               0                  0                0  \n",
       "6483               0                  0                0  \n",
       "...              ...                ...              ...  \n",
       "6589               0                  0                0  \n",
       "772                0                  0                0  \n",
       "2377               0                  0                0  \n",
       "3102               0                  1                0  \n",
       "6805               0                  0                0  \n",
       "\n",
       "[5274 rows x 21 columns]"
      ]
     },
     "metadata": {},
     "output_type": "display_data"
    },
    {
     "data": {
      "text/html": [
       "<div>\n",
       "<style scoped>\n",
       "    .dataframe tbody tr th:only-of-type {\n",
       "        vertical-align: middle;\n",
       "    }\n",
       "\n",
       "    .dataframe tbody tr th {\n",
       "        vertical-align: top;\n",
       "    }\n",
       "\n",
       "    .dataframe thead th {\n",
       "        text-align: right;\n",
       "    }\n",
       "</style>\n",
       "<table border=\"1\" class=\"dataframe\">\n",
       "  <thead>\n",
       "    <tr style=\"text-align: right;\">\n",
       "      <th></th>\n",
       "      <th>MonthlyCharges</th>\n",
       "      <th>TotalCharges</th>\n",
       "      <th>Contract_period</th>\n",
       "      <th>Type_One year</th>\n",
       "      <th>Type_Two year</th>\n",
       "      <th>PaperlessBilling_Yes</th>\n",
       "      <th>PaymentMethod_Credit card (automatic)</th>\n",
       "      <th>PaymentMethod_Electronic check</th>\n",
       "      <th>PaymentMethod_Mailed check</th>\n",
       "      <th>InternetService_Fiber optic</th>\n",
       "      <th>...</th>\n",
       "      <th>OnlineBackup_Yes</th>\n",
       "      <th>DeviceProtection_Yes</th>\n",
       "      <th>TechSupport_Yes</th>\n",
       "      <th>StreamingTV_Yes</th>\n",
       "      <th>StreamingMovies_Yes</th>\n",
       "      <th>gender_Male</th>\n",
       "      <th>Partner_Yes</th>\n",
       "      <th>Dependents_Yes</th>\n",
       "      <th>MultipleLines_Yes</th>\n",
       "      <th>SeniorCitizen_1</th>\n",
       "    </tr>\n",
       "  </thead>\n",
       "  <tbody>\n",
       "    <tr>\n",
       "      <th>5764</th>\n",
       "      <td>60.55</td>\n",
       "      <td>2331.18</td>\n",
       "      <td>1067</td>\n",
       "      <td>0</td>\n",
       "      <td>0</td>\n",
       "      <td>0</td>\n",
       "      <td>0</td>\n",
       "      <td>1</td>\n",
       "      <td>0</td>\n",
       "      <td>0</td>\n",
       "      <td>...</td>\n",
       "      <td>1</td>\n",
       "      <td>1</td>\n",
       "      <td>0</td>\n",
       "      <td>0</td>\n",
       "      <td>0</td>\n",
       "      <td>0</td>\n",
       "      <td>0</td>\n",
       "      <td>0</td>\n",
       "      <td>0</td>\n",
       "      <td>0</td>\n",
       "    </tr>\n",
       "    <tr>\n",
       "      <th>6751</th>\n",
       "      <td>55.00</td>\n",
       "      <td>2145.00</td>\n",
       "      <td>1187</td>\n",
       "      <td>0</td>\n",
       "      <td>0</td>\n",
       "      <td>0</td>\n",
       "      <td>0</td>\n",
       "      <td>0</td>\n",
       "      <td>1</td>\n",
       "      <td>0</td>\n",
       "      <td>...</td>\n",
       "      <td>0</td>\n",
       "      <td>0</td>\n",
       "      <td>0</td>\n",
       "      <td>1</td>\n",
       "      <td>0</td>\n",
       "      <td>1</td>\n",
       "      <td>0</td>\n",
       "      <td>0</td>\n",
       "      <td>0</td>\n",
       "      <td>0</td>\n",
       "    </tr>\n",
       "    <tr>\n",
       "      <th>3535</th>\n",
       "      <td>40.65</td>\n",
       "      <td>2191.03</td>\n",
       "      <td>1492</td>\n",
       "      <td>0</td>\n",
       "      <td>0</td>\n",
       "      <td>0</td>\n",
       "      <td>0</td>\n",
       "      <td>0</td>\n",
       "      <td>0</td>\n",
       "      <td>0</td>\n",
       "      <td>...</td>\n",
       "      <td>0</td>\n",
       "      <td>0</td>\n",
       "      <td>0</td>\n",
       "      <td>1</td>\n",
       "      <td>0</td>\n",
       "      <td>0</td>\n",
       "      <td>1</td>\n",
       "      <td>0</td>\n",
       "      <td>0</td>\n",
       "      <td>0</td>\n",
       "    </tr>\n",
       "    <tr>\n",
       "      <th>2786</th>\n",
       "      <td>74.35</td>\n",
       "      <td>4492.23</td>\n",
       "      <td>1737</td>\n",
       "      <td>0</td>\n",
       "      <td>1</td>\n",
       "      <td>1</td>\n",
       "      <td>0</td>\n",
       "      <td>0</td>\n",
       "      <td>0</td>\n",
       "      <td>0</td>\n",
       "      <td>...</td>\n",
       "      <td>0</td>\n",
       "      <td>1</td>\n",
       "      <td>0</td>\n",
       "      <td>1</td>\n",
       "      <td>1</td>\n",
       "      <td>1</td>\n",
       "      <td>0</td>\n",
       "      <td>0</td>\n",
       "      <td>0</td>\n",
       "      <td>0</td>\n",
       "    </tr>\n",
       "    <tr>\n",
       "      <th>4598</th>\n",
       "      <td>25.00</td>\n",
       "      <td>275.00</td>\n",
       "      <td>337</td>\n",
       "      <td>0</td>\n",
       "      <td>1</td>\n",
       "      <td>0</td>\n",
       "      <td>0</td>\n",
       "      <td>0</td>\n",
       "      <td>1</td>\n",
       "      <td>0</td>\n",
       "      <td>...</td>\n",
       "      <td>0</td>\n",
       "      <td>0</td>\n",
       "      <td>0</td>\n",
       "      <td>0</td>\n",
       "      <td>0</td>\n",
       "      <td>0</td>\n",
       "      <td>1</td>\n",
       "      <td>1</td>\n",
       "      <td>1</td>\n",
       "      <td>0</td>\n",
       "    </tr>\n",
       "    <tr>\n",
       "      <th>...</th>\n",
       "      <td>...</td>\n",
       "      <td>...</td>\n",
       "      <td>...</td>\n",
       "      <td>...</td>\n",
       "      <td>...</td>\n",
       "      <td>...</td>\n",
       "      <td>...</td>\n",
       "      <td>...</td>\n",
       "      <td>...</td>\n",
       "      <td>...</td>\n",
       "      <td>...</td>\n",
       "      <td>...</td>\n",
       "      <td>...</td>\n",
       "      <td>...</td>\n",
       "      <td>...</td>\n",
       "      <td>...</td>\n",
       "      <td>...</td>\n",
       "      <td>...</td>\n",
       "      <td>...</td>\n",
       "      <td>...</td>\n",
       "      <td>...</td>\n",
       "    </tr>\n",
       "    <tr>\n",
       "      <th>6533</th>\n",
       "      <td>76.00</td>\n",
       "      <td>1530.64</td>\n",
       "      <td>580</td>\n",
       "      <td>0</td>\n",
       "      <td>0</td>\n",
       "      <td>1</td>\n",
       "      <td>0</td>\n",
       "      <td>0</td>\n",
       "      <td>1</td>\n",
       "      <td>1</td>\n",
       "      <td>...</td>\n",
       "      <td>0</td>\n",
       "      <td>0</td>\n",
       "      <td>0</td>\n",
       "      <td>0</td>\n",
       "      <td>0</td>\n",
       "      <td>1</td>\n",
       "      <td>0</td>\n",
       "      <td>0</td>\n",
       "      <td>1</td>\n",
       "      <td>0</td>\n",
       "    </tr>\n",
       "    <tr>\n",
       "      <th>2779</th>\n",
       "      <td>98.10</td>\n",
       "      <td>490.50</td>\n",
       "      <td>153</td>\n",
       "      <td>0</td>\n",
       "      <td>0</td>\n",
       "      <td>1</td>\n",
       "      <td>0</td>\n",
       "      <td>0</td>\n",
       "      <td>0</td>\n",
       "      <td>1</td>\n",
       "      <td>...</td>\n",
       "      <td>0</td>\n",
       "      <td>1</td>\n",
       "      <td>1</td>\n",
       "      <td>1</td>\n",
       "      <td>1</td>\n",
       "      <td>0</td>\n",
       "      <td>0</td>\n",
       "      <td>1</td>\n",
       "      <td>0</td>\n",
       "      <td>0</td>\n",
       "    </tr>\n",
       "    <tr>\n",
       "      <th>1829</th>\n",
       "      <td>45.10</td>\n",
       "      <td>90.20</td>\n",
       "      <td>62</td>\n",
       "      <td>0</td>\n",
       "      <td>0</td>\n",
       "      <td>0</td>\n",
       "      <td>0</td>\n",
       "      <td>1</td>\n",
       "      <td>0</td>\n",
       "      <td>0</td>\n",
       "      <td>...</td>\n",
       "      <td>0</td>\n",
       "      <td>0</td>\n",
       "      <td>0</td>\n",
       "      <td>0</td>\n",
       "      <td>0</td>\n",
       "      <td>1</td>\n",
       "      <td>0</td>\n",
       "      <td>0</td>\n",
       "      <td>0</td>\n",
       "      <td>1</td>\n",
       "    </tr>\n",
       "    <tr>\n",
       "      <th>3738</th>\n",
       "      <td>75.50</td>\n",
       "      <td>2041.52</td>\n",
       "      <td>792</td>\n",
       "      <td>1</td>\n",
       "      <td>0</td>\n",
       "      <td>0</td>\n",
       "      <td>0</td>\n",
       "      <td>0</td>\n",
       "      <td>0</td>\n",
       "      <td>1</td>\n",
       "      <td>...</td>\n",
       "      <td>1</td>\n",
       "      <td>0</td>\n",
       "      <td>0</td>\n",
       "      <td>0</td>\n",
       "      <td>0</td>\n",
       "      <td>1</td>\n",
       "      <td>0</td>\n",
       "      <td>0</td>\n",
       "      <td>0</td>\n",
       "      <td>0</td>\n",
       "    </tr>\n",
       "    <tr>\n",
       "      <th>510</th>\n",
       "      <td>106.45</td>\n",
       "      <td>6493.45</td>\n",
       "      <td>1857</td>\n",
       "      <td>0</td>\n",
       "      <td>0</td>\n",
       "      <td>1</td>\n",
       "      <td>0</td>\n",
       "      <td>1</td>\n",
       "      <td>0</td>\n",
       "      <td>1</td>\n",
       "      <td>...</td>\n",
       "      <td>0</td>\n",
       "      <td>1</td>\n",
       "      <td>0</td>\n",
       "      <td>1</td>\n",
       "      <td>1</td>\n",
       "      <td>1</td>\n",
       "      <td>0</td>\n",
       "      <td>0</td>\n",
       "      <td>1</td>\n",
       "      <td>0</td>\n",
       "    </tr>\n",
       "  </tbody>\n",
       "</table>\n",
       "<p>1758 rows × 21 columns</p>\n",
       "</div>"
      ],
      "text/plain": [
       "      MonthlyCharges  TotalCharges  Contract_period  Type_One year  \\\n",
       "5764           60.55       2331.18             1067              0   \n",
       "6751           55.00       2145.00             1187              0   \n",
       "3535           40.65       2191.03             1492              0   \n",
       "2786           74.35       4492.23             1737              0   \n",
       "4598           25.00        275.00              337              0   \n",
       "...              ...           ...              ...            ...   \n",
       "6533           76.00       1530.64              580              0   \n",
       "2779           98.10        490.50              153              0   \n",
       "1829           45.10         90.20               62              0   \n",
       "3738           75.50       2041.52              792              1   \n",
       "510           106.45       6493.45             1857              0   \n",
       "\n",
       "      Type_Two year  PaperlessBilling_Yes  \\\n",
       "5764              0                     0   \n",
       "6751              0                     0   \n",
       "3535              0                     0   \n",
       "2786              1                     1   \n",
       "4598              1                     0   \n",
       "...             ...                   ...   \n",
       "6533              0                     1   \n",
       "2779              0                     1   \n",
       "1829              0                     0   \n",
       "3738              0                     0   \n",
       "510               0                     1   \n",
       "\n",
       "      PaymentMethod_Credit card (automatic)  PaymentMethod_Electronic check  \\\n",
       "5764                                      0                               1   \n",
       "6751                                      0                               0   \n",
       "3535                                      0                               0   \n",
       "2786                                      0                               0   \n",
       "4598                                      0                               0   \n",
       "...                                     ...                             ...   \n",
       "6533                                      0                               0   \n",
       "2779                                      0                               0   \n",
       "1829                                      0                               1   \n",
       "3738                                      0                               0   \n",
       "510                                       0                               1   \n",
       "\n",
       "      PaymentMethod_Mailed check  InternetService_Fiber optic  ...  \\\n",
       "5764                           0                            0  ...   \n",
       "6751                           1                            0  ...   \n",
       "3535                           0                            0  ...   \n",
       "2786                           0                            0  ...   \n",
       "4598                           1                            0  ...   \n",
       "...                          ...                          ...  ...   \n",
       "6533                           1                            1  ...   \n",
       "2779                           0                            1  ...   \n",
       "1829                           0                            0  ...   \n",
       "3738                           0                            1  ...   \n",
       "510                            0                            1  ...   \n",
       "\n",
       "      OnlineBackup_Yes  DeviceProtection_Yes  TechSupport_Yes  \\\n",
       "5764                 1                     1                0   \n",
       "6751                 0                     0                0   \n",
       "3535                 0                     0                0   \n",
       "2786                 0                     1                0   \n",
       "4598                 0                     0                0   \n",
       "...                ...                   ...              ...   \n",
       "6533                 0                     0                0   \n",
       "2779                 0                     1                1   \n",
       "1829                 0                     0                0   \n",
       "3738                 1                     0                0   \n",
       "510                  0                     1                0   \n",
       "\n",
       "      StreamingTV_Yes  StreamingMovies_Yes  gender_Male  Partner_Yes  \\\n",
       "5764                0                    0            0            0   \n",
       "6751                1                    0            1            0   \n",
       "3535                1                    0            0            1   \n",
       "2786                1                    1            1            0   \n",
       "4598                0                    0            0            1   \n",
       "...               ...                  ...          ...          ...   \n",
       "6533                0                    0            1            0   \n",
       "2779                1                    1            0            0   \n",
       "1829                0                    0            1            0   \n",
       "3738                0                    0            1            0   \n",
       "510                 1                    1            1            0   \n",
       "\n",
       "      Dependents_Yes  MultipleLines_Yes  SeniorCitizen_1  \n",
       "5764               0                  0                0  \n",
       "6751               0                  0                0  \n",
       "3535               0                  0                0  \n",
       "2786               0                  0                0  \n",
       "4598               1                  1                0  \n",
       "...              ...                ...              ...  \n",
       "6533               0                  1                0  \n",
       "2779               1                  0                0  \n",
       "1829               0                  0                1  \n",
       "3738               0                  0                0  \n",
       "510                0                  1                0  \n",
       "\n",
       "[1758 rows x 21 columns]"
      ]
     },
     "metadata": {},
     "output_type": "display_data"
    },
    {
     "name": "stdout",
     "output_type": "stream",
     "text": [
      "Колонки в train и test совпадают\n"
     ]
    }
   ],
   "source": [
    "# Просмотр возможных значений признаков 'Type', 'PaperlessBilling' и 'PaymentMethod'\n",
    "print(df['Type'].unique())\n",
    "print(df['PaperlessBilling'].unique())\n",
    "print(df['PaymentMethod'].unique())\n",
    "\n",
    "from sklearn.compose import make_column_transformer\n",
    "from sklearn.preprocessing import OneHotEncoder\n",
    "\n",
    "\n",
    "\n",
    "\n",
    "ohe_features = features_train.select_dtypes(include='object').columns.to_list()\n",
    "ohe_features.append('SeniorCitizen')\n",
    "num_features = features_train.select_dtypes(exclude='object').columns.to_list()\n",
    "num_features.remove('SeniorCitizen')\n",
    "print(ohe_features)\n",
    "print(num_features)\n",
    "features_train_encoded = pd.get_dummies(features_train, columns = ohe_features, drop_first = True)\n",
    "display(features_train_encoded)\n",
    "features_test_encoded = pd.get_dummies(features_test, columns = ohe_features, drop_first = True)\n",
    "display(features_test_encoded)\n",
    "train_cols = set(features_train_encoded.columns)\n",
    "test_cols = set(features_test_encoded.columns)\n",
    "if train_cols.difference(test_cols) or test_cols.difference(train_cols):\n",
    "    print(\"Колонки в train и test не совпадают\")\n",
    "else:\n",
    "    print(\"Колонки в train и test совпадают\")"
   ]
  },
  {
   "cell_type": "code",
   "execution_count": 20,
   "id": "0d20c3da",
   "metadata": {},
   "outputs": [
    {
     "name": "stdout",
     "output_type": "stream",
     "text": [
      "InternetService: ['DSL' 'Fiber optic' nan]\n",
      "OnlineSecurity: ['No' 'Yes' nan]\n",
      "OnlineBackup: ['Yes' 'No' nan]\n",
      "DeviceProtection: ['No' 'Yes' nan]\n",
      "TechSupport: ['No' 'Yes' nan]\n",
      "StreamingTV: ['No' 'Yes' nan]\n",
      "StreamingMovies: ['No' 'Yes' nan]\n"
     ]
    }
   ],
   "source": [
    "# Просмотр возможных значений признаков 'InternetService', 'OnlineSecurity', 'OnlineBackup', 'DeviceProtection', 'TechSupport', 'StreamingTV' и 'StreamingMovies'\n",
    "print('InternetService:', df['InternetService'].unique())\n",
    "print('OnlineSecurity:', df['OnlineSecurity'].unique())\n",
    "print('OnlineBackup:', df['OnlineBackup'].unique())\n",
    "print('DeviceProtection:', df['DeviceProtection'].unique())\n",
    "print('TechSupport:', df['TechSupport'].unique())\n",
    "print('StreamingTV:', df['StreamingTV'].unique())\n",
    "print('StreamingMovies:', df['StreamingMovies'].unique())\n"
   ]
  },
  {
   "cell_type": "code",
   "execution_count": 21,
   "id": "eee5b57c",
   "metadata": {},
   "outputs": [
    {
     "name": "stdout",
     "output_type": "stream",
     "text": [
      "MultipleLines: [nan 'No' 'Yes']\n"
     ]
    }
   ],
   "source": [
    "# Проверяем, содержит ли столбец 'InternetService' только 2 уникальных значения\n",
    "print('MultipleLines:', df['MultipleLines'].unique())\n",
    "\n",
    "# Преобразуем столбец 'MultipleLines' \n",
    "df = pd.get_dummies(\n",
    "    df,\n",
    "    columns=['MultipleLines'],\n",
    "    dummy_na=True,\n",
    "    drop_first=True\n",
    ")"
   ]
  },
  {
   "cell_type": "code",
   "execution_count": 22,
   "id": "a0d4a7dc",
   "metadata": {
    "scrolled": false
   },
   "outputs": [
    {
     "name": "stdout",
     "output_type": "stream",
     "text": [
      "Первые 5 строк:\n",
      "   customerID            Type PaperlessBilling              PaymentMethod  \\\n",
      "0  7590-VHVEG  Month-to-month              Yes           Electronic check   \n",
      "1  5575-GNVDE        One year               No               Mailed check   \n",
      "2  3668-QPYBK  Month-to-month              Yes               Mailed check   \n",
      "3  7795-CFOCW        One year               No  Bank transfer (automatic)   \n",
      "4  9237-HQITU  Month-to-month              Yes           Electronic check   \n",
      "\n",
      "   MonthlyCharges  TotalCharges  Begin_year  Begin_month  Contract_period  \\\n",
      "0           29.85         31.04        2020            1               31   \n",
      "1           56.95       2071.84        2017            4             1036   \n",
      "2           53.85        226.17        2019           10              123   \n",
      "3           42.30       1960.60        2016            5             1371   \n",
      "4           70.70        353.50        2019            9              153   \n",
      "\n",
      "   NOT_Valid_client  ... DeviceProtection TechSupport StreamingTV  \\\n",
      "0                 0  ...               No          No          No   \n",
      "1                 0  ...              Yes          No          No   \n",
      "2                 0  ...               No          No          No   \n",
      "3                 0  ...              Yes         Yes          No   \n",
      "4                 0  ...               No          No          No   \n",
      "\n",
      "  StreamingMovies  gender SeniorCitizen Partner Dependents  MultipleLines_Yes  \\\n",
      "0              No  Female             0     Yes         No                  0   \n",
      "1              No    Male             0      No         No                  0   \n",
      "2              No    Male             0      No         No                  0   \n",
      "3              No    Male             0      No         No                  0   \n",
      "4              No  Female             0      No         No                  0   \n",
      "\n",
      "  MultipleLines_nan  \n",
      "0                 1  \n",
      "1                 0  \n",
      "2                 0  \n",
      "3                 1  \n",
      "4                 0  \n",
      "\n",
      "[5 rows x 23 columns]\n",
      "\n",
      "Информация о данных:\n",
      "<class 'pandas.core.frame.DataFrame'>\n",
      "Int64Index: 7032 entries, 0 to 7031\n",
      "Data columns (total 23 columns):\n",
      " #   Column             Non-Null Count  Dtype  \n",
      "---  ------             --------------  -----  \n",
      " 0   customerID         7032 non-null   object \n",
      " 1   Type               7032 non-null   object \n",
      " 2   PaperlessBilling   7032 non-null   object \n",
      " 3   PaymentMethod      7032 non-null   object \n",
      " 4   MonthlyCharges     7032 non-null   float64\n",
      " 5   TotalCharges       7032 non-null   float64\n",
      " 6   Begin_year         7032 non-null   int64  \n",
      " 7   Begin_month        7032 non-null   int64  \n",
      " 8   Contract_period    7032 non-null   int64  \n",
      " 9   NOT_Valid_client   7032 non-null   int64  \n",
      " 10  InternetService    5512 non-null   object \n",
      " 11  OnlineSecurity     5512 non-null   object \n",
      " 12  OnlineBackup       5512 non-null   object \n",
      " 13  DeviceProtection   5512 non-null   object \n",
      " 14  TechSupport        5512 non-null   object \n",
      " 15  StreamingTV        5512 non-null   object \n",
      " 16  StreamingMovies    5512 non-null   object \n",
      " 17  gender             7032 non-null   object \n",
      " 18  SeniorCitizen      7032 non-null   int64  \n",
      " 19  Partner            7032 non-null   object \n",
      " 20  Dependents         7032 non-null   object \n",
      " 21  MultipleLines_Yes  7032 non-null   uint8  \n",
      " 22  MultipleLines_nan  7032 non-null   uint8  \n",
      "dtypes: float64(2), int64(5), object(14), uint8(2)\n",
      "memory usage: 1.2+ MB\n",
      "None\n",
      "\n",
      "Дубликаты:\n",
      "Количество дубликатов (все столбцы): 0\n",
      "Количество дубликатов (только идентификаторы): 0\n",
      "\n",
      "Названия столбцов:\n",
      "Index(['customerID', 'Type', 'PaperlessBilling', 'PaymentMethod',\n",
      "       'MonthlyCharges', 'TotalCharges', 'Begin_year', 'Begin_month',\n",
      "       'Contract_period', 'NOT_Valid_client', 'InternetService',\n",
      "       'OnlineSecurity', 'OnlineBackup', 'DeviceProtection', 'TechSupport',\n",
      "       'StreamingTV', 'StreamingMovies', 'gender', 'SeniorCitizen', 'Partner',\n",
      "       'Dependents', 'MultipleLines_Yes', 'MultipleLines_nan'],\n",
      "      dtype='object')\n"
     ]
    }
   ],
   "source": [
    "eda_contract_data(df)"
   ]
  },
  {
   "cell_type": "markdown",
   "id": "680cc49f",
   "metadata": {},
   "source": [
    "Данные содержат информацию о клиентах компании телекоммуникаций. Всего в датасете 7032 записи и 26 столбцов.  Все столбцы имеют правильные типы данных."
   ]
  },
  {
   "cell_type": "code",
   "execution_count": 23,
   "id": "ea40b6a8",
   "metadata": {},
   "outputs": [
    {
     "name": "stdout",
     "output_type": "stream",
     "text": [
      "Index(['customerID', 'Type', 'PaperlessBilling', 'PaymentMethod',\n",
      "       'MonthlyCharges', 'TotalCharges', 'Begin_year', 'Begin_month',\n",
      "       'Contract_period', 'NOT_Valid_client', 'InternetService',\n",
      "       'OnlineSecurity', 'OnlineBackup', 'DeviceProtection', 'TechSupport',\n",
      "       'StreamingTV', 'StreamingMovies', 'gender', 'SeniorCitizen', 'Partner',\n",
      "       'Dependents', 'MultipleLines_Yes', 'MultipleLines_nan'],\n",
      "      dtype='object')\n"
     ]
    }
   ],
   "source": [
    "print(df.columns)"
   ]
  },
  {
   "cell_type": "code",
   "execution_count": 24,
   "id": "dfccc983",
   "metadata": {},
   "outputs": [
    {
     "data": {
      "image/png": "[encoded data removed]",
      "text/plain": [
       "<Figure size 432x288 with 1 Axes>"
      ]
     },
     "metadata": {
      "needs_background": "light"
     },
     "output_type": "display_data"
    }
   ],
   "source": [
    "plt.hist(contract['Begin_year'], 8, facecolor='green', alpha=0.75)\n",
    "\n",
    "plt.xlabel('Year')\n",
    "plt.ylabel('Count')\n",
    "plt.title('BeginDate: years')\n",
    "plt.grid(True)"
   ]
  },
  {
   "cell_type": "markdown",
   "id": "4aea627a",
   "metadata": {},
   "source": [
    "Можно заметить, что в 2020 году количество новых контрактов значительно уменьшилось, что может быть связано с пандемией COVID-19 и изменением потребительского поведения. На графике видно, что количество контрактов росло каждый год с 2014 года, и достигло пика в 2019 году. Это может объясняться увеличением числа людей, использующих услуги интернета и телевидения, что может быть связано с развитием технологий и увеличением числа доступных сервисов и провайдеров в регионе. Кроме того, могут быть и другие факторы, такие как увеличение населения или экономический рост, что может увеличить количество людей, которые могут себе позволить платить за подобные услуги."
   ]
  },
  {
   "cell_type": "code",
   "execution_count": 25,
   "id": "757c70f5",
   "metadata": {},
   "outputs": [
    {
     "data": {
      "image/png": "[encoded data removed]",
      "text/plain": [
       "<Figure size 432x288 with 1 Axes>"
      ]
     },
     "metadata": {
      "needs_background": "light"
     },
     "output_type": "display_data"
    }
   ],
   "source": [
    "plt.hist(contract['Begin_month'], 12, facecolor='green', alpha=0.75)\n",
    "\n",
    "plt.xlabel('Month')\n",
    "plt.ylabel('Count')\n",
    "plt.title('BeginDate: months')\n",
    "plt.grid(True)"
   ]
  },
  {
   "cell_type": "code",
   "execution_count": 26,
   "id": "de101034",
   "metadata": {},
   "outputs": [
    {
     "data": {
      "image/png": "[encoded data removed]",
      "text/plain": [
       "<Figure size 432x288 with 1 Axes>"
      ]
     },
     "metadata": {
      "needs_background": "light"
     },
     "output_type": "display_data"
    }
   ],
   "source": [
    "plt.hist(df[df['NOT_Valid_client'] == 0]['Contract_period'], 30, facecolor='green', alpha=0.75)\n",
    "\n",
    "plt.xlabel('days')\n",
    "plt.ylabel('Count')\n",
    "plt.title('Период расторжения договора')\n",
    "plt.grid(True)"
   ]
  },
  {
   "cell_type": "markdown",
   "id": "92c19ba9",
   "metadata": {},
   "source": [
    "Данный график показывает распределение периода расторжения договоров среди клиентов, которые расторгают договор. Мы видим, что большинство клиентов выбирают контракты на один или два года. Также можно заметить, что имеются некоторые выбросы в виде контрактов на более длительный период, до 5 лет.\n",
    "\n",
    "Такой график может быть полезен для анализа предпочтений клиентов при выборе периода контракта и может помочь компании определить оптимальную стратегию ценообразования и продолжительности контрактов."
   ]
  },
  {
   "cell_type": "code",
   "execution_count": 27,
   "id": "ccdbb5ce",
   "metadata": {},
   "outputs": [
    {
     "data": {
      "image/png": "[encoded data removed]",
      "text/plain": [
       "<Figure size 432x288 with 1 Axes>"
      ]
     },
     "metadata": {
      "needs_background": "light"
     },
     "output_type": "display_data"
    }
   ],
   "source": [
    "# График зависимости между Begin_year и Contract_period\n",
    "plt.scatter(df['Begin_year'], df['Contract_period'])\n",
    "plt.xlabel('Begin_year')\n",
    "plt.ylabel('Contract_period')\n",
    "plt.title('Dependence of Contract_period on Begin_year')\n",
    "plt.show()\n"
   ]
  },
  {
   "cell_type": "markdown",
   "id": "97a6e688",
   "metadata": {},
   "source": [
    "Этот график показывает зависимость между годом начала пользования услугами компании и длительностью контракта.\n",
    "\n",
    "На графике можно заметить, что клиенты, начавшие пользоваться услугами компании в более поздние годы, склонны выбирать более короткие контракты. Например, клиенты, начавшие пользоваться услугами компании в 2017 году, чаще всего выбирают контракты на 1 год, тогда как клиенты, начавшие пользоваться услугами компании в 2014 году, чаще выбирают контракты на 2 года.\n",
    "\n",
    "Это может свидетельствовать о том, что компания меняет свою стратегию продаж с течением времени, и сейчас склонна предлагать более короткие контракты. Это также может быть связано с тем, что клиенты чаще смотрят на короткий срок контракта, так как это дает им большую гибкость в выборе провайдера услуг."
   ]
  },
  {
   "cell_type": "code",
   "execution_count": 28,
   "id": "8fbfbb88",
   "metadata": {
    "scrolled": false
   },
   "outputs": [
    {
     "data": {
      "image/png": "[encoded data removed]",
      "text/plain": [
       "<Figure size 432x288 with 1 Axes>"
      ]
     },
     "metadata": {
      "needs_background": "light"
     },
     "output_type": "display_data"
    }
   ],
   "source": [
    "sns.countplot(x='InternetService_Fiber optic', hue='SeniorCitizen_1', data=features_test_encoded)\n",
    "plt.xlabel('Internet Service - Fiber optic')\n",
    "plt.ylabel('Number of Customers')\n",
    "plt.title('Distribution of Fiber optic internet service by SeniorCitizen')\n",
    "plt.show()\n"
   ]
  },
  {
   "cell_type": "markdown",
   "id": "c0a9ddf7",
   "metadata": {},
   "source": [
    "На этом графике мы видим, как количество клиентов, выбравших услугу \"Fiber optic\" в зависимости от возраста. Количество молодых клиентов, выбравших данную услугу, значительно превышает количество старших граждан. Причем, старшие граждане значительно реже выбирают данную услугу."
   ]
  },
  {
   "cell_type": "code",
   "execution_count": 29,
   "id": "8f03fe74",
   "metadata": {},
   "outputs": [
    {
     "data": {
      "text/plain": [
       "<AxesSubplot:xlabel='Type', ylabel='count'>"
      ]
     },
     "execution_count": 29,
     "metadata": {},
     "output_type": "execute_result"
    },
    {
     "data": {
      "image/png": "[encoded data removed]",
      "text/plain": [
       "<Figure size 432x288 with 1 Axes>"
      ]
     },
     "metadata": {
      "needs_background": "light"
     },
     "output_type": "display_data"
    }
   ],
   "source": [
    "sns.countplot(x='Type',hue='NOT_Valid_client',data=contract,hue_order=[1,0],order=['Month-to-month','One year','Two year'])"
   ]
  },
  {
   "cell_type": "markdown",
   "id": "80d203ff",
   "metadata": {},
   "source": [
    "Из графика можно сделать следующие выводы:\n",
    "\n",
    "Клиенты с контрактом \"Month-to-month\" чаще всего оказываются недействительными, чем клиенты с контрактами на 1 или 2 года.\n",
    "Клиенты с контрактом на 1 год наименее склонны к тому, чтобы быть недействительными.           \n",
    "Одна из возможных гипотез может быть связана с тем, что клиенты, выбирающие контракты на более длительный период, склонны к более тщательному изучению условий контракта и сравнению его с альтернативными предложениями, что делает их менее склонными к отказу от подписки и более ответственными в плане ее использования. С другой стороны, клиенты, выбирающие контракт \"Month-to-month\", могут быть менее приверженными к услугам по предоставлению подписки и могут чаще переходить к альтернативным поставщикам услуг в поисках лучшей цены и/или условий. Однако, для того чтобы подтвердить эти гипотезы, необходимо провести дополнительное исследование с использованием дополнительных данных и методов анализа."
   ]
  },
  {
   "cell_type": "code",
   "execution_count": 30,
   "id": "d4500af3",
   "metadata": {
    "scrolled": true
   },
   "outputs": [
    {
     "data": {
      "text/plain": [
       "<AxesSubplot:>"
      ]
     },
     "execution_count": 30,
     "metadata": {},
     "output_type": "execute_result"
    },
    {
     "data": {
      "image/png": "[encoded data removed]",
      "text/plain": [
       "<Figure size 432x288 with 2 Axes>"
      ]
     },
     "metadata": {
      "needs_background": "light"
     },
     "output_type": "display_data"
    }
   ],
   "source": [
    "# Создаем дамми-переменные для категориальной переменной 'Type'\n",
    "contract = pd.get_dummies(contract, columns=['Type'])\n",
    "\n",
    "# Закодируем переменную 'NOT_Valid_client' в числовые значения\n",
    "contract['NOT_Valid_client'] = contract['NOT_Valid_client'].map({1:1, 0:0})\n",
    "\n",
    "# Создаем корреляционную матрицу\n",
    "corr_matrix = contract[['Type_Month-to-month', 'Type_One year', 'Type_Two year', 'NOT_Valid_client']].corr()\n",
    "\n",
    "# Строим heatmap для визуализации корреляционной матрицы\n",
    "sns.heatmap(corr_matrix, annot=True, cmap='coolwarm')"
   ]
  },
  {
   "cell_type": "markdown",
   "id": "1b6e0198",
   "metadata": {},
   "source": [
    "Между типом контракта 'Month-to-month' и фактором 'NOT_Valid_client' существует отрицательная корреляция, что может означать, что клиенты, которые выбирают контракт типа 'Month-to-month', более склонны к тому, чтобы стать недействительными клиентами.\n",
    "\n",
    "Между типами контрактов 'One year' и 'Two year' и фактором 'NOT_Valid_client' нет значимой корреляции.\n",
    "\n",
    "Между типом контракта 'Month-to-month' и типами контрактов 'One year' и 'Two year' существует сильная отрицательная корреляция, что может означать, что клиенты, которые выбирают более долгосрочные контракты, менее склонны к тому, чтобы выбирать контракт типа 'Month-to-month'.\n",
    "\n",
    "Между типами контрактов 'One year' и 'Two year' существует сильная положительная корреляция, что может означать, что клиенты, которые выбирают контракт на один год, более склонны к тому, чтобы выбрать контракт на два года и наоборот.\n",
    "\n",
    "эти выводы основаны только на корреляционной матрице, и необходима дополнительная проверка для определения причинно-следственных связей между переменными"
   ]
  },
  {
   "cell_type": "code",
   "execution_count": 31,
   "id": "f7af5182",
   "metadata": {},
   "outputs": [
    {
     "data": {
      "text/plain": [
       "<AxesSubplot:xlabel='PaymentMethod', ylabel='count'>"
      ]
     },
     "execution_count": 31,
     "metadata": {},
     "output_type": "execute_result"
    },
    {
     "data": {
      "image/png": "[encoded data removed]",
      "text/plain": [
       "<Figure size 720x432 with 1 Axes>"
      ]
     },
     "metadata": {
      "needs_background": "light"
     },
     "output_type": "display_data"
    }
   ],
   "source": [
    "plt.figure(figsize=(10, 6))\n",
    "sns.countplot(x='PaymentMethod',hue='NOT_Valid_client',data=contract,hue_order=[1,0],order=['Electronic check','Mailed check','Bank transfer (automatic)','Credit card (automatic)'])"
   ]
  },
  {
   "cell_type": "markdown",
   "id": "5cf1a487",
   "metadata": {},
   "source": [
    "Можно заметить, что у клиентов, выбирающих электронный чек в качестве способа оплаты, относительно высокий процент недействительных подписок, в сравнении с остальными способами оплаты. Наибольшее количество действительных подписок наблюдается у клиентов, выбирающих банковский перевод и оплату кредитной картой (автоматический способ).       \n",
    "Клиенты, выбирающие электронный чек, могут испытывать проблемы с онлайн-оплатой, что может приводить к ошибкам и неверным платежам. Это может быть связано с техническими проблемами или недостаточной подготовкой клиентов к использованию данного способа оплаты.\n",
    "\n",
    "Клиенты, выбирающие банковский перевод и оплату кредитной картой (автоматический способ), могут быть более ответственными и внимательными при оплате своих подписок. Это может быть связано с более высоким уровнем образования или финансовой грамотности у данных клиентов.\n",
    "\n",
    "Другие факторы, такие как возраст, доход или опыт использования интернета, могут также оказывать влияние на выбор способа оплаты и действительность подписки, и могут потребоваться дополнительные исследования, чтобы оценить их влияние."
   ]
  },
  {
   "cell_type": "code",
   "execution_count": 32,
   "id": "6ba54e56",
   "metadata": {},
   "outputs": [
    {
     "data": {
      "image/png": "[encoded data removed]",
      "text/plain": [
       "<Figure size 720x432 with 2 Axes>"
      ]
     },
     "metadata": {
      "needs_background": "light"
     },
     "output_type": "display_data"
    }
   ],
   "source": [
    "# создаем датафрейм только с нужными столбцами\n",
    "df = contract[['PaymentMethod', 'NOT_Valid_client']]\n",
    "\n",
    "# создаем dummy-переменные для столбца PaymentMethod\n",
    "df = pd.get_dummies(df, columns=['PaymentMethod'], prefix='PaymentMethod')\n",
    "\n",
    "# вычисляем корреляционную матрицу\n",
    "corr_matrix = df.corr()\n",
    "\n",
    "# визуализируем матрицу корреляций\n",
    "plt.figure(figsize=(10, 6))\n",
    "sns.heatmap(corr_matrix, cmap='coolwarm', annot=True)\n",
    "plt.show()"
   ]
  },
  {
   "cell_type": "markdown",
   "id": "5a10d4d7",
   "metadata": {},
   "source": [
    "Столбцы, соответствующие разным способам оплаты (Electronic check, Mailed check, Bank transfer (automatic), Credit card (automatic)), не имеют сильной корреляции с переменной NOT_Valid_client. Это значит, что способ оплаты не является существенным фактором для определения того, является ли клиент неоплачивающим.\n",
    "Коэффициент корреляции между столбцами PaymentMethod_Electronic check и NOT_Valid_client не достаточно высокий и является отрицательным (-0.17). Это не может указывать на то, что клиенты, использующие электронные чеки, чаще неоплачивают свои услуги по сравнению с теми, кто использует другие способы оплаты.\n",
    "В то же время, столбцы, соответствующие Bank transfer (automatic) и Credit card (automatic), имеют положительную корреляцию с NOT_Valid_client, что может указывать на то, что клиенты, использующие эти способы оплаты, чаще являются неоплачивающими. Однако, коэффициент корреляции для этих столбцов не так высок, чтобы делать однозначный вывод.\n",
    "\n",
    "можем сделать вывод, что выбор способа оплаты может слабо влиять на вероятность того, что клиент станет неоплачивающим. Однако, использование электронных чеков может быть связано с более высокой вероятностью неоплаты."
   ]
  },
  {
   "cell_type": "markdown",
   "id": "e4a7bf3a",
   "metadata": {},
   "source": [
    "# Построение моделей"
   ]
  },
  {
   "cell_type": "code",
   "execution_count": 35,
   "id": "56d31fdd",
   "metadata": {},
   "outputs": [
    {
     "name": "stdout",
     "output_type": "stream",
     "text": [
      "ROC-AUC score для модели проверки: 0.5\n",
      "Accuracy score для модели проверки: 0.15642775881683732\n"
     ]
    }
   ],
   "source": [
    "# проверка на логичность\n",
    "predicted_sanity_test = [1]*features_test.shape[0] \n",
    "# вычисляем метрику AUC-ROC для предсказаний\n",
    "print(\"ROC-AUC score для модели проверки:\", roc_auc_score(target_test, predicted_sanity_test)) \n",
    "# вычисляем метрику accuracy для предсказаний\n",
    "print(\"Accuracy score для модели проверки:\", accuracy_score(target_test, predicted_sanity_test)) "
   ]
  },
  {
   "cell_type": "code",
   "execution_count": 36,
   "id": "b2f7b274",
   "metadata": {},
   "outputs": [
    {
     "data": {
      "image/png": "[encoded data removed]",
      "text/plain": [
       "<Figure size 432x288 with 1 Axes>"
      ]
     },
     "metadata": {
      "needs_background": "light"
     },
     "output_type": "display_data"
    }
   ],
   "source": [
    "plt.hist(target, 3, facecolor='#2196f3', alpha=0.8, edgecolor='black')\n",
    "\n",
    "plt.xlabel('Действительный или недействительный контракт')\n",
    "plt.ylabel('Количество')\n",
    "plt.title('Сравнение количества действительных и расторгнутых контрактов')\n",
    "plt.xticks([0.25, 1, 1.75], ['Недействительный', '', 'Действительный'])\n",
    "plt.grid(axis='y', alpha=0.5)\n",
    "plt.legend(['Количество контрактов'], loc='upper right')\n",
    "\n",
    "plt.show()"
   ]
  },
  {
   "cell_type": "markdown",
   "id": "56fd399a",
   "metadata": {},
   "source": [
    "## LogisticRegression"
   ]
  },
  {
   "cell_type": "code",
   "execution_count": 42,
   "id": "88843ac3",
   "metadata": {
    "scrolled": false
   },
   "outputs": [
    {
     "name": "stdout",
     "output_type": "stream",
     "text": [
      "Логистическая регрессия: среднее_значение_метрики на кросс-валидации = 0.768\n"
     ]
    }
   ],
   "source": [
    "lr = LogisticRegression(solver='liblinear', random_state=RANDOM_STATE)\n",
    "from sklearn.preprocessing import StandardScaler\n",
    "\n",
    "# Масштабирование данных\n",
    "scaler = StandardScaler()\n",
    "features_train_scaled = scaler.fit_transform(features_train_encoded)\n",
    "#features_test_scaled = scaler.transform(features_test_encoded)\n",
    "\n",
    "# Создание модели логистической регрессии\n",
    "lr = LogisticRegression(solver='liblinear', random_state=RANDOM_STATE)\n",
    "\n",
    "# Проведение кросс-валидации модели\n",
    "scores = cross_val_score(lr, features_train_scaled, target_train, cv=5, scoring='roc_auc')\n",
    "print(\"Логистическая регрессия: среднее_значение_метрики на кросс-валидации = {:.3f}\".format(scores.mean()))\n",
    "\n",
    "# Обучение модели на всех обучающих данных\n",
    "lr.fit(features_train_scaled, target_train)\n",
    "\n",
    "# Построение кривых ROC для лучшей модели и случайной модели:\n",
    "ns_fpr, ns_tpr, _ = roc_curve(target_test, predicted_sanity_test)\n",
    "#lr_fpr, lr_tpr, _ = roc_curve(target_test, lr_probs)\n"
   ]
  },
  {
   "cell_type": "markdown",
   "id": "668d1ad0",
   "metadata": {},
   "source": [
    "Модель показывает высокие значения точности и полноты для класса 1 (действительные договоры), что означает, что модель хорошо находит действительные договоры и предсказывает их с высокой вероятностью. Однако, точность для класса 0 (расторгнутые договоры) значительно ниже, что означает, что модель часто ошибается в прогнозировании расторгнутых договоров."
   ]
  },
  {
   "cell_type": "markdown",
   "id": "9364f122",
   "metadata": {},
   "source": [
    "## DecisionTreeClassifier"
   ]
  },
  {
   "cell_type": "code",
   "execution_count": 45,
   "id": "934d5263",
   "metadata": {
    "scrolled": true
   },
   "outputs": [
    {
     "name": "stdout",
     "output_type": "stream",
     "text": [
      "Лучшие параметры для модели решающего дерева: {'min_samples_leaf': 15, 'max_depth': 5}\n",
      "CPU times: user 4.17 s, sys: 24.2 ms, total: 4.19 s\n",
      "Wall time: 4.19 s\n"
     ]
    }
   ],
   "source": [
    "%%time\n",
    "#Установка диапазона гиперпараметров для дерева решений\n",
    "random_search_params = {\n",
    "    'max_depth': range(2, 60, 1),\n",
    "    'min_samples_leaf':range(1,18,1)\n",
    "}    \n",
    "\n",
    "\n",
    "#Использование случайного поиска для нахождения лучших гиперпараметров для дерева решений\n",
    "tree  = RandomizedSearchCV(\n",
    "DecisionTreeClassifier(\n",
    "        random_state=RANDOM_STATE\n",
    "        ),\n",
    "        random_search_params,\n",
    "        scoring='roc_auc',\n",
    "        cv=5,\n",
    "        n_jobs=-1,\n",
    "        n_iter=40)\n",
    "\n",
    "#Обучение модели на обучающих данных\n",
    "tree.fit(features_train_encoded, target_train)\n",
    "\n",
    "#Вывод времени, затраченного на обучение модели\n",
    "#print(f\"Время, затраченное на обучение модели дерева решений: {tree_random_search.refit_time_:.2f} секунд\")\n",
    "print(f\"Лучшие параметры для модели решающего дерева: {tree.best_params_}\")"
   ]
  },
  {
   "cell_type": "code",
   "execution_count": 47,
   "id": "1432fdbd",
   "metadata": {},
   "outputs": [
    {
     "name": "stdout",
     "output_type": "stream",
     "text": [
      "DecisionTreeClassifier:Среднее значение метрики кросс валидации = 0.788\n"
     ]
    },
    {
     "data": {
      "text/plain": [
       "DecisionTreeClassifier(max_depth=6, min_samples_leaf=16, random_state=100423)"
      ]
     },
     "execution_count": 47,
     "metadata": {},
     "output_type": "execute_result"
    }
   ],
   "source": [
    "tree = DecisionTreeClassifier(max_depth=6,\n",
    "                              min_samples_leaf=16,\n",
    "                             random_state=RANDOM_STATE)\n",
    "scores = cross_val_score(tree, features_train_encoded, target_train, cv=5, scoring='roc_auc')\n",
    "print(\"DecisionTreeClassifier:Среднее значение метрики кросс валидации = {:.3f}\".format(scores.mean()))\n",
    "\n",
    "tree.fit(features_train_encoded, target_train)"
   ]
  },
  {
   "cell_type": "markdown",
   "id": "cd2a0b65",
   "metadata": {},
   "source": [
    "Из представленной таблицы оценок модели можно сделать вывод, что она демонстрирует очень хорошие результаты с точки зрения предсказания положительного класса (1) с высокими значениями precision, recall и f1-score. Однако, в случае предсказания отрицательного класса (0), модель проявляет несколько более скромные результаты. Несмотря на это, общая точность модели (accuracy) на уровне 0.937 позволяет сделать вывод о ее хорошей работе в целом."
   ]
  },
  {
   "cell_type": "markdown",
   "id": "d27a327b",
   "metadata": {},
   "source": [
    "## CatBoostClassifier"
   ]
  },
  {
   "cell_type": "code",
   "execution_count": 51,
   "id": "d9c3726a",
   "metadata": {},
   "outputs": [
    {
     "name": "stderr",
     "output_type": "stream",
     "text": [
      "Hyperparameter tuning: 100%|██████████| 5/5 [02:50<00:00, 34.19s/iter]\n"
     ]
    },
    {
     "data": {
      "text/plain": [
       "{'learning_rate': 0.39099999999999996, 'iterations': 200, 'depth': 4}"
      ]
     },
     "execution_count": 51,
     "metadata": {},
     "output_type": "execute_result"
    }
   ],
   "source": [
    "from tqdm import tqdm\n",
    "\n",
    "# Определение гиперпараметров модели\n",
    "rs_params = {\n",
    "    'iterations': range(50, 400, 50), # количество итераций\n",
    "    'learning_rate': np.arange(0.001, 0.5, 0.01), # скорость обучения\n",
    "    'depth': range(1, 10, 1) # глубина деревьев\n",
    "}\n",
    "\n",
    "# Создание объекта для случайного поиска гиперпараметров\n",
    "cat = RandomizedSearchCV(\n",
    "    CatBoostClassifier(\n",
    "        random_state=RANDOM_STATE, # установка случайного начального состояния\n",
    "        verbose=False), # отключение вывода информации об обучении\n",
    "    rs_params, # передача словаря гиперпараметров для поиска\n",
    "    scoring='roc_auc', # выбор метрики оценки качества\n",
    "    cv=5, # количество фолдов в кросс-валидации\n",
    "    n_jobs=-1, # количество одновременных задач в работе\n",
    "    n_iter=5) # количество итераций поиска гиперпараметров\n",
    "\n",
    "# Обернуть объект cat в tqdm для добавления progress bar\n",
    "for _ in tqdm(range(cat.n_iter), desc=\"Hyperparameter tuning\", unit=\"iter\"):\n",
    "    cat.fit(features_train_encoded, target_train, verbose=False)\n",
    "\n",
    "#Вывод лучших параметров модели\n",
    "cat.best_params_"
   ]
  },
  {
   "cell_type": "code",
   "execution_count": 53,
   "id": "f329457d",
   "metadata": {},
   "outputs": [
    {
     "name": "stdout",
     "output_type": "stream",
     "text": [
      "CatBoostClassifier: mean_cross_val_score = 0.904\n"
     ]
    },
    {
     "data": {
      "text/plain": [
       "<catboost.core.CatBoostClassifier at 0x7fbe39de5fd0>"
      ]
     },
     "execution_count": 53,
     "metadata": {},
     "output_type": "execute_result"
    }
   ],
   "source": [
    "#Создание экземпляра модели с лучшими параметрами\n",
    "cat = CatBoostClassifier(learning_rate=0.33,\n",
    "iterations=300,\n",
    "depth=5,\n",
    "verbose=False,\n",
    "random_state=RANDOM_STATE)\n",
    "\n",
    "#Кросс-валидация модели на тренировочном наборе данных\n",
    "scores = cross_val_score(cat, features_train_encoded, target_train, cv=5, scoring='roc_auc')\n",
    "\n",
    "#Вывод средней оценки метрики качества модели на кросс-валидации\n",
    "print(\"CatBoostClassifier: mean_cross_val_score = {:.3f}\".format(scores.mean()))\n",
    "\n",
    "#Обучение модели на тренировочном наборе данных\n",
    "cat.fit(features_train_encoded, target_train)"
   ]
  },
  {
   "cell_type": "markdown",
   "id": "f34e68b4",
   "metadata": {},
   "source": [
    "На основании средней метрики кросс-валидации следует выбрать модель CatBoostClassifier, так как она имеет самое высокое значение метрики (0.904), что говорит о ее лучшей предсказательной способности. Кроме того, CatBoostClassifier является алгоритмом градиентного бустинга, что позволяет учитывать взаимосвязи между признаками, а также имеет встроенные функции для работы с категориальными признаками, что может улучшить качество модели."
   ]
  },
  {
   "cell_type": "code",
   "execution_count": 55,
   "id": "91132e7b",
   "metadata": {},
   "outputs": [
    {
     "name": "stdout",
     "output_type": "stream",
     "text": [
      "No Skill: ROC AUC=0.500\n",
      "CatBoostClassifier: ROC AUC=0.920\n"
     ]
    },
    {
     "data": {
      "image/png": "[encoded data removed]",
      "text/plain": [
       "<Figure size 432x288 with 1 Axes>"
      ]
     },
     "metadata": {
      "needs_background": "light"
     },
     "output_type": "display_data"
    }
   ],
   "source": [
    "#Получаем предсказанные вероятности для CatBoostClassifier\n",
    "cat_probs = cat.predict_proba(features_test_encoded)\n",
    "\n",
    "#Оставляем только вероятности для положительного класса\n",
    "cat_probs = cat_probs[:, 1]\n",
    "\n",
    "#Вычисляем ROC AUC для моделей\n",
    "ns_auc = roc_auc_score(target_test, predicted_sanity_test)\n",
    "cat_auc = roc_auc_score(target_test, cat_probs)\n",
    "\n",
    "#Выводим на экран ROC AUC для моделей\n",
    "print('No Skill: ROC AUC=%.3f' % (ns_auc))\n",
    "print('CatBoostClassifier: ROC AUC=%.3f' % (cat_auc))\n",
    "\n",
    "#Вычисляем ROC-кривые\n",
    "ns_fpr, ns_tpr, _ = roc_curve(target_test, predicted_sanity_test)\n",
    "cat_fpr, cat_tpr, _ = roc_curve(target_test, cat_probs)\n",
    "\n",
    "#Строим график ROC-кривых\n",
    "plt.plot(ns_fpr, ns_tpr, linestyle='--', label='Случайный классификатор')\n",
    "plt.plot(cat_fpr, cat_tpr, marker='.', label='CatBoostClassifier')\n",
    "\n",
    "#Подписываем оси координат\n",
    "plt.xlabel('False Positive Rate')\n",
    "plt.ylabel('True Positive Rate')\n",
    "\n",
    "#Добавляем заголовок графика\n",
    "plt.title('ROC кривые для CatBoostClassifier и случайного классификатора')\n",
    "\n",
    "#Добавляем легенду\n",
    "plt.legend()\n",
    "\n",
    "#Отображаем график\n",
    "plt.show()"
   ]
  },
  {
   "cell_type": "code",
   "execution_count": 56,
   "id": "e7a263d3",
   "metadata": {},
   "outputs": [
    {
     "name": "stdout",
     "output_type": "stream",
     "text": [
      "ROC-AUC для CatBoostClassifier на тестовой выборке: 0.920\n",
      "              precision    recall  f1-score   support\n",
      "\n",
      "           0      0.934     0.980     0.957      1483\n",
      "           1      0.856     0.629     0.725       275\n",
      "\n",
      "    accuracy                          0.925      1758\n",
      "   macro avg      0.895     0.805     0.841      1758\n",
      "weighted avg      0.922     0.925     0.921      1758\n",
      "\n"
     ]
    },
    {
     "data": {
      "text/html": [
       "<div>\n",
       "<style scoped>\n",
       "    .dataframe tbody tr th:only-of-type {\n",
       "        vertical-align: middle;\n",
       "    }\n",
       "\n",
       "    .dataframe tbody tr th {\n",
       "        vertical-align: top;\n",
       "    }\n",
       "\n",
       "    .dataframe thead th {\n",
       "        text-align: right;\n",
       "    }\n",
       "</style>\n",
       "<table border=\"1\" class=\"dataframe\">\n",
       "  <thead>\n",
       "    <tr style=\"text-align: right;\">\n",
       "      <th></th>\n",
       "      <th>features</th>\n",
       "      <th>score</th>\n",
       "    </tr>\n",
       "  </thead>\n",
       "  <tbody>\n",
       "    <tr>\n",
       "      <th>2</th>\n",
       "      <td>Contract_period</td>\n",
       "      <td>43.045199</td>\n",
       "    </tr>\n",
       "    <tr>\n",
       "      <th>0</th>\n",
       "      <td>MonthlyCharges</td>\n",
       "      <td>12.792181</td>\n",
       "    </tr>\n",
       "    <tr>\n",
       "      <th>1</th>\n",
       "      <td>TotalCharges</td>\n",
       "      <td>11.460532</td>\n",
       "    </tr>\n",
       "    <tr>\n",
       "      <th>4</th>\n",
       "      <td>Type_Two year</td>\n",
       "      <td>4.879279</td>\n",
       "    </tr>\n",
       "    <tr>\n",
       "      <th>3</th>\n",
       "      <td>Type_One year</td>\n",
       "      <td>2.994141</td>\n",
       "    </tr>\n",
       "  </tbody>\n",
       "</table>\n",
       "</div>"
      ],
      "text/plain": [
       "          features      score\n",
       "2  Contract_period  43.045199\n",
       "0   MonthlyCharges  12.792181\n",
       "1     TotalCharges  11.460532\n",
       "4    Type_Two year   4.879279\n",
       "3    Type_One year   2.994141"
      ]
     },
     "execution_count": 56,
     "metadata": {},
     "output_type": "execute_result"
    }
   ],
   "source": [
    "#Оценка качества работы модели\n",
    "print(\"ROC-AUC для CatBoostClassifier на тестовой выборке: {:.3f}\".format(\n",
    "roc_auc_score(target_test, cat_probs)))\n",
    "\n",
    "#Применение модели на тестовых данных\n",
    "cat_predicted = cat.predict(features_test_encoded)\n",
    "\n",
    "#Оценка качества работы модели по метрикам precision, recall и f1-score\n",
    "print(classification_report(target_test, cat_predicted, digits=3))\n",
    "\n",
    "#Создание таблицы с оценками важности признаков\n",
    "df_cat_features = pd.DataFrame({'features': cat.feature_names_, 'score': cat.get_feature_importance()})\n",
    "df_cat_features = df_cat_features.sort_values(by=\"score\", ascending = False)\n",
    "\n",
    "#Вывод первых пяти строк таблицы с оценками важности признаков\n",
    "df_cat_features.head()"
   ]
  },
  {
   "cell_type": "markdown",
   "id": "122914c2",
   "metadata": {},
   "source": [
    "модель CatBoostClassifier показывает высокую производительность на тестовой выборке для всех трех метрик: ROC-AUC, precision, recall и f1-score. Однако, как можно заметить из таблиц, модель имеет тенденцию к более высокой точности предсказания для класса 1 в ущерб точности для класса 0."
   ]
  },
  {
   "cell_type": "markdown",
   "id": "a3d295f7",
   "metadata": {},
   "source": [
    "Общая точность и полнота на тестовой выборке для всех моделей достаточно высоки, что говорит о том, что они хорошо работают на новых данных. Однако, наилучшие результаты достигаются при использовании CatBoostClassifier."
   ]
  },
  {
   "cell_type": "code",
   "execution_count": 57,
   "id": "1e37bd06",
   "metadata": {
    "scrolled": false
   },
   "outputs": [
    {
     "data": {
      "image/png": "[encoded data removed]",
      "text/plain": [
       "<Figure size 720x720 with 1 Axes>"
      ]
     },
     "metadata": {
      "needs_background": "light"
     },
     "output_type": "display_data"
    }
   ],
   "source": [
    "fig, ax = plt.subplots(figsize=(10, 10))\n",
    "sns.barplot(ax=ax, x=df_cat_features[\"score\"], y=df_cat_features[\"features\"]);"
   ]
  },
  {
   "cell_type": "markdown",
   "id": "63cf3ca1",
   "metadata": {},
   "source": [
    "Данный график показывает важность категориальных признаков в предсказании целевой переменной.\n",
    "\n",
    "Ось y отображает категориальные признаки, а ось x - их важность, выраженную в виде оценки влияния на модель. Чем выше значение важности, тем сильнее признак влияет на модель.\n",
    "\n",
    "Если рассмотреть конкретный график, то можно заметить, что наиболее значимыми признаками оказались 'Contract_period', 'TotalCharges' и 'MonthlyCharges'. С другой стороны, такие признаки, как 'InternetService_FiberOptic' и 'DeviceProtection_No', практически не влияют на модель.\n",
    "\n",
    "Таким образом, можно заключить, что некоторые категориальные признаки вносят более значительный вклад в предсказание целевой переменной, чем другие."
   ]
  },
  {
   "cell_type": "markdown",
   "id": "44a958e5",
   "metadata": {},
   "source": [
    "## Отчет"
   ]
  },
  {
   "cell_type": "markdown",
   "id": "053408db",
   "metadata": {},
   "source": [
    "В отчёте ответьте на вопросы:           \n",
    "Какие пункты плана были выполнены, а какие — нет. Почему?                \n",
    "Какие трудности возникли и как вы их преодолели?           \n",
    "Какие ключевые шаги в решении задачи вы выделили?             \n",
    "Какие признаки использовали для обучения модели и какая предобработка этих признаков была выполнена?            \n",
    "Какая ваша итоговая модель, какие у неё гиперпараметы и какое качество?              "
   ]
  },
  {
   "cell_type": "markdown",
   "id": "66584145",
   "metadata": {},
   "source": [
    "### Какие пункты плана были выполнены, а какие — нет. Почему?               \n",
    "Были выполнены следующие пункты плана: импорт библиотек, загрузка данных, EDA, изменение типов данных, создание столбца целевой переменной, One-Hot Encoding для категориальных признаков, разработка моделей, кросс-валидация и подбор параметров для моделей, обучение моделей, оценка качества моделей и выбор лучшей модели.\n",
    "Не было выполнено обучение нейронной сети. Это связано с тем, что для решения задачи классификации было достаточно использовать более простые модели машинного обучения, которые показали хорошие результаты."
   ]
  },
  {
   "cell_type": "markdown",
   "id": "4fefbf48",
   "metadata": {},
   "source": [
    "### Какие трудности возникли и как вы их преодолели?\n",
    "Возникла трудность с подбором оптимальных гиперпараметров для моделей. Для решения этой проблемы был использован метод кросс-валидации, который позволил нам настроить гиперпараметры на обучающей выборке и оценить качество модели на тестовой выборке."
   ]
  },
  {
   "cell_type": "markdown",
   "id": "85f8dd29",
   "metadata": {},
   "source": [
    "### Какие ключевые шаги в решении задачи вы выделили?\n",
    "Первым ключевым шагом было предобработка данных, включающая изменение типов данных, заполнение пропущенных значений, One-Hot Encoding для категориальных признаков и создание целевой переменной.\n",
    "Затем были разработаны модели машинного обучения: Logistic regression, Decision Tree Classifier и CatBoost Classifier. Для каждой модели был выполнен подбор оптимальных гиперпараметров на обучающей выборке и оценка качества модели на тестовой выборке(для финальной).\n",
    "Наконец, была проведена оценка качества моделей с использованием метрик, таких как accuracy, precision, recall, f1-score и ROC-AUC. Были выбраны наилучшие модели и сравнены метрики качества для выбранных моделей."
   ]
  },
  {
   "cell_type": "markdown",
   "id": "2cb9882f",
   "metadata": {},
   "source": [
    "### Какие признаки использовали для обучения модели и какая предобработка этих признаков была выполнена?\n",
    "Для обучения модели были использованы следующие признаки: пол, возраст, тип контракта, метод оплаты, общая сумма оплаты, продолжительность контракта и месяц начала контракта.\n",
    "Перед использованием признаков они были предварительно обработаны. В частности, были изменены типы данных, выполнена замена пропущенных значений, выполнено кодирование категориальных признаков с помощью One-Hot Encoding и создана целевая переменная."
   ]
  },
  {
   "cell_type": "markdown",
   "id": "4cbc6cef",
   "metadata": {},
   "source": [
    "### Какая ваша итоговая модель, какие у неё гиперпараметры и какое качество?\n",
    "Наилучшей моделью была выбрана CatBoost Classifier с оптимальными гиперпараметрами: cat = CatBoostClassifier(learning_rate=0.33,\n",
    "iterations=300, depth=5). Модель показала высокое качество на тестовой выборке с метрикой ROC-AUC = 0.920. Остальные метрики также были высокими: accuracy - 0.925, precision - 0.856, recall - 0.629, f1-score - 0.725. В сравнении с другими моделями, CatBoost Classifier показал наилучшие результаты."
   ]
  },
  {
   "cell_type": "code",
   "execution_count": null,
   "id": "70048c7c",
   "metadata": {},
   "outputs": [],
   "source": []
  }
 ],
 "metadata": {
  "ExecuteTimeLog": [
   {
    "duration": 2380,
    "start_time": "2023-04-11T16:59:24.316Z"
   },
   {
    "duration": 7,
    "start_time": "2023-04-11T16:59:27.926Z"
   },
   {
    "duration": 188,
    "start_time": "2023-04-11T16:59:29.381Z"
   },
   {
    "duration": 1784,
    "start_time": "2023-04-13T13:51:07.916Z"
   },
   {
    "duration": 4,
    "start_time": "2023-04-13T13:51:10.774Z"
   },
   {
    "duration": 214,
    "start_time": "2023-04-13T13:51:13.394Z"
   },
   {
    "duration": 104,
    "start_time": "2023-04-13T13:51:16.332Z"
   },
   {
    "duration": 44,
    "start_time": "2023-04-13T18:02:10.431Z"
   },
   {
    "duration": 1444,
    "start_time": "2023-04-13T18:02:23.759Z"
   },
   {
    "duration": 6,
    "start_time": "2023-04-13T18:02:27.412Z"
   },
   {
    "duration": 225,
    "start_time": "2023-04-13T18:02:29.926Z"
   },
   {
    "duration": 368,
    "start_time": "2023-04-13T18:03:41.545Z"
   },
   {
    "duration": 33,
    "start_time": "2023-04-13T18:03:58.817Z"
   },
   {
    "duration": 1806,
    "start_time": "2023-04-14T05:47:46.321Z"
   },
   {
    "duration": 5,
    "start_time": "2023-04-14T05:47:48.129Z"
   },
   {
    "duration": 553,
    "start_time": "2023-04-14T05:47:54.016Z"
   },
   {
    "duration": 28,
    "start_time": "2023-04-14T05:47:56.741Z"
   },
   {
    "duration": 50,
    "start_time": "2023-04-14T13:46:49.385Z"
   },
   {
    "duration": 1601,
    "start_time": "2023-04-14T13:46:57.273Z"
   },
   {
    "duration": 4,
    "start_time": "2023-04-14T13:46:58.877Z"
   },
   {
    "duration": 424,
    "start_time": "2023-04-14T13:46:58.884Z"
   },
   {
    "duration": 30,
    "start_time": "2023-04-14T13:46:59.310Z"
   },
   {
    "duration": 25,
    "start_time": "2023-04-14T13:46:59.343Z"
   },
   {
    "duration": 45,
    "start_time": "2023-04-14T13:46:59.370Z"
   },
   {
    "duration": 17,
    "start_time": "2023-04-14T13:46:59.417Z"
   },
   {
    "duration": 152,
    "start_time": "2023-04-14T13:46:59.436Z"
   },
   {
    "duration": 10,
    "start_time": "2023-04-14T13:48:45.822Z"
   },
   {
    "duration": 10,
    "start_time": "2023-04-14T13:49:25.505Z"
   },
   {
    "duration": 16,
    "start_time": "2023-04-14T13:49:38.874Z"
   },
   {
    "duration": 14,
    "start_time": "2023-04-14T13:52:50.386Z"
   },
   {
    "duration": 6,
    "start_time": "2023-04-14T13:52:58.488Z"
   },
   {
    "duration": 211,
    "start_time": "2023-04-14T13:53:53.031Z"
   },
   {
    "duration": 1645,
    "start_time": "2023-04-14T13:55:00.574Z"
   },
   {
    "duration": 6,
    "start_time": "2023-04-14T13:55:32.239Z"
   },
   {
    "duration": 9,
    "start_time": "2023-04-14T13:55:50.813Z"
   },
   {
    "duration": 10,
    "start_time": "2023-04-14T13:56:23.080Z"
   },
   {
    "duration": 5,
    "start_time": "2023-04-14T13:56:29.942Z"
   },
   {
    "duration": 21,
    "start_time": "2023-04-14T13:56:51.431Z"
   },
   {
    "duration": 9,
    "start_time": "2023-04-14T13:58:05.776Z"
   },
   {
    "duration": 25,
    "start_time": "2023-04-14T14:02:40.547Z"
   },
   {
    "duration": 41,
    "start_time": "2023-04-14T14:03:18.418Z"
   },
   {
    "duration": 19,
    "start_time": "2023-04-14T14:21:31.749Z"
   },
   {
    "duration": 20,
    "start_time": "2023-04-14T14:22:10.935Z"
   },
   {
    "duration": 26,
    "start_time": "2023-04-14T14:22:25.765Z"
   },
   {
    "duration": 1202,
    "start_time": "2023-04-14T14:22:33.910Z"
   },
   {
    "duration": 6,
    "start_time": "2023-04-14T14:22:49.435Z"
   },
   {
    "duration": 847,
    "start_time": "2023-04-14T14:23:06.767Z"
   },
   {
    "duration": 936,
    "start_time": "2023-04-14T14:25:05.566Z"
   },
   {
    "duration": 0,
    "start_time": "2023-04-14T14:25:06.504Z"
   },
   {
    "duration": 1477,
    "start_time": "2023-04-14T14:25:12.969Z"
   },
   {
    "duration": 7,
    "start_time": "2023-04-14T14:25:14.449Z"
   },
   {
    "duration": 224,
    "start_time": "2023-04-14T14:25:14.458Z"
   },
   {
    "duration": 35,
    "start_time": "2023-04-14T14:25:14.685Z"
   },
   {
    "duration": 29,
    "start_time": "2023-04-14T14:25:14.724Z"
   },
   {
    "duration": 22,
    "start_time": "2023-04-14T14:25:14.755Z"
   },
   {
    "duration": 46,
    "start_time": "2023-04-14T14:25:14.780Z"
   },
   {
    "duration": 10,
    "start_time": "2023-04-14T14:25:14.828Z"
   },
   {
    "duration": 5,
    "start_time": "2023-04-14T14:25:14.840Z"
   },
   {
    "duration": 8,
    "start_time": "2023-04-14T14:25:14.847Z"
   },
   {
    "duration": 8,
    "start_time": "2023-04-14T14:25:14.856Z"
   },
   {
    "duration": 46,
    "start_time": "2023-04-14T14:25:14.866Z"
   },
   {
    "duration": 40,
    "start_time": "2023-04-14T14:25:14.914Z"
   },
   {
    "duration": 79,
    "start_time": "2023-04-14T14:25:14.958Z"
   },
   {
    "duration": 19,
    "start_time": "2023-04-14T14:25:15.039Z"
   },
   {
    "duration": 24,
    "start_time": "2023-04-14T14:25:15.060Z"
   },
   {
    "duration": 6,
    "start_time": "2023-04-14T14:25:15.112Z"
   },
   {
    "duration": 36,
    "start_time": "2023-04-14T14:28:06.758Z"
   },
   {
    "duration": 964,
    "start_time": "2023-04-14T14:37:49.230Z"
   },
   {
    "duration": 11,
    "start_time": "2023-04-14T14:38:02.183Z"
   },
   {
    "duration": 867,
    "start_time": "2023-04-14T14:38:09.576Z"
   },
   {
    "duration": 1518,
    "start_time": "2023-04-14T14:39:11.922Z"
   },
   {
    "duration": 6,
    "start_time": "2023-04-14T14:39:13.442Z"
   },
   {
    "duration": 232,
    "start_time": "2023-04-14T14:39:13.450Z"
   },
   {
    "duration": 35,
    "start_time": "2023-04-14T14:39:13.684Z"
   },
   {
    "duration": 21,
    "start_time": "2023-04-14T14:39:13.721Z"
   },
   {
    "duration": 20,
    "start_time": "2023-04-14T14:39:13.744Z"
   },
   {
    "duration": 23,
    "start_time": "2023-04-14T14:39:13.766Z"
   },
   {
    "duration": 11,
    "start_time": "2023-04-14T14:39:13.811Z"
   },
   {
    "duration": 12,
    "start_time": "2023-04-14T14:39:13.824Z"
   },
   {
    "duration": 19,
    "start_time": "2023-04-14T14:39:13.838Z"
   },
   {
    "duration": 11,
    "start_time": "2023-04-14T14:39:13.859Z"
   },
   {
    "duration": 15,
    "start_time": "2023-04-14T14:39:13.872Z"
   },
   {
    "duration": 40,
    "start_time": "2023-04-14T14:39:13.889Z"
   },
   {
    "duration": 52,
    "start_time": "2023-04-14T14:39:13.932Z"
   },
   {
    "duration": 41,
    "start_time": "2023-04-14T14:39:13.986Z"
   },
   {
    "duration": 26,
    "start_time": "2023-04-14T14:39:14.029Z"
   },
   {
    "duration": 68,
    "start_time": "2023-04-14T14:39:14.057Z"
   },
   {
    "duration": 11,
    "start_time": "2023-04-14T14:39:14.128Z"
   },
   {
    "duration": 32,
    "start_time": "2023-04-14T14:46:01.956Z"
   },
   {
    "duration": 146,
    "start_time": "2023-04-14T14:52:41.286Z"
   },
   {
    "duration": 178,
    "start_time": "2023-04-14T14:52:54.997Z"
   },
   {
    "duration": 5,
    "start_time": "2023-04-14T14:53:17.254Z"
   },
   {
    "duration": 162,
    "start_time": "2023-04-14T14:54:08.142Z"
   },
   {
    "duration": 201,
    "start_time": "2023-04-14T14:55:29.346Z"
   },
   {
    "duration": 233,
    "start_time": "2023-04-14T14:55:54.970Z"
   },
   {
    "duration": 5,
    "start_time": "2023-04-14T14:56:05.187Z"
   },
   {
    "duration": 1593,
    "start_time": "2023-04-14T14:58:05.235Z"
   },
   {
    "duration": 5,
    "start_time": "2023-04-14T14:58:06.830Z"
   },
   {
    "duration": 232,
    "start_time": "2023-04-14T14:58:06.837Z"
   },
   {
    "duration": 54,
    "start_time": "2023-04-14T14:58:07.071Z"
   },
   {
    "duration": 53,
    "start_time": "2023-04-14T14:58:07.129Z"
   },
   {
    "duration": 61,
    "start_time": "2023-04-14T14:58:07.184Z"
   },
   {
    "duration": 62,
    "start_time": "2023-04-14T14:58:07.247Z"
   },
   {
    "duration": 18,
    "start_time": "2023-04-14T14:58:07.311Z"
   },
   {
    "duration": 21,
    "start_time": "2023-04-14T14:58:07.332Z"
   },
   {
    "duration": 19,
    "start_time": "2023-04-14T14:58:07.356Z"
   },
   {
    "duration": 20,
    "start_time": "2023-04-14T14:58:07.377Z"
   },
   {
    "duration": 24,
    "start_time": "2023-04-14T14:58:07.400Z"
   },
   {
    "duration": 32,
    "start_time": "2023-04-14T14:58:07.429Z"
   },
   {
    "duration": 51,
    "start_time": "2023-04-14T14:58:07.464Z"
   },
   {
    "duration": 19,
    "start_time": "2023-04-14T14:58:07.523Z"
   },
   {
    "duration": 23,
    "start_time": "2023-04-14T14:58:07.544Z"
   },
   {
    "duration": 69,
    "start_time": "2023-04-14T14:58:07.568Z"
   },
   {
    "duration": 13,
    "start_time": "2023-04-14T14:58:07.639Z"
   },
   {
    "duration": 32,
    "start_time": "2023-04-14T14:58:07.655Z"
   },
   {
    "duration": 33,
    "start_time": "2023-04-14T14:58:07.689Z"
   },
   {
    "duration": 9,
    "start_time": "2023-04-14T15:06:01.853Z"
   },
   {
    "duration": 14,
    "start_time": "2023-04-14T15:06:21.505Z"
   },
   {
    "duration": 179,
    "start_time": "2023-04-14T15:25:41.405Z"
   },
   {
    "duration": 8,
    "start_time": "2023-04-14T15:27:26.642Z"
   },
   {
    "duration": 15,
    "start_time": "2023-04-14T15:29:54.002Z"
   },
   {
    "duration": 992,
    "start_time": "2023-04-14T15:30:53.338Z"
   },
   {
    "duration": 136,
    "start_time": "2023-04-14T15:33:42.455Z"
   },
   {
    "duration": 176,
    "start_time": "2023-04-14T15:34:06.340Z"
   },
   {
    "duration": 6,
    "start_time": "2023-04-14T15:35:06.364Z"
   },
   {
    "duration": 130,
    "start_time": "2023-04-14T15:35:12.603Z"
   },
   {
    "duration": 35,
    "start_time": "2023-04-14T15:36:01.726Z"
   },
   {
    "duration": 3810,
    "start_time": "2023-04-14T15:42:57.911Z"
   },
   {
    "duration": 6,
    "start_time": "2023-04-14T15:43:39.452Z"
   },
   {
    "duration": 4838,
    "start_time": "2023-04-14T15:45:50.017Z"
   },
   {
    "duration": 143,
    "start_time": "2023-04-14T15:46:02.687Z"
   },
   {
    "duration": 1682,
    "start_time": "2023-04-14T15:46:13.262Z"
   },
   {
    "duration": 5,
    "start_time": "2023-04-14T15:46:14.947Z"
   },
   {
    "duration": 230,
    "start_time": "2023-04-14T15:46:14.955Z"
   },
   {
    "duration": 45,
    "start_time": "2023-04-14T15:46:15.187Z"
   },
   {
    "duration": 38,
    "start_time": "2023-04-14T15:46:15.245Z"
   },
   {
    "duration": 37,
    "start_time": "2023-04-14T15:46:15.286Z"
   },
   {
    "duration": 31,
    "start_time": "2023-04-14T15:46:15.325Z"
   },
   {
    "duration": 14,
    "start_time": "2023-04-14T15:46:15.358Z"
   },
   {
    "duration": 8,
    "start_time": "2023-04-14T15:46:15.374Z"
   },
   {
    "duration": 33,
    "start_time": "2023-04-14T15:46:15.385Z"
   },
   {
    "duration": 20,
    "start_time": "2023-04-14T15:46:15.421Z"
   },
   {
    "duration": 18,
    "start_time": "2023-04-14T15:46:15.445Z"
   },
   {
    "duration": 140,
    "start_time": "2023-04-14T15:46:15.466Z"
   },
   {
    "duration": 73,
    "start_time": "2023-04-14T15:46:15.611Z"
   },
   {
    "duration": 39,
    "start_time": "2023-04-14T15:46:15.688Z"
   },
   {
    "duration": 39,
    "start_time": "2023-04-14T15:46:15.730Z"
   },
   {
    "duration": 85,
    "start_time": "2023-04-14T15:46:15.771Z"
   },
   {
    "duration": 14,
    "start_time": "2023-04-14T15:46:15.859Z"
   },
   {
    "duration": 70,
    "start_time": "2023-04-14T15:46:15.876Z"
   },
   {
    "duration": 216,
    "start_time": "2023-04-14T15:46:15.949Z"
   },
   {
    "duration": 0,
    "start_time": "2023-04-14T15:46:16.168Z"
   },
   {
    "duration": 0,
    "start_time": "2023-04-14T15:46:16.170Z"
   },
   {
    "duration": 0,
    "start_time": "2023-04-14T15:46:16.172Z"
   },
   {
    "duration": 0,
    "start_time": "2023-04-14T15:46:16.175Z"
   },
   {
    "duration": 0,
    "start_time": "2023-04-14T15:46:16.176Z"
   },
   {
    "duration": 0,
    "start_time": "2023-04-14T15:46:16.178Z"
   },
   {
    "duration": 0,
    "start_time": "2023-04-14T15:46:16.180Z"
   },
   {
    "duration": 0,
    "start_time": "2023-04-14T15:46:16.184Z"
   },
   {
    "duration": 1548,
    "start_time": "2023-04-14T15:46:52.246Z"
   },
   {
    "duration": 5,
    "start_time": "2023-04-14T15:46:53.797Z"
   },
   {
    "duration": 223,
    "start_time": "2023-04-14T15:46:53.811Z"
   },
   {
    "duration": 29,
    "start_time": "2023-04-14T15:46:54.036Z"
   },
   {
    "duration": 22,
    "start_time": "2023-04-14T15:46:54.067Z"
   },
   {
    "duration": 41,
    "start_time": "2023-04-14T15:46:54.090Z"
   },
   {
    "duration": 25,
    "start_time": "2023-04-14T15:46:54.133Z"
   },
   {
    "duration": 20,
    "start_time": "2023-04-14T15:46:54.160Z"
   },
   {
    "duration": 14,
    "start_time": "2023-04-14T15:46:54.182Z"
   },
   {
    "duration": 22,
    "start_time": "2023-04-14T15:46:54.199Z"
   },
   {
    "duration": 8,
    "start_time": "2023-04-14T15:46:54.226Z"
   },
   {
    "duration": 18,
    "start_time": "2023-04-14T15:46:54.236Z"
   },
   {
    "duration": 37,
    "start_time": "2023-04-14T15:46:54.256Z"
   },
   {
    "duration": 71,
    "start_time": "2023-04-14T15:46:54.296Z"
   },
   {
    "duration": 17,
    "start_time": "2023-04-14T15:46:54.369Z"
   },
   {
    "duration": 53,
    "start_time": "2023-04-14T15:46:54.388Z"
   },
   {
    "duration": 40,
    "start_time": "2023-04-14T15:46:54.443Z"
   },
   {
    "duration": 38,
    "start_time": "2023-04-14T15:46:54.485Z"
   },
   {
    "duration": 34,
    "start_time": "2023-04-14T15:46:54.524Z"
   },
   {
    "duration": 148,
    "start_time": "2023-04-14T15:46:54.561Z"
   },
   {
    "duration": 0,
    "start_time": "2023-04-14T15:46:54.711Z"
   },
   {
    "duration": 0,
    "start_time": "2023-04-14T15:46:54.715Z"
   },
   {
    "duration": 0,
    "start_time": "2023-04-14T15:46:54.718Z"
   },
   {
    "duration": 0,
    "start_time": "2023-04-14T15:46:54.719Z"
   },
   {
    "duration": 1,
    "start_time": "2023-04-14T15:46:54.719Z"
   },
   {
    "duration": 0,
    "start_time": "2023-04-14T15:46:54.720Z"
   },
   {
    "duration": 0,
    "start_time": "2023-04-14T15:46:54.723Z"
   },
   {
    "duration": 0,
    "start_time": "2023-04-14T15:46:54.723Z"
   },
   {
    "duration": 1536,
    "start_time": "2023-04-14T15:47:22.030Z"
   },
   {
    "duration": 5,
    "start_time": "2023-04-14T15:47:23.568Z"
   },
   {
    "duration": 228,
    "start_time": "2023-04-14T15:47:23.575Z"
   },
   {
    "duration": 37,
    "start_time": "2023-04-14T15:47:23.806Z"
   },
   {
    "duration": 33,
    "start_time": "2023-04-14T15:47:23.845Z"
   },
   {
    "duration": 52,
    "start_time": "2023-04-14T15:47:23.881Z"
   },
   {
    "duration": 17,
    "start_time": "2023-04-14T15:47:23.940Z"
   },
   {
    "duration": 9,
    "start_time": "2023-04-14T15:47:23.959Z"
   },
   {
    "duration": 5,
    "start_time": "2023-04-14T15:47:23.970Z"
   },
   {
    "duration": 40,
    "start_time": "2023-04-14T15:47:23.977Z"
   },
   {
    "duration": 14,
    "start_time": "2023-04-14T15:47:24.018Z"
   },
   {
    "duration": 14,
    "start_time": "2023-04-14T15:47:24.034Z"
   },
   {
    "duration": 24,
    "start_time": "2023-04-14T15:47:24.050Z"
   },
   {
    "duration": 66,
    "start_time": "2023-04-14T15:47:24.076Z"
   },
   {
    "duration": 16,
    "start_time": "2023-04-14T15:47:24.144Z"
   },
   {
    "duration": 36,
    "start_time": "2023-04-14T15:47:24.162Z"
   },
   {
    "duration": 41,
    "start_time": "2023-04-14T15:47:24.215Z"
   },
   {
    "duration": 11,
    "start_time": "2023-04-14T15:47:24.258Z"
   },
   {
    "duration": 61,
    "start_time": "2023-04-14T15:47:24.271Z"
   },
   {
    "duration": 5,
    "start_time": "2023-04-14T15:47:24.334Z"
   },
   {
    "duration": 12,
    "start_time": "2023-04-14T15:47:24.341Z"
   },
   {
    "duration": 8,
    "start_time": "2023-04-14T15:47:24.355Z"
   },
   {
    "duration": 186,
    "start_time": "2023-04-14T15:47:24.364Z"
   },
   {
    "duration": 884,
    "start_time": "2023-04-14T15:47:24.553Z"
   },
   {
    "duration": 308,
    "start_time": "2023-04-14T15:47:25.439Z"
   },
   {
    "duration": 69,
    "start_time": "2023-04-14T15:47:25.750Z"
   },
   {
    "duration": 3877,
    "start_time": "2023-04-14T15:47:25.821Z"
   },
   {
    "duration": 146,
    "start_time": "2023-04-14T15:47:29.702Z"
   },
   {
    "duration": 1740,
    "start_time": "2023-04-14T15:47:59.869Z"
   },
   {
    "duration": 13,
    "start_time": "2023-04-14T15:49:17.844Z"
   },
   {
    "duration": 4,
    "start_time": "2023-04-14T15:49:32.281Z"
   },
   {
    "duration": 11,
    "start_time": "2023-04-14T15:50:03.249Z"
   },
   {
    "duration": 54,
    "start_time": "2023-04-14T15:52:54.850Z"
   },
   {
    "duration": 4193,
    "start_time": "2023-04-14T15:53:17.109Z"
   },
   {
    "duration": 3641,
    "start_time": "2023-04-14T15:53:46.155Z"
   },
   {
    "duration": 4945,
    "start_time": "2023-04-14T15:54:09.062Z"
   },
   {
    "duration": 4953,
    "start_time": "2023-04-14T15:54:24.141Z"
   },
   {
    "duration": 14,
    "start_time": "2023-04-14T15:54:40.014Z"
   },
   {
    "duration": 5050,
    "start_time": "2023-04-14T15:55:37.098Z"
   },
   {
    "duration": 4338,
    "start_time": "2023-04-14T15:57:38.227Z"
   },
   {
    "duration": 4102,
    "start_time": "2023-04-14T15:58:41.958Z"
   },
   {
    "duration": 1855,
    "start_time": "2023-04-14T15:59:08.083Z"
   },
   {
    "duration": 5,
    "start_time": "2023-04-14T15:59:09.940Z"
   },
   {
    "duration": 217,
    "start_time": "2023-04-14T15:59:09.948Z"
   },
   {
    "duration": 41,
    "start_time": "2023-04-14T15:59:10.168Z"
   },
   {
    "duration": 45,
    "start_time": "2023-04-14T15:59:10.215Z"
   },
   {
    "duration": 28,
    "start_time": "2023-04-14T15:59:10.262Z"
   },
   {
    "duration": 70,
    "start_time": "2023-04-14T15:59:10.292Z"
   },
   {
    "duration": 18,
    "start_time": "2023-04-14T15:59:10.364Z"
   },
   {
    "duration": 7,
    "start_time": "2023-04-14T15:59:10.384Z"
   },
   {
    "duration": 18,
    "start_time": "2023-04-14T15:59:10.394Z"
   },
   {
    "duration": 19,
    "start_time": "2023-04-14T15:59:10.418Z"
   },
   {
    "duration": 15,
    "start_time": "2023-04-14T15:59:10.441Z"
   },
   {
    "duration": 48,
    "start_time": "2023-04-14T15:59:10.458Z"
   },
   {
    "duration": 65,
    "start_time": "2023-04-14T15:59:10.509Z"
   },
   {
    "duration": 36,
    "start_time": "2023-04-14T15:59:10.577Z"
   },
   {
    "duration": 54,
    "start_time": "2023-04-14T15:59:10.616Z"
   },
   {
    "duration": 60,
    "start_time": "2023-04-14T15:59:10.673Z"
   },
   {
    "duration": 13,
    "start_time": "2023-04-14T15:59:10.735Z"
   },
   {
    "duration": 53,
    "start_time": "2023-04-14T15:59:10.750Z"
   },
   {
    "duration": 31,
    "start_time": "2023-04-14T15:59:10.805Z"
   },
   {
    "duration": 23,
    "start_time": "2023-04-14T15:59:10.838Z"
   },
   {
    "duration": 26,
    "start_time": "2023-04-14T15:59:10.863Z"
   },
   {
    "duration": 199,
    "start_time": "2023-04-14T15:59:10.892Z"
   },
   {
    "duration": 1135,
    "start_time": "2023-04-14T15:59:11.093Z"
   },
   {
    "duration": 327,
    "start_time": "2023-04-14T15:59:12.240Z"
   },
   {
    "duration": 157,
    "start_time": "2023-04-14T15:59:12.569Z"
   },
   {
    "duration": 228,
    "start_time": "2023-04-14T15:59:12.734Z"
   },
   {
    "duration": 12,
    "start_time": "2023-04-14T15:59:12.967Z"
   },
   {
    "duration": 92,
    "start_time": "2023-04-14T16:00:23.085Z"
   },
   {
    "duration": 60,
    "start_time": "2023-04-14T16:00:29.335Z"
   },
   {
    "duration": 4018,
    "start_time": "2023-04-14T16:00:44.377Z"
   },
   {
    "duration": 5,
    "start_time": "2023-04-14T16:00:53.254Z"
   },
   {
    "duration": 3911,
    "start_time": "2023-04-14T16:01:27.789Z"
   },
   {
    "duration": 3823,
    "start_time": "2023-04-14T16:01:33.203Z"
   },
   {
    "duration": 2087,
    "start_time": "2023-04-14T16:01:43.743Z"
   },
   {
    "duration": 5,
    "start_time": "2023-04-14T16:01:45.832Z"
   },
   {
    "duration": 227,
    "start_time": "2023-04-14T16:01:45.839Z"
   },
   {
    "duration": 29,
    "start_time": "2023-04-14T16:01:46.069Z"
   },
   {
    "duration": 32,
    "start_time": "2023-04-14T16:01:46.100Z"
   },
   {
    "duration": 22,
    "start_time": "2023-04-14T16:01:46.134Z"
   },
   {
    "duration": 19,
    "start_time": "2023-04-14T16:01:46.158Z"
   },
   {
    "duration": 40,
    "start_time": "2023-04-14T16:01:46.179Z"
   },
   {
    "duration": 9,
    "start_time": "2023-04-14T16:01:46.221Z"
   },
   {
    "duration": 7,
    "start_time": "2023-04-14T16:01:46.234Z"
   },
   {
    "duration": 11,
    "start_time": "2023-04-14T16:01:46.243Z"
   },
   {
    "duration": 17,
    "start_time": "2023-04-14T16:01:46.256Z"
   },
   {
    "duration": 57,
    "start_time": "2023-04-14T16:01:46.275Z"
   },
   {
    "duration": 60,
    "start_time": "2023-04-14T16:01:46.335Z"
   },
   {
    "duration": 31,
    "start_time": "2023-04-14T16:01:46.412Z"
   },
   {
    "duration": 30,
    "start_time": "2023-04-14T16:01:46.445Z"
   },
   {
    "duration": 79,
    "start_time": "2023-04-14T16:01:46.477Z"
   },
   {
    "duration": 15,
    "start_time": "2023-04-14T16:01:46.558Z"
   },
   {
    "duration": 66,
    "start_time": "2023-04-14T16:01:46.575Z"
   },
   {
    "duration": 6,
    "start_time": "2023-04-14T16:01:46.643Z"
   },
   {
    "duration": 40,
    "start_time": "2023-04-14T16:01:46.651Z"
   },
   {
    "duration": 15,
    "start_time": "2023-04-14T16:01:46.693Z"
   },
   {
    "duration": 223,
    "start_time": "2023-04-14T16:01:46.710Z"
   },
   {
    "duration": 1080,
    "start_time": "2023-04-14T16:01:46.936Z"
   },
   {
    "duration": 279,
    "start_time": "2023-04-14T16:01:48.019Z"
   },
   {
    "duration": 40,
    "start_time": "2023-04-14T16:01:48.300Z"
   },
   {
    "duration": 4190,
    "start_time": "2023-04-14T16:01:48.347Z"
   },
   {
    "duration": 121,
    "start_time": "2023-04-14T16:01:52.540Z"
   },
   {
    "duration": 150,
    "start_time": "2023-04-14T16:03:10.208Z"
   },
   {
    "duration": 168,
    "start_time": "2023-04-14T16:08:39.026Z"
   },
   {
    "duration": 24,
    "start_time": "2023-04-14T16:09:57.410Z"
   },
   {
    "duration": 168,
    "start_time": "2023-04-14T16:09:59.698Z"
   },
   {
    "duration": 7,
    "start_time": "2023-04-14T16:10:43.293Z"
   },
   {
    "duration": 12,
    "start_time": "2023-04-14T16:10:44.477Z"
   },
   {
    "duration": 1656,
    "start_time": "2023-04-19T11:12:17.982Z"
   },
   {
    "duration": 4,
    "start_time": "2023-04-19T11:12:19.640Z"
   },
   {
    "duration": 455,
    "start_time": "2023-04-19T11:12:19.645Z"
   },
   {
    "duration": 40,
    "start_time": "2023-04-19T11:12:20.102Z"
   },
   {
    "duration": 41,
    "start_time": "2023-04-19T11:12:20.144Z"
   },
   {
    "duration": 49,
    "start_time": "2023-04-19T11:12:20.187Z"
   },
   {
    "duration": 40,
    "start_time": "2023-04-19T11:12:20.237Z"
   },
   {
    "duration": 10,
    "start_time": "2023-04-19T11:12:20.280Z"
   },
   {
    "duration": 6,
    "start_time": "2023-04-19T11:12:20.292Z"
   },
   {
    "duration": 7,
    "start_time": "2023-04-19T11:12:20.301Z"
   },
   {
    "duration": 10,
    "start_time": "2023-04-19T11:12:20.310Z"
   },
   {
    "duration": 15,
    "start_time": "2023-04-19T11:12:20.322Z"
   },
   {
    "duration": 32,
    "start_time": "2023-04-19T11:12:20.339Z"
   },
   {
    "duration": 58,
    "start_time": "2023-04-19T11:12:20.373Z"
   },
   {
    "duration": 19,
    "start_time": "2023-04-19T11:12:20.433Z"
   },
   {
    "duration": 51,
    "start_time": "2023-04-19T11:12:20.454Z"
   },
   {
    "duration": 41,
    "start_time": "2023-04-19T11:12:20.507Z"
   },
   {
    "duration": 10,
    "start_time": "2023-04-19T11:12:20.550Z"
   },
   {
    "duration": 57,
    "start_time": "2023-04-19T11:12:20.562Z"
   },
   {
    "duration": 5,
    "start_time": "2023-04-19T11:12:20.621Z"
   },
   {
    "duration": 20,
    "start_time": "2023-04-19T11:12:20.627Z"
   },
   {
    "duration": 22,
    "start_time": "2023-04-19T11:12:20.649Z"
   },
   {
    "duration": 155,
    "start_time": "2023-04-19T11:12:20.673Z"
   },
   {
    "duration": 1087,
    "start_time": "2023-04-19T11:12:20.830Z"
   },
   {
    "duration": 309,
    "start_time": "2023-04-19T11:12:21.993Z"
   },
   {
    "duration": 15,
    "start_time": "2023-04-19T11:12:22.304Z"
   },
   {
    "duration": 3840,
    "start_time": "2023-04-19T11:12:22.395Z"
   },
   {
    "duration": 124,
    "start_time": "2023-04-19T11:12:26.239Z"
   },
   {
    "duration": 13,
    "start_time": "2023-04-19T11:12:26.365Z"
   },
   {
    "duration": 187,
    "start_time": "2023-04-19T11:12:26.392Z"
   },
   {
    "duration": 13,
    "start_time": "2023-04-19T11:12:26.580Z"
   },
   {
    "duration": 133,
    "start_time": "2023-04-19T11:12:26.595Z"
   },
   {
    "duration": 1484,
    "start_time": "2023-04-19T11:14:01.520Z"
   },
   {
    "duration": 5,
    "start_time": "2023-04-19T11:14:03.006Z"
   },
   {
    "duration": 202,
    "start_time": "2023-04-19T11:14:03.013Z"
   },
   {
    "duration": 31,
    "start_time": "2023-04-19T11:14:03.217Z"
   },
   {
    "duration": 35,
    "start_time": "2023-04-19T11:14:03.250Z"
   },
   {
    "duration": 43,
    "start_time": "2023-04-19T11:14:03.286Z"
   },
   {
    "duration": 30,
    "start_time": "2023-04-19T11:14:03.331Z"
   },
   {
    "duration": 24,
    "start_time": "2023-04-19T11:14:03.363Z"
   },
   {
    "duration": 15,
    "start_time": "2023-04-19T11:14:03.389Z"
   },
   {
    "duration": 7,
    "start_time": "2023-04-19T11:14:03.407Z"
   },
   {
    "duration": 25,
    "start_time": "2023-04-19T11:14:03.416Z"
   },
   {
    "duration": 19,
    "start_time": "2023-04-19T11:14:03.443Z"
   },
   {
    "duration": 42,
    "start_time": "2023-04-19T11:14:03.465Z"
   },
   {
    "duration": 56,
    "start_time": "2023-04-19T11:14:03.509Z"
   },
   {
    "duration": 17,
    "start_time": "2023-04-19T11:14:03.566Z"
   },
   {
    "duration": 22,
    "start_time": "2023-04-19T11:14:03.584Z"
   },
   {
    "duration": 37,
    "start_time": "2023-04-19T11:14:03.608Z"
   },
   {
    "duration": 10,
    "start_time": "2023-04-19T11:14:03.646Z"
   },
   {
    "duration": 57,
    "start_time": "2023-04-19T11:14:03.657Z"
   },
   {
    "duration": 6,
    "start_time": "2023-04-19T11:14:03.716Z"
   },
   {
    "duration": 9,
    "start_time": "2023-04-19T11:14:03.724Z"
   },
   {
    "duration": 9,
    "start_time": "2023-04-19T11:14:03.734Z"
   },
   {
    "duration": 184,
    "start_time": "2023-04-19T11:14:03.745Z"
   },
   {
    "duration": 987,
    "start_time": "2023-04-19T11:14:03.931Z"
   },
   {
    "duration": 279,
    "start_time": "2023-04-19T11:14:04.993Z"
   },
   {
    "duration": 27,
    "start_time": "2023-04-19T11:14:05.274Z"
   },
   {
    "duration": 4035,
    "start_time": "2023-04-19T11:14:05.304Z"
   },
   {
    "duration": 116,
    "start_time": "2023-04-19T11:14:09.343Z"
   },
   {
    "duration": 11,
    "start_time": "2023-04-19T11:14:09.461Z"
   },
   {
    "duration": 188,
    "start_time": "2023-04-19T11:14:09.473Z"
   },
   {
    "duration": 11,
    "start_time": "2023-04-19T11:14:09.662Z"
   },
   {
    "duration": 797968,
    "start_time": "2023-04-19T11:14:09.674Z"
   },
   {
    "duration": 22,
    "start_time": "2023-04-19T11:27:44.536Z"
   },
   {
    "duration": 204826,
    "start_time": "2023-04-19T11:27:56.444Z"
   },
   {
    "duration": 13,
    "start_time": "2023-04-19T11:31:35.494Z"
   },
   {
    "duration": 13,
    "start_time": "2023-04-19T11:35:52.568Z"
   },
   {
    "duration": 446036,
    "start_time": "2023-04-19T11:35:59.118Z"
   },
   {
    "duration": 16300,
    "start_time": "2023-04-19T11:49:20.139Z"
   },
   {
    "duration": 1439,
    "start_time": "2023-04-19T11:51:09.454Z"
   },
   {
    "duration": 5,
    "start_time": "2023-04-19T11:51:10.896Z"
   },
   {
    "duration": 198,
    "start_time": "2023-04-19T11:51:10.902Z"
   },
   {
    "duration": 28,
    "start_time": "2023-04-19T11:51:11.102Z"
   },
   {
    "duration": 22,
    "start_time": "2023-04-19T11:51:11.134Z"
   },
   {
    "duration": 45,
    "start_time": "2023-04-19T11:51:11.158Z"
   },
   {
    "duration": 20,
    "start_time": "2023-04-19T11:51:11.205Z"
   },
   {
    "duration": 11,
    "start_time": "2023-04-19T11:51:11.228Z"
   },
   {
    "duration": 16,
    "start_time": "2023-04-19T11:51:11.241Z"
   },
   {
    "duration": 7,
    "start_time": "2023-04-19T11:51:11.259Z"
   },
   {
    "duration": 25,
    "start_time": "2023-04-19T11:51:11.268Z"
   },
   {
    "duration": 13,
    "start_time": "2023-04-19T11:51:11.295Z"
   },
   {
    "duration": 24,
    "start_time": "2023-04-19T11:51:11.310Z"
   },
   {
    "duration": 61,
    "start_time": "2023-04-19T11:51:11.337Z"
   },
   {
    "duration": 16,
    "start_time": "2023-04-19T11:51:11.400Z"
   },
   {
    "duration": 18,
    "start_time": "2023-04-19T11:51:11.418Z"
   },
   {
    "duration": 65,
    "start_time": "2023-04-19T11:51:11.438Z"
   },
   {
    "duration": 12,
    "start_time": "2023-04-19T11:51:11.505Z"
   },
   {
    "duration": 28,
    "start_time": "2023-04-19T11:51:11.518Z"
   },
   {
    "duration": 4,
    "start_time": "2023-04-19T11:51:11.548Z"
   },
   {
    "duration": 39,
    "start_time": "2023-04-19T11:51:11.554Z"
   },
   {
    "duration": 9,
    "start_time": "2023-04-19T11:51:11.595Z"
   },
   {
    "duration": 169,
    "start_time": "2023-04-19T11:51:11.606Z"
   },
   {
    "duration": 1116,
    "start_time": "2023-04-19T11:51:11.777Z"
   },
   {
    "duration": 273,
    "start_time": "2023-04-19T11:51:12.895Z"
   },
   {
    "duration": 32,
    "start_time": "2023-04-19T11:51:13.170Z"
   },
   {
    "duration": 3891,
    "start_time": "2023-04-19T11:51:13.204Z"
   },
   {
    "duration": 116,
    "start_time": "2023-04-19T11:51:17.097Z"
   },
   {
    "duration": 13,
    "start_time": "2023-04-19T11:51:17.215Z"
   },
   {
    "duration": 182,
    "start_time": "2023-04-19T11:51:17.230Z"
   },
   {
    "duration": 11,
    "start_time": "2023-04-19T11:51:17.413Z"
   },
   {
    "duration": 82974,
    "start_time": "2023-04-19T11:51:17.426Z"
   },
   {
    "duration": 3364,
    "start_time": "2023-04-19T11:53:51.527Z"
   },
   {
    "duration": 171,
    "start_time": "2023-04-19T11:55:49.879Z"
   },
   {
    "duration": 22,
    "start_time": "2023-04-19T12:46:13.246Z"
   },
   {
    "duration": 1223,
    "start_time": "2023-04-19T17:46:16.550Z"
   },
   {
    "duration": 4,
    "start_time": "2023-04-19T17:46:19.009Z"
   },
   {
    "duration": 308,
    "start_time": "2023-04-19T17:46:20.303Z"
   },
   {
    "duration": 28,
    "start_time": "2023-04-19T17:46:22.477Z"
   },
   {
    "duration": 1181,
    "start_time": "2023-04-19T17:51:57.492Z"
   },
   {
    "duration": 6,
    "start_time": "2023-04-19T17:51:59.714Z"
   },
   {
    "duration": 289,
    "start_time": "2023-04-19T17:52:00.259Z"
   },
   {
    "duration": 28,
    "start_time": "2023-04-19T17:52:00.549Z"
   },
   {
    "duration": 19,
    "start_time": "2023-04-19T17:52:01.674Z"
   },
   {
    "duration": 19,
    "start_time": "2023-04-19T17:52:02.242Z"
   },
   {
    "duration": 16,
    "start_time": "2023-04-19T17:52:02.343Z"
   },
   {
    "duration": 8,
    "start_time": "2023-04-19T17:52:04.220Z"
   },
   {
    "duration": 5,
    "start_time": "2023-04-19T17:52:04.255Z"
   },
   {
    "duration": 6,
    "start_time": "2023-04-19T17:52:04.925Z"
   },
   {
    "duration": 5,
    "start_time": "2023-04-19T17:52:10.228Z"
   },
   {
    "duration": 13,
    "start_time": "2023-04-19T17:52:10.604Z"
   },
   {
    "duration": 7,
    "start_time": "2023-04-19T17:52:18.331Z"
   },
   {
    "duration": 1827,
    "start_time": "2023-04-19T17:54:50.971Z"
   },
   {
    "duration": 1651,
    "start_time": "2023-04-19T17:54:59.711Z"
   },
   {
    "duration": 1169,
    "start_time": "2023-04-19T17:55:11.666Z"
   },
   {
    "duration": 4,
    "start_time": "2023-04-19T17:55:12.836Z"
   },
   {
    "duration": 321,
    "start_time": "2023-04-19T17:55:13.809Z"
   },
   {
    "duration": 33,
    "start_time": "2023-04-19T17:55:14.133Z"
   },
   {
    "duration": 29,
    "start_time": "2023-04-19T17:55:14.414Z"
   },
   {
    "duration": 23,
    "start_time": "2023-04-19T17:55:14.982Z"
   },
   {
    "duration": 15,
    "start_time": "2023-04-19T17:55:15.536Z"
   },
   {
    "duration": 10,
    "start_time": "2023-04-19T17:55:18.084Z"
   },
   {
    "duration": 5,
    "start_time": "2023-04-19T17:55:19.379Z"
   },
   {
    "duration": 6,
    "start_time": "2023-04-19T17:55:21.265Z"
   },
   {
    "duration": 4,
    "start_time": "2023-04-19T17:55:22.768Z"
   },
   {
    "duration": 11,
    "start_time": "2023-04-19T17:55:23.895Z"
   },
   {
    "duration": 22,
    "start_time": "2023-04-19T17:55:26.769Z"
   },
   {
    "duration": 33,
    "start_time": "2023-04-19T17:55:32.742Z"
   },
   {
    "duration": 1235,
    "start_time": "2023-04-19T17:55:52.151Z"
   },
   {
    "duration": 4,
    "start_time": "2023-04-19T17:55:53.388Z"
   },
   {
    "duration": 299,
    "start_time": "2023-04-19T17:55:53.393Z"
   },
   {
    "duration": 23,
    "start_time": "2023-04-19T17:55:53.694Z"
   },
   {
    "duration": 18,
    "start_time": "2023-04-19T17:55:53.719Z"
   },
   {
    "duration": 18,
    "start_time": "2023-04-19T17:55:53.740Z"
   },
   {
    "duration": 46,
    "start_time": "2023-04-19T17:55:53.759Z"
   },
   {
    "duration": 8,
    "start_time": "2023-04-19T17:55:54.634Z"
   },
   {
    "duration": 5,
    "start_time": "2023-04-19T17:55:54.981Z"
   },
   {
    "duration": 6,
    "start_time": "2023-04-19T17:55:58.198Z"
   },
   {
    "duration": 21,
    "start_time": "2023-04-19T17:56:03.373Z"
   },
   {
    "duration": 1486,
    "start_time": "2023-04-19T18:26:04.061Z"
   },
   {
    "duration": 5,
    "start_time": "2023-04-19T18:26:05.549Z"
   },
   {
    "duration": 189,
    "start_time": "2023-04-19T18:26:05.555Z"
   },
   {
    "duration": 29,
    "start_time": "2023-04-19T18:26:05.746Z"
   },
   {
    "duration": 30,
    "start_time": "2023-04-19T18:26:05.777Z"
   },
   {
    "duration": 23,
    "start_time": "2023-04-19T18:26:05.809Z"
   },
   {
    "duration": 17,
    "start_time": "2023-04-19T18:26:05.834Z"
   },
   {
    "duration": 2,
    "start_time": "2023-04-19T18:26:05.853Z"
   },
   {
    "duration": 4,
    "start_time": "2023-04-19T18:26:05.857Z"
   },
   {
    "duration": 705,
    "start_time": "2023-04-19T18:26:08.884Z"
   },
   {
    "duration": 129,
    "start_time": "2023-04-19T18:28:18.403Z"
   },
   {
    "duration": 34,
    "start_time": "2023-04-19T18:29:34.257Z"
   },
   {
    "duration": 26,
    "start_time": "2023-04-19T18:30:41.282Z"
   },
   {
    "duration": 26,
    "start_time": "2023-04-19T18:31:40.302Z"
   },
   {
    "duration": 19,
    "start_time": "2023-04-19T18:34:06.640Z"
   },
   {
    "duration": 15,
    "start_time": "2023-04-19T18:34:45.476Z"
   },
   {
    "duration": 81,
    "start_time": "2023-04-19T18:35:55.994Z"
   },
   {
    "duration": 17,
    "start_time": "2023-04-19T18:35:56.930Z"
   },
   {
    "duration": 15,
    "start_time": "2023-04-19T18:36:03.938Z"
   },
   {
    "duration": 10,
    "start_time": "2023-04-19T18:41:24.014Z"
   },
   {
    "duration": 18,
    "start_time": "2023-04-19T18:41:26.736Z"
   },
   {
    "duration": 8,
    "start_time": "2023-04-19T18:41:27.325Z"
   },
   {
    "duration": 1407,
    "start_time": "2023-04-19T18:41:40.204Z"
   },
   {
    "duration": 4,
    "start_time": "2023-04-19T18:41:41.613Z"
   },
   {
    "duration": 180,
    "start_time": "2023-04-19T18:41:41.619Z"
   },
   {
    "duration": 27,
    "start_time": "2023-04-19T18:41:41.801Z"
   },
   {
    "duration": 24,
    "start_time": "2023-04-19T18:41:41.830Z"
   },
   {
    "duration": 41,
    "start_time": "2023-04-19T18:41:41.856Z"
   },
   {
    "duration": 17,
    "start_time": "2023-04-19T18:41:41.898Z"
   },
   {
    "duration": 11,
    "start_time": "2023-04-19T18:41:41.916Z"
   },
   {
    "duration": 14,
    "start_time": "2023-04-19T18:41:41.928Z"
   },
   {
    "duration": 6,
    "start_time": "2023-04-19T18:41:41.943Z"
   },
   {
    "duration": 6,
    "start_time": "2023-04-19T18:41:41.951Z"
   },
   {
    "duration": 45,
    "start_time": "2023-04-19T18:41:41.958Z"
   },
   {
    "duration": 25,
    "start_time": "2023-04-19T18:41:42.005Z"
   },
   {
    "duration": 35,
    "start_time": "2023-04-19T18:41:42.033Z"
   },
   {
    "duration": 61,
    "start_time": "2023-04-19T18:41:42.069Z"
   },
   {
    "duration": 16,
    "start_time": "2023-04-19T18:41:42.133Z"
   },
   {
    "duration": 49,
    "start_time": "2023-04-19T18:41:42.151Z"
   },
   {
    "duration": 36,
    "start_time": "2023-04-19T18:41:42.202Z"
   },
   {
    "duration": 10,
    "start_time": "2023-04-19T18:41:42.240Z"
   },
   {
    "duration": 64,
    "start_time": "2023-04-19T18:41:42.252Z"
   },
   {
    "duration": 177,
    "start_time": "2023-04-19T18:41:42.318Z"
   },
   {
    "duration": 0,
    "start_time": "2023-04-19T18:41:42.497Z"
   },
   {
    "duration": 0,
    "start_time": "2023-04-19T18:41:42.499Z"
   },
   {
    "duration": 0,
    "start_time": "2023-04-19T18:41:42.501Z"
   },
   {
    "duration": 0,
    "start_time": "2023-04-19T18:41:42.502Z"
   },
   {
    "duration": 0,
    "start_time": "2023-04-19T18:41:42.504Z"
   },
   {
    "duration": 0,
    "start_time": "2023-04-19T18:41:42.506Z"
   },
   {
    "duration": 0,
    "start_time": "2023-04-19T18:41:42.507Z"
   },
   {
    "duration": 0,
    "start_time": "2023-04-19T18:41:42.509Z"
   },
   {
    "duration": 0,
    "start_time": "2023-04-19T18:41:42.510Z"
   },
   {
    "duration": 0,
    "start_time": "2023-04-19T18:41:42.512Z"
   },
   {
    "duration": 0,
    "start_time": "2023-04-19T18:41:42.513Z"
   },
   {
    "duration": 0,
    "start_time": "2023-04-19T18:41:42.515Z"
   },
   {
    "duration": 0,
    "start_time": "2023-04-19T18:41:42.516Z"
   },
   {
    "duration": 0,
    "start_time": "2023-04-19T18:41:42.518Z"
   },
   {
    "duration": 0,
    "start_time": "2023-04-19T18:41:42.520Z"
   },
   {
    "duration": 1471,
    "start_time": "2023-04-19T18:53:38.731Z"
   },
   {
    "duration": 5,
    "start_time": "2023-04-19T18:53:40.204Z"
   },
   {
    "duration": 206,
    "start_time": "2023-04-19T18:53:40.210Z"
   },
   {
    "duration": 28,
    "start_time": "2023-04-19T18:53:40.417Z"
   },
   {
    "duration": 21,
    "start_time": "2023-04-19T18:53:40.447Z"
   },
   {
    "duration": 24,
    "start_time": "2023-04-19T18:53:40.469Z"
   },
   {
    "duration": 27,
    "start_time": "2023-04-19T18:53:40.495Z"
   },
   {
    "duration": 9,
    "start_time": "2023-04-19T18:53:40.524Z"
   },
   {
    "duration": 19,
    "start_time": "2023-04-19T18:53:40.535Z"
   },
   {
    "duration": 5,
    "start_time": "2023-04-19T18:53:40.556Z"
   },
   {
    "duration": 6,
    "start_time": "2023-04-19T18:53:40.563Z"
   },
   {
    "duration": 28,
    "start_time": "2023-04-19T18:53:40.571Z"
   },
   {
    "duration": 22,
    "start_time": "2023-04-19T18:53:40.601Z"
   },
   {
    "duration": 35,
    "start_time": "2023-04-19T18:53:40.626Z"
   },
   {
    "duration": 61,
    "start_time": "2023-04-19T18:53:40.663Z"
   },
   {
    "duration": 134,
    "start_time": "2023-04-19T18:53:40.726Z"
   },
   {
    "duration": 0,
    "start_time": "2023-04-19T18:53:40.861Z"
   },
   {
    "duration": 0,
    "start_time": "2023-04-19T18:53:40.862Z"
   },
   {
    "duration": 1,
    "start_time": "2023-04-19T18:53:40.863Z"
   },
   {
    "duration": 0,
    "start_time": "2023-04-19T18:53:40.864Z"
   },
   {
    "duration": 0,
    "start_time": "2023-04-19T18:53:40.865Z"
   },
   {
    "duration": 0,
    "start_time": "2023-04-19T18:53:40.866Z"
   },
   {
    "duration": 0,
    "start_time": "2023-04-19T18:53:40.867Z"
   },
   {
    "duration": 0,
    "start_time": "2023-04-19T18:53:40.868Z"
   },
   {
    "duration": 0,
    "start_time": "2023-04-19T18:53:40.869Z"
   },
   {
    "duration": 0,
    "start_time": "2023-04-19T18:53:40.870Z"
   },
   {
    "duration": 0,
    "start_time": "2023-04-19T18:53:40.871Z"
   },
   {
    "duration": 0,
    "start_time": "2023-04-19T18:53:40.894Z"
   },
   {
    "duration": 0,
    "start_time": "2023-04-19T18:53:40.895Z"
   },
   {
    "duration": 0,
    "start_time": "2023-04-19T18:53:40.896Z"
   },
   {
    "duration": 0,
    "start_time": "2023-04-19T18:53:40.897Z"
   },
   {
    "duration": 0,
    "start_time": "2023-04-19T18:53:40.898Z"
   },
   {
    "duration": 0,
    "start_time": "2023-04-19T18:53:40.899Z"
   },
   {
    "duration": 0,
    "start_time": "2023-04-19T18:53:40.901Z"
   },
   {
    "duration": 0,
    "start_time": "2023-04-19T18:53:40.902Z"
   },
   {
    "duration": 0,
    "start_time": "2023-04-19T18:53:40.903Z"
   },
   {
    "duration": 0,
    "start_time": "2023-04-19T18:53:40.904Z"
   },
   {
    "duration": 1,
    "start_time": "2023-04-19T18:53:40.904Z"
   },
   {
    "duration": 7,
    "start_time": "2023-04-19T18:54:11.914Z"
   },
   {
    "duration": 9,
    "start_time": "2023-04-19T18:54:13.884Z"
   },
   {
    "duration": 6,
    "start_time": "2023-04-19T19:09:21.741Z"
   },
   {
    "duration": 18,
    "start_time": "2023-04-19T19:09:53.033Z"
   },
   {
    "duration": 41,
    "start_time": "2023-04-19T19:18:53.678Z"
   },
   {
    "duration": 1897,
    "start_time": "2023-04-20T09:37:08.772Z"
   },
   {
    "duration": 5,
    "start_time": "2023-04-20T09:37:10.671Z"
   },
   {
    "duration": 672,
    "start_time": "2023-04-20T09:37:10.678Z"
   },
   {
    "duration": 29,
    "start_time": "2023-04-20T09:37:11.353Z"
   },
   {
    "duration": 22,
    "start_time": "2023-04-20T09:37:11.384Z"
   },
   {
    "duration": 30,
    "start_time": "2023-04-20T09:37:11.408Z"
   },
   {
    "duration": 24,
    "start_time": "2023-04-20T09:37:11.440Z"
   },
   {
    "duration": 9,
    "start_time": "2023-04-20T09:37:11.466Z"
   },
   {
    "duration": 20,
    "start_time": "2023-04-20T09:37:11.477Z"
   },
   {
    "duration": 8,
    "start_time": "2023-04-20T09:37:11.517Z"
   },
   {
    "duration": 12,
    "start_time": "2023-04-20T09:37:11.526Z"
   },
   {
    "duration": 19,
    "start_time": "2023-04-20T09:37:11.540Z"
   },
   {
    "duration": 25,
    "start_time": "2023-04-20T09:37:11.560Z"
   },
   {
    "duration": 51,
    "start_time": "2023-04-20T09:37:11.587Z"
   },
   {
    "duration": 39,
    "start_time": "2023-04-20T09:37:11.640Z"
   },
   {
    "duration": 7,
    "start_time": "2023-04-20T09:37:11.680Z"
   },
   {
    "duration": 35,
    "start_time": "2023-04-20T09:37:11.689Z"
   },
   {
    "duration": 41,
    "start_time": "2023-04-20T09:37:11.726Z"
   },
   {
    "duration": 17,
    "start_time": "2023-04-20T09:37:11.769Z"
   },
   {
    "duration": 63,
    "start_time": "2023-04-20T09:37:11.788Z"
   },
   {
    "duration": 11,
    "start_time": "2023-04-20T09:37:11.853Z"
   },
   {
    "duration": 52,
    "start_time": "2023-04-20T09:37:11.866Z"
   },
   {
    "duration": 2471,
    "start_time": "2023-04-20T09:37:11.921Z"
   },
   {
    "duration": 0,
    "start_time": "2023-04-20T09:37:14.395Z"
   },
   {
    "duration": 0,
    "start_time": "2023-04-20T09:37:14.396Z"
   },
   {
    "duration": 0,
    "start_time": "2023-04-20T09:37:14.399Z"
   },
   {
    "duration": 0,
    "start_time": "2023-04-20T09:37:14.400Z"
   },
   {
    "duration": 0,
    "start_time": "2023-04-20T09:37:14.402Z"
   },
   {
    "duration": 0,
    "start_time": "2023-04-20T09:37:14.417Z"
   },
   {
    "duration": 0,
    "start_time": "2023-04-20T09:37:14.419Z"
   },
   {
    "duration": 0,
    "start_time": "2023-04-20T09:37:14.421Z"
   },
   {
    "duration": 0,
    "start_time": "2023-04-20T09:37:14.423Z"
   },
   {
    "duration": 0,
    "start_time": "2023-04-20T09:37:14.425Z"
   },
   {
    "duration": 0,
    "start_time": "2023-04-20T09:37:14.427Z"
   },
   {
    "duration": 0,
    "start_time": "2023-04-20T09:37:14.428Z"
   },
   {
    "duration": 0,
    "start_time": "2023-04-20T09:37:14.430Z"
   },
   {
    "duration": 0,
    "start_time": "2023-04-20T09:37:14.432Z"
   },
   {
    "duration": 0,
    "start_time": "2023-04-20T09:37:14.433Z"
   },
   {
    "duration": 0,
    "start_time": "2023-04-20T09:37:14.435Z"
   },
   {
    "duration": 2175,
    "start_time": "2023-04-20T09:41:26.609Z"
   },
   {
    "duration": 3,
    "start_time": "2023-04-20T09:45:35.614Z"
   },
   {
    "duration": 105,
    "start_time": "2023-04-20T09:47:57.287Z"
   },
   {
    "duration": 75,
    "start_time": "2023-04-20T09:48:06.340Z"
   },
   {
    "duration": 78,
    "start_time": "2023-04-20T09:48:12.642Z"
   },
   {
    "duration": 2359,
    "start_time": "2023-04-20T09:48:22.396Z"
   },
   {
    "duration": 2276,
    "start_time": "2023-04-20T09:48:48.673Z"
   },
   {
    "duration": 2302,
    "start_time": "2023-04-20T09:49:00.226Z"
   },
   {
    "duration": 2306,
    "start_time": "2023-04-20T09:50:13.044Z"
   },
   {
    "duration": 2216,
    "start_time": "2023-04-20T09:51:08.625Z"
   },
   {
    "duration": 1731,
    "start_time": "2023-04-20T09:53:04.850Z"
   },
   {
    "duration": 5,
    "start_time": "2023-04-20T09:53:06.583Z"
   },
   {
    "duration": 312,
    "start_time": "2023-04-20T09:53:06.589Z"
   },
   {
    "duration": 31,
    "start_time": "2023-04-20T09:53:06.903Z"
   },
   {
    "duration": 25,
    "start_time": "2023-04-20T09:53:06.936Z"
   },
   {
    "duration": 28,
    "start_time": "2023-04-20T09:53:06.963Z"
   },
   {
    "duration": 37,
    "start_time": "2023-04-20T09:53:06.993Z"
   },
   {
    "duration": 10,
    "start_time": "2023-04-20T09:53:07.033Z"
   },
   {
    "duration": 14,
    "start_time": "2023-04-20T09:53:07.045Z"
   },
   {
    "duration": 9,
    "start_time": "2023-04-20T09:53:07.062Z"
   },
   {
    "duration": 18,
    "start_time": "2023-04-20T09:53:07.073Z"
   },
   {
    "duration": 32,
    "start_time": "2023-04-20T09:53:07.093Z"
   },
   {
    "duration": 41,
    "start_time": "2023-04-20T09:53:07.127Z"
   },
   {
    "duration": 33,
    "start_time": "2023-04-20T09:53:07.170Z"
   },
   {
    "duration": 51,
    "start_time": "2023-04-20T09:53:07.205Z"
   },
   {
    "duration": 8,
    "start_time": "2023-04-20T09:53:07.259Z"
   },
   {
    "duration": 9,
    "start_time": "2023-04-20T09:53:07.269Z"
   },
   {
    "duration": 66,
    "start_time": "2023-04-20T09:53:07.280Z"
   },
   {
    "duration": 17,
    "start_time": "2023-04-20T09:53:07.348Z"
   },
   {
    "duration": 63,
    "start_time": "2023-04-20T09:53:07.367Z"
   },
   {
    "duration": 12,
    "start_time": "2023-04-20T09:53:07.432Z"
   },
   {
    "duration": 40,
    "start_time": "2023-04-20T09:53:07.445Z"
   },
   {
    "duration": 2343,
    "start_time": "2023-04-20T09:53:07.487Z"
   },
   {
    "duration": 0,
    "start_time": "2023-04-20T09:53:09.833Z"
   },
   {
    "duration": 0,
    "start_time": "2023-04-20T09:53:09.835Z"
   },
   {
    "duration": 0,
    "start_time": "2023-04-20T09:53:09.837Z"
   },
   {
    "duration": 0,
    "start_time": "2023-04-20T09:53:09.838Z"
   },
   {
    "duration": 0,
    "start_time": "2023-04-20T09:53:09.840Z"
   },
   {
    "duration": 0,
    "start_time": "2023-04-20T09:53:09.841Z"
   },
   {
    "duration": 0,
    "start_time": "2023-04-20T09:53:09.843Z"
   },
   {
    "duration": 0,
    "start_time": "2023-04-20T09:53:09.844Z"
   },
   {
    "duration": 1,
    "start_time": "2023-04-20T09:53:09.845Z"
   },
   {
    "duration": 0,
    "start_time": "2023-04-20T09:53:09.847Z"
   },
   {
    "duration": 0,
    "start_time": "2023-04-20T09:53:09.849Z"
   },
   {
    "duration": 0,
    "start_time": "2023-04-20T09:53:09.850Z"
   },
   {
    "duration": 0,
    "start_time": "2023-04-20T09:53:09.851Z"
   },
   {
    "duration": 0,
    "start_time": "2023-04-20T09:53:09.853Z"
   },
   {
    "duration": 0,
    "start_time": "2023-04-20T09:53:09.854Z"
   },
   {
    "duration": 0,
    "start_time": "2023-04-20T09:53:09.855Z"
   },
   {
    "duration": 2194,
    "start_time": "2023-04-20T09:54:05.024Z"
   },
   {
    "duration": 2249,
    "start_time": "2023-04-20T09:54:47.169Z"
   },
   {
    "duration": 2293,
    "start_time": "2023-04-20T09:56:13.230Z"
   },
   {
    "duration": 2135,
    "start_time": "2023-04-20T09:57:06.418Z"
   },
   {
    "duration": 2255,
    "start_time": "2023-04-20T09:58:32.899Z"
   },
   {
    "duration": 2318,
    "start_time": "2023-04-20T09:59:36.628Z"
   },
   {
    "duration": 2118,
    "start_time": "2023-04-20T10:00:18.508Z"
   },
   {
    "duration": 2279,
    "start_time": "2023-04-20T10:01:18.420Z"
   },
   {
    "duration": 3,
    "start_time": "2023-04-20T10:02:08.914Z"
   },
   {
    "duration": 2178,
    "start_time": "2023-04-20T10:03:56.879Z"
   },
   {
    "duration": 7,
    "start_time": "2023-04-20T10:04:36.418Z"
   },
   {
    "duration": 2056,
    "start_time": "2023-04-20T10:06:11.076Z"
   },
   {
    "duration": 79,
    "start_time": "2023-04-20T10:07:27.876Z"
   },
   {
    "duration": 83,
    "start_time": "2023-04-20T10:07:41.769Z"
   },
   {
    "duration": 2455,
    "start_time": "2023-04-20T10:07:50.933Z"
   },
   {
    "duration": 142,
    "start_time": "2023-04-20T10:08:30.166Z"
   },
   {
    "duration": 99,
    "start_time": "2023-04-20T10:08:38.885Z"
   },
   {
    "duration": 86,
    "start_time": "2023-04-20T10:08:42.114Z"
   },
   {
    "duration": 2421,
    "start_time": "2023-04-20T10:08:46.742Z"
   },
   {
    "duration": 4,
    "start_time": "2023-04-20T10:10:23.823Z"
   },
   {
    "duration": 3,
    "start_time": "2023-04-20T10:12:17.631Z"
   },
   {
    "duration": 179,
    "start_time": "2023-04-20T10:12:40.004Z"
   },
   {
    "duration": 175,
    "start_time": "2023-04-20T10:12:51.432Z"
   },
   {
    "duration": 186,
    "start_time": "2023-04-20T10:13:47.411Z"
   },
   {
    "duration": 226,
    "start_time": "2023-04-20T10:14:41.751Z"
   },
   {
    "duration": 12,
    "start_time": "2023-04-20T10:16:44.048Z"
   },
   {
    "duration": 14,
    "start_time": "2023-04-20T10:16:50.920Z"
   },
   {
    "duration": 12,
    "start_time": "2023-04-20T10:17:08.048Z"
   },
   {
    "duration": 14,
    "start_time": "2023-04-20T10:17:17.409Z"
   },
   {
    "duration": 375,
    "start_time": "2023-04-20T10:26:42.424Z"
   },
   {
    "duration": 193,
    "start_time": "2023-04-20T10:27:37.438Z"
   },
   {
    "duration": 167,
    "start_time": "2023-04-20T10:30:09.233Z"
   },
   {
    "duration": 12,
    "start_time": "2023-04-20T10:32:01.653Z"
   },
   {
    "duration": 207,
    "start_time": "2023-04-20T10:32:06.653Z"
   },
   {
    "duration": 10,
    "start_time": "2023-04-20T10:32:26.954Z"
   },
   {
    "duration": 199,
    "start_time": "2023-04-20T10:32:31.040Z"
   },
   {
    "duration": 1528,
    "start_time": "2023-04-20T10:39:50.452Z"
   },
   {
    "duration": 5,
    "start_time": "2023-04-20T10:39:51.983Z"
   },
   {
    "duration": 266,
    "start_time": "2023-04-20T10:39:51.989Z"
   },
   {
    "duration": 29,
    "start_time": "2023-04-20T10:39:52.257Z"
   },
   {
    "duration": 40,
    "start_time": "2023-04-20T10:39:52.288Z"
   },
   {
    "duration": 44,
    "start_time": "2023-04-20T10:39:52.329Z"
   },
   {
    "duration": 58,
    "start_time": "2023-04-20T10:39:52.375Z"
   },
   {
    "duration": 13,
    "start_time": "2023-04-20T10:39:52.436Z"
   },
   {
    "duration": 59,
    "start_time": "2023-04-20T10:39:52.452Z"
   },
   {
    "duration": 29,
    "start_time": "2023-04-20T10:39:52.514Z"
   },
   {
    "duration": 36,
    "start_time": "2023-04-20T10:39:52.545Z"
   },
   {
    "duration": 42,
    "start_time": "2023-04-20T10:39:52.583Z"
   },
   {
    "duration": 59,
    "start_time": "2023-04-20T10:39:52.627Z"
   },
   {
    "duration": 49,
    "start_time": "2023-04-20T10:39:52.689Z"
   },
   {
    "duration": 47,
    "start_time": "2023-04-20T10:39:52.740Z"
   },
   {
    "duration": 6,
    "start_time": "2023-04-20T10:39:52.789Z"
   },
   {
    "duration": 48,
    "start_time": "2023-04-20T10:39:52.797Z"
   },
   {
    "duration": 53,
    "start_time": "2023-04-20T10:39:52.847Z"
   },
   {
    "duration": 19,
    "start_time": "2023-04-20T10:39:52.902Z"
   },
   {
    "duration": 47,
    "start_time": "2023-04-20T10:39:52.923Z"
   },
   {
    "duration": 20,
    "start_time": "2023-04-20T10:39:52.972Z"
   },
   {
    "duration": 44,
    "start_time": "2023-04-20T10:39:52.994Z"
   },
   {
    "duration": 3,
    "start_time": "2023-04-20T10:39:53.040Z"
   },
   {
    "duration": 198,
    "start_time": "2023-04-20T10:39:53.044Z"
   },
   {
    "duration": 161,
    "start_time": "2023-04-20T10:39:53.244Z"
   },
   {
    "duration": 184,
    "start_time": "2023-04-20T10:39:53.407Z"
   },
   {
    "duration": 246,
    "start_time": "2023-04-20T10:39:53.593Z"
   },
   {
    "duration": 173,
    "start_time": "2023-04-20T10:39:53.844Z"
   },
   {
    "duration": 3,
    "start_time": "2023-04-20T10:39:54.019Z"
   },
   {
    "duration": 31,
    "start_time": "2023-04-20T10:39:54.024Z"
   },
   {
    "duration": 21,
    "start_time": "2023-04-20T10:39:54.057Z"
   },
   {
    "duration": 156,
    "start_time": "2023-04-20T10:39:54.080Z"
   },
   {
    "duration": 156,
    "start_time": "2023-04-20T10:39:54.238Z"
   },
   {
    "duration": 0,
    "start_time": "2023-04-20T10:39:54.396Z"
   },
   {
    "duration": 0,
    "start_time": "2023-04-20T10:39:54.397Z"
   },
   {
    "duration": 0,
    "start_time": "2023-04-20T10:39:54.399Z"
   },
   {
    "duration": 0,
    "start_time": "2023-04-20T10:39:54.400Z"
   },
   {
    "duration": 0,
    "start_time": "2023-04-20T10:39:54.401Z"
   },
   {
    "duration": 0,
    "start_time": "2023-04-20T10:39:54.403Z"
   },
   {
    "duration": 0,
    "start_time": "2023-04-20T10:39:54.418Z"
   },
   {
    "duration": 0,
    "start_time": "2023-04-20T10:39:54.419Z"
   },
   {
    "duration": 0,
    "start_time": "2023-04-20T10:39:54.420Z"
   },
   {
    "duration": 0,
    "start_time": "2023-04-20T10:39:54.421Z"
   },
   {
    "duration": 0,
    "start_time": "2023-04-20T10:39:54.422Z"
   },
   {
    "duration": 29,
    "start_time": "2023-04-20T10:42:42.910Z"
   },
   {
    "duration": 34,
    "start_time": "2023-04-20T10:43:01.427Z"
   },
   {
    "duration": 24,
    "start_time": "2023-04-20T10:43:24.210Z"
   },
   {
    "duration": 29,
    "start_time": "2023-04-20T10:43:51.401Z"
   },
   {
    "duration": 1504,
    "start_time": "2023-04-20T10:45:13.272Z"
   },
   {
    "duration": 5,
    "start_time": "2023-04-20T10:45:14.778Z"
   },
   {
    "duration": 435,
    "start_time": "2023-04-20T10:45:14.785Z"
   },
   {
    "duration": 26,
    "start_time": "2023-04-20T10:45:15.222Z"
   },
   {
    "duration": 22,
    "start_time": "2023-04-20T10:45:15.249Z"
   },
   {
    "duration": 46,
    "start_time": "2023-04-20T10:45:15.273Z"
   },
   {
    "duration": 17,
    "start_time": "2023-04-20T10:45:15.321Z"
   },
   {
    "duration": 20,
    "start_time": "2023-04-20T10:45:15.340Z"
   },
   {
    "duration": 30,
    "start_time": "2023-04-20T10:45:15.361Z"
   },
   {
    "duration": 32,
    "start_time": "2023-04-20T10:45:15.394Z"
   },
   {
    "duration": 25,
    "start_time": "2023-04-20T10:45:15.428Z"
   },
   {
    "duration": 27,
    "start_time": "2023-04-20T10:45:15.455Z"
   },
   {
    "duration": 43,
    "start_time": "2023-04-20T10:45:15.483Z"
   },
   {
    "duration": 33,
    "start_time": "2023-04-20T10:45:15.528Z"
   },
   {
    "duration": 38,
    "start_time": "2023-04-20T10:45:15.562Z"
   },
   {
    "duration": 7,
    "start_time": "2023-04-20T10:45:15.617Z"
   },
   {
    "duration": 17,
    "start_time": "2023-04-20T10:45:15.626Z"
   },
   {
    "duration": 43,
    "start_time": "2023-04-20T10:45:15.645Z"
   },
   {
    "duration": 33,
    "start_time": "2023-04-20T10:45:15.690Z"
   },
   {
    "duration": 58,
    "start_time": "2023-04-20T10:45:15.724Z"
   },
   {
    "duration": 10,
    "start_time": "2023-04-20T10:45:15.784Z"
   },
   {
    "duration": 44,
    "start_time": "2023-04-20T10:45:15.795Z"
   },
   {
    "duration": 4,
    "start_time": "2023-04-20T10:45:15.840Z"
   },
   {
    "duration": 204,
    "start_time": "2023-04-20T10:45:15.845Z"
   },
   {
    "duration": 177,
    "start_time": "2023-04-20T10:45:16.051Z"
   },
   {
    "duration": 191,
    "start_time": "2023-04-20T10:45:16.229Z"
   },
   {
    "duration": 274,
    "start_time": "2023-04-20T10:45:16.423Z"
   },
   {
    "duration": 164,
    "start_time": "2023-04-20T10:45:16.701Z"
   },
   {
    "duration": 2,
    "start_time": "2023-04-20T10:45:16.868Z"
   },
   {
    "duration": 27,
    "start_time": "2023-04-20T10:45:16.872Z"
   },
   {
    "duration": 36,
    "start_time": "2023-04-20T10:45:16.901Z"
   },
   {
    "duration": 183,
    "start_time": "2023-04-20T10:45:16.939Z"
   },
   {
    "duration": 170,
    "start_time": "2023-04-20T10:45:17.124Z"
   },
   {
    "duration": 0,
    "start_time": "2023-04-20T10:45:17.296Z"
   },
   {
    "duration": 0,
    "start_time": "2023-04-20T10:45:17.298Z"
   },
   {
    "duration": 1,
    "start_time": "2023-04-20T10:45:17.299Z"
   },
   {
    "duration": 0,
    "start_time": "2023-04-20T10:45:17.301Z"
   },
   {
    "duration": 0,
    "start_time": "2023-04-20T10:45:17.302Z"
   },
   {
    "duration": 0,
    "start_time": "2023-04-20T10:45:17.318Z"
   },
   {
    "duration": 0,
    "start_time": "2023-04-20T10:45:17.320Z"
   },
   {
    "duration": 0,
    "start_time": "2023-04-20T10:45:17.321Z"
   },
   {
    "duration": 0,
    "start_time": "2023-04-20T10:45:17.324Z"
   },
   {
    "duration": 0,
    "start_time": "2023-04-20T10:45:17.325Z"
   },
   {
    "duration": 0,
    "start_time": "2023-04-20T10:45:17.327Z"
   },
   {
    "duration": 1544,
    "start_time": "2023-04-20T10:47:41.942Z"
   },
   {
    "duration": 0,
    "start_time": "2023-04-20T10:47:43.488Z"
   },
   {
    "duration": 1166,
    "start_time": "2023-04-20T10:47:53.004Z"
   },
   {
    "duration": 34,
    "start_time": "2023-04-20T10:48:00.460Z"
   },
   {
    "duration": 1213,
    "start_time": "2023-04-20T10:48:02.792Z"
   },
   {
    "duration": 1466,
    "start_time": "2023-04-20T10:48:09.038Z"
   },
   {
    "duration": 4,
    "start_time": "2023-04-20T10:48:10.507Z"
   },
   {
    "duration": 331,
    "start_time": "2023-04-20T10:48:10.513Z"
   },
   {
    "duration": 28,
    "start_time": "2023-04-20T10:48:10.847Z"
   },
   {
    "duration": 22,
    "start_time": "2023-04-20T10:48:10.876Z"
   },
   {
    "duration": 23,
    "start_time": "2023-04-20T10:48:10.899Z"
   },
   {
    "duration": 21,
    "start_time": "2023-04-20T10:48:10.924Z"
   },
   {
    "duration": 14,
    "start_time": "2023-04-20T10:48:10.947Z"
   },
   {
    "duration": 12,
    "start_time": "2023-04-20T10:48:10.963Z"
   },
   {
    "duration": 10,
    "start_time": "2023-04-20T10:48:10.978Z"
   },
   {
    "duration": 16,
    "start_time": "2023-04-20T10:48:10.990Z"
   },
   {
    "duration": 32,
    "start_time": "2023-04-20T10:48:11.007Z"
   },
   {
    "duration": 31,
    "start_time": "2023-04-20T10:48:11.041Z"
   },
   {
    "duration": 35,
    "start_time": "2023-04-20T10:48:11.074Z"
   },
   {
    "duration": 38,
    "start_time": "2023-04-20T10:48:11.118Z"
   },
   {
    "duration": 7,
    "start_time": "2023-04-20T10:48:11.158Z"
   },
   {
    "duration": 17,
    "start_time": "2023-04-20T10:48:11.167Z"
   },
   {
    "duration": 67,
    "start_time": "2023-04-20T10:48:11.185Z"
   },
   {
    "duration": 28,
    "start_time": "2023-04-20T10:48:11.254Z"
   },
   {
    "duration": 63,
    "start_time": "2023-04-20T10:48:11.284Z"
   },
   {
    "duration": 9,
    "start_time": "2023-04-20T10:48:11.349Z"
   },
   {
    "duration": 51,
    "start_time": "2023-04-20T10:48:11.360Z"
   },
   {
    "duration": 7,
    "start_time": "2023-04-20T10:48:11.412Z"
   },
   {
    "duration": 180,
    "start_time": "2023-04-20T10:48:11.421Z"
   },
   {
    "duration": 156,
    "start_time": "2023-04-20T10:48:11.602Z"
   },
   {
    "duration": 199,
    "start_time": "2023-04-20T10:48:11.760Z"
   },
   {
    "duration": 244,
    "start_time": "2023-04-20T10:48:11.961Z"
   },
   {
    "duration": 158,
    "start_time": "2023-04-20T10:48:12.209Z"
   },
   {
    "duration": 2,
    "start_time": "2023-04-20T10:48:12.369Z"
   },
   {
    "duration": 8,
    "start_time": "2023-04-20T10:48:12.373Z"
   },
   {
    "duration": 10,
    "start_time": "2023-04-20T10:48:12.383Z"
   },
   {
    "duration": 193,
    "start_time": "2023-04-20T10:48:12.395Z"
   },
   {
    "duration": 169,
    "start_time": "2023-04-20T10:48:12.590Z"
   },
   {
    "duration": 0,
    "start_time": "2023-04-20T10:48:12.760Z"
   },
   {
    "duration": 0,
    "start_time": "2023-04-20T10:48:12.761Z"
   },
   {
    "duration": 0,
    "start_time": "2023-04-20T10:48:12.762Z"
   },
   {
    "duration": 0,
    "start_time": "2023-04-20T10:48:12.763Z"
   },
   {
    "duration": 0,
    "start_time": "2023-04-20T10:48:12.764Z"
   },
   {
    "duration": 0,
    "start_time": "2023-04-20T10:48:12.766Z"
   },
   {
    "duration": 0,
    "start_time": "2023-04-20T10:48:12.767Z"
   },
   {
    "duration": 0,
    "start_time": "2023-04-20T10:48:12.768Z"
   },
   {
    "duration": 0,
    "start_time": "2023-04-20T10:48:12.769Z"
   },
   {
    "duration": 0,
    "start_time": "2023-04-20T10:48:12.770Z"
   },
   {
    "duration": 0,
    "start_time": "2023-04-20T10:48:12.771Z"
   },
   {
    "duration": 2135,
    "start_time": "2023-04-20T10:50:07.740Z"
   },
   {
    "duration": 1477,
    "start_time": "2023-04-20T10:50:15.678Z"
   },
   {
    "duration": 4,
    "start_time": "2023-04-20T10:50:17.157Z"
   },
   {
    "duration": 444,
    "start_time": "2023-04-20T10:50:17.163Z"
   },
   {
    "duration": 27,
    "start_time": "2023-04-20T10:50:17.609Z"
   },
   {
    "duration": 21,
    "start_time": "2023-04-20T10:50:17.638Z"
   },
   {
    "duration": 27,
    "start_time": "2023-04-20T10:50:17.661Z"
   },
   {
    "duration": 34,
    "start_time": "2023-04-20T10:50:17.690Z"
   },
   {
    "duration": 10,
    "start_time": "2023-04-20T10:50:17.726Z"
   },
   {
    "duration": 29,
    "start_time": "2023-04-20T10:50:17.738Z"
   },
   {
    "duration": 23,
    "start_time": "2023-04-20T10:50:17.768Z"
   },
   {
    "duration": 23,
    "start_time": "2023-04-20T10:50:17.792Z"
   },
   {
    "duration": 17,
    "start_time": "2023-04-20T10:50:17.817Z"
   },
   {
    "duration": 28,
    "start_time": "2023-04-20T10:50:17.836Z"
   },
   {
    "duration": 35,
    "start_time": "2023-04-20T10:50:17.867Z"
   },
   {
    "duration": 50,
    "start_time": "2023-04-20T10:50:17.904Z"
   },
   {
    "duration": 23,
    "start_time": "2023-04-20T10:50:17.955Z"
   },
   {
    "duration": 37,
    "start_time": "2023-04-20T10:50:17.980Z"
   },
   {
    "duration": 39,
    "start_time": "2023-04-20T10:50:18.019Z"
   },
   {
    "duration": 28,
    "start_time": "2023-04-20T10:50:18.060Z"
   },
   {
    "duration": 60,
    "start_time": "2023-04-20T10:50:18.090Z"
   },
   {
    "duration": 9,
    "start_time": "2023-04-20T10:50:18.152Z"
   },
   {
    "duration": 36,
    "start_time": "2023-04-20T10:50:18.163Z"
   },
   {
    "duration": 4,
    "start_time": "2023-04-20T10:50:18.217Z"
   },
   {
    "duration": 185,
    "start_time": "2023-04-20T10:50:18.222Z"
   },
   {
    "duration": 171,
    "start_time": "2023-04-20T10:50:18.409Z"
   },
   {
    "duration": 190,
    "start_time": "2023-04-20T10:50:18.582Z"
   },
   {
    "duration": 243,
    "start_time": "2023-04-20T10:50:18.773Z"
   },
   {
    "duration": 164,
    "start_time": "2023-04-20T10:50:19.019Z"
   },
   {
    "duration": 3,
    "start_time": "2023-04-20T10:50:19.185Z"
   },
   {
    "duration": 25,
    "start_time": "2023-04-20T10:50:19.190Z"
   },
   {
    "duration": 26,
    "start_time": "2023-04-20T10:50:19.217Z"
   },
   {
    "duration": 151,
    "start_time": "2023-04-20T10:50:19.245Z"
   },
   {
    "duration": 152,
    "start_time": "2023-04-20T10:50:19.397Z"
   },
   {
    "duration": 0,
    "start_time": "2023-04-20T10:50:19.551Z"
   },
   {
    "duration": 0,
    "start_time": "2023-04-20T10:50:19.552Z"
   },
   {
    "duration": 0,
    "start_time": "2023-04-20T10:50:19.553Z"
   },
   {
    "duration": 0,
    "start_time": "2023-04-20T10:50:19.554Z"
   },
   {
    "duration": 0,
    "start_time": "2023-04-20T10:50:19.555Z"
   },
   {
    "duration": 0,
    "start_time": "2023-04-20T10:50:19.556Z"
   },
   {
    "duration": 0,
    "start_time": "2023-04-20T10:50:19.557Z"
   },
   {
    "duration": 0,
    "start_time": "2023-04-20T10:50:19.559Z"
   },
   {
    "duration": 0,
    "start_time": "2023-04-20T10:50:19.560Z"
   },
   {
    "duration": 0,
    "start_time": "2023-04-20T10:50:19.561Z"
   },
   {
    "duration": 0,
    "start_time": "2023-04-20T10:50:19.562Z"
   },
   {
    "duration": 36,
    "start_time": "2023-04-20T10:53:01.332Z"
   },
   {
    "duration": 28,
    "start_time": "2023-04-20T10:54:33.590Z"
   },
   {
    "duration": 48,
    "start_time": "2023-04-20T10:56:29.358Z"
   },
   {
    "duration": 1599,
    "start_time": "2023-04-20T10:56:41.480Z"
   },
   {
    "duration": 5,
    "start_time": "2023-04-20T10:56:43.081Z"
   },
   {
    "duration": 265,
    "start_time": "2023-04-20T10:56:43.088Z"
   },
   {
    "duration": 28,
    "start_time": "2023-04-20T10:56:43.355Z"
   },
   {
    "duration": 23,
    "start_time": "2023-04-20T10:56:43.385Z"
   },
   {
    "duration": 40,
    "start_time": "2023-04-20T10:56:43.409Z"
   },
   {
    "duration": 17,
    "start_time": "2023-04-20T10:56:43.451Z"
   },
   {
    "duration": 11,
    "start_time": "2023-04-20T10:56:43.470Z"
   },
   {
    "duration": 39,
    "start_time": "2023-04-20T10:56:43.483Z"
   },
   {
    "duration": 21,
    "start_time": "2023-04-20T10:56:43.524Z"
   },
   {
    "duration": 17,
    "start_time": "2023-04-20T10:56:43.547Z"
   },
   {
    "duration": 22,
    "start_time": "2023-04-20T10:56:43.566Z"
   },
   {
    "duration": 29,
    "start_time": "2023-04-20T10:56:43.589Z"
   },
   {
    "duration": 35,
    "start_time": "2023-04-20T10:56:43.621Z"
   },
   {
    "duration": 60,
    "start_time": "2023-04-20T10:56:43.658Z"
   },
   {
    "duration": 7,
    "start_time": "2023-04-20T10:56:43.720Z"
   },
   {
    "duration": 14,
    "start_time": "2023-04-20T10:56:43.729Z"
   },
   {
    "duration": 177,
    "start_time": "2023-04-20T10:56:43.745Z"
   },
   {
    "duration": 0,
    "start_time": "2023-04-20T10:56:43.923Z"
   },
   {
    "duration": 0,
    "start_time": "2023-04-20T10:56:43.925Z"
   },
   {
    "duration": 0,
    "start_time": "2023-04-20T10:56:43.926Z"
   },
   {
    "duration": 1,
    "start_time": "2023-04-20T10:56:43.927Z"
   },
   {
    "duration": 0,
    "start_time": "2023-04-20T10:56:43.929Z"
   },
   {
    "duration": 0,
    "start_time": "2023-04-20T10:56:43.930Z"
   },
   {
    "duration": 0,
    "start_time": "2023-04-20T10:56:43.931Z"
   },
   {
    "duration": 0,
    "start_time": "2023-04-20T10:56:43.932Z"
   },
   {
    "duration": 0,
    "start_time": "2023-04-20T10:56:43.933Z"
   },
   {
    "duration": 0,
    "start_time": "2023-04-20T10:56:43.934Z"
   },
   {
    "duration": 0,
    "start_time": "2023-04-20T10:56:43.936Z"
   },
   {
    "duration": 0,
    "start_time": "2023-04-20T10:56:43.937Z"
   },
   {
    "duration": 0,
    "start_time": "2023-04-20T10:56:43.938Z"
   },
   {
    "duration": 0,
    "start_time": "2023-04-20T10:56:43.939Z"
   },
   {
    "duration": 0,
    "start_time": "2023-04-20T10:56:43.940Z"
   },
   {
    "duration": 0,
    "start_time": "2023-04-20T10:56:43.941Z"
   },
   {
    "duration": 0,
    "start_time": "2023-04-20T10:56:43.942Z"
   },
   {
    "duration": 0,
    "start_time": "2023-04-20T10:56:43.943Z"
   },
   {
    "duration": 0,
    "start_time": "2023-04-20T10:56:43.944Z"
   },
   {
    "duration": 0,
    "start_time": "2023-04-20T10:56:43.945Z"
   },
   {
    "duration": 0,
    "start_time": "2023-04-20T10:56:43.947Z"
   },
   {
    "duration": 0,
    "start_time": "2023-04-20T10:56:43.948Z"
   },
   {
    "duration": 0,
    "start_time": "2023-04-20T10:56:43.949Z"
   },
   {
    "duration": 0,
    "start_time": "2023-04-20T10:56:43.951Z"
   },
   {
    "duration": 0,
    "start_time": "2023-04-20T10:56:43.952Z"
   },
   {
    "duration": 0,
    "start_time": "2023-04-20T10:56:43.953Z"
   },
   {
    "duration": 45,
    "start_time": "2023-04-20T10:57:21.219Z"
   },
   {
    "duration": 1458,
    "start_time": "2023-04-20T10:57:38.481Z"
   },
   {
    "duration": 4,
    "start_time": "2023-04-20T10:57:39.941Z"
   },
   {
    "duration": 392,
    "start_time": "2023-04-20T10:57:39.947Z"
   },
   {
    "duration": 29,
    "start_time": "2023-04-20T10:57:40.340Z"
   },
   {
    "duration": 22,
    "start_time": "2023-04-20T10:57:40.372Z"
   },
   {
    "duration": 26,
    "start_time": "2023-04-20T10:57:40.396Z"
   },
   {
    "duration": 16,
    "start_time": "2023-04-20T10:57:40.423Z"
   },
   {
    "duration": 9,
    "start_time": "2023-04-20T10:57:40.440Z"
   },
   {
    "duration": 12,
    "start_time": "2023-04-20T10:57:40.451Z"
   },
   {
    "duration": 5,
    "start_time": "2023-04-20T10:57:40.465Z"
   },
   {
    "duration": 7,
    "start_time": "2023-04-20T10:57:40.472Z"
   },
   {
    "duration": 42,
    "start_time": "2023-04-20T10:57:40.480Z"
   },
   {
    "duration": 22,
    "start_time": "2023-04-20T10:57:40.523Z"
   },
   {
    "duration": 31,
    "start_time": "2023-04-20T10:57:40.548Z"
   },
   {
    "duration": 59,
    "start_time": "2023-04-20T10:57:40.581Z"
   },
   {
    "duration": 14,
    "start_time": "2023-04-20T10:57:40.642Z"
   },
   {
    "duration": 7,
    "start_time": "2023-04-20T10:57:40.659Z"
   },
   {
    "duration": 54,
    "start_time": "2023-04-20T10:57:40.667Z"
   },
   {
    "duration": 29,
    "start_time": "2023-04-20T10:57:40.723Z"
   },
   {
    "duration": 37,
    "start_time": "2023-04-20T10:57:40.753Z"
   },
   {
    "duration": 28,
    "start_time": "2023-04-20T10:57:40.791Z"
   },
   {
    "duration": 30,
    "start_time": "2023-04-20T10:57:40.821Z"
   },
   {
    "duration": 3,
    "start_time": "2023-04-20T10:57:40.852Z"
   },
   {
    "duration": 208,
    "start_time": "2023-04-20T10:57:40.856Z"
   },
   {
    "duration": 153,
    "start_time": "2023-04-20T10:57:41.066Z"
   },
   {
    "duration": 166,
    "start_time": "2023-04-20T10:57:41.220Z"
   },
   {
    "duration": 289,
    "start_time": "2023-04-20T10:57:41.388Z"
   },
   {
    "duration": 189,
    "start_time": "2023-04-20T10:57:41.679Z"
   },
   {
    "duration": 2,
    "start_time": "2023-04-20T10:57:41.870Z"
   },
   {
    "duration": 12,
    "start_time": "2023-04-20T10:57:41.874Z"
   },
   {
    "duration": 47,
    "start_time": "2023-04-20T10:57:41.887Z"
   },
   {
    "duration": 146,
    "start_time": "2023-04-20T10:57:41.936Z"
   },
   {
    "duration": 140,
    "start_time": "2023-04-20T10:57:42.084Z"
   },
   {
    "duration": 0,
    "start_time": "2023-04-20T10:57:42.226Z"
   },
   {
    "duration": 0,
    "start_time": "2023-04-20T10:57:42.227Z"
   },
   {
    "duration": 0,
    "start_time": "2023-04-20T10:57:42.228Z"
   },
   {
    "duration": 0,
    "start_time": "2023-04-20T10:57:42.229Z"
   },
   {
    "duration": 0,
    "start_time": "2023-04-20T10:57:42.231Z"
   },
   {
    "duration": 0,
    "start_time": "2023-04-20T10:57:42.232Z"
   },
   {
    "duration": 0,
    "start_time": "2023-04-20T10:57:42.233Z"
   },
   {
    "duration": 0,
    "start_time": "2023-04-20T10:57:42.234Z"
   },
   {
    "duration": 0,
    "start_time": "2023-04-20T10:57:42.235Z"
   },
   {
    "duration": 0,
    "start_time": "2023-04-20T10:57:42.236Z"
   },
   {
    "duration": 0,
    "start_time": "2023-04-20T10:57:42.237Z"
   },
   {
    "duration": 2627,
    "start_time": "2023-04-20T10:59:08.430Z"
   },
   {
    "duration": 4,
    "start_time": "2023-04-20T10:59:11.059Z"
   },
   {
    "duration": 490,
    "start_time": "2023-04-20T10:59:11.065Z"
   },
   {
    "duration": 27,
    "start_time": "2023-04-20T10:59:11.557Z"
   },
   {
    "duration": 22,
    "start_time": "2023-04-20T10:59:11.586Z"
   },
   {
    "duration": 19,
    "start_time": "2023-04-20T10:59:11.610Z"
   },
   {
    "duration": 17,
    "start_time": "2023-04-20T10:59:11.630Z"
   },
   {
    "duration": 10,
    "start_time": "2023-04-20T10:59:11.648Z"
   },
   {
    "duration": 14,
    "start_time": "2023-04-20T10:59:11.659Z"
   },
   {
    "duration": 6,
    "start_time": "2023-04-20T10:59:11.675Z"
   },
   {
    "duration": 35,
    "start_time": "2023-04-20T10:59:11.683Z"
   },
   {
    "duration": 13,
    "start_time": "2023-04-20T10:59:11.720Z"
   },
   {
    "duration": 29,
    "start_time": "2023-04-20T10:59:11.735Z"
   },
   {
    "duration": 32,
    "start_time": "2023-04-20T10:59:11.766Z"
   },
   {
    "duration": 63,
    "start_time": "2023-04-20T10:59:11.800Z"
   },
   {
    "duration": 7,
    "start_time": "2023-04-20T10:59:11.866Z"
   },
   {
    "duration": 10,
    "start_time": "2023-04-20T10:59:11.875Z"
   },
   {
    "duration": 110,
    "start_time": "2023-04-20T10:59:11.887Z"
   },
   {
    "duration": 40,
    "start_time": "2023-04-20T10:59:11.999Z"
   },
   {
    "duration": 40,
    "start_time": "2023-04-20T10:59:12.041Z"
   },
   {
    "duration": 9,
    "start_time": "2023-04-20T10:59:12.083Z"
   },
   {
    "duration": 55,
    "start_time": "2023-04-20T10:59:12.093Z"
   },
   {
    "duration": 3,
    "start_time": "2023-04-20T10:59:12.150Z"
   },
   {
    "duration": 191,
    "start_time": "2023-04-20T10:59:12.155Z"
   },
   {
    "duration": 200,
    "start_time": "2023-04-20T10:59:12.348Z"
   },
   {
    "duration": 212,
    "start_time": "2023-04-20T10:59:12.550Z"
   },
   {
    "duration": 244,
    "start_time": "2023-04-20T10:59:12.764Z"
   },
   {
    "duration": 171,
    "start_time": "2023-04-20T10:59:13.016Z"
   },
   {
    "duration": 4,
    "start_time": "2023-04-20T10:59:13.189Z"
   },
   {
    "duration": 33,
    "start_time": "2023-04-20T10:59:13.195Z"
   },
   {
    "duration": 60,
    "start_time": "2023-04-20T10:59:13.230Z"
   },
   {
    "duration": 177,
    "start_time": "2023-04-20T10:59:13.292Z"
   },
   {
    "duration": 1151,
    "start_time": "2023-04-20T10:59:13.471Z"
   },
   {
    "duration": 261,
    "start_time": "2023-04-20T10:59:14.624Z"
   },
   {
    "duration": 134,
    "start_time": "2023-04-20T10:59:14.887Z"
   },
   {
    "duration": 0,
    "start_time": "2023-04-20T10:59:15.024Z"
   },
   {
    "duration": 0,
    "start_time": "2023-04-20T10:59:15.026Z"
   },
   {
    "duration": 0,
    "start_time": "2023-04-20T10:59:15.027Z"
   },
   {
    "duration": 0,
    "start_time": "2023-04-20T10:59:15.029Z"
   },
   {
    "duration": 0,
    "start_time": "2023-04-20T10:59:15.030Z"
   },
   {
    "duration": 0,
    "start_time": "2023-04-20T10:59:15.032Z"
   },
   {
    "duration": 0,
    "start_time": "2023-04-20T10:59:15.033Z"
   },
   {
    "duration": 0,
    "start_time": "2023-04-20T10:59:15.035Z"
   },
   {
    "duration": 0,
    "start_time": "2023-04-20T10:59:15.036Z"
   },
   {
    "duration": 42,
    "start_time": "2023-04-20T10:59:47.476Z"
   },
   {
    "duration": 1077,
    "start_time": "2023-04-20T11:00:03.688Z"
   },
   {
    "duration": 4918,
    "start_time": "2023-04-20T11:00:29.546Z"
   },
   {
    "duration": 42,
    "start_time": "2023-04-20T11:00:53.306Z"
   },
   {
    "duration": 154,
    "start_time": "2023-04-20T11:00:56.838Z"
   },
   {
    "duration": 160,
    "start_time": "2023-04-20T11:01:07.130Z"
   },
   {
    "duration": 18,
    "start_time": "2023-04-20T11:01:13.518Z"
   },
   {
    "duration": 13,
    "start_time": "2023-04-20T11:01:23.030Z"
   },
   {
    "duration": 165,
    "start_time": "2023-04-20T11:01:25.884Z"
   },
   {
    "duration": 24,
    "start_time": "2023-04-20T11:01:28.535Z"
   },
   {
    "duration": 12,
    "start_time": "2023-04-20T11:01:32.309Z"
   },
   {
    "duration": 125708,
    "start_time": "2023-04-20T11:01:41.881Z"
   },
   {
    "duration": 0,
    "start_time": "2023-04-20T11:10:54.828Z"
   },
   {
    "duration": 5844,
    "start_time": "2023-04-20T11:10:59.135Z"
   },
   {
    "duration": 5396,
    "start_time": "2023-04-20T11:11:10.783Z"
   },
   {
    "duration": 172,
    "start_time": "2023-04-20T11:11:24.572Z"
   },
   {
    "duration": 7075,
    "start_time": "2023-04-20T11:11:28.703Z"
   },
   {
    "duration": 21,
    "start_time": "2023-04-20T11:12:23.284Z"
   },
   {
    "duration": 443,
    "start_time": "2023-04-20T11:12:36.370Z"
   },
   {
    "duration": 127,
    "start_time": "2023-04-20T11:17:01.875Z"
   },
   {
    "duration": 12,
    "start_time": "2023-04-20T11:23:40.182Z"
   },
   {
    "duration": 1145,
    "start_time": "2023-04-20T11:24:33.275Z"
   },
   {
    "duration": 248,
    "start_time": "2023-04-20T11:24:39.956Z"
   },
   {
    "duration": 1736,
    "start_time": "2023-04-20T11:25:19.219Z"
   },
   {
    "duration": 5,
    "start_time": "2023-04-20T11:25:20.957Z"
   },
   {
    "duration": 955,
    "start_time": "2023-04-20T11:25:20.963Z"
   },
   {
    "duration": 39,
    "start_time": "2023-04-20T11:25:21.922Z"
   },
   {
    "duration": 26,
    "start_time": "2023-04-20T11:25:21.963Z"
   },
   {
    "duration": 40,
    "start_time": "2023-04-20T11:25:21.991Z"
   },
   {
    "duration": 20,
    "start_time": "2023-04-20T11:25:22.032Z"
   },
   {
    "duration": 10,
    "start_time": "2023-04-20T11:25:22.053Z"
   },
   {
    "duration": 15,
    "start_time": "2023-04-20T11:25:22.065Z"
   },
   {
    "duration": 6,
    "start_time": "2023-04-20T11:25:22.083Z"
   },
   {
    "duration": 33,
    "start_time": "2023-04-20T11:25:22.091Z"
   },
   {
    "duration": 17,
    "start_time": "2023-04-20T11:25:22.126Z"
   },
   {
    "duration": 56,
    "start_time": "2023-04-20T11:25:22.145Z"
   },
   {
    "duration": 35,
    "start_time": "2023-04-20T11:25:22.202Z"
   },
   {
    "duration": 40,
    "start_time": "2023-04-20T11:25:22.239Z"
   },
   {
    "duration": 6,
    "start_time": "2023-04-20T11:25:22.281Z"
   },
   {
    "duration": 32,
    "start_time": "2023-04-20T11:25:22.289Z"
   },
   {
    "duration": 98,
    "start_time": "2023-04-20T11:25:22.323Z"
   },
   {
    "duration": 37,
    "start_time": "2023-04-20T11:25:22.423Z"
   },
   {
    "duration": 69,
    "start_time": "2023-04-20T11:25:22.463Z"
   },
   {
    "duration": 14,
    "start_time": "2023-04-20T11:25:22.533Z"
   },
   {
    "duration": 51,
    "start_time": "2023-04-20T11:25:22.550Z"
   },
   {
    "duration": 17,
    "start_time": "2023-04-20T11:25:22.603Z"
   },
   {
    "duration": 198,
    "start_time": "2023-04-20T11:25:22.622Z"
   },
   {
    "duration": 157,
    "start_time": "2023-04-20T11:25:22.822Z"
   },
   {
    "duration": 181,
    "start_time": "2023-04-20T11:25:22.981Z"
   },
   {
    "duration": 241,
    "start_time": "2023-04-20T11:25:23.164Z"
   },
   {
    "duration": 146,
    "start_time": "2023-04-20T11:25:23.408Z"
   },
   {
    "duration": 3,
    "start_time": "2023-04-20T11:25:23.555Z"
   },
   {
    "duration": 23,
    "start_time": "2023-04-20T11:25:23.559Z"
   },
   {
    "duration": 22,
    "start_time": "2023-04-20T11:25:23.584Z"
   },
   {
    "duration": 142,
    "start_time": "2023-04-20T11:25:23.607Z"
   },
   {
    "duration": 1168,
    "start_time": "2023-04-20T11:25:23.751Z"
   },
   {
    "duration": 245,
    "start_time": "2023-04-20T11:25:24.921Z"
   },
   {
    "duration": 64,
    "start_time": "2023-04-20T11:25:25.168Z"
   },
   {
    "duration": 4888,
    "start_time": "2023-04-20T11:25:25.319Z"
   },
   {
    "duration": 114,
    "start_time": "2023-04-20T11:25:30.208Z"
   },
   {
    "duration": 11,
    "start_time": "2023-04-20T11:25:30.323Z"
   },
   {
    "duration": 186,
    "start_time": "2023-04-20T11:25:30.336Z"
   },
   {
    "duration": 11,
    "start_time": "2023-04-20T11:25:30.523Z"
   },
   {
    "duration": 195930,
    "start_time": "2023-04-20T11:25:30.535Z"
   },
   {
    "duration": 5598,
    "start_time": "2023-04-20T11:28:46.466Z"
   },
   {
    "duration": 173,
    "start_time": "2023-04-20T11:28:52.065Z"
   },
   {
    "duration": 20,
    "start_time": "2023-04-20T11:28:52.240Z"
   },
   {
    "duration": 463,
    "start_time": "2023-04-20T11:28:52.263Z"
   },
   {
    "duration": 8775,
    "start_time": "2023-04-20T11:29:22.384Z"
   },
   {
    "duration": 161,
    "start_time": "2023-04-20T11:29:34.985Z"
   },
   {
    "duration": 282025,
    "start_time": "2023-04-20T11:30:14.904Z"
   },
   {
    "duration": 10718,
    "start_time": "2023-04-20T11:35:57.341Z"
   },
   {
    "duration": 1563,
    "start_time": "2023-04-20T11:36:28.200Z"
   },
   {
    "duration": 4,
    "start_time": "2023-04-20T11:36:29.765Z"
   },
   {
    "duration": 297,
    "start_time": "2023-04-20T11:36:29.771Z"
   },
   {
    "duration": 26,
    "start_time": "2023-04-20T11:36:30.070Z"
   },
   {
    "duration": 25,
    "start_time": "2023-04-20T11:36:30.098Z"
   },
   {
    "duration": 36,
    "start_time": "2023-04-20T11:36:30.125Z"
   },
   {
    "duration": 57,
    "start_time": "2023-04-20T11:36:30.162Z"
   },
   {
    "duration": 37,
    "start_time": "2023-04-20T11:36:30.221Z"
   },
   {
    "duration": 65,
    "start_time": "2023-04-20T11:36:30.260Z"
   },
   {
    "duration": 59,
    "start_time": "2023-04-20T11:36:30.327Z"
   },
   {
    "duration": 59,
    "start_time": "2023-04-20T11:36:30.388Z"
   },
   {
    "duration": 42,
    "start_time": "2023-04-20T11:36:30.449Z"
   },
   {
    "duration": 69,
    "start_time": "2023-04-20T11:36:30.493Z"
   },
   {
    "duration": 70,
    "start_time": "2023-04-20T11:36:30.565Z"
   },
   {
    "duration": 214,
    "start_time": "2023-04-20T11:36:30.637Z"
   },
   {
    "duration": 164,
    "start_time": "2023-04-20T11:36:30.853Z"
   },
   {
    "duration": 49,
    "start_time": "2023-04-20T11:36:31.019Z"
   },
   {
    "duration": 111,
    "start_time": "2023-04-20T11:36:31.070Z"
   },
   {
    "duration": 61,
    "start_time": "2023-04-20T11:36:31.183Z"
   },
   {
    "duration": 101,
    "start_time": "2023-04-20T11:36:31.246Z"
   },
   {
    "duration": 21,
    "start_time": "2023-04-20T11:36:31.349Z"
   },
   {
    "duration": 73,
    "start_time": "2023-04-20T11:36:31.372Z"
   },
   {
    "duration": 16,
    "start_time": "2023-04-20T11:36:31.447Z"
   },
   {
    "duration": 206,
    "start_time": "2023-04-20T11:36:31.465Z"
   },
   {
    "duration": 179,
    "start_time": "2023-04-20T11:36:31.672Z"
   },
   {
    "duration": 233,
    "start_time": "2023-04-20T11:36:31.853Z"
   },
   {
    "duration": 262,
    "start_time": "2023-04-20T11:36:32.088Z"
   },
   {
    "duration": 158,
    "start_time": "2023-04-20T11:36:32.351Z"
   },
   {
    "duration": 3,
    "start_time": "2023-04-20T11:36:32.517Z"
   },
   {
    "duration": 50,
    "start_time": "2023-04-20T11:36:32.521Z"
   },
   {
    "duration": 36,
    "start_time": "2023-04-20T11:36:32.572Z"
   },
   {
    "duration": 167,
    "start_time": "2023-04-20T11:36:32.609Z"
   },
   {
    "duration": 1141,
    "start_time": "2023-04-20T11:36:32.778Z"
   },
   {
    "duration": 252,
    "start_time": "2023-04-20T11:36:33.921Z"
   },
   {
    "duration": 50,
    "start_time": "2023-04-20T11:36:34.174Z"
   },
   {
    "duration": 5263,
    "start_time": "2023-04-20T11:36:34.228Z"
   },
   {
    "duration": 121,
    "start_time": "2023-04-20T11:36:39.493Z"
   },
   {
    "duration": 19,
    "start_time": "2023-04-20T11:36:39.622Z"
   },
   {
    "duration": 174,
    "start_time": "2023-04-20T11:36:39.642Z"
   },
   {
    "duration": 12,
    "start_time": "2023-04-20T11:36:39.817Z"
   },
   {
    "duration": 296561,
    "start_time": "2023-04-20T11:36:39.833Z"
   },
   {
    "duration": 14481,
    "start_time": "2023-04-20T11:41:36.396Z"
   },
   {
    "duration": 174,
    "start_time": "2023-04-20T11:41:50.879Z"
   },
   {
    "duration": 23,
    "start_time": "2023-04-20T11:41:51.055Z"
   },
   {
    "duration": 501,
    "start_time": "2023-04-20T11:41:51.081Z"
   },
   {
    "duration": 522,
    "start_time": "2023-04-20T11:48:19.753Z"
   },
   {
    "duration": 11957,
    "start_time": "2023-04-20T11:49:15.687Z"
   },
   {
    "duration": 184,
    "start_time": "2023-04-20T11:49:30.535Z"
   },
   {
    "duration": 23,
    "start_time": "2023-04-20T11:49:34.678Z"
   },
   {
    "duration": 112,
    "start_time": "2023-04-21T09:17:06.066Z"
   },
   {
    "duration": 61,
    "start_time": "2023-04-21T11:19:52.603Z"
   },
   {
    "duration": 1634,
    "start_time": "2023-04-21T11:20:04.332Z"
   },
   {
    "duration": 4,
    "start_time": "2023-04-21T11:20:05.968Z"
   },
   {
    "duration": 472,
    "start_time": "2023-04-21T11:20:05.974Z"
   },
   {
    "duration": 30,
    "start_time": "2023-04-21T11:20:06.449Z"
   },
   {
    "duration": 23,
    "start_time": "2023-04-21T11:20:06.481Z"
   },
   {
    "duration": 20,
    "start_time": "2023-04-21T11:20:06.506Z"
   },
   {
    "duration": 19,
    "start_time": "2023-04-21T11:20:06.528Z"
   },
   {
    "duration": 11,
    "start_time": "2023-04-21T11:20:06.548Z"
   },
   {
    "duration": 39,
    "start_time": "2023-04-21T11:20:06.561Z"
   },
   {
    "duration": 27,
    "start_time": "2023-04-21T11:20:06.603Z"
   },
   {
    "duration": 6,
    "start_time": "2023-04-21T11:20:06.632Z"
   },
   {
    "duration": 10,
    "start_time": "2023-04-21T11:20:06.640Z"
   },
   {
    "duration": 28,
    "start_time": "2023-04-21T11:20:06.652Z"
   },
   {
    "duration": 37,
    "start_time": "2023-04-21T11:20:06.682Z"
   },
   {
    "duration": 43,
    "start_time": "2023-04-21T11:20:06.721Z"
   },
   {
    "duration": 9,
    "start_time": "2023-04-21T11:20:06.765Z"
   },
   {
    "duration": 32,
    "start_time": "2023-04-21T11:20:06.776Z"
   },
   {
    "duration": 75,
    "start_time": "2023-04-21T11:20:06.812Z"
   },
   {
    "duration": 35,
    "start_time": "2023-04-21T11:20:06.889Z"
   },
   {
    "duration": 40,
    "start_time": "2023-04-21T11:20:06.926Z"
   },
   {
    "duration": 10,
    "start_time": "2023-04-21T11:20:06.967Z"
   },
   {
    "duration": 57,
    "start_time": "2023-04-21T11:20:06.979Z"
   },
   {
    "duration": 3,
    "start_time": "2023-04-21T11:20:07.038Z"
   },
   {
    "duration": 185,
    "start_time": "2023-04-21T11:20:07.043Z"
   },
   {
    "duration": 161,
    "start_time": "2023-04-21T11:20:07.230Z"
   },
   {
    "duration": 180,
    "start_time": "2023-04-21T11:20:07.393Z"
   },
   {
    "duration": 241,
    "start_time": "2023-04-21T11:20:07.576Z"
   },
   {
    "duration": 157,
    "start_time": "2023-04-21T11:20:07.821Z"
   },
   {
    "duration": 110,
    "start_time": "2023-04-21T11:20:12.674Z"
   },
   {
    "duration": 17,
    "start_time": "2023-04-21T11:23:49.084Z"
   },
   {
    "duration": 456,
    "start_time": "2023-04-21T11:24:26.406Z"
   },
   {
    "duration": 10,
    "start_time": "2023-04-21T11:29:15.041Z"
   },
   {
    "duration": 292,
    "start_time": "2023-04-21T11:29:19.409Z"
   },
   {
    "duration": 412,
    "start_time": "2023-04-21T11:31:34.364Z"
   },
   {
    "duration": 10,
    "start_time": "2023-04-21T11:35:11.242Z"
   },
   {
    "duration": 22,
    "start_time": "2023-04-21T11:35:28.810Z"
   },
   {
    "duration": 10,
    "start_time": "2023-04-21T11:36:17.612Z"
   },
   {
    "duration": 157,
    "start_time": "2023-04-21T11:36:23.032Z"
   },
   {
    "duration": 17,
    "start_time": "2023-04-21T11:39:33.822Z"
   },
   {
    "duration": 193,
    "start_time": "2023-04-21T11:39:43.424Z"
   },
   {
    "duration": 201,
    "start_time": "2023-04-21T11:42:52.500Z"
   },
   {
    "duration": 1460,
    "start_time": "2023-04-21T11:44:15.744Z"
   },
   {
    "duration": 5,
    "start_time": "2023-04-21T11:44:17.206Z"
   },
   {
    "duration": 194,
    "start_time": "2023-04-21T11:44:17.213Z"
   },
   {
    "duration": 29,
    "start_time": "2023-04-21T11:44:17.409Z"
   },
   {
    "duration": 22,
    "start_time": "2023-04-21T11:44:17.439Z"
   },
   {
    "duration": 21,
    "start_time": "2023-04-21T11:44:17.463Z"
   },
   {
    "duration": 43,
    "start_time": "2023-04-21T11:44:17.486Z"
   },
   {
    "duration": 12,
    "start_time": "2023-04-21T11:44:17.531Z"
   },
   {
    "duration": 16,
    "start_time": "2023-04-21T11:44:17.544Z"
   },
   {
    "duration": 7,
    "start_time": "2023-04-21T11:44:17.563Z"
   },
   {
    "duration": 7,
    "start_time": "2023-04-21T11:44:17.572Z"
   },
   {
    "duration": 36,
    "start_time": "2023-04-21T11:44:17.581Z"
   },
   {
    "duration": 36,
    "start_time": "2023-04-21T11:44:17.619Z"
   },
   {
    "duration": 32,
    "start_time": "2023-04-21T11:44:17.657Z"
   },
   {
    "duration": 52,
    "start_time": "2023-04-21T11:44:17.691Z"
   },
   {
    "duration": 7,
    "start_time": "2023-04-21T11:44:17.744Z"
   },
   {
    "duration": 14,
    "start_time": "2023-04-21T11:44:17.753Z"
   },
   {
    "duration": 58,
    "start_time": "2023-04-21T11:44:17.769Z"
   },
   {
    "duration": 39,
    "start_time": "2023-04-21T11:44:17.829Z"
   },
   {
    "duration": 66,
    "start_time": "2023-04-21T11:44:17.870Z"
   },
   {
    "duration": 10,
    "start_time": "2023-04-21T11:44:17.938Z"
   },
   {
    "duration": 43,
    "start_time": "2023-04-21T11:44:17.949Z"
   },
   {
    "duration": 3,
    "start_time": "2023-04-21T11:44:17.994Z"
   },
   {
    "duration": 191,
    "start_time": "2023-04-21T11:44:18.012Z"
   },
   {
    "duration": 167,
    "start_time": "2023-04-21T11:44:18.205Z"
   },
   {
    "duration": 178,
    "start_time": "2023-04-21T11:44:18.374Z"
   },
   {
    "duration": 262,
    "start_time": "2023-04-21T11:44:18.554Z"
   },
   {
    "duration": 199,
    "start_time": "2023-04-21T11:44:18.820Z"
   },
   {
    "duration": 193,
    "start_time": "2023-04-21T11:44:19.022Z"
   },
   {
    "duration": 189,
    "start_time": "2023-04-21T11:44:19.217Z"
   },
   {
    "duration": 2,
    "start_time": "2023-04-21T11:44:19.412Z"
   },
   {
    "duration": 16,
    "start_time": "2023-04-21T11:44:19.415Z"
   },
   {
    "duration": 9,
    "start_time": "2023-04-21T11:44:19.433Z"
   },
   {
    "duration": 150,
    "start_time": "2023-04-21T11:44:19.443Z"
   },
   {
    "duration": 135,
    "start_time": "2023-04-21T11:44:19.595Z"
   },
   {
    "duration": 0,
    "start_time": "2023-04-21T11:44:19.732Z"
   },
   {
    "duration": 0,
    "start_time": "2023-04-21T11:44:19.733Z"
   },
   {
    "duration": 0,
    "start_time": "2023-04-21T11:44:19.734Z"
   },
   {
    "duration": 0,
    "start_time": "2023-04-21T11:44:19.735Z"
   },
   {
    "duration": 0,
    "start_time": "2023-04-21T11:44:19.736Z"
   },
   {
    "duration": 0,
    "start_time": "2023-04-21T11:44:19.738Z"
   },
   {
    "duration": 0,
    "start_time": "2023-04-21T11:44:19.739Z"
   },
   {
    "duration": 0,
    "start_time": "2023-04-21T11:44:19.740Z"
   },
   {
    "duration": 0,
    "start_time": "2023-04-21T11:44:19.741Z"
   },
   {
    "duration": 0,
    "start_time": "2023-04-21T11:44:19.742Z"
   },
   {
    "duration": 0,
    "start_time": "2023-04-21T11:44:19.743Z"
   },
   {
    "duration": 0,
    "start_time": "2023-04-21T11:44:19.744Z"
   },
   {
    "duration": 36,
    "start_time": "2023-04-21T11:46:27.357Z"
   },
   {
    "duration": 783,
    "start_time": "2023-04-21T11:46:31.428Z"
   },
   {
    "duration": 17,
    "start_time": "2023-04-21T11:46:51.367Z"
   },
   {
    "duration": 48,
    "start_time": "2023-04-21T11:49:09.532Z"
   },
   {
    "duration": 14,
    "start_time": "2023-04-21T11:49:12.612Z"
   },
   {
    "duration": 1554,
    "start_time": "2023-04-21T11:49:33.225Z"
   },
   {
    "duration": 5,
    "start_time": "2023-04-21T11:49:34.780Z"
   },
   {
    "duration": 250,
    "start_time": "2023-04-21T11:49:34.786Z"
   },
   {
    "duration": 31,
    "start_time": "2023-04-21T11:49:35.039Z"
   },
   {
    "duration": 26,
    "start_time": "2023-04-21T11:49:35.072Z"
   },
   {
    "duration": 27,
    "start_time": "2023-04-21T11:49:35.100Z"
   },
   {
    "duration": 25,
    "start_time": "2023-04-21T11:49:35.129Z"
   },
   {
    "duration": 41,
    "start_time": "2023-04-21T11:49:35.156Z"
   },
   {
    "duration": 40,
    "start_time": "2023-04-21T11:49:35.199Z"
   },
   {
    "duration": 54,
    "start_time": "2023-04-21T11:49:35.242Z"
   },
   {
    "duration": 39,
    "start_time": "2023-04-21T11:49:35.297Z"
   },
   {
    "duration": 13,
    "start_time": "2023-04-21T11:49:35.338Z"
   },
   {
    "duration": 25,
    "start_time": "2023-04-21T11:49:35.353Z"
   },
   {
    "duration": 42,
    "start_time": "2023-04-21T11:49:35.380Z"
   },
   {
    "duration": 44,
    "start_time": "2023-04-21T11:49:35.424Z"
   },
   {
    "duration": 8,
    "start_time": "2023-04-21T11:49:35.470Z"
   },
   {
    "duration": 40,
    "start_time": "2023-04-21T11:49:35.480Z"
   },
   {
    "duration": 45,
    "start_time": "2023-04-21T11:49:35.522Z"
   },
   {
    "duration": 42,
    "start_time": "2023-04-21T11:49:35.569Z"
   },
   {
    "duration": 43,
    "start_time": "2023-04-21T11:49:35.614Z"
   },
   {
    "duration": 10,
    "start_time": "2023-04-21T11:49:35.659Z"
   },
   {
    "duration": 52,
    "start_time": "2023-04-21T11:49:35.671Z"
   },
   {
    "duration": 4,
    "start_time": "2023-04-21T11:49:35.725Z"
   },
   {
    "duration": 191,
    "start_time": "2023-04-21T11:49:35.730Z"
   },
   {
    "duration": 162,
    "start_time": "2023-04-21T11:49:35.923Z"
   },
   {
    "duration": 173,
    "start_time": "2023-04-21T11:49:36.087Z"
   },
   {
    "duration": 449,
    "start_time": "2023-04-21T11:49:36.263Z"
   },
   {
    "duration": 326,
    "start_time": "2023-04-21T11:49:36.718Z"
   },
   {
    "duration": 376,
    "start_time": "2023-04-21T11:49:37.046Z"
   },
   {
    "duration": 390,
    "start_time": "2023-04-21T11:49:37.424Z"
   },
   {
    "duration": 3,
    "start_time": "2023-04-21T11:49:37.816Z"
   },
   {
    "duration": 43,
    "start_time": "2023-04-21T11:49:37.820Z"
   },
   {
    "duration": 47,
    "start_time": "2023-04-21T11:49:37.865Z"
   },
   {
    "duration": 301,
    "start_time": "2023-04-21T11:49:37.915Z"
   },
   {
    "duration": 1129,
    "start_time": "2023-04-21T11:49:38.218Z"
   },
   {
    "duration": 329,
    "start_time": "2023-04-21T11:49:39.413Z"
   },
   {
    "duration": 0,
    "start_time": "2023-04-21T11:49:39.744Z"
   },
   {
    "duration": 0,
    "start_time": "2023-04-21T11:49:39.745Z"
   },
   {
    "duration": 0,
    "start_time": "2023-04-21T11:49:39.746Z"
   },
   {
    "duration": 0,
    "start_time": "2023-04-21T11:49:39.748Z"
   },
   {
    "duration": 0,
    "start_time": "2023-04-21T11:49:39.749Z"
   },
   {
    "duration": 0,
    "start_time": "2023-04-21T11:49:39.750Z"
   },
   {
    "duration": 0,
    "start_time": "2023-04-21T11:49:39.752Z"
   },
   {
    "duration": 0,
    "start_time": "2023-04-21T11:49:39.753Z"
   },
   {
    "duration": 0,
    "start_time": "2023-04-21T11:49:39.754Z"
   },
   {
    "duration": 0,
    "start_time": "2023-04-21T11:49:39.755Z"
   },
   {
    "duration": 0,
    "start_time": "2023-04-21T11:49:39.757Z"
   },
   {
    "duration": 23,
    "start_time": "2023-04-21T11:54:18.680Z"
   },
   {
    "duration": 757,
    "start_time": "2023-04-21T11:54:23.610Z"
   },
   {
    "duration": 1514,
    "start_time": "2023-04-21T11:54:33.237Z"
   },
   {
    "duration": 5,
    "start_time": "2023-04-21T11:54:34.753Z"
   },
   {
    "duration": 201,
    "start_time": "2023-04-21T11:54:34.759Z"
   },
   {
    "duration": 34,
    "start_time": "2023-04-21T11:54:34.963Z"
   },
   {
    "duration": 23,
    "start_time": "2023-04-21T11:54:34.999Z"
   },
   {
    "duration": 23,
    "start_time": "2023-04-21T11:54:35.024Z"
   },
   {
    "duration": 19,
    "start_time": "2023-04-21T11:54:35.049Z"
   },
   {
    "duration": 20,
    "start_time": "2023-04-21T11:54:35.069Z"
   },
   {
    "duration": 15,
    "start_time": "2023-04-21T11:54:35.112Z"
   },
   {
    "duration": 10,
    "start_time": "2023-04-21T11:54:35.130Z"
   },
   {
    "duration": 13,
    "start_time": "2023-04-21T11:54:35.142Z"
   },
   {
    "duration": 27,
    "start_time": "2023-04-21T11:54:35.157Z"
   },
   {
    "duration": 34,
    "start_time": "2023-04-21T11:54:35.186Z"
   },
   {
    "duration": 36,
    "start_time": "2023-04-21T11:54:35.222Z"
   },
   {
    "duration": 63,
    "start_time": "2023-04-21T11:54:35.260Z"
   },
   {
    "duration": 7,
    "start_time": "2023-04-21T11:54:35.325Z"
   },
   {
    "duration": 17,
    "start_time": "2023-04-21T11:54:35.334Z"
   },
   {
    "duration": 64,
    "start_time": "2023-04-21T11:54:35.353Z"
   },
   {
    "duration": 22,
    "start_time": "2023-04-21T11:54:35.419Z"
   },
   {
    "duration": 43,
    "start_time": "2023-04-21T11:54:35.442Z"
   },
   {
    "duration": 34,
    "start_time": "2023-04-21T11:54:35.487Z"
   },
   {
    "duration": 34,
    "start_time": "2023-04-21T11:54:35.523Z"
   },
   {
    "duration": 4,
    "start_time": "2023-04-21T11:54:35.559Z"
   },
   {
    "duration": 212,
    "start_time": "2023-04-21T11:54:35.565Z"
   },
   {
    "duration": 168,
    "start_time": "2023-04-21T11:54:35.779Z"
   },
   {
    "duration": 182,
    "start_time": "2023-04-21T11:54:35.949Z"
   },
   {
    "duration": 501,
    "start_time": "2023-04-21T11:54:36.133Z"
   },
   {
    "duration": 311,
    "start_time": "2023-04-21T11:54:36.637Z"
   },
   {
    "duration": 465,
    "start_time": "2023-04-21T11:54:36.950Z"
   },
   {
    "duration": 430,
    "start_time": "2023-04-21T11:54:37.418Z"
   },
   {
    "duration": 2,
    "start_time": "2023-04-21T11:54:37.850Z"
   },
   {
    "duration": 58,
    "start_time": "2023-04-21T11:54:37.854Z"
   },
   {
    "duration": 8,
    "start_time": "2023-04-21T11:54:37.914Z"
   },
   {
    "duration": 252,
    "start_time": "2023-04-21T11:54:37.924Z"
   },
   {
    "duration": 139,
    "start_time": "2023-04-21T11:54:38.212Z"
   },
   {
    "duration": 0,
    "start_time": "2023-04-21T11:54:38.353Z"
   },
   {
    "duration": 0,
    "start_time": "2023-04-21T11:54:38.355Z"
   },
   {
    "duration": 0,
    "start_time": "2023-04-21T11:54:38.357Z"
   },
   {
    "duration": 0,
    "start_time": "2023-04-21T11:54:38.358Z"
   },
   {
    "duration": 0,
    "start_time": "2023-04-21T11:54:38.359Z"
   },
   {
    "duration": 0,
    "start_time": "2023-04-21T11:54:38.361Z"
   },
   {
    "duration": 0,
    "start_time": "2023-04-21T11:54:38.362Z"
   },
   {
    "duration": 0,
    "start_time": "2023-04-21T11:54:38.364Z"
   },
   {
    "duration": 0,
    "start_time": "2023-04-21T11:54:38.366Z"
   },
   {
    "duration": 0,
    "start_time": "2023-04-21T11:54:38.367Z"
   },
   {
    "duration": 0,
    "start_time": "2023-04-21T11:54:38.369Z"
   },
   {
    "duration": 0,
    "start_time": "2023-04-21T11:54:38.371Z"
   },
   {
    "duration": 5,
    "start_time": "2023-04-21T11:56:14.356Z"
   },
   {
    "duration": 9,
    "start_time": "2023-04-21T11:56:14.727Z"
   },
   {
    "duration": 28,
    "start_time": "2023-04-21T11:56:15.409Z"
   },
   {
    "duration": 24,
    "start_time": "2023-04-21T11:56:19.476Z"
   },
   {
    "duration": 5,
    "start_time": "2023-04-21T11:57:53.975Z"
   },
   {
    "duration": 36,
    "start_time": "2023-04-21T11:58:05.570Z"
   },
   {
    "duration": 812,
    "start_time": "2023-04-21T11:58:08.525Z"
   },
   {
    "duration": 1494,
    "start_time": "2023-04-21T11:58:16.357Z"
   },
   {
    "duration": 5,
    "start_time": "2023-04-21T11:58:17.853Z"
   },
   {
    "duration": 213,
    "start_time": "2023-04-21T11:58:17.861Z"
   },
   {
    "duration": 30,
    "start_time": "2023-04-21T11:58:18.076Z"
   },
   {
    "duration": 26,
    "start_time": "2023-04-21T11:58:18.107Z"
   },
   {
    "duration": 24,
    "start_time": "2023-04-21T11:58:18.135Z"
   },
   {
    "duration": 18,
    "start_time": "2023-04-21T11:58:18.160Z"
   },
   {
    "duration": 40,
    "start_time": "2023-04-21T11:58:18.180Z"
   },
   {
    "duration": 15,
    "start_time": "2023-04-21T11:58:18.221Z"
   },
   {
    "duration": 6,
    "start_time": "2023-04-21T11:58:18.239Z"
   },
   {
    "duration": 7,
    "start_time": "2023-04-21T11:58:18.247Z"
   },
   {
    "duration": 11,
    "start_time": "2023-04-21T11:58:18.256Z"
   },
   {
    "duration": 59,
    "start_time": "2023-04-21T11:58:18.268Z"
   },
   {
    "duration": 37,
    "start_time": "2023-04-21T11:58:18.329Z"
   },
   {
    "duration": 58,
    "start_time": "2023-04-21T11:58:18.368Z"
   },
   {
    "duration": 6,
    "start_time": "2023-04-21T11:58:18.428Z"
   },
   {
    "duration": 15,
    "start_time": "2023-04-21T11:58:18.436Z"
   },
   {
    "duration": 41,
    "start_time": "2023-04-21T11:58:18.453Z"
   },
   {
    "duration": 47,
    "start_time": "2023-04-21T11:58:18.513Z"
   },
   {
    "duration": 71,
    "start_time": "2023-04-21T11:58:18.562Z"
   },
   {
    "duration": 12,
    "start_time": "2023-04-21T11:58:18.636Z"
   },
   {
    "duration": 84,
    "start_time": "2023-04-21T11:58:18.650Z"
   },
   {
    "duration": 4,
    "start_time": "2023-04-21T11:58:18.735Z"
   },
   {
    "duration": 278,
    "start_time": "2023-04-21T11:58:18.740Z"
   },
   {
    "duration": 435,
    "start_time": "2023-04-21T11:58:19.020Z"
   },
   {
    "duration": 375,
    "start_time": "2023-04-21T11:58:19.456Z"
   },
   {
    "duration": 516,
    "start_time": "2023-04-21T11:58:19.833Z"
   },
   {
    "duration": 377,
    "start_time": "2023-04-21T11:58:20.353Z"
   },
   {
    "duration": 288,
    "start_time": "2023-04-21T11:58:20.732Z"
   },
   {
    "duration": 215,
    "start_time": "2023-04-21T11:58:21.022Z"
   },
   {
    "duration": 3,
    "start_time": "2023-04-21T11:58:21.238Z"
   },
   {
    "duration": 11,
    "start_time": "2023-04-21T11:58:21.243Z"
   },
   {
    "duration": 31,
    "start_time": "2023-04-21T11:58:21.256Z"
   },
   {
    "duration": 171,
    "start_time": "2023-04-21T11:58:21.289Z"
   },
   {
    "duration": 1082,
    "start_time": "2023-04-21T11:58:21.462Z"
   },
   {
    "duration": 435,
    "start_time": "2023-04-21T11:58:22.547Z"
   },
   {
    "duration": 0,
    "start_time": "2023-04-21T11:58:22.985Z"
   },
   {
    "duration": 0,
    "start_time": "2023-04-21T11:58:22.996Z"
   },
   {
    "duration": 0,
    "start_time": "2023-04-21T11:58:22.998Z"
   },
   {
    "duration": 0,
    "start_time": "2023-04-21T11:58:22.999Z"
   },
   {
    "duration": 0,
    "start_time": "2023-04-21T11:58:23.001Z"
   },
   {
    "duration": 0,
    "start_time": "2023-04-21T11:58:23.002Z"
   },
   {
    "duration": 0,
    "start_time": "2023-04-21T11:58:23.011Z"
   },
   {
    "duration": 0,
    "start_time": "2023-04-21T11:58:23.013Z"
   },
   {
    "duration": 0,
    "start_time": "2023-04-21T11:58:23.015Z"
   },
   {
    "duration": 0,
    "start_time": "2023-04-21T11:58:23.016Z"
   },
   {
    "duration": 0,
    "start_time": "2023-04-21T11:58:23.018Z"
   },
   {
    "duration": 39,
    "start_time": "2023-04-21T11:59:34.144Z"
   },
   {
    "duration": 40,
    "start_time": "2023-04-21T11:59:42.545Z"
   },
   {
    "duration": 37,
    "start_time": "2023-04-21T12:00:13.982Z"
   },
   {
    "duration": 38,
    "start_time": "2023-04-21T12:00:17.709Z"
   },
   {
    "duration": 1556,
    "start_time": "2023-04-21T12:01:13.081Z"
   },
   {
    "duration": 6,
    "start_time": "2023-04-21T12:01:14.639Z"
   },
   {
    "duration": 273,
    "start_time": "2023-04-21T12:01:14.647Z"
   },
   {
    "duration": 92,
    "start_time": "2023-04-21T12:01:14.922Z"
   },
   {
    "duration": 32,
    "start_time": "2023-04-21T12:01:15.016Z"
   },
   {
    "duration": 78,
    "start_time": "2023-04-21T12:01:15.051Z"
   },
   {
    "duration": 25,
    "start_time": "2023-04-21T12:01:15.131Z"
   },
   {
    "duration": 62,
    "start_time": "2023-04-21T12:01:15.157Z"
   },
   {
    "duration": 13,
    "start_time": "2023-04-21T12:01:15.221Z"
   },
   {
    "duration": 20,
    "start_time": "2023-04-21T12:01:15.237Z"
   },
   {
    "duration": 59,
    "start_time": "2023-04-21T12:01:15.259Z"
   },
   {
    "duration": 50,
    "start_time": "2023-04-21T12:01:15.320Z"
   },
   {
    "duration": 60,
    "start_time": "2023-04-21T12:01:15.371Z"
   },
   {
    "duration": 86,
    "start_time": "2023-04-21T12:01:15.433Z"
   },
   {
    "duration": 97,
    "start_time": "2023-04-21T12:01:15.521Z"
   },
   {
    "duration": 6,
    "start_time": "2023-04-21T12:01:15.620Z"
   },
   {
    "duration": 28,
    "start_time": "2023-04-21T12:01:15.628Z"
   },
   {
    "duration": 95,
    "start_time": "2023-04-21T12:01:15.657Z"
   },
   {
    "duration": 90,
    "start_time": "2023-04-21T12:01:15.754Z"
   },
   {
    "duration": 95,
    "start_time": "2023-04-21T12:01:15.846Z"
   },
   {
    "duration": 11,
    "start_time": "2023-04-21T12:01:15.943Z"
   },
   {
    "duration": 87,
    "start_time": "2023-04-21T12:01:15.955Z"
   },
   {
    "duration": 3,
    "start_time": "2023-04-21T12:01:16.044Z"
   },
   {
    "duration": 387,
    "start_time": "2023-04-21T12:01:16.049Z"
   },
   {
    "duration": 280,
    "start_time": "2023-04-21T12:01:16.438Z"
   },
   {
    "duration": 178,
    "start_time": "2023-04-21T12:01:16.719Z"
   },
   {
    "duration": 238,
    "start_time": "2023-04-21T12:01:16.898Z"
   },
   {
    "duration": 166,
    "start_time": "2023-04-21T12:01:17.139Z"
   },
   {
    "duration": 158,
    "start_time": "2023-04-21T12:01:17.311Z"
   },
   {
    "duration": 196,
    "start_time": "2023-04-21T12:01:17.471Z"
   },
   {
    "duration": 2,
    "start_time": "2023-04-21T12:01:17.669Z"
   },
   {
    "duration": 6,
    "start_time": "2023-04-21T12:01:17.673Z"
   },
   {
    "duration": 17,
    "start_time": "2023-04-21T12:01:17.681Z"
   },
   {
    "duration": 159,
    "start_time": "2023-04-21T12:01:17.700Z"
   },
   {
    "duration": 1150,
    "start_time": "2023-04-21T12:01:17.861Z"
   },
   {
    "duration": 357,
    "start_time": "2023-04-21T12:01:19.014Z"
   },
   {
    "duration": 0,
    "start_time": "2023-04-21T12:01:19.373Z"
   },
   {
    "duration": 0,
    "start_time": "2023-04-21T12:01:19.375Z"
   },
   {
    "duration": 0,
    "start_time": "2023-04-21T12:01:19.376Z"
   },
   {
    "duration": 0,
    "start_time": "2023-04-21T12:01:19.378Z"
   },
   {
    "duration": 0,
    "start_time": "2023-04-21T12:01:19.379Z"
   },
   {
    "duration": 0,
    "start_time": "2023-04-21T12:01:19.380Z"
   },
   {
    "duration": 0,
    "start_time": "2023-04-21T12:01:19.382Z"
   },
   {
    "duration": 0,
    "start_time": "2023-04-21T12:01:19.383Z"
   },
   {
    "duration": 0,
    "start_time": "2023-04-21T12:01:19.385Z"
   },
   {
    "duration": 0,
    "start_time": "2023-04-21T12:01:19.386Z"
   },
   {
    "duration": 0,
    "start_time": "2023-04-21T12:01:19.387Z"
   },
   {
    "duration": 1142,
    "start_time": "2023-04-21T12:03:49.970Z"
   },
   {
    "duration": 61,
    "start_time": "2023-04-21T12:04:55.878Z"
   },
   {
    "duration": 224,
    "start_time": "2023-04-21T12:04:59.021Z"
   },
   {
    "duration": 146,
    "start_time": "2023-04-21T12:05:01.373Z"
   },
   {
    "duration": 4960,
    "start_time": "2023-04-21T12:05:06.311Z"
   },
   {
    "duration": 135,
    "start_time": "2023-04-21T12:05:27.755Z"
   },
   {
    "duration": 18,
    "start_time": "2023-04-21T12:05:31.046Z"
   },
   {
    "duration": 230,
    "start_time": "2023-04-21T12:05:35.324Z"
   },
   {
    "duration": 17,
    "start_time": "2023-04-21T12:05:38.158Z"
   },
   {
    "duration": 246375,
    "start_time": "2023-04-21T12:05:41.026Z"
   },
   {
    "duration": 9407,
    "start_time": "2023-04-21T12:11:13.141Z"
   },
   {
    "duration": 179,
    "start_time": "2023-04-21T12:11:24.869Z"
   },
   {
    "duration": 34,
    "start_time": "2023-04-21T12:11:27.626Z"
   },
   {
    "duration": 636,
    "start_time": "2023-04-21T12:11:33.452Z"
   },
   {
    "duration": 2122,
    "start_time": "2023-04-21T15:26:22.073Z"
   },
   {
    "duration": 4,
    "start_time": "2023-04-21T15:26:26.438Z"
   },
   {
    "duration": 302,
    "start_time": "2023-04-21T15:26:26.975Z"
   },
   {
    "duration": 26,
    "start_time": "2023-04-21T15:26:27.279Z"
   },
   {
    "duration": 20,
    "start_time": "2023-04-21T15:26:27.307Z"
   },
   {
    "duration": 27,
    "start_time": "2023-04-21T15:26:27.329Z"
   },
   {
    "duration": 20,
    "start_time": "2023-04-21T15:26:27.415Z"
   },
   {
    "duration": 10,
    "start_time": "2023-04-21T15:26:31.175Z"
   },
   {
    "duration": 15,
    "start_time": "2023-04-21T15:26:31.217Z"
   },
   {
    "duration": 8,
    "start_time": "2023-04-21T15:26:31.301Z"
   },
   {
    "duration": 4,
    "start_time": "2023-04-21T15:26:32.706Z"
   },
   {
    "duration": 11,
    "start_time": "2023-04-21T15:26:33.000Z"
   },
   {
    "duration": 22,
    "start_time": "2023-04-21T15:26:33.267Z"
   },
   {
    "duration": 40,
    "start_time": "2023-04-21T15:26:33.622Z"
   },
   {
    "duration": 32,
    "start_time": "2023-04-21T15:26:34.965Z"
   },
   {
    "duration": 6,
    "start_time": "2023-04-21T15:26:39.766Z"
   },
   {
    "duration": 7,
    "start_time": "2023-04-21T15:26:40.767Z"
   },
   {
    "duration": 8,
    "start_time": "2023-04-21T15:30:05.477Z"
   },
   {
    "duration": 5,
    "start_time": "2023-04-21T15:30:16.294Z"
   },
   {
    "duration": 8,
    "start_time": "2023-04-21T15:32:20.158Z"
   },
   {
    "duration": 49,
    "start_time": "2023-04-21T15:34:00.248Z"
   },
   {
    "duration": 28,
    "start_time": "2023-04-21T15:34:10.548Z"
   },
   {
    "duration": 7,
    "start_time": "2023-04-21T15:34:26.552Z"
   },
   {
    "duration": 114,
    "start_time": "2023-04-21T15:34:47.650Z"
   },
   {
    "duration": 44,
    "start_time": "2023-04-21T15:36:17.742Z"
   },
   {
    "duration": 27,
    "start_time": "2023-04-21T15:36:25.601Z"
   },
   {
    "duration": 59,
    "start_time": "2023-04-21T15:36:55.322Z"
   },
   {
    "duration": 7,
    "start_time": "2023-04-21T15:37:06.099Z"
   },
   {
    "duration": 7,
    "start_time": "2023-04-21T15:37:08.725Z"
   },
   {
    "duration": 8,
    "start_time": "2023-04-21T15:37:09.917Z"
   },
   {
    "duration": 60,
    "start_time": "2023-04-21T15:37:15.943Z"
   },
   {
    "duration": 26,
    "start_time": "2023-04-21T15:37:22.075Z"
   },
   {
    "duration": 8,
    "start_time": "2023-04-21T15:37:46.485Z"
   },
   {
    "duration": 7,
    "start_time": "2023-04-21T15:37:47.005Z"
   },
   {
    "duration": 17,
    "start_time": "2023-04-21T15:37:47.500Z"
   },
   {
    "duration": 75,
    "start_time": "2023-04-21T15:38:23.744Z"
   },
   {
    "duration": 1733,
    "start_time": "2023-04-21T15:40:12.306Z"
   },
   {
    "duration": 53,
    "start_time": "2023-04-21T16:51:32.047Z"
   },
   {
    "duration": 1811,
    "start_time": "2023-04-21T16:51:41.453Z"
   },
   {
    "duration": 7,
    "start_time": "2023-04-21T16:51:43.266Z"
   },
   {
    "duration": 617,
    "start_time": "2023-04-21T16:51:43.275Z"
   },
   {
    "duration": 30,
    "start_time": "2023-04-21T16:51:43.895Z"
   },
   {
    "duration": 22,
    "start_time": "2023-04-21T16:51:43.927Z"
   },
   {
    "duration": 22,
    "start_time": "2023-04-21T16:51:43.951Z"
   },
   {
    "duration": 18,
    "start_time": "2023-04-21T16:51:43.975Z"
   },
   {
    "duration": 16,
    "start_time": "2023-04-21T16:51:43.995Z"
   },
   {
    "duration": 41,
    "start_time": "2023-04-21T16:51:44.013Z"
   },
   {
    "duration": 7,
    "start_time": "2023-04-21T16:51:44.057Z"
   },
   {
    "duration": 9,
    "start_time": "2023-04-21T16:51:44.066Z"
   },
   {
    "duration": 18,
    "start_time": "2023-04-21T16:51:44.077Z"
   },
   {
    "duration": 47,
    "start_time": "2023-04-21T16:51:44.097Z"
   },
   {
    "duration": 37,
    "start_time": "2023-04-21T16:51:44.146Z"
   },
   {
    "duration": 62,
    "start_time": "2023-04-21T16:51:44.185Z"
   },
   {
    "duration": 7,
    "start_time": "2023-04-21T16:51:44.249Z"
   },
   {
    "duration": 9,
    "start_time": "2023-04-21T16:51:44.258Z"
   },
   {
    "duration": 45,
    "start_time": "2023-04-21T16:51:44.269Z"
   },
   {
    "duration": 41,
    "start_time": "2023-04-21T16:51:44.342Z"
   },
   {
    "duration": 68,
    "start_time": "2023-04-21T16:51:44.385Z"
   },
   {
    "duration": 12,
    "start_time": "2023-04-21T16:51:44.455Z"
   },
   {
    "duration": 39,
    "start_time": "2023-04-21T16:51:44.469Z"
   },
   {
    "duration": 32,
    "start_time": "2023-04-21T16:51:44.511Z"
   },
   {
    "duration": 201,
    "start_time": "2023-04-21T16:51:44.545Z"
   },
   {
    "duration": 181,
    "start_time": "2023-04-21T16:51:44.748Z"
   },
   {
    "duration": 301,
    "start_time": "2023-04-21T16:51:44.932Z"
   },
   {
    "duration": 179,
    "start_time": "2023-04-21T16:51:45.235Z"
   },
   {
    "duration": 178,
    "start_time": "2023-04-21T16:51:45.419Z"
   },
   {
    "duration": 180,
    "start_time": "2023-04-21T16:51:45.599Z"
   },
   {
    "duration": 98,
    "start_time": "2023-04-21T16:51:48.856Z"
   },
   {
    "duration": 471,
    "start_time": "2023-04-21T16:51:59.779Z"
   },
   {
    "duration": 318,
    "start_time": "2023-04-21T16:54:27.094Z"
   },
   {
    "duration": 453,
    "start_time": "2023-04-21T16:55:03.753Z"
   },
   {
    "duration": 1406,
    "start_time": "2023-04-21T17:00:42.988Z"
   },
   {
    "duration": 1217,
    "start_time": "2023-04-21T17:02:56.689Z"
   },
   {
    "duration": 5,
    "start_time": "2023-04-21T17:03:18.075Z"
   },
   {
    "duration": 19,
    "start_time": "2023-04-21T17:03:18.083Z"
   },
   {
    "duration": 262,
    "start_time": "2023-04-21T17:03:18.104Z"
   },
   {
    "duration": 30,
    "start_time": "2023-04-21T17:03:18.369Z"
   },
   {
    "duration": 26,
    "start_time": "2023-04-21T17:03:18.401Z"
   },
   {
    "duration": 33,
    "start_time": "2023-04-21T17:03:18.429Z"
   },
   {
    "duration": 24,
    "start_time": "2023-04-21T17:03:18.464Z"
   },
   {
    "duration": 18,
    "start_time": "2023-04-21T17:03:18.490Z"
   },
   {
    "duration": 32,
    "start_time": "2023-04-21T17:03:18.509Z"
   },
   {
    "duration": 7,
    "start_time": "2023-04-21T17:03:18.544Z"
   },
   {
    "duration": 11,
    "start_time": "2023-04-21T17:03:18.553Z"
   },
   {
    "duration": 14,
    "start_time": "2023-04-21T17:03:18.566Z"
   },
   {
    "duration": 57,
    "start_time": "2023-04-21T17:03:18.582Z"
   },
   {
    "duration": 50,
    "start_time": "2023-04-21T17:03:18.641Z"
   },
   {
    "duration": 50,
    "start_time": "2023-04-21T17:03:18.693Z"
   },
   {
    "duration": 9,
    "start_time": "2023-04-21T17:03:18.745Z"
   },
   {
    "duration": 24,
    "start_time": "2023-04-21T17:03:18.756Z"
   },
   {
    "duration": 130,
    "start_time": "2023-04-21T17:03:25.978Z"
   },
   {
    "duration": 98,
    "start_time": "2023-04-21T17:04:35.412Z"
   },
   {
    "duration": 4,
    "start_time": "2023-04-21T17:04:39.461Z"
   },
   {
    "duration": 13,
    "start_time": "2023-04-21T17:04:43.695Z"
   },
   {
    "duration": 13,
    "start_time": "2023-04-21T17:04:45.093Z"
   },
   {
    "duration": 44,
    "start_time": "2023-04-21T17:04:51.355Z"
   },
   {
    "duration": 1683,
    "start_time": "2023-04-21T17:04:58.858Z"
   },
   {
    "duration": 5,
    "start_time": "2023-04-21T17:05:00.544Z"
   },
   {
    "duration": 322,
    "start_time": "2023-04-21T17:05:00.551Z"
   },
   {
    "duration": 33,
    "start_time": "2023-04-21T17:05:00.875Z"
   },
   {
    "duration": 69,
    "start_time": "2023-04-21T17:05:00.910Z"
   },
   {
    "duration": 96,
    "start_time": "2023-04-21T17:05:00.981Z"
   },
   {
    "duration": 133,
    "start_time": "2023-04-21T17:05:01.079Z"
   },
   {
    "duration": 147,
    "start_time": "2023-04-21T17:05:01.214Z"
   },
   {
    "duration": 65,
    "start_time": "2023-04-21T17:05:01.363Z"
   },
   {
    "duration": 52,
    "start_time": "2023-04-21T17:05:01.432Z"
   },
   {
    "duration": 43,
    "start_time": "2023-04-21T17:05:01.486Z"
   },
   {
    "duration": 69,
    "start_time": "2023-04-21T17:05:01.531Z"
   },
   {
    "duration": 96,
    "start_time": "2023-04-21T17:05:01.602Z"
   },
   {
    "duration": 46,
    "start_time": "2023-04-21T17:05:01.700Z"
   },
   {
    "duration": 66,
    "start_time": "2023-04-21T17:05:01.749Z"
   },
   {
    "duration": 103,
    "start_time": "2023-04-21T17:05:01.818Z"
   },
   {
    "duration": 181,
    "start_time": "2023-04-21T17:05:01.923Z"
   },
   {
    "duration": 414,
    "start_time": "2023-04-21T17:05:02.107Z"
   },
   {
    "duration": 3,
    "start_time": "2023-04-21T17:05:02.523Z"
   },
   {
    "duration": 43,
    "start_time": "2023-04-21T17:05:02.542Z"
   },
   {
    "duration": 67,
    "start_time": "2023-04-21T17:05:02.587Z"
   },
   {
    "duration": 50,
    "start_time": "2023-04-21T17:05:02.656Z"
   },
   {
    "duration": 4,
    "start_time": "2023-04-21T17:05:02.708Z"
   },
   {
    "duration": 202,
    "start_time": "2023-04-21T17:05:02.714Z"
   },
   {
    "duration": 185,
    "start_time": "2023-04-21T17:05:02.918Z"
   },
   {
    "duration": 209,
    "start_time": "2023-04-21T17:05:03.106Z"
   },
   {
    "duration": 272,
    "start_time": "2023-04-21T17:05:03.317Z"
   },
   {
    "duration": 133,
    "start_time": "2023-04-21T17:05:03.593Z"
   },
   {
    "duration": 0,
    "start_time": "2023-04-21T17:05:03.728Z"
   },
   {
    "duration": 0,
    "start_time": "2023-04-21T17:05:03.730Z"
   },
   {
    "duration": 0,
    "start_time": "2023-04-21T17:05:03.731Z"
   },
   {
    "duration": 0,
    "start_time": "2023-04-21T17:05:03.732Z"
   },
   {
    "duration": 0,
    "start_time": "2023-04-21T17:05:03.733Z"
   },
   {
    "duration": 0,
    "start_time": "2023-04-21T17:05:03.742Z"
   },
   {
    "duration": 0,
    "start_time": "2023-04-21T17:05:03.744Z"
   },
   {
    "duration": 0,
    "start_time": "2023-04-21T17:05:03.745Z"
   },
   {
    "duration": 0,
    "start_time": "2023-04-21T17:05:03.746Z"
   },
   {
    "duration": 0,
    "start_time": "2023-04-21T17:05:03.748Z"
   },
   {
    "duration": 0,
    "start_time": "2023-04-21T17:05:03.749Z"
   },
   {
    "duration": 0,
    "start_time": "2023-04-21T17:05:03.751Z"
   },
   {
    "duration": 0,
    "start_time": "2023-04-21T17:05:03.753Z"
   },
   {
    "duration": 0,
    "start_time": "2023-04-21T17:05:03.754Z"
   },
   {
    "duration": 0,
    "start_time": "2023-04-21T17:05:03.756Z"
   },
   {
    "duration": 0,
    "start_time": "2023-04-21T17:05:03.758Z"
   },
   {
    "duration": 0,
    "start_time": "2023-04-21T17:05:03.760Z"
   },
   {
    "duration": 0,
    "start_time": "2023-04-21T17:05:03.761Z"
   },
   {
    "duration": 0,
    "start_time": "2023-04-21T17:05:03.763Z"
   },
   {
    "duration": 0,
    "start_time": "2023-04-21T17:05:03.766Z"
   },
   {
    "duration": 0,
    "start_time": "2023-04-21T17:05:03.768Z"
   },
   {
    "duration": 3,
    "start_time": "2023-04-21T17:10:04.158Z"
   },
   {
    "duration": 15,
    "start_time": "2023-04-21T17:10:24.933Z"
   },
   {
    "duration": 152,
    "start_time": "2023-04-21T17:11:47.574Z"
   },
   {
    "duration": 162,
    "start_time": "2023-04-21T17:12:06.996Z"
   },
   {
    "duration": 384,
    "start_time": "2023-04-21T17:12:08.842Z"
   },
   {
    "duration": 197,
    "start_time": "2023-04-21T17:12:12.017Z"
   },
   {
    "duration": 476,
    "start_time": "2023-04-21T17:12:16.125Z"
   },
   {
    "duration": 3,
    "start_time": "2023-04-21T17:12:21.933Z"
   },
   {
    "duration": 3,
    "start_time": "2023-04-21T17:12:22.791Z"
   },
   {
    "duration": 1634,
    "start_time": "2023-04-21T17:12:28.611Z"
   },
   {
    "duration": 6,
    "start_time": "2023-04-21T17:12:30.247Z"
   },
   {
    "duration": 323,
    "start_time": "2023-04-21T17:12:30.255Z"
   },
   {
    "duration": 32,
    "start_time": "2023-04-21T17:12:30.580Z"
   },
   {
    "duration": 80,
    "start_time": "2023-04-21T17:12:30.615Z"
   },
   {
    "duration": 42,
    "start_time": "2023-04-21T17:12:30.697Z"
   },
   {
    "duration": 124,
    "start_time": "2023-04-21T17:12:30.742Z"
   },
   {
    "duration": 113,
    "start_time": "2023-04-21T17:12:30.868Z"
   },
   {
    "duration": 89,
    "start_time": "2023-04-21T17:12:30.984Z"
   },
   {
    "duration": 98,
    "start_time": "2023-04-21T17:12:31.077Z"
   },
   {
    "duration": 95,
    "start_time": "2023-04-21T17:12:31.177Z"
   },
   {
    "duration": 35,
    "start_time": "2023-04-21T17:12:31.275Z"
   },
   {
    "duration": 86,
    "start_time": "2023-04-21T17:12:31.312Z"
   },
   {
    "duration": 76,
    "start_time": "2023-04-21T17:12:31.399Z"
   },
   {
    "duration": 93,
    "start_time": "2023-04-21T17:12:31.476Z"
   },
   {
    "duration": 7,
    "start_time": "2023-04-21T17:12:31.571Z"
   },
   {
    "duration": 65,
    "start_time": "2023-04-21T17:12:31.580Z"
   },
   {
    "duration": 209,
    "start_time": "2023-04-21T17:12:31.647Z"
   },
   {
    "duration": 4,
    "start_time": "2023-04-21T17:12:31.858Z"
   },
   {
    "duration": 79,
    "start_time": "2023-04-21T17:12:31.863Z"
   },
   {
    "duration": 13,
    "start_time": "2023-04-21T17:12:31.944Z"
   },
   {
    "duration": 105,
    "start_time": "2023-04-21T17:12:31.959Z"
   },
   {
    "duration": 3,
    "start_time": "2023-04-21T17:12:32.066Z"
   },
   {
    "duration": 396,
    "start_time": "2023-04-21T17:12:32.071Z"
   },
   {
    "duration": 340,
    "start_time": "2023-04-21T17:12:32.469Z"
   },
   {
    "duration": 217,
    "start_time": "2023-04-21T17:12:32.811Z"
   },
   {
    "duration": 273,
    "start_time": "2023-04-21T17:12:33.031Z"
   },
   {
    "duration": 152,
    "start_time": "2023-04-21T17:12:33.308Z"
   },
   {
    "duration": 250,
    "start_time": "2023-04-21T17:12:33.462Z"
   },
   {
    "duration": 403,
    "start_time": "2023-04-21T17:12:33.714Z"
   },
   {
    "duration": 210,
    "start_time": "2023-04-21T17:12:34.119Z"
   },
   {
    "duration": 474,
    "start_time": "2023-04-21T17:12:34.331Z"
   },
   {
    "duration": 3,
    "start_time": "2023-04-21T17:12:34.808Z"
   },
   {
    "duration": 95,
    "start_time": "2023-04-21T17:12:34.813Z"
   },
   {
    "duration": 89,
    "start_time": "2023-04-21T17:12:34.910Z"
   },
   {
    "duration": 189,
    "start_time": "2023-04-21T17:12:35.001Z"
   },
   {
    "duration": 56,
    "start_time": "2023-04-21T17:12:35.192Z"
   },
   {
    "duration": 367,
    "start_time": "2023-04-21T17:12:35.252Z"
   },
   {
    "duration": 124,
    "start_time": "2023-04-21T17:12:35.621Z"
   },
   {
    "duration": 4556,
    "start_time": "2023-04-21T17:12:35.748Z"
   },
   {
    "duration": 124,
    "start_time": "2023-04-21T17:12:40.307Z"
   },
   {
    "duration": 18,
    "start_time": "2023-04-21T17:12:40.433Z"
   },
   {
    "duration": 190,
    "start_time": "2023-04-21T17:12:40.454Z"
   },
   {
    "duration": 14,
    "start_time": "2023-04-21T17:12:40.646Z"
   },
   {
    "duration": 8456,
    "start_time": "2023-04-21T17:12:40.662Z"
   },
   {
    "duration": 0,
    "start_time": "2023-04-21T17:12:49.120Z"
   },
   {
    "duration": 0,
    "start_time": "2023-04-21T17:12:49.121Z"
   },
   {
    "duration": 0,
    "start_time": "2023-04-21T17:12:49.123Z"
   },
   {
    "duration": 0,
    "start_time": "2023-04-21T17:12:49.124Z"
   },
   {
    "duration": 769,
    "start_time": "2023-04-21T17:13:46.286Z"
   },
   {
    "duration": 3,
    "start_time": "2023-04-21T17:15:14.531Z"
   },
   {
    "duration": 4474,
    "start_time": "2023-04-21T17:15:17.064Z"
   },
   {
    "duration": 122,
    "start_time": "2023-04-21T17:15:22.826Z"
   },
   {
    "duration": 3,
    "start_time": "2023-04-21T17:16:18.529Z"
   },
   {
    "duration": 173,
    "start_time": "2023-04-21T17:16:21.899Z"
   },
   {
    "duration": 3,
    "start_time": "2023-04-21T17:16:35.219Z"
   },
   {
    "duration": 3,
    "start_time": "2023-04-21T17:19:16.987Z"
   },
   {
    "duration": 1603,
    "start_time": "2023-04-21T17:21:56.891Z"
   },
   {
    "duration": 5,
    "start_time": "2023-04-21T17:21:58.497Z"
   },
   {
    "duration": 276,
    "start_time": "2023-04-21T17:21:58.504Z"
   },
   {
    "duration": 67,
    "start_time": "2023-04-21T17:21:58.782Z"
   },
   {
    "duration": 24,
    "start_time": "2023-04-21T17:21:58.851Z"
   },
   {
    "duration": 80,
    "start_time": "2023-04-21T17:21:58.877Z"
   },
   {
    "duration": 30,
    "start_time": "2023-04-21T17:21:58.959Z"
   },
   {
    "duration": 11,
    "start_time": "2023-04-21T17:21:59.042Z"
   },
   {
    "duration": 39,
    "start_time": "2023-04-21T17:21:59.056Z"
   },
   {
    "duration": 49,
    "start_time": "2023-04-21T17:21:59.099Z"
   },
   {
    "duration": 14,
    "start_time": "2023-04-21T17:21:59.150Z"
   },
   {
    "duration": 18,
    "start_time": "2023-04-21T17:21:59.166Z"
   },
   {
    "duration": 80,
    "start_time": "2023-04-21T17:21:59.185Z"
   },
   {
    "duration": 85,
    "start_time": "2023-04-21T17:21:59.267Z"
   },
   {
    "duration": 92,
    "start_time": "2023-04-21T17:21:59.354Z"
   },
   {
    "duration": 8,
    "start_time": "2023-04-21T17:21:59.448Z"
   },
   {
    "duration": 10,
    "start_time": "2023-04-21T17:21:59.459Z"
   },
   {
    "duration": 189,
    "start_time": "2023-04-21T17:21:59.471Z"
   },
   {
    "duration": 3,
    "start_time": "2023-04-21T17:21:59.662Z"
   },
   {
    "duration": 17,
    "start_time": "2023-04-21T17:21:59.667Z"
   },
   {
    "duration": 12,
    "start_time": "2023-04-21T17:21:59.742Z"
   },
   {
    "duration": 95,
    "start_time": "2023-04-21T17:21:59.756Z"
   },
   {
    "duration": 4,
    "start_time": "2023-04-21T17:21:59.853Z"
   },
   {
    "duration": 420,
    "start_time": "2023-04-21T17:21:59.859Z"
   },
   {
    "duration": 381,
    "start_time": "2023-04-21T17:22:00.281Z"
   },
   {
    "duration": 356,
    "start_time": "2023-04-21T17:22:00.665Z"
   },
   {
    "duration": 288,
    "start_time": "2023-04-21T17:22:01.023Z"
   },
   {
    "duration": 161,
    "start_time": "2023-04-21T17:22:01.315Z"
   },
   {
    "duration": 174,
    "start_time": "2023-04-21T17:22:01.478Z"
   },
   {
    "duration": 374,
    "start_time": "2023-04-21T17:22:01.654Z"
   },
   {
    "duration": 278,
    "start_time": "2023-04-21T17:22:02.032Z"
   },
   {
    "duration": 482,
    "start_time": "2023-04-21T17:22:02.312Z"
   },
   {
    "duration": 3,
    "start_time": "2023-04-21T17:22:02.796Z"
   },
   {
    "duration": 36,
    "start_time": "2023-04-21T17:22:02.801Z"
   },
   {
    "duration": 32,
    "start_time": "2023-04-21T17:22:02.839Z"
   },
   {
    "duration": 181,
    "start_time": "2023-04-21T17:22:02.873Z"
   },
   {
    "duration": 895,
    "start_time": "2023-04-21T17:22:03.056Z"
   },
   {
    "duration": 359,
    "start_time": "2023-04-21T17:22:03.953Z"
   },
   {
    "duration": 2,
    "start_time": "2023-04-21T17:22:04.315Z"
   },
   {
    "duration": 4450,
    "start_time": "2023-04-21T17:22:04.319Z"
   },
   {
    "duration": 119,
    "start_time": "2023-04-21T17:22:08.771Z"
   },
   {
    "duration": 2,
    "start_time": "2023-04-21T17:22:08.892Z"
   },
   {
    "duration": 258,
    "start_time": "2023-04-21T17:22:08.896Z"
   },
   {
    "duration": 0,
    "start_time": "2023-04-21T17:22:09.157Z"
   },
   {
    "duration": 0,
    "start_time": "2023-04-21T17:22:09.158Z"
   },
   {
    "duration": 0,
    "start_time": "2023-04-21T17:22:09.160Z"
   },
   {
    "duration": 0,
    "start_time": "2023-04-21T17:22:09.160Z"
   },
   {
    "duration": 0,
    "start_time": "2023-04-21T17:22:09.162Z"
   },
   {
    "duration": 0,
    "start_time": "2023-04-21T17:22:09.163Z"
   },
   {
    "duration": 3,
    "start_time": "2023-04-21T17:22:44.991Z"
   },
   {
    "duration": 3,
    "start_time": "2023-04-21T17:22:52.684Z"
   },
   {
    "duration": 3,
    "start_time": "2023-04-21T17:22:54.042Z"
   },
   {
    "duration": 211732,
    "start_time": "2023-04-21T17:22:57.123Z"
   },
   {
    "duration": 8191,
    "start_time": "2023-04-21T17:26:44.252Z"
   },
   {
    "duration": 188,
    "start_time": "2023-04-21T17:28:29.638Z"
   },
   {
    "duration": 24,
    "start_time": "2023-04-21T17:28:32.238Z"
   },
   {
    "duration": 387,
    "start_time": "2023-04-21T17:28:40.486Z"
   },
   {
    "duration": 13,
    "start_time": "2023-04-21T17:30:50.299Z"
   },
   {
    "duration": 949,
    "start_time": "2023-04-21T17:32:14.417Z"
   },
   {
    "duration": 294,
    "start_time": "2023-04-21T17:32:18.387Z"
   },
   {
    "duration": 3,
    "start_time": "2023-04-21T17:32:20.609Z"
   },
   {
    "duration": 11,
    "start_time": "2023-04-22T11:18:54.840Z"
   },
   {
    "duration": 1791,
    "start_time": "2023-04-22T11:18:58.662Z"
   },
   {
    "duration": 6,
    "start_time": "2023-04-22T11:19:00.954Z"
   },
   {
    "duration": 1661,
    "start_time": "2023-04-22T11:19:10.387Z"
   },
   {
    "duration": 5,
    "start_time": "2023-04-22T11:19:12.051Z"
   },
   {
    "duration": 526,
    "start_time": "2023-04-22T11:19:12.058Z"
   },
   {
    "duration": 30,
    "start_time": "2023-04-22T11:19:12.586Z"
   },
   {
    "duration": 24,
    "start_time": "2023-04-22T11:19:12.619Z"
   },
   {
    "duration": 22,
    "start_time": "2023-04-22T11:19:12.646Z"
   },
   {
    "duration": 26,
    "start_time": "2023-04-22T11:19:12.670Z"
   },
   {
    "duration": 15,
    "start_time": "2023-04-22T11:19:12.698Z"
   },
   {
    "duration": 45,
    "start_time": "2023-04-22T11:19:12.715Z"
   },
   {
    "duration": 11,
    "start_time": "2023-04-22T11:19:12.763Z"
   },
   {
    "duration": 15,
    "start_time": "2023-04-22T11:19:12.776Z"
   },
   {
    "duration": 15,
    "start_time": "2023-04-22T11:19:12.793Z"
   },
   {
    "duration": 57,
    "start_time": "2023-04-22T11:19:12.811Z"
   },
   {
    "duration": 39,
    "start_time": "2023-04-22T11:19:12.872Z"
   },
   {
    "duration": 67,
    "start_time": "2023-04-22T11:19:12.914Z"
   },
   {
    "duration": 9,
    "start_time": "2023-04-22T11:19:12.983Z"
   },
   {
    "duration": 54,
    "start_time": "2023-04-22T11:19:12.994Z"
   },
   {
    "duration": 203,
    "start_time": "2023-04-22T11:19:13.050Z"
   },
   {
    "duration": 4,
    "start_time": "2023-04-22T11:19:13.256Z"
   },
   {
    "duration": 21,
    "start_time": "2023-04-22T11:19:13.263Z"
   },
   {
    "duration": 65,
    "start_time": "2023-04-22T11:19:13.286Z"
   },
   {
    "duration": 115,
    "start_time": "2023-04-22T11:19:13.353Z"
   },
   {
    "duration": 4,
    "start_time": "2023-04-22T11:19:13.470Z"
   },
   {
    "duration": 388,
    "start_time": "2023-04-22T11:19:13.476Z"
   },
   {
    "duration": 377,
    "start_time": "2023-04-22T11:19:13.867Z"
   },
   {
    "duration": 401,
    "start_time": "2023-04-22T11:19:14.246Z"
   },
   {
    "duration": 524,
    "start_time": "2023-04-22T11:19:14.649Z"
   },
   {
    "duration": 188,
    "start_time": "2023-04-22T11:19:15.175Z"
   },
   {
    "duration": 182,
    "start_time": "2023-04-22T11:19:15.365Z"
   },
   {
    "duration": 381,
    "start_time": "2023-04-22T11:19:15.549Z"
   },
   {
    "duration": 272,
    "start_time": "2023-04-22T11:19:15.932Z"
   },
   {
    "duration": 481,
    "start_time": "2023-04-22T11:19:16.206Z"
   },
   {
    "duration": 4,
    "start_time": "2023-04-22T11:19:16.689Z"
   },
   {
    "duration": 19,
    "start_time": "2023-04-22T11:19:16.695Z"
   },
   {
    "duration": 22,
    "start_time": "2023-04-22T11:19:16.716Z"
   },
   {
    "duration": 156,
    "start_time": "2023-04-22T11:19:16.740Z"
   },
   {
    "duration": 975,
    "start_time": "2023-04-22T11:19:16.898Z"
   },
   {
    "duration": 0,
    "start_time": "2023-04-22T11:19:17.875Z"
   },
   {
    "duration": 0,
    "start_time": "2023-04-22T11:19:17.876Z"
   },
   {
    "duration": 0,
    "start_time": "2023-04-22T11:19:17.877Z"
   },
   {
    "duration": 0,
    "start_time": "2023-04-22T11:19:17.880Z"
   },
   {
    "duration": 0,
    "start_time": "2023-04-22T11:19:17.881Z"
   },
   {
    "duration": 0,
    "start_time": "2023-04-22T11:19:17.882Z"
   },
   {
    "duration": 0,
    "start_time": "2023-04-22T11:19:17.883Z"
   },
   {
    "duration": 0,
    "start_time": "2023-04-22T11:19:17.884Z"
   },
   {
    "duration": 0,
    "start_time": "2023-04-22T11:19:17.885Z"
   },
   {
    "duration": 0,
    "start_time": "2023-04-22T11:19:17.886Z"
   },
   {
    "duration": 0,
    "start_time": "2023-04-22T11:19:17.887Z"
   },
   {
    "duration": 0,
    "start_time": "2023-04-22T11:19:17.888Z"
   },
   {
    "duration": 786,
    "start_time": "2023-04-22T11:26:34.675Z"
   },
   {
    "duration": 147,
    "start_time": "2023-04-22T11:26:40.724Z"
   },
   {
    "duration": 3,
    "start_time": "2023-04-22T11:26:48.021Z"
   },
   {
    "duration": 2,
    "start_time": "2023-04-22T11:26:48.477Z"
   },
   {
    "duration": 840,
    "start_time": "2023-04-22T11:27:53.205Z"
   },
   {
    "duration": 2,
    "start_time": "2023-04-22T11:27:57.671Z"
   },
   {
    "duration": 3,
    "start_time": "2023-04-22T11:27:57.940Z"
   },
   {
    "duration": 4196,
    "start_time": "2023-04-22T11:28:00.327Z"
   },
   {
    "duration": 106,
    "start_time": "2023-04-22T11:28:22.589Z"
   },
   {
    "duration": 118,
    "start_time": "2023-04-22T11:28:28.274Z"
   },
   {
    "duration": 3,
    "start_time": "2023-04-22T11:28:28.480Z"
   },
   {
    "duration": 3,
    "start_time": "2023-04-22T11:28:28.842Z"
   },
   {
    "duration": 2,
    "start_time": "2023-04-22T11:28:29.196Z"
   },
   {
    "duration": 170949,
    "start_time": "2023-04-22T11:28:31.814Z"
   },
   {
    "duration": 8347,
    "start_time": "2023-04-22T11:31:29.380Z"
   },
   {
    "duration": 7883,
    "start_time": "2023-04-22T11:31:46.162Z"
   },
   {
    "duration": 184,
    "start_time": "2023-04-22T11:31:54.047Z"
   },
   {
    "duration": 182,
    "start_time": "2023-04-22T11:32:11.759Z"
   },
   {
    "duration": 25,
    "start_time": "2023-04-22T11:32:12.664Z"
   },
   {
    "duration": 315,
    "start_time": "2023-04-22T11:32:17.435Z"
   }
  ],
  "kernelspec": {
   "display_name": "Python 3 (ipykernel)",
   "language": "python",
   "name": "python3"
  },
  "language_info": {
   "codemirror_mode": {
    "name": "ipython",
    "version": 3
   },
   "file_extension": ".py",
   "mimetype": "text/x-python",
   "name": "python",
   "nbconvert_exporter": "python",
   "pygments_lexer": "ipython3",
   "version": "3.10.9"
  },
  "toc": {
   "base_numbering": 1,
   "nav_menu": {
    "height": "143.99px",
    "width": "233.99px"
   },
   "number_sections": false,
   "sideBar": true,
   "skip_h1_title": true,
   "title_cell": "Final Project Telecom",
   "title_sidebar": "Contents",
   "toc_cell": false,
   "toc_position": {
    "height": "calc(100% - 180px)",
    "left": "10px",
    "top": "150px",
    "width": "322px"
   },
   "toc_section_display": true,
   "toc_window_display": true
  }
 },
 "nbformat": 4,
 "nbformat_minor": 5
}
