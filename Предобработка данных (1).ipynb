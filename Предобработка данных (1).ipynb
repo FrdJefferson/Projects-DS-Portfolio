{
 "cells": [
  {
   "cell_type": "markdown",
   "id": "c81daeeb",
   "metadata": {
    "deletable": false,
    "id": "c81daeeb"
   },
   "source": [
    "# Исследование надежности заемщиков\n"
   ]
  },
  {
   "cell_type": "markdown",
   "id": "827c20bf",
   "metadata": {
    "id": "827c20bf"
   },
   "source": [
    "Во второй части проекта вы выполните шаги 3 и 4. Их вручную проверит ревьюер.\n",
    "Чтобы вам не пришлось писать код заново для шагов 1 и 2, мы добавили авторские решения в ячейки с кодом. \n",
    "\n"
   ]
  },
  {
   "cell_type": "markdown",
   "id": "744d7639",
   "metadata": {
    "deletable": false,
    "id": "744d7639"
   },
   "source": [
    "## Откройте таблицу и изучите общую информацию о данных"
   ]
  },
  {
   "cell_type": "markdown",
   "id": "e7a14c31",
   "metadata": {
    "deletable": false,
    "id": "e7a14c31"
   },
   "source": [
    "**Задание 1. Импортируйте библиотеку pandas. Считайте данные из csv-файла в датафрейм и сохраните в переменную `data`. Путь к файлу:**\n",
    "\n",
    "`/datasets/data.csv`"
   ]
  },
  {
   "cell_type": "code",
   "execution_count": 1,
   "id": "7bcf75c9",
   "metadata": {
    "deletable": false,
    "id": "7bcf75c9"
   },
   "outputs": [],
   "source": [
    "import pandas as pd\n",
    "\n",
    "try:\n",
    "    data = pd.read_csv('/datasets/data.csv')\n",
    "except:\n",
    "    data = pd.read_csv('https://code.s3.yandex.net/datasets/data.csv')"
   ]
  },
  {
   "cell_type": "markdown",
   "id": "b8038fe3",
   "metadata": {
    "deletable": false,
    "id": "b8038fe3"
   },
   "source": [
    "**Задание 2. Выведите первые 20 строчек датафрейма `data` на экран.**"
   ]
  },
  {
   "cell_type": "code",
   "execution_count": 2,
   "id": "2a7cab99",
   "metadata": {
    "deletable": false,
    "id": "2a7cab99",
    "outputId": "1a8f3ef2-d323-4ec2-ddf7-89670b5944c4"
   },
   "outputs": [
    {
     "data": {
      "text/html": [
       "<div>\n",
       "<style scoped>\n",
       "    .dataframe tbody tr th:only-of-type {\n",
       "        vertical-align: middle;\n",
       "    }\n",
       "\n",
       "    .dataframe tbody tr th {\n",
       "        vertical-align: top;\n",
       "    }\n",
       "\n",
       "    .dataframe thead th {\n",
       "        text-align: right;\n",
       "    }\n",
       "</style>\n",
       "<table border=\"1\" class=\"dataframe\">\n",
       "  <thead>\n",
       "    <tr style=\"text-align: right;\">\n",
       "      <th></th>\n",
       "      <th>children</th>\n",
       "      <th>days_employed</th>\n",
       "      <th>dob_years</th>\n",
       "      <th>education</th>\n",
       "      <th>education_id</th>\n",
       "      <th>family_status</th>\n",
       "      <th>family_status_id</th>\n",
       "      <th>gender</th>\n",
       "      <th>income_type</th>\n",
       "      <th>debt</th>\n",
       "      <th>total_income</th>\n",
       "      <th>purpose</th>\n",
       "    </tr>\n",
       "  </thead>\n",
       "  <tbody>\n",
       "    <tr>\n",
       "      <th>0</th>\n",
       "      <td>1</td>\n",
       "      <td>-8437.673028</td>\n",
       "      <td>42</td>\n",
       "      <td>высшее</td>\n",
       "      <td>0</td>\n",
       "      <td>женат / замужем</td>\n",
       "      <td>0</td>\n",
       "      <td>F</td>\n",
       "      <td>сотрудник</td>\n",
       "      <td>0</td>\n",
       "      <td>253875.639453</td>\n",
       "      <td>покупка жилья</td>\n",
       "    </tr>\n",
       "    <tr>\n",
       "      <th>1</th>\n",
       "      <td>1</td>\n",
       "      <td>-4024.803754</td>\n",
       "      <td>36</td>\n",
       "      <td>среднее</td>\n",
       "      <td>1</td>\n",
       "      <td>женат / замужем</td>\n",
       "      <td>0</td>\n",
       "      <td>F</td>\n",
       "      <td>сотрудник</td>\n",
       "      <td>0</td>\n",
       "      <td>112080.014102</td>\n",
       "      <td>приобретение автомобиля</td>\n",
       "    </tr>\n",
       "    <tr>\n",
       "      <th>2</th>\n",
       "      <td>0</td>\n",
       "      <td>-5623.422610</td>\n",
       "      <td>33</td>\n",
       "      <td>Среднее</td>\n",
       "      <td>1</td>\n",
       "      <td>женат / замужем</td>\n",
       "      <td>0</td>\n",
       "      <td>M</td>\n",
       "      <td>сотрудник</td>\n",
       "      <td>0</td>\n",
       "      <td>145885.952297</td>\n",
       "      <td>покупка жилья</td>\n",
       "    </tr>\n",
       "    <tr>\n",
       "      <th>3</th>\n",
       "      <td>3</td>\n",
       "      <td>-4124.747207</td>\n",
       "      <td>32</td>\n",
       "      <td>среднее</td>\n",
       "      <td>1</td>\n",
       "      <td>женат / замужем</td>\n",
       "      <td>0</td>\n",
       "      <td>M</td>\n",
       "      <td>сотрудник</td>\n",
       "      <td>0</td>\n",
       "      <td>267628.550329</td>\n",
       "      <td>дополнительное образование</td>\n",
       "    </tr>\n",
       "    <tr>\n",
       "      <th>4</th>\n",
       "      <td>0</td>\n",
       "      <td>340266.072047</td>\n",
       "      <td>53</td>\n",
       "      <td>среднее</td>\n",
       "      <td>1</td>\n",
       "      <td>гражданский брак</td>\n",
       "      <td>1</td>\n",
       "      <td>F</td>\n",
       "      <td>пенсионер</td>\n",
       "      <td>0</td>\n",
       "      <td>158616.077870</td>\n",
       "      <td>сыграть свадьбу</td>\n",
       "    </tr>\n",
       "    <tr>\n",
       "      <th>5</th>\n",
       "      <td>0</td>\n",
       "      <td>-926.185831</td>\n",
       "      <td>27</td>\n",
       "      <td>высшее</td>\n",
       "      <td>0</td>\n",
       "      <td>гражданский брак</td>\n",
       "      <td>1</td>\n",
       "      <td>M</td>\n",
       "      <td>компаньон</td>\n",
       "      <td>0</td>\n",
       "      <td>255763.565419</td>\n",
       "      <td>покупка жилья</td>\n",
       "    </tr>\n",
       "    <tr>\n",
       "      <th>6</th>\n",
       "      <td>0</td>\n",
       "      <td>-2879.202052</td>\n",
       "      <td>43</td>\n",
       "      <td>высшее</td>\n",
       "      <td>0</td>\n",
       "      <td>женат / замужем</td>\n",
       "      <td>0</td>\n",
       "      <td>F</td>\n",
       "      <td>компаньон</td>\n",
       "      <td>0</td>\n",
       "      <td>240525.971920</td>\n",
       "      <td>операции с жильем</td>\n",
       "    </tr>\n",
       "    <tr>\n",
       "      <th>7</th>\n",
       "      <td>0</td>\n",
       "      <td>-152.779569</td>\n",
       "      <td>50</td>\n",
       "      <td>СРЕДНЕЕ</td>\n",
       "      <td>1</td>\n",
       "      <td>женат / замужем</td>\n",
       "      <td>0</td>\n",
       "      <td>M</td>\n",
       "      <td>сотрудник</td>\n",
       "      <td>0</td>\n",
       "      <td>135823.934197</td>\n",
       "      <td>образование</td>\n",
       "    </tr>\n",
       "    <tr>\n",
       "      <th>8</th>\n",
       "      <td>2</td>\n",
       "      <td>-6929.865299</td>\n",
       "      <td>35</td>\n",
       "      <td>ВЫСШЕЕ</td>\n",
       "      <td>0</td>\n",
       "      <td>гражданский брак</td>\n",
       "      <td>1</td>\n",
       "      <td>F</td>\n",
       "      <td>сотрудник</td>\n",
       "      <td>0</td>\n",
       "      <td>95856.832424</td>\n",
       "      <td>на проведение свадьбы</td>\n",
       "    </tr>\n",
       "    <tr>\n",
       "      <th>9</th>\n",
       "      <td>0</td>\n",
       "      <td>-2188.756445</td>\n",
       "      <td>41</td>\n",
       "      <td>среднее</td>\n",
       "      <td>1</td>\n",
       "      <td>женат / замужем</td>\n",
       "      <td>0</td>\n",
       "      <td>M</td>\n",
       "      <td>сотрудник</td>\n",
       "      <td>0</td>\n",
       "      <td>144425.938277</td>\n",
       "      <td>покупка жилья для семьи</td>\n",
       "    </tr>\n",
       "    <tr>\n",
       "      <th>10</th>\n",
       "      <td>2</td>\n",
       "      <td>-4171.483647</td>\n",
       "      <td>36</td>\n",
       "      <td>высшее</td>\n",
       "      <td>0</td>\n",
       "      <td>женат / замужем</td>\n",
       "      <td>0</td>\n",
       "      <td>M</td>\n",
       "      <td>компаньон</td>\n",
       "      <td>0</td>\n",
       "      <td>113943.491460</td>\n",
       "      <td>покупка недвижимости</td>\n",
       "    </tr>\n",
       "    <tr>\n",
       "      <th>11</th>\n",
       "      <td>0</td>\n",
       "      <td>-792.701887</td>\n",
       "      <td>40</td>\n",
       "      <td>среднее</td>\n",
       "      <td>1</td>\n",
       "      <td>женат / замужем</td>\n",
       "      <td>0</td>\n",
       "      <td>F</td>\n",
       "      <td>сотрудник</td>\n",
       "      <td>0</td>\n",
       "      <td>77069.234271</td>\n",
       "      <td>покупка коммерческой недвижимости</td>\n",
       "    </tr>\n",
       "    <tr>\n",
       "      <th>12</th>\n",
       "      <td>0</td>\n",
       "      <td>NaN</td>\n",
       "      <td>65</td>\n",
       "      <td>среднее</td>\n",
       "      <td>1</td>\n",
       "      <td>гражданский брак</td>\n",
       "      <td>1</td>\n",
       "      <td>M</td>\n",
       "      <td>пенсионер</td>\n",
       "      <td>0</td>\n",
       "      <td>NaN</td>\n",
       "      <td>сыграть свадьбу</td>\n",
       "    </tr>\n",
       "    <tr>\n",
       "      <th>13</th>\n",
       "      <td>0</td>\n",
       "      <td>-1846.641941</td>\n",
       "      <td>54</td>\n",
       "      <td>неоконченное высшее</td>\n",
       "      <td>2</td>\n",
       "      <td>женат / замужем</td>\n",
       "      <td>0</td>\n",
       "      <td>F</td>\n",
       "      <td>сотрудник</td>\n",
       "      <td>0</td>\n",
       "      <td>130458.228857</td>\n",
       "      <td>приобретение автомобиля</td>\n",
       "    </tr>\n",
       "    <tr>\n",
       "      <th>14</th>\n",
       "      <td>0</td>\n",
       "      <td>-1844.956182</td>\n",
       "      <td>56</td>\n",
       "      <td>высшее</td>\n",
       "      <td>0</td>\n",
       "      <td>гражданский брак</td>\n",
       "      <td>1</td>\n",
       "      <td>F</td>\n",
       "      <td>компаньон</td>\n",
       "      <td>1</td>\n",
       "      <td>165127.911772</td>\n",
       "      <td>покупка жилой недвижимости</td>\n",
       "    </tr>\n",
       "    <tr>\n",
       "      <th>15</th>\n",
       "      <td>1</td>\n",
       "      <td>-972.364419</td>\n",
       "      <td>26</td>\n",
       "      <td>среднее</td>\n",
       "      <td>1</td>\n",
       "      <td>женат / замужем</td>\n",
       "      <td>0</td>\n",
       "      <td>F</td>\n",
       "      <td>сотрудник</td>\n",
       "      <td>0</td>\n",
       "      <td>116820.904450</td>\n",
       "      <td>строительство собственной недвижимости</td>\n",
       "    </tr>\n",
       "    <tr>\n",
       "      <th>16</th>\n",
       "      <td>0</td>\n",
       "      <td>-1719.934226</td>\n",
       "      <td>35</td>\n",
       "      <td>среднее</td>\n",
       "      <td>1</td>\n",
       "      <td>женат / замужем</td>\n",
       "      <td>0</td>\n",
       "      <td>F</td>\n",
       "      <td>сотрудник</td>\n",
       "      <td>0</td>\n",
       "      <td>289202.704229</td>\n",
       "      <td>недвижимость</td>\n",
       "    </tr>\n",
       "    <tr>\n",
       "      <th>17</th>\n",
       "      <td>0</td>\n",
       "      <td>-2369.999720</td>\n",
       "      <td>33</td>\n",
       "      <td>высшее</td>\n",
       "      <td>0</td>\n",
       "      <td>гражданский брак</td>\n",
       "      <td>1</td>\n",
       "      <td>M</td>\n",
       "      <td>сотрудник</td>\n",
       "      <td>0</td>\n",
       "      <td>90410.586745</td>\n",
       "      <td>строительство недвижимости</td>\n",
       "    </tr>\n",
       "    <tr>\n",
       "      <th>18</th>\n",
       "      <td>0</td>\n",
       "      <td>400281.136913</td>\n",
       "      <td>53</td>\n",
       "      <td>среднее</td>\n",
       "      <td>1</td>\n",
       "      <td>вдовец / вдова</td>\n",
       "      <td>2</td>\n",
       "      <td>F</td>\n",
       "      <td>пенсионер</td>\n",
       "      <td>0</td>\n",
       "      <td>56823.777243</td>\n",
       "      <td>на покупку подержанного автомобиля</td>\n",
       "    </tr>\n",
       "    <tr>\n",
       "      <th>19</th>\n",
       "      <td>0</td>\n",
       "      <td>-10038.818549</td>\n",
       "      <td>48</td>\n",
       "      <td>СРЕДНЕЕ</td>\n",
       "      <td>1</td>\n",
       "      <td>в разводе</td>\n",
       "      <td>3</td>\n",
       "      <td>F</td>\n",
       "      <td>сотрудник</td>\n",
       "      <td>0</td>\n",
       "      <td>242831.107982</td>\n",
       "      <td>на покупку своего автомобиля</td>\n",
       "    </tr>\n",
       "  </tbody>\n",
       "</table>\n",
       "</div>"
      ],
      "text/plain": [
       "    children  days_employed  dob_years            education  education_id  \\\n",
       "0          1   -8437.673028         42               высшее             0   \n",
       "1          1   -4024.803754         36              среднее             1   \n",
       "2          0   -5623.422610         33              Среднее             1   \n",
       "3          3   -4124.747207         32              среднее             1   \n",
       "4          0  340266.072047         53              среднее             1   \n",
       "5          0    -926.185831         27               высшее             0   \n",
       "6          0   -2879.202052         43               высшее             0   \n",
       "7          0    -152.779569         50              СРЕДНЕЕ             1   \n",
       "8          2   -6929.865299         35               ВЫСШЕЕ             0   \n",
       "9          0   -2188.756445         41              среднее             1   \n",
       "10         2   -4171.483647         36               высшее             0   \n",
       "11         0    -792.701887         40              среднее             1   \n",
       "12         0            NaN         65              среднее             1   \n",
       "13         0   -1846.641941         54  неоконченное высшее             2   \n",
       "14         0   -1844.956182         56               высшее             0   \n",
       "15         1    -972.364419         26              среднее             1   \n",
       "16         0   -1719.934226         35              среднее             1   \n",
       "17         0   -2369.999720         33               высшее             0   \n",
       "18         0  400281.136913         53              среднее             1   \n",
       "19         0  -10038.818549         48              СРЕДНЕЕ             1   \n",
       "\n",
       "       family_status  family_status_id gender income_type  debt  \\\n",
       "0    женат / замужем                 0      F   сотрудник     0   \n",
       "1    женат / замужем                 0      F   сотрудник     0   \n",
       "2    женат / замужем                 0      M   сотрудник     0   \n",
       "3    женат / замужем                 0      M   сотрудник     0   \n",
       "4   гражданский брак                 1      F   пенсионер     0   \n",
       "5   гражданский брак                 1      M   компаньон     0   \n",
       "6    женат / замужем                 0      F   компаньон     0   \n",
       "7    женат / замужем                 0      M   сотрудник     0   \n",
       "8   гражданский брак                 1      F   сотрудник     0   \n",
       "9    женат / замужем                 0      M   сотрудник     0   \n",
       "10   женат / замужем                 0      M   компаньон     0   \n",
       "11   женат / замужем                 0      F   сотрудник     0   \n",
       "12  гражданский брак                 1      M   пенсионер     0   \n",
       "13   женат / замужем                 0      F   сотрудник     0   \n",
       "14  гражданский брак                 1      F   компаньон     1   \n",
       "15   женат / замужем                 0      F   сотрудник     0   \n",
       "16   женат / замужем                 0      F   сотрудник     0   \n",
       "17  гражданский брак                 1      M   сотрудник     0   \n",
       "18    вдовец / вдова                 2      F   пенсионер     0   \n",
       "19         в разводе                 3      F   сотрудник     0   \n",
       "\n",
       "     total_income                                 purpose  \n",
       "0   253875.639453                           покупка жилья  \n",
       "1   112080.014102                 приобретение автомобиля  \n",
       "2   145885.952297                           покупка жилья  \n",
       "3   267628.550329              дополнительное образование  \n",
       "4   158616.077870                         сыграть свадьбу  \n",
       "5   255763.565419                           покупка жилья  \n",
       "6   240525.971920                       операции с жильем  \n",
       "7   135823.934197                             образование  \n",
       "8    95856.832424                   на проведение свадьбы  \n",
       "9   144425.938277                 покупка жилья для семьи  \n",
       "10  113943.491460                    покупка недвижимости  \n",
       "11   77069.234271       покупка коммерческой недвижимости  \n",
       "12            NaN                         сыграть свадьбу  \n",
       "13  130458.228857                 приобретение автомобиля  \n",
       "14  165127.911772              покупка жилой недвижимости  \n",
       "15  116820.904450  строительство собственной недвижимости  \n",
       "16  289202.704229                            недвижимость  \n",
       "17   90410.586745              строительство недвижимости  \n",
       "18   56823.777243      на покупку подержанного автомобиля  \n",
       "19  242831.107982            на покупку своего автомобиля  "
      ]
     },
     "execution_count": 2,
     "metadata": {},
     "output_type": "execute_result"
    }
   ],
   "source": [
    "data.head(20)"
   ]
  },
  {
   "cell_type": "markdown",
   "id": "1c12e233",
   "metadata": {
    "deletable": false,
    "id": "1c12e233"
   },
   "source": [
    "**Задание 3. Выведите основную информацию о датафрейме с помощью метода `info()`.**"
   ]
  },
  {
   "cell_type": "code",
   "execution_count": 3,
   "id": "2b757bca",
   "metadata": {
    "deletable": false,
    "id": "2b757bca",
    "outputId": "15376089-8dad-46c9-b520-c05248d43158"
   },
   "outputs": [
    {
     "name": "stdout",
     "output_type": "stream",
     "text": [
      "<class 'pandas.core.frame.DataFrame'>\n",
      "RangeIndex: 21525 entries, 0 to 21524\n",
      "Data columns (total 12 columns):\n",
      " #   Column            Non-Null Count  Dtype  \n",
      "---  ------            --------------  -----  \n",
      " 0   children          21525 non-null  int64  \n",
      " 1   days_employed     19351 non-null  float64\n",
      " 2   dob_years         21525 non-null  int64  \n",
      " 3   education         21525 non-null  object \n",
      " 4   education_id      21525 non-null  int64  \n",
      " 5   family_status     21525 non-null  object \n",
      " 6   family_status_id  21525 non-null  int64  \n",
      " 7   gender            21525 non-null  object \n",
      " 8   income_type       21525 non-null  object \n",
      " 9   debt              21525 non-null  int64  \n",
      " 10  total_income      19351 non-null  float64\n",
      " 11  purpose           21525 non-null  object \n",
      "dtypes: float64(2), int64(5), object(5)\n",
      "memory usage: 2.0+ MB\n"
     ]
    }
   ],
   "source": [
    "data.info()"
   ]
  },
  {
   "cell_type": "markdown",
   "id": "333ec665",
   "metadata": {
    "deletable": false,
    "id": "333ec665"
   },
   "source": [
    "## Предобработка данных"
   ]
  },
  {
   "cell_type": "markdown",
   "id": "02d92d53",
   "metadata": {
    "deletable": false,
    "id": "02d92d53"
   },
   "source": [
    "### Удаление пропусков"
   ]
  },
  {
   "cell_type": "markdown",
   "id": "cd84967c",
   "metadata": {
    "deletable": false,
    "id": "cd84967c"
   },
   "source": [
    "**Задание 4. Выведите количество пропущенных значений для каждого столбца. Используйте комбинацию двух методов.**"
   ]
  },
  {
   "cell_type": "code",
   "execution_count": 4,
   "id": "7f9b2309",
   "metadata": {
    "deletable": false,
    "id": "7f9b2309",
    "outputId": "81f4d817-781c-465c-ed15-91ce4446810d"
   },
   "outputs": [
    {
     "data": {
      "text/plain": [
       "children               0\n",
       "days_employed       2174\n",
       "dob_years              0\n",
       "education              0\n",
       "education_id           0\n",
       "family_status          0\n",
       "family_status_id       0\n",
       "gender                 0\n",
       "income_type            0\n",
       "debt                   0\n",
       "total_income        2174\n",
       "purpose                0\n",
       "dtype: int64"
      ]
     },
     "execution_count": 4,
     "metadata": {},
     "output_type": "execute_result"
    }
   ],
   "source": [
    "data.isna().sum()"
   ]
  },
  {
   "cell_type": "markdown",
   "id": "db86e27b",
   "metadata": {
    "deletable": false,
    "id": "db86e27b"
   },
   "source": [
    "**Задание 5. В двух столбцах есть пропущенные значения. Один из них — `days_employed`. Пропуски в этом столбце вы обработаете на следующем этапе. Другой столбец с пропущенными значениями — `total_income` — хранит данные о доходах. На сумму дохода сильнее всего влияет тип занятости, поэтому заполнить пропуски в этом столбце нужно медианным значением по каждому типу из столбца `income_type`. Например, у человека с типом занятости `сотрудник` пропуск в столбце `total_income` должен быть заполнен медианным доходом среди всех записей с тем же типом.**"
   ]
  },
  {
   "cell_type": "code",
   "execution_count": 5,
   "id": "42006a93",
   "metadata": {
    "deletable": false,
    "id": "42006a93"
   },
   "outputs": [],
   "source": [
    "for t in data['income_type'].unique():\n",
    "    data.loc[(data['income_type'] == t) & (data['total_income'].isna()), 'total_income'] = \\\n",
    "    data.loc[(data['income_type'] == t), 'total_income'].median()"
   ]
  },
  {
   "cell_type": "markdown",
   "id": "89da5ece",
   "metadata": {
    "deletable": false,
    "id": "89da5ece"
   },
   "source": [
    "### Обработка аномальных значений"
   ]
  },
  {
   "cell_type": "markdown",
   "id": "57964554",
   "metadata": {
    "deletable": false,
    "id": "57964554"
   },
   "source": [
    "**Задание 6. В данных могут встречаться артефакты (аномалии) — значения, которые не отражают действительность и появились по какой-то ошибке. таким артефактом будет отрицательное количество дней трудового стажа в столбце `days_employed`. Для реальных данных это нормально. Обработайте значения в этом столбце: замените все отрицательные значения положительными с помощью метода `abs()`.**"
   ]
  },
  {
   "cell_type": "code",
   "execution_count": 6,
   "id": "f6f055bf",
   "metadata": {
    "deletable": false,
    "id": "f6f055bf"
   },
   "outputs": [],
   "source": [
    "data['days_employed'] = data['days_employed'].abs()"
   ]
  },
  {
   "cell_type": "markdown",
   "id": "6107dd2f",
   "metadata": {
    "deletable": false,
    "id": "6107dd2f"
   },
   "source": [
    "**Задание 7. Для каждого типа занятости выведите медианное значение трудового стажа `days_employed` в днях.**"
   ]
  },
  {
   "cell_type": "code",
   "execution_count": 7,
   "id": "85a5faf6",
   "metadata": {
    "deletable": false,
    "id": "85a5faf6",
    "outputId": "801ef80e-522b-4668-f34e-565af7432bcf"
   },
   "outputs": [
    {
     "data": {
      "text/plain": [
       "income_type\n",
       "безработный        366413.652744\n",
       "в декрете            3296.759962\n",
       "госслужащий          2689.368353\n",
       "компаньон            1547.382223\n",
       "пенсионер          365213.306266\n",
       "предприниматель       520.848083\n",
       "сотрудник            1574.202821\n",
       "студент               578.751554\n",
       "Name: days_employed, dtype: float64"
      ]
     },
     "execution_count": 7,
     "metadata": {},
     "output_type": "execute_result"
    }
   ],
   "source": [
    "data.groupby('income_type')['days_employed'].agg('median')"
   ]
  },
  {
   "cell_type": "markdown",
   "id": "38d1a030",
   "metadata": {
    "deletable": false,
    "id": "38d1a030"
   },
   "source": [
    "У двух типов (безработные и пенсионеры) получатся аномально большие значения. Исправить такие значения сложно, поэтому оставьте их как есть. Тем более этот столбец не понадобится вам для исследования."
   ]
  },
  {
   "cell_type": "markdown",
   "id": "d8a9f147",
   "metadata": {
    "deletable": false,
    "id": "d8a9f147"
   },
   "source": [
    "**Задание 8. Выведите перечень уникальных значений столбца `children`.**"
   ]
  },
  {
   "cell_type": "code",
   "execution_count": 8,
   "id": "ef5056eb",
   "metadata": {
    "deletable": false,
    "id": "ef5056eb",
    "outputId": "6975b15c-7f95-4697-d16d-a0c79b657b03"
   },
   "outputs": [
    {
     "data": {
      "text/plain": [
       "array([ 1,  0,  3,  2, -1,  4, 20,  5])"
      ]
     },
     "execution_count": 8,
     "metadata": {},
     "output_type": "execute_result"
    }
   ],
   "source": [
    "data['children'].unique()"
   ]
  },
  {
   "cell_type": "markdown",
   "id": "40b9ebf2",
   "metadata": {
    "deletable": false,
    "id": "40b9ebf2"
   },
   "source": [
    "**Задание 9. В столбце `children` есть два аномальных значения. Удалите строки, в которых встречаются такие аномальные значения из датафрейма `data`.**"
   ]
  },
  {
   "cell_type": "code",
   "execution_count": 9,
   "id": "3ff9801d",
   "metadata": {
    "deletable": false,
    "id": "3ff9801d"
   },
   "outputs": [],
   "source": [
    "data = data[(data['children'] != -1) & (data['children'] != 20)]"
   ]
  },
  {
   "cell_type": "markdown",
   "id": "bbc4d0ce",
   "metadata": {
    "deletable": false,
    "id": "bbc4d0ce"
   },
   "source": [
    "**Задание 10. Ещё раз выведите перечень уникальных значений столбца `children`, чтобы убедиться, что артефакты удалены.**"
   ]
  },
  {
   "cell_type": "code",
   "execution_count": 10,
   "id": "ad4fa8b7",
   "metadata": {
    "deletable": false,
    "id": "ad4fa8b7",
    "outputId": "b2097101-d49d-44d9-901b-32a65c9463d1"
   },
   "outputs": [
    {
     "data": {
      "text/plain": [
       "array([1, 0, 3, 2, 4, 5])"
      ]
     },
     "execution_count": 10,
     "metadata": {},
     "output_type": "execute_result"
    }
   ],
   "source": [
    "data['children'].unique()"
   ]
  },
  {
   "cell_type": "markdown",
   "id": "75440b63",
   "metadata": {
    "deletable": false,
    "id": "75440b63"
   },
   "source": [
    "### Удаление пропусков (продолжение)"
   ]
  },
  {
   "cell_type": "markdown",
   "id": "f4ea573f",
   "metadata": {
    "deletable": false,
    "id": "f4ea573f"
   },
   "source": [
    "**Задание 11. Заполните пропуски в столбце `days_employed` медианными значениями по каждого типа занятости `income_type`.**"
   ]
  },
  {
   "cell_type": "code",
   "execution_count": 11,
   "id": "af6b1a7e",
   "metadata": {
    "deletable": false,
    "id": "af6b1a7e"
   },
   "outputs": [],
   "source": [
    "for t in data['income_type'].unique():\n",
    "    data.loc[(data['income_type'] == t) & (data['days_employed'].isna()), 'days_employed'] = \\\n",
    "    data.loc[(data['income_type'] == t), 'days_employed'].median()"
   ]
  },
  {
   "cell_type": "markdown",
   "id": "2753f40d",
   "metadata": {
    "deletable": false,
    "id": "2753f40d"
   },
   "source": [
    "**Задание 12. Убедитесь, что все пропуски заполнены. Проверьте себя и ещё раз выведите количество пропущенных значений для каждого столбца с помощью двух методов.**"
   ]
  },
  {
   "cell_type": "code",
   "execution_count": 12,
   "id": "55f78bc2",
   "metadata": {
    "deletable": false,
    "id": "55f78bc2",
    "outputId": "8da1e4e1-358e-4e87-98c9-f261bce0a7b2"
   },
   "outputs": [
    {
     "data": {
      "text/plain": [
       "children            0\n",
       "days_employed       0\n",
       "dob_years           0\n",
       "education           0\n",
       "education_id        0\n",
       "family_status       0\n",
       "family_status_id    0\n",
       "gender              0\n",
       "income_type         0\n",
       "debt                0\n",
       "total_income        0\n",
       "purpose             0\n",
       "dtype: int64"
      ]
     },
     "execution_count": 12,
     "metadata": {},
     "output_type": "execute_result"
    }
   ],
   "source": [
    "data.isna().sum()"
   ]
  },
  {
   "cell_type": "markdown",
   "id": "ddc81e43",
   "metadata": {
    "deletable": false,
    "id": "ddc81e43"
   },
   "source": [
    "### Изменение типов данных"
   ]
  },
  {
   "cell_type": "markdown",
   "id": "42d19d24",
   "metadata": {
    "deletable": false,
    "id": "42d19d24"
   },
   "source": [
    "**Задание 13. Замените вещественный тип данных в столбце `total_income` на целочисленный с помощью метода `astype()`.**"
   ]
  },
  {
   "cell_type": "code",
   "execution_count": 13,
   "id": "920b65ad",
   "metadata": {
    "deletable": false,
    "id": "920b65ad"
   },
   "outputs": [],
   "source": [
    "data['total_income'] = data['total_income'].astype(int)"
   ]
  },
  {
   "cell_type": "markdown",
   "id": "80c420ba",
   "metadata": {
    "deletable": false,
    "id": "80c420ba"
   },
   "source": [
    "### Обработка дубликатов"
   ]
  },
  {
   "cell_type": "markdown",
   "id": "dc587695",
   "metadata": {
    "deletable": false,
    "id": "dc587695"
   },
   "source": [
    "**Задание 14. Выведите на экран количество строк-дубликатов в данных. Если такие строки присутствуют, удалите их.**"
   ]
  },
  {
   "cell_type": "code",
   "execution_count": 14,
   "id": "3ee445e4",
   "metadata": {
    "deletable": false,
    "id": "3ee445e4",
    "outputId": "9684deba-1934-42d1-99e1-cda61740f822"
   },
   "outputs": [
    {
     "data": {
      "text/plain": [
       "54"
      ]
     },
     "execution_count": 14,
     "metadata": {},
     "output_type": "execute_result"
    }
   ],
   "source": [
    "data.duplicated().sum()"
   ]
  },
  {
   "cell_type": "code",
   "execution_count": 15,
   "id": "8575fe05",
   "metadata": {
    "deletable": false,
    "id": "8575fe05"
   },
   "outputs": [],
   "source": [
    "data = data.drop_duplicates()"
   ]
  },
  {
   "cell_type": "markdown",
   "id": "9771a76c",
   "metadata": {
    "deletable": false,
    "id": "9771a76c"
   },
   "source": [
    "**Задание 15. Обработайте неявные дубликаты в столбце `education`. В этом столбце есть одни и те же значения, но записанные по-разному: с использованием заглавных и строчных букв. Приведите их к нижнему регистру. Проверьте остальные столбцы.**"
   ]
  },
  {
   "cell_type": "code",
   "execution_count": 16,
   "id": "a9f8e2bf",
   "metadata": {
    "deletable": false,
    "id": "a9f8e2bf"
   },
   "outputs": [],
   "source": [
    "data['education'] = data['education'].str.lower()"
   ]
  },
  {
   "cell_type": "markdown",
   "id": "9904cf55",
   "metadata": {
    "deletable": false,
    "id": "9904cf55"
   },
   "source": [
    "### Категоризация данных"
   ]
  },
  {
   "cell_type": "markdown",
   "id": "72fcc8a2",
   "metadata": {
    "deletable": false,
    "id": "72fcc8a2"
   },
   "source": [
    "**Задание 16. На основании диапазонов, указанных ниже, создайте в датафрейме `data` столбец `total_income_category` с категориями:**\n",
    "\n",
    "- 0–30000 — `'E'`;\n",
    "- 30001–50000 — `'D'`;\n",
    "- 50001–200000 — `'C'`;\n",
    "- 200001–1000000 — `'B'`;\n",
    "- 1000001 и выше — `'A'`.\n",
    "\n",
    "\n",
    "**Например, кредитополучателю с доходом 25000 нужно назначить категорию `'E'`, а клиенту, получающему 235000, — `'B'`. Используйте собственную функцию с именем `categorize_income()` и метод `apply()`.**"
   ]
  },
  {
   "cell_type": "code",
   "execution_count": 17,
   "id": "e1771346",
   "metadata": {
    "deletable": false,
    "id": "e1771346"
   },
   "outputs": [],
   "source": [
    "def categorize_income(income):\n",
    "    try:\n",
    "        if 0 <= income <= 30000:\n",
    "            return 'E'\n",
    "        elif 30001 <= income <= 50000:\n",
    "            return 'D'\n",
    "        elif 50001 <= income <= 200000:\n",
    "            return 'C'\n",
    "        elif 200001 <= income <= 1000000:\n",
    "            return 'B'\n",
    "        elif income >= 1000001:\n",
    "            return 'A'\n",
    "    except:\n",
    "        pass"
   ]
  },
  {
   "cell_type": "code",
   "execution_count": 18,
   "id": "d5f3586d",
   "metadata": {
    "deletable": false,
    "id": "d5f3586d"
   },
   "outputs": [],
   "source": [
    "data['total_income_category'] = data['total_income'].apply(categorize_income)"
   ]
  },
  {
   "cell_type": "markdown",
   "id": "dde49b5c",
   "metadata": {
    "deletable": false,
    "id": "dde49b5c"
   },
   "source": [
    "**Задание 17. Выведите на экран перечень уникальных целей взятия кредита из столбца `purpose`.**"
   ]
  },
  {
   "cell_type": "code",
   "execution_count": 19,
   "id": "f67ce9b3",
   "metadata": {
    "deletable": false,
    "id": "f67ce9b3",
    "outputId": "673c12d9-7d7e-4ae0-9812-c622c89dd244"
   },
   "outputs": [
    {
     "data": {
      "text/plain": [
       "array(['покупка жилья', 'приобретение автомобиля',\n",
       "       'дополнительное образование', 'сыграть свадьбу',\n",
       "       'операции с жильем', 'образование', 'на проведение свадьбы',\n",
       "       'покупка жилья для семьи', 'покупка недвижимости',\n",
       "       'покупка коммерческой недвижимости', 'покупка жилой недвижимости',\n",
       "       'строительство собственной недвижимости', 'недвижимость',\n",
       "       'строительство недвижимости', 'на покупку подержанного автомобиля',\n",
       "       'на покупку своего автомобиля',\n",
       "       'операции с коммерческой недвижимостью',\n",
       "       'строительство жилой недвижимости', 'жилье',\n",
       "       'операции со своей недвижимостью', 'автомобили',\n",
       "       'заняться образованием', 'сделка с подержанным автомобилем',\n",
       "       'получение образования', 'автомобиль', 'свадьба',\n",
       "       'получение дополнительного образования', 'покупка своего жилья',\n",
       "       'операции с недвижимостью', 'получение высшего образования',\n",
       "       'свой автомобиль', 'сделка с автомобилем',\n",
       "       'профильное образование', 'высшее образование',\n",
       "       'покупка жилья для сдачи', 'на покупку автомобиля', 'ремонт жилью',\n",
       "       'заняться высшим образованием'], dtype=object)"
      ]
     },
     "execution_count": 19,
     "metadata": {},
     "output_type": "execute_result"
    }
   ],
   "source": [
    "data['purpose'].unique()"
   ]
  },
  {
   "cell_type": "markdown",
   "id": "85d0aef0",
   "metadata": {
    "deletable": false,
    "id": "85d0aef0"
   },
   "source": [
    "**Задание 18. Создайте функцию, которая на основании данных из столбца `purpose` сформирует новый столбец `purpose_category`, в который войдут следующие категории:**\n",
    "\n",
    "- `'операции с автомобилем'`,\n",
    "- `'операции с недвижимостью'`,\n",
    "- `'проведение свадьбы'`,\n",
    "- `'получение образования'`.\n",
    "\n",
    "**Например, если в столбце `purpose` находится подстрока `'на покупку автомобиля'`, то в столбце `purpose_category` должна появиться строка `'операции с автомобилем'`.**\n",
    "\n",
    "**Используйте собственную функцию с именем `categorize_purpose()` и метод `apply()`. Изучите данные в столбце `purpose` и определите, какие подстроки помогут вам правильно определить категорию.**"
   ]
  },
  {
   "cell_type": "code",
   "execution_count": 20,
   "id": "e149fab4",
   "metadata": {
    "deletable": false,
    "id": "e149fab4"
   },
   "outputs": [],
   "source": [
    "def categorize_purpose(row):\n",
    "    try:\n",
    "        if 'автом' in row:\n",
    "            return 'операции с автомобилем'\n",
    "        elif 'жил' in row or 'недвиж' in row:\n",
    "            return 'операции с недвижимостью'\n",
    "        elif 'свад' in row:\n",
    "            return 'проведение свадьбы'\n",
    "        elif 'образов' in row:\n",
    "            return 'получение образования'\n",
    "    except:\n",
    "        return 'нет категории'"
   ]
  },
  {
   "cell_type": "code",
   "execution_count": 21,
   "id": "bf36e69b",
   "metadata": {
    "deletable": false,
    "id": "bf36e69b"
   },
   "outputs": [],
   "source": [
    "data['purpose_category'] = data['purpose'].apply(categorize_purpose)"
   ]
  },
  {
   "cell_type": "markdown",
   "id": "09b242bf",
   "metadata": {
    "deletable": false,
    "editable": false,
    "id": "09b242bf"
   },
   "source": [
    "## Исследуйте данные и ответьте на вопросы"
   ]
  },
  {
   "cell_type": "markdown",
   "id": "c5d66278",
   "metadata": {
    "deletable": false,
    "editable": false,
    "id": "c5d66278"
   },
   "source": [
    "**Задание 19. Есть ли зависимость между количеством детей и возвратом кредита в срок?**"
   ]
  },
  {
   "cell_type": "code",
   "execution_count": 22,
   "id": "2cacfc4a",
   "metadata": {
    "id": "2cacfc4a",
    "scrolled": false
   },
   "outputs": [
    {
     "data": {
      "text/plain": [
       "children\n",
       "0    0.075353\n",
       "1    0.092327\n",
       "2    0.094542\n",
       "3    0.081818\n",
       "4    0.097561\n",
       "5    0.000000\n",
       "dtype: float64"
      ]
     },
     "metadata": {},
     "output_type": "display_data"
    }
   ],
   "source": [
    "debt_by_children = data.groupby('children').agg({'debt':['count', 'sum']}) #Решил попробовать через агрегированную функцию\n",
    "conversion = debt_by_children['debt']['sum'] / debt_by_children['debt']['count'] #Такой вариант кажется \"чище\"\n",
    "display(conversion)"
   ]
  },
  {
   "cell_type": "markdown",
   "id": "3a6b99ec",
   "metadata": {
    "deletable": false,
    "id": "3a6b99ec"
   },
   "source": [
    "**Вывод:**  \n",
    "Посчитав количество должников, в зависимости от количества детей в семье, можно сделать вывод:  \n",
    "■ Чем больше детей в семье, тем вероятнее, что долг не будет возвращен вовремя.   \n",
    "■ Однако, по конверсии видно, что утверджать это можно лишь с оговорками:   \n",
    "• В случае, когда в семье трое детей процент должников ниже, чем когда двое.  \n",
    "• Если детей нет вообще, люди реже просрачивают выплаты. В ситуации, когда в семье 5 детей, должников нет(возможно из-за недостаточной выборки).  "
   ]
  },
  {
   "cell_type": "markdown",
   "id": "97be82ca",
   "metadata": {
    "deletable": false,
    "editable": false,
    "id": "97be82ca"
   },
   "source": [
    "**Задание 20. Есть ли зависимость между семейным положением и возвратом кредита в срок?**"
   ]
  },
  {
   "cell_type": "code",
   "execution_count": 23,
   "id": "dc3f7ee8",
   "metadata": {
    "id": "dc3f7ee8"
   },
   "outputs": [
    {
     "data": {
      "text/plain": [
       "family_status\n",
       "Не женат / не замужем    0.097639\n",
       "в разводе                0.070648\n",
       "вдовец / вдова           0.066246\n",
       "гражданский брак         0.092861\n",
       "женат / замужем          0.075575\n",
       "dtype: float64"
      ]
     },
     "metadata": {},
     "output_type": "display_data"
    }
   ],
   "source": [
    "debt_by_family_status = data.groupby('family_status').agg({'debt':['count', 'sum']}) \n",
    "conversion = debt_by_family_status['debt']['sum'] / debt_by_family_status['debt']['count']\n",
    "display(conversion)"
   ]
  },
  {
   "cell_type": "markdown",
   "id": "1cef7837",
   "metadata": {
    "deletable": false,
    "id": "1cef7837"
   },
   "source": [
    "**Вывод:**  \n",
    "\n",
    "■ По результатам вычислений, можно заметить, что меньше всего должников среди тех, кто развелся или овдовел.  \n",
    "■ Среди 'женат / замужем' доля неплательщиков примерно равна 'в разводе'.  \n",
    "■ Люди, живущие гражданским браком или 'Не женат / не замужем' - категории с самым плохим показателем(возможно, в эту категорию попадает большое количество молодежи, которая не подходят под определение \"ответственный\" или еще не пришли к этому с опытом). "
   ]
  },
  {
   "cell_type": "markdown",
   "id": "1e8b2fca",
   "metadata": {
    "deletable": false,
    "editable": false,
    "id": "1e8b2fca"
   },
   "source": [
    "**Задание 21. Есть ли зависимость между уровнем дохода и возвратом кредита в срок?**"
   ]
  },
  {
   "cell_type": "code",
   "execution_count": 24,
   "id": "cd7e3720",
   "metadata": {
    "id": "cd7e3720"
   },
   "outputs": [
    {
     "name": "stdout",
     "output_type": "stream",
     "text": [
      "                        debt   num\n",
      "total_income_category             \n",
      "A                         25     2\n",
      "B                       5014   354\n",
      "C                      15938  1353\n",
      "D                        349    21\n",
      "E                         22     2\n"
     ]
    },
    {
     "data": {
      "text/html": [
       "<div>\n",
       "<style scoped>\n",
       "    .dataframe tbody tr th:only-of-type {\n",
       "        vertical-align: middle;\n",
       "    }\n",
       "\n",
       "    .dataframe tbody tr th {\n",
       "        vertical-align: top;\n",
       "    }\n",
       "\n",
       "    .dataframe thead th {\n",
       "        text-align: right;\n",
       "    }\n",
       "</style>\n",
       "<table border=\"1\" class=\"dataframe\">\n",
       "  <thead>\n",
       "    <tr style=\"text-align: right;\">\n",
       "      <th></th>\n",
       "      <th>debt</th>\n",
       "      <th>num</th>\n",
       "      <th>conversion</th>\n",
       "    </tr>\n",
       "    <tr>\n",
       "      <th>total_income_category</th>\n",
       "      <th></th>\n",
       "      <th></th>\n",
       "      <th></th>\n",
       "    </tr>\n",
       "  </thead>\n",
       "  <tbody>\n",
       "    <tr>\n",
       "      <th>E</th>\n",
       "      <td>22</td>\n",
       "      <td>2</td>\n",
       "      <td>0.090909</td>\n",
       "    </tr>\n",
       "    <tr>\n",
       "      <th>C</th>\n",
       "      <td>15938</td>\n",
       "      <td>1353</td>\n",
       "      <td>0.084891</td>\n",
       "    </tr>\n",
       "    <tr>\n",
       "      <th>A</th>\n",
       "      <td>25</td>\n",
       "      <td>2</td>\n",
       "      <td>0.080000</td>\n",
       "    </tr>\n",
       "    <tr>\n",
       "      <th>B</th>\n",
       "      <td>5014</td>\n",
       "      <td>354</td>\n",
       "      <td>0.070602</td>\n",
       "    </tr>\n",
       "    <tr>\n",
       "      <th>D</th>\n",
       "      <td>349</td>\n",
       "      <td>21</td>\n",
       "      <td>0.060172</td>\n",
       "    </tr>\n",
       "  </tbody>\n",
       "</table>\n",
       "</div>"
      ],
      "text/plain": [
       "                        debt   num  conversion\n",
       "total_income_category                         \n",
       "E                         22     2    0.090909\n",
       "C                      15938  1353    0.084891\n",
       "A                         25     2    0.080000\n",
       "B                       5014   354    0.070602\n",
       "D                        349    21    0.060172"
      ]
     },
     "execution_count": 24,
     "metadata": {},
     "output_type": "execute_result"
    }
   ],
   "source": [
    "income_debt = data[['total_income_category', 'debt']] \n",
    "income_debt_count = income_debt.groupby('total_income_category').count()\n",
    "#print(income_debt_count)\n",
    "income_debt_count['num'] = income_debt.loc[income_debt['debt'] == 1].groupby('total_income_category').sum()\n",
    "print(income_debt_count)\n",
    "income_debt_count['conversion'] = income_debt_count['num'] / income_debt_count['debt']\n",
    "income_debt_count.sort_values('conversion', ascending=False)"
   ]
  },
  {
   "cell_type": "markdown",
   "id": "e8593def",
   "metadata": {
    "deletable": false,
    "id": "e8593def"
   },
   "source": [
    "**Вывод:**  \n",
    "■ Больше всего процент должников в категории 'Е', с уровнем дохода до 30 тыс. руб. Возможно, они используют кредитные средства как дополнительный ресурс, чтобы не так сильно зависеть от сроков зарплаты и почти в каждом 10 случае не успевают вернуть в срок.   \n",
    "■ Кол-во должников с наименьшим и наибольшим доходом равны. Скорее всего, первые из-за отсутствия одобрений со стороны банка, вторые из-за отсутствия необходимости. Но конверсия говорит, что категория \"А\" занимает лишь третью позицию в списке \"Злостных плательщиков\". Возможно, суммы кредитов больше, в зависимости от предодобренной суммы, не рассчитывают свои силы или просто забывают, пренебрегают сроками.  \n",
    "• Опираясь на эти данные, тяжело однозначно сказать, что, чем выше уровень дохода, тем выше вероятность возврата кредита в срок. Это утверждение верно только для категорий \"Е\" и \"D\", там видно снижение кол-ва должников в зависимости от повышения категории дохода.  \n",
    "• В категории \"D\" должников меньше всего.\n"
   ]
  },
  {
   "cell_type": "markdown",
   "id": "99ecbd1f",
   "metadata": {
    "deletable": false,
    "editable": false,
    "id": "99ecbd1f"
   },
   "source": [
    "**Задание 22. Как разные цели кредита влияют на его возврат в срок?**"
   ]
  },
  {
   "cell_type": "code",
   "execution_count": 25,
   "id": "2b687290",
   "metadata": {
    "id": "2b687290"
   },
   "outputs": [],
   "source": [
    "#Решение по рекомендации ревьюера.\n",
    "# Решил построить сводную таблицу сразу по двум категориям, чтобы решить сразу две задачи из 3его раздела. \n",
    "# В полученной таблице видна взаимосвязь между уровнем дохода клиента и целью кредита со средним значением должников в каждой категории.\n",
    "# Таблицы по решению одной задачи получались трудночитаемыми, хоть и отвечали на вопрос задачи.\n",
    "# Надеюсь, в качестве тренировки, этот вариант решения подойдет, на мой взгляд, тут показана интересная взаимосвязь,\n",
    "# которую не было возможности так наглядно показать при обычном решении.\n",
    "\n",
    "\n",
    "data_pivot = data.pivot_table(index=['purpose_category'], columns='total_income_category', values='debt', aggfunc='mean')\n",
    "#data_pivot.sort_values('purpose_category', ascending=False)\n",
    "data_pivot_grouped = data_pivot.groupby\n",
    "\n",
    "\n",
    "\n",
    "\n",
    "\n",
    "\n",
    "\n",
    "#Верное решение до проверки ревьюера ↓\n",
    "#purpose_category = data[['purpose_category', 'purpose', 'debt']] \n",
    "#purpose_category_count = purpose_category.groupby('purpose_category').count()\n",
    "#purpose_category_count['num'] = purpose_category.loc[purpose_category['debt'] == 1].groupby('purpose_category').sum()\n",
    "#purpose_category_count['conversion'] = purpose_category_count['num'] / purpose_category_count['debt']\n",
    "#purpose_category_count[['conversion']].sort_values('conversion', ascending=False)"
   ]
  },
  {
   "cell_type": "markdown",
   "id": "b4bb2ce6",
   "metadata": {
    "deletable": false,
    "id": "b4bb2ce6"
   },
   "source": [
    "**Вывод:**  \n",
    "В результате группировки по категории цели видно:  \n",
    "■ Количество должников в категориях, где цели \"операции с автомобилем\" и \"получение образования\" почти равны.  \n",
    "■ Чуть меньше похожи значения в категориях \"проведение свадьбы\" и \"операции с недвижимостью\", но тоже достаточно близки.  "
   ]
  },
  {
   "cell_type": "markdown",
   "id": "09c3ac4c",
   "metadata": {
    "deletable": false,
    "editable": false,
    "id": "09c3ac4c"
   },
   "source": [
    "**Задание 23. Приведите возможные причины появления пропусков в исходных данных.**"
   ]
  },
  {
   "cell_type": "markdown",
   "id": "9da2ceda",
   "metadata": {
    "deletable": false,
    "id": "9da2ceda"
   },
   "source": [
    "*Ответ:*  \n",
    "В основном, проблемы с пропусками в данных появляются из-за технических причин или человеческого фактора:  \n",
    "■ К человеческому фактору можно отнести:  \n",
    "• Нежелание человека заполнять данные, например - e-mail редко оказывают при заполнении персональных данных.\n",
    "■ К техническим причинам можно отнести:  \n",
    "• Поломки оборудования\n"
   ]
  },
  {
   "cell_type": "markdown",
   "id": "7b0487d6",
   "metadata": {
    "deletable": false,
    "editable": false,
    "id": "7b0487d6"
   },
   "source": [
    "**Задание 24. Объясните, почему заполнить пропуски медианным значением — лучшее решение для количественных переменных.**"
   ]
  },
  {
   "cell_type": "markdown",
   "id": "7ecf2b8e",
   "metadata": {
    "deletable": false,
    "id": "7ecf2b8e"
   },
   "source": [
    "*Ответ:*   \n",
    "• Медианное значение не зависит от всех значений в наборе данных в отличии от среднего. Если распределение искажено, медиана является лучшим показателем центральной тенденции. "
   ]
  },
  {
   "cell_type": "markdown",
   "id": "6db5255a",
   "metadata": {
    "deletable": false,
    "editable": false,
    "id": "6db5255a"
   },
   "source": [
    "## Общий вывод."
   ]
  },
  {
   "cell_type": "markdown",
   "id": "bad65432",
   "metadata": {
    "id": "bad65432"
   },
   "source": [
    "• Наличие детей негативно влияет на возврат кредита в срок, т.к. кол-во должников с 1 и более детьми больше.  \n",
    "• Должниками в связи с семейным положением чаще становятся \"не женат/не замужем\". Зависимость есть.  \n",
    "• Явной зависимости между уровнем дохода и возвратом кредита в срок не обнаружено.  \n",
    "• Доказана зависимость между целью кредита и возвратом кредита в срок, т.к. значительно больше должников брали кредиты на цели, связанные с образованием или на связанные с автомобилем операции.   \n",
    "Резюмируя, повторим общие выводы:    \n",
    "Есть зависимость между статусом должника и наличием детей, целью кредита, семейным положением. Зависимости между размером   дохода и возвратом кредита, в установленный банком срок, не обнаружено."
   ]
  }
 ],
 "metadata": {
  "ExecuteTimeLog": [
   {
    "duration": 47,
    "start_time": "2022-06-11T12:43:55.598Z"
   },
   {
    "duration": 479,
    "start_time": "2022-06-11T12:44:04.332Z"
   },
   {
    "duration": 20,
    "start_time": "2022-06-11T12:44:04.813Z"
   },
   {
    "duration": 14,
    "start_time": "2022-06-11T12:44:04.835Z"
   },
   {
    "duration": 11,
    "start_time": "2022-06-11T12:44:04.851Z"
   },
   {
    "duration": 35,
    "start_time": "2022-06-11T12:44:04.863Z"
   },
   {
    "duration": 3,
    "start_time": "2022-06-11T12:44:04.900Z"
   },
   {
    "duration": 12,
    "start_time": "2022-06-11T12:44:04.904Z"
   },
   {
    "duration": 4,
    "start_time": "2022-06-11T12:44:04.918Z"
   },
   {
    "duration": 9,
    "start_time": "2022-06-11T12:44:04.923Z"
   },
   {
    "duration": 25,
    "start_time": "2022-06-11T12:44:04.934Z"
   },
   {
    "duration": 30,
    "start_time": "2022-06-11T12:44:04.960Z"
   },
   {
    "duration": 9,
    "start_time": "2022-06-11T12:44:04.991Z"
   },
   {
    "duration": 4,
    "start_time": "2022-06-11T12:44:05.001Z"
   },
   {
    "duration": 21,
    "start_time": "2022-06-11T12:44:05.006Z"
   },
   {
    "duration": 39,
    "start_time": "2022-06-11T12:44:05.028Z"
   },
   {
    "duration": 10,
    "start_time": "2022-06-11T12:44:05.069Z"
   },
   {
    "duration": 8,
    "start_time": "2022-06-11T12:44:05.080Z"
   },
   {
    "duration": 15,
    "start_time": "2022-06-11T12:44:05.089Z"
   },
   {
    "duration": 6,
    "start_time": "2022-06-11T12:44:05.105Z"
   },
   {
    "duration": 4,
    "start_time": "2022-06-11T12:44:05.112Z"
   },
   {
    "duration": 18,
    "start_time": "2022-06-11T12:44:05.117Z"
   },
   {
    "duration": 11,
    "start_time": "2022-06-11T12:44:05.136Z"
   },
   {
    "duration": 8,
    "start_time": "2022-06-11T12:44:05.148Z"
   },
   {
    "duration": 7,
    "start_time": "2022-06-11T12:44:05.159Z"
   },
   {
    "duration": 6,
    "start_time": "2022-06-11T12:44:05.167Z"
   },
   {
    "duration": 5,
    "start_time": "2022-06-11T12:44:36.266Z"
   },
   {
    "duration": 3,
    "start_time": "2022-06-11T12:44:48.962Z"
   },
   {
    "duration": 3,
    "start_time": "2022-06-11T12:45:01.414Z"
   },
   {
    "duration": 3,
    "start_time": "2022-06-11T12:45:12.291Z"
   },
   {
    "duration": 5,
    "start_time": "2022-06-11T12:59:39.468Z"
   },
   {
    "duration": 7,
    "start_time": "2022-06-11T13:04:31.209Z"
   },
   {
    "duration": 8,
    "start_time": "2022-06-11T13:08:13.755Z"
   },
   {
    "duration": 28,
    "start_time": "2022-06-11T13:08:27.099Z"
   },
   {
    "duration": 7,
    "start_time": "2022-06-11T13:08:31.200Z"
   },
   {
    "duration": 9,
    "start_time": "2022-06-11T13:14:52.743Z"
   },
   {
    "duration": 7,
    "start_time": "2022-06-11T13:18:25.811Z"
   },
   {
    "duration": 7,
    "start_time": "2022-06-11T13:18:36.007Z"
   },
   {
    "duration": 7,
    "start_time": "2022-06-11T13:19:30.242Z"
   },
   {
    "duration": 7,
    "start_time": "2022-06-11T13:20:19.084Z"
   },
   {
    "duration": 7,
    "start_time": "2022-06-11T13:21:54.281Z"
   },
   {
    "duration": 32,
    "start_time": "2022-06-11T13:25:26.766Z"
   },
   {
    "duration": 6,
    "start_time": "2022-06-11T13:25:37.742Z"
   },
   {
    "duration": 5,
    "start_time": "2022-06-11T13:26:24.085Z"
   },
   {
    "duration": 5,
    "start_time": "2022-06-11T13:26:29.325Z"
   },
   {
    "duration": 6,
    "start_time": "2022-06-11T13:27:18.914Z"
   },
   {
    "duration": 6,
    "start_time": "2022-06-11T13:27:28.241Z"
   },
   {
    "duration": 9,
    "start_time": "2022-06-11T13:34:59.012Z"
   },
   {
    "duration": 11,
    "start_time": "2022-06-11T13:35:23.788Z"
   },
   {
    "duration": 11,
    "start_time": "2022-06-11T13:36:07.194Z"
   },
   {
    "duration": 7,
    "start_time": "2022-06-11T13:36:57.116Z"
   },
   {
    "duration": 10,
    "start_time": "2022-06-11T13:37:21.413Z"
   },
   {
    "duration": 10,
    "start_time": "2022-06-11T13:37:36.884Z"
   },
   {
    "duration": 11,
    "start_time": "2022-06-11T13:41:07.884Z"
   },
   {
    "duration": 8,
    "start_time": "2022-06-11T13:41:19.965Z"
   },
   {
    "duration": 9,
    "start_time": "2022-06-11T13:41:44.768Z"
   },
   {
    "duration": 745,
    "start_time": "2022-06-12T07:43:46.920Z"
   },
   {
    "duration": 22,
    "start_time": "2022-06-12T07:43:47.667Z"
   },
   {
    "duration": 26,
    "start_time": "2022-06-12T07:43:47.690Z"
   },
   {
    "duration": 10,
    "start_time": "2022-06-12T07:43:47.719Z"
   },
   {
    "duration": 36,
    "start_time": "2022-06-12T07:43:47.730Z"
   },
   {
    "duration": 4,
    "start_time": "2022-06-12T07:43:47.768Z"
   },
   {
    "duration": 29,
    "start_time": "2022-06-12T07:43:47.773Z"
   },
   {
    "duration": 4,
    "start_time": "2022-06-12T07:43:47.804Z"
   },
   {
    "duration": 11,
    "start_time": "2022-06-12T07:43:47.810Z"
   },
   {
    "duration": 4,
    "start_time": "2022-06-12T07:43:47.823Z"
   },
   {
    "duration": 34,
    "start_time": "2022-06-12T07:43:47.829Z"
   },
   {
    "duration": 9,
    "start_time": "2022-06-12T07:43:47.864Z"
   },
   {
    "duration": 4,
    "start_time": "2022-06-12T07:43:47.895Z"
   },
   {
    "duration": 24,
    "start_time": "2022-06-12T07:43:47.905Z"
   },
   {
    "duration": 16,
    "start_time": "2022-06-12T07:43:47.930Z"
   },
   {
    "duration": 11,
    "start_time": "2022-06-12T07:43:47.947Z"
   },
   {
    "duration": 4,
    "start_time": "2022-06-12T07:43:47.960Z"
   },
   {
    "duration": 30,
    "start_time": "2022-06-12T07:43:47.965Z"
   },
   {
    "duration": 13,
    "start_time": "2022-06-12T07:43:47.996Z"
   },
   {
    "duration": 4,
    "start_time": "2022-06-12T07:43:48.011Z"
   },
   {
    "duration": 14,
    "start_time": "2022-06-12T07:43:48.016Z"
   },
   {
    "duration": 10,
    "start_time": "2022-06-12T07:43:48.032Z"
   },
   {
    "duration": 5,
    "start_time": "2022-06-12T07:43:48.043Z"
   },
   {
    "duration": 7,
    "start_time": "2022-06-12T07:43:48.049Z"
   },
   {
    "duration": 5,
    "start_time": "2022-06-12T07:43:48.057Z"
   },
   {
    "duration": 465,
    "start_time": "2022-06-12T07:44:41.320Z"
   },
   {
    "duration": 371,
    "start_time": "2022-06-12T07:45:08.177Z"
   },
   {
    "duration": 33,
    "start_time": "2022-06-12T07:47:27.470Z"
   },
   {
    "duration": 30,
    "start_time": "2022-06-12T07:48:39.669Z"
   },
   {
    "duration": 18,
    "start_time": "2022-06-12T07:49:15.112Z"
   },
   {
    "duration": 46,
    "start_time": "2022-06-12T07:50:44.581Z"
   },
   {
    "duration": 7,
    "start_time": "2022-06-12T07:50:51.276Z"
   },
   {
    "duration": 10,
    "start_time": "2022-06-12T07:59:15.207Z"
   },
   {
    "duration": 78,
    "start_time": "2022-06-12T07:59:31.627Z"
   },
   {
    "duration": 15,
    "start_time": "2022-06-12T07:59:31.707Z"
   },
   {
    "duration": 34,
    "start_time": "2022-06-12T07:59:31.723Z"
   },
   {
    "duration": 10,
    "start_time": "2022-06-12T07:59:31.759Z"
   },
   {
    "duration": 46,
    "start_time": "2022-06-12T07:59:31.770Z"
   },
   {
    "duration": 3,
    "start_time": "2022-06-12T07:59:31.818Z"
   },
   {
    "duration": 11,
    "start_time": "2022-06-12T07:59:31.823Z"
   },
   {
    "duration": 6,
    "start_time": "2022-06-12T07:59:31.836Z"
   },
   {
    "duration": 9,
    "start_time": "2022-06-12T07:59:31.843Z"
   },
   {
    "duration": 13,
    "start_time": "2022-06-12T07:59:31.854Z"
   },
   {
    "duration": 59,
    "start_time": "2022-06-12T07:59:31.868Z"
   },
   {
    "duration": 10,
    "start_time": "2022-06-12T07:59:31.929Z"
   },
   {
    "duration": 7,
    "start_time": "2022-06-12T07:59:31.941Z"
   },
   {
    "duration": 23,
    "start_time": "2022-06-12T07:59:31.949Z"
   },
   {
    "duration": 39,
    "start_time": "2022-06-12T07:59:31.974Z"
   },
   {
    "duration": 14,
    "start_time": "2022-06-12T07:59:32.015Z"
   },
   {
    "duration": 13,
    "start_time": "2022-06-12T07:59:32.031Z"
   },
   {
    "duration": 16,
    "start_time": "2022-06-12T07:59:32.045Z"
   },
   {
    "duration": 10,
    "start_time": "2022-06-12T07:59:32.062Z"
   },
   {
    "duration": 3,
    "start_time": "2022-06-12T07:59:32.074Z"
   },
   {
    "duration": 25,
    "start_time": "2022-06-12T07:59:32.078Z"
   },
   {
    "duration": 18,
    "start_time": "2022-06-12T07:59:32.104Z"
   },
   {
    "duration": 0,
    "start_time": "2022-06-12T07:59:32.124Z"
   },
   {
    "duration": 0,
    "start_time": "2022-06-12T07:59:32.125Z"
   },
   {
    "duration": 0,
    "start_time": "2022-06-12T07:59:32.127Z"
   },
   {
    "duration": 10,
    "start_time": "2022-06-12T08:00:02.838Z"
   },
   {
    "duration": 29,
    "start_time": "2022-06-12T08:00:30.183Z"
   },
   {
    "duration": 7,
    "start_time": "2022-06-12T08:00:55.160Z"
   },
   {
    "duration": 11,
    "start_time": "2022-06-12T08:02:45.237Z"
   },
   {
    "duration": 14,
    "start_time": "2022-06-12T08:02:56.387Z"
   },
   {
    "duration": 28,
    "start_time": "2022-06-12T08:03:22.991Z"
   },
   {
    "duration": 20,
    "start_time": "2022-06-12T08:03:46.420Z"
   },
   {
    "duration": 7,
    "start_time": "2022-06-12T08:04:27.929Z"
   },
   {
    "duration": 18,
    "start_time": "2022-06-12T08:04:36.813Z"
   },
   {
    "duration": 10,
    "start_time": "2022-06-12T08:05:03.136Z"
   },
   {
    "duration": 10,
    "start_time": "2022-06-12T08:05:15.911Z"
   },
   {
    "duration": 11,
    "start_time": "2022-06-12T08:06:15.164Z"
   },
   {
    "duration": 9,
    "start_time": "2022-06-12T08:06:25.350Z"
   },
   {
    "duration": 6,
    "start_time": "2022-06-12T08:15:47.326Z"
   },
   {
    "duration": 9,
    "start_time": "2022-06-12T08:16:03.437Z"
   },
   {
    "duration": 11,
    "start_time": "2022-06-12T08:16:30.078Z"
   },
   {
    "duration": 9,
    "start_time": "2022-06-12T08:17:12.378Z"
   },
   {
    "duration": 14,
    "start_time": "2022-06-12T08:17:28.076Z"
   },
   {
    "duration": 10,
    "start_time": "2022-06-12T08:38:07.456Z"
   },
   {
    "duration": 11,
    "start_time": "2022-06-12T08:38:31.841Z"
   },
   {
    "duration": 10,
    "start_time": "2022-06-12T08:45:47.207Z"
   },
   {
    "duration": 13,
    "start_time": "2022-06-12T08:45:59.289Z"
   },
   {
    "duration": 13,
    "start_time": "2022-06-12T08:59:09.850Z"
   },
   {
    "duration": 12,
    "start_time": "2022-06-12T08:59:18.256Z"
   },
   {
    "duration": 20,
    "start_time": "2022-06-12T09:04:00.994Z"
   },
   {
    "duration": 21,
    "start_time": "2022-06-12T09:09:15.574Z"
   },
   {
    "duration": 19,
    "start_time": "2022-06-12T09:09:30.265Z"
   },
   {
    "duration": 3,
    "start_time": "2022-06-12T09:24:28.988Z"
   },
   {
    "duration": 467,
    "start_time": "2022-06-12T09:27:49.987Z"
   },
   {
    "duration": 553,
    "start_time": "2022-06-12T09:28:03.518Z"
   },
   {
    "duration": 12,
    "start_time": "2022-06-12T09:29:11.641Z"
   },
   {
    "duration": 15,
    "start_time": "2022-06-12T09:29:34.524Z"
   },
   {
    "duration": 5,
    "start_time": "2022-06-12T09:35:10.522Z"
   },
   {
    "duration": 16,
    "start_time": "2022-06-12T09:35:15.593Z"
   },
   {
    "duration": 13,
    "start_time": "2022-06-12T09:36:49.784Z"
   },
   {
    "duration": 20,
    "start_time": "2022-06-12T09:36:59.698Z"
   },
   {
    "duration": 11,
    "start_time": "2022-06-12T09:39:32.843Z"
   },
   {
    "duration": 13,
    "start_time": "2022-06-12T09:40:14.016Z"
   },
   {
    "duration": 12,
    "start_time": "2022-06-12T09:40:41.573Z"
   },
   {
    "duration": 7,
    "start_time": "2022-06-12T09:40:55.539Z"
   },
   {
    "duration": 8,
    "start_time": "2022-06-12T09:41:01.155Z"
   },
   {
    "duration": 8,
    "start_time": "2022-06-12T09:41:15.233Z"
   },
   {
    "duration": 4,
    "start_time": "2022-06-12T09:41:48.052Z"
   },
   {
    "duration": 7,
    "start_time": "2022-06-12T09:41:53.341Z"
   },
   {
    "duration": 7,
    "start_time": "2022-06-12T09:42:08.821Z"
   },
   {
    "duration": 8,
    "start_time": "2022-06-12T09:42:16.746Z"
   },
   {
    "duration": 12,
    "start_time": "2022-06-12T10:26:19.359Z"
   },
   {
    "duration": 22,
    "start_time": "2022-06-12T10:26:25.854Z"
   },
   {
    "duration": 11,
    "start_time": "2022-06-12T10:26:36.051Z"
   },
   {
    "duration": 18,
    "start_time": "2022-06-12T10:27:17.873Z"
   },
   {
    "duration": 13,
    "start_time": "2022-06-12T10:27:28.541Z"
   },
   {
    "duration": 15,
    "start_time": "2022-06-12T10:27:37.058Z"
   },
   {
    "duration": 19,
    "start_time": "2022-06-12T10:27:43.880Z"
   },
   {
    "duration": 14,
    "start_time": "2022-06-12T10:27:48.628Z"
   },
   {
    "duration": 10,
    "start_time": "2022-06-12T10:28:05.638Z"
   },
   {
    "duration": 16,
    "start_time": "2022-06-12T10:28:19.363Z"
   },
   {
    "duration": 10,
    "start_time": "2022-06-12T10:28:28.533Z"
   },
   {
    "duration": 382,
    "start_time": "2022-06-12T10:52:47.432Z"
   },
   {
    "duration": 403,
    "start_time": "2022-06-12T10:53:01.780Z"
   },
   {
    "duration": 27,
    "start_time": "2022-06-12T10:53:04.576Z"
   },
   {
    "duration": 19,
    "start_time": "2022-06-12T10:53:35.158Z"
   },
   {
    "duration": 18,
    "start_time": "2022-06-12T10:55:35.362Z"
   },
   {
    "duration": 12,
    "start_time": "2022-06-12T10:57:25.732Z"
   },
   {
    "duration": 12,
    "start_time": "2022-06-12T10:57:34.836Z"
   },
   {
    "duration": 11,
    "start_time": "2022-06-12T10:57:55.337Z"
   },
   {
    "duration": 8,
    "start_time": "2022-06-12T10:58:04.629Z"
   },
   {
    "duration": 31,
    "start_time": "2022-06-12T10:58:45.880Z"
   },
   {
    "duration": 14,
    "start_time": "2022-06-12T10:58:55.026Z"
   },
   {
    "duration": 15,
    "start_time": "2022-06-12T11:00:10.350Z"
   },
   {
    "duration": 16,
    "start_time": "2022-06-12T11:00:29.365Z"
   },
   {
    "duration": 17,
    "start_time": "2022-06-12T11:05:27.573Z"
   },
   {
    "duration": 17,
    "start_time": "2022-06-12T11:05:42.245Z"
   },
   {
    "duration": 14,
    "start_time": "2022-06-12T11:11:47.553Z"
   },
   {
    "duration": 12,
    "start_time": "2022-06-12T11:12:47.769Z"
   },
   {
    "duration": 14,
    "start_time": "2022-06-12T11:13:23.155Z"
   },
   {
    "duration": 15,
    "start_time": "2022-06-12T11:13:30.875Z"
   },
   {
    "duration": 9,
    "start_time": "2022-06-12T11:14:06.981Z"
   },
   {
    "duration": 13,
    "start_time": "2022-06-12T11:14:16.724Z"
   },
   {
    "duration": 25,
    "start_time": "2022-06-12T11:14:53.247Z"
   },
   {
    "duration": 23,
    "start_time": "2022-06-12T11:52:48.910Z"
   },
   {
    "duration": 23,
    "start_time": "2022-06-12T11:52:51.896Z"
   },
   {
    "duration": 11,
    "start_time": "2022-06-12T11:53:16.312Z"
   },
   {
    "duration": 500,
    "start_time": "2022-06-12T13:59:12.522Z"
   },
   {
    "duration": 21,
    "start_time": "2022-06-12T13:59:13.024Z"
   },
   {
    "duration": 15,
    "start_time": "2022-06-12T13:59:13.046Z"
   },
   {
    "duration": 9,
    "start_time": "2022-06-12T13:59:13.063Z"
   },
   {
    "duration": 58,
    "start_time": "2022-06-12T13:59:13.073Z"
   },
   {
    "duration": 3,
    "start_time": "2022-06-12T13:59:13.133Z"
   },
   {
    "duration": 10,
    "start_time": "2022-06-12T13:59:13.138Z"
   },
   {
    "duration": 4,
    "start_time": "2022-06-12T13:59:13.150Z"
   },
   {
    "duration": 12,
    "start_time": "2022-06-12T13:59:13.156Z"
   },
   {
    "duration": 37,
    "start_time": "2022-06-12T13:59:13.170Z"
   },
   {
    "duration": 39,
    "start_time": "2022-06-12T13:59:13.209Z"
   },
   {
    "duration": 10,
    "start_time": "2022-06-12T13:59:13.249Z"
   },
   {
    "duration": 6,
    "start_time": "2022-06-12T13:59:13.260Z"
   },
   {
    "duration": 43,
    "start_time": "2022-06-12T13:59:13.267Z"
   },
   {
    "duration": 16,
    "start_time": "2022-06-12T13:59:13.312Z"
   },
   {
    "duration": 11,
    "start_time": "2022-06-12T13:59:13.330Z"
   },
   {
    "duration": 3,
    "start_time": "2022-06-12T13:59:13.343Z"
   },
   {
    "duration": 13,
    "start_time": "2022-06-12T13:59:13.348Z"
   },
   {
    "duration": 6,
    "start_time": "2022-06-12T13:59:13.362Z"
   },
   {
    "duration": 36,
    "start_time": "2022-06-12T13:59:13.369Z"
   },
   {
    "duration": 16,
    "start_time": "2022-06-12T13:59:13.407Z"
   },
   {
    "duration": 19,
    "start_time": "2022-06-12T13:59:13.424Z"
   },
   {
    "duration": 11,
    "start_time": "2022-06-12T13:59:13.444Z"
   },
   {
    "duration": 18,
    "start_time": "2022-06-12T13:59:13.457Z"
   },
   {
    "duration": 33,
    "start_time": "2022-06-12T13:59:13.477Z"
   },
   {
    "duration": 510,
    "start_time": "2022-06-12T15:16:16.474Z"
   },
   {
    "duration": 27,
    "start_time": "2022-06-12T15:16:16.986Z"
   },
   {
    "duration": 18,
    "start_time": "2022-06-12T15:16:17.015Z"
   },
   {
    "duration": 9,
    "start_time": "2022-06-12T15:16:17.034Z"
   },
   {
    "duration": 55,
    "start_time": "2022-06-12T15:16:17.045Z"
   },
   {
    "duration": 9,
    "start_time": "2022-06-12T15:16:17.101Z"
   },
   {
    "duration": 10,
    "start_time": "2022-06-12T15:16:17.112Z"
   },
   {
    "duration": 4,
    "start_time": "2022-06-12T15:16:17.124Z"
   },
   {
    "duration": 9,
    "start_time": "2022-06-12T15:16:17.130Z"
   },
   {
    "duration": 6,
    "start_time": "2022-06-12T15:16:17.140Z"
   },
   {
    "duration": 52,
    "start_time": "2022-06-12T15:16:17.147Z"
   },
   {
    "duration": 15,
    "start_time": "2022-06-12T15:16:17.202Z"
   },
   {
    "duration": 4,
    "start_time": "2022-06-12T15:16:17.219Z"
   },
   {
    "duration": 19,
    "start_time": "2022-06-12T15:16:17.225Z"
   },
   {
    "duration": 16,
    "start_time": "2022-06-12T15:16:17.245Z"
   },
   {
    "duration": 39,
    "start_time": "2022-06-12T15:16:17.262Z"
   },
   {
    "duration": 4,
    "start_time": "2022-06-12T15:16:17.308Z"
   },
   {
    "duration": 13,
    "start_time": "2022-06-12T15:16:17.314Z"
   },
   {
    "duration": 9,
    "start_time": "2022-06-12T15:16:17.328Z"
   },
   {
    "duration": 4,
    "start_time": "2022-06-12T15:16:17.339Z"
   },
   {
    "duration": 15,
    "start_time": "2022-06-12T15:16:17.344Z"
   },
   {
    "duration": 13,
    "start_time": "2022-06-12T15:16:17.361Z"
   },
   {
    "duration": 38,
    "start_time": "2022-06-12T15:16:17.376Z"
   },
   {
    "duration": 20,
    "start_time": "2022-06-12T15:16:17.416Z"
   },
   {
    "duration": 17,
    "start_time": "2022-06-12T15:16:17.438Z"
   },
   {
    "duration": 487,
    "start_time": "2022-06-12T15:16:53.369Z"
   },
   {
    "duration": 22,
    "start_time": "2022-06-12T15:16:53.858Z"
   },
   {
    "duration": 19,
    "start_time": "2022-06-12T15:16:53.882Z"
   },
   {
    "duration": 14,
    "start_time": "2022-06-12T15:16:53.906Z"
   },
   {
    "duration": 35,
    "start_time": "2022-06-12T15:16:53.922Z"
   },
   {
    "duration": 4,
    "start_time": "2022-06-12T15:16:53.958Z"
   },
   {
    "duration": 17,
    "start_time": "2022-06-12T15:16:53.963Z"
   },
   {
    "duration": 28,
    "start_time": "2022-06-12T15:16:53.981Z"
   },
   {
    "duration": 14,
    "start_time": "2022-06-12T15:16:54.011Z"
   },
   {
    "duration": 5,
    "start_time": "2022-06-12T15:16:54.028Z"
   },
   {
    "duration": 40,
    "start_time": "2022-06-12T15:16:54.035Z"
   },
   {
    "duration": 20,
    "start_time": "2022-06-12T15:16:54.077Z"
   },
   {
    "duration": 5,
    "start_time": "2022-06-12T15:16:54.099Z"
   },
   {
    "duration": 22,
    "start_time": "2022-06-12T15:16:54.109Z"
   },
   {
    "duration": 15,
    "start_time": "2022-06-12T15:16:54.133Z"
   },
   {
    "duration": 10,
    "start_time": "2022-06-12T15:16:54.150Z"
   },
   {
    "duration": 6,
    "start_time": "2022-06-12T15:16:54.161Z"
   },
   {
    "duration": 29,
    "start_time": "2022-06-12T15:16:54.168Z"
   },
   {
    "duration": 8,
    "start_time": "2022-06-12T15:16:54.202Z"
   },
   {
    "duration": 6,
    "start_time": "2022-06-12T15:16:54.212Z"
   },
   {
    "duration": 13,
    "start_time": "2022-06-12T15:16:54.220Z"
   },
   {
    "duration": 15,
    "start_time": "2022-06-12T15:16:54.235Z"
   },
   {
    "duration": 10,
    "start_time": "2022-06-12T15:16:54.251Z"
   },
   {
    "duration": 43,
    "start_time": "2022-06-12T15:16:54.263Z"
   },
   {
    "duration": 19,
    "start_time": "2022-06-12T15:16:54.308Z"
   },
   {
    "duration": 52,
    "start_time": "2022-06-13T06:16:52.456Z"
   },
   {
    "duration": 679,
    "start_time": "2022-06-13T06:16:55.572Z"
   },
   {
    "duration": 21,
    "start_time": "2022-06-13T06:16:56.253Z"
   },
   {
    "duration": 16,
    "start_time": "2022-06-13T06:16:56.276Z"
   },
   {
    "duration": 10,
    "start_time": "2022-06-13T06:16:56.294Z"
   },
   {
    "duration": 53,
    "start_time": "2022-06-13T06:16:56.306Z"
   },
   {
    "duration": 4,
    "start_time": "2022-06-13T06:16:56.360Z"
   },
   {
    "duration": 13,
    "start_time": "2022-06-13T06:16:56.366Z"
   },
   {
    "duration": 14,
    "start_time": "2022-06-13T06:16:56.381Z"
   },
   {
    "duration": 13,
    "start_time": "2022-06-13T06:16:56.396Z"
   },
   {
    "duration": 12,
    "start_time": "2022-06-13T06:16:56.412Z"
   },
   {
    "duration": 44,
    "start_time": "2022-06-13T06:16:56.426Z"
   },
   {
    "duration": 10,
    "start_time": "2022-06-13T06:16:56.471Z"
   },
   {
    "duration": 6,
    "start_time": "2022-06-13T06:16:56.482Z"
   },
   {
    "duration": 29,
    "start_time": "2022-06-13T06:16:56.490Z"
   },
   {
    "duration": 16,
    "start_time": "2022-06-13T06:16:56.521Z"
   },
   {
    "duration": 24,
    "start_time": "2022-06-13T06:16:56.539Z"
   },
   {
    "duration": 7,
    "start_time": "2022-06-13T06:16:56.565Z"
   },
   {
    "duration": 13,
    "start_time": "2022-06-13T06:16:56.574Z"
   },
   {
    "duration": 6,
    "start_time": "2022-06-13T06:16:56.588Z"
   },
   {
    "duration": 8,
    "start_time": "2022-06-13T06:16:56.596Z"
   },
   {
    "duration": 12,
    "start_time": "2022-06-13T06:16:56.606Z"
   },
   {
    "duration": 11,
    "start_time": "2022-06-13T06:16:56.620Z"
   },
   {
    "duration": 34,
    "start_time": "2022-06-13T06:16:56.632Z"
   },
   {
    "duration": 21,
    "start_time": "2022-06-13T06:16:56.668Z"
   },
   {
    "duration": 34,
    "start_time": "2022-06-13T06:16:56.691Z"
   },
   {
    "duration": 65,
    "start_time": "2022-06-13T06:18:08.038Z"
   },
   {
    "duration": 117,
    "start_time": "2022-06-13T06:18:17.372Z"
   },
   {
    "duration": 27,
    "start_time": "2022-06-13T06:19:21.763Z"
   },
   {
    "duration": 37,
    "start_time": "2022-06-13T06:19:49.021Z"
   },
   {
    "duration": 26,
    "start_time": "2022-06-13T06:20:20.322Z"
   },
   {
    "duration": 15,
    "start_time": "2022-06-13T06:23:00.720Z"
   },
   {
    "duration": 14,
    "start_time": "2022-06-13T06:57:44.013Z"
   },
   {
    "duration": 16,
    "start_time": "2022-06-13T07:01:29.962Z"
   },
   {
    "duration": 513,
    "start_time": "2022-06-13T07:04:14.107Z"
   },
   {
    "duration": 8,
    "start_time": "2022-06-13T07:04:45.706Z"
   },
   {
    "duration": 8,
    "start_time": "2022-06-13T07:05:19.370Z"
   },
   {
    "duration": 31,
    "start_time": "2022-06-13T07:06:18.997Z"
   },
   {
    "duration": 18,
    "start_time": "2022-06-13T07:06:35.345Z"
   },
   {
    "duration": 17,
    "start_time": "2022-06-13T07:06:59.848Z"
   },
   {
    "duration": 17,
    "start_time": "2022-06-13T07:07:21.894Z"
   },
   {
    "duration": 7,
    "start_time": "2022-06-13T07:08:31.659Z"
   },
   {
    "duration": 13,
    "start_time": "2022-06-13T07:08:37.903Z"
   },
   {
    "duration": 13,
    "start_time": "2022-06-13T07:08:45.901Z"
   },
   {
    "duration": 18,
    "start_time": "2022-06-13T07:09:02.237Z"
   },
   {
    "duration": 13,
    "start_time": "2022-06-13T07:09:47.547Z"
   },
   {
    "duration": 101,
    "start_time": "2022-06-13T07:09:56.799Z"
   },
   {
    "duration": 16,
    "start_time": "2022-06-13T07:10:18.456Z"
   },
   {
    "duration": 15,
    "start_time": "2022-06-13T07:10:24.801Z"
   },
   {
    "duration": 84,
    "start_time": "2022-06-13T07:10:41.138Z"
   },
   {
    "duration": 85,
    "start_time": "2022-06-13T07:10:54.330Z"
   },
   {
    "duration": 74,
    "start_time": "2022-06-13T07:11:55.781Z"
   },
   {
    "duration": 13,
    "start_time": "2022-06-13T07:12:18.072Z"
   },
   {
    "duration": 70,
    "start_time": "2022-06-13T07:12:24.876Z"
   },
   {
    "duration": 14,
    "start_time": "2022-06-13T07:12:24.948Z"
   },
   {
    "duration": 23,
    "start_time": "2022-06-13T07:12:24.963Z"
   },
   {
    "duration": 21,
    "start_time": "2022-06-13T07:12:24.988Z"
   },
   {
    "duration": 50,
    "start_time": "2022-06-13T07:12:25.011Z"
   },
   {
    "duration": 3,
    "start_time": "2022-06-13T07:12:25.063Z"
   },
   {
    "duration": 21,
    "start_time": "2022-06-13T07:12:25.067Z"
   },
   {
    "duration": 8,
    "start_time": "2022-06-13T07:12:25.089Z"
   },
   {
    "duration": 21,
    "start_time": "2022-06-13T07:12:25.098Z"
   },
   {
    "duration": 21,
    "start_time": "2022-06-13T07:12:25.122Z"
   },
   {
    "duration": 53,
    "start_time": "2022-06-13T07:12:25.144Z"
   },
   {
    "duration": 9,
    "start_time": "2022-06-13T07:12:25.199Z"
   },
   {
    "duration": 14,
    "start_time": "2022-06-13T07:12:25.210Z"
   },
   {
    "duration": 44,
    "start_time": "2022-06-13T07:12:25.226Z"
   },
   {
    "duration": 16,
    "start_time": "2022-06-13T07:12:25.272Z"
   },
   {
    "duration": 12,
    "start_time": "2022-06-13T07:12:25.290Z"
   },
   {
    "duration": 20,
    "start_time": "2022-06-13T07:12:25.303Z"
   },
   {
    "duration": 30,
    "start_time": "2022-06-13T07:12:25.325Z"
   },
   {
    "duration": 6,
    "start_time": "2022-06-13T07:12:25.357Z"
   },
   {
    "duration": 4,
    "start_time": "2022-06-13T07:12:25.364Z"
   },
   {
    "duration": 15,
    "start_time": "2022-06-13T07:12:25.369Z"
   },
   {
    "duration": 11,
    "start_time": "2022-06-13T07:12:25.386Z"
   },
   {
    "duration": 9,
    "start_time": "2022-06-13T07:12:25.399Z"
   },
   {
    "duration": 20,
    "start_time": "2022-06-13T07:12:25.410Z"
   },
   {
    "duration": 55,
    "start_time": "2022-06-13T07:12:25.432Z"
   },
   {
    "duration": 20,
    "start_time": "2022-06-13T07:13:47.442Z"
   },
   {
    "duration": 31,
    "start_time": "2022-06-13T07:16:08.764Z"
   },
   {
    "duration": 57,
    "start_time": "2022-06-13T07:18:46.333Z"
   },
   {
    "duration": 116,
    "start_time": "2022-06-13T07:18:53.270Z"
   },
   {
    "duration": 37,
    "start_time": "2022-06-13T07:19:05.486Z"
   },
   {
    "duration": 137,
    "start_time": "2022-06-13T07:21:28.591Z"
   },
   {
    "duration": 127,
    "start_time": "2022-06-13T07:22:05.134Z"
   },
   {
    "duration": 17,
    "start_time": "2022-06-13T07:22:27.867Z"
   },
   {
    "duration": 14,
    "start_time": "2022-06-13T07:25:37.492Z"
   },
   {
    "duration": 34,
    "start_time": "2022-06-13T07:25:43.014Z"
   },
   {
    "duration": 13,
    "start_time": "2022-06-13T07:29:33.188Z"
   },
   {
    "duration": 37,
    "start_time": "2022-06-13T07:29:43.954Z"
   },
   {
    "duration": 16,
    "start_time": "2022-06-13T07:30:18.829Z"
   },
   {
    "duration": 40,
    "start_time": "2022-06-13T07:30:25.063Z"
   },
   {
    "duration": 27,
    "start_time": "2022-06-13T07:31:49.546Z"
   },
   {
    "duration": 29,
    "start_time": "2022-06-13T07:32:02.161Z"
   },
   {
    "duration": 26,
    "start_time": "2022-06-13T07:32:14.718Z"
   },
   {
    "duration": 22,
    "start_time": "2022-06-13T07:34:58.372Z"
   },
   {
    "duration": 14,
    "start_time": "2022-06-13T07:35:06.991Z"
   },
   {
    "duration": 21,
    "start_time": "2022-06-13T07:35:32.709Z"
   },
   {
    "duration": 64,
    "start_time": "2022-06-13T07:35:53.684Z"
   },
   {
    "duration": 24,
    "start_time": "2022-06-13T07:35:53.750Z"
   },
   {
    "duration": 19,
    "start_time": "2022-06-13T07:35:53.776Z"
   },
   {
    "duration": 9,
    "start_time": "2022-06-13T07:35:53.797Z"
   },
   {
    "duration": 38,
    "start_time": "2022-06-13T07:35:53.807Z"
   },
   {
    "duration": 12,
    "start_time": "2022-06-13T07:35:53.847Z"
   },
   {
    "duration": 16,
    "start_time": "2022-06-13T07:35:53.863Z"
   },
   {
    "duration": 5,
    "start_time": "2022-06-13T07:35:53.880Z"
   },
   {
    "duration": 7,
    "start_time": "2022-06-13T07:35:53.886Z"
   },
   {
    "duration": 4,
    "start_time": "2022-06-13T07:35:53.895Z"
   },
   {
    "duration": 31,
    "start_time": "2022-06-13T07:35:53.901Z"
   },
   {
    "duration": 40,
    "start_time": "2022-06-13T07:35:53.934Z"
   },
   {
    "duration": 6,
    "start_time": "2022-06-13T07:35:53.976Z"
   },
   {
    "duration": 19,
    "start_time": "2022-06-13T07:35:53.984Z"
   },
   {
    "duration": 16,
    "start_time": "2022-06-13T07:35:54.004Z"
   },
   {
    "duration": 12,
    "start_time": "2022-06-13T07:35:54.022Z"
   },
   {
    "duration": 5,
    "start_time": "2022-06-13T07:35:54.059Z"
   },
   {
    "duration": 20,
    "start_time": "2022-06-13T07:35:54.067Z"
   },
   {
    "duration": 10,
    "start_time": "2022-06-13T07:35:54.088Z"
   },
   {
    "duration": 11,
    "start_time": "2022-06-13T07:35:54.100Z"
   },
   {
    "duration": 15,
    "start_time": "2022-06-13T07:35:54.112Z"
   },
   {
    "duration": 16,
    "start_time": "2022-06-13T07:35:54.129Z"
   },
   {
    "duration": 25,
    "start_time": "2022-06-13T07:35:54.146Z"
   },
   {
    "duration": 18,
    "start_time": "2022-06-13T07:35:54.173Z"
   },
   {
    "duration": 20,
    "start_time": "2022-06-13T07:35:54.193Z"
   },
   {
    "duration": 22,
    "start_time": "2022-06-13T07:36:24.929Z"
   },
   {
    "duration": 28,
    "start_time": "2022-06-13T07:36:51.918Z"
   },
   {
    "duration": 23,
    "start_time": "2022-06-13T07:37:20.588Z"
   },
   {
    "duration": 20,
    "start_time": "2022-06-13T07:39:14.378Z"
   },
   {
    "duration": 22,
    "start_time": "2022-06-13T07:39:26.493Z"
   },
   {
    "duration": 20,
    "start_time": "2022-06-13T07:39:29.924Z"
   },
   {
    "duration": 24,
    "start_time": "2022-06-13T07:39:34.195Z"
   },
   {
    "duration": 13,
    "start_time": "2022-06-13T07:40:16.991Z"
   },
   {
    "duration": 22,
    "start_time": "2022-06-13T07:41:14.003Z"
   },
   {
    "duration": 75,
    "start_time": "2022-06-13T08:32:36.440Z"
   },
   {
    "duration": 14,
    "start_time": "2022-06-13T08:32:36.517Z"
   },
   {
    "duration": 18,
    "start_time": "2022-06-13T08:32:36.533Z"
   },
   {
    "duration": 53,
    "start_time": "2022-06-13T08:32:36.554Z"
   },
   {
    "duration": 32,
    "start_time": "2022-06-13T08:32:36.608Z"
   },
   {
    "duration": 25,
    "start_time": "2022-06-13T08:32:36.642Z"
   },
   {
    "duration": 19,
    "start_time": "2022-06-13T08:32:36.669Z"
   },
   {
    "duration": 6,
    "start_time": "2022-06-13T08:32:36.690Z"
   },
   {
    "duration": 7,
    "start_time": "2022-06-13T08:32:36.697Z"
   },
   {
    "duration": 5,
    "start_time": "2022-06-13T08:32:36.706Z"
   },
   {
    "duration": 52,
    "start_time": "2022-06-13T08:32:36.712Z"
   },
   {
    "duration": 16,
    "start_time": "2022-06-13T08:32:36.766Z"
   },
   {
    "duration": 5,
    "start_time": "2022-06-13T08:32:36.783Z"
   },
   {
    "duration": 20,
    "start_time": "2022-06-13T08:32:36.789Z"
   },
   {
    "duration": 15,
    "start_time": "2022-06-13T08:32:36.810Z"
   },
   {
    "duration": 34,
    "start_time": "2022-06-13T08:32:36.826Z"
   },
   {
    "duration": 20,
    "start_time": "2022-06-13T08:32:36.862Z"
   },
   {
    "duration": 15,
    "start_time": "2022-06-13T08:32:36.884Z"
   },
   {
    "duration": 5,
    "start_time": "2022-06-13T08:32:36.901Z"
   },
   {
    "duration": 7,
    "start_time": "2022-06-13T08:32:36.908Z"
   },
   {
    "duration": 10,
    "start_time": "2022-06-13T08:32:36.916Z"
   },
   {
    "duration": 10,
    "start_time": "2022-06-13T08:32:36.928Z"
   },
   {
    "duration": 31,
    "start_time": "2022-06-13T08:32:36.940Z"
   },
   {
    "duration": 19,
    "start_time": "2022-06-13T08:32:36.973Z"
   },
   {
    "duration": 16,
    "start_time": "2022-06-13T08:32:36.994Z"
   },
   {
    "duration": 456,
    "start_time": "2022-06-13T11:27:43.718Z"
   },
   {
    "duration": 29,
    "start_time": "2022-06-13T11:27:44.176Z"
   },
   {
    "duration": 16,
    "start_time": "2022-06-13T11:27:44.207Z"
   },
   {
    "duration": 14,
    "start_time": "2022-06-13T11:27:44.225Z"
   },
   {
    "duration": 51,
    "start_time": "2022-06-13T11:27:44.241Z"
   },
   {
    "duration": 3,
    "start_time": "2022-06-13T11:27:44.294Z"
   },
   {
    "duration": 12,
    "start_time": "2022-06-13T11:27:44.299Z"
   },
   {
    "duration": 5,
    "start_time": "2022-06-13T11:27:44.313Z"
   },
   {
    "duration": 11,
    "start_time": "2022-06-13T11:27:44.320Z"
   },
   {
    "duration": 28,
    "start_time": "2022-06-13T11:27:44.332Z"
   },
   {
    "duration": 52,
    "start_time": "2022-06-13T11:27:44.362Z"
   },
   {
    "duration": 10,
    "start_time": "2022-06-13T11:27:44.417Z"
   },
   {
    "duration": 21,
    "start_time": "2022-06-13T11:27:44.429Z"
   },
   {
    "duration": 27,
    "start_time": "2022-06-13T11:27:44.458Z"
   },
   {
    "duration": 16,
    "start_time": "2022-06-13T11:27:44.487Z"
   },
   {
    "duration": 11,
    "start_time": "2022-06-13T11:27:44.505Z"
   },
   {
    "duration": 7,
    "start_time": "2022-06-13T11:27:44.517Z"
   },
   {
    "duration": 15,
    "start_time": "2022-06-13T11:27:44.526Z"
   },
   {
    "duration": 16,
    "start_time": "2022-06-13T11:27:44.543Z"
   },
   {
    "duration": 4,
    "start_time": "2022-06-13T11:27:44.560Z"
   },
   {
    "duration": 12,
    "start_time": "2022-06-13T11:27:44.566Z"
   },
   {
    "duration": 11,
    "start_time": "2022-06-13T11:27:44.580Z"
   },
   {
    "duration": 13,
    "start_time": "2022-06-13T11:27:44.593Z"
   },
   {
    "duration": 23,
    "start_time": "2022-06-13T11:27:44.607Z"
   },
   {
    "duration": 17,
    "start_time": "2022-06-13T11:27:44.658Z"
   },
   {
    "duration": 9,
    "start_time": "2022-06-13T11:29:49.071Z"
   },
   {
    "duration": 24,
    "start_time": "2022-06-13T11:30:09.630Z"
   },
   {
    "duration": 16,
    "start_time": "2022-06-13T11:30:14.503Z"
   }
  ],
  "celltoolbar": "Edit Metadata",
  "colab": {
   "name": "dpp_template_part2.ipynb",
   "provenance": []
  },
  "kernelspec": {
   "display_name": "Python 3 (ipykernel)",
   "language": "python",
   "name": "python3"
  },
  "language_info": {
   "codemirror_mode": {
    "name": "ipython",
    "version": 3
   },
   "file_extension": ".py",
   "mimetype": "text/x-python",
   "name": "python",
   "nbconvert_exporter": "python",
   "pygments_lexer": "ipython3",
   "version": "3.10.9"
  },
  "toc": {
   "base_numbering": 1,
   "nav_menu": {},
   "number_sections": true,
   "sideBar": true,
   "skip_h1_title": true,
   "title_cell": "Table of Contents",
   "title_sidebar": "Contents",
   "toc_cell": false,
   "toc_position": {},
   "toc_section_display": true,
   "toc_window_display": false
  }
 },
 "nbformat": 4,
 "nbformat_minor": 5
}
