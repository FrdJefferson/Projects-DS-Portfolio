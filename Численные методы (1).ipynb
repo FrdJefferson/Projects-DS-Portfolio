{
 "cells": [
  {
   "cell_type": "markdown",
   "metadata": {},
   "source": [
    "# Определение стоимости автомобилей"
   ]
  },
  {
   "cell_type": "markdown",
   "metadata": {},
   "source": [
    "Сервис по продаже автомобилей с пробегом «Не бит, не крашен» разрабатывает приложение для привлечения новых клиентов. В нём можно быстро узнать рыночную стоимость своего автомобиля. В вашем распоряжении исторические данные: технические характеристики, комплектации и цены автомобилей. Вам нужно построить модель для определения стоимости. \n",
    "\n",
    "Заказчику важны:\n",
    "\n",
    "- качество предсказания;\n",
    "- скорость предсказания;\n",
    "- время обучения."
   ]
  },
  {
   "cell_type": "markdown",
   "metadata": {},
   "source": [
    "## Подготовка данных"
   ]
  },
  {
   "cell_type": "code",
   "execution_count": 1,
   "metadata": {},
   "outputs": [],
   "source": [
    "import pandas as pd\n",
    "import numpy as np\n",
    "import lightgbm as lgb\n",
    "import matplotlib.pyplot as plt\n",
    "import time\n",
    "import xgboost as xgb\n",
    "import seaborn as sns\n",
    "\n",
    "\n",
    "from sklearn import preprocessing\n",
    "from catboost import CatBoostRegressor, Pool\n",
    "from sklearn.model_selection import train_test_split\n",
    "from sklearn.metrics import mean_squared_error\n",
    "from sklearn.model_selection import train_test_split,GridSearchCV,StratifiedKFold,RandomizedSearchCV\n",
    "from sklearn.tree import DecisionTreeClassifier,DecisionTreeRegressor\n",
    "from sklearn.linear_model import LogisticRegression,LogisticRegressionCV,LinearRegression,Ridge,RidgeCV,LassoCV,Ridge,Lasso\n",
    "from sklearn.dummy import DummyClassifier\n",
    "from sklearn.ensemble import RandomForestRegressor,RandomForestClassifier,GradientBoostingClassifier,GradientBoostingRegressor\n",
    "from sklearn.metrics import accuracy_score,classification_report, confusion_matrix,r2_score,roc_curve,f1_score,\\\n",
    "mean_squared_error,roc_auc_score,recall_score,precision_score,make_scorer,precision_recall_curve\n",
    "from lightgbm import LGBMRegressor\n",
    "from sklearn.preprocessing import OrdinalEncoder\n",
    "from sklearn.preprocessing import OneHotEncoder\n",
    "from sklearn.preprocessing import StandardScaler\n",
    "from sklearn.model_selection import cross_val_score\n",
    "from sklearn.pipeline import Pipeline\n",
    "\n",
    "import warnings\n",
    "warnings.filterwarnings('ignore')\n"
   ]
  },
  {
   "cell_type": "code",
   "execution_count": 2,
   "metadata": {},
   "outputs": [],
   "source": [
    "data = pd.read_csv('/datasets/autos.csv')"
   ]
  },
  {
   "cell_type": "code",
   "execution_count": 3,
   "metadata": {},
   "outputs": [],
   "source": [
    "def data_inform(data):\n",
    "    print(80*\"░\")\n",
    "    data.info()\n",
    "    print(80*\"░\")\n",
    "    print('Описание переменных:')\n",
    "    print(data.describe())\n",
    "    print(80*\"░\")\n",
    "    print(f'Кол-во дубликатов: {data.duplicated().sum()}')"
   ]
  },
  {
   "cell_type": "code",
   "execution_count": 4,
   "metadata": {
    "scrolled": false
   },
   "outputs": [
    {
     "name": "stdout",
     "output_type": "stream",
     "text": [
      "░░░░░░░░░░░░░░░░░░░░░░░░░░░░░░░░░░░░░░░░░░░░░░░░░░░░░░░░░░░░░░░░░░░░░░░░░░░░░░░░\n",
      "<class 'pandas.core.frame.DataFrame'>\n",
      "RangeIndex: 354369 entries, 0 to 354368\n",
      "Data columns (total 16 columns):\n",
      " #   Column             Non-Null Count   Dtype \n",
      "---  ------             --------------   ----- \n",
      " 0   DateCrawled        354369 non-null  object\n",
      " 1   Price              354369 non-null  int64 \n",
      " 2   VehicleType        316879 non-null  object\n",
      " 3   RegistrationYear   354369 non-null  int64 \n",
      " 4   Gearbox            334536 non-null  object\n",
      " 5   Power              354369 non-null  int64 \n",
      " 6   Model              334664 non-null  object\n",
      " 7   Kilometer          354369 non-null  int64 \n",
      " 8   RegistrationMonth  354369 non-null  int64 \n",
      " 9   FuelType           321474 non-null  object\n",
      " 10  Brand              354369 non-null  object\n",
      " 11  NotRepaired        283215 non-null  object\n",
      " 12  DateCreated        354369 non-null  object\n",
      " 13  NumberOfPictures   354369 non-null  int64 \n",
      " 14  PostalCode         354369 non-null  int64 \n",
      " 15  LastSeen           354369 non-null  object\n",
      "dtypes: int64(7), object(9)\n",
      "memory usage: 43.3+ MB\n",
      "░░░░░░░░░░░░░░░░░░░░░░░░░░░░░░░░░░░░░░░░░░░░░░░░░░░░░░░░░░░░░░░░░░░░░░░░░░░░░░░░\n",
      "Описание переменных:\n",
      "               Price  RegistrationYear          Power      Kilometer  \\\n",
      "count  354369.000000     354369.000000  354369.000000  354369.000000   \n",
      "mean     4416.656776       2004.234448     110.094337  128211.172535   \n",
      "std      4514.158514         90.227958     189.850405   37905.341530   \n",
      "min         0.000000       1000.000000       0.000000    5000.000000   \n",
      "25%      1050.000000       1999.000000      69.000000  125000.000000   \n",
      "50%      2700.000000       2003.000000     105.000000  150000.000000   \n",
      "75%      6400.000000       2008.000000     143.000000  150000.000000   \n",
      "max     20000.000000       9999.000000   20000.000000  150000.000000   \n",
      "\n",
      "       RegistrationMonth  NumberOfPictures     PostalCode  \n",
      "count      354369.000000          354369.0  354369.000000  \n",
      "mean            5.714645               0.0   50508.689087  \n",
      "std             3.726421               0.0   25783.096248  \n",
      "min             0.000000               0.0    1067.000000  \n",
      "25%             3.000000               0.0   30165.000000  \n",
      "50%             6.000000               0.0   49413.000000  \n",
      "75%             9.000000               0.0   71083.000000  \n",
      "max            12.000000               0.0   99998.000000  \n",
      "░░░░░░░░░░░░░░░░░░░░░░░░░░░░░░░░░░░░░░░░░░░░░░░░░░░░░░░░░░░░░░░░░░░░░░░░░░░░░░░░\n",
      "Кол-во дубликатов: 4\n"
     ]
    }
   ],
   "source": [
    "data_inform(data)"
   ]
  },
  {
   "cell_type": "code",
   "execution_count": 5,
   "metadata": {
    "scrolled": true
   },
   "outputs": [
    {
     "data": {
      "text/html": [
       "<div>\n",
       "<style scoped>\n",
       "    .dataframe tbody tr th:only-of-type {\n",
       "        vertical-align: middle;\n",
       "    }\n",
       "\n",
       "    .dataframe tbody tr th {\n",
       "        vertical-align: top;\n",
       "    }\n",
       "\n",
       "    .dataframe thead th {\n",
       "        text-align: right;\n",
       "    }\n",
       "</style>\n",
       "<table border=\"1\" class=\"dataframe\">\n",
       "  <thead>\n",
       "    <tr style=\"text-align: right;\">\n",
       "      <th></th>\n",
       "      <th>DateCrawled</th>\n",
       "      <th>Price</th>\n",
       "      <th>VehicleType</th>\n",
       "      <th>RegistrationYear</th>\n",
       "      <th>Gearbox</th>\n",
       "      <th>Power</th>\n",
       "      <th>Model</th>\n",
       "      <th>Kilometer</th>\n",
       "      <th>RegistrationMonth</th>\n",
       "      <th>FuelType</th>\n",
       "      <th>Brand</th>\n",
       "      <th>NotRepaired</th>\n",
       "      <th>DateCreated</th>\n",
       "      <th>NumberOfPictures</th>\n",
       "      <th>PostalCode</th>\n",
       "      <th>LastSeen</th>\n",
       "    </tr>\n",
       "  </thead>\n",
       "  <tbody>\n",
       "    <tr>\n",
       "      <th>0</th>\n",
       "      <td>2016-03-24 11:52:17</td>\n",
       "      <td>480</td>\n",
       "      <td>NaN</td>\n",
       "      <td>1993</td>\n",
       "      <td>manual</td>\n",
       "      <td>0</td>\n",
       "      <td>golf</td>\n",
       "      <td>150000</td>\n",
       "      <td>0</td>\n",
       "      <td>petrol</td>\n",
       "      <td>volkswagen</td>\n",
       "      <td>NaN</td>\n",
       "      <td>2016-03-24 00:00:00</td>\n",
       "      <td>0</td>\n",
       "      <td>70435</td>\n",
       "      <td>2016-04-07 03:16:57</td>\n",
       "    </tr>\n",
       "    <tr>\n",
       "      <th>1</th>\n",
       "      <td>2016-03-24 10:58:45</td>\n",
       "      <td>18300</td>\n",
       "      <td>coupe</td>\n",
       "      <td>2011</td>\n",
       "      <td>manual</td>\n",
       "      <td>190</td>\n",
       "      <td>NaN</td>\n",
       "      <td>125000</td>\n",
       "      <td>5</td>\n",
       "      <td>gasoline</td>\n",
       "      <td>audi</td>\n",
       "      <td>yes</td>\n",
       "      <td>2016-03-24 00:00:00</td>\n",
       "      <td>0</td>\n",
       "      <td>66954</td>\n",
       "      <td>2016-04-07 01:46:50</td>\n",
       "    </tr>\n",
       "    <tr>\n",
       "      <th>2</th>\n",
       "      <td>2016-03-14 12:52:21</td>\n",
       "      <td>9800</td>\n",
       "      <td>suv</td>\n",
       "      <td>2004</td>\n",
       "      <td>auto</td>\n",
       "      <td>163</td>\n",
       "      <td>grand</td>\n",
       "      <td>125000</td>\n",
       "      <td>8</td>\n",
       "      <td>gasoline</td>\n",
       "      <td>jeep</td>\n",
       "      <td>NaN</td>\n",
       "      <td>2016-03-14 00:00:00</td>\n",
       "      <td>0</td>\n",
       "      <td>90480</td>\n",
       "      <td>2016-04-05 12:47:46</td>\n",
       "    </tr>\n",
       "    <tr>\n",
       "      <th>3</th>\n",
       "      <td>2016-03-17 16:54:04</td>\n",
       "      <td>1500</td>\n",
       "      <td>small</td>\n",
       "      <td>2001</td>\n",
       "      <td>manual</td>\n",
       "      <td>75</td>\n",
       "      <td>golf</td>\n",
       "      <td>150000</td>\n",
       "      <td>6</td>\n",
       "      <td>petrol</td>\n",
       "      <td>volkswagen</td>\n",
       "      <td>no</td>\n",
       "      <td>2016-03-17 00:00:00</td>\n",
       "      <td>0</td>\n",
       "      <td>91074</td>\n",
       "      <td>2016-03-17 17:40:17</td>\n",
       "    </tr>\n",
       "    <tr>\n",
       "      <th>4</th>\n",
       "      <td>2016-03-31 17:25:20</td>\n",
       "      <td>3600</td>\n",
       "      <td>small</td>\n",
       "      <td>2008</td>\n",
       "      <td>manual</td>\n",
       "      <td>69</td>\n",
       "      <td>fabia</td>\n",
       "      <td>90000</td>\n",
       "      <td>7</td>\n",
       "      <td>gasoline</td>\n",
       "      <td>skoda</td>\n",
       "      <td>no</td>\n",
       "      <td>2016-03-31 00:00:00</td>\n",
       "      <td>0</td>\n",
       "      <td>60437</td>\n",
       "      <td>2016-04-06 10:17:21</td>\n",
       "    </tr>\n",
       "  </tbody>\n",
       "</table>\n",
       "</div>"
      ],
      "text/plain": [
       "           DateCrawled  Price VehicleType  RegistrationYear Gearbox  Power  \\\n",
       "0  2016-03-24 11:52:17    480         NaN              1993  manual      0   \n",
       "1  2016-03-24 10:58:45  18300       coupe              2011  manual    190   \n",
       "2  2016-03-14 12:52:21   9800         suv              2004    auto    163   \n",
       "3  2016-03-17 16:54:04   1500       small              2001  manual     75   \n",
       "4  2016-03-31 17:25:20   3600       small              2008  manual     69   \n",
       "\n",
       "   Model  Kilometer  RegistrationMonth  FuelType       Brand NotRepaired  \\\n",
       "0   golf     150000                  0    petrol  volkswagen         NaN   \n",
       "1    NaN     125000                  5  gasoline        audi         yes   \n",
       "2  grand     125000                  8  gasoline        jeep         NaN   \n",
       "3   golf     150000                  6    petrol  volkswagen          no   \n",
       "4  fabia      90000                  7  gasoline       skoda          no   \n",
       "\n",
       "           DateCreated  NumberOfPictures  PostalCode             LastSeen  \n",
       "0  2016-03-24 00:00:00                 0       70435  2016-04-07 03:16:57  \n",
       "1  2016-03-24 00:00:00                 0       66954  2016-04-07 01:46:50  \n",
       "2  2016-03-14 00:00:00                 0       90480  2016-04-05 12:47:46  \n",
       "3  2016-03-17 00:00:00                 0       91074  2016-03-17 17:40:17  \n",
       "4  2016-03-31 00:00:00                 0       60437  2016-04-06 10:17:21  "
      ]
     },
     "execution_count": 5,
     "metadata": {},
     "output_type": "execute_result"
    }
   ],
   "source": [
    "data.head()"
   ]
  },
  {
   "cell_type": "markdown",
   "metadata": {},
   "source": [
    "В данных много пропусков. Если полностью удалить объекты с пропусками, которые нельзя восстановить на основе других параметров, т.к. они категориальные, возможно, потеряем существенную часть информации. Поэтому заполним пропущенные значения нулями. "
   ]
  },
  {
   "cell_type": "code",
   "execution_count": 6,
   "metadata": {},
   "outputs": [],
   "source": [
    "data[\"VehicleType\"] = data[\"VehicleType\"].fillna(data[\"VehicleType\"].mode().values[0])\n",
    "data[\"Gearbox\"] = data[\"Gearbox\"].fillna(data[\"Gearbox\"].mode().values[0])\n",
    "data[\"Model\"] = data[\"Model\"].fillna(data[\"Model\"].mode().values[0])\n",
    "data[\"FuelType\"] = data[\"FuelType\"].fillna(data[\"FuelType\"].mode().values[0])\n",
    "\n",
    "data[\"NotRepaired\"] = data[\"NotRepaired\"].fillna(\"no\")"
   ]
  },
  {
   "cell_type": "code",
   "execution_count": 7,
   "metadata": {},
   "outputs": [
    {
     "data": {
      "text/plain": [
       "5"
      ]
     },
     "execution_count": 7,
     "metadata": {},
     "output_type": "execute_result"
    }
   ],
   "source": [
    "data.duplicated().sum()"
   ]
  },
  {
   "cell_type": "code",
   "execution_count": 8,
   "metadata": {},
   "outputs": [
    {
     "data": {
      "text/plain": [
       "0"
      ]
     },
     "execution_count": 8,
     "metadata": {},
     "output_type": "execute_result"
    }
   ],
   "source": [
    "data = data.drop_duplicates()\n",
    "data.duplicated().sum()"
   ]
  },
  {
   "cell_type": "code",
   "execution_count": 9,
   "metadata": {},
   "outputs": [],
   "source": [
    "#Избавимся от ненужных столбцов \n",
    "data = data.drop([\"DateCrawled\",\"DateCreated\",\"LastSeen\",\"NumberOfPictures\",\"PostalCode\"],axis = 1)"
   ]
  },
  {
   "cell_type": "code",
   "execution_count": 10,
   "metadata": {},
   "outputs": [],
   "source": [
    "#Установим реалистичные границы Year\n",
    "def year_norm(value):\n",
    "    if value > 2016:\n",
    "        return 2016\n",
    "    elif value < 1930:\n",
    "        return 1930\n",
    "    else:\n",
    "        return value\n",
    "data['RegistrationYear'] = data['RegistrationYear'].apply(year_norm)\n",
    "\n",
    "#Установим реалистичные границы RegistrationMonth\n",
    "data.loc[data['RegistrationMonth'] == 0, 'RegistrationMonth'] = 1\n",
    "\n",
    "#Установим реалистичные границы Power\n",
    "data.loc[data['Power'] > 3500, 'Power'] = 3500"
   ]
  },
  {
   "cell_type": "code",
   "execution_count": 11,
   "metadata": {},
   "outputs": [],
   "source": [
    "#Избавимся от выбросов\n",
    "def sieve (data, column):\n",
    "    q25 = np.array(data[column].quantile(0.25))\n",
    "    q75 = np.array(data[column].quantile(0.75))\n",
    "    first_part = q25-1.5*(q75-q25)\n",
    "    second_part = q75+1.5*(q75-q25)\n",
    "    del_index = []\n",
    "    \n",
    "    for index_value, value in zip(data[column].index, data[column]):\n",
    "        if second_part <= value or value <= first_part:\n",
    "            del_index.append(index_value)\n",
    "    \n",
    "    print('Cтрок для удаления ' + str(column)+\":\", len(del_index))\n",
    "    return del_index"
   ]
  },
  {
   "cell_type": "code",
   "execution_count": 12,
   "metadata": {},
   "outputs": [
    {
     "name": "stdout",
     "output_type": "stream",
     "text": [
      "Cтрок для удаления Price: 18979\n",
      "Cтрок для удаления Power: 7367\n",
      "Удалено: 26346\n"
     ]
    }
   ],
   "source": [
    "array_col = [\"Price\",\"Power\"]\n",
    "count = 0 \n",
    "for column in array_col:\n",
    "    index_del = sieve(data, column)\n",
    "    count += len(index_del)\n",
    "    frame = data.drop(index_del, axis = 0)\n",
    "print(\"Удалено:\", count)"
   ]
  },
  {
   "cell_type": "code",
   "execution_count": 13,
   "metadata": {
    "scrolled": true
   },
   "outputs": [],
   "source": [
    "corr = data.corr()"
   ]
  },
  {
   "cell_type": "markdown",
   "metadata": {},
   "source": [
    "Проведена работа с данными. Очистил от выбросов, удалил дубликаты, поставил разумные границы для 'RegistrationYear', 'RegistrationMonth', 'Power'. В таблице появилось множество дубликатов, но это простое совпадение данных, т.к. были изменены значения почти в четверти данных и приведены к разумным границам."
   ]
  },
  {
   "cell_type": "markdown",
   "metadata": {},
   "source": [
    "Проведем более детальную проверку на выявление выбросов"
   ]
  },
  {
   "cell_type": "code",
   "execution_count": 14,
   "metadata": {},
   "outputs": [
    {
     "data": {
      "text/plain": [
       "<AxesSubplot:>"
      ]
     },
     "execution_count": 14,
     "metadata": {},
     "output_type": "execute_result"
    },
    {
     "data": {
      "image/png": "[encoded data removed]",
      "text/plain": [
       "<Figure size 432x288 with 2 Axes>"
      ]
     },
     "metadata": {
      "needs_background": "light"
     },
     "output_type": "display_data"
    }
   ],
   "source": [
    "sns.heatmap(corr)"
   ]
  },
  {
   "cell_type": "code",
   "execution_count": 15,
   "metadata": {},
   "outputs": [],
   "source": [
    "new_df = data[['VehicleType', \n",
    "                         'Gearbox', \n",
    "                         'Power',\n",
    "                         'Kilometer',\n",
    "                         'FuelType',\n",
    "                         'Brand',\n",
    "                         'NotRepaired',\n",
    "                         'RegistrationYear',\n",
    "                         'Model',\n",
    "                         'Price']]"
   ]
  },
  {
   "cell_type": "code",
   "execution_count": 16,
   "metadata": {},
   "outputs": [
    {
     "name": "stdout",
     "output_type": "stream",
     "text": [
      "<class 'pandas.core.frame.DataFrame'>\n",
      "Int64Index: 354364 entries, 0 to 354368\n",
      "Data columns (total 10 columns):\n",
      " #   Column            Non-Null Count   Dtype \n",
      "---  ------            --------------   ----- \n",
      " 0   VehicleType       354364 non-null  object\n",
      " 1   Gearbox           354364 non-null  object\n",
      " 2   Power             354364 non-null  int64 \n",
      " 3   Kilometer         354364 non-null  int64 \n",
      " 4   FuelType          354364 non-null  object\n",
      " 5   Brand             354364 non-null  object\n",
      " 6   NotRepaired       354364 non-null  object\n",
      " 7   RegistrationYear  354364 non-null  int64 \n",
      " 8   Model             354364 non-null  object\n",
      " 9   Price             354364 non-null  int64 \n",
      "dtypes: int64(4), object(6)\n",
      "memory usage: 37.8+ MB\n"
     ]
    }
   ],
   "source": [
    "new_df.info()"
   ]
  },
  {
   "cell_type": "code",
   "execution_count": 17,
   "metadata": {},
   "outputs": [],
   "source": [
    "# функция для вызова проверки квантилей и графика по столбцам\n",
    "def check_columns(columns):\n",
    "    columns.hist(bins=100, figsize=(12,10))\n",
    "    display(columns.describe())"
   ]
  },
  {
   "cell_type": "code",
   "execution_count": 18,
   "metadata": {
    "scrolled": true
   },
   "outputs": [
    {
     "data": {
      "text/plain": [
       "0        10772\n",
       "500       5670\n",
       "1500      5394\n",
       "1000      4648\n",
       "1200      4594\n",
       "         ...  \n",
       "13180        1\n",
       "10879        1\n",
       "2683         1\n",
       "634          1\n",
       "8188         1\n",
       "Name: Price, Length: 3731, dtype: int64"
      ]
     },
     "execution_count": 18,
     "metadata": {},
     "output_type": "execute_result"
    }
   ],
   "source": [
    "#распределение целевого признака Price\n",
    "new_df['Price'].value_counts()"
   ]
  },
  {
   "cell_type": "markdown",
   "metadata": {},
   "source": [
    "Более 10000 автомобилей отдаются бесплатно, избавимся от этих данных."
   ]
  },
  {
   "cell_type": "code",
   "execution_count": 19,
   "metadata": {
    "scrolled": false
   },
   "outputs": [
    {
     "data": {
      "text/plain": [
       "count    343592.000000\n",
       "mean       4555.122785\n",
       "std        4515.059785\n",
       "min           1.000000\n",
       "25%        1200.000000\n",
       "50%        2890.000000\n",
       "75%        6500.000000\n",
       "max       20000.000000\n",
       "Name: Price, dtype: float64"
      ]
     },
     "metadata": {},
     "output_type": "display_data"
    },
    {
     "data": {
      "image/png": "[encoded data removed]",
      "text/plain": [
       "<Figure size 864x720 with 1 Axes>"
      ]
     },
     "metadata": {
      "needs_background": "light"
     },
     "output_type": "display_data"
    }
   ],
   "source": [
    "new_df = new_df.query('Price > 0')\n",
    "check_columns(new_df['Price'])"
   ]
  },
  {
   "cell_type": "code",
   "execution_count": 20,
   "metadata": {},
   "outputs": [
    {
     "data": {
      "image/png": "[encoded data removed]",
      "text/plain": [
       "<Figure size 864x432 with 2 Axes>"
      ]
     },
     "metadata": {
      "needs_background": "light"
     },
     "output_type": "display_data"
    }
   ],
   "source": [
    "fig, axes = plt.subplots(1, 2, figsize=(12, 6))\n",
    "\n",
    "axes[0].set_title('Price')\n",
    "sns.boxplot(y = 'Price', data=new_df, ax = axes[0])\n",
    "axes[0].set_xlabel('Количество')\n",
    "     \n",
    "axes[1].set_title('Price')\n",
    "sns.distplot(new_df['Price'], kde=False, bins=50, ax = axes[1])\n",
    "axes[1].set_ylabel('Количество')\n",
    "            \n",
    "plt.show()"
   ]
  },
  {
   "cell_type": "code",
   "execution_count": 21,
   "metadata": {},
   "outputs": [
    {
     "name": "stdout",
     "output_type": "stream",
     "text": [
      "<class 'pandas.core.frame.DataFrame'>\n",
      "Int64Index: 309116 entries, 0 to 354368\n",
      "Data columns (total 10 columns):\n",
      " #   Column            Non-Null Count   Dtype \n",
      "---  ------            --------------   ----- \n",
      " 0   VehicleType       309116 non-null  object\n",
      " 1   Gearbox           309116 non-null  object\n",
      " 2   Power             309116 non-null  int64 \n",
      " 3   Kilometer         309116 non-null  int64 \n",
      " 4   FuelType          309116 non-null  object\n",
      " 5   Brand             309116 non-null  object\n",
      " 6   NotRepaired       309116 non-null  object\n",
      " 7   RegistrationYear  309116 non-null  int64 \n",
      " 8   Model             309116 non-null  object\n",
      " 9   Price             309116 non-null  int64 \n",
      "dtypes: int64(4), object(6)\n",
      "memory usage: 25.9+ MB\n"
     ]
    }
   ],
   "source": [
    "new_df = new_df.query('350 <= Price <= 14450')\n",
    "new_df.info()"
   ]
  },
  {
   "cell_type": "code",
   "execution_count": 22,
   "metadata": {},
   "outputs": [
    {
     "data": {
      "text/plain": [
       "count    309116.000000\n",
       "mean        107.767003\n",
       "std          88.828385\n",
       "min           0.000000\n",
       "25%          71.000000\n",
       "50%         105.000000\n",
       "75%         140.000000\n",
       "max        3500.000000\n",
       "Name: Power, dtype: float64"
      ]
     },
     "metadata": {},
     "output_type": "display_data"
    },
    {
     "data": {
      "image/png": "[encoded data removed]",
      "text/plain": [
       "<Figure size 864x720 with 1 Axes>"
      ]
     },
     "metadata": {
      "needs_background": "light"
     },
     "output_type": "display_data"
    }
   ],
   "source": [
    "check_columns(new_df['Power'])"
   ]
  },
  {
   "cell_type": "code",
   "execution_count": 23,
   "metadata": {
    "scrolled": true
   },
   "outputs": [
    {
     "data": {
      "image/png": "[encoded data removed]",
      "text/plain": [
       "<Figure size 432x288 with 1 Axes>"
      ]
     },
     "metadata": {
      "needs_background": "light"
     },
     "output_type": "display_data"
    }
   ],
   "source": [
    "new_df.boxplot(column='Power')\n",
    "plt.show()"
   ]
  },
  {
   "cell_type": "code",
   "execution_count": 24,
   "metadata": {
    "scrolled": false
   },
   "outputs": [
    {
     "data": {
      "text/plain": [
       "count    278325.000000\n",
       "mean        117.662280\n",
       "std          51.180725\n",
       "min           1.000000\n",
       "25%          75.000000\n",
       "50%         109.000000\n",
       "75%         143.000000\n",
       "max        1000.000000\n",
       "Name: Power, dtype: float64"
      ]
     },
     "metadata": {},
     "output_type": "display_data"
    },
    {
     "data": {
      "image/png": "[encoded data removed]",
      "text/plain": [
       "<Figure size 864x720 with 1 Axes>"
      ]
     },
     "metadata": {
      "needs_background": "light"
     },
     "output_type": "display_data"
    }
   ],
   "source": [
    "#Посмотрим как изменится информативность графика, если отсечь выбросы\n",
    "new_df = new_df.query('0 < Power < 1001')\n",
    "check_columns(new_df['Power'])"
   ]
  },
  {
   "cell_type": "code",
   "execution_count": 25,
   "metadata": {},
   "outputs": [
    {
     "data": {
      "image/png": "[encoded data removed]",
      "text/plain": [
       "<Figure size 432x288 with 1 Axes>"
      ]
     },
     "metadata": {
      "needs_background": "light"
     },
     "output_type": "display_data"
    }
   ],
   "source": [
    "new_df.boxplot(column='Power')\n",
    "plt.show()"
   ]
  },
  {
   "cell_type": "markdown",
   "metadata": {},
   "source": [
    "В основном, остались автомобили с мощностью до 250 л.с. Избавлюсь от выбросов"
   ]
  },
  {
   "cell_type": "code",
   "execution_count": 26,
   "metadata": {},
   "outputs": [
    {
     "data": {
      "text/plain": [
       "count    273192.000000\n",
       "mean        114.596310\n",
       "std          43.989627\n",
       "min          26.000000\n",
       "25%          75.000000\n",
       "50%         109.000000\n",
       "75%         143.000000\n",
       "max         250.000000\n",
       "Name: Power, dtype: float64"
      ]
     },
     "metadata": {},
     "output_type": "display_data"
    },
    {
     "data": {
      "image/png": "[encoded data removed]",
      "text/plain": [
       "<Figure size 864x720 with 1 Axes>"
      ]
     },
     "metadata": {
      "needs_background": "light"
     },
     "output_type": "display_data"
    }
   ],
   "source": [
    "new_df = new_df.query('25 < Power <= 250')\n",
    "check_columns(new_df['Power'])"
   ]
  },
  {
   "cell_type": "code",
   "execution_count": 27,
   "metadata": {},
   "outputs": [
    {
     "data": {
      "text/plain": [
       "count    273192.000000\n",
       "mean       2003.086672\n",
       "std           6.580090\n",
       "min        1930.000000\n",
       "25%        1999.000000\n",
       "50%        2003.000000\n",
       "75%        2007.000000\n",
       "max        2016.000000\n",
       "Name: RegistrationYear, dtype: float64"
      ]
     },
     "metadata": {},
     "output_type": "display_data"
    },
    {
     "data": {
      "image/png": "[encoded data removed]",
      "text/plain": [
       "<Figure size 864x720 with 1 Axes>"
      ]
     },
     "metadata": {
      "needs_background": "light"
     },
     "output_type": "display_data"
    }
   ],
   "source": [
    "check_columns(new_df['RegistrationYear'])"
   ]
  },
  {
   "cell_type": "markdown",
   "metadata": {},
   "source": [
    "Предыдущая обработка внесла уже достаточные изменения в данные для их корректности."
   ]
  },
  {
   "cell_type": "code",
   "execution_count": 28,
   "metadata": {},
   "outputs": [
    {
     "data": {
      "text/plain": [
       "count    273192.000000\n",
       "mean     130408.503909\n",
       "std       34795.778261\n",
       "min        5000.000000\n",
       "25%      125000.000000\n",
       "50%      150000.000000\n",
       "75%      150000.000000\n",
       "max      150000.000000\n",
       "Name: Kilometer, dtype: float64"
      ]
     },
     "metadata": {},
     "output_type": "display_data"
    },
    {
     "data": {
      "image/png": "[encoded data removed]",
      "text/plain": [
       "<Figure size 864x720 with 1 Axes>"
      ]
     },
     "metadata": {
      "needs_background": "light"
     },
     "output_type": "display_data"
    }
   ],
   "source": [
    "check_columns(new_df['Kilometer'])"
   ]
  },
  {
   "cell_type": "markdown",
   "metadata": {},
   "source": [
    "Т.к. уникальных значений мало, и максимальный пробег 150тыс. км., можно предположить, что у сайта не было возможности предоставить составителю анкеты точно указывать пробег. И все авто с пробегом больше 150тыс км, указывались как 150тыс+"
   ]
  },
  {
   "cell_type": "code",
   "execution_count": 29,
   "metadata": {},
   "outputs": [
    {
     "data": {
      "text/plain": [
       "1    225467\n",
       "0     47725\n",
       "Name: IsManualGearbox, dtype: int64"
      ]
     },
     "metadata": {},
     "output_type": "display_data"
    },
    {
     "data": {
      "text/plain": [
       "manual    225467\n",
       "auto       47725\n",
       "Name: Gearbox, dtype: int64"
      ]
     },
     "execution_count": 29,
     "metadata": {},
     "output_type": "execute_result"
    }
   ],
   "source": [
    "new_df['IsManualGearbox'] = 0\n",
    "new_df.loc[new_df['Gearbox'] == 'manual', 'IsManualGearbox'] = 1\n",
    "display(new_df['IsManualGearbox'].value_counts())\n",
    "new_df['Gearbox'].value_counts()"
   ]
  },
  {
   "cell_type": "code",
   "execution_count": 30,
   "metadata": {},
   "outputs": [
    {
     "data": {
      "text/plain": [
       "0    248087\n",
       "1     25105\n",
       "Name: IsNotRepaired, dtype: int64"
      ]
     },
     "metadata": {},
     "output_type": "display_data"
    },
    {
     "data": {
      "text/plain": [
       "no     248087\n",
       "yes     25105\n",
       "Name: NotRepaired, dtype: int64"
      ]
     },
     "execution_count": 30,
     "metadata": {},
     "output_type": "execute_result"
    }
   ],
   "source": [
    "new_df['IsNotRepaired'] = 0\n",
    "new_df.loc[new_df['NotRepaired'] == 'yes', 'IsNotRepaired'] = 1\n",
    "display(new_df['IsNotRepaired'].value_counts())\n",
    "new_df['NotRepaired'].value_counts()"
   ]
  },
  {
   "cell_type": "code",
   "execution_count": 31,
   "metadata": {},
   "outputs": [
    {
     "name": "stdout",
     "output_type": "stream",
     "text": [
      "<class 'pandas.core.frame.DataFrame'>\n",
      "Int64Index: 273192 entries, 2 to 354368\n",
      "Data columns (total 10 columns):\n",
      " #   Column            Non-Null Count   Dtype \n",
      "---  ------            --------------   ----- \n",
      " 0   VehicleType       273192 non-null  object\n",
      " 1   Power             273192 non-null  int16 \n",
      " 2   Kilometer         273192 non-null  int32 \n",
      " 3   FuelType          273192 non-null  object\n",
      " 4   Brand             273192 non-null  object\n",
      " 5   RegistrationYear  273192 non-null  int16 \n",
      " 6   Model             273192 non-null  object\n",
      " 7   Price             273192 non-null  int16 \n",
      " 8   IsManualGearbox   273192 non-null  int8  \n",
      " 9   IsNotRepaired     273192 non-null  int8  \n",
      "dtypes: int16(3), int32(1), int8(2), object(4)\n",
      "memory usage: 13.5+ MB\n"
     ]
    },
    {
     "data": {
      "text/plain": [
       "(273192, 10)"
      ]
     },
     "metadata": {},
     "output_type": "display_data"
    }
   ],
   "source": [
    "#Изменим размерность хранения типа данных для ускорения\n",
    "new_df.drop(['NotRepaired','Gearbox'], inplace=True, axis=1)\n",
    "new_df['IsNotRepaired'] = pd.to_numeric(new_df['IsNotRepaired'], downcast='integer')\n",
    "new_df['IsManualGearbox'] = pd.to_numeric(new_df['IsManualGearbox'], downcast='integer')\n",
    "new_df['RegistrationYear'] = pd.to_numeric(new_df['RegistrationYear'], downcast='integer')\n",
    "new_df['Power'] = pd.to_numeric(new_df['Power'], downcast='integer')\n",
    "new_df['Kilometer'] = pd.to_numeric(new_df['Kilometer'], downcast='integer')\n",
    "new_df['Price'] = pd.to_numeric(new_df['Price'], downcast='integer')\n",
    "new_df.info()\n",
    "display(new_df.shape)"
   ]
  },
  {
   "cell_type": "markdown",
   "metadata": {},
   "source": [
    "## Обучение моделей"
   ]
  },
  {
   "cell_type": "code",
   "execution_count": 32,
   "metadata": {},
   "outputs": [],
   "source": [
    "# неизмененные признаки\n",
    "original_features = new_df.drop('Price', axis=1)\n",
    "\n",
    "# целевой признак\n",
    "target = new_df['Price']"
   ]
  },
  {
   "cell_type": "code",
   "execution_count": 33,
   "metadata": {},
   "outputs": [],
   "source": [
    "# cat_columns = ['VehicleType','FuelType','Brand','Model']\n",
    "# num_columns = new_df.drop(['VehicleType','FuelType','Brand','Model'], axis=1)\n",
    "\n",
    "# #Прямое кодирование\n",
    "# encoder = OrdinalEncoder()\n",
    "\n",
    "# cat_features = original_features[cat_columns]\n",
    "# cat_features = pd.DataFrame(encoder.fit_transform(cat_features),\n",
    "#                                 columns=cat_features.columns, \n",
    "#                                 index=cat_features.index)\n",
    "# ordinal_features = original_features.copy()\n",
    "# for column in cat_columns:\n",
    "#     ordinal_features[column] = cat_features[column]\n",
    "    \n",
    "\n",
    "# #OHE кодирование\n",
    "# ohe_features = pd.get_dummies(original_features, drop_first=True)\n",
    "\n",
    "# original_features_train, original_features_test, target_train, target_test = train_test_split(\n",
    "#     original_features, target, test_size=0.25, random_state=12345)\n",
    "\n",
    "# ordinal_features_train = ordinal_features.loc[original_features_train.index, :]\n",
    "# ordinal_features_test = ordinal_features.loc[original_features_test.index, :]\n",
    "\n",
    "# ohe_features_train = ohe_features.loc[original_features_train.index, :]\n",
    "# ohe_features_test = ohe_features.loc[original_features_test.index, :]\n"
   ]
  },
  {
   "cell_type": "code",
   "execution_count": 34,
   "metadata": {},
   "outputs": [],
   "source": [
    "features_train, features_test, target_train, target_test = train_test_split(\n",
    "    original_features, target, test_size=0.25, random_state=12345\n",
    ")\n",
    "\n",
    "cat_columns = ['VehicleType', 'Model', 'FuelType', 'Brand']\n",
    "num_columns = ['RegistrationYear', 'Power', 'Kilometer']\n",
    "\n",
    "encoder = OneHotEncoder(handle_unknown='ignore')\n",
    "\n",
    "ohe_features_train = pd.DataFrame(\n",
    "    encoder.fit_transform(features_train[cat_columns]).toarray(),\n",
    "    columns=encoder.get_feature_names(),\n",
    "    index=features_train.index\n",
    ")\n",
    "\n",
    "ohe_features_test = pd.DataFrame(\n",
    "    encoder.fit_transform(features_test[cat_columns]).toarray(),\n",
    "    columns=encoder.get_feature_names(),\n",
    "    index=features_test.index\n",
    ")\n",
    "\n",
    "scaler = StandardScaler(with_mean=False)\n",
    "\n",
    "features_train_numeric = pd.DataFrame(\n",
    "    scaler.fit_transform(features_train[num_columns]), \n",
    "    columns=num_columns,\n",
    "    index=features_train.index\n",
    ")\n",
    "\n",
    "features_test_numeric = pd.DataFrame(\n",
    "    scaler.fit_transform(features_test[num_columns]), \n",
    "    columns=num_columns,\n",
    "    index=features_test.index\n",
    ")\n",
    "\n",
    "ohe_features_train= ohe_features_train.join(features_train_numeric)\n",
    "ohe_features_test= ohe_features_test.join(features_test_numeric)\n",
    "\n",
    "encoder_ord = OrdinalEncoder(handle_unknown='use_encoded_value', unknown_value=np.nan)\n",
    "\n",
    "features_train_ord = features_train.copy()\n",
    "features_train_ord[cat_columns] = encoder_ord.fit_transform(features_train[cat_columns])\n",
    "features_train_ord = features_train_ord.dropna()\n",
    "target_train_ord = target_train.copy()\n",
    "\n",
    "features_test_ord = features_test.copy()\n",
    "features_test_ord[cat_columns] = encoder_ord.transform(features_test[cat_columns])\n",
    "features_test_ord = features_test_ord.dropna()\n",
    "target_test_ord = target_test[features_test_ord.index]"
   ]
  },
  {
   "cell_type": "code",
   "execution_count": 36,
   "metadata": {},
   "outputs": [
    {
     "name": "stdout",
     "output_type": "stream",
     "text": [
      "# Обучение для neg_root_mean_squared_error\n",
      "\n",
      "Mean RMSE from CV of LinearRegression = 2367.7156346977386\n",
      "Время обучения модели: 0.9705991744995117\n"
     ]
    }
   ],
   "source": [
    "start = time.time()\n",
    "\n",
    "regressor_lr_m = LinearRegression()\n",
    "scaller = StandardScaler()\n",
    "pipeline = Pipeline([(\"normalize\", scaller),(\"linear_regression\", regressor_lr_m)])\n",
    "print('# Обучение для neg_root_mean_squared_error')\n",
    "print()\n",
    "cv_RMSE_LR_S = (cross_val_score(pipeline,\n",
    "                                 features_train_ord, \n",
    "                                 target_train, \n",
    "                                 cv=5, \n",
    "                                 scoring='neg_root_mean_squared_error').mean() * -1)\n",
    "print('Mean RMSE from CV of LinearRegression =', cv_RMSE_LR_S)\n",
    "\n",
    "end = time.time()\n",
    "regressor_lr_m_time_train = end - start\n",
    "print('Время обучения модели:', regressor_lr_m_time_train)"
   ]
  },
  {
   "cell_type": "code",
   "execution_count": 37,
   "metadata": {},
   "outputs": [
    {
     "name": "stdout",
     "output_type": "stream",
     "text": [
      "Время предсказания и обучения модели: 38.0838098526001\n"
     ]
    }
   ],
   "source": [
    "start = time.time()\n",
    "regressor_lr_m.fit(ohe_features_train, target_train)\n",
    "lr_predict_m = regressor_lr_m.predict(ohe_features_train)\n",
    "end = time.time()\n",
    "lr_predict_m_time = end - start\n",
    "print('Время предсказания и обучения модели:', lr_predict_m_time)"
   ]
  },
  {
   "cell_type": "code",
   "execution_count": 38,
   "metadata": {},
   "outputs": [],
   "source": [
    "# start = time.time()\n",
    "\n",
    "# model_rf = RandomForestRegressor(random_state=12345, criterion='mse', warm_start=False)\n",
    "# n_estimators = (2, 8, 10)\n",
    "# hyperparams = [{'max_depth':n_estimators}]\n",
    "\n",
    "\n",
    "\n",
    "# print('# Tuning hyper-parameters for root_mean_squared_error')\n",
    "# print()\n",
    "# clf = GridSearchCV(model_rf, hyperparams, scoring='neg_mean_squared_error')\n",
    "# clf.fit(ohe_features_train, target_train)\n",
    "# end = time.time()\n",
    "# print(\"Best parameters set found on development set:\")\n",
    "# print()\n",
    "# print(clf.best_params_)\n",
    "# print()\n",
    "# print(\"Grid scores on development set:\")\n",
    "# print()\n",
    "# means = clf.cv_results_['mean_test_score']\n",
    "# stds = clf.cv_results_['std_test_score']\n",
    "# for mean, std, params in zip(means, stds, clf.cv_results_['params']):\n",
    "#     print(\"%0.6f for %r\"% ((mean*-1)** 0.5, params))\n",
    "# print()\n",
    "\n",
    "# cv_RMSE_R = (max(means)*-1) ** 0.5\n"
   ]
  },
  {
   "cell_type": "code",
   "execution_count": 39,
   "metadata": {
    "scrolled": true
   },
   "outputs": [
    {
     "name": "stdout",
     "output_type": "stream",
     "text": [
      "# Tuning hyper-parameters for root_mean_squared_error\n",
      "\n",
      "Best parameters set found on development set:\n",
      "\n",
      "{'max_depth': 15}\n",
      "\n",
      "Grid scores on development set:\n",
      "\n",
      "2549.024686 for {'max_depth': 2}\n",
      "2346.870250 for {'max_depth': 3}\n",
      "2138.798539 for {'max_depth': 4}\n",
      "1996.208158 for {'max_depth': 5}\n",
      "1867.377752 for {'max_depth': 6}\n",
      "1776.183661 for {'max_depth': 7}\n",
      "1710.406225 for {'max_depth': 8}\n",
      "1653.727046 for {'max_depth': 9}\n",
      "1612.151937 for {'max_depth': 10}\n",
      "1571.428866 for {'max_depth': 11}\n",
      "1546.470177 for {'max_depth': 12}\n",
      "1530.501769 for {'max_depth': 13}\n",
      "1520.336539 for {'max_depth': 14}\n",
      "1516.185531 for {'max_depth': 15}\n",
      "1516.659973 for {'max_depth': 16}\n",
      "1522.796449 for {'max_depth': 17}\n",
      "1532.572846 for {'max_depth': 18}\n",
      "1541.850369 for {'max_depth': 19}\n",
      "1551.688106 for {'max_depth': 20}\n",
      "1555.476641 for {'max_depth': 21}\n",
      "1561.971426 for {'max_depth': 22}\n",
      "1566.626913 for {'max_depth': 23}\n",
      "1568.231357 for {'max_depth': 24}\n",
      "1569.416808 for {'max_depth': 25}\n",
      "1570.734815 for {'max_depth': 26}\n",
      "1570.140901 for {'max_depth': 27}\n",
      "1568.242415 for {'max_depth': 28}\n",
      "1570.288439 for {'max_depth': 29}\n",
      "1570.305708 for {'max_depth': 30}\n",
      "\n",
      "Время побора гиперпараметров модели: 59.98760461807251\n"
     ]
    }
   ],
   "source": [
    "#DecisionTreeRegressor\n",
    "\n",
    "\n",
    "regressor_dtr = DecisionTreeRegressor(criterion='mse', random_state=12345) \n",
    "max_depth_list = [x for x in range(2, 31)]\n",
    "hyperparams = [{'max_depth':max_depth_list}]\n",
    "\n",
    "print('# Tuning hyper-parameters for root_mean_squared_error')\n",
    "print()\n",
    "clf = GridSearchCV(regressor_dtr, hyperparams, scoring='neg_mean_squared_error')\n",
    "start = time.time()\n",
    "clf.fit(features_train_ord, target_train)\n",
    "end = time.time()\n",
    "print(\"Best parameters set found on development set:\")\n",
    "print()\n",
    "print(clf.best_params_)\n",
    "print()\n",
    "print(\"Grid scores on development set:\")\n",
    "print()\n",
    "means = clf.cv_results_['mean_test_score']\n",
    "stds = clf.cv_results_['std_test_score']\n",
    "for mean, std, params in zip(means, stds, clf.cv_results_['params']):\n",
    "    print(\"%0.6f for %r\"% ((mean*-1)** 0.5, params))\n",
    "print()\n",
    "\n",
    "cv_RMSE_DTR_ordinal = (max(means)*-1) ** 0.5\n",
    "\n",
    "\n",
    "regressor_dtr_time_train = end - start\n",
    "print('Время побора гиперпараметров модели:', regressor_dtr_time_train) "
   ]
  },
  {
   "cell_type": "code",
   "execution_count": 40,
   "metadata": {},
   "outputs": [
    {
     "name": "stdout",
     "output_type": "stream",
     "text": [
      "Время предсказания модели: 0.04285287857055664\n"
     ]
    }
   ],
   "source": [
    "start = time.time()\n",
    "\n",
    "regressor_dtr_predict = clf.predict(features_train_ord)\n",
    "end = time.time()\n",
    "regressor_dtr_time_predict = end - start\n",
    "print('Время предсказания модели:', regressor_dtr_time_predict)"
   ]
  },
  {
   "cell_type": "markdown",
   "metadata": {},
   "source": [
    "Обучение на порядковом кодировании признаков дало практически такой же результат, что и обучение на OHE."
   ]
  },
  {
   "cell_type": "code",
   "execution_count": 41,
   "metadata": {},
   "outputs": [
    {
     "name": "stdout",
     "output_type": "stream",
     "text": [
      "# Tuning hyper-parameters for root_mean_squared_error\n",
      "\n",
      "Best parameters set found on development set:\n",
      "\n",
      "{'learning_rate': 0.5, 'random_state': 12345, 'verbose': False}\n",
      "\n",
      "Grid scores on development set:\n",
      "\n",
      "1318.563225 for {'learning_rate': 0.1, 'random_state': 12345, 'verbose': False}\n",
      "1289.740664 for {'learning_rate': 0.5, 'random_state': 12345, 'verbose': False}\n",
      "1309.217302 for {'learning_rate': 0.8, 'random_state': 12345, 'verbose': False}\n",
      "\n",
      "Время обучения модели: 384.4714460372925\n"
     ]
    }
   ],
   "source": [
    "#CatBoostRegressor OE\n",
    "#И на оригинальных данных с указанием категорий\n",
    "start = time.time()\n",
    "\n",
    "regressor_cbr = CatBoostRegressor() \n",
    "hyperparams = [{'learning_rate':[0.1, 0.5, 0.8],\n",
    "                'random_state':[12345],\n",
    "                'verbose':[False]}]\n",
    "\n",
    "print('# Tuning hyper-parameters for root_mean_squared_error')\n",
    "print()\n",
    "clf = GridSearchCV(regressor_cbr, hyperparams, scoring='neg_mean_squared_error')\n",
    "clf.fit(features_train_ord, target_train)\n",
    "print(\"Best parameters set found on development set:\")\n",
    "print()\n",
    "print(clf.best_params_)\n",
    "print()\n",
    "print(\"Grid scores on development set:\")\n",
    "print()\n",
    "means = clf.cv_results_['mean_test_score']\n",
    "stds = clf.cv_results_['std_test_score']\n",
    "for mean, std, params in zip(means, stds, clf.cv_results_['params']):\n",
    "    print(\"%0.6f for %r\"% ((mean*-1)** 0.5, params))\n",
    "print()\n",
    "\n",
    "cv_RMSE_CBR_ordinal = (max(means)*-1) ** 0.5\n",
    "\n",
    "end = time.time()\n",
    "regressor_cbr_time_train = end - start\n",
    "\n",
    "print('Время обучения модели:', regressor_cbr_time_train) "
   ]
  },
  {
   "cell_type": "code",
   "execution_count": 42,
   "metadata": {},
   "outputs": [
    {
     "name": "stdout",
     "output_type": "stream",
     "text": [
      "Время предсказания модели: 0.19616460800170898\n"
     ]
    }
   ],
   "source": [
    "start = time.time()\n",
    "\n",
    "regressor_cbr_predict = clf.predict(features_train_ord)\n",
    "end = time.time()\n",
    "regressor_cbr_time_predict = end - start\n",
    "print('Время предсказания модели:', regressor_cbr_time_predict)"
   ]
  },
  {
   "cell_type": "code",
   "execution_count": 43,
   "metadata": {},
   "outputs": [
    {
     "name": "stdout",
     "output_type": "stream",
     "text": [
      "# Train for root_mean_squared_error\n",
      "\n",
      "Mean RMSE from CV of CatBoostRegressor = 1331.4877212693805\n",
      "Время обучения модели: 122.91606974601746\n"
     ]
    }
   ],
   "source": [
    "start = time.time()\n",
    "\n",
    "regressor_cbr_original = CatBoostRegressor(learning_rate=0.5,\n",
    "                              iterations = 200,\n",
    "                              random_state=12345, \n",
    "                              verbose=False, \n",
    "                              cat_features=['VehicleType','FuelType','Brand','Model']) \n",
    "print('# Train for root_mean_squared_error')\n",
    "print()\n",
    "cv_RMSE_CBR_original = (cross_val_score(regressor_cbr_original,\n",
    "                                features_train, \n",
    "                                target_train, \n",
    "                                cv=5, \n",
    "                                scoring='neg_mean_squared_error').mean() * -1) ** 0.5\n",
    "print('Mean RMSE from CV of CatBoostRegressor =', cv_RMSE_CBR_original)\n",
    "\n",
    "end = time.time()\n",
    "regressor_cbr_original_time_train = end - start\n",
    "print('Время обучения модели:', regressor_cbr_original_time_train)"
   ]
  },
  {
   "cell_type": "code",
   "execution_count": 44,
   "metadata": {},
   "outputs": [
    {
     "name": "stdout",
     "output_type": "stream",
     "text": [
      "Время предсказания модели: 33.58401584625244\n"
     ]
    }
   ],
   "source": [
    "start = time.time()\n",
    "regressor_cbr_original.fit(features_train, target_train)\n",
    "regressor_cbr_original_predict = regressor_cbr_original.predict(features_train)\n",
    "\n",
    "end = time.time()\n",
    "regressor_cbr_original_time_predict = end - start\n",
    "print('Время предсказания модели:', regressor_cbr_original_time_predict)"
   ]
  },
  {
   "cell_type": "code",
   "execution_count": 45,
   "metadata": {},
   "outputs": [
    {
     "name": "stdout",
     "output_type": "stream",
     "text": [
      "# Tuning hyper-parameters for root_mean_squared_error\n",
      "\n",
      "Best parameters set found on development set:\n",
      "\n",
      "{'learning_rate': 0.3, 'num_leaves': 200, 'random_state': 12345}\n",
      "\n",
      "Grid scores on development set:\n",
      "\n",
      "1388.316196 for {'learning_rate': 0.1, 'num_leaves': 31, 'random_state': 12345}\n",
      "1321.862496 for {'learning_rate': 0.1, 'num_leaves': 100, 'random_state': 12345}\n",
      "1294.473898 for {'learning_rate': 0.1, 'num_leaves': 200, 'random_state': 12345}\n",
      "1336.561789 for {'learning_rate': 0.3, 'num_leaves': 31, 'random_state': 12345}\n",
      "1295.056360 for {'learning_rate': 0.3, 'num_leaves': 100, 'random_state': 12345}\n",
      "1281.988425 for {'learning_rate': 0.3, 'num_leaves': 200, 'random_state': 12345}\n",
      "1328.315428 for {'learning_rate': 0.5, 'num_leaves': 31, 'random_state': 12345}\n",
      "1305.269499 for {'learning_rate': 0.5, 'num_leaves': 100, 'random_state': 12345}\n",
      "1303.275201 for {'learning_rate': 0.5, 'num_leaves': 200, 'random_state': 12345}\n",
      "\n",
      "Время обучения модели: 7295.239015340805\n"
     ]
    }
   ],
   "source": [
    "#LGBMRegressor\n",
    "start = time.time()\n",
    "\n",
    "regressor_lgbm = LGBMRegressor() \n",
    "hyperparams = [{'num_leaves':[31, 100, 200], \n",
    "                'learning_rate':[0.1, 0.3, 0.5],\n",
    "                'random_state':[12345]}]\n",
    "\n",
    "print('# Tuning hyper-parameters for root_mean_squared_error')\n",
    "print()\n",
    "clf = GridSearchCV(regressor_lgbm, hyperparams, scoring='neg_mean_squared_error')\n",
    "clf.fit(features_train_ord, target_train)\n",
    "print(\"Best parameters set found on development set:\")\n",
    "print()\n",
    "print(clf.best_params_)\n",
    "print()\n",
    "print(\"Grid scores on development set:\")\n",
    "print()\n",
    "means = clf.cv_results_['mean_test_score']\n",
    "stds = clf.cv_results_['std_test_score']\n",
    "for mean, std, params in zip(means, stds, clf.cv_results_['params']):\n",
    "    print(\"%0.6f for %r\"% ((mean*-1)** 0.5, params))\n",
    "print()\n",
    "\n",
    "cv_RMSE_LGBMR = (max(means)*-1) ** 0.5\n",
    "\n",
    "end = time.time()\n",
    "regressor_lgbm_time_train = end - start\n",
    "print('Время обучения модели:', regressor_lgbm_time_train)"
   ]
  },
  {
   "cell_type": "code",
   "execution_count": 46,
   "metadata": {},
   "outputs": [
    {
     "name": "stdout",
     "output_type": "stream",
     "text": [
      "Время предсказания модели: 1.70768141746521\n"
     ]
    }
   ],
   "source": [
    "start = time.time()\n",
    "\n",
    "regressor_lgbm_predict = clf.predict(features_train_ord)\n",
    "\n",
    "end = time.time()\n",
    "regressor_lgbm_time_predict = end - start\n",
    "print('Время предсказания модели:', regressor_lgbm_time_predict)"
   ]
  },
  {
   "cell_type": "markdown",
   "metadata": {},
   "source": [
    "## Анализ моделей"
   ]
  },
  {
   "cell_type": "code",
   "execution_count": 53,
   "metadata": {
    "scrolled": true
   },
   "outputs": [
    {
     "data": {
      "text/html": [
       "<div>\n",
       "<style scoped>\n",
       "    .dataframe tbody tr th:only-of-type {\n",
       "        vertical-align: middle;\n",
       "    }\n",
       "\n",
       "    .dataframe tbody tr th {\n",
       "        vertical-align: top;\n",
       "    }\n",
       "\n",
       "    .dataframe thead th {\n",
       "        text-align: right;\n",
       "    }\n",
       "</style>\n",
       "<table border=\"1\" class=\"dataframe\">\n",
       "  <thead>\n",
       "    <tr style=\"text-align: right;\">\n",
       "      <th></th>\n",
       "      <th>RMSE на CV, евро</th>\n",
       "      <th>Время обучения на CV, сек</th>\n",
       "      <th>Время предсказания модели, сек</th>\n",
       "      <th>Общее время, сек</th>\n",
       "    </tr>\n",
       "  </thead>\n",
       "  <tbody>\n",
       "    <tr>\n",
       "      <th>LinearRegression</th>\n",
       "      <td>2367.715635</td>\n",
       "      <td>0.970599</td>\n",
       "      <td>38.083810</td>\n",
       "      <td>39.054409</td>\n",
       "    </tr>\n",
       "    <tr>\n",
       "      <th>DecisionTreeRegressor on OE features</th>\n",
       "      <td>1516.185531</td>\n",
       "      <td>59.987605</td>\n",
       "      <td>0.042853</td>\n",
       "      <td>60.030457</td>\n",
       "    </tr>\n",
       "    <tr>\n",
       "      <th>CatBoostRegressor on OE features</th>\n",
       "      <td>1289.740664</td>\n",
       "      <td>384.471446</td>\n",
       "      <td>0.196165</td>\n",
       "      <td>384.667611</td>\n",
       "    </tr>\n",
       "    <tr>\n",
       "      <th>CatBoostRegressor on original features</th>\n",
       "      <td>1331.487721</td>\n",
       "      <td>122.916070</td>\n",
       "      <td>33.584016</td>\n",
       "      <td>156.500086</td>\n",
       "    </tr>\n",
       "    <tr>\n",
       "      <th>LGBMRegressor</th>\n",
       "      <td>1281.988425</td>\n",
       "      <td>7295.239015</td>\n",
       "      <td>1.707681</td>\n",
       "      <td>7296.946697</td>\n",
       "    </tr>\n",
       "  </tbody>\n",
       "</table>\n",
       "</div>"
      ],
      "text/plain": [
       "                                        RMSE на CV, евро  \\\n",
       "LinearRegression                             2367.715635   \n",
       "DecisionTreeRegressor on OE features         1516.185531   \n",
       "CatBoostRegressor on OE features             1289.740664   \n",
       "CatBoostRegressor on original features       1331.487721   \n",
       "LGBMRegressor                                1281.988425   \n",
       "\n",
       "                                        Время обучения на CV, сек  \\\n",
       "LinearRegression                                         0.970599   \n",
       "DecisionTreeRegressor on OE features                    59.987605   \n",
       "CatBoostRegressor on OE features                       384.471446   \n",
       "CatBoostRegressor on original features                 122.916070   \n",
       "LGBMRegressor                                         7295.239015   \n",
       "\n",
       "                                        Время предсказания модели, сек  \\\n",
       "LinearRegression                                             38.083810   \n",
       "DecisionTreeRegressor on OE features                          0.042853   \n",
       "CatBoostRegressor on OE features                              0.196165   \n",
       "CatBoostRegressor on original features                       33.584016   \n",
       "LGBMRegressor                                                 1.707681   \n",
       "\n",
       "                                        Общее время, сек  \n",
       "LinearRegression                               39.054409  \n",
       "DecisionTreeRegressor on OE features           60.030457  \n",
       "CatBoostRegressor on OE features              384.667611  \n",
       "CatBoostRegressor on original features        156.500086  \n",
       "LGBMRegressor                                7296.946697  "
      ]
     },
     "execution_count": 53,
     "metadata": {},
     "output_type": "execute_result"
    }
   ],
   "source": [
    "index = ['LinearRegression',\n",
    "         'DecisionTreeRegressor on OE features',\n",
    "         'CatBoostRegressor on OE features',\n",
    "         'CatBoostRegressor on original features',\n",
    "         'LGBMRegressor']\n",
    "data = {'RMSE на CV, евро':[cv_RMSE_LR_S,\n",
    "                            cv_RMSE_DTR_ordinal,\n",
    "                            cv_RMSE_CBR_ordinal,\n",
    "                            cv_RMSE_CBR_original,\n",
    "                            cv_RMSE_LGBMR],\n",
    "        'Время обучения на CV, сек':[regressor_lr_m_time_train,\n",
    "                                     regressor_dtr_time_train,\n",
    "                                     regressor_cbr_time_train,\n",
    "                                     regressor_cbr_original_time_train,\n",
    "                                     regressor_lgbm_time_train],\n",
    "        'Время предсказания модели, сек':[lr_predict_m_time,\n",
    "                                          regressor_dtr_time_predict,\n",
    "                                          regressor_cbr_time_predict,\n",
    "                                          regressor_cbr_original_time_predict,\n",
    "                                          regressor_lgbm_time_predict]}\n",
    "\n",
    "scores_data = pd.DataFrame(data=data, index=index)\n",
    "scores_data['Общее время, сек'] = (scores_data['Время обучения на CV, сек'] + \n",
    "                                               scores_data['Время предсказания модели, сек'])\n",
    "scores_data"
   ]
  },
  {
   "cell_type": "markdown",
   "metadata": {},
   "source": [
    "По таблице видно, что лучшим по показателям является CatBoostRegressor, причем на исходных данных. Точность выше у LGBMRegressor, но время выполнения в разы выше. Протестируем на тестовой выборке CatBoostRegressor."
   ]
  },
  {
   "cell_type": "code",
   "execution_count": 55,
   "metadata": {},
   "outputs": [
    {
     "name": "stdout",
     "output_type": "stream",
     "text": [
      "CPU times: user 31.2 s, sys: 140 ms, total: 31.4 s\n",
      "Wall time: 32 s\n"
     ]
    },
    {
     "data": {
      "text/plain": [
       "<catboost.core.CatBoostRegressor at 0x7f7dd455aeb0>"
      ]
     },
     "execution_count": 55,
     "metadata": {},
     "output_type": "execute_result"
    }
   ],
   "source": [
    "%%time\n",
    "\n",
    "model = CatBoostRegressor(learning_rate=0.5, \n",
    "                          iterations = 200, \n",
    "                          random_state=12345, \n",
    "                          verbose=False,\n",
    "                          cat_features=['VehicleType','FuelType','Brand','Model']) \n",
    "model.fit(features_train, target_train)"
   ]
  },
  {
   "cell_type": "code",
   "execution_count": null,
   "metadata": {
    "scrolled": true
   },
   "outputs": [],
   "source": [
    "target_predict = model.predict(original_features_test)\n",
    "final_RMSE_CBR_original = mean_squared_error(target_test, target_predict) ** 0.5\n",
    "final_RMSE_CBR_original"
   ]
  },
  {
   "cell_type": "markdown",
   "metadata": {},
   "source": [
    "## Вывод\n",
    "В ходе работы я провел анализ и предобработку данных, сравнил модели с разными гиперпараметрами и выбрал лучшую по метрике RMSE и времени обучения - CatBoostRegressor"
   ]
  },
  {
   "cell_type": "markdown",
   "metadata": {},
   "source": [
    "## Чек-лист проверки"
   ]
  },
  {
   "cell_type": "markdown",
   "metadata": {},
   "source": [
    "Поставьте 'x' в выполненных пунктах. Далее нажмите Shift+Enter."
   ]
  },
  {
   "cell_type": "markdown",
   "metadata": {},
   "source": [
    "- [x]  Jupyter Notebook открыт\n",
    "- [x]  Весь код выполняется без ошибок\n",
    "- [x]  Ячейки с кодом расположены в порядке исполнения\n",
    "- [x]  Выполнена загрузка и подготовка данных\n",
    "- [x]  Выполнено обучение моделей\n",
    "- [x]  Есть анализ скорости работы и качества моделей"
   ]
  }
 ],
 "metadata": {
  "ExecuteTimeLog": [
   {
    "duration": 1640,
    "start_time": "2022-10-15T11:15:11.200Z"
   },
   {
    "duration": 2898,
    "start_time": "2022-10-15T11:15:35.698Z"
   },
   {
    "duration": 3,
    "start_time": "2022-10-15T11:15:54.183Z"
   },
   {
    "duration": 567,
    "start_time": "2022-10-15T11:16:25.112Z"
   },
   {
    "duration": 15,
    "start_time": "2022-10-15T11:26:07.074Z"
   },
   {
    "duration": 179,
    "start_time": "2022-10-15T11:34:33.471Z"
   },
   {
    "duration": 124,
    "start_time": "2022-10-15T11:35:00.449Z"
   },
   {
    "duration": 8,
    "start_time": "2022-10-15T11:35:58.498Z"
   },
   {
    "duration": 384,
    "start_time": "2022-10-15T11:36:01.826Z"
   },
   {
    "duration": 865,
    "start_time": "2022-10-15T11:37:09.525Z"
   },
   {
    "duration": 39,
    "start_time": "2022-10-15T11:39:06.346Z"
   },
   {
    "duration": 4,
    "start_time": "2022-10-15T12:15:56.037Z"
   },
   {
    "duration": 397,
    "start_time": "2022-10-15T12:19:06.886Z"
   },
   {
    "duration": 244,
    "start_time": "2022-10-15T12:20:08.054Z"
   },
   {
    "duration": 3,
    "start_time": "2022-10-15T12:20:31.262Z"
   },
   {
    "duration": 804,
    "start_time": "2022-10-15T12:20:31.267Z"
   },
   {
    "duration": 4,
    "start_time": "2022-10-15T12:20:32.072Z"
   },
   {
    "duration": 528,
    "start_time": "2022-10-15T12:20:32.078Z"
   },
   {
    "duration": 15,
    "start_time": "2022-10-15T12:20:32.608Z"
   },
   {
    "duration": 150,
    "start_time": "2022-10-15T12:20:32.625Z"
   },
   {
    "duration": 327,
    "start_time": "2022-10-15T12:20:32.776Z"
   },
   {
    "duration": 686,
    "start_time": "2022-10-15T12:20:33.104Z"
   },
   {
    "duration": 29,
    "start_time": "2022-10-15T12:20:33.792Z"
   },
   {
    "duration": 745,
    "start_time": "2022-10-15T12:20:33.823Z"
   },
   {
    "duration": 0,
    "start_time": "2022-10-15T12:20:34.570Z"
   },
   {
    "duration": 0,
    "start_time": "2022-10-15T12:20:34.571Z"
   },
   {
    "duration": 0,
    "start_time": "2022-10-15T12:20:34.572Z"
   },
   {
    "duration": 676,
    "start_time": "2022-10-15T12:21:38.971Z"
   },
   {
    "duration": 4,
    "start_time": "2022-10-15T12:23:09.508Z"
   },
   {
    "duration": 705,
    "start_time": "2022-10-15T12:23:10.162Z"
   },
   {
    "duration": 4,
    "start_time": "2022-10-15T12:23:11.531Z"
   },
   {
    "duration": 508,
    "start_time": "2022-10-15T12:23:13.554Z"
   },
   {
    "duration": 13,
    "start_time": "2022-10-15T12:23:16.239Z"
   },
   {
    "duration": 125,
    "start_time": "2022-10-15T12:23:19.251Z"
   },
   {
    "duration": 333,
    "start_time": "2022-10-15T12:23:20.229Z"
   },
   {
    "duration": 762,
    "start_time": "2022-10-15T12:23:21.084Z"
   },
   {
    "duration": 26,
    "start_time": "2022-10-15T12:23:22.563Z"
   },
   {
    "duration": 734,
    "start_time": "2022-10-15T12:23:27.587Z"
   },
   {
    "duration": 101,
    "start_time": "2022-10-15T12:23:48.378Z"
   },
   {
    "duration": 4,
    "start_time": "2022-10-15T12:23:51.236Z"
   },
   {
    "duration": 396,
    "start_time": "2022-10-15T12:23:53.111Z"
   },
   {
    "duration": 265,
    "start_time": "2022-10-15T12:23:56.108Z"
   },
   {
    "duration": 3,
    "start_time": "2022-10-15T12:24:05.315Z"
   },
   {
    "duration": 657,
    "start_time": "2022-10-15T12:24:05.320Z"
   },
   {
    "duration": 3,
    "start_time": "2022-10-15T12:24:05.979Z"
   },
   {
    "duration": 578,
    "start_time": "2022-10-15T12:24:05.984Z"
   },
   {
    "duration": 12,
    "start_time": "2022-10-15T12:24:06.564Z"
   },
   {
    "duration": 133,
    "start_time": "2022-10-15T12:24:06.577Z"
   },
   {
    "duration": 375,
    "start_time": "2022-10-15T12:24:06.711Z"
   },
   {
    "duration": 744,
    "start_time": "2022-10-15T12:24:07.087Z"
   },
   {
    "duration": 34,
    "start_time": "2022-10-15T12:24:07.832Z"
   },
   {
    "duration": 120,
    "start_time": "2022-10-15T12:24:07.867Z"
   },
   {
    "duration": 4,
    "start_time": "2022-10-15T12:24:07.988Z"
   },
   {
    "duration": 398,
    "start_time": "2022-10-15T12:24:07.993Z"
   },
   {
    "duration": 249,
    "start_time": "2022-10-15T12:24:08.393Z"
   },
   {
    "duration": 39,
    "start_time": "2022-10-15T12:26:13.403Z"
   },
   {
    "duration": 107,
    "start_time": "2022-10-15T12:30:41.495Z"
   },
   {
    "duration": 4,
    "start_time": "2022-10-15T12:30:42.205Z"
   },
   {
    "duration": 403,
    "start_time": "2022-10-15T12:30:44.360Z"
   },
   {
    "duration": 39,
    "start_time": "2022-10-15T12:30:46.709Z"
   },
   {
    "duration": 3,
    "start_time": "2022-10-15T14:00:34.300Z"
   },
   {
    "duration": 2,
    "start_time": "2022-10-15T14:01:23.727Z"
   },
   {
    "duration": 3,
    "start_time": "2022-10-15T14:02:07.386Z"
   },
   {
    "duration": 8,
    "start_time": "2022-10-15T14:03:27.265Z"
   },
   {
    "duration": 3,
    "start_time": "2022-10-15T14:06:12.305Z"
   },
   {
    "duration": 3,
    "start_time": "2022-10-15T14:07:47.564Z"
   },
   {
    "duration": 9,
    "start_time": "2022-10-15T14:08:49.638Z"
   },
   {
    "duration": 9,
    "start_time": "2022-10-15T14:09:50.980Z"
   },
   {
    "duration": 9,
    "start_time": "2022-10-15T14:10:03.716Z"
   },
   {
    "duration": 9,
    "start_time": "2022-10-15T14:10:48.977Z"
   },
   {
    "duration": 10,
    "start_time": "2022-10-15T14:11:09.460Z"
   },
   {
    "duration": 44,
    "start_time": "2022-10-15T20:06:47.990Z"
   },
   {
    "duration": 1500,
    "start_time": "2022-10-15T20:06:59.985Z"
   },
   {
    "duration": 1060,
    "start_time": "2022-10-15T20:07:01.487Z"
   },
   {
    "duration": 3,
    "start_time": "2022-10-15T20:07:02.549Z"
   },
   {
    "duration": 652,
    "start_time": "2022-10-15T20:07:02.554Z"
   },
   {
    "duration": 16,
    "start_time": "2022-10-15T20:07:03.208Z"
   },
   {
    "duration": 150,
    "start_time": "2022-10-15T20:07:03.226Z"
   },
   {
    "duration": 408,
    "start_time": "2022-10-15T20:07:03.378Z"
   },
   {
    "duration": 869,
    "start_time": "2022-10-15T20:07:03.788Z"
   },
   {
    "duration": 31,
    "start_time": "2022-10-15T20:07:04.658Z"
   },
   {
    "duration": 124,
    "start_time": "2022-10-15T20:07:04.690Z"
   },
   {
    "duration": 7,
    "start_time": "2022-10-15T20:07:04.815Z"
   },
   {
    "duration": 421,
    "start_time": "2022-10-15T20:07:04.823Z"
   },
   {
    "duration": 40,
    "start_time": "2022-10-15T20:07:05.246Z"
   },
   {
    "duration": 105,
    "start_time": "2022-10-15T20:07:05.289Z"
   },
   {
    "duration": 4,
    "start_time": "2022-10-15T20:07:05.395Z"
   },
   {
    "duration": 9,
    "start_time": "2022-10-15T20:07:05.400Z"
   },
   {
    "duration": 13,
    "start_time": "2022-10-15T20:07:05.410Z"
   },
   {
    "duration": 3,
    "start_time": "2022-10-15T20:07:05.424Z"
   },
   {
    "duration": 170,
    "start_time": "2022-10-15T20:07:05.428Z"
   },
   {
    "duration": 4,
    "start_time": "2022-10-15T20:09:24.596Z"
   },
   {
    "duration": 5,
    "start_time": "2022-10-15T20:09:27.647Z"
   },
   {
    "duration": 703,
    "start_time": "2022-10-15T20:09:27.654Z"
   },
   {
    "duration": 3,
    "start_time": "2022-10-15T20:09:28.359Z"
   },
   {
    "duration": 577,
    "start_time": "2022-10-15T20:09:28.365Z"
   },
   {
    "duration": 15,
    "start_time": "2022-10-15T20:09:28.944Z"
   },
   {
    "duration": 171,
    "start_time": "2022-10-15T20:09:28.962Z"
   },
   {
    "duration": 352,
    "start_time": "2022-10-15T20:09:29.135Z"
   },
   {
    "duration": 762,
    "start_time": "2022-10-15T20:09:29.489Z"
   },
   {
    "duration": 25,
    "start_time": "2022-10-15T20:09:30.253Z"
   },
   {
    "duration": 126,
    "start_time": "2022-10-15T20:09:30.280Z"
   },
   {
    "duration": 4,
    "start_time": "2022-10-15T20:09:30.408Z"
   },
   {
    "duration": 403,
    "start_time": "2022-10-15T20:09:30.414Z"
   },
   {
    "duration": 41,
    "start_time": "2022-10-15T20:09:30.823Z"
   },
   {
    "duration": 99,
    "start_time": "2022-10-15T20:09:30.865Z"
   },
   {
    "duration": 3,
    "start_time": "2022-10-15T20:09:30.966Z"
   },
   {
    "duration": 21,
    "start_time": "2022-10-15T20:09:30.970Z"
   },
   {
    "duration": 14,
    "start_time": "2022-10-15T20:09:30.992Z"
   },
   {
    "duration": 8,
    "start_time": "2022-10-15T20:09:31.007Z"
   },
   {
    "duration": 94,
    "start_time": "2022-10-15T20:09:31.017Z"
   },
   {
    "duration": 61,
    "start_time": "2022-10-15T20:13:58.405Z"
   },
   {
    "duration": 173,
    "start_time": "2022-10-15T20:21:56.468Z"
   },
   {
    "duration": 188,
    "start_time": "2022-10-15T20:22:15.041Z"
   },
   {
    "duration": 171,
    "start_time": "2022-10-15T20:23:11.306Z"
   },
   {
    "duration": 201,
    "start_time": "2022-10-15T20:24:08.491Z"
   },
   {
    "duration": 9,
    "start_time": "2022-10-15T20:27:57.950Z"
   },
   {
    "duration": 19,
    "start_time": "2022-10-15T20:28:05.392Z"
   },
   {
    "duration": 204,
    "start_time": "2022-10-15T20:28:16.080Z"
   },
   {
    "duration": 12,
    "start_time": "2022-10-15T20:36:58.860Z"
   },
   {
    "duration": 13,
    "start_time": "2022-10-15T20:38:18.368Z"
   },
   {
    "duration": 51,
    "start_time": "2022-10-15T20:38:38.162Z"
   },
   {
    "duration": 22,
    "start_time": "2022-10-15T20:39:13.763Z"
   },
   {
    "duration": 8,
    "start_time": "2022-10-15T20:40:29.675Z"
   },
   {
    "duration": 9,
    "start_time": "2022-10-15T20:40:44.007Z"
   },
   {
    "duration": 15,
    "start_time": "2022-10-15T20:40:48.176Z"
   },
   {
    "duration": 9,
    "start_time": "2022-10-15T20:41:54.730Z"
   },
   {
    "duration": 86,
    "start_time": "2022-10-15T20:42:23.496Z"
   },
   {
    "duration": 690,
    "start_time": "2022-10-15T20:42:23.584Z"
   },
   {
    "duration": 4,
    "start_time": "2022-10-15T20:42:24.275Z"
   },
   {
    "duration": 572,
    "start_time": "2022-10-15T20:42:24.281Z"
   },
   {
    "duration": 12,
    "start_time": "2022-10-15T20:42:24.856Z"
   },
   {
    "duration": 155,
    "start_time": "2022-10-15T20:42:24.870Z"
   },
   {
    "duration": 366,
    "start_time": "2022-10-15T20:42:25.027Z"
   },
   {
    "duration": 768,
    "start_time": "2022-10-15T20:42:25.394Z"
   },
   {
    "duration": 27,
    "start_time": "2022-10-15T20:42:26.163Z"
   },
   {
    "duration": 131,
    "start_time": "2022-10-15T20:42:26.191Z"
   },
   {
    "duration": 4,
    "start_time": "2022-10-15T20:42:26.323Z"
   },
   {
    "duration": 400,
    "start_time": "2022-10-15T20:42:26.329Z"
   },
   {
    "duration": 39,
    "start_time": "2022-10-15T20:42:26.731Z"
   },
   {
    "duration": 9,
    "start_time": "2022-10-15T20:42:26.772Z"
   },
   {
    "duration": 72,
    "start_time": "2022-10-15T20:42:26.783Z"
   },
   {
    "duration": 17,
    "start_time": "2022-10-15T20:42:26.856Z"
   },
   {
    "duration": 615,
    "start_time": "2022-10-15T20:42:26.875Z"
   },
   {
    "duration": 64,
    "start_time": "2022-10-15T20:43:15.404Z"
   },
   {
    "duration": 10,
    "start_time": "2022-10-15T20:43:48.828Z"
   },
   {
    "duration": 4,
    "start_time": "2022-10-15T20:44:14.636Z"
   },
   {
    "duration": 767,
    "start_time": "2022-10-15T20:44:14.642Z"
   },
   {
    "duration": 3,
    "start_time": "2022-10-15T20:44:15.410Z"
   },
   {
    "duration": 603,
    "start_time": "2022-10-15T20:44:15.415Z"
   },
   {
    "duration": 13,
    "start_time": "2022-10-15T20:44:16.022Z"
   },
   {
    "duration": 146,
    "start_time": "2022-10-15T20:44:16.037Z"
   },
   {
    "duration": 364,
    "start_time": "2022-10-15T20:44:16.185Z"
   },
   {
    "duration": 783,
    "start_time": "2022-10-15T20:44:16.551Z"
   },
   {
    "duration": 32,
    "start_time": "2022-10-15T20:44:17.336Z"
   },
   {
    "duration": 132,
    "start_time": "2022-10-15T20:44:17.370Z"
   },
   {
    "duration": 4,
    "start_time": "2022-10-15T20:44:17.504Z"
   },
   {
    "duration": 399,
    "start_time": "2022-10-15T20:44:17.509Z"
   },
   {
    "duration": 45,
    "start_time": "2022-10-15T20:44:17.910Z"
   },
   {
    "duration": 9,
    "start_time": "2022-10-15T20:44:17.958Z"
   },
   {
    "duration": 65,
    "start_time": "2022-10-15T20:44:17.968Z"
   },
   {
    "duration": 18,
    "start_time": "2022-10-15T20:44:18.035Z"
   },
   {
    "duration": 608,
    "start_time": "2022-10-15T20:44:18.055Z"
   },
   {
    "duration": 60,
    "start_time": "2022-10-15T20:44:18.665Z"
   },
   {
    "duration": 553,
    "start_time": "2022-10-15T20:44:18.726Z"
   },
   {
    "duration": 74,
    "start_time": "2022-10-15T20:50:13.173Z"
   },
   {
    "duration": 5,
    "start_time": "2022-10-15T20:50:24.864Z"
   },
   {
    "duration": 725,
    "start_time": "2022-10-15T20:50:24.871Z"
   },
   {
    "duration": 4,
    "start_time": "2022-10-15T20:50:25.597Z"
   },
   {
    "duration": 589,
    "start_time": "2022-10-15T20:50:25.602Z"
   },
   {
    "duration": 12,
    "start_time": "2022-10-15T20:50:26.194Z"
   },
   {
    "duration": 157,
    "start_time": "2022-10-15T20:50:26.207Z"
   },
   {
    "duration": 349,
    "start_time": "2022-10-15T20:50:26.365Z"
   },
   {
    "duration": 773,
    "start_time": "2022-10-15T20:50:26.715Z"
   },
   {
    "duration": 34,
    "start_time": "2022-10-15T20:50:27.490Z"
   },
   {
    "duration": 127,
    "start_time": "2022-10-15T20:50:27.526Z"
   },
   {
    "duration": 4,
    "start_time": "2022-10-15T20:50:27.654Z"
   },
   {
    "duration": 408,
    "start_time": "2022-10-15T20:50:27.660Z"
   },
   {
    "duration": 53,
    "start_time": "2022-10-15T20:50:28.070Z"
   },
   {
    "duration": 10,
    "start_time": "2022-10-15T20:50:28.127Z"
   },
   {
    "duration": 55,
    "start_time": "2022-10-15T20:50:28.139Z"
   },
   {
    "duration": 32,
    "start_time": "2022-10-15T20:50:28.196Z"
   },
   {
    "duration": 597,
    "start_time": "2022-10-15T20:50:28.229Z"
   },
   {
    "duration": 69,
    "start_time": "2022-10-15T20:50:28.828Z"
   },
   {
    "duration": 547,
    "start_time": "2022-10-15T20:50:28.899Z"
   },
   {
    "duration": 3,
    "start_time": "2022-10-15T20:50:29.448Z"
   },
   {
    "duration": 8,
    "start_time": "2022-10-15T20:50:29.452Z"
   },
   {
    "duration": 9,
    "start_time": "2022-10-15T20:50:29.462Z"
   },
   {
    "duration": 88,
    "start_time": "2022-10-15T20:50:29.472Z"
   },
   {
    "duration": 9,
    "start_time": "2022-10-15T21:01:05.579Z"
   },
   {
    "duration": 26,
    "start_time": "2022-10-15T21:01:20.795Z"
   },
   {
    "duration": 11,
    "start_time": "2022-10-15T21:01:26.270Z"
   },
   {
    "duration": 5,
    "start_time": "2022-10-15T21:01:29.312Z"
   },
   {
    "duration": 657,
    "start_time": "2022-10-15T21:01:29.319Z"
   },
   {
    "duration": 3,
    "start_time": "2022-10-15T21:01:29.978Z"
   },
   {
    "duration": 574,
    "start_time": "2022-10-15T21:01:29.983Z"
   },
   {
    "duration": 12,
    "start_time": "2022-10-15T21:01:30.559Z"
   },
   {
    "duration": 157,
    "start_time": "2022-10-15T21:01:30.573Z"
   },
   {
    "duration": 353,
    "start_time": "2022-10-15T21:01:30.732Z"
   },
   {
    "duration": 748,
    "start_time": "2022-10-15T21:01:31.087Z"
   },
   {
    "duration": 25,
    "start_time": "2022-10-15T21:01:31.836Z"
   },
   {
    "duration": 123,
    "start_time": "2022-10-15T21:01:31.863Z"
   },
   {
    "duration": 4,
    "start_time": "2022-10-15T21:01:31.988Z"
   },
   {
    "duration": 408,
    "start_time": "2022-10-15T21:01:31.994Z"
   },
   {
    "duration": 47,
    "start_time": "2022-10-15T21:01:32.404Z"
   },
   {
    "duration": 9,
    "start_time": "2022-10-15T21:01:32.454Z"
   },
   {
    "duration": 34,
    "start_time": "2022-10-15T21:01:41.567Z"
   },
   {
    "duration": 405,
    "start_time": "2022-10-15T21:01:43.224Z"
   },
   {
    "duration": 10,
    "start_time": "2022-10-15T21:02:33.149Z"
   },
   {
    "duration": 17,
    "start_time": "2022-10-15T21:02:40.451Z"
   },
   {
    "duration": 82,
    "start_time": "2022-10-15T21:02:51.145Z"
   },
   {
    "duration": 3,
    "start_time": "2022-10-15T21:04:02.225Z"
   },
   {
    "duration": 8,
    "start_time": "2022-10-15T21:04:02.805Z"
   },
   {
    "duration": 311,
    "start_time": "2022-10-15T21:05:34.851Z"
   },
   {
    "duration": 326,
    "start_time": "2022-10-15T21:05:55.535Z"
   },
   {
    "duration": 92,
    "start_time": "2022-10-15T21:06:33.647Z"
   },
   {
    "duration": 281,
    "start_time": "2022-10-15T21:06:55.405Z"
   },
   {
    "duration": 277,
    "start_time": "2022-10-15T21:07:06.051Z"
   },
   {
    "duration": 270,
    "start_time": "2022-10-15T21:07:55.302Z"
   },
   {
    "duration": 266,
    "start_time": "2022-10-15T21:08:09.188Z"
   },
   {
    "duration": 343,
    "start_time": "2022-10-15T21:09:52.373Z"
   },
   {
    "duration": 247,
    "start_time": "2022-10-15T21:11:35.205Z"
   },
   {
    "duration": 244,
    "start_time": "2022-10-15T21:11:46.274Z"
   },
   {
    "duration": 13,
    "start_time": "2022-10-15T21:12:39.008Z"
   },
   {
    "duration": 634,
    "start_time": "2022-10-15T21:12:47.096Z"
   },
   {
    "duration": 314,
    "start_time": "2022-10-15T21:14:08.936Z"
   },
   {
    "duration": 82,
    "start_time": "2022-10-15T21:17:14.781Z"
   },
   {
    "duration": 213,
    "start_time": "2022-10-15T21:17:25.522Z"
   },
   {
    "duration": 64,
    "start_time": "2022-10-15T21:17:47.615Z"
   },
   {
    "duration": 10,
    "start_time": "2022-10-15T21:19:46.928Z"
   },
   {
    "duration": 11,
    "start_time": "2022-10-15T21:20:13.884Z"
   },
   {
    "duration": 47,
    "start_time": "2022-10-15T21:20:18.288Z"
   },
   {
    "duration": 45,
    "start_time": "2022-10-15T21:20:59.255Z"
   },
   {
    "duration": 106,
    "start_time": "2022-10-15T21:22:00.361Z"
   },
   {
    "duration": 17,
    "start_time": "2022-10-15T21:23:53.123Z"
   },
   {
    "duration": 6,
    "start_time": "2022-10-15T21:24:04.099Z"
   },
   {
    "duration": 762,
    "start_time": "2022-10-15T21:24:04.107Z"
   },
   {
    "duration": 3,
    "start_time": "2022-10-15T21:24:04.871Z"
   },
   {
    "duration": 631,
    "start_time": "2022-10-15T21:24:04.876Z"
   },
   {
    "duration": 15,
    "start_time": "2022-10-15T21:24:05.509Z"
   },
   {
    "duration": 173,
    "start_time": "2022-10-15T21:24:05.526Z"
   },
   {
    "duration": 378,
    "start_time": "2022-10-15T21:24:05.700Z"
   },
   {
    "duration": 814,
    "start_time": "2022-10-15T21:24:06.080Z"
   },
   {
    "duration": 40,
    "start_time": "2022-10-15T21:24:06.896Z"
   },
   {
    "duration": 176,
    "start_time": "2022-10-15T21:24:06.938Z"
   },
   {
    "duration": 7,
    "start_time": "2022-10-15T21:24:07.117Z"
   },
   {
    "duration": 447,
    "start_time": "2022-10-15T21:24:07.125Z"
   },
   {
    "duration": 33,
    "start_time": "2022-10-15T21:24:07.574Z"
   },
   {
    "duration": 337,
    "start_time": "2022-10-15T21:24:07.609Z"
   },
   {
    "duration": 19,
    "start_time": "2022-10-15T21:24:07.949Z"
   },
   {
    "duration": 113,
    "start_time": "2022-10-15T21:24:07.970Z"
   },
   {
    "duration": 4,
    "start_time": "2022-10-15T21:24:08.085Z"
   },
   {
    "duration": 27,
    "start_time": "2022-10-15T21:24:08.090Z"
   },
   {
    "duration": 477,
    "start_time": "2022-10-15T21:24:08.119Z"
   },
   {
    "duration": 365,
    "start_time": "2022-10-15T21:24:08.598Z"
   },
   {
    "duration": 126,
    "start_time": "2022-10-15T21:24:08.965Z"
   },
   {
    "duration": 313,
    "start_time": "2022-10-15T21:24:09.093Z"
   },
   {
    "duration": 334,
    "start_time": "2022-10-15T21:24:09.408Z"
   },
   {
    "duration": 289,
    "start_time": "2022-10-15T21:24:09.744Z"
   },
   {
    "duration": 288,
    "start_time": "2022-10-15T21:24:10.034Z"
   },
   {
    "duration": 261,
    "start_time": "2022-10-15T21:24:10.324Z"
   },
   {
    "duration": 376,
    "start_time": "2022-10-15T21:24:10.586Z"
   },
   {
    "duration": 294,
    "start_time": "2022-10-15T21:24:10.963Z"
   },
   {
    "duration": 66,
    "start_time": "2022-10-15T21:24:11.259Z"
   },
   {
    "duration": 48,
    "start_time": "2022-10-15T21:24:11.327Z"
   },
   {
    "duration": 125,
    "start_time": "2022-10-15T21:24:11.376Z"
   },
   {
    "duration": 14,
    "start_time": "2022-10-15T21:26:26.727Z"
   },
   {
    "duration": 279,
    "start_time": "2022-10-15T21:26:43.271Z"
   },
   {
    "duration": 480,
    "start_time": "2022-10-15T21:27:00.945Z"
   },
   {
    "duration": 424,
    "start_time": "2022-10-15T21:27:10.305Z"
   },
   {
    "duration": 430,
    "start_time": "2022-10-15T21:27:19.697Z"
   },
   {
    "duration": 369,
    "start_time": "2022-10-15T21:27:47.983Z"
   },
   {
    "duration": 12,
    "start_time": "2022-10-15T21:37:39.493Z"
   },
   {
    "duration": 10,
    "start_time": "2022-10-15T21:38:21.804Z"
   },
   {
    "duration": 6,
    "start_time": "2022-10-15T21:38:25.614Z"
   },
   {
    "duration": 718,
    "start_time": "2022-10-15T21:38:25.623Z"
   },
   {
    "duration": 3,
    "start_time": "2022-10-15T21:38:26.343Z"
   },
   {
    "duration": 559,
    "start_time": "2022-10-15T21:38:26.348Z"
   },
   {
    "duration": 14,
    "start_time": "2022-10-15T21:38:26.909Z"
   },
   {
    "duration": 157,
    "start_time": "2022-10-15T21:38:26.925Z"
   },
   {
    "duration": 376,
    "start_time": "2022-10-15T21:38:27.084Z"
   },
   {
    "duration": 765,
    "start_time": "2022-10-15T21:38:27.462Z"
   },
   {
    "duration": 26,
    "start_time": "2022-10-15T21:38:28.229Z"
   },
   {
    "duration": 130,
    "start_time": "2022-10-15T21:38:28.257Z"
   },
   {
    "duration": 4,
    "start_time": "2022-10-15T21:38:28.389Z"
   },
   {
    "duration": 402,
    "start_time": "2022-10-15T21:38:28.395Z"
   },
   {
    "duration": 49,
    "start_time": "2022-10-15T21:38:28.799Z"
   },
   {
    "duration": 336,
    "start_time": "2022-10-15T21:38:28.852Z"
   },
   {
    "duration": 17,
    "start_time": "2022-10-15T21:38:29.190Z"
   },
   {
    "duration": 84,
    "start_time": "2022-10-15T21:38:29.221Z"
   },
   {
    "duration": 3,
    "start_time": "2022-10-15T21:38:29.307Z"
   },
   {
    "duration": 9,
    "start_time": "2022-10-15T21:38:29.321Z"
   },
   {
    "duration": 318,
    "start_time": "2022-10-15T21:38:29.331Z"
   },
   {
    "duration": 324,
    "start_time": "2022-10-15T21:38:29.650Z"
   },
   {
    "duration": 100,
    "start_time": "2022-10-15T21:38:29.975Z"
   },
   {
    "duration": 306,
    "start_time": "2022-10-15T21:38:30.076Z"
   },
   {
    "duration": 405,
    "start_time": "2022-10-15T21:38:30.384Z"
   },
   {
    "duration": 316,
    "start_time": "2022-10-15T21:38:30.791Z"
   },
   {
    "duration": 298,
    "start_time": "2022-10-15T21:38:31.110Z"
   },
   {
    "duration": 273,
    "start_time": "2022-10-15T21:38:31.410Z"
   },
   {
    "duration": 274,
    "start_time": "2022-10-15T21:38:31.685Z"
   },
   {
    "duration": 285,
    "start_time": "2022-10-15T21:38:31.961Z"
   },
   {
    "duration": 49,
    "start_time": "2022-10-15T21:38:32.247Z"
   },
   {
    "duration": 60,
    "start_time": "2022-10-15T21:38:32.297Z"
   },
   {
    "duration": 118,
    "start_time": "2022-10-15T21:38:32.359Z"
   },
   {
    "duration": 284,
    "start_time": "2022-10-15T21:38:32.479Z"
   },
   {
    "duration": 466,
    "start_time": "2022-10-15T21:38:32.765Z"
   },
   {
    "duration": 368,
    "start_time": "2022-10-15T21:38:33.233Z"
   },
   {
    "duration": 1412,
    "start_time": "2022-10-15T21:39:19.160Z"
   },
   {
    "duration": 797,
    "start_time": "2022-10-15T21:39:20.574Z"
   },
   {
    "duration": 3,
    "start_time": "2022-10-15T21:39:21.375Z"
   },
   {
    "duration": 724,
    "start_time": "2022-10-15T21:39:21.380Z"
   },
   {
    "duration": 17,
    "start_time": "2022-10-15T21:39:22.106Z"
   },
   {
    "duration": 159,
    "start_time": "2022-10-15T21:39:22.125Z"
   },
   {
    "duration": 445,
    "start_time": "2022-10-15T21:39:22.286Z"
   },
   {
    "duration": 893,
    "start_time": "2022-10-15T21:39:22.732Z"
   },
   {
    "duration": 38,
    "start_time": "2022-10-15T21:39:23.626Z"
   },
   {
    "duration": 132,
    "start_time": "2022-10-15T21:39:23.665Z"
   },
   {
    "duration": 4,
    "start_time": "2022-10-15T21:39:23.798Z"
   },
   {
    "duration": 427,
    "start_time": "2022-10-15T21:39:23.804Z"
   },
   {
    "duration": 35,
    "start_time": "2022-10-15T21:39:24.234Z"
   },
   {
    "duration": 338,
    "start_time": "2022-10-15T21:39:24.270Z"
   },
   {
    "duration": 26,
    "start_time": "2022-10-15T21:39:24.610Z"
   },
   {
    "duration": 94,
    "start_time": "2022-10-15T21:39:24.638Z"
   },
   {
    "duration": 3,
    "start_time": "2022-10-15T21:39:24.734Z"
   },
   {
    "duration": 18,
    "start_time": "2022-10-15T21:39:24.738Z"
   },
   {
    "duration": 439,
    "start_time": "2022-10-15T21:39:24.758Z"
   },
   {
    "duration": 332,
    "start_time": "2022-10-15T21:39:25.198Z"
   },
   {
    "duration": 100,
    "start_time": "2022-10-15T21:39:25.532Z"
   },
   {
    "duration": 302,
    "start_time": "2022-10-15T21:39:25.634Z"
   },
   {
    "duration": 286,
    "start_time": "2022-10-15T21:39:25.938Z"
   },
   {
    "duration": 292,
    "start_time": "2022-10-15T21:39:26.226Z"
   },
   {
    "duration": 276,
    "start_time": "2022-10-15T21:39:26.522Z"
   },
   {
    "duration": 281,
    "start_time": "2022-10-15T21:39:26.801Z"
   },
   {
    "duration": 379,
    "start_time": "2022-10-15T21:39:27.084Z"
   },
   {
    "duration": 309,
    "start_time": "2022-10-15T21:39:27.465Z"
   },
   {
    "duration": 59,
    "start_time": "2022-10-15T21:39:27.775Z"
   },
   {
    "duration": 46,
    "start_time": "2022-10-15T21:39:27.836Z"
   },
   {
    "duration": 122,
    "start_time": "2022-10-15T21:39:27.884Z"
   },
   {
    "duration": 279,
    "start_time": "2022-10-15T21:39:28.008Z"
   },
   {
    "duration": 442,
    "start_time": "2022-10-15T21:39:28.289Z"
   },
   {
    "duration": 406,
    "start_time": "2022-10-15T21:39:28.732Z"
   },
   {
    "duration": 1445,
    "start_time": "2022-10-15T21:40:26.584Z"
   },
   {
    "duration": 801,
    "start_time": "2022-10-15T21:40:28.031Z"
   },
   {
    "duration": 5,
    "start_time": "2022-10-15T21:40:28.834Z"
   },
   {
    "duration": 767,
    "start_time": "2022-10-15T21:40:28.840Z"
   },
   {
    "duration": 19,
    "start_time": "2022-10-15T21:40:29.610Z"
   },
   {
    "duration": 153,
    "start_time": "2022-10-15T21:40:29.630Z"
   },
   {
    "duration": 424,
    "start_time": "2022-10-15T21:40:29.784Z"
   },
   {
    "duration": 886,
    "start_time": "2022-10-15T21:40:30.210Z"
   },
   {
    "duration": 43,
    "start_time": "2022-10-15T21:40:31.098Z"
   },
   {
    "duration": 134,
    "start_time": "2022-10-15T21:40:31.142Z"
   },
   {
    "duration": 4,
    "start_time": "2022-10-15T21:40:31.278Z"
   },
   {
    "duration": 430,
    "start_time": "2022-10-15T21:40:31.283Z"
   },
   {
    "duration": 39,
    "start_time": "2022-10-15T21:40:31.715Z"
   },
   {
    "duration": 296,
    "start_time": "2022-10-15T21:40:31.757Z"
   },
   {
    "duration": 16,
    "start_time": "2022-10-15T21:40:32.055Z"
   },
   {
    "duration": 86,
    "start_time": "2022-10-15T21:40:32.072Z"
   },
   {
    "duration": 3,
    "start_time": "2022-10-15T21:40:32.160Z"
   },
   {
    "duration": 14,
    "start_time": "2022-10-15T21:40:32.165Z"
   },
   {
    "duration": 403,
    "start_time": "2022-10-15T21:40:32.181Z"
   },
   {
    "duration": 352,
    "start_time": "2022-10-15T21:40:32.587Z"
   },
   {
    "duration": 104,
    "start_time": "2022-10-15T21:40:32.941Z"
   },
   {
    "duration": 318,
    "start_time": "2022-10-15T21:40:33.046Z"
   },
   {
    "duration": 288,
    "start_time": "2022-10-15T21:40:33.365Z"
   },
   {
    "duration": 309,
    "start_time": "2022-10-15T21:40:33.655Z"
   },
   {
    "duration": 284,
    "start_time": "2022-10-15T21:40:33.966Z"
   },
   {
    "duration": 302,
    "start_time": "2022-10-15T21:40:34.251Z"
   },
   {
    "duration": 410,
    "start_time": "2022-10-15T21:40:34.555Z"
   },
   {
    "duration": 287,
    "start_time": "2022-10-15T21:40:34.966Z"
   },
   {
    "duration": 48,
    "start_time": "2022-10-15T21:40:35.255Z"
   },
   {
    "duration": 61,
    "start_time": "2022-10-15T21:40:35.305Z"
   },
   {
    "duration": 122,
    "start_time": "2022-10-15T21:40:35.367Z"
   },
   {
    "duration": 293,
    "start_time": "2022-10-15T21:40:35.490Z"
   },
   {
    "duration": 466,
    "start_time": "2022-10-15T21:40:35.784Z"
   },
   {
    "duration": 388,
    "start_time": "2022-10-15T21:40:36.251Z"
   },
   {
    "duration": 1386,
    "start_time": "2022-10-15T21:42:24.074Z"
   },
   {
    "duration": 780,
    "start_time": "2022-10-15T21:42:25.462Z"
   },
   {
    "duration": 3,
    "start_time": "2022-10-15T21:42:26.244Z"
   },
   {
    "duration": 662,
    "start_time": "2022-10-15T21:42:26.249Z"
   },
   {
    "duration": 16,
    "start_time": "2022-10-15T21:42:26.914Z"
   },
   {
    "duration": 171,
    "start_time": "2022-10-15T21:42:26.931Z"
   },
   {
    "duration": 461,
    "start_time": "2022-10-15T21:42:27.104Z"
   },
   {
    "duration": 906,
    "start_time": "2022-10-15T21:42:27.567Z"
   },
   {
    "duration": 29,
    "start_time": "2022-10-15T21:42:28.475Z"
   },
   {
    "duration": 128,
    "start_time": "2022-10-15T21:42:28.506Z"
   },
   {
    "duration": 4,
    "start_time": "2022-10-15T21:42:28.636Z"
   },
   {
    "duration": 501,
    "start_time": "2022-10-15T21:42:28.642Z"
   },
   {
    "duration": 34,
    "start_time": "2022-10-15T21:42:29.144Z"
   },
   {
    "duration": 333,
    "start_time": "2022-10-15T21:42:29.181Z"
   },
   {
    "duration": 19,
    "start_time": "2022-10-15T21:42:29.515Z"
   },
   {
    "duration": 95,
    "start_time": "2022-10-15T21:42:29.535Z"
   },
   {
    "duration": 3,
    "start_time": "2022-10-15T21:42:29.632Z"
   },
   {
    "duration": 16,
    "start_time": "2022-10-15T21:42:29.636Z"
   },
   {
    "duration": 396,
    "start_time": "2022-10-15T21:42:29.653Z"
   },
   {
    "duration": 332,
    "start_time": "2022-10-15T21:42:30.050Z"
   },
   {
    "duration": 99,
    "start_time": "2022-10-15T21:42:30.384Z"
   },
   {
    "duration": 298,
    "start_time": "2022-10-15T21:42:30.485Z"
   },
   {
    "duration": 295,
    "start_time": "2022-10-15T21:42:30.785Z"
   },
   {
    "duration": 296,
    "start_time": "2022-10-15T21:42:31.082Z"
   },
   {
    "duration": 283,
    "start_time": "2022-10-15T21:42:31.379Z"
   },
   {
    "duration": 277,
    "start_time": "2022-10-15T21:42:31.664Z"
   },
   {
    "duration": 353,
    "start_time": "2022-10-15T21:42:31.942Z"
   },
   {
    "duration": 277,
    "start_time": "2022-10-15T21:42:32.297Z"
   },
   {
    "duration": 53,
    "start_time": "2022-10-15T21:42:32.576Z"
   },
   {
    "duration": 45,
    "start_time": "2022-10-15T21:42:32.631Z"
   },
   {
    "duration": 124,
    "start_time": "2022-10-15T21:42:32.677Z"
   },
   {
    "duration": 290,
    "start_time": "2022-10-15T21:42:32.804Z"
   },
   {
    "duration": 441,
    "start_time": "2022-10-15T21:42:33.095Z"
   },
   {
    "duration": 379,
    "start_time": "2022-10-15T21:42:33.538Z"
   },
   {
    "duration": 1499,
    "start_time": "2022-10-15T21:44:08.007Z"
   },
   {
    "duration": 758,
    "start_time": "2022-10-15T21:44:09.508Z"
   },
   {
    "duration": 3,
    "start_time": "2022-10-15T21:44:10.268Z"
   },
   {
    "duration": 676,
    "start_time": "2022-10-15T21:44:10.273Z"
   },
   {
    "duration": 14,
    "start_time": "2022-10-15T21:44:10.951Z"
   },
   {
    "duration": 167,
    "start_time": "2022-10-15T21:44:10.966Z"
   },
   {
    "duration": 462,
    "start_time": "2022-10-15T21:44:11.135Z"
   },
   {
    "duration": 864,
    "start_time": "2022-10-15T21:44:11.599Z"
   },
   {
    "duration": 40,
    "start_time": "2022-10-15T21:44:12.465Z"
   },
   {
    "duration": 128,
    "start_time": "2022-10-15T21:44:12.508Z"
   },
   {
    "duration": 4,
    "start_time": "2022-10-15T21:44:12.637Z"
   },
   {
    "duration": 438,
    "start_time": "2022-10-15T21:44:12.643Z"
   },
   {
    "duration": 37,
    "start_time": "2022-10-15T21:44:13.089Z"
   },
   {
    "duration": 308,
    "start_time": "2022-10-15T21:44:13.127Z"
   },
   {
    "duration": 17,
    "start_time": "2022-10-15T21:44:13.437Z"
   },
   {
    "duration": 100,
    "start_time": "2022-10-15T21:44:13.456Z"
   },
   {
    "duration": 7,
    "start_time": "2022-10-15T21:44:13.558Z"
   },
   {
    "duration": 33,
    "start_time": "2022-10-15T21:44:13.567Z"
   },
   {
    "duration": 387,
    "start_time": "2022-10-15T21:44:13.602Z"
   },
   {
    "duration": 331,
    "start_time": "2022-10-15T21:44:13.991Z"
   },
   {
    "duration": 106,
    "start_time": "2022-10-15T21:44:14.324Z"
   },
   {
    "duration": 354,
    "start_time": "2022-10-15T21:44:14.431Z"
   },
   {
    "duration": 289,
    "start_time": "2022-10-15T21:44:14.786Z"
   },
   {
    "duration": 312,
    "start_time": "2022-10-15T21:44:15.077Z"
   },
   {
    "duration": 302,
    "start_time": "2022-10-15T21:44:15.390Z"
   },
   {
    "duration": 288,
    "start_time": "2022-10-15T21:44:15.693Z"
   },
   {
    "duration": 353,
    "start_time": "2022-10-15T21:44:15.982Z"
   },
   {
    "duration": 274,
    "start_time": "2022-10-15T21:44:16.338Z"
   },
   {
    "duration": 52,
    "start_time": "2022-10-15T21:44:16.614Z"
   },
   {
    "duration": 63,
    "start_time": "2022-10-15T21:44:16.667Z"
   },
   {
    "duration": 105,
    "start_time": "2022-10-15T21:44:16.732Z"
   },
   {
    "duration": 10,
    "start_time": "2022-10-15T21:44:16.839Z"
   },
   {
    "duration": 280,
    "start_time": "2022-10-15T21:44:16.850Z"
   },
   {
    "duration": 483,
    "start_time": "2022-10-15T21:44:17.131Z"
   },
   {
    "duration": 2,
    "start_time": "2022-10-15T21:44:17.616Z"
   },
   {
    "duration": 390,
    "start_time": "2022-10-15T21:44:17.623Z"
   },
   {
    "duration": 101523,
    "start_time": "2022-10-15T21:44:18.015Z"
   },
   {
    "duration": 1415,
    "start_time": "2022-10-15T21:57:00.942Z"
   },
   {
    "duration": 819,
    "start_time": "2022-10-15T21:57:02.359Z"
   },
   {
    "duration": 3,
    "start_time": "2022-10-15T21:57:03.180Z"
   },
   {
    "duration": 663,
    "start_time": "2022-10-15T21:57:03.184Z"
   },
   {
    "duration": 15,
    "start_time": "2022-10-15T21:57:03.849Z"
   },
   {
    "duration": 167,
    "start_time": "2022-10-15T21:57:03.865Z"
   },
   {
    "duration": 437,
    "start_time": "2022-10-15T21:57:04.033Z"
   },
   {
    "duration": 910,
    "start_time": "2022-10-15T21:57:04.472Z"
   },
   {
    "duration": 27,
    "start_time": "2022-10-15T21:57:05.383Z"
   },
   {
    "duration": 115,
    "start_time": "2022-10-15T21:57:05.421Z"
   },
   {
    "duration": 4,
    "start_time": "2022-10-15T21:57:05.537Z"
   },
   {
    "duration": 440,
    "start_time": "2022-10-15T21:57:05.542Z"
   },
   {
    "duration": 46,
    "start_time": "2022-10-15T21:57:05.985Z"
   },
   {
    "duration": 312,
    "start_time": "2022-10-15T21:57:06.034Z"
   },
   {
    "duration": 17,
    "start_time": "2022-10-15T21:57:06.348Z"
   },
   {
    "duration": 92,
    "start_time": "2022-10-15T21:57:06.367Z"
   },
   {
    "duration": 3,
    "start_time": "2022-10-15T21:57:06.461Z"
   },
   {
    "duration": 18,
    "start_time": "2022-10-15T21:57:06.465Z"
   },
   {
    "duration": 392,
    "start_time": "2022-10-15T21:57:06.484Z"
   },
   {
    "duration": 339,
    "start_time": "2022-10-15T21:57:06.877Z"
   },
   {
    "duration": 91,
    "start_time": "2022-10-15T21:57:07.222Z"
   },
   {
    "duration": 312,
    "start_time": "2022-10-15T21:57:07.322Z"
   },
   {
    "duration": 291,
    "start_time": "2022-10-15T21:57:07.636Z"
   },
   {
    "duration": 297,
    "start_time": "2022-10-15T21:57:07.928Z"
   },
   {
    "duration": 279,
    "start_time": "2022-10-15T21:57:08.227Z"
   },
   {
    "duration": 266,
    "start_time": "2022-10-15T21:57:08.507Z"
   },
   {
    "duration": 475,
    "start_time": "2022-10-15T21:57:08.775Z"
   },
   {
    "duration": 270,
    "start_time": "2022-10-15T21:57:09.253Z"
   },
   {
    "duration": 46,
    "start_time": "2022-10-15T21:57:09.525Z"
   },
   {
    "duration": 62,
    "start_time": "2022-10-15T21:57:09.573Z"
   },
   {
    "duration": 107,
    "start_time": "2022-10-15T21:57:09.637Z"
   },
   {
    "duration": 10,
    "start_time": "2022-10-15T21:57:09.745Z"
   },
   {
    "duration": 280,
    "start_time": "2022-10-15T21:57:09.757Z"
   },
   {
    "duration": 460,
    "start_time": "2022-10-15T21:57:10.039Z"
   },
   {
    "duration": 2,
    "start_time": "2022-10-15T21:57:10.501Z"
   },
   {
    "duration": 380,
    "start_time": "2022-10-15T21:57:10.505Z"
   },
   {
    "duration": 79838,
    "start_time": "2022-10-15T21:57:10.887Z"
   },
   {
    "duration": 203,
    "start_time": "2022-10-15T21:58:30.727Z"
   },
   {
    "duration": 0,
    "start_time": "2022-10-15T21:58:30.932Z"
   },
   {
    "duration": 0,
    "start_time": "2022-10-15T21:58:30.933Z"
   },
   {
    "duration": 0,
    "start_time": "2022-10-15T21:58:30.934Z"
   },
   {
    "duration": 0,
    "start_time": "2022-10-15T21:58:30.936Z"
   },
   {
    "duration": 0,
    "start_time": "2022-10-15T21:58:30.936Z"
   },
   {
    "duration": 0,
    "start_time": "2022-10-15T21:58:30.938Z"
   },
   {
    "duration": 0,
    "start_time": "2022-10-15T21:58:30.938Z"
   },
   {
    "duration": 0,
    "start_time": "2022-10-15T21:58:30.939Z"
   },
   {
    "duration": 0,
    "start_time": "2022-10-15T21:58:30.940Z"
   },
   {
    "duration": 1439,
    "start_time": "2022-10-15T21:59:39.995Z"
   },
   {
    "duration": 758,
    "start_time": "2022-10-15T21:59:41.436Z"
   },
   {
    "duration": 3,
    "start_time": "2022-10-15T21:59:42.196Z"
   },
   {
    "duration": 627,
    "start_time": "2022-10-15T21:59:42.200Z"
   },
   {
    "duration": 16,
    "start_time": "2022-10-15T21:59:42.830Z"
   },
   {
    "duration": 160,
    "start_time": "2022-10-15T21:59:42.848Z"
   },
   {
    "duration": 395,
    "start_time": "2022-10-15T21:59:43.009Z"
   },
   {
    "duration": 845,
    "start_time": "2022-10-15T21:59:43.405Z"
   },
   {
    "duration": 28,
    "start_time": "2022-10-15T21:59:44.252Z"
   },
   {
    "duration": 127,
    "start_time": "2022-10-15T21:59:44.282Z"
   },
   {
    "duration": 4,
    "start_time": "2022-10-15T21:59:44.411Z"
   },
   {
    "duration": 420,
    "start_time": "2022-10-15T21:59:44.416Z"
   },
   {
    "duration": 34,
    "start_time": "2022-10-15T21:59:44.838Z"
   },
   {
    "duration": 337,
    "start_time": "2022-10-15T21:59:44.875Z"
   },
   {
    "duration": 22,
    "start_time": "2022-10-15T21:59:45.213Z"
   },
   {
    "duration": 87,
    "start_time": "2022-10-15T21:59:45.236Z"
   },
   {
    "duration": 3,
    "start_time": "2022-10-15T21:59:45.324Z"
   },
   {
    "duration": 13,
    "start_time": "2022-10-15T21:59:45.328Z"
   },
   {
    "duration": 403,
    "start_time": "2022-10-15T21:59:45.342Z"
   },
   {
    "duration": 330,
    "start_time": "2022-10-15T21:59:45.747Z"
   },
   {
    "duration": 97,
    "start_time": "2022-10-15T21:59:46.079Z"
   },
   {
    "duration": 275,
    "start_time": "2022-10-15T21:59:46.178Z"
   },
   {
    "duration": 284,
    "start_time": "2022-10-15T21:59:46.455Z"
   },
   {
    "duration": 285,
    "start_time": "2022-10-15T21:59:46.741Z"
   },
   {
    "duration": 286,
    "start_time": "2022-10-15T21:59:47.027Z"
   },
   {
    "duration": 348,
    "start_time": "2022-10-15T21:59:47.315Z"
   },
   {
    "duration": 352,
    "start_time": "2022-10-15T21:59:47.664Z"
   },
   {
    "duration": 275,
    "start_time": "2022-10-15T21:59:48.017Z"
   },
   {
    "duration": 52,
    "start_time": "2022-10-15T21:59:48.294Z"
   },
   {
    "duration": 44,
    "start_time": "2022-10-15T21:59:48.348Z"
   },
   {
    "duration": 115,
    "start_time": "2022-10-15T21:59:48.393Z"
   },
   {
    "duration": 17,
    "start_time": "2022-10-15T21:59:48.510Z"
   },
   {
    "duration": 278,
    "start_time": "2022-10-15T21:59:48.529Z"
   },
   {
    "duration": 469,
    "start_time": "2022-10-15T21:59:48.808Z"
   },
   {
    "duration": 3,
    "start_time": "2022-10-15T21:59:49.279Z"
   },
   {
    "duration": 388,
    "start_time": "2022-10-15T21:59:49.284Z"
   },
   {
    "duration": 92956,
    "start_time": "2022-10-15T21:59:49.674Z"
   },
   {
    "duration": 82291,
    "start_time": "2022-10-15T22:01:22.633Z"
   },
   {
    "duration": 17297,
    "start_time": "2022-10-15T22:02:44.926Z"
   },
   {
    "duration": 51164,
    "start_time": "2022-10-15T22:03:02.225Z"
   },
   {
    "duration": 52,
    "start_time": "2022-10-15T22:03:53.392Z"
   },
   {
    "duration": 334487,
    "start_time": "2022-10-15T22:03:53.445Z"
   },
   {
    "duration": 194,
    "start_time": "2022-10-15T22:09:27.934Z"
   },
   {
    "duration": 114389,
    "start_time": "2022-10-15T22:09:28.130Z"
   },
   {
    "duration": 28153,
    "start_time": "2022-10-15T22:11:22.521Z"
   },
   {
    "duration": 1523062,
    "start_time": "2022-10-15T22:11:50.675Z"
   },
   {
    "duration": 1683,
    "start_time": "2022-10-15T22:37:13.739Z"
   },
   {
    "duration": 108,
    "start_time": "2022-10-15T23:06:46.946Z"
   },
   {
    "duration": 16,
    "start_time": "2022-10-15T23:07:01.821Z"
   },
   {
    "duration": 9,
    "start_time": "2022-10-15T23:10:52.564Z"
   },
   {
    "duration": 27754,
    "start_time": "2022-10-15T23:10:54.519Z"
   },
   {
    "duration": 132,
    "start_time": "2022-10-15T23:11:22.275Z"
   },
   {
    "duration": 28174,
    "start_time": "2022-10-15T23:15:22.301Z"
   },
   {
    "duration": 1375,
    "start_time": "2022-10-15T23:30:36.465Z"
   },
   {
    "duration": 757,
    "start_time": "2022-10-15T23:30:37.843Z"
   },
   {
    "duration": 3,
    "start_time": "2022-10-15T23:30:38.601Z"
   },
   {
    "duration": 708,
    "start_time": "2022-10-15T23:30:38.606Z"
   },
   {
    "duration": 17,
    "start_time": "2022-10-15T23:30:39.316Z"
   },
   {
    "duration": 154,
    "start_time": "2022-10-15T23:30:39.335Z"
   },
   {
    "duration": 421,
    "start_time": "2022-10-15T23:30:39.490Z"
   },
   {
    "duration": 869,
    "start_time": "2022-10-15T23:30:39.912Z"
   },
   {
    "duration": 28,
    "start_time": "2022-10-15T23:30:40.782Z"
   },
   {
    "duration": 126,
    "start_time": "2022-10-15T23:30:40.811Z"
   },
   {
    "duration": 4,
    "start_time": "2022-10-15T23:30:40.939Z"
   },
   {
    "duration": 432,
    "start_time": "2022-10-15T23:30:40.944Z"
   },
   {
    "duration": 34,
    "start_time": "2022-10-15T23:30:41.377Z"
   },
   {
    "duration": 313,
    "start_time": "2022-10-15T23:30:41.421Z"
   },
   {
    "duration": 16,
    "start_time": "2022-10-15T23:30:41.735Z"
   },
   {
    "duration": 90,
    "start_time": "2022-10-15T23:30:41.752Z"
   },
   {
    "duration": 3,
    "start_time": "2022-10-15T23:30:41.843Z"
   },
   {
    "duration": 15,
    "start_time": "2022-10-15T23:30:41.848Z"
   },
   {
    "duration": 398,
    "start_time": "2022-10-15T23:30:41.865Z"
   },
   {
    "duration": 318,
    "start_time": "2022-10-15T23:30:42.266Z"
   },
   {
    "duration": 104,
    "start_time": "2022-10-15T23:30:42.586Z"
   },
   {
    "duration": 278,
    "start_time": "2022-10-15T23:30:42.692Z"
   },
   {
    "duration": 281,
    "start_time": "2022-10-15T23:30:42.973Z"
   },
   {
    "duration": 277,
    "start_time": "2022-10-15T23:30:43.256Z"
   },
   {
    "duration": 277,
    "start_time": "2022-10-15T23:30:43.535Z"
   },
   {
    "duration": 254,
    "start_time": "2022-10-15T23:30:43.813Z"
   },
   {
    "duration": 343,
    "start_time": "2022-10-15T23:30:44.068Z"
   },
   {
    "duration": 279,
    "start_time": "2022-10-15T23:30:44.413Z"
   },
   {
    "duration": 57,
    "start_time": "2022-10-15T23:30:44.693Z"
   },
   {
    "duration": 44,
    "start_time": "2022-10-15T23:30:44.751Z"
   },
   {
    "duration": 110,
    "start_time": "2022-10-15T23:30:44.797Z"
   },
   {
    "duration": 16,
    "start_time": "2022-10-15T23:30:44.909Z"
   },
   {
    "duration": 267,
    "start_time": "2022-10-15T23:30:44.926Z"
   },
   {
    "duration": 452,
    "start_time": "2022-10-15T23:30:45.194Z"
   },
   {
    "duration": 3,
    "start_time": "2022-10-15T23:30:45.648Z"
   },
   {
    "duration": 392,
    "start_time": "2022-10-15T23:30:45.652Z"
   },
   {
    "duration": 67376,
    "start_time": "2022-10-15T23:30:46.046Z"
   },
   {
    "duration": 78398,
    "start_time": "2022-10-15T23:31:53.425Z"
   },
   {
    "duration": 16500,
    "start_time": "2022-10-15T23:33:11.825Z"
   },
   {
    "duration": 50965,
    "start_time": "2022-10-15T23:33:28.331Z"
   },
   {
    "duration": 57,
    "start_time": "2022-10-15T23:34:19.299Z"
   },
   {
    "duration": 326350,
    "start_time": "2022-10-15T23:34:19.358Z"
   },
   {
    "duration": 206,
    "start_time": "2022-10-15T23:39:45.710Z"
   },
   {
    "duration": 114527,
    "start_time": "2022-10-15T23:39:45.917Z"
   },
   {
    "duration": 28108,
    "start_time": "2022-10-15T23:41:40.446Z"
   },
   {
    "duration": 766868,
    "start_time": "2022-10-15T23:42:08.556Z"
   },
   {
    "duration": 1507,
    "start_time": "2022-10-15T23:54:55.425Z"
   },
   {
    "duration": 15,
    "start_time": "2022-10-15T23:54:56.934Z"
   },
   {
    "duration": 28032,
    "start_time": "2022-10-15T23:54:56.950Z"
   },
   {
    "duration": 143,
    "start_time": "2022-10-15T23:55:24.983Z"
   },
   {
    "duration": 50,
    "start_time": "2022-10-18T03:52:46.611Z"
   },
   {
    "duration": 1674,
    "start_time": "2022-10-18T03:52:50.801Z"
   },
   {
    "duration": 1049,
    "start_time": "2022-10-18T03:52:52.478Z"
   },
   {
    "duration": 4,
    "start_time": "2022-10-18T03:52:53.528Z"
   },
   {
    "duration": 706,
    "start_time": "2022-10-18T03:52:53.533Z"
   },
   {
    "duration": 19,
    "start_time": "2022-10-18T03:52:54.241Z"
   },
   {
    "duration": 178,
    "start_time": "2022-10-18T03:52:54.262Z"
   },
   {
    "duration": 422,
    "start_time": "2022-10-18T03:52:54.442Z"
   },
   {
    "duration": 1005,
    "start_time": "2022-10-18T03:52:54.866Z"
   },
   {
    "duration": 27,
    "start_time": "2022-10-18T03:52:55.873Z"
   },
   {
    "duration": 126,
    "start_time": "2022-10-18T03:52:55.902Z"
   },
   {
    "duration": 5,
    "start_time": "2022-10-18T03:52:56.029Z"
   },
   {
    "duration": 465,
    "start_time": "2022-10-18T03:52:56.036Z"
   },
   {
    "duration": 52,
    "start_time": "2022-10-18T03:52:56.502Z"
   },
   {
    "duration": 392,
    "start_time": "2022-10-18T03:52:56.558Z"
   },
   {
    "duration": 15,
    "start_time": "2022-10-18T03:52:56.952Z"
   },
   {
    "duration": 93,
    "start_time": "2022-10-18T03:52:56.969Z"
   },
   {
    "duration": 3,
    "start_time": "2022-10-18T03:52:57.065Z"
   },
   {
    "duration": 35,
    "start_time": "2022-10-18T03:52:57.070Z"
   },
   {
    "duration": 447,
    "start_time": "2022-10-18T03:52:57.107Z"
   },
   {
    "duration": 342,
    "start_time": "2022-10-18T03:52:57.557Z"
   },
   {
    "duration": 104,
    "start_time": "2022-10-18T03:52:57.901Z"
   },
   {
    "duration": 298,
    "start_time": "2022-10-18T03:52:58.007Z"
   },
   {
    "duration": 299,
    "start_time": "2022-10-18T03:52:58.307Z"
   },
   {
    "duration": 310,
    "start_time": "2022-10-18T03:52:58.608Z"
   },
   {
    "duration": 388,
    "start_time": "2022-10-18T03:52:58.921Z"
   },
   {
    "duration": 380,
    "start_time": "2022-10-18T03:52:59.311Z"
   },
   {
    "duration": 271,
    "start_time": "2022-10-18T03:52:59.693Z"
   },
   {
    "duration": 321,
    "start_time": "2022-10-18T03:52:59.966Z"
   },
   {
    "duration": 58,
    "start_time": "2022-10-18T03:53:00.289Z"
   },
   {
    "duration": 48,
    "start_time": "2022-10-18T03:53:00.349Z"
   },
   {
    "duration": 140,
    "start_time": "2022-10-18T03:53:00.399Z"
   },
   {
    "duration": 14,
    "start_time": "2022-10-18T03:53:00.541Z"
   },
   {
    "duration": 293,
    "start_time": "2022-10-18T03:53:00.557Z"
   },
   {
    "duration": 488,
    "start_time": "2022-10-18T03:53:00.852Z"
   },
   {
    "duration": 3,
    "start_time": "2022-10-18T03:53:01.342Z"
   },
   {
    "duration": 435,
    "start_time": "2022-10-18T03:53:01.346Z"
   },
   {
    "duration": 139238,
    "start_time": "2022-10-18T03:53:01.783Z"
   },
   {
    "duration": 0,
    "start_time": "2022-10-18T03:56:05.437Z"
   },
   {
    "duration": 0,
    "start_time": "2022-10-18T03:56:05.438Z"
   },
   {
    "duration": 0,
    "start_time": "2022-10-18T03:56:05.440Z"
   },
   {
    "duration": 0,
    "start_time": "2022-10-18T03:56:05.441Z"
   },
   {
    "duration": 0,
    "start_time": "2022-10-18T03:56:05.442Z"
   },
   {
    "duration": 0,
    "start_time": "2022-10-18T03:56:05.444Z"
   },
   {
    "duration": 0,
    "start_time": "2022-10-18T03:56:05.445Z"
   },
   {
    "duration": 0,
    "start_time": "2022-10-18T03:56:05.447Z"
   },
   {
    "duration": 0,
    "start_time": "2022-10-18T03:56:05.449Z"
   },
   {
    "duration": 0,
    "start_time": "2022-10-18T03:56:05.450Z"
   },
   {
    "duration": 0,
    "start_time": "2022-10-18T03:56:05.451Z"
   },
   {
    "duration": 0,
    "start_time": "2022-10-18T03:56:05.453Z"
   },
   {
    "duration": 0,
    "start_time": "2022-10-18T03:56:05.454Z"
   },
   {
    "duration": 0,
    "start_time": "2022-10-18T03:56:05.455Z"
   },
   {
    "duration": 0,
    "start_time": "2022-10-18T03:56:05.457Z"
   },
   {
    "duration": 0,
    "start_time": "2022-10-18T03:56:05.458Z"
   },
   {
    "duration": 0,
    "start_time": "2022-10-18T03:56:05.460Z"
   },
   {
    "duration": 0,
    "start_time": "2022-10-18T03:56:05.523Z"
   },
   {
    "duration": 0,
    "start_time": "2022-10-18T03:56:05.524Z"
   },
   {
    "duration": 0,
    "start_time": "2022-10-18T03:56:05.526Z"
   },
   {
    "duration": 0,
    "start_time": "2022-10-18T03:56:05.527Z"
   },
   {
    "duration": 0,
    "start_time": "2022-10-18T03:56:05.529Z"
   },
   {
    "duration": 0,
    "start_time": "2022-10-18T03:56:05.530Z"
   },
   {
    "duration": 0,
    "start_time": "2022-10-18T03:56:05.531Z"
   },
   {
    "duration": 0,
    "start_time": "2022-10-18T03:56:05.533Z"
   },
   {
    "duration": 0,
    "start_time": "2022-10-18T03:56:05.534Z"
   },
   {
    "duration": 0,
    "start_time": "2022-10-18T03:56:05.536Z"
   },
   {
    "duration": 0,
    "start_time": "2022-10-18T03:56:05.537Z"
   },
   {
    "duration": 0,
    "start_time": "2022-10-18T03:56:05.538Z"
   },
   {
    "duration": 0,
    "start_time": "2022-10-18T03:56:05.539Z"
   },
   {
    "duration": 0,
    "start_time": "2022-10-18T03:56:05.541Z"
   },
   {
    "duration": 0,
    "start_time": "2022-10-18T03:56:05.542Z"
   },
   {
    "duration": 0,
    "start_time": "2022-10-18T03:56:05.544Z"
   },
   {
    "duration": 0,
    "start_time": "2022-10-18T03:56:05.545Z"
   },
   {
    "duration": 0,
    "start_time": "2022-10-18T03:56:05.547Z"
   },
   {
    "duration": 0,
    "start_time": "2022-10-18T03:56:05.548Z"
   },
   {
    "duration": 0,
    "start_time": "2022-10-18T03:56:05.549Z"
   },
   {
    "duration": 0,
    "start_time": "2022-10-18T03:56:05.551Z"
   },
   {
    "duration": 0,
    "start_time": "2022-10-18T03:56:05.552Z"
   },
   {
    "duration": 0,
    "start_time": "2022-10-18T03:56:05.554Z"
   },
   {
    "duration": 0,
    "start_time": "2022-10-18T03:56:05.557Z"
   },
   {
    "duration": 0,
    "start_time": "2022-10-18T03:56:05.558Z"
   },
   {
    "duration": 0,
    "start_time": "2022-10-18T03:56:05.560Z"
   },
   {
    "duration": 0,
    "start_time": "2022-10-18T03:56:05.623Z"
   },
   {
    "duration": 0,
    "start_time": "2022-10-18T03:56:05.625Z"
   },
   {
    "duration": 0,
    "start_time": "2022-10-18T03:56:05.625Z"
   },
   {
    "duration": 0,
    "start_time": "2022-10-18T03:56:05.626Z"
   },
   {
    "duration": 0,
    "start_time": "2022-10-18T03:56:05.627Z"
   },
   {
    "duration": 0,
    "start_time": "2022-10-18T03:56:05.628Z"
   },
   {
    "duration": 0,
    "start_time": "2022-10-18T03:56:05.629Z"
   },
   {
    "duration": 1500,
    "start_time": "2022-10-18T03:56:17.564Z"
   },
   {
    "duration": 819,
    "start_time": "2022-10-18T03:56:19.066Z"
   },
   {
    "duration": 4,
    "start_time": "2022-10-18T03:56:19.886Z"
   },
   {
    "duration": 663,
    "start_time": "2022-10-18T03:56:19.892Z"
   },
   {
    "duration": 16,
    "start_time": "2022-10-18T03:56:20.557Z"
   },
   {
    "duration": 172,
    "start_time": "2022-10-18T03:56:20.574Z"
   },
   {
    "duration": 456,
    "start_time": "2022-10-18T03:56:20.748Z"
   },
   {
    "duration": 937,
    "start_time": "2022-10-18T03:56:21.205Z"
   },
   {
    "duration": 27,
    "start_time": "2022-10-18T03:56:22.144Z"
   },
   {
    "duration": 159,
    "start_time": "2022-10-18T03:56:22.173Z"
   },
   {
    "duration": 4,
    "start_time": "2022-10-18T03:56:22.334Z"
   },
   {
    "duration": 432,
    "start_time": "2022-10-18T03:56:22.339Z"
   },
   {
    "duration": 59,
    "start_time": "2022-10-18T03:56:22.773Z"
   },
   {
    "duration": 322,
    "start_time": "2022-10-18T03:56:22.835Z"
   },
   {
    "duration": 15,
    "start_time": "2022-10-18T03:56:23.159Z"
   },
   {
    "duration": 92,
    "start_time": "2022-10-18T03:56:23.175Z"
   },
   {
    "duration": 3,
    "start_time": "2022-10-18T03:56:23.268Z"
   },
   {
    "duration": 25,
    "start_time": "2022-10-18T03:56:23.273Z"
   },
   {
    "duration": 408,
    "start_time": "2022-10-18T03:56:23.300Z"
   },
   {
    "duration": 339,
    "start_time": "2022-10-18T03:56:23.709Z"
   },
   {
    "duration": 106,
    "start_time": "2022-10-18T03:56:24.050Z"
   },
   {
    "duration": 292,
    "start_time": "2022-10-18T03:56:24.157Z"
   },
   {
    "duration": 296,
    "start_time": "2022-10-18T03:56:24.450Z"
   },
   {
    "duration": 350,
    "start_time": "2022-10-18T03:56:24.748Z"
   },
   {
    "duration": 301,
    "start_time": "2022-10-18T03:56:25.100Z"
   },
   {
    "duration": 308,
    "start_time": "2022-10-18T03:56:25.403Z"
   },
   {
    "duration": 386,
    "start_time": "2022-10-18T03:56:25.721Z"
   },
   {
    "duration": 294,
    "start_time": "2022-10-18T03:56:26.110Z"
   },
   {
    "duration": 54,
    "start_time": "2022-10-18T03:56:26.406Z"
   },
   {
    "duration": 67,
    "start_time": "2022-10-18T03:56:26.461Z"
   },
   {
    "duration": 104,
    "start_time": "2022-10-18T03:56:26.529Z"
   },
   {
    "duration": 10,
    "start_time": "2022-10-18T03:56:26.635Z"
   },
   {
    "duration": 120,
    "start_time": "2022-10-18T03:56:26.647Z"
   },
   {
    "duration": 0,
    "start_time": "2022-10-18T03:56:26.769Z"
   },
   {
    "duration": 0,
    "start_time": "2022-10-18T03:56:26.770Z"
   },
   {
    "duration": 0,
    "start_time": "2022-10-18T03:56:26.772Z"
   },
   {
    "duration": 0,
    "start_time": "2022-10-18T03:56:26.773Z"
   },
   {
    "duration": 0,
    "start_time": "2022-10-18T03:56:26.775Z"
   },
   {
    "duration": 0,
    "start_time": "2022-10-18T03:56:26.776Z"
   },
   {
    "duration": 0,
    "start_time": "2022-10-18T03:56:26.778Z"
   },
   {
    "duration": 0,
    "start_time": "2022-10-18T03:56:26.779Z"
   },
   {
    "duration": 0,
    "start_time": "2022-10-18T03:56:26.781Z"
   },
   {
    "duration": 0,
    "start_time": "2022-10-18T03:56:26.782Z"
   },
   {
    "duration": 0,
    "start_time": "2022-10-18T03:56:26.783Z"
   },
   {
    "duration": 0,
    "start_time": "2022-10-18T03:56:26.784Z"
   },
   {
    "duration": 0,
    "start_time": "2022-10-18T03:56:26.785Z"
   },
   {
    "duration": 0,
    "start_time": "2022-10-18T03:56:26.786Z"
   },
   {
    "duration": 0,
    "start_time": "2022-10-18T03:56:26.787Z"
   },
   {
    "duration": 0,
    "start_time": "2022-10-18T03:56:26.822Z"
   },
   {
    "duration": 0,
    "start_time": "2022-10-18T03:56:26.824Z"
   },
   {
    "duration": 1467,
    "start_time": "2022-10-18T03:56:52.225Z"
   },
   {
    "duration": 846,
    "start_time": "2022-10-18T03:56:53.694Z"
   },
   {
    "duration": 3,
    "start_time": "2022-10-18T03:56:54.542Z"
   },
   {
    "duration": 1476,
    "start_time": "2022-10-18T03:56:54.547Z"
   },
   {
    "duration": 20,
    "start_time": "2022-10-18T03:56:56.026Z"
   },
   {
    "duration": 321,
    "start_time": "2022-10-18T03:56:56.047Z"
   },
   {
    "duration": 463,
    "start_time": "2022-10-18T03:56:56.370Z"
   },
   {
    "duration": 975,
    "start_time": "2022-10-18T03:56:56.835Z"
   },
   {
    "duration": 29,
    "start_time": "2022-10-18T03:56:57.811Z"
   },
   {
    "duration": 138,
    "start_time": "2022-10-18T03:56:57.842Z"
   },
   {
    "duration": 4,
    "start_time": "2022-10-18T03:56:57.981Z"
   },
   {
    "duration": 457,
    "start_time": "2022-10-18T03:56:57.987Z"
   },
   {
    "duration": 34,
    "start_time": "2022-10-18T03:56:58.446Z"
   },
   {
    "duration": 363,
    "start_time": "2022-10-18T03:56:58.483Z"
   },
   {
    "duration": 18,
    "start_time": "2022-10-18T03:56:58.849Z"
   },
   {
    "duration": 123,
    "start_time": "2022-10-18T03:56:58.869Z"
   },
   {
    "duration": 4,
    "start_time": "2022-10-18T03:56:58.994Z"
   },
   {
    "duration": 23,
    "start_time": "2022-10-18T03:56:59.000Z"
   },
   {
    "duration": 417,
    "start_time": "2022-10-18T03:56:59.025Z"
   },
   {
    "duration": 341,
    "start_time": "2022-10-18T03:56:59.444Z"
   },
   {
    "duration": 100,
    "start_time": "2022-10-18T03:56:59.787Z"
   },
   {
    "duration": 307,
    "start_time": "2022-10-18T03:56:59.889Z"
   },
   {
    "duration": 296,
    "start_time": "2022-10-18T03:57:00.197Z"
   },
   {
    "duration": 339,
    "start_time": "2022-10-18T03:57:00.494Z"
   },
   {
    "duration": 296,
    "start_time": "2022-10-18T03:57:00.834Z"
   },
   {
    "duration": 295,
    "start_time": "2022-10-18T03:57:01.132Z"
   },
   {
    "duration": 413,
    "start_time": "2022-10-18T03:57:01.429Z"
   },
   {
    "duration": 294,
    "start_time": "2022-10-18T03:57:01.844Z"
   },
   {
    "duration": 48,
    "start_time": "2022-10-18T03:57:02.140Z"
   },
   {
    "duration": 63,
    "start_time": "2022-10-18T03:57:02.189Z"
   },
   {
    "duration": 127,
    "start_time": "2022-10-18T03:57:02.254Z"
   },
   {
    "duration": 15,
    "start_time": "2022-10-18T03:57:02.383Z"
   },
   {
    "duration": 3,
    "start_time": "2022-10-18T03:57:02.400Z"
   },
   {
    "duration": 166,
    "start_time": "2022-10-18T03:57:02.405Z"
   },
   {
    "duration": 0,
    "start_time": "2022-10-18T03:57:02.574Z"
   },
   {
    "duration": 0,
    "start_time": "2022-10-18T03:57:02.575Z"
   },
   {
    "duration": 0,
    "start_time": "2022-10-18T03:57:02.577Z"
   },
   {
    "duration": 0,
    "start_time": "2022-10-18T03:57:02.578Z"
   },
   {
    "duration": 0,
    "start_time": "2022-10-18T03:57:02.579Z"
   },
   {
    "duration": 0,
    "start_time": "2022-10-18T03:57:02.580Z"
   },
   {
    "duration": 0,
    "start_time": "2022-10-18T03:57:02.582Z"
   },
   {
    "duration": 0,
    "start_time": "2022-10-18T03:57:02.583Z"
   },
   {
    "duration": 0,
    "start_time": "2022-10-18T03:57:02.584Z"
   },
   {
    "duration": 0,
    "start_time": "2022-10-18T03:57:02.585Z"
   },
   {
    "duration": 0,
    "start_time": "2022-10-18T03:57:02.586Z"
   },
   {
    "duration": 0,
    "start_time": "2022-10-18T03:57:02.588Z"
   },
   {
    "duration": 0,
    "start_time": "2022-10-18T03:57:02.590Z"
   },
   {
    "duration": 0,
    "start_time": "2022-10-18T03:57:02.590Z"
   },
   {
    "duration": 0,
    "start_time": "2022-10-18T03:57:02.592Z"
   },
   {
    "duration": 0,
    "start_time": "2022-10-18T03:57:02.621Z"
   },
   {
    "duration": 6,
    "start_time": "2022-10-18T03:57:29.760Z"
   },
   {
    "duration": 1469,
    "start_time": "2022-10-18T03:57:52.401Z"
   },
   {
    "duration": 1677,
    "start_time": "2022-10-18T03:57:53.873Z"
   },
   {
    "duration": 3,
    "start_time": "2022-10-18T03:57:55.552Z"
   },
   {
    "duration": 786,
    "start_time": "2022-10-18T03:57:55.557Z"
   },
   {
    "duration": 14,
    "start_time": "2022-10-18T03:57:56.345Z"
   },
   {
    "duration": 169,
    "start_time": "2022-10-18T03:57:56.361Z"
   },
   {
    "duration": 416,
    "start_time": "2022-10-18T03:57:56.532Z"
   },
   {
    "duration": 910,
    "start_time": "2022-10-18T03:57:56.950Z"
   },
   {
    "duration": 30,
    "start_time": "2022-10-18T03:57:57.862Z"
   },
   {
    "duration": 178,
    "start_time": "2022-10-18T03:57:57.894Z"
   },
   {
    "duration": 6,
    "start_time": "2022-10-18T03:57:58.074Z"
   },
   {
    "duration": 443,
    "start_time": "2022-10-18T03:57:58.082Z"
   },
   {
    "duration": 36,
    "start_time": "2022-10-18T03:57:58.526Z"
   },
   {
    "duration": 313,
    "start_time": "2022-10-18T03:57:58.565Z"
   },
   {
    "duration": 19,
    "start_time": "2022-10-18T03:57:58.880Z"
   },
   {
    "duration": 140,
    "start_time": "2022-10-18T03:57:58.901Z"
   },
   {
    "duration": 5,
    "start_time": "2022-10-18T03:57:59.044Z"
   },
   {
    "duration": 45,
    "start_time": "2022-10-18T03:57:59.050Z"
   },
   {
    "duration": 400,
    "start_time": "2022-10-18T03:57:59.096Z"
   },
   {
    "duration": 354,
    "start_time": "2022-10-18T03:57:59.498Z"
   },
   {
    "duration": 95,
    "start_time": "2022-10-18T03:57:59.854Z"
   },
   {
    "duration": 394,
    "start_time": "2022-10-18T03:57:59.950Z"
   },
   {
    "duration": 301,
    "start_time": "2022-10-18T03:58:00.346Z"
   },
   {
    "duration": 333,
    "start_time": "2022-10-18T03:58:00.649Z"
   },
   {
    "duration": 279,
    "start_time": "2022-10-18T03:58:00.984Z"
   },
   {
    "duration": 321,
    "start_time": "2022-10-18T03:58:01.265Z"
   },
   {
    "duration": 393,
    "start_time": "2022-10-18T03:58:01.588Z"
   },
   {
    "duration": 302,
    "start_time": "2022-10-18T03:58:01.983Z"
   },
   {
    "duration": 60,
    "start_time": "2022-10-18T03:58:02.287Z"
   },
   {
    "duration": 48,
    "start_time": "2022-10-18T03:58:02.348Z"
   },
   {
    "duration": 132,
    "start_time": "2022-10-18T03:58:02.398Z"
   },
   {
    "duration": 14,
    "start_time": "2022-10-18T03:58:02.532Z"
   },
   {
    "duration": 6,
    "start_time": "2022-10-18T03:58:02.548Z"
   },
   {
    "duration": 217,
    "start_time": "2022-10-18T03:58:02.555Z"
   },
   {
    "duration": 0,
    "start_time": "2022-10-18T03:58:02.774Z"
   },
   {
    "duration": 0,
    "start_time": "2022-10-18T03:58:02.775Z"
   },
   {
    "duration": 0,
    "start_time": "2022-10-18T03:58:02.776Z"
   },
   {
    "duration": 0,
    "start_time": "2022-10-18T03:58:02.778Z"
   },
   {
    "duration": 0,
    "start_time": "2022-10-18T03:58:02.778Z"
   },
   {
    "duration": 0,
    "start_time": "2022-10-18T03:58:02.779Z"
   },
   {
    "duration": 0,
    "start_time": "2022-10-18T03:58:02.781Z"
   },
   {
    "duration": 0,
    "start_time": "2022-10-18T03:58:02.782Z"
   },
   {
    "duration": 0,
    "start_time": "2022-10-18T03:58:02.783Z"
   },
   {
    "duration": 0,
    "start_time": "2022-10-18T03:58:02.784Z"
   },
   {
    "duration": 0,
    "start_time": "2022-10-18T03:58:02.785Z"
   },
   {
    "duration": 0,
    "start_time": "2022-10-18T03:58:02.786Z"
   },
   {
    "duration": 0,
    "start_time": "2022-10-18T03:58:02.787Z"
   },
   {
    "duration": 0,
    "start_time": "2022-10-18T03:58:02.788Z"
   },
   {
    "duration": 0,
    "start_time": "2022-10-18T03:58:02.789Z"
   },
   {
    "duration": 0,
    "start_time": "2022-10-18T03:58:02.790Z"
   },
   {
    "duration": 1620,
    "start_time": "2022-10-18T03:58:43.362Z"
   },
   {
    "duration": 1759,
    "start_time": "2022-10-18T03:58:44.985Z"
   },
   {
    "duration": 3,
    "start_time": "2022-10-18T03:58:46.746Z"
   },
   {
    "duration": 642,
    "start_time": "2022-10-18T03:58:46.751Z"
   },
   {
    "duration": 26,
    "start_time": "2022-10-18T03:58:47.396Z"
   },
   {
    "duration": 170,
    "start_time": "2022-10-18T03:58:47.424Z"
   },
   {
    "duration": 405,
    "start_time": "2022-10-18T03:58:47.595Z"
   },
   {
    "duration": 910,
    "start_time": "2022-10-18T03:58:48.001Z"
   },
   {
    "duration": 35,
    "start_time": "2022-10-18T03:58:48.914Z"
   },
   {
    "duration": 193,
    "start_time": "2022-10-18T03:58:48.953Z"
   },
   {
    "duration": 6,
    "start_time": "2022-10-18T03:58:49.148Z"
   },
   {
    "duration": 423,
    "start_time": "2022-10-18T03:58:49.155Z"
   },
   {
    "duration": 58,
    "start_time": "2022-10-18T03:58:49.580Z"
   },
   {
    "duration": 308,
    "start_time": "2022-10-18T03:58:49.641Z"
   },
   {
    "duration": 16,
    "start_time": "2022-10-18T03:58:49.950Z"
   },
   {
    "duration": 93,
    "start_time": "2022-10-18T03:58:49.968Z"
   },
   {
    "duration": 4,
    "start_time": "2022-10-18T03:58:50.063Z"
   },
   {
    "duration": 21,
    "start_time": "2022-10-18T03:58:50.069Z"
   },
   {
    "duration": 426,
    "start_time": "2022-10-18T03:58:50.092Z"
   },
   {
    "duration": 357,
    "start_time": "2022-10-18T03:58:50.520Z"
   },
   {
    "duration": 106,
    "start_time": "2022-10-18T03:58:50.879Z"
   },
   {
    "duration": 344,
    "start_time": "2022-10-18T03:58:50.987Z"
   },
   {
    "duration": 306,
    "start_time": "2022-10-18T03:58:51.334Z"
   },
   {
    "duration": 336,
    "start_time": "2022-10-18T03:58:51.642Z"
   },
   {
    "duration": 269,
    "start_time": "2022-10-18T03:58:51.980Z"
   },
   {
    "duration": 323,
    "start_time": "2022-10-18T03:58:52.251Z"
   },
   {
    "duration": 386,
    "start_time": "2022-10-18T03:58:52.575Z"
   },
   {
    "duration": 289,
    "start_time": "2022-10-18T03:58:52.964Z"
   },
   {
    "duration": 51,
    "start_time": "2022-10-18T03:58:53.255Z"
   },
   {
    "duration": 49,
    "start_time": "2022-10-18T03:58:53.322Z"
   },
   {
    "duration": 128,
    "start_time": "2022-10-18T03:58:53.373Z"
   },
   {
    "duration": 21,
    "start_time": "2022-10-18T03:58:53.503Z"
   },
   {
    "duration": 7,
    "start_time": "2022-10-18T03:58:53.525Z"
   },
   {
    "duration": 478,
    "start_time": "2022-10-18T03:58:53.533Z"
   },
   {
    "duration": 401,
    "start_time": "2022-10-18T03:58:54.012Z"
   },
   {
    "duration": 270,
    "start_time": "2022-10-18T03:58:54.415Z"
   },
   {
    "duration": 40,
    "start_time": "2022-10-18T03:58:54.687Z"
   },
   {
    "duration": 0,
    "start_time": "2022-10-18T03:58:54.729Z"
   },
   {
    "duration": 0,
    "start_time": "2022-10-18T03:58:54.730Z"
   },
   {
    "duration": 0,
    "start_time": "2022-10-18T03:58:54.731Z"
   },
   {
    "duration": 0,
    "start_time": "2022-10-18T03:58:54.732Z"
   },
   {
    "duration": 0,
    "start_time": "2022-10-18T03:58:54.734Z"
   },
   {
    "duration": 0,
    "start_time": "2022-10-18T03:58:54.735Z"
   },
   {
    "duration": 0,
    "start_time": "2022-10-18T03:58:54.736Z"
   },
   {
    "duration": 0,
    "start_time": "2022-10-18T03:58:54.737Z"
   },
   {
    "duration": 0,
    "start_time": "2022-10-18T03:58:54.738Z"
   },
   {
    "duration": 0,
    "start_time": "2022-10-18T03:58:54.739Z"
   },
   {
    "duration": 0,
    "start_time": "2022-10-18T03:58:54.740Z"
   },
   {
    "duration": 0,
    "start_time": "2022-10-18T03:58:54.741Z"
   },
   {
    "duration": 0,
    "start_time": "2022-10-18T03:58:54.742Z"
   },
   {
    "duration": 1792,
    "start_time": "2022-10-18T03:59:38.138Z"
   },
   {
    "duration": 1651,
    "start_time": "2022-10-18T03:59:39.932Z"
   },
   {
    "duration": 4,
    "start_time": "2022-10-18T03:59:41.585Z"
   },
   {
    "duration": 740,
    "start_time": "2022-10-18T03:59:41.592Z"
   },
   {
    "duration": 16,
    "start_time": "2022-10-18T03:59:42.334Z"
   },
   {
    "duration": 156,
    "start_time": "2022-10-18T03:59:42.351Z"
   },
   {
    "duration": 409,
    "start_time": "2022-10-18T03:59:42.509Z"
   },
   {
    "duration": 885,
    "start_time": "2022-10-18T03:59:42.919Z"
   },
   {
    "duration": 39,
    "start_time": "2022-10-18T03:59:43.805Z"
   },
   {
    "duration": 147,
    "start_time": "2022-10-18T03:59:43.847Z"
   },
   {
    "duration": 4,
    "start_time": "2022-10-18T03:59:43.996Z"
   },
   {
    "duration": 446,
    "start_time": "2022-10-18T03:59:44.002Z"
   },
   {
    "duration": 34,
    "start_time": "2022-10-18T03:59:44.450Z"
   },
   {
    "duration": 336,
    "start_time": "2022-10-18T03:59:44.486Z"
   },
   {
    "duration": 16,
    "start_time": "2022-10-18T03:59:44.823Z"
   },
   {
    "duration": 98,
    "start_time": "2022-10-18T03:59:44.840Z"
   },
   {
    "duration": 4,
    "start_time": "2022-10-18T03:59:44.939Z"
   },
   {
    "duration": 24,
    "start_time": "2022-10-18T03:59:44.944Z"
   },
   {
    "duration": 417,
    "start_time": "2022-10-18T03:59:44.969Z"
   },
   {
    "duration": 363,
    "start_time": "2022-10-18T03:59:45.387Z"
   },
   {
    "duration": 113,
    "start_time": "2022-10-18T03:59:45.754Z"
   },
   {
    "duration": 299,
    "start_time": "2022-10-18T03:59:45.868Z"
   },
   {
    "duration": 311,
    "start_time": "2022-10-18T03:59:46.168Z"
   },
   {
    "duration": 294,
    "start_time": "2022-10-18T03:59:46.480Z"
   },
   {
    "duration": 264,
    "start_time": "2022-10-18T03:59:46.776Z"
   },
   {
    "duration": 285,
    "start_time": "2022-10-18T03:59:47.042Z"
   },
   {
    "duration": 423,
    "start_time": "2022-10-18T03:59:47.328Z"
   },
   {
    "duration": 278,
    "start_time": "2022-10-18T03:59:47.755Z"
   },
   {
    "duration": 49,
    "start_time": "2022-10-18T03:59:48.035Z"
   },
   {
    "duration": 64,
    "start_time": "2022-10-18T03:59:48.085Z"
   },
   {
    "duration": 113,
    "start_time": "2022-10-18T03:59:48.151Z"
   },
   {
    "duration": 11,
    "start_time": "2022-10-18T03:59:48.266Z"
   },
   {
    "duration": 7,
    "start_time": "2022-10-18T03:59:48.279Z"
   },
   {
    "duration": 469,
    "start_time": "2022-10-18T03:59:48.287Z"
   },
   {
    "duration": 458,
    "start_time": "2022-10-18T03:59:48.758Z"
   },
   {
    "duration": 254,
    "start_time": "2022-10-18T03:59:49.217Z"
   },
   {
    "duration": 3,
    "start_time": "2022-10-18T03:59:49.473Z"
   },
   {
    "duration": 174253,
    "start_time": "2022-10-18T03:59:49.477Z"
   },
   {
    "duration": 196,
    "start_time": "2022-10-18T04:02:43.733Z"
   },
   {
    "duration": 0,
    "start_time": "2022-10-18T04:02:43.931Z"
   },
   {
    "duration": 0,
    "start_time": "2022-10-18T04:02:43.932Z"
   },
   {
    "duration": 0,
    "start_time": "2022-10-18T04:02:43.933Z"
   },
   {
    "duration": 0,
    "start_time": "2022-10-18T04:02:43.935Z"
   },
   {
    "duration": 0,
    "start_time": "2022-10-18T04:02:43.936Z"
   },
   {
    "duration": 0,
    "start_time": "2022-10-18T04:02:43.937Z"
   },
   {
    "duration": 0,
    "start_time": "2022-10-18T04:02:43.938Z"
   },
   {
    "duration": 0,
    "start_time": "2022-10-18T04:02:43.940Z"
   },
   {
    "duration": 0,
    "start_time": "2022-10-18T04:02:43.941Z"
   },
   {
    "duration": 0,
    "start_time": "2022-10-18T04:02:43.942Z"
   },
   {
    "duration": 0,
    "start_time": "2022-10-18T04:02:43.944Z"
   },
   {
    "duration": 1514,
    "start_time": "2022-10-18T04:08:07.655Z"
   },
   {
    "duration": 794,
    "start_time": "2022-10-18T04:08:09.171Z"
   },
   {
    "duration": 4,
    "start_time": "2022-10-18T04:08:09.967Z"
   },
   {
    "duration": 693,
    "start_time": "2022-10-18T04:08:09.973Z"
   },
   {
    "duration": 15,
    "start_time": "2022-10-18T04:08:10.668Z"
   },
   {
    "duration": 160,
    "start_time": "2022-10-18T04:08:10.684Z"
   },
   {
    "duration": 416,
    "start_time": "2022-10-18T04:08:10.846Z"
   },
   {
    "duration": 942,
    "start_time": "2022-10-18T04:08:11.264Z"
   },
   {
    "duration": 38,
    "start_time": "2022-10-18T04:08:12.208Z"
   },
   {
    "duration": 125,
    "start_time": "2022-10-18T04:08:12.249Z"
   },
   {
    "duration": 4,
    "start_time": "2022-10-18T04:08:12.377Z"
   },
   {
    "duration": 461,
    "start_time": "2022-10-18T04:08:12.383Z"
   },
   {
    "duration": 35,
    "start_time": "2022-10-18T04:08:12.845Z"
   },
   {
    "duration": 340,
    "start_time": "2022-10-18T04:08:12.882Z"
   },
   {
    "duration": 18,
    "start_time": "2022-10-18T04:08:13.224Z"
   },
   {
    "duration": 93,
    "start_time": "2022-10-18T04:08:13.244Z"
   },
   {
    "duration": 2,
    "start_time": "2022-10-18T04:08:13.339Z"
   },
   {
    "duration": 18,
    "start_time": "2022-10-18T04:08:13.343Z"
   },
   {
    "duration": 425,
    "start_time": "2022-10-18T04:08:13.363Z"
   },
   {
    "duration": 359,
    "start_time": "2022-10-18T04:08:13.790Z"
   },
   {
    "duration": 171,
    "start_time": "2022-10-18T04:08:14.151Z"
   },
   {
    "duration": 310,
    "start_time": "2022-10-18T04:08:14.324Z"
   },
   {
    "duration": 309,
    "start_time": "2022-10-18T04:08:14.636Z"
   },
   {
    "duration": 324,
    "start_time": "2022-10-18T04:08:14.946Z"
   },
   {
    "duration": 292,
    "start_time": "2022-10-18T04:08:15.271Z"
   },
   {
    "duration": 305,
    "start_time": "2022-10-18T04:08:15.565Z"
   },
   {
    "duration": 406,
    "start_time": "2022-10-18T04:08:15.872Z"
   },
   {
    "duration": 283,
    "start_time": "2022-10-18T04:08:16.282Z"
   },
   {
    "duration": 60,
    "start_time": "2022-10-18T04:08:16.566Z"
   },
   {
    "duration": 53,
    "start_time": "2022-10-18T04:08:16.627Z"
   },
   {
    "duration": 121,
    "start_time": "2022-10-18T04:08:16.682Z"
   },
   {
    "duration": 23,
    "start_time": "2022-10-18T04:08:16.805Z"
   },
   {
    "duration": 8,
    "start_time": "2022-10-18T04:08:16.829Z"
   },
   {
    "duration": 457,
    "start_time": "2022-10-18T04:08:16.839Z"
   },
   {
    "duration": 413,
    "start_time": "2022-10-18T04:08:17.298Z"
   },
   {
    "duration": 260,
    "start_time": "2022-10-18T04:08:17.713Z"
   },
   {
    "duration": 3,
    "start_time": "2022-10-18T04:08:17.974Z"
   },
   {
    "duration": 120251,
    "start_time": "2022-10-18T04:08:17.978Z"
   },
   {
    "duration": 37092,
    "start_time": "2022-10-18T04:10:18.231Z"
   },
   {
    "duration": 5898,
    "start_time": "2022-10-18T04:10:55.325Z"
   },
   {
    "duration": 0,
    "start_time": "2022-10-18T04:11:01.226Z"
   },
   {
    "duration": 0,
    "start_time": "2022-10-18T04:11:01.228Z"
   },
   {
    "duration": 0,
    "start_time": "2022-10-18T04:11:01.230Z"
   },
   {
    "duration": 0,
    "start_time": "2022-10-18T04:11:01.232Z"
   },
   {
    "duration": 0,
    "start_time": "2022-10-18T04:11:01.234Z"
   },
   {
    "duration": 0,
    "start_time": "2022-10-18T04:11:01.235Z"
   },
   {
    "duration": 0,
    "start_time": "2022-10-18T04:11:01.237Z"
   },
   {
    "duration": 0,
    "start_time": "2022-10-18T04:11:01.238Z"
   },
   {
    "duration": 0,
    "start_time": "2022-10-18T04:11:01.239Z"
   },
   {
    "duration": 0,
    "start_time": "2022-10-18T04:11:01.241Z"
   },
   {
    "duration": 1555,
    "start_time": "2022-10-18T04:12:00.879Z"
   },
   {
    "duration": 804,
    "start_time": "2022-10-18T04:12:02.436Z"
   },
   {
    "duration": 4,
    "start_time": "2022-10-18T04:12:03.242Z"
   },
   {
    "duration": 694,
    "start_time": "2022-10-18T04:12:03.248Z"
   },
   {
    "duration": 19,
    "start_time": "2022-10-18T04:12:03.943Z"
   },
   {
    "duration": 169,
    "start_time": "2022-10-18T04:12:03.964Z"
   },
   {
    "duration": 446,
    "start_time": "2022-10-18T04:12:04.134Z"
   },
   {
    "duration": 917,
    "start_time": "2022-10-18T04:12:04.582Z"
   },
   {
    "duration": 34,
    "start_time": "2022-10-18T04:12:05.500Z"
   },
   {
    "duration": 137,
    "start_time": "2022-10-18T04:12:05.536Z"
   },
   {
    "duration": 4,
    "start_time": "2022-10-18T04:12:05.675Z"
   },
   {
    "duration": 466,
    "start_time": "2022-10-18T04:12:05.680Z"
   },
   {
    "duration": 35,
    "start_time": "2022-10-18T04:12:06.148Z"
   },
   {
    "duration": 357,
    "start_time": "2022-10-18T04:12:06.185Z"
   },
   {
    "duration": 15,
    "start_time": "2022-10-18T04:12:06.544Z"
   },
   {
    "duration": 104,
    "start_time": "2022-10-18T04:12:06.560Z"
   },
   {
    "duration": 2,
    "start_time": "2022-10-18T04:12:06.666Z"
   },
   {
    "duration": 15,
    "start_time": "2022-10-18T04:12:06.670Z"
   },
   {
    "duration": 433,
    "start_time": "2022-10-18T04:12:06.687Z"
   },
   {
    "duration": 368,
    "start_time": "2022-10-18T04:12:07.122Z"
   },
   {
    "duration": 110,
    "start_time": "2022-10-18T04:12:07.492Z"
   },
   {
    "duration": 308,
    "start_time": "2022-10-18T04:12:07.604Z"
   },
   {
    "duration": 334,
    "start_time": "2022-10-18T04:12:07.914Z"
   },
   {
    "duration": 320,
    "start_time": "2022-10-18T04:12:08.253Z"
   },
   {
    "duration": 272,
    "start_time": "2022-10-18T04:12:08.575Z"
   },
   {
    "duration": 381,
    "start_time": "2022-10-18T04:12:08.849Z"
   },
   {
    "duration": 404,
    "start_time": "2022-10-18T04:12:09.232Z"
   },
   {
    "duration": 300,
    "start_time": "2022-10-18T04:12:09.640Z"
   },
   {
    "duration": 64,
    "start_time": "2022-10-18T04:12:09.941Z"
   },
   {
    "duration": 58,
    "start_time": "2022-10-18T04:12:10.021Z"
   },
   {
    "duration": 140,
    "start_time": "2022-10-18T04:12:10.080Z"
   },
   {
    "duration": 14,
    "start_time": "2022-10-18T04:12:10.222Z"
   },
   {
    "duration": 8,
    "start_time": "2022-10-18T04:12:10.238Z"
   },
   {
    "duration": 497,
    "start_time": "2022-10-18T04:12:10.248Z"
   },
   {
    "duration": 390,
    "start_time": "2022-10-18T04:12:10.747Z"
   },
   {
    "duration": 264,
    "start_time": "2022-10-18T04:12:11.139Z"
   },
   {
    "duration": 2,
    "start_time": "2022-10-18T04:12:11.405Z"
   },
   {
    "duration": 138250,
    "start_time": "2022-10-18T04:12:11.409Z"
   },
   {
    "duration": 43668,
    "start_time": "2022-10-18T04:14:29.661Z"
   },
   {
    "duration": 6159,
    "start_time": "2022-10-18T04:15:13.332Z"
   },
   {
    "duration": 0,
    "start_time": "2022-10-18T04:15:19.493Z"
   },
   {
    "duration": 0,
    "start_time": "2022-10-18T04:15:19.495Z"
   },
   {
    "duration": 0,
    "start_time": "2022-10-18T04:15:19.496Z"
   },
   {
    "duration": 0,
    "start_time": "2022-10-18T04:15:19.497Z"
   },
   {
    "duration": 0,
    "start_time": "2022-10-18T04:15:19.498Z"
   },
   {
    "duration": 0,
    "start_time": "2022-10-18T04:15:19.500Z"
   },
   {
    "duration": 0,
    "start_time": "2022-10-18T04:15:19.501Z"
   },
   {
    "duration": 0,
    "start_time": "2022-10-18T04:15:19.502Z"
   },
   {
    "duration": 0,
    "start_time": "2022-10-18T04:15:19.523Z"
   },
   {
    "duration": 0,
    "start_time": "2022-10-18T04:15:19.525Z"
   },
   {
    "duration": 1499,
    "start_time": "2022-10-18T04:23:51.557Z"
   },
   {
    "duration": 821,
    "start_time": "2022-10-18T04:23:53.059Z"
   },
   {
    "duration": 4,
    "start_time": "2022-10-18T04:23:53.881Z"
   },
   {
    "duration": 773,
    "start_time": "2022-10-18T04:23:53.888Z"
   },
   {
    "duration": 15,
    "start_time": "2022-10-18T04:23:54.663Z"
   },
   {
    "duration": 161,
    "start_time": "2022-10-18T04:23:54.680Z"
   },
   {
    "duration": 453,
    "start_time": "2022-10-18T04:23:54.842Z"
   },
   {
    "duration": 927,
    "start_time": "2022-10-18T04:23:55.296Z"
   },
   {
    "duration": 29,
    "start_time": "2022-10-18T04:23:56.224Z"
   },
   {
    "duration": 128,
    "start_time": "2022-10-18T04:23:56.256Z"
   },
   {
    "duration": 4,
    "start_time": "2022-10-18T04:23:56.386Z"
   },
   {
    "duration": 431,
    "start_time": "2022-10-18T04:23:56.392Z"
   },
   {
    "duration": 34,
    "start_time": "2022-10-18T04:23:56.825Z"
   },
   {
    "duration": 322,
    "start_time": "2022-10-18T04:23:56.861Z"
   },
   {
    "duration": 16,
    "start_time": "2022-10-18T04:23:57.185Z"
   },
   {
    "duration": 110,
    "start_time": "2022-10-18T04:23:57.203Z"
   },
   {
    "duration": 3,
    "start_time": "2022-10-18T04:23:57.322Z"
   },
   {
    "duration": 14,
    "start_time": "2022-10-18T04:23:57.327Z"
   },
   {
    "duration": 416,
    "start_time": "2022-10-18T04:23:57.343Z"
   },
   {
    "duration": 399,
    "start_time": "2022-10-18T04:23:57.761Z"
   },
   {
    "duration": 110,
    "start_time": "2022-10-18T04:23:58.162Z"
   },
   {
    "duration": 298,
    "start_time": "2022-10-18T04:23:58.274Z"
   },
   {
    "duration": 341,
    "start_time": "2022-10-18T04:23:58.574Z"
   },
   {
    "duration": 342,
    "start_time": "2022-10-18T04:23:58.917Z"
   },
   {
    "duration": 305,
    "start_time": "2022-10-18T04:23:59.261Z"
   },
   {
    "duration": 301,
    "start_time": "2022-10-18T04:23:59.568Z"
   },
   {
    "duration": 484,
    "start_time": "2022-10-18T04:23:59.871Z"
   },
   {
    "duration": 315,
    "start_time": "2022-10-18T04:24:00.359Z"
   },
   {
    "duration": 54,
    "start_time": "2022-10-18T04:24:00.676Z"
   },
   {
    "duration": 47,
    "start_time": "2022-10-18T04:24:00.732Z"
   },
   {
    "duration": 131,
    "start_time": "2022-10-18T04:24:00.781Z"
   },
   {
    "duration": 21,
    "start_time": "2022-10-18T04:24:00.914Z"
   },
   {
    "duration": 132,
    "start_time": "2022-10-18T04:24:00.937Z"
   },
   {
    "duration": 0,
    "start_time": "2022-10-18T04:24:01.071Z"
   },
   {
    "duration": 0,
    "start_time": "2022-10-18T04:24:01.073Z"
   },
   {
    "duration": 0,
    "start_time": "2022-10-18T04:24:01.074Z"
   },
   {
    "duration": 0,
    "start_time": "2022-10-18T04:24:01.076Z"
   },
   {
    "duration": 0,
    "start_time": "2022-10-18T04:24:01.077Z"
   },
   {
    "duration": 0,
    "start_time": "2022-10-18T04:24:01.078Z"
   },
   {
    "duration": 0,
    "start_time": "2022-10-18T04:24:01.079Z"
   },
   {
    "duration": 0,
    "start_time": "2022-10-18T04:24:01.080Z"
   },
   {
    "duration": 0,
    "start_time": "2022-10-18T04:24:01.082Z"
   },
   {
    "duration": 0,
    "start_time": "2022-10-18T04:24:01.083Z"
   },
   {
    "duration": 0,
    "start_time": "2022-10-18T04:24:01.085Z"
   },
   {
    "duration": 0,
    "start_time": "2022-10-18T04:24:01.086Z"
   },
   {
    "duration": 0,
    "start_time": "2022-10-18T04:24:01.087Z"
   },
   {
    "duration": 0,
    "start_time": "2022-10-18T04:24:01.089Z"
   },
   {
    "duration": 0,
    "start_time": "2022-10-18T04:24:01.122Z"
   },
   {
    "duration": 0,
    "start_time": "2022-10-18T04:24:01.124Z"
   },
   {
    "duration": 0,
    "start_time": "2022-10-18T04:24:01.125Z"
   },
   {
    "duration": 1640,
    "start_time": "2022-10-18T04:35:00.988Z"
   },
   {
    "duration": 890,
    "start_time": "2022-10-18T04:35:02.630Z"
   },
   {
    "duration": 4,
    "start_time": "2022-10-18T04:35:03.521Z"
   },
   {
    "duration": 845,
    "start_time": "2022-10-18T04:35:03.527Z"
   },
   {
    "duration": 20,
    "start_time": "2022-10-18T04:35:04.376Z"
   },
   {
    "duration": 253,
    "start_time": "2022-10-18T04:35:04.398Z"
   },
   {
    "duration": 521,
    "start_time": "2022-10-18T04:35:04.653Z"
   },
   {
    "duration": 940,
    "start_time": "2022-10-18T04:35:05.176Z"
   },
   {
    "duration": 32,
    "start_time": "2022-10-18T04:35:06.118Z"
   },
   {
    "duration": 133,
    "start_time": "2022-10-18T04:35:06.153Z"
   },
   {
    "duration": 5,
    "start_time": "2022-10-18T04:35:06.288Z"
   },
   {
    "duration": 439,
    "start_time": "2022-10-18T04:35:06.295Z"
   },
   {
    "duration": 34,
    "start_time": "2022-10-18T04:35:06.736Z"
   },
   {
    "duration": 379,
    "start_time": "2022-10-18T04:35:06.772Z"
   },
   {
    "duration": 19,
    "start_time": "2022-10-18T04:35:07.153Z"
   },
   {
    "duration": 98,
    "start_time": "2022-10-18T04:35:07.174Z"
   },
   {
    "duration": 4,
    "start_time": "2022-10-18T04:35:07.274Z"
   },
   {
    "duration": 16,
    "start_time": "2022-10-18T04:35:07.279Z"
   },
   {
    "duration": 433,
    "start_time": "2022-10-18T04:35:07.297Z"
   },
   {
    "duration": 329,
    "start_time": "2022-10-18T04:35:07.732Z"
   },
   {
    "duration": 133,
    "start_time": "2022-10-18T04:35:08.063Z"
   },
   {
    "duration": 335,
    "start_time": "2022-10-18T04:35:08.197Z"
   },
   {
    "duration": 316,
    "start_time": "2022-10-18T04:35:08.533Z"
   },
   {
    "duration": 383,
    "start_time": "2022-10-18T04:35:08.851Z"
   },
   {
    "duration": 286,
    "start_time": "2022-10-18T04:35:09.236Z"
   },
   {
    "duration": 291,
    "start_time": "2022-10-18T04:35:09.524Z"
   },
   {
    "duration": 407,
    "start_time": "2022-10-18T04:35:09.817Z"
   },
   {
    "duration": 293,
    "start_time": "2022-10-18T04:35:10.229Z"
   },
   {
    "duration": 48,
    "start_time": "2022-10-18T04:35:10.523Z"
   },
   {
    "duration": 70,
    "start_time": "2022-10-18T04:35:10.572Z"
   },
   {
    "duration": 108,
    "start_time": "2022-10-18T04:35:10.643Z"
   },
   {
    "duration": 11,
    "start_time": "2022-10-18T04:35:10.753Z"
   },
   {
    "duration": 119,
    "start_time": "2022-10-18T04:35:10.766Z"
   },
   {
    "duration": 0,
    "start_time": "2022-10-18T04:35:10.886Z"
   },
   {
    "duration": 0,
    "start_time": "2022-10-18T04:35:10.888Z"
   },
   {
    "duration": 0,
    "start_time": "2022-10-18T04:35:10.890Z"
   },
   {
    "duration": 0,
    "start_time": "2022-10-18T04:35:10.891Z"
   },
   {
    "duration": 0,
    "start_time": "2022-10-18T04:35:10.892Z"
   },
   {
    "duration": 0,
    "start_time": "2022-10-18T04:35:10.894Z"
   },
   {
    "duration": 0,
    "start_time": "2022-10-18T04:35:10.895Z"
   },
   {
    "duration": 0,
    "start_time": "2022-10-18T04:35:10.897Z"
   },
   {
    "duration": 0,
    "start_time": "2022-10-18T04:35:10.898Z"
   },
   {
    "duration": 0,
    "start_time": "2022-10-18T04:35:10.899Z"
   },
   {
    "duration": 0,
    "start_time": "2022-10-18T04:35:10.922Z"
   },
   {
    "duration": 0,
    "start_time": "2022-10-18T04:35:10.925Z"
   },
   {
    "duration": 0,
    "start_time": "2022-10-18T04:35:10.926Z"
   },
   {
    "duration": 0,
    "start_time": "2022-10-18T04:35:10.929Z"
   },
   {
    "duration": 0,
    "start_time": "2022-10-18T04:35:10.930Z"
   },
   {
    "duration": 0,
    "start_time": "2022-10-18T04:35:10.931Z"
   },
   {
    "duration": 0,
    "start_time": "2022-10-18T04:35:10.933Z"
   },
   {
    "duration": 5,
    "start_time": "2022-10-18T04:38:24.806Z"
   },
   {
    "duration": 772,
    "start_time": "2022-10-18T04:38:24.813Z"
   },
   {
    "duration": 3,
    "start_time": "2022-10-18T04:38:25.587Z"
   },
   {
    "duration": 634,
    "start_time": "2022-10-18T04:38:25.592Z"
   },
   {
    "duration": 13,
    "start_time": "2022-10-18T04:38:26.228Z"
   },
   {
    "duration": 173,
    "start_time": "2022-10-18T04:38:26.243Z"
   },
   {
    "duration": 376,
    "start_time": "2022-10-18T04:38:26.417Z"
   },
   {
    "duration": 828,
    "start_time": "2022-10-18T04:38:26.795Z"
   },
   {
    "duration": 29,
    "start_time": "2022-10-18T04:38:27.625Z"
   },
   {
    "duration": 132,
    "start_time": "2022-10-18T04:38:27.658Z"
   },
   {
    "duration": 4,
    "start_time": "2022-10-18T04:38:27.792Z"
   },
   {
    "duration": 434,
    "start_time": "2022-10-18T04:38:27.798Z"
   },
   {
    "duration": 35,
    "start_time": "2022-10-18T04:38:28.234Z"
   },
   {
    "duration": 332,
    "start_time": "2022-10-18T04:38:28.271Z"
   },
   {
    "duration": 23,
    "start_time": "2022-10-18T04:38:28.605Z"
   },
   {
    "duration": 106,
    "start_time": "2022-10-18T04:38:28.630Z"
   },
   {
    "duration": 3,
    "start_time": "2022-10-18T04:38:28.738Z"
   },
   {
    "duration": 23,
    "start_time": "2022-10-18T04:38:28.743Z"
   },
   {
    "duration": 427,
    "start_time": "2022-10-18T04:38:28.768Z"
   },
   {
    "duration": 377,
    "start_time": "2022-10-18T04:38:29.197Z"
   },
   {
    "duration": 121,
    "start_time": "2022-10-18T04:38:29.575Z"
   },
   {
    "duration": 294,
    "start_time": "2022-10-18T04:38:29.698Z"
   },
   {
    "duration": 413,
    "start_time": "2022-10-18T04:38:29.994Z"
   },
   {
    "duration": 297,
    "start_time": "2022-10-18T04:38:30.409Z"
   },
   {
    "duration": 260,
    "start_time": "2022-10-18T04:38:30.708Z"
   },
   {
    "duration": 285,
    "start_time": "2022-10-18T04:38:30.970Z"
   },
   {
    "duration": 286,
    "start_time": "2022-10-18T04:38:31.256Z"
   },
   {
    "duration": 308,
    "start_time": "2022-10-18T04:38:31.546Z"
   },
   {
    "duration": 49,
    "start_time": "2022-10-18T04:38:31.856Z"
   },
   {
    "duration": 60,
    "start_time": "2022-10-18T04:38:31.907Z"
   },
   {
    "duration": 119,
    "start_time": "2022-10-18T04:38:31.969Z"
   },
   {
    "duration": 12,
    "start_time": "2022-10-18T04:38:32.090Z"
   },
   {
    "duration": 285,
    "start_time": "2022-10-18T04:38:32.104Z"
   },
   {
    "duration": 476,
    "start_time": "2022-10-18T04:38:32.391Z"
   },
   {
    "duration": 391,
    "start_time": "2022-10-18T04:38:32.869Z"
   },
   {
    "duration": 249,
    "start_time": "2022-10-18T04:38:33.261Z"
   },
   {
    "duration": 3,
    "start_time": "2022-10-18T04:38:33.512Z"
   },
   {
    "duration": 154003,
    "start_time": "2022-10-18T04:38:33.522Z"
   },
   {
    "duration": 39800,
    "start_time": "2022-10-18T04:41:07.528Z"
   },
   {
    "duration": 56787,
    "start_time": "2022-10-18T04:41:47.331Z"
   },
   {
    "duration": 64,
    "start_time": "2022-10-18T04:42:44.123Z"
   },
   {
    "duration": 361711,
    "start_time": "2022-10-18T04:42:44.189Z"
   },
   {
    "duration": 192,
    "start_time": "2022-10-18T04:48:45.901Z"
   },
   {
    "duration": 119099,
    "start_time": "2022-10-18T04:48:46.095Z"
   },
   {
    "duration": 29296,
    "start_time": "2022-10-18T04:50:45.196Z"
   },
   {
    "duration": 1489,
    "start_time": "2022-10-18T05:05:57.295Z"
   },
   {
    "duration": 858,
    "start_time": "2022-10-18T05:05:58.786Z"
   },
   {
    "duration": 3,
    "start_time": "2022-10-18T05:05:59.646Z"
   },
   {
    "duration": 735,
    "start_time": "2022-10-18T05:05:59.651Z"
   },
   {
    "duration": 21,
    "start_time": "2022-10-18T05:06:00.387Z"
   },
   {
    "duration": 215,
    "start_time": "2022-10-18T05:06:00.410Z"
   },
   {
    "duration": 447,
    "start_time": "2022-10-18T05:06:00.627Z"
   },
   {
    "duration": 974,
    "start_time": "2022-10-18T05:06:01.076Z"
   },
   {
    "duration": 29,
    "start_time": "2022-10-18T05:06:02.051Z"
   },
   {
    "duration": 139,
    "start_time": "2022-10-18T05:06:02.083Z"
   },
   {
    "duration": 4,
    "start_time": "2022-10-18T05:06:02.224Z"
   },
   {
    "duration": 466,
    "start_time": "2022-10-18T05:06:02.230Z"
   },
   {
    "duration": 45,
    "start_time": "2022-10-18T05:06:02.697Z"
   },
   {
    "duration": 305,
    "start_time": "2022-10-18T05:06:02.743Z"
   },
   {
    "duration": 16,
    "start_time": "2022-10-18T05:06:03.050Z"
   },
   {
    "duration": 130,
    "start_time": "2022-10-18T05:06:03.068Z"
   },
   {
    "duration": 3,
    "start_time": "2022-10-18T05:06:03.200Z"
   },
   {
    "duration": 21,
    "start_time": "2022-10-18T05:06:03.205Z"
   },
   {
    "duration": 434,
    "start_time": "2022-10-18T05:06:03.228Z"
   },
   {
    "duration": 359,
    "start_time": "2022-10-18T05:06:03.663Z"
   },
   {
    "duration": 119,
    "start_time": "2022-10-18T05:06:04.024Z"
   },
   {
    "duration": 337,
    "start_time": "2022-10-18T05:06:04.146Z"
   },
   {
    "duration": 339,
    "start_time": "2022-10-18T05:06:04.485Z"
   },
   {
    "duration": 309,
    "start_time": "2022-10-18T05:06:04.826Z"
   },
   {
    "duration": 265,
    "start_time": "2022-10-18T05:06:05.136Z"
   },
   {
    "duration": 266,
    "start_time": "2022-10-18T05:06:05.403Z"
   },
   {
    "duration": 407,
    "start_time": "2022-10-18T05:06:05.671Z"
   },
   {
    "duration": 352,
    "start_time": "2022-10-18T05:06:06.083Z"
   },
   {
    "duration": 51,
    "start_time": "2022-10-18T05:06:06.438Z"
   },
   {
    "duration": 67,
    "start_time": "2022-10-18T05:06:06.491Z"
   },
   {
    "duration": 121,
    "start_time": "2022-10-18T05:06:06.560Z"
   },
   {
    "duration": 11,
    "start_time": "2022-10-18T05:06:06.683Z"
   },
   {
    "duration": 347,
    "start_time": "2022-10-18T05:06:06.696Z"
   },
   {
    "duration": 490,
    "start_time": "2022-10-18T05:06:07.045Z"
   },
   {
    "duration": 398,
    "start_time": "2022-10-18T05:06:07.537Z"
   },
   {
    "duration": 3,
    "start_time": "2022-10-18T05:06:07.936Z"
   },
   {
    "duration": 31,
    "start_time": "2022-10-18T05:06:07.941Z"
   },
   {
    "duration": 161651,
    "start_time": "2022-10-18T05:06:07.974Z"
   },
   {
    "duration": 35296,
    "start_time": "2022-10-18T05:08:49.627Z"
   },
   {
    "duration": 53997,
    "start_time": "2022-10-18T05:09:24.925Z"
   },
   {
    "duration": 55,
    "start_time": "2022-10-18T05:10:18.923Z"
   },
   {
    "duration": 346610,
    "start_time": "2022-10-18T05:10:18.980Z"
   },
   {
    "duration": 206,
    "start_time": "2022-10-18T05:16:05.592Z"
   },
   {
    "duration": 119028,
    "start_time": "2022-10-18T05:16:05.799Z"
   },
   {
    "duration": 29272,
    "start_time": "2022-10-18T05:18:04.828Z"
   },
   {
    "duration": 1646530,
    "start_time": "2022-10-18T05:18:34.102Z"
   },
   {
    "duration": 1612,
    "start_time": "2022-10-18T05:46:00.636Z"
   },
   {
    "duration": 156,
    "start_time": "2022-10-18T05:46:02.250Z"
   },
   {
    "duration": 0,
    "start_time": "2022-10-18T05:46:02.407Z"
   },
   {
    "duration": 0,
    "start_time": "2022-10-18T05:46:02.408Z"
   },
   {
    "duration": 1698,
    "start_time": "2022-10-18T16:38:00.365Z"
   },
   {
    "duration": 2991,
    "start_time": "2022-10-18T16:38:02.065Z"
   },
   {
    "duration": 3,
    "start_time": "2022-10-18T16:38:05.058Z"
   },
   {
    "duration": 636,
    "start_time": "2022-10-18T16:38:05.062Z"
   },
   {
    "duration": 26,
    "start_time": "2022-10-18T16:38:05.700Z"
   },
   {
    "duration": 199,
    "start_time": "2022-10-18T16:38:05.729Z"
   },
   {
    "duration": 494,
    "start_time": "2022-10-18T16:38:05.931Z"
   },
   {
    "duration": 847,
    "start_time": "2022-10-18T16:38:06.427Z"
   },
   {
    "duration": 27,
    "start_time": "2022-10-18T16:38:07.276Z"
   },
   {
    "duration": 133,
    "start_time": "2022-10-18T16:38:07.305Z"
   },
   {
    "duration": 4,
    "start_time": "2022-10-18T16:38:07.439Z"
   },
   {
    "duration": 425,
    "start_time": "2022-10-18T16:38:07.444Z"
   },
   {
    "duration": 35,
    "start_time": "2022-10-18T16:38:07.871Z"
   },
   {
    "duration": 333,
    "start_time": "2022-10-18T16:38:07.908Z"
   },
   {
    "duration": 14,
    "start_time": "2022-10-18T16:38:08.243Z"
   },
   {
    "duration": 76,
    "start_time": "2022-10-18T16:38:08.259Z"
   },
   {
    "duration": 3,
    "start_time": "2022-10-18T16:38:08.337Z"
   },
   {
    "duration": 16,
    "start_time": "2022-10-18T16:38:08.341Z"
   },
   {
    "duration": 402,
    "start_time": "2022-10-18T16:38:08.358Z"
   },
   {
    "duration": 310,
    "start_time": "2022-10-18T16:38:08.762Z"
   },
   {
    "duration": 90,
    "start_time": "2022-10-18T16:38:09.074Z"
   },
   {
    "duration": 275,
    "start_time": "2022-10-18T16:38:09.166Z"
   },
   {
    "duration": 260,
    "start_time": "2022-10-18T16:38:09.443Z"
   },
   {
    "duration": 325,
    "start_time": "2022-10-18T16:38:09.705Z"
   },
   {
    "duration": 230,
    "start_time": "2022-10-18T16:38:10.032Z"
   },
   {
    "duration": 353,
    "start_time": "2022-10-18T16:38:10.264Z"
   },
   {
    "duration": 261,
    "start_time": "2022-10-18T16:38:10.619Z"
   },
   {
    "duration": 283,
    "start_time": "2022-10-18T16:38:10.889Z"
   },
   {
    "duration": 50,
    "start_time": "2022-10-18T16:38:11.174Z"
   },
   {
    "duration": 39,
    "start_time": "2022-10-18T16:38:11.226Z"
   },
   {
    "duration": 112,
    "start_time": "2022-10-18T16:38:11.266Z"
   },
   {
    "duration": 2,
    "start_time": "2022-10-18T16:38:11.380Z"
   },
   {
    "duration": 5,
    "start_time": "2022-10-18T16:38:11.384Z"
   },
   {
    "duration": 5,
    "start_time": "2022-10-18T16:38:11.390Z"
   },
   {
    "duration": 7,
    "start_time": "2022-10-18T16:38:11.396Z"
   },
   {
    "duration": 24,
    "start_time": "2022-10-18T16:38:11.404Z"
   },
   {
    "duration": 3,
    "start_time": "2022-10-18T16:38:15.453Z"
   },
   {
    "duration": 105,
    "start_time": "2022-10-18T16:38:16.792Z"
   },
   {
    "duration": 11,
    "start_time": "2022-10-18T16:38:43.569Z"
   },
   {
    "duration": 11,
    "start_time": "2022-10-18T16:39:16.992Z"
   },
   {
    "duration": 4,
    "start_time": "2022-10-18T16:39:35.325Z"
   },
   {
    "duration": 3,
    "start_time": "2022-10-18T16:40:11.272Z"
   },
   {
    "duration": 18,
    "start_time": "2022-10-18T16:40:32.972Z"
   },
   {
    "duration": 2,
    "start_time": "2022-10-18T16:40:55.873Z"
   },
   {
    "duration": 269,
    "start_time": "2022-10-18T16:40:56.657Z"
   },
   {
    "duration": 10,
    "start_time": "2022-10-18T16:41:11.465Z"
   },
   {
    "duration": 32,
    "start_time": "2022-10-18T16:41:44.340Z"
   },
   {
    "duration": 3,
    "start_time": "2022-10-18T16:41:50.413Z"
   },
   {
    "duration": 3,
    "start_time": "2022-10-18T16:42:21.983Z"
   },
   {
    "duration": 12,
    "start_time": "2022-10-18T16:43:03.656Z"
   },
   {
    "duration": 300,
    "start_time": "2022-10-18T16:43:17.496Z"
   },
   {
    "duration": 1422,
    "start_time": "2022-10-18T16:47:07.692Z"
   },
   {
    "duration": 719,
    "start_time": "2022-10-18T16:47:09.116Z"
   },
   {
    "duration": 3,
    "start_time": "2022-10-18T16:47:09.837Z"
   },
   {
    "duration": 596,
    "start_time": "2022-10-18T16:47:09.843Z"
   },
   {
    "duration": 15,
    "start_time": "2022-10-18T16:47:10.440Z"
   },
   {
    "duration": 136,
    "start_time": "2022-10-18T16:47:10.457Z"
   },
   {
    "duration": 407,
    "start_time": "2022-10-18T16:47:10.595Z"
   },
   {
    "duration": 867,
    "start_time": "2022-10-18T16:47:11.004Z"
   },
   {
    "duration": 28,
    "start_time": "2022-10-18T16:47:11.873Z"
   },
   {
    "duration": 119,
    "start_time": "2022-10-18T16:47:11.903Z"
   },
   {
    "duration": 4,
    "start_time": "2022-10-18T16:47:12.024Z"
   },
   {
    "duration": 408,
    "start_time": "2022-10-18T16:47:12.029Z"
   },
   {
    "duration": 33,
    "start_time": "2022-10-18T16:47:12.438Z"
   },
   {
    "duration": 297,
    "start_time": "2022-10-18T16:47:12.473Z"
   },
   {
    "duration": 15,
    "start_time": "2022-10-18T16:47:12.771Z"
   },
   {
    "duration": 72,
    "start_time": "2022-10-18T16:47:12.788Z"
   },
   {
    "duration": 4,
    "start_time": "2022-10-18T16:47:12.861Z"
   },
   {
    "duration": 16,
    "start_time": "2022-10-18T16:47:12.866Z"
   },
   {
    "duration": 390,
    "start_time": "2022-10-18T16:47:12.883Z"
   },
   {
    "duration": 303,
    "start_time": "2022-10-18T16:47:13.274Z"
   },
   {
    "duration": 89,
    "start_time": "2022-10-18T16:47:13.578Z"
   },
   {
    "duration": 277,
    "start_time": "2022-10-18T16:47:13.669Z"
   },
   {
    "duration": 245,
    "start_time": "2022-10-18T16:47:13.948Z"
   },
   {
    "duration": 271,
    "start_time": "2022-10-18T16:47:14.194Z"
   },
   {
    "duration": 220,
    "start_time": "2022-10-18T16:47:14.467Z"
   },
   {
    "duration": 275,
    "start_time": "2022-10-18T16:47:14.689Z"
   },
   {
    "duration": 381,
    "start_time": "2022-10-18T16:47:14.966Z"
   },
   {
    "duration": 287,
    "start_time": "2022-10-18T16:47:15.351Z"
   },
   {
    "duration": 45,
    "start_time": "2022-10-18T16:47:15.639Z"
   },
   {
    "duration": 56,
    "start_time": "2022-10-18T16:47:15.686Z"
   },
   {
    "duration": 100,
    "start_time": "2022-10-18T16:47:15.743Z"
   },
   {
    "duration": 3,
    "start_time": "2022-10-18T16:47:15.844Z"
   },
   {
    "duration": 6,
    "start_time": "2022-10-18T16:47:15.848Z"
   },
   {
    "duration": 4,
    "start_time": "2022-10-18T16:47:15.856Z"
   },
   {
    "duration": 8,
    "start_time": "2022-10-18T16:47:15.862Z"
   },
   {
    "duration": 8,
    "start_time": "2022-10-18T16:47:15.871Z"
   },
   {
    "duration": 19,
    "start_time": "2022-10-18T16:47:15.881Z"
   },
   {
    "duration": 5,
    "start_time": "2022-10-18T16:47:15.902Z"
   },
   {
    "duration": 3,
    "start_time": "2022-10-18T16:47:15.922Z"
   },
   {
    "duration": 354,
    "start_time": "2022-10-18T16:47:15.927Z"
   },
   {
    "duration": 12,
    "start_time": "2022-10-18T16:47:16.283Z"
   },
   {
    "duration": 45,
    "start_time": "2022-10-18T16:47:16.297Z"
   },
   {
    "duration": 3,
    "start_time": "2022-10-18T16:47:16.344Z"
   },
   {
    "duration": 285,
    "start_time": "2022-10-18T16:47:16.349Z"
   },
   {
    "duration": 2,
    "start_time": "2022-10-18T16:47:16.636Z"
   },
   {
    "duration": 117,
    "start_time": "2022-10-18T16:47:16.640Z"
   },
   {
    "duration": 0,
    "start_time": "2022-10-18T16:47:16.759Z"
   },
   {
    "duration": 0,
    "start_time": "2022-10-18T16:47:16.760Z"
   },
   {
    "duration": 0,
    "start_time": "2022-10-18T16:47:16.761Z"
   },
   {
    "duration": 0,
    "start_time": "2022-10-18T16:47:16.762Z"
   },
   {
    "duration": 0,
    "start_time": "2022-10-18T16:47:16.764Z"
   },
   {
    "duration": 0,
    "start_time": "2022-10-18T16:47:16.765Z"
   },
   {
    "duration": 0,
    "start_time": "2022-10-18T16:47:16.766Z"
   },
   {
    "duration": 0,
    "start_time": "2022-10-18T16:47:16.768Z"
   },
   {
    "duration": 0,
    "start_time": "2022-10-18T16:47:16.768Z"
   },
   {
    "duration": 0,
    "start_time": "2022-10-18T16:47:16.770Z"
   },
   {
    "duration": 0,
    "start_time": "2022-10-18T16:47:16.771Z"
   },
   {
    "duration": 0,
    "start_time": "2022-10-18T16:47:16.772Z"
   },
   {
    "duration": 11,
    "start_time": "2022-10-18T16:59:33.713Z"
   },
   {
    "duration": 79,
    "start_time": "2022-10-19T08:20:45.065Z"
   },
   {
    "duration": 2003,
    "start_time": "2022-10-19T08:20:48.693Z"
   },
   {
    "duration": 3404,
    "start_time": "2022-10-19T08:20:50.698Z"
   },
   {
    "duration": 7,
    "start_time": "2022-10-19T08:20:54.105Z"
   },
   {
    "duration": 789,
    "start_time": "2022-10-19T08:20:54.115Z"
   },
   {
    "duration": 22,
    "start_time": "2022-10-19T08:20:54.906Z"
   },
   {
    "duration": 184,
    "start_time": "2022-10-19T08:20:54.930Z"
   },
   {
    "duration": 525,
    "start_time": "2022-10-19T08:20:55.116Z"
   },
   {
    "duration": 997,
    "start_time": "2022-10-19T08:20:55.643Z"
   },
   {
    "duration": 36,
    "start_time": "2022-10-19T08:20:56.642Z"
   },
   {
    "duration": 138,
    "start_time": "2022-10-19T08:20:56.690Z"
   },
   {
    "duration": 5,
    "start_time": "2022-10-19T08:20:56.829Z"
   },
   {
    "duration": 476,
    "start_time": "2022-10-19T08:20:56.835Z"
   },
   {
    "duration": 40,
    "start_time": "2022-10-19T08:20:57.313Z"
   },
   {
    "duration": 398,
    "start_time": "2022-10-19T08:20:57.355Z"
   },
   {
    "duration": 17,
    "start_time": "2022-10-19T08:20:57.755Z"
   },
   {
    "duration": 103,
    "start_time": "2022-10-19T08:20:57.774Z"
   },
   {
    "duration": 3,
    "start_time": "2022-10-19T08:20:57.889Z"
   },
   {
    "duration": 18,
    "start_time": "2022-10-19T08:20:57.895Z"
   },
   {
    "duration": 471,
    "start_time": "2022-10-19T08:20:57.915Z"
   },
   {
    "duration": 378,
    "start_time": "2022-10-19T08:20:58.389Z"
   },
   {
    "duration": 114,
    "start_time": "2022-10-19T08:20:58.769Z"
   },
   {
    "duration": 322,
    "start_time": "2022-10-19T08:20:58.889Z"
   },
   {
    "duration": 331,
    "start_time": "2022-10-19T08:20:59.213Z"
   },
   {
    "duration": 346,
    "start_time": "2022-10-19T08:20:59.547Z"
   },
   {
    "duration": 311,
    "start_time": "2022-10-19T08:20:59.894Z"
   },
   {
    "duration": 430,
    "start_time": "2022-10-19T08:21:00.207Z"
   },
   {
    "duration": 357,
    "start_time": "2022-10-19T08:21:00.638Z"
   },
   {
    "duration": 327,
    "start_time": "2022-10-19T08:21:00.999Z"
   },
   {
    "duration": 67,
    "start_time": "2022-10-19T08:21:01.328Z"
   },
   {
    "duration": 51,
    "start_time": "2022-10-19T08:21:01.398Z"
   },
   {
    "duration": 140,
    "start_time": "2022-10-19T08:21:01.451Z"
   },
   {
    "duration": 2,
    "start_time": "2022-10-19T08:21:01.593Z"
   },
   {
    "duration": 12,
    "start_time": "2022-10-19T08:21:01.597Z"
   },
   {
    "duration": 14,
    "start_time": "2022-10-19T08:21:01.610Z"
   },
   {
    "duration": 14,
    "start_time": "2022-10-19T08:21:01.626Z"
   },
   {
    "duration": 18,
    "start_time": "2022-10-19T08:21:01.642Z"
   },
   {
    "duration": 25,
    "start_time": "2022-10-19T08:21:01.662Z"
   },
   {
    "duration": 13,
    "start_time": "2022-10-19T08:21:01.689Z"
   },
   {
    "duration": 10,
    "start_time": "2022-10-19T08:21:01.704Z"
   },
   {
    "duration": 421,
    "start_time": "2022-10-19T08:21:01.716Z"
   },
   {
    "duration": 16,
    "start_time": "2022-10-19T08:21:02.140Z"
   },
   {
    "duration": 45,
    "start_time": "2022-10-19T08:21:02.158Z"
   },
   {
    "duration": 4,
    "start_time": "2022-10-19T08:21:02.205Z"
   },
   {
    "duration": 357,
    "start_time": "2022-10-19T08:21:02.211Z"
   },
   {
    "duration": 3,
    "start_time": "2022-10-19T08:21:02.570Z"
   },
   {
    "duration": 115,
    "start_time": "2022-10-19T08:21:02.575Z"
   },
   {
    "duration": 710,
    "start_time": "2022-10-19T08:34:11.312Z"
   },
   {
    "duration": 613,
    "start_time": "2022-10-19T08:34:47.658Z"
   },
   {
    "duration": 10,
    "start_time": "2022-10-19T08:35:10.498Z"
   },
   {
    "duration": 474,
    "start_time": "2022-10-19T08:35:51.367Z"
   },
   {
    "duration": 4,
    "start_time": "2022-10-19T08:41:49.220Z"
   },
   {
    "duration": 14,
    "start_time": "2022-10-19T08:52:10.616Z"
   },
   {
    "duration": 17,
    "start_time": "2022-10-19T09:16:25.581Z"
   },
   {
    "duration": 28,
    "start_time": "2022-10-19T09:16:35.159Z"
   },
   {
    "duration": 12,
    "start_time": "2022-10-19T09:16:48.042Z"
   },
   {
    "duration": 13,
    "start_time": "2022-10-19T09:18:42.405Z"
   },
   {
    "duration": 14,
    "start_time": "2022-10-19T09:24:14.044Z"
   },
   {
    "duration": 7,
    "start_time": "2022-10-19T09:24:22.051Z"
   },
   {
    "duration": 891,
    "start_time": "2022-10-19T09:24:22.061Z"
   },
   {
    "duration": 4,
    "start_time": "2022-10-19T09:24:22.954Z"
   },
   {
    "duration": 689,
    "start_time": "2022-10-19T09:24:22.961Z"
   },
   {
    "duration": 13,
    "start_time": "2022-10-19T09:24:23.653Z"
   },
   {
    "duration": 176,
    "start_time": "2022-10-19T09:24:23.668Z"
   },
   {
    "duration": 379,
    "start_time": "2022-10-19T09:24:23.846Z"
   },
   {
    "duration": 831,
    "start_time": "2022-10-19T09:24:24.226Z"
   },
   {
    "duration": 31,
    "start_time": "2022-10-19T09:24:25.058Z"
   },
   {
    "duration": 134,
    "start_time": "2022-10-19T09:24:25.091Z"
   },
   {
    "duration": 5,
    "start_time": "2022-10-19T09:24:25.226Z"
   },
   {
    "duration": 457,
    "start_time": "2022-10-19T09:24:25.232Z"
   },
   {
    "duration": 39,
    "start_time": "2022-10-19T09:24:25.691Z"
   },
   {
    "duration": 321,
    "start_time": "2022-10-19T09:24:25.734Z"
   },
   {
    "duration": 18,
    "start_time": "2022-10-19T09:24:26.057Z"
   },
   {
    "duration": 102,
    "start_time": "2022-10-19T09:24:26.077Z"
   },
   {
    "duration": 3,
    "start_time": "2022-10-19T09:24:26.189Z"
   },
   {
    "duration": 27,
    "start_time": "2022-10-19T09:24:26.194Z"
   },
   {
    "duration": 346,
    "start_time": "2022-10-19T09:24:26.223Z"
   },
   {
    "duration": 392,
    "start_time": "2022-10-19T09:24:26.570Z"
   },
   {
    "duration": 112,
    "start_time": "2022-10-19T09:24:26.965Z"
   },
   {
    "duration": 493,
    "start_time": "2022-10-19T09:24:27.079Z"
   },
   {
    "duration": 339,
    "start_time": "2022-10-19T09:24:27.574Z"
   },
   {
    "duration": 344,
    "start_time": "2022-10-19T09:24:27.914Z"
   },
   {
    "duration": 312,
    "start_time": "2022-10-19T09:24:28.260Z"
   },
   {
    "duration": 306,
    "start_time": "2022-10-19T09:24:28.573Z"
   },
   {
    "duration": 310,
    "start_time": "2022-10-19T09:24:28.889Z"
   },
   {
    "duration": 431,
    "start_time": "2022-10-19T09:24:29.201Z"
   },
   {
    "duration": 61,
    "start_time": "2022-10-19T09:24:29.634Z"
   },
   {
    "duration": 48,
    "start_time": "2022-10-19T09:24:29.697Z"
   },
   {
    "duration": 132,
    "start_time": "2022-10-19T09:24:29.747Z"
   },
   {
    "duration": 19,
    "start_time": "2022-10-19T09:24:29.880Z"
   },
   {
    "duration": 12,
    "start_time": "2022-10-19T09:24:36.701Z"
   },
   {
    "duration": 14,
    "start_time": "2022-10-19T09:24:37.362Z"
   },
   {
    "duration": 1542,
    "start_time": "2022-10-19T09:24:49.610Z"
   },
   {
    "duration": 947,
    "start_time": "2022-10-19T09:24:51.154Z"
   },
   {
    "duration": 4,
    "start_time": "2022-10-19T09:24:52.103Z"
   },
   {
    "duration": 713,
    "start_time": "2022-10-19T09:24:52.109Z"
   },
   {
    "duration": 16,
    "start_time": "2022-10-19T09:24:52.824Z"
   },
   {
    "duration": 169,
    "start_time": "2022-10-19T09:24:52.842Z"
   },
   {
    "duration": 471,
    "start_time": "2022-10-19T09:24:53.013Z"
   },
   {
    "duration": 1005,
    "start_time": "2022-10-19T09:24:53.486Z"
   },
   {
    "duration": 30,
    "start_time": "2022-10-19T09:24:54.492Z"
   },
   {
    "duration": 135,
    "start_time": "2022-10-19T09:24:54.525Z"
   },
   {
    "duration": 6,
    "start_time": "2022-10-19T09:24:54.661Z"
   },
   {
    "duration": 473,
    "start_time": "2022-10-19T09:24:54.669Z"
   },
   {
    "duration": 46,
    "start_time": "2022-10-19T09:24:55.143Z"
   },
   {
    "duration": 315,
    "start_time": "2022-10-19T09:24:55.191Z"
   },
   {
    "duration": 17,
    "start_time": "2022-10-19T09:24:55.507Z"
   },
   {
    "duration": 106,
    "start_time": "2022-10-19T09:24:55.525Z"
   },
   {
    "duration": 11,
    "start_time": "2022-10-19T09:24:55.633Z"
   },
   {
    "duration": 14,
    "start_time": "2022-10-19T09:24:55.645Z"
   },
   {
    "duration": 436,
    "start_time": "2022-10-19T09:24:55.662Z"
   },
   {
    "duration": 362,
    "start_time": "2022-10-19T09:24:56.100Z"
   },
   {
    "duration": 110,
    "start_time": "2022-10-19T09:24:56.463Z"
   },
   {
    "duration": 328,
    "start_time": "2022-10-19T09:24:56.575Z"
   },
   {
    "duration": 326,
    "start_time": "2022-10-19T09:24:56.905Z"
   },
   {
    "duration": 303,
    "start_time": "2022-10-19T09:24:57.232Z"
   },
   {
    "duration": 287,
    "start_time": "2022-10-19T09:24:57.537Z"
   },
   {
    "duration": 283,
    "start_time": "2022-10-19T09:24:57.826Z"
   },
   {
    "duration": 411,
    "start_time": "2022-10-19T09:24:58.111Z"
   },
   {
    "duration": 299,
    "start_time": "2022-10-19T09:24:58.525Z"
   },
   {
    "duration": 65,
    "start_time": "2022-10-19T09:24:58.825Z"
   },
   {
    "duration": 46,
    "start_time": "2022-10-19T09:24:58.892Z"
   },
   {
    "duration": 134,
    "start_time": "2022-10-19T09:24:58.940Z"
   },
   {
    "duration": 18,
    "start_time": "2022-10-19T09:24:59.076Z"
   },
   {
    "duration": 132,
    "start_time": "2022-10-19T09:24:59.096Z"
   },
   {
    "duration": 0,
    "start_time": "2022-10-19T09:24:59.230Z"
   },
   {
    "duration": 0,
    "start_time": "2022-10-19T09:24:59.231Z"
   },
   {
    "duration": 0,
    "start_time": "2022-10-19T09:24:59.233Z"
   },
   {
    "duration": 0,
    "start_time": "2022-10-19T09:24:59.234Z"
   },
   {
    "duration": 0,
    "start_time": "2022-10-19T09:24:59.236Z"
   },
   {
    "duration": 0,
    "start_time": "2022-10-19T09:24:59.237Z"
   },
   {
    "duration": 0,
    "start_time": "2022-10-19T09:24:59.239Z"
   },
   {
    "duration": 0,
    "start_time": "2022-10-19T09:24:59.241Z"
   },
   {
    "duration": 0,
    "start_time": "2022-10-19T09:24:59.242Z"
   },
   {
    "duration": 0,
    "start_time": "2022-10-19T09:24:59.244Z"
   },
   {
    "duration": 0,
    "start_time": "2022-10-19T09:24:59.245Z"
   },
   {
    "duration": 0,
    "start_time": "2022-10-19T09:24:59.247Z"
   },
   {
    "duration": 0,
    "start_time": "2022-10-19T09:24:59.248Z"
   },
   {
    "duration": 0,
    "start_time": "2022-10-19T09:24:59.250Z"
   },
   {
    "duration": 13,
    "start_time": "2022-10-19T09:25:46.327Z"
   },
   {
    "duration": 16,
    "start_time": "2022-10-19T09:26:12.259Z"
   },
   {
    "duration": 1170,
    "start_time": "2022-10-19T09:28:45.834Z"
   },
   {
    "duration": 54974,
    "start_time": "2022-10-19T09:30:25.334Z"
   },
   {
    "duration": 1657,
    "start_time": "2022-10-19T09:53:24.524Z"
   },
   {
    "duration": 3050,
    "start_time": "2022-10-19T09:53:26.183Z"
   },
   {
    "duration": 4,
    "start_time": "2022-10-19T09:53:29.235Z"
   },
   {
    "duration": 749,
    "start_time": "2022-10-19T09:53:29.240Z"
   },
   {
    "duration": 17,
    "start_time": "2022-10-19T09:53:29.991Z"
   },
   {
    "duration": 180,
    "start_time": "2022-10-19T09:53:30.010Z"
   },
   {
    "duration": 497,
    "start_time": "2022-10-19T09:53:30.192Z"
   },
   {
    "duration": 1111,
    "start_time": "2022-10-19T09:53:30.691Z"
   },
   {
    "duration": 33,
    "start_time": "2022-10-19T09:53:31.803Z"
   },
   {
    "duration": 183,
    "start_time": "2022-10-19T09:53:31.838Z"
   },
   {
    "duration": 10,
    "start_time": "2022-10-19T09:53:32.023Z"
   },
   {
    "duration": 564,
    "start_time": "2022-10-19T09:53:32.037Z"
   },
   {
    "duration": 37,
    "start_time": "2022-10-19T09:53:32.603Z"
   },
   {
    "duration": 380,
    "start_time": "2022-10-19T09:53:32.643Z"
   },
   {
    "duration": 16,
    "start_time": "2022-10-19T09:53:33.025Z"
   },
   {
    "duration": 101,
    "start_time": "2022-10-19T09:53:33.043Z"
   },
   {
    "duration": 4,
    "start_time": "2022-10-19T09:53:33.147Z"
   },
   {
    "duration": 22,
    "start_time": "2022-10-19T09:53:33.153Z"
   },
   {
    "duration": 447,
    "start_time": "2022-10-19T09:53:33.188Z"
   },
   {
    "duration": 439,
    "start_time": "2022-10-19T09:53:33.637Z"
   },
   {
    "duration": 134,
    "start_time": "2022-10-19T09:53:34.078Z"
   },
   {
    "duration": 326,
    "start_time": "2022-10-19T09:53:34.215Z"
   },
   {
    "duration": 333,
    "start_time": "2022-10-19T09:53:34.543Z"
   },
   {
    "duration": 347,
    "start_time": "2022-10-19T09:53:34.878Z"
   },
   {
    "duration": 295,
    "start_time": "2022-10-19T09:53:35.227Z"
   },
   {
    "duration": 295,
    "start_time": "2022-10-19T09:53:35.524Z"
   },
   {
    "duration": 408,
    "start_time": "2022-10-19T09:53:35.821Z"
   },
   {
    "duration": 315,
    "start_time": "2022-10-19T09:53:36.232Z"
   },
   {
    "duration": 55,
    "start_time": "2022-10-19T09:53:36.549Z"
   },
   {
    "duration": 50,
    "start_time": "2022-10-19T09:53:36.606Z"
   },
   {
    "duration": 135,
    "start_time": "2022-10-19T09:53:36.657Z"
   },
   {
    "duration": 12,
    "start_time": "2022-10-19T09:53:36.794Z"
   },
   {
    "duration": 1267,
    "start_time": "2022-10-19T09:53:36.808Z"
   },
   {
    "duration": 3,
    "start_time": "2022-10-19T09:53:38.078Z"
   },
   {
    "duration": 25,
    "start_time": "2022-10-19T09:53:38.083Z"
   },
   {
    "duration": 18,
    "start_time": "2022-10-19T09:53:38.110Z"
   },
   {
    "duration": 16199,
    "start_time": "2022-10-19T09:53:38.130Z"
   },
   {
    "duration": 0,
    "start_time": "2022-10-19T09:53:54.332Z"
   },
   {
    "duration": 0,
    "start_time": "2022-10-19T09:53:54.333Z"
   },
   {
    "duration": 0,
    "start_time": "2022-10-19T09:53:54.334Z"
   },
   {
    "duration": 0,
    "start_time": "2022-10-19T09:53:54.335Z"
   },
   {
    "duration": 0,
    "start_time": "2022-10-19T09:53:54.336Z"
   },
   {
    "duration": 0,
    "start_time": "2022-10-19T09:53:54.337Z"
   },
   {
    "duration": 0,
    "start_time": "2022-10-19T09:53:54.338Z"
   },
   {
    "duration": 0,
    "start_time": "2022-10-19T09:53:54.340Z"
   },
   {
    "duration": 0,
    "start_time": "2022-10-19T09:53:54.341Z"
   },
   {
    "duration": 0,
    "start_time": "2022-10-19T09:53:54.342Z"
   },
   {
    "duration": 0,
    "start_time": "2022-10-19T09:53:54.343Z"
   },
   {
    "duration": 1605,
    "start_time": "2022-10-19T09:54:18.376Z"
   },
   {
    "duration": 1735,
    "start_time": "2022-10-19T09:54:19.983Z"
   },
   {
    "duration": 4,
    "start_time": "2022-10-19T09:54:21.721Z"
   },
   {
    "duration": 1355,
    "start_time": "2022-10-19T09:54:21.728Z"
   },
   {
    "duration": 17,
    "start_time": "2022-10-19T09:54:23.086Z"
   },
   {
    "duration": 175,
    "start_time": "2022-10-19T09:54:23.104Z"
   },
   {
    "duration": 485,
    "start_time": "2022-10-19T09:54:23.281Z"
   },
   {
    "duration": 972,
    "start_time": "2022-10-19T09:54:23.767Z"
   },
   {
    "duration": 39,
    "start_time": "2022-10-19T09:54:24.741Z"
   },
   {
    "duration": 145,
    "start_time": "2022-10-19T09:54:24.789Z"
   },
   {
    "duration": 4,
    "start_time": "2022-10-19T09:54:24.936Z"
   },
   {
    "duration": 479,
    "start_time": "2022-10-19T09:54:24.942Z"
   },
   {
    "duration": 37,
    "start_time": "2022-10-19T09:54:25.423Z"
   },
   {
    "duration": 343,
    "start_time": "2022-10-19T09:54:25.462Z"
   },
   {
    "duration": 17,
    "start_time": "2022-10-19T09:54:25.807Z"
   },
   {
    "duration": 97,
    "start_time": "2022-10-19T09:54:25.826Z"
   },
   {
    "duration": 4,
    "start_time": "2022-10-19T09:54:25.924Z"
   },
   {
    "duration": 17,
    "start_time": "2022-10-19T09:54:25.930Z"
   },
   {
    "duration": 464,
    "start_time": "2022-10-19T09:54:25.949Z"
   },
   {
    "duration": 377,
    "start_time": "2022-10-19T09:54:26.415Z"
   },
   {
    "duration": 110,
    "start_time": "2022-10-19T09:54:26.793Z"
   },
   {
    "duration": 347,
    "start_time": "2022-10-19T09:54:26.905Z"
   },
   {
    "duration": 348,
    "start_time": "2022-10-19T09:54:27.254Z"
   },
   {
    "duration": 334,
    "start_time": "2022-10-19T09:54:27.604Z"
   },
   {
    "duration": 309,
    "start_time": "2022-10-19T09:54:27.940Z"
   },
   {
    "duration": 396,
    "start_time": "2022-10-19T09:54:28.251Z"
   },
   {
    "duration": 440,
    "start_time": "2022-10-19T09:54:28.649Z"
   },
   {
    "duration": 394,
    "start_time": "2022-10-19T09:54:29.095Z"
   },
   {
    "duration": 56,
    "start_time": "2022-10-19T09:54:29.491Z"
   },
   {
    "duration": 71,
    "start_time": "2022-10-19T09:54:29.549Z"
   },
   {
    "duration": 132,
    "start_time": "2022-10-19T09:54:29.621Z"
   },
   {
    "duration": 18,
    "start_time": "2022-10-19T09:54:29.756Z"
   },
   {
    "duration": 1372,
    "start_time": "2022-10-19T09:54:29.789Z"
   },
   {
    "duration": 3,
    "start_time": "2022-10-19T09:54:31.163Z"
   },
   {
    "duration": 23,
    "start_time": "2022-10-19T09:54:31.167Z"
   },
   {
    "duration": 142,
    "start_time": "2022-10-19T09:54:31.192Z"
   },
   {
    "duration": 182,
    "start_time": "2022-10-19T09:54:31.336Z"
   },
   {
    "duration": 0,
    "start_time": "2022-10-19T09:54:31.520Z"
   },
   {
    "duration": 0,
    "start_time": "2022-10-19T09:54:31.522Z"
   },
   {
    "duration": 0,
    "start_time": "2022-10-19T09:54:31.523Z"
   },
   {
    "duration": 0,
    "start_time": "2022-10-19T09:54:31.525Z"
   },
   {
    "duration": 0,
    "start_time": "2022-10-19T09:54:31.526Z"
   },
   {
    "duration": 0,
    "start_time": "2022-10-19T09:54:31.527Z"
   },
   {
    "duration": 0,
    "start_time": "2022-10-19T09:54:31.529Z"
   },
   {
    "duration": 0,
    "start_time": "2022-10-19T09:54:31.530Z"
   },
   {
    "duration": 0,
    "start_time": "2022-10-19T09:54:31.531Z"
   },
   {
    "duration": 0,
    "start_time": "2022-10-19T09:54:31.532Z"
   },
   {
    "duration": 0,
    "start_time": "2022-10-19T09:54:31.534Z"
   },
   {
    "duration": 1760,
    "start_time": "2022-10-19T09:55:14.136Z"
   },
   {
    "duration": 986,
    "start_time": "2022-10-19T09:55:15.899Z"
   },
   {
    "duration": 4,
    "start_time": "2022-10-19T09:55:16.887Z"
   },
   {
    "duration": 834,
    "start_time": "2022-10-19T09:55:16.893Z"
   },
   {
    "duration": 17,
    "start_time": "2022-10-19T09:55:17.729Z"
   },
   {
    "duration": 218,
    "start_time": "2022-10-19T09:55:17.747Z"
   },
   {
    "duration": 539,
    "start_time": "2022-10-19T09:55:17.967Z"
   },
   {
    "duration": 1015,
    "start_time": "2022-10-19T09:55:18.509Z"
   },
   {
    "duration": 33,
    "start_time": "2022-10-19T09:55:19.526Z"
   },
   {
    "duration": 169,
    "start_time": "2022-10-19T09:55:19.561Z"
   },
   {
    "duration": 5,
    "start_time": "2022-10-19T09:55:19.733Z"
   },
   {
    "duration": 508,
    "start_time": "2022-10-19T09:55:19.741Z"
   },
   {
    "duration": 75,
    "start_time": "2022-10-19T09:55:20.254Z"
   },
   {
    "duration": 414,
    "start_time": "2022-10-19T09:55:20.334Z"
   },
   {
    "duration": 20,
    "start_time": "2022-10-19T09:55:20.751Z"
   },
   {
    "duration": 193,
    "start_time": "2022-10-19T09:55:20.773Z"
   },
   {
    "duration": 5,
    "start_time": "2022-10-19T09:55:20.969Z"
   },
   {
    "duration": 23,
    "start_time": "2022-10-19T09:55:20.976Z"
   },
   {
    "duration": 502,
    "start_time": "2022-10-19T09:55:21.001Z"
   },
   {
    "duration": 490,
    "start_time": "2022-10-19T09:55:21.506Z"
   },
   {
    "duration": 174,
    "start_time": "2022-10-19T09:55:22.000Z"
   },
   {
    "duration": 753,
    "start_time": "2022-10-19T09:55:22.176Z"
   },
   {
    "duration": 999,
    "start_time": "2022-10-19T09:55:22.932Z"
   },
   {
    "duration": 772,
    "start_time": "2022-10-19T09:55:23.934Z"
   },
   {
    "duration": 316,
    "start_time": "2022-10-19T09:55:24.708Z"
   },
   {
    "duration": 310,
    "start_time": "2022-10-19T09:55:25.026Z"
   },
   {
    "duration": 464,
    "start_time": "2022-10-19T09:55:25.337Z"
   },
   {
    "duration": 320,
    "start_time": "2022-10-19T09:55:25.803Z"
   },
   {
    "duration": 66,
    "start_time": "2022-10-19T09:55:26.125Z"
   },
   {
    "duration": 52,
    "start_time": "2022-10-19T09:55:26.193Z"
   },
   {
    "duration": 187,
    "start_time": "2022-10-19T09:55:26.247Z"
   },
   {
    "duration": 17,
    "start_time": "2022-10-19T09:55:26.437Z"
   },
   {
    "duration": 1308,
    "start_time": "2022-10-19T09:55:26.456Z"
   },
   {
    "duration": 3,
    "start_time": "2022-10-19T09:55:27.766Z"
   },
   {
    "duration": 31,
    "start_time": "2022-10-19T09:55:27.770Z"
   },
   {
    "duration": 22,
    "start_time": "2022-10-19T09:55:27.803Z"
   },
   {
    "duration": 139,
    "start_time": "2022-10-19T09:55:27.826Z"
   },
   {
    "duration": 0,
    "start_time": "2022-10-19T09:55:27.967Z"
   },
   {
    "duration": 0,
    "start_time": "2022-10-19T09:55:27.968Z"
   },
   {
    "duration": 0,
    "start_time": "2022-10-19T09:55:27.969Z"
   },
   {
    "duration": 0,
    "start_time": "2022-10-19T09:55:27.971Z"
   },
   {
    "duration": 0,
    "start_time": "2022-10-19T09:55:27.972Z"
   },
   {
    "duration": 0,
    "start_time": "2022-10-19T09:55:27.973Z"
   },
   {
    "duration": 0,
    "start_time": "2022-10-19T09:55:27.974Z"
   },
   {
    "duration": 0,
    "start_time": "2022-10-19T09:55:27.975Z"
   },
   {
    "duration": 0,
    "start_time": "2022-10-19T09:55:27.989Z"
   },
   {
    "duration": 0,
    "start_time": "2022-10-19T09:55:27.991Z"
   },
   {
    "duration": 0,
    "start_time": "2022-10-19T09:55:27.992Z"
   },
   {
    "duration": 59,
    "start_time": "2022-10-19T09:56:38.288Z"
   },
   {
    "duration": 1685,
    "start_time": "2022-10-19T09:57:13.809Z"
   },
   {
    "duration": 1954,
    "start_time": "2022-10-19T09:57:15.497Z"
   },
   {
    "duration": 4,
    "start_time": "2022-10-19T09:57:17.453Z"
   },
   {
    "duration": 847,
    "start_time": "2022-10-19T09:57:17.488Z"
   },
   {
    "duration": 19,
    "start_time": "2022-10-19T09:57:18.338Z"
   },
   {
    "duration": 185,
    "start_time": "2022-10-19T09:57:18.359Z"
   },
   {
    "duration": 497,
    "start_time": "2022-10-19T09:57:18.549Z"
   },
   {
    "duration": 1079,
    "start_time": "2022-10-19T09:57:19.048Z"
   },
   {
    "duration": 49,
    "start_time": "2022-10-19T09:57:20.129Z"
   },
   {
    "duration": 178,
    "start_time": "2022-10-19T09:57:20.188Z"
   },
   {
    "duration": 6,
    "start_time": "2022-10-19T09:57:20.368Z"
   },
   {
    "duration": 533,
    "start_time": "2022-10-19T09:57:20.376Z"
   },
   {
    "duration": 36,
    "start_time": "2022-10-19T09:57:20.912Z"
   },
   {
    "duration": 386,
    "start_time": "2022-10-19T09:57:20.950Z"
   },
   {
    "duration": 18,
    "start_time": "2022-10-19T09:57:21.338Z"
   },
   {
    "duration": 119,
    "start_time": "2022-10-19T09:57:21.358Z"
   },
   {
    "duration": 28,
    "start_time": "2022-10-19T09:57:21.479Z"
   },
   {
    "duration": 67,
    "start_time": "2022-10-19T09:57:21.509Z"
   },
   {
    "duration": 553,
    "start_time": "2022-10-19T09:57:21.578Z"
   },
   {
    "duration": 424,
    "start_time": "2022-10-19T09:57:22.133Z"
   },
   {
    "duration": 124,
    "start_time": "2022-10-19T09:57:22.558Z"
   },
   {
    "duration": 339,
    "start_time": "2022-10-19T09:57:22.684Z"
   },
   {
    "duration": 343,
    "start_time": "2022-10-19T09:57:23.025Z"
   },
   {
    "duration": 354,
    "start_time": "2022-10-19T09:57:23.370Z"
   },
   {
    "duration": 301,
    "start_time": "2022-10-19T09:57:23.726Z"
   },
   {
    "duration": 318,
    "start_time": "2022-10-19T09:57:24.030Z"
   },
   {
    "duration": 417,
    "start_time": "2022-10-19T09:57:24.350Z"
   },
   {
    "duration": 330,
    "start_time": "2022-10-19T09:57:24.770Z"
   },
   {
    "duration": 56,
    "start_time": "2022-10-19T09:57:25.102Z"
   },
   {
    "duration": 71,
    "start_time": "2022-10-19T09:57:25.160Z"
   },
   {
    "duration": 135,
    "start_time": "2022-10-19T09:57:25.233Z"
   },
   {
    "duration": 22,
    "start_time": "2022-10-19T09:57:25.371Z"
   },
   {
    "duration": 1304,
    "start_time": "2022-10-19T09:57:25.395Z"
   },
   {
    "duration": 3,
    "start_time": "2022-10-19T09:57:26.701Z"
   },
   {
    "duration": 16,
    "start_time": "2022-10-19T09:57:26.705Z"
   },
   {
    "duration": 12,
    "start_time": "2022-10-19T09:57:26.723Z"
   },
   {
    "duration": 63846,
    "start_time": "2022-10-19T09:57:26.737Z"
   },
   {
    "duration": 0,
    "start_time": "2022-10-19T09:58:30.589Z"
   },
   {
    "duration": 0,
    "start_time": "2022-10-19T09:58:30.590Z"
   },
   {
    "duration": 0,
    "start_time": "2022-10-19T09:58:30.591Z"
   },
   {
    "duration": 0,
    "start_time": "2022-10-19T09:58:30.592Z"
   },
   {
    "duration": 0,
    "start_time": "2022-10-19T09:58:30.594Z"
   },
   {
    "duration": 0,
    "start_time": "2022-10-19T09:58:30.594Z"
   },
   {
    "duration": 0,
    "start_time": "2022-10-19T09:58:30.596Z"
   },
   {
    "duration": 0,
    "start_time": "2022-10-19T09:58:30.597Z"
   },
   {
    "duration": 0,
    "start_time": "2022-10-19T09:58:30.598Z"
   },
   {
    "duration": 0,
    "start_time": "2022-10-19T09:58:30.599Z"
   },
   {
    "duration": 0,
    "start_time": "2022-10-19T09:58:30.600Z"
   },
   {
    "duration": 1800,
    "start_time": "2022-10-19T09:58:53.280Z"
   },
   {
    "duration": 920,
    "start_time": "2022-10-19T09:58:55.083Z"
   },
   {
    "duration": 5,
    "start_time": "2022-10-19T09:58:56.005Z"
   },
   {
    "duration": 790,
    "start_time": "2022-10-19T09:58:56.012Z"
   },
   {
    "duration": 23,
    "start_time": "2022-10-19T09:58:56.804Z"
   },
   {
    "duration": 250,
    "start_time": "2022-10-19T09:58:56.829Z"
   },
   {
    "duration": 517,
    "start_time": "2022-10-19T09:58:57.081Z"
   },
   {
    "duration": 1308,
    "start_time": "2022-10-19T09:58:57.599Z"
   },
   {
    "duration": 93,
    "start_time": "2022-10-19T09:58:58.909Z"
   },
   {
    "duration": 393,
    "start_time": "2022-10-19T09:58:59.005Z"
   },
   {
    "duration": 5,
    "start_time": "2022-10-19T09:58:59.400Z"
   },
   {
    "duration": 1046,
    "start_time": "2022-10-19T09:58:59.407Z"
   },
   {
    "duration": 47,
    "start_time": "2022-10-19T09:59:00.455Z"
   },
   {
    "duration": 339,
    "start_time": "2022-10-19T09:59:00.505Z"
   },
   {
    "duration": 17,
    "start_time": "2022-10-19T09:59:00.846Z"
   },
   {
    "duration": 106,
    "start_time": "2022-10-19T09:59:00.866Z"
   },
   {
    "duration": 16,
    "start_time": "2022-10-19T09:59:00.974Z"
   },
   {
    "duration": 26,
    "start_time": "2022-10-19T09:59:00.992Z"
   },
   {
    "duration": 503,
    "start_time": "2022-10-19T09:59:01.019Z"
   },
   {
    "duration": 471,
    "start_time": "2022-10-19T09:59:01.524Z"
   },
   {
    "duration": 150,
    "start_time": "2022-10-19T09:59:01.997Z"
   },
   {
    "duration": 503,
    "start_time": "2022-10-19T09:59:02.150Z"
   },
   {
    "duration": 510,
    "start_time": "2022-10-19T09:59:02.655Z"
   },
   {
    "duration": 390,
    "start_time": "2022-10-19T09:59:03.167Z"
   },
   {
    "duration": 308,
    "start_time": "2022-10-19T09:59:03.559Z"
   },
   {
    "duration": 320,
    "start_time": "2022-10-19T09:59:03.869Z"
   },
   {
    "duration": 441,
    "start_time": "2022-10-19T09:59:04.191Z"
   },
   {
    "duration": 350,
    "start_time": "2022-10-19T09:59:04.634Z"
   },
   {
    "duration": 60,
    "start_time": "2022-10-19T09:59:04.985Z"
   },
   {
    "duration": 71,
    "start_time": "2022-10-19T09:59:05.048Z"
   },
   {
    "duration": 137,
    "start_time": "2022-10-19T09:59:05.121Z"
   },
   {
    "duration": 16,
    "start_time": "2022-10-19T09:59:05.260Z"
   },
   {
    "duration": 1293,
    "start_time": "2022-10-19T09:59:05.278Z"
   },
   {
    "duration": 3,
    "start_time": "2022-10-19T09:59:06.573Z"
   },
   {
    "duration": 19,
    "start_time": "2022-10-19T09:59:06.578Z"
   },
   {
    "duration": 10,
    "start_time": "2022-10-19T09:59:06.599Z"
   },
   {
    "duration": 190265,
    "start_time": "2022-10-19T09:59:06.610Z"
   },
   {
    "duration": 0,
    "start_time": "2022-10-19T10:02:16.877Z"
   },
   {
    "duration": 0,
    "start_time": "2022-10-19T10:02:16.879Z"
   },
   {
    "duration": 0,
    "start_time": "2022-10-19T10:02:16.889Z"
   },
   {
    "duration": 0,
    "start_time": "2022-10-19T10:02:16.892Z"
   },
   {
    "duration": 0,
    "start_time": "2022-10-19T10:02:16.893Z"
   },
   {
    "duration": 0,
    "start_time": "2022-10-19T10:02:16.895Z"
   },
   {
    "duration": 0,
    "start_time": "2022-10-19T10:02:16.897Z"
   },
   {
    "duration": 0,
    "start_time": "2022-10-19T10:02:16.898Z"
   },
   {
    "duration": 0,
    "start_time": "2022-10-19T10:02:16.900Z"
   },
   {
    "duration": 0,
    "start_time": "2022-10-19T10:02:16.901Z"
   },
   {
    "duration": 0,
    "start_time": "2022-10-19T10:02:16.903Z"
   },
   {
    "duration": 1606,
    "start_time": "2022-10-19T10:04:14.486Z"
   },
   {
    "duration": 1715,
    "start_time": "2022-10-19T10:04:16.094Z"
   },
   {
    "duration": 4,
    "start_time": "2022-10-19T10:04:17.811Z"
   },
   {
    "duration": 1027,
    "start_time": "2022-10-19T10:04:17.817Z"
   },
   {
    "duration": 16,
    "start_time": "2022-10-19T10:04:18.846Z"
   },
   {
    "duration": 180,
    "start_time": "2022-10-19T10:04:18.864Z"
   },
   {
    "duration": 509,
    "start_time": "2022-10-19T10:04:19.046Z"
   },
   {
    "duration": 1023,
    "start_time": "2022-10-19T10:04:19.557Z"
   },
   {
    "duration": 44,
    "start_time": "2022-10-19T10:04:20.582Z"
   },
   {
    "duration": 167,
    "start_time": "2022-10-19T10:04:20.629Z"
   },
   {
    "duration": 6,
    "start_time": "2022-10-19T10:04:20.798Z"
   },
   {
    "duration": 515,
    "start_time": "2022-10-19T10:04:20.806Z"
   },
   {
    "duration": 37,
    "start_time": "2022-10-19T10:04:21.323Z"
   },
   {
    "duration": 354,
    "start_time": "2022-10-19T10:04:21.362Z"
   },
   {
    "duration": 17,
    "start_time": "2022-10-19T10:04:21.718Z"
   },
   {
    "duration": 115,
    "start_time": "2022-10-19T10:04:21.736Z"
   },
   {
    "duration": 15,
    "start_time": "2022-10-19T10:04:21.854Z"
   },
   {
    "duration": 44,
    "start_time": "2022-10-19T10:04:21.872Z"
   },
   {
    "duration": 496,
    "start_time": "2022-10-19T10:04:21.918Z"
   },
   {
    "duration": 364,
    "start_time": "2022-10-19T10:04:22.416Z"
   },
   {
    "duration": 116,
    "start_time": "2022-10-19T10:04:22.782Z"
   },
   {
    "duration": 327,
    "start_time": "2022-10-19T10:04:22.899Z"
   },
   {
    "duration": 346,
    "start_time": "2022-10-19T10:04:23.228Z"
   },
   {
    "duration": 321,
    "start_time": "2022-10-19T10:04:23.576Z"
   },
   {
    "duration": 297,
    "start_time": "2022-10-19T10:04:23.899Z"
   },
   {
    "duration": 294,
    "start_time": "2022-10-19T10:04:24.198Z"
   },
   {
    "duration": 401,
    "start_time": "2022-10-19T10:04:24.494Z"
   },
   {
    "duration": 313,
    "start_time": "2022-10-19T10:04:24.899Z"
   },
   {
    "duration": 52,
    "start_time": "2022-10-19T10:04:25.214Z"
   },
   {
    "duration": 72,
    "start_time": "2022-10-19T10:04:25.268Z"
   },
   {
    "duration": 125,
    "start_time": "2022-10-19T10:04:25.341Z"
   },
   {
    "duration": 12,
    "start_time": "2022-10-19T10:04:25.468Z"
   },
   {
    "duration": 1263,
    "start_time": "2022-10-19T10:04:25.489Z"
   },
   {
    "duration": 3,
    "start_time": "2022-10-19T10:04:26.754Z"
   },
   {
    "duration": 11,
    "start_time": "2022-10-19T10:04:26.759Z"
   },
   {
    "duration": 5,
    "start_time": "2022-10-19T10:04:26.772Z"
   },
   {
    "duration": 3464286,
    "start_time": "2022-10-19T10:04:26.779Z"
   },
   {
    "duration": 0,
    "start_time": "2022-10-19T11:02:11.067Z"
   },
   {
    "duration": 0,
    "start_time": "2022-10-19T11:02:11.068Z"
   },
   {
    "duration": 0,
    "start_time": "2022-10-19T11:02:11.070Z"
   },
   {
    "duration": 0,
    "start_time": "2022-10-19T11:02:11.071Z"
   },
   {
    "duration": 0,
    "start_time": "2022-10-19T11:02:11.090Z"
   },
   {
    "duration": 0,
    "start_time": "2022-10-19T11:02:11.091Z"
   },
   {
    "duration": 0,
    "start_time": "2022-10-19T11:02:11.092Z"
   },
   {
    "duration": 0,
    "start_time": "2022-10-19T11:02:11.093Z"
   },
   {
    "duration": 1,
    "start_time": "2022-10-19T11:02:11.093Z"
   },
   {
    "duration": 0,
    "start_time": "2022-10-19T11:02:11.094Z"
   },
   {
    "duration": 0,
    "start_time": "2022-10-19T11:02:11.095Z"
   },
   {
    "duration": 1571,
    "start_time": "2022-10-19T11:02:22.153Z"
   },
   {
    "duration": 1292,
    "start_time": "2022-10-19T11:02:23.726Z"
   },
   {
    "duration": 3,
    "start_time": "2022-10-19T11:02:25.020Z"
   },
   {
    "duration": 1177,
    "start_time": "2022-10-19T11:02:25.025Z"
   },
   {
    "duration": 16,
    "start_time": "2022-10-19T11:02:26.204Z"
   },
   {
    "duration": 169,
    "start_time": "2022-10-19T11:02:26.221Z"
   },
   {
    "duration": 489,
    "start_time": "2022-10-19T11:02:26.392Z"
   },
   {
    "duration": 954,
    "start_time": "2022-10-19T11:02:26.883Z"
   },
   {
    "duration": 28,
    "start_time": "2022-10-19T11:02:27.839Z"
   },
   {
    "duration": 134,
    "start_time": "2022-10-19T11:02:27.870Z"
   },
   {
    "duration": 5,
    "start_time": "2022-10-19T11:02:28.005Z"
   },
   {
    "duration": 455,
    "start_time": "2022-10-19T11:02:28.011Z"
   },
   {
    "duration": 45,
    "start_time": "2022-10-19T11:02:28.468Z"
   },
   {
    "duration": 309,
    "start_time": "2022-10-19T11:02:28.515Z"
   },
   {
    "duration": 16,
    "start_time": "2022-10-19T11:02:28.826Z"
   },
   {
    "duration": 98,
    "start_time": "2022-10-19T11:02:28.844Z"
   },
   {
    "duration": 9,
    "start_time": "2022-10-19T11:02:28.944Z"
   },
   {
    "duration": 22,
    "start_time": "2022-10-19T11:02:28.955Z"
   },
   {
    "duration": 398,
    "start_time": "2022-10-19T11:02:28.979Z"
   },
   {
    "duration": 348,
    "start_time": "2022-10-19T11:02:29.379Z"
   },
   {
    "duration": 101,
    "start_time": "2022-10-19T11:02:29.729Z"
   },
   {
    "duration": 289,
    "start_time": "2022-10-19T11:02:29.832Z"
   },
   {
    "duration": 296,
    "start_time": "2022-10-19T11:02:30.123Z"
   },
   {
    "duration": 301,
    "start_time": "2022-10-19T11:02:30.420Z"
   },
   {
    "duration": 289,
    "start_time": "2022-10-19T11:02:30.723Z"
   },
   {
    "duration": 300,
    "start_time": "2022-10-19T11:02:31.014Z"
   },
   {
    "duration": 400,
    "start_time": "2022-10-19T11:02:31.316Z"
   },
   {
    "duration": 418,
    "start_time": "2022-10-19T11:02:31.720Z"
   },
   {
    "duration": 56,
    "start_time": "2022-10-19T11:02:32.140Z"
   },
   {
    "duration": 47,
    "start_time": "2022-10-19T11:02:32.198Z"
   },
   {
    "duration": 122,
    "start_time": "2022-10-19T11:02:32.246Z"
   },
   {
    "duration": 19,
    "start_time": "2022-10-19T11:02:32.370Z"
   },
   {
    "duration": 1125,
    "start_time": "2022-10-19T11:02:32.391Z"
   },
   {
    "duration": 2,
    "start_time": "2022-10-19T11:02:33.518Z"
   },
   {
    "duration": 12,
    "start_time": "2022-10-19T11:02:33.521Z"
   },
   {
    "duration": 7,
    "start_time": "2022-10-19T11:02:33.535Z"
   },
   {
    "duration": 1602,
    "start_time": "2022-10-19T11:07:42.287Z"
   },
   {
    "duration": 885,
    "start_time": "2022-10-19T11:07:43.891Z"
   },
   {
    "duration": 3,
    "start_time": "2022-10-19T11:07:44.778Z"
   },
   {
    "duration": 744,
    "start_time": "2022-10-19T11:07:44.789Z"
   },
   {
    "duration": 17,
    "start_time": "2022-10-19T11:07:45.535Z"
   },
   {
    "duration": 175,
    "start_time": "2022-10-19T11:07:45.553Z"
   },
   {
    "duration": 460,
    "start_time": "2022-10-19T11:07:45.730Z"
   },
   {
    "duration": 963,
    "start_time": "2022-10-19T11:07:46.191Z"
   },
   {
    "duration": 38,
    "start_time": "2022-10-19T11:07:47.155Z"
   },
   {
    "duration": 125,
    "start_time": "2022-10-19T11:07:47.196Z"
   },
   {
    "duration": 5,
    "start_time": "2022-10-19T11:07:47.323Z"
   },
   {
    "duration": 461,
    "start_time": "2022-10-19T11:07:47.329Z"
   },
   {
    "duration": 36,
    "start_time": "2022-10-19T11:07:47.791Z"
   },
   {
    "duration": 314,
    "start_time": "2022-10-19T11:07:47.829Z"
   },
   {
    "duration": 15,
    "start_time": "2022-10-19T11:07:48.145Z"
   },
   {
    "duration": 101,
    "start_time": "2022-10-19T11:07:48.162Z"
   },
   {
    "duration": 3,
    "start_time": "2022-10-19T11:07:48.264Z"
   },
   {
    "duration": 26,
    "start_time": "2022-10-19T11:07:48.268Z"
   },
   {
    "duration": 431,
    "start_time": "2022-10-19T11:07:48.296Z"
   },
   {
    "duration": 364,
    "start_time": "2022-10-19T11:07:48.729Z"
   },
   {
    "duration": 101,
    "start_time": "2022-10-19T11:07:49.095Z"
   },
   {
    "duration": 317,
    "start_time": "2022-10-19T11:07:49.199Z"
   },
   {
    "duration": 323,
    "start_time": "2022-10-19T11:07:49.517Z"
   },
   {
    "duration": 318,
    "start_time": "2022-10-19T11:07:49.842Z"
   },
   {
    "duration": 318,
    "start_time": "2022-10-19T11:07:50.161Z"
   },
   {
    "duration": 299,
    "start_time": "2022-10-19T11:07:50.481Z"
   },
   {
    "duration": 407,
    "start_time": "2022-10-19T11:07:50.782Z"
   },
   {
    "duration": 308,
    "start_time": "2022-10-19T11:07:51.192Z"
   },
   {
    "duration": 50,
    "start_time": "2022-10-19T11:07:51.502Z"
   },
   {
    "duration": 66,
    "start_time": "2022-10-19T11:07:51.553Z"
   },
   {
    "duration": 111,
    "start_time": "2022-10-19T11:07:51.621Z"
   },
   {
    "duration": 11,
    "start_time": "2022-10-19T11:07:51.734Z"
   },
   {
    "duration": 1311,
    "start_time": "2022-10-19T11:07:51.747Z"
   },
   {
    "duration": 3,
    "start_time": "2022-10-19T11:07:53.060Z"
   },
   {
    "duration": 18,
    "start_time": "2022-10-19T11:07:53.065Z"
   },
   {
    "duration": 28,
    "start_time": "2022-10-19T11:07:53.085Z"
   },
   {
    "duration": 4054673,
    "start_time": "2022-10-19T11:07:53.115Z"
   },
   {
    "duration": 0,
    "start_time": "2022-10-19T12:15:27.790Z"
   },
   {
    "duration": 0,
    "start_time": "2022-10-19T12:15:27.792Z"
   },
   {
    "duration": 0,
    "start_time": "2022-10-19T12:15:27.793Z"
   },
   {
    "duration": 0,
    "start_time": "2022-10-19T12:15:27.794Z"
   },
   {
    "duration": 0,
    "start_time": "2022-10-19T12:15:27.796Z"
   },
   {
    "duration": 0,
    "start_time": "2022-10-19T12:15:27.797Z"
   },
   {
    "duration": 0,
    "start_time": "2022-10-19T12:15:27.798Z"
   },
   {
    "duration": 1,
    "start_time": "2022-10-19T12:15:27.799Z"
   },
   {
    "duration": 0,
    "start_time": "2022-10-19T12:15:27.801Z"
   },
   {
    "duration": 0,
    "start_time": "2022-10-19T12:15:27.802Z"
   },
   {
    "duration": 0,
    "start_time": "2022-10-19T12:15:27.804Z"
   },
   {
    "duration": 2558,
    "start_time": "2022-10-20T10:09:22.921Z"
   },
   {
    "duration": 5278,
    "start_time": "2022-10-20T10:09:25.484Z"
   },
   {
    "duration": 13,
    "start_time": "2022-10-20T10:09:30.764Z"
   },
   {
    "duration": 1017,
    "start_time": "2022-10-20T10:09:30.783Z"
   },
   {
    "duration": 39,
    "start_time": "2022-10-20T10:09:31.809Z"
   },
   {
    "duration": 319,
    "start_time": "2022-10-20T10:09:31.855Z"
   },
   {
    "duration": 757,
    "start_time": "2022-10-20T10:09:32.183Z"
   },
   {
    "duration": 1353,
    "start_time": "2022-10-20T10:09:32.943Z"
   },
   {
    "duration": 30,
    "start_time": "2022-10-20T10:09:34.298Z"
   },
   {
    "duration": 200,
    "start_time": "2022-10-20T10:09:34.342Z"
   },
   {
    "duration": 6,
    "start_time": "2022-10-20T10:09:34.544Z"
   },
   {
    "duration": 694,
    "start_time": "2022-10-20T10:09:34.551Z"
   },
   {
    "duration": 49,
    "start_time": "2022-10-20T10:09:35.249Z"
   },
   {
    "duration": 483,
    "start_time": "2022-10-20T10:09:35.300Z"
   },
   {
    "duration": 21,
    "start_time": "2022-10-20T10:09:35.785Z"
   },
   {
    "duration": 166,
    "start_time": "2022-10-20T10:09:35.809Z"
   },
   {
    "duration": 5,
    "start_time": "2022-10-20T10:09:35.979Z"
   },
   {
    "duration": 17,
    "start_time": "2022-10-20T10:09:35.987Z"
   },
   {
    "duration": 621,
    "start_time": "2022-10-20T10:09:36.006Z"
   },
   {
    "duration": 564,
    "start_time": "2022-10-20T10:09:36.629Z"
   },
   {
    "duration": 192,
    "start_time": "2022-10-20T10:09:37.197Z"
   },
   {
    "duration": 510,
    "start_time": "2022-10-20T10:09:37.393Z"
   },
   {
    "duration": 526,
    "start_time": "2022-10-20T10:09:37.909Z"
   },
   {
    "duration": 397,
    "start_time": "2022-10-20T10:09:38.437Z"
   },
   {
    "duration": 399,
    "start_time": "2022-10-20T10:09:38.840Z"
   },
   {
    "duration": 516,
    "start_time": "2022-10-20T10:09:39.245Z"
   },
   {
    "duration": 351,
    "start_time": "2022-10-20T10:09:39.766Z"
   },
   {
    "duration": 428,
    "start_time": "2022-10-20T10:09:40.123Z"
   },
   {
    "duration": 84,
    "start_time": "2022-10-20T10:09:40.555Z"
   },
   {
    "duration": 89,
    "start_time": "2022-10-20T10:09:40.645Z"
   },
   {
    "duration": 157,
    "start_time": "2022-10-20T10:09:40.740Z"
   },
   {
    "duration": 17,
    "start_time": "2022-10-20T10:09:40.899Z"
   },
   {
    "duration": 16,
    "start_time": "2022-10-20T10:09:40.918Z"
   },
   {
    "duration": 251,
    "start_time": "2022-10-20T10:09:40.938Z"
   },
   {
    "duration": 0,
    "start_time": "2022-10-20T10:09:41.192Z"
   },
   {
    "duration": 0,
    "start_time": "2022-10-20T10:09:41.194Z"
   },
   {
    "duration": 0,
    "start_time": "2022-10-20T10:09:41.195Z"
   },
   {
    "duration": 0,
    "start_time": "2022-10-20T10:09:41.196Z"
   },
   {
    "duration": 1,
    "start_time": "2022-10-20T10:09:41.197Z"
   },
   {
    "duration": 0,
    "start_time": "2022-10-20T10:09:41.200Z"
   },
   {
    "duration": 0,
    "start_time": "2022-10-20T10:09:41.201Z"
   },
   {
    "duration": 0,
    "start_time": "2022-10-20T10:09:41.203Z"
   },
   {
    "duration": 0,
    "start_time": "2022-10-20T10:09:41.205Z"
   },
   {
    "duration": 0,
    "start_time": "2022-10-20T10:09:41.227Z"
   },
   {
    "duration": 0,
    "start_time": "2022-10-20T10:09:41.229Z"
   },
   {
    "duration": 0,
    "start_time": "2022-10-20T10:09:41.230Z"
   },
   {
    "duration": 0,
    "start_time": "2022-10-20T10:09:41.231Z"
   },
   {
    "duration": 0,
    "start_time": "2022-10-20T10:09:41.233Z"
   },
   {
    "duration": 0,
    "start_time": "2022-10-20T10:09:41.234Z"
   },
   {
    "duration": 2266,
    "start_time": "2022-10-20T10:11:32.080Z"
   },
   {
    "duration": 2366,
    "start_time": "2022-10-20T10:11:34.349Z"
   },
   {
    "duration": 6,
    "start_time": "2022-10-20T10:11:36.718Z"
   },
   {
    "duration": 1039,
    "start_time": "2022-10-20T10:11:36.734Z"
   },
   {
    "duration": 23,
    "start_time": "2022-10-20T10:11:37.776Z"
   },
   {
    "duration": 251,
    "start_time": "2022-10-20T10:11:37.801Z"
   },
   {
    "duration": 553,
    "start_time": "2022-10-20T10:11:38.056Z"
   },
   {
    "duration": 1180,
    "start_time": "2022-10-20T10:11:38.611Z"
   },
   {
    "duration": 44,
    "start_time": "2022-10-20T10:11:39.793Z"
   },
   {
    "duration": 177,
    "start_time": "2022-10-20T10:11:39.846Z"
   },
   {
    "duration": 16,
    "start_time": "2022-10-20T10:11:40.027Z"
   },
   {
    "duration": 615,
    "start_time": "2022-10-20T10:11:40.050Z"
   },
   {
    "duration": 48,
    "start_time": "2022-10-20T10:11:40.667Z"
   },
   {
    "duration": 401,
    "start_time": "2022-10-20T10:11:40.717Z"
   },
   {
    "duration": 25,
    "start_time": "2022-10-20T10:11:41.119Z"
   },
   {
    "duration": 123,
    "start_time": "2022-10-20T10:11:41.153Z"
   },
   {
    "duration": 4,
    "start_time": "2022-10-20T10:11:41.278Z"
   },
   {
    "duration": 16,
    "start_time": "2022-10-20T10:11:41.285Z"
   },
   {
    "duration": 612,
    "start_time": "2022-10-20T10:11:41.304Z"
   },
   {
    "duration": 497,
    "start_time": "2022-10-20T10:11:41.918Z"
   },
   {
    "duration": 182,
    "start_time": "2022-10-20T10:11:42.418Z"
   },
   {
    "duration": 463,
    "start_time": "2022-10-20T10:11:42.602Z"
   },
   {
    "duration": 428,
    "start_time": "2022-10-20T10:11:43.076Z"
   },
   {
    "duration": 382,
    "start_time": "2022-10-20T10:11:43.506Z"
   },
   {
    "duration": 479,
    "start_time": "2022-10-20T10:11:43.890Z"
   },
   {
    "duration": 406,
    "start_time": "2022-10-20T10:11:44.373Z"
   },
   {
    "duration": 577,
    "start_time": "2022-10-20T10:11:44.782Z"
   },
   {
    "duration": 422,
    "start_time": "2022-10-20T10:11:45.367Z"
   },
   {
    "duration": 85,
    "start_time": "2022-10-20T10:11:45.791Z"
   },
   {
    "duration": 98,
    "start_time": "2022-10-20T10:11:45.879Z"
   },
   {
    "duration": 157,
    "start_time": "2022-10-20T10:11:45.979Z"
   },
   {
    "duration": 20,
    "start_time": "2022-10-20T10:11:46.138Z"
   },
   {
    "duration": 7,
    "start_time": "2022-10-20T10:11:46.163Z"
   },
   {
    "duration": 210,
    "start_time": "2022-10-20T10:11:46.173Z"
   },
   {
    "duration": 0,
    "start_time": "2022-10-20T10:11:46.385Z"
   },
   {
    "duration": 0,
    "start_time": "2022-10-20T10:11:46.387Z"
   },
   {
    "duration": 0,
    "start_time": "2022-10-20T10:11:46.389Z"
   },
   {
    "duration": 0,
    "start_time": "2022-10-20T10:11:46.392Z"
   },
   {
    "duration": 0,
    "start_time": "2022-10-20T10:11:46.393Z"
   },
   {
    "duration": 0,
    "start_time": "2022-10-20T10:11:46.395Z"
   },
   {
    "duration": 0,
    "start_time": "2022-10-20T10:11:46.396Z"
   },
   {
    "duration": 0,
    "start_time": "2022-10-20T10:11:46.398Z"
   },
   {
    "duration": 0,
    "start_time": "2022-10-20T10:11:46.400Z"
   },
   {
    "duration": 0,
    "start_time": "2022-10-20T10:11:46.401Z"
   },
   {
    "duration": 0,
    "start_time": "2022-10-20T10:11:46.403Z"
   },
   {
    "duration": 0,
    "start_time": "2022-10-20T10:11:46.405Z"
   },
   {
    "duration": 0,
    "start_time": "2022-10-20T10:11:46.431Z"
   },
   {
    "duration": 0,
    "start_time": "2022-10-20T10:11:46.433Z"
   },
   {
    "duration": 0,
    "start_time": "2022-10-20T10:11:46.434Z"
   },
   {
    "duration": 1484,
    "start_time": "2022-10-20T10:12:05.221Z"
   },
   {
    "duration": 3051,
    "start_time": "2022-10-20T10:12:12.122Z"
   },
   {
    "duration": 1247,
    "start_time": "2022-10-20T10:12:15.227Z"
   },
   {
    "duration": 8,
    "start_time": "2022-10-20T10:12:16.479Z"
   },
   {
    "duration": 1028,
    "start_time": "2022-10-20T10:12:16.490Z"
   },
   {
    "duration": 40,
    "start_time": "2022-10-20T10:12:17.520Z"
   },
   {
    "duration": 252,
    "start_time": "2022-10-20T10:12:17.570Z"
   },
   {
    "duration": 559,
    "start_time": "2022-10-20T10:12:17.832Z"
   },
   {
    "duration": 1140,
    "start_time": "2022-10-20T10:12:18.393Z"
   },
   {
    "duration": 45,
    "start_time": "2022-10-20T10:12:19.535Z"
   },
   {
    "duration": 187,
    "start_time": "2022-10-20T10:12:19.585Z"
   },
   {
    "duration": 6,
    "start_time": "2022-10-20T10:12:19.774Z"
   },
   {
    "duration": 622,
    "start_time": "2022-10-20T10:12:19.781Z"
   },
   {
    "duration": 56,
    "start_time": "2022-10-20T10:12:20.406Z"
   },
   {
    "duration": 426,
    "start_time": "2022-10-20T10:12:20.467Z"
   },
   {
    "duration": 17,
    "start_time": "2022-10-20T10:12:20.895Z"
   },
   {
    "duration": 152,
    "start_time": "2022-10-20T10:12:20.924Z"
   },
   {
    "duration": 4,
    "start_time": "2022-10-20T10:12:21.078Z"
   },
   {
    "duration": 14,
    "start_time": "2022-10-20T10:12:21.084Z"
   },
   {
    "duration": 556,
    "start_time": "2022-10-20T10:12:21.099Z"
   },
   {
    "duration": 478,
    "start_time": "2022-10-20T10:12:21.657Z"
   },
   {
    "duration": 181,
    "start_time": "2022-10-20T10:12:22.141Z"
   },
   {
    "duration": 465,
    "start_time": "2022-10-20T10:12:22.324Z"
   },
   {
    "duration": 498,
    "start_time": "2022-10-20T10:12:22.792Z"
   },
   {
    "duration": 465,
    "start_time": "2022-10-20T10:12:23.292Z"
   },
   {
    "duration": 363,
    "start_time": "2022-10-20T10:12:23.758Z"
   },
   {
    "duration": 472,
    "start_time": "2022-10-20T10:12:24.126Z"
   },
   {
    "duration": 575,
    "start_time": "2022-10-20T10:12:24.601Z"
   },
   {
    "duration": 493,
    "start_time": "2022-10-20T10:12:25.181Z"
   },
   {
    "duration": 92,
    "start_time": "2022-10-20T10:12:25.676Z"
   },
   {
    "duration": 94,
    "start_time": "2022-10-20T10:12:25.771Z"
   },
   {
    "duration": 149,
    "start_time": "2022-10-20T10:12:25.867Z"
   },
   {
    "duration": 31,
    "start_time": "2022-10-20T10:12:26.018Z"
   },
   {
    "duration": 10,
    "start_time": "2022-10-20T10:12:26.059Z"
   },
   {
    "duration": 1471,
    "start_time": "2022-10-20T10:12:26.074Z"
   },
   {
    "duration": 0,
    "start_time": "2022-10-20T10:12:27.552Z"
   },
   {
    "duration": 0,
    "start_time": "2022-10-20T10:12:27.555Z"
   },
   {
    "duration": 0,
    "start_time": "2022-10-20T10:12:27.556Z"
   },
   {
    "duration": 0,
    "start_time": "2022-10-20T10:12:27.557Z"
   },
   {
    "duration": 0,
    "start_time": "2022-10-20T10:12:27.558Z"
   },
   {
    "duration": 0,
    "start_time": "2022-10-20T10:12:27.559Z"
   },
   {
    "duration": 0,
    "start_time": "2022-10-20T10:12:27.560Z"
   },
   {
    "duration": 0,
    "start_time": "2022-10-20T10:12:27.562Z"
   },
   {
    "duration": 0,
    "start_time": "2022-10-20T10:12:27.563Z"
   },
   {
    "duration": 0,
    "start_time": "2022-10-20T10:12:27.570Z"
   },
   {
    "duration": 0,
    "start_time": "2022-10-20T10:12:27.571Z"
   },
   {
    "duration": 0,
    "start_time": "2022-10-20T10:12:27.572Z"
   },
   {
    "duration": 0,
    "start_time": "2022-10-20T10:12:27.573Z"
   },
   {
    "duration": 0,
    "start_time": "2022-10-20T10:12:27.574Z"
   },
   {
    "duration": 0,
    "start_time": "2022-10-20T10:12:27.575Z"
   },
   {
    "duration": 2503,
    "start_time": "2022-10-20T10:12:50.228Z"
   },
   {
    "duration": 1146,
    "start_time": "2022-10-20T10:12:52.739Z"
   },
   {
    "duration": 5,
    "start_time": "2022-10-20T10:12:53.888Z"
   },
   {
    "duration": 989,
    "start_time": "2022-10-20T10:12:53.896Z"
   },
   {
    "duration": 19,
    "start_time": "2022-10-20T10:12:54.887Z"
   },
   {
    "duration": 258,
    "start_time": "2022-10-20T10:12:54.923Z"
   },
   {
    "duration": 577,
    "start_time": "2022-10-20T10:12:55.183Z"
   },
   {
    "duration": 1125,
    "start_time": "2022-10-20T10:12:55.765Z"
   },
   {
    "duration": 62,
    "start_time": "2022-10-20T10:12:56.892Z"
   },
   {
    "duration": 202,
    "start_time": "2022-10-20T10:12:56.967Z"
   },
   {
    "duration": 6,
    "start_time": "2022-10-20T10:12:57.171Z"
   },
   {
    "duration": 677,
    "start_time": "2022-10-20T10:12:57.179Z"
   },
   {
    "duration": 92,
    "start_time": "2022-10-20T10:12:57.859Z"
   },
   {
    "duration": 719,
    "start_time": "2022-10-20T10:12:57.953Z"
   },
   {
    "duration": 73,
    "start_time": "2022-10-20T10:12:58.675Z"
   },
   {
    "duration": 316,
    "start_time": "2022-10-20T10:12:58.750Z"
   },
   {
    "duration": 16,
    "start_time": "2022-10-20T10:12:59.070Z"
   },
   {
    "duration": 18,
    "start_time": "2022-10-20T10:12:59.124Z"
   },
   {
    "duration": 1134,
    "start_time": "2022-10-20T10:12:59.144Z"
   },
   {
    "duration": 610,
    "start_time": "2022-10-20T10:13:00.286Z"
   },
   {
    "duration": 151,
    "start_time": "2022-10-20T10:13:00.899Z"
   },
   {
    "duration": 385,
    "start_time": "2022-10-20T10:13:01.059Z"
   },
   {
    "duration": 428,
    "start_time": "2022-10-20T10:13:01.448Z"
   },
   {
    "duration": 518,
    "start_time": "2022-10-20T10:13:01.878Z"
   },
   {
    "duration": 485,
    "start_time": "2022-10-20T10:13:02.398Z"
   },
   {
    "duration": 431,
    "start_time": "2022-10-20T10:13:02.891Z"
   },
   {
    "duration": 537,
    "start_time": "2022-10-20T10:13:03.329Z"
   },
   {
    "duration": 365,
    "start_time": "2022-10-20T10:13:03.870Z"
   },
   {
    "duration": 71,
    "start_time": "2022-10-20T10:13:04.237Z"
   },
   {
    "duration": 87,
    "start_time": "2022-10-20T10:13:04.310Z"
   },
   {
    "duration": 175,
    "start_time": "2022-10-20T10:13:04.399Z"
   },
   {
    "duration": 15,
    "start_time": "2022-10-20T10:13:04.576Z"
   },
   {
    "duration": 4,
    "start_time": "2022-10-20T10:13:04.593Z"
   },
   {
    "duration": 1485,
    "start_time": "2022-10-20T10:13:04.600Z"
   },
   {
    "duration": 0,
    "start_time": "2022-10-20T10:13:06.087Z"
   },
   {
    "duration": 0,
    "start_time": "2022-10-20T10:13:06.088Z"
   },
   {
    "duration": 0,
    "start_time": "2022-10-20T10:13:06.089Z"
   },
   {
    "duration": 0,
    "start_time": "2022-10-20T10:13:06.091Z"
   },
   {
    "duration": 0,
    "start_time": "2022-10-20T10:13:06.092Z"
   },
   {
    "duration": 0,
    "start_time": "2022-10-20T10:13:06.094Z"
   },
   {
    "duration": 0,
    "start_time": "2022-10-20T10:13:06.096Z"
   },
   {
    "duration": 0,
    "start_time": "2022-10-20T10:13:06.097Z"
   },
   {
    "duration": 0,
    "start_time": "2022-10-20T10:13:06.098Z"
   },
   {
    "duration": 0,
    "start_time": "2022-10-20T10:13:06.100Z"
   },
   {
    "duration": 0,
    "start_time": "2022-10-20T10:13:06.128Z"
   },
   {
    "duration": 0,
    "start_time": "2022-10-20T10:13:06.129Z"
   },
   {
    "duration": 0,
    "start_time": "2022-10-20T10:13:06.130Z"
   },
   {
    "duration": 0,
    "start_time": "2022-10-20T10:13:06.130Z"
   },
   {
    "duration": 0,
    "start_time": "2022-10-20T10:13:06.131Z"
   },
   {
    "duration": 2558,
    "start_time": "2022-10-20T10:16:39.508Z"
   },
   {
    "duration": 1799,
    "start_time": "2022-10-20T10:16:42.075Z"
   },
   {
    "duration": 3,
    "start_time": "2022-10-20T10:16:43.876Z"
   },
   {
    "duration": 893,
    "start_time": "2022-10-20T10:16:43.882Z"
   },
   {
    "duration": 23,
    "start_time": "2022-10-20T10:16:44.777Z"
   },
   {
    "duration": 262,
    "start_time": "2022-10-20T10:16:44.802Z"
   },
   {
    "duration": 549,
    "start_time": "2022-10-20T10:16:45.066Z"
   },
   {
    "duration": 1159,
    "start_time": "2022-10-20T10:16:45.617Z"
   },
   {
    "duration": 30,
    "start_time": "2022-10-20T10:16:46.778Z"
   },
   {
    "duration": 191,
    "start_time": "2022-10-20T10:16:46.810Z"
   },
   {
    "duration": 5,
    "start_time": "2022-10-20T10:16:47.003Z"
   },
   {
    "duration": 674,
    "start_time": "2022-10-20T10:16:47.010Z"
   },
   {
    "duration": 57,
    "start_time": "2022-10-20T10:16:47.689Z"
   },
   {
    "duration": 338,
    "start_time": "2022-10-20T10:16:47.751Z"
   },
   {
    "duration": 17,
    "start_time": "2022-10-20T10:16:48.091Z"
   },
   {
    "duration": 167,
    "start_time": "2022-10-20T10:16:48.110Z"
   },
   {
    "duration": 8,
    "start_time": "2022-10-20T10:16:48.278Z"
   },
   {
    "duration": 27,
    "start_time": "2022-10-20T10:16:48.288Z"
   },
   {
    "duration": 532,
    "start_time": "2022-10-20T10:16:48.316Z"
   },
   {
    "duration": 488,
    "start_time": "2022-10-20T10:16:48.849Z"
   },
   {
    "duration": 178,
    "start_time": "2022-10-20T10:16:49.339Z"
   },
   {
    "duration": 395,
    "start_time": "2022-10-20T10:16:49.520Z"
   },
   {
    "duration": 436,
    "start_time": "2022-10-20T10:16:49.917Z"
   },
   {
    "duration": 367,
    "start_time": "2022-10-20T10:16:50.356Z"
   },
   {
    "duration": 367,
    "start_time": "2022-10-20T10:16:50.728Z"
   },
   {
    "duration": 397,
    "start_time": "2022-10-20T10:16:51.096Z"
   },
   {
    "duration": 500,
    "start_time": "2022-10-20T10:16:51.494Z"
   },
   {
    "duration": 387,
    "start_time": "2022-10-20T10:16:51.998Z"
   },
   {
    "duration": 84,
    "start_time": "2022-10-20T10:16:52.387Z"
   },
   {
    "duration": 77,
    "start_time": "2022-10-20T10:16:52.479Z"
   },
   {
    "duration": 134,
    "start_time": "2022-10-20T10:16:52.557Z"
   },
   {
    "duration": 11,
    "start_time": "2022-10-20T10:16:52.692Z"
   },
   {
    "duration": 3,
    "start_time": "2022-10-20T10:16:52.705Z"
   },
   {
    "duration": 3748,
    "start_time": "2022-10-20T10:16:52.710Z"
   },
   {
    "duration": 3,
    "start_time": "2022-10-20T10:16:56.460Z"
   },
   {
    "duration": 143,
    "start_time": "2022-10-20T10:16:56.470Z"
   },
   {
    "duration": 0,
    "start_time": "2022-10-20T10:16:56.615Z"
   },
   {
    "duration": 0,
    "start_time": "2022-10-20T10:16:56.617Z"
   },
   {
    "duration": 0,
    "start_time": "2022-10-20T10:16:56.629Z"
   },
   {
    "duration": 0,
    "start_time": "2022-10-20T10:16:56.630Z"
   },
   {
    "duration": 0,
    "start_time": "2022-10-20T10:16:56.631Z"
   },
   {
    "duration": 0,
    "start_time": "2022-10-20T10:16:56.632Z"
   },
   {
    "duration": 0,
    "start_time": "2022-10-20T10:16:56.633Z"
   },
   {
    "duration": 0,
    "start_time": "2022-10-20T10:16:56.633Z"
   },
   {
    "duration": 0,
    "start_time": "2022-10-20T10:16:56.634Z"
   },
   {
    "duration": 0,
    "start_time": "2022-10-20T10:16:56.635Z"
   },
   {
    "duration": 0,
    "start_time": "2022-10-20T10:16:56.636Z"
   },
   {
    "duration": 0,
    "start_time": "2022-10-20T10:16:56.637Z"
   },
   {
    "duration": 0,
    "start_time": "2022-10-20T10:16:56.638Z"
   },
   {
    "duration": 19,
    "start_time": "2022-10-20T10:18:59.956Z"
   },
   {
    "duration": 25197,
    "start_time": "2022-10-20T10:19:18.751Z"
   },
   {
    "duration": 16,
    "start_time": "2022-10-20T10:46:54.705Z"
   },
   {
    "duration": 1772,
    "start_time": "2022-10-20T10:49:13.135Z"
   },
   {
    "duration": 2364,
    "start_time": "2022-10-20T10:49:14.909Z"
   },
   {
    "duration": 4,
    "start_time": "2022-10-20T10:49:17.274Z"
   },
   {
    "duration": 874,
    "start_time": "2022-10-20T10:49:17.280Z"
   },
   {
    "duration": 17,
    "start_time": "2022-10-20T10:49:18.156Z"
   },
   {
    "duration": 223,
    "start_time": "2022-10-20T10:49:18.175Z"
   },
   {
    "duration": 535,
    "start_time": "2022-10-20T10:49:18.399Z"
   },
   {
    "duration": 1111,
    "start_time": "2022-10-20T10:49:18.936Z"
   },
   {
    "duration": 34,
    "start_time": "2022-10-20T10:49:20.049Z"
   },
   {
    "duration": 180,
    "start_time": "2022-10-20T10:49:20.085Z"
   },
   {
    "duration": 7,
    "start_time": "2022-10-20T10:49:20.267Z"
   },
   {
    "duration": 596,
    "start_time": "2022-10-20T10:49:20.277Z"
   },
   {
    "duration": 37,
    "start_time": "2022-10-20T10:49:20.876Z"
   },
   {
    "duration": 362,
    "start_time": "2022-10-20T10:49:20.916Z"
   },
   {
    "duration": 16,
    "start_time": "2022-10-20T10:49:21.280Z"
   },
   {
    "duration": 121,
    "start_time": "2022-10-20T10:49:21.298Z"
   },
   {
    "duration": 26,
    "start_time": "2022-10-20T10:49:21.428Z"
   },
   {
    "duration": 18,
    "start_time": "2022-10-20T10:49:21.460Z"
   },
   {
    "duration": 553,
    "start_time": "2022-10-20T10:49:21.479Z"
   },
   {
    "duration": 418,
    "start_time": "2022-10-20T10:49:22.037Z"
   },
   {
    "duration": 126,
    "start_time": "2022-10-20T10:49:22.459Z"
   },
   {
    "duration": 373,
    "start_time": "2022-10-20T10:49:22.586Z"
   },
   {
    "duration": 357,
    "start_time": "2022-10-20T10:49:22.962Z"
   },
   {
    "duration": 361,
    "start_time": "2022-10-20T10:49:23.324Z"
   },
   {
    "duration": 326,
    "start_time": "2022-10-20T10:49:23.687Z"
   },
   {
    "duration": 344,
    "start_time": "2022-10-20T10:49:24.015Z"
   },
   {
    "duration": 477,
    "start_time": "2022-10-20T10:49:24.361Z"
   },
   {
    "duration": 327,
    "start_time": "2022-10-20T10:49:24.843Z"
   },
   {
    "duration": 82,
    "start_time": "2022-10-20T10:49:25.172Z"
   },
   {
    "duration": 47,
    "start_time": "2022-10-20T10:49:25.257Z"
   },
   {
    "duration": 152,
    "start_time": "2022-10-20T10:49:25.306Z"
   },
   {
    "duration": 15,
    "start_time": "2022-10-20T10:49:25.459Z"
   },
   {
    "duration": 19,
    "start_time": "2022-10-20T10:49:25.476Z"
   },
   {
    "duration": 4308,
    "start_time": "2022-10-20T10:49:25.497Z"
   },
   {
    "duration": 3,
    "start_time": "2022-10-20T10:49:29.807Z"
   },
   {
    "duration": 18625,
    "start_time": "2022-10-20T10:49:29.811Z"
   },
   {
    "duration": 0,
    "start_time": "2022-10-20T10:49:48.439Z"
   },
   {
    "duration": 0,
    "start_time": "2022-10-20T10:49:48.440Z"
   },
   {
    "duration": 0,
    "start_time": "2022-10-20T10:49:48.441Z"
   },
   {
    "duration": 0,
    "start_time": "2022-10-20T10:49:48.442Z"
   },
   {
    "duration": 0,
    "start_time": "2022-10-20T10:49:48.443Z"
   },
   {
    "duration": 0,
    "start_time": "2022-10-20T10:49:48.444Z"
   },
   {
    "duration": 0,
    "start_time": "2022-10-20T10:49:48.446Z"
   },
   {
    "duration": 0,
    "start_time": "2022-10-20T10:49:48.447Z"
   },
   {
    "duration": 0,
    "start_time": "2022-10-20T10:49:48.448Z"
   },
   {
    "duration": 0,
    "start_time": "2022-10-20T10:49:48.450Z"
   },
   {
    "duration": 0,
    "start_time": "2022-10-20T10:49:48.451Z"
   },
   {
    "duration": 0,
    "start_time": "2022-10-20T10:49:48.458Z"
   },
   {
    "duration": 0,
    "start_time": "2022-10-20T10:49:48.460Z"
   },
   {
    "duration": 1683,
    "start_time": "2022-10-20T10:53:26.412Z"
   },
   {
    "duration": 2278,
    "start_time": "2022-10-20T10:53:28.097Z"
   },
   {
    "duration": 4,
    "start_time": "2022-10-20T10:53:30.377Z"
   },
   {
    "duration": 913,
    "start_time": "2022-10-20T10:53:30.425Z"
   },
   {
    "duration": 20,
    "start_time": "2022-10-20T10:53:31.340Z"
   },
   {
    "duration": 215,
    "start_time": "2022-10-20T10:53:31.361Z"
   },
   {
    "duration": 546,
    "start_time": "2022-10-20T10:53:31.578Z"
   },
   {
    "duration": 1045,
    "start_time": "2022-10-20T10:53:32.128Z"
   },
   {
    "duration": 29,
    "start_time": "2022-10-20T10:53:33.174Z"
   },
   {
    "duration": 167,
    "start_time": "2022-10-20T10:53:33.205Z"
   },
   {
    "duration": 5,
    "start_time": "2022-10-20T10:53:33.373Z"
   },
   {
    "duration": 505,
    "start_time": "2022-10-20T10:53:33.379Z"
   },
   {
    "duration": 41,
    "start_time": "2022-10-20T10:53:33.886Z"
   },
   {
    "duration": 327,
    "start_time": "2022-10-20T10:53:33.929Z"
   },
   {
    "duration": 16,
    "start_time": "2022-10-20T10:53:34.258Z"
   },
   {
    "duration": 108,
    "start_time": "2022-10-20T10:53:34.275Z"
   },
   {
    "duration": 3,
    "start_time": "2022-10-20T10:53:34.385Z"
   },
   {
    "duration": 15,
    "start_time": "2022-10-20T10:53:34.390Z"
   },
   {
    "duration": 448,
    "start_time": "2022-10-20T10:53:34.423Z"
   },
   {
    "duration": 381,
    "start_time": "2022-10-20T10:53:34.873Z"
   },
   {
    "duration": 121,
    "start_time": "2022-10-20T10:53:35.256Z"
   },
   {
    "duration": 332,
    "start_time": "2022-10-20T10:53:35.379Z"
   },
   {
    "duration": 349,
    "start_time": "2022-10-20T10:53:35.713Z"
   },
   {
    "duration": 326,
    "start_time": "2022-10-20T10:53:36.063Z"
   },
   {
    "duration": 308,
    "start_time": "2022-10-20T10:53:36.391Z"
   },
   {
    "duration": 330,
    "start_time": "2022-10-20T10:53:36.701Z"
   },
   {
    "duration": 434,
    "start_time": "2022-10-20T10:53:37.035Z"
   },
   {
    "duration": 322,
    "start_time": "2022-10-20T10:53:37.472Z"
   },
   {
    "duration": 73,
    "start_time": "2022-10-20T10:53:37.796Z"
   },
   {
    "duration": 81,
    "start_time": "2022-10-20T10:53:37.871Z"
   },
   {
    "duration": 145,
    "start_time": "2022-10-20T10:53:37.953Z"
   },
   {
    "duration": 12,
    "start_time": "2022-10-20T10:53:38.100Z"
   },
   {
    "duration": 2,
    "start_time": "2022-10-20T10:53:38.114Z"
   },
   {
    "duration": 1283,
    "start_time": "2022-10-20T10:53:38.125Z"
   },
   {
    "duration": 0,
    "start_time": "2022-10-20T10:53:39.409Z"
   },
   {
    "duration": 0,
    "start_time": "2022-10-20T10:53:39.411Z"
   },
   {
    "duration": 0,
    "start_time": "2022-10-20T10:53:39.412Z"
   },
   {
    "duration": 0,
    "start_time": "2022-10-20T10:53:39.413Z"
   },
   {
    "duration": 0,
    "start_time": "2022-10-20T10:53:39.426Z"
   },
   {
    "duration": 0,
    "start_time": "2022-10-20T10:53:39.427Z"
   },
   {
    "duration": 0,
    "start_time": "2022-10-20T10:53:39.428Z"
   },
   {
    "duration": 0,
    "start_time": "2022-10-20T10:53:39.429Z"
   },
   {
    "duration": 0,
    "start_time": "2022-10-20T10:53:39.430Z"
   },
   {
    "duration": 0,
    "start_time": "2022-10-20T10:53:39.431Z"
   },
   {
    "duration": 0,
    "start_time": "2022-10-20T10:53:39.432Z"
   },
   {
    "duration": 0,
    "start_time": "2022-10-20T10:53:39.433Z"
   },
   {
    "duration": 0,
    "start_time": "2022-10-20T10:53:39.436Z"
   },
   {
    "duration": 0,
    "start_time": "2022-10-20T10:53:39.437Z"
   },
   {
    "duration": 0,
    "start_time": "2022-10-20T10:53:39.437Z"
   },
   {
    "duration": 3302,
    "start_time": "2022-10-20T10:55:05.352Z"
   },
   {
    "duration": 1673,
    "start_time": "2022-10-20T10:55:11.893Z"
   },
   {
    "duration": 2286,
    "start_time": "2022-10-20T10:55:13.568Z"
   },
   {
    "duration": 3,
    "start_time": "2022-10-20T10:55:15.855Z"
   },
   {
    "duration": 795,
    "start_time": "2022-10-20T10:55:15.860Z"
   },
   {
    "duration": 16,
    "start_time": "2022-10-20T10:55:16.656Z"
   },
   {
    "duration": 204,
    "start_time": "2022-10-20T10:55:16.673Z"
   },
   {
    "duration": 506,
    "start_time": "2022-10-20T10:55:16.879Z"
   },
   {
    "duration": 1017,
    "start_time": "2022-10-20T10:55:17.386Z"
   },
   {
    "duration": 53,
    "start_time": "2022-10-20T10:55:18.405Z"
   },
   {
    "duration": 137,
    "start_time": "2022-10-20T10:55:18.461Z"
   },
   {
    "duration": 5,
    "start_time": "2022-10-20T10:55:18.599Z"
   },
   {
    "duration": 559,
    "start_time": "2022-10-20T10:55:18.605Z"
   },
   {
    "duration": 38,
    "start_time": "2022-10-20T10:55:19.166Z"
   },
   {
    "duration": 355,
    "start_time": "2022-10-20T10:55:19.206Z"
   },
   {
    "duration": 17,
    "start_time": "2022-10-20T10:55:19.563Z"
   },
   {
    "duration": 125,
    "start_time": "2022-10-20T10:55:19.581Z"
   },
   {
    "duration": 3,
    "start_time": "2022-10-20T10:55:19.707Z"
   },
   {
    "duration": 39,
    "start_time": "2022-10-20T10:55:19.712Z"
   },
   {
    "duration": 440,
    "start_time": "2022-10-20T10:55:19.752Z"
   },
   {
    "duration": 378,
    "start_time": "2022-10-20T10:55:20.194Z"
   },
   {
    "duration": 117,
    "start_time": "2022-10-20T10:55:20.574Z"
   },
   {
    "duration": 321,
    "start_time": "2022-10-20T10:55:20.693Z"
   },
   {
    "duration": 342,
    "start_time": "2022-10-20T10:55:21.015Z"
   },
   {
    "duration": 345,
    "start_time": "2022-10-20T10:55:21.359Z"
   },
   {
    "duration": 380,
    "start_time": "2022-10-20T10:55:21.706Z"
   },
   {
    "duration": 321,
    "start_time": "2022-10-20T10:55:22.088Z"
   },
   {
    "duration": 439,
    "start_time": "2022-10-20T10:55:22.410Z"
   },
   {
    "duration": 321,
    "start_time": "2022-10-20T10:55:22.856Z"
   },
   {
    "duration": 74,
    "start_time": "2022-10-20T10:55:23.179Z"
   },
   {
    "duration": 48,
    "start_time": "2022-10-20T10:55:23.256Z"
   },
   {
    "duration": 139,
    "start_time": "2022-10-20T10:55:23.306Z"
   },
   {
    "duration": 17,
    "start_time": "2022-10-20T10:55:23.447Z"
   },
   {
    "duration": 3,
    "start_time": "2022-10-20T10:55:23.466Z"
   },
   {
    "duration": 3218,
    "start_time": "2022-10-20T10:55:23.471Z"
   },
   {
    "duration": 3,
    "start_time": "2022-10-20T10:55:26.691Z"
   },
   {
    "duration": 130,
    "start_time": "2022-10-20T10:55:26.695Z"
   },
   {
    "duration": 0,
    "start_time": "2022-10-20T10:55:26.827Z"
   },
   {
    "duration": 0,
    "start_time": "2022-10-20T10:55:26.828Z"
   },
   {
    "duration": 0,
    "start_time": "2022-10-20T10:55:26.829Z"
   },
   {
    "duration": 0,
    "start_time": "2022-10-20T10:55:26.830Z"
   },
   {
    "duration": 0,
    "start_time": "2022-10-20T10:55:26.831Z"
   },
   {
    "duration": 0,
    "start_time": "2022-10-20T10:55:26.831Z"
   },
   {
    "duration": 0,
    "start_time": "2022-10-20T10:55:26.833Z"
   },
   {
    "duration": 0,
    "start_time": "2022-10-20T10:55:26.834Z"
   },
   {
    "duration": 0,
    "start_time": "2022-10-20T10:55:26.835Z"
   },
   {
    "duration": 0,
    "start_time": "2022-10-20T10:55:26.836Z"
   },
   {
    "duration": 0,
    "start_time": "2022-10-20T10:55:26.837Z"
   },
   {
    "duration": 0,
    "start_time": "2022-10-20T10:55:26.839Z"
   },
   {
    "duration": 0,
    "start_time": "2022-10-20T10:55:26.840Z"
   },
   {
    "duration": 12,
    "start_time": "2022-10-20T10:56:18.493Z"
   },
   {
    "duration": 1020,
    "start_time": "2022-10-20T10:56:29.403Z"
   },
   {
    "duration": 1582,
    "start_time": "2022-10-20T10:57:47.852Z"
   },
   {
    "duration": 1018,
    "start_time": "2022-10-20T10:57:49.440Z"
   },
   {
    "duration": 3,
    "start_time": "2022-10-20T10:57:50.460Z"
   },
   {
    "duration": 1890,
    "start_time": "2022-10-20T10:57:50.465Z"
   },
   {
    "duration": 15,
    "start_time": "2022-10-20T10:57:52.357Z"
   },
   {
    "duration": 195,
    "start_time": "2022-10-20T10:57:52.373Z"
   },
   {
    "duration": 520,
    "start_time": "2022-10-20T10:57:52.570Z"
   },
   {
    "duration": 1025,
    "start_time": "2022-10-20T10:57:53.091Z"
   },
   {
    "duration": 35,
    "start_time": "2022-10-20T10:57:54.118Z"
   },
   {
    "duration": 153,
    "start_time": "2022-10-20T10:57:54.155Z"
   },
   {
    "duration": 4,
    "start_time": "2022-10-20T10:57:54.310Z"
   },
   {
    "duration": 517,
    "start_time": "2022-10-20T10:57:54.317Z"
   },
   {
    "duration": 39,
    "start_time": "2022-10-20T10:57:54.835Z"
   },
   {
    "duration": 357,
    "start_time": "2022-10-20T10:57:54.876Z"
   },
   {
    "duration": 19,
    "start_time": "2022-10-20T10:57:55.234Z"
   },
   {
    "duration": 94,
    "start_time": "2022-10-20T10:57:55.255Z"
   },
   {
    "duration": 2,
    "start_time": "2022-10-20T10:57:55.356Z"
   },
   {
    "duration": 11,
    "start_time": "2022-10-20T10:57:55.359Z"
   },
   {
    "duration": 433,
    "start_time": "2022-10-20T10:57:55.371Z"
   },
   {
    "duration": 365,
    "start_time": "2022-10-20T10:57:55.806Z"
   },
   {
    "duration": 121,
    "start_time": "2022-10-20T10:57:56.173Z"
   },
   {
    "duration": 320,
    "start_time": "2022-10-20T10:57:56.296Z"
   },
   {
    "duration": 348,
    "start_time": "2022-10-20T10:57:56.617Z"
   },
   {
    "duration": 325,
    "start_time": "2022-10-20T10:57:56.967Z"
   },
   {
    "duration": 309,
    "start_time": "2022-10-20T10:57:57.293Z"
   },
   {
    "duration": 302,
    "start_time": "2022-10-20T10:57:57.604Z"
   },
   {
    "duration": 401,
    "start_time": "2022-10-20T10:57:57.908Z"
   },
   {
    "duration": 307,
    "start_time": "2022-10-20T10:57:58.312Z"
   },
   {
    "duration": 64,
    "start_time": "2022-10-20T10:57:58.620Z"
   },
   {
    "duration": 74,
    "start_time": "2022-10-20T10:57:58.686Z"
   },
   {
    "duration": 122,
    "start_time": "2022-10-20T10:57:58.761Z"
   },
   {
    "duration": 11,
    "start_time": "2022-10-20T10:57:58.884Z"
   },
   {
    "duration": 3,
    "start_time": "2022-10-20T10:57:58.896Z"
   },
   {
    "duration": 3638,
    "start_time": "2022-10-20T10:57:58.900Z"
   },
   {
    "duration": 4,
    "start_time": "2022-10-20T10:58:02.543Z"
   },
   {
    "duration": 996,
    "start_time": "2022-10-20T10:58:02.548Z"
   },
   {
    "duration": 66209,
    "start_time": "2022-10-20T10:58:03.545Z"
   },
   {
    "duration": 4,
    "start_time": "2022-10-20T10:59:09.827Z"
   },
   {
    "duration": 178,
    "start_time": "2022-10-20T10:59:09.833Z"
   },
   {
    "duration": 0,
    "start_time": "2022-10-20T10:59:10.013Z"
   },
   {
    "duration": 0,
    "start_time": "2022-10-20T10:59:10.014Z"
   },
   {
    "duration": 0,
    "start_time": "2022-10-20T10:59:10.015Z"
   },
   {
    "duration": 0,
    "start_time": "2022-10-20T10:59:10.017Z"
   },
   {
    "duration": 0,
    "start_time": "2022-10-20T10:59:10.017Z"
   },
   {
    "duration": 0,
    "start_time": "2022-10-20T10:59:10.025Z"
   },
   {
    "duration": 0,
    "start_time": "2022-10-20T10:59:10.026Z"
   },
   {
    "duration": 0,
    "start_time": "2022-10-20T10:59:10.026Z"
   },
   {
    "duration": 0,
    "start_time": "2022-10-20T10:59:10.028Z"
   },
   {
    "duration": 0,
    "start_time": "2022-10-20T10:59:10.029Z"
   },
   {
    "duration": 1668,
    "start_time": "2022-10-20T11:02:35.785Z"
   },
   {
    "duration": 1015,
    "start_time": "2022-10-20T11:02:37.456Z"
   },
   {
    "duration": 4,
    "start_time": "2022-10-20T11:02:38.473Z"
   },
   {
    "duration": 860,
    "start_time": "2022-10-20T11:02:38.479Z"
   },
   {
    "duration": 26,
    "start_time": "2022-10-20T11:02:39.341Z"
   },
   {
    "duration": 217,
    "start_time": "2022-10-20T11:02:39.369Z"
   },
   {
    "duration": 599,
    "start_time": "2022-10-20T11:02:39.588Z"
   },
   {
    "duration": 1191,
    "start_time": "2022-10-20T11:02:40.189Z"
   },
   {
    "duration": 31,
    "start_time": "2022-10-20T11:02:41.382Z"
   },
   {
    "duration": 179,
    "start_time": "2022-10-20T11:02:41.424Z"
   },
   {
    "duration": 5,
    "start_time": "2022-10-20T11:02:41.605Z"
   },
   {
    "duration": 659,
    "start_time": "2022-10-20T11:02:41.612Z"
   },
   {
    "duration": 39,
    "start_time": "2022-10-20T11:02:42.275Z"
   },
   {
    "duration": 337,
    "start_time": "2022-10-20T11:02:42.316Z"
   },
   {
    "duration": 18,
    "start_time": "2022-10-20T11:02:42.658Z"
   },
   {
    "duration": 112,
    "start_time": "2022-10-20T11:02:42.678Z"
   },
   {
    "duration": 3,
    "start_time": "2022-10-20T11:02:42.792Z"
   },
   {
    "duration": 10,
    "start_time": "2022-10-20T11:02:42.797Z"
   },
   {
    "duration": 500,
    "start_time": "2022-10-20T11:02:42.809Z"
   },
   {
    "duration": 397,
    "start_time": "2022-10-20T11:02:43.311Z"
   },
   {
    "duration": 125,
    "start_time": "2022-10-20T11:02:43.710Z"
   },
   {
    "duration": 342,
    "start_time": "2022-10-20T11:02:43.841Z"
   },
   {
    "duration": 391,
    "start_time": "2022-10-20T11:02:44.185Z"
   },
   {
    "duration": 369,
    "start_time": "2022-10-20T11:02:44.577Z"
   },
   {
    "duration": 329,
    "start_time": "2022-10-20T11:02:44.950Z"
   },
   {
    "duration": 327,
    "start_time": "2022-10-20T11:02:45.281Z"
   },
   {
    "duration": 465,
    "start_time": "2022-10-20T11:02:45.610Z"
   },
   {
    "duration": 338,
    "start_time": "2022-10-20T11:02:46.079Z"
   },
   {
    "duration": 77,
    "start_time": "2022-10-20T11:02:46.424Z"
   },
   {
    "duration": 72,
    "start_time": "2022-10-20T11:02:46.502Z"
   },
   {
    "duration": 132,
    "start_time": "2022-10-20T11:02:46.575Z"
   },
   {
    "duration": 29,
    "start_time": "2022-10-20T11:02:46.709Z"
   },
   {
    "duration": 4,
    "start_time": "2022-10-20T11:02:46.740Z"
   },
   {
    "duration": 4167,
    "start_time": "2022-10-20T11:02:46.746Z"
   },
   {
    "duration": 2,
    "start_time": "2022-10-20T11:02:50.915Z"
   },
   {
    "duration": 1123,
    "start_time": "2022-10-20T11:02:50.923Z"
   },
   {
    "duration": 52095,
    "start_time": "2022-10-20T11:02:52.049Z"
   },
   {
    "duration": 17,
    "start_time": "2022-10-20T11:03:44.226Z"
   },
   {
    "duration": 63624,
    "start_time": "2022-10-20T11:03:44.254Z"
   },
   {
    "duration": 61,
    "start_time": "2022-10-20T11:04:47.879Z"
   },
   {
    "duration": 418654,
    "start_time": "2022-10-20T11:04:47.948Z"
   },
   {
    "duration": 281,
    "start_time": "2022-10-20T11:11:46.604Z"
   },
   {
    "duration": 189,
    "start_time": "2022-10-20T11:11:46.887Z"
   },
   {
    "duration": 0,
    "start_time": "2022-10-20T11:11:47.078Z"
   },
   {
    "duration": 0,
    "start_time": "2022-10-20T11:11:47.079Z"
   },
   {
    "duration": 0,
    "start_time": "2022-10-20T11:11:47.079Z"
   },
   {
    "duration": 0,
    "start_time": "2022-10-20T11:11:47.081Z"
   },
   {
    "duration": 0,
    "start_time": "2022-10-20T11:11:47.082Z"
   },
   {
    "duration": 0,
    "start_time": "2022-10-20T11:11:47.083Z"
   },
   {
    "duration": 150140,
    "start_time": "2022-10-20T11:16:14.709Z"
   },
   {
    "duration": 189,
    "start_time": "2022-10-20T11:20:31.284Z"
   },
   {
    "duration": 142,
    "start_time": "2022-10-20T11:20:41.480Z"
   },
   {
    "duration": 87,
    "start_time": "2022-10-20T11:21:06.378Z"
   },
   {
    "duration": 71,
    "start_time": "2022-10-20T11:21:32.448Z"
   },
   {
    "duration": 2769,
    "start_time": "2022-10-20T11:22:51.920Z"
   },
   {
    "duration": 0,
    "start_time": "2022-10-20T11:22:54.691Z"
   },
   {
    "duration": 0,
    "start_time": "2022-10-20T11:22:54.693Z"
   },
   {
    "duration": 0,
    "start_time": "2022-10-20T11:22:54.694Z"
   },
   {
    "duration": 0,
    "start_time": "2022-10-20T11:22:54.695Z"
   },
   {
    "duration": 0,
    "start_time": "2022-10-20T11:22:54.696Z"
   },
   {
    "duration": 1976,
    "start_time": "2022-10-20T11:23:24.920Z"
   },
   {
    "duration": 4152,
    "start_time": "2022-10-20T11:23:26.898Z"
   },
   {
    "duration": 3,
    "start_time": "2022-10-20T11:23:31.056Z"
   },
   {
    "duration": 759,
    "start_time": "2022-10-20T11:23:31.061Z"
   },
   {
    "duration": 21,
    "start_time": "2022-10-20T11:23:31.823Z"
   },
   {
    "duration": 243,
    "start_time": "2022-10-20T11:23:31.849Z"
   },
   {
    "duration": 474,
    "start_time": "2022-10-20T11:23:32.094Z"
   },
   {
    "duration": 1080,
    "start_time": "2022-10-20T11:23:32.569Z"
   },
   {
    "duration": 41,
    "start_time": "2022-10-20T11:23:33.653Z"
   },
   {
    "duration": 157,
    "start_time": "2022-10-20T11:23:33.695Z"
   },
   {
    "duration": 4,
    "start_time": "2022-10-20T11:23:33.854Z"
   },
   {
    "duration": 510,
    "start_time": "2022-10-20T11:23:33.861Z"
   },
   {
    "duration": 34,
    "start_time": "2022-10-20T11:23:34.372Z"
   },
   {
    "duration": 356,
    "start_time": "2022-10-20T11:23:34.408Z"
   },
   {
    "duration": 16,
    "start_time": "2022-10-20T11:23:34.766Z"
   },
   {
    "duration": 110,
    "start_time": "2022-10-20T11:23:34.783Z"
   },
   {
    "duration": 2,
    "start_time": "2022-10-20T11:23:34.895Z"
   },
   {
    "duration": 14,
    "start_time": "2022-10-20T11:23:34.899Z"
   },
   {
    "duration": 452,
    "start_time": "2022-10-20T11:23:34.936Z"
   },
   {
    "duration": 386,
    "start_time": "2022-10-20T11:23:35.391Z"
   },
   {
    "duration": 119,
    "start_time": "2022-10-20T11:23:35.778Z"
   },
   {
    "duration": 356,
    "start_time": "2022-10-20T11:23:35.898Z"
   },
   {
    "duration": 362,
    "start_time": "2022-10-20T11:23:36.261Z"
   },
   {
    "duration": 341,
    "start_time": "2022-10-20T11:23:36.631Z"
   },
   {
    "duration": 324,
    "start_time": "2022-10-20T11:23:36.974Z"
   },
   {
    "duration": 374,
    "start_time": "2022-10-20T11:23:37.300Z"
   },
   {
    "duration": 462,
    "start_time": "2022-10-20T11:23:37.677Z"
   },
   {
    "duration": 334,
    "start_time": "2022-10-20T11:23:38.147Z"
   },
   {
    "duration": 71,
    "start_time": "2022-10-20T11:23:38.483Z"
   },
   {
    "duration": 100,
    "start_time": "2022-10-20T11:23:38.555Z"
   },
   {
    "duration": 142,
    "start_time": "2022-10-20T11:23:38.658Z"
   },
   {
    "duration": 15,
    "start_time": "2022-10-20T11:23:38.802Z"
   },
   {
    "duration": 57,
    "start_time": "2022-10-20T11:23:38.818Z"
   },
   {
    "duration": 4509,
    "start_time": "2022-10-20T11:23:38.877Z"
   },
   {
    "duration": 3,
    "start_time": "2022-10-20T11:23:43.388Z"
   },
   {
    "duration": 944,
    "start_time": "2022-10-20T11:23:43.392Z"
   },
   {
    "duration": 71080,
    "start_time": "2022-10-20T11:23:44.344Z"
   },
   {
    "duration": 4,
    "start_time": "2022-10-20T11:24:55.426Z"
   },
   {
    "duration": 59793,
    "start_time": "2022-10-20T11:24:55.432Z"
   },
   {
    "duration": 47,
    "start_time": "2022-10-20T11:25:55.228Z"
   },
   {
    "duration": 421462,
    "start_time": "2022-10-20T11:25:55.276Z"
   },
   {
    "duration": 245,
    "start_time": "2022-10-20T11:32:56.740Z"
   },
   {
    "duration": 146797,
    "start_time": "2022-10-20T11:32:56.987Z"
   },
   {
    "duration": 12120,
    "start_time": "2022-10-20T11:35:23.785Z"
   },
   {
    "duration": 0,
    "start_time": "2022-10-20T11:35:35.907Z"
   },
   {
    "duration": 0,
    "start_time": "2022-10-20T11:35:35.908Z"
   },
   {
    "duration": 0,
    "start_time": "2022-10-20T11:35:35.910Z"
   },
   {
    "duration": 0,
    "start_time": "2022-10-20T11:35:35.912Z"
   },
   {
    "duration": 0,
    "start_time": "2022-10-20T11:35:35.913Z"
   },
   {
    "duration": 1718,
    "start_time": "2022-10-20T12:15:33.391Z"
   },
   {
    "duration": 967,
    "start_time": "2022-10-20T12:15:35.111Z"
   },
   {
    "duration": 4,
    "start_time": "2022-10-20T12:15:36.080Z"
   },
   {
    "duration": 891,
    "start_time": "2022-10-20T12:15:36.086Z"
   },
   {
    "duration": 21,
    "start_time": "2022-10-20T12:15:36.979Z"
   },
   {
    "duration": 211,
    "start_time": "2022-10-20T12:15:37.002Z"
   },
   {
    "duration": 556,
    "start_time": "2022-10-20T12:15:37.215Z"
   },
   {
    "duration": 1177,
    "start_time": "2022-10-20T12:15:37.773Z"
   },
   {
    "duration": 31,
    "start_time": "2022-10-20T12:15:38.952Z"
   },
   {
    "duration": 173,
    "start_time": "2022-10-20T12:15:38.986Z"
   },
   {
    "duration": 5,
    "start_time": "2022-10-20T12:15:39.161Z"
   },
   {
    "duration": 561,
    "start_time": "2022-10-20T12:15:39.168Z"
   },
   {
    "duration": 41,
    "start_time": "2022-10-20T12:15:39.733Z"
   },
   {
    "duration": 611,
    "start_time": "2022-10-20T12:15:39.776Z"
   },
   {
    "duration": 16,
    "start_time": "2022-10-20T12:15:40.389Z"
   },
   {
    "duration": 140,
    "start_time": "2022-10-20T12:15:40.407Z"
   },
   {
    "duration": 13,
    "start_time": "2022-10-20T12:15:40.550Z"
   },
   {
    "duration": 34,
    "start_time": "2022-10-20T12:15:40.565Z"
   },
   {
    "duration": 490,
    "start_time": "2022-10-20T12:15:40.601Z"
   },
   {
    "duration": 415,
    "start_time": "2022-10-20T12:15:41.094Z"
   },
   {
    "duration": 135,
    "start_time": "2022-10-20T12:15:41.511Z"
   },
   {
    "duration": 408,
    "start_time": "2022-10-20T12:15:41.649Z"
   },
   {
    "duration": 414,
    "start_time": "2022-10-20T12:15:42.059Z"
   },
   {
    "duration": 371,
    "start_time": "2022-10-20T12:15:42.475Z"
   },
   {
    "duration": 317,
    "start_time": "2022-10-20T12:15:42.848Z"
   },
   {
    "duration": 336,
    "start_time": "2022-10-20T12:15:43.167Z"
   },
   {
    "duration": 435,
    "start_time": "2022-10-20T12:15:43.505Z"
   },
   {
    "duration": 318,
    "start_time": "2022-10-20T12:15:43.944Z"
   },
   {
    "duration": 73,
    "start_time": "2022-10-20T12:15:44.264Z"
   },
   {
    "duration": 59,
    "start_time": "2022-10-20T12:15:44.342Z"
   },
   {
    "duration": 134,
    "start_time": "2022-10-20T12:15:44.402Z"
   },
   {
    "duration": 12,
    "start_time": "2022-10-20T12:15:44.538Z"
   },
   {
    "duration": 4,
    "start_time": "2022-10-20T12:15:44.552Z"
   },
   {
    "duration": 4557,
    "start_time": "2022-10-20T12:15:44.557Z"
   },
   {
    "duration": 3,
    "start_time": "2022-10-20T12:15:49.116Z"
   },
   {
    "duration": 1003,
    "start_time": "2022-10-20T12:15:49.126Z"
   },
   {
    "duration": 47593,
    "start_time": "2022-10-20T12:15:50.133Z"
   },
   {
    "duration": 6,
    "start_time": "2022-10-20T12:16:37.729Z"
   },
   {
    "duration": 62108,
    "start_time": "2022-10-20T12:16:37.737Z"
   },
   {
    "duration": 45,
    "start_time": "2022-10-20T12:17:39.847Z"
   },
   {
    "duration": 404375,
    "start_time": "2022-10-20T12:17:39.893Z"
   },
   {
    "duration": 223,
    "start_time": "2022-10-20T12:24:24.270Z"
   },
   {
    "duration": 144341,
    "start_time": "2022-10-20T12:24:24.495Z"
   },
   {
    "duration": 36396,
    "start_time": "2022-10-20T12:26:48.843Z"
   },
   {
    "duration": 130,
    "start_time": "2022-10-20T12:27:25.241Z"
   },
   {
    "duration": 0,
    "start_time": "2022-10-20T12:27:25.373Z"
   },
   {
    "duration": 0,
    "start_time": "2022-10-20T12:27:25.374Z"
   },
   {
    "duration": 0,
    "start_time": "2022-10-20T12:27:25.375Z"
   },
   {
    "duration": 0,
    "start_time": "2022-10-20T12:27:25.377Z"
   },
   {
    "duration": 1644,
    "start_time": "2022-10-20T15:39:55.590Z"
   },
   {
    "duration": 917,
    "start_time": "2022-10-20T15:39:57.236Z"
   },
   {
    "duration": 4,
    "start_time": "2022-10-20T15:39:58.155Z"
   },
   {
    "duration": 797,
    "start_time": "2022-10-20T15:39:58.162Z"
   },
   {
    "duration": 20,
    "start_time": "2022-10-20T15:39:58.961Z"
   },
   {
    "duration": 247,
    "start_time": "2022-10-20T15:39:58.983Z"
   },
   {
    "duration": 522,
    "start_time": "2022-10-20T15:39:59.237Z"
   },
   {
    "duration": 1086,
    "start_time": "2022-10-20T15:39:59.761Z"
   },
   {
    "duration": 38,
    "start_time": "2022-10-20T15:40:00.849Z"
   },
   {
    "duration": 168,
    "start_time": "2022-10-20T15:40:00.891Z"
   },
   {
    "duration": 4,
    "start_time": "2022-10-20T15:40:01.061Z"
   },
   {
    "duration": 516,
    "start_time": "2022-10-20T15:40:01.067Z"
   },
   {
    "duration": 41,
    "start_time": "2022-10-20T15:40:01.584Z"
   },
   {
    "duration": 363,
    "start_time": "2022-10-20T15:40:01.637Z"
   },
   {
    "duration": 30,
    "start_time": "2022-10-20T15:40:02.002Z"
   },
   {
    "duration": 178,
    "start_time": "2022-10-20T15:40:02.037Z"
   },
   {
    "duration": 7,
    "start_time": "2022-10-20T15:40:02.218Z"
   },
   {
    "duration": 22,
    "start_time": "2022-10-20T15:40:02.228Z"
   },
   {
    "duration": 474,
    "start_time": "2022-10-20T15:40:02.253Z"
   },
   {
    "duration": 407,
    "start_time": "2022-10-20T15:40:02.732Z"
   },
   {
    "duration": 106,
    "start_time": "2022-10-20T15:40:03.140Z"
   },
   {
    "duration": 338,
    "start_time": "2022-10-20T15:40:03.248Z"
   },
   {
    "duration": 346,
    "start_time": "2022-10-20T15:40:03.588Z"
   },
   {
    "duration": 374,
    "start_time": "2022-10-20T15:40:03.936Z"
   },
   {
    "duration": 329,
    "start_time": "2022-10-20T15:40:04.312Z"
   },
   {
    "duration": 326,
    "start_time": "2022-10-20T15:40:04.642Z"
   },
   {
    "duration": 418,
    "start_time": "2022-10-20T15:40:04.970Z"
   },
   {
    "duration": 350,
    "start_time": "2022-10-20T15:40:05.391Z"
   },
   {
    "duration": 53,
    "start_time": "2022-10-20T15:40:05.743Z"
   },
   {
    "duration": 64,
    "start_time": "2022-10-20T15:40:05.798Z"
   },
   {
    "duration": 127,
    "start_time": "2022-10-20T15:40:05.863Z"
   },
   {
    "duration": 12,
    "start_time": "2022-10-20T15:40:05.991Z"
   },
   {
    "duration": 3,
    "start_time": "2022-10-20T15:40:06.005Z"
   },
   {
    "duration": 3868,
    "start_time": "2022-10-20T15:40:06.024Z"
   },
   {
    "duration": 3,
    "start_time": "2022-10-20T15:40:09.893Z"
   },
   {
    "duration": 1031,
    "start_time": "2022-10-20T15:40:09.897Z"
   },
   {
    "duration": 38095,
    "start_time": "2022-10-20T15:40:10.935Z"
   },
   {
    "duration": 6,
    "start_time": "2022-10-20T15:40:49.034Z"
   },
   {
    "duration": 60075,
    "start_time": "2022-10-20T15:40:49.042Z"
   },
   {
    "duration": 47,
    "start_time": "2022-10-20T15:41:49.124Z"
   },
   {
    "duration": 384477,
    "start_time": "2022-10-20T15:41:49.173Z"
   },
   {
    "duration": 199,
    "start_time": "2022-10-20T15:48:13.652Z"
   },
   {
    "duration": 122921,
    "start_time": "2022-10-20T15:48:13.853Z"
   },
   {
    "duration": 33602,
    "start_time": "2022-10-20T15:50:16.776Z"
   },
   {
    "duration": 7295245,
    "start_time": "2022-10-20T15:50:50.384Z"
   },
   {
    "duration": 1711,
    "start_time": "2022-10-20T17:52:25.631Z"
   },
   {
    "duration": 171,
    "start_time": "2022-10-20T17:52:27.344Z"
   },
   {
    "duration": 0,
    "start_time": "2022-10-20T17:52:27.517Z"
   },
   {
    "duration": 0,
    "start_time": "2022-10-20T17:52:27.518Z"
   },
   {
    "duration": 11,
    "start_time": "2022-10-20T18:07:03.113Z"
   },
   {
    "duration": 13,
    "start_time": "2022-10-20T18:07:53.238Z"
   },
   {
    "duration": 23,
    "start_time": "2022-10-20T18:08:08.165Z"
   },
   {
    "duration": 11,
    "start_time": "2022-10-20T18:08:59.289Z"
   },
   {
    "duration": 13,
    "start_time": "2022-10-20T18:10:34.722Z"
   },
   {
    "duration": 16,
    "start_time": "2022-10-20T18:11:29.429Z"
   },
   {
    "duration": 78,
    "start_time": "2022-10-20T18:11:36.083Z"
   },
   {
    "duration": 32013,
    "start_time": "2022-10-20T18:11:47.604Z"
   }
  ],
  "kernelspec": {
   "display_name": "Python 3 (ipykernel)",
   "language": "python",
   "name": "python3"
  },
  "language_info": {
   "codemirror_mode": {
    "name": "ipython",
    "version": 3
   },
   "file_extension": ".py",
   "mimetype": "text/x-python",
   "name": "python",
   "nbconvert_exporter": "python",
   "pygments_lexer": "ipython3",
   "version": "3.10.9"
  },
  "toc": {
   "base_numbering": 1,
   "nav_menu": {},
   "number_sections": true,
   "sideBar": true,
   "skip_h1_title": true,
   "title_cell": "Table of Contents",
   "title_sidebar": "Contents",
   "toc_cell": false,
   "toc_position": {
    "height": "calc(100% - 180px)",
    "left": "10px",
    "top": "150px",
    "width": "165px"
   },
   "toc_section_display": true,
   "toc_window_display": true
  }
 },
 "nbformat": 4,
 "nbformat_minor": 2
}
