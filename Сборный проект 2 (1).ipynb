{
 "cells": [
  {
   "cell_type": "markdown",
   "metadata": {
    "toc": true
   },
   "source": [
    "<h1>Содержание<span class=\"tocSkip\"></span></h1>\n",
    "<div class=\"toc\"><ul class=\"toc-item\"><li><span><a href=\"#Подготовка-данных\" data-toc-modified-id=\"Подготовка-данных-1\"><span class=\"toc-item-num\">1&nbsp;&nbsp;</span>Подготовка данных</a></span></li><li><span><a href=\"#Анализ-данных\" data-toc-modified-id=\"Анализ-данных-2\"><span class=\"toc-item-num\">2&nbsp;&nbsp;</span>Анализ данных</a></span></li><li><span><a href=\"#Модель\" data-toc-modified-id=\"Модель-3\"><span class=\"toc-item-num\">3&nbsp;&nbsp;</span>Модель</a></span></li><li><span><a href=\"#Чек-лист-готовности-проекта\" data-toc-modified-id=\"Чек-лист-готовности-проекта-4\"><span class=\"toc-item-num\">4&nbsp;&nbsp;</span>Чек-лист готовности проекта</a></span></li></ul></div>"
   ]
  },
  {
   "cell_type": "markdown",
   "metadata": {},
   "source": [
    "# Восстановление золота из руды"
   ]
  },
  {
   "cell_type": "markdown",
   "metadata": {},
   "source": [
    "Подготовьте прототип модели машинного обучения для «Цифры». Компания разрабатывает решения для эффективной работы промышленных предприятий.\n",
    "\n",
    "Модель должна предсказать коэффициент восстановления золота из золотосодержащей руды. Используйте данные с параметрами добычи и очистки. \n",
    "\n",
    "Модель поможет оптимизировать производство, чтобы не запускать предприятие с убыточными характеристиками.\n",
    "\n",
    "Вам нужно:\n",
    "\n",
    "1. Подготовить данные;\n",
    "2. Провести исследовательский анализ данных;\n",
    "3. Построить и обучить модель.\n",
    "\n",
    "Чтобы выполнить проект, обращайтесь к библиотекам *pandas*, *matplotlib* и *sklearn.* Вам поможет их документация."
   ]
  },
  {
   "cell_type": "markdown",
   "metadata": {},
   "source": [
    "## Подготовка данных"
   ]
  },
  {
   "cell_type": "code",
   "execution_count": 1,
   "metadata": {},
   "outputs": [],
   "source": [
    "import pandas as pd\n",
    "import numpy as np\n",
    "import seaborn as sns\n",
    "import matplotlib.pyplot as plt \n",
    "\n",
    "\n",
    "from sklearn.model_selection import train_test_split, cross_val_score\n",
    "from sklearn.tree import DecisionTreeRegressor\n",
    "from sklearn.ensemble import RandomForestRegressor\n",
    "from sklearn.linear_model import LinearRegression\n",
    "from numpy.random import RandomState\n",
    "from sklearn.metrics import make_scorer, mean_absolute_error\n",
    "from sklearn.dummy import DummyRegressor\n",
    "from sklearn.linear_model import SGDRegressor\n",
    "from sklearn.svm import LinearSVR\n",
    "\n",
    "\n",
    "import warnings\n",
    "warnings.filterwarnings(\"ignore\")\n",
    "\n",
    "RND = 12345"
   ]
  },
  {
   "cell_type": "code",
   "execution_count": 2,
   "metadata": {},
   "outputs": [],
   "source": [
    "train_df = pd.read_csv('/datasets/gold_recovery_train_new.csv')\n",
    "test_df = pd.read_csv('/datasets/gold_recovery_test_new.csv')\n",
    "full_df = pd.read_csv('/datasets/gold_recovery_full_new.csv')\n",
    "datasets = [train_df, test_df, full_df]"
   ]
  },
  {
   "cell_type": "code",
   "execution_count": 3,
   "metadata": {
    "scrolled": true
   },
   "outputs": [
    {
     "name": "stdout",
     "output_type": "stream",
     "text": [
      "<class 'pandas.core.frame.DataFrame'>\n",
      "RangeIndex: 14149 entries, 0 to 14148\n",
      "Data columns (total 87 columns):\n",
      " #   Column                                              Non-Null Count  Dtype  \n",
      "---  ------                                              --------------  -----  \n",
      " 0   date                                                14149 non-null  object \n",
      " 1   final.output.concentrate_ag                         14148 non-null  float64\n",
      " 2   final.output.concentrate_pb                         14148 non-null  float64\n",
      " 3   final.output.concentrate_sol                        13938 non-null  float64\n",
      " 4   final.output.concentrate_au                         14149 non-null  float64\n",
      " 5   final.output.recovery                               14149 non-null  float64\n",
      " 6   final.output.tail_ag                                14149 non-null  float64\n",
      " 7   final.output.tail_pb                                14049 non-null  float64\n",
      " 8   final.output.tail_sol                               14144 non-null  float64\n",
      " 9   final.output.tail_au                                14149 non-null  float64\n",
      " 10  primary_cleaner.input.sulfate                       14129 non-null  float64\n",
      " 11  primary_cleaner.input.depressant                    14117 non-null  float64\n",
      " 12  primary_cleaner.input.feed_size                     14149 non-null  float64\n",
      " 13  primary_cleaner.input.xanthate                      14049 non-null  float64\n",
      " 14  primary_cleaner.output.concentrate_ag               14149 non-null  float64\n",
      " 15  primary_cleaner.output.concentrate_pb               14063 non-null  float64\n",
      " 16  primary_cleaner.output.concentrate_sol              13863 non-null  float64\n",
      " 17  primary_cleaner.output.concentrate_au               14149 non-null  float64\n",
      " 18  primary_cleaner.output.tail_ag                      14148 non-null  float64\n",
      " 19  primary_cleaner.output.tail_pb                      14134 non-null  float64\n",
      " 20  primary_cleaner.output.tail_sol                     14103 non-null  float64\n",
      " 21  primary_cleaner.output.tail_au                      14149 non-null  float64\n",
      " 22  primary_cleaner.state.floatbank8_a_air              14145 non-null  float64\n",
      " 23  primary_cleaner.state.floatbank8_a_level            14148 non-null  float64\n",
      " 24  primary_cleaner.state.floatbank8_b_air              14145 non-null  float64\n",
      " 25  primary_cleaner.state.floatbank8_b_level            14148 non-null  float64\n",
      " 26  primary_cleaner.state.floatbank8_c_air              14147 non-null  float64\n",
      " 27  primary_cleaner.state.floatbank8_c_level            14148 non-null  float64\n",
      " 28  primary_cleaner.state.floatbank8_d_air              14146 non-null  float64\n",
      " 29  primary_cleaner.state.floatbank8_d_level            14148 non-null  float64\n",
      " 30  rougher.calculation.sulfate_to_au_concentrate       14148 non-null  float64\n",
      " 31  rougher.calculation.floatbank10_sulfate_to_au_feed  14148 non-null  float64\n",
      " 32  rougher.calculation.floatbank11_sulfate_to_au_feed  14148 non-null  float64\n",
      " 33  rougher.calculation.au_pb_ratio                     14149 non-null  float64\n",
      " 34  rougher.input.feed_ag                               14149 non-null  float64\n",
      " 35  rougher.input.feed_pb                               14049 non-null  float64\n",
      " 36  rougher.input.feed_rate                             14141 non-null  float64\n",
      " 37  rougher.input.feed_size                             14005 non-null  float64\n",
      " 38  rougher.input.feed_sol                              14071 non-null  float64\n",
      " 39  rougher.input.feed_au                               14149 non-null  float64\n",
      " 40  rougher.input.floatbank10_sulfate                   14120 non-null  float64\n",
      " 41  rougher.input.floatbank10_xanthate                  14141 non-null  float64\n",
      " 42  rougher.input.floatbank11_sulfate                   14113 non-null  float64\n",
      " 43  rougher.input.floatbank11_xanthate                  13721 non-null  float64\n",
      " 44  rougher.output.concentrate_ag                       14149 non-null  float64\n",
      " 45  rougher.output.concentrate_pb                       14149 non-null  float64\n",
      " 46  rougher.output.concentrate_sol                      14127 non-null  float64\n",
      " 47  rougher.output.concentrate_au                       14149 non-null  float64\n",
      " 48  rougher.output.recovery                             14149 non-null  float64\n",
      " 49  rougher.output.tail_ag                              14148 non-null  float64\n",
      " 50  rougher.output.tail_pb                              14149 non-null  float64\n",
      " 51  rougher.output.tail_sol                             14149 non-null  float64\n",
      " 52  rougher.output.tail_au                              14149 non-null  float64\n",
      " 53  rougher.state.floatbank10_a_air                     14148 non-null  float64\n",
      " 54  rougher.state.floatbank10_a_level                   14148 non-null  float64\n",
      " 55  rougher.state.floatbank10_b_air                     14148 non-null  float64\n",
      " 56  rougher.state.floatbank10_b_level                   14148 non-null  float64\n",
      " 57  rougher.state.floatbank10_c_air                     14148 non-null  float64\n",
      " 58  rougher.state.floatbank10_c_level                   14148 non-null  float64\n",
      " 59  rougher.state.floatbank10_d_air                     14149 non-null  float64\n",
      " 60  rougher.state.floatbank10_d_level                   14149 non-null  float64\n",
      " 61  rougher.state.floatbank10_e_air                     13713 non-null  float64\n",
      " 62  rougher.state.floatbank10_e_level                   14149 non-null  float64\n",
      " 63  rougher.state.floatbank10_f_air                     14149 non-null  float64\n",
      " 64  rougher.state.floatbank10_f_level                   14149 non-null  float64\n",
      " 65  secondary_cleaner.output.tail_ag                    14147 non-null  float64\n",
      " 66  secondary_cleaner.output.tail_pb                    14139 non-null  float64\n",
      " 67  secondary_cleaner.output.tail_sol                   12544 non-null  float64\n",
      " 68  secondary_cleaner.output.tail_au                    14149 non-null  float64\n",
      " 69  secondary_cleaner.state.floatbank2_a_air            13932 non-null  float64\n",
      " 70  secondary_cleaner.state.floatbank2_a_level          14148 non-null  float64\n",
      " 71  secondary_cleaner.state.floatbank2_b_air            14128 non-null  float64\n",
      " 72  secondary_cleaner.state.floatbank2_b_level          14148 non-null  float64\n",
      " 73  secondary_cleaner.state.floatbank3_a_air            14145 non-null  float64\n",
      " 74  secondary_cleaner.state.floatbank3_a_level          14148 non-null  float64\n",
      " 75  secondary_cleaner.state.floatbank3_b_air            14148 non-null  float64\n",
      " 76  secondary_cleaner.state.floatbank3_b_level          14148 non-null  float64\n",
      " 77  secondary_cleaner.state.floatbank4_a_air            14143 non-null  float64\n",
      " 78  secondary_cleaner.state.floatbank4_a_level          14148 non-null  float64\n",
      " 79  secondary_cleaner.state.floatbank4_b_air            14148 non-null  float64\n",
      " 80  secondary_cleaner.state.floatbank4_b_level          14148 non-null  float64\n",
      " 81  secondary_cleaner.state.floatbank5_a_air            14148 non-null  float64\n",
      " 82  secondary_cleaner.state.floatbank5_a_level          14148 non-null  float64\n",
      " 83  secondary_cleaner.state.floatbank5_b_air            14148 non-null  float64\n",
      " 84  secondary_cleaner.state.floatbank5_b_level          14148 non-null  float64\n",
      " 85  secondary_cleaner.state.floatbank6_a_air            14147 non-null  float64\n",
      " 86  secondary_cleaner.state.floatbank6_a_level          14148 non-null  float64\n",
      "dtypes: float64(86), object(1)\n",
      "memory usage: 9.4+ MB\n",
      "None\n",
      "<class 'pandas.core.frame.DataFrame'>\n",
      "RangeIndex: 5290 entries, 0 to 5289\n",
      "Data columns (total 53 columns):\n",
      " #   Column                                      Non-Null Count  Dtype  \n",
      "---  ------                                      --------------  -----  \n",
      " 0   date                                        5290 non-null   object \n",
      " 1   primary_cleaner.input.sulfate               5286 non-null   float64\n",
      " 2   primary_cleaner.input.depressant            5285 non-null   float64\n",
      " 3   primary_cleaner.input.feed_size             5290 non-null   float64\n",
      " 4   primary_cleaner.input.xanthate              5286 non-null   float64\n",
      " 5   primary_cleaner.state.floatbank8_a_air      5290 non-null   float64\n",
      " 6   primary_cleaner.state.floatbank8_a_level    5290 non-null   float64\n",
      " 7   primary_cleaner.state.floatbank8_b_air      5290 non-null   float64\n",
      " 8   primary_cleaner.state.floatbank8_b_level    5290 non-null   float64\n",
      " 9   primary_cleaner.state.floatbank8_c_air      5290 non-null   float64\n",
      " 10  primary_cleaner.state.floatbank8_c_level    5290 non-null   float64\n",
      " 11  primary_cleaner.state.floatbank8_d_air      5290 non-null   float64\n",
      " 12  primary_cleaner.state.floatbank8_d_level    5290 non-null   float64\n",
      " 13  rougher.input.feed_ag                       5290 non-null   float64\n",
      " 14  rougher.input.feed_pb                       5290 non-null   float64\n",
      " 15  rougher.input.feed_rate                     5287 non-null   float64\n",
      " 16  rougher.input.feed_size                     5289 non-null   float64\n",
      " 17  rougher.input.feed_sol                      5269 non-null   float64\n",
      " 18  rougher.input.feed_au                       5290 non-null   float64\n",
      " 19  rougher.input.floatbank10_sulfate           5285 non-null   float64\n",
      " 20  rougher.input.floatbank10_xanthate          5290 non-null   float64\n",
      " 21  rougher.input.floatbank11_sulfate           5282 non-null   float64\n",
      " 22  rougher.input.floatbank11_xanthate          5265 non-null   float64\n",
      " 23  rougher.state.floatbank10_a_air             5290 non-null   float64\n",
      " 24  rougher.state.floatbank10_a_level           5290 non-null   float64\n",
      " 25  rougher.state.floatbank10_b_air             5290 non-null   float64\n",
      " 26  rougher.state.floatbank10_b_level           5290 non-null   float64\n",
      " 27  rougher.state.floatbank10_c_air             5290 non-null   float64\n",
      " 28  rougher.state.floatbank10_c_level           5290 non-null   float64\n",
      " 29  rougher.state.floatbank10_d_air             5290 non-null   float64\n",
      " 30  rougher.state.floatbank10_d_level           5290 non-null   float64\n",
      " 31  rougher.state.floatbank10_e_air             5290 non-null   float64\n",
      " 32  rougher.state.floatbank10_e_level           5290 non-null   float64\n",
      " 33  rougher.state.floatbank10_f_air             5290 non-null   float64\n",
      " 34  rougher.state.floatbank10_f_level           5290 non-null   float64\n",
      " 35  secondary_cleaner.state.floatbank2_a_air    5287 non-null   float64\n",
      " 36  secondary_cleaner.state.floatbank2_a_level  5290 non-null   float64\n",
      " 37  secondary_cleaner.state.floatbank2_b_air    5288 non-null   float64\n",
      " 38  secondary_cleaner.state.floatbank2_b_level  5290 non-null   float64\n",
      " 39  secondary_cleaner.state.floatbank3_a_air    5281 non-null   float64\n",
      " 40  secondary_cleaner.state.floatbank3_a_level  5290 non-null   float64\n",
      " 41  secondary_cleaner.state.floatbank3_b_air    5290 non-null   float64\n",
      " 42  secondary_cleaner.state.floatbank3_b_level  5290 non-null   float64\n",
      " 43  secondary_cleaner.state.floatbank4_a_air    5290 non-null   float64\n",
      " 44  secondary_cleaner.state.floatbank4_a_level  5290 non-null   float64\n",
      " 45  secondary_cleaner.state.floatbank4_b_air    5290 non-null   float64\n",
      " 46  secondary_cleaner.state.floatbank4_b_level  5290 non-null   float64\n",
      " 47  secondary_cleaner.state.floatbank5_a_air    5290 non-null   float64\n",
      " 48  secondary_cleaner.state.floatbank5_a_level  5290 non-null   float64\n",
      " 49  secondary_cleaner.state.floatbank5_b_air    5290 non-null   float64\n",
      " 50  secondary_cleaner.state.floatbank5_b_level  5290 non-null   float64\n",
      " 51  secondary_cleaner.state.floatbank6_a_air    5290 non-null   float64\n",
      " 52  secondary_cleaner.state.floatbank6_a_level  5290 non-null   float64\n",
      "dtypes: float64(52), object(1)\n",
      "memory usage: 2.1+ MB\n",
      "None\n",
      "<class 'pandas.core.frame.DataFrame'>\n",
      "RangeIndex: 19439 entries, 0 to 19438\n",
      "Data columns (total 87 columns):\n",
      " #   Column                                              Non-Null Count  Dtype  \n",
      "---  ------                                              --------------  -----  \n",
      " 0   date                                                19439 non-null  object \n",
      " 1   final.output.concentrate_ag                         19438 non-null  float64\n",
      " 2   final.output.concentrate_pb                         19438 non-null  float64\n",
      " 3   final.output.concentrate_sol                        19228 non-null  float64\n",
      " 4   final.output.concentrate_au                         19439 non-null  float64\n",
      " 5   final.output.recovery                               19439 non-null  float64\n",
      " 6   final.output.tail_ag                                19438 non-null  float64\n",
      " 7   final.output.tail_pb                                19338 non-null  float64\n",
      " 8   final.output.tail_sol                               19433 non-null  float64\n",
      " 9   final.output.tail_au                                19439 non-null  float64\n",
      " 10  primary_cleaner.input.sulfate                       19415 non-null  float64\n",
      " 11  primary_cleaner.input.depressant                    19402 non-null  float64\n",
      " 12  primary_cleaner.input.feed_size                     19439 non-null  float64\n",
      " 13  primary_cleaner.input.xanthate                      19335 non-null  float64\n",
      " 14  primary_cleaner.output.concentrate_ag               19439 non-null  float64\n",
      " 15  primary_cleaner.output.concentrate_pb               19323 non-null  float64\n",
      " 16  primary_cleaner.output.concentrate_sol              19069 non-null  float64\n",
      " 17  primary_cleaner.output.concentrate_au               19439 non-null  float64\n",
      " 18  primary_cleaner.output.tail_ag                      19435 non-null  float64\n",
      " 19  primary_cleaner.output.tail_pb                      19418 non-null  float64\n",
      " 20  primary_cleaner.output.tail_sol                     19377 non-null  float64\n",
      " 21  primary_cleaner.output.tail_au                      19439 non-null  float64\n",
      " 22  primary_cleaner.state.floatbank8_a_air              19435 non-null  float64\n",
      " 23  primary_cleaner.state.floatbank8_a_level            19438 non-null  float64\n",
      " 24  primary_cleaner.state.floatbank8_b_air              19435 non-null  float64\n",
      " 25  primary_cleaner.state.floatbank8_b_level            19438 non-null  float64\n",
      " 26  primary_cleaner.state.floatbank8_c_air              19437 non-null  float64\n",
      " 27  primary_cleaner.state.floatbank8_c_level            19438 non-null  float64\n",
      " 28  primary_cleaner.state.floatbank8_d_air              19436 non-null  float64\n",
      " 29  primary_cleaner.state.floatbank8_d_level            19438 non-null  float64\n",
      " 30  rougher.calculation.sulfate_to_au_concentrate       19437 non-null  float64\n",
      " 31  rougher.calculation.floatbank10_sulfate_to_au_feed  19437 non-null  float64\n",
      " 32  rougher.calculation.floatbank11_sulfate_to_au_feed  19437 non-null  float64\n",
      " 33  rougher.calculation.au_pb_ratio                     19439 non-null  float64\n",
      " 34  rougher.input.feed_ag                               19439 non-null  float64\n",
      " 35  rougher.input.feed_pb                               19339 non-null  float64\n",
      " 36  rougher.input.feed_rate                             19428 non-null  float64\n",
      " 37  rougher.input.feed_size                             19294 non-null  float64\n",
      " 38  rougher.input.feed_sol                              19340 non-null  float64\n",
      " 39  rougher.input.feed_au                               19439 non-null  float64\n",
      " 40  rougher.input.floatbank10_sulfate                   19405 non-null  float64\n",
      " 41  rougher.input.floatbank10_xanthate                  19431 non-null  float64\n",
      " 42  rougher.input.floatbank11_sulfate                   19395 non-null  float64\n",
      " 43  rougher.input.floatbank11_xanthate                  18986 non-null  float64\n",
      " 44  rougher.output.concentrate_ag                       19439 non-null  float64\n",
      " 45  rougher.output.concentrate_pb                       19439 non-null  float64\n",
      " 46  rougher.output.concentrate_sol                      19416 non-null  float64\n",
      " 47  rougher.output.concentrate_au                       19439 non-null  float64\n",
      " 48  rougher.output.recovery                             19439 non-null  float64\n",
      " 49  rougher.output.tail_ag                              19438 non-null  float64\n",
      " 50  rougher.output.tail_pb                              19439 non-null  float64\n",
      " 51  rougher.output.tail_sol                             19439 non-null  float64\n",
      " 52  rougher.output.tail_au                              19439 non-null  float64\n",
      " 53  rougher.state.floatbank10_a_air                     19438 non-null  float64\n",
      " 54  rougher.state.floatbank10_a_level                   19438 non-null  float64\n",
      " 55  rougher.state.floatbank10_b_air                     19438 non-null  float64\n",
      " 56  rougher.state.floatbank10_b_level                   19438 non-null  float64\n",
      " 57  rougher.state.floatbank10_c_air                     19438 non-null  float64\n",
      " 58  rougher.state.floatbank10_c_level                   19438 non-null  float64\n",
      " 59  rougher.state.floatbank10_d_air                     19439 non-null  float64\n",
      " 60  rougher.state.floatbank10_d_level                   19439 non-null  float64\n",
      " 61  rougher.state.floatbank10_e_air                     19003 non-null  float64\n",
      " 62  rougher.state.floatbank10_e_level                   19439 non-null  float64\n",
      " 63  rougher.state.floatbank10_f_air                     19439 non-null  float64\n",
      " 64  rougher.state.floatbank10_f_level                   19439 non-null  float64\n",
      " 65  secondary_cleaner.output.tail_ag                    19437 non-null  float64\n",
      " 66  secondary_cleaner.output.tail_pb                    19427 non-null  float64\n",
      " 67  secondary_cleaner.output.tail_sol                   17691 non-null  float64\n",
      " 68  secondary_cleaner.output.tail_au                    19439 non-null  float64\n",
      " 69  secondary_cleaner.state.floatbank2_a_air            19219 non-null  float64\n",
      " 70  secondary_cleaner.state.floatbank2_a_level          19438 non-null  float64\n",
      " 71  secondary_cleaner.state.floatbank2_b_air            19416 non-null  float64\n",
      " 72  secondary_cleaner.state.floatbank2_b_level          19438 non-null  float64\n",
      " 73  secondary_cleaner.state.floatbank3_a_air            19426 non-null  float64\n",
      " 74  secondary_cleaner.state.floatbank3_a_level          19438 non-null  float64\n",
      " 75  secondary_cleaner.state.floatbank3_b_air            19438 non-null  float64\n",
      " 76  secondary_cleaner.state.floatbank3_b_level          19438 non-null  float64\n",
      " 77  secondary_cleaner.state.floatbank4_a_air            19433 non-null  float64\n",
      " 78  secondary_cleaner.state.floatbank4_a_level          19438 non-null  float64\n",
      " 79  secondary_cleaner.state.floatbank4_b_air            19438 non-null  float64\n",
      " 80  secondary_cleaner.state.floatbank4_b_level          19438 non-null  float64\n",
      " 81  secondary_cleaner.state.floatbank5_a_air            19438 non-null  float64\n",
      " 82  secondary_cleaner.state.floatbank5_a_level          19438 non-null  float64\n",
      " 83  secondary_cleaner.state.floatbank5_b_air            19438 non-null  float64\n",
      " 84  secondary_cleaner.state.floatbank5_b_level          19438 non-null  float64\n",
      " 85  secondary_cleaner.state.floatbank6_a_air            19437 non-null  float64\n",
      " 86  secondary_cleaner.state.floatbank6_a_level          19438 non-null  float64\n",
      "dtypes: float64(86), object(1)\n",
      "memory usage: 12.9+ MB\n",
      "None\n"
     ]
    }
   ],
   "source": [
    "for data in datasets:\n",
    "    print(data.info())"
   ]
  },
  {
   "cell_type": "code",
   "execution_count": 4,
   "metadata": {
    "scrolled": true
   },
   "outputs": [
    {
     "name": "stdout",
     "output_type": "stream",
     "text": [
      "0\n",
      "0\n",
      "0\n"
     ]
    }
   ],
   "source": [
    "for data in datasets:\n",
    "    print(data.duplicated().sum())"
   ]
  },
  {
   "cell_type": "code",
   "execution_count": 5,
   "metadata": {
    "scrolled": true
   },
   "outputs": [
    {
     "name": "stdout",
     "output_type": "stream",
     "text": [
      "                  date  final.output.concentrate_ag  \\\n",
      "0  2016-01-15 00:00:00                     6.055403   \n",
      "1  2016-01-15 01:00:00                     6.029369   \n",
      "2  2016-01-15 02:00:00                     6.055926   \n",
      "3  2016-01-15 03:00:00                     6.047977   \n",
      "4  2016-01-15 04:00:00                     6.148599   \n",
      "\n",
      "   final.output.concentrate_pb  final.output.concentrate_sol  \\\n",
      "0                     9.889648                      5.507324   \n",
      "1                     9.968944                      5.257781   \n",
      "2                    10.213995                      5.383759   \n",
      "3                     9.977019                      4.858634   \n",
      "4                    10.142511                      4.939416   \n",
      "\n",
      "   final.output.concentrate_au  final.output.recovery  final.output.tail_ag  \\\n",
      "0                    42.192020              70.541216             10.411962   \n",
      "1                    42.701629              69.266198             10.462676   \n",
      "2                    42.657501              68.116445             10.507046   \n",
      "3                    42.689819              68.347543             10.422762   \n",
      "4                    42.774141              66.927016             10.360302   \n",
      "\n",
      "   final.output.tail_pb  final.output.tail_sol  final.output.tail_au  ...  \\\n",
      "0              0.895447              16.904297              2.143149  ...   \n",
      "1              0.927452              16.634514              2.224930  ...   \n",
      "2              0.953716              16.208849              2.257889  ...   \n",
      "3              0.883763              16.532835              2.146849  ...   \n",
      "4              0.792826              16.525686              2.055292  ...   \n",
      "\n",
      "   secondary_cleaner.state.floatbank4_a_air  \\\n",
      "0                                 14.016835   \n",
      "1                                 13.992281   \n",
      "2                                 14.015015   \n",
      "3                                 14.036510   \n",
      "4                                 14.027298   \n",
      "\n",
      "   secondary_cleaner.state.floatbank4_a_level  \\\n",
      "0                                 -502.488007   \n",
      "1                                 -505.503262   \n",
      "2                                 -502.520901   \n",
      "3                                 -500.857308   \n",
      "4                                 -499.838632   \n",
      "\n",
      "   secondary_cleaner.state.floatbank4_b_air  \\\n",
      "0                                 12.099931   \n",
      "1                                 11.950531   \n",
      "2                                 11.912783   \n",
      "3                                 11.999550   \n",
      "4                                 11.953070   \n",
      "\n",
      "   secondary_cleaner.state.floatbank4_b_level  \\\n",
      "0                                 -504.715942   \n",
      "1                                 -501.331529   \n",
      "2                                 -501.133383   \n",
      "3                                 -501.193686   \n",
      "4                                 -501.053894   \n",
      "\n",
      "   secondary_cleaner.state.floatbank5_a_air  \\\n",
      "0                                  9.925633   \n",
      "1                                 10.039245   \n",
      "2                                 10.070913   \n",
      "3                                  9.970366   \n",
      "4                                  9.925709   \n",
      "\n",
      "   secondary_cleaner.state.floatbank5_a_level  \\\n",
      "0                                 -498.310211   \n",
      "1                                 -500.169983   \n",
      "2                                 -500.129135   \n",
      "3                                 -499.201640   \n",
      "4                                 -501.686727   \n",
      "\n",
      "   secondary_cleaner.state.floatbank5_b_air  \\\n",
      "0                                  8.079666   \n",
      "1                                  7.984757   \n",
      "2                                  8.013877   \n",
      "3                                  7.977324   \n",
      "4                                  7.894242   \n",
      "\n",
      "   secondary_cleaner.state.floatbank5_b_level  \\\n",
      "0                                 -500.470978   \n",
      "1                                 -500.582168   \n",
      "2                                 -500.517572   \n",
      "3                                 -500.255908   \n",
      "4                                 -500.356035   \n",
      "\n",
      "   secondary_cleaner.state.floatbank6_a_air  \\\n",
      "0                                 14.151341   \n",
      "1                                 13.998353   \n",
      "2                                 14.028663   \n",
      "3                                 14.005551   \n",
      "4                                 13.996647   \n",
      "\n",
      "   secondary_cleaner.state.floatbank6_a_level  \n",
      "0                                 -605.841980  \n",
      "1                                 -599.787184  \n",
      "2                                 -601.427363  \n",
      "3                                 -599.996129  \n",
      "4                                 -601.496691  \n",
      "\n",
      "[5 rows x 87 columns]\n",
      "                  date  primary_cleaner.input.sulfate  \\\n",
      "0  2016-09-01 00:59:59                     210.800909   \n",
      "1  2016-09-01 01:59:59                     215.392455   \n",
      "2  2016-09-01 02:59:59                     215.259946   \n",
      "3  2016-09-01 03:59:59                     215.336236   \n",
      "4  2016-09-01 04:59:59                     199.099327   \n",
      "\n",
      "   primary_cleaner.input.depressant  primary_cleaner.input.feed_size  \\\n",
      "0                         14.993118                         8.080000   \n",
      "1                         14.987471                         8.080000   \n",
      "2                         12.884934                         7.786667   \n",
      "3                         12.006805                         7.640000   \n",
      "4                         10.682530                         7.530000   \n",
      "\n",
      "   primary_cleaner.input.xanthate  primary_cleaner.state.floatbank8_a_air  \\\n",
      "0                        1.005021                             1398.981301   \n",
      "1                        0.990469                             1398.777912   \n",
      "2                        0.996043                             1398.493666   \n",
      "3                        0.863514                             1399.618111   \n",
      "4                        0.805575                             1401.268123   \n",
      "\n",
      "   primary_cleaner.state.floatbank8_a_level  \\\n",
      "0                               -500.225577   \n",
      "1                               -500.057435   \n",
      "2                               -500.868360   \n",
      "3                               -498.863574   \n",
      "4                               -500.808305   \n",
      "\n",
      "   primary_cleaner.state.floatbank8_b_air  \\\n",
      "0                             1399.144926   \n",
      "1                             1398.055362   \n",
      "2                             1398.860436   \n",
      "3                             1397.440120   \n",
      "4                             1398.128818   \n",
      "\n",
      "   primary_cleaner.state.floatbank8_b_level  \\\n",
      "0                               -499.919735   \n",
      "1                               -499.778182   \n",
      "2                               -499.764529   \n",
      "3                               -499.211024   \n",
      "4                               -499.504543   \n",
      "\n",
      "   primary_cleaner.state.floatbank8_c_air  ...  \\\n",
      "0                             1400.102998  ...   \n",
      "1                             1396.151033  ...   \n",
      "2                             1398.075709  ...   \n",
      "3                             1400.129303  ...   \n",
      "4                             1402.172226  ...   \n",
      "\n",
      "   secondary_cleaner.state.floatbank4_a_air  \\\n",
      "0                                 12.023554   \n",
      "1                                 12.058140   \n",
      "2                                 11.962366   \n",
      "3                                 12.033091   \n",
      "4                                 12.025367   \n",
      "\n",
      "   secondary_cleaner.state.floatbank4_a_level  \\\n",
      "0                                 -497.795834   \n",
      "1                                 -498.695773   \n",
      "2                                 -498.767484   \n",
      "3                                 -498.350935   \n",
      "4                                 -500.786497   \n",
      "\n",
      "   secondary_cleaner.state.floatbank4_b_air  \\\n",
      "0                                  8.016656   \n",
      "1                                  8.130979   \n",
      "2                                  8.096893   \n",
      "3                                  8.074946   \n",
      "4                                  8.054678   \n",
      "\n",
      "   secondary_cleaner.state.floatbank4_b_level  \\\n",
      "0                                 -501.289139   \n",
      "1                                 -499.634209   \n",
      "2                                 -500.827423   \n",
      "3                                 -499.474407   \n",
      "4                                 -500.397500   \n",
      "\n",
      "   secondary_cleaner.state.floatbank5_a_air  \\\n",
      "0                                  7.946562   \n",
      "1                                  7.958270   \n",
      "2                                  8.071056   \n",
      "3                                  7.897085   \n",
      "4                                  8.107890   \n",
      "\n",
      "   secondary_cleaner.state.floatbank5_a_level  \\\n",
      "0                                 -432.317850   \n",
      "1                                 -525.839648   \n",
      "2                                 -500.801673   \n",
      "3                                 -500.868509   \n",
      "4                                 -509.526725   \n",
      "\n",
      "   secondary_cleaner.state.floatbank5_b_air  \\\n",
      "0                                  4.872511   \n",
      "1                                  4.878850   \n",
      "2                                  4.905125   \n",
      "3                                  4.931400   \n",
      "4                                  4.957674   \n",
      "\n",
      "   secondary_cleaner.state.floatbank5_b_level  \\\n",
      "0                                 -500.037437   \n",
      "1                                 -500.162375   \n",
      "2                                 -499.828510   \n",
      "3                                 -499.963623   \n",
      "4                                 -500.360026   \n",
      "\n",
      "   secondary_cleaner.state.floatbank6_a_air  \\\n",
      "0                                 26.705889   \n",
      "1                                 25.019940   \n",
      "2                                 24.994862   \n",
      "3                                 24.948919   \n",
      "4                                 25.003331   \n",
      "\n",
      "   secondary_cleaner.state.floatbank6_a_level  \n",
      "0                                 -499.709414  \n",
      "1                                 -499.819438  \n",
      "2                                 -500.622559  \n",
      "3                                 -498.709987  \n",
      "4                                 -500.856333  \n",
      "\n",
      "[5 rows x 53 columns]\n",
      "                  date  final.output.concentrate_ag  \\\n",
      "0  2016-01-15 00:00:00                     6.055403   \n",
      "1  2016-01-15 01:00:00                     6.029369   \n",
      "2  2016-01-15 02:00:00                     6.055926   \n",
      "3  2016-01-15 03:00:00                     6.047977   \n",
      "4  2016-01-15 04:00:00                     6.148599   \n",
      "\n",
      "   final.output.concentrate_pb  final.output.concentrate_sol  \\\n",
      "0                     9.889648                      5.507324   \n",
      "1                     9.968944                      5.257781   \n",
      "2                    10.213995                      5.383759   \n",
      "3                     9.977019                      4.858634   \n",
      "4                    10.142511                      4.939416   \n",
      "\n",
      "   final.output.concentrate_au  final.output.recovery  final.output.tail_ag  \\\n",
      "0                    42.192020              70.541216             10.411962   \n",
      "1                    42.701629              69.266198             10.462676   \n",
      "2                    42.657501              68.116445             10.507046   \n",
      "3                    42.689819              68.347543             10.422762   \n",
      "4                    42.774141              66.927016             10.360302   \n",
      "\n",
      "   final.output.tail_pb  final.output.tail_sol  final.output.tail_au  ...  \\\n",
      "0              0.895447              16.904297              2.143149  ...   \n",
      "1              0.927452              16.634514              2.224930  ...   \n",
      "2              0.953716              16.208849              2.257889  ...   \n",
      "3              0.883763              16.532835              2.146849  ...   \n",
      "4              0.792826              16.525686              2.055292  ...   \n",
      "\n",
      "   secondary_cleaner.state.floatbank4_a_air  \\\n",
      "0                                 14.016835   \n",
      "1                                 13.992281   \n",
      "2                                 14.015015   \n",
      "3                                 14.036510   \n",
      "4                                 14.027298   \n",
      "\n",
      "   secondary_cleaner.state.floatbank4_a_level  \\\n",
      "0                                 -502.488007   \n",
      "1                                 -505.503262   \n",
      "2                                 -502.520901   \n",
      "3                                 -500.857308   \n",
      "4                                 -499.838632   \n",
      "\n",
      "   secondary_cleaner.state.floatbank4_b_air  \\\n",
      "0                                 12.099931   \n",
      "1                                 11.950531   \n",
      "2                                 11.912783   \n",
      "3                                 11.999550   \n",
      "4                                 11.953070   \n",
      "\n",
      "   secondary_cleaner.state.floatbank4_b_level  \\\n",
      "0                                 -504.715942   \n",
      "1                                 -501.331529   \n",
      "2                                 -501.133383   \n",
      "3                                 -501.193686   \n",
      "4                                 -501.053894   \n",
      "\n",
      "   secondary_cleaner.state.floatbank5_a_air  \\\n",
      "0                                  9.925633   \n",
      "1                                 10.039245   \n",
      "2                                 10.070913   \n",
      "3                                  9.970366   \n",
      "4                                  9.925709   \n",
      "\n",
      "   secondary_cleaner.state.floatbank5_a_level  \\\n",
      "0                                 -498.310211   \n",
      "1                                 -500.169983   \n",
      "2                                 -500.129135   \n",
      "3                                 -499.201640   \n",
      "4                                 -501.686727   \n",
      "\n",
      "   secondary_cleaner.state.floatbank5_b_air  \\\n",
      "0                                  8.079666   \n",
      "1                                  7.984757   \n",
      "2                                  8.013877   \n",
      "3                                  7.977324   \n",
      "4                                  7.894242   \n",
      "\n",
      "   secondary_cleaner.state.floatbank5_b_level  \\\n",
      "0                                 -500.470978   \n",
      "1                                 -500.582168   \n",
      "2                                 -500.517572   \n",
      "3                                 -500.255908   \n",
      "4                                 -500.356035   \n",
      "\n",
      "   secondary_cleaner.state.floatbank6_a_air  \\\n",
      "0                                 14.151341   \n",
      "1                                 13.998353   \n",
      "2                                 14.028663   \n",
      "3                                 14.005551   \n",
      "4                                 13.996647   \n",
      "\n",
      "   secondary_cleaner.state.floatbank6_a_level  \n",
      "0                                 -605.841980  \n",
      "1                                 -599.787184  \n",
      "2                                 -601.427363  \n",
      "3                                 -599.996129  \n",
      "4                                 -601.496691  \n",
      "\n",
      "[5 rows x 87 columns]\n"
     ]
    }
   ],
   "source": [
    "for data in datasets:\n",
    "    print(data.head())"
   ]
  },
  {
   "cell_type": "code",
   "execution_count": 6,
   "metadata": {
    "scrolled": true
   },
   "outputs": [
    {
     "name": "stdout",
     "output_type": "stream",
     "text": [
      "       final.output.concentrate_ag  final.output.concentrate_pb  \\\n",
      "count                 14148.000000                 14148.000000   \n",
      "mean                      5.142034                    10.132960   \n",
      "std                       1.369586                     1.654930   \n",
      "min                       0.000000                     0.000000   \n",
      "25%                       4.211620                     9.297355   \n",
      "50%                       4.994652                    10.297144   \n",
      "75%                       5.859540                    11.170603   \n",
      "max                      16.001945                    17.031899   \n",
      "\n",
      "       final.output.concentrate_sol  final.output.concentrate_au  \\\n",
      "count                  13938.000000                 14149.000000   \n",
      "mean                       9.202849                    44.003792   \n",
      "std                        2.790516                     4.905261   \n",
      "min                        0.000000                     0.000000   \n",
      "25%                        7.484645                    43.276111   \n",
      "50%                        8.845462                    44.872436   \n",
      "75%                       10.487508                    46.166425   \n",
      "max                       18.124851                    52.756638   \n",
      "\n",
      "       final.output.recovery  final.output.tail_ag  final.output.tail_pb  \\\n",
      "count           14149.000000          14149.000000          14049.000000   \n",
      "mean               66.518832              9.607035              2.597298   \n",
      "std                10.295402              2.319069              0.971843   \n",
      "min                 0.000000              0.000000              0.000000   \n",
      "25%                62.545817              7.997429              1.905973   \n",
      "50%                67.432775              9.480270              2.592022   \n",
      "75%                72.346428             11.003707              3.241723   \n",
      "max               100.000000             19.552149              5.639565   \n",
      "\n",
      "       final.output.tail_sol  final.output.tail_au  \\\n",
      "count           14144.000000          14149.000000   \n",
      "mean               10.512122              2.918421   \n",
      "std                 3.003617              0.903712   \n",
      "min                 0.000000              0.000000   \n",
      "25%                 8.811324              2.368607   \n",
      "50%                10.514621              2.851025   \n",
      "75%                11.933009              3.434764   \n",
      "max                22.317730              8.197408   \n",
      "\n",
      "       primary_cleaner.input.sulfate  ...  \\\n",
      "count                   14129.000000  ...   \n",
      "mean                      133.320659  ...   \n",
      "std                        39.431659  ...   \n",
      "min                         0.003112  ...   \n",
      "25%                       107.006651  ...   \n",
      "50%                       133.018328  ...   \n",
      "75%                       159.825396  ...   \n",
      "max                       250.127834  ...   \n",
      "\n",
      "       secondary_cleaner.state.floatbank4_a_air  \\\n",
      "count                              14143.000000   \n",
      "mean                                  19.985454   \n",
      "std                                    5.657723   \n",
      "min                                    0.000000   \n",
      "25%                                   14.990775   \n",
      "50%                                   20.001789   \n",
      "75%                                   24.990826   \n",
      "max                                   30.115735   \n",
      "\n",
      "       secondary_cleaner.state.floatbank4_a_level  \\\n",
      "count                                14148.000000   \n",
      "mean                                  -478.696836   \n",
      "std                                     50.736021   \n",
      "min                                   -799.709069   \n",
      "25%                                   -500.628656   \n",
      "50%                                   -499.681450   \n",
      "75%                                   -477.472413   \n",
      "max                                   -245.239184   \n",
      "\n",
      "       secondary_cleaner.state.floatbank4_b_air  \\\n",
      "count                              14148.000000   \n",
      "mean                                  15.487065   \n",
      "std                                    5.255655   \n",
      "min                                    0.000000   \n",
      "25%                                   11.894558   \n",
      "50%                                   14.975536   \n",
      "75%                                   20.059375   \n",
      "max                                   24.007913   \n",
      "\n",
      "       secondary_cleaner.state.floatbank4_b_level  \\\n",
      "count                                14148.000000   \n",
      "mean                                  -460.229416   \n",
      "std                                     58.843586   \n",
      "min                                   -799.889113   \n",
      "25%                                   -500.149000   \n",
      "50%                                   -499.388738   \n",
      "75%                                   -400.039008   \n",
      "max                                   -145.071088   \n",
      "\n",
      "       secondary_cleaner.state.floatbank5_a_air  \\\n",
      "count                              14148.000000   \n",
      "mean                                  16.775136   \n",
      "std                                    5.831906   \n",
      "min                                   -0.372054   \n",
      "25%                                   11.083980   \n",
      "50%                                   17.932223   \n",
      "75%                                   21.346550   \n",
      "max                                   43.709931   \n",
      "\n",
      "       secondary_cleaner.state.floatbank5_a_level  \\\n",
      "count                                14148.000000   \n",
      "mean                                  -483.956022   \n",
      "std                                     37.892788   \n",
      "min                                   -797.142475   \n",
      "25%                                   -500.363177   \n",
      "50%                                   -499.702452   \n",
      "75%                                   -487.712108   \n",
      "max                                   -275.073125   \n",
      "\n",
      "       secondary_cleaner.state.floatbank5_b_air  \\\n",
      "count                              14148.000000   \n",
      "mean                                  13.064590   \n",
      "std                                    5.765617   \n",
      "min                                    0.646208   \n",
      "25%                                    8.994405   \n",
      "50%                                   11.997547   \n",
      "75%                                   17.982903   \n",
      "max                                   27.926001   \n",
      "\n",
      "       secondary_cleaner.state.floatbank5_b_level  \\\n",
      "count                                14148.000000   \n",
      "mean                                  -483.966564   \n",
      "std                                     39.207913   \n",
      "min                                   -800.006180   \n",
      "25%                                   -500.105994   \n",
      "50%                                   -499.914556   \n",
      "75%                                   -453.186936   \n",
      "max                                   -157.396071   \n",
      "\n",
      "       secondary_cleaner.state.floatbank6_a_air  \\\n",
      "count                              14147.000000   \n",
      "mean                                  19.577539   \n",
      "std                                    5.764417   \n",
      "min                                    0.195324   \n",
      "25%                                   14.989304   \n",
      "50%                                   19.984175   \n",
      "75%                                   24.991623   \n",
      "max                                   32.188906   \n",
      "\n",
      "       secondary_cleaner.state.floatbank6_a_level  \n",
      "count                                14148.000000  \n",
      "mean                                  -506.798480  \n",
      "std                                     37.079249  \n",
      "min                                   -809.398668  \n",
      "25%                                   -500.745104  \n",
      "50%                                   -500.061431  \n",
      "75%                                   -499.536466  \n",
      "max                                   -104.427459  \n",
      "\n",
      "[8 rows x 86 columns]\n",
      "       primary_cleaner.input.sulfate  primary_cleaner.input.depressant  \\\n",
      "count                    5286.000000                       5285.000000   \n",
      "mean                      174.839652                          8.683596   \n",
      "std                        43.027080                          3.072050   \n",
      "min                         2.566156                          0.003839   \n",
      "25%                       147.121401                          6.489555   \n",
      "50%                       177.828489                          8.052207   \n",
      "75%                       208.125438                         10.027764   \n",
      "max                       265.983123                         40.000000   \n",
      "\n",
      "       primary_cleaner.input.feed_size  primary_cleaner.input.xanthate  \\\n",
      "count                      5290.000000                     5286.000000   \n",
      "mean                          7.266339                        1.383803   \n",
      "std                           0.610219                        0.643474   \n",
      "min                           5.650000                        0.004984   \n",
      "25%                           6.890000                        0.907623   \n",
      "50%                           7.250000                        1.197610   \n",
      "75%                           7.600000                        1.797819   \n",
      "max                          15.500000                        4.102454   \n",
      "\n",
      "       primary_cleaner.state.floatbank8_a_air  \\\n",
      "count                            5.290000e+03   \n",
      "mean                             1.539494e+03   \n",
      "std                              1.167979e+02   \n",
      "min                              5.445860e-32   \n",
      "25%                              1.498936e+03   \n",
      "50%                              1.585129e+03   \n",
      "75%                              1.602077e+03   \n",
      "max                              2.103104e+03   \n",
      "\n",
      "       primary_cleaner.state.floatbank8_a_level  \\\n",
      "count                               5290.000000   \n",
      "mean                                -497.665883   \n",
      "std                                   19.952431   \n",
      "min                                 -795.316337   \n",
      "25%                                 -500.357298   \n",
      "50%                                 -499.969164   \n",
      "75%                                 -499.568951   \n",
      "max                                  -57.195404   \n",
      "\n",
      "       primary_cleaner.state.floatbank8_b_air  \\\n",
      "count                            5.290000e+03   \n",
      "mean                             1.545174e+03   \n",
      "std                              1.222246e+02   \n",
      "min                              6.647490e-32   \n",
      "25%                              1.498971e+03   \n",
      "50%                              1.595622e+03   \n",
      "75%                              1.602324e+03   \n",
      "max                              1.813084e+03   \n",
      "\n",
      "       primary_cleaner.state.floatbank8_b_level  \\\n",
      "count                               5290.000000   \n",
      "mean                                -500.273098   \n",
      "std                                   32.968307   \n",
      "min                                 -799.997015   \n",
      "25%                                 -500.703002   \n",
      "50%                                 -500.028514   \n",
      "75%                                 -499.293257   \n",
      "max                                 -142.527229   \n",
      "\n",
      "       primary_cleaner.state.floatbank8_c_air  \\\n",
      "count                            5.290000e+03   \n",
      "mean                             1.527272e+03   \n",
      "std                              1.225380e+02   \n",
      "min                              4.033736e-32   \n",
      "25%                              1.473230e+03   \n",
      "50%                              1.549595e+03   \n",
      "75%                              1.601144e+03   \n",
      "max                              1.715054e+03   \n",
      "\n",
      "       primary_cleaner.state.floatbank8_c_level  ...  \\\n",
      "count                               5290.000000  ...   \n",
      "mean                                -498.330680  ...   \n",
      "std                                   21.964876  ...   \n",
      "min                                 -799.960571  ...   \n",
      "25%                                 -501.018117  ...   \n",
      "50%                                 -500.017711  ...   \n",
      "75%                                 -498.994130  ...   \n",
      "max                                 -150.937035  ...   \n",
      "\n",
      "       secondary_cleaner.state.floatbank4_a_air  \\\n",
      "count                              5.290000e+03   \n",
      "mean                               1.632007e+01   \n",
      "std                                3.493583e+00   \n",
      "min                                1.079872e-16   \n",
      "25%                                1.403618e+01   \n",
      "50%                                1.700847e+01   \n",
      "75%                                1.803862e+01   \n",
      "max                                3.005180e+01   \n",
      "\n",
      "       secondary_cleaner.state.floatbank4_a_level  \\\n",
      "count                                 5290.000000   \n",
      "mean                                  -505.144570   \n",
      "std                                     31.427337   \n",
      "min                                   -799.798523   \n",
      "25%                                   -500.868258   \n",
      "50%                                   -500.115727   \n",
      "75%                                   -499.404224   \n",
      "max                                   -401.565212   \n",
      "\n",
      "       secondary_cleaner.state.floatbank4_b_air  \\\n",
      "count                              5.290000e+03   \n",
      "mean                               1.373544e+01   \n",
      "std                                3.430484e+00   \n",
      "min                                2.489718e-17   \n",
      "25%                                1.202862e+01   \n",
      "50%                                1.496486e+01   \n",
      "75%                                1.596213e+01   \n",
      "max                                3.126971e+01   \n",
      "\n",
      "       secondary_cleaner.state.floatbank4_b_level  \\\n",
      "count                                 5290.000000   \n",
      "mean                                  -463.349858   \n",
      "std                                     86.189107   \n",
      "min                                   -800.836914   \n",
      "25%                                   -500.323028   \n",
      "50%                                   -499.576513   \n",
      "75%                                   -400.933805   \n",
      "max                                     -6.506986   \n",
      "\n",
      "       secondary_cleaner.state.floatbank5_a_air  \\\n",
      "count                               5290.000000   \n",
      "mean                                  12.804186   \n",
      "std                                    3.026591   \n",
      "min                                    0.069227   \n",
      "25%                                   10.914838   \n",
      "50%                                   12.954182   \n",
      "75%                                   15.097528   \n",
      "max                                   25.258848   \n",
      "\n",
      "       secondary_cleaner.state.floatbank5_a_level  \\\n",
      "count                                 5290.000000   \n",
      "mean                                  -501.329122   \n",
      "std                                     17.951495   \n",
      "min                                   -797.323986   \n",
      "25%                                   -500.726841   \n",
      "50%                                   -499.990332   \n",
      "75%                                   -499.283191   \n",
      "max                                   -244.483566   \n",
      "\n",
      "       secondary_cleaner.state.floatbank5_b_air  \\\n",
      "count                               5290.000000   \n",
      "mean                                   9.881145   \n",
      "std                                    2.868205   \n",
      "min                                    0.528083   \n",
      "25%                                    8.036719   \n",
      "50%                                   10.004301   \n",
      "75%                                   11.997467   \n",
      "max                                   14.086866   \n",
      "\n",
      "       secondary_cleaner.state.floatbank5_b_level  \\\n",
      "count                                 5290.000000   \n",
      "mean                                  -495.663398   \n",
      "std                                     34.535007   \n",
      "min                                   -800.220337   \n",
      "25%                                   -500.194668   \n",
      "50%                                   -499.990535   \n",
      "75%                                   -499.719913   \n",
      "max                                   -137.740004   \n",
      "\n",
      "       secondary_cleaner.state.floatbank6_a_air  \\\n",
      "count                               5290.000000   \n",
      "mean                                  17.304935   \n",
      "std                                    4.536544   \n",
      "min                                   -0.079426   \n",
      "25%                                   13.997317   \n",
      "50%                                   16.014935   \n",
      "75%                                   21.020013   \n",
      "max                                   26.705889   \n",
      "\n",
      "       secondary_cleaner.state.floatbank6_a_level  \n",
      "count                                 5290.000000  \n",
      "mean                                  -501.793193  \n",
      "std                                     39.044215  \n",
      "min                                   -809.741464  \n",
      "25%                                   -500.690984  \n",
      "50%                                   -500.007126  \n",
      "75%                                   -499.373018  \n",
      "max                                   -123.307487  \n",
      "\n",
      "[8 rows x 52 columns]\n",
      "       final.output.concentrate_ag  final.output.concentrate_pb  \\\n",
      "count                 19438.000000                 19438.000000   \n",
      "mean                      5.168470                     9.978895   \n",
      "std                       1.372348                     1.669240   \n",
      "min                       0.000000                     0.000000   \n",
      "25%                       4.251240                     9.137262   \n",
      "50%                       5.066094                    10.102433   \n",
      "75%                       5.895527                    11.035769   \n",
      "max                      16.001945                    17.031899   \n",
      "\n",
      "       final.output.concentrate_sol  final.output.concentrate_au  \\\n",
      "count                  19228.000000                 19439.000000   \n",
      "mean                       9.501224                    44.076513   \n",
      "std                        2.787537                     5.129784   \n",
      "min                        0.000000                     0.000000   \n",
      "25%                        7.722820                    43.402215   \n",
      "50%                        9.218961                    45.011244   \n",
      "75%                       10.947813                    46.275313   \n",
      "max                       19.615720                    52.756638   \n",
      "\n",
      "       final.output.recovery  final.output.tail_ag  final.output.tail_pb  \\\n",
      "count           19439.000000          19438.000000          19338.000000   \n",
      "mean               67.050208              9.688589              2.705795   \n",
      "std                10.125840              2.328642              0.949077   \n",
      "min                 0.000000              0.000000              0.000000   \n",
      "25%                63.299712              8.062878              2.040119   \n",
      "50%                68.172738              9.743623              2.748730   \n",
      "75%                72.686642             11.134294              3.333216   \n",
      "max               100.000000             19.552149              5.804178   \n",
      "\n",
      "       final.output.tail_sol  final.output.tail_au  \\\n",
      "count           19433.000000          19439.000000   \n",
      "mean               10.583728              3.042467   \n",
      "std                 2.868782              0.922808   \n",
      "min                 0.000000              0.000000   \n",
      "25%                 8.938947              2.461138   \n",
      "50%                10.622456              2.984909   \n",
      "75%                12.104271              3.571351   \n",
      "max                22.317730              8.245022   \n",
      "\n",
      "       primary_cleaner.input.sulfate  ...  \\\n",
      "count                   19415.000000  ...   \n",
      "mean                      144.624774  ...   \n",
      "std                        44.464071  ...   \n",
      "min                         0.003112  ...   \n",
      "25%                       114.107029  ...   \n",
      "50%                       143.232103  ...   \n",
      "75%                       175.075656  ...   \n",
      "max                       265.983123  ...   \n",
      "\n",
      "       secondary_cleaner.state.floatbank4_a_air  \\\n",
      "count                              19433.000000   \n",
      "mean                                  18.987674   \n",
      "std                                    5.411058   \n",
      "min                                    0.000000   \n",
      "25%                                   14.975734   \n",
      "50%                                   18.017481   \n",
      "75%                                   23.012470   \n",
      "max                                   30.115735   \n",
      "\n",
      "       secondary_cleaner.state.floatbank4_a_level  \\\n",
      "count                                19438.000000   \n",
      "mean                                  -485.894516   \n",
      "std                                     47.758570   \n",
      "min                                   -799.798523   \n",
      "25%                                   -500.704892   \n",
      "50%                                   -499.837793   \n",
      "75%                                   -498.249730   \n",
      "max                                   -245.239184   \n",
      "\n",
      "       secondary_cleaner.state.floatbank4_b_air  \\\n",
      "count                              19438.000000   \n",
      "mean                                  15.010366   \n",
      "std                                    4.890228   \n",
      "min                                    0.000000   \n",
      "25%                                   11.940294   \n",
      "50%                                   14.971014   \n",
      "75%                                   19.034162   \n",
      "max                                   31.269706   \n",
      "\n",
      "       secondary_cleaner.state.floatbank4_b_level  \\\n",
      "count                                19438.000000   \n",
      "mean                                  -461.078636   \n",
      "std                                     67.405524   \n",
      "min                                   -800.836914   \n",
      "25%                                   -500.187742   \n",
      "50%                                   -499.459786   \n",
      "75%                                   -400.118106   \n",
      "max                                     -6.506986   \n",
      "\n",
      "       secondary_cleaner.state.floatbank5_a_air  \\\n",
      "count                              19438.000000   \n",
      "mean                                  15.694452   \n",
      "std                                    5.510974   \n",
      "min                                   -0.372054   \n",
      "25%                                   10.988606   \n",
      "50%                                   15.000036   \n",
      "75%                                   18.026190   \n",
      "max                                   43.709931   \n",
      "\n",
      "       secondary_cleaner.state.floatbank5_a_level  \\\n",
      "count                                19438.000000   \n",
      "mean                                  -488.684065   \n",
      "std                                     34.533396   \n",
      "min                                   -797.323986   \n",
      "25%                                   -500.458467   \n",
      "50%                                   -499.802605   \n",
      "75%                                   -498.384187   \n",
      "max                                   -244.483566   \n",
      "\n",
      "       secondary_cleaner.state.floatbank5_b_air  \\\n",
      "count                              19438.000000   \n",
      "mean                                  12.198224   \n",
      "std                                    5.333024   \n",
      "min                                    0.528083   \n",
      "25%                                    8.971105   \n",
      "50%                                   11.019433   \n",
      "75%                                   14.019088   \n",
      "max                                   27.926001   \n",
      "\n",
      "       secondary_cleaner.state.floatbank5_b_level  \\\n",
      "count                                19438.000000   \n",
      "mean                                  -487.149827   \n",
      "std                                     38.347312   \n",
      "min                                   -800.220337   \n",
      "25%                                   -500.129462   \n",
      "50%                                   -499.935317   \n",
      "75%                                   -499.436708   \n",
      "max                                   -137.740004   \n",
      "\n",
      "       secondary_cleaner.state.floatbank6_a_air  \\\n",
      "count                              19437.000000   \n",
      "mean                                  18.959024   \n",
      "std                                    5.550498   \n",
      "min                                   -0.079426   \n",
      "25%                                   14.983037   \n",
      "50%                                   19.960541   \n",
      "75%                                   24.003170   \n",
      "max                                   32.188906   \n",
      "\n",
      "       secondary_cleaner.state.floatbank6_a_level  \n",
      "count                                19438.000000  \n",
      "mean                                  -505.436305  \n",
      "std                                     37.689057  \n",
      "min                                   -809.741464  \n",
      "25%                                   -500.728067  \n",
      "50%                                   -500.048400  \n",
      "75%                                   -499.495378  \n",
      "max                                   -104.427459  \n",
      "\n",
      "[8 rows x 86 columns]\n"
     ]
    }
   ],
   "source": [
    "for data in datasets:\n",
    "    print(data.describe())"
   ]
  },
  {
   "cell_type": "code",
   "execution_count": 7,
   "metadata": {
    "scrolled": true
   },
   "outputs": [
    {
     "name": "stdout",
     "output_type": "stream",
     "text": [
      "Кол-во отсутствующих признаков - 53\n"
     ]
    }
   ],
   "source": [
    "#Признаки в трейне, которых нет в тесте\n",
    "missed_test = set(train_df.columns) - set(test_df.columns)\n",
    "print(f'Кол-во отсутствующих признаков -', len(test_df.dtypes))"
   ]
  },
  {
   "cell_type": "markdown",
   "metadata": {},
   "source": [
    "В тесте отсутвуют признаки output, т.к. они целевые    \n",
    "В тесте отсуствуют признаки calculation для этапа rougher, возможно, эти данные рассчитаем позднее.        "
   ]
  },
  {
   "cell_type": "code",
   "execution_count": 8,
   "metadata": {
    "scrolled": true
   },
   "outputs": [
    {
     "data": {
      "text/plain": [
       "{'final.output.concentrate_ag',\n",
       " 'final.output.concentrate_au',\n",
       " 'final.output.concentrate_pb',\n",
       " 'final.output.concentrate_sol',\n",
       " 'final.output.recovery',\n",
       " 'final.output.tail_ag',\n",
       " 'final.output.tail_au',\n",
       " 'final.output.tail_pb',\n",
       " 'final.output.tail_sol',\n",
       " 'primary_cleaner.output.concentrate_ag',\n",
       " 'primary_cleaner.output.concentrate_au',\n",
       " 'primary_cleaner.output.concentrate_pb',\n",
       " 'primary_cleaner.output.concentrate_sol',\n",
       " 'primary_cleaner.output.tail_ag',\n",
       " 'primary_cleaner.output.tail_au',\n",
       " 'primary_cleaner.output.tail_pb',\n",
       " 'primary_cleaner.output.tail_sol',\n",
       " 'rougher.calculation.au_pb_ratio',\n",
       " 'rougher.calculation.floatbank10_sulfate_to_au_feed',\n",
       " 'rougher.calculation.floatbank11_sulfate_to_au_feed',\n",
       " 'rougher.calculation.sulfate_to_au_concentrate',\n",
       " 'rougher.output.concentrate_ag',\n",
       " 'rougher.output.concentrate_au',\n",
       " 'rougher.output.concentrate_pb',\n",
       " 'rougher.output.concentrate_sol',\n",
       " 'rougher.output.recovery',\n",
       " 'rougher.output.tail_ag',\n",
       " 'rougher.output.tail_au',\n",
       " 'rougher.output.tail_pb',\n",
       " 'rougher.output.tail_sol',\n",
       " 'secondary_cleaner.output.tail_ag',\n",
       " 'secondary_cleaner.output.tail_au',\n",
       " 'secondary_cleaner.output.tail_pb',\n",
       " 'secondary_cleaner.output.tail_sol'}"
      ]
     },
     "execution_count": 8,
     "metadata": {},
     "output_type": "execute_result"
    }
   ],
   "source": [
    "missed_test"
   ]
  },
  {
   "cell_type": "markdown",
   "metadata": {},
   "source": [
    "В этих столбцах указаны состояния продуктов после этапов флотации и очистки, и целевые значения эффективности обогащения."
   ]
  },
  {
   "cell_type": "markdown",
   "metadata": {},
   "source": [
    "• В данных есть пропуски      \n",
    "• У столбца date неверный тип"
   ]
  },
  {
   "cell_type": "code",
   "execution_count": 9,
   "metadata": {},
   "outputs": [],
   "source": [
    "test_df = test_df.merge(full_df.loc[:, ['date','rougher.output.recovery','final.output.recovery']], on='date')"
   ]
  },
  {
   "cell_type": "code",
   "execution_count": 10,
   "metadata": {},
   "outputs": [
    {
     "data": {
      "text/plain": [
       "date                                          datetime64[ns]\n",
       "final.output.concentrate_ag                          float64\n",
       "final.output.concentrate_pb                          float64\n",
       "final.output.concentrate_sol                         float64\n",
       "final.output.concentrate_au                          float64\n",
       "                                                   ...      \n",
       "secondary_cleaner.state.floatbank5_a_level           float64\n",
       "secondary_cleaner.state.floatbank5_b_air             float64\n",
       "secondary_cleaner.state.floatbank5_b_level           float64\n",
       "secondary_cleaner.state.floatbank6_a_air             float64\n",
       "secondary_cleaner.state.floatbank6_a_level           float64\n",
       "Length: 87, dtype: object"
      ]
     },
     "execution_count": 10,
     "metadata": {},
     "output_type": "execute_result"
    }
   ],
   "source": [
    "train_df['date'] = pd.to_datetime(train_df['date'], format='%Y-%m-%d %H:%M:%S')\n",
    "train_df.dtypes"
   ]
  },
  {
   "cell_type": "code",
   "execution_count": 11,
   "metadata": {
    "scrolled": true
   },
   "outputs": [
    {
     "data": {
      "text/plain": [
       "date                                          datetime64[ns]\n",
       "primary_cleaner.input.sulfate                        float64\n",
       "primary_cleaner.input.depressant                     float64\n",
       "primary_cleaner.input.feed_size                      float64\n",
       "primary_cleaner.input.xanthate                       float64\n",
       "primary_cleaner.state.floatbank8_a_air               float64\n",
       "primary_cleaner.state.floatbank8_a_level             float64\n",
       "primary_cleaner.state.floatbank8_b_air               float64\n",
       "primary_cleaner.state.floatbank8_b_level             float64\n",
       "primary_cleaner.state.floatbank8_c_air               float64\n",
       "primary_cleaner.state.floatbank8_c_level             float64\n",
       "primary_cleaner.state.floatbank8_d_air               float64\n",
       "primary_cleaner.state.floatbank8_d_level             float64\n",
       "rougher.input.feed_ag                                float64\n",
       "rougher.input.feed_pb                                float64\n",
       "rougher.input.feed_rate                              float64\n",
       "rougher.input.feed_size                              float64\n",
       "rougher.input.feed_sol                               float64\n",
       "rougher.input.feed_au                                float64\n",
       "rougher.input.floatbank10_sulfate                    float64\n",
       "rougher.input.floatbank10_xanthate                   float64\n",
       "rougher.input.floatbank11_sulfate                    float64\n",
       "rougher.input.floatbank11_xanthate                   float64\n",
       "rougher.state.floatbank10_a_air                      float64\n",
       "rougher.state.floatbank10_a_level                    float64\n",
       "rougher.state.floatbank10_b_air                      float64\n",
       "rougher.state.floatbank10_b_level                    float64\n",
       "rougher.state.floatbank10_c_air                      float64\n",
       "rougher.state.floatbank10_c_level                    float64\n",
       "rougher.state.floatbank10_d_air                      float64\n",
       "rougher.state.floatbank10_d_level                    float64\n",
       "rougher.state.floatbank10_e_air                      float64\n",
       "rougher.state.floatbank10_e_level                    float64\n",
       "rougher.state.floatbank10_f_air                      float64\n",
       "rougher.state.floatbank10_f_level                    float64\n",
       "secondary_cleaner.state.floatbank2_a_air             float64\n",
       "secondary_cleaner.state.floatbank2_a_level           float64\n",
       "secondary_cleaner.state.floatbank2_b_air             float64\n",
       "secondary_cleaner.state.floatbank2_b_level           float64\n",
       "secondary_cleaner.state.floatbank3_a_air             float64\n",
       "secondary_cleaner.state.floatbank3_a_level           float64\n",
       "secondary_cleaner.state.floatbank3_b_air             float64\n",
       "secondary_cleaner.state.floatbank3_b_level           float64\n",
       "secondary_cleaner.state.floatbank4_a_air             float64\n",
       "secondary_cleaner.state.floatbank4_a_level           float64\n",
       "secondary_cleaner.state.floatbank4_b_air             float64\n",
       "secondary_cleaner.state.floatbank4_b_level           float64\n",
       "secondary_cleaner.state.floatbank5_a_air             float64\n",
       "secondary_cleaner.state.floatbank5_a_level           float64\n",
       "secondary_cleaner.state.floatbank5_b_air             float64\n",
       "secondary_cleaner.state.floatbank5_b_level           float64\n",
       "secondary_cleaner.state.floatbank6_a_air             float64\n",
       "secondary_cleaner.state.floatbank6_a_level           float64\n",
       "rougher.output.recovery                              float64\n",
       "final.output.recovery                                float64\n",
       "dtype: object"
      ]
     },
     "execution_count": 11,
     "metadata": {},
     "output_type": "execute_result"
    }
   ],
   "source": [
    "test_df['date'] = pd.to_datetime(test_df['date'], format='%Y-%m-%d %H:%M:%S')\n",
    "test_df.dtypes"
   ]
  },
  {
   "cell_type": "code",
   "execution_count": 12,
   "metadata": {
    "scrolled": true
   },
   "outputs": [
    {
     "data": {
      "text/plain": [
       "date                                          datetime64[ns]\n",
       "final.output.concentrate_ag                          float64\n",
       "final.output.concentrate_pb                          float64\n",
       "final.output.concentrate_sol                         float64\n",
       "final.output.concentrate_au                          float64\n",
       "                                                   ...      \n",
       "secondary_cleaner.state.floatbank5_a_level           float64\n",
       "secondary_cleaner.state.floatbank5_b_air             float64\n",
       "secondary_cleaner.state.floatbank5_b_level           float64\n",
       "secondary_cleaner.state.floatbank6_a_air             float64\n",
       "secondary_cleaner.state.floatbank6_a_level           float64\n",
       "Length: 87, dtype: object"
      ]
     },
     "execution_count": 12,
     "metadata": {},
     "output_type": "execute_result"
    }
   ],
   "source": [
    "full_df['date'] = pd.to_datetime(full_df['date'], format='%Y-%m-%d %H:%M:%S')\n",
    "full_df.dtypes"
   ]
  },
  {
   "cell_type": "code",
   "execution_count": 13,
   "metadata": {},
   "outputs": [],
   "source": [
    "train_df = train_df.drop('date', axis=1)\n",
    "test_df = test_df.drop('date', axis=1)"
   ]
  },
  {
   "cell_type": "code",
   "execution_count": 14,
   "metadata": {},
   "outputs": [
    {
     "data": {
      "text/html": [
       "<div>\n",
       "<style scoped>\n",
       "    .dataframe tbody tr th:only-of-type {\n",
       "        vertical-align: middle;\n",
       "    }\n",
       "\n",
       "    .dataframe tbody tr th {\n",
       "        vertical-align: top;\n",
       "    }\n",
       "\n",
       "    .dataframe thead th {\n",
       "        text-align: right;\n",
       "    }\n",
       "</style>\n",
       "<table border=\"1\" class=\"dataframe\">\n",
       "  <thead>\n",
       "    <tr style=\"text-align: right;\">\n",
       "      <th></th>\n",
       "      <th>final.output.concentrate_ag</th>\n",
       "      <th>final.output.concentrate_pb</th>\n",
       "      <th>final.output.concentrate_sol</th>\n",
       "      <th>final.output.concentrate_au</th>\n",
       "      <th>final.output.recovery</th>\n",
       "      <th>final.output.tail_ag</th>\n",
       "      <th>final.output.tail_pb</th>\n",
       "      <th>final.output.tail_sol</th>\n",
       "      <th>final.output.tail_au</th>\n",
       "      <th>primary_cleaner.input.sulfate</th>\n",
       "      <th>...</th>\n",
       "      <th>secondary_cleaner.state.floatbank4_a_air</th>\n",
       "      <th>secondary_cleaner.state.floatbank4_a_level</th>\n",
       "      <th>secondary_cleaner.state.floatbank4_b_air</th>\n",
       "      <th>secondary_cleaner.state.floatbank4_b_level</th>\n",
       "      <th>secondary_cleaner.state.floatbank5_a_air</th>\n",
       "      <th>secondary_cleaner.state.floatbank5_a_level</th>\n",
       "      <th>secondary_cleaner.state.floatbank5_b_air</th>\n",
       "      <th>secondary_cleaner.state.floatbank5_b_level</th>\n",
       "      <th>secondary_cleaner.state.floatbank6_a_air</th>\n",
       "      <th>secondary_cleaner.state.floatbank6_a_level</th>\n",
       "    </tr>\n",
       "  </thead>\n",
       "  <tbody>\n",
       "    <tr>\n",
       "      <th>2869</th>\n",
       "      <td>NaN</td>\n",
       "      <td>NaN</td>\n",
       "      <td>10.188231</td>\n",
       "      <td>29.020814</td>\n",
       "      <td>63.725335</td>\n",
       "      <td>7.387115</td>\n",
       "      <td>2.072266</td>\n",
       "      <td>16.982505</td>\n",
       "      <td>2.908215</td>\n",
       "      <td>83.915221</td>\n",
       "      <td>...</td>\n",
       "      <td>8.985634</td>\n",
       "      <td>-548.815307</td>\n",
       "      <td>7.011665</td>\n",
       "      <td>-537.231749</td>\n",
       "      <td>8.031238</td>\n",
       "      <td>-550.028193</td>\n",
       "      <td>5.984399</td>\n",
       "      <td>-549.63625</td>\n",
       "      <td>18.01224</td>\n",
       "      <td>-551.325271</td>\n",
       "    </tr>\n",
       "  </tbody>\n",
       "</table>\n",
       "<p>1 rows × 86 columns</p>\n",
       "</div>"
      ],
      "text/plain": [
       "      final.output.concentrate_ag  final.output.concentrate_pb  \\\n",
       "2869                          NaN                          NaN   \n",
       "\n",
       "      final.output.concentrate_sol  final.output.concentrate_au  \\\n",
       "2869                     10.188231                    29.020814   \n",
       "\n",
       "      final.output.recovery  final.output.tail_ag  final.output.tail_pb  \\\n",
       "2869              63.725335              7.387115              2.072266   \n",
       "\n",
       "      final.output.tail_sol  final.output.tail_au  \\\n",
       "2869              16.982505              2.908215   \n",
       "\n",
       "      primary_cleaner.input.sulfate  ...  \\\n",
       "2869                      83.915221  ...   \n",
       "\n",
       "      secondary_cleaner.state.floatbank4_a_air  \\\n",
       "2869                                  8.985634   \n",
       "\n",
       "      secondary_cleaner.state.floatbank4_a_level  \\\n",
       "2869                                 -548.815307   \n",
       "\n",
       "      secondary_cleaner.state.floatbank4_b_air  \\\n",
       "2869                                  7.011665   \n",
       "\n",
       "      secondary_cleaner.state.floatbank4_b_level  \\\n",
       "2869                                 -537.231749   \n",
       "\n",
       "      secondary_cleaner.state.floatbank5_a_air  \\\n",
       "2869                                  8.031238   \n",
       "\n",
       "      secondary_cleaner.state.floatbank5_a_level  \\\n",
       "2869                                 -550.028193   \n",
       "\n",
       "      secondary_cleaner.state.floatbank5_b_air  \\\n",
       "2869                                  5.984399   \n",
       "\n",
       "      secondary_cleaner.state.floatbank5_b_level  \\\n",
       "2869                                  -549.63625   \n",
       "\n",
       "      secondary_cleaner.state.floatbank6_a_air  \\\n",
       "2869                                  18.01224   \n",
       "\n",
       "      secondary_cleaner.state.floatbank6_a_level  \n",
       "2869                                 -551.325271  \n",
       "\n",
       "[1 rows x 86 columns]"
      ]
     },
     "execution_count": 14,
     "metadata": {},
     "output_type": "execute_result"
    }
   ],
   "source": [
    "train_df[train_df['final.output.concentrate_pb'].isna()].head(5)"
   ]
  },
  {
   "cell_type": "markdown",
   "metadata": {},
   "source": [
    "Проверим кол-во явных дубликатов"
   ]
  },
  {
   "cell_type": "code",
   "execution_count": 15,
   "metadata": {
    "scrolled": true
   },
   "outputs": [
    {
     "name": "stdout",
     "output_type": "stream",
     "text": [
      "\n",
      "Количество явных дубликатов в 1-м датасете -  0\n",
      "\n",
      "Количество явных дубликатов в 2-м датасете -  0\n",
      "\n",
      "Количество явных дубликатов в 3-м датасете -  0\n"
     ]
    }
   ],
   "source": [
    "count = 0\n",
    "for data in datasets:\n",
    "    count += 1\n",
    "    print(f'\\nКоличество явных дубликатов в {count}-м датасете - ', data.duplicated().sum())"
   ]
  },
  {
   "cell_type": "code",
   "execution_count": 16,
   "metadata": {
    "scrolled": true
   },
   "outputs": [
    {
     "name": "stdout",
     "output_type": "stream",
     "text": [
      "\n",
      "Размер тренировочной выборки - (14149, 86) и количество строк без пропусков - 14149\n",
      "\n",
      "Размер тестовой выборки - (5290, 54) и количество строк без пропусков - 5290\n",
      "\n",
      "Размер исходной выборки - (19439, 87) и количество строк без пропусков - 19439\n"
     ]
    }
   ],
   "source": [
    "#Избавимся от пропусков\n",
    "shape_train_df_before = train_df.shape\n",
    "shape_test_df_before = test_df.shape\n",
    "shape_full_df_before = full_df.shape\n",
    "train_df = train_df.ffill(axis=0)\n",
    "test_df = test_df.ffill(axis=0)\n",
    "full_df = full_df.ffill(axis=0)\n",
    "print(f'\\nРазмер тренировочной выборки - {shape_train_df_before} и количество строк без пропусков - {len(train_df.notna())}')\n",
    "print(f'\\nРазмер тестовой выборки - {shape_test_df_before} и количество строк без пропусков - {len(test_df.notna())}')\n",
    "print(f'\\nРазмер исходной выборки - {shape_full_df_before} и количество строк без пропусков - {len(full_df.notna())}')"
   ]
  },
  {
   "cell_type": "code",
   "execution_count": 17,
   "metadata": {},
   "outputs": [
    {
     "name": "stdout",
     "output_type": "stream",
     "text": [
      "\n",
      "Количество отсутствующих признаков - 34\n"
     ]
    }
   ],
   "source": [
    "print('\\nКоличество отсутствующих признаков -', len(missed_test))"
   ]
  },
  {
   "cell_type": "markdown",
   "metadata": {},
   "source": [
    "Проверка формулы эффективности обогащения на обучающей выборке для признака rougher.output.recovery     \n",
    "\n",
    "recovery = ((C(F-T))/(FC-T))*100%, где:    \n",
    "С - доля золота концентрате после фильтрации/очитски     \n",
    "F - доля золота в сырье/концентрате до флотации/очистки    \n",
    "T - доля золота в отвальных хвостах после фильтрации/очистки    \n",
    "\n",
    "C - rougher.output.concentrate_au    \n",
    "F - rougher.input.feed_au    \n",
    "T - rougher.output.tail_au    \n",
    "Значение нужного признака - rougher.output.recovery    "
   ]
  },
  {
   "cell_type": "markdown",
   "metadata": {},
   "source": [
    "Проверим расчет recovery в train:    \n",
    "•  Вычислим recovery из сырых значений, проверим сколько из них совпало с предоставленными    \n",
    "•  Вычислим MAE для рассчитанных значений и исходых "
   ]
  },
  {
   "cell_type": "code",
   "execution_count": 18,
   "metadata": {},
   "outputs": [],
   "source": [
    "c = train_df['rougher.output.concentrate_au']\n",
    "f = train_df['rougher.input.feed_au']\n",
    "t = train_df['rougher.output.tail_au']\n",
    "recovery = ((c*(f-t))/(f*(c-t))) * 100"
   ]
  },
  {
   "cell_type": "code",
   "execution_count": 19,
   "metadata": {
    "scrolled": true
   },
   "outputs": [
    {
     "name": "stdout",
     "output_type": "stream",
     "text": [
      "MAE - 9.73512347450521e-15\n"
     ]
    }
   ],
   "source": [
    "#MAE покажет как сильно предсказания отличаются от истинных значений\n",
    "print(f'MAE -', mean_absolute_error(train_df['rougher.output.recovery'], recovery))"
   ]
  },
  {
   "cell_type": "markdown",
   "metadata": {},
   "source": [
    "Полученное значение говорит о том, что рассчеты верны"
   ]
  },
  {
   "cell_type": "markdown",
   "metadata": {},
   "source": [
    "## Анализ данных"
   ]
  },
  {
   "cell_type": "code",
   "execution_count": 20,
   "metadata": {},
   "outputs": [
    {
     "data": {
      "image/png": "[encoded data removed]",
      "text/plain": [
       "<Figure size 1440x432 with 4 Axes>"
      ]
     },
     "metadata": {
      "needs_background": "light"
     },
     "output_type": "display_data"
    },
    {
     "data": {
      "image/png": "[encoded data removed]",
      "text/plain": [
       "<Figure size 1440x432 with 4 Axes>"
      ]
     },
     "metadata": {
      "needs_background": "light"
     },
     "output_type": "display_data"
    }
   ],
   "source": [
    "process = ['rougher.input.feed',\n",
    "           'rougher.output.concentrate',\n",
    "           'primary_cleaner.output.concentrate',\n",
    "           'final.output.concentrate']\n",
    "\n",
    "process_tail = ['rougher.input.feed',\n",
    "                'rougher.output.tail',\n",
    "                'primary_cleaner.output.tail',\n",
    "                'final.output.tail']\n",
    "\n",
    "metals = ['au', 'ag', 'pb']\n",
    "\n",
    "fig, axs = plt.subplots(1, len(process), figsize=(20, 6), constrained_layout=True)\n",
    "fig.suptitle('Концентрация металлов на выходе по стадиям', fontsize=24)\n",
    "\n",
    "for stage, ax in zip(process, axs):\n",
    "    ax.set_title(stage)\n",
    "    for metal in metals:        \n",
    "        cols = train_df.columns.str.contains(stage+'_'+metal)\n",
    "        sns_ax = sns.distplot(train_df.loc[:, cols].dropna(), label=metal, ax=ax)    \n",
    "plt.legend()\n",
    "\n",
    "fig, axs = plt.subplots(1, 4, figsize=(20, 6), constrained_layout=True)\n",
    "fig.suptitle('Концентрация металлов в хвосте по стадиям', fontsize=24)\n",
    "\n",
    "for stage, ax in zip(process_tail, axs):\n",
    "    ax.set_title(stage)\n",
    "    for metal in metals:        \n",
    "        cols = train_df.columns.str.contains(stage+'_'+metal)\n",
    "        sns_ax = sns.distplot(train_df.loc[:, cols].dropna(), label=metal, ax=ax)   \n",
    "plt.legend()\n",
    "\n",
    "plt.show()"
   ]
  },
  {
   "cell_type": "markdown",
   "metadata": {},
   "source": [
    "• В процессе очистки, концентрация металла возрастает     \n",
    "• Большое кол-во нулевых значений    "
   ]
  },
  {
   "cell_type": "code",
   "execution_count": 21,
   "metadata": {
    "scrolled": true
   },
   "outputs": [
    {
     "data": {
      "image/png": "[encoded data removed]",
      "text/plain": [
       "<Figure size 1440x432 with 3 Axes>"
      ]
     },
     "metadata": {
      "needs_background": "light"
     },
     "output_type": "display_data"
    },
    {
     "data": {
      "image/png": "[encoded data removed]",
      "text/plain": [
       "<Figure size 1440x432 with 3 Axes>"
      ]
     },
     "metadata": {
      "needs_background": "light"
     },
     "output_type": "display_data"
    }
   ],
   "source": [
    "# Концентрация металлов на выходе и в хвосте для разных процессов\n",
    "fig, axs = plt.subplots(1, len(metals), figsize=(20, 6), constrained_layout=True)\n",
    "fig.suptitle('Концентрация металлов в продукции', fontsize=24)\n",
    "\n",
    "for metal, ax in zip(metals, axs):\n",
    "    ax.set_title(metal)\n",
    "    for stage in process:\n",
    "        cols = train_df.columns.str.contains(stage+'_'+metal)\n",
    "        sns_ax = sns.distplot(train_df.loc[:, cols].dropna(), label=stage, ax=ax)   \n",
    "plt.legend()\n",
    "\n",
    "fig, axs = plt.subplots(1, len(metals), figsize=(20, 6), constrained_layout=True)\n",
    "fig.suptitle('Концентрация металлов в хвосте', fontsize=24)\n",
    "\n",
    "for metal, ax in zip(metals, axs):\n",
    "    ax.set_title(metal)\n",
    "    for stage in process_tail:\n",
    "        cols = train_df.columns.str.contains(stage+'_'+metal)\n",
    "        sns_ax = sns.distplot(train_df.loc[:, cols].dropna(), label=stage, ax=ax)   \n",
    "plt.legend()\n",
    "\n",
    "plt.show()"
   ]
  },
  {
   "cell_type": "markdown",
   "metadata": {},
   "source": [
    "• По мере очистки растет концентрация золота    \n",
    "• Наибольшая концентрация золота в хвосте после флотации    \n"
   ]
  },
  {
   "cell_type": "code",
   "execution_count": 22,
   "metadata": {},
   "outputs": [],
   "source": [
    "#Посчитаем распределение гранул сырья\n",
    "def show_feed_size_hist(step, title):\n",
    "    x0 = train_df[f'{step}.input.feed_size'].dropna()\n",
    "    x1 = test_df[f'{step}.input.feed_size'].dropna()\n",
    "    plt.figure(figsize=(13, 6))\n",
    "    sns.distplot(x0, kde_kws = {\"label\":\"Train\"})\n",
    "    sns.distplot(x1, kde_kws = {\"label\":\"Test\"})\n",
    "    plt.xlabel('Размер гранул')\n",
    "    plt.ylabel('Количество наблюдений')\n",
    "    plt.title(label=f'Распределение размеров гранул сырья для {title}', fontsize=15)\n",
    "    plt.legend()"
   ]
  },
  {
   "cell_type": "code",
   "execution_count": 23,
   "metadata": {
    "scrolled": false
   },
   "outputs": [
    {
     "data": {
      "image/png": "[encoded data removed]",
      "text/plain": [
       "<Figure size 936x432 with 1 Axes>"
      ]
     },
     "metadata": {
      "needs_background": "light"
     },
     "output_type": "display_data"
    }
   ],
   "source": [
    "show_feed_size_hist('rougher', 'флотации')"
   ]
  },
  {
   "cell_type": "code",
   "execution_count": 24,
   "metadata": {
    "scrolled": false
   },
   "outputs": [
    {
     "data": {
      "image/png": "[encoded data removed]",
      "text/plain": [
       "<Figure size 936x432 with 1 Axes>"
      ]
     },
     "metadata": {
      "needs_background": "light"
     },
     "output_type": "display_data"
    }
   ],
   "source": [
    "show_feed_size_hist('primary_cleaner', 'очистки')"
   ]
  },
  {
   "cell_type": "markdown",
   "metadata": {},
   "source": [
    "Размеры гранул распределены одинаково на двух выборках"
   ]
  },
  {
   "cell_type": "markdown",
   "metadata": {},
   "source": [
    "# Посчитаем суммарную концентрацию всех веществ на этапах очистки"
   ]
  },
  {
   "cell_type": "code",
   "execution_count": 25,
   "metadata": {},
   "outputs": [],
   "source": [
    "metals = ['au', 'ag', 'pb', 'sol']\n",
    "stages = ['rougher.input.feed_',\n",
    "         'rougher.output.concentrate_', \n",
    "         'final.output.concentrate_']\n",
    "\n",
    "for stage in stages:\n",
    "    full_df[stage] = full_df[stage + metals[0]] + full_df[stage + metals[1]] + full_df[stage + metals[2]] + full_df[stage + metals[3]]\n"
   ]
  },
  {
   "cell_type": "code",
   "execution_count": 26,
   "metadata": {
    "scrolled": false
   },
   "outputs": [
    {
     "data": {
      "text/plain": [
       "<matplotlib.legend.Legend at 0x7fc88c1e2400>"
      ]
     },
     "execution_count": 26,
     "metadata": {},
     "output_type": "execute_result"
    },
    {
     "data": {
      "image/png": "[encoded data removed]",
      "text/plain": [
       "<Figure size 864x432 with 1 Axes>"
      ]
     },
     "metadata": {
      "needs_background": "light"
     },
     "output_type": "display_data"
    }
   ],
   "source": [
    "x0 = full_df['rougher.input.feed_'].dropna()\n",
    "x1 = full_df['rougher.output.concentrate_'].dropna()\n",
    "x2 = full_df['final.output.concentrate_'].dropna()\n",
    "\n",
    "plt.figure(figsize=(12, 6))\n",
    "\n",
    "sns.distplot(x0, kde_kws= {\"label\": \"Сырье\"})\n",
    "sns.distplot(x1, kde_kws= {\"label\": \"Черновой\"})\n",
    "sns.distplot(x2, kde_kws= {\"label\": \"Финальный этап\"})\n",
    "\n",
    "\n",
    "plt.xlabel('Концентрация')\n",
    "plt.ylabel('Количество наблюдений')\n",
    "plt.title(label='Концентрация всех веществ на разных стадиях', fontsize=15)\n",
    "plt.legend()"
   ]
  },
  {
   "cell_type": "markdown",
   "metadata": {},
   "source": [
    "После флотации увеличивается концентрация веществ"
   ]
  },
  {
   "cell_type": "code",
   "execution_count": 27,
   "metadata": {},
   "outputs": [],
   "source": [
    "train_df = train_df[(train_df['rougher.output.concentrate_au'] != 0) & (train_df['rougher.output.concentrate_ag'] != 0) & (train_df['rougher.output.concentrate_pb'] != 0) & (train_df['rougher.output.concentrate_sol'] != 0)]\n",
    "train_df = train_df[(train_df['final.output.concentrate_au'] != 0) & (train_df['final.output.concentrate_ag'] != 0) & (train_df['final.output.concentrate_pb'] != 0) & (train_df['final.output.concentrate_sol'] != 0)]\n",
    "\n",
    "full_df = full_df[(full_df['rougher.output.concentrate_au'] != 0) & (full_df['rougher.output.concentrate_ag'] != 0) & (full_df['rougher.output.concentrate_pb'] != 0) & (full_df['rougher.output.concentrate_sol'] != 0)]\n",
    "full_df = full_df[(full_df['final.output.concentrate_au'] != 0) & (full_df['final.output.concentrate_ag'] != 0) & (full_df['final.output.concentrate_pb'] != 0) & (full_df['final.output.concentrate_sol'] != 0)]"
   ]
  },
  {
   "cell_type": "markdown",
   "metadata": {},
   "source": [
    "## Модель"
   ]
  },
  {
   "cell_type": "markdown",
   "metadata": {},
   "source": [
    "sMAPE     \n",
    "• target_rougher - целевой признак(эффективность обогащения чернового концентрата)        \n",
    "• predict_rougher - предсказание эффективности обогащения чернового концентрата    \n",
    "• target_final - целевой признак(эффективность обогащения финального концентрата)     \n",
    "• predict_final - предсказание эффективности обогащения финального концентрата     "
   ]
  },
  {
   "cell_type": "code",
   "execution_count": 40,
   "metadata": {},
   "outputs": [
    {
     "data": {
      "text/plain": [
       "{'final.output.concentrate_ag',\n",
       " 'final.output.concentrate_au',\n",
       " 'final.output.concentrate_pb',\n",
       " 'final.output.concentrate_sol',\n",
       " 'final.output.tail_ag',\n",
       " 'final.output.tail_au',\n",
       " 'final.output.tail_pb',\n",
       " 'final.output.tail_sol',\n",
       " 'primary_cleaner.output.concentrate_ag',\n",
       " 'primary_cleaner.output.concentrate_au',\n",
       " 'primary_cleaner.output.concentrate_pb',\n",
       " 'primary_cleaner.output.concentrate_sol',\n",
       " 'primary_cleaner.output.tail_ag',\n",
       " 'primary_cleaner.output.tail_au',\n",
       " 'primary_cleaner.output.tail_pb',\n",
       " 'primary_cleaner.output.tail_sol',\n",
       " 'rougher.calculation.au_pb_ratio',\n",
       " 'rougher.calculation.floatbank10_sulfate_to_au_feed',\n",
       " 'rougher.calculation.floatbank11_sulfate_to_au_feed',\n",
       " 'rougher.calculation.sulfate_to_au_concentrate',\n",
       " 'rougher.output.concentrate_ag',\n",
       " 'rougher.output.concentrate_au',\n",
       " 'rougher.output.concentrate_pb',\n",
       " 'rougher.output.concentrate_sol',\n",
       " 'rougher.output.tail_ag',\n",
       " 'rougher.output.tail_au',\n",
       " 'rougher.output.tail_pb',\n",
       " 'rougher.output.tail_sol',\n",
       " 'secondary_cleaner.output.tail_ag',\n",
       " 'secondary_cleaner.output.tail_au',\n",
       " 'secondary_cleaner.output.tail_pb',\n",
       " 'secondary_cleaner.output.tail_sol'}"
      ]
     },
     "execution_count": 40,
     "metadata": {},
     "output_type": "execute_result"
    }
   ],
   "source": [
    "signs_for_delete_without_target_signs = missed_test - set(['rougher.output.recovery','final.output.recovery'])\n",
    "signs_for_delete_without_target_signs"
   ]
  },
  {
   "cell_type": "code",
   "execution_count": 41,
   "metadata": {},
   "outputs": [
    {
     "name": "stdout",
     "output_type": "stream",
     "text": [
      "\n",
      "Количество признаков для удаления из тренировочной выборки - 32\n"
     ]
    }
   ],
   "source": [
    "print('\\nКоличество признаков для удаления из тренировочной выборки -', len(signs_for_delete_without_target_signs))"
   ]
  },
  {
   "cell_type": "code",
   "execution_count": 42,
   "metadata": {},
   "outputs": [],
   "source": [
    "train_df = train_df.drop(columns=signs_for_delete_without_target_signs, axis=1)"
   ]
  },
  {
   "cell_type": "code",
   "execution_count": 43,
   "metadata": {
    "scrolled": true
   },
   "outputs": [
    {
     "name": "stdout",
     "output_type": "stream",
     "text": [
      "<class 'pandas.core.frame.DataFrame'>\n",
      "Int64Index: 13792 entries, 0 to 14148\n",
      "Data columns (total 54 columns):\n",
      " #   Column                                      Non-Null Count  Dtype  \n",
      "---  ------                                      --------------  -----  \n",
      " 0   final.output.recovery                       13792 non-null  float64\n",
      " 1   primary_cleaner.input.sulfate               13792 non-null  float64\n",
      " 2   primary_cleaner.input.depressant            13792 non-null  float64\n",
      " 3   primary_cleaner.input.feed_size             13792 non-null  float64\n",
      " 4   primary_cleaner.input.xanthate              13792 non-null  float64\n",
      " 5   primary_cleaner.state.floatbank8_a_air      13792 non-null  float64\n",
      " 6   primary_cleaner.state.floatbank8_a_level    13792 non-null  float64\n",
      " 7   primary_cleaner.state.floatbank8_b_air      13792 non-null  float64\n",
      " 8   primary_cleaner.state.floatbank8_b_level    13792 non-null  float64\n",
      " 9   primary_cleaner.state.floatbank8_c_air      13792 non-null  float64\n",
      " 10  primary_cleaner.state.floatbank8_c_level    13792 non-null  float64\n",
      " 11  primary_cleaner.state.floatbank8_d_air      13792 non-null  float64\n",
      " 12  primary_cleaner.state.floatbank8_d_level    13792 non-null  float64\n",
      " 13  rougher.input.feed_ag                       13792 non-null  float64\n",
      " 14  rougher.input.feed_pb                       13792 non-null  float64\n",
      " 15  rougher.input.feed_rate                     13792 non-null  float64\n",
      " 16  rougher.input.feed_size                     13792 non-null  float64\n",
      " 17  rougher.input.feed_sol                      13792 non-null  float64\n",
      " 18  rougher.input.feed_au                       13792 non-null  float64\n",
      " 19  rougher.input.floatbank10_sulfate           13792 non-null  float64\n",
      " 20  rougher.input.floatbank10_xanthate          13792 non-null  float64\n",
      " 21  rougher.input.floatbank11_sulfate           13792 non-null  float64\n",
      " 22  rougher.input.floatbank11_xanthate          13792 non-null  float64\n",
      " 23  rougher.output.recovery                     13792 non-null  float64\n",
      " 24  rougher.state.floatbank10_a_air             13792 non-null  float64\n",
      " 25  rougher.state.floatbank10_a_level           13792 non-null  float64\n",
      " 26  rougher.state.floatbank10_b_air             13792 non-null  float64\n",
      " 27  rougher.state.floatbank10_b_level           13792 non-null  float64\n",
      " 28  rougher.state.floatbank10_c_air             13792 non-null  float64\n",
      " 29  rougher.state.floatbank10_c_level           13792 non-null  float64\n",
      " 30  rougher.state.floatbank10_d_air             13792 non-null  float64\n",
      " 31  rougher.state.floatbank10_d_level           13792 non-null  float64\n",
      " 32  rougher.state.floatbank10_e_air             13792 non-null  float64\n",
      " 33  rougher.state.floatbank10_e_level           13792 non-null  float64\n",
      " 34  rougher.state.floatbank10_f_air             13792 non-null  float64\n",
      " 35  rougher.state.floatbank10_f_level           13792 non-null  float64\n",
      " 36  secondary_cleaner.state.floatbank2_a_air    13792 non-null  float64\n",
      " 37  secondary_cleaner.state.floatbank2_a_level  13792 non-null  float64\n",
      " 38  secondary_cleaner.state.floatbank2_b_air    13792 non-null  float64\n",
      " 39  secondary_cleaner.state.floatbank2_b_level  13792 non-null  float64\n",
      " 40  secondary_cleaner.state.floatbank3_a_air    13792 non-null  float64\n",
      " 41  secondary_cleaner.state.floatbank3_a_level  13792 non-null  float64\n",
      " 42  secondary_cleaner.state.floatbank3_b_air    13792 non-null  float64\n",
      " 43  secondary_cleaner.state.floatbank3_b_level  13792 non-null  float64\n",
      " 44  secondary_cleaner.state.floatbank4_a_air    13792 non-null  float64\n",
      " 45  secondary_cleaner.state.floatbank4_a_level  13792 non-null  float64\n",
      " 46  secondary_cleaner.state.floatbank4_b_air    13792 non-null  float64\n",
      " 47  secondary_cleaner.state.floatbank4_b_level  13792 non-null  float64\n",
      " 48  secondary_cleaner.state.floatbank5_a_air    13792 non-null  float64\n",
      " 49  secondary_cleaner.state.floatbank5_a_level  13792 non-null  float64\n",
      " 50  secondary_cleaner.state.floatbank5_b_air    13792 non-null  float64\n",
      " 51  secondary_cleaner.state.floatbank5_b_level  13792 non-null  float64\n",
      " 52  secondary_cleaner.state.floatbank6_a_air    13792 non-null  float64\n",
      " 53  secondary_cleaner.state.floatbank6_a_level  13792 non-null  float64\n",
      "dtypes: float64(54)\n",
      "memory usage: 5.8 MB\n"
     ]
    }
   ],
   "source": [
    "train_df.info()"
   ]
  },
  {
   "cell_type": "code",
   "execution_count": 44,
   "metadata": {},
   "outputs": [],
   "source": [
    "def get_smape(target, predict):\n",
    "    smape = (1/len(target))*np.sum((np.abs(target - predict))/( (np.abs(target)+np.abs(predict))/2))*100\n",
    "    return smape"
   ]
  },
  {
   "cell_type": "code",
   "execution_count": 45,
   "metadata": {},
   "outputs": [],
   "source": [
    "smape_scorer = make_scorer(get_smape, greater_is_better = False)"
   ]
  },
  {
   "cell_type": "code",
   "execution_count": 46,
   "metadata": {},
   "outputs": [],
   "source": [
    "def get_final_smape(rougher, final):\n",
    "    final = 0.25*rougher+0.75*final\n",
    "    return final"
   ]
  },
  {
   "cell_type": "code",
   "execution_count": 47,
   "metadata": {},
   "outputs": [],
   "source": [
    "features_for_train_df = train_df.drop(['rougher.output.recovery','final.output.recovery'], axis=1)\n",
    "target_for_rougher_on_train_df = train_df['rougher.output.recovery']\n",
    "target_for_final_on_train_df = train_df['final.output.recovery']"
   ]
  },
  {
   "cell_type": "code",
   "execution_count": 48,
   "metadata": {},
   "outputs": [],
   "source": [
    "dct_with_scores = {}"
   ]
  },
  {
   "cell_type": "code",
   "execution_count": 49,
   "metadata": {},
   "outputs": [
    {
     "name": "stdout",
     "output_type": "stream",
     "text": [
      "CPU times: user 744 ms, sys: 1.51 s, total: 2.26 s\n",
      "Wall time: 2.21 s\n"
     ]
    }
   ],
   "source": [
    "%%time\n",
    "model_lr_rougher = LinearRegression(normalize=True)\n",
    "smape_rougher = cross_val_score(model_lr_rougher,\n",
    "                          features_for_train_df,\n",
    "                          target_for_rougher_on_train_df,\n",
    "                          scoring=smape_scorer,\n",
    "                          cv=5)\n",
    "final_smape_rougher = smape_rougher.mean()\n",
    "model_lr_final = LinearRegression(normalize=True)\n",
    "smape_final = cross_val_score(model_lr_final,\n",
    "                        features_for_train_df,\n",
    "                        target_for_final_on_train_df,\n",
    "                        scoring=smape_scorer,\n",
    "                        cv=5)\n",
    "\n",
    "final_smape_final = smape_final.mean()\n",
    "result_smape = get_final_smape(final_smape_rougher, final_smape_final)*(-1)\n",
    "dct_with_scores['LR'] = [result_smape]"
   ]
  },
  {
   "cell_type": "code",
   "execution_count": 50,
   "metadata": {},
   "outputs": [
    {
     "name": "stdout",
     "output_type": "stream",
     "text": [
      "CPU times: user 21.8 s, sys: 271 ms, total: 22.1 s\n",
      "Wall time: 22.1 s\n"
     ]
    }
   ],
   "source": [
    "%%time\n",
    "best_result_for_dt = 100\n",
    "best_param_for_dt = 0\n",
    "for n in range(1, 10, 1):\n",
    "    model_dt_rougher = DecisionTreeRegressor(max_depth=n, random_state=RND)\n",
    "    smape_rougher = cross_val_score(model_dt_rougher,\n",
    "                              features_for_train_df,\n",
    "                              target_for_rougher_on_train_df,\n",
    "                              scoring=smape_scorer,\n",
    "                              cv=5)\n",
    "    final_smape_rougher = smape_rougher.mean()\n",
    "\n",
    "    model_dt_final = DecisionTreeRegressor(max_depth=n, random_state=RND)\n",
    "    smape_final = cross_val_score(model_dt_final, \n",
    "                                  features_for_train_df,\n",
    "                                  target_for_final_on_train_df,\n",
    "                                  scoring=smape_scorer,\n",
    "                                  cv=5)\n",
    "    final_smape_final = smape_final.mean()\n",
    "    result_smape = get_final_smape(final_smape_rougher, final_smape_final)*(-1)\n",
    "    if result_smape < best_result_for_dt:\n",
    "        best_result_for_dt = result_smape\n",
    "        best_param_for_dt = n\n",
    "dct_with_scores['DT'] = [best_result_for_dt, best_param_for_dt]"
   ]
  },
  {
   "cell_type": "code",
   "execution_count": 51,
   "metadata": {},
   "outputs": [
    {
     "name": "stdout",
     "output_type": "stream",
     "text": [
      "CPU times: user 11min 59s, sys: 668 ms, total: 12min\n",
      "Wall time: 12min 1s\n"
     ]
    }
   ],
   "source": [
    "%%time\n",
    "best_model_for_rf = 100\n",
    "best_param_for_rf = 0\n",
    "for n in range(10, 100, 30):\n",
    "    for d in range(2,10,2):\n",
    "        model_rf_rougher = RandomForestRegressor(n_estimators=n, max_depth=d, random_state=RND)\n",
    "        smape_rougher = cross_val_score(model_rf_rougher,\n",
    "                                  features_for_train_df,\n",
    "                                  target_for_rougher_on_train_df,\n",
    "                                  scoring=smape_scorer,\n",
    "                                  cv=5)\n",
    "        final_smape_rougher = smape_rougher.mean()\n",
    "\n",
    "        model_rf_final = RandomForestRegressor(n_estimators=n, max_depth=d, random_state=RND)\n",
    "        smape_final = cross_val_score(model_rf_final,\n",
    "                                features_for_train_df,\n",
    "                                target_for_final_on_train_df,\n",
    "                                scoring=smape_scorer,\n",
    "                                cv=5)\n",
    "        final_smape_final = smape_final.mean()\n",
    "        result_smape = get_final_smape(final_smape_rougher, final_smape_final)*(-1)\n",
    "        if result_smape < best_model_for_rf:\n",
    "            best_model_for_rf = result_smape\n",
    "            best_param_for_rf = [n,d]\n",
    "dct_with_scores['RF'] = [best_model_for_rf, best_param_for_rf]"
   ]
  },
  {
   "cell_type": "code",
   "execution_count": 52,
   "metadata": {},
   "outputs": [
    {
     "name": "stdout",
     "output_type": "stream",
     "text": [
      "{'LR': [10.059261443482775], 'DT': [8.925785452030949, 3], 'RF': [8.529258429567625, [10, 4]]}\n"
     ]
    }
   ],
   "source": [
    "print(dct_with_scores)"
   ]
  },
  {
   "cell_type": "code",
   "execution_count": 53,
   "metadata": {
    "scrolled": true
   },
   "outputs": [
    {
     "name": "stdout",
     "output_type": "stream",
     "text": [
      "\n",
      "МОДЕЛЬ LR С РЕЗУЛЬТАТОМ - 10.059261443482775\n",
      "\n",
      "МОДЕЛЬ DT С РЕЗУЛЬТАТОМ - 8.925785452030949\n",
      "\n",
      "МОДЕЛЬ RF С РЕЗУЛЬТАТОМ - 8.529258429567625\n"
     ]
    }
   ],
   "source": [
    "for key in dct_with_scores.keys():\n",
    "    print(f'\\nМОДЕЛЬ {str(key).upper()} С РЕЗУЛЬТАТОМ - {dct_with_scores[key][0]}')"
   ]
  },
  {
   "cell_type": "markdown",
   "metadata": {},
   "source": [
    "Лучшая модель - Random Forest Regressor      \n",
    "Используем ее для тестовой выборки     "
   ]
  },
  {
   "cell_type": "code",
   "execution_count": 54,
   "metadata": {},
   "outputs": [
    {
     "name": "stdout",
     "output_type": "stream",
     "text": [
      "\n",
      "ЛУЧШИЕ ПАРАМЕТРЫ ДЛЯ МОДЕЛИ RF: N_ESTIMATORS - 10, MAX_DEPTH - 4\n"
     ]
    }
   ],
   "source": [
    "print('\\nЛУЧШИЕ ПАРАМЕТРЫ ДЛЯ МОДЕЛИ RF: N_ESTIMATORS - {}, MAX_DEPTH - {}'.format(dct_with_scores['RF'][1][0], dct_with_scores['RF'][1][1]))"
   ]
  },
  {
   "cell_type": "code",
   "execution_count": 55,
   "metadata": {},
   "outputs": [],
   "source": [
    "features_for_test_df = test_df.drop(['rougher.output.recovery','final.output.recovery'], axis=1)\n",
    "target_for_rougher_on_test_df = test_df['rougher.output.recovery']\n",
    "target_for_final_on_test_df = test_df['final.output.recovery']"
   ]
  },
  {
   "cell_type": "code",
   "execution_count": 56,
   "metadata": {},
   "outputs": [],
   "source": [
    "model_for_test_rougher = RandomForestRegressor(n_estimators=10, max_depth=4, random_state=RND)\n",
    "model_for_test_rougher.fit(features_for_train_df, target_for_rougher_on_train_df)\n",
    "predicted_rougher = model_for_test_rougher.predict(features_for_test_df)\n",
    "\n",
    "model_for_test_final = RandomForestRegressor(n_estimators=10, max_depth=4, random_state=RND)\n",
    "model_for_test_final.fit(features_for_train_df, target_for_final_on_train_df)\n",
    "predicted_final = model_for_test_final.predict(features_for_test_df)\n",
    "\n",
    "smape_for_test_rougher = get_smape(target_for_rougher_on_test_df, predicted_rougher)\n",
    "smape_for_test_final = get_smape(target_for_final_on_test_df, predicted_final)\n",
    "final_smape_for_test = get_final_smape(smape_for_test_rougher, smape_for_test_final)"
   ]
  },
  {
   "cell_type": "code",
   "execution_count": 57,
   "metadata": {
    "scrolled": true
   },
   "outputs": [
    {
     "name": "stdout",
     "output_type": "stream",
     "text": [
      "\n",
      "SMAPE ДЛЯ ТЕСТОВОЙ ВЫБОРКИ СОСТАВЛЯЕТ - 9.711643135703492\n"
     ]
    }
   ],
   "source": [
    "print(f'\\nSMAPE ДЛЯ ТЕСТОВОЙ ВЫБОРКИ СОСТАВЛЯЕТ - {final_smape_for_test}')"
   ]
  },
  {
   "cell_type": "markdown",
   "metadata": {},
   "source": [
    "Проверим полученную модель на адекватность"
   ]
  },
  {
   "cell_type": "code",
   "execution_count": 58,
   "metadata": {},
   "outputs": [],
   "source": [
    "dummy_regr_for_rougher = DummyRegressor(strategy=\"mean\")\n",
    "dummy_regr_for_final = DummyRegressor(strategy=\"mean\")\n",
    "\n",
    "dummy_regr_for_rougher.fit(features_for_train_df, target_for_rougher_on_train_df)\n",
    "dummy_regr_for_final.fit(features_for_train_df, target_for_final_on_train_df)\n",
    "\n",
    "dummy_predicted_rougher = dummy_regr_for_rougher.predict(features_for_test_df)\n",
    "dummy_predicted_final = dummy_regr_for_final.predict(features_for_test_df)\n",
    "\n",
    "smape_for_const_rougher = get_smape(target_for_rougher_on_test_df, dummy_predicted_rougher)\n",
    "smape_for_const_final = get_smape(target_for_final_on_test_df, dummy_predicted_final)\n",
    "\n",
    "final_smape_for_const = get_final_smape(smape_for_const_rougher, smape_for_const_final)"
   ]
  },
  {
   "cell_type": "code",
   "execution_count": 59,
   "metadata": {
    "scrolled": true
   },
   "outputs": [
    {
     "name": "stdout",
     "output_type": "stream",
     "text": [
      "\n",
      "ПОКАЗАТЕЛЬ SMAPE ДЛЯ КОНСТАНТНОЙ МОДЕЛИ - 9.82146839182027\n"
     ]
    }
   ],
   "source": [
    "print(f'\\nПОКАЗАТЕЛЬ SMAPE ДЛЯ КОНСТАНТНОЙ МОДЕЛИ - {final_smape_for_const}')"
   ]
  },
  {
   "cell_type": "markdown",
   "metadata": {},
   "source": [
    "Модель проверена на адекватность, ее показатель SMAPE выше показателя константной модели"
   ]
  },
  {
   "cell_type": "markdown",
   "metadata": {},
   "source": [
    "# Вывод"
   ]
  },
  {
   "cell_type": "markdown",
   "metadata": {},
   "source": [
    "• Лучшая модель - Random Forest Regressor     \n",
    "• Модель адекватна. Ее показатель SMAPE намного меньше чем показатель константной модели  \n",
    "• Были удалены аномальные значения"
   ]
  },
  {
   "cell_type": "markdown",
   "metadata": {},
   "source": [
    "## Чек-лист готовности проекта"
   ]
  },
  {
   "cell_type": "markdown",
   "metadata": {},
   "source": [
    "- [x]  Jupyter Notebook открыт\n",
    "- [x]  Весь код выполняется без ошибок\n",
    "- [x]  Ячейки с кодом расположены в порядке выполнения\n",
    "- [x]  Выполнен шаг 1: данные подготовлены\n",
    "    - [x]  Проверена формула вычисления эффективности обогащения\n",
    "    - [x]  Проанализированы признаки, недоступные в тестовой выборке\n",
    "    - [x]  Проведена предобработка данных\n",
    "- [x]  Выполнен шаг 2: данные проанализированы\n",
    "    - [x]  Исследовано изменение концентрации элементов на каждом этапе\n",
    "    - [x]  Проанализированы распределения размеров гранул на обучающей и тестовой выборках\n",
    "    - [x]  Исследованы суммарные концентрации\n",
    "- [x]  Выполнен шаг 3: построена модель прогнозирования\n",
    "    - [x]  Написана функция для вычисления итогового *sMAPE*\n",
    "    - [x]  Обучено и проверено несколько моделей\n",
    "    - [x]  Выбрана лучшая модель, её качество проверено на тестовой выборке"
   ]
  }
 ],
 "metadata": {
  "ExecuteTimeLog": [
   {
    "duration": 1786,
    "start_time": "2022-09-21T12:29:07.561Z"
   },
   {
    "duration": 1291,
    "start_time": "2022-09-21T12:29:15.428Z"
   },
   {
    "duration": 6,
    "start_time": "2022-09-21T12:29:20.214Z"
   },
   {
    "duration": 714,
    "start_time": "2022-09-21T12:29:21.242Z"
   },
   {
    "duration": 80,
    "start_time": "2022-09-21T12:30:12.432Z"
   },
   {
    "duration": 6,
    "start_time": "2022-09-21T12:30:41.818Z"
   },
   {
    "duration": 717,
    "start_time": "2022-09-21T12:30:49.180Z"
   },
   {
    "duration": 5,
    "start_time": "2022-09-21T12:38:08.864Z"
   },
   {
    "duration": 2304,
    "start_time": "2022-09-21T12:38:31.541Z"
   },
   {
    "duration": 37,
    "start_time": "2022-09-21T12:38:49.742Z"
   },
   {
    "duration": 1006,
    "start_time": "2022-09-21T12:40:16.218Z"
   },
   {
    "duration": 42,
    "start_time": "2022-09-21T12:40:37.716Z"
   },
   {
    "duration": 253,
    "start_time": "2022-09-21T12:42:14.685Z"
   },
   {
    "duration": 39,
    "start_time": "2022-09-21T12:42:38.045Z"
   },
   {
    "duration": 37,
    "start_time": "2022-09-21T12:42:44.365Z"
   },
   {
    "duration": 94,
    "start_time": "2022-09-21T12:44:28.777Z"
   },
   {
    "duration": 632,
    "start_time": "2022-09-21T12:44:39.317Z"
   },
   {
    "duration": 11,
    "start_time": "2022-09-21T12:46:26.790Z"
   },
   {
    "duration": 16,
    "start_time": "2022-09-21T12:52:13.402Z"
   },
   {
    "duration": 14,
    "start_time": "2022-09-21T12:52:38.299Z"
   },
   {
    "duration": 11,
    "start_time": "2022-09-21T12:52:57.858Z"
   },
   {
    "duration": 9,
    "start_time": "2022-09-21T12:56:43.644Z"
   },
   {
    "duration": 293,
    "start_time": "2022-09-21T12:56:57.344Z"
   },
   {
    "duration": 274,
    "start_time": "2022-09-21T12:57:06.358Z"
   },
   {
    "duration": 26,
    "start_time": "2022-09-21T13:45:34.922Z"
   },
   {
    "duration": 27,
    "start_time": "2022-09-21T13:46:36.826Z"
   },
   {
    "duration": 8,
    "start_time": "2022-09-21T13:49:56.696Z"
   },
   {
    "duration": 4,
    "start_time": "2022-09-21T13:51:53.982Z"
   },
   {
    "duration": 84,
    "start_time": "2022-09-21T13:53:20.373Z"
   },
   {
    "duration": 3,
    "start_time": "2022-09-21T13:54:08.406Z"
   },
   {
    "duration": 4,
    "start_time": "2022-09-21T13:54:15.373Z"
   },
   {
    "duration": 4,
    "start_time": "2022-09-21T13:55:35.275Z"
   },
   {
    "duration": 5,
    "start_time": "2022-09-21T13:58:34.701Z"
   },
   {
    "duration": 12,
    "start_time": "2022-09-21T13:58:43.214Z"
   },
   {
    "duration": 5,
    "start_time": "2022-09-21T14:01:06.434Z"
   },
   {
    "duration": 1541,
    "start_time": "2022-09-21T14:01:07.033Z"
   },
   {
    "duration": 10,
    "start_time": "2022-09-21T14:01:41.581Z"
   },
   {
    "duration": 1570,
    "start_time": "2022-09-21T14:01:43.731Z"
   },
   {
    "duration": 5,
    "start_time": "2022-09-21T14:01:50.002Z"
   },
   {
    "duration": 1426,
    "start_time": "2022-09-21T14:01:54.602Z"
   },
   {
    "duration": 1415,
    "start_time": "2022-09-21T14:02:30.022Z"
   },
   {
    "duration": 11,
    "start_time": "2022-09-21T14:03:34.585Z"
   },
   {
    "duration": 1631,
    "start_time": "2022-09-21T14:03:35.031Z"
   },
   {
    "duration": 7,
    "start_time": "2022-09-21T14:03:48.558Z"
   },
   {
    "duration": 1567,
    "start_time": "2022-09-21T14:03:49.300Z"
   },
   {
    "duration": 7,
    "start_time": "2022-09-21T14:05:04.103Z"
   },
   {
    "duration": 1437,
    "start_time": "2022-09-21T14:05:05.108Z"
   },
   {
    "duration": 5,
    "start_time": "2022-09-21T14:05:28.218Z"
   },
   {
    "duration": 1620,
    "start_time": "2022-09-21T14:05:28.966Z"
   },
   {
    "duration": 5,
    "start_time": "2022-09-21T14:08:51.477Z"
   },
   {
    "duration": 1394,
    "start_time": "2022-09-21T14:08:52.526Z"
   },
   {
    "duration": 10340,
    "start_time": "2022-09-21T14:10:51.111Z"
   },
   {
    "duration": 10602,
    "start_time": "2022-09-21T14:15:03.774Z"
   },
   {
    "duration": 5,
    "start_time": "2022-09-21T14:17:41.410Z"
   },
   {
    "duration": 27,
    "start_time": "2022-09-21T14:17:50.174Z"
   },
   {
    "duration": 4,
    "start_time": "2022-09-21T14:18:12.322Z"
   },
   {
    "duration": 611,
    "start_time": "2022-09-21T14:18:13.905Z"
   },
   {
    "duration": 5,
    "start_time": "2022-09-21T14:19:12.432Z"
   },
   {
    "duration": 534,
    "start_time": "2022-09-21T14:19:14.005Z"
   },
   {
    "duration": 5,
    "start_time": "2022-09-21T14:19:24.327Z"
   },
   {
    "duration": 716,
    "start_time": "2022-09-21T14:19:24.903Z"
   },
   {
    "duration": 5,
    "start_time": "2022-09-21T14:20:09.666Z"
   },
   {
    "duration": 545,
    "start_time": "2022-09-21T14:20:11.970Z"
   },
   {
    "duration": 5,
    "start_time": "2022-09-21T14:22:16.704Z"
   },
   {
    "duration": 152,
    "start_time": "2022-09-21T14:22:17.379Z"
   },
   {
    "duration": 6,
    "start_time": "2022-09-21T14:22:26.363Z"
   },
   {
    "duration": 571,
    "start_time": "2022-09-21T14:22:28.479Z"
   },
   {
    "duration": 5,
    "start_time": "2022-09-21T14:24:37.637Z"
   },
   {
    "duration": 596,
    "start_time": "2022-09-21T14:24:38.605Z"
   },
   {
    "duration": 5,
    "start_time": "2022-09-21T14:24:55.380Z"
   },
   {
    "duration": 536,
    "start_time": "2022-09-21T14:24:56.479Z"
   },
   {
    "duration": 86,
    "start_time": "2022-09-21T14:26:41.222Z"
   },
   {
    "duration": 721,
    "start_time": "2022-09-21T14:26:42.434Z"
   },
   {
    "duration": 114,
    "start_time": "2022-09-21T14:27:04.233Z"
   },
   {
    "duration": 4,
    "start_time": "2022-09-21T14:27:16.515Z"
   },
   {
    "duration": 25,
    "start_time": "2022-09-21T14:27:18.076Z"
   },
   {
    "duration": 5,
    "start_time": "2022-09-21T14:29:38.676Z"
   },
   {
    "duration": 484,
    "start_time": "2022-09-21T14:29:39.419Z"
   },
   {
    "duration": 4,
    "start_time": "2022-09-21T14:29:54.376Z"
   },
   {
    "duration": 544,
    "start_time": "2022-09-21T14:29:54.676Z"
   },
   {
    "duration": 4,
    "start_time": "2022-09-21T14:31:27.722Z"
   },
   {
    "duration": 611,
    "start_time": "2022-09-21T14:31:28.182Z"
   },
   {
    "duration": 5,
    "start_time": "2022-09-21T14:32:06.080Z"
   },
   {
    "duration": 591,
    "start_time": "2022-09-21T14:32:06.573Z"
   },
   {
    "duration": 4,
    "start_time": "2022-09-21T14:32:14.569Z"
   },
   {
    "duration": 723,
    "start_time": "2022-09-21T14:32:17.613Z"
   },
   {
    "duration": 593,
    "start_time": "2022-09-21T14:32:33.775Z"
   },
   {
    "duration": 12,
    "start_time": "2022-09-21T14:35:39.262Z"
   },
   {
    "duration": 12,
    "start_time": "2022-09-21T14:35:51.312Z"
   },
   {
    "duration": 13,
    "start_time": "2022-09-21T14:36:24.476Z"
   },
   {
    "duration": 1305,
    "start_time": "2022-09-21T14:36:34.016Z"
   },
   {
    "duration": 1146,
    "start_time": "2022-09-21T14:37:44.587Z"
   },
   {
    "duration": 1304,
    "start_time": "2022-09-21T14:37:52.618Z"
   },
   {
    "duration": 10,
    "start_time": "2022-09-21T14:43:15.173Z"
   },
   {
    "duration": 25,
    "start_time": "2022-09-21T14:43:36.617Z"
   },
   {
    "duration": 4,
    "start_time": "2022-09-21T14:45:27.143Z"
   },
   {
    "duration": 9,
    "start_time": "2022-09-21T15:52:40.220Z"
   },
   {
    "duration": 14,
    "start_time": "2022-09-21T15:55:08.777Z"
   },
   {
    "duration": 12,
    "start_time": "2022-09-21T15:55:22.375Z"
   },
   {
    "duration": 3751,
    "start_time": "2022-09-21T15:56:20.355Z"
   },
   {
    "duration": 33501,
    "start_time": "2022-09-21T15:58:16.532Z"
   },
   {
    "duration": 12,
    "start_time": "2022-09-21T16:02:05.756Z"
   },
   {
    "duration": 5055,
    "start_time": "2022-09-21T16:02:14.922Z"
   },
   {
    "duration": 8,
    "start_time": "2022-09-21T16:03:23.217Z"
   },
   {
    "duration": 9,
    "start_time": "2022-09-21T16:03:23.621Z"
   },
   {
    "duration": 4413,
    "start_time": "2022-09-21T16:03:24.917Z"
   },
   {
    "duration": 34302,
    "start_time": "2022-09-21T16:03:29.475Z"
   },
   {
    "duration": 5182,
    "start_time": "2022-09-21T16:04:09.056Z"
   },
   {
    "duration": 5,
    "start_time": "2022-09-21T16:04:17.516Z"
   },
   {
    "duration": 821,
    "start_time": "2022-09-21T16:04:17.523Z"
   },
   {
    "duration": 53,
    "start_time": "2022-09-21T16:04:18.346Z"
   },
   {
    "duration": 250,
    "start_time": "2022-09-21T16:04:18.402Z"
   },
   {
    "duration": 36,
    "start_time": "2022-09-21T16:04:18.654Z"
   },
   {
    "duration": 623,
    "start_time": "2022-09-21T16:04:18.697Z"
   },
   {
    "duration": 4,
    "start_time": "2022-09-21T16:04:19.324Z"
   },
   {
    "duration": 13,
    "start_time": "2022-09-21T16:04:19.330Z"
   },
   {
    "duration": 14,
    "start_time": "2022-09-21T16:04:19.345Z"
   },
   {
    "duration": 37,
    "start_time": "2022-09-21T16:04:19.361Z"
   },
   {
    "duration": 288,
    "start_time": "2022-09-21T16:04:19.400Z"
   },
   {
    "duration": 30,
    "start_time": "2022-09-21T16:04:19.696Z"
   },
   {
    "duration": 18,
    "start_time": "2022-09-21T16:04:19.729Z"
   },
   {
    "duration": 12,
    "start_time": "2022-09-21T16:04:19.750Z"
   },
   {
    "duration": 10594,
    "start_time": "2022-09-21T16:04:19.764Z"
   },
   {
    "duration": 10638,
    "start_time": "2022-09-21T16:04:30.360Z"
   },
   {
    "duration": 8,
    "start_time": "2022-09-21T16:04:41.011Z"
   },
   {
    "duration": 722,
    "start_time": "2022-09-21T16:04:41.027Z"
   },
   {
    "duration": 815,
    "start_time": "2022-09-21T16:04:41.751Z"
   },
   {
    "duration": 9,
    "start_time": "2022-09-21T16:04:42.568Z"
   },
   {
    "duration": 1654,
    "start_time": "2022-09-21T16:04:42.578Z"
   },
   {
    "duration": 6,
    "start_time": "2022-09-21T16:04:44.234Z"
   },
   {
    "duration": 21,
    "start_time": "2022-09-21T16:04:44.242Z"
   },
   {
    "duration": 3859,
    "start_time": "2022-09-21T16:04:44.265Z"
   },
   {
    "duration": 33740,
    "start_time": "2022-09-21T16:04:48.127Z"
   },
   {
    "duration": 5025,
    "start_time": "2022-09-21T16:05:21.870Z"
   },
   {
    "duration": 44956,
    "start_time": "2022-09-21T16:08:03.248Z"
   },
   {
    "duration": 10,
    "start_time": "2022-09-21T16:10:45.859Z"
   },
   {
    "duration": 18,
    "start_time": "2022-09-21T16:10:58.467Z"
   },
   {
    "duration": 24,
    "start_time": "2022-09-21T16:11:07.148Z"
   },
   {
    "duration": 8,
    "start_time": "2022-09-21T16:11:42.110Z"
   },
   {
    "duration": 85,
    "start_time": "2022-09-21T16:12:27.514Z"
   },
   {
    "duration": 7,
    "start_time": "2022-09-21T16:12:48.252Z"
   },
   {
    "duration": 3,
    "start_time": "2022-09-21T16:24:31.980Z"
   },
   {
    "duration": 3,
    "start_time": "2022-09-21T16:24:32.384Z"
   },
   {
    "duration": 3,
    "start_time": "2022-09-21T16:24:32.659Z"
   },
   {
    "duration": 3,
    "start_time": "2022-09-21T16:24:33.730Z"
   },
   {
    "duration": 3,
    "start_time": "2022-09-21T16:24:34.363Z"
   },
   {
    "duration": 4,
    "start_time": "2022-09-21T16:24:34.948Z"
   },
   {
    "duration": 7,
    "start_time": "2022-09-21T16:24:35.498Z"
   },
   {
    "duration": 5,
    "start_time": "2022-09-21T16:24:36.001Z"
   },
   {
    "duration": 3,
    "start_time": "2022-09-21T16:24:36.516Z"
   },
   {
    "duration": 2,
    "start_time": "2022-09-21T16:24:37.311Z"
   },
   {
    "duration": 32,
    "start_time": "2022-09-21T16:28:58.274Z"
   },
   {
    "duration": 9,
    "start_time": "2022-09-21T16:29:26.423Z"
   },
   {
    "duration": 10,
    "start_time": "2022-09-21T16:30:50.414Z"
   },
   {
    "duration": 34,
    "start_time": "2022-09-21T16:31:26.302Z"
   },
   {
    "duration": 33,
    "start_time": "2022-09-21T16:32:15.446Z"
   },
   {
    "duration": 6,
    "start_time": "2022-09-21T16:34:01.268Z"
   },
   {
    "duration": 7,
    "start_time": "2022-09-21T16:34:03.736Z"
   },
   {
    "duration": 30,
    "start_time": "2022-09-21T16:34:04.706Z"
   },
   {
    "duration": 4,
    "start_time": "2022-09-21T16:34:11.907Z"
   },
   {
    "duration": 774,
    "start_time": "2022-09-21T16:34:11.914Z"
   },
   {
    "duration": 48,
    "start_time": "2022-09-21T16:34:12.691Z"
   },
   {
    "duration": 237,
    "start_time": "2022-09-21T16:34:12.741Z"
   },
   {
    "duration": 38,
    "start_time": "2022-09-21T16:34:12.981Z"
   },
   {
    "duration": 598,
    "start_time": "2022-09-21T16:34:13.020Z"
   },
   {
    "duration": 4,
    "start_time": "2022-09-21T16:34:13.620Z"
   },
   {
    "duration": 15,
    "start_time": "2022-09-21T16:34:13.625Z"
   },
   {
    "duration": 7,
    "start_time": "2022-09-21T16:34:13.641Z"
   },
   {
    "duration": 13,
    "start_time": "2022-09-21T16:34:13.649Z"
   },
   {
    "duration": 256,
    "start_time": "2022-09-21T16:34:13.664Z"
   },
   {
    "duration": 21,
    "start_time": "2022-09-21T16:34:13.922Z"
   },
   {
    "duration": 6,
    "start_time": "2022-09-21T16:34:13.944Z"
   },
   {
    "duration": 6,
    "start_time": "2022-09-21T16:34:13.952Z"
   },
   {
    "duration": 9822,
    "start_time": "2022-09-21T16:34:13.959Z"
   },
   {
    "duration": 9843,
    "start_time": "2022-09-21T16:34:23.782Z"
   },
   {
    "duration": 4,
    "start_time": "2022-09-21T16:34:33.627Z"
   },
   {
    "duration": 609,
    "start_time": "2022-09-21T16:34:33.633Z"
   },
   {
    "duration": 596,
    "start_time": "2022-09-21T16:34:34.245Z"
   },
   {
    "duration": 8,
    "start_time": "2022-09-21T16:34:34.843Z"
   },
   {
    "duration": 1429,
    "start_time": "2022-09-21T16:34:34.852Z"
   },
   {
    "duration": 13,
    "start_time": "2022-09-21T16:34:36.283Z"
   },
   {
    "duration": 13,
    "start_time": "2022-09-21T16:34:36.306Z"
   },
   {
    "duration": 2670,
    "start_time": "2022-09-21T16:34:36.320Z"
   },
   {
    "duration": 32334,
    "start_time": "2022-09-21T16:34:38.992Z"
   },
   {
    "duration": 4939,
    "start_time": "2022-09-21T16:35:11.328Z"
   },
   {
    "duration": 44148,
    "start_time": "2022-09-21T16:35:16.269Z"
   },
   {
    "duration": 174,
    "start_time": "2022-09-21T16:36:00.419Z"
   },
   {
    "duration": 10,
    "start_time": "2022-09-21T16:36:00.595Z"
   },
   {
    "duration": 190,
    "start_time": "2022-09-21T16:36:00.612Z"
   },
   {
    "duration": 122,
    "start_time": "2022-09-21T16:36:00.804Z"
   },
   {
    "duration": 6,
    "start_time": "2022-09-21T16:37:10.268Z"
   },
   {
    "duration": 5,
    "start_time": "2022-09-21T16:37:14.022Z"
   },
   {
    "duration": 1007,
    "start_time": "2022-09-21T16:37:14.031Z"
   },
   {
    "duration": 76,
    "start_time": "2022-09-21T16:37:15.041Z"
   },
   {
    "duration": 328,
    "start_time": "2022-09-21T16:37:15.119Z"
   },
   {
    "duration": 57,
    "start_time": "2022-09-21T16:37:15.450Z"
   },
   {
    "duration": 817,
    "start_time": "2022-09-21T16:37:15.518Z"
   },
   {
    "duration": 6,
    "start_time": "2022-09-21T16:37:16.338Z"
   },
   {
    "duration": 28,
    "start_time": "2022-09-21T16:37:16.346Z"
   },
   {
    "duration": 18,
    "start_time": "2022-09-21T16:37:16.377Z"
   },
   {
    "duration": 51,
    "start_time": "2022-09-21T16:37:16.398Z"
   },
   {
    "duration": 322,
    "start_time": "2022-09-21T16:37:16.452Z"
   },
   {
    "duration": 38,
    "start_time": "2022-09-21T16:37:16.776Z"
   },
   {
    "duration": 14,
    "start_time": "2022-09-21T16:37:16.816Z"
   },
   {
    "duration": 23,
    "start_time": "2022-09-21T16:37:16.834Z"
   },
   {
    "duration": 10777,
    "start_time": "2022-09-21T16:37:16.860Z"
   },
   {
    "duration": 10358,
    "start_time": "2022-09-21T16:37:27.639Z"
   },
   {
    "duration": 9,
    "start_time": "2022-09-21T16:37:38.004Z"
   },
   {
    "duration": 694,
    "start_time": "2022-09-21T16:37:38.016Z"
   },
   {
    "duration": 810,
    "start_time": "2022-09-21T16:37:38.713Z"
   },
   {
    "duration": 9,
    "start_time": "2022-09-21T16:37:39.525Z"
   },
   {
    "duration": 1414,
    "start_time": "2022-09-21T16:37:39.537Z"
   },
   {
    "duration": 7,
    "start_time": "2022-09-21T16:37:40.953Z"
   },
   {
    "duration": 16,
    "start_time": "2022-09-21T16:37:40.962Z"
   },
   {
    "duration": 4311,
    "start_time": "2022-09-21T16:37:40.981Z"
   },
   {
    "duration": 35014,
    "start_time": "2022-09-21T16:37:45.298Z"
   },
   {
    "duration": 4910,
    "start_time": "2022-09-21T16:38:20.315Z"
   },
   {
    "duration": 42720,
    "start_time": "2022-09-21T16:38:25.227Z"
   },
   {
    "duration": 60,
    "start_time": "2022-09-21T16:39:07.950Z"
   },
   {
    "duration": 96,
    "start_time": "2022-09-21T16:39:08.012Z"
   },
   {
    "duration": 201,
    "start_time": "2022-09-21T16:39:08.110Z"
   },
   {
    "duration": 98,
    "start_time": "2022-09-21T16:39:08.314Z"
   },
   {
    "duration": 9,
    "start_time": "2022-09-21T16:44:52.228Z"
   },
   {
    "duration": 19,
    "start_time": "2022-09-21T16:45:01.860Z"
   },
   {
    "duration": 13,
    "start_time": "2022-09-21T16:45:37.659Z"
   },
   {
    "duration": 16,
    "start_time": "2022-09-21T16:45:55.277Z"
   },
   {
    "duration": 17,
    "start_time": "2022-09-21T16:46:08.497Z"
   },
   {
    "duration": 3,
    "start_time": "2022-09-21T16:52:19.606Z"
   },
   {
    "duration": 8,
    "start_time": "2022-09-21T16:52:22.641Z"
   },
   {
    "duration": 1748,
    "start_time": "2022-09-21T16:52:23.353Z"
   },
   {
    "duration": 4,
    "start_time": "2022-09-21T16:53:04.531Z"
   },
   {
    "duration": 702,
    "start_time": "2022-09-21T16:53:04.537Z"
   },
   {
    "duration": 59,
    "start_time": "2022-09-21T16:53:05.242Z"
   },
   {
    "duration": 252,
    "start_time": "2022-09-21T16:53:05.302Z"
   },
   {
    "duration": 38,
    "start_time": "2022-09-21T16:53:05.556Z"
   },
   {
    "duration": 582,
    "start_time": "2022-09-21T16:53:05.596Z"
   },
   {
    "duration": 25,
    "start_time": "2022-09-21T16:53:06.180Z"
   },
   {
    "duration": 12,
    "start_time": "2022-09-21T16:53:06.207Z"
   },
   {
    "duration": 8,
    "start_time": "2022-09-21T16:53:06.222Z"
   },
   {
    "duration": 16,
    "start_time": "2022-09-21T16:53:06.232Z"
   },
   {
    "duration": 29,
    "start_time": "2022-09-21T16:53:06.250Z"
   },
   {
    "duration": 266,
    "start_time": "2022-09-21T16:53:06.296Z"
   },
   {
    "duration": 28,
    "start_time": "2022-09-21T16:53:06.564Z"
   },
   {
    "duration": 14,
    "start_time": "2022-09-21T16:53:06.596Z"
   },
   {
    "duration": 6,
    "start_time": "2022-09-21T16:53:06.612Z"
   },
   {
    "duration": 10061,
    "start_time": "2022-09-21T16:53:06.619Z"
   },
   {
    "duration": 10096,
    "start_time": "2022-09-21T16:53:16.682Z"
   },
   {
    "duration": 19,
    "start_time": "2022-09-21T16:53:26.780Z"
   },
   {
    "duration": 602,
    "start_time": "2022-09-21T16:53:26.805Z"
   },
   {
    "duration": 652,
    "start_time": "2022-09-21T16:53:27.409Z"
   },
   {
    "duration": 9,
    "start_time": "2022-09-21T16:53:28.063Z"
   },
   {
    "duration": 1203,
    "start_time": "2022-09-21T16:53:28.074Z"
   },
   {
    "duration": 5,
    "start_time": "2022-09-21T16:53:29.278Z"
   },
   {
    "duration": 6,
    "start_time": "2022-09-21T16:53:29.294Z"
   },
   {
    "duration": 9,
    "start_time": "2022-09-21T16:53:29.305Z"
   },
   {
    "duration": 3190,
    "start_time": "2022-09-21T16:53:29.316Z"
   },
   {
    "duration": 31510,
    "start_time": "2022-09-21T16:53:32.510Z"
   },
   {
    "duration": 4962,
    "start_time": "2022-09-21T16:54:04.022Z"
   },
   {
    "duration": 42363,
    "start_time": "2022-09-21T16:54:08.988Z"
   },
   {
    "duration": 48,
    "start_time": "2022-09-21T16:54:51.353Z"
   },
   {
    "duration": 93,
    "start_time": "2022-09-21T16:54:51.404Z"
   },
   {
    "duration": 94,
    "start_time": "2022-09-21T16:54:51.499Z"
   },
   {
    "duration": 117,
    "start_time": "2022-09-21T16:54:51.595Z"
   },
   {
    "duration": 4,
    "start_time": "2022-09-21T16:56:17.413Z"
   },
   {
    "duration": 1565,
    "start_time": "2022-09-21T16:56:18.537Z"
   },
   {
    "duration": 11936,
    "start_time": "2022-09-21T16:56:59.856Z"
   },
   {
    "duration": 4,
    "start_time": "2022-09-21T16:57:57.675Z"
   },
   {
    "duration": 689,
    "start_time": "2022-09-21T16:57:57.682Z"
   },
   {
    "duration": 283,
    "start_time": "2022-09-21T16:57:58.372Z"
   },
   {
    "duration": 242,
    "start_time": "2022-09-21T16:57:58.657Z"
   },
   {
    "duration": 29,
    "start_time": "2022-09-21T16:57:58.906Z"
   },
   {
    "duration": 606,
    "start_time": "2022-09-21T16:57:58.936Z"
   },
   {
    "duration": 4,
    "start_time": "2022-09-21T16:57:59.544Z"
   },
   {
    "duration": 16,
    "start_time": "2022-09-21T16:57:59.550Z"
   },
   {
    "duration": 5,
    "start_time": "2022-09-21T16:57:59.568Z"
   },
   {
    "duration": 26,
    "start_time": "2022-09-21T16:57:59.575Z"
   },
   {
    "duration": 27,
    "start_time": "2022-09-21T16:57:59.603Z"
   },
   {
    "duration": 245,
    "start_time": "2022-09-21T16:57:59.631Z"
   },
   {
    "duration": 30,
    "start_time": "2022-09-21T16:57:59.878Z"
   },
   {
    "duration": 5,
    "start_time": "2022-09-21T16:57:59.912Z"
   },
   {
    "duration": 10,
    "start_time": "2022-09-21T16:57:59.919Z"
   },
   {
    "duration": 10709,
    "start_time": "2022-09-21T16:57:59.931Z"
   },
   {
    "duration": 10485,
    "start_time": "2022-09-21T16:58:10.642Z"
   },
   {
    "duration": 4,
    "start_time": "2022-09-21T16:58:21.128Z"
   },
   {
    "duration": 624,
    "start_time": "2022-09-21T16:58:21.134Z"
   },
   {
    "duration": 649,
    "start_time": "2022-09-21T16:58:21.761Z"
   },
   {
    "duration": 10,
    "start_time": "2022-09-21T16:58:22.412Z"
   },
   {
    "duration": 1249,
    "start_time": "2022-09-21T16:58:22.423Z"
   },
   {
    "duration": 4,
    "start_time": "2022-09-21T16:58:23.674Z"
   },
   {
    "duration": 25,
    "start_time": "2022-09-21T16:58:23.680Z"
   },
   {
    "duration": 14,
    "start_time": "2022-09-21T16:58:23.707Z"
   },
   {
    "duration": 6,
    "start_time": "2022-09-21T16:58:23.722Z"
   },
   {
    "duration": 2262,
    "start_time": "2022-09-21T16:58:23.729Z"
   },
   {
    "duration": 31829,
    "start_time": "2022-09-21T16:58:25.993Z"
   },
   {
    "duration": 4835,
    "start_time": "2022-09-21T16:58:57.824Z"
   },
   {
    "duration": 40953,
    "start_time": "2022-09-21T16:59:02.660Z"
   },
   {
    "duration": 26,
    "start_time": "2022-09-21T16:59:43.614Z"
   },
   {
    "duration": 12,
    "start_time": "2022-09-21T16:59:43.694Z"
   },
   {
    "duration": 101,
    "start_time": "2022-09-21T16:59:43.708Z"
   },
   {
    "duration": 110,
    "start_time": "2022-09-21T16:59:43.889Z"
   },
   {
    "duration": 1894,
    "start_time": "2022-09-21T20:39:18.739Z"
   },
   {
    "duration": 768,
    "start_time": "2022-09-21T20:39:20.635Z"
   },
   {
    "duration": 57,
    "start_time": "2022-09-21T20:39:21.405Z"
   },
   {
    "duration": 258,
    "start_time": "2022-09-21T20:39:21.464Z"
   },
   {
    "duration": 46,
    "start_time": "2022-09-21T20:39:21.732Z"
   },
   {
    "duration": 667,
    "start_time": "2022-09-21T20:39:21.780Z"
   },
   {
    "duration": 4,
    "start_time": "2022-09-21T20:39:22.449Z"
   },
   {
    "duration": 31,
    "start_time": "2022-09-21T20:39:22.455Z"
   },
   {
    "duration": 16,
    "start_time": "2022-09-21T20:39:22.488Z"
   },
   {
    "duration": 43,
    "start_time": "2022-09-21T20:39:22.506Z"
   },
   {
    "duration": 23,
    "start_time": "2022-09-21T20:39:22.551Z"
   },
   {
    "duration": 282,
    "start_time": "2022-09-21T20:39:22.577Z"
   },
   {
    "duration": 27,
    "start_time": "2022-09-21T20:39:22.862Z"
   },
   {
    "duration": 6,
    "start_time": "2022-09-21T20:39:22.892Z"
   },
   {
    "duration": 43,
    "start_time": "2022-09-21T20:39:22.900Z"
   },
   {
    "duration": 854,
    "start_time": "2022-09-21T20:39:22.945Z"
   },
   {
    "duration": 0,
    "start_time": "2022-09-21T20:39:23.801Z"
   },
   {
    "duration": 0,
    "start_time": "2022-09-21T20:39:23.802Z"
   },
   {
    "duration": 0,
    "start_time": "2022-09-21T20:39:23.804Z"
   },
   {
    "duration": 0,
    "start_time": "2022-09-21T20:39:23.805Z"
   },
   {
    "duration": 0,
    "start_time": "2022-09-21T20:39:23.806Z"
   },
   {
    "duration": 0,
    "start_time": "2022-09-21T20:39:23.807Z"
   },
   {
    "duration": 0,
    "start_time": "2022-09-21T20:39:23.821Z"
   },
   {
    "duration": 0,
    "start_time": "2022-09-21T20:39:23.821Z"
   },
   {
    "duration": 0,
    "start_time": "2022-09-21T20:39:23.822Z"
   },
   {
    "duration": 0,
    "start_time": "2022-09-21T20:39:23.823Z"
   },
   {
    "duration": 0,
    "start_time": "2022-09-21T20:39:23.824Z"
   },
   {
    "duration": 0,
    "start_time": "2022-09-21T20:39:23.825Z"
   },
   {
    "duration": 1,
    "start_time": "2022-09-21T20:39:23.825Z"
   },
   {
    "duration": 0,
    "start_time": "2022-09-21T20:39:23.829Z"
   },
   {
    "duration": 0,
    "start_time": "2022-09-21T20:39:23.830Z"
   },
   {
    "duration": 0,
    "start_time": "2022-09-21T20:39:23.830Z"
   },
   {
    "duration": 0,
    "start_time": "2022-09-21T20:39:23.831Z"
   },
   {
    "duration": 0,
    "start_time": "2022-09-21T20:39:23.832Z"
   },
   {
    "duration": 798,
    "start_time": "2022-09-21T21:16:40.070Z"
   },
   {
    "duration": 10552,
    "start_time": "2022-09-21T21:16:55.217Z"
   },
   {
    "duration": 6,
    "start_time": "2022-09-21T21:17:41.010Z"
   },
   {
    "duration": 746,
    "start_time": "2022-09-21T21:17:41.018Z"
   },
   {
    "duration": 61,
    "start_time": "2022-09-21T21:17:41.766Z"
   },
   {
    "duration": 273,
    "start_time": "2022-09-21T21:17:41.829Z"
   },
   {
    "duration": 37,
    "start_time": "2022-09-21T21:17:42.106Z"
   },
   {
    "duration": 618,
    "start_time": "2022-09-21T21:17:42.145Z"
   },
   {
    "duration": 4,
    "start_time": "2022-09-21T21:17:42.765Z"
   },
   {
    "duration": 44,
    "start_time": "2022-09-21T21:17:42.772Z"
   },
   {
    "duration": 11,
    "start_time": "2022-09-21T21:17:42.818Z"
   },
   {
    "duration": 16,
    "start_time": "2022-09-21T21:17:42.831Z"
   },
   {
    "duration": 21,
    "start_time": "2022-09-21T21:17:42.849Z"
   },
   {
    "duration": 258,
    "start_time": "2022-09-21T21:17:42.872Z"
   },
   {
    "duration": 23,
    "start_time": "2022-09-21T21:17:43.132Z"
   },
   {
    "duration": 5,
    "start_time": "2022-09-21T21:17:43.158Z"
   },
   {
    "duration": 9,
    "start_time": "2022-09-21T21:17:43.165Z"
   },
   {
    "duration": 10611,
    "start_time": "2022-09-21T21:17:43.191Z"
   },
   {
    "duration": 10363,
    "start_time": "2022-09-21T21:17:53.806Z"
   },
   {
    "duration": 5,
    "start_time": "2022-09-21T21:18:04.172Z"
   },
   {
    "duration": 599,
    "start_time": "2022-09-21T21:18:04.179Z"
   },
   {
    "duration": 874,
    "start_time": "2022-09-21T21:18:04.780Z"
   },
   {
    "duration": 9,
    "start_time": "2022-09-21T21:18:05.656Z"
   },
   {
    "duration": 1252,
    "start_time": "2022-09-21T21:18:05.667Z"
   },
   {
    "duration": 4,
    "start_time": "2022-09-21T21:18:06.921Z"
   },
   {
    "duration": 7,
    "start_time": "2022-09-21T21:18:06.927Z"
   },
   {
    "duration": 11,
    "start_time": "2022-09-21T21:18:06.935Z"
   },
   {
    "duration": 10,
    "start_time": "2022-09-21T21:18:06.948Z"
   },
   {
    "duration": 3736,
    "start_time": "2022-09-21T21:18:06.960Z"
   },
   {
    "duration": 1466,
    "start_time": "2022-09-21T21:18:13.383Z"
   },
   {
    "duration": 800,
    "start_time": "2022-09-21T21:18:14.851Z"
   },
   {
    "duration": 57,
    "start_time": "2022-09-21T21:18:15.652Z"
   },
   {
    "duration": 253,
    "start_time": "2022-09-21T21:18:15.717Z"
   },
   {
    "duration": 44,
    "start_time": "2022-09-21T21:18:15.973Z"
   },
   {
    "duration": 622,
    "start_time": "2022-09-21T21:18:16.019Z"
   },
   {
    "duration": 5,
    "start_time": "2022-09-21T21:18:16.643Z"
   },
   {
    "duration": 33,
    "start_time": "2022-09-21T21:18:16.650Z"
   },
   {
    "duration": 42,
    "start_time": "2022-09-21T21:18:16.685Z"
   },
   {
    "duration": 32,
    "start_time": "2022-09-21T21:18:16.729Z"
   },
   {
    "duration": 48,
    "start_time": "2022-09-21T21:18:16.763Z"
   },
   {
    "duration": 285,
    "start_time": "2022-09-21T21:18:16.813Z"
   },
   {
    "duration": 32,
    "start_time": "2022-09-21T21:18:17.100Z"
   },
   {
    "duration": 24,
    "start_time": "2022-09-21T21:18:17.135Z"
   },
   {
    "duration": 19,
    "start_time": "2022-09-21T21:18:17.160Z"
   },
   {
    "duration": 942,
    "start_time": "2022-09-21T21:18:17.180Z"
   },
   {
    "duration": 0,
    "start_time": "2022-09-21T21:18:18.125Z"
   },
   {
    "duration": 0,
    "start_time": "2022-09-21T21:18:18.126Z"
   },
   {
    "duration": 0,
    "start_time": "2022-09-21T21:18:18.127Z"
   },
   {
    "duration": 0,
    "start_time": "2022-09-21T21:18:18.128Z"
   },
   {
    "duration": 0,
    "start_time": "2022-09-21T21:18:18.130Z"
   },
   {
    "duration": 0,
    "start_time": "2022-09-21T21:18:18.131Z"
   },
   {
    "duration": 0,
    "start_time": "2022-09-21T21:18:18.132Z"
   },
   {
    "duration": 0,
    "start_time": "2022-09-21T21:18:18.133Z"
   },
   {
    "duration": 0,
    "start_time": "2022-09-21T21:18:18.134Z"
   },
   {
    "duration": 0,
    "start_time": "2022-09-21T21:18:18.136Z"
   },
   {
    "duration": 0,
    "start_time": "2022-09-21T21:18:18.137Z"
   },
   {
    "duration": 0,
    "start_time": "2022-09-21T21:18:18.139Z"
   },
   {
    "duration": 0,
    "start_time": "2022-09-21T21:18:18.140Z"
   },
   {
    "duration": 0,
    "start_time": "2022-09-21T21:18:18.195Z"
   },
   {
    "duration": 0,
    "start_time": "2022-09-21T21:18:18.197Z"
   },
   {
    "duration": 0,
    "start_time": "2022-09-21T21:18:18.197Z"
   },
   {
    "duration": 0,
    "start_time": "2022-09-21T21:18:18.198Z"
   },
   {
    "duration": 0,
    "start_time": "2022-09-21T21:18:18.200Z"
   },
   {
    "duration": 10394,
    "start_time": "2022-09-21T21:19:24.709Z"
   },
   {
    "duration": 1557,
    "start_time": "2022-09-21T21:20:30.814Z"
   },
   {
    "duration": 809,
    "start_time": "2022-09-21T21:20:32.373Z"
   },
   {
    "duration": 50,
    "start_time": "2022-09-21T21:20:33.184Z"
   },
   {
    "duration": 280,
    "start_time": "2022-09-21T21:20:33.236Z"
   },
   {
    "duration": 28,
    "start_time": "2022-09-21T21:20:33.519Z"
   },
   {
    "duration": 603,
    "start_time": "2022-09-21T21:20:33.549Z"
   },
   {
    "duration": 3,
    "start_time": "2022-09-21T21:20:34.154Z"
   },
   {
    "duration": 15,
    "start_time": "2022-09-21T21:20:34.158Z"
   },
   {
    "duration": 27,
    "start_time": "2022-09-21T21:20:34.174Z"
   },
   {
    "duration": 25,
    "start_time": "2022-09-21T21:20:34.203Z"
   },
   {
    "duration": 20,
    "start_time": "2022-09-21T21:20:34.230Z"
   },
   {
    "duration": 265,
    "start_time": "2022-09-21T21:20:34.252Z"
   },
   {
    "duration": 26,
    "start_time": "2022-09-21T21:20:34.519Z"
   },
   {
    "duration": 6,
    "start_time": "2022-09-21T21:20:34.548Z"
   },
   {
    "duration": 6,
    "start_time": "2022-09-21T21:20:34.555Z"
   },
   {
    "duration": 10625,
    "start_time": "2022-09-21T21:20:34.562Z"
   },
   {
    "duration": 824,
    "start_time": "2022-09-21T21:20:45.194Z"
   },
   {
    "duration": 0,
    "start_time": "2022-09-21T21:20:46.020Z"
   },
   {
    "duration": 0,
    "start_time": "2022-09-21T21:20:46.022Z"
   },
   {
    "duration": 0,
    "start_time": "2022-09-21T21:20:46.023Z"
   },
   {
    "duration": 0,
    "start_time": "2022-09-21T21:20:46.025Z"
   },
   {
    "duration": 1,
    "start_time": "2022-09-21T21:20:46.025Z"
   },
   {
    "duration": 0,
    "start_time": "2022-09-21T21:20:46.026Z"
   },
   {
    "duration": 0,
    "start_time": "2022-09-21T21:20:46.028Z"
   },
   {
    "duration": 0,
    "start_time": "2022-09-21T21:20:46.029Z"
   },
   {
    "duration": 0,
    "start_time": "2022-09-21T21:20:46.030Z"
   },
   {
    "duration": 0,
    "start_time": "2022-09-21T21:20:46.031Z"
   },
   {
    "duration": 0,
    "start_time": "2022-09-21T21:20:46.032Z"
   },
   {
    "duration": 0,
    "start_time": "2022-09-21T21:20:46.033Z"
   },
   {
    "duration": 0,
    "start_time": "2022-09-21T21:20:46.034Z"
   },
   {
    "duration": 0,
    "start_time": "2022-09-21T21:20:46.035Z"
   },
   {
    "duration": 0,
    "start_time": "2022-09-21T21:20:46.036Z"
   },
   {
    "duration": 0,
    "start_time": "2022-09-21T21:20:46.037Z"
   },
   {
    "duration": 0,
    "start_time": "2022-09-21T21:20:46.039Z"
   },
   {
    "duration": 10041,
    "start_time": "2022-09-21T21:27:27.603Z"
   },
   {
    "duration": 3,
    "start_time": "2022-09-21T21:28:27.467Z"
   },
   {
    "duration": 5,
    "start_time": "2022-09-21T21:28:30.515Z"
   },
   {
    "duration": 794,
    "start_time": "2022-09-21T21:28:30.521Z"
   },
   {
    "duration": 42,
    "start_time": "2022-09-21T21:28:31.317Z"
   },
   {
    "duration": 261,
    "start_time": "2022-09-21T21:28:31.362Z"
   },
   {
    "duration": 27,
    "start_time": "2022-09-21T21:28:31.627Z"
   },
   {
    "duration": 687,
    "start_time": "2022-09-21T21:28:31.657Z"
   },
   {
    "duration": 3,
    "start_time": "2022-09-21T21:28:32.346Z"
   },
   {
    "duration": 12,
    "start_time": "2022-09-21T21:28:32.351Z"
   },
   {
    "duration": 9,
    "start_time": "2022-09-21T21:28:32.365Z"
   },
   {
    "duration": 45,
    "start_time": "2022-09-21T21:28:32.376Z"
   },
   {
    "duration": 25,
    "start_time": "2022-09-21T21:28:32.423Z"
   },
   {
    "duration": 244,
    "start_time": "2022-09-21T21:28:32.450Z"
   },
   {
    "duration": 27,
    "start_time": "2022-09-21T21:28:32.696Z"
   },
   {
    "duration": 5,
    "start_time": "2022-09-21T21:28:32.726Z"
   },
   {
    "duration": 9,
    "start_time": "2022-09-21T21:28:32.732Z"
   },
   {
    "duration": 10276,
    "start_time": "2022-09-21T21:28:32.742Z"
   },
   {
    "duration": 10218,
    "start_time": "2022-09-21T21:28:43.019Z"
   },
   {
    "duration": 5,
    "start_time": "2022-09-21T21:28:53.239Z"
   },
   {
    "duration": 611,
    "start_time": "2022-09-21T21:28:53.246Z"
   },
   {
    "duration": 617,
    "start_time": "2022-09-21T21:28:53.859Z"
   },
   {
    "duration": 23,
    "start_time": "2022-09-21T21:28:54.478Z"
   },
   {
    "duration": 1265,
    "start_time": "2022-09-21T21:28:54.509Z"
   },
   {
    "duration": 4,
    "start_time": "2022-09-21T21:28:55.776Z"
   },
   {
    "duration": 37,
    "start_time": "2022-09-21T21:28:55.782Z"
   },
   {
    "duration": 11,
    "start_time": "2022-09-21T21:28:55.821Z"
   },
   {
    "duration": 6,
    "start_time": "2022-09-21T21:28:55.834Z"
   },
   {
    "duration": 3367,
    "start_time": "2022-09-21T21:28:55.842Z"
   },
   {
    "duration": 33054,
    "start_time": "2022-09-21T21:28:59.220Z"
   },
   {
    "duration": 4908,
    "start_time": "2022-09-21T21:29:32.276Z"
   },
   {
    "duration": 55408,
    "start_time": "2022-09-21T21:29:37.191Z"
   },
   {
    "duration": 39,
    "start_time": "2022-09-21T21:30:32.601Z"
   },
   {
    "duration": 94,
    "start_time": "2022-09-21T21:30:32.696Z"
   },
   {
    "duration": 110,
    "start_time": "2022-09-21T21:30:32.793Z"
   },
   {
    "duration": 101,
    "start_time": "2022-09-21T21:30:32.910Z"
   },
   {
    "duration": 764,
    "start_time": "2022-09-21T21:30:55.057Z"
   },
   {
    "duration": 24,
    "start_time": "2022-09-21T21:35:30.250Z"
   },
   {
    "duration": 3250,
    "start_time": "2022-09-21T21:36:20.566Z"
   },
   {
    "duration": 785,
    "start_time": "2022-09-21T21:36:23.820Z"
   },
   {
    "duration": 44,
    "start_time": "2022-09-21T21:36:24.607Z"
   },
   {
    "duration": 277,
    "start_time": "2022-09-21T21:36:24.653Z"
   },
   {
    "duration": 30,
    "start_time": "2022-09-21T21:36:24.933Z"
   },
   {
    "duration": 626,
    "start_time": "2022-09-21T21:36:24.964Z"
   },
   {
    "duration": 8,
    "start_time": "2022-09-21T21:36:25.592Z"
   },
   {
    "duration": 26,
    "start_time": "2022-09-21T21:36:25.604Z"
   },
   {
    "duration": 7,
    "start_time": "2022-09-21T21:36:25.631Z"
   },
   {
    "duration": 14,
    "start_time": "2022-09-21T21:36:25.640Z"
   },
   {
    "duration": 23,
    "start_time": "2022-09-21T21:36:25.655Z"
   },
   {
    "duration": 268,
    "start_time": "2022-09-21T21:36:25.679Z"
   },
   {
    "duration": 26,
    "start_time": "2022-09-21T21:36:25.949Z"
   },
   {
    "duration": 11,
    "start_time": "2022-09-21T21:36:25.989Z"
   },
   {
    "duration": 26,
    "start_time": "2022-09-21T21:36:26.001Z"
   },
   {
    "duration": 10286,
    "start_time": "2022-09-21T21:36:26.029Z"
   },
   {
    "duration": 10222,
    "start_time": "2022-09-21T21:36:36.320Z"
   },
   {
    "duration": 4,
    "start_time": "2022-09-21T21:36:46.544Z"
   },
   {
    "duration": 769,
    "start_time": "2022-09-21T21:36:46.549Z"
   },
   {
    "duration": 665,
    "start_time": "2022-09-21T21:36:47.319Z"
   },
   {
    "duration": 17,
    "start_time": "2022-09-21T21:36:47.985Z"
   },
   {
    "duration": 1280,
    "start_time": "2022-09-21T21:36:48.004Z"
   },
   {
    "duration": 58,
    "start_time": "2022-09-21T21:36:49.286Z"
   },
   {
    "duration": 5,
    "start_time": "2022-09-21T21:36:49.346Z"
   },
   {
    "duration": 14,
    "start_time": "2022-09-21T21:36:49.352Z"
   },
   {
    "duration": 50,
    "start_time": "2022-09-21T21:36:49.379Z"
   },
   {
    "duration": 7,
    "start_time": "2022-09-21T21:36:49.431Z"
   },
   {
    "duration": 149,
    "start_time": "2022-09-21T21:36:49.440Z"
   },
   {
    "duration": 0,
    "start_time": "2022-09-21T21:36:49.592Z"
   },
   {
    "duration": 0,
    "start_time": "2022-09-21T21:36:49.593Z"
   },
   {
    "duration": 0,
    "start_time": "2022-09-21T21:36:49.594Z"
   },
   {
    "duration": 0,
    "start_time": "2022-09-21T21:36:49.595Z"
   },
   {
    "duration": 0,
    "start_time": "2022-09-21T21:36:49.596Z"
   },
   {
    "duration": 0,
    "start_time": "2022-09-21T21:36:49.597Z"
   },
   {
    "duration": 0,
    "start_time": "2022-09-21T21:36:49.598Z"
   },
   {
    "duration": 4,
    "start_time": "2022-09-21T22:08:00.915Z"
   },
   {
    "duration": 803,
    "start_time": "2022-09-21T22:08:00.921Z"
   },
   {
    "duration": 39,
    "start_time": "2022-09-21T22:08:01.726Z"
   },
   {
    "duration": 309,
    "start_time": "2022-09-21T22:08:01.767Z"
   },
   {
    "duration": 43,
    "start_time": "2022-09-21T22:08:02.092Z"
   },
   {
    "duration": 639,
    "start_time": "2022-09-21T22:08:02.137Z"
   },
   {
    "duration": 4,
    "start_time": "2022-09-21T22:08:02.778Z"
   },
   {
    "duration": 24,
    "start_time": "2022-09-21T22:08:02.789Z"
   },
   {
    "duration": 8,
    "start_time": "2022-09-21T22:08:02.814Z"
   },
   {
    "duration": 16,
    "start_time": "2022-09-21T22:08:02.824Z"
   },
   {
    "duration": 22,
    "start_time": "2022-09-21T22:08:02.842Z"
   },
   {
    "duration": 266,
    "start_time": "2022-09-21T22:08:02.866Z"
   },
   {
    "duration": 21,
    "start_time": "2022-09-21T22:08:03.134Z"
   },
   {
    "duration": 5,
    "start_time": "2022-09-21T22:08:03.158Z"
   },
   {
    "duration": 6,
    "start_time": "2022-09-21T22:08:03.164Z"
   },
   {
    "duration": 10455,
    "start_time": "2022-09-21T22:08:03.172Z"
   },
   {
    "duration": 10129,
    "start_time": "2022-09-21T22:08:13.629Z"
   },
   {
    "duration": 5,
    "start_time": "2022-09-21T22:08:23.760Z"
   },
   {
    "duration": 791,
    "start_time": "2022-09-21T22:08:23.767Z"
   },
   {
    "duration": 648,
    "start_time": "2022-09-21T22:08:24.559Z"
   },
   {
    "duration": 12,
    "start_time": "2022-09-21T22:08:25.210Z"
   },
   {
    "duration": 1269,
    "start_time": "2022-09-21T22:08:25.224Z"
   },
   {
    "duration": 43,
    "start_time": "2022-09-21T22:08:26.498Z"
   },
   {
    "duration": 4,
    "start_time": "2022-09-21T22:08:26.543Z"
   },
   {
    "duration": 6,
    "start_time": "2022-09-21T22:08:26.549Z"
   },
   {
    "duration": 13,
    "start_time": "2022-09-21T22:08:26.557Z"
   },
   {
    "duration": 20,
    "start_time": "2022-09-21T22:08:26.572Z"
   },
   {
    "duration": 43,
    "start_time": "2022-09-21T22:08:26.597Z"
   },
   {
    "duration": 0,
    "start_time": "2022-09-21T22:08:26.641Z"
   },
   {
    "duration": 0,
    "start_time": "2022-09-21T22:08:26.642Z"
   },
   {
    "duration": 0,
    "start_time": "2022-09-21T22:08:26.643Z"
   },
   {
    "duration": 0,
    "start_time": "2022-09-21T22:08:26.645Z"
   },
   {
    "duration": 0,
    "start_time": "2022-09-21T22:08:26.646Z"
   },
   {
    "duration": 0,
    "start_time": "2022-09-21T22:08:26.647Z"
   },
   {
    "duration": 0,
    "start_time": "2022-09-21T22:08:26.648Z"
   },
   {
    "duration": 2402,
    "start_time": "2022-09-21T22:13:28.910Z"
   },
   {
    "duration": 3048,
    "start_time": "2022-09-21T22:14:29.147Z"
   },
   {
    "duration": 1267,
    "start_time": "2022-09-21T22:14:47.627Z"
   },
   {
    "duration": 2447,
    "start_time": "2022-09-21T22:14:53.973Z"
   },
   {
    "duration": 5,
    "start_time": "2022-09-21T22:16:07.503Z"
   },
   {
    "duration": 767,
    "start_time": "2022-09-21T22:16:07.510Z"
   },
   {
    "duration": 52,
    "start_time": "2022-09-21T22:16:08.280Z"
   },
   {
    "duration": 272,
    "start_time": "2022-09-21T22:16:08.333Z"
   },
   {
    "duration": 38,
    "start_time": "2022-09-21T22:16:08.608Z"
   },
   {
    "duration": 625,
    "start_time": "2022-09-21T22:16:08.649Z"
   },
   {
    "duration": 4,
    "start_time": "2022-09-21T22:16:09.275Z"
   },
   {
    "duration": 20,
    "start_time": "2022-09-21T22:16:09.292Z"
   },
   {
    "duration": 8,
    "start_time": "2022-09-21T22:16:09.314Z"
   },
   {
    "duration": 14,
    "start_time": "2022-09-21T22:16:09.323Z"
   },
   {
    "duration": 24,
    "start_time": "2022-09-21T22:16:09.339Z"
   },
   {
    "duration": 269,
    "start_time": "2022-09-21T22:16:09.365Z"
   },
   {
    "duration": 24,
    "start_time": "2022-09-21T22:16:09.636Z"
   },
   {
    "duration": 6,
    "start_time": "2022-09-21T22:16:09.663Z"
   },
   {
    "duration": 39,
    "start_time": "2022-09-21T22:16:09.670Z"
   },
   {
    "duration": 10402,
    "start_time": "2022-09-21T22:16:09.711Z"
   },
   {
    "duration": 10018,
    "start_time": "2022-09-21T22:16:20.116Z"
   },
   {
    "duration": 5,
    "start_time": "2022-09-21T22:16:30.136Z"
   },
   {
    "duration": 805,
    "start_time": "2022-09-21T22:16:30.142Z"
   },
   {
    "duration": 658,
    "start_time": "2022-09-21T22:16:30.949Z"
   },
   {
    "duration": 9,
    "start_time": "2022-09-21T22:16:31.609Z"
   },
   {
    "duration": 1247,
    "start_time": "2022-09-21T22:16:31.620Z"
   },
   {
    "duration": 34,
    "start_time": "2022-09-21T22:16:32.869Z"
   },
   {
    "duration": 4,
    "start_time": "2022-09-21T22:16:32.905Z"
   },
   {
    "duration": 17,
    "start_time": "2022-09-21T22:16:32.912Z"
   },
   {
    "duration": 60,
    "start_time": "2022-09-21T22:16:32.931Z"
   },
   {
    "duration": 35,
    "start_time": "2022-09-21T22:16:32.996Z"
   },
   {
    "duration": 1471,
    "start_time": "2022-09-21T22:16:33.033Z"
   },
   {
    "duration": 107,
    "start_time": "2022-09-21T22:16:34.508Z"
   },
   {
    "duration": 0,
    "start_time": "2022-09-21T22:16:34.617Z"
   },
   {
    "duration": 0,
    "start_time": "2022-09-21T22:16:34.618Z"
   },
   {
    "duration": 1,
    "start_time": "2022-09-21T22:16:34.619Z"
   },
   {
    "duration": 0,
    "start_time": "2022-09-21T22:16:34.620Z"
   },
   {
    "duration": 0,
    "start_time": "2022-09-21T22:16:34.621Z"
   },
   {
    "duration": 0,
    "start_time": "2022-09-21T22:16:34.623Z"
   },
   {
    "duration": 6,
    "start_time": "2022-09-21T22:17:48.074Z"
   },
   {
    "duration": 718,
    "start_time": "2022-09-21T22:17:48.082Z"
   },
   {
    "duration": 40,
    "start_time": "2022-09-21T22:17:48.802Z"
   },
   {
    "duration": 240,
    "start_time": "2022-09-21T22:17:48.843Z"
   },
   {
    "duration": 36,
    "start_time": "2022-09-21T22:17:49.086Z"
   },
   {
    "duration": 621,
    "start_time": "2022-09-21T22:17:49.124Z"
   },
   {
    "duration": 4,
    "start_time": "2022-09-21T22:17:49.746Z"
   },
   {
    "duration": 14,
    "start_time": "2022-09-21T22:17:49.752Z"
   },
   {
    "duration": 7,
    "start_time": "2022-09-21T22:17:49.767Z"
   },
   {
    "duration": 25,
    "start_time": "2022-09-21T22:17:49.776Z"
   },
   {
    "duration": 20,
    "start_time": "2022-09-21T22:17:49.803Z"
   },
   {
    "duration": 262,
    "start_time": "2022-09-21T22:17:49.824Z"
   },
   {
    "duration": 29,
    "start_time": "2022-09-21T22:17:50.089Z"
   },
   {
    "duration": 6,
    "start_time": "2022-09-21T22:17:50.122Z"
   },
   {
    "duration": 7,
    "start_time": "2022-09-21T22:17:50.130Z"
   },
   {
    "duration": 10797,
    "start_time": "2022-09-21T22:17:50.139Z"
   },
   {
    "duration": 9897,
    "start_time": "2022-09-21T22:18:00.938Z"
   },
   {
    "duration": 5,
    "start_time": "2022-09-21T22:18:10.837Z"
   },
   {
    "duration": 804,
    "start_time": "2022-09-21T22:18:10.844Z"
   },
   {
    "duration": 758,
    "start_time": "2022-09-21T22:18:11.650Z"
   },
   {
    "duration": 8,
    "start_time": "2022-09-21T22:18:12.410Z"
   },
   {
    "duration": 1258,
    "start_time": "2022-09-21T22:18:12.420Z"
   },
   {
    "duration": 11,
    "start_time": "2022-09-21T22:18:13.680Z"
   },
   {
    "duration": 3,
    "start_time": "2022-09-21T22:18:13.702Z"
   },
   {
    "duration": 11,
    "start_time": "2022-09-21T22:18:13.707Z"
   },
   {
    "duration": 5,
    "start_time": "2022-09-21T22:18:13.720Z"
   },
   {
    "duration": 2265,
    "start_time": "2022-09-21T22:18:13.726Z"
   },
   {
    "duration": 31294,
    "start_time": "2022-09-21T22:18:15.995Z"
   },
   {
    "duration": 4727,
    "start_time": "2022-09-21T22:18:47.305Z"
   },
   {
    "duration": 46124,
    "start_time": "2022-09-21T22:18:52.034Z"
   },
   {
    "duration": 51,
    "start_time": "2022-09-21T22:19:38.160Z"
   },
   {
    "duration": 102,
    "start_time": "2022-09-21T22:19:38.213Z"
   },
   {
    "duration": 188,
    "start_time": "2022-09-21T22:19:38.318Z"
   },
   {
    "duration": 88,
    "start_time": "2022-09-21T22:19:38.509Z"
   },
   {
    "duration": 0,
    "start_time": "2022-09-21T22:19:38.621Z"
   },
   {
    "duration": 7,
    "start_time": "2022-09-21T22:20:03.836Z"
   },
   {
    "duration": 3,
    "start_time": "2022-09-21T22:21:28.733Z"
   },
   {
    "duration": 4,
    "start_time": "2022-09-21T22:21:56.805Z"
   },
   {
    "duration": 7,
    "start_time": "2022-09-21T22:22:49.964Z"
   },
   {
    "duration": 10,
    "start_time": "2022-09-21T22:23:22.137Z"
   },
   {
    "duration": 4,
    "start_time": "2022-09-21T22:23:34.137Z"
   },
   {
    "duration": 13,
    "start_time": "2022-09-21T22:32:51.120Z"
   },
   {
    "duration": 6,
    "start_time": "2022-09-21T22:32:57.977Z"
   },
   {
    "duration": 3,
    "start_time": "2022-09-21T22:32:59.118Z"
   },
   {
    "duration": 9,
    "start_time": "2022-09-21T22:32:59.652Z"
   },
   {
    "duration": 3,
    "start_time": "2022-09-21T22:33:01.118Z"
   },
   {
    "duration": 28,
    "start_time": "2022-09-21T22:33:04.707Z"
   },
   {
    "duration": 2,
    "start_time": "2022-09-21T22:33:21.721Z"
   },
   {
    "duration": 5,
    "start_time": "2022-09-21T22:33:24.034Z"
   },
   {
    "duration": 3,
    "start_time": "2022-09-21T22:33:24.747Z"
   },
   {
    "duration": 19,
    "start_time": "2022-09-21T22:33:26.482Z"
   },
   {
    "duration": 3,
    "start_time": "2022-09-21T22:33:26.830Z"
   },
   {
    "duration": 27,
    "start_time": "2022-09-21T22:33:27.539Z"
   },
   {
    "duration": 5,
    "start_time": "2022-09-21T22:33:33.658Z"
   },
   {
    "duration": 785,
    "start_time": "2022-09-21T22:33:33.665Z"
   },
   {
    "duration": 53,
    "start_time": "2022-09-21T22:33:34.452Z"
   },
   {
    "duration": 237,
    "start_time": "2022-09-21T22:33:34.507Z"
   },
   {
    "duration": 30,
    "start_time": "2022-09-21T22:33:34.746Z"
   },
   {
    "duration": 643,
    "start_time": "2022-09-21T22:33:34.778Z"
   },
   {
    "duration": 4,
    "start_time": "2022-09-21T22:33:35.423Z"
   },
   {
    "duration": 10,
    "start_time": "2022-09-21T22:33:35.429Z"
   },
   {
    "duration": 10,
    "start_time": "2022-09-21T22:33:35.441Z"
   },
   {
    "duration": 10,
    "start_time": "2022-09-21T22:33:35.453Z"
   },
   {
    "duration": 40,
    "start_time": "2022-09-21T22:33:35.465Z"
   },
   {
    "duration": 23,
    "start_time": "2022-09-21T22:33:35.507Z"
   },
   {
    "duration": 240,
    "start_time": "2022-09-21T22:33:35.531Z"
   },
   {
    "duration": 30,
    "start_time": "2022-09-21T22:33:35.774Z"
   },
   {
    "duration": 7,
    "start_time": "2022-09-21T22:33:35.805Z"
   },
   {
    "duration": 7,
    "start_time": "2022-09-21T22:33:35.814Z"
   },
   {
    "duration": 10256,
    "start_time": "2022-09-21T22:33:35.822Z"
   },
   {
    "duration": 10560,
    "start_time": "2022-09-21T22:33:46.080Z"
   },
   {
    "duration": 5,
    "start_time": "2022-09-21T22:33:56.641Z"
   },
   {
    "duration": 591,
    "start_time": "2022-09-21T22:33:56.648Z"
   },
   {
    "duration": 836,
    "start_time": "2022-09-21T22:33:57.241Z"
   },
   {
    "duration": 20,
    "start_time": "2022-09-21T22:33:58.079Z"
   },
   {
    "duration": 1282,
    "start_time": "2022-09-21T22:33:58.102Z"
   },
   {
    "duration": 9,
    "start_time": "2022-09-21T22:33:59.386Z"
   },
   {
    "duration": 19,
    "start_time": "2022-09-21T22:33:59.401Z"
   },
   {
    "duration": 9,
    "start_time": "2022-09-21T22:33:59.422Z"
   },
   {
    "duration": 34,
    "start_time": "2022-09-21T22:33:59.433Z"
   },
   {
    "duration": 10,
    "start_time": "2022-09-21T22:33:59.469Z"
   },
   {
    "duration": 1620,
    "start_time": "2022-09-21T22:33:59.481Z"
   },
   {
    "duration": 31827,
    "start_time": "2022-09-21T22:34:01.104Z"
   },
   {
    "duration": 4740,
    "start_time": "2022-09-21T22:34:32.933Z"
   },
   {
    "duration": 46986,
    "start_time": "2022-09-21T22:34:37.675Z"
   },
   {
    "duration": 39,
    "start_time": "2022-09-21T22:35:24.663Z"
   },
   {
    "duration": 93,
    "start_time": "2022-09-21T22:35:24.705Z"
   },
   {
    "duration": 109,
    "start_time": "2022-09-21T22:35:24.801Z"
   },
   {
    "duration": 112,
    "start_time": "2022-09-21T22:35:24.990Z"
   },
   {
    "duration": 24,
    "start_time": "2022-09-21T22:39:59.678Z"
   },
   {
    "duration": 9,
    "start_time": "2022-09-21T22:40:04.302Z"
   },
   {
    "duration": 3,
    "start_time": "2022-09-21T22:40:34.909Z"
   },
   {
    "duration": 4,
    "start_time": "2022-09-21T22:40:36.102Z"
   },
   {
    "duration": 5,
    "start_time": "2022-09-21T22:41:06.502Z"
   },
   {
    "duration": 4,
    "start_time": "2022-09-21T22:41:21.602Z"
   },
   {
    "duration": 10,
    "start_time": "2022-09-21T22:41:24.389Z"
   },
   {
    "duration": 12,
    "start_time": "2022-09-21T22:41:28.300Z"
   },
   {
    "duration": 3,
    "start_time": "2022-09-21T22:41:29.053Z"
   },
   {
    "duration": 26,
    "start_time": "2022-09-21T22:41:29.801Z"
   },
   {
    "duration": 3,
    "start_time": "2022-09-21T22:44:35.929Z"
   },
   {
    "duration": 2,
    "start_time": "2022-09-21T22:44:50.420Z"
   },
   {
    "duration": 2,
    "start_time": "2022-09-21T22:44:52.319Z"
   },
   {
    "duration": 2,
    "start_time": "2022-09-21T22:44:52.546Z"
   },
   {
    "duration": 3,
    "start_time": "2022-09-21T22:44:53.263Z"
   },
   {
    "duration": 5,
    "start_time": "2022-09-21T22:44:54.098Z"
   },
   {
    "duration": 3,
    "start_time": "2022-09-21T22:44:55.820Z"
   },
   {
    "duration": 9,
    "start_time": "2022-09-21T22:44:56.205Z"
   },
   {
    "duration": 3,
    "start_time": "2022-09-21T22:44:58.083Z"
   },
   {
    "duration": 27,
    "start_time": "2022-09-21T22:44:58.885Z"
   },
   {
    "duration": 4,
    "start_time": "2022-09-21T22:45:03.151Z"
   },
   {
    "duration": 718,
    "start_time": "2022-09-21T22:45:03.157Z"
   },
   {
    "duration": 46,
    "start_time": "2022-09-21T22:45:03.877Z"
   },
   {
    "duration": 253,
    "start_time": "2022-09-21T22:45:03.924Z"
   },
   {
    "duration": 38,
    "start_time": "2022-09-21T22:45:04.179Z"
   },
   {
    "duration": 606,
    "start_time": "2022-09-21T22:45:04.219Z"
   },
   {
    "duration": 4,
    "start_time": "2022-09-21T22:45:04.827Z"
   },
   {
    "duration": 12,
    "start_time": "2022-09-21T22:45:04.833Z"
   },
   {
    "duration": 12,
    "start_time": "2022-09-21T22:45:04.846Z"
   },
   {
    "duration": 7,
    "start_time": "2022-09-21T22:45:04.860Z"
   },
   {
    "duration": 27,
    "start_time": "2022-09-21T22:45:04.868Z"
   },
   {
    "duration": 22,
    "start_time": "2022-09-21T22:45:04.896Z"
   },
   {
    "duration": 265,
    "start_time": "2022-09-21T22:45:04.920Z"
   },
   {
    "duration": 22,
    "start_time": "2022-09-21T22:45:05.191Z"
   },
   {
    "duration": 6,
    "start_time": "2022-09-21T22:45:05.215Z"
   },
   {
    "duration": 18,
    "start_time": "2022-09-21T22:45:05.223Z"
   },
   {
    "duration": 10203,
    "start_time": "2022-09-21T22:45:05.243Z"
   },
   {
    "duration": 9770,
    "start_time": "2022-09-21T22:45:15.447Z"
   },
   {
    "duration": 4,
    "start_time": "2022-09-21T22:45:25.219Z"
   },
   {
    "duration": 613,
    "start_time": "2022-09-21T22:45:25.225Z"
   },
   {
    "duration": 838,
    "start_time": "2022-09-21T22:45:25.839Z"
   },
   {
    "duration": 14,
    "start_time": "2022-09-21T22:45:26.678Z"
   },
   {
    "duration": 1266,
    "start_time": "2022-09-21T22:45:26.695Z"
   },
   {
    "duration": 3,
    "start_time": "2022-09-21T22:45:27.963Z"
   },
   {
    "duration": 9,
    "start_time": "2022-09-21T22:45:27.967Z"
   },
   {
    "duration": 11,
    "start_time": "2022-09-21T22:45:27.978Z"
   },
   {
    "duration": 3,
    "start_time": "2022-09-21T22:45:27.990Z"
   },
   {
    "duration": 5,
    "start_time": "2022-09-21T22:45:27.995Z"
   },
   {
    "duration": 9,
    "start_time": "2022-09-21T22:45:28.001Z"
   },
   {
    "duration": 12,
    "start_time": "2022-09-21T22:45:28.011Z"
   },
   {
    "duration": 7,
    "start_time": "2022-09-21T22:45:28.025Z"
   },
   {
    "duration": 1359,
    "start_time": "2022-09-21T22:45:28.033Z"
   },
   {
    "duration": 30884,
    "start_time": "2022-09-21T22:45:29.394Z"
   },
   {
    "duration": 4697,
    "start_time": "2022-09-21T22:46:00.280Z"
   },
   {
    "duration": 42509,
    "start_time": "2022-09-21T22:46:04.979Z"
   },
   {
    "duration": 35,
    "start_time": "2022-09-21T22:46:47.489Z"
   },
   {
    "duration": 102,
    "start_time": "2022-09-21T22:46:47.589Z"
   },
   {
    "duration": 104,
    "start_time": "2022-09-21T22:46:47.693Z"
   },
   {
    "duration": 94,
    "start_time": "2022-09-21T22:46:47.802Z"
   },
   {
    "duration": 3,
    "start_time": "2022-09-21T22:53:47.279Z"
   },
   {
    "duration": 3,
    "start_time": "2022-09-21T22:53:47.544Z"
   },
   {
    "duration": 3,
    "start_time": "2022-09-21T22:53:48.307Z"
   },
   {
    "duration": 3,
    "start_time": "2022-09-21T22:53:51.332Z"
   },
   {
    "duration": 3,
    "start_time": "2022-09-21T22:53:51.843Z"
   },
   {
    "duration": 3,
    "start_time": "2022-09-21T22:53:52.201Z"
   },
   {
    "duration": 3,
    "start_time": "2022-09-21T22:53:52.663Z"
   },
   {
    "duration": 4,
    "start_time": "2022-09-21T22:53:54.070Z"
   },
   {
    "duration": 4,
    "start_time": "2022-09-21T22:53:54.638Z"
   },
   {
    "duration": 5,
    "start_time": "2022-09-21T22:53:55.073Z"
   },
   {
    "duration": 4,
    "start_time": "2022-09-21T22:53:55.483Z"
   },
   {
    "duration": 2,
    "start_time": "2022-09-21T22:53:55.882Z"
   },
   {
    "duration": 4,
    "start_time": "2022-09-21T22:53:56.295Z"
   },
   {
    "duration": 3,
    "start_time": "2022-09-21T22:53:56.684Z"
   },
   {
    "duration": 10,
    "start_time": "2022-09-21T22:58:17.590Z"
   },
   {
    "duration": 13,
    "start_time": "2022-09-21T22:59:01.597Z"
   },
   {
    "duration": 12,
    "start_time": "2022-09-21T22:59:26.965Z"
   },
   {
    "duration": 24,
    "start_time": "2022-09-21T23:00:18.137Z"
   },
   {
    "duration": 26,
    "start_time": "2022-09-21T23:00:54.129Z"
   },
   {
    "duration": 32,
    "start_time": "2022-09-21T23:01:08.549Z"
   },
   {
    "duration": 4,
    "start_time": "2022-09-21T23:03:02.498Z"
   },
   {
    "duration": 731,
    "start_time": "2022-09-21T23:03:02.504Z"
   },
   {
    "duration": 42,
    "start_time": "2022-09-21T23:03:03.237Z"
   },
   {
    "duration": 260,
    "start_time": "2022-09-21T23:03:03.281Z"
   },
   {
    "duration": 33,
    "start_time": "2022-09-21T23:03:03.542Z"
   },
   {
    "duration": 615,
    "start_time": "2022-09-21T23:03:03.590Z"
   },
   {
    "duration": 4,
    "start_time": "2022-09-21T23:03:04.207Z"
   },
   {
    "duration": 8,
    "start_time": "2022-09-21T23:03:04.212Z"
   },
   {
    "duration": 12,
    "start_time": "2022-09-21T23:03:04.221Z"
   },
   {
    "duration": 10,
    "start_time": "2022-09-21T23:03:04.236Z"
   },
   {
    "duration": 13,
    "start_time": "2022-09-21T23:03:04.248Z"
   },
   {
    "duration": 43,
    "start_time": "2022-09-21T23:03:04.262Z"
   },
   {
    "duration": 246,
    "start_time": "2022-09-21T23:03:04.308Z"
   },
   {
    "duration": 34,
    "start_time": "2022-09-21T23:03:04.556Z"
   },
   {
    "duration": 8,
    "start_time": "2022-09-21T23:03:04.593Z"
   },
   {
    "duration": 9,
    "start_time": "2022-09-21T23:03:04.603Z"
   },
   {
    "duration": 10453,
    "start_time": "2022-09-21T23:03:04.614Z"
   },
   {
    "duration": 10035,
    "start_time": "2022-09-21T23:03:15.070Z"
   },
   {
    "duration": 5,
    "start_time": "2022-09-21T23:03:25.107Z"
   },
   {
    "duration": 637,
    "start_time": "2022-09-21T23:03:25.114Z"
   },
   {
    "duration": 605,
    "start_time": "2022-09-21T23:03:25.752Z"
   },
   {
    "duration": 9,
    "start_time": "2022-09-21T23:03:26.359Z"
   },
   {
    "duration": 1412,
    "start_time": "2022-09-21T23:03:26.370Z"
   },
   {
    "duration": 20,
    "start_time": "2022-09-21T23:03:27.784Z"
   },
   {
    "duration": 3,
    "start_time": "2022-09-21T23:03:27.806Z"
   },
   {
    "duration": 7,
    "start_time": "2022-09-21T23:03:27.810Z"
   },
   {
    "duration": 8,
    "start_time": "2022-09-21T23:03:27.818Z"
   },
   {
    "duration": 4,
    "start_time": "2022-09-21T23:03:27.830Z"
   },
   {
    "duration": 5,
    "start_time": "2022-09-21T23:03:27.836Z"
   },
   {
    "duration": 11,
    "start_time": "2022-09-21T23:03:27.843Z"
   },
   {
    "duration": 5,
    "start_time": "2022-09-21T23:03:27.856Z"
   },
   {
    "duration": 36,
    "start_time": "2022-09-21T23:03:27.890Z"
   },
   {
    "duration": 0,
    "start_time": "2022-09-21T23:03:27.928Z"
   },
   {
    "duration": 0,
    "start_time": "2022-09-21T23:03:27.929Z"
   },
   {
    "duration": 0,
    "start_time": "2022-09-21T23:03:27.930Z"
   },
   {
    "duration": 0,
    "start_time": "2022-09-21T23:03:27.931Z"
   },
   {
    "duration": 0,
    "start_time": "2022-09-21T23:03:27.932Z"
   },
   {
    "duration": 0,
    "start_time": "2022-09-21T23:03:27.933Z"
   },
   {
    "duration": 0,
    "start_time": "2022-09-21T23:03:27.934Z"
   },
   {
    "duration": 1518,
    "start_time": "2022-09-21T23:04:31.073Z"
   },
   {
    "duration": 31590,
    "start_time": "2022-09-21T23:04:40.728Z"
   },
   {
    "duration": 5,
    "start_time": "2022-09-21T23:06:20.427Z"
   },
   {
    "duration": 704,
    "start_time": "2022-09-21T23:06:20.434Z"
   },
   {
    "duration": 41,
    "start_time": "2022-09-21T23:06:21.140Z"
   },
   {
    "duration": 228,
    "start_time": "2022-09-21T23:06:21.189Z"
   },
   {
    "duration": 29,
    "start_time": "2022-09-21T23:06:21.419Z"
   },
   {
    "duration": 634,
    "start_time": "2022-09-21T23:06:21.450Z"
   },
   {
    "duration": 5,
    "start_time": "2022-09-21T23:06:22.086Z"
   },
   {
    "duration": 6,
    "start_time": "2022-09-21T23:06:22.093Z"
   },
   {
    "duration": 13,
    "start_time": "2022-09-21T23:06:22.101Z"
   },
   {
    "duration": 7,
    "start_time": "2022-09-21T23:06:22.115Z"
   },
   {
    "duration": 14,
    "start_time": "2022-09-21T23:06:22.124Z"
   },
   {
    "duration": 21,
    "start_time": "2022-09-21T23:06:22.139Z"
   },
   {
    "duration": 254,
    "start_time": "2022-09-21T23:06:22.162Z"
   },
   {
    "duration": 22,
    "start_time": "2022-09-21T23:06:22.420Z"
   },
   {
    "duration": 6,
    "start_time": "2022-09-21T23:06:22.443Z"
   },
   {
    "duration": 20,
    "start_time": "2022-09-21T23:06:22.450Z"
   },
   {
    "duration": 10171,
    "start_time": "2022-09-21T23:06:22.472Z"
   },
   {
    "duration": 10785,
    "start_time": "2022-09-21T23:06:32.645Z"
   },
   {
    "duration": 4,
    "start_time": "2022-09-21T23:06:43.432Z"
   },
   {
    "duration": 598,
    "start_time": "2022-09-21T23:06:43.438Z"
   },
   {
    "duration": 606,
    "start_time": "2022-09-21T23:06:44.039Z"
   },
   {
    "duration": 10,
    "start_time": "2022-09-21T23:06:44.647Z"
   },
   {
    "duration": 1201,
    "start_time": "2022-09-21T23:06:44.659Z"
   },
   {
    "duration": 15,
    "start_time": "2022-09-21T23:06:45.862Z"
   },
   {
    "duration": 10,
    "start_time": "2022-09-21T23:06:45.879Z"
   },
   {
    "duration": 6,
    "start_time": "2022-09-21T23:06:45.891Z"
   },
   {
    "duration": 8,
    "start_time": "2022-09-21T23:06:45.900Z"
   },
   {
    "duration": 21,
    "start_time": "2022-09-21T23:06:45.910Z"
   },
   {
    "duration": 7,
    "start_time": "2022-09-21T23:06:45.933Z"
   },
   {
    "duration": 10,
    "start_time": "2022-09-21T23:06:45.942Z"
   },
   {
    "duration": 6,
    "start_time": "2022-09-21T23:06:45.954Z"
   },
   {
    "duration": 1734,
    "start_time": "2022-09-21T23:06:45.961Z"
   },
   {
    "duration": 30594,
    "start_time": "2022-09-21T23:06:47.697Z"
   },
   {
    "duration": 4619,
    "start_time": "2022-09-21T23:07:18.293Z"
   },
   {
    "duration": 46530,
    "start_time": "2022-09-21T23:07:22.914Z"
   },
   {
    "duration": 46,
    "start_time": "2022-09-21T23:08:09.445Z"
   },
   {
    "duration": 104,
    "start_time": "2022-09-21T23:08:09.494Z"
   },
   {
    "duration": 91,
    "start_time": "2022-09-21T23:08:09.600Z"
   },
   {
    "duration": 105,
    "start_time": "2022-09-21T23:08:09.694Z"
   },
   {
    "duration": 1201,
    "start_time": "2022-09-21T23:10:32.724Z"
   },
   {
    "duration": 0,
    "start_time": "2022-09-21T23:10:33.927Z"
   },
   {
    "duration": 1578,
    "start_time": "2022-09-21T23:11:27.157Z"
   },
   {
    "duration": 730,
    "start_time": "2022-09-21T23:11:28.737Z"
   },
   {
    "duration": 45,
    "start_time": "2022-09-21T23:11:29.469Z"
   },
   {
    "duration": 236,
    "start_time": "2022-09-21T23:11:29.516Z"
   },
   {
    "duration": 36,
    "start_time": "2022-09-21T23:11:29.755Z"
   },
   {
    "duration": 836,
    "start_time": "2022-09-21T23:11:29.793Z"
   },
   {
    "duration": 58,
    "start_time": "2022-09-21T23:11:30.631Z"
   },
   {
    "duration": 6,
    "start_time": "2022-09-21T23:11:30.691Z"
   },
   {
    "duration": 22,
    "start_time": "2022-09-21T23:11:30.699Z"
   },
   {
    "duration": 22,
    "start_time": "2022-09-21T23:11:30.723Z"
   },
   {
    "duration": 65,
    "start_time": "2022-09-21T23:11:30.747Z"
   },
   {
    "duration": 80,
    "start_time": "2022-09-21T23:11:30.814Z"
   },
   {
    "duration": 501,
    "start_time": "2022-09-21T23:11:30.896Z"
   },
   {
    "duration": 27,
    "start_time": "2022-09-21T23:11:31.400Z"
   },
   {
    "duration": 72,
    "start_time": "2022-09-21T23:11:31.428Z"
   },
   {
    "duration": 16,
    "start_time": "2022-09-21T23:11:31.502Z"
   },
   {
    "duration": 10201,
    "start_time": "2022-09-21T23:11:31.519Z"
   },
   {
    "duration": 9630,
    "start_time": "2022-09-21T23:11:41.722Z"
   },
   {
    "duration": 6,
    "start_time": "2022-09-21T23:11:51.354Z"
   },
   {
    "duration": 758,
    "start_time": "2022-09-21T23:11:51.362Z"
   },
   {
    "duration": 620,
    "start_time": "2022-09-21T23:11:52.121Z"
   },
   {
    "duration": 9,
    "start_time": "2022-09-21T23:11:52.742Z"
   },
   {
    "duration": 1189,
    "start_time": "2022-09-21T23:11:52.753Z"
   },
   {
    "duration": 3,
    "start_time": "2022-09-21T23:11:53.944Z"
   },
   {
    "duration": 8,
    "start_time": "2022-09-21T23:11:53.948Z"
   },
   {
    "duration": 8,
    "start_time": "2022-09-21T23:11:53.958Z"
   },
   {
    "duration": 5,
    "start_time": "2022-09-21T23:11:53.968Z"
   },
   {
    "duration": 14,
    "start_time": "2022-09-21T23:11:53.975Z"
   },
   {
    "duration": 12,
    "start_time": "2022-09-21T23:11:53.991Z"
   },
   {
    "duration": 5,
    "start_time": "2022-09-21T23:11:54.005Z"
   },
   {
    "duration": 1479,
    "start_time": "2022-09-21T23:11:54.012Z"
   },
   {
    "duration": 30810,
    "start_time": "2022-09-21T23:11:55.493Z"
   },
   {
    "duration": 4602,
    "start_time": "2022-09-21T23:12:26.305Z"
   },
   {
    "duration": 47857,
    "start_time": "2022-09-21T23:12:30.909Z"
   },
   {
    "duration": 40,
    "start_time": "2022-09-21T23:13:18.767Z"
   },
   {
    "duration": 181,
    "start_time": "2022-09-21T23:13:18.809Z"
   },
   {
    "duration": 18,
    "start_time": "2022-09-21T23:13:18.992Z"
   },
   {
    "duration": 106,
    "start_time": "2022-09-21T23:13:19.094Z"
   },
   {
    "duration": 25,
    "start_time": "2022-09-21T23:22:10.725Z"
   },
   {
    "duration": 16,
    "start_time": "2022-09-21T23:23:25.373Z"
   },
   {
    "duration": 4,
    "start_time": "2022-09-21T23:24:07.253Z"
   },
   {
    "duration": 3,
    "start_time": "2022-09-21T23:24:12.325Z"
   },
   {
    "duration": 9,
    "start_time": "2022-09-21T23:24:12.719Z"
   },
   {
    "duration": 4,
    "start_time": "2022-09-21T23:24:13.284Z"
   },
   {
    "duration": 134,
    "start_time": "2022-09-21T23:24:15.493Z"
   },
   {
    "duration": 2,
    "start_time": "2022-09-21T23:24:49.339Z"
   },
   {
    "duration": 7,
    "start_time": "2022-09-21T23:24:51.841Z"
   },
   {
    "duration": 3,
    "start_time": "2022-09-21T23:24:53.205Z"
   },
   {
    "duration": 9,
    "start_time": "2022-09-21T23:24:53.779Z"
   },
   {
    "duration": 4,
    "start_time": "2022-09-21T23:24:54.280Z"
   },
   {
    "duration": 28,
    "start_time": "2022-09-21T23:24:55.024Z"
   },
   {
    "duration": 1496,
    "start_time": "2022-09-21T23:25:05.552Z"
   },
   {
    "duration": 735,
    "start_time": "2022-09-21T23:25:07.050Z"
   },
   {
    "duration": 44,
    "start_time": "2022-09-21T23:25:07.787Z"
   },
   {
    "duration": 263,
    "start_time": "2022-09-21T23:25:07.833Z"
   },
   {
    "duration": 29,
    "start_time": "2022-09-21T23:25:08.098Z"
   },
   {
    "duration": 607,
    "start_time": "2022-09-21T23:25:08.129Z"
   },
   {
    "duration": 5,
    "start_time": "2022-09-21T23:25:08.738Z"
   },
   {
    "duration": 7,
    "start_time": "2022-09-21T23:25:08.745Z"
   },
   {
    "duration": 13,
    "start_time": "2022-09-21T23:25:08.754Z"
   },
   {
    "duration": 10,
    "start_time": "2022-09-21T23:25:08.788Z"
   },
   {
    "duration": 13,
    "start_time": "2022-09-21T23:25:08.800Z"
   },
   {
    "duration": 23,
    "start_time": "2022-09-21T23:25:08.815Z"
   },
   {
    "duration": 263,
    "start_time": "2022-09-21T23:25:08.840Z"
   },
   {
    "duration": 28,
    "start_time": "2022-09-21T23:25:09.107Z"
   },
   {
    "duration": 8,
    "start_time": "2022-09-21T23:25:09.137Z"
   },
   {
    "duration": 12,
    "start_time": "2022-09-21T23:25:09.146Z"
   },
   {
    "duration": 10241,
    "start_time": "2022-09-21T23:25:09.160Z"
   },
   {
    "duration": 10164,
    "start_time": "2022-09-21T23:25:19.403Z"
   },
   {
    "duration": 6,
    "start_time": "2022-09-21T23:25:29.569Z"
   },
   {
    "duration": 713,
    "start_time": "2022-09-21T23:25:29.589Z"
   },
   {
    "duration": 674,
    "start_time": "2022-09-21T23:25:30.304Z"
   },
   {
    "duration": 10,
    "start_time": "2022-09-21T23:25:30.980Z"
   },
   {
    "duration": 1289,
    "start_time": "2022-09-21T23:25:30.991Z"
   },
   {
    "duration": 7,
    "start_time": "2022-09-21T23:25:32.282Z"
   },
   {
    "duration": 12,
    "start_time": "2022-09-21T23:25:32.291Z"
   },
   {
    "duration": 5,
    "start_time": "2022-09-21T23:25:32.304Z"
   },
   {
    "duration": 15,
    "start_time": "2022-09-21T23:25:32.310Z"
   },
   {
    "duration": 5,
    "start_time": "2022-09-21T23:25:32.327Z"
   },
   {
    "duration": 1456,
    "start_time": "2022-09-21T23:25:32.334Z"
   },
   {
    "duration": 30264,
    "start_time": "2022-09-21T23:25:33.793Z"
   },
   {
    "duration": 4640,
    "start_time": "2022-09-21T23:26:04.058Z"
   },
   {
    "duration": 45470,
    "start_time": "2022-09-21T23:26:08.700Z"
   },
   {
    "duration": 37,
    "start_time": "2022-09-21T23:26:54.171Z"
   },
   {
    "duration": 84,
    "start_time": "2022-09-21T23:26:54.211Z"
   },
   {
    "duration": 192,
    "start_time": "2022-09-21T23:26:54.297Z"
   },
   {
    "duration": 96,
    "start_time": "2022-09-21T23:26:54.493Z"
   },
   {
    "duration": 18,
    "start_time": "2022-09-21T23:41:05.451Z"
   },
   {
    "duration": 4,
    "start_time": "2022-09-21T23:42:38.036Z"
   },
   {
    "duration": 3,
    "start_time": "2022-09-21T23:43:34.037Z"
   },
   {
    "duration": 8,
    "start_time": "2022-09-21T23:43:34.326Z"
   },
   {
    "duration": 3,
    "start_time": "2022-09-21T23:43:35.168Z"
   },
   {
    "duration": 129,
    "start_time": "2022-09-21T23:43:35.929Z"
   },
   {
    "duration": 25,
    "start_time": "2022-09-21T23:43:51.242Z"
   },
   {
    "duration": 24,
    "start_time": "2022-09-21T23:43:58.711Z"
   },
   {
    "duration": 29,
    "start_time": "2022-09-21T23:43:59.013Z"
   },
   {
    "duration": 95,
    "start_time": "2022-09-21T23:43:59.795Z"
   },
   {
    "duration": 8,
    "start_time": "2022-09-21T23:44:00.982Z"
   },
   {
    "duration": 74,
    "start_time": "2022-09-21T23:44:01.516Z"
   },
   {
    "duration": 8,
    "start_time": "2022-09-21T23:44:02.342Z"
   },
   {
    "duration": 72,
    "start_time": "2022-09-21T23:44:32.719Z"
   },
   {
    "duration": 81,
    "start_time": "2022-09-21T23:45:50.309Z"
   },
   {
    "duration": 8,
    "start_time": "2022-09-21T23:45:56.462Z"
   },
   {
    "duration": 3,
    "start_time": "2022-09-21T23:58:13.882Z"
   },
   {
    "duration": 3,
    "start_time": "2022-09-22T00:00:02.789Z"
   },
   {
    "duration": 3,
    "start_time": "2022-09-22T00:00:08.383Z"
   },
   {
    "duration": 3,
    "start_time": "2022-09-22T00:00:14.301Z"
   },
   {
    "duration": 4,
    "start_time": "2022-09-22T00:00:20.575Z"
   },
   {
    "duration": 6,
    "start_time": "2022-09-22T00:00:42.006Z"
   },
   {
    "duration": 704,
    "start_time": "2022-09-22T00:00:42.015Z"
   },
   {
    "duration": 42,
    "start_time": "2022-09-22T00:00:42.721Z"
   },
   {
    "duration": 238,
    "start_time": "2022-09-22T00:00:42.764Z"
   },
   {
    "duration": 30,
    "start_time": "2022-09-22T00:00:43.004Z"
   },
   {
    "duration": 595,
    "start_time": "2022-09-22T00:00:43.036Z"
   },
   {
    "duration": 4,
    "start_time": "2022-09-22T00:00:43.633Z"
   },
   {
    "duration": 8,
    "start_time": "2022-09-22T00:00:43.640Z"
   },
   {
    "duration": 13,
    "start_time": "2022-09-22T00:00:43.650Z"
   },
   {
    "duration": 22,
    "start_time": "2022-09-22T00:00:43.666Z"
   },
   {
    "duration": 11,
    "start_time": "2022-09-22T00:00:43.690Z"
   },
   {
    "duration": 21,
    "start_time": "2022-09-22T00:00:43.703Z"
   },
   {
    "duration": 244,
    "start_time": "2022-09-22T00:00:43.726Z"
   },
   {
    "duration": 28,
    "start_time": "2022-09-22T00:00:43.972Z"
   },
   {
    "duration": 5,
    "start_time": "2022-09-22T00:00:44.002Z"
   },
   {
    "duration": 7,
    "start_time": "2022-09-22T00:00:44.009Z"
   },
   {
    "duration": 10299,
    "start_time": "2022-09-22T00:00:44.018Z"
   },
   {
    "duration": 10010,
    "start_time": "2022-09-22T00:00:54.319Z"
   },
   {
    "duration": 5,
    "start_time": "2022-09-22T00:01:04.331Z"
   },
   {
    "duration": 768,
    "start_time": "2022-09-22T00:01:04.338Z"
   },
   {
    "duration": 650,
    "start_time": "2022-09-22T00:01:05.109Z"
   },
   {
    "duration": 9,
    "start_time": "2022-09-22T00:01:05.761Z"
   },
   {
    "duration": 1215,
    "start_time": "2022-09-22T00:01:05.771Z"
   },
   {
    "duration": 3,
    "start_time": "2022-09-22T00:01:06.987Z"
   },
   {
    "duration": 7,
    "start_time": "2022-09-22T00:01:06.992Z"
   },
   {
    "duration": 12,
    "start_time": "2022-09-22T00:01:07.001Z"
   },
   {
    "duration": 8,
    "start_time": "2022-09-22T00:01:07.014Z"
   },
   {
    "duration": 6,
    "start_time": "2022-09-22T00:01:07.025Z"
   },
   {
    "duration": 8,
    "start_time": "2022-09-22T00:01:07.032Z"
   },
   {
    "duration": 12,
    "start_time": "2022-09-22T00:01:07.042Z"
   },
   {
    "duration": 13,
    "start_time": "2022-09-22T00:01:07.056Z"
   },
   {
    "duration": 16,
    "start_time": "2022-09-22T00:01:07.071Z"
   },
   {
    "duration": 12,
    "start_time": "2022-09-22T00:01:07.089Z"
   },
   {
    "duration": 16,
    "start_time": "2022-09-22T00:01:07.103Z"
   },
   {
    "duration": 6,
    "start_time": "2022-09-22T00:01:07.121Z"
   },
   {
    "duration": 7,
    "start_time": "2022-09-22T00:01:07.128Z"
   },
   {
    "duration": 11,
    "start_time": "2022-09-22T00:02:02.135Z"
   },
   {
    "duration": 3,
    "start_time": "2022-09-22T00:02:29.692Z"
   },
   {
    "duration": 3,
    "start_time": "2022-09-22T00:02:45.563Z"
   },
   {
    "duration": 3,
    "start_time": "2022-09-22T00:02:46.542Z"
   },
   {
    "duration": 10,
    "start_time": "2022-09-22T00:02:54.420Z"
   },
   {
    "duration": 10,
    "start_time": "2022-09-22T00:03:07.537Z"
   },
   {
    "duration": 3,
    "start_time": "2022-09-22T00:05:00.882Z"
   },
   {
    "duration": 10,
    "start_time": "2022-09-22T00:05:11.027Z"
   },
   {
    "duration": 99,
    "start_time": "2022-09-22T00:05:27.231Z"
   },
   {
    "duration": 3,
    "start_time": "2022-09-22T00:06:33.641Z"
   },
   {
    "duration": 737,
    "start_time": "2022-09-22T00:06:33.646Z"
   },
   {
    "duration": 41,
    "start_time": "2022-09-22T00:06:34.385Z"
   },
   {
    "duration": 231,
    "start_time": "2022-09-22T00:06:34.428Z"
   },
   {
    "duration": 38,
    "start_time": "2022-09-22T00:06:34.661Z"
   },
   {
    "duration": 579,
    "start_time": "2022-09-22T00:06:34.701Z"
   },
   {
    "duration": 9,
    "start_time": "2022-09-22T00:06:35.282Z"
   },
   {
    "duration": 11,
    "start_time": "2022-09-22T00:06:35.293Z"
   },
   {
    "duration": 13,
    "start_time": "2022-09-22T00:06:35.306Z"
   },
   {
    "duration": 8,
    "start_time": "2022-09-22T00:06:35.321Z"
   },
   {
    "duration": 13,
    "start_time": "2022-09-22T00:06:35.331Z"
   },
   {
    "duration": 45,
    "start_time": "2022-09-22T00:06:35.345Z"
   },
   {
    "duration": 235,
    "start_time": "2022-09-22T00:06:35.392Z"
   },
   {
    "duration": 23,
    "start_time": "2022-09-22T00:06:35.630Z"
   },
   {
    "duration": 5,
    "start_time": "2022-09-22T00:06:35.654Z"
   },
   {
    "duration": 6,
    "start_time": "2022-09-22T00:06:35.661Z"
   },
   {
    "duration": 10056,
    "start_time": "2022-09-22T00:06:35.688Z"
   },
   {
    "duration": 9980,
    "start_time": "2022-09-22T00:06:45.746Z"
   },
   {
    "duration": 4,
    "start_time": "2022-09-22T00:06:55.728Z"
   },
   {
    "duration": 615,
    "start_time": "2022-09-22T00:06:55.734Z"
   },
   {
    "duration": 611,
    "start_time": "2022-09-22T00:06:56.350Z"
   },
   {
    "duration": 9,
    "start_time": "2022-09-22T00:06:56.962Z"
   },
   {
    "duration": 1204,
    "start_time": "2022-09-22T00:06:56.972Z"
   },
   {
    "duration": 3,
    "start_time": "2022-09-22T00:06:58.177Z"
   },
   {
    "duration": 7,
    "start_time": "2022-09-22T00:06:58.188Z"
   },
   {
    "duration": 16,
    "start_time": "2022-09-22T00:06:58.197Z"
   },
   {
    "duration": 9,
    "start_time": "2022-09-22T00:06:58.215Z"
   },
   {
    "duration": 5,
    "start_time": "2022-09-22T00:06:58.226Z"
   },
   {
    "duration": 16,
    "start_time": "2022-09-22T00:06:58.233Z"
   },
   {
    "duration": 17,
    "start_time": "2022-09-22T00:06:58.251Z"
   },
   {
    "duration": 10,
    "start_time": "2022-09-22T00:06:58.270Z"
   },
   {
    "duration": 14,
    "start_time": "2022-09-22T00:06:58.283Z"
   },
   {
    "duration": 9,
    "start_time": "2022-09-22T00:06:58.299Z"
   },
   {
    "duration": 11,
    "start_time": "2022-09-22T00:06:58.310Z"
   },
   {
    "duration": 6,
    "start_time": "2022-09-22T00:06:58.323Z"
   },
   {
    "duration": 7,
    "start_time": "2022-09-22T00:06:58.330Z"
   },
   {
    "duration": 8,
    "start_time": "2022-09-22T00:06:58.339Z"
   },
   {
    "duration": 7,
    "start_time": "2022-09-22T00:06:58.349Z"
   },
   {
    "duration": 6,
    "start_time": "2022-09-22T00:06:58.358Z"
   },
   {
    "duration": 17,
    "start_time": "2022-09-22T00:06:58.366Z"
   },
   {
    "duration": 115,
    "start_time": "2022-09-22T00:06:58.387Z"
   },
   {
    "duration": 4,
    "start_time": "2022-09-22T00:10:54.290Z"
   },
   {
    "duration": 3,
    "start_time": "2022-09-22T00:10:54.671Z"
   },
   {
    "duration": 4,
    "start_time": "2022-09-22T00:10:55.071Z"
   },
   {
    "duration": 2,
    "start_time": "2022-09-22T00:10:55.754Z"
   },
   {
    "duration": 309,
    "start_time": "2022-09-22T00:10:58.209Z"
   },
   {
    "duration": 3,
    "start_time": "2022-09-22T00:13:21.428Z"
   },
   {
    "duration": 4,
    "start_time": "2022-09-22T00:13:21.845Z"
   },
   {
    "duration": 112,
    "start_time": "2022-09-22T00:13:23.921Z"
   },
   {
    "duration": 4,
    "start_time": "2022-09-22T00:17:14.917Z"
   },
   {
    "duration": 9,
    "start_time": "2022-09-22T00:17:24.022Z"
   },
   {
    "duration": 6,
    "start_time": "2022-09-22T00:20:18.244Z"
   },
   {
    "duration": 3,
    "start_time": "2022-09-22T00:20:25.757Z"
   },
   {
    "duration": 36,
    "start_time": "2022-09-22T00:26:37.737Z"
   },
   {
    "duration": 3,
    "start_time": "2022-09-22T00:26:42.827Z"
   },
   {
    "duration": 2,
    "start_time": "2022-09-22T00:26:43.610Z"
   },
   {
    "duration": 3,
    "start_time": "2022-09-22T00:26:44.043Z"
   },
   {
    "duration": 2,
    "start_time": "2022-09-22T00:26:44.348Z"
   },
   {
    "duration": 2,
    "start_time": "2022-09-22T00:26:44.612Z"
   },
   {
    "duration": 4,
    "start_time": "2022-09-22T00:26:45.324Z"
   },
   {
    "duration": 3,
    "start_time": "2022-09-22T00:26:45.696Z"
   },
   {
    "duration": 3,
    "start_time": "2022-09-22T00:26:46.086Z"
   },
   {
    "duration": 2,
    "start_time": "2022-09-22T00:26:47.401Z"
   },
   {
    "duration": 2,
    "start_time": "2022-09-22T00:26:47.727Z"
   },
   {
    "duration": 2,
    "start_time": "2022-09-22T00:26:48.079Z"
   },
   {
    "duration": 2,
    "start_time": "2022-09-22T00:26:49.388Z"
   },
   {
    "duration": 11,
    "start_time": "2022-09-22T00:26:54.930Z"
   },
   {
    "duration": 3,
    "start_time": "2022-09-22T00:27:22.234Z"
   },
   {
    "duration": 4,
    "start_time": "2022-09-22T00:27:23.659Z"
   },
   {
    "duration": 5,
    "start_time": "2022-09-22T00:27:38.042Z"
   },
   {
    "duration": 4,
    "start_time": "2022-09-22T00:27:48.296Z"
   },
   {
    "duration": 2,
    "start_time": "2022-09-22T00:27:56.514Z"
   },
   {
    "duration": 6,
    "start_time": "2022-09-22T00:28:06.656Z"
   },
   {
    "duration": 2,
    "start_time": "2022-09-22T00:28:18.177Z"
   },
   {
    "duration": 54,
    "start_time": "2022-09-22T00:28:32.344Z"
   },
   {
    "duration": 4,
    "start_time": "2022-09-22T00:29:22.783Z"
   },
   {
    "duration": 2,
    "start_time": "2022-09-22T00:29:24.120Z"
   },
   {
    "duration": 4,
    "start_time": "2022-09-22T00:29:24.398Z"
   },
   {
    "duration": 17,
    "start_time": "2022-09-22T00:29:24.693Z"
   },
   {
    "duration": 4,
    "start_time": "2022-09-22T00:29:25.706Z"
   },
   {
    "duration": 15,
    "start_time": "2022-09-22T00:29:35.630Z"
   },
   {
    "duration": 3,
    "start_time": "2022-09-22T00:29:42.349Z"
   },
   {
    "duration": 4,
    "start_time": "2022-09-22T00:29:42.941Z"
   },
   {
    "duration": 15,
    "start_time": "2022-09-22T00:29:43.729Z"
   },
   {
    "duration": 3,
    "start_time": "2022-09-22T00:29:44.522Z"
   },
   {
    "duration": 3,
    "start_time": "2022-09-22T00:29:45.471Z"
   },
   {
    "duration": 6,
    "start_time": "2022-09-22T00:29:47.948Z"
   },
   {
    "duration": 3,
    "start_time": "2022-09-22T00:29:48.750Z"
   },
   {
    "duration": 48,
    "start_time": "2022-09-22T00:29:49.518Z"
   },
   {
    "duration": 5,
    "start_time": "2022-09-22T00:30:10.224Z"
   },
   {
    "duration": 780,
    "start_time": "2022-09-22T00:30:10.231Z"
   },
   {
    "duration": 46,
    "start_time": "2022-09-22T00:30:11.013Z"
   },
   {
    "duration": 261,
    "start_time": "2022-09-22T00:30:11.061Z"
   },
   {
    "duration": 36,
    "start_time": "2022-09-22T00:30:11.325Z"
   },
   {
    "duration": 673,
    "start_time": "2022-09-22T00:30:11.363Z"
   },
   {
    "duration": 4,
    "start_time": "2022-09-22T00:30:12.038Z"
   },
   {
    "duration": 10,
    "start_time": "2022-09-22T00:30:12.044Z"
   },
   {
    "duration": 21,
    "start_time": "2022-09-22T00:30:12.056Z"
   },
   {
    "duration": 23,
    "start_time": "2022-09-22T00:30:12.079Z"
   },
   {
    "duration": 41,
    "start_time": "2022-09-22T00:30:12.104Z"
   },
   {
    "duration": 49,
    "start_time": "2022-09-22T00:30:12.147Z"
   },
   {
    "duration": 288,
    "start_time": "2022-09-22T00:30:12.198Z"
   },
   {
    "duration": 24,
    "start_time": "2022-09-22T00:30:12.489Z"
   },
   {
    "duration": 7,
    "start_time": "2022-09-22T00:30:12.515Z"
   },
   {
    "duration": 10,
    "start_time": "2022-09-22T00:30:12.524Z"
   },
   {
    "duration": 10736,
    "start_time": "2022-09-22T00:30:12.536Z"
   },
   {
    "duration": 10428,
    "start_time": "2022-09-22T00:30:23.274Z"
   },
   {
    "duration": 5,
    "start_time": "2022-09-22T00:30:33.703Z"
   },
   {
    "duration": 640,
    "start_time": "2022-09-22T00:30:33.710Z"
   },
   {
    "duration": 627,
    "start_time": "2022-09-22T00:30:34.352Z"
   },
   {
    "duration": 9,
    "start_time": "2022-09-22T00:30:34.984Z"
   },
   {
    "duration": 1504,
    "start_time": "2022-09-22T00:30:34.996Z"
   },
   {
    "duration": 38,
    "start_time": "2022-09-22T00:30:36.502Z"
   },
   {
    "duration": 3,
    "start_time": "2022-09-22T00:30:36.542Z"
   },
   {
    "duration": 9,
    "start_time": "2022-09-22T00:30:36.546Z"
   },
   {
    "duration": 8,
    "start_time": "2022-09-22T00:30:36.556Z"
   },
   {
    "duration": 6,
    "start_time": "2022-09-22T00:30:36.565Z"
   },
   {
    "duration": 17,
    "start_time": "2022-09-22T00:30:36.572Z"
   },
   {
    "duration": 4,
    "start_time": "2022-09-22T00:30:36.591Z"
   },
   {
    "duration": 6,
    "start_time": "2022-09-22T00:30:36.597Z"
   },
   {
    "duration": 8,
    "start_time": "2022-09-22T00:30:36.605Z"
   },
   {
    "duration": 8,
    "start_time": "2022-09-22T00:30:36.615Z"
   },
   {
    "duration": 16,
    "start_time": "2022-09-22T00:30:36.625Z"
   },
   {
    "duration": 12,
    "start_time": "2022-09-22T00:30:36.643Z"
   },
   {
    "duration": 6,
    "start_time": "2022-09-22T00:30:36.657Z"
   },
   {
    "duration": 6,
    "start_time": "2022-09-22T00:30:36.665Z"
   },
   {
    "duration": 19,
    "start_time": "2022-09-22T00:30:36.673Z"
   },
   {
    "duration": 16,
    "start_time": "2022-09-22T00:30:36.694Z"
   },
   {
    "duration": 25,
    "start_time": "2022-09-22T00:30:36.712Z"
   },
   {
    "duration": 29,
    "start_time": "2022-09-22T00:30:36.741Z"
   },
   {
    "duration": 21,
    "start_time": "2022-09-22T00:30:36.772Z"
   },
   {
    "duration": 9,
    "start_time": "2022-09-22T00:30:36.795Z"
   },
   {
    "duration": 12,
    "start_time": "2022-09-22T00:30:36.806Z"
   },
   {
    "duration": 52,
    "start_time": "2022-09-22T00:30:36.820Z"
   },
   {
    "duration": 3,
    "start_time": "2022-09-22T00:30:59.585Z"
   },
   {
    "duration": 14,
    "start_time": "2022-09-22T00:31:29.352Z"
   },
   {
    "duration": 403,
    "start_time": "2022-09-22T00:32:12.055Z"
   },
   {
    "duration": 49,
    "start_time": "2022-09-22T00:32:15.141Z"
   },
   {
    "duration": 3,
    "start_time": "2022-09-22T00:32:15.478Z"
   },
   {
    "duration": 389,
    "start_time": "2022-09-22T00:32:20.301Z"
   },
   {
    "duration": 512,
    "start_time": "2022-09-22T00:32:42.914Z"
   },
   {
    "duration": 4,
    "start_time": "2022-09-22T00:32:58.534Z"
   },
   {
    "duration": 6,
    "start_time": "2022-09-22T00:33:41.822Z"
   },
   {
    "duration": 687,
    "start_time": "2022-09-22T00:33:41.830Z"
   },
   {
    "duration": 44,
    "start_time": "2022-09-22T00:33:42.519Z"
   },
   {
    "duration": 241,
    "start_time": "2022-09-22T00:33:42.565Z"
   },
   {
    "duration": 29,
    "start_time": "2022-09-22T00:33:42.808Z"
   },
   {
    "duration": 609,
    "start_time": "2022-09-22T00:33:42.839Z"
   },
   {
    "duration": 4,
    "start_time": "2022-09-22T00:33:43.450Z"
   },
   {
    "duration": 16,
    "start_time": "2022-09-22T00:33:43.456Z"
   },
   {
    "duration": 38,
    "start_time": "2022-09-22T00:33:43.473Z"
   },
   {
    "duration": 6,
    "start_time": "2022-09-22T00:33:43.514Z"
   },
   {
    "duration": 22,
    "start_time": "2022-09-22T00:33:43.522Z"
   },
   {
    "duration": 26,
    "start_time": "2022-09-22T00:33:43.546Z"
   },
   {
    "duration": 232,
    "start_time": "2022-09-22T00:33:43.574Z"
   },
   {
    "duration": 22,
    "start_time": "2022-09-22T00:33:43.808Z"
   },
   {
    "duration": 5,
    "start_time": "2022-09-22T00:33:43.832Z"
   },
   {
    "duration": 11,
    "start_time": "2022-09-22T00:33:43.839Z"
   },
   {
    "duration": 10635,
    "start_time": "2022-09-22T00:33:43.852Z"
   },
   {
    "duration": 10244,
    "start_time": "2022-09-22T00:33:54.489Z"
   },
   {
    "duration": 5,
    "start_time": "2022-09-22T00:34:04.735Z"
   },
   {
    "duration": 1147,
    "start_time": "2022-09-22T00:34:04.742Z"
   },
   {
    "duration": 1024,
    "start_time": "2022-09-22T00:34:05.891Z"
   },
   {
    "duration": 9,
    "start_time": "2022-09-22T00:34:06.917Z"
   },
   {
    "duration": 1566,
    "start_time": "2022-09-22T00:34:06.928Z"
   },
   {
    "duration": 28,
    "start_time": "2022-09-22T00:34:08.496Z"
   },
   {
    "duration": 3,
    "start_time": "2022-09-22T00:34:08.526Z"
   },
   {
    "duration": 9,
    "start_time": "2022-09-22T00:34:08.530Z"
   },
   {
    "duration": 6,
    "start_time": "2022-09-22T00:34:08.541Z"
   },
   {
    "duration": 10,
    "start_time": "2022-09-22T00:34:08.550Z"
   },
   {
    "duration": 10,
    "start_time": "2022-09-22T00:34:08.562Z"
   },
   {
    "duration": 16,
    "start_time": "2022-09-22T00:34:08.573Z"
   },
   {
    "duration": 8,
    "start_time": "2022-09-22T00:34:08.592Z"
   },
   {
    "duration": 7,
    "start_time": "2022-09-22T00:34:08.602Z"
   },
   {
    "duration": 7,
    "start_time": "2022-09-22T00:34:08.611Z"
   },
   {
    "duration": 7,
    "start_time": "2022-09-22T00:34:08.620Z"
   },
   {
    "duration": 14,
    "start_time": "2022-09-22T00:34:08.628Z"
   },
   {
    "duration": 10,
    "start_time": "2022-09-22T00:34:08.644Z"
   },
   {
    "duration": 8,
    "start_time": "2022-09-22T00:34:08.656Z"
   },
   {
    "duration": 8,
    "start_time": "2022-09-22T00:34:08.666Z"
   },
   {
    "duration": 11,
    "start_time": "2022-09-22T00:34:08.676Z"
   },
   {
    "duration": 9,
    "start_time": "2022-09-22T00:34:08.689Z"
   },
   {
    "duration": 5,
    "start_time": "2022-09-22T00:34:08.700Z"
   },
   {
    "duration": 8,
    "start_time": "2022-09-22T00:34:08.707Z"
   },
   {
    "duration": 9,
    "start_time": "2022-09-22T00:34:08.717Z"
   },
   {
    "duration": 5,
    "start_time": "2022-09-22T00:34:08.728Z"
   },
   {
    "duration": 54,
    "start_time": "2022-09-22T00:34:08.735Z"
   },
   {
    "duration": 3,
    "start_time": "2022-09-22T00:34:08.791Z"
   },
   {
    "duration": 399,
    "start_time": "2022-09-22T00:34:08.795Z"
   },
   {
    "duration": 512,
    "start_time": "2022-09-22T00:34:09.196Z"
   },
   {
    "duration": 4,
    "start_time": "2022-09-22T00:34:09.709Z"
   },
   {
    "duration": 4,
    "start_time": "2022-09-22T00:36:16.326Z"
   },
   {
    "duration": 4,
    "start_time": "2022-09-22T00:36:23.326Z"
   },
   {
    "duration": 4,
    "start_time": "2022-09-22T00:36:41.825Z"
   },
   {
    "duration": 5,
    "start_time": "2022-09-22T00:37:34.104Z"
   },
   {
    "duration": 647,
    "start_time": "2022-09-22T00:37:34.111Z"
   },
   {
    "duration": 48,
    "start_time": "2022-09-22T00:37:34.760Z"
   },
   {
    "duration": 238,
    "start_time": "2022-09-22T00:37:34.809Z"
   },
   {
    "duration": 48,
    "start_time": "2022-09-22T00:37:35.050Z"
   },
   {
    "duration": 591,
    "start_time": "2022-09-22T00:37:35.100Z"
   },
   {
    "duration": 5,
    "start_time": "2022-09-22T00:37:35.692Z"
   },
   {
    "duration": 6,
    "start_time": "2022-09-22T00:37:35.699Z"
   },
   {
    "duration": 13,
    "start_time": "2022-09-22T00:37:35.706Z"
   },
   {
    "duration": 14,
    "start_time": "2022-09-22T00:37:35.721Z"
   },
   {
    "duration": 17,
    "start_time": "2022-09-22T00:37:35.737Z"
   },
   {
    "duration": 43,
    "start_time": "2022-09-22T00:37:35.755Z"
   },
   {
    "duration": 242,
    "start_time": "2022-09-22T00:37:35.800Z"
   },
   {
    "duration": 23,
    "start_time": "2022-09-22T00:37:36.045Z"
   },
   {
    "duration": 21,
    "start_time": "2022-09-22T00:37:36.070Z"
   },
   {
    "duration": 7,
    "start_time": "2022-09-22T00:37:36.093Z"
   },
   {
    "duration": 10342,
    "start_time": "2022-09-22T00:37:36.102Z"
   },
   {
    "duration": 10655,
    "start_time": "2022-09-22T00:37:46.446Z"
   },
   {
    "duration": 6,
    "start_time": "2022-09-22T00:37:57.103Z"
   },
   {
    "duration": 642,
    "start_time": "2022-09-22T00:37:57.112Z"
   },
   {
    "duration": 634,
    "start_time": "2022-09-22T00:37:57.757Z"
   },
   {
    "duration": 9,
    "start_time": "2022-09-22T00:37:58.393Z"
   },
   {
    "duration": 1472,
    "start_time": "2022-09-22T00:37:58.403Z"
   },
   {
    "duration": 36,
    "start_time": "2022-09-22T00:37:59.878Z"
   },
   {
    "duration": 3,
    "start_time": "2022-09-22T00:37:59.916Z"
   },
   {
    "duration": 11,
    "start_time": "2022-09-22T00:37:59.920Z"
   },
   {
    "duration": 7,
    "start_time": "2022-09-22T00:37:59.933Z"
   },
   {
    "duration": 11,
    "start_time": "2022-09-22T00:37:59.942Z"
   },
   {
    "duration": 5,
    "start_time": "2022-09-22T00:37:59.955Z"
   },
   {
    "duration": 7,
    "start_time": "2022-09-22T00:37:59.962Z"
   },
   {
    "duration": 15,
    "start_time": "2022-09-22T00:37:59.970Z"
   },
   {
    "duration": 9,
    "start_time": "2022-09-22T00:37:59.987Z"
   },
   {
    "duration": 7,
    "start_time": "2022-09-22T00:37:59.998Z"
   },
   {
    "duration": 7,
    "start_time": "2022-09-22T00:38:00.007Z"
   },
   {
    "duration": 8,
    "start_time": "2022-09-22T00:38:00.015Z"
   },
   {
    "duration": 21,
    "start_time": "2022-09-22T00:38:00.025Z"
   },
   {
    "duration": 23,
    "start_time": "2022-09-22T00:38:00.048Z"
   },
   {
    "duration": 0,
    "start_time": "2022-09-22T00:38:00.073Z"
   },
   {
    "duration": 0,
    "start_time": "2022-09-22T00:38:00.074Z"
   },
   {
    "duration": 0,
    "start_time": "2022-09-22T00:38:00.076Z"
   },
   {
    "duration": 0,
    "start_time": "2022-09-22T00:38:00.077Z"
   },
   {
    "duration": 0,
    "start_time": "2022-09-22T00:38:00.078Z"
   },
   {
    "duration": 0,
    "start_time": "2022-09-22T00:38:00.079Z"
   },
   {
    "duration": 0,
    "start_time": "2022-09-22T00:38:00.081Z"
   },
   {
    "duration": 0,
    "start_time": "2022-09-22T00:38:00.082Z"
   },
   {
    "duration": 0,
    "start_time": "2022-09-22T00:38:00.083Z"
   },
   {
    "duration": 0,
    "start_time": "2022-09-22T00:38:00.084Z"
   },
   {
    "duration": 0,
    "start_time": "2022-09-22T00:38:00.085Z"
   },
   {
    "duration": 0,
    "start_time": "2022-09-22T00:38:00.086Z"
   },
   {
    "duration": 3,
    "start_time": "2022-09-22T00:42:37.312Z"
   },
   {
    "duration": 4,
    "start_time": "2022-09-22T00:42:38.285Z"
   },
   {
    "duration": 5,
    "start_time": "2022-09-22T00:42:39.414Z"
   },
   {
    "duration": 3,
    "start_time": "2022-09-22T00:42:39.859Z"
   },
   {
    "duration": 3,
    "start_time": "2022-09-22T00:42:40.370Z"
   },
   {
    "duration": 4,
    "start_time": "2022-09-22T00:42:40.734Z"
   },
   {
    "duration": 6,
    "start_time": "2022-09-22T00:42:41.286Z"
   },
   {
    "duration": 2,
    "start_time": "2022-09-22T00:42:43.441Z"
   },
   {
    "duration": 47,
    "start_time": "2022-09-22T00:42:44.136Z"
   },
   {
    "duration": 3,
    "start_time": "2022-09-22T00:42:44.721Z"
   },
   {
    "duration": 366,
    "start_time": "2022-09-22T00:42:45.440Z"
   },
   {
    "duration": 474,
    "start_time": "2022-09-22T00:42:46.241Z"
   },
   {
    "duration": 6,
    "start_time": "2022-09-22T00:42:46.745Z"
   },
   {
    "duration": 46,
    "start_time": "2022-09-22T00:45:42.771Z"
   },
   {
    "duration": 3,
    "start_time": "2022-09-22T00:45:52.403Z"
   },
   {
    "duration": 5,
    "start_time": "2022-09-22T00:46:04.362Z"
   },
   {
    "duration": 671,
    "start_time": "2022-09-22T00:46:04.369Z"
   },
   {
    "duration": 56,
    "start_time": "2022-09-22T00:46:05.042Z"
   },
   {
    "duration": 248,
    "start_time": "2022-09-22T00:46:05.101Z"
   },
   {
    "duration": 42,
    "start_time": "2022-09-22T00:46:05.351Z"
   },
   {
    "duration": 609,
    "start_time": "2022-09-22T00:46:05.395Z"
   },
   {
    "duration": 4,
    "start_time": "2022-09-22T00:46:06.006Z"
   },
   {
    "duration": 8,
    "start_time": "2022-09-22T00:46:06.012Z"
   },
   {
    "duration": 31,
    "start_time": "2022-09-22T00:46:06.021Z"
   },
   {
    "duration": 6,
    "start_time": "2022-09-22T00:46:06.055Z"
   },
   {
    "duration": 14,
    "start_time": "2022-09-22T00:46:06.063Z"
   },
   {
    "duration": 23,
    "start_time": "2022-09-22T00:46:06.088Z"
   },
   {
    "duration": 258,
    "start_time": "2022-09-22T00:46:06.113Z"
   },
   {
    "duration": 28,
    "start_time": "2022-09-22T00:46:06.373Z"
   },
   {
    "duration": 6,
    "start_time": "2022-09-22T00:46:06.403Z"
   },
   {
    "duration": 6,
    "start_time": "2022-09-22T00:46:06.410Z"
   },
   {
    "duration": 10236,
    "start_time": "2022-09-22T00:46:06.418Z"
   },
   {
    "duration": 10362,
    "start_time": "2022-09-22T00:46:16.656Z"
   },
   {
    "duration": 4,
    "start_time": "2022-09-22T00:46:27.020Z"
   },
   {
    "duration": 621,
    "start_time": "2022-09-22T00:46:27.025Z"
   },
   {
    "duration": 622,
    "start_time": "2022-09-22T00:46:27.648Z"
   },
   {
    "duration": 9,
    "start_time": "2022-09-22T00:46:28.273Z"
   },
   {
    "duration": 1182,
    "start_time": "2022-09-22T00:46:28.288Z"
   },
   {
    "duration": 36,
    "start_time": "2022-09-22T00:46:29.472Z"
   },
   {
    "duration": 3,
    "start_time": "2022-09-22T00:46:29.510Z"
   },
   {
    "duration": 7,
    "start_time": "2022-09-22T00:46:29.514Z"
   },
   {
    "duration": 6,
    "start_time": "2022-09-22T00:46:29.523Z"
   },
   {
    "duration": 3,
    "start_time": "2022-09-22T00:46:29.533Z"
   },
   {
    "duration": 6,
    "start_time": "2022-09-22T00:46:29.538Z"
   },
   {
    "duration": 5,
    "start_time": "2022-09-22T00:46:29.546Z"
   },
   {
    "duration": 7,
    "start_time": "2022-09-22T00:46:29.553Z"
   },
   {
    "duration": 8,
    "start_time": "2022-09-22T00:46:29.562Z"
   },
   {
    "duration": 19,
    "start_time": "2022-09-22T00:46:29.571Z"
   },
   {
    "duration": 7,
    "start_time": "2022-09-22T00:46:29.592Z"
   },
   {
    "duration": 5,
    "start_time": "2022-09-22T00:46:29.600Z"
   },
   {
    "duration": 5,
    "start_time": "2022-09-22T00:46:29.607Z"
   },
   {
    "duration": 6,
    "start_time": "2022-09-22T00:46:29.613Z"
   },
   {
    "duration": 11,
    "start_time": "2022-09-22T00:46:29.620Z"
   },
   {
    "duration": 7,
    "start_time": "2022-09-22T00:46:29.632Z"
   },
   {
    "duration": 4,
    "start_time": "2022-09-22T00:46:29.641Z"
   },
   {
    "duration": 4,
    "start_time": "2022-09-22T00:46:29.647Z"
   },
   {
    "duration": 10,
    "start_time": "2022-09-22T00:46:29.653Z"
   },
   {
    "duration": 29,
    "start_time": "2022-09-22T00:46:29.664Z"
   },
   {
    "duration": 6,
    "start_time": "2022-09-22T00:46:29.695Z"
   },
   {
    "duration": 3,
    "start_time": "2022-09-22T00:47:59.908Z"
   },
   {
    "duration": 47,
    "start_time": "2022-09-22T00:48:01.313Z"
   },
   {
    "duration": 3,
    "start_time": "2022-09-22T00:48:02.163Z"
   },
   {
    "duration": 15,
    "start_time": "2022-09-22T00:50:32.289Z"
   },
   {
    "duration": 15,
    "start_time": "2022-09-22T00:50:52.394Z"
   },
   {
    "duration": 5,
    "start_time": "2022-09-22T00:51:04.855Z"
   },
   {
    "duration": 624,
    "start_time": "2022-09-22T00:51:04.863Z"
   },
   {
    "duration": 293,
    "start_time": "2022-09-22T00:51:05.489Z"
   },
   {
    "duration": 234,
    "start_time": "2022-09-22T00:51:05.784Z"
   },
   {
    "duration": 30,
    "start_time": "2022-09-22T00:51:06.021Z"
   },
   {
    "duration": 601,
    "start_time": "2022-09-22T00:51:06.053Z"
   },
   {
    "duration": 4,
    "start_time": "2022-09-22T00:51:06.656Z"
   },
   {
    "duration": 9,
    "start_time": "2022-09-22T00:51:06.661Z"
   },
   {
    "duration": 22,
    "start_time": "2022-09-22T00:51:06.672Z"
   },
   {
    "duration": 5,
    "start_time": "2022-09-22T00:51:06.696Z"
   },
   {
    "duration": 14,
    "start_time": "2022-09-22T00:51:06.702Z"
   },
   {
    "duration": 23,
    "start_time": "2022-09-22T00:51:06.718Z"
   },
   {
    "duration": 279,
    "start_time": "2022-09-22T00:51:06.743Z"
   },
   {
    "duration": 23,
    "start_time": "2022-09-22T00:51:07.026Z"
   },
   {
    "duration": 7,
    "start_time": "2022-09-22T00:51:07.051Z"
   },
   {
    "duration": 32,
    "start_time": "2022-09-22T00:51:07.059Z"
   },
   {
    "duration": 10009,
    "start_time": "2022-09-22T00:51:07.093Z"
   },
   {
    "duration": 10319,
    "start_time": "2022-09-22T00:51:17.104Z"
   },
   {
    "duration": 4,
    "start_time": "2022-09-22T00:51:27.425Z"
   },
   {
    "duration": 615,
    "start_time": "2022-09-22T00:51:27.431Z"
   },
   {
    "duration": 628,
    "start_time": "2022-09-22T00:51:28.048Z"
   },
   {
    "duration": 14,
    "start_time": "2022-09-22T00:51:28.678Z"
   },
   {
    "duration": 1273,
    "start_time": "2022-09-22T00:51:28.694Z"
   },
   {
    "duration": 37,
    "start_time": "2022-09-22T00:51:29.969Z"
   },
   {
    "duration": 3,
    "start_time": "2022-09-22T00:51:30.008Z"
   },
   {
    "duration": 7,
    "start_time": "2022-09-22T00:51:30.012Z"
   },
   {
    "duration": 11,
    "start_time": "2022-09-22T00:51:30.021Z"
   },
   {
    "duration": 10,
    "start_time": "2022-09-22T00:51:30.034Z"
   },
   {
    "duration": 9,
    "start_time": "2022-09-22T00:51:30.045Z"
   },
   {
    "duration": 5,
    "start_time": "2022-09-22T00:51:30.057Z"
   },
   {
    "duration": 13,
    "start_time": "2022-09-22T00:51:30.064Z"
   },
   {
    "duration": 15,
    "start_time": "2022-09-22T00:51:30.079Z"
   },
   {
    "duration": 16,
    "start_time": "2022-09-22T00:51:30.096Z"
   },
   {
    "duration": 10,
    "start_time": "2022-09-22T00:51:30.114Z"
   },
   {
    "duration": 11,
    "start_time": "2022-09-22T00:51:30.126Z"
   },
   {
    "duration": 7,
    "start_time": "2022-09-22T00:51:30.138Z"
   },
   {
    "duration": 12,
    "start_time": "2022-09-22T00:51:30.146Z"
   },
   {
    "duration": 75,
    "start_time": "2022-09-22T00:51:30.160Z"
   },
   {
    "duration": 84,
    "start_time": "2022-09-22T00:51:30.237Z"
   },
   {
    "duration": 4,
    "start_time": "2022-09-22T00:51:57.194Z"
   },
   {
    "duration": 3,
    "start_time": "2022-09-22T00:51:58.364Z"
   },
   {
    "duration": 3,
    "start_time": "2022-09-22T00:52:02.044Z"
   },
   {
    "duration": 6,
    "start_time": "2022-09-22T00:52:03.545Z"
   },
   {
    "duration": 3,
    "start_time": "2022-09-22T00:52:06.582Z"
   },
   {
    "duration": 47,
    "start_time": "2022-09-22T00:52:08.531Z"
   },
   {
    "duration": 3,
    "start_time": "2022-09-22T00:52:09.347Z"
   },
   {
    "duration": 2,
    "start_time": "2022-09-22T00:52:12.237Z"
   },
   {
    "duration": 398,
    "start_time": "2022-09-22T00:52:13.415Z"
   },
   {
    "duration": 498,
    "start_time": "2022-09-22T00:52:16.031Z"
   },
   {
    "duration": 3,
    "start_time": "2022-09-22T00:52:16.726Z"
   },
   {
    "duration": 1469,
    "start_time": "2022-09-22T00:53:59.344Z"
   },
   {
    "duration": 5784,
    "start_time": "2022-09-22T00:54:00.816Z"
   },
   {
    "duration": 47,
    "start_time": "2022-09-22T00:54:06.602Z"
   },
   {
    "duration": 274,
    "start_time": "2022-09-22T00:54:06.651Z"
   },
   {
    "duration": 32,
    "start_time": "2022-09-22T00:54:06.928Z"
   },
   {
    "duration": 641,
    "start_time": "2022-09-22T00:54:06.962Z"
   },
   {
    "duration": 5,
    "start_time": "2022-09-22T00:54:07.605Z"
   },
   {
    "duration": 11,
    "start_time": "2022-09-22T00:54:07.611Z"
   },
   {
    "duration": 12,
    "start_time": "2022-09-22T00:54:07.624Z"
   },
   {
    "duration": 8,
    "start_time": "2022-09-22T00:54:07.637Z"
   },
   {
    "duration": 13,
    "start_time": "2022-09-22T00:54:07.647Z"
   },
   {
    "duration": 46,
    "start_time": "2022-09-22T00:54:07.662Z"
   },
   {
    "duration": 261,
    "start_time": "2022-09-22T00:54:07.710Z"
   },
   {
    "duration": 36,
    "start_time": "2022-09-22T00:54:07.975Z"
   },
   {
    "duration": 6,
    "start_time": "2022-09-22T00:54:08.013Z"
   },
   {
    "duration": 7,
    "start_time": "2022-09-22T00:54:08.020Z"
   },
   {
    "duration": 10630,
    "start_time": "2022-09-22T00:54:08.029Z"
   },
   {
    "duration": 10318,
    "start_time": "2022-09-22T00:54:18.661Z"
   },
   {
    "duration": 11,
    "start_time": "2022-09-22T00:54:28.980Z"
   },
   {
    "duration": 799,
    "start_time": "2022-09-22T00:54:28.993Z"
   },
   {
    "duration": 565,
    "start_time": "2022-09-22T00:54:29.794Z"
   },
   {
    "duration": 11,
    "start_time": "2022-09-22T00:54:30.361Z"
   },
   {
    "duration": 1311,
    "start_time": "2022-09-22T00:54:30.374Z"
   },
   {
    "duration": 52,
    "start_time": "2022-09-22T00:54:31.687Z"
   },
   {
    "duration": 3,
    "start_time": "2022-09-22T00:54:31.741Z"
   },
   {
    "duration": 15,
    "start_time": "2022-09-22T00:54:31.746Z"
   },
   {
    "duration": 17,
    "start_time": "2022-09-22T00:54:31.763Z"
   },
   {
    "duration": 9,
    "start_time": "2022-09-22T00:54:31.781Z"
   },
   {
    "duration": 10,
    "start_time": "2022-09-22T00:54:31.792Z"
   },
   {
    "duration": 35,
    "start_time": "2022-09-22T00:54:31.804Z"
   },
   {
    "duration": 29,
    "start_time": "2022-09-22T00:54:31.841Z"
   },
   {
    "duration": 20,
    "start_time": "2022-09-22T00:54:31.873Z"
   },
   {
    "duration": 29,
    "start_time": "2022-09-22T00:54:31.895Z"
   },
   {
    "duration": 16,
    "start_time": "2022-09-22T00:54:31.926Z"
   },
   {
    "duration": 8,
    "start_time": "2022-09-22T00:54:31.943Z"
   },
   {
    "duration": 15,
    "start_time": "2022-09-22T00:54:31.952Z"
   },
   {
    "duration": 16,
    "start_time": "2022-09-22T00:54:31.968Z"
   },
   {
    "duration": 19,
    "start_time": "2022-09-22T00:54:31.986Z"
   },
   {
    "duration": 37,
    "start_time": "2022-09-22T00:54:32.006Z"
   },
   {
    "duration": 7,
    "start_time": "2022-09-22T00:54:32.045Z"
   },
   {
    "duration": 20,
    "start_time": "2022-09-22T00:54:32.056Z"
   },
   {
    "duration": 27,
    "start_time": "2022-09-22T00:54:32.078Z"
   },
   {
    "duration": 21,
    "start_time": "2022-09-22T00:54:32.107Z"
   },
   {
    "duration": 17,
    "start_time": "2022-09-22T00:54:32.130Z"
   },
   {
    "duration": 58,
    "start_time": "2022-09-22T00:54:32.149Z"
   },
   {
    "duration": 4,
    "start_time": "2022-09-22T00:54:32.209Z"
   },
   {
    "duration": 5,
    "start_time": "2022-09-22T00:54:32.214Z"
   },
   {
    "duration": 386,
    "start_time": "2022-09-22T00:54:32.221Z"
   },
   {
    "duration": 491,
    "start_time": "2022-09-22T00:54:32.609Z"
   },
   {
    "duration": 3,
    "start_time": "2022-09-22T00:54:33.102Z"
   },
   {
    "duration": 116,
    "start_time": "2022-09-22T00:55:05.197Z"
   },
   {
    "duration": 43,
    "start_time": "2022-09-22T00:56:18.432Z"
   },
   {
    "duration": 10,
    "start_time": "2022-09-22T00:58:05.224Z"
   },
   {
    "duration": 1321,
    "start_time": "2022-09-22T00:58:08.076Z"
   },
   {
    "duration": 0,
    "start_time": "2022-09-22T00:58:09.399Z"
   },
   {
    "duration": 4,
    "start_time": "2022-09-22T00:58:14.446Z"
   },
   {
    "duration": 728,
    "start_time": "2022-09-22T00:58:14.452Z"
   },
   {
    "duration": 47,
    "start_time": "2022-09-22T00:58:15.182Z"
   },
   {
    "duration": 244,
    "start_time": "2022-09-22T00:58:15.230Z"
   },
   {
    "duration": 37,
    "start_time": "2022-09-22T00:58:15.477Z"
   },
   {
    "duration": 578,
    "start_time": "2022-09-22T00:58:15.515Z"
   },
   {
    "duration": 4,
    "start_time": "2022-09-22T00:58:16.094Z"
   },
   {
    "duration": 19,
    "start_time": "2022-09-22T00:58:16.100Z"
   },
   {
    "duration": 19,
    "start_time": "2022-09-22T00:58:16.121Z"
   },
   {
    "duration": 25,
    "start_time": "2022-09-22T00:58:16.142Z"
   },
   {
    "duration": 15,
    "start_time": "2022-09-22T00:58:16.170Z"
   },
   {
    "duration": 32,
    "start_time": "2022-09-22T00:58:16.187Z"
   },
   {
    "duration": 229,
    "start_time": "2022-09-22T00:58:16.221Z"
   },
   {
    "duration": 26,
    "start_time": "2022-09-22T00:58:16.453Z"
   },
   {
    "duration": 5,
    "start_time": "2022-09-22T00:58:16.489Z"
   },
   {
    "duration": 19,
    "start_time": "2022-09-22T00:58:16.496Z"
   },
   {
    "duration": 10317,
    "start_time": "2022-09-22T00:58:16.517Z"
   },
   {
    "duration": 10075,
    "start_time": "2022-09-22T00:58:26.836Z"
   },
   {
    "duration": 5,
    "start_time": "2022-09-22T00:58:36.913Z"
   },
   {
    "duration": 782,
    "start_time": "2022-09-22T00:58:36.920Z"
   },
   {
    "duration": 667,
    "start_time": "2022-09-22T00:58:37.704Z"
   },
   {
    "duration": 16,
    "start_time": "2022-09-22T00:58:38.373Z"
   },
   {
    "duration": 1164,
    "start_time": "2022-09-22T00:58:38.391Z"
   },
   {
    "duration": 42,
    "start_time": "2022-09-22T00:58:39.557Z"
   },
   {
    "duration": 10,
    "start_time": "2022-09-22T00:58:39.601Z"
   },
   {
    "duration": 4,
    "start_time": "2022-09-22T00:58:39.612Z"
   },
   {
    "duration": 14,
    "start_time": "2022-09-22T00:58:39.618Z"
   },
   {
    "duration": 4,
    "start_time": "2022-09-22T00:58:39.634Z"
   },
   {
    "duration": 5,
    "start_time": "2022-09-22T00:58:39.639Z"
   },
   {
    "duration": 4,
    "start_time": "2022-09-22T00:58:39.646Z"
   },
   {
    "duration": 5,
    "start_time": "2022-09-22T00:58:39.651Z"
   },
   {
    "duration": 8,
    "start_time": "2022-09-22T00:58:39.658Z"
   },
   {
    "duration": 17,
    "start_time": "2022-09-22T00:58:39.667Z"
   },
   {
    "duration": 5,
    "start_time": "2022-09-22T00:58:39.689Z"
   },
   {
    "duration": 9,
    "start_time": "2022-09-22T00:58:39.696Z"
   },
   {
    "duration": 13,
    "start_time": "2022-09-22T00:58:39.707Z"
   },
   {
    "duration": 6,
    "start_time": "2022-09-22T00:58:39.722Z"
   },
   {
    "duration": 5,
    "start_time": "2022-09-22T00:58:39.729Z"
   },
   {
    "duration": 7,
    "start_time": "2022-09-22T00:58:39.735Z"
   },
   {
    "duration": 18,
    "start_time": "2022-09-22T00:58:39.744Z"
   },
   {
    "duration": 4,
    "start_time": "2022-09-22T00:58:39.766Z"
   },
   {
    "duration": 18,
    "start_time": "2022-09-22T00:58:39.771Z"
   },
   {
    "duration": 3,
    "start_time": "2022-09-22T00:58:39.791Z"
   },
   {
    "duration": 8,
    "start_time": "2022-09-22T00:58:39.795Z"
   },
   {
    "duration": 5,
    "start_time": "2022-09-22T00:58:39.805Z"
   },
   {
    "duration": 61,
    "start_time": "2022-09-22T00:58:39.811Z"
   },
   {
    "duration": 3,
    "start_time": "2022-09-22T00:58:39.873Z"
   },
   {
    "duration": 12,
    "start_time": "2022-09-22T00:58:39.877Z"
   },
   {
    "duration": 375,
    "start_time": "2022-09-22T00:58:39.890Z"
   },
   {
    "duration": 469,
    "start_time": "2022-09-22T00:58:40.267Z"
   },
   {
    "duration": 4,
    "start_time": "2022-09-22T00:58:40.738Z"
   },
   {
    "duration": 64,
    "start_time": "2022-09-22T00:58:40.743Z"
   },
   {
    "duration": 5,
    "start_time": "2022-09-22T01:03:09.026Z"
   },
   {
    "duration": 720,
    "start_time": "2022-09-22T01:03:09.032Z"
   },
   {
    "duration": 53,
    "start_time": "2022-09-22T01:03:09.753Z"
   },
   {
    "duration": 237,
    "start_time": "2022-09-22T01:03:09.808Z"
   },
   {
    "duration": 31,
    "start_time": "2022-09-22T01:03:10.047Z"
   },
   {
    "duration": 606,
    "start_time": "2022-09-22T01:03:10.090Z"
   },
   {
    "duration": 4,
    "start_time": "2022-09-22T01:03:10.698Z"
   },
   {
    "duration": 7,
    "start_time": "2022-09-22T01:03:10.704Z"
   },
   {
    "duration": 12,
    "start_time": "2022-09-22T01:03:10.713Z"
   },
   {
    "duration": 7,
    "start_time": "2022-09-22T01:03:10.729Z"
   },
   {
    "duration": 26,
    "start_time": "2022-09-22T01:03:10.738Z"
   },
   {
    "duration": 47,
    "start_time": "2022-09-22T01:03:10.765Z"
   },
   {
    "duration": 266,
    "start_time": "2022-09-22T01:03:10.815Z"
   },
   {
    "duration": 24,
    "start_time": "2022-09-22T01:03:11.083Z"
   },
   {
    "duration": 5,
    "start_time": "2022-09-22T01:03:11.109Z"
   },
   {
    "duration": 10,
    "start_time": "2022-09-22T01:03:11.115Z"
   },
   {
    "duration": 10455,
    "start_time": "2022-09-22T01:03:11.126Z"
   },
   {
    "duration": 10030,
    "start_time": "2022-09-22T01:03:21.583Z"
   },
   {
    "duration": 4,
    "start_time": "2022-09-22T01:03:31.615Z"
   },
   {
    "duration": 795,
    "start_time": "2022-09-22T01:03:31.621Z"
   },
   {
    "duration": 651,
    "start_time": "2022-09-22T01:03:32.418Z"
   },
   {
    "duration": 9,
    "start_time": "2022-09-22T01:03:33.071Z"
   },
   {
    "duration": 1169,
    "start_time": "2022-09-22T01:03:33.082Z"
   },
   {
    "duration": 34,
    "start_time": "2022-09-22T01:03:46.996Z"
   },
   {
    "duration": 9,
    "start_time": "2022-09-22T01:03:48.047Z"
   },
   {
    "duration": 3,
    "start_time": "2022-09-22T01:03:56.937Z"
   },
   {
    "duration": 2,
    "start_time": "2022-09-22T01:03:57.847Z"
   },
   {
    "duration": 2,
    "start_time": "2022-09-22T01:03:58.170Z"
   },
   {
    "duration": 2,
    "start_time": "2022-09-22T01:03:58.335Z"
   },
   {
    "duration": 3,
    "start_time": "2022-09-22T01:03:58.502Z"
   },
   {
    "duration": 3,
    "start_time": "2022-09-22T01:03:59.199Z"
   },
   {
    "duration": 3,
    "start_time": "2022-09-22T01:03:59.746Z"
   },
   {
    "duration": 4,
    "start_time": "2022-09-22T01:04:00.721Z"
   },
   {
    "duration": 2,
    "start_time": "2022-09-22T01:04:01.249Z"
   },
   {
    "duration": 2,
    "start_time": "2022-09-22T01:04:01.567Z"
   },
   {
    "duration": 2,
    "start_time": "2022-09-22T01:04:01.974Z"
   },
   {
    "duration": 2,
    "start_time": "2022-09-22T01:04:02.393Z"
   },
   {
    "duration": 3,
    "start_time": "2022-09-22T01:04:03.230Z"
   },
   {
    "duration": 3,
    "start_time": "2022-09-22T01:04:06.768Z"
   },
   {
    "duration": 18,
    "start_time": "2022-09-22T01:04:10.750Z"
   },
   {
    "duration": 3,
    "start_time": "2022-09-22T01:04:22.616Z"
   },
   {
    "duration": 3,
    "start_time": "2022-09-22T01:04:24.490Z"
   },
   {
    "duration": 3,
    "start_time": "2022-09-22T01:04:25.727Z"
   },
   {
    "duration": 5,
    "start_time": "2022-09-22T01:04:29.124Z"
   },
   {
    "duration": 3,
    "start_time": "2022-09-22T01:04:30.123Z"
   },
   {
    "duration": 46,
    "start_time": "2022-09-22T01:04:31.992Z"
   },
   {
    "duration": 3,
    "start_time": "2022-09-22T01:04:33.826Z"
   },
   {
    "duration": 3,
    "start_time": "2022-09-22T01:04:35.186Z"
   },
   {
    "duration": 370,
    "start_time": "2022-09-22T01:04:35.647Z"
   },
   {
    "duration": 484,
    "start_time": "2022-09-22T01:04:37.924Z"
   },
   {
    "duration": 3,
    "start_time": "2022-09-22T01:04:43.852Z"
   },
   {
    "duration": 16,
    "start_time": "2022-09-22T01:05:26.105Z"
   },
   {
    "duration": 13,
    "start_time": "2022-09-22T01:05:42.582Z"
   },
   {
    "duration": 5,
    "start_time": "2022-09-22T01:06:28.442Z"
   },
   {
    "duration": 716,
    "start_time": "2022-09-22T01:06:28.450Z"
   },
   {
    "duration": 49,
    "start_time": "2022-09-22T01:06:29.168Z"
   },
   {
    "duration": 241,
    "start_time": "2022-09-22T01:06:29.219Z"
   },
   {
    "duration": 40,
    "start_time": "2022-09-22T01:06:29.462Z"
   },
   {
    "duration": 576,
    "start_time": "2022-09-22T01:06:29.503Z"
   },
   {
    "duration": 8,
    "start_time": "2022-09-22T01:06:30.081Z"
   },
   {
    "duration": 8,
    "start_time": "2022-09-22T01:06:30.091Z"
   },
   {
    "duration": 18,
    "start_time": "2022-09-22T01:06:30.101Z"
   },
   {
    "duration": 7,
    "start_time": "2022-09-22T01:06:30.121Z"
   },
   {
    "duration": 13,
    "start_time": "2022-09-22T01:06:30.130Z"
   },
   {
    "duration": 23,
    "start_time": "2022-09-22T01:06:30.145Z"
   },
   {
    "duration": 247,
    "start_time": "2022-09-22T01:06:30.189Z"
   },
   {
    "duration": 22,
    "start_time": "2022-09-22T01:06:30.439Z"
   },
   {
    "duration": 114,
    "start_time": "2022-09-22T01:06:30.463Z"
   },
   {
    "duration": 15,
    "start_time": "2022-09-22T01:06:30.578Z"
   },
   {
    "duration": 10413,
    "start_time": "2022-09-22T01:06:30.595Z"
   },
   {
    "duration": 10217,
    "start_time": "2022-09-22T01:06:41.009Z"
   },
   {
    "duration": 4,
    "start_time": "2022-09-22T01:06:51.228Z"
   },
   {
    "duration": 830,
    "start_time": "2022-09-22T01:06:51.234Z"
   },
   {
    "duration": 597,
    "start_time": "2022-09-22T01:06:52.066Z"
   },
   {
    "duration": 9,
    "start_time": "2022-09-22T01:06:52.665Z"
   },
   {
    "duration": 1199,
    "start_time": "2022-09-22T01:06:52.676Z"
   },
   {
    "duration": 36,
    "start_time": "2022-09-22T01:06:53.877Z"
   },
   {
    "duration": 10,
    "start_time": "2022-09-22T01:06:53.915Z"
   },
   {
    "duration": 6,
    "start_time": "2022-09-22T01:06:53.927Z"
   },
   {
    "duration": 28,
    "start_time": "2022-09-22T01:06:53.935Z"
   },
   {
    "duration": 15,
    "start_time": "2022-09-22T01:06:53.965Z"
   },
   {
    "duration": 13,
    "start_time": "2022-09-22T01:06:53.982Z"
   },
   {
    "duration": 11,
    "start_time": "2022-09-22T01:06:53.997Z"
   },
   {
    "duration": 4,
    "start_time": "2022-09-22T01:06:54.010Z"
   },
   {
    "duration": 22,
    "start_time": "2022-09-22T01:06:54.016Z"
   },
   {
    "duration": 15,
    "start_time": "2022-09-22T01:06:54.040Z"
   },
   {
    "duration": 23,
    "start_time": "2022-09-22T01:06:54.057Z"
   },
   {
    "duration": 15,
    "start_time": "2022-09-22T01:06:54.082Z"
   },
   {
    "duration": 7,
    "start_time": "2022-09-22T01:06:54.098Z"
   },
   {
    "duration": 10,
    "start_time": "2022-09-22T01:06:54.107Z"
   },
   {
    "duration": 13,
    "start_time": "2022-09-22T01:06:54.119Z"
   },
   {
    "duration": 5,
    "start_time": "2022-09-22T01:07:02.472Z"
   },
   {
    "duration": 4,
    "start_time": "2022-09-22T01:07:16.858Z"
   },
   {
    "duration": 7,
    "start_time": "2022-09-22T01:07:59.406Z"
   },
   {
    "duration": 16,
    "start_time": "2022-09-22T01:08:04.278Z"
   },
   {
    "duration": 3,
    "start_time": "2022-09-22T01:08:11.214Z"
   },
   {
    "duration": 3,
    "start_time": "2022-09-22T01:08:14.595Z"
   },
   {
    "duration": 3,
    "start_time": "2022-09-22T01:08:15.666Z"
   },
   {
    "duration": 32,
    "start_time": "2022-09-22T01:08:44.515Z"
   },
   {
    "duration": 2,
    "start_time": "2022-09-22T01:08:57.399Z"
   },
   {
    "duration": 49,
    "start_time": "2022-09-22T01:10:12.638Z"
   },
   {
    "duration": 4,
    "start_time": "2022-09-22T01:10:15.159Z"
   },
   {
    "duration": 130,
    "start_time": "2022-09-22T01:10:35.270Z"
   },
   {
    "duration": 121,
    "start_time": "2022-09-22T01:10:48.653Z"
   },
   {
    "duration": 124,
    "start_time": "2022-09-22T01:12:06.448Z"
   },
   {
    "duration": 46,
    "start_time": "2022-09-22T01:12:34.529Z"
   },
   {
    "duration": 3,
    "start_time": "2022-09-22T01:12:36.719Z"
   },
   {
    "duration": 51,
    "start_time": "2022-09-22T01:12:49.202Z"
   },
   {
    "duration": 52,
    "start_time": "2022-09-22T01:13:05.306Z"
   },
   {
    "duration": 46,
    "start_time": "2022-09-22T01:13:35.101Z"
   },
   {
    "duration": 45,
    "start_time": "2022-09-22T01:14:36.322Z"
   },
   {
    "duration": 27,
    "start_time": "2022-09-22T01:17:06.127Z"
   },
   {
    "duration": 11,
    "start_time": "2022-09-22T01:17:14.140Z"
   },
   {
    "duration": 5,
    "start_time": "2022-09-22T01:17:20.469Z"
   },
   {
    "duration": 4,
    "start_time": "2022-09-22T01:17:21.850Z"
   },
   {
    "duration": 49,
    "start_time": "2022-09-22T01:17:26.073Z"
   },
   {
    "duration": 3,
    "start_time": "2022-09-22T01:17:32.008Z"
   },
   {
    "duration": 7,
    "start_time": "2022-09-22T01:19:58.907Z"
   },
   {
    "duration": 14,
    "start_time": "2022-09-22T01:20:19.054Z"
   },
   {
    "duration": 4,
    "start_time": "2022-09-22T01:20:32.514Z"
   },
   {
    "duration": 678,
    "start_time": "2022-09-22T01:20:32.521Z"
   },
   {
    "duration": 42,
    "start_time": "2022-09-22T01:20:33.201Z"
   },
   {
    "duration": 244,
    "start_time": "2022-09-22T01:20:33.245Z"
   },
   {
    "duration": 29,
    "start_time": "2022-09-22T01:20:33.492Z"
   },
   {
    "duration": 603,
    "start_time": "2022-09-22T01:20:33.523Z"
   },
   {
    "duration": 5,
    "start_time": "2022-09-22T01:20:34.128Z"
   },
   {
    "duration": 9,
    "start_time": "2022-09-22T01:20:34.134Z"
   },
   {
    "duration": 11,
    "start_time": "2022-09-22T01:20:34.145Z"
   },
   {
    "duration": 32,
    "start_time": "2022-09-22T01:20:34.158Z"
   },
   {
    "duration": 11,
    "start_time": "2022-09-22T01:20:34.193Z"
   },
   {
    "duration": 21,
    "start_time": "2022-09-22T01:20:34.206Z"
   },
   {
    "duration": 262,
    "start_time": "2022-09-22T01:20:34.228Z"
   },
   {
    "duration": 23,
    "start_time": "2022-09-22T01:20:34.493Z"
   },
   {
    "duration": 5,
    "start_time": "2022-09-22T01:20:34.518Z"
   },
   {
    "duration": 9,
    "start_time": "2022-09-22T01:20:34.524Z"
   },
   {
    "duration": 11009,
    "start_time": "2022-09-22T01:20:34.534Z"
   },
   {
    "duration": 9789,
    "start_time": "2022-09-22T01:20:45.545Z"
   },
   {
    "duration": 5,
    "start_time": "2022-09-22T01:20:55.335Z"
   },
   {
    "duration": 796,
    "start_time": "2022-09-22T01:20:55.342Z"
   },
   {
    "duration": 619,
    "start_time": "2022-09-22T01:20:56.140Z"
   },
   {
    "duration": 9,
    "start_time": "2022-09-22T01:20:56.761Z"
   },
   {
    "duration": 1185,
    "start_time": "2022-09-22T01:20:56.772Z"
   },
   {
    "duration": 37,
    "start_time": "2022-09-22T01:20:57.958Z"
   },
   {
    "duration": 12,
    "start_time": "2022-09-22T01:20:57.997Z"
   },
   {
    "duration": 29,
    "start_time": "2022-09-22T01:20:58.011Z"
   },
   {
    "duration": 118,
    "start_time": "2022-09-22T01:20:58.042Z"
   },
   {
    "duration": 114,
    "start_time": "2022-09-22T01:20:58.162Z"
   },
   {
    "duration": 33,
    "start_time": "2022-09-22T01:20:58.278Z"
   },
   {
    "duration": 67,
    "start_time": "2022-09-22T01:20:58.313Z"
   },
   {
    "duration": 30,
    "start_time": "2022-09-22T01:20:58.382Z"
   },
   {
    "duration": 25,
    "start_time": "2022-09-22T01:20:58.414Z"
   },
   {
    "duration": 25,
    "start_time": "2022-09-22T01:20:58.441Z"
   },
   {
    "duration": 25,
    "start_time": "2022-09-22T01:20:58.468Z"
   },
   {
    "duration": 34,
    "start_time": "2022-09-22T01:20:58.495Z"
   },
   {
    "duration": 29,
    "start_time": "2022-09-22T01:20:58.531Z"
   },
   {
    "duration": 30,
    "start_time": "2022-09-22T01:20:58.562Z"
   },
   {
    "duration": 27,
    "start_time": "2022-09-22T01:20:58.594Z"
   },
   {
    "duration": 14,
    "start_time": "2022-09-22T01:20:58.623Z"
   },
   {
    "duration": 26,
    "start_time": "2022-09-22T01:20:58.639Z"
   },
   {
    "duration": 39,
    "start_time": "2022-09-22T01:20:58.669Z"
   },
   {
    "duration": 20,
    "start_time": "2022-09-22T01:20:58.709Z"
   },
   {
    "duration": 32,
    "start_time": "2022-09-22T01:20:58.731Z"
   },
   {
    "duration": 7,
    "start_time": "2022-09-22T01:20:58.765Z"
   },
   {
    "duration": 11,
    "start_time": "2022-09-22T01:20:58.774Z"
   },
   {
    "duration": 10,
    "start_time": "2022-09-22T01:20:58.787Z"
   },
   {
    "duration": 53,
    "start_time": "2022-09-22T01:20:58.799Z"
   },
   {
    "duration": 3,
    "start_time": "2022-09-22T01:20:58.854Z"
   },
   {
    "duration": 7,
    "start_time": "2022-09-22T01:20:58.859Z"
   },
   {
    "duration": 409,
    "start_time": "2022-09-22T01:20:58.868Z"
   },
   {
    "duration": 523,
    "start_time": "2022-09-22T01:20:59.279Z"
   },
   {
    "duration": 11,
    "start_time": "2022-09-22T01:20:59.803Z"
   },
   {
    "duration": 0,
    "start_time": "2022-09-22T01:20:59.815Z"
   },
   {
    "duration": 1389,
    "start_time": "2022-09-22T01:24:09.862Z"
   },
   {
    "duration": 3,
    "start_time": "2022-09-22T01:26:14.889Z"
   },
   {
    "duration": 11,
    "start_time": "2022-09-22T01:29:16.236Z"
   },
   {
    "duration": 4,
    "start_time": "2022-09-22T01:29:18.802Z"
   },
   {
    "duration": 740,
    "start_time": "2022-09-22T01:29:18.809Z"
   },
   {
    "duration": 52,
    "start_time": "2022-09-22T01:29:19.551Z"
   },
   {
    "duration": 232,
    "start_time": "2022-09-22T01:29:19.605Z"
   },
   {
    "duration": 30,
    "start_time": "2022-09-22T01:29:19.839Z"
   },
   {
    "duration": 596,
    "start_time": "2022-09-22T01:29:19.871Z"
   },
   {
    "duration": 4,
    "start_time": "2022-09-22T01:29:20.469Z"
   },
   {
    "duration": 19,
    "start_time": "2022-09-22T01:29:20.474Z"
   },
   {
    "duration": 19,
    "start_time": "2022-09-22T01:29:20.495Z"
   },
   {
    "duration": 11,
    "start_time": "2022-09-22T01:29:20.516Z"
   },
   {
    "duration": 15,
    "start_time": "2022-09-22T01:29:20.528Z"
   },
   {
    "duration": 16,
    "start_time": "2022-09-22T01:29:20.545Z"
   },
   {
    "duration": 37,
    "start_time": "2022-09-22T01:29:20.563Z"
   },
   {
    "duration": 252,
    "start_time": "2022-09-22T01:29:20.604Z"
   },
   {
    "duration": 34,
    "start_time": "2022-09-22T01:29:20.858Z"
   },
   {
    "duration": 18,
    "start_time": "2022-09-22T01:29:20.894Z"
   },
   {
    "duration": 26,
    "start_time": "2022-09-22T01:29:20.913Z"
   },
   {
    "duration": 10,
    "start_time": "2022-09-22T01:29:20.941Z"
   },
   {
    "duration": 11309,
    "start_time": "2022-09-22T01:29:20.953Z"
   },
   {
    "duration": 9920,
    "start_time": "2022-09-22T01:29:32.263Z"
   },
   {
    "duration": 5,
    "start_time": "2022-09-22T01:29:42.189Z"
   },
   {
    "duration": 659,
    "start_time": "2022-09-22T01:29:42.196Z"
   },
   {
    "duration": 827,
    "start_time": "2022-09-22T01:29:42.857Z"
   },
   {
    "duration": 10,
    "start_time": "2022-09-22T01:29:43.686Z"
   },
   {
    "duration": 1270,
    "start_time": "2022-09-22T01:29:43.698Z"
   },
   {
    "duration": 45,
    "start_time": "2022-09-22T01:29:44.970Z"
   },
   {
    "duration": 3,
    "start_time": "2022-09-22T01:29:45.017Z"
   },
   {
    "duration": 47,
    "start_time": "2022-09-22T01:29:45.022Z"
   },
   {
    "duration": 13,
    "start_time": "2022-09-22T01:29:45.072Z"
   },
   {
    "duration": 6,
    "start_time": "2022-09-22T01:29:45.087Z"
   },
   {
    "duration": 6,
    "start_time": "2022-09-22T01:29:45.094Z"
   },
   {
    "duration": 7,
    "start_time": "2022-09-22T01:29:45.102Z"
   },
   {
    "duration": 17,
    "start_time": "2022-09-22T01:29:45.111Z"
   },
   {
    "duration": 9,
    "start_time": "2022-09-22T01:29:45.130Z"
   },
   {
    "duration": 8,
    "start_time": "2022-09-22T01:29:45.140Z"
   },
   {
    "duration": 7,
    "start_time": "2022-09-22T01:29:45.150Z"
   },
   {
    "duration": 19,
    "start_time": "2022-09-22T01:29:45.159Z"
   },
   {
    "duration": 4,
    "start_time": "2022-09-22T01:29:45.180Z"
   },
   {
    "duration": 6,
    "start_time": "2022-09-22T01:29:45.186Z"
   },
   {
    "duration": 7,
    "start_time": "2022-09-22T01:29:45.193Z"
   },
   {
    "duration": 6,
    "start_time": "2022-09-22T01:29:45.205Z"
   },
   {
    "duration": 29,
    "start_time": "2022-09-22T01:29:45.212Z"
   },
   {
    "duration": 3,
    "start_time": "2022-09-22T01:29:45.243Z"
   },
   {
    "duration": 15,
    "start_time": "2022-09-22T01:29:45.248Z"
   },
   {
    "duration": 5,
    "start_time": "2022-09-22T01:29:45.265Z"
   },
   {
    "duration": 18,
    "start_time": "2022-09-22T01:29:45.271Z"
   },
   {
    "duration": 6,
    "start_time": "2022-09-22T01:29:45.291Z"
   },
   {
    "duration": 49,
    "start_time": "2022-09-22T01:29:45.298Z"
   },
   {
    "duration": 4,
    "start_time": "2022-09-22T01:29:45.348Z"
   },
   {
    "duration": 7,
    "start_time": "2022-09-22T01:29:45.354Z"
   },
   {
    "duration": 411,
    "start_time": "2022-09-22T01:29:45.364Z"
   },
   {
    "duration": 479,
    "start_time": "2022-09-22T01:29:45.777Z"
   },
   {
    "duration": 10,
    "start_time": "2022-09-22T01:29:46.258Z"
   },
   {
    "duration": 0,
    "start_time": "2022-09-22T01:29:46.270Z"
   },
   {
    "duration": 7,
    "start_time": "2022-09-22T01:31:33.758Z"
   },
   {
    "duration": 1206,
    "start_time": "2022-09-22T01:31:34.993Z"
   },
   {
    "duration": 5,
    "start_time": "2022-09-22T01:31:41.391Z"
   },
   {
    "duration": 759,
    "start_time": "2022-09-22T01:31:41.398Z"
   },
   {
    "duration": 46,
    "start_time": "2022-09-22T01:31:42.158Z"
   },
   {
    "duration": 233,
    "start_time": "2022-09-22T01:31:42.206Z"
   },
   {
    "duration": 31,
    "start_time": "2022-09-22T01:31:42.442Z"
   },
   {
    "duration": 584,
    "start_time": "2022-09-22T01:31:42.488Z"
   },
   {
    "duration": 4,
    "start_time": "2022-09-22T01:31:43.075Z"
   },
   {
    "duration": 6,
    "start_time": "2022-09-22T01:31:43.090Z"
   },
   {
    "duration": 15,
    "start_time": "2022-09-22T01:31:43.098Z"
   },
   {
    "duration": 11,
    "start_time": "2022-09-22T01:31:43.115Z"
   },
   {
    "duration": 10,
    "start_time": "2022-09-22T01:31:43.127Z"
   },
   {
    "duration": 11,
    "start_time": "2022-09-22T01:31:43.139Z"
   },
   {
    "duration": 41,
    "start_time": "2022-09-22T01:31:43.152Z"
   },
   {
    "duration": 20,
    "start_time": "2022-09-22T01:31:43.196Z"
   },
   {
    "duration": 254,
    "start_time": "2022-09-22T01:31:43.218Z"
   },
   {
    "duration": 31,
    "start_time": "2022-09-22T01:31:43.474Z"
   },
   {
    "duration": 4,
    "start_time": "2022-09-22T01:31:43.507Z"
   },
   {
    "duration": 7,
    "start_time": "2022-09-22T01:31:43.513Z"
   },
   {
    "duration": 6,
    "start_time": "2022-09-22T01:31:43.521Z"
   },
   {
    "duration": 10668,
    "start_time": "2022-09-22T01:31:43.529Z"
   },
   {
    "duration": 10137,
    "start_time": "2022-09-22T01:31:54.200Z"
   },
   {
    "duration": 6,
    "start_time": "2022-09-22T01:32:04.339Z"
   },
   {
    "duration": 594,
    "start_time": "2022-09-22T01:32:04.346Z"
   },
   {
    "duration": 833,
    "start_time": "2022-09-22T01:32:04.941Z"
   },
   {
    "duration": 13,
    "start_time": "2022-09-22T01:32:05.776Z"
   },
   {
    "duration": 1179,
    "start_time": "2022-09-22T01:32:05.791Z"
   },
   {
    "duration": 37,
    "start_time": "2022-09-22T01:32:06.972Z"
   },
   {
    "duration": 2,
    "start_time": "2022-09-22T01:32:07.011Z"
   },
   {
    "duration": 22,
    "start_time": "2022-09-22T01:32:07.015Z"
   },
   {
    "duration": 19,
    "start_time": "2022-09-22T01:32:07.039Z"
   },
   {
    "duration": 12,
    "start_time": "2022-09-22T01:32:07.060Z"
   },
   {
    "duration": 22,
    "start_time": "2022-09-22T01:32:07.074Z"
   },
   {
    "duration": 17,
    "start_time": "2022-09-22T01:32:07.098Z"
   },
   {
    "duration": 20,
    "start_time": "2022-09-22T01:32:07.117Z"
   },
   {
    "duration": 43,
    "start_time": "2022-09-22T01:32:07.139Z"
   },
   {
    "duration": 41,
    "start_time": "2022-09-22T01:32:07.184Z"
   },
   {
    "duration": 8,
    "start_time": "2022-09-22T01:32:07.227Z"
   },
   {
    "duration": 7,
    "start_time": "2022-09-22T01:32:07.237Z"
   },
   {
    "duration": 7,
    "start_time": "2022-09-22T01:32:07.246Z"
   },
   {
    "duration": 11,
    "start_time": "2022-09-22T01:32:07.255Z"
   },
   {
    "duration": 5,
    "start_time": "2022-09-22T01:32:07.272Z"
   },
   {
    "duration": 7,
    "start_time": "2022-09-22T01:32:07.279Z"
   },
   {
    "duration": 29,
    "start_time": "2022-09-22T01:32:07.288Z"
   },
   {
    "duration": 4,
    "start_time": "2022-09-22T01:32:07.319Z"
   },
   {
    "duration": 7,
    "start_time": "2022-09-22T01:32:07.325Z"
   },
   {
    "duration": 5,
    "start_time": "2022-09-22T01:32:07.334Z"
   },
   {
    "duration": 12,
    "start_time": "2022-09-22T01:32:07.341Z"
   },
   {
    "duration": 7,
    "start_time": "2022-09-22T01:32:07.354Z"
   },
   {
    "duration": 2737,
    "start_time": "2022-09-22T01:32:07.363Z"
   },
   {
    "duration": 89,
    "start_time": "2022-09-22T01:32:10.103Z"
   },
   {
    "duration": 101,
    "start_time": "2022-09-22T01:32:10.195Z"
   },
   {
    "duration": 24765,
    "start_time": "2022-09-22T01:32:10.298Z"
   },
   {
    "duration": 780342,
    "start_time": "2022-09-22T01:32:35.065Z"
   },
   {
    "duration": 11,
    "start_time": "2022-09-22T01:45:35.408Z"
   },
   {
    "duration": 0,
    "start_time": "2022-09-22T01:45:35.421Z"
   },
   {
    "duration": 4,
    "start_time": "2022-09-22T01:47:58.622Z"
   },
   {
    "duration": 2662,
    "start_time": "2022-09-22T01:48:18.231Z"
   },
   {
    "duration": 3,
    "start_time": "2022-09-22T01:48:23.921Z"
   },
   {
    "duration": 4,
    "start_time": "2022-09-22T01:48:26.728Z"
   },
   {
    "duration": 4,
    "start_time": "2022-09-22T01:48:29.846Z"
   },
   {
    "duration": 5,
    "start_time": "2022-09-22T01:50:01.044Z"
   },
   {
    "duration": 13,
    "start_time": "2022-09-22T01:50:11.159Z"
   },
   {
    "duration": 3480,
    "start_time": "2022-09-22T01:50:27.689Z"
   },
   {
    "duration": 4,
    "start_time": "2022-09-22T01:50:41.954Z"
   },
   {
    "duration": 8,
    "start_time": "2022-09-22T01:51:26.715Z"
   },
   {
    "duration": 3,
    "start_time": "2022-09-22T01:51:38.892Z"
   },
   {
    "duration": 5,
    "start_time": "2022-09-22T01:54:25.137Z"
   },
   {
    "duration": 1486,
    "start_time": "2022-09-22T02:05:03.658Z"
   },
   {
    "duration": 753,
    "start_time": "2022-09-22T02:05:05.146Z"
   },
   {
    "duration": 46,
    "start_time": "2022-09-22T02:05:05.900Z"
   },
   {
    "duration": 258,
    "start_time": "2022-09-22T02:05:05.948Z"
   },
   {
    "duration": 30,
    "start_time": "2022-09-22T02:05:06.209Z"
   },
   {
    "duration": 621,
    "start_time": "2022-09-22T02:05:06.241Z"
   },
   {
    "duration": 3,
    "start_time": "2022-09-22T02:05:06.864Z"
   },
   {
    "duration": 21,
    "start_time": "2022-09-22T02:05:06.869Z"
   },
   {
    "duration": 14,
    "start_time": "2022-09-22T02:05:06.892Z"
   },
   {
    "duration": 10,
    "start_time": "2022-09-22T02:05:06.908Z"
   },
   {
    "duration": 13,
    "start_time": "2022-09-22T02:05:06.920Z"
   },
   {
    "duration": 16,
    "start_time": "2022-09-22T02:05:06.935Z"
   },
   {
    "duration": 39,
    "start_time": "2022-09-22T02:05:06.953Z"
   },
   {
    "duration": 38,
    "start_time": "2022-09-22T02:05:06.996Z"
   },
   {
    "duration": 394,
    "start_time": "2022-09-22T02:05:07.036Z"
   },
   {
    "duration": 26,
    "start_time": "2022-09-22T02:05:07.432Z"
   },
   {
    "duration": 4,
    "start_time": "2022-09-22T02:05:07.460Z"
   },
   {
    "duration": 27,
    "start_time": "2022-09-22T02:05:07.465Z"
   },
   {
    "duration": 20,
    "start_time": "2022-09-22T02:05:07.494Z"
   },
   {
    "duration": 10469,
    "start_time": "2022-09-22T02:05:07.516Z"
   },
   {
    "duration": 10339,
    "start_time": "2022-09-22T02:05:17.987Z"
   },
   {
    "duration": 6,
    "start_time": "2022-09-22T02:05:28.328Z"
   },
   {
    "duration": 758,
    "start_time": "2022-09-22T02:05:28.336Z"
   },
   {
    "duration": 577,
    "start_time": "2022-09-22T02:05:29.097Z"
   },
   {
    "duration": 12,
    "start_time": "2022-09-22T02:05:29.677Z"
   },
   {
    "duration": 1298,
    "start_time": "2022-09-22T02:05:29.691Z"
   },
   {
    "duration": 54,
    "start_time": "2022-09-22T02:05:30.991Z"
   },
   {
    "duration": 3,
    "start_time": "2022-09-22T02:05:31.046Z"
   },
   {
    "duration": 71,
    "start_time": "2022-09-22T02:05:31.051Z"
   },
   {
    "duration": 42,
    "start_time": "2022-09-22T02:05:31.124Z"
   },
   {
    "duration": 24,
    "start_time": "2022-09-22T02:05:31.168Z"
   },
   {
    "duration": 31,
    "start_time": "2022-09-22T02:05:31.193Z"
   },
   {
    "duration": 19,
    "start_time": "2022-09-22T02:05:31.226Z"
   },
   {
    "duration": 17,
    "start_time": "2022-09-22T02:05:31.248Z"
   },
   {
    "duration": 15,
    "start_time": "2022-09-22T02:05:31.267Z"
   },
   {
    "duration": 19,
    "start_time": "2022-09-22T02:05:31.284Z"
   },
   {
    "duration": 12,
    "start_time": "2022-09-22T02:05:31.305Z"
   },
   {
    "duration": 9,
    "start_time": "2022-09-22T02:05:31.319Z"
   },
   {
    "duration": 11,
    "start_time": "2022-09-22T02:05:31.330Z"
   },
   {
    "duration": 19,
    "start_time": "2022-09-22T02:05:31.343Z"
   },
   {
    "duration": 25,
    "start_time": "2022-09-22T02:05:31.367Z"
   },
   {
    "duration": 22,
    "start_time": "2022-09-22T02:05:31.393Z"
   },
   {
    "duration": 44,
    "start_time": "2022-09-22T02:05:31.417Z"
   },
   {
    "duration": 3,
    "start_time": "2022-09-22T02:05:31.463Z"
   },
   {
    "duration": 25,
    "start_time": "2022-09-22T02:05:31.467Z"
   },
   {
    "duration": 138,
    "start_time": "2022-09-22T02:05:31.494Z"
   },
   {
    "duration": 14,
    "start_time": "2022-09-22T02:05:31.634Z"
   },
   {
    "duration": 8,
    "start_time": "2022-09-22T02:05:31.650Z"
   },
   {
    "duration": 2932,
    "start_time": "2022-09-22T02:05:31.660Z"
   },
   {
    "duration": 25214,
    "start_time": "2022-09-22T02:05:34.595Z"
   },
   {
    "duration": 794023,
    "start_time": "2022-09-22T02:05:59.811Z"
   },
   {
    "duration": 4,
    "start_time": "2022-09-22T02:19:13.836Z"
   },
   {
    "duration": 8,
    "start_time": "2022-09-22T02:19:13.842Z"
   },
   {
    "duration": 13,
    "start_time": "2022-09-22T02:19:13.852Z"
   },
   {
    "duration": 12,
    "start_time": "2022-09-22T02:19:13.866Z"
   },
   {
    "duration": 3503,
    "start_time": "2022-09-22T02:19:13.879Z"
   },
   {
    "duration": 6,
    "start_time": "2022-09-22T02:19:17.384Z"
   },
   {
    "duration": 13,
    "start_time": "2022-09-22T02:19:17.391Z"
   },
   {
    "duration": 3,
    "start_time": "2022-09-22T02:19:17.406Z"
   },
   {
    "duration": 4,
    "start_time": "2022-09-22T02:25:13.969Z"
   },
   {
    "duration": 4,
    "start_time": "2022-09-22T02:29:06.174Z"
   },
   {
    "duration": 124,
    "start_time": "2022-09-22T22:49:02.786Z"
   },
   {
    "duration": 1719,
    "start_time": "2022-09-22T22:49:07.883Z"
   },
   {
    "duration": 1838,
    "start_time": "2022-09-22T22:49:09.604Z"
   },
   {
    "duration": 42,
    "start_time": "2022-09-22T22:49:11.444Z"
   },
   {
    "duration": 248,
    "start_time": "2022-09-22T22:49:11.488Z"
   },
   {
    "duration": 30,
    "start_time": "2022-09-22T22:49:11.738Z"
   },
   {
    "duration": 591,
    "start_time": "2022-09-22T22:49:11.770Z"
   },
   {
    "duration": 3,
    "start_time": "2022-09-22T22:49:12.363Z"
   },
   {
    "duration": 10,
    "start_time": "2022-09-22T22:49:12.368Z"
   },
   {
    "duration": 23,
    "start_time": "2022-09-22T22:49:12.379Z"
   },
   {
    "duration": 9,
    "start_time": "2022-09-22T22:49:12.404Z"
   },
   {
    "duration": 10,
    "start_time": "2022-09-22T22:49:12.415Z"
   },
   {
    "duration": 12,
    "start_time": "2022-09-22T22:49:12.427Z"
   },
   {
    "duration": 13,
    "start_time": "2022-09-22T22:49:12.440Z"
   },
   {
    "duration": 45,
    "start_time": "2022-09-22T22:49:12.456Z"
   },
   {
    "duration": 244,
    "start_time": "2022-09-22T22:49:12.503Z"
   },
   {
    "duration": 28,
    "start_time": "2022-09-22T22:49:12.748Z"
   },
   {
    "duration": 3,
    "start_time": "2022-09-22T22:49:12.778Z"
   },
   {
    "duration": 17,
    "start_time": "2022-09-22T22:49:12.782Z"
   },
   {
    "duration": 22,
    "start_time": "2022-09-22T22:49:12.800Z"
   },
   {
    "duration": 9541,
    "start_time": "2022-09-22T22:49:12.824Z"
   },
   {
    "duration": 9633,
    "start_time": "2022-09-22T22:49:22.367Z"
   },
   {
    "duration": 5,
    "start_time": "2022-09-22T22:49:32.002Z"
   },
   {
    "duration": 613,
    "start_time": "2022-09-22T22:49:32.009Z"
   },
   {
    "duration": 604,
    "start_time": "2022-09-22T22:49:32.624Z"
   },
   {
    "duration": 8,
    "start_time": "2022-09-22T22:49:33.230Z"
   },
   {
    "duration": 1197,
    "start_time": "2022-09-22T22:49:33.240Z"
   },
   {
    "duration": 56,
    "start_time": "2022-09-22T22:49:34.439Z"
   },
   {
    "duration": 2,
    "start_time": "2022-09-22T22:49:34.497Z"
   },
   {
    "duration": 8,
    "start_time": "2022-09-22T22:49:34.500Z"
   },
   {
    "duration": 4,
    "start_time": "2022-09-22T22:49:34.509Z"
   },
   {
    "duration": 4,
    "start_time": "2022-09-22T22:49:34.515Z"
   },
   {
    "duration": 5,
    "start_time": "2022-09-22T22:49:34.520Z"
   },
   {
    "duration": 5,
    "start_time": "2022-09-22T22:49:34.527Z"
   },
   {
    "duration": 9,
    "start_time": "2022-09-22T22:49:34.533Z"
   },
   {
    "duration": 8,
    "start_time": "2022-09-22T22:49:34.544Z"
   },
   {
    "duration": 7,
    "start_time": "2022-09-22T22:49:34.554Z"
   },
   {
    "duration": 6,
    "start_time": "2022-09-22T22:49:34.563Z"
   },
   {
    "duration": 5,
    "start_time": "2022-09-22T22:49:34.571Z"
   },
   {
    "duration": 3,
    "start_time": "2022-09-22T22:49:34.578Z"
   },
   {
    "duration": 14,
    "start_time": "2022-09-22T22:49:34.583Z"
   },
   {
    "duration": 6,
    "start_time": "2022-09-22T22:49:34.601Z"
   },
   {
    "duration": 7,
    "start_time": "2022-09-22T22:49:34.609Z"
   },
   {
    "duration": 15,
    "start_time": "2022-09-22T22:49:34.617Z"
   },
   {
    "duration": 3,
    "start_time": "2022-09-22T22:49:34.633Z"
   },
   {
    "duration": 8,
    "start_time": "2022-09-22T22:49:34.638Z"
   },
   {
    "duration": 6,
    "start_time": "2022-09-22T22:49:34.647Z"
   },
   {
    "duration": 9,
    "start_time": "2022-09-22T22:49:34.654Z"
   },
   {
    "duration": 5,
    "start_time": "2022-09-22T22:49:34.664Z"
   },
   {
    "duration": 3226,
    "start_time": "2022-09-22T22:49:34.671Z"
   },
   {
    "duration": 22384,
    "start_time": "2022-09-22T22:49:37.899Z"
   },
   {
    "duration": 1418,
    "start_time": "2022-09-22T22:55:39.479Z"
   },
   {
    "duration": 1015,
    "start_time": "2022-09-22T22:55:40.899Z"
   },
   {
    "duration": 102,
    "start_time": "2022-09-22T22:55:41.915Z"
   },
   {
    "duration": 496,
    "start_time": "2022-09-22T22:55:42.019Z"
   },
   {
    "duration": 81,
    "start_time": "2022-09-22T22:55:42.517Z"
   },
   {
    "duration": 882,
    "start_time": "2022-09-22T22:55:42.600Z"
   },
   {
    "duration": 12,
    "start_time": "2022-09-22T22:55:43.484Z"
   },
   {
    "duration": 8,
    "start_time": "2022-09-22T22:55:43.497Z"
   },
   {
    "duration": 14,
    "start_time": "2022-09-22T22:55:43.507Z"
   },
   {
    "duration": 9,
    "start_time": "2022-09-22T22:55:43.524Z"
   },
   {
    "duration": 10,
    "start_time": "2022-09-22T22:55:43.534Z"
   },
   {
    "duration": 10,
    "start_time": "2022-09-22T22:55:43.546Z"
   },
   {
    "duration": 41,
    "start_time": "2022-09-22T22:55:43.558Z"
   },
   {
    "duration": 20,
    "start_time": "2022-09-22T22:55:43.600Z"
   },
   {
    "duration": 247,
    "start_time": "2022-09-22T22:55:43.621Z"
   },
   {
    "duration": 30,
    "start_time": "2022-09-22T22:55:43.869Z"
   },
   {
    "duration": 3,
    "start_time": "2022-09-22T22:55:43.901Z"
   },
   {
    "duration": 11,
    "start_time": "2022-09-22T22:55:43.906Z"
   },
   {
    "duration": 4,
    "start_time": "2022-09-22T22:55:43.918Z"
   },
   {
    "duration": 9401,
    "start_time": "2022-09-22T22:55:43.923Z"
   },
   {
    "duration": 8847,
    "start_time": "2022-09-22T22:55:53.326Z"
   },
   {
    "duration": 4,
    "start_time": "2022-09-22T22:56:02.175Z"
   },
   {
    "duration": 672,
    "start_time": "2022-09-22T22:56:02.181Z"
   },
   {
    "duration": 578,
    "start_time": "2022-09-22T22:56:02.854Z"
   },
   {
    "duration": 8,
    "start_time": "2022-09-22T22:56:03.433Z"
   },
   {
    "duration": 1178,
    "start_time": "2022-09-22T22:56:03.443Z"
   },
   {
    "duration": 48,
    "start_time": "2022-09-22T22:56:04.623Z"
   },
   {
    "duration": 3,
    "start_time": "2022-09-22T22:56:04.674Z"
   },
   {
    "duration": 19,
    "start_time": "2022-09-22T22:56:04.678Z"
   },
   {
    "duration": 13,
    "start_time": "2022-09-22T22:56:04.699Z"
   },
   {
    "duration": 14,
    "start_time": "2022-09-22T22:56:04.714Z"
   },
   {
    "duration": 12,
    "start_time": "2022-09-22T22:56:04.729Z"
   },
   {
    "duration": 13,
    "start_time": "2022-09-22T22:56:04.743Z"
   },
   {
    "duration": 23,
    "start_time": "2022-09-22T22:56:04.758Z"
   },
   {
    "duration": 15,
    "start_time": "2022-09-22T22:56:04.783Z"
   },
   {
    "duration": 18,
    "start_time": "2022-09-22T22:56:04.800Z"
   },
   {
    "duration": 21,
    "start_time": "2022-09-22T22:56:04.820Z"
   },
   {
    "duration": 16,
    "start_time": "2022-09-22T22:56:04.843Z"
   },
   {
    "duration": 20,
    "start_time": "2022-09-22T22:56:04.861Z"
   },
   {
    "duration": 8,
    "start_time": "2022-09-22T22:56:04.882Z"
   },
   {
    "duration": 9,
    "start_time": "2022-09-22T22:56:04.892Z"
   },
   {
    "duration": 7,
    "start_time": "2022-09-22T22:56:04.902Z"
   },
   {
    "duration": 26,
    "start_time": "2022-09-22T22:56:04.911Z"
   },
   {
    "duration": 3,
    "start_time": "2022-09-22T22:56:04.939Z"
   },
   {
    "duration": 7,
    "start_time": "2022-09-22T22:56:04.944Z"
   },
   {
    "duration": 7,
    "start_time": "2022-09-22T22:56:04.952Z"
   },
   {
    "duration": 9,
    "start_time": "2022-09-22T22:56:04.960Z"
   },
   {
    "duration": 7,
    "start_time": "2022-09-22T22:56:04.971Z"
   },
   {
    "duration": 2224,
    "start_time": "2022-09-22T22:56:04.980Z"
   },
   {
    "duration": 22109,
    "start_time": "2022-09-22T22:56:07.296Z"
   },
   {
    "duration": 721075,
    "start_time": "2022-09-22T22:56:29.407Z"
   },
   {
    "duration": 4,
    "start_time": "2022-09-22T23:08:30.483Z"
   },
   {
    "duration": 20,
    "start_time": "2022-09-22T23:08:30.495Z"
   },
   {
    "duration": 11,
    "start_time": "2022-09-22T23:08:30.517Z"
   },
   {
    "duration": 11,
    "start_time": "2022-09-22T23:08:30.529Z"
   },
   {
    "duration": 3314,
    "start_time": "2022-09-22T23:08:30.541Z"
   },
   {
    "duration": 3,
    "start_time": "2022-09-22T23:08:33.857Z"
   },
   {
    "duration": 9,
    "start_time": "2022-09-22T23:08:33.862Z"
   },
   {
    "duration": 4,
    "start_time": "2022-09-22T23:08:33.872Z"
   }
  ],
  "kernelspec": {
   "display_name": "Python 3 (ipykernel)",
   "language": "python",
   "name": "python3"
  },
  "language_info": {
   "codemirror_mode": {
    "name": "ipython",
    "version": 3
   },
   "file_extension": ".py",
   "mimetype": "text/x-python",
   "name": "python",
   "nbconvert_exporter": "python",
   "pygments_lexer": "ipython3",
   "version": "3.10.9"
  },
  "toc": {
   "base_numbering": 1,
   "nav_menu": {},
   "number_sections": true,
   "sideBar": true,
   "skip_h1_title": true,
   "title_cell": "Содержание",
   "title_sidebar": "Contents",
   "toc_cell": true,
   "toc_position": {
    "height": "calc(100% - 180px)",
    "left": "10px",
    "top": "150px",
    "width": "321.333px"
   },
   "toc_section_display": true,
   "toc_window_display": true
  }
 },
 "nbformat": 4,
 "nbformat_minor": 2
}
